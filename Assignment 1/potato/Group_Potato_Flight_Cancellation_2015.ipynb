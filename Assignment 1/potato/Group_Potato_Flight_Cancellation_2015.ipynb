{
  "cells": [
    {
      "cell_type": "markdown",
      "metadata": {
        "id": "view-in-github",
        "colab_type": "text"
      },
      "source": [
        "<a href=\"https://colab.research.google.com/github/drshahizan/Python-big-data/blob/main/Assignment%201/potato/Group_Potato_Flight_Cancellation_2015.ipynb\" target=\"_parent\"><img src=\"https://colab.research.google.com/assets/colab-badge.svg\" alt=\"Open In Colab\"/></a>"
      ]
    },
    {
      "cell_type": "markdown",
      "metadata": {
        "id": "7F8DQl5dVJJ0"
      },
      "source": [
        "Name :\n",
        "\n",
        "      Kong Jia Rou   (A20EC0198)\n",
        "      Yong Zhi Yan   (A20EC0172)\n",
        "\n",
        "# **Flight Delays and Cancellations at 2015**\n",
        "\n",
        "In this project, we will be using the dataset, *2015 Flight Delays and Cancellations* retrieved from Kaggle. \n",
        "\n",
        "\n",
        "---\n",
        "\n",
        "\n",
        "The U.S. Department of Transportation's (DOT) Bureau of Transportation Statistics tracks the on-time performance of domestic flights operated by large air carriers. Summary information on the number of on-time, delayed, canceled, and diverted flights is published in DOT's monthly Air Travel Consumer Report and in this dataset of 2015 flight delays and cancellations.\n"
      ]
    },
    {
      "cell_type": "markdown",
      "source": [
        "Attribute Information:\n",
        "\n",
        "| Attribute | Description |\n",
        "| --- | --- |\n",
        "| **YEAR** |  Year of the Flight Trip |\n",
        "|**MONTH** |   Month of the Flight Trip |\n",
        "| **DAY** | Day of the Flight Trip |\n",
        "| **DAY_OF_WEEK** |  Day of week of the Flight Trip |\n",
        "| **AIRLINE** |  Airline Identifier |\n",
        "| **FLIGHT_NUMBER** |    Flight Identifier |\n",
        "| **TAIL_NUMBER** |   Aircraft Identifier |\n",
        "| **ORIGIN_AIRPORT** |   Starting Airport |\n",
        "|**DESTINATION_AIRPORT** |   Destination Airport |\n",
        "| **SCHEDULED_DEPARTURE** |    Planned Departure Time |\n",
        "|**DEPARTURE_TIME** |   Month of the Flight Trip |\n",
        "| **DEPARTURE_DELAY** | WHEEL_OFF - TAXI_OUT |\n",
        "| **TAXI_OUT** |  The time duration elapsed between departure from the origin airport gate and wheels off |\n",
        "| **WHEELS_OFF** |  The time point that the aircraft's wheels leave the ground |\n",
        "| **SCHEDULED_TIME** |    Planned time amount needed for the flight trip |\n",
        "| **ELAPSED_TIME** |   AIR_TIME+TAXI_IN+TAXI_OUT |\n",
        "| **AIR_TIME** |   The time duration between wheels_off and wheels_on time |\n",
        "|**DISTANCE** |   Distance between two airports |\n",
        "| **WHEELS_ON** |   The time point that the aircraft's wheels touch on the ground |\n",
        "| **TAXI_IN** |   The time duration elapsed between wheels-on and gate arrival at the destination airport |\n",
        "|**SCHEDULED_ARRIVAL**|Planned arrival time|\n",
        "|**ARRIVAL_TIME**|WHEELS_ON+TAXI_IN|\n",
        "|**ARRIVAL_DELAY**|ARRIVAL_TIME-SCHEDULED_ARRIVAL|\n",
        "|**DIVERTED**|Aircraft landed on airport that out of schedule|\n",
        "|**CANCELLED**|Flight Cancelled (1 = cancelled)|\n",
        "|**CANCELLATION_REASON**|Reason for Cancellation of flight: A - Airline/Carrier; B - Weather; C - National Air System; D - Security|\n",
        "|**AIR_SYSTEM_DELAY**|Delay caused by air system|\n",
        "|**SECURITY_DELAY**|Delay caused by security|\n",
        "|**AIRLINE_DELAY**|Delay caused by the airline|\n",
        "|**LATE_AIRCRAFT_DELAY**|Delay caused by aircraft|\n",
        "|**WEATHER_DELAY**|Delay caused by weather|\n"
      ],
      "metadata": {
        "id": "NnXEoBmUez8w"
      }
    },
    {
      "cell_type": "markdown",
      "source": [
        "The technique/tool used we used in this Big data analysis including:\n",
        "\n",
        "\n",
        "*   Numpy\n",
        "*   Random\n",
        "*   seaborn\n",
        "*   matplotlib.pyplo\n",
        "*   plotly.express\n",
        "*   folium\n",
        "*   Pandas"
      ],
      "metadata": {
        "id": "InNMNEcle3s6"
      }
    },
    {
      "cell_type": "markdown",
      "metadata": {
        "id": "LxWzVndBVJJ1"
      },
      "source": [
        "## Downloading the Dataset\n",
        "\n",
        "1.   To begin this project, download *flights.csv* from the link [Dataset : 2015 Flight Delays and Cancellations.](https://www.kaggle.com/datasets/usdot/flight-delays?select=flights.csv)\n",
        "\n",
        "2. Upload the file to Google Drive.\n",
        "\n",
        "3. Run the code below to connect your Google Collab with Google Drive.\n"
      ]
    },
    {
      "cell_type": "code",
      "source": [
        "from google.colab import drive\n",
        "drive.mount('/content/drive')"
      ],
      "metadata": {
        "colab": {
          "base_uri": "https://localhost:8080/"
        },
        "id": "wqJWjpH5iTtt",
        "outputId": "4e581a61-c461-413c-e977-cf4d4d39e21a"
      },
      "execution_count": null,
      "outputs": [
        {
          "output_type": "stream",
          "name": "stdout",
          "text": [
            "Drive already mounted at /content/drive; to attempt to forcibly remount, call drive.mount(\"/content/drive\", force_remount=True).\n"
          ]
        }
      ]
    },
    {
      "cell_type": "markdown",
      "source": [
        "Once these step are done, you are ready to proceed with the next step."
      ],
      "metadata": {
        "id": "M3Aa1v_mF-wh"
      }
    },
    {
      "cell_type": "markdown",
      "metadata": {
        "id": "u0vucnGFVJJ5"
      },
      "source": [
        "## Data Preparation and Cleaning\n",
        "Data preparation is the process of transforming raw data prior to processing and analysis. Data cleaning is the process of fixing or removing incorrect, corrupted, incorrectly formatted, duplicate, or incomplete data within a dataset.It is an important step prior to processing and often involves reformatting data, making corrections to data, and combining datasets to enrich data.\n"
      ]
    },
    {
      "cell_type": "markdown",
      "source": [
        "First, import the library. We will be using pandas to read CSV file."
      ],
      "metadata": {
        "id": "Lf3Yb2kRvfo1"
      }
    },
    {
      "cell_type": "code",
      "source": [
        "import pandas as pd\n",
        "import random as rd"
      ],
      "metadata": {
        "id": "qXRabQeavpaT"
      },
      "execution_count": null,
      "outputs": []
    },
    {
      "cell_type": "markdown",
      "source": [
        "Read the CSV file. You could see the sample of the DataFrame with head()."
      ],
      "metadata": {
        "id": "tNwKnNdqvz6m"
      }
    },
    {
      "cell_type": "code",
      "execution_count": null,
      "metadata": {
        "id": "df5R-2s3VJJ5",
        "colab": {
          "base_uri": "https://localhost:8080/",
          "height": 335
        },
        "outputId": "756fe712-831c-435f-fe2d-347ab2300a4e"
      },
      "outputs": [
        {
          "output_type": "stream",
          "name": "stderr",
          "text": [
            "/usr/local/lib/python3.8/dist-packages/IPython/core/interactiveshell.py:3326: DtypeWarning: Columns (7,8) have mixed types.Specify dtype option on import or set low_memory=False.\n",
            "  exec(code_obj, self.user_global_ns, self.user_ns)\n"
          ]
        },
        {
          "output_type": "execute_result",
          "data": {
            "text/plain": [
              "   YEAR  MONTH  DAY  DAY_OF_WEEK AIRLINE  FLIGHT_NUMBER TAIL_NUMBER  \\\n",
              "0  2015      1    1            4      AS             98      N407AS   \n",
              "1  2015      1    1            4      AA           2336      N3KUAA   \n",
              "2  2015      1    1            4      US            840      N171US   \n",
              "3  2015      1    1            4      AA            258      N3HYAA   \n",
              "4  2015      1    1            4      AS            135      N527AS   \n",
              "\n",
              "  ORIGIN_AIRPORT DESTINATION_AIRPORT  SCHEDULED_DEPARTURE  ...  ARRIVAL_TIME  \\\n",
              "0            ANC                 SEA                    5  ...         408.0   \n",
              "1            LAX                 PBI                   10  ...         741.0   \n",
              "2            SFO                 CLT                   20  ...         811.0   \n",
              "3            LAX                 MIA                   20  ...         756.0   \n",
              "4            SEA                 ANC                   25  ...         259.0   \n",
              "\n",
              "   ARRIVAL_DELAY  DIVERTED  CANCELLED  CANCELLATION_REASON  AIR_SYSTEM_DELAY  \\\n",
              "0          -22.0         0          0                  NaN               NaN   \n",
              "1           -9.0         0          0                  NaN               NaN   \n",
              "2            5.0         0          0                  NaN               NaN   \n",
              "3           -9.0         0          0                  NaN               NaN   \n",
              "4          -21.0         0          0                  NaN               NaN   \n",
              "\n",
              "   SECURITY_DELAY  AIRLINE_DELAY  LATE_AIRCRAFT_DELAY  WEATHER_DELAY  \n",
              "0             NaN            NaN                  NaN            NaN  \n",
              "1             NaN            NaN                  NaN            NaN  \n",
              "2             NaN            NaN                  NaN            NaN  \n",
              "3             NaN            NaN                  NaN            NaN  \n",
              "4             NaN            NaN                  NaN            NaN  \n",
              "\n",
              "[5 rows x 31 columns]"
            ],
            "text/html": [
              "\n",
              "  <div id=\"df-65b8a075-4ee8-4bec-8164-527acea6c368\">\n",
              "    <div class=\"colab-df-container\">\n",
              "      <div>\n",
              "<style scoped>\n",
              "    .dataframe tbody tr th:only-of-type {\n",
              "        vertical-align: middle;\n",
              "    }\n",
              "\n",
              "    .dataframe tbody tr th {\n",
              "        vertical-align: top;\n",
              "    }\n",
              "\n",
              "    .dataframe thead th {\n",
              "        text-align: right;\n",
              "    }\n",
              "</style>\n",
              "<table border=\"1\" class=\"dataframe\">\n",
              "  <thead>\n",
              "    <tr style=\"text-align: right;\">\n",
              "      <th></th>\n",
              "      <th>YEAR</th>\n",
              "      <th>MONTH</th>\n",
              "      <th>DAY</th>\n",
              "      <th>DAY_OF_WEEK</th>\n",
              "      <th>AIRLINE</th>\n",
              "      <th>FLIGHT_NUMBER</th>\n",
              "      <th>TAIL_NUMBER</th>\n",
              "      <th>ORIGIN_AIRPORT</th>\n",
              "      <th>DESTINATION_AIRPORT</th>\n",
              "      <th>SCHEDULED_DEPARTURE</th>\n",
              "      <th>...</th>\n",
              "      <th>ARRIVAL_TIME</th>\n",
              "      <th>ARRIVAL_DELAY</th>\n",
              "      <th>DIVERTED</th>\n",
              "      <th>CANCELLED</th>\n",
              "      <th>CANCELLATION_REASON</th>\n",
              "      <th>AIR_SYSTEM_DELAY</th>\n",
              "      <th>SECURITY_DELAY</th>\n",
              "      <th>AIRLINE_DELAY</th>\n",
              "      <th>LATE_AIRCRAFT_DELAY</th>\n",
              "      <th>WEATHER_DELAY</th>\n",
              "    </tr>\n",
              "  </thead>\n",
              "  <tbody>\n",
              "    <tr>\n",
              "      <th>0</th>\n",
              "      <td>2015</td>\n",
              "      <td>1</td>\n",
              "      <td>1</td>\n",
              "      <td>4</td>\n",
              "      <td>AS</td>\n",
              "      <td>98</td>\n",
              "      <td>N407AS</td>\n",
              "      <td>ANC</td>\n",
              "      <td>SEA</td>\n",
              "      <td>5</td>\n",
              "      <td>...</td>\n",
              "      <td>408.0</td>\n",
              "      <td>-22.0</td>\n",
              "      <td>0</td>\n",
              "      <td>0</td>\n",
              "      <td>NaN</td>\n",
              "      <td>NaN</td>\n",
              "      <td>NaN</td>\n",
              "      <td>NaN</td>\n",
              "      <td>NaN</td>\n",
              "      <td>NaN</td>\n",
              "    </tr>\n",
              "    <tr>\n",
              "      <th>1</th>\n",
              "      <td>2015</td>\n",
              "      <td>1</td>\n",
              "      <td>1</td>\n",
              "      <td>4</td>\n",
              "      <td>AA</td>\n",
              "      <td>2336</td>\n",
              "      <td>N3KUAA</td>\n",
              "      <td>LAX</td>\n",
              "      <td>PBI</td>\n",
              "      <td>10</td>\n",
              "      <td>...</td>\n",
              "      <td>741.0</td>\n",
              "      <td>-9.0</td>\n",
              "      <td>0</td>\n",
              "      <td>0</td>\n",
              "      <td>NaN</td>\n",
              "      <td>NaN</td>\n",
              "      <td>NaN</td>\n",
              "      <td>NaN</td>\n",
              "      <td>NaN</td>\n",
              "      <td>NaN</td>\n",
              "    </tr>\n",
              "    <tr>\n",
              "      <th>2</th>\n",
              "      <td>2015</td>\n",
              "      <td>1</td>\n",
              "      <td>1</td>\n",
              "      <td>4</td>\n",
              "      <td>US</td>\n",
              "      <td>840</td>\n",
              "      <td>N171US</td>\n",
              "      <td>SFO</td>\n",
              "      <td>CLT</td>\n",
              "      <td>20</td>\n",
              "      <td>...</td>\n",
              "      <td>811.0</td>\n",
              "      <td>5.0</td>\n",
              "      <td>0</td>\n",
              "      <td>0</td>\n",
              "      <td>NaN</td>\n",
              "      <td>NaN</td>\n",
              "      <td>NaN</td>\n",
              "      <td>NaN</td>\n",
              "      <td>NaN</td>\n",
              "      <td>NaN</td>\n",
              "    </tr>\n",
              "    <tr>\n",
              "      <th>3</th>\n",
              "      <td>2015</td>\n",
              "      <td>1</td>\n",
              "      <td>1</td>\n",
              "      <td>4</td>\n",
              "      <td>AA</td>\n",
              "      <td>258</td>\n",
              "      <td>N3HYAA</td>\n",
              "      <td>LAX</td>\n",
              "      <td>MIA</td>\n",
              "      <td>20</td>\n",
              "      <td>...</td>\n",
              "      <td>756.0</td>\n",
              "      <td>-9.0</td>\n",
              "      <td>0</td>\n",
              "      <td>0</td>\n",
              "      <td>NaN</td>\n",
              "      <td>NaN</td>\n",
              "      <td>NaN</td>\n",
              "      <td>NaN</td>\n",
              "      <td>NaN</td>\n",
              "      <td>NaN</td>\n",
              "    </tr>\n",
              "    <tr>\n",
              "      <th>4</th>\n",
              "      <td>2015</td>\n",
              "      <td>1</td>\n",
              "      <td>1</td>\n",
              "      <td>4</td>\n",
              "      <td>AS</td>\n",
              "      <td>135</td>\n",
              "      <td>N527AS</td>\n",
              "      <td>SEA</td>\n",
              "      <td>ANC</td>\n",
              "      <td>25</td>\n",
              "      <td>...</td>\n",
              "      <td>259.0</td>\n",
              "      <td>-21.0</td>\n",
              "      <td>0</td>\n",
              "      <td>0</td>\n",
              "      <td>NaN</td>\n",
              "      <td>NaN</td>\n",
              "      <td>NaN</td>\n",
              "      <td>NaN</td>\n",
              "      <td>NaN</td>\n",
              "      <td>NaN</td>\n",
              "    </tr>\n",
              "  </tbody>\n",
              "</table>\n",
              "<p>5 rows × 31 columns</p>\n",
              "</div>\n",
              "      <button class=\"colab-df-convert\" onclick=\"convertToInteractive('df-65b8a075-4ee8-4bec-8164-527acea6c368')\"\n",
              "              title=\"Convert this dataframe to an interactive table.\"\n",
              "              style=\"display:none;\">\n",
              "        \n",
              "  <svg xmlns=\"http://www.w3.org/2000/svg\" height=\"24px\"viewBox=\"0 0 24 24\"\n",
              "       width=\"24px\">\n",
              "    <path d=\"M0 0h24v24H0V0z\" fill=\"none\"/>\n",
              "    <path d=\"M18.56 5.44l.94 2.06.94-2.06 2.06-.94-2.06-.94-.94-2.06-.94 2.06-2.06.94zm-11 1L8.5 8.5l.94-2.06 2.06-.94-2.06-.94L8.5 2.5l-.94 2.06-2.06.94zm10 10l.94 2.06.94-2.06 2.06-.94-2.06-.94-.94-2.06-.94 2.06-2.06.94z\"/><path d=\"M17.41 7.96l-1.37-1.37c-.4-.4-.92-.59-1.43-.59-.52 0-1.04.2-1.43.59L10.3 9.45l-7.72 7.72c-.78.78-.78 2.05 0 2.83L4 21.41c.39.39.9.59 1.41.59.51 0 1.02-.2 1.41-.59l7.78-7.78 2.81-2.81c.8-.78.8-2.07 0-2.86zM5.41 20L4 18.59l7.72-7.72 1.47 1.35L5.41 20z\"/>\n",
              "  </svg>\n",
              "      </button>\n",
              "      \n",
              "  <style>\n",
              "    .colab-df-container {\n",
              "      display:flex;\n",
              "      flex-wrap:wrap;\n",
              "      gap: 12px;\n",
              "    }\n",
              "\n",
              "    .colab-df-convert {\n",
              "      background-color: #E8F0FE;\n",
              "      border: none;\n",
              "      border-radius: 50%;\n",
              "      cursor: pointer;\n",
              "      display: none;\n",
              "      fill: #1967D2;\n",
              "      height: 32px;\n",
              "      padding: 0 0 0 0;\n",
              "      width: 32px;\n",
              "    }\n",
              "\n",
              "    .colab-df-convert:hover {\n",
              "      background-color: #E2EBFA;\n",
              "      box-shadow: 0px 1px 2px rgba(60, 64, 67, 0.3), 0px 1px 3px 1px rgba(60, 64, 67, 0.15);\n",
              "      fill: #174EA6;\n",
              "    }\n",
              "\n",
              "    [theme=dark] .colab-df-convert {\n",
              "      background-color: #3B4455;\n",
              "      fill: #D2E3FC;\n",
              "    }\n",
              "\n",
              "    [theme=dark] .colab-df-convert:hover {\n",
              "      background-color: #434B5C;\n",
              "      box-shadow: 0px 1px 3px 1px rgba(0, 0, 0, 0.15);\n",
              "      filter: drop-shadow(0px 1px 2px rgba(0, 0, 0, 0.3));\n",
              "      fill: #FFFFFF;\n",
              "    }\n",
              "  </style>\n",
              "\n",
              "      <script>\n",
              "        const buttonEl =\n",
              "          document.querySelector('#df-65b8a075-4ee8-4bec-8164-527acea6c368 button.colab-df-convert');\n",
              "        buttonEl.style.display =\n",
              "          google.colab.kernel.accessAllowed ? 'block' : 'none';\n",
              "\n",
              "        async function convertToInteractive(key) {\n",
              "          const element = document.querySelector('#df-65b8a075-4ee8-4bec-8164-527acea6c368');\n",
              "          const dataTable =\n",
              "            await google.colab.kernel.invokeFunction('convertToInteractive',\n",
              "                                                     [key], {});\n",
              "          if (!dataTable) return;\n",
              "\n",
              "          const docLinkHtml = 'Like what you see? Visit the ' +\n",
              "            '<a target=\"_blank\" href=https://colab.research.google.com/notebooks/data_table.ipynb>data table notebook</a>'\n",
              "            + ' to learn more about interactive tables.';\n",
              "          element.innerHTML = '';\n",
              "          dataTable['output_type'] = 'display_data';\n",
              "          await google.colab.output.renderOutput(dataTable, element);\n",
              "          const docLink = document.createElement('div');\n",
              "          docLink.innerHTML = docLinkHtml;\n",
              "          element.appendChild(docLink);\n",
              "        }\n",
              "      </script>\n",
              "    </div>\n",
              "  </div>\n",
              "  "
            ]
          },
          "metadata": {},
          "execution_count": 29
        }
      ],
      "source": [
        "filename = '/content/drive/MyDrive/Colab Notebooks/flights.csv'\n",
        "dataset = pd.read_csv(filename)\n",
        "dataset.head()"
      ]
    },
    {
      "cell_type": "markdown",
      "source": [
        "By using the .shape attribute, we can see the dataframe dimensionality. The result is a tuple containing the number of rows and columns.\n",
        "\n",
        "\n",
        "\n",
        "*   In this dataset, we have 5819079 rows and 31 columns."
      ],
      "metadata": {
        "id": "8OqaqjK4y8si"
      }
    },
    {
      "cell_type": "code",
      "source": [
        "dataset.shape"
      ],
      "metadata": {
        "id": "YvPwaVSyqciP",
        "colab": {
          "base_uri": "https://localhost:8080/"
        },
        "outputId": "df242b17-17f6-407d-9bc4-23657436d9d2"
      },
      "execution_count": null,
      "outputs": [
        {
          "output_type": "execute_result",
          "data": {
            "text/plain": [
              "(5819079, 31)"
            ]
          },
          "metadata": {},
          "execution_count": 30
        }
      ]
    },
    {
      "cell_type": "markdown",
      "source": [
        "By using .info attribute, we can see the overview of every columns information the dataset."
      ],
      "metadata": {
        "id": "ZJ8YASSq1AGX"
      }
    },
    {
      "cell_type": "code",
      "source": [
        "dataset.info()"
      ],
      "metadata": {
        "id": "xpvmVkA40lDE",
        "colab": {
          "base_uri": "https://localhost:8080/"
        },
        "outputId": "8e38cc8f-3ae8-4e94-bf4c-373e5269a947"
      },
      "execution_count": null,
      "outputs": [
        {
          "output_type": "stream",
          "name": "stdout",
          "text": [
            "<class 'pandas.core.frame.DataFrame'>\n",
            "RangeIndex: 5819079 entries, 0 to 5819078\n",
            "Data columns (total 31 columns):\n",
            " #   Column               Dtype  \n",
            "---  ------               -----  \n",
            " 0   YEAR                 int64  \n",
            " 1   MONTH                int64  \n",
            " 2   DAY                  int64  \n",
            " 3   DAY_OF_WEEK          int64  \n",
            " 4   AIRLINE              object \n",
            " 5   FLIGHT_NUMBER        int64  \n",
            " 6   TAIL_NUMBER          object \n",
            " 7   ORIGIN_AIRPORT       object \n",
            " 8   DESTINATION_AIRPORT  object \n",
            " 9   SCHEDULED_DEPARTURE  int64  \n",
            " 10  DEPARTURE_TIME       float64\n",
            " 11  DEPARTURE_DELAY      float64\n",
            " 12  TAXI_OUT             float64\n",
            " 13  WHEELS_OFF           float64\n",
            " 14  SCHEDULED_TIME       float64\n",
            " 15  ELAPSED_TIME         float64\n",
            " 16  AIR_TIME             float64\n",
            " 17  DISTANCE             int64  \n",
            " 18  WHEELS_ON            float64\n",
            " 19  TAXI_IN              float64\n",
            " 20  SCHEDULED_ARRIVAL    int64  \n",
            " 21  ARRIVAL_TIME         float64\n",
            " 22  ARRIVAL_DELAY        float64\n",
            " 23  DIVERTED             int64  \n",
            " 24  CANCELLED            int64  \n",
            " 25  CANCELLATION_REASON  object \n",
            " 26  AIR_SYSTEM_DELAY     float64\n",
            " 27  SECURITY_DELAY       float64\n",
            " 28  AIRLINE_DELAY        float64\n",
            " 29  LATE_AIRCRAFT_DELAY  float64\n",
            " 30  WEATHER_DELAY        float64\n",
            "dtypes: float64(16), int64(10), object(5)\n",
            "memory usage: 1.3+ GB\n"
          ]
        }
      ]
    },
    {
      "cell_type": "markdown",
      "source": [
        "We will be selecting the rows which the flight is cancelled only."
      ],
      "metadata": {
        "id": "Hl7DOuhTHZ2i"
      }
    },
    {
      "cell_type": "code",
      "source": [
        "df = dataset.loc[dataset['CANCELLED']==1]\n",
        "df"
      ],
      "metadata": {
        "colab": {
          "base_uri": "https://localhost:8080/",
          "height": 488
        },
        "id": "W6A8uy1gcn_d",
        "outputId": "fd2e4940-8800-4cf0-cd2b-2707a81e67c5"
      },
      "execution_count": null,
      "outputs": [
        {
          "output_type": "execute_result",
          "data": {
            "text/plain": [
              "         YEAR  MONTH  DAY  DAY_OF_WEEK AIRLINE  FLIGHT_NUMBER TAIL_NUMBER  \\\n",
              "32       2015      1    1            4      AS            136      N431AS   \n",
              "42       2015      1    1            4      AA           2459      N3BDAA   \n",
              "68       2015      1    1            4      OO           5254      N746SK   \n",
              "82       2015      1    1            4      MQ           2859      N660MQ   \n",
              "90       2015      1    1            4      OO           5460      N583SW   \n",
              "...       ...    ...  ...          ...     ...            ...         ...   \n",
              "5818090  2015     12   31            4      UA           1789         NaN   \n",
              "5818157  2015     12   31            4      UA            222         NaN   \n",
              "5818318  2015     12   31            4      AA           2245      N880AA   \n",
              "5818777  2015     12   31            4      NK            416      N522NK   \n",
              "5818843  2015     12   31            4      AA           1042      N870AA   \n",
              "\n",
              "        ORIGIN_AIRPORT DESTINATION_AIRPORT  SCHEDULED_DEPARTURE  ...  \\\n",
              "32                 ANC                 SEA                  135  ...   \n",
              "42                 PHX                 DFW                  200  ...   \n",
              "68                 MAF                 IAH                  510  ...   \n",
              "82                 SGF                 DFW                  525  ...   \n",
              "90                 RDD                 SFO                  530  ...   \n",
              "...                ...                 ...                  ...  ...   \n",
              "5818090            IAH                 TPA                 1955  ...   \n",
              "5818157            SFO                 LAX                 2000  ...   \n",
              "5818318            MIA                 SAN                 2019  ...   \n",
              "5818777            FLL                 IAG                 2155  ...   \n",
              "5818843            SAN                 MIA                 2210  ...   \n",
              "\n",
              "         ARRIVAL_TIME  ARRIVAL_DELAY  DIVERTED  CANCELLED  \\\n",
              "32                NaN            NaN         0          1   \n",
              "42                NaN            NaN         0          1   \n",
              "68                NaN            NaN         0          1   \n",
              "82                NaN            NaN         0          1   \n",
              "90                NaN            NaN         0          1   \n",
              "...               ...            ...       ...        ...   \n",
              "5818090           NaN            NaN         0          1   \n",
              "5818157           NaN            NaN         0          1   \n",
              "5818318           NaN            NaN         0          1   \n",
              "5818777           NaN            NaN         0          1   \n",
              "5818843           NaN            NaN         0          1   \n",
              "\n",
              "         CANCELLATION_REASON  AIR_SYSTEM_DELAY  SECURITY_DELAY  AIRLINE_DELAY  \\\n",
              "32                         A               NaN             NaN            NaN   \n",
              "42                         B               NaN             NaN            NaN   \n",
              "68                         B               NaN             NaN            NaN   \n",
              "82                         B               NaN             NaN            NaN   \n",
              "90                         A               NaN             NaN            NaN   \n",
              "...                      ...               ...             ...            ...   \n",
              "5818090                    A               NaN             NaN            NaN   \n",
              "5818157                    A               NaN             NaN            NaN   \n",
              "5818318                    A               NaN             NaN            NaN   \n",
              "5818777                    A               NaN             NaN            NaN   \n",
              "5818843                    A               NaN             NaN            NaN   \n",
              "\n",
              "         LATE_AIRCRAFT_DELAY  WEATHER_DELAY  \n",
              "32                       NaN            NaN  \n",
              "42                       NaN            NaN  \n",
              "68                       NaN            NaN  \n",
              "82                       NaN            NaN  \n",
              "90                       NaN            NaN  \n",
              "...                      ...            ...  \n",
              "5818090                  NaN            NaN  \n",
              "5818157                  NaN            NaN  \n",
              "5818318                  NaN            NaN  \n",
              "5818777                  NaN            NaN  \n",
              "5818843                  NaN            NaN  \n",
              "\n",
              "[89884 rows x 31 columns]"
            ],
            "text/html": [
              "\n",
              "  <div id=\"df-22c2013c-c65e-4150-b62b-15fe4f0870b4\">\n",
              "    <div class=\"colab-df-container\">\n",
              "      <div>\n",
              "<style scoped>\n",
              "    .dataframe tbody tr th:only-of-type {\n",
              "        vertical-align: middle;\n",
              "    }\n",
              "\n",
              "    .dataframe tbody tr th {\n",
              "        vertical-align: top;\n",
              "    }\n",
              "\n",
              "    .dataframe thead th {\n",
              "        text-align: right;\n",
              "    }\n",
              "</style>\n",
              "<table border=\"1\" class=\"dataframe\">\n",
              "  <thead>\n",
              "    <tr style=\"text-align: right;\">\n",
              "      <th></th>\n",
              "      <th>YEAR</th>\n",
              "      <th>MONTH</th>\n",
              "      <th>DAY</th>\n",
              "      <th>DAY_OF_WEEK</th>\n",
              "      <th>AIRLINE</th>\n",
              "      <th>FLIGHT_NUMBER</th>\n",
              "      <th>TAIL_NUMBER</th>\n",
              "      <th>ORIGIN_AIRPORT</th>\n",
              "      <th>DESTINATION_AIRPORT</th>\n",
              "      <th>SCHEDULED_DEPARTURE</th>\n",
              "      <th>...</th>\n",
              "      <th>ARRIVAL_TIME</th>\n",
              "      <th>ARRIVAL_DELAY</th>\n",
              "      <th>DIVERTED</th>\n",
              "      <th>CANCELLED</th>\n",
              "      <th>CANCELLATION_REASON</th>\n",
              "      <th>AIR_SYSTEM_DELAY</th>\n",
              "      <th>SECURITY_DELAY</th>\n",
              "      <th>AIRLINE_DELAY</th>\n",
              "      <th>LATE_AIRCRAFT_DELAY</th>\n",
              "      <th>WEATHER_DELAY</th>\n",
              "    </tr>\n",
              "  </thead>\n",
              "  <tbody>\n",
              "    <tr>\n",
              "      <th>32</th>\n",
              "      <td>2015</td>\n",
              "      <td>1</td>\n",
              "      <td>1</td>\n",
              "      <td>4</td>\n",
              "      <td>AS</td>\n",
              "      <td>136</td>\n",
              "      <td>N431AS</td>\n",
              "      <td>ANC</td>\n",
              "      <td>SEA</td>\n",
              "      <td>135</td>\n",
              "      <td>...</td>\n",
              "      <td>NaN</td>\n",
              "      <td>NaN</td>\n",
              "      <td>0</td>\n",
              "      <td>1</td>\n",
              "      <td>A</td>\n",
              "      <td>NaN</td>\n",
              "      <td>NaN</td>\n",
              "      <td>NaN</td>\n",
              "      <td>NaN</td>\n",
              "      <td>NaN</td>\n",
              "    </tr>\n",
              "    <tr>\n",
              "      <th>42</th>\n",
              "      <td>2015</td>\n",
              "      <td>1</td>\n",
              "      <td>1</td>\n",
              "      <td>4</td>\n",
              "      <td>AA</td>\n",
              "      <td>2459</td>\n",
              "      <td>N3BDAA</td>\n",
              "      <td>PHX</td>\n",
              "      <td>DFW</td>\n",
              "      <td>200</td>\n",
              "      <td>...</td>\n",
              "      <td>NaN</td>\n",
              "      <td>NaN</td>\n",
              "      <td>0</td>\n",
              "      <td>1</td>\n",
              "      <td>B</td>\n",
              "      <td>NaN</td>\n",
              "      <td>NaN</td>\n",
              "      <td>NaN</td>\n",
              "      <td>NaN</td>\n",
              "      <td>NaN</td>\n",
              "    </tr>\n",
              "    <tr>\n",
              "      <th>68</th>\n",
              "      <td>2015</td>\n",
              "      <td>1</td>\n",
              "      <td>1</td>\n",
              "      <td>4</td>\n",
              "      <td>OO</td>\n",
              "      <td>5254</td>\n",
              "      <td>N746SK</td>\n",
              "      <td>MAF</td>\n",
              "      <td>IAH</td>\n",
              "      <td>510</td>\n",
              "      <td>...</td>\n",
              "      <td>NaN</td>\n",
              "      <td>NaN</td>\n",
              "      <td>0</td>\n",
              "      <td>1</td>\n",
              "      <td>B</td>\n",
              "      <td>NaN</td>\n",
              "      <td>NaN</td>\n",
              "      <td>NaN</td>\n",
              "      <td>NaN</td>\n",
              "      <td>NaN</td>\n",
              "    </tr>\n",
              "    <tr>\n",
              "      <th>82</th>\n",
              "      <td>2015</td>\n",
              "      <td>1</td>\n",
              "      <td>1</td>\n",
              "      <td>4</td>\n",
              "      <td>MQ</td>\n",
              "      <td>2859</td>\n",
              "      <td>N660MQ</td>\n",
              "      <td>SGF</td>\n",
              "      <td>DFW</td>\n",
              "      <td>525</td>\n",
              "      <td>...</td>\n",
              "      <td>NaN</td>\n",
              "      <td>NaN</td>\n",
              "      <td>0</td>\n",
              "      <td>1</td>\n",
              "      <td>B</td>\n",
              "      <td>NaN</td>\n",
              "      <td>NaN</td>\n",
              "      <td>NaN</td>\n",
              "      <td>NaN</td>\n",
              "      <td>NaN</td>\n",
              "    </tr>\n",
              "    <tr>\n",
              "      <th>90</th>\n",
              "      <td>2015</td>\n",
              "      <td>1</td>\n",
              "      <td>1</td>\n",
              "      <td>4</td>\n",
              "      <td>OO</td>\n",
              "      <td>5460</td>\n",
              "      <td>N583SW</td>\n",
              "      <td>RDD</td>\n",
              "      <td>SFO</td>\n",
              "      <td>530</td>\n",
              "      <td>...</td>\n",
              "      <td>NaN</td>\n",
              "      <td>NaN</td>\n",
              "      <td>0</td>\n",
              "      <td>1</td>\n",
              "      <td>A</td>\n",
              "      <td>NaN</td>\n",
              "      <td>NaN</td>\n",
              "      <td>NaN</td>\n",
              "      <td>NaN</td>\n",
              "      <td>NaN</td>\n",
              "    </tr>\n",
              "    <tr>\n",
              "      <th>...</th>\n",
              "      <td>...</td>\n",
              "      <td>...</td>\n",
              "      <td>...</td>\n",
              "      <td>...</td>\n",
              "      <td>...</td>\n",
              "      <td>...</td>\n",
              "      <td>...</td>\n",
              "      <td>...</td>\n",
              "      <td>...</td>\n",
              "      <td>...</td>\n",
              "      <td>...</td>\n",
              "      <td>...</td>\n",
              "      <td>...</td>\n",
              "      <td>...</td>\n",
              "      <td>...</td>\n",
              "      <td>...</td>\n",
              "      <td>...</td>\n",
              "      <td>...</td>\n",
              "      <td>...</td>\n",
              "      <td>...</td>\n",
              "      <td>...</td>\n",
              "    </tr>\n",
              "    <tr>\n",
              "      <th>5818090</th>\n",
              "      <td>2015</td>\n",
              "      <td>12</td>\n",
              "      <td>31</td>\n",
              "      <td>4</td>\n",
              "      <td>UA</td>\n",
              "      <td>1789</td>\n",
              "      <td>NaN</td>\n",
              "      <td>IAH</td>\n",
              "      <td>TPA</td>\n",
              "      <td>1955</td>\n",
              "      <td>...</td>\n",
              "      <td>NaN</td>\n",
              "      <td>NaN</td>\n",
              "      <td>0</td>\n",
              "      <td>1</td>\n",
              "      <td>A</td>\n",
              "      <td>NaN</td>\n",
              "      <td>NaN</td>\n",
              "      <td>NaN</td>\n",
              "      <td>NaN</td>\n",
              "      <td>NaN</td>\n",
              "    </tr>\n",
              "    <tr>\n",
              "      <th>5818157</th>\n",
              "      <td>2015</td>\n",
              "      <td>12</td>\n",
              "      <td>31</td>\n",
              "      <td>4</td>\n",
              "      <td>UA</td>\n",
              "      <td>222</td>\n",
              "      <td>NaN</td>\n",
              "      <td>SFO</td>\n",
              "      <td>LAX</td>\n",
              "      <td>2000</td>\n",
              "      <td>...</td>\n",
              "      <td>NaN</td>\n",
              "      <td>NaN</td>\n",
              "      <td>0</td>\n",
              "      <td>1</td>\n",
              "      <td>A</td>\n",
              "      <td>NaN</td>\n",
              "      <td>NaN</td>\n",
              "      <td>NaN</td>\n",
              "      <td>NaN</td>\n",
              "      <td>NaN</td>\n",
              "    </tr>\n",
              "    <tr>\n",
              "      <th>5818318</th>\n",
              "      <td>2015</td>\n",
              "      <td>12</td>\n",
              "      <td>31</td>\n",
              "      <td>4</td>\n",
              "      <td>AA</td>\n",
              "      <td>2245</td>\n",
              "      <td>N880AA</td>\n",
              "      <td>MIA</td>\n",
              "      <td>SAN</td>\n",
              "      <td>2019</td>\n",
              "      <td>...</td>\n",
              "      <td>NaN</td>\n",
              "      <td>NaN</td>\n",
              "      <td>0</td>\n",
              "      <td>1</td>\n",
              "      <td>A</td>\n",
              "      <td>NaN</td>\n",
              "      <td>NaN</td>\n",
              "      <td>NaN</td>\n",
              "      <td>NaN</td>\n",
              "      <td>NaN</td>\n",
              "    </tr>\n",
              "    <tr>\n",
              "      <th>5818777</th>\n",
              "      <td>2015</td>\n",
              "      <td>12</td>\n",
              "      <td>31</td>\n",
              "      <td>4</td>\n",
              "      <td>NK</td>\n",
              "      <td>416</td>\n",
              "      <td>N522NK</td>\n",
              "      <td>FLL</td>\n",
              "      <td>IAG</td>\n",
              "      <td>2155</td>\n",
              "      <td>...</td>\n",
              "      <td>NaN</td>\n",
              "      <td>NaN</td>\n",
              "      <td>0</td>\n",
              "      <td>1</td>\n",
              "      <td>A</td>\n",
              "      <td>NaN</td>\n",
              "      <td>NaN</td>\n",
              "      <td>NaN</td>\n",
              "      <td>NaN</td>\n",
              "      <td>NaN</td>\n",
              "    </tr>\n",
              "    <tr>\n",
              "      <th>5818843</th>\n",
              "      <td>2015</td>\n",
              "      <td>12</td>\n",
              "      <td>31</td>\n",
              "      <td>4</td>\n",
              "      <td>AA</td>\n",
              "      <td>1042</td>\n",
              "      <td>N870AA</td>\n",
              "      <td>SAN</td>\n",
              "      <td>MIA</td>\n",
              "      <td>2210</td>\n",
              "      <td>...</td>\n",
              "      <td>NaN</td>\n",
              "      <td>NaN</td>\n",
              "      <td>0</td>\n",
              "      <td>1</td>\n",
              "      <td>A</td>\n",
              "      <td>NaN</td>\n",
              "      <td>NaN</td>\n",
              "      <td>NaN</td>\n",
              "      <td>NaN</td>\n",
              "      <td>NaN</td>\n",
              "    </tr>\n",
              "  </tbody>\n",
              "</table>\n",
              "<p>89884 rows × 31 columns</p>\n",
              "</div>\n",
              "      <button class=\"colab-df-convert\" onclick=\"convertToInteractive('df-22c2013c-c65e-4150-b62b-15fe4f0870b4')\"\n",
              "              title=\"Convert this dataframe to an interactive table.\"\n",
              "              style=\"display:none;\">\n",
              "        \n",
              "  <svg xmlns=\"http://www.w3.org/2000/svg\" height=\"24px\"viewBox=\"0 0 24 24\"\n",
              "       width=\"24px\">\n",
              "    <path d=\"M0 0h24v24H0V0z\" fill=\"none\"/>\n",
              "    <path d=\"M18.56 5.44l.94 2.06.94-2.06 2.06-.94-2.06-.94-.94-2.06-.94 2.06-2.06.94zm-11 1L8.5 8.5l.94-2.06 2.06-.94-2.06-.94L8.5 2.5l-.94 2.06-2.06.94zm10 10l.94 2.06.94-2.06 2.06-.94-2.06-.94-.94-2.06-.94 2.06-2.06.94z\"/><path d=\"M17.41 7.96l-1.37-1.37c-.4-.4-.92-.59-1.43-.59-.52 0-1.04.2-1.43.59L10.3 9.45l-7.72 7.72c-.78.78-.78 2.05 0 2.83L4 21.41c.39.39.9.59 1.41.59.51 0 1.02-.2 1.41-.59l7.78-7.78 2.81-2.81c.8-.78.8-2.07 0-2.86zM5.41 20L4 18.59l7.72-7.72 1.47 1.35L5.41 20z\"/>\n",
              "  </svg>\n",
              "      </button>\n",
              "      \n",
              "  <style>\n",
              "    .colab-df-container {\n",
              "      display:flex;\n",
              "      flex-wrap:wrap;\n",
              "      gap: 12px;\n",
              "    }\n",
              "\n",
              "    .colab-df-convert {\n",
              "      background-color: #E8F0FE;\n",
              "      border: none;\n",
              "      border-radius: 50%;\n",
              "      cursor: pointer;\n",
              "      display: none;\n",
              "      fill: #1967D2;\n",
              "      height: 32px;\n",
              "      padding: 0 0 0 0;\n",
              "      width: 32px;\n",
              "    }\n",
              "\n",
              "    .colab-df-convert:hover {\n",
              "      background-color: #E2EBFA;\n",
              "      box-shadow: 0px 1px 2px rgba(60, 64, 67, 0.3), 0px 1px 3px 1px rgba(60, 64, 67, 0.15);\n",
              "      fill: #174EA6;\n",
              "    }\n",
              "\n",
              "    [theme=dark] .colab-df-convert {\n",
              "      background-color: #3B4455;\n",
              "      fill: #D2E3FC;\n",
              "    }\n",
              "\n",
              "    [theme=dark] .colab-df-convert:hover {\n",
              "      background-color: #434B5C;\n",
              "      box-shadow: 0px 1px 3px 1px rgba(0, 0, 0, 0.15);\n",
              "      filter: drop-shadow(0px 1px 2px rgba(0, 0, 0, 0.3));\n",
              "      fill: #FFFFFF;\n",
              "    }\n",
              "  </style>\n",
              "\n",
              "      <script>\n",
              "        const buttonEl =\n",
              "          document.querySelector('#df-22c2013c-c65e-4150-b62b-15fe4f0870b4 button.colab-df-convert');\n",
              "        buttonEl.style.display =\n",
              "          google.colab.kernel.accessAllowed ? 'block' : 'none';\n",
              "\n",
              "        async function convertToInteractive(key) {\n",
              "          const element = document.querySelector('#df-22c2013c-c65e-4150-b62b-15fe4f0870b4');\n",
              "          const dataTable =\n",
              "            await google.colab.kernel.invokeFunction('convertToInteractive',\n",
              "                                                     [key], {});\n",
              "          if (!dataTable) return;\n",
              "\n",
              "          const docLinkHtml = 'Like what you see? Visit the ' +\n",
              "            '<a target=\"_blank\" href=https://colab.research.google.com/notebooks/data_table.ipynb>data table notebook</a>'\n",
              "            + ' to learn more about interactive tables.';\n",
              "          element.innerHTML = '';\n",
              "          dataTable['output_type'] = 'display_data';\n",
              "          await google.colab.output.renderOutput(dataTable, element);\n",
              "          const docLink = document.createElement('div');\n",
              "          docLink.innerHTML = docLinkHtml;\n",
              "          element.appendChild(docLink);\n",
              "        }\n",
              "      </script>\n",
              "    </div>\n",
              "  </div>\n",
              "  "
            ]
          },
          "metadata": {},
          "execution_count": 32
        }
      ]
    },
    {
      "cell_type": "markdown",
      "source": [
        "Next, we will be identifying whether there is any ocurrence of missing value in the dataset."
      ],
      "metadata": {
        "id": "tnp6kVmuEBc_"
      }
    },
    {
      "cell_type": "code",
      "source": [
        "df.isna().sum()"
      ],
      "metadata": {
        "id": "BnWSg8NyDUbA",
        "colab": {
          "base_uri": "https://localhost:8080/"
        },
        "outputId": "ee9e6bb5-b8a0-4362-abbd-50c272eb1012"
      },
      "execution_count": null,
      "outputs": [
        {
          "output_type": "execute_result",
          "data": {
            "text/plain": [
              "YEAR                       0\n",
              "MONTH                      0\n",
              "DAY                        0\n",
              "DAY_OF_WEEK                0\n",
              "AIRLINE                    0\n",
              "FLIGHT_NUMBER              0\n",
              "TAIL_NUMBER            14721\n",
              "ORIGIN_AIRPORT             0\n",
              "DESTINATION_AIRPORT        0\n",
              "SCHEDULED_DEPARTURE        0\n",
              "DEPARTURE_TIME         86153\n",
              "DEPARTURE_DELAY        86153\n",
              "TAXI_OUT               89047\n",
              "WHEELS_OFF             89047\n",
              "SCHEDULED_TIME             5\n",
              "ELAPSED_TIME           89884\n",
              "AIR_TIME               89884\n",
              "DISTANCE                   0\n",
              "WHEELS_ON              89884\n",
              "TAXI_IN                89884\n",
              "SCHEDULED_ARRIVAL          0\n",
              "ARRIVAL_TIME           89884\n",
              "ARRIVAL_DELAY          89884\n",
              "DIVERTED                   0\n",
              "CANCELLED                  0\n",
              "CANCELLATION_REASON        0\n",
              "AIR_SYSTEM_DELAY       89884\n",
              "SECURITY_DELAY         89884\n",
              "AIRLINE_DELAY          89884\n",
              "LATE_AIRCRAFT_DELAY    89884\n",
              "WEATHER_DELAY          89884\n",
              "dtype: int64"
            ]
          },
          "metadata": {},
          "execution_count": 33
        }
      ]
    },
    {
      "cell_type": "markdown",
      "source": [
        "Drop the rows and columns that contain null values."
      ],
      "metadata": {
        "id": "BTH5XUqBd3Tf"
      }
    },
    {
      "cell_type": "code",
      "source": [
        "df.drop(['DEPARTURE_TIME','DEPARTURE_DELAY','TAXI_OUT','WHEELS_OFF','ELAPSED_TIME','AIR_TIME','WHEELS_ON','TAXI_IN','ARRIVAL_TIME','ARRIVAL_DELAY','AIR_SYSTEM_DELAY',\n",
        "         'SECURITY_DELAY','AIRLINE_DELAY','LATE_AIRCRAFT_DELAY','WEATHER_DELAY'], axis=1, inplace = True)"
      ],
      "metadata": {
        "id": "c2tyPhpc6iWF",
        "colab": {
          "base_uri": "https://localhost:8080/"
        },
        "outputId": "08a3a07c-1829-4f14-ef94-0e090211d47a"
      },
      "execution_count": null,
      "outputs": [
        {
          "output_type": "stream",
          "name": "stderr",
          "text": [
            "/usr/local/lib/python3.8/dist-packages/pandas/core/frame.py:4906: SettingWithCopyWarning: \n",
            "A value is trying to be set on a copy of a slice from a DataFrame\n",
            "\n",
            "See the caveats in the documentation: https://pandas.pydata.org/pandas-docs/stable/user_guide/indexing.html#returning-a-view-versus-a-copy\n",
            "  return super().drop(\n"
          ]
        }
      ]
    },
    {
      "cell_type": "code",
      "source": [
        "df=df.dropna()"
      ],
      "metadata": {
        "id": "XNTLVuoIjFtV"
      },
      "execution_count": null,
      "outputs": []
    },
    {
      "cell_type": "markdown",
      "source": [
        "Check again to ensure there is no missing value occur in the dataset."
      ],
      "metadata": {
        "id": "YCxt-pRdF1qZ"
      }
    },
    {
      "cell_type": "code",
      "source": [
        "df.isna().sum()"
      ],
      "metadata": {
        "id": "in25JP5x7CBo",
        "colab": {
          "base_uri": "https://localhost:8080/"
        },
        "outputId": "7bc18fa1-6123-45fc-f034-bf81083a1a11"
      },
      "execution_count": null,
      "outputs": [
        {
          "output_type": "execute_result",
          "data": {
            "text/plain": [
              "YEAR                   0\n",
              "MONTH                  0\n",
              "DAY                    0\n",
              "DAY_OF_WEEK            0\n",
              "AIRLINE                0\n",
              "FLIGHT_NUMBER          0\n",
              "TAIL_NUMBER            0\n",
              "ORIGIN_AIRPORT         0\n",
              "DESTINATION_AIRPORT    0\n",
              "SCHEDULED_DEPARTURE    0\n",
              "SCHEDULED_TIME         0\n",
              "DISTANCE               0\n",
              "SCHEDULED_ARRIVAL      0\n",
              "DIVERTED               0\n",
              "CANCELLED              0\n",
              "CANCELLATION_REASON    0\n",
              "dtype: int64"
            ]
          },
          "metadata": {},
          "execution_count": 36
        }
      ]
    },
    {
      "cell_type": "markdown",
      "source": [
        "From the output above, we can conclude that there are no missing values in the dataset.\n",
        "\n",
        "Change the data type of 'MONTH' to object."
      ],
      "metadata": {
        "id": "EFsCzzIAHKlf"
      }
    },
    {
      "cell_type": "code",
      "source": [
        "df['MONTH'] = df['MONTH'].astype(object)"
      ],
      "metadata": {
        "colab": {
          "base_uri": "https://localhost:8080/"
        },
        "id": "OWi_vaxHyYve",
        "outputId": "c38cf5f9-8c91-4e1b-b0f1-94989f592821"
      },
      "execution_count": null,
      "outputs": [
        {
          "output_type": "stream",
          "name": "stderr",
          "text": [
            "<ipython-input-37-23f8fed29f81>:1: SettingWithCopyWarning: \n",
            "A value is trying to be set on a copy of a slice from a DataFrame.\n",
            "Try using .loc[row_indexer,col_indexer] = value instead\n",
            "\n",
            "See the caveats in the documentation: https://pandas.pydata.org/pandas-docs/stable/user_guide/indexing.html#returning-a-view-versus-a-copy\n",
            "  df['MONTH'] = df['MONTH'].astype(object)\n"
          ]
        }
      ]
    },
    {
      "cell_type": "code",
      "source": [
        "df"
      ],
      "metadata": {
        "colab": {
          "base_uri": "https://localhost:8080/",
          "height": 488
        },
        "id": "JVYI4UBjKWqv",
        "outputId": "68cf243e-3421-4f65-ab3f-4f6e579a8a02"
      },
      "execution_count": null,
      "outputs": [
        {
          "output_type": "execute_result",
          "data": {
            "text/plain": [
              "         YEAR MONTH  DAY  DAY_OF_WEEK AIRLINE  FLIGHT_NUMBER TAIL_NUMBER  \\\n",
              "32       2015     1    1            4      AS            136      N431AS   \n",
              "42       2015     1    1            4      AA           2459      N3BDAA   \n",
              "68       2015     1    1            4      OO           5254      N746SK   \n",
              "82       2015     1    1            4      MQ           2859      N660MQ   \n",
              "90       2015     1    1            4      OO           5460      N583SW   \n",
              "...       ...   ...  ...          ...     ...            ...         ...   \n",
              "5816994  2015    12   31            4      EV           4442      N12167   \n",
              "5817980  2015    12   31            4      OO           5359      N915SW   \n",
              "5818318  2015    12   31            4      AA           2245      N880AA   \n",
              "5818777  2015    12   31            4      NK            416      N522NK   \n",
              "5818843  2015    12   31            4      AA           1042      N870AA   \n",
              "\n",
              "        ORIGIN_AIRPORT DESTINATION_AIRPORT  SCHEDULED_DEPARTURE  \\\n",
              "32                 ANC                 SEA                  135   \n",
              "42                 PHX                 DFW                  200   \n",
              "68                 MAF                 IAH                  510   \n",
              "82                 SGF                 DFW                  525   \n",
              "90                 RDD                 SFO                  530   \n",
              "...                ...                 ...                  ...   \n",
              "5816994            IAH                 HOB                 1800   \n",
              "5817980            DEN                 MAF                 1940   \n",
              "5818318            MIA                 SAN                 2019   \n",
              "5818777            FLL                 IAG                 2155   \n",
              "5818843            SAN                 MIA                 2210   \n",
              "\n",
              "         SCHEDULED_TIME  DISTANCE  SCHEDULED_ARRIVAL  DIVERTED  CANCELLED  \\\n",
              "32                205.0      1448                600         0          1   \n",
              "42                120.0       868                500         0          1   \n",
              "68                 87.0       429                637         0          1   \n",
              "82                 95.0       364                700         0          1   \n",
              "90                 90.0       199                700         0          1   \n",
              "...                 ...       ...                ...       ...        ...   \n",
              "5816994           107.0       501               1847         0          1   \n",
              "5817980           105.0       563               2225         0          1   \n",
              "5818318           337.0      2267               2256         0          1   \n",
              "5818777           175.0      1176                 50         0          1   \n",
              "5818843           277.0      2267                547         0          1   \n",
              "\n",
              "        CANCELLATION_REASON  \n",
              "32                        A  \n",
              "42                        B  \n",
              "68                        B  \n",
              "82                        B  \n",
              "90                        A  \n",
              "...                     ...  \n",
              "5816994                   B  \n",
              "5817980                   B  \n",
              "5818318                   A  \n",
              "5818777                   A  \n",
              "5818843                   A  \n",
              "\n",
              "[75158 rows x 16 columns]"
            ],
            "text/html": [
              "\n",
              "  <div id=\"df-2e89f859-2026-4306-b09b-54861ff209f3\">\n",
              "    <div class=\"colab-df-container\">\n",
              "      <div>\n",
              "<style scoped>\n",
              "    .dataframe tbody tr th:only-of-type {\n",
              "        vertical-align: middle;\n",
              "    }\n",
              "\n",
              "    .dataframe tbody tr th {\n",
              "        vertical-align: top;\n",
              "    }\n",
              "\n",
              "    .dataframe thead th {\n",
              "        text-align: right;\n",
              "    }\n",
              "</style>\n",
              "<table border=\"1\" class=\"dataframe\">\n",
              "  <thead>\n",
              "    <tr style=\"text-align: right;\">\n",
              "      <th></th>\n",
              "      <th>YEAR</th>\n",
              "      <th>MONTH</th>\n",
              "      <th>DAY</th>\n",
              "      <th>DAY_OF_WEEK</th>\n",
              "      <th>AIRLINE</th>\n",
              "      <th>FLIGHT_NUMBER</th>\n",
              "      <th>TAIL_NUMBER</th>\n",
              "      <th>ORIGIN_AIRPORT</th>\n",
              "      <th>DESTINATION_AIRPORT</th>\n",
              "      <th>SCHEDULED_DEPARTURE</th>\n",
              "      <th>SCHEDULED_TIME</th>\n",
              "      <th>DISTANCE</th>\n",
              "      <th>SCHEDULED_ARRIVAL</th>\n",
              "      <th>DIVERTED</th>\n",
              "      <th>CANCELLED</th>\n",
              "      <th>CANCELLATION_REASON</th>\n",
              "    </tr>\n",
              "  </thead>\n",
              "  <tbody>\n",
              "    <tr>\n",
              "      <th>32</th>\n",
              "      <td>2015</td>\n",
              "      <td>1</td>\n",
              "      <td>1</td>\n",
              "      <td>4</td>\n",
              "      <td>AS</td>\n",
              "      <td>136</td>\n",
              "      <td>N431AS</td>\n",
              "      <td>ANC</td>\n",
              "      <td>SEA</td>\n",
              "      <td>135</td>\n",
              "      <td>205.0</td>\n",
              "      <td>1448</td>\n",
              "      <td>600</td>\n",
              "      <td>0</td>\n",
              "      <td>1</td>\n",
              "      <td>A</td>\n",
              "    </tr>\n",
              "    <tr>\n",
              "      <th>42</th>\n",
              "      <td>2015</td>\n",
              "      <td>1</td>\n",
              "      <td>1</td>\n",
              "      <td>4</td>\n",
              "      <td>AA</td>\n",
              "      <td>2459</td>\n",
              "      <td>N3BDAA</td>\n",
              "      <td>PHX</td>\n",
              "      <td>DFW</td>\n",
              "      <td>200</td>\n",
              "      <td>120.0</td>\n",
              "      <td>868</td>\n",
              "      <td>500</td>\n",
              "      <td>0</td>\n",
              "      <td>1</td>\n",
              "      <td>B</td>\n",
              "    </tr>\n",
              "    <tr>\n",
              "      <th>68</th>\n",
              "      <td>2015</td>\n",
              "      <td>1</td>\n",
              "      <td>1</td>\n",
              "      <td>4</td>\n",
              "      <td>OO</td>\n",
              "      <td>5254</td>\n",
              "      <td>N746SK</td>\n",
              "      <td>MAF</td>\n",
              "      <td>IAH</td>\n",
              "      <td>510</td>\n",
              "      <td>87.0</td>\n",
              "      <td>429</td>\n",
              "      <td>637</td>\n",
              "      <td>0</td>\n",
              "      <td>1</td>\n",
              "      <td>B</td>\n",
              "    </tr>\n",
              "    <tr>\n",
              "      <th>82</th>\n",
              "      <td>2015</td>\n",
              "      <td>1</td>\n",
              "      <td>1</td>\n",
              "      <td>4</td>\n",
              "      <td>MQ</td>\n",
              "      <td>2859</td>\n",
              "      <td>N660MQ</td>\n",
              "      <td>SGF</td>\n",
              "      <td>DFW</td>\n",
              "      <td>525</td>\n",
              "      <td>95.0</td>\n",
              "      <td>364</td>\n",
              "      <td>700</td>\n",
              "      <td>0</td>\n",
              "      <td>1</td>\n",
              "      <td>B</td>\n",
              "    </tr>\n",
              "    <tr>\n",
              "      <th>90</th>\n",
              "      <td>2015</td>\n",
              "      <td>1</td>\n",
              "      <td>1</td>\n",
              "      <td>4</td>\n",
              "      <td>OO</td>\n",
              "      <td>5460</td>\n",
              "      <td>N583SW</td>\n",
              "      <td>RDD</td>\n",
              "      <td>SFO</td>\n",
              "      <td>530</td>\n",
              "      <td>90.0</td>\n",
              "      <td>199</td>\n",
              "      <td>700</td>\n",
              "      <td>0</td>\n",
              "      <td>1</td>\n",
              "      <td>A</td>\n",
              "    </tr>\n",
              "    <tr>\n",
              "      <th>...</th>\n",
              "      <td>...</td>\n",
              "      <td>...</td>\n",
              "      <td>...</td>\n",
              "      <td>...</td>\n",
              "      <td>...</td>\n",
              "      <td>...</td>\n",
              "      <td>...</td>\n",
              "      <td>...</td>\n",
              "      <td>...</td>\n",
              "      <td>...</td>\n",
              "      <td>...</td>\n",
              "      <td>...</td>\n",
              "      <td>...</td>\n",
              "      <td>...</td>\n",
              "      <td>...</td>\n",
              "      <td>...</td>\n",
              "    </tr>\n",
              "    <tr>\n",
              "      <th>5816994</th>\n",
              "      <td>2015</td>\n",
              "      <td>12</td>\n",
              "      <td>31</td>\n",
              "      <td>4</td>\n",
              "      <td>EV</td>\n",
              "      <td>4442</td>\n",
              "      <td>N12167</td>\n",
              "      <td>IAH</td>\n",
              "      <td>HOB</td>\n",
              "      <td>1800</td>\n",
              "      <td>107.0</td>\n",
              "      <td>501</td>\n",
              "      <td>1847</td>\n",
              "      <td>0</td>\n",
              "      <td>1</td>\n",
              "      <td>B</td>\n",
              "    </tr>\n",
              "    <tr>\n",
              "      <th>5817980</th>\n",
              "      <td>2015</td>\n",
              "      <td>12</td>\n",
              "      <td>31</td>\n",
              "      <td>4</td>\n",
              "      <td>OO</td>\n",
              "      <td>5359</td>\n",
              "      <td>N915SW</td>\n",
              "      <td>DEN</td>\n",
              "      <td>MAF</td>\n",
              "      <td>1940</td>\n",
              "      <td>105.0</td>\n",
              "      <td>563</td>\n",
              "      <td>2225</td>\n",
              "      <td>0</td>\n",
              "      <td>1</td>\n",
              "      <td>B</td>\n",
              "    </tr>\n",
              "    <tr>\n",
              "      <th>5818318</th>\n",
              "      <td>2015</td>\n",
              "      <td>12</td>\n",
              "      <td>31</td>\n",
              "      <td>4</td>\n",
              "      <td>AA</td>\n",
              "      <td>2245</td>\n",
              "      <td>N880AA</td>\n",
              "      <td>MIA</td>\n",
              "      <td>SAN</td>\n",
              "      <td>2019</td>\n",
              "      <td>337.0</td>\n",
              "      <td>2267</td>\n",
              "      <td>2256</td>\n",
              "      <td>0</td>\n",
              "      <td>1</td>\n",
              "      <td>A</td>\n",
              "    </tr>\n",
              "    <tr>\n",
              "      <th>5818777</th>\n",
              "      <td>2015</td>\n",
              "      <td>12</td>\n",
              "      <td>31</td>\n",
              "      <td>4</td>\n",
              "      <td>NK</td>\n",
              "      <td>416</td>\n",
              "      <td>N522NK</td>\n",
              "      <td>FLL</td>\n",
              "      <td>IAG</td>\n",
              "      <td>2155</td>\n",
              "      <td>175.0</td>\n",
              "      <td>1176</td>\n",
              "      <td>50</td>\n",
              "      <td>0</td>\n",
              "      <td>1</td>\n",
              "      <td>A</td>\n",
              "    </tr>\n",
              "    <tr>\n",
              "      <th>5818843</th>\n",
              "      <td>2015</td>\n",
              "      <td>12</td>\n",
              "      <td>31</td>\n",
              "      <td>4</td>\n",
              "      <td>AA</td>\n",
              "      <td>1042</td>\n",
              "      <td>N870AA</td>\n",
              "      <td>SAN</td>\n",
              "      <td>MIA</td>\n",
              "      <td>2210</td>\n",
              "      <td>277.0</td>\n",
              "      <td>2267</td>\n",
              "      <td>547</td>\n",
              "      <td>0</td>\n",
              "      <td>1</td>\n",
              "      <td>A</td>\n",
              "    </tr>\n",
              "  </tbody>\n",
              "</table>\n",
              "<p>75158 rows × 16 columns</p>\n",
              "</div>\n",
              "      <button class=\"colab-df-convert\" onclick=\"convertToInteractive('df-2e89f859-2026-4306-b09b-54861ff209f3')\"\n",
              "              title=\"Convert this dataframe to an interactive table.\"\n",
              "              style=\"display:none;\">\n",
              "        \n",
              "  <svg xmlns=\"http://www.w3.org/2000/svg\" height=\"24px\"viewBox=\"0 0 24 24\"\n",
              "       width=\"24px\">\n",
              "    <path d=\"M0 0h24v24H0V0z\" fill=\"none\"/>\n",
              "    <path d=\"M18.56 5.44l.94 2.06.94-2.06 2.06-.94-2.06-.94-.94-2.06-.94 2.06-2.06.94zm-11 1L8.5 8.5l.94-2.06 2.06-.94-2.06-.94L8.5 2.5l-.94 2.06-2.06.94zm10 10l.94 2.06.94-2.06 2.06-.94-2.06-.94-.94-2.06-.94 2.06-2.06.94z\"/><path d=\"M17.41 7.96l-1.37-1.37c-.4-.4-.92-.59-1.43-.59-.52 0-1.04.2-1.43.59L10.3 9.45l-7.72 7.72c-.78.78-.78 2.05 0 2.83L4 21.41c.39.39.9.59 1.41.59.51 0 1.02-.2 1.41-.59l7.78-7.78 2.81-2.81c.8-.78.8-2.07 0-2.86zM5.41 20L4 18.59l7.72-7.72 1.47 1.35L5.41 20z\"/>\n",
              "  </svg>\n",
              "      </button>\n",
              "      \n",
              "  <style>\n",
              "    .colab-df-container {\n",
              "      display:flex;\n",
              "      flex-wrap:wrap;\n",
              "      gap: 12px;\n",
              "    }\n",
              "\n",
              "    .colab-df-convert {\n",
              "      background-color: #E8F0FE;\n",
              "      border: none;\n",
              "      border-radius: 50%;\n",
              "      cursor: pointer;\n",
              "      display: none;\n",
              "      fill: #1967D2;\n",
              "      height: 32px;\n",
              "      padding: 0 0 0 0;\n",
              "      width: 32px;\n",
              "    }\n",
              "\n",
              "    .colab-df-convert:hover {\n",
              "      background-color: #E2EBFA;\n",
              "      box-shadow: 0px 1px 2px rgba(60, 64, 67, 0.3), 0px 1px 3px 1px rgba(60, 64, 67, 0.15);\n",
              "      fill: #174EA6;\n",
              "    }\n",
              "\n",
              "    [theme=dark] .colab-df-convert {\n",
              "      background-color: #3B4455;\n",
              "      fill: #D2E3FC;\n",
              "    }\n",
              "\n",
              "    [theme=dark] .colab-df-convert:hover {\n",
              "      background-color: #434B5C;\n",
              "      box-shadow: 0px 1px 3px 1px rgba(0, 0, 0, 0.15);\n",
              "      filter: drop-shadow(0px 1px 2px rgba(0, 0, 0, 0.3));\n",
              "      fill: #FFFFFF;\n",
              "    }\n",
              "  </style>\n",
              "\n",
              "      <script>\n",
              "        const buttonEl =\n",
              "          document.querySelector('#df-2e89f859-2026-4306-b09b-54861ff209f3 button.colab-df-convert');\n",
              "        buttonEl.style.display =\n",
              "          google.colab.kernel.accessAllowed ? 'block' : 'none';\n",
              "\n",
              "        async function convertToInteractive(key) {\n",
              "          const element = document.querySelector('#df-2e89f859-2026-4306-b09b-54861ff209f3');\n",
              "          const dataTable =\n",
              "            await google.colab.kernel.invokeFunction('convertToInteractive',\n",
              "                                                     [key], {});\n",
              "          if (!dataTable) return;\n",
              "\n",
              "          const docLinkHtml = 'Like what you see? Visit the ' +\n",
              "            '<a target=\"_blank\" href=https://colab.research.google.com/notebooks/data_table.ipynb>data table notebook</a>'\n",
              "            + ' to learn more about interactive tables.';\n",
              "          element.innerHTML = '';\n",
              "          dataTable['output_type'] = 'display_data';\n",
              "          await google.colab.output.renderOutput(dataTable, element);\n",
              "          const docLink = document.createElement('div');\n",
              "          docLink.innerHTML = docLinkHtml;\n",
              "          element.appendChild(docLink);\n",
              "        }\n",
              "      </script>\n",
              "    </div>\n",
              "  </div>\n",
              "  "
            ]
          },
          "metadata": {},
          "execution_count": 38
        }
      ]
    },
    {
      "cell_type": "markdown",
      "source": [
        "After done creating a sample, the data is ready to proceed with the next step."
      ],
      "metadata": {
        "id": "KGHRK81UftiU"
      }
    },
    {
      "cell_type": "markdown",
      "metadata": {
        "id": "_0m5LkbVVJJ6"
      },
      "source": [
        "## Exploratory Analysis and Visualization\n",
        "\n",
        "Exploratory Data Analysis (EDA) is a process of describing the data by means of statistical and visualization techniques in order to bring important aspects of that data into focus for further analysis. This involves inspecting the dataset from many angles, describing & summarizing it without making any assumptions about its contents.\n",
        "\n"
      ]
    },
    {
      "cell_type": "markdown",
      "metadata": {
        "id": "RuPTpsGWVJJ7"
      },
      "source": [
        "Let's begin by importing`matplotlib.pyplot` and `seaborn`."
      ]
    },
    {
      "cell_type": "code",
      "execution_count": null,
      "metadata": {
        "id": "zOTtwqAMVJJ7"
      },
      "outputs": [],
      "source": [
        "import seaborn as sns\n",
        "import matplotlib\n",
        "import matplotlib.pyplot as plt\n",
        "import numpy as np\n",
        "%matplotlib inline\n",
        "\n",
        "sns.set_style('darkgrid')\n",
        "matplotlib.rcParams['font.size'] = 14\n",
        "matplotlib.rcParams['figure.figsize'] = (9, 5)\n",
        "matplotlib.rcParams['figure.facecolor'] = '#00000000'"
      ]
    },
    {
      "cell_type": "code",
      "source": [
        "df.describe()"
      ],
      "metadata": {
        "id": "mozO99W3MKje",
        "colab": {
          "base_uri": "https://localhost:8080/",
          "height": 364
        },
        "outputId": "c9879af6-1372-45b6-e4dd-57fae6dd0470"
      },
      "execution_count": null,
      "outputs": [
        {
          "output_type": "execute_result",
          "data": {
            "text/plain": [
              "          YEAR           DAY   DAY_OF_WEEK  FLIGHT_NUMBER  \\\n",
              "count  75158.0  75158.000000  75158.000000   75158.000000   \n",
              "mean    2015.0     15.269818      3.630299    2967.617379   \n",
              "std        0.0      9.253266      2.133644    1827.840690   \n",
              "min     2015.0      1.000000      1.000000       1.000000   \n",
              "25%     2015.0      7.000000      2.000000    1296.000000   \n",
              "50%     2015.0     16.000000      3.000000    3101.000000   \n",
              "75%     2015.0     24.000000      6.000000    4432.000000   \n",
              "max     2015.0     31.000000      7.000000    9855.000000   \n",
              "\n",
              "       SCHEDULED_DEPARTURE  SCHEDULED_TIME      DISTANCE  SCHEDULED_ARRIVAL  \\\n",
              "count         75158.000000    75158.000000  75158.000000       75158.000000   \n",
              "mean           1390.450890      117.852151    608.686607        1536.893265   \n",
              "std             496.920545       57.720403    453.686495         525.305542   \n",
              "min               1.000000       20.000000     21.000000           1.000000   \n",
              "25%             945.000000       76.000000    285.000000        1115.000000   \n",
              "50%            1435.000000      104.000000    488.000000        1612.000000   \n",
              "75%            1820.000000      145.000000    802.000000        2000.000000   \n",
              "max            2359.000000      614.000000   4962.000000        2359.000000   \n",
              "\n",
              "       DIVERTED  CANCELLED  \n",
              "count   75158.0    75158.0  \n",
              "mean        0.0        1.0  \n",
              "std         0.0        0.0  \n",
              "min         0.0        1.0  \n",
              "25%         0.0        1.0  \n",
              "50%         0.0        1.0  \n",
              "75%         0.0        1.0  \n",
              "max         0.0        1.0  "
            ],
            "text/html": [
              "\n",
              "  <div id=\"df-430004e1-35da-426a-bf8f-8658178b03a0\">\n",
              "    <div class=\"colab-df-container\">\n",
              "      <div>\n",
              "<style scoped>\n",
              "    .dataframe tbody tr th:only-of-type {\n",
              "        vertical-align: middle;\n",
              "    }\n",
              "\n",
              "    .dataframe tbody tr th {\n",
              "        vertical-align: top;\n",
              "    }\n",
              "\n",
              "    .dataframe thead th {\n",
              "        text-align: right;\n",
              "    }\n",
              "</style>\n",
              "<table border=\"1\" class=\"dataframe\">\n",
              "  <thead>\n",
              "    <tr style=\"text-align: right;\">\n",
              "      <th></th>\n",
              "      <th>YEAR</th>\n",
              "      <th>DAY</th>\n",
              "      <th>DAY_OF_WEEK</th>\n",
              "      <th>FLIGHT_NUMBER</th>\n",
              "      <th>SCHEDULED_DEPARTURE</th>\n",
              "      <th>SCHEDULED_TIME</th>\n",
              "      <th>DISTANCE</th>\n",
              "      <th>SCHEDULED_ARRIVAL</th>\n",
              "      <th>DIVERTED</th>\n",
              "      <th>CANCELLED</th>\n",
              "    </tr>\n",
              "  </thead>\n",
              "  <tbody>\n",
              "    <tr>\n",
              "      <th>count</th>\n",
              "      <td>75158.0</td>\n",
              "      <td>75158.000000</td>\n",
              "      <td>75158.000000</td>\n",
              "      <td>75158.000000</td>\n",
              "      <td>75158.000000</td>\n",
              "      <td>75158.000000</td>\n",
              "      <td>75158.000000</td>\n",
              "      <td>75158.000000</td>\n",
              "      <td>75158.0</td>\n",
              "      <td>75158.0</td>\n",
              "    </tr>\n",
              "    <tr>\n",
              "      <th>mean</th>\n",
              "      <td>2015.0</td>\n",
              "      <td>15.269818</td>\n",
              "      <td>3.630299</td>\n",
              "      <td>2967.617379</td>\n",
              "      <td>1390.450890</td>\n",
              "      <td>117.852151</td>\n",
              "      <td>608.686607</td>\n",
              "      <td>1536.893265</td>\n",
              "      <td>0.0</td>\n",
              "      <td>1.0</td>\n",
              "    </tr>\n",
              "    <tr>\n",
              "      <th>std</th>\n",
              "      <td>0.0</td>\n",
              "      <td>9.253266</td>\n",
              "      <td>2.133644</td>\n",
              "      <td>1827.840690</td>\n",
              "      <td>496.920545</td>\n",
              "      <td>57.720403</td>\n",
              "      <td>453.686495</td>\n",
              "      <td>525.305542</td>\n",
              "      <td>0.0</td>\n",
              "      <td>0.0</td>\n",
              "    </tr>\n",
              "    <tr>\n",
              "      <th>min</th>\n",
              "      <td>2015.0</td>\n",
              "      <td>1.000000</td>\n",
              "      <td>1.000000</td>\n",
              "      <td>1.000000</td>\n",
              "      <td>1.000000</td>\n",
              "      <td>20.000000</td>\n",
              "      <td>21.000000</td>\n",
              "      <td>1.000000</td>\n",
              "      <td>0.0</td>\n",
              "      <td>1.0</td>\n",
              "    </tr>\n",
              "    <tr>\n",
              "      <th>25%</th>\n",
              "      <td>2015.0</td>\n",
              "      <td>7.000000</td>\n",
              "      <td>2.000000</td>\n",
              "      <td>1296.000000</td>\n",
              "      <td>945.000000</td>\n",
              "      <td>76.000000</td>\n",
              "      <td>285.000000</td>\n",
              "      <td>1115.000000</td>\n",
              "      <td>0.0</td>\n",
              "      <td>1.0</td>\n",
              "    </tr>\n",
              "    <tr>\n",
              "      <th>50%</th>\n",
              "      <td>2015.0</td>\n",
              "      <td>16.000000</td>\n",
              "      <td>3.000000</td>\n",
              "      <td>3101.000000</td>\n",
              "      <td>1435.000000</td>\n",
              "      <td>104.000000</td>\n",
              "      <td>488.000000</td>\n",
              "      <td>1612.000000</td>\n",
              "      <td>0.0</td>\n",
              "      <td>1.0</td>\n",
              "    </tr>\n",
              "    <tr>\n",
              "      <th>75%</th>\n",
              "      <td>2015.0</td>\n",
              "      <td>24.000000</td>\n",
              "      <td>6.000000</td>\n",
              "      <td>4432.000000</td>\n",
              "      <td>1820.000000</td>\n",
              "      <td>145.000000</td>\n",
              "      <td>802.000000</td>\n",
              "      <td>2000.000000</td>\n",
              "      <td>0.0</td>\n",
              "      <td>1.0</td>\n",
              "    </tr>\n",
              "    <tr>\n",
              "      <th>max</th>\n",
              "      <td>2015.0</td>\n",
              "      <td>31.000000</td>\n",
              "      <td>7.000000</td>\n",
              "      <td>9855.000000</td>\n",
              "      <td>2359.000000</td>\n",
              "      <td>614.000000</td>\n",
              "      <td>4962.000000</td>\n",
              "      <td>2359.000000</td>\n",
              "      <td>0.0</td>\n",
              "      <td>1.0</td>\n",
              "    </tr>\n",
              "  </tbody>\n",
              "</table>\n",
              "</div>\n",
              "      <button class=\"colab-df-convert\" onclick=\"convertToInteractive('df-430004e1-35da-426a-bf8f-8658178b03a0')\"\n",
              "              title=\"Convert this dataframe to an interactive table.\"\n",
              "              style=\"display:none;\">\n",
              "        \n",
              "  <svg xmlns=\"http://www.w3.org/2000/svg\" height=\"24px\"viewBox=\"0 0 24 24\"\n",
              "       width=\"24px\">\n",
              "    <path d=\"M0 0h24v24H0V0z\" fill=\"none\"/>\n",
              "    <path d=\"M18.56 5.44l.94 2.06.94-2.06 2.06-.94-2.06-.94-.94-2.06-.94 2.06-2.06.94zm-11 1L8.5 8.5l.94-2.06 2.06-.94-2.06-.94L8.5 2.5l-.94 2.06-2.06.94zm10 10l.94 2.06.94-2.06 2.06-.94-2.06-.94-.94-2.06-.94 2.06-2.06.94z\"/><path d=\"M17.41 7.96l-1.37-1.37c-.4-.4-.92-.59-1.43-.59-.52 0-1.04.2-1.43.59L10.3 9.45l-7.72 7.72c-.78.78-.78 2.05 0 2.83L4 21.41c.39.39.9.59 1.41.59.51 0 1.02-.2 1.41-.59l7.78-7.78 2.81-2.81c.8-.78.8-2.07 0-2.86zM5.41 20L4 18.59l7.72-7.72 1.47 1.35L5.41 20z\"/>\n",
              "  </svg>\n",
              "      </button>\n",
              "      \n",
              "  <style>\n",
              "    .colab-df-container {\n",
              "      display:flex;\n",
              "      flex-wrap:wrap;\n",
              "      gap: 12px;\n",
              "    }\n",
              "\n",
              "    .colab-df-convert {\n",
              "      background-color: #E8F0FE;\n",
              "      border: none;\n",
              "      border-radius: 50%;\n",
              "      cursor: pointer;\n",
              "      display: none;\n",
              "      fill: #1967D2;\n",
              "      height: 32px;\n",
              "      padding: 0 0 0 0;\n",
              "      width: 32px;\n",
              "    }\n",
              "\n",
              "    .colab-df-convert:hover {\n",
              "      background-color: #E2EBFA;\n",
              "      box-shadow: 0px 1px 2px rgba(60, 64, 67, 0.3), 0px 1px 3px 1px rgba(60, 64, 67, 0.15);\n",
              "      fill: #174EA6;\n",
              "    }\n",
              "\n",
              "    [theme=dark] .colab-df-convert {\n",
              "      background-color: #3B4455;\n",
              "      fill: #D2E3FC;\n",
              "    }\n",
              "\n",
              "    [theme=dark] .colab-df-convert:hover {\n",
              "      background-color: #434B5C;\n",
              "      box-shadow: 0px 1px 3px 1px rgba(0, 0, 0, 0.15);\n",
              "      filter: drop-shadow(0px 1px 2px rgba(0, 0, 0, 0.3));\n",
              "      fill: #FFFFFF;\n",
              "    }\n",
              "  </style>\n",
              "\n",
              "      <script>\n",
              "        const buttonEl =\n",
              "          document.querySelector('#df-430004e1-35da-426a-bf8f-8658178b03a0 button.colab-df-convert');\n",
              "        buttonEl.style.display =\n",
              "          google.colab.kernel.accessAllowed ? 'block' : 'none';\n",
              "\n",
              "        async function convertToInteractive(key) {\n",
              "          const element = document.querySelector('#df-430004e1-35da-426a-bf8f-8658178b03a0');\n",
              "          const dataTable =\n",
              "            await google.colab.kernel.invokeFunction('convertToInteractive',\n",
              "                                                     [key], {});\n",
              "          if (!dataTable) return;\n",
              "\n",
              "          const docLinkHtml = 'Like what you see? Visit the ' +\n",
              "            '<a target=\"_blank\" href=https://colab.research.google.com/notebooks/data_table.ipynb>data table notebook</a>'\n",
              "            + ' to learn more about interactive tables.';\n",
              "          element.innerHTML = '';\n",
              "          dataTable['output_type'] = 'display_data';\n",
              "          await google.colab.output.renderOutput(dataTable, element);\n",
              "          const docLink = document.createElement('div');\n",
              "          docLink.innerHTML = docLinkHtml;\n",
              "          element.appendChild(docLink);\n",
              "        }\n",
              "      </script>\n",
              "    </div>\n",
              "  </div>\n",
              "  "
            ]
          },
          "metadata": {},
          "execution_count": 40
        }
      ]
    },
    {
      "cell_type": "markdown",
      "metadata": {
        "id": "Fv4NPHasVJJ7"
      },
      "source": [
        "###1. Bar Chart : Number of Flight Cancellations per Month"
      ]
    },
    {
      "cell_type": "code",
      "execution_count": null,
      "metadata": {
        "id": "NKN6RIplVJJ7",
        "colab": {
          "base_uri": "https://localhost:8080/",
          "height": 420
        },
        "outputId": "20bd49db-4fd3-4c2b-c633-155a16f674bd"
      },
      "outputs": [
        {
          "output_type": "display_data",
          "data": {
            "text/plain": [
              "<Figure size 1080x432 with 1 Axes>"
            ],
            "image/png": "[encoded data removed]"
          },
          "metadata": {
            "needs_background": "light"
          }
        }
      ],
      "source": [
        "plt.figure(figsize=(15,6))\n",
        "\n",
        "sum_of_cc = df.groupby('MONTH')['CANCELLED'].sum()\n",
        "\n",
        "plt.ylabel('Number of Flight Cancellations')\n",
        "plt.title('Number of Flight Cancellations per Month')\n",
        "bar_chart = sum_of_cc.plot.bar()\n",
        "\n",
        "for bar in bar_chart.patches:\n",
        "  bar_chart.annotate(bar.get_height(),\n",
        "                   (bar.get_x() + bar.get_width() / 2,\n",
        "                    bar.get_height()), ha='center', va='center',\n",
        "                   size=9, xytext=(0, 8),\n",
        "                   textcoords='offset points')"
      ]
    },
    {
      "cell_type": "markdown",
      "metadata": {
        "id": "Dn_AW-5uVJJ7"
      },
      "source": [
        "###2. Line Chart : Number of Flight Cancellations per Month of each Airline"
      ]
    },
    {
      "cell_type": "code",
      "execution_count": null,
      "metadata": {
        "id": "c7fugjWzVJJ7",
        "colab": {
          "base_uri": "https://localhost:8080/",
          "height": 724
        },
        "outputId": "43451735-dc39-4cbe-951b-7430e71d148c"
      },
      "outputs": [
        {
          "output_type": "execute_result",
          "data": {
            "text/plain": [
              "Text(0.5, 1.0, 'Number of Flight Cancellations per Month of each Airline')"
            ]
          },
          "metadata": {},
          "execution_count": 42
        },
        {
          "output_type": "display_data",
          "data": {
            "text/plain": [
              "<Figure size 1296x864 with 1 Axes>"
            ],
            "image/png": "[encoded data removed]"
          },
          "metadata": {
            "needs_background": "light"
          }
        }
      ],
      "source": [
        "plt.figure(figsize=(18,12))\n",
        "\n",
        "cc_airline = df.groupby(['MONTH','AIRLINE'], as_index=False)['CANCELLED'].sum()\n",
        "\n",
        "sns.lineplot(data = cc_airline, x ='MONTH', y='CANCELLED', hue='AIRLINE', style='AIRLINE')\n",
        "plt.title('Number of Flight Cancellations per Month of each Airline')"
      ]
    },
    {
      "cell_type": "markdown",
      "metadata": {
        "id": "rN1bUu8RVJJ7"
      },
      "source": [
        "###3. Box Plot : Number of Flight Cancellations based on Cancellation Reason"
      ]
    },
    {
      "cell_type": "code",
      "execution_count": null,
      "metadata": {
        "id": "kMrm6CiAVJJ8",
        "colab": {
          "base_uri": "https://localhost:8080/",
          "height": 399
        },
        "outputId": "5b1228d4-8fb7-4841-fa30-d54b122aeddf"
      },
      "outputs": [
        {
          "output_type": "execute_result",
          "data": {
            "text/plain": [
              "Text(0.5, 1.0, 'Number of Flight Cancellations based on Cancellation Reason')"
            ]
          },
          "metadata": {},
          "execution_count": 43
        },
        {
          "output_type": "display_data",
          "data": {
            "text/plain": [
              "<Figure size 543.7x360 with 1 Axes>"
            ],
            "image/png": "[encoded data removed]"
          },
          "metadata": {
            "needs_background": "light"
          }
        }
      ],
      "source": [
        "cc_reason = df.groupby(['MONTH','CANCELLATION_REASON'], as_index=False)['CANCELLED'].sum()\n",
        "\n",
        "sns.relplot(data = cc_reason, x ='MONTH', y='CANCELLED', hue='CANCELLATION_REASON', style='CANCELLATION_REASON')\n",
        "plt.title('Number of Flight Cancellations based on Cancellation Reason')\n"
      ]
    },
    {
      "cell_type": "markdown",
      "metadata": {
        "id": "tLNLw0EOVJJ8"
      },
      "source": [
        "###4. Pie Chart : Percentage of each Flight Cancellations Reason"
      ]
    },
    {
      "cell_type": "code",
      "execution_count": null,
      "metadata": {
        "id": "61sgf555VJJ8",
        "colab": {
          "base_uri": "https://localhost:8080/",
          "height": 341
        },
        "outputId": "370bb78e-2018-4919-d112-8675a70ff812"
      },
      "outputs": [
        {
          "output_type": "execute_result",
          "data": {
            "text/plain": [
              "<matplotlib.axes._subplots.AxesSubplot at 0x7f96e6d388b0>"
            ]
          },
          "metadata": {},
          "execution_count": 44
        },
        {
          "output_type": "display_data",
          "data": {
            "text/plain": [
              "<Figure size 360x360 with 1 Axes>"
            ],
            "image/png": "[encoded data removed]"
          },
          "metadata": {}
        }
      ],
      "source": [
        "plt.figure(figsize = (5, 5))\n",
        "data = df.groupby('CANCELLATION_REASON')['CANCELLED'].sum()\n",
        "plt.title('Percentage of each Flight Cancellations Reason')\n",
        "data.plot.pie(autopct='%.1f%%')"
      ]
    },
    {
      "cell_type": "markdown",
      "metadata": {
        "id": "nt_CVhi-VJJ8"
      },
      "source": [
        "###5. Heat Map\n",
        "\n",
        "A relationship between variables in the dataset could be explored using scatter plots or regression plots in Matplotlib or Seaborn.\n",
        "\n",
        "To distinguish the relationship between all the variables in the dataset, a correlation analysis heatmap is performed."
      ]
    },
    {
      "cell_type": "code",
      "execution_count": null,
      "metadata": {
        "id": "Zatc4Si_VJJ8",
        "colab": {
          "base_uri": "https://localhost:8080/",
          "height": 509
        },
        "outputId": "e228be39-8ff9-4090-8f32-e689a32fc709"
      },
      "outputs": [
        {
          "output_type": "execute_result",
          "data": {
            "text/plain": [
              "<matplotlib.axes._subplots.AxesSubplot at 0x7f96e6d82df0>"
            ]
          },
          "metadata": {},
          "execution_count": 45
        },
        {
          "output_type": "display_data",
          "data": {
            "text/plain": [
              "<Figure size 648x360 with 2 Axes>"
            ],
            "image/png": "[encoded data removed]"
          },
          "metadata": {
            "needs_background": "light"
          }
        }
      ],
      "source": [
        "sns.heatmap(df.corr())"
      ]
    },
    {
      "cell_type": "markdown",
      "metadata": {
        "id": "E0U3IWm8VJJ9"
      },
      "source": [
        "## Asking and Answering Questions\n",
        "\n",
        "In this part, we will be achieving the objectives of this project by answering the objectives. To answer the objectives, we will compute the results using Numpy/Pandas and plotting the graphs using Matplotlib/Seaborn.\n",
        "\n"
      ]
    },
    {
      "cell_type": "markdown",
      "metadata": {
        "id": "7Lor5rHMVJJ9"
      },
      "source": [
        "#### Q1: Investigating the top 5 month according to the highest mean of number of flight cancellations"
      ]
    },
    {
      "cell_type": "code",
      "execution_count": null,
      "metadata": {
        "id": "D-PdOKqCVJJ9",
        "colab": {
          "base_uri": "https://localhost:8080/"
        },
        "outputId": "3ac19887-7b17-4add-8299-e61f0ebd4e86"
      },
      "outputs": [
        {
          "output_type": "stream",
          "name": "stdout",
          "text": [
            "   MONTH  CANCELLED\n",
            "0      1        1.0\n",
            "1      2        1.0\n",
            "2      3        1.0\n",
            "3      4        1.0\n",
            "4      5        1.0\n"
          ]
        }
      ],
      "source": [
        "top_agegroup = df.groupby(['MONTH'], as_index=False)['CANCELLED'].mean()\n",
        "top_agegroup = top_agegroup.sort_values(by=['CANCELLED'], ascending=False)[:5]\n",
        "print(top_agegroup)"
      ]
    },
    {
      "cell_type": "markdown",
      "metadata": {
        "id": "c_REVnrhVJJ-"
      },
      "source": [
        "#### Q2: Studying the highest record of flight cancellation in 2015"
      ]
    },
    {
      "cell_type": "code",
      "execution_count": null,
      "metadata": {
        "id": "tdjrhzySVJJ-",
        "colab": {
          "base_uri": "https://localhost:8080/",
          "height": 416
        },
        "outputId": "5d254a5c-7324-4e61-d25a-8daf8598f051"
      },
      "outputs": [
        {
          "output_type": "display_data",
          "data": {
            "text/plain": [
              "<Figure size 864x432 with 1 Axes>"
            ],
            "image/png": "[encoded data removed]"
          },
          "metadata": {
            "needs_background": "light"
          }
        }
      ],
      "source": [
        "plt.figure(figsize=(12,6))\n",
        "\n",
        "max_num = df.groupby(['MONTH'], as_index=False)['CANCELLED'].sum()\n",
        "sns.lineplot(data = max_num, x ='MONTH', y='CANCELLED')\n",
        "plt.title('Highest Number of Flight Cancellation in 2015')\n",
        "\n",
        "for x, y in zip(max_num['MONTH'], max_num['CANCELLED']):\n",
        "  plt.text(x = x, y = y+10, s = '{:.0f}'.format(y), color = 'black', size = 11)"
      ]
    },
    {
      "cell_type": "markdown",
      "metadata": {
        "id": "ya3o0SurVJJ-"
      },
      "source": [
        "#### Q3: Examining the most common flight cancellation reason in 2015"
      ]
    },
    {
      "cell_type": "code",
      "execution_count": null,
      "metadata": {
        "id": "CaF9SiPeVJJ-",
        "colab": {
          "base_uri": "https://localhost:8080/"
        },
        "outputId": "53912b85-3dce-4d04-bbce-55762aacd291"
      },
      "outputs": [
        {
          "output_type": "execute_result",
          "data": {
            "text/plain": [
              "CANCELLATION_REASON\n",
              "A    20241\n",
              "B    40527\n",
              "C    14368\n",
              "D       22\n",
              "Name: CANCELLED, dtype: int64"
            ]
          },
          "metadata": {},
          "execution_count": 48
        }
      ],
      "source": [
        "data = df.groupby('CANCELLATION_REASON')['CANCELLED'].sum()\n",
        "data"
      ]
    },
    {
      "cell_type": "markdown",
      "metadata": {
        "id": "p4CcVO1TVJJ-"
      },
      "source": [
        "#### Q4: Exploring the top 3 airline that has the highest record of flight cancellation in 2015"
      ]
    },
    {
      "cell_type": "code",
      "source": [
        "top_airline = df.groupby(['AIRLINE'], as_index=False)['CANCELLED'].sum()\n",
        "top_airline = top_airline.sort_values(by=['CANCELLED'], ascending=False)[:5]\n",
        "top_airline"
      ],
      "metadata": {
        "id": "CgDgR1euvMXK",
        "colab": {
          "base_uri": "https://localhost:8080/",
          "height": 206
        },
        "outputId": "2535bb93-9feb-4637-879a-9d4da5c6e94e"
      },
      "execution_count": null,
      "outputs": [
        {
          "output_type": "execute_result",
          "data": {
            "text/plain": [
              "   AIRLINE  CANCELLED\n",
              "4       EV      15161\n",
              "7       MQ      14977\n",
              "13      WN      14638\n",
              "9       OO       9855\n",
              "0       AA       8608"
            ],
            "text/html": [
              "\n",
              "  <div id=\"df-6a315763-2ea5-4364-a573-593216d0e808\">\n",
              "    <div class=\"colab-df-container\">\n",
              "      <div>\n",
              "<style scoped>\n",
              "    .dataframe tbody tr th:only-of-type {\n",
              "        vertical-align: middle;\n",
              "    }\n",
              "\n",
              "    .dataframe tbody tr th {\n",
              "        vertical-align: top;\n",
              "    }\n",
              "\n",
              "    .dataframe thead th {\n",
              "        text-align: right;\n",
              "    }\n",
              "</style>\n",
              "<table border=\"1\" class=\"dataframe\">\n",
              "  <thead>\n",
              "    <tr style=\"text-align: right;\">\n",
              "      <th></th>\n",
              "      <th>AIRLINE</th>\n",
              "      <th>CANCELLED</th>\n",
              "    </tr>\n",
              "  </thead>\n",
              "  <tbody>\n",
              "    <tr>\n",
              "      <th>4</th>\n",
              "      <td>EV</td>\n",
              "      <td>15161</td>\n",
              "    </tr>\n",
              "    <tr>\n",
              "      <th>7</th>\n",
              "      <td>MQ</td>\n",
              "      <td>14977</td>\n",
              "    </tr>\n",
              "    <tr>\n",
              "      <th>13</th>\n",
              "      <td>WN</td>\n",
              "      <td>14638</td>\n",
              "    </tr>\n",
              "    <tr>\n",
              "      <th>9</th>\n",
              "      <td>OO</td>\n",
              "      <td>9855</td>\n",
              "    </tr>\n",
              "    <tr>\n",
              "      <th>0</th>\n",
              "      <td>AA</td>\n",
              "      <td>8608</td>\n",
              "    </tr>\n",
              "  </tbody>\n",
              "</table>\n",
              "</div>\n",
              "      <button class=\"colab-df-convert\" onclick=\"convertToInteractive('df-6a315763-2ea5-4364-a573-593216d0e808')\"\n",
              "              title=\"Convert this dataframe to an interactive table.\"\n",
              "              style=\"display:none;\">\n",
              "        \n",
              "  <svg xmlns=\"http://www.w3.org/2000/svg\" height=\"24px\"viewBox=\"0 0 24 24\"\n",
              "       width=\"24px\">\n",
              "    <path d=\"M0 0h24v24H0V0z\" fill=\"none\"/>\n",
              "    <path d=\"M18.56 5.44l.94 2.06.94-2.06 2.06-.94-2.06-.94-.94-2.06-.94 2.06-2.06.94zm-11 1L8.5 8.5l.94-2.06 2.06-.94-2.06-.94L8.5 2.5l-.94 2.06-2.06.94zm10 10l.94 2.06.94-2.06 2.06-.94-2.06-.94-.94-2.06-.94 2.06-2.06.94z\"/><path d=\"M17.41 7.96l-1.37-1.37c-.4-.4-.92-.59-1.43-.59-.52 0-1.04.2-1.43.59L10.3 9.45l-7.72 7.72c-.78.78-.78 2.05 0 2.83L4 21.41c.39.39.9.59 1.41.59.51 0 1.02-.2 1.41-.59l7.78-7.78 2.81-2.81c.8-.78.8-2.07 0-2.86zM5.41 20L4 18.59l7.72-7.72 1.47 1.35L5.41 20z\"/>\n",
              "  </svg>\n",
              "      </button>\n",
              "      \n",
              "  <style>\n",
              "    .colab-df-container {\n",
              "      display:flex;\n",
              "      flex-wrap:wrap;\n",
              "      gap: 12px;\n",
              "    }\n",
              "\n",
              "    .colab-df-convert {\n",
              "      background-color: #E8F0FE;\n",
              "      border: none;\n",
              "      border-radius: 50%;\n",
              "      cursor: pointer;\n",
              "      display: none;\n",
              "      fill: #1967D2;\n",
              "      height: 32px;\n",
              "      padding: 0 0 0 0;\n",
              "      width: 32px;\n",
              "    }\n",
              "\n",
              "    .colab-df-convert:hover {\n",
              "      background-color: #E2EBFA;\n",
              "      box-shadow: 0px 1px 2px rgba(60, 64, 67, 0.3), 0px 1px 3px 1px rgba(60, 64, 67, 0.15);\n",
              "      fill: #174EA6;\n",
              "    }\n",
              "\n",
              "    [theme=dark] .colab-df-convert {\n",
              "      background-color: #3B4455;\n",
              "      fill: #D2E3FC;\n",
              "    }\n",
              "\n",
              "    [theme=dark] .colab-df-convert:hover {\n",
              "      background-color: #434B5C;\n",
              "      box-shadow: 0px 1px 3px 1px rgba(0, 0, 0, 0.15);\n",
              "      filter: drop-shadow(0px 1px 2px rgba(0, 0, 0, 0.3));\n",
              "      fill: #FFFFFF;\n",
              "    }\n",
              "  </style>\n",
              "\n",
              "      <script>\n",
              "        const buttonEl =\n",
              "          document.querySelector('#df-6a315763-2ea5-4364-a573-593216d0e808 button.colab-df-convert');\n",
              "        buttonEl.style.display =\n",
              "          google.colab.kernel.accessAllowed ? 'block' : 'none';\n",
              "\n",
              "        async function convertToInteractive(key) {\n",
              "          const element = document.querySelector('#df-6a315763-2ea5-4364-a573-593216d0e808');\n",
              "          const dataTable =\n",
              "            await google.colab.kernel.invokeFunction('convertToInteractive',\n",
              "                                                     [key], {});\n",
              "          if (!dataTable) return;\n",
              "\n",
              "          const docLinkHtml = 'Like what you see? Visit the ' +\n",
              "            '<a target=\"_blank\" href=https://colab.research.google.com/notebooks/data_table.ipynb>data table notebook</a>'\n",
              "            + ' to learn more about interactive tables.';\n",
              "          element.innerHTML = '';\n",
              "          dataTable['output_type'] = 'display_data';\n",
              "          await google.colab.output.renderOutput(dataTable, element);\n",
              "          const docLink = document.createElement('div');\n",
              "          docLink.innerHTML = docLinkHtml;\n",
              "          element.appendChild(docLink);\n",
              "        }\n",
              "      </script>\n",
              "    </div>\n",
              "  </div>\n",
              "  "
            ]
          },
          "metadata": {},
          "execution_count": 49
        }
      ]
    },
    {
      "cell_type": "markdown",
      "metadata": {
        "id": "uFuZBqX1VJJ_"
      },
      "source": [
        "#### Q5: Finding the relationship between airline and the flight cancellation reason"
      ]
    },
    {
      "cell_type": "code",
      "execution_count": null,
      "metadata": {
        "id": "0XCOkgIHVJJ_",
        "colab": {
          "base_uri": "https://localhost:8080/"
        },
        "outputId": "6873e6b1-0200-438a-e073-a5618110b50d"
      },
      "outputs": [
        {
          "output_type": "stream",
          "name": "stdout",
          "text": [
            "CANCELLATION_REASON     A     B     C   D\n",
            "AIRLINE                                  \n",
            "AA                   2067  6182   355   4\n",
            "AS                    334   317    18   0\n",
            "B6                    883  2464   928   1\n",
            "DL                    594  2947   257   0\n",
            "EV                   3597  5074  6489   1\n",
            "F9                     23    19     0   0\n",
            "HA                     18     0     0   0\n",
            "MQ                   2475  9116  3385   1\n",
            "NK                    654  1064   278   3\n",
            "OO                   3202  5450  1203   0\n",
            "UA                    274   109    23   0\n",
            "US                     89    69    19   0\n",
            "VX                    157    12   365   0\n",
            "WN                   5874  7704  1048  12\n",
            "The P-Value of the ChiSq Test is: 0.0\n"
          ]
        }
      ],
      "source": [
        "# Cross tabulation between GENDER and APPROVE_LOAN\n",
        "CrosstabResult = pd.crosstab(index=df['AIRLINE'],columns=df['CANCELLATION_REASON'])\n",
        "print(CrosstabResult)\n",
        " \n",
        "# importing the required function\n",
        "from scipy.stats import chi2_contingency\n",
        " \n",
        "# Performing Chi-sq test\n",
        "ChiSqResult = chi2_contingency(CrosstabResult)\n",
        " \n",
        "# We assume that, H0: the two variables are not correlated with each other\n",
        "# If P-Value > 0.05, then we accept the assumption(H0)\n",
        " \n",
        "print('The P-Value of the ChiSq Test is:', ChiSqResult[1])"
      ]
    },
    {
      "cell_type": "markdown",
      "source": [
        "As the output of the P-value is 0.0, hence, we reject H0. This means the airline and flight cancellation reasons are correlated with each other."
      ],
      "metadata": {
        "id": "tfywAB4O2VUR"
      }
    },
    {
      "cell_type": "markdown",
      "metadata": {
        "id": "VxoO755tVJJ_"
      },
      "source": [
        "## Inferences and Conclusion\n"
      ]
    },
    {
      "cell_type": "markdown",
      "metadata": {
        "id": "xfuc6sJgVJKA"
      },
      "source": [
        "## References and Future Work\n",
        "\n",
        "\n",
        "\n",
        "*   The Chi-square formula is a statistical method to compare two or more data samples. Pearson’s chi-squared test is a hypothesis test that is used to determine whether there is a significant association between two categorical variables in the data. The test involves two hypotheses where H0 : The two categorical variables have no relationship (independent); H1 : There is a relationship (dependent) between two categorical variables        Reference : https://thinkingneuron.com/how-to-measure-the-correlation-between-two-categorical-variables-in-python/-a-categorical-variable-in-python/\n",
        "\n",
        "*   Exploratory Data Analysis helps in identifying any outlier data points, understanding the relationships between the various attributes and structure of the data, recognizing the important variables. It helps in framing questions and visualizing the results, paving the way to make an informed choice of the machine learning algorithm for the problem at hand. Reference : https://www.analyticsvidhya.com/blog/2022/03/exploratory-data-analysis-with-an-example/\n",
        "\n",
        "\n"
      ]
    }
  ],
  "metadata": {
    "kernelspec": {
      "display_name": "Python 3",
      "language": "python",
      "name": "python3"
    },
    "language_info": {
      "codemirror_mode": {
        "name": "ipython",
        "version": 3
      },
      "file_extension": ".py",
      "mimetype": "text/x-python",
      "name": "python",
      "nbconvert_exporter": "python",
      "pygments_lexer": "ipython3",
      "version": "3.8.5"
    },
    "colab": {
      "provenance": [],
      "include_colab_link": true
    }
  },
  "nbformat": 4,
  "nbformat_minor": 0
}
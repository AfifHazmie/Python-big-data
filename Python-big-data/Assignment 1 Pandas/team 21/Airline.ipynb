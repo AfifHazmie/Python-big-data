{
  "cells": [
    {
      "cell_type": "markdown",
      "metadata": {
        "id": "view-in-github",
        "colab_type": "text"
      },
      "source": [
        "<a href=\"https://colab.research.google.com/github/drshahizan/Python-big-data/blob/main/Python-big-data/Assignment%201%20Pandas/team%2021/Airline.ipynb\" target=\"_parent\"><img src=\"https://colab.research.google.com/assets/colab-badge.svg\" alt=\"Open In Colab\"/></a>"
      ]
    },
    {
      "cell_type": "markdown",
      "metadata": {
        "id": "7F8DQl5dVJJ0"
      },
      "source": [
        "# Airline Delay 2017 <a href=\"https://www.utm.my\" target=\"_parent\"><img src=\"https://colab.research.google.com/assets/colab-badge.svg\" alt=\"Open In Colab\"/></a>\n",
        "\n",
        "1. Nur Izzah Mardhiah binti Rashidi A20EC0116\n",
        "2. Radin Dafina binti Radin Zulkar Nain A20EC0135\n",
        "\n",
        "Lecturer: Prof. Madya. Ts. Dr. Mohd Shahizan Bin Othman"
      ]
    },
    {
      "cell_type": "markdown",
      "metadata": {
        "id": "LxWzVndBVJJ1"
      },
      "source": [
        "# **Downloading the Dataset**"
      ]
    },
    {
      "cell_type": "markdown",
      "source": [
        "1. Download the dataset from [Kaggle](https://www.kaggle.com/datasets/dragonduck/property-listings-in-kuala-lumpur).\n",
        "\n",
        "2. Unzip the file. The folder contains an Excel file, where the dataset is.\n",
        "\n",
        "3. Upload the Excel file into Google Drive. \n"
      ],
      "metadata": {
        "id": "mhc6DjAtBogi"
      }
    },
    {
      "cell_type": "markdown",
      "source": [
        "To use the dataset, we mount the Google Drive to Google Colab."
      ],
      "metadata": {
        "id": "Un6QRxj0Cf7C"
      }
    },
    {
      "cell_type": "code",
      "execution_count": null,
      "metadata": {
        "colab": {
          "base_uri": "https://localhost:8080/"
        },
        "outputId": "1b009ad7-cc6d-4de3-af8a-71bfce8aed6f",
        "id": "41XIzfy-ohwF"
      },
      "outputs": [
        {
          "output_type": "stream",
          "name": "stdout",
          "text": [
            "Drive already mounted at /content/drive; to attempt to forcibly remount, call drive.mount(\"/content/drive\", force_remount=True).\n"
          ]
        }
      ],
      "source": [
        "from google.colab import drive\n",
        "drive.mount('/content/drive')"
      ]
    },
    {
      "cell_type": "markdown",
      "source": [
        "To read the dataset, we assign a variable named 'dataset' to the path of the file in Google Drive. "
      ],
      "metadata": {
        "id": "TFfULstqDaFQ"
      }
    },
    {
      "cell_type": "code",
      "execution_count": null,
      "metadata": {
        "id": "Q6IzVeIYohwM"
      },
      "outputs": [],
      "source": [
        "dataset_2017 = '/content/drive/MyDrive/Colab Notebooks/Assignment 2/2017.csv'"
      ]
    },
    {
      "cell_type": "markdown",
      "source": [
        "# **Sampling**"
      ],
      "metadata": {
        "id": "cBns6cbKtOH0"
      }
    },
    {
      "cell_type": "code",
      "execution_count": null,
      "metadata": {
        "id": "4e5V8xq6pQh5"
      },
      "outputs": [],
      "source": [
        "import pandas as pd\n",
        "import numpy as np\n",
        "import matplotlib.pyplot as plt\n",
        "import seaborn as sns\n",
        "import datetime, warnings, scipy \n",
        "import random"
      ]
    },
    {
      "cell_type": "code",
      "execution_count": null,
      "metadata": {
        "id": "KribcC_XVJJ5",
        "colab": {
          "base_uri": "https://localhost:8080/"
        },
        "outputId": "be8b187f-e7ed-4ea2-c7fe-5feff30a863b"
      },
      "outputs": [
        {
          "output_type": "stream",
          "name": "stdout",
          "text": [
            "Before Sampling: 5674622 rows\n",
            "<class 'pandas.core.frame.DataFrame'>\n",
            "RangeIndex: 5674621 entries, 0 to 5674620\n",
            "Columns: 28 entries, FL_DATE to Unnamed: 27\n",
            "dtypes: float64(20), int64(3), object(5)\n",
            "memory usage: 2.4 GB\n",
            "None\n"
          ]
        }
      ],
      "source": [
        "n = sum(1 for line in open(dataset_2017))\n",
        "print(\"Before Sampling:\", n, \"rows\")\n",
        "df = pd.read_csv(dataset_2017)\n",
        "print(df.info(verbose=False, memory_usage='deep'))"
      ]
    },
    {
      "cell_type": "code",
      "execution_count": null,
      "metadata": {
        "id": "7mUpY22aVJJ6"
      },
      "outputs": [],
      "source": [
        "s = n//10\n",
        "skip = sorted(random.sample(range(1, n+1), n-s))\n",
        "df = pd.read_csv(dataset_2017, skiprows=skip)"
      ]
    },
    {
      "cell_type": "code",
      "execution_count": null,
      "metadata": {
        "id": "h46ilQakVJJ6",
        "colab": {
          "base_uri": "https://localhost:8080/"
        },
        "outputId": "4dfec9f1-7ee5-48a5-8b52-289c47b96b95"
      },
      "outputs": [
        {
          "output_type": "stream",
          "name": "stdout",
          "text": [
            "After 10% Sampling: 567462 rows\n",
            "<class 'pandas.core.frame.DataFrame'>\n",
            "RangeIndex: 567462 entries, 0 to 567461\n",
            "Columns: 28 entries, FL_DATE to Unnamed: 27\n",
            "dtypes: float64(20), int64(3), object(5)\n",
            "memory usage: 250.2 MB\n",
            "None\n"
          ]
        }
      ],
      "source": [
        "print(\"After 10% Sampling:\", s, \"rows\")\n",
        "print(df.info(verbose=False, memory_usage='deep'))"
      ]
    },
    {
      "cell_type": "markdown",
      "source": [
        "# **Chunking**"
      ],
      "metadata": {
        "id": "O6_XYSxQtS4n"
      }
    },
    {
      "cell_type": "code",
      "source": [
        "from sklearn.linear_model import LogisticRegression"
      ],
      "metadata": {
        "id": "4mNA8VnxtWLL"
      },
      "execution_count": null,
      "outputs": []
    },
    {
      "cell_type": "code",
      "source": [
        "result = None\n",
        "for chunk in pd.read_csv(dataset_2017, chunksize=1000):\n",
        "    c = chunk['OP_CARRIER']\n",
        "    chunk_result = c.value_counts()\n",
        "    if result is None:\n",
        "        result = chunk_result\n",
        "    else:\n",
        "        result = result.add(chunk_result, fill_value=0)\n",
        "\n",
        "result.sort_values(ascending=False, inplace=True)\n",
        "print(result)"
      ],
      "metadata": {
        "colab": {
          "base_uri": "https://localhost:8080/"
        },
        "id": "5WA6htpvtZAF",
        "outputId": "b57781af-341c-4b65-b038-a30c4c5d94eb"
      },
      "execution_count": null,
      "outputs": [
        {
          "output_type": "stream",
          "name": "stdout",
          "text": [
            "WN    1329444.0\n",
            "DL     923560.0\n",
            "AA     896348.0\n",
            "OO     706527.0\n",
            "UA     584481.0\n",
            "EV     339541.0\n",
            "B6     298654.0\n",
            "AS     185068.0\n",
            "NK     156818.0\n",
            "F9     103027.0\n",
            "HA      80172.0\n",
            "VX      70981.0\n",
            "Name: OP_CARRIER, dtype: float64\n"
          ]
        }
      ]
    },
    {
      "cell_type": "markdown",
      "metadata": {
        "id": "u0vucnGFVJJ5"
      },
      "source": [
        "# **Data Preparation and Cleaning**\n"
      ]
    },
    {
      "cell_type": "code",
      "source": [
        "df"
      ],
      "metadata": {
        "colab": {
          "base_uri": "https://localhost:8080/"
        },
        "id": "lOZ8pp3rApuk",
        "outputId": "78a3ca8f-e55c-4529-e3fb-6aaa83d864a6"
      },
      "execution_count": null,
      "outputs": [
        {
          "output_type": "execute_result",
          "data": {
            "text/plain": [
              "           FL_DATE OP_CARRIER  OP_CARRIER_FL_NUM ORIGIN DEST  CRS_DEP_TIME  \\\n",
              "0       2017-01-01         AA                 20    SFO  JFK          1530   \n",
              "1       2017-01-01         AA                 21    JFK  LAX          1900   \n",
              "2       2017-01-01         AA                 22    LAX  JFK          1340   \n",
              "3       2017-01-01         AA                 23    JFK  LAX          2215   \n",
              "4       2017-01-01         AA                 33    JFK  LAX           700   \n",
              "...            ...        ...                ...    ...  ...           ...   \n",
              "567457  2017-12-31         UA               2099    SAN  IAH          1340   \n",
              "567458  2017-12-31         UA               2121    IAH  EWR           610   \n",
              "567459  2017-12-31         UA               2124    MCO  EWR          1003   \n",
              "567460  2017-12-31         UA               2381    MIA  ORD           718   \n",
              "567461  2017-12-31         UA               2381    ORD  SAN          1225   \n",
              "\n",
              "        DEP_TIME  DEP_DELAY  TAXI_OUT  WHEELS_OFF  ...  CRS_ELAPSED_TIME  \\\n",
              "0         1525.0       -5.0      16.0      1541.0  ...             327.0   \n",
              "1         1922.0       22.0      20.0      1942.0  ...             407.0   \n",
              "2         1346.0        6.0      14.0      1400.0  ...             328.0   \n",
              "3         2225.0       10.0      23.0      2248.0  ...             402.0   \n",
              "4          656.0       -4.0      26.0       722.0  ...             400.0   \n",
              "...          ...        ...       ...         ...  ...               ...   \n",
              "567457    1343.0        3.0       9.0      1352.0  ...             188.0   \n",
              "567458     605.0       -5.0      14.0       619.0  ...             207.0   \n",
              "567459     954.0       -9.0      13.0      1007.0  ...             152.0   \n",
              "567460     708.0      -10.0      17.0       725.0  ...             201.0   \n",
              "567461    1416.0      111.0      16.0      1432.0  ...             266.0   \n",
              "\n",
              "        ACTUAL_ELAPSED_TIME  AIR_TIME  DISTANCE  CARRIER_DELAY  WEATHER_DELAY  \\\n",
              "0                     308.0     278.0    2586.0            NaN            NaN   \n",
              "1                     416.0     359.0    2475.0           22.0            0.0   \n",
              "2                     317.0     289.0    2475.0            NaN            NaN   \n",
              "3                     398.0     366.0    2475.0            NaN            NaN   \n",
              "4                     446.0     363.0    2475.0            0.0            0.0   \n",
              "...                     ...       ...       ...            ...            ...   \n",
              "567457                172.0     154.0    1303.0            NaN            NaN   \n",
              "567458                191.0     170.0    1400.0            NaN            NaN   \n",
              "567459                139.0     121.0     937.0            NaN            NaN   \n",
              "567460                202.0     166.0    1197.0            NaN            NaN   \n",
              "567461                258.0     239.0    1723.0            2.0            0.0   \n",
              "\n",
              "       NAS_DELAY  SECURITY_DELAY  LATE_AIRCRAFT_DELAY  Unnamed: 27  \n",
              "0            NaN             NaN                  NaN          NaN  \n",
              "1            9.0             0.0                  0.0          NaN  \n",
              "2            NaN             NaN                  NaN          NaN  \n",
              "3            NaN             NaN                  NaN          NaN  \n",
              "4           42.0             0.0                  0.0          NaN  \n",
              "...          ...             ...                  ...          ...  \n",
              "567457       NaN             NaN                  NaN          NaN  \n",
              "567458       NaN             NaN                  NaN          NaN  \n",
              "567459       NaN             NaN                  NaN          NaN  \n",
              "567460       NaN             NaN                  NaN          NaN  \n",
              "567461       0.0             0.0                101.0          NaN  \n",
              "\n",
              "[567462 rows x 28 columns]"
            ],
            "text/html": [
              "\n",
              "  <div id=\"df-a1b8fb6d-199d-44b1-bed8-d6eecfd2cd5f\">\n",
              "    <div class=\"colab-df-container\">\n",
              "      <div>\n",
              "<style scoped>\n",
              "    .dataframe tbody tr th:only-of-type {\n",
              "        vertical-align: middle;\n",
              "    }\n",
              "\n",
              "    .dataframe tbody tr th {\n",
              "        vertical-align: top;\n",
              "    }\n",
              "\n",
              "    .dataframe thead th {\n",
              "        text-align: right;\n",
              "    }\n",
              "</style>\n",
              "<table border=\"1\" class=\"dataframe\">\n",
              "  <thead>\n",
              "    <tr style=\"text-align: right;\">\n",
              "      <th></th>\n",
              "      <th>FL_DATE</th>\n",
              "      <th>OP_CARRIER</th>\n",
              "      <th>OP_CARRIER_FL_NUM</th>\n",
              "      <th>ORIGIN</th>\n",
              "      <th>DEST</th>\n",
              "      <th>CRS_DEP_TIME</th>\n",
              "      <th>DEP_TIME</th>\n",
              "      <th>DEP_DELAY</th>\n",
              "      <th>TAXI_OUT</th>\n",
              "      <th>WHEELS_OFF</th>\n",
              "      <th>...</th>\n",
              "      <th>CRS_ELAPSED_TIME</th>\n",
              "      <th>ACTUAL_ELAPSED_TIME</th>\n",
              "      <th>AIR_TIME</th>\n",
              "      <th>DISTANCE</th>\n",
              "      <th>CARRIER_DELAY</th>\n",
              "      <th>WEATHER_DELAY</th>\n",
              "      <th>NAS_DELAY</th>\n",
              "      <th>SECURITY_DELAY</th>\n",
              "      <th>LATE_AIRCRAFT_DELAY</th>\n",
              "      <th>Unnamed: 27</th>\n",
              "    </tr>\n",
              "  </thead>\n",
              "  <tbody>\n",
              "    <tr>\n",
              "      <th>0</th>\n",
              "      <td>2017-01-01</td>\n",
              "      <td>AA</td>\n",
              "      <td>20</td>\n",
              "      <td>SFO</td>\n",
              "      <td>JFK</td>\n",
              "      <td>1530</td>\n",
              "      <td>1525.0</td>\n",
              "      <td>-5.0</td>\n",
              "      <td>16.0</td>\n",
              "      <td>1541.0</td>\n",
              "      <td>...</td>\n",
              "      <td>327.0</td>\n",
              "      <td>308.0</td>\n",
              "      <td>278.0</td>\n",
              "      <td>2586.0</td>\n",
              "      <td>NaN</td>\n",
              "      <td>NaN</td>\n",
              "      <td>NaN</td>\n",
              "      <td>NaN</td>\n",
              "      <td>NaN</td>\n",
              "      <td>NaN</td>\n",
              "    </tr>\n",
              "    <tr>\n",
              "      <th>1</th>\n",
              "      <td>2017-01-01</td>\n",
              "      <td>AA</td>\n",
              "      <td>21</td>\n",
              "      <td>JFK</td>\n",
              "      <td>LAX</td>\n",
              "      <td>1900</td>\n",
              "      <td>1922.0</td>\n",
              "      <td>22.0</td>\n",
              "      <td>20.0</td>\n",
              "      <td>1942.0</td>\n",
              "      <td>...</td>\n",
              "      <td>407.0</td>\n",
              "      <td>416.0</td>\n",
              "      <td>359.0</td>\n",
              "      <td>2475.0</td>\n",
              "      <td>22.0</td>\n",
              "      <td>0.0</td>\n",
              "      <td>9.0</td>\n",
              "      <td>0.0</td>\n",
              "      <td>0.0</td>\n",
              "      <td>NaN</td>\n",
              "    </tr>\n",
              "    <tr>\n",
              "      <th>2</th>\n",
              "      <td>2017-01-01</td>\n",
              "      <td>AA</td>\n",
              "      <td>22</td>\n",
              "      <td>LAX</td>\n",
              "      <td>JFK</td>\n",
              "      <td>1340</td>\n",
              "      <td>1346.0</td>\n",
              "      <td>6.0</td>\n",
              "      <td>14.0</td>\n",
              "      <td>1400.0</td>\n",
              "      <td>...</td>\n",
              "      <td>328.0</td>\n",
              "      <td>317.0</td>\n",
              "      <td>289.0</td>\n",
              "      <td>2475.0</td>\n",
              "      <td>NaN</td>\n",
              "      <td>NaN</td>\n",
              "      <td>NaN</td>\n",
              "      <td>NaN</td>\n",
              "      <td>NaN</td>\n",
              "      <td>NaN</td>\n",
              "    </tr>\n",
              "    <tr>\n",
              "      <th>3</th>\n",
              "      <td>2017-01-01</td>\n",
              "      <td>AA</td>\n",
              "      <td>23</td>\n",
              "      <td>JFK</td>\n",
              "      <td>LAX</td>\n",
              "      <td>2215</td>\n",
              "      <td>2225.0</td>\n",
              "      <td>10.0</td>\n",
              "      <td>23.0</td>\n",
              "      <td>2248.0</td>\n",
              "      <td>...</td>\n",
              "      <td>402.0</td>\n",
              "      <td>398.0</td>\n",
              "      <td>366.0</td>\n",
              "      <td>2475.0</td>\n",
              "      <td>NaN</td>\n",
              "      <td>NaN</td>\n",
              "      <td>NaN</td>\n",
              "      <td>NaN</td>\n",
              "      <td>NaN</td>\n",
              "      <td>NaN</td>\n",
              "    </tr>\n",
              "    <tr>\n",
              "      <th>4</th>\n",
              "      <td>2017-01-01</td>\n",
              "      <td>AA</td>\n",
              "      <td>33</td>\n",
              "      <td>JFK</td>\n",
              "      <td>LAX</td>\n",
              "      <td>700</td>\n",
              "      <td>656.0</td>\n",
              "      <td>-4.0</td>\n",
              "      <td>26.0</td>\n",
              "      <td>722.0</td>\n",
              "      <td>...</td>\n",
              "      <td>400.0</td>\n",
              "      <td>446.0</td>\n",
              "      <td>363.0</td>\n",
              "      <td>2475.0</td>\n",
              "      <td>0.0</td>\n",
              "      <td>0.0</td>\n",
              "      <td>42.0</td>\n",
              "      <td>0.0</td>\n",
              "      <td>0.0</td>\n",
              "      <td>NaN</td>\n",
              "    </tr>\n",
              "    <tr>\n",
              "      <th>...</th>\n",
              "      <td>...</td>\n",
              "      <td>...</td>\n",
              "      <td>...</td>\n",
              "      <td>...</td>\n",
              "      <td>...</td>\n",
              "      <td>...</td>\n",
              "      <td>...</td>\n",
              "      <td>...</td>\n",
              "      <td>...</td>\n",
              "      <td>...</td>\n",
              "      <td>...</td>\n",
              "      <td>...</td>\n",
              "      <td>...</td>\n",
              "      <td>...</td>\n",
              "      <td>...</td>\n",
              "      <td>...</td>\n",
              "      <td>...</td>\n",
              "      <td>...</td>\n",
              "      <td>...</td>\n",
              "      <td>...</td>\n",
              "      <td>...</td>\n",
              "    </tr>\n",
              "    <tr>\n",
              "      <th>567457</th>\n",
              "      <td>2017-12-31</td>\n",
              "      <td>UA</td>\n",
              "      <td>2099</td>\n",
              "      <td>SAN</td>\n",
              "      <td>IAH</td>\n",
              "      <td>1340</td>\n",
              "      <td>1343.0</td>\n",
              "      <td>3.0</td>\n",
              "      <td>9.0</td>\n",
              "      <td>1352.0</td>\n",
              "      <td>...</td>\n",
              "      <td>188.0</td>\n",
              "      <td>172.0</td>\n",
              "      <td>154.0</td>\n",
              "      <td>1303.0</td>\n",
              "      <td>NaN</td>\n",
              "      <td>NaN</td>\n",
              "      <td>NaN</td>\n",
              "      <td>NaN</td>\n",
              "      <td>NaN</td>\n",
              "      <td>NaN</td>\n",
              "    </tr>\n",
              "    <tr>\n",
              "      <th>567458</th>\n",
              "      <td>2017-12-31</td>\n",
              "      <td>UA</td>\n",
              "      <td>2121</td>\n",
              "      <td>IAH</td>\n",
              "      <td>EWR</td>\n",
              "      <td>610</td>\n",
              "      <td>605.0</td>\n",
              "      <td>-5.0</td>\n",
              "      <td>14.0</td>\n",
              "      <td>619.0</td>\n",
              "      <td>...</td>\n",
              "      <td>207.0</td>\n",
              "      <td>191.0</td>\n",
              "      <td>170.0</td>\n",
              "      <td>1400.0</td>\n",
              "      <td>NaN</td>\n",
              "      <td>NaN</td>\n",
              "      <td>NaN</td>\n",
              "      <td>NaN</td>\n",
              "      <td>NaN</td>\n",
              "      <td>NaN</td>\n",
              "    </tr>\n",
              "    <tr>\n",
              "      <th>567459</th>\n",
              "      <td>2017-12-31</td>\n",
              "      <td>UA</td>\n",
              "      <td>2124</td>\n",
              "      <td>MCO</td>\n",
              "      <td>EWR</td>\n",
              "      <td>1003</td>\n",
              "      <td>954.0</td>\n",
              "      <td>-9.0</td>\n",
              "      <td>13.0</td>\n",
              "      <td>1007.0</td>\n",
              "      <td>...</td>\n",
              "      <td>152.0</td>\n",
              "      <td>139.0</td>\n",
              "      <td>121.0</td>\n",
              "      <td>937.0</td>\n",
              "      <td>NaN</td>\n",
              "      <td>NaN</td>\n",
              "      <td>NaN</td>\n",
              "      <td>NaN</td>\n",
              "      <td>NaN</td>\n",
              "      <td>NaN</td>\n",
              "    </tr>\n",
              "    <tr>\n",
              "      <th>567460</th>\n",
              "      <td>2017-12-31</td>\n",
              "      <td>UA</td>\n",
              "      <td>2381</td>\n",
              "      <td>MIA</td>\n",
              "      <td>ORD</td>\n",
              "      <td>718</td>\n",
              "      <td>708.0</td>\n",
              "      <td>-10.0</td>\n",
              "      <td>17.0</td>\n",
              "      <td>725.0</td>\n",
              "      <td>...</td>\n",
              "      <td>201.0</td>\n",
              "      <td>202.0</td>\n",
              "      <td>166.0</td>\n",
              "      <td>1197.0</td>\n",
              "      <td>NaN</td>\n",
              "      <td>NaN</td>\n",
              "      <td>NaN</td>\n",
              "      <td>NaN</td>\n",
              "      <td>NaN</td>\n",
              "      <td>NaN</td>\n",
              "    </tr>\n",
              "    <tr>\n",
              "      <th>567461</th>\n",
              "      <td>2017-12-31</td>\n",
              "      <td>UA</td>\n",
              "      <td>2381</td>\n",
              "      <td>ORD</td>\n",
              "      <td>SAN</td>\n",
              "      <td>1225</td>\n",
              "      <td>1416.0</td>\n",
              "      <td>111.0</td>\n",
              "      <td>16.0</td>\n",
              "      <td>1432.0</td>\n",
              "      <td>...</td>\n",
              "      <td>266.0</td>\n",
              "      <td>258.0</td>\n",
              "      <td>239.0</td>\n",
              "      <td>1723.0</td>\n",
              "      <td>2.0</td>\n",
              "      <td>0.0</td>\n",
              "      <td>0.0</td>\n",
              "      <td>0.0</td>\n",
              "      <td>101.0</td>\n",
              "      <td>NaN</td>\n",
              "    </tr>\n",
              "  </tbody>\n",
              "</table>\n",
              "<p>567462 rows × 28 columns</p>\n",
              "</div>\n",
              "      <button class=\"colab-df-convert\" onclick=\"convertToInteractive('df-a1b8fb6d-199d-44b1-bed8-d6eecfd2cd5f')\"\n",
              "              title=\"Convert this dataframe to an interactive table.\"\n",
              "              style=\"display:none;\">\n",
              "        \n",
              "  <svg xmlns=\"http://www.w3.org/2000/svg\" height=\"24px\"viewBox=\"0 0 24 24\"\n",
              "       width=\"24px\">\n",
              "    <path d=\"M0 0h24v24H0V0z\" fill=\"none\"/>\n",
              "    <path d=\"M18.56 5.44l.94 2.06.94-2.06 2.06-.94-2.06-.94-.94-2.06-.94 2.06-2.06.94zm-11 1L8.5 8.5l.94-2.06 2.06-.94-2.06-.94L8.5 2.5l-.94 2.06-2.06.94zm10 10l.94 2.06.94-2.06 2.06-.94-2.06-.94-.94-2.06-.94 2.06-2.06.94z\"/><path d=\"M17.41 7.96l-1.37-1.37c-.4-.4-.92-.59-1.43-.59-.52 0-1.04.2-1.43.59L10.3 9.45l-7.72 7.72c-.78.78-.78 2.05 0 2.83L4 21.41c.39.39.9.59 1.41.59.51 0 1.02-.2 1.41-.59l7.78-7.78 2.81-2.81c.8-.78.8-2.07 0-2.86zM5.41 20L4 18.59l7.72-7.72 1.47 1.35L5.41 20z\"/>\n",
              "  </svg>\n",
              "      </button>\n",
              "      \n",
              "  <style>\n",
              "    .colab-df-container {\n",
              "      display:flex;\n",
              "      flex-wrap:wrap;\n",
              "      gap: 12px;\n",
              "    }\n",
              "\n",
              "    .colab-df-convert {\n",
              "      background-color: #E8F0FE;\n",
              "      border: none;\n",
              "      border-radius: 50%;\n",
              "      cursor: pointer;\n",
              "      display: none;\n",
              "      fill: #1967D2;\n",
              "      height: 32px;\n",
              "      padding: 0 0 0 0;\n",
              "      width: 32px;\n",
              "    }\n",
              "\n",
              "    .colab-df-convert:hover {\n",
              "      background-color: #E2EBFA;\n",
              "      box-shadow: 0px 1px 2px rgba(60, 64, 67, 0.3), 0px 1px 3px 1px rgba(60, 64, 67, 0.15);\n",
              "      fill: #174EA6;\n",
              "    }\n",
              "\n",
              "    [theme=dark] .colab-df-convert {\n",
              "      background-color: #3B4455;\n",
              "      fill: #D2E3FC;\n",
              "    }\n",
              "\n",
              "    [theme=dark] .colab-df-convert:hover {\n",
              "      background-color: #434B5C;\n",
              "      box-shadow: 0px 1px 3px 1px rgba(0, 0, 0, 0.15);\n",
              "      filter: drop-shadow(0px 1px 2px rgba(0, 0, 0, 0.3));\n",
              "      fill: #FFFFFF;\n",
              "    }\n",
              "  </style>\n",
              "\n",
              "      <script>\n",
              "        const buttonEl =\n",
              "          document.querySelector('#df-a1b8fb6d-199d-44b1-bed8-d6eecfd2cd5f button.colab-df-convert');\n",
              "        buttonEl.style.display =\n",
              "          google.colab.kernel.accessAllowed ? 'block' : 'none';\n",
              "\n",
              "        async function convertToInteractive(key) {\n",
              "          const element = document.querySelector('#df-a1b8fb6d-199d-44b1-bed8-d6eecfd2cd5f');\n",
              "          const dataTable =\n",
              "            await google.colab.kernel.invokeFunction('convertToInteractive',\n",
              "                                                     [key], {});\n",
              "          if (!dataTable) return;\n",
              "\n",
              "          const docLinkHtml = 'Like what you see? Visit the ' +\n",
              "            '<a target=\"_blank\" href=https://colab.research.google.com/notebooks/data_table.ipynb>data table notebook</a>'\n",
              "            + ' to learn more about interactive tables.';\n",
              "          element.innerHTML = '';\n",
              "          dataTable['output_type'] = 'display_data';\n",
              "          await google.colab.output.renderOutput(dataTable, element);\n",
              "          const docLink = document.createElement('div');\n",
              "          docLink.innerHTML = docLinkHtml;\n",
              "          element.appendChild(docLink);\n",
              "        }\n",
              "      </script>\n",
              "    </div>\n",
              "  </div>\n",
              "  "
            ]
          },
          "metadata": {},
          "execution_count": 9
        }
      ]
    },
    {
      "cell_type": "code",
      "execution_count": null,
      "metadata": {
        "id": "cfcSY6YSVJJ6",
        "colab": {
          "base_uri": "https://localhost:8080/"
        },
        "outputId": "d9d182ac-ae35-4dad-c6ad-af36df90e376"
      },
      "outputs": [
        {
          "output_type": "execute_result",
          "data": {
            "text/plain": [
              "<bound method DataFrame.info of            FL_DATE OP_CARRIER  OP_CARRIER_FL_NUM ORIGIN DEST  CRS_DEP_TIME  \\\n",
              "0       2017-01-01         AA                 20    SFO  JFK          1530   \n",
              "1       2017-01-01         AA                 21    JFK  LAX          1900   \n",
              "2       2017-01-01         AA                 22    LAX  JFK          1340   \n",
              "3       2017-01-01         AA                 23    JFK  LAX          2215   \n",
              "4       2017-01-01         AA                 33    JFK  LAX           700   \n",
              "...            ...        ...                ...    ...  ...           ...   \n",
              "567457  2017-12-31         UA               2099    SAN  IAH          1340   \n",
              "567458  2017-12-31         UA               2121    IAH  EWR           610   \n",
              "567459  2017-12-31         UA               2124    MCO  EWR          1003   \n",
              "567460  2017-12-31         UA               2381    MIA  ORD           718   \n",
              "567461  2017-12-31         UA               2381    ORD  SAN          1225   \n",
              "\n",
              "        DEP_TIME  DEP_DELAY  TAXI_OUT  WHEELS_OFF  ...  CRS_ELAPSED_TIME  \\\n",
              "0         1525.0       -5.0      16.0      1541.0  ...             327.0   \n",
              "1         1922.0       22.0      20.0      1942.0  ...             407.0   \n",
              "2         1346.0        6.0      14.0      1400.0  ...             328.0   \n",
              "3         2225.0       10.0      23.0      2248.0  ...             402.0   \n",
              "4          656.0       -4.0      26.0       722.0  ...             400.0   \n",
              "...          ...        ...       ...         ...  ...               ...   \n",
              "567457    1343.0        3.0       9.0      1352.0  ...             188.0   \n",
              "567458     605.0       -5.0      14.0       619.0  ...             207.0   \n",
              "567459     954.0       -9.0      13.0      1007.0  ...             152.0   \n",
              "567460     708.0      -10.0      17.0       725.0  ...             201.0   \n",
              "567461    1416.0      111.0      16.0      1432.0  ...             266.0   \n",
              "\n",
              "        ACTUAL_ELAPSED_TIME  AIR_TIME  DISTANCE  CARRIER_DELAY  WEATHER_DELAY  \\\n",
              "0                     308.0     278.0    2586.0            NaN            NaN   \n",
              "1                     416.0     359.0    2475.0           22.0            0.0   \n",
              "2                     317.0     289.0    2475.0            NaN            NaN   \n",
              "3                     398.0     366.0    2475.0            NaN            NaN   \n",
              "4                     446.0     363.0    2475.0            0.0            0.0   \n",
              "...                     ...       ...       ...            ...            ...   \n",
              "567457                172.0     154.0    1303.0            NaN            NaN   \n",
              "567458                191.0     170.0    1400.0            NaN            NaN   \n",
              "567459                139.0     121.0     937.0            NaN            NaN   \n",
              "567460                202.0     166.0    1197.0            NaN            NaN   \n",
              "567461                258.0     239.0    1723.0            2.0            0.0   \n",
              "\n",
              "       NAS_DELAY  SECURITY_DELAY  LATE_AIRCRAFT_DELAY  Unnamed: 27  \n",
              "0            NaN             NaN                  NaN          NaN  \n",
              "1            9.0             0.0                  0.0          NaN  \n",
              "2            NaN             NaN                  NaN          NaN  \n",
              "3            NaN             NaN                  NaN          NaN  \n",
              "4           42.0             0.0                  0.0          NaN  \n",
              "...          ...             ...                  ...          ...  \n",
              "567457       NaN             NaN                  NaN          NaN  \n",
              "567458       NaN             NaN                  NaN          NaN  \n",
              "567459       NaN             NaN                  NaN          NaN  \n",
              "567460       NaN             NaN                  NaN          NaN  \n",
              "567461       0.0             0.0                101.0          NaN  \n",
              "\n",
              "[567462 rows x 28 columns]>"
            ]
          },
          "metadata": {},
          "execution_count": 10
        }
      ],
      "source": [
        "df.info"
      ]
    },
    {
      "cell_type": "markdown",
      "source": [
        "Remove the column that contribute many null values"
      ],
      "metadata": {
        "id": "LqIkhVY23ybp"
      }
    },
    {
      "cell_type": "code",
      "source": [
        "df.drop(['Unnamed: 27', 'CANCELLATION_CODE', 'CARRIER_DELAY', 'WEATHER_DELAY', 'NAS_DELAY', 'SECURITY_DELAY', 'LATE_AIRCRAFT_DELAY'], axis=1, inplace=True)"
      ],
      "metadata": {
        "id": "OQPMKicFuI5A"
      },
      "execution_count": null,
      "outputs": []
    },
    {
      "cell_type": "code",
      "source": [
        "df.isnull().any(axis=1).sum()"
      ],
      "metadata": {
        "colab": {
          "base_uri": "https://localhost:8080/"
        },
        "id": "MqIvjAI5u3pB",
        "outputId": "0eac4462-2742-4f1d-f87f-a57808b9a598"
      },
      "execution_count": null,
      "outputs": [
        {
          "output_type": "execute_result",
          "data": {
            "text/plain": [
              "9523"
            ]
          },
          "metadata": {},
          "execution_count": 12
        }
      ]
    },
    {
      "cell_type": "markdown",
      "source": [
        "## **Remove rows with null value**\n",
        "\n"
      ],
      "metadata": {
        "id": "f55nlyfxQpmR"
      }
    },
    {
      "cell_type": "code",
      "source": [
        "df.dropna(inplace=True)"
      ],
      "metadata": {
        "id": "Jeuu9hh0QtKw"
      },
      "execution_count": null,
      "outputs": []
    },
    {
      "cell_type": "code",
      "execution_count": null,
      "metadata": {
        "id": "1Et9QhCbVJJ6",
        "colab": {
          "base_uri": "https://localhost:8080/"
        },
        "outputId": "ba2d7f50-04ca-4440-cda4-407b7fddf703"
      },
      "outputs": [
        {
          "output_type": "execute_result",
          "data": {
            "text/plain": [
              "<bound method DataFrame.info of            FL_DATE OP_CARRIER  OP_CARRIER_FL_NUM ORIGIN DEST  CRS_DEP_TIME  \\\n",
              "0       2017-01-01         AA                 20    SFO  JFK          1530   \n",
              "1       2017-01-01         AA                 21    JFK  LAX          1900   \n",
              "2       2017-01-01         AA                 22    LAX  JFK          1340   \n",
              "3       2017-01-01         AA                 23    JFK  LAX          2215   \n",
              "4       2017-01-01         AA                 33    JFK  LAX           700   \n",
              "...            ...        ...                ...    ...  ...           ...   \n",
              "567457  2017-12-31         UA               2099    SAN  IAH          1340   \n",
              "567458  2017-12-31         UA               2121    IAH  EWR           610   \n",
              "567459  2017-12-31         UA               2124    MCO  EWR          1003   \n",
              "567460  2017-12-31         UA               2381    MIA  ORD           718   \n",
              "567461  2017-12-31         UA               2381    ORD  SAN          1225   \n",
              "\n",
              "        DEP_TIME  DEP_DELAY  TAXI_OUT  WHEELS_OFF  ...  TAXI_IN  CRS_ARR_TIME  \\\n",
              "0         1525.0       -5.0      16.0      1541.0  ...     14.0          2357   \n",
              "1         1922.0       22.0      20.0      1942.0  ...     37.0          2247   \n",
              "2         1346.0        6.0      14.0      1400.0  ...     14.0          2208   \n",
              "3         2225.0       10.0      23.0      2248.0  ...      9.0           157   \n",
              "4          656.0       -4.0      26.0       722.0  ...     57.0          1040   \n",
              "...          ...        ...       ...         ...  ...      ...           ...   \n",
              "567457    1343.0        3.0       9.0      1352.0  ...      9.0          1848   \n",
              "567458     605.0       -5.0      14.0       619.0  ...      7.0          1037   \n",
              "567459     954.0       -9.0      13.0      1007.0  ...      5.0          1235   \n",
              "567460     708.0      -10.0      17.0       725.0  ...     19.0           939   \n",
              "567461    1416.0      111.0      16.0      1432.0  ...      3.0          1451   \n",
              "\n",
              "        ARR_TIME  ARR_DELAY  CANCELLED  DIVERTED  CRS_ELAPSED_TIME  \\\n",
              "0         2333.0      -24.0        0.0       0.0             327.0   \n",
              "1         2318.0       31.0        0.0       0.0             407.0   \n",
              "2         2203.0       -5.0        0.0       0.0             328.0   \n",
              "3          203.0        6.0        0.0       0.0             402.0   \n",
              "4         1122.0       42.0        0.0       0.0             400.0   \n",
              "...          ...        ...        ...       ...               ...   \n",
              "567457    1835.0      -13.0        0.0       0.0             188.0   \n",
              "567458    1016.0      -21.0        0.0       0.0             207.0   \n",
              "567459    1213.0      -22.0        0.0       0.0             152.0   \n",
              "567460     930.0       -9.0        0.0       0.0             201.0   \n",
              "567461    1634.0      103.0        0.0       0.0             266.0   \n",
              "\n",
              "        ACTUAL_ELAPSED_TIME  AIR_TIME  DISTANCE  \n",
              "0                     308.0     278.0    2586.0  \n",
              "1                     416.0     359.0    2475.0  \n",
              "2                     317.0     289.0    2475.0  \n",
              "3                     398.0     366.0    2475.0  \n",
              "4                     446.0     363.0    2475.0  \n",
              "...                     ...       ...       ...  \n",
              "567457                172.0     154.0    1303.0  \n",
              "567458                191.0     170.0    1400.0  \n",
              "567459                139.0     121.0     937.0  \n",
              "567460                202.0     166.0    1197.0  \n",
              "567461                258.0     239.0    1723.0  \n",
              "\n",
              "[557939 rows x 21 columns]>"
            ]
          },
          "metadata": {},
          "execution_count": 14
        }
      ],
      "source": [
        "df.info"
      ]
    },
    {
      "cell_type": "markdown",
      "source": [
        "## **Change Data Type**"
      ],
      "metadata": {
        "id": "N4l14h5C2KdJ"
      }
    },
    {
      "cell_type": "code",
      "execution_count": null,
      "metadata": {
        "id": "yBxDax1KVJJ6",
        "colab": {
          "base_uri": "https://localhost:8080/"
        },
        "outputId": "00d30e25-1d03-4635-cb4f-dd83d14ac290"
      },
      "outputs": [
        {
          "output_type": "execute_result",
          "data": {
            "text/plain": [
              "FL_DATE                 object\n",
              "OP_CARRIER              object\n",
              "OP_CARRIER_FL_NUM        int64\n",
              "ORIGIN                  object\n",
              "DEST                    object\n",
              "CRS_DEP_TIME             int64\n",
              "DEP_TIME               float64\n",
              "DEP_DELAY              float64\n",
              "TAXI_OUT               float64\n",
              "WHEELS_OFF             float64\n",
              "WHEELS_ON              float64\n",
              "TAXI_IN                float64\n",
              "CRS_ARR_TIME             int64\n",
              "ARR_TIME               float64\n",
              "ARR_DELAY              float64\n",
              "CANCELLED              float64\n",
              "DIVERTED               float64\n",
              "CRS_ELAPSED_TIME       float64\n",
              "ACTUAL_ELAPSED_TIME    float64\n",
              "AIR_TIME               float64\n",
              "DISTANCE               float64\n",
              "dtype: object"
            ]
          },
          "metadata": {},
          "execution_count": 15
        }
      ],
      "source": [
        "df.dtypes"
      ]
    },
    {
      "cell_type": "markdown",
      "source": [
        "Convert string to DateTime"
      ],
      "metadata": {
        "id": "HszHbieZFtrr"
      }
    },
    {
      "cell_type": "code",
      "source": [
        "df['FL_DATE'] = pd.to_datetime(df['FL_DATE'])"
      ],
      "metadata": {
        "id": "XbzjHFCnFNCS"
      },
      "execution_count": null,
      "outputs": []
    },
    {
      "cell_type": "code",
      "source": [
        "df['FL_DATE_month'] = pd.to_datetime(df['FL_DATE']).dt.month"
      ],
      "metadata": {
        "id": "B6jtMp9JF1QT"
      },
      "execution_count": null,
      "outputs": []
    },
    {
      "cell_type": "markdown",
      "source": [
        "**Filter non-delayed flights (negative)**"
      ],
      "metadata": {
        "id": "x7bpF3UwGc5r"
      }
    },
    {
      "cell_type": "code",
      "source": [
        "df = df[(df['ARR_DELAY'] > 0)] \n",
        "df = df[(df['DEP_DELAY'] > 0)] "
      ],
      "metadata": {
        "id": "4Na01LaXGaB_"
      },
      "execution_count": null,
      "outputs": []
    },
    {
      "cell_type": "markdown",
      "source": [
        "## **Others**"
      ],
      "metadata": {
        "id": "bIhgCn_c2P1q"
      }
    },
    {
      "cell_type": "markdown",
      "source": [
        "**Change minutes to hours**"
      ],
      "metadata": {
        "id": "WCUzDNC62Xco"
      }
    },
    {
      "cell_type": "code",
      "source": [
        "df['ARR_DELAY'] = df['ARR_DELAY'] / 60\n",
        "df['DEP_DELAY'] = df['DEP_DELAY'] / 60"
      ],
      "metadata": {
        "id": "SkwtKOvSG9qV"
      },
      "execution_count": null,
      "outputs": []
    },
    {
      "cell_type": "markdown",
      "source": [
        "**Rename airlines name**"
      ],
      "metadata": {
        "id": "7eDEmJ8P2uCb"
      }
    },
    {
      "cell_type": "code",
      "source": [
        "df['OP_CARRIER'].replace({\n",
        "    'UA':'United Airlines',\n",
        "    'AS':'Alaska Airlines',\n",
        "    '9E':'Endeavor Air',\n",
        "    'B6':'JetBlue Airways',\n",
        "    'EV':'ExpressJet',\n",
        "    'F9':'Frontier Airlines',\n",
        "    'G4':'Allegiant Air',\n",
        "    'HA':'Hawaiian Airlines',\n",
        "    'MQ':'Envoy Air',\n",
        "    'NK':'Spirit Airlines',\n",
        "    'OH':'PSA Airlines',\n",
        "    'OO':'SkyWest Airlines',\n",
        "    'VX':'Virgin America',\n",
        "    'WN':'Southwest Airlines',\n",
        "    'YV':'Mesa Airline',\n",
        "    'YX':'Republic Airways',\n",
        "    'AA':'American Airlines',\n",
        "    'DL':'Delta Airlines'\n",
        "},inplace=True)"
      ],
      "metadata": {
        "id": "0l7yX6pFEmi6"
      },
      "execution_count": null,
      "outputs": []
    },
    {
      "cell_type": "markdown",
      "metadata": {
        "id": "_0m5LkbVVJJ6"
      },
      "source": [
        "# **Exploratory Analysis and Visualization**\n",
        "\n"
      ]
    },
    {
      "cell_type": "markdown",
      "metadata": {
        "id": "RuPTpsGWVJJ7"
      },
      "source": [
        "Let's begin by importing`matplotlib.pyplot` and `seaborn`."
      ]
    },
    {
      "cell_type": "code",
      "execution_count": null,
      "metadata": {
        "id": "zOTtwqAMVJJ7"
      },
      "outputs": [],
      "source": [
        "import seaborn as sns\n",
        "import matplotlib\n",
        "import matplotlib.pyplot as plt\n",
        "%matplotlib inline\n",
        "\n",
        "sns.set_style('darkgrid')\n",
        "matplotlib.rcParams['font.size'] = 14\n",
        "matplotlib.rcParams['figure.figsize'] = (9, 5)\n",
        "matplotlib.rcParams['figure.facecolor'] = '#00000000'"
      ]
    },
    {
      "cell_type": "code",
      "source": [
        "df.describe()"
      ],
      "metadata": {
        "colab": {
          "base_uri": "https://localhost:8080/",
          "height": 364
        },
        "id": "IzkKBdvb40sn",
        "outputId": "47159bc7-aef6-4c06-804b-ccb9246107e7"
      },
      "execution_count": null,
      "outputs": [
        {
          "output_type": "execute_result",
          "data": {
            "text/plain": [
              "       OP_CARRIER_FL_NUM   CRS_DEP_TIME       DEP_TIME      DEP_DELAY  \\\n",
              "count      139653.000000  139653.000000  139653.000000  139653.000000   \n",
              "mean         2168.219200    1476.999413    1519.581133       0.810369   \n",
              "std          1762.262152     450.133621     482.275306       1.239021   \n",
              "min             1.000000       1.000000       1.000000       0.016667   \n",
              "25%           719.000000    1130.000000    1156.000000       0.200000   \n",
              "50%          1678.000000    1524.000000    1553.000000       0.433333   \n",
              "75%          3245.000000    1835.000000    1915.000000       0.966667   \n",
              "max          7439.000000    2359.000000    2400.000000      27.466667   \n",
              "\n",
              "            TAXI_OUT     WHEELS_OFF      WHEELS_ON        TAXI_IN  \\\n",
              "count  139653.000000  139653.000000  139653.000000  139653.000000   \n",
              "mean       18.709229    1539.129872    1578.101079       7.664626   \n",
              "std        12.010986     490.330482     589.915547       6.638329   \n",
              "min         1.000000       1.000000       1.000000       1.000000   \n",
              "25%        11.000000    1210.000000    1249.000000       4.000000   \n",
              "50%        15.000000    1608.000000    1710.000000       6.000000   \n",
              "75%        22.000000    1930.000000    2033.000000       9.000000   \n",
              "max       183.000000    2400.000000    2400.000000     377.000000   \n",
              "\n",
              "        CRS_ARR_TIME       ARR_TIME      ARR_DELAY  CANCELLED  DIVERTED  \\\n",
              "count  139653.000000  139653.000000  139653.000000   139653.0  139653.0   \n",
              "mean     1620.311988    1573.312267       0.787551        0.0       0.0   \n",
              "std       512.534249     601.923269       1.239293        0.0       0.0   \n",
              "min         1.000000       1.000000       0.016667        0.0       0.0   \n",
              "25%      1310.000000    1247.000000       0.166667        0.0       0.0   \n",
              "50%      1712.000000    1712.000000       0.400000        0.0       0.0   \n",
              "75%      2027.000000    2035.000000       0.933333        0.0       0.0   \n",
              "max      2359.000000    2400.000000      27.600000        0.0       0.0   \n",
              "\n",
              "       CRS_ELAPSED_TIME  ACTUAL_ELAPSED_TIME       AIR_TIME       DISTANCE  \\\n",
              "count     139653.000000        139653.000000  139653.000000  139653.000000   \n",
              "mean         146.237968           144.868882     118.495027     857.361324   \n",
              "std           77.112526            78.188817      74.966805     622.016827   \n",
              "min           18.000000            15.000000       8.000000      31.000000   \n",
              "25%           88.000000            86.000000      62.000000     386.000000   \n",
              "50%          128.000000           126.000000      99.000000     687.000000   \n",
              "75%          180.000000           179.000000     150.000000    1099.000000   \n",
              "max          712.000000           730.000000     687.000000    4983.000000   \n",
              "\n",
              "       FL_DATE_month  \n",
              "count  139653.000000  \n",
              "mean        6.327841  \n",
              "std         3.306265  \n",
              "min         1.000000  \n",
              "25%         4.000000  \n",
              "50%         6.000000  \n",
              "75%         9.000000  \n",
              "max        12.000000  "
            ],
            "text/html": [
              "\n",
              "  <div id=\"df-d7db99ec-e18a-4be7-9680-6feaf3f90867\">\n",
              "    <div class=\"colab-df-container\">\n",
              "      <div>\n",
              "<style scoped>\n",
              "    .dataframe tbody tr th:only-of-type {\n",
              "        vertical-align: middle;\n",
              "    }\n",
              "\n",
              "    .dataframe tbody tr th {\n",
              "        vertical-align: top;\n",
              "    }\n",
              "\n",
              "    .dataframe thead th {\n",
              "        text-align: right;\n",
              "    }\n",
              "</style>\n",
              "<table border=\"1\" class=\"dataframe\">\n",
              "  <thead>\n",
              "    <tr style=\"text-align: right;\">\n",
              "      <th></th>\n",
              "      <th>OP_CARRIER_FL_NUM</th>\n",
              "      <th>CRS_DEP_TIME</th>\n",
              "      <th>DEP_TIME</th>\n",
              "      <th>DEP_DELAY</th>\n",
              "      <th>TAXI_OUT</th>\n",
              "      <th>WHEELS_OFF</th>\n",
              "      <th>WHEELS_ON</th>\n",
              "      <th>TAXI_IN</th>\n",
              "      <th>CRS_ARR_TIME</th>\n",
              "      <th>ARR_TIME</th>\n",
              "      <th>ARR_DELAY</th>\n",
              "      <th>CANCELLED</th>\n",
              "      <th>DIVERTED</th>\n",
              "      <th>CRS_ELAPSED_TIME</th>\n",
              "      <th>ACTUAL_ELAPSED_TIME</th>\n",
              "      <th>AIR_TIME</th>\n",
              "      <th>DISTANCE</th>\n",
              "      <th>FL_DATE_month</th>\n",
              "    </tr>\n",
              "  </thead>\n",
              "  <tbody>\n",
              "    <tr>\n",
              "      <th>count</th>\n",
              "      <td>139653.000000</td>\n",
              "      <td>139653.000000</td>\n",
              "      <td>139653.000000</td>\n",
              "      <td>139653.000000</td>\n",
              "      <td>139653.000000</td>\n",
              "      <td>139653.000000</td>\n",
              "      <td>139653.000000</td>\n",
              "      <td>139653.000000</td>\n",
              "      <td>139653.000000</td>\n",
              "      <td>139653.000000</td>\n",
              "      <td>139653.000000</td>\n",
              "      <td>139653.0</td>\n",
              "      <td>139653.0</td>\n",
              "      <td>139653.000000</td>\n",
              "      <td>139653.000000</td>\n",
              "      <td>139653.000000</td>\n",
              "      <td>139653.000000</td>\n",
              "      <td>139653.000000</td>\n",
              "    </tr>\n",
              "    <tr>\n",
              "      <th>mean</th>\n",
              "      <td>2168.219200</td>\n",
              "      <td>1476.999413</td>\n",
              "      <td>1519.581133</td>\n",
              "      <td>0.810369</td>\n",
              "      <td>18.709229</td>\n",
              "      <td>1539.129872</td>\n",
              "      <td>1578.101079</td>\n",
              "      <td>7.664626</td>\n",
              "      <td>1620.311988</td>\n",
              "      <td>1573.312267</td>\n",
              "      <td>0.787551</td>\n",
              "      <td>0.0</td>\n",
              "      <td>0.0</td>\n",
              "      <td>146.237968</td>\n",
              "      <td>144.868882</td>\n",
              "      <td>118.495027</td>\n",
              "      <td>857.361324</td>\n",
              "      <td>6.327841</td>\n",
              "    </tr>\n",
              "    <tr>\n",
              "      <th>std</th>\n",
              "      <td>1762.262152</td>\n",
              "      <td>450.133621</td>\n",
              "      <td>482.275306</td>\n",
              "      <td>1.239021</td>\n",
              "      <td>12.010986</td>\n",
              "      <td>490.330482</td>\n",
              "      <td>589.915547</td>\n",
              "      <td>6.638329</td>\n",
              "      <td>512.534249</td>\n",
              "      <td>601.923269</td>\n",
              "      <td>1.239293</td>\n",
              "      <td>0.0</td>\n",
              "      <td>0.0</td>\n",
              "      <td>77.112526</td>\n",
              "      <td>78.188817</td>\n",
              "      <td>74.966805</td>\n",
              "      <td>622.016827</td>\n",
              "      <td>3.306265</td>\n",
              "    </tr>\n",
              "    <tr>\n",
              "      <th>min</th>\n",
              "      <td>1.000000</td>\n",
              "      <td>1.000000</td>\n",
              "      <td>1.000000</td>\n",
              "      <td>0.016667</td>\n",
              "      <td>1.000000</td>\n",
              "      <td>1.000000</td>\n",
              "      <td>1.000000</td>\n",
              "      <td>1.000000</td>\n",
              "      <td>1.000000</td>\n",
              "      <td>1.000000</td>\n",
              "      <td>0.016667</td>\n",
              "      <td>0.0</td>\n",
              "      <td>0.0</td>\n",
              "      <td>18.000000</td>\n",
              "      <td>15.000000</td>\n",
              "      <td>8.000000</td>\n",
              "      <td>31.000000</td>\n",
              "      <td>1.000000</td>\n",
              "    </tr>\n",
              "    <tr>\n",
              "      <th>25%</th>\n",
              "      <td>719.000000</td>\n",
              "      <td>1130.000000</td>\n",
              "      <td>1156.000000</td>\n",
              "      <td>0.200000</td>\n",
              "      <td>11.000000</td>\n",
              "      <td>1210.000000</td>\n",
              "      <td>1249.000000</td>\n",
              "      <td>4.000000</td>\n",
              "      <td>1310.000000</td>\n",
              "      <td>1247.000000</td>\n",
              "      <td>0.166667</td>\n",
              "      <td>0.0</td>\n",
              "      <td>0.0</td>\n",
              "      <td>88.000000</td>\n",
              "      <td>86.000000</td>\n",
              "      <td>62.000000</td>\n",
              "      <td>386.000000</td>\n",
              "      <td>4.000000</td>\n",
              "    </tr>\n",
              "    <tr>\n",
              "      <th>50%</th>\n",
              "      <td>1678.000000</td>\n",
              "      <td>1524.000000</td>\n",
              "      <td>1553.000000</td>\n",
              "      <td>0.433333</td>\n",
              "      <td>15.000000</td>\n",
              "      <td>1608.000000</td>\n",
              "      <td>1710.000000</td>\n",
              "      <td>6.000000</td>\n",
              "      <td>1712.000000</td>\n",
              "      <td>1712.000000</td>\n",
              "      <td>0.400000</td>\n",
              "      <td>0.0</td>\n",
              "      <td>0.0</td>\n",
              "      <td>128.000000</td>\n",
              "      <td>126.000000</td>\n",
              "      <td>99.000000</td>\n",
              "      <td>687.000000</td>\n",
              "      <td>6.000000</td>\n",
              "    </tr>\n",
              "    <tr>\n",
              "      <th>75%</th>\n",
              "      <td>3245.000000</td>\n",
              "      <td>1835.000000</td>\n",
              "      <td>1915.000000</td>\n",
              "      <td>0.966667</td>\n",
              "      <td>22.000000</td>\n",
              "      <td>1930.000000</td>\n",
              "      <td>2033.000000</td>\n",
              "      <td>9.000000</td>\n",
              "      <td>2027.000000</td>\n",
              "      <td>2035.000000</td>\n",
              "      <td>0.933333</td>\n",
              "      <td>0.0</td>\n",
              "      <td>0.0</td>\n",
              "      <td>180.000000</td>\n",
              "      <td>179.000000</td>\n",
              "      <td>150.000000</td>\n",
              "      <td>1099.000000</td>\n",
              "      <td>9.000000</td>\n",
              "    </tr>\n",
              "    <tr>\n",
              "      <th>max</th>\n",
              "      <td>7439.000000</td>\n",
              "      <td>2359.000000</td>\n",
              "      <td>2400.000000</td>\n",
              "      <td>27.466667</td>\n",
              "      <td>183.000000</td>\n",
              "      <td>2400.000000</td>\n",
              "      <td>2400.000000</td>\n",
              "      <td>377.000000</td>\n",
              "      <td>2359.000000</td>\n",
              "      <td>2400.000000</td>\n",
              "      <td>27.600000</td>\n",
              "      <td>0.0</td>\n",
              "      <td>0.0</td>\n",
              "      <td>712.000000</td>\n",
              "      <td>730.000000</td>\n",
              "      <td>687.000000</td>\n",
              "      <td>4983.000000</td>\n",
              "      <td>12.000000</td>\n",
              "    </tr>\n",
              "  </tbody>\n",
              "</table>\n",
              "</div>\n",
              "      <button class=\"colab-df-convert\" onclick=\"convertToInteractive('df-d7db99ec-e18a-4be7-9680-6feaf3f90867')\"\n",
              "              title=\"Convert this dataframe to an interactive table.\"\n",
              "              style=\"display:none;\">\n",
              "        \n",
              "  <svg xmlns=\"http://www.w3.org/2000/svg\" height=\"24px\"viewBox=\"0 0 24 24\"\n",
              "       width=\"24px\">\n",
              "    <path d=\"M0 0h24v24H0V0z\" fill=\"none\"/>\n",
              "    <path d=\"M18.56 5.44l.94 2.06.94-2.06 2.06-.94-2.06-.94-.94-2.06-.94 2.06-2.06.94zm-11 1L8.5 8.5l.94-2.06 2.06-.94-2.06-.94L8.5 2.5l-.94 2.06-2.06.94zm10 10l.94 2.06.94-2.06 2.06-.94-2.06-.94-.94-2.06-.94 2.06-2.06.94z\"/><path d=\"M17.41 7.96l-1.37-1.37c-.4-.4-.92-.59-1.43-.59-.52 0-1.04.2-1.43.59L10.3 9.45l-7.72 7.72c-.78.78-.78 2.05 0 2.83L4 21.41c.39.39.9.59 1.41.59.51 0 1.02-.2 1.41-.59l7.78-7.78 2.81-2.81c.8-.78.8-2.07 0-2.86zM5.41 20L4 18.59l7.72-7.72 1.47 1.35L5.41 20z\"/>\n",
              "  </svg>\n",
              "      </button>\n",
              "      \n",
              "  <style>\n",
              "    .colab-df-container {\n",
              "      display:flex;\n",
              "      flex-wrap:wrap;\n",
              "      gap: 12px;\n",
              "    }\n",
              "\n",
              "    .colab-df-convert {\n",
              "      background-color: #E8F0FE;\n",
              "      border: none;\n",
              "      border-radius: 50%;\n",
              "      cursor: pointer;\n",
              "      display: none;\n",
              "      fill: #1967D2;\n",
              "      height: 32px;\n",
              "      padding: 0 0 0 0;\n",
              "      width: 32px;\n",
              "    }\n",
              "\n",
              "    .colab-df-convert:hover {\n",
              "      background-color: #E2EBFA;\n",
              "      box-shadow: 0px 1px 2px rgba(60, 64, 67, 0.3), 0px 1px 3px 1px rgba(60, 64, 67, 0.15);\n",
              "      fill: #174EA6;\n",
              "    }\n",
              "\n",
              "    [theme=dark] .colab-df-convert {\n",
              "      background-color: #3B4455;\n",
              "      fill: #D2E3FC;\n",
              "    }\n",
              "\n",
              "    [theme=dark] .colab-df-convert:hover {\n",
              "      background-color: #434B5C;\n",
              "      box-shadow: 0px 1px 3px 1px rgba(0, 0, 0, 0.15);\n",
              "      filter: drop-shadow(0px 1px 2px rgba(0, 0, 0, 0.3));\n",
              "      fill: #FFFFFF;\n",
              "    }\n",
              "  </style>\n",
              "\n",
              "      <script>\n",
              "        const buttonEl =\n",
              "          document.querySelector('#df-d7db99ec-e18a-4be7-9680-6feaf3f90867 button.colab-df-convert');\n",
              "        buttonEl.style.display =\n",
              "          google.colab.kernel.accessAllowed ? 'block' : 'none';\n",
              "\n",
              "        async function convertToInteractive(key) {\n",
              "          const element = document.querySelector('#df-d7db99ec-e18a-4be7-9680-6feaf3f90867');\n",
              "          const dataTable =\n",
              "            await google.colab.kernel.invokeFunction('convertToInteractive',\n",
              "                                                     [key], {});\n",
              "          if (!dataTable) return;\n",
              "\n",
              "          const docLinkHtml = 'Like what you see? Visit the ' +\n",
              "            '<a target=\"_blank\" href=https://colab.research.google.com/notebooks/data_table.ipynb>data table notebook</a>'\n",
              "            + ' to learn more about interactive tables.';\n",
              "          element.innerHTML = '';\n",
              "          dataTable['output_type'] = 'display_data';\n",
              "          await google.colab.output.renderOutput(dataTable, element);\n",
              "          const docLink = document.createElement('div');\n",
              "          docLink.innerHTML = docLinkHtml;\n",
              "          element.appendChild(docLink);\n",
              "        }\n",
              "      </script>\n",
              "    </div>\n",
              "  </div>\n",
              "  "
            ]
          },
          "metadata": {},
          "execution_count": 22
        }
      ]
    },
    {
      "cell_type": "markdown",
      "source": [
        "### **Bar Chart: Mean and Median Departure Delayed per Month**"
      ],
      "metadata": {
        "id": "jbABslqvRE3C"
      }
    },
    {
      "cell_type": "markdown",
      "source": [
        "Calculate the average and median for Departure Delay."
      ],
      "metadata": {
        "id": "SNEQDxk7YSos"
      }
    },
    {
      "cell_type": "code",
      "source": [
        "dep_average = df.groupby('FL_DATE_month').DEP_DELAY.mean()\n",
        "dep_median = df.groupby('FL_DATE_month').DEP_DELAY.median()"
      ],
      "metadata": {
        "id": "OjmTjud5QCOt"
      },
      "execution_count": null,
      "outputs": []
    },
    {
      "cell_type": "code",
      "source": [
        "month = ['January', 'February', 'March', 'April', 'May', 'June', 'July', 'August', 'September', 'October', 'November', 'December']\n",
        "X = np.arange(1,13)\n",
        "\n",
        "fig = plt.figure(figsize=(30, 10))\n",
        "ax = fig.add_axes([0,0,1,1])\n",
        "\n",
        "p1 = ax.bar(X - 0.20, dep_average, color = 'teal', width = 0.40)\n",
        "p2 = ax.bar(X + 0.20, dep_median, color = 'lightsteelblue', width = 0.40)\n",
        "plt.xticks(X, month, fontsize = 20)\n",
        "\n",
        "ax.set_xlabel('Month', fontsize = 20)\n",
        "ax.set_ylabel('Departure delay [hours]', fontsize = 20)\n",
        "ax.set_title('Departure delay per month', fontsize = 24)\n",
        "ax.legend(labels=['mean', 'median'], fontsize = 20)"
      ],
      "metadata": {
        "colab": {
          "base_uri": "https://localhost:8080/",
          "height": 507
        },
        "id": "yw24lcSDU4Uf",
        "outputId": "fcea2718-9525-4700-cb12-01c377a354be"
      },
      "execution_count": null,
      "outputs": [
        {
          "output_type": "execute_result",
          "data": {
            "text/plain": [
              "<matplotlib.legend.Legend at 0x7fa72d042220>"
            ]
          },
          "metadata": {},
          "execution_count": 24
        },
        {
          "output_type": "display_data",
          "data": {
            "text/plain": [
              "<Figure size 2160x720 with 1 Axes>"
            ],
            "image/png": "[encoded data removed]"
          },
          "metadata": {
            "needs_background": "light"
          }
        }
      ]
    },
    {
      "cell_type": "markdown",
      "source": [
        "As we can see in this bar graph, the highest number of departure delay by hours was in April followed by July and June."
      ],
      "metadata": {
        "id": "5T_wqcAjvtTF"
      }
    },
    {
      "cell_type": "markdown",
      "metadata": {
        "id": "nt_CVhi-VJJ8"
      },
      "source": [
        "### **Scatter Plot**"
      ]
    },
    {
      "cell_type": "markdown",
      "source": [
        "Firstly, we need to group our dataset by airline name and month. Then, we calculate the total of departure delay (hours) for each month using .sum() function. "
      ],
      "metadata": {
        "id": "doYXNYUmXpNi"
      }
    },
    {
      "cell_type": "code",
      "source": [
        "total_hours = df.groupby(['OP_CARRIER', 'FL_DATE_month'],as_index=False)['DEP_DELAY'].sum()\n",
        "month = total_hours.FL_DATE_month"
      ],
      "metadata": {
        "id": "aT-ambVlYn9K"
      },
      "execution_count": 70,
      "outputs": []
    },
    {
      "cell_type": "code",
      "source": [
        "total_hours"
      ],
      "metadata": {
        "colab": {
          "base_uri": "https://localhost:8080/",
          "height": 423
        },
        "id": "nbgrbxO7Uz6v",
        "outputId": "42b35122-9ebc-4a1d-c8d1-f52ca86d4036"
      },
      "execution_count": 71,
      "outputs": [
        {
          "output_type": "execute_result",
          "data": {
            "text/plain": [
              "          OP_CARRIER  FL_DATE_month   DEP_DELAY\n",
              "0    Alaska Airlines              1  233.966667\n",
              "1    Alaska Airlines              2  219.516667\n",
              "2    Alaska Airlines              3  200.100000\n",
              "3    Alaska Airlines              4  174.766667\n",
              "4    Alaska Airlines              5  168.716667\n",
              "..               ...            ...         ...\n",
              "139   Virgin America              8  205.450000\n",
              "140   Virgin America              9  109.866667\n",
              "141   Virgin America             10  179.833333\n",
              "142   Virgin America             11   91.733333\n",
              "143   Virgin America             12   73.550000\n",
              "\n",
              "[144 rows x 3 columns]"
            ],
            "text/html": [
              "\n",
              "  <div id=\"df-36badf2a-63dd-4ac6-978c-d152c34df0ab\">\n",
              "    <div class=\"colab-df-container\">\n",
              "      <div>\n",
              "<style scoped>\n",
              "    .dataframe tbody tr th:only-of-type {\n",
              "        vertical-align: middle;\n",
              "    }\n",
              "\n",
              "    .dataframe tbody tr th {\n",
              "        vertical-align: top;\n",
              "    }\n",
              "\n",
              "    .dataframe thead th {\n",
              "        text-align: right;\n",
              "    }\n",
              "</style>\n",
              "<table border=\"1\" class=\"dataframe\">\n",
              "  <thead>\n",
              "    <tr style=\"text-align: right;\">\n",
              "      <th></th>\n",
              "      <th>OP_CARRIER</th>\n",
              "      <th>FL_DATE_month</th>\n",
              "      <th>DEP_DELAY</th>\n",
              "    </tr>\n",
              "  </thead>\n",
              "  <tbody>\n",
              "    <tr>\n",
              "      <th>0</th>\n",
              "      <td>Alaska Airlines</td>\n",
              "      <td>1</td>\n",
              "      <td>233.966667</td>\n",
              "    </tr>\n",
              "    <tr>\n",
              "      <th>1</th>\n",
              "      <td>Alaska Airlines</td>\n",
              "      <td>2</td>\n",
              "      <td>219.516667</td>\n",
              "    </tr>\n",
              "    <tr>\n",
              "      <th>2</th>\n",
              "      <td>Alaska Airlines</td>\n",
              "      <td>3</td>\n",
              "      <td>200.100000</td>\n",
              "    </tr>\n",
              "    <tr>\n",
              "      <th>3</th>\n",
              "      <td>Alaska Airlines</td>\n",
              "      <td>4</td>\n",
              "      <td>174.766667</td>\n",
              "    </tr>\n",
              "    <tr>\n",
              "      <th>4</th>\n",
              "      <td>Alaska Airlines</td>\n",
              "      <td>5</td>\n",
              "      <td>168.716667</td>\n",
              "    </tr>\n",
              "    <tr>\n",
              "      <th>...</th>\n",
              "      <td>...</td>\n",
              "      <td>...</td>\n",
              "      <td>...</td>\n",
              "    </tr>\n",
              "    <tr>\n",
              "      <th>139</th>\n",
              "      <td>Virgin America</td>\n",
              "      <td>8</td>\n",
              "      <td>205.450000</td>\n",
              "    </tr>\n",
              "    <tr>\n",
              "      <th>140</th>\n",
              "      <td>Virgin America</td>\n",
              "      <td>9</td>\n",
              "      <td>109.866667</td>\n",
              "    </tr>\n",
              "    <tr>\n",
              "      <th>141</th>\n",
              "      <td>Virgin America</td>\n",
              "      <td>10</td>\n",
              "      <td>179.833333</td>\n",
              "    </tr>\n",
              "    <tr>\n",
              "      <th>142</th>\n",
              "      <td>Virgin America</td>\n",
              "      <td>11</td>\n",
              "      <td>91.733333</td>\n",
              "    </tr>\n",
              "    <tr>\n",
              "      <th>143</th>\n",
              "      <td>Virgin America</td>\n",
              "      <td>12</td>\n",
              "      <td>73.550000</td>\n",
              "    </tr>\n",
              "  </tbody>\n",
              "</table>\n",
              "<p>144 rows × 3 columns</p>\n",
              "</div>\n",
              "      <button class=\"colab-df-convert\" onclick=\"convertToInteractive('df-36badf2a-63dd-4ac6-978c-d152c34df0ab')\"\n",
              "              title=\"Convert this dataframe to an interactive table.\"\n",
              "              style=\"display:none;\">\n",
              "        \n",
              "  <svg xmlns=\"http://www.w3.org/2000/svg\" height=\"24px\"viewBox=\"0 0 24 24\"\n",
              "       width=\"24px\">\n",
              "    <path d=\"M0 0h24v24H0V0z\" fill=\"none\"/>\n",
              "    <path d=\"M18.56 5.44l.94 2.06.94-2.06 2.06-.94-2.06-.94-.94-2.06-.94 2.06-2.06.94zm-11 1L8.5 8.5l.94-2.06 2.06-.94-2.06-.94L8.5 2.5l-.94 2.06-2.06.94zm10 10l.94 2.06.94-2.06 2.06-.94-2.06-.94-.94-2.06-.94 2.06-2.06.94z\"/><path d=\"M17.41 7.96l-1.37-1.37c-.4-.4-.92-.59-1.43-.59-.52 0-1.04.2-1.43.59L10.3 9.45l-7.72 7.72c-.78.78-.78 2.05 0 2.83L4 21.41c.39.39.9.59 1.41.59.51 0 1.02-.2 1.41-.59l7.78-7.78 2.81-2.81c.8-.78.8-2.07 0-2.86zM5.41 20L4 18.59l7.72-7.72 1.47 1.35L5.41 20z\"/>\n",
              "  </svg>\n",
              "      </button>\n",
              "      \n",
              "  <style>\n",
              "    .colab-df-container {\n",
              "      display:flex;\n",
              "      flex-wrap:wrap;\n",
              "      gap: 12px;\n",
              "    }\n",
              "\n",
              "    .colab-df-convert {\n",
              "      background-color: #E8F0FE;\n",
              "      border: none;\n",
              "      border-radius: 50%;\n",
              "      cursor: pointer;\n",
              "      display: none;\n",
              "      fill: #1967D2;\n",
              "      height: 32px;\n",
              "      padding: 0 0 0 0;\n",
              "      width: 32px;\n",
              "    }\n",
              "\n",
              "    .colab-df-convert:hover {\n",
              "      background-color: #E2EBFA;\n",
              "      box-shadow: 0px 1px 2px rgba(60, 64, 67, 0.3), 0px 1px 3px 1px rgba(60, 64, 67, 0.15);\n",
              "      fill: #174EA6;\n",
              "    }\n",
              "\n",
              "    [theme=dark] .colab-df-convert {\n",
              "      background-color: #3B4455;\n",
              "      fill: #D2E3FC;\n",
              "    }\n",
              "\n",
              "    [theme=dark] .colab-df-convert:hover {\n",
              "      background-color: #434B5C;\n",
              "      box-shadow: 0px 1px 3px 1px rgba(0, 0, 0, 0.15);\n",
              "      filter: drop-shadow(0px 1px 2px rgba(0, 0, 0, 0.3));\n",
              "      fill: #FFFFFF;\n",
              "    }\n",
              "  </style>\n",
              "\n",
              "      <script>\n",
              "        const buttonEl =\n",
              "          document.querySelector('#df-36badf2a-63dd-4ac6-978c-d152c34df0ab button.colab-df-convert');\n",
              "        buttonEl.style.display =\n",
              "          google.colab.kernel.accessAllowed ? 'block' : 'none';\n",
              "\n",
              "        async function convertToInteractive(key) {\n",
              "          const element = document.querySelector('#df-36badf2a-63dd-4ac6-978c-d152c34df0ab');\n",
              "          const dataTable =\n",
              "            await google.colab.kernel.invokeFunction('convertToInteractive',\n",
              "                                                     [key], {});\n",
              "          if (!dataTable) return;\n",
              "\n",
              "          const docLinkHtml = 'Like what you see? Visit the ' +\n",
              "            '<a target=\"_blank\" href=https://colab.research.google.com/notebooks/data_table.ipynb>data table notebook</a>'\n",
              "            + ' to learn more about interactive tables.';\n",
              "          element.innerHTML = '';\n",
              "          dataTable['output_type'] = 'display_data';\n",
              "          await google.colab.output.renderOutput(dataTable, element);\n",
              "          const docLink = document.createElement('div');\n",
              "          docLink.innerHTML = docLinkHtml;\n",
              "          element.appendChild(docLink);\n",
              "        }\n",
              "      </script>\n",
              "    </div>\n",
              "  </div>\n",
              "  "
            ]
          },
          "metadata": {},
          "execution_count": 71
        }
      ]
    },
    {
      "cell_type": "code",
      "source": [
        "sns.set(rc={'figure.figsize':(50,40)})\n",
        "s = sns.relplot(x=total_hours['FL_DATE_month'], \n",
        "            y=total_hours['DEP_DELAY'],\n",
        "            data=total_hours, \n",
        "            hue = \"OP_CARRIER\", \n",
        "            kind='scatter')"
      ],
      "metadata": {
        "colab": {
          "base_uri": "https://localhost:8080/",
          "height": 365
        },
        "id": "P21Dh2eFPQtv",
        "outputId": "42fd7331-55f7-46fd-d46d-ff632615d273"
      },
      "execution_count": 69,
      "outputs": [
        {
          "output_type": "display_data",
          "data": {
            "text/plain": [
              "<Figure size 502.225x360 with 1 Axes>"
            ],
            "image/png": "[encoded data removed]"
          },
          "metadata": {}
        }
      ]
    },
    {
      "cell_type": "markdown",
      "source": [
        "Based on the scatter plot above, on January until November 2017, Frontier Airlines is the best airline of the year since it has the least delay (hours)."
      ],
      "metadata": {
        "id": "1dwMVx8Dx9n2"
      }
    },
    {
      "cell_type": "markdown",
      "source": [
        "###  **Pie Chart: Top 10 Origin and Destination Airports** "
      ],
      "metadata": {
        "id": "wJIpfdWOXAOT"
      }
    },
    {
      "cell_type": "markdown",
      "source": [
        "Sort top 10 airport with most flights"
      ],
      "metadata": {
        "id": "KDRb2y1PXwr5"
      }
    },
    {
      "cell_type": "code",
      "source": [
        "#Airports with most flights\n",
        "F_origin = df.ORIGIN.value_counts().sort_values(ascending=False)[:10]\n",
        "F_dest = df.DEST.value_counts().sort_values(ascending=False)[:10]"
      ],
      "metadata": {
        "id": "dZb0Uzq8OwnV"
      },
      "execution_count": null,
      "outputs": []
    },
    {
      "cell_type": "markdown",
      "source": [
        "Top 10 Busiest Origin Airports"
      ],
      "metadata": {
        "id": "5snqrK7NjDP_"
      }
    },
    {
      "cell_type": "code",
      "source": [
        "colors = sns.color_palette('Pastel1')\n",
        "fig, ax = plt.subplots(figsize=(19, 8))\n",
        "ax.pie(F_origin, labels=F_origin.index,colors = colors, autopct=\"%1.1f%%\")\n",
        "ax.axis('equal')  \n",
        "plt.title(\"Origin Airport Distribution on 2017\\n\")\n",
        "plt.show()"
      ],
      "metadata": {
        "colab": {
          "base_uri": "https://localhost:8080/",
          "height": 501
        },
        "id": "_5xAaYPzOElj",
        "outputId": "1da570e5-88ba-4199-e668-fdab59e8958d"
      },
      "execution_count": null,
      "outputs": [
        {
          "output_type": "display_data",
          "data": {
            "text/plain": [
              "<Figure size 1368x576 with 1 Axes>"
            ],
            "image/png": "[encoded data removed]"
          },
          "metadata": {}
        }
      ]
    },
    {
      "cell_type": "markdown",
      "source": [
        "Top 10 Busiest Destination Airports"
      ],
      "metadata": {
        "id": "fMfiUj1VjG-X"
      }
    },
    {
      "cell_type": "code",
      "source": [
        "colors = sns.color_palette('Pastel1')\n",
        "fig, ax = plt.subplots(figsize=(19, 8))\n",
        "ax.pie(F_dest, labels=F_dest.index,colors = colors, autopct=\"%1.1f%%\")\n",
        "ax.axis('equal')  \n",
        "plt.title(\"Destination Airport Distribution on 2017\\n\")\n",
        "plt.show()"
      ],
      "metadata": {
        "colab": {
          "base_uri": "https://localhost:8080/",
          "height": 500
        },
        "id": "XRSJ7m5Ni7TG",
        "outputId": "8bebd8ac-52db-4be3-9ba3-569bbbb23039"
      },
      "execution_count": null,
      "outputs": [
        {
          "output_type": "display_data",
          "data": {
            "text/plain": [
              "<Figure size 1368x576 with 1 Axes>"
            ],
            "image/png": "[encoded data removed]"
          },
          "metadata": {}
        }
      ]
    },
    {
      "cell_type": "markdown",
      "source": [
        "Based on these two pie charts, most of the airport that is categorized as the busiest of origin airport are also found in the busiest of destination airport (LAX, DFW, SFO, EWR, LAS, PHX, ORD, ATL and DEN)"
      ],
      "metadata": {
        "id": "je0EIigkwNHJ"
      }
    },
    {
      "cell_type": "markdown",
      "source": [
        "### **Line Graph: Departure Delay for Popular Airlines** "
      ],
      "metadata": {
        "id": "rxVqUgTKbDGi"
      }
    },
    {
      "cell_type": "markdown",
      "source": [
        "Identify the top five popular airlines in United States "
      ],
      "metadata": {
        "id": "Ka6-nsfjlTKY"
      }
    },
    {
      "cell_type": "code",
      "source": [
        "most_delayed = df.groupby('OP_CARRIER').DEP_DELAY.sum().sort_values(ascending=False).head(5)\n",
        "most_delayed"
      ],
      "metadata": {
        "colab": {
          "base_uri": "https://localhost:8080/"
        },
        "id": "Jf5KM-qcpMGC",
        "outputId": "011fcef5-3e9b-40d1-c8d0-ae7c9ac3b206"
      },
      "execution_count": 66,
      "outputs": [
        {
          "output_type": "execute_result",
          "data": {
            "text/plain": [
              "OP_CARRIER\n",
              "Southwest Airlines    24223.550000\n",
              "SkyWest Airlines      16500.450000\n",
              "Delta Airlines        15777.466667\n",
              "American Airlines     15442.100000\n",
              "United Airlines       11372.800000\n",
              "Name: DEP_DELAY, dtype: float64"
            ]
          },
          "metadata": {},
          "execution_count": 66
        }
      ]
    },
    {
      "cell_type": "code",
      "source": [
        "busiest_airlines = df.groupby(\"OP_CARRIER\").size().sort_values(ascending=False)[:5]\n",
        "busiest_airlines"
      ],
      "metadata": {
        "colab": {
          "base_uri": "https://localhost:8080/"
        },
        "id": "w9M8c6EMvI--",
        "outputId": "0d5d7808-df79-45b7-993c-54711afc8ab4"
      },
      "execution_count": 63,
      "outputs": [
        {
          "output_type": "execute_result",
          "data": {
            "text/plain": [
              "OP_CARRIER\n",
              "Southwest Airlines    43191\n",
              "American Airlines     20279\n",
              "Delta Airlines        17344\n",
              "SkyWest Airlines      15181\n",
              "United Airlines       12164\n",
              "dtype: int64"
            ]
          },
          "metadata": {},
          "execution_count": 63
        }
      ]
    },
    {
      "cell_type": "code",
      "source": [
        "top5_airlines = [{'airline':'Southwest Airlines', 'color':'#233d4d'},\n",
        "                 {'airline':'American Airlines', 'color':'#fe7f2d'},\n",
        "                 {'airline':'Delta Airlines', 'color':'#fcca46'},\n",
        "                 {'airline':'SkyWest Airlines', 'color':'#a1c181'},\n",
        "                 {'airline':'United Airlines', 'color':'#619b8a'}]"
      ],
      "metadata": {
        "id": "RvubCrTJyScp"
      },
      "execution_count": 43,
      "outputs": []
    },
    {
      "cell_type": "markdown",
      "source": [
        "Create function that calculate the mean of departure delay by month"
      ],
      "metadata": {
        "id": "839YPKKVlkqk"
      }
    },
    {
      "cell_type": "code",
      "source": [
        "def plot_delay(p):\n",
        "    means = df[df['OP_CARRIER'] == p['airline']].groupby(['FL_DATE_month']).mean().reset_index() \n",
        "    line, = plt.plot(means['FL_DATE_month'], means['DEP_DELAY'], linestyle='solid', color=p['color'])\n",
        "    return line              "
      ],
      "metadata": {
        "id": "GrMPozzvyXFU"
      },
      "execution_count": 49,
      "outputs": []
    },
    {
      "cell_type": "markdown",
      "source": [
        "Plot airline flights by month using given airline name and color."
      ],
      "metadata": {
        "id": "RC2zynMmyZwQ"
      }
    },
    {
      "cell_type": "code",
      "source": [
        "fig, ax = plt.subplots(figsize=(20, 8))\n",
        "\n",
        "delay_handles = list(map(plot_delay, top5_airlines))\n",
        "delay_labels = ['Southwest Airlines','American Airlines','Delta Airlines', 'SkyWest Airlines', 'United Airlines',]\n",
        "\n",
        "plt.legend(delay_handles, delay_labels)\n",
        "plt.grid(axis='y', linewidth = 0.5)\n",
        "sns.despine(top=True)\n",
        "ax.set_ylabel('Average Delay (hours)', fontsize=16)\n",
        "ax.set_xlabel('Months', fontsize=16)\n",
        "ax.set_title(\"Departure Delay for Popular Airlines 2017\" , fontsize=20);"
      ],
      "metadata": {
        "colab": {
          "base_uri": "https://localhost:8080/",
          "height": 525
        },
        "id": "N5ClMVUvlhu2",
        "outputId": "8d4755be-100a-48d3-8bb4-194502545a20"
      },
      "execution_count": 52,
      "outputs": [
        {
          "output_type": "display_data",
          "data": {
            "text/plain": [
              "<Figure size 1440x576 with 1 Axes>"
            ],
            "image/png": "[encoded data removed]"
          },
          "metadata": {}
        }
      ]
    },
    {
      "cell_type": "markdown",
      "source": [
        "Based on the line graph, we can see that over the year of 2017, Skywest Airlines has the highest average of delay (per hours). There is also an interesting spike of average delay for Delta Airlines in April. Lastly, towards the end of the year, these top five airlines slowly increasing their departure delay, probably because there was new system implemented and data became more accurate."
      ],
      "metadata": {
        "id": "h1vzRX2CscoQ"
      }
    },
    {
      "cell_type": "markdown",
      "metadata": {
        "id": "rN1bUu8RVJJ7"
      },
      "source": [
        "### **Heat Map: Air Traffic by City** "
      ]
    },
    {
      "cell_type": "markdown",
      "source": [
        "Create new column 'FL_DATE_day' and 'FL_DATE_week'"
      ],
      "metadata": {
        "id": "m7An91DkeEtT"
      }
    },
    {
      "cell_type": "code",
      "source": [
        "df['FL_DATE_day'] = pd.to_datetime(df['FL_DATE']).dt.day_name()\n",
        "df['FL_DATE_week'] = pd.to_datetime(df['FL_DATE']).dt.dayofweek"
      ],
      "metadata": {
        "id": "sbl-1SSsa6AR"
      },
      "execution_count": 72,
      "outputs": []
    },
    {
      "cell_type": "code",
      "source": [
        "df['FL_DATE_day']"
      ],
      "metadata": {
        "id": "RT8VIY6_h6Nw",
        "colab": {
          "base_uri": "https://localhost:8080/"
        },
        "outputId": "4be0f3a3-b7ef-4f4f-b30e-76b7c76e9e4e"
      },
      "execution_count": 73,
      "outputs": [
        {
          "output_type": "execute_result",
          "data": {
            "text/plain": [
              "1         Sunday\n",
              "3         Sunday\n",
              "9         Sunday\n",
              "10        Sunday\n",
              "11        Sunday\n",
              "           ...  \n",
              "567435    Sunday\n",
              "567441    Sunday\n",
              "567444    Sunday\n",
              "567451    Sunday\n",
              "567461    Sunday\n",
              "Name: FL_DATE_day, Length: 139653, dtype: object"
            ]
          },
          "metadata": {},
          "execution_count": 73
        }
      ]
    },
    {
      "cell_type": "markdown",
      "source": [
        "Count number of flights per week per airlines."
      ],
      "metadata": {
        "id": "dDrRXonAJ_dk"
      }
    },
    {
      "cell_type": "code",
      "execution_count": 74,
      "metadata": {
        "id": "Zatc4Si_VJJ8",
        "colab": {
          "base_uri": "https://localhost:8080/"
        },
        "outputId": "2b203107-4520-4c1c-ad4f-87e6d04b9efa"
      },
      "outputs": [
        {
          "output_type": "stream",
          "name": "stdout",
          "text": [
            "FL_DATE_week       0       1       2       3       4      5       6\n",
            "ORIGIN                                                             \n",
            "ATL           1564.0  1173.0  1071.0  1373.0  1455.0  954.0  1172.0\n",
            "ORD           1006.0   909.0   917.0  1115.0  1141.0  642.0   894.0\n",
            "LAX           1125.0   811.0   833.0  1127.0  1080.0  618.0   982.0\n",
            "DEN            880.0   773.0   835.0   973.0   863.0  669.0   702.0\n",
            "DFW            741.0   611.0   619.0   733.0   815.0  625.0   744.0\n",
            "SFO            842.0   586.0   749.0   924.0   874.0  528.0   749.0\n",
            "LAS            679.0   580.0   651.0   736.0   785.0  463.0   637.0\n",
            "PHX            584.0   496.0   547.0   662.0   617.0  440.0   552.0\n",
            "MCO            451.0   479.0   480.0   498.0   491.0  525.0   488.0\n",
            "BOS            530.0   462.0   397.0   495.0   590.0  316.0   395.0\n"
          ]
        }
      ],
      "source": [
        "flight_pivot=df.pivot_table(index='ORIGIN',columns='FL_DATE_week', values='FL_DATE_day', aggfunc=lambda x:x.count())\n",
        "flight_sort = flight_pivot.sort_values(by=1,ascending=False)[:10]\n",
        "print(flight_sort)"
      ]
    },
    {
      "cell_type": "code",
      "execution_count": 75,
      "metadata": {
        "id": "RBYoxztOVJJ8",
        "colab": {
          "base_uri": "https://localhost:8080/",
          "height": 0
        },
        "outputId": "72fa5b81-fcea-4150-f791-ad9003e82fc0"
      },
      "outputs": [
        {
          "output_type": "display_data",
          "data": {
            "text/plain": [
              "<Figure size 1440x720 with 2 Axes>"
            ],
            "image/png": "[encoded data removed]"
          },
          "metadata": {}
        }
      ],
      "source": [
        "flight_sort = flight_sort.iloc[:10]\n",
        "\n",
        "plt.figure(figsize=(20,10))\n",
        "sns.heatmap(flight_sort, annot=True, cmap=\"Pastel1\")\n",
        "plt.show()"
      ]
    },
    {
      "cell_type": "markdown",
      "source": [
        "Looking at the diagram above, most of the origin airport have high number of air traffic on weeekdays, with ATL having the highest air traffic on Monday.\n"
      ],
      "metadata": {
        "id": "ZqDinRkVxOFT"
      }
    },
    {
      "cell_type": "markdown",
      "metadata": {
        "id": "E0U3IWm8VJJ9"
      },
      "source": [
        "# **Asking and Answering Questions**\n",
        "\n"
      ]
    },
    {
      "cell_type": "markdown",
      "metadata": {
        "id": "7Lor5rHMVJJ9"
      },
      "source": [
        "#### Q1: Which airlines has the least departure delays on 2017?"
      ]
    },
    {
      "cell_type": "code",
      "source": [
        "least_delays = df.groupby('OP_CARRIER').DEP_DELAY.sum().sort_values(ascending=True).head(1)\n",
        "least_delays"
      ],
      "metadata": {
        "id": "AcK5Tziq0Ojj",
        "colab": {
          "base_uri": "https://localhost:8080/"
        },
        "outputId": "2228b431-cd81-472f-cd4c-60cd34487aac"
      },
      "execution_count": 64,
      "outputs": [
        {
          "output_type": "execute_result",
          "data": {
            "text/plain": [
              "OP_CARRIER\n",
              "Hawaiian Airlines    682.983333\n",
              "Name: DEP_DELAY, dtype: float64"
            ]
          },
          "metadata": {},
          "execution_count": 64
        }
      ]
    },
    {
      "cell_type": "code",
      "execution_count": null,
      "metadata": {
        "id": "D-PdOKqCVJJ9"
      },
      "outputs": [],
      "source": [
        "plt.figure(figsize=(20, 6))\n",
        "c = ['mistyrose', 'antiquewhite', 'wheat', 'darksalmon', 'lightcoral', 'lavenderblush', 'cornsilk', \n",
        "          'papayawhip','bisque','peachpuff','navajowhite','hotpink']\n",
        "df.groupby('OP_CARRIER').DEP_DELAY.sum().sort_values(ascending=False).plot.bar(color = c)\n",
        "plt.title('Delays by Airlines on 2017', fontsize=16)\n",
        "plt.xlabel('Airlines', fontsize=14)\n",
        "plt.ylabel('Hours', fontsize=14)\n",
        "plt.show()"
      ]
    },
    {
      "cell_type": "markdown",
      "source": [
        "*Hawaiian Airlines has the least delays with total of 588.08 hours on 2017*"
      ],
      "metadata": {
        "id": "zYBKGFdvDtuz"
      }
    },
    {
      "cell_type": "markdown",
      "metadata": {
        "id": "c_REVnrhVJJ-"
      },
      "source": [
        "#### Q2: Amirah is from MIA, she is planning to travel to anywhere at any time of the year. What is the least problematic flight that she could take?"
      ]
    },
    {
      "cell_type": "code",
      "execution_count": null,
      "metadata": {
        "id": "dvyLd9MdVJJ-"
      },
      "outputs": [],
      "source": [
        "least_problematic = df[df['ORIGIN'] == 'MIA']"
      ]
    },
    {
      "cell_type": "code",
      "execution_count": null,
      "metadata": {
        "id": "tdjrhzySVJJ-"
      },
      "outputs": [],
      "source": [
        "least_problematic.sort_values(by=['DEP_DELAY'], ascending=True).head(1)"
      ]
    },
    {
      "cell_type": "markdown",
      "source": [
        "*Amirah can take American Airlines from her origin MIA to destination MCO on 23 March 2017.*"
      ],
      "metadata": {
        "id": "s_QsNLxj9XVq"
      }
    },
    {
      "cell_type": "markdown",
      "metadata": {
        "id": "ya3o0SurVJJ-"
      },
      "source": [
        "#### Q3: How many airlines offers flight from DFW to OGG on 2017-01-03?"
      ]
    },
    {
      "cell_type": "code",
      "source": [
        "offered_flights = display(df[(df['ORIGIN']=='LAX') & (df['DEST'] == 'JFK') & (df['FL_DATE'] == '2017-01-03')])"
      ],
      "metadata": {
        "id": "UIhoURN-_x_N"
      },
      "execution_count": null,
      "outputs": []
    },
    {
      "cell_type": "markdown",
      "source": [
        "*There is only one airline that offers flight from DFW to OGG on 3rd January 2017.*"
      ],
      "metadata": {
        "id": "G7-35BvnC47u"
      }
    },
    {
      "cell_type": "markdown",
      "metadata": {
        "id": "p4CcVO1TVJJ-"
      },
      "source": [
        "#### Q4: Which flight travels the longest distance? What is the Origin and the Destination of the flight?"
      ]
    },
    {
      "cell_type": "code",
      "execution_count": null,
      "metadata": {
        "id": "Wa96BGX1VJJ-"
      },
      "outputs": [],
      "source": [
        "longest_distance = df.sort_values(by=['DISTANCE'], ascending=False).head(1)"
      ]
    },
    {
      "cell_type": "code",
      "source": [
        "print(longest_distance[['OP_CARRIER','ORIGIN','DEST','DISTANCE']])"
      ],
      "metadata": {
        "id": "kkYkq2az5t_v"
      },
      "execution_count": null,
      "outputs": []
    },
    {
      "cell_type": "markdown",
      "source": [
        "*Hawaiian Airlines travels the longest distance on 2017, from JFK to HNL with a distance of 4983.0*"
      ],
      "metadata": {
        "id": "mMZGlPeN5PNq"
      }
    },
    {
      "cell_type": "markdown",
      "metadata": {
        "id": "uFuZBqX1VJJ_"
      },
      "source": [
        "#### Q5: For each Origin, find the number of flights for three consecutive days. Use aggregation."
      ]
    },
    {
      "cell_type": "code",
      "execution_count": null,
      "metadata": {
        "id": "0XCOkgIHVJJ_"
      },
      "outputs": [],
      "source": [
        "group_origin_days = df.reset_index().groupby(['FL_DATE', 'ORIGIN']).size().reset_index(name='Count').set_index('FL_DATE')"
      ]
    },
    {
      "cell_type": "code",
      "source": [
        "group_origin_days.groupby('ORIGIN')['Count'].rolling(window=3).sum().reset_index()"
      ],
      "metadata": {
        "id": "eRBS4n5mH7tI"
      },
      "execution_count": null,
      "outputs": []
    },
    {
      "cell_type": "markdown",
      "source": [
        "#**Inferences and Conclusion**"
      ],
      "metadata": {
        "id": "7acS3Aa4keZr"
      }
    },
    {
      "cell_type": "markdown",
      "source": [
        "\n",
        "\n",
        "1.   All of the [top 5 most delayed airlines](https://colab.research.google.com/drive/1uLyJxJZWB1LF4rx7nVNvPJnAFVEKfCZA?authuser=2#scrollTo=AcK5Tziq0Ojj&line=1&uniqifier=1) (Southwest Airlines, SkyWest Airlines, Delta Airlines, American Airlines, United Airlines) are all listed in the [top 5 busiest airports](https://colab.research.google.com/drive/1uLyJxJZWB1LF4rx7nVNvPJnAFVEKfCZA?authuser=2#scrollTo=w9M8c6EMvI--&line=2&uniqifier=1) in the United States in 2017. There could be a line of aeroplanes waiting to take off on the runway in a congested or unusually busy airport. Thus, it is expected that they have higher number of delays compared to other airlines.\n",
        "\n",
        "2.   On the other hand, the possible factor that contributes to the delay of these airlines on the beginning and end of the year is due to annual holidays. However, the highest average delay of all airlines is between April to July due to factors that we cannot predict and need more resources and informations about the dataset.  \n",
        "\n",
        "> Thus, we can conclude that the delay of airlines is highly affected by the number of airlines being in one airport at the same time. \n",
        "--- \n",
        "\n",
        "1.   Every airline have different rate of efficiency of their operations and management systems which contribute to the different hours of delay.\n",
        "\n",
        "2.   As we can see in [Line graph](https://colab.research.google.com/drive/1uLyJxJZWB1LF4rx7nVNvPJnAFVEKfCZA?authuser=2#scrollTo=N5ClMVUvlhu2&line=5&uniqifier=1), Southwest Airlines maintained to be the least delayed airlines compared to the other four popular airlines in 2017. Southwest Airlines may have a better management and operation systems thus contribute less to the average hours of delay over the year.\n",
        "\n",
        "> Therefore, the average hours of delay over the year is highly affected by the performance of their operations system that controls the carrier delay, aircraft delay and security delay. \n",
        "\n",
        "---\n",
        "\n",
        "> In conclusion, this dataset is insufficient if we want to determine the precise reason for the airline's delay.\n",
        "\n"
      ],
      "metadata": {
        "id": "BCE5YGZ_kzbL"
      }
    },
    {
      "cell_type": "markdown",
      "metadata": {
        "id": "xfuc6sJgVJKA"
      },
      "source": [
        "#**References and Future Work**\n",
        "\n",
        "In a further project, we would like to examine more data from more years and obtain more information each airline may have regarding the reason for a delay."
      ]
    },
    {
      "cell_type": "markdown",
      "source": [
        "References:\n",
        "\n",
        "1.   [Pandas Guide](https://pandas.pydata.org/docs/user_guide/text.html)\n",
        "2.   [Data Visualization Guide](https://www.analyticsvidhya.com/blog/2021/02/an-intuitive-guide-to-visualization-in-python/)\n",
        "2.   [Dataset](https://www.kaggle.com/datasets/yuanyuwendymu/airline-delay-and-cancellation-data-2009-2018)"
      ],
      "metadata": {
        "id": "tOMeQS_Ak7_L"
      }
    }
  ],
  "metadata": {
    "kernelspec": {
      "display_name": "Python 3",
      "language": "python",
      "name": "python3"
    },
    "language_info": {
      "codemirror_mode": {
        "name": "ipython",
        "version": 3
      },
      "file_extension": ".py",
      "mimetype": "text/x-python",
      "name": "python",
      "nbconvert_exporter": "python",
      "pygments_lexer": "ipython3",
      "version": "3.8.5"
    },
    "colab": {
      "provenance": [],
      "collapsed_sections": [
        "7F8DQl5dVJJ0",
        "LxWzVndBVJJ1",
        "cBns6cbKtOH0",
        "O6_XYSxQtS4n",
        "u0vucnGFVJJ5",
        "f55nlyfxQpmR",
        "N4l14h5C2KdJ",
        "bIhgCn_c2P1q",
        "_0m5LkbVVJJ6",
        "jbABslqvRE3C",
        "nt_CVhi-VJJ8",
        "wJIpfdWOXAOT",
        "rxVqUgTKbDGi",
        "rN1bUu8RVJJ7",
        "E0U3IWm8VJJ9",
        "7Lor5rHMVJJ9",
        "c_REVnrhVJJ-",
        "ya3o0SurVJJ-",
        "p4CcVO1TVJJ-"
      ],
      "include_colab_link": true
    }
  },
  "nbformat": 4,
  "nbformat_minor": 0
}
{
  "cells": [
    {
      "cell_type": "markdown",
      "metadata": {
        "id": "view-in-github",
        "colab_type": "text"
      },
      "source": [
        "<a href=\"https://colab.research.google.com/github/drshahizan/Python-big-data/blob/main/Project/BigMac/HPDP_Group_Project.ipynb\" target=\"_parent\"><img src=\"https://colab.research.google.com/assets/colab-badge.svg\" alt=\"Open In Colab\"/></a>"
      ]
    },
    {
      "cell_type": "markdown",
      "metadata": {
        "id": "bMeBafK7VkL5"
      },
      "source": [
        "# **Project: Airline Delay and Cancellation Data(2016 - 2018.csv)**\n",
        "\n",
        "\n",
        "The U.S. Department of Transportation's (DOT) Bureau of Transportation Statistics tracks the on-time performance of domestic flights operated by large air carriers. Summary information on the number of on-time, delayed, canceled, and diverted flights is published in DOT's monthly Air Travel Consumer Report and in this dataset of 2016 flight delays and cancellations.\n",
        "\n",
        "**Group members:**\n",
        "\n",
        "<table>\n",
        "  <tr>\n",
        "    <th>Name</th>\n",
        "    <th>Matric</th>\n",
        "  </tr>\n",
        "  <tr>\n",
        "    <th>Muhammad Imran Hakimi Bin Mohd Shukri </th>\n",
        "    <th>A20EC0213</th>\n",
        "  </tr>\n",
        "  <tr>\n",
        "    <th>Afif Hazmie Arsyad Bin Agus</th>\n",
        "    <th>A20EC0176</th>\n",
        "  </tr>\n",
        "    <tr>\n",
        "    <th>Kong Jia Rou</th>\n",
        "    <th>A20EC0198</th>\n",
        "  </tr>\n",
        "    <tr>\n",
        "    <th>Rasmin Kaur Sandhu</th>\n",
        "    <th>A19ET0216</th>\n",
        "  </tr>\n",
        "</table>\n",
        "\n",
        "Dataset source: https://www.kaggle.com/datasets/yuanyuwendymu/airline-delay-and-cancellation-data-2009-2018?select=2018.csv\n",
        "\n",
        "\n"
      ]
    },
    {
      "cell_type": "markdown",
      "metadata": {
        "id": "vU_UArqGytM8"
      },
      "source": [
        "# Installing and Importing the libraries"
      ]
    },
    {
      "cell_type": "markdown",
      "metadata": {
        "id": "iBTybpmUzML_"
      },
      "source": [
        "**Pyspark Library**"
      ]
    },
    {
      "cell_type": "code",
      "execution_count": 17,
      "metadata": {
        "colab": {
          "base_uri": "https://localhost:8080/"
        },
        "id": "OJoWJtRlzEjx",
        "outputId": "baad9a41-28c2-46e3-f867-d2bcf1f6cfa8"
      },
      "outputs": [
        {
          "output_type": "stream",
          "name": "stdout",
          "text": [
            "Looking in indexes: https://pypi.org/simple, https://us-python.pkg.dev/colab-wheels/public/simple/\n",
            "Collecting pyspark\n",
            "  Downloading pyspark-3.3.1.tar.gz (281.4 MB)\n",
            "\u001b[2K     \u001b[90m━━━━━━━━━━━━━━━━━━━━━━━━━━━━━━━━━━━━━━━\u001b[0m \u001b[32m281.4/281.4 MB\u001b[0m \u001b[31m4.0 MB/s\u001b[0m eta \u001b[36m0:00:00\u001b[0m\n",
            "\u001b[?25h  Preparing metadata (setup.py) ... \u001b[?25l\u001b[?25hdone\n",
            "Collecting py4j==0.10.9.5\n",
            "  Downloading py4j-0.10.9.5-py2.py3-none-any.whl (199 kB)\n",
            "\u001b[2K     \u001b[90m━━━━━━━━━━━━━━━━━━━━━━━━━━━━━━━━━━━━━━\u001b[0m \u001b[32m199.7/199.7 KB\u001b[0m \u001b[31m18.1 MB/s\u001b[0m eta \u001b[36m0:00:00\u001b[0m\n",
            "\u001b[?25hBuilding wheels for collected packages: pyspark\n",
            "  Building wheel for pyspark (setup.py) ... \u001b[?25l\u001b[?25hdone\n",
            "  Created wheel for pyspark: filename=pyspark-3.3.1-py2.py3-none-any.whl size=281845512 sha256=ddec743cc39c6113fc58ca9562d7de4f066b5c2d95166a1c5a4887b63d59ca78\n",
            "  Stored in directory: /root/.cache/pip/wheels/43/dc/11/ec201cd671da62fa9c5cc77078235e40722170ceba231d7598\n",
            "Successfully built pyspark\n",
            "Installing collected packages: py4j, pyspark\n",
            "Successfully installed py4j-0.10.9.5 pyspark-3.3.1\n"
          ]
        }
      ],
      "source": [
        "!pip install pyspark"
      ]
    },
    {
      "cell_type": "code",
      "execution_count": 18,
      "metadata": {
        "id": "Fy825olkzJ6U"
      },
      "outputs": [],
      "source": [
        "from pyspark.sql.functions import col\n",
        "from pyspark.sql import SparkSession"
      ]
    },
    {
      "cell_type": "code",
      "execution_count": 19,
      "metadata": {
        "id": "Dc9gX1z1zLDV"
      },
      "outputs": [],
      "source": [
        "spark = SparkSession \\\n",
        "    .builder \\\n",
        "    .appName(\"HPDP Group Project\") \\\n",
        "    .getOrCreate()"
      ]
    },
    {
      "cell_type": "markdown",
      "metadata": {
        "id": "rsKPEbtNzLfG"
      },
      "source": [
        "**Koalas Library**"
      ]
    },
    {
      "cell_type": "code",
      "execution_count": null,
      "metadata": {
        "colab": {
          "base_uri": "https://localhost:8080/"
        },
        "id": "RCJPTLc6bMs_",
        "outputId": "6eeaf96e-1691-43a7-d57d-1a76c8ede7b2"
      },
      "outputs": [
        {
          "output_type": "stream",
          "name": "stdout",
          "text": [
            "Looking in indexes: https://pypi.org/simple, https://us-python.pkg.dev/colab-wheels/public/simple/\n",
            "Collecting koalas\n",
            "  Downloading koalas-1.8.2-py3-none-any.whl (390 kB)\n",
            "\u001b[2K     \u001b[90m━━━━━━━━━━━━━━━━━━━━━━━━━━━━━━━━━━━━━━━\u001b[0m \u001b[32m390.8/390.8 KB\u001b[0m \u001b[31m7.9 MB/s\u001b[0m eta \u001b[36m0:00:00\u001b[0m\n",
            "\u001b[?25hRequirement already satisfied: numpy>=1.14 in /usr/local/lib/python3.8/dist-packages (from koalas) (1.21.6)\n",
            "Requirement already satisfied: pyarrow>=0.10 in /usr/local/lib/python3.8/dist-packages (from koalas) (9.0.0)\n",
            "Requirement already satisfied: pandas>=0.23.2 in /usr/local/lib/python3.8/dist-packages (from koalas) (1.3.5)\n",
            "Requirement already satisfied: python-dateutil>=2.7.3 in /usr/local/lib/python3.8/dist-packages (from pandas>=0.23.2->koalas) (2.8.2)\n",
            "Requirement already satisfied: pytz>=2017.3 in /usr/local/lib/python3.8/dist-packages (from pandas>=0.23.2->koalas) (2022.7)\n",
            "Requirement already satisfied: six>=1.5 in /usr/local/lib/python3.8/dist-packages (from python-dateutil>=2.7.3->pandas>=0.23.2->koalas) (1.15.0)\n",
            "Installing collected packages: koalas\n",
            "Successfully installed koalas-1.8.2\n"
          ]
        }
      ],
      "source": [
        "!pip install koalas"
      ]
    },
    {
      "cell_type": "code",
      "execution_count": null,
      "metadata": {
        "colab": {
          "base_uri": "https://localhost:8080/"
        },
        "id": "N5qyvNv8zzka",
        "outputId": "2053d648-61c0-4adf-9ace-d59c141a1629"
      },
      "outputs": [
        {
          "output_type": "stream",
          "name": "stderr",
          "text": [
            "WARNING:root:Found pyspark version \"3.3.1\" installed. The pyspark version 3.2 and above has a built-in \"pandas APIs on Spark\" module ported from Koalas. Try `import pyspark.pandas as ps` instead. \n",
            "WARNING:root:'PYARROW_IGNORE_TIMEZONE' environment variable was not set. It is required to set this environment variable to '1' in both driver and executor sides if you use pyarrow>=2.0.0. Koalas will set it for you but it does not work if there is a Spark context already launched.\n"
          ]
        }
      ],
      "source": [
        "import databricks.koalas as ks"
      ]
    },
    {
      "cell_type": "markdown",
      "metadata": {
        "id": "RwoEcZ6azYnQ"
      },
      "source": [
        "**Vaex Library**"
      ]
    },
    {
      "cell_type": "code",
      "execution_count": 1,
      "metadata": {
        "colab": {
          "base_uri": "https://localhost:8080/"
        },
        "id": "ayfJCortzvdJ",
        "outputId": "fb88cee4-cd67-45dc-8dce-12690fca943e"
      },
      "outputs": [
        {
          "output_type": "stream",
          "name": "stdout",
          "text": [
            "Looking in indexes: https://pypi.org/simple, https://us-python.pkg.dev/colab-wheels/public/simple/\n",
            "Requirement already satisfied: vaex in /usr/local/lib/python3.8/dist-packages (4.16.0)\n",
            "Requirement already satisfied: vaex-astro<0.10,>=0.9.3 in /usr/local/lib/python3.8/dist-packages (from vaex) (0.9.3)\n",
            "Requirement already satisfied: vaex-server<0.9,>=0.8.1 in /usr/local/lib/python3.8/dist-packages (from vaex) (0.8.1)\n",
            "Requirement already satisfied: vaex-core<4.17,>=4.16.0 in /usr/local/lib/python3.8/dist-packages (from vaex) (4.16.1)\n",
            "Requirement already satisfied: vaex-ml<0.19,>=0.18.1 in /usr/local/lib/python3.8/dist-packages (from vaex) (0.18.1)\n",
            "Requirement already satisfied: vaex-hdf5<0.15,>=0.13.0 in /usr/local/lib/python3.8/dist-packages (from vaex) (0.14.1)\n",
            "Requirement already satisfied: vaex-jupyter<0.9,>=0.8.1 in /usr/local/lib/python3.8/dist-packages (from vaex) (0.8.1)\n",
            "Requirement already satisfied: vaex-viz<0.6,>=0.5.4 in /usr/local/lib/python3.8/dist-packages (from vaex) (0.5.4)\n",
            "Requirement already satisfied: astropy in /usr/local/lib/python3.8/dist-packages (from vaex-astro<0.10,>=0.9.3->vaex) (4.3.1)\n",
            "Requirement already satisfied: cloudpickle in /usr/local/lib/python3.8/dist-packages (from vaex-core<4.17,>=4.16.0->vaex) (2.2.0)\n",
            "Requirement already satisfied: rich in /usr/local/lib/python3.8/dist-packages (from vaex-core<4.17,>=4.16.0->vaex) (13.3.1)\n",
            "Requirement already satisfied: numpy>=1.16 in /usr/local/lib/python3.8/dist-packages (from vaex-core<4.17,>=4.16.0->vaex) (1.21.6)\n",
            "Requirement already satisfied: six in /usr/local/lib/python3.8/dist-packages (from vaex-core<4.17,>=4.16.0->vaex) (1.15.0)\n",
            "Requirement already satisfied: pandas in /usr/local/lib/python3.8/dist-packages (from vaex-core<4.17,>=4.16.0->vaex) (1.3.5)\n",
            "Requirement already satisfied: pydantic>=1.8.0 in /usr/local/lib/python3.8/dist-packages (from vaex-core<4.17,>=4.16.0->vaex) (1.10.4)\n",
            "Requirement already satisfied: pyyaml in /usr/local/lib/python3.8/dist-packages (from vaex-core<4.17,>=4.16.0->vaex) (6.0)\n",
            "Requirement already satisfied: dask!=2022.4.0 in /usr/local/lib/python3.8/dist-packages (from vaex-core<4.17,>=4.16.0->vaex) (2022.2.1)\n",
            "Requirement already satisfied: aplus in /usr/local/lib/python3.8/dist-packages (from vaex-core<4.17,>=4.16.0->vaex) (0.11.0)\n",
            "Requirement already satisfied: tabulate>=0.8.3 in /usr/local/lib/python3.8/dist-packages (from vaex-core<4.17,>=4.16.0->vaex) (0.8.10)\n",
            "Requirement already satisfied: frozendict!=2.2.0 in /usr/local/lib/python3.8/dist-packages (from vaex-core<4.17,>=4.16.0->vaex) (2.3.4)\n",
            "Requirement already satisfied: filelock in /usr/local/lib/python3.8/dist-packages (from vaex-core<4.17,>=4.16.0->vaex) (3.9.0)\n",
            "Requirement already satisfied: progressbar2 in /usr/local/lib/python3.8/dist-packages (from vaex-core<4.17,>=4.16.0->vaex) (3.38.0)\n",
            "Requirement already satisfied: requests in /usr/local/lib/python3.8/dist-packages (from vaex-core<4.17,>=4.16.0->vaex) (2.25.1)\n",
            "Requirement already satisfied: future>=0.15.2 in /usr/local/lib/python3.8/dist-packages (from vaex-core<4.17,>=4.16.0->vaex) (0.16.0)\n",
            "Requirement already satisfied: blake3 in /usr/local/lib/python3.8/dist-packages (from vaex-core<4.17,>=4.16.0->vaex) (0.3.3)\n",
            "Requirement already satisfied: nest-asyncio>=1.3.3 in /usr/local/lib/python3.8/dist-packages (from vaex-core<4.17,>=4.16.0->vaex) (1.5.6)\n",
            "Requirement already satisfied: pyarrow>=5.0.0 in /usr/local/lib/python3.8/dist-packages (from vaex-core<4.17,>=4.16.0->vaex) (9.0.0)\n",
            "Requirement already satisfied: h5py>=2.9 in /usr/local/lib/python3.8/dist-packages (from vaex-hdf5<0.15,>=0.13.0->vaex) (3.1.0)\n",
            "Requirement already satisfied: ipyvolume>=0.4 in /usr/local/lib/python3.8/dist-packages (from vaex-jupyter<0.9,>=0.8.1->vaex) (0.6.0)\n",
            "Requirement already satisfied: ipympl in /usr/local/lib/python3.8/dist-packages (from vaex-jupyter<0.9,>=0.8.1->vaex) (0.9.2)\n",
            "Requirement already satisfied: xarray in /usr/local/lib/python3.8/dist-packages (from vaex-jupyter<0.9,>=0.8.1->vaex) (2022.12.0)\n",
            "Requirement already satisfied: ipyleaflet in /usr/local/lib/python3.8/dist-packages (from vaex-jupyter<0.9,>=0.8.1->vaex) (0.17.2)\n",
            "Requirement already satisfied: ipyvuetify<2,>=1.2.2 in /usr/local/lib/python3.8/dist-packages (from vaex-jupyter<0.9,>=0.8.1->vaex) (1.8.4)\n",
            "Requirement already satisfied: bqplot>=0.10.1 in /usr/local/lib/python3.8/dist-packages (from vaex-jupyter<0.9,>=0.8.1->vaex) (0.12.36)\n",
            "Requirement already satisfied: jinja2 in /usr/local/lib/python3.8/dist-packages (from vaex-ml<0.19,>=0.18.1->vaex) (2.11.3)\n",
            "Requirement already satisfied: numba in /usr/local/lib/python3.8/dist-packages (from vaex-ml<0.19,>=0.18.1->vaex) (0.56.4)\n",
            "Requirement already satisfied: traitlets in /usr/local/lib/python3.8/dist-packages (from vaex-ml<0.19,>=0.18.1->vaex) (5.7.1)\n",
            "Requirement already satisfied: tornado>4.1 in /usr/local/lib/python3.8/dist-packages (from vaex-server<0.9,>=0.8.1->vaex) (6.0.4)\n",
            "Requirement already satisfied: uvicorn[standard] in /usr/local/lib/python3.8/dist-packages (from vaex-server<0.9,>=0.8.1->vaex) (0.20.0)\n",
            "Requirement already satisfied: fastapi in /usr/local/lib/python3.8/dist-packages (from vaex-server<0.9,>=0.8.1->vaex) (0.89.1)\n",
            "Requirement already satisfied: cachetools in /usr/local/lib/python3.8/dist-packages (from vaex-server<0.9,>=0.8.1->vaex) (5.2.1)\n",
            "Requirement already satisfied: matplotlib>=1.3.1 in /usr/local/lib/python3.8/dist-packages (from vaex-viz<0.6,>=0.5.4->vaex) (3.6.3)\n",
            "Requirement already satisfied: pillow in /usr/local/lib/python3.8/dist-packages (from vaex-viz<0.6,>=0.5.4->vaex) (7.1.2)\n",
            "Requirement already satisfied: traittypes>=0.0.6 in /usr/local/lib/python3.8/dist-packages (from bqplot>=0.10.1->vaex-jupyter<0.9,>=0.8.1->vaex) (0.2.1)\n",
            "Requirement already satisfied: ipywidgets<9,>=7.5.0 in /usr/local/lib/python3.8/dist-packages (from bqplot>=0.10.1->vaex-jupyter<0.9,>=0.8.1->vaex) (7.7.1)\n",
            "Requirement already satisfied: packaging>=20.0 in /usr/local/lib/python3.8/dist-packages (from dask!=2022.4.0->vaex-core<4.17,>=4.16.0->vaex) (21.3)\n",
            "Requirement already satisfied: partd>=0.3.10 in /usr/local/lib/python3.8/dist-packages (from dask!=2022.4.0->vaex-core<4.17,>=4.16.0->vaex) (1.3.0)\n",
            "Requirement already satisfied: fsspec>=0.6.0 in /usr/local/lib/python3.8/dist-packages (from dask!=2022.4.0->vaex-core<4.17,>=4.16.0->vaex) (2022.11.0)\n",
            "Requirement already satisfied: toolz>=0.8.2 in /usr/local/lib/python3.8/dist-packages (from dask!=2022.4.0->vaex-core<4.17,>=4.16.0->vaex) (0.12.0)\n",
            "Requirement already satisfied: ipywebrtc in /usr/local/lib/python3.8/dist-packages (from ipyvolume>=0.4->vaex-jupyter<0.9,>=0.8.1->vaex) (0.6.0)\n",
            "Requirement already satisfied: pythreejs>=2.4.0 in /usr/local/lib/python3.8/dist-packages (from ipyvolume>=0.4->vaex-jupyter<0.9,>=0.8.1->vaex) (2.4.1)\n",
            "Requirement already satisfied: ipyvue>=1.7.0 in /usr/local/lib/python3.8/dist-packages (from ipyvolume>=0.4->vaex-jupyter<0.9,>=0.8.1->vaex) (1.8.0)\n",
            "Requirement already satisfied: contourpy>=1.0.1 in /usr/local/lib/python3.8/dist-packages (from matplotlib>=1.3.1->vaex-viz<0.6,>=0.5.4->vaex) (1.0.7)\n",
            "Requirement already satisfied: cycler>=0.10 in /usr/local/lib/python3.8/dist-packages (from matplotlib>=1.3.1->vaex-viz<0.6,>=0.5.4->vaex) (0.11.0)\n",
            "Requirement already satisfied: fonttools>=4.22.0 in /usr/local/lib/python3.8/dist-packages (from matplotlib>=1.3.1->vaex-viz<0.6,>=0.5.4->vaex) (4.38.0)\n",
            "Requirement already satisfied: kiwisolver>=1.0.1 in /usr/local/lib/python3.8/dist-packages (from matplotlib>=1.3.1->vaex-viz<0.6,>=0.5.4->vaex) (1.4.4)\n",
            "Requirement already satisfied: python-dateutil>=2.7 in /usr/local/lib/python3.8/dist-packages (from matplotlib>=1.3.1->vaex-viz<0.6,>=0.5.4->vaex) (2.8.2)\n",
            "Requirement already satisfied: pyparsing>=2.2.1 in /usr/local/lib/python3.8/dist-packages (from matplotlib>=1.3.1->vaex-viz<0.6,>=0.5.4->vaex) (3.0.9)\n",
            "Requirement already satisfied: pytz>=2017.3 in /usr/local/lib/python3.8/dist-packages (from pandas->vaex-core<4.17,>=4.16.0->vaex) (2022.7)\n",
            "Requirement already satisfied: typing-extensions>=4.2.0 in /usr/local/lib/python3.8/dist-packages (from pydantic>=1.8.0->vaex-core<4.17,>=4.16.0->vaex) (4.4.0)\n",
            "Requirement already satisfied: pyerfa>=1.7.3 in /usr/local/lib/python3.8/dist-packages (from astropy->vaex-astro<0.10,>=0.9.3->vaex) (2.0.0.1)\n",
            "Requirement already satisfied: starlette==0.22.0 in /usr/local/lib/python3.8/dist-packages (from fastapi->vaex-server<0.9,>=0.8.1->vaex) (0.22.0)\n",
            "Requirement already satisfied: anyio<5,>=3.4.0 in /usr/local/lib/python3.8/dist-packages (from starlette==0.22.0->fastapi->vaex-server<0.9,>=0.8.1->vaex) (3.6.2)\n",
            "Requirement already satisfied: branca>=0.5.0 in /usr/local/lib/python3.8/dist-packages (from ipyleaflet->vaex-jupyter<0.9,>=0.8.1->vaex) (0.6.0)\n",
            "Requirement already satisfied: xyzservices>=2021.8.1 in /usr/local/lib/python3.8/dist-packages (from ipyleaflet->vaex-jupyter<0.9,>=0.8.1->vaex) (2022.9.0)\n",
            "Requirement already satisfied: ipython<9 in /usr/local/lib/python3.8/dist-packages (from ipympl->vaex-jupyter<0.9,>=0.8.1->vaex) (7.9.0)\n",
            "Requirement already satisfied: ipython-genutils in /usr/local/lib/python3.8/dist-packages (from ipympl->vaex-jupyter<0.9,>=0.8.1->vaex) (0.2.0)\n",
            "Requirement already satisfied: MarkupSafe>=0.23 in /usr/local/lib/python3.8/dist-packages (from jinja2->vaex-ml<0.19,>=0.18.1->vaex) (2.0.1)\n",
            "Requirement already satisfied: setuptools in /usr/local/lib/python3.8/dist-packages (from numba->vaex-ml<0.19,>=0.18.1->vaex) (57.4.0)\n",
            "Requirement already satisfied: llvmlite<0.40,>=0.39.0dev0 in /usr/local/lib/python3.8/dist-packages (from numba->vaex-ml<0.19,>=0.18.1->vaex) (0.39.1)\n",
            "Requirement already satisfied: importlib-metadata in /usr/local/lib/python3.8/dist-packages (from numba->vaex-ml<0.19,>=0.18.1->vaex) (6.0.0)\n",
            "Requirement already satisfied: python-utils>=2.3.0 in /usr/local/lib/python3.8/dist-packages (from progressbar2->vaex-core<4.17,>=4.16.0->vaex) (3.4.5)\n",
            "Requirement already satisfied: chardet<5,>=3.0.2 in /usr/local/lib/python3.8/dist-packages (from requests->vaex-core<4.17,>=4.16.0->vaex) (4.0.0)\n",
            "Requirement already satisfied: urllib3<1.27,>=1.21.1 in /usr/local/lib/python3.8/dist-packages (from requests->vaex-core<4.17,>=4.16.0->vaex) (1.24.3)\n",
            "Requirement already satisfied: idna<3,>=2.5 in /usr/local/lib/python3.8/dist-packages (from requests->vaex-core<4.17,>=4.16.0->vaex) (2.10)\n",
            "Requirement already satisfied: certifi>=2017.4.17 in /usr/local/lib/python3.8/dist-packages (from requests->vaex-core<4.17,>=4.16.0->vaex) (2022.12.7)\n",
            "Requirement already satisfied: pygments<3.0.0,>=2.14.0 in /usr/local/lib/python3.8/dist-packages (from rich->vaex-core<4.17,>=4.16.0->vaex) (2.14.0)\n",
            "Requirement already satisfied: markdown-it-py<3.0.0,>=2.1.0 in /usr/local/lib/python3.8/dist-packages (from rich->vaex-core<4.17,>=4.16.0->vaex) (2.1.0)\n",
            "Requirement already satisfied: h11>=0.8 in /usr/local/lib/python3.8/dist-packages (from uvicorn[standard]->vaex-server<0.9,>=0.8.1->vaex) (0.14.0)\n",
            "Requirement already satisfied: click>=7.0 in /usr/local/lib/python3.8/dist-packages (from uvicorn[standard]->vaex-server<0.9,>=0.8.1->vaex) (7.1.2)\n",
            "Requirement already satisfied: uvloop!=0.15.0,!=0.15.1,>=0.14.0 in /usr/local/lib/python3.8/dist-packages (from uvicorn[standard]->vaex-server<0.9,>=0.8.1->vaex) (0.17.0)\n",
            "Requirement already satisfied: websockets>=10.4 in /usr/local/lib/python3.8/dist-packages (from uvicorn[standard]->vaex-server<0.9,>=0.8.1->vaex) (10.4)\n",
            "Requirement already satisfied: httptools>=0.5.0 in /usr/local/lib/python3.8/dist-packages (from uvicorn[standard]->vaex-server<0.9,>=0.8.1->vaex) (0.5.0)\n",
            "Requirement already satisfied: python-dotenv>=0.13 in /usr/local/lib/python3.8/dist-packages (from uvicorn[standard]->vaex-server<0.9,>=0.8.1->vaex) (0.21.1)\n",
            "Requirement already satisfied: watchfiles>=0.13 in /usr/local/lib/python3.8/dist-packages (from uvicorn[standard]->vaex-server<0.9,>=0.8.1->vaex) (0.18.1)\n",
            "Requirement already satisfied: backcall in /usr/local/lib/python3.8/dist-packages (from ipython<9->ipympl->vaex-jupyter<0.9,>=0.8.1->vaex) (0.2.0)\n",
            "Requirement already satisfied: pickleshare in /usr/local/lib/python3.8/dist-packages (from ipython<9->ipympl->vaex-jupyter<0.9,>=0.8.1->vaex) (0.7.5)\n",
            "Requirement already satisfied: jedi>=0.10 in /usr/local/lib/python3.8/dist-packages (from ipython<9->ipympl->vaex-jupyter<0.9,>=0.8.1->vaex) (0.18.2)\n",
            "Requirement already satisfied: pexpect in /usr/local/lib/python3.8/dist-packages (from ipython<9->ipympl->vaex-jupyter<0.9,>=0.8.1->vaex) (4.8.0)\n",
            "Requirement already satisfied: decorator in /usr/local/lib/python3.8/dist-packages (from ipython<9->ipympl->vaex-jupyter<0.9,>=0.8.1->vaex) (4.4.2)\n",
            "Requirement already satisfied: prompt-toolkit<2.1.0,>=2.0.0 in /usr/local/lib/python3.8/dist-packages (from ipython<9->ipympl->vaex-jupyter<0.9,>=0.8.1->vaex) (2.0.10)\n",
            "Requirement already satisfied: jupyterlab-widgets>=1.0.0 in /usr/local/lib/python3.8/dist-packages (from ipywidgets<9,>=7.5.0->bqplot>=0.10.1->vaex-jupyter<0.9,>=0.8.1->vaex) (3.0.5)\n",
            "Requirement already satisfied: widgetsnbextension~=3.6.0 in /usr/local/lib/python3.8/dist-packages (from ipywidgets<9,>=7.5.0->bqplot>=0.10.1->vaex-jupyter<0.9,>=0.8.1->vaex) (3.6.1)\n",
            "Requirement already satisfied: ipykernel>=4.5.1 in /usr/local/lib/python3.8/dist-packages (from ipywidgets<9,>=7.5.0->bqplot>=0.10.1->vaex-jupyter<0.9,>=0.8.1->vaex) (5.3.4)\n",
            "Requirement already satisfied: mdurl~=0.1 in /usr/local/lib/python3.8/dist-packages (from markdown-it-py<3.0.0,>=2.1.0->rich->vaex-core<4.17,>=4.16.0->vaex) (0.1.2)\n",
            "Requirement already satisfied: locket in /usr/local/lib/python3.8/dist-packages (from partd>=0.3.10->dask!=2022.4.0->vaex-core<4.17,>=4.16.0->vaex) (1.0.0)\n",
            "Requirement already satisfied: ipydatawidgets>=1.1.1 in /usr/local/lib/python3.8/dist-packages (from pythreejs>=2.4.0->ipyvolume>=0.4->vaex-jupyter<0.9,>=0.8.1->vaex) (4.3.2)\n",
            "Requirement already satisfied: zipp>=0.5 in /usr/local/lib/python3.8/dist-packages (from importlib-metadata->numba->vaex-ml<0.19,>=0.18.1->vaex) (3.11.0)\n",
            "Requirement already satisfied: sniffio>=1.1 in /usr/local/lib/python3.8/dist-packages (from anyio<5,>=3.4.0->starlette==0.22.0->fastapi->vaex-server<0.9,>=0.8.1->vaex) (1.3.0)\n",
            "Requirement already satisfied: jupyter-client in /usr/local/lib/python3.8/dist-packages (from ipykernel>=4.5.1->ipywidgets<9,>=7.5.0->bqplot>=0.10.1->vaex-jupyter<0.9,>=0.8.1->vaex) (6.1.12)\n",
            "Requirement already satisfied: parso<0.9.0,>=0.8.0 in /usr/local/lib/python3.8/dist-packages (from jedi>=0.10->ipython<9->ipympl->vaex-jupyter<0.9,>=0.8.1->vaex) (0.8.3)\n",
            "Requirement already satisfied: wcwidth in /usr/local/lib/python3.8/dist-packages (from prompt-toolkit<2.1.0,>=2.0.0->ipython<9->ipympl->vaex-jupyter<0.9,>=0.8.1->vaex) (0.2.5)\n",
            "Requirement already satisfied: notebook>=4.4.1 in /usr/local/lib/python3.8/dist-packages (from widgetsnbextension~=3.6.0->ipywidgets<9,>=7.5.0->bqplot>=0.10.1->vaex-jupyter<0.9,>=0.8.1->vaex) (5.7.16)\n",
            "Requirement already satisfied: ptyprocess>=0.5 in /usr/local/lib/python3.8/dist-packages (from pexpect->ipython<9->ipympl->vaex-jupyter<0.9,>=0.8.1->vaex) (0.7.0)\n",
            "Requirement already satisfied: Send2Trash in /usr/local/lib/python3.8/dist-packages (from notebook>=4.4.1->widgetsnbextension~=3.6.0->ipywidgets<9,>=7.5.0->bqplot>=0.10.1->vaex-jupyter<0.9,>=0.8.1->vaex) (1.8.0)\n",
            "Requirement already satisfied: nbformat in /usr/local/lib/python3.8/dist-packages (from notebook>=4.4.1->widgetsnbextension~=3.6.0->ipywidgets<9,>=7.5.0->bqplot>=0.10.1->vaex-jupyter<0.9,>=0.8.1->vaex) (5.7.1)\n",
            "Requirement already satisfied: nbconvert<6.0 in /usr/local/lib/python3.8/dist-packages (from notebook>=4.4.1->widgetsnbextension~=3.6.0->ipywidgets<9,>=7.5.0->bqplot>=0.10.1->vaex-jupyter<0.9,>=0.8.1->vaex) (5.6.1)\n",
            "Requirement already satisfied: prometheus-client in /usr/local/lib/python3.8/dist-packages (from notebook>=4.4.1->widgetsnbextension~=3.6.0->ipywidgets<9,>=7.5.0->bqplot>=0.10.1->vaex-jupyter<0.9,>=0.8.1->vaex) (0.15.0)\n",
            "Requirement already satisfied: pyzmq>=17 in /usr/local/lib/python3.8/dist-packages (from notebook>=4.4.1->widgetsnbextension~=3.6.0->ipywidgets<9,>=7.5.0->bqplot>=0.10.1->vaex-jupyter<0.9,>=0.8.1->vaex) (23.2.1)\n",
            "Requirement already satisfied: terminado>=0.8.1 in /usr/local/lib/python3.8/dist-packages (from notebook>=4.4.1->widgetsnbextension~=3.6.0->ipywidgets<9,>=7.5.0->bqplot>=0.10.1->vaex-jupyter<0.9,>=0.8.1->vaex) (0.13.3)\n",
            "Requirement already satisfied: jupyter-core>=4.4.0 in /usr/local/lib/python3.8/dist-packages (from notebook>=4.4.1->widgetsnbextension~=3.6.0->ipywidgets<9,>=7.5.0->bqplot>=0.10.1->vaex-jupyter<0.9,>=0.8.1->vaex) (5.1.3)\n",
            "Requirement already satisfied: platformdirs>=2.5 in /usr/local/lib/python3.8/dist-packages (from jupyter-core>=4.4.0->notebook>=4.4.1->widgetsnbextension~=3.6.0->ipywidgets<9,>=7.5.0->bqplot>=0.10.1->vaex-jupyter<0.9,>=0.8.1->vaex) (2.6.2)\n",
            "Requirement already satisfied: entrypoints>=0.2.2 in /usr/local/lib/python3.8/dist-packages (from nbconvert<6.0->notebook>=4.4.1->widgetsnbextension~=3.6.0->ipywidgets<9,>=7.5.0->bqplot>=0.10.1->vaex-jupyter<0.9,>=0.8.1->vaex) (0.4)\n",
            "Requirement already satisfied: testpath in /usr/local/lib/python3.8/dist-packages (from nbconvert<6.0->notebook>=4.4.1->widgetsnbextension~=3.6.0->ipywidgets<9,>=7.5.0->bqplot>=0.10.1->vaex-jupyter<0.9,>=0.8.1->vaex) (0.6.0)\n",
            "Requirement already satisfied: pandocfilters>=1.4.1 in /usr/local/lib/python3.8/dist-packages (from nbconvert<6.0->notebook>=4.4.1->widgetsnbextension~=3.6.0->ipywidgets<9,>=7.5.0->bqplot>=0.10.1->vaex-jupyter<0.9,>=0.8.1->vaex) (1.5.0)\n",
            "Requirement already satisfied: defusedxml in /usr/local/lib/python3.8/dist-packages (from nbconvert<6.0->notebook>=4.4.1->widgetsnbextension~=3.6.0->ipywidgets<9,>=7.5.0->bqplot>=0.10.1->vaex-jupyter<0.9,>=0.8.1->vaex) (0.7.1)\n",
            "Requirement already satisfied: bleach in /usr/local/lib/python3.8/dist-packages (from nbconvert<6.0->notebook>=4.4.1->widgetsnbextension~=3.6.0->ipywidgets<9,>=7.5.0->bqplot>=0.10.1->vaex-jupyter<0.9,>=0.8.1->vaex) (5.0.1)\n",
            "Requirement already satisfied: mistune<2,>=0.8.1 in /usr/local/lib/python3.8/dist-packages (from nbconvert<6.0->notebook>=4.4.1->widgetsnbextension~=3.6.0->ipywidgets<9,>=7.5.0->bqplot>=0.10.1->vaex-jupyter<0.9,>=0.8.1->vaex) (0.8.4)\n",
            "Requirement already satisfied: jsonschema>=2.6 in /usr/local/lib/python3.8/dist-packages (from nbformat->notebook>=4.4.1->widgetsnbextension~=3.6.0->ipywidgets<9,>=7.5.0->bqplot>=0.10.1->vaex-jupyter<0.9,>=0.8.1->vaex) (4.3.3)\n",
            "Requirement already satisfied: fastjsonschema in /usr/local/lib/python3.8/dist-packages (from nbformat->notebook>=4.4.1->widgetsnbextension~=3.6.0->ipywidgets<9,>=7.5.0->bqplot>=0.10.1->vaex-jupyter<0.9,>=0.8.1->vaex) (2.16.2)\n",
            "Requirement already satisfied: importlib-resources>=1.4.0 in /usr/local/lib/python3.8/dist-packages (from jsonschema>=2.6->nbformat->notebook>=4.4.1->widgetsnbextension~=3.6.0->ipywidgets<9,>=7.5.0->bqplot>=0.10.1->vaex-jupyter<0.9,>=0.8.1->vaex) (5.10.2)\n",
            "Requirement already satisfied: pyrsistent!=0.17.0,!=0.17.1,!=0.17.2,>=0.14.0 in /usr/local/lib/python3.8/dist-packages (from jsonschema>=2.6->nbformat->notebook>=4.4.1->widgetsnbextension~=3.6.0->ipywidgets<9,>=7.5.0->bqplot>=0.10.1->vaex-jupyter<0.9,>=0.8.1->vaex) (0.19.3)\n",
            "Requirement already satisfied: attrs>=17.4.0 in /usr/local/lib/python3.8/dist-packages (from jsonschema>=2.6->nbformat->notebook>=4.4.1->widgetsnbextension~=3.6.0->ipywidgets<9,>=7.5.0->bqplot>=0.10.1->vaex-jupyter<0.9,>=0.8.1->vaex) (22.2.0)\n",
            "Requirement already satisfied: webencodings in /usr/local/lib/python3.8/dist-packages (from bleach->nbconvert<6.0->notebook>=4.4.1->widgetsnbextension~=3.6.0->ipywidgets<9,>=7.5.0->bqplot>=0.10.1->vaex-jupyter<0.9,>=0.8.1->vaex) (0.5.1)\n",
            "Looking in indexes: https://pypi.org/simple, https://us-python.pkg.dev/colab-wheels/public/simple/\n",
            "Requirement already satisfied: vaex-viz in /usr/local/lib/python3.8/dist-packages (0.5.4)\n",
            "Requirement already satisfied: pillow in /usr/local/lib/python3.8/dist-packages (from vaex-viz) (7.1.2)\n",
            "Requirement already satisfied: vaex-core<5,>=4.0.0 in /usr/local/lib/python3.8/dist-packages (from vaex-viz) (4.16.1)\n",
            "Requirement already satisfied: matplotlib>=1.3.1 in /usr/local/lib/python3.8/dist-packages (from vaex-viz) (3.6.3)\n",
            "Requirement already satisfied: numpy>=1.19 in /usr/local/lib/python3.8/dist-packages (from matplotlib>=1.3.1->vaex-viz) (1.21.6)\n",
            "Requirement already satisfied: fonttools>=4.22.0 in /usr/local/lib/python3.8/dist-packages (from matplotlib>=1.3.1->vaex-viz) (4.38.0)\n",
            "Requirement already satisfied: packaging>=20.0 in /usr/local/lib/python3.8/dist-packages (from matplotlib>=1.3.1->vaex-viz) (21.3)\n",
            "Requirement already satisfied: kiwisolver>=1.0.1 in /usr/local/lib/python3.8/dist-packages (from matplotlib>=1.3.1->vaex-viz) (1.4.4)\n",
            "Requirement already satisfied: cycler>=0.10 in /usr/local/lib/python3.8/dist-packages (from matplotlib>=1.3.1->vaex-viz) (0.11.0)\n",
            "Requirement already satisfied: python-dateutil>=2.7 in /usr/local/lib/python3.8/dist-packages (from matplotlib>=1.3.1->vaex-viz) (2.8.2)\n",
            "Requirement already satisfied: contourpy>=1.0.1 in /usr/local/lib/python3.8/dist-packages (from matplotlib>=1.3.1->vaex-viz) (1.0.7)\n",
            "Requirement already satisfied: pyparsing>=2.2.1 in /usr/local/lib/python3.8/dist-packages (from matplotlib>=1.3.1->vaex-viz) (3.0.9)\n",
            "Requirement already satisfied: dask!=2022.4.0 in /usr/local/lib/python3.8/dist-packages (from vaex-core<5,>=4.0.0->vaex-viz) (2022.2.1)\n",
            "Requirement already satisfied: tabulate>=0.8.3 in /usr/local/lib/python3.8/dist-packages (from vaex-core<5,>=4.0.0->vaex-viz) (0.8.10)\n",
            "Requirement already satisfied: future>=0.15.2 in /usr/local/lib/python3.8/dist-packages (from vaex-core<5,>=4.0.0->vaex-viz) (0.16.0)\n",
            "Requirement already satisfied: pyyaml in /usr/local/lib/python3.8/dist-packages (from vaex-core<5,>=4.0.0->vaex-viz) (6.0)\n",
            "Requirement already satisfied: filelock in /usr/local/lib/python3.8/dist-packages (from vaex-core<5,>=4.0.0->vaex-viz) (3.9.0)\n",
            "Requirement already satisfied: blake3 in /usr/local/lib/python3.8/dist-packages (from vaex-core<5,>=4.0.0->vaex-viz) (0.3.3)\n",
            "Requirement already satisfied: pandas in /usr/local/lib/python3.8/dist-packages (from vaex-core<5,>=4.0.0->vaex-viz) (1.3.5)\n",
            "Requirement already satisfied: nest-asyncio>=1.3.3 in /usr/local/lib/python3.8/dist-packages (from vaex-core<5,>=4.0.0->vaex-viz) (1.5.6)\n",
            "Requirement already satisfied: pyarrow>=5.0.0 in /usr/local/lib/python3.8/dist-packages (from vaex-core<5,>=4.0.0->vaex-viz) (9.0.0)\n",
            "Requirement already satisfied: pydantic>=1.8.0 in /usr/local/lib/python3.8/dist-packages (from vaex-core<5,>=4.0.0->vaex-viz) (1.10.4)\n",
            "Requirement already satisfied: rich in /usr/local/lib/python3.8/dist-packages (from vaex-core<5,>=4.0.0->vaex-viz) (13.3.1)\n",
            "Requirement already satisfied: cloudpickle in /usr/local/lib/python3.8/dist-packages (from vaex-core<5,>=4.0.0->vaex-viz) (2.2.0)\n",
            "Requirement already satisfied: six in /usr/local/lib/python3.8/dist-packages (from vaex-core<5,>=4.0.0->vaex-viz) (1.15.0)\n",
            "Requirement already satisfied: frozendict!=2.2.0 in /usr/local/lib/python3.8/dist-packages (from vaex-core<5,>=4.0.0->vaex-viz) (2.3.4)\n",
            "Requirement already satisfied: progressbar2 in /usr/local/lib/python3.8/dist-packages (from vaex-core<5,>=4.0.0->vaex-viz) (3.38.0)\n",
            "Requirement already satisfied: requests in /usr/local/lib/python3.8/dist-packages (from vaex-core<5,>=4.0.0->vaex-viz) (2.25.1)\n",
            "Requirement already satisfied: aplus in /usr/local/lib/python3.8/dist-packages (from vaex-core<5,>=4.0.0->vaex-viz) (0.11.0)\n",
            "Requirement already satisfied: partd>=0.3.10 in /usr/local/lib/python3.8/dist-packages (from dask!=2022.4.0->vaex-core<5,>=4.0.0->vaex-viz) (1.3.0)\n",
            "Requirement already satisfied: toolz>=0.8.2 in /usr/local/lib/python3.8/dist-packages (from dask!=2022.4.0->vaex-core<5,>=4.0.0->vaex-viz) (0.12.0)\n",
            "Requirement already satisfied: fsspec>=0.6.0 in /usr/local/lib/python3.8/dist-packages (from dask!=2022.4.0->vaex-core<5,>=4.0.0->vaex-viz) (2022.11.0)\n",
            "Requirement already satisfied: typing-extensions>=4.2.0 in /usr/local/lib/python3.8/dist-packages (from pydantic>=1.8.0->vaex-core<5,>=4.0.0->vaex-viz) (4.4.0)\n",
            "Requirement already satisfied: pytz>=2017.3 in /usr/local/lib/python3.8/dist-packages (from pandas->vaex-core<5,>=4.0.0->vaex-viz) (2022.7)\n",
            "Requirement already satisfied: python-utils>=2.3.0 in /usr/local/lib/python3.8/dist-packages (from progressbar2->vaex-core<5,>=4.0.0->vaex-viz) (3.4.5)\n",
            "Requirement already satisfied: idna<3,>=2.5 in /usr/local/lib/python3.8/dist-packages (from requests->vaex-core<5,>=4.0.0->vaex-viz) (2.10)\n",
            "Requirement already satisfied: urllib3<1.27,>=1.21.1 in /usr/local/lib/python3.8/dist-packages (from requests->vaex-core<5,>=4.0.0->vaex-viz) (1.24.3)\n",
            "Requirement already satisfied: certifi>=2017.4.17 in /usr/local/lib/python3.8/dist-packages (from requests->vaex-core<5,>=4.0.0->vaex-viz) (2022.12.7)\n",
            "Requirement already satisfied: chardet<5,>=3.0.2 in /usr/local/lib/python3.8/dist-packages (from requests->vaex-core<5,>=4.0.0->vaex-viz) (4.0.0)\n",
            "Requirement already satisfied: pygments<3.0.0,>=2.14.0 in /usr/local/lib/python3.8/dist-packages (from rich->vaex-core<5,>=4.0.0->vaex-viz) (2.14.0)\n",
            "Requirement already satisfied: markdown-it-py<3.0.0,>=2.1.0 in /usr/local/lib/python3.8/dist-packages (from rich->vaex-core<5,>=4.0.0->vaex-viz) (2.1.0)\n",
            "Requirement already satisfied: mdurl~=0.1 in /usr/local/lib/python3.8/dist-packages (from markdown-it-py<3.0.0,>=2.1.0->rich->vaex-core<5,>=4.0.0->vaex-viz) (0.1.2)\n",
            "Requirement already satisfied: locket in /usr/local/lib/python3.8/dist-packages (from partd>=0.3.10->dask!=2022.4.0->vaex-core<5,>=4.0.0->vaex-viz) (1.0.0)\n"
          ]
        }
      ],
      "source": [
        "!pip install vaex\n",
        "!pip install vaex-viz"
      ]
    },
    {
      "cell_type": "code",
      "execution_count": 2,
      "metadata": {
        "id": "Ep3FjAefzwxa"
      },
      "outputs": [],
      "source": [
        "import vaex as vx"
      ]
    },
    {
      "cell_type": "markdown",
      "metadata": {
        "id": "Ka99vIE4zfAP"
      },
      "source": [
        "**Pandas Library**"
      ]
    },
    {
      "cell_type": "code",
      "execution_count": 31,
      "metadata": {
        "id": "guEZhsOmewnE"
      },
      "outputs": [],
      "source": [
        "import pandas as pd\n",
        "import numpy as np\n",
        "import matplotlib.pyplot as plt\n",
        "import time\n",
        "from timeit import default_timer as timer"
      ]
    },
    {
      "cell_type": "markdown",
      "metadata": {
        "id": "kLoOmqNqyzuo"
      },
      "source": [
        "# Retrieve/Pulling Dataset from Google Drive"
      ]
    },
    {
      "cell_type": "code",
      "execution_count": 4,
      "metadata": {
        "id": "pSCkjRx8bw5k",
        "colab": {
          "base_uri": "https://localhost:8080/"
        },
        "outputId": "14f86b97-e08f-478e-8367-5d14aa2f2295"
      },
      "outputs": [
        {
          "output_type": "stream",
          "name": "stdout",
          "text": [
            "2017.csv\n",
            "2016.csv\n",
            "2018.csv\n"
          ]
        }
      ],
      "source": [
        "# Pull dataset from my google drive \n",
        "!pip install -U -q PyDrive\n",
        "from pydrive.auth import GoogleAuth\n",
        "from pydrive.drive import GoogleDrive\n",
        "from google.colab import auth\n",
        "from oauth2client.client import GoogleCredentials\n",
        "\n",
        "# Authenticate and create the PyDrive client.\n",
        "auth.authenticate_user()\n",
        "gauth = GoogleAuth()\n",
        "gauth.credentials = GoogleCredentials.get_application_default()\n",
        "drive = GoogleDrive(gauth)\n",
        "link = 'https://drive.google.com/drive/u/1/folders/1fpBzh5qnR0PkRfM3Ba23AoqzEKoMcqdi'\n",
        "# to get the id part of the file\n",
        "id = link.split(\"/\")[-2]\n",
        "downloaded = drive.CreateFile({'id':id})\n",
        "\n",
        "# Get the folder ID\n",
        "folder_id = '1fpBzh5qnR0PkRfM3Ba23AoqzEKoMcqdi'\n",
        "\n",
        "# Use the ListFile method to list all the files in the folder\n",
        "file_list = drive.ListFile({'q': \"'\" + folder_id + \"' in parents and trashed = false\"}).GetList()\n",
        "\n",
        "# Iterate through the list of files and download each one\n",
        "for file in file_list:\n",
        "    print(file['title'])\n",
        "    file_id = file['id']\n",
        "    downloaded = drive.CreateFile({'id': file_id})\n",
        "    downloaded.GetContentFile(file['title'])"
      ]
    },
    {
      "cell_type": "markdown",
      "metadata": {
        "id": "Tj52W6bDrjvL"
      },
      "source": [
        "# Reading Dataset into Dataframe"
      ]
    },
    {
      "cell_type": "markdown",
      "metadata": {
        "id": "mG3iyO-Iqlx-"
      },
      "source": [
        "**Reading The Dataset into a Dataframe:** Using *Koalas*\n",
        "\n",
        "\n",
        "*   Read all 3 files\n",
        "*   Combine/Merge the dataframe into a single dataframe\n",
        "\n"
      ]
    },
    {
      "cell_type": "code",
      "execution_count": null,
      "metadata": {
        "id": "YJwk7GW9b0DG",
        "colab": {
          "base_uri": "https://localhost:8080/",
          "height": 330
        },
        "outputId": "e508e317-bde6-4c59-af44-c2af4a52de9b"
      },
      "outputs": [
        {
          "output_type": "execute_result",
          "data": {
            "text/plain": [
              "     FL_DATE OP_CARRIER  OP_CARRIER_FL_NUM ORIGIN DEST  CRS_DEP_TIME  DEP_TIME  DEP_DELAY  TAXI_OUT  WHEELS_OFF  WHEELS_ON  TAXI_IN  CRS_ARR_TIME  ARR_TIME  ARR_DELAY  CANCELLED CANCELLATION_CODE  DIVERTED  CRS_ELAPSED_TIME  ACTUAL_ELAPSED_TIME  AIR_TIME  DISTANCE  CARRIER_DELAY  WEATHER_DELAY  NAS_DELAY  SECURITY_DELAY  LATE_AIRCRAFT_DELAY Unnamed: 27\n",
              "0 2016-01-01         DL               1248    DTW  LAX          1935    1935.0        0.0      23.0      1958.0     2107.0     13.0          2144    2120.0      -24.0        0.0              None       0.0             309.0                285.0     249.0    1979.0            NaN            NaN        NaN             NaN                  NaN        None\n",
              "1 2016-01-01         DL               1251    ATL  GRR          2125    2130.0        5.0      13.0      2143.0     2315.0      4.0          2321    2319.0       -2.0        0.0              None       0.0             116.0                109.0      92.0     640.0            NaN            NaN        NaN             NaN                  NaN        None\n",
              "2 2016-01-01         DL               1254    LAX  ATL          2255    2256.0        1.0      19.0      2315.0      542.0      5.0           600     547.0      -13.0        0.0              None       0.0             245.0                231.0     207.0    1947.0            NaN            NaN        NaN             NaN                  NaN        None\n",
              "3 2016-01-01         DL               1255    SLC  ATL          1656    1700.0        4.0      12.0      1712.0     2205.0      8.0          2229    2213.0      -16.0        0.0              None       0.0             213.0                193.0     173.0    1590.0            NaN            NaN        NaN             NaN                  NaN        None\n",
              "4 2016-01-01         DL               1256    BZN  MSP           900    1012.0       72.0      63.0      1115.0     1416.0      4.0          1216    1420.0      124.0        0.0              None       0.0             136.0                188.0     121.0     874.0           72.0            0.0       52.0             0.0                  0.0        None"
            ],
            "text/html": [
              "<div>\n",
              "<style scoped>\n",
              "    .dataframe tbody tr th:only-of-type {\n",
              "        vertical-align: middle;\n",
              "    }\n",
              "\n",
              "    .dataframe tbody tr th {\n",
              "        vertical-align: top;\n",
              "    }\n",
              "\n",
              "    .dataframe thead th {\n",
              "        text-align: right;\n",
              "    }\n",
              "</style>\n",
              "<table border=\"1\" class=\"dataframe\">\n",
              "  <thead>\n",
              "    <tr style=\"text-align: right;\">\n",
              "      <th></th>\n",
              "      <th>FL_DATE</th>\n",
              "      <th>OP_CARRIER</th>\n",
              "      <th>OP_CARRIER_FL_NUM</th>\n",
              "      <th>ORIGIN</th>\n",
              "      <th>DEST</th>\n",
              "      <th>CRS_DEP_TIME</th>\n",
              "      <th>DEP_TIME</th>\n",
              "      <th>DEP_DELAY</th>\n",
              "      <th>TAXI_OUT</th>\n",
              "      <th>WHEELS_OFF</th>\n",
              "      <th>WHEELS_ON</th>\n",
              "      <th>TAXI_IN</th>\n",
              "      <th>CRS_ARR_TIME</th>\n",
              "      <th>ARR_TIME</th>\n",
              "      <th>ARR_DELAY</th>\n",
              "      <th>CANCELLED</th>\n",
              "      <th>CANCELLATION_CODE</th>\n",
              "      <th>DIVERTED</th>\n",
              "      <th>CRS_ELAPSED_TIME</th>\n",
              "      <th>ACTUAL_ELAPSED_TIME</th>\n",
              "      <th>AIR_TIME</th>\n",
              "      <th>DISTANCE</th>\n",
              "      <th>CARRIER_DELAY</th>\n",
              "      <th>WEATHER_DELAY</th>\n",
              "      <th>NAS_DELAY</th>\n",
              "      <th>SECURITY_DELAY</th>\n",
              "      <th>LATE_AIRCRAFT_DELAY</th>\n",
              "      <th>Unnamed: 27</th>\n",
              "    </tr>\n",
              "  </thead>\n",
              "  <tbody>\n",
              "    <tr>\n",
              "      <th>0</th>\n",
              "      <td>2016-01-01</td>\n",
              "      <td>DL</td>\n",
              "      <td>1248</td>\n",
              "      <td>DTW</td>\n",
              "      <td>LAX</td>\n",
              "      <td>1935</td>\n",
              "      <td>1935.0</td>\n",
              "      <td>0.0</td>\n",
              "      <td>23.0</td>\n",
              "      <td>1958.0</td>\n",
              "      <td>2107.0</td>\n",
              "      <td>13.0</td>\n",
              "      <td>2144</td>\n",
              "      <td>2120.0</td>\n",
              "      <td>-24.0</td>\n",
              "      <td>0.0</td>\n",
              "      <td>None</td>\n",
              "      <td>0.0</td>\n",
              "      <td>309.0</td>\n",
              "      <td>285.0</td>\n",
              "      <td>249.0</td>\n",
              "      <td>1979.0</td>\n",
              "      <td>NaN</td>\n",
              "      <td>NaN</td>\n",
              "      <td>NaN</td>\n",
              "      <td>NaN</td>\n",
              "      <td>NaN</td>\n",
              "      <td>None</td>\n",
              "    </tr>\n",
              "    <tr>\n",
              "      <th>1</th>\n",
              "      <td>2016-01-01</td>\n",
              "      <td>DL</td>\n",
              "      <td>1251</td>\n",
              "      <td>ATL</td>\n",
              "      <td>GRR</td>\n",
              "      <td>2125</td>\n",
              "      <td>2130.0</td>\n",
              "      <td>5.0</td>\n",
              "      <td>13.0</td>\n",
              "      <td>2143.0</td>\n",
              "      <td>2315.0</td>\n",
              "      <td>4.0</td>\n",
              "      <td>2321</td>\n",
              "      <td>2319.0</td>\n",
              "      <td>-2.0</td>\n",
              "      <td>0.0</td>\n",
              "      <td>None</td>\n",
              "      <td>0.0</td>\n",
              "      <td>116.0</td>\n",
              "      <td>109.0</td>\n",
              "      <td>92.0</td>\n",
              "      <td>640.0</td>\n",
              "      <td>NaN</td>\n",
              "      <td>NaN</td>\n",
              "      <td>NaN</td>\n",
              "      <td>NaN</td>\n",
              "      <td>NaN</td>\n",
              "      <td>None</td>\n",
              "    </tr>\n",
              "    <tr>\n",
              "      <th>2</th>\n",
              "      <td>2016-01-01</td>\n",
              "      <td>DL</td>\n",
              "      <td>1254</td>\n",
              "      <td>LAX</td>\n",
              "      <td>ATL</td>\n",
              "      <td>2255</td>\n",
              "      <td>2256.0</td>\n",
              "      <td>1.0</td>\n",
              "      <td>19.0</td>\n",
              "      <td>2315.0</td>\n",
              "      <td>542.0</td>\n",
              "      <td>5.0</td>\n",
              "      <td>600</td>\n",
              "      <td>547.0</td>\n",
              "      <td>-13.0</td>\n",
              "      <td>0.0</td>\n",
              "      <td>None</td>\n",
              "      <td>0.0</td>\n",
              "      <td>245.0</td>\n",
              "      <td>231.0</td>\n",
              "      <td>207.0</td>\n",
              "      <td>1947.0</td>\n",
              "      <td>NaN</td>\n",
              "      <td>NaN</td>\n",
              "      <td>NaN</td>\n",
              "      <td>NaN</td>\n",
              "      <td>NaN</td>\n",
              "      <td>None</td>\n",
              "    </tr>\n",
              "    <tr>\n",
              "      <th>3</th>\n",
              "      <td>2016-01-01</td>\n",
              "      <td>DL</td>\n",
              "      <td>1255</td>\n",
              "      <td>SLC</td>\n",
              "      <td>ATL</td>\n",
              "      <td>1656</td>\n",
              "      <td>1700.0</td>\n",
              "      <td>4.0</td>\n",
              "      <td>12.0</td>\n",
              "      <td>1712.0</td>\n",
              "      <td>2205.0</td>\n",
              "      <td>8.0</td>\n",
              "      <td>2229</td>\n",
              "      <td>2213.0</td>\n",
              "      <td>-16.0</td>\n",
              "      <td>0.0</td>\n",
              "      <td>None</td>\n",
              "      <td>0.0</td>\n",
              "      <td>213.0</td>\n",
              "      <td>193.0</td>\n",
              "      <td>173.0</td>\n",
              "      <td>1590.0</td>\n",
              "      <td>NaN</td>\n",
              "      <td>NaN</td>\n",
              "      <td>NaN</td>\n",
              "      <td>NaN</td>\n",
              "      <td>NaN</td>\n",
              "      <td>None</td>\n",
              "    </tr>\n",
              "    <tr>\n",
              "      <th>4</th>\n",
              "      <td>2016-01-01</td>\n",
              "      <td>DL</td>\n",
              "      <td>1256</td>\n",
              "      <td>BZN</td>\n",
              "      <td>MSP</td>\n",
              "      <td>900</td>\n",
              "      <td>1012.0</td>\n",
              "      <td>72.0</td>\n",
              "      <td>63.0</td>\n",
              "      <td>1115.0</td>\n",
              "      <td>1416.0</td>\n",
              "      <td>4.0</td>\n",
              "      <td>1216</td>\n",
              "      <td>1420.0</td>\n",
              "      <td>124.0</td>\n",
              "      <td>0.0</td>\n",
              "      <td>None</td>\n",
              "      <td>0.0</td>\n",
              "      <td>136.0</td>\n",
              "      <td>188.0</td>\n",
              "      <td>121.0</td>\n",
              "      <td>874.0</td>\n",
              "      <td>72.0</td>\n",
              "      <td>0.0</td>\n",
              "      <td>52.0</td>\n",
              "      <td>0.0</td>\n",
              "      <td>0.0</td>\n",
              "      <td>None</td>\n",
              "    </tr>\n",
              "  </tbody>\n",
              "</table>\n",
              "</div>"
            ]
          },
          "metadata": {},
          "execution_count": 8
        }
      ],
      "source": [
        "df1 = ks.read_csv(\"2016.csv\")\n",
        "df1.head()"
      ]
    },
    {
      "cell_type": "code",
      "execution_count": null,
      "metadata": {
        "id": "wh5kzgXGe9ia",
        "colab": {
          "base_uri": "https://localhost:8080/",
          "height": 330
        },
        "outputId": "4c9691d1-2a0c-4f52-b9ef-0e1cb84a28ca"
      },
      "outputs": [
        {
          "output_type": "execute_result",
          "data": {
            "text/plain": [
              "     FL_DATE OP_CARRIER  OP_CARRIER_FL_NUM ORIGIN DEST  CRS_DEP_TIME  DEP_TIME  DEP_DELAY  TAXI_OUT  WHEELS_OFF  WHEELS_ON  TAXI_IN  CRS_ARR_TIME  ARR_TIME  ARR_DELAY  CANCELLED CANCELLATION_CODE  DIVERTED  CRS_ELAPSED_TIME  ACTUAL_ELAPSED_TIME  AIR_TIME  DISTANCE  CARRIER_DELAY  WEATHER_DELAY  NAS_DELAY  SECURITY_DELAY  LATE_AIRCRAFT_DELAY Unnamed: 27\n",
              "0 2017-01-01         AA                  1    JFK  LAX           800     831.0       31.0      25.0       856.0     1143.0     26.0          1142    1209.0       27.0        0.0              None       0.0             402.0                398.0     347.0    2475.0           27.0            0.0        0.0             0.0                  0.0        None\n",
              "1 2017-01-01         AA                  2    LAX  JFK           900     934.0       34.0      34.0      1008.0     1757.0     12.0          1727    1809.0       42.0        0.0              None       0.0             327.0                335.0     289.0    2475.0           34.0            0.0        8.0             0.0                  0.0        None\n",
              "2 2017-01-01         AA                  4    LAX  JFK          1130    1221.0       51.0      20.0      1241.0     2025.0     15.0          1958    2040.0       42.0        0.0              None       0.0             328.0                319.0     284.0    2475.0            7.0            0.0        0.0             0.0                 35.0        None\n",
              "3 2017-01-01         AA                  5    DFW  HNL          1135    1252.0       77.0      19.0      1311.0     1744.0      5.0          1612    1749.0       97.0        0.0              None       0.0             517.0                537.0     513.0    3784.0           77.0            0.0       20.0             0.0                  0.0        None\n",
              "4 2017-01-01         AA                  6    OGG  DFW          1855    1855.0        0.0      16.0      1911.0      631.0     11.0           600     642.0       42.0        0.0              None       0.0             425.0                467.0     440.0    3711.0            0.0            0.0       42.0             0.0                  0.0        None"
            ],
            "text/html": [
              "<div>\n",
              "<style scoped>\n",
              "    .dataframe tbody tr th:only-of-type {\n",
              "        vertical-align: middle;\n",
              "    }\n",
              "\n",
              "    .dataframe tbody tr th {\n",
              "        vertical-align: top;\n",
              "    }\n",
              "\n",
              "    .dataframe thead th {\n",
              "        text-align: right;\n",
              "    }\n",
              "</style>\n",
              "<table border=\"1\" class=\"dataframe\">\n",
              "  <thead>\n",
              "    <tr style=\"text-align: right;\">\n",
              "      <th></th>\n",
              "      <th>FL_DATE</th>\n",
              "      <th>OP_CARRIER</th>\n",
              "      <th>OP_CARRIER_FL_NUM</th>\n",
              "      <th>ORIGIN</th>\n",
              "      <th>DEST</th>\n",
              "      <th>CRS_DEP_TIME</th>\n",
              "      <th>DEP_TIME</th>\n",
              "      <th>DEP_DELAY</th>\n",
              "      <th>TAXI_OUT</th>\n",
              "      <th>WHEELS_OFF</th>\n",
              "      <th>WHEELS_ON</th>\n",
              "      <th>TAXI_IN</th>\n",
              "      <th>CRS_ARR_TIME</th>\n",
              "      <th>ARR_TIME</th>\n",
              "      <th>ARR_DELAY</th>\n",
              "      <th>CANCELLED</th>\n",
              "      <th>CANCELLATION_CODE</th>\n",
              "      <th>DIVERTED</th>\n",
              "      <th>CRS_ELAPSED_TIME</th>\n",
              "      <th>ACTUAL_ELAPSED_TIME</th>\n",
              "      <th>AIR_TIME</th>\n",
              "      <th>DISTANCE</th>\n",
              "      <th>CARRIER_DELAY</th>\n",
              "      <th>WEATHER_DELAY</th>\n",
              "      <th>NAS_DELAY</th>\n",
              "      <th>SECURITY_DELAY</th>\n",
              "      <th>LATE_AIRCRAFT_DELAY</th>\n",
              "      <th>Unnamed: 27</th>\n",
              "    </tr>\n",
              "  </thead>\n",
              "  <tbody>\n",
              "    <tr>\n",
              "      <th>0</th>\n",
              "      <td>2017-01-01</td>\n",
              "      <td>AA</td>\n",
              "      <td>1</td>\n",
              "      <td>JFK</td>\n",
              "      <td>LAX</td>\n",
              "      <td>800</td>\n",
              "      <td>831.0</td>\n",
              "      <td>31.0</td>\n",
              "      <td>25.0</td>\n",
              "      <td>856.0</td>\n",
              "      <td>1143.0</td>\n",
              "      <td>26.0</td>\n",
              "      <td>1142</td>\n",
              "      <td>1209.0</td>\n",
              "      <td>27.0</td>\n",
              "      <td>0.0</td>\n",
              "      <td>None</td>\n",
              "      <td>0.0</td>\n",
              "      <td>402.0</td>\n",
              "      <td>398.0</td>\n",
              "      <td>347.0</td>\n",
              "      <td>2475.0</td>\n",
              "      <td>27.0</td>\n",
              "      <td>0.0</td>\n",
              "      <td>0.0</td>\n",
              "      <td>0.0</td>\n",
              "      <td>0.0</td>\n",
              "      <td>None</td>\n",
              "    </tr>\n",
              "    <tr>\n",
              "      <th>1</th>\n",
              "      <td>2017-01-01</td>\n",
              "      <td>AA</td>\n",
              "      <td>2</td>\n",
              "      <td>LAX</td>\n",
              "      <td>JFK</td>\n",
              "      <td>900</td>\n",
              "      <td>934.0</td>\n",
              "      <td>34.0</td>\n",
              "      <td>34.0</td>\n",
              "      <td>1008.0</td>\n",
              "      <td>1757.0</td>\n",
              "      <td>12.0</td>\n",
              "      <td>1727</td>\n",
              "      <td>1809.0</td>\n",
              "      <td>42.0</td>\n",
              "      <td>0.0</td>\n",
              "      <td>None</td>\n",
              "      <td>0.0</td>\n",
              "      <td>327.0</td>\n",
              "      <td>335.0</td>\n",
              "      <td>289.0</td>\n",
              "      <td>2475.0</td>\n",
              "      <td>34.0</td>\n",
              "      <td>0.0</td>\n",
              "      <td>8.0</td>\n",
              "      <td>0.0</td>\n",
              "      <td>0.0</td>\n",
              "      <td>None</td>\n",
              "    </tr>\n",
              "    <tr>\n",
              "      <th>2</th>\n",
              "      <td>2017-01-01</td>\n",
              "      <td>AA</td>\n",
              "      <td>4</td>\n",
              "      <td>LAX</td>\n",
              "      <td>JFK</td>\n",
              "      <td>1130</td>\n",
              "      <td>1221.0</td>\n",
              "      <td>51.0</td>\n",
              "      <td>20.0</td>\n",
              "      <td>1241.0</td>\n",
              "      <td>2025.0</td>\n",
              "      <td>15.0</td>\n",
              "      <td>1958</td>\n",
              "      <td>2040.0</td>\n",
              "      <td>42.0</td>\n",
              "      <td>0.0</td>\n",
              "      <td>None</td>\n",
              "      <td>0.0</td>\n",
              "      <td>328.0</td>\n",
              "      <td>319.0</td>\n",
              "      <td>284.0</td>\n",
              "      <td>2475.0</td>\n",
              "      <td>7.0</td>\n",
              "      <td>0.0</td>\n",
              "      <td>0.0</td>\n",
              "      <td>0.0</td>\n",
              "      <td>35.0</td>\n",
              "      <td>None</td>\n",
              "    </tr>\n",
              "    <tr>\n",
              "      <th>3</th>\n",
              "      <td>2017-01-01</td>\n",
              "      <td>AA</td>\n",
              "      <td>5</td>\n",
              "      <td>DFW</td>\n",
              "      <td>HNL</td>\n",
              "      <td>1135</td>\n",
              "      <td>1252.0</td>\n",
              "      <td>77.0</td>\n",
              "      <td>19.0</td>\n",
              "      <td>1311.0</td>\n",
              "      <td>1744.0</td>\n",
              "      <td>5.0</td>\n",
              "      <td>1612</td>\n",
              "      <td>1749.0</td>\n",
              "      <td>97.0</td>\n",
              "      <td>0.0</td>\n",
              "      <td>None</td>\n",
              "      <td>0.0</td>\n",
              "      <td>517.0</td>\n",
              "      <td>537.0</td>\n",
              "      <td>513.0</td>\n",
              "      <td>3784.0</td>\n",
              "      <td>77.0</td>\n",
              "      <td>0.0</td>\n",
              "      <td>20.0</td>\n",
              "      <td>0.0</td>\n",
              "      <td>0.0</td>\n",
              "      <td>None</td>\n",
              "    </tr>\n",
              "    <tr>\n",
              "      <th>4</th>\n",
              "      <td>2017-01-01</td>\n",
              "      <td>AA</td>\n",
              "      <td>6</td>\n",
              "      <td>OGG</td>\n",
              "      <td>DFW</td>\n",
              "      <td>1855</td>\n",
              "      <td>1855.0</td>\n",
              "      <td>0.0</td>\n",
              "      <td>16.0</td>\n",
              "      <td>1911.0</td>\n",
              "      <td>631.0</td>\n",
              "      <td>11.0</td>\n",
              "      <td>600</td>\n",
              "      <td>642.0</td>\n",
              "      <td>42.0</td>\n",
              "      <td>0.0</td>\n",
              "      <td>None</td>\n",
              "      <td>0.0</td>\n",
              "      <td>425.0</td>\n",
              "      <td>467.0</td>\n",
              "      <td>440.0</td>\n",
              "      <td>3711.0</td>\n",
              "      <td>0.0</td>\n",
              "      <td>0.0</td>\n",
              "      <td>42.0</td>\n",
              "      <td>0.0</td>\n",
              "      <td>0.0</td>\n",
              "      <td>None</td>\n",
              "    </tr>\n",
              "  </tbody>\n",
              "</table>\n",
              "</div>"
            ]
          },
          "metadata": {},
          "execution_count": 9
        }
      ],
      "source": [
        "df2 = ks.read_csv(\"2017.csv\")\n",
        "df2.head()"
      ]
    },
    {
      "cell_type": "code",
      "execution_count": null,
      "metadata": {
        "id": "wPrKGj_3WaSa",
        "colab": {
          "base_uri": "https://localhost:8080/",
          "height": 330
        },
        "outputId": "3ab07c8f-0e1a-467d-c555-55f6f3d450d3"
      },
      "outputs": [
        {
          "output_type": "execute_result",
          "data": {
            "text/plain": [
              "     FL_DATE OP_CARRIER  OP_CARRIER_FL_NUM ORIGIN DEST  CRS_DEP_TIME  DEP_TIME  DEP_DELAY  TAXI_OUT  WHEELS_OFF  WHEELS_ON  TAXI_IN  CRS_ARR_TIME  ARR_TIME  ARR_DELAY  CANCELLED CANCELLATION_CODE  DIVERTED  CRS_ELAPSED_TIME  ACTUAL_ELAPSED_TIME  AIR_TIME  DISTANCE  CARRIER_DELAY  WEATHER_DELAY  NAS_DELAY  SECURITY_DELAY  LATE_AIRCRAFT_DELAY Unnamed: 27\n",
              "0 2018-01-01         UA               2429    EWR  DEN          1517    1512.0       -5.0      15.0      1527.0     1712.0     10.0          1745    1722.0      -23.0        0.0              None       0.0             268.0                250.0     225.0    1605.0            NaN            NaN        NaN             NaN                  NaN        None\n",
              "1 2018-01-01         UA               2427    LAS  SFO          1115    1107.0       -8.0      11.0      1118.0     1223.0      7.0          1254    1230.0      -24.0        0.0              None       0.0              99.0                 83.0      65.0     414.0            NaN            NaN        NaN             NaN                  NaN        None\n",
              "2 2018-01-01         UA               2426    SNA  DEN          1335    1330.0       -5.0      15.0      1345.0     1631.0      5.0          1649    1636.0      -13.0        0.0              None       0.0             134.0                126.0     106.0     846.0            NaN            NaN        NaN             NaN                  NaN        None\n",
              "3 2018-01-01         UA               2425    RSW  ORD          1546    1552.0        6.0      19.0      1611.0     1748.0      6.0          1756    1754.0       -2.0        0.0              None       0.0             190.0                182.0     157.0    1120.0            NaN            NaN        NaN             NaN                  NaN        None\n",
              "4 2018-01-01         UA               2424    ORD  ALB           630     650.0       20.0      13.0       703.0      926.0     10.0           922     936.0       14.0        0.0              None       0.0             112.0                106.0      83.0     723.0            NaN            NaN        NaN             NaN                  NaN        None"
            ],
            "text/html": [
              "<div>\n",
              "<style scoped>\n",
              "    .dataframe tbody tr th:only-of-type {\n",
              "        vertical-align: middle;\n",
              "    }\n",
              "\n",
              "    .dataframe tbody tr th {\n",
              "        vertical-align: top;\n",
              "    }\n",
              "\n",
              "    .dataframe thead th {\n",
              "        text-align: right;\n",
              "    }\n",
              "</style>\n",
              "<table border=\"1\" class=\"dataframe\">\n",
              "  <thead>\n",
              "    <tr style=\"text-align: right;\">\n",
              "      <th></th>\n",
              "      <th>FL_DATE</th>\n",
              "      <th>OP_CARRIER</th>\n",
              "      <th>OP_CARRIER_FL_NUM</th>\n",
              "      <th>ORIGIN</th>\n",
              "      <th>DEST</th>\n",
              "      <th>CRS_DEP_TIME</th>\n",
              "      <th>DEP_TIME</th>\n",
              "      <th>DEP_DELAY</th>\n",
              "      <th>TAXI_OUT</th>\n",
              "      <th>WHEELS_OFF</th>\n",
              "      <th>WHEELS_ON</th>\n",
              "      <th>TAXI_IN</th>\n",
              "      <th>CRS_ARR_TIME</th>\n",
              "      <th>ARR_TIME</th>\n",
              "      <th>ARR_DELAY</th>\n",
              "      <th>CANCELLED</th>\n",
              "      <th>CANCELLATION_CODE</th>\n",
              "      <th>DIVERTED</th>\n",
              "      <th>CRS_ELAPSED_TIME</th>\n",
              "      <th>ACTUAL_ELAPSED_TIME</th>\n",
              "      <th>AIR_TIME</th>\n",
              "      <th>DISTANCE</th>\n",
              "      <th>CARRIER_DELAY</th>\n",
              "      <th>WEATHER_DELAY</th>\n",
              "      <th>NAS_DELAY</th>\n",
              "      <th>SECURITY_DELAY</th>\n",
              "      <th>LATE_AIRCRAFT_DELAY</th>\n",
              "      <th>Unnamed: 27</th>\n",
              "    </tr>\n",
              "  </thead>\n",
              "  <tbody>\n",
              "    <tr>\n",
              "      <th>0</th>\n",
              "      <td>2018-01-01</td>\n",
              "      <td>UA</td>\n",
              "      <td>2429</td>\n",
              "      <td>EWR</td>\n",
              "      <td>DEN</td>\n",
              "      <td>1517</td>\n",
              "      <td>1512.0</td>\n",
              "      <td>-5.0</td>\n",
              "      <td>15.0</td>\n",
              "      <td>1527.0</td>\n",
              "      <td>1712.0</td>\n",
              "      <td>10.0</td>\n",
              "      <td>1745</td>\n",
              "      <td>1722.0</td>\n",
              "      <td>-23.0</td>\n",
              "      <td>0.0</td>\n",
              "      <td>None</td>\n",
              "      <td>0.0</td>\n",
              "      <td>268.0</td>\n",
              "      <td>250.0</td>\n",
              "      <td>225.0</td>\n",
              "      <td>1605.0</td>\n",
              "      <td>NaN</td>\n",
              "      <td>NaN</td>\n",
              "      <td>NaN</td>\n",
              "      <td>NaN</td>\n",
              "      <td>NaN</td>\n",
              "      <td>None</td>\n",
              "    </tr>\n",
              "    <tr>\n",
              "      <th>1</th>\n",
              "      <td>2018-01-01</td>\n",
              "      <td>UA</td>\n",
              "      <td>2427</td>\n",
              "      <td>LAS</td>\n",
              "      <td>SFO</td>\n",
              "      <td>1115</td>\n",
              "      <td>1107.0</td>\n",
              "      <td>-8.0</td>\n",
              "      <td>11.0</td>\n",
              "      <td>1118.0</td>\n",
              "      <td>1223.0</td>\n",
              "      <td>7.0</td>\n",
              "      <td>1254</td>\n",
              "      <td>1230.0</td>\n",
              "      <td>-24.0</td>\n",
              "      <td>0.0</td>\n",
              "      <td>None</td>\n",
              "      <td>0.0</td>\n",
              "      <td>99.0</td>\n",
              "      <td>83.0</td>\n",
              "      <td>65.0</td>\n",
              "      <td>414.0</td>\n",
              "      <td>NaN</td>\n",
              "      <td>NaN</td>\n",
              "      <td>NaN</td>\n",
              "      <td>NaN</td>\n",
              "      <td>NaN</td>\n",
              "      <td>None</td>\n",
              "    </tr>\n",
              "    <tr>\n",
              "      <th>2</th>\n",
              "      <td>2018-01-01</td>\n",
              "      <td>UA</td>\n",
              "      <td>2426</td>\n",
              "      <td>SNA</td>\n",
              "      <td>DEN</td>\n",
              "      <td>1335</td>\n",
              "      <td>1330.0</td>\n",
              "      <td>-5.0</td>\n",
              "      <td>15.0</td>\n",
              "      <td>1345.0</td>\n",
              "      <td>1631.0</td>\n",
              "      <td>5.0</td>\n",
              "      <td>1649</td>\n",
              "      <td>1636.0</td>\n",
              "      <td>-13.0</td>\n",
              "      <td>0.0</td>\n",
              "      <td>None</td>\n",
              "      <td>0.0</td>\n",
              "      <td>134.0</td>\n",
              "      <td>126.0</td>\n",
              "      <td>106.0</td>\n",
              "      <td>846.0</td>\n",
              "      <td>NaN</td>\n",
              "      <td>NaN</td>\n",
              "      <td>NaN</td>\n",
              "      <td>NaN</td>\n",
              "      <td>NaN</td>\n",
              "      <td>None</td>\n",
              "    </tr>\n",
              "    <tr>\n",
              "      <th>3</th>\n",
              "      <td>2018-01-01</td>\n",
              "      <td>UA</td>\n",
              "      <td>2425</td>\n",
              "      <td>RSW</td>\n",
              "      <td>ORD</td>\n",
              "      <td>1546</td>\n",
              "      <td>1552.0</td>\n",
              "      <td>6.0</td>\n",
              "      <td>19.0</td>\n",
              "      <td>1611.0</td>\n",
              "      <td>1748.0</td>\n",
              "      <td>6.0</td>\n",
              "      <td>1756</td>\n",
              "      <td>1754.0</td>\n",
              "      <td>-2.0</td>\n",
              "      <td>0.0</td>\n",
              "      <td>None</td>\n",
              "      <td>0.0</td>\n",
              "      <td>190.0</td>\n",
              "      <td>182.0</td>\n",
              "      <td>157.0</td>\n",
              "      <td>1120.0</td>\n",
              "      <td>NaN</td>\n",
              "      <td>NaN</td>\n",
              "      <td>NaN</td>\n",
              "      <td>NaN</td>\n",
              "      <td>NaN</td>\n",
              "      <td>None</td>\n",
              "    </tr>\n",
              "    <tr>\n",
              "      <th>4</th>\n",
              "      <td>2018-01-01</td>\n",
              "      <td>UA</td>\n",
              "      <td>2424</td>\n",
              "      <td>ORD</td>\n",
              "      <td>ALB</td>\n",
              "      <td>630</td>\n",
              "      <td>650.0</td>\n",
              "      <td>20.0</td>\n",
              "      <td>13.0</td>\n",
              "      <td>703.0</td>\n",
              "      <td>926.0</td>\n",
              "      <td>10.0</td>\n",
              "      <td>922</td>\n",
              "      <td>936.0</td>\n",
              "      <td>14.0</td>\n",
              "      <td>0.0</td>\n",
              "      <td>None</td>\n",
              "      <td>0.0</td>\n",
              "      <td>112.0</td>\n",
              "      <td>106.0</td>\n",
              "      <td>83.0</td>\n",
              "      <td>723.0</td>\n",
              "      <td>NaN</td>\n",
              "      <td>NaN</td>\n",
              "      <td>NaN</td>\n",
              "      <td>NaN</td>\n",
              "      <td>NaN</td>\n",
              "      <td>None</td>\n",
              "    </tr>\n",
              "  </tbody>\n",
              "</table>\n",
              "</div>"
            ]
          },
          "metadata": {},
          "execution_count": 10
        }
      ],
      "source": [
        "df3 = ks.read_csv(\"2018.csv\")\n",
        "df3.head()"
      ]
    },
    {
      "cell_type": "code",
      "execution_count": null,
      "metadata": {
        "id": "EN5erIb7WkWB",
        "colab": {
          "base_uri": "https://localhost:8080/",
          "height": 330
        },
        "outputId": "31e2a519-f279-4e88-bf9f-2830e5054280"
      },
      "outputs": [
        {
          "output_type": "execute_result",
          "data": {
            "text/plain": [
              "     FL_DATE OP_CARRIER  OP_CARRIER_FL_NUM ORIGIN DEST  CRS_DEP_TIME  DEP_TIME  DEP_DELAY  TAXI_OUT  WHEELS_OFF  WHEELS_ON  TAXI_IN  CRS_ARR_TIME  ARR_TIME  ARR_DELAY  CANCELLED CANCELLATION_CODE  DIVERTED  CRS_ELAPSED_TIME  ACTUAL_ELAPSED_TIME  AIR_TIME  DISTANCE  CARRIER_DELAY  WEATHER_DELAY  NAS_DELAY  SECURITY_DELAY  LATE_AIRCRAFT_DELAY Unnamed: 27\n",
              "0 2016-01-01         DL               1248    DTW  LAX          1935    1935.0        0.0      23.0      1958.0     2107.0     13.0          2144    2120.0      -24.0        0.0              None       0.0             309.0                285.0     249.0    1979.0            NaN            NaN        NaN             NaN                  NaN        None\n",
              "1 2016-01-01         DL               1251    ATL  GRR          2125    2130.0        5.0      13.0      2143.0     2315.0      4.0          2321    2319.0       -2.0        0.0              None       0.0             116.0                109.0      92.0     640.0            NaN            NaN        NaN             NaN                  NaN        None\n",
              "2 2016-01-01         DL               1254    LAX  ATL          2255    2256.0        1.0      19.0      2315.0      542.0      5.0           600     547.0      -13.0        0.0              None       0.0             245.0                231.0     207.0    1947.0            NaN            NaN        NaN             NaN                  NaN        None\n",
              "3 2016-01-01         DL               1255    SLC  ATL          1656    1700.0        4.0      12.0      1712.0     2205.0      8.0          2229    2213.0      -16.0        0.0              None       0.0             213.0                193.0     173.0    1590.0            NaN            NaN        NaN             NaN                  NaN        None\n",
              "4 2016-01-01         DL               1256    BZN  MSP           900    1012.0       72.0      63.0      1115.0     1416.0      4.0          1216    1420.0      124.0        0.0              None       0.0             136.0                188.0     121.0     874.0           72.0            0.0       52.0             0.0                  0.0        None"
            ],
            "text/html": [
              "<div>\n",
              "<style scoped>\n",
              "    .dataframe tbody tr th:only-of-type {\n",
              "        vertical-align: middle;\n",
              "    }\n",
              "\n",
              "    .dataframe tbody tr th {\n",
              "        vertical-align: top;\n",
              "    }\n",
              "\n",
              "    .dataframe thead th {\n",
              "        text-align: right;\n",
              "    }\n",
              "</style>\n",
              "<table border=\"1\" class=\"dataframe\">\n",
              "  <thead>\n",
              "    <tr style=\"text-align: right;\">\n",
              "      <th></th>\n",
              "      <th>FL_DATE</th>\n",
              "      <th>OP_CARRIER</th>\n",
              "      <th>OP_CARRIER_FL_NUM</th>\n",
              "      <th>ORIGIN</th>\n",
              "      <th>DEST</th>\n",
              "      <th>CRS_DEP_TIME</th>\n",
              "      <th>DEP_TIME</th>\n",
              "      <th>DEP_DELAY</th>\n",
              "      <th>TAXI_OUT</th>\n",
              "      <th>WHEELS_OFF</th>\n",
              "      <th>WHEELS_ON</th>\n",
              "      <th>TAXI_IN</th>\n",
              "      <th>CRS_ARR_TIME</th>\n",
              "      <th>ARR_TIME</th>\n",
              "      <th>ARR_DELAY</th>\n",
              "      <th>CANCELLED</th>\n",
              "      <th>CANCELLATION_CODE</th>\n",
              "      <th>DIVERTED</th>\n",
              "      <th>CRS_ELAPSED_TIME</th>\n",
              "      <th>ACTUAL_ELAPSED_TIME</th>\n",
              "      <th>AIR_TIME</th>\n",
              "      <th>DISTANCE</th>\n",
              "      <th>CARRIER_DELAY</th>\n",
              "      <th>WEATHER_DELAY</th>\n",
              "      <th>NAS_DELAY</th>\n",
              "      <th>SECURITY_DELAY</th>\n",
              "      <th>LATE_AIRCRAFT_DELAY</th>\n",
              "      <th>Unnamed: 27</th>\n",
              "    </tr>\n",
              "  </thead>\n",
              "  <tbody>\n",
              "    <tr>\n",
              "      <th>0</th>\n",
              "      <td>2016-01-01</td>\n",
              "      <td>DL</td>\n",
              "      <td>1248</td>\n",
              "      <td>DTW</td>\n",
              "      <td>LAX</td>\n",
              "      <td>1935</td>\n",
              "      <td>1935.0</td>\n",
              "      <td>0.0</td>\n",
              "      <td>23.0</td>\n",
              "      <td>1958.0</td>\n",
              "      <td>2107.0</td>\n",
              "      <td>13.0</td>\n",
              "      <td>2144</td>\n",
              "      <td>2120.0</td>\n",
              "      <td>-24.0</td>\n",
              "      <td>0.0</td>\n",
              "      <td>None</td>\n",
              "      <td>0.0</td>\n",
              "      <td>309.0</td>\n",
              "      <td>285.0</td>\n",
              "      <td>249.0</td>\n",
              "      <td>1979.0</td>\n",
              "      <td>NaN</td>\n",
              "      <td>NaN</td>\n",
              "      <td>NaN</td>\n",
              "      <td>NaN</td>\n",
              "      <td>NaN</td>\n",
              "      <td>None</td>\n",
              "    </tr>\n",
              "    <tr>\n",
              "      <th>1</th>\n",
              "      <td>2016-01-01</td>\n",
              "      <td>DL</td>\n",
              "      <td>1251</td>\n",
              "      <td>ATL</td>\n",
              "      <td>GRR</td>\n",
              "      <td>2125</td>\n",
              "      <td>2130.0</td>\n",
              "      <td>5.0</td>\n",
              "      <td>13.0</td>\n",
              "      <td>2143.0</td>\n",
              "      <td>2315.0</td>\n",
              "      <td>4.0</td>\n",
              "      <td>2321</td>\n",
              "      <td>2319.0</td>\n",
              "      <td>-2.0</td>\n",
              "      <td>0.0</td>\n",
              "      <td>None</td>\n",
              "      <td>0.0</td>\n",
              "      <td>116.0</td>\n",
              "      <td>109.0</td>\n",
              "      <td>92.0</td>\n",
              "      <td>640.0</td>\n",
              "      <td>NaN</td>\n",
              "      <td>NaN</td>\n",
              "      <td>NaN</td>\n",
              "      <td>NaN</td>\n",
              "      <td>NaN</td>\n",
              "      <td>None</td>\n",
              "    </tr>\n",
              "    <tr>\n",
              "      <th>2</th>\n",
              "      <td>2016-01-01</td>\n",
              "      <td>DL</td>\n",
              "      <td>1254</td>\n",
              "      <td>LAX</td>\n",
              "      <td>ATL</td>\n",
              "      <td>2255</td>\n",
              "      <td>2256.0</td>\n",
              "      <td>1.0</td>\n",
              "      <td>19.0</td>\n",
              "      <td>2315.0</td>\n",
              "      <td>542.0</td>\n",
              "      <td>5.0</td>\n",
              "      <td>600</td>\n",
              "      <td>547.0</td>\n",
              "      <td>-13.0</td>\n",
              "      <td>0.0</td>\n",
              "      <td>None</td>\n",
              "      <td>0.0</td>\n",
              "      <td>245.0</td>\n",
              "      <td>231.0</td>\n",
              "      <td>207.0</td>\n",
              "      <td>1947.0</td>\n",
              "      <td>NaN</td>\n",
              "      <td>NaN</td>\n",
              "      <td>NaN</td>\n",
              "      <td>NaN</td>\n",
              "      <td>NaN</td>\n",
              "      <td>None</td>\n",
              "    </tr>\n",
              "    <tr>\n",
              "      <th>3</th>\n",
              "      <td>2016-01-01</td>\n",
              "      <td>DL</td>\n",
              "      <td>1255</td>\n",
              "      <td>SLC</td>\n",
              "      <td>ATL</td>\n",
              "      <td>1656</td>\n",
              "      <td>1700.0</td>\n",
              "      <td>4.0</td>\n",
              "      <td>12.0</td>\n",
              "      <td>1712.0</td>\n",
              "      <td>2205.0</td>\n",
              "      <td>8.0</td>\n",
              "      <td>2229</td>\n",
              "      <td>2213.0</td>\n",
              "      <td>-16.0</td>\n",
              "      <td>0.0</td>\n",
              "      <td>None</td>\n",
              "      <td>0.0</td>\n",
              "      <td>213.0</td>\n",
              "      <td>193.0</td>\n",
              "      <td>173.0</td>\n",
              "      <td>1590.0</td>\n",
              "      <td>NaN</td>\n",
              "      <td>NaN</td>\n",
              "      <td>NaN</td>\n",
              "      <td>NaN</td>\n",
              "      <td>NaN</td>\n",
              "      <td>None</td>\n",
              "    </tr>\n",
              "    <tr>\n",
              "      <th>4</th>\n",
              "      <td>2016-01-01</td>\n",
              "      <td>DL</td>\n",
              "      <td>1256</td>\n",
              "      <td>BZN</td>\n",
              "      <td>MSP</td>\n",
              "      <td>900</td>\n",
              "      <td>1012.0</td>\n",
              "      <td>72.0</td>\n",
              "      <td>63.0</td>\n",
              "      <td>1115.0</td>\n",
              "      <td>1416.0</td>\n",
              "      <td>4.0</td>\n",
              "      <td>1216</td>\n",
              "      <td>1420.0</td>\n",
              "      <td>124.0</td>\n",
              "      <td>0.0</td>\n",
              "      <td>None</td>\n",
              "      <td>0.0</td>\n",
              "      <td>136.0</td>\n",
              "      <td>188.0</td>\n",
              "      <td>121.0</td>\n",
              "      <td>874.0</td>\n",
              "      <td>72.0</td>\n",
              "      <td>0.0</td>\n",
              "      <td>52.0</td>\n",
              "      <td>0.0</td>\n",
              "      <td>0.0</td>\n",
              "      <td>None</td>\n",
              "    </tr>\n",
              "  </tbody>\n",
              "</table>\n",
              "</div>"
            ]
          },
          "metadata": {},
          "execution_count": 11
        }
      ],
      "source": [
        "kdf = ks.concat([df1, df2, df3], axis=0)\n",
        "kdf.head()"
      ]
    },
    {
      "cell_type": "markdown",
      "metadata": {
        "id": "uLypM2QlsRkf"
      },
      "source": [
        "**Reading The Dataset into a Dataframe:** Using *Vaex Library*\n",
        "\n",
        "\n",
        "*   Read all 3 files\n",
        "*   Combine/Merge the dataframe into a single dataframe\n",
        "\n"
      ]
    },
    {
      "cell_type": "code",
      "execution_count": 5,
      "metadata": {
        "id": "-kd-D6-gtbg0",
        "colab": {
          "base_uri": "https://localhost:8080/",
          "height": 465
        },
        "outputId": "246d3616-922d-40b3-e2e2-7a7b58bfc482"
      },
      "outputs": [
        {
          "output_type": "execute_result",
          "data": {
            "text/html": [
              "<table>\n",
              "<thead>\n",
              "<tr><th>#                            </th><th>FL_DATE   </th><th>OP_CARRIER  </th><th style=\"text-align: right;\">  OP_CARRIER_FL_NUM</th><th>ORIGIN  </th><th>DEST  </th><th style=\"text-align: right;\">  CRS_DEP_TIME</th><th style=\"text-align: right;\">  DEP_TIME</th><th style=\"text-align: right;\">  DEP_DELAY</th><th style=\"text-align: right;\">  TAXI_OUT</th><th style=\"text-align: right;\">  WHEELS_OFF</th><th style=\"text-align: right;\">  WHEELS_ON</th><th style=\"text-align: right;\">  TAXI_IN</th><th style=\"text-align: right;\">  CRS_ARR_TIME</th><th style=\"text-align: right;\">  ARR_TIME</th><th style=\"text-align: right;\">  ARR_DELAY</th><th style=\"text-align: right;\">  CANCELLED</th><th>CANCELLATION_CODE  </th><th style=\"text-align: right;\">  DIVERTED</th><th style=\"text-align: right;\">  CRS_ELAPSED_TIME</th><th style=\"text-align: right;\">  ACTUAL_ELAPSED_TIME</th><th style=\"text-align: right;\">  AIR_TIME</th><th style=\"text-align: right;\">  DISTANCE</th><th>CARRIER_DELAY  </th><th>WEATHER_DELAY  </th><th>NAS_DELAY  </th><th>SECURITY_DELAY  </th><th>LATE_AIRCRAFT_DELAY  </th><th>Unnamed: 27  </th></tr>\n",
              "</thead>\n",
              "<tbody>\n",
              "<tr><td><i style='opacity: 0.6'>0</i></td><td>2016-01-01</td><td>DL          </td><td style=\"text-align: right;\">               1248</td><td>DTW     </td><td>LAX   </td><td style=\"text-align: right;\">          1935</td><td style=\"text-align: right;\">      1935</td><td style=\"text-align: right;\">          0</td><td style=\"text-align: right;\">        23</td><td style=\"text-align: right;\">        1958</td><td style=\"text-align: right;\">       2107</td><td style=\"text-align: right;\">       13</td><td style=\"text-align: right;\">          2144</td><td style=\"text-align: right;\">      2120</td><td style=\"text-align: right;\">        -24</td><td style=\"text-align: right;\">          0</td><td>                   </td><td style=\"text-align: right;\">         0</td><td style=\"text-align: right;\">               309</td><td style=\"text-align: right;\">                  285</td><td style=\"text-align: right;\">       249</td><td style=\"text-align: right;\">      1979</td><td>--             </td><td>--             </td><td>--         </td><td>--              </td><td>--                   </td><td>--           </td></tr>\n",
              "<tr><td><i style='opacity: 0.6'>1</i></td><td>2016-01-01</td><td>DL          </td><td style=\"text-align: right;\">               1251</td><td>ATL     </td><td>GRR   </td><td style=\"text-align: right;\">          2125</td><td style=\"text-align: right;\">      2130</td><td style=\"text-align: right;\">          5</td><td style=\"text-align: right;\">        13</td><td style=\"text-align: right;\">        2143</td><td style=\"text-align: right;\">       2315</td><td style=\"text-align: right;\">        4</td><td style=\"text-align: right;\">          2321</td><td style=\"text-align: right;\">      2319</td><td style=\"text-align: right;\">         -2</td><td style=\"text-align: right;\">          0</td><td>                   </td><td style=\"text-align: right;\">         0</td><td style=\"text-align: right;\">               116</td><td style=\"text-align: right;\">                  109</td><td style=\"text-align: right;\">        92</td><td style=\"text-align: right;\">       640</td><td>--             </td><td>--             </td><td>--         </td><td>--              </td><td>--                   </td><td>--           </td></tr>\n",
              "<tr><td><i style='opacity: 0.6'>2</i></td><td>2016-01-01</td><td>DL          </td><td style=\"text-align: right;\">               1254</td><td>LAX     </td><td>ATL   </td><td style=\"text-align: right;\">          2255</td><td style=\"text-align: right;\">      2256</td><td style=\"text-align: right;\">          1</td><td style=\"text-align: right;\">        19</td><td style=\"text-align: right;\">        2315</td><td style=\"text-align: right;\">        542</td><td style=\"text-align: right;\">        5</td><td style=\"text-align: right;\">           600</td><td style=\"text-align: right;\">       547</td><td style=\"text-align: right;\">        -13</td><td style=\"text-align: right;\">          0</td><td>                   </td><td style=\"text-align: right;\">         0</td><td style=\"text-align: right;\">               245</td><td style=\"text-align: right;\">                  231</td><td style=\"text-align: right;\">       207</td><td style=\"text-align: right;\">      1947</td><td>--             </td><td>--             </td><td>--         </td><td>--              </td><td>--                   </td><td>--           </td></tr>\n",
              "<tr><td><i style='opacity: 0.6'>3</i></td><td>2016-01-01</td><td>DL          </td><td style=\"text-align: right;\">               1255</td><td>SLC     </td><td>ATL   </td><td style=\"text-align: right;\">          1656</td><td style=\"text-align: right;\">      1700</td><td style=\"text-align: right;\">          4</td><td style=\"text-align: right;\">        12</td><td style=\"text-align: right;\">        1712</td><td style=\"text-align: right;\">       2205</td><td style=\"text-align: right;\">        8</td><td style=\"text-align: right;\">          2229</td><td style=\"text-align: right;\">      2213</td><td style=\"text-align: right;\">        -16</td><td style=\"text-align: right;\">          0</td><td>                   </td><td style=\"text-align: right;\">         0</td><td style=\"text-align: right;\">               213</td><td style=\"text-align: right;\">                  193</td><td style=\"text-align: right;\">       173</td><td style=\"text-align: right;\">      1590</td><td>--             </td><td>--             </td><td>--         </td><td>--              </td><td>--                   </td><td>--           </td></tr>\n",
              "<tr><td><i style='opacity: 0.6'>4</i></td><td>2016-01-01</td><td>DL          </td><td style=\"text-align: right;\">               1256</td><td>BZN     </td><td>MSP   </td><td style=\"text-align: right;\">           900</td><td style=\"text-align: right;\">      1012</td><td style=\"text-align: right;\">         72</td><td style=\"text-align: right;\">        63</td><td style=\"text-align: right;\">        1115</td><td style=\"text-align: right;\">       1416</td><td style=\"text-align: right;\">        4</td><td style=\"text-align: right;\">          1216</td><td style=\"text-align: right;\">      1420</td><td style=\"text-align: right;\">        124</td><td style=\"text-align: right;\">          0</td><td>                   </td><td style=\"text-align: right;\">         0</td><td style=\"text-align: right;\">               136</td><td style=\"text-align: right;\">                  188</td><td style=\"text-align: right;\">       121</td><td style=\"text-align: right;\">       874</td><td>72.0           </td><td>0.0            </td><td>52.0       </td><td>0.0             </td><td>0.0                  </td><td>--           </td></tr>\n",
              "<tr><td><i style='opacity: 0.6'>5</i></td><td>2016-01-01</td><td>DL          </td><td style=\"text-align: right;\">               1257</td><td>ATL     </td><td>BNA   </td><td style=\"text-align: right;\">          1233</td><td style=\"text-align: right;\">      1356</td><td style=\"text-align: right;\">         83</td><td style=\"text-align: right;\">        22</td><td style=\"text-align: right;\">        1418</td><td style=\"text-align: right;\">       1356</td><td style=\"text-align: right;\">        6</td><td style=\"text-align: right;\">          1239</td><td style=\"text-align: right;\">      1402</td><td style=\"text-align: right;\">         83</td><td style=\"text-align: right;\">          0</td><td>                   </td><td style=\"text-align: right;\">         0</td><td style=\"text-align: right;\">                66</td><td style=\"text-align: right;\">                   66</td><td style=\"text-align: right;\">        38</td><td style=\"text-align: right;\">       214</td><td>43.0           </td><td>0.0            </td><td>0.0        </td><td>0.0             </td><td>40.0                 </td><td>--           </td></tr>\n",
              "<tr><td><i style='opacity: 0.6'>6</i></td><td>2016-01-01</td><td>DL          </td><td style=\"text-align: right;\">               1257</td><td>BNA     </td><td>ATL   </td><td style=\"text-align: right;\">          1320</td><td style=\"text-align: right;\">      1446</td><td style=\"text-align: right;\">         86</td><td style=\"text-align: right;\">        15</td><td style=\"text-align: right;\">        1501</td><td style=\"text-align: right;\">       1638</td><td style=\"text-align: right;\">        6</td><td style=\"text-align: right;\">          1530</td><td style=\"text-align: right;\">      1644</td><td style=\"text-align: right;\">         74</td><td style=\"text-align: right;\">          0</td><td>                   </td><td style=\"text-align: right;\">         0</td><td style=\"text-align: right;\">                70</td><td style=\"text-align: right;\">                   58</td><td style=\"text-align: right;\">        37</td><td style=\"text-align: right;\">       214</td><td>3.0            </td><td>0.0            </td><td>0.0        </td><td>0.0             </td><td>71.0                 </td><td>--           </td></tr>\n",
              "<tr><td><i style='opacity: 0.6'>7</i></td><td>2016-01-01</td><td>DL          </td><td style=\"text-align: right;\">               1258</td><td>ATL     </td><td>JAX   </td><td style=\"text-align: right;\">           945</td><td style=\"text-align: right;\">       946</td><td style=\"text-align: right;\">          1</td><td style=\"text-align: right;\">        19</td><td style=\"text-align: right;\">        1005</td><td style=\"text-align: right;\">       1050</td><td style=\"text-align: right;\">        3</td><td style=\"text-align: right;\">          1050</td><td style=\"text-align: right;\">      1053</td><td style=\"text-align: right;\">          3</td><td style=\"text-align: right;\">          0</td><td>                   </td><td style=\"text-align: right;\">         0</td><td style=\"text-align: right;\">                65</td><td style=\"text-align: right;\">                   67</td><td style=\"text-align: right;\">        45</td><td style=\"text-align: right;\">       270</td><td>--             </td><td>--             </td><td>--         </td><td>--              </td><td>--                   </td><td>--           </td></tr>\n",
              "<tr><td><i style='opacity: 0.6'>8</i></td><td>2016-01-01</td><td>DL          </td><td style=\"text-align: right;\">               1258</td><td>JAX     </td><td>ATL   </td><td style=\"text-align: right;\">          1145</td><td style=\"text-align: right;\">      1144</td><td style=\"text-align: right;\">         -1</td><td style=\"text-align: right;\">        12</td><td style=\"text-align: right;\">        1156</td><td style=\"text-align: right;\">       1239</td><td style=\"text-align: right;\">        8</td><td style=\"text-align: right;\">          1302</td><td style=\"text-align: right;\">      1247</td><td style=\"text-align: right;\">        -15</td><td style=\"text-align: right;\">          0</td><td>                   </td><td style=\"text-align: right;\">         0</td><td style=\"text-align: right;\">                77</td><td style=\"text-align: right;\">                   63</td><td style=\"text-align: right;\">        43</td><td style=\"text-align: right;\">       270</td><td>--             </td><td>--             </td><td>--         </td><td>--              </td><td>--                   </td><td>--           </td></tr>\n",
              "<tr><td><i style='opacity: 0.6'>9</i></td><td>2016-01-01</td><td>DL          </td><td style=\"text-align: right;\">               1259</td><td>ATL     </td><td>OKC   </td><td style=\"text-align: right;\">          2110</td><td style=\"text-align: right;\">      2107</td><td style=\"text-align: right;\">         -3</td><td style=\"text-align: right;\">        16</td><td style=\"text-align: right;\">        2123</td><td style=\"text-align: right;\">       2219</td><td style=\"text-align: right;\">        5</td><td style=\"text-align: right;\">          2236</td><td style=\"text-align: right;\">      2224</td><td style=\"text-align: right;\">        -12</td><td style=\"text-align: right;\">          0</td><td>                   </td><td style=\"text-align: right;\">         0</td><td style=\"text-align: right;\">               146</td><td style=\"text-align: right;\">                  137</td><td style=\"text-align: right;\">       116</td><td style=\"text-align: right;\">       761</td><td>--             </td><td>--             </td><td>--         </td><td>--              </td><td>--                   </td><td>--           </td></tr>\n",
              "</tbody>\n",
              "</table>"
            ],
            "text/plain": [
              "  #  FL_DATE     OP_CARRIER      OP_CARRIER_FL_NUM  ORIGIN    DEST      CRS_DEP_TIME    DEP_TIME    DEP_DELAY    TAXI_OUT    WHEELS_OFF    WHEELS_ON    TAXI_IN    CRS_ARR_TIME    ARR_TIME    ARR_DELAY    CANCELLED  CANCELLATION_CODE      DIVERTED    CRS_ELAPSED_TIME    ACTUAL_ELAPSED_TIME    AIR_TIME    DISTANCE  CARRIER_DELAY    WEATHER_DELAY    NAS_DELAY    SECURITY_DELAY    LATE_AIRCRAFT_DELAY    Unnamed: 27\n",
              "  0  2016-01-01  DL                           1248  DTW       LAX               1935        1935            0          23          1958         2107         13            2144        2120          -24            0                                0                 309                    285         249        1979  --               --               --           --                --                     --\n",
              "  1  2016-01-01  DL                           1251  ATL       GRR               2125        2130            5          13          2143         2315          4            2321        2319           -2            0                                0                 116                    109          92         640  --               --               --           --                --                     --\n",
              "  2  2016-01-01  DL                           1254  LAX       ATL               2255        2256            1          19          2315          542          5             600         547          -13            0                                0                 245                    231         207        1947  --               --               --           --                --                     --\n",
              "  3  2016-01-01  DL                           1255  SLC       ATL               1656        1700            4          12          1712         2205          8            2229        2213          -16            0                                0                 213                    193         173        1590  --               --               --           --                --                     --\n",
              "  4  2016-01-01  DL                           1256  BZN       MSP                900        1012           72          63          1115         1416          4            1216        1420          124            0                                0                 136                    188         121         874  72.0             0.0              52.0         0.0               0.0                    --\n",
              "  5  2016-01-01  DL                           1257  ATL       BNA               1233        1356           83          22          1418         1356          6            1239        1402           83            0                                0                  66                     66          38         214  43.0             0.0              0.0          0.0               40.0                   --\n",
              "  6  2016-01-01  DL                           1257  BNA       ATL               1320        1446           86          15          1501         1638          6            1530        1644           74            0                                0                  70                     58          37         214  3.0              0.0              0.0          0.0               71.0                   --\n",
              "  7  2016-01-01  DL                           1258  ATL       JAX                945         946            1          19          1005         1050          3            1050        1053            3            0                                0                  65                     67          45         270  --               --               --           --                --                     --\n",
              "  8  2016-01-01  DL                           1258  JAX       ATL               1145        1144           -1          12          1156         1239          8            1302        1247          -15            0                                0                  77                     63          43         270  --               --               --           --                --                     --\n",
              "  9  2016-01-01  DL                           1259  ATL       OKC               2110        2107           -3          16          2123         2219          5            2236        2224          -12            0                                0                 146                    137         116         761  --               --               --           --                --                     --"
            ]
          },
          "metadata": {},
          "execution_count": 5
        }
      ],
      "source": [
        "dfa = vx.open(\"2016.csv\")\n",
        "dfa.head()"
      ]
    },
    {
      "cell_type": "code",
      "execution_count": 6,
      "metadata": {
        "id": "Pvx3aVf_tt9f",
        "colab": {
          "base_uri": "https://localhost:8080/",
          "height": 465
        },
        "outputId": "f4ff51f6-ad46-4efc-a441-70613699bd51"
      },
      "outputs": [
        {
          "output_type": "execute_result",
          "data": {
            "text/html": [
              "<table>\n",
              "<thead>\n",
              "<tr><th>#                            </th><th>FL_DATE   </th><th>OP_CARRIER  </th><th style=\"text-align: right;\">  OP_CARRIER_FL_NUM</th><th>ORIGIN  </th><th>DEST  </th><th style=\"text-align: right;\">  CRS_DEP_TIME</th><th style=\"text-align: right;\">  DEP_TIME</th><th style=\"text-align: right;\">  DEP_DELAY</th><th style=\"text-align: right;\">  TAXI_OUT</th><th style=\"text-align: right;\">  WHEELS_OFF</th><th style=\"text-align: right;\">  WHEELS_ON</th><th style=\"text-align: right;\">  TAXI_IN</th><th style=\"text-align: right;\">  CRS_ARR_TIME</th><th style=\"text-align: right;\">  ARR_TIME</th><th style=\"text-align: right;\">  ARR_DELAY</th><th style=\"text-align: right;\">  CANCELLED</th><th>CANCELLATION_CODE  </th><th style=\"text-align: right;\">  DIVERTED</th><th style=\"text-align: right;\">  CRS_ELAPSED_TIME</th><th style=\"text-align: right;\">  ACTUAL_ELAPSED_TIME</th><th style=\"text-align: right;\">  AIR_TIME</th><th style=\"text-align: right;\">  DISTANCE</th><th>CARRIER_DELAY  </th><th>WEATHER_DELAY  </th><th>NAS_DELAY  </th><th>SECURITY_DELAY  </th><th>LATE_AIRCRAFT_DELAY  </th><th>Unnamed: 27  </th></tr>\n",
              "</thead>\n",
              "<tbody>\n",
              "<tr><td><i style='opacity: 0.6'>0</i></td><td>2017-01-01</td><td>AA          </td><td style=\"text-align: right;\">                  1</td><td>JFK     </td><td>LAX   </td><td style=\"text-align: right;\">           800</td><td style=\"text-align: right;\">       831</td><td style=\"text-align: right;\">         31</td><td style=\"text-align: right;\">        25</td><td style=\"text-align: right;\">         856</td><td style=\"text-align: right;\">       1143</td><td style=\"text-align: right;\">       26</td><td style=\"text-align: right;\">          1142</td><td style=\"text-align: right;\">      1209</td><td style=\"text-align: right;\">         27</td><td style=\"text-align: right;\">          0</td><td>                   </td><td style=\"text-align: right;\">         0</td><td style=\"text-align: right;\">               402</td><td style=\"text-align: right;\">                  398</td><td style=\"text-align: right;\">       347</td><td style=\"text-align: right;\">      2475</td><td>27.0           </td><td>0.0            </td><td>0.0        </td><td>0.0             </td><td>0.0                  </td><td>--           </td></tr>\n",
              "<tr><td><i style='opacity: 0.6'>1</i></td><td>2017-01-01</td><td>AA          </td><td style=\"text-align: right;\">                  2</td><td>LAX     </td><td>JFK   </td><td style=\"text-align: right;\">           900</td><td style=\"text-align: right;\">       934</td><td style=\"text-align: right;\">         34</td><td style=\"text-align: right;\">        34</td><td style=\"text-align: right;\">        1008</td><td style=\"text-align: right;\">       1757</td><td style=\"text-align: right;\">       12</td><td style=\"text-align: right;\">          1727</td><td style=\"text-align: right;\">      1809</td><td style=\"text-align: right;\">         42</td><td style=\"text-align: right;\">          0</td><td>                   </td><td style=\"text-align: right;\">         0</td><td style=\"text-align: right;\">               327</td><td style=\"text-align: right;\">                  335</td><td style=\"text-align: right;\">       289</td><td style=\"text-align: right;\">      2475</td><td>34.0           </td><td>0.0            </td><td>8.0        </td><td>0.0             </td><td>0.0                  </td><td>--           </td></tr>\n",
              "<tr><td><i style='opacity: 0.6'>2</i></td><td>2017-01-01</td><td>AA          </td><td style=\"text-align: right;\">                  4</td><td>LAX     </td><td>JFK   </td><td style=\"text-align: right;\">          1130</td><td style=\"text-align: right;\">      1221</td><td style=\"text-align: right;\">         51</td><td style=\"text-align: right;\">        20</td><td style=\"text-align: right;\">        1241</td><td style=\"text-align: right;\">       2025</td><td style=\"text-align: right;\">       15</td><td style=\"text-align: right;\">          1958</td><td style=\"text-align: right;\">      2040</td><td style=\"text-align: right;\">         42</td><td style=\"text-align: right;\">          0</td><td>                   </td><td style=\"text-align: right;\">         0</td><td style=\"text-align: right;\">               328</td><td style=\"text-align: right;\">                  319</td><td style=\"text-align: right;\">       284</td><td style=\"text-align: right;\">      2475</td><td>7.0            </td><td>0.0            </td><td>0.0        </td><td>0.0             </td><td>35.0                 </td><td>--           </td></tr>\n",
              "<tr><td><i style='opacity: 0.6'>3</i></td><td>2017-01-01</td><td>AA          </td><td style=\"text-align: right;\">                  5</td><td>DFW     </td><td>HNL   </td><td style=\"text-align: right;\">          1135</td><td style=\"text-align: right;\">      1252</td><td style=\"text-align: right;\">         77</td><td style=\"text-align: right;\">        19</td><td style=\"text-align: right;\">        1311</td><td style=\"text-align: right;\">       1744</td><td style=\"text-align: right;\">        5</td><td style=\"text-align: right;\">          1612</td><td style=\"text-align: right;\">      1749</td><td style=\"text-align: right;\">         97</td><td style=\"text-align: right;\">          0</td><td>                   </td><td style=\"text-align: right;\">         0</td><td style=\"text-align: right;\">               517</td><td style=\"text-align: right;\">                  537</td><td style=\"text-align: right;\">       513</td><td style=\"text-align: right;\">      3784</td><td>77.0           </td><td>0.0            </td><td>20.0       </td><td>0.0             </td><td>0.0                  </td><td>--           </td></tr>\n",
              "<tr><td><i style='opacity: 0.6'>4</i></td><td>2017-01-01</td><td>AA          </td><td style=\"text-align: right;\">                  6</td><td>OGG     </td><td>DFW   </td><td style=\"text-align: right;\">          1855</td><td style=\"text-align: right;\">      1855</td><td style=\"text-align: right;\">          0</td><td style=\"text-align: right;\">        16</td><td style=\"text-align: right;\">        1911</td><td style=\"text-align: right;\">        631</td><td style=\"text-align: right;\">       11</td><td style=\"text-align: right;\">           600</td><td style=\"text-align: right;\">       642</td><td style=\"text-align: right;\">         42</td><td style=\"text-align: right;\">          0</td><td>                   </td><td style=\"text-align: right;\">         0</td><td style=\"text-align: right;\">               425</td><td style=\"text-align: right;\">                  467</td><td style=\"text-align: right;\">       440</td><td style=\"text-align: right;\">      3711</td><td>0.0            </td><td>0.0            </td><td>42.0       </td><td>0.0             </td><td>0.0                  </td><td>--           </td></tr>\n",
              "<tr><td><i style='opacity: 0.6'>5</i></td><td>2017-01-01</td><td>AA          </td><td style=\"text-align: right;\">                  7</td><td>DFW     </td><td>OGG   </td><td style=\"text-align: right;\">           940</td><td style=\"text-align: right;\">      1619</td><td style=\"text-align: right;\">        399</td><td style=\"text-align: right;\">        12</td><td style=\"text-align: right;\">        1631</td><td style=\"text-align: right;\">       2031</td><td style=\"text-align: right;\">        6</td><td style=\"text-align: right;\">          1403</td><td style=\"text-align: right;\">      2037</td><td style=\"text-align: right;\">        394</td><td style=\"text-align: right;\">          0</td><td>                   </td><td style=\"text-align: right;\">         0</td><td style=\"text-align: right;\">               503</td><td style=\"text-align: right;\">                  498</td><td style=\"text-align: right;\">       480</td><td style=\"text-align: right;\">      3711</td><td>394.0          </td><td>0.0            </td><td>0.0        </td><td>0.0             </td><td>0.0                  </td><td>--           </td></tr>\n",
              "<tr><td><i style='opacity: 0.6'>6</i></td><td>2017-01-01</td><td>AA          </td><td style=\"text-align: right;\">                  8</td><td>HNL     </td><td>DFW   </td><td style=\"text-align: right;\">          1838</td><td style=\"text-align: right;\">      1903</td><td style=\"text-align: right;\">         25</td><td style=\"text-align: right;\">        19</td><td style=\"text-align: right;\">        1922</td><td style=\"text-align: right;\">        636</td><td style=\"text-align: right;\">       12</td><td style=\"text-align: right;\">           550</td><td style=\"text-align: right;\">       648</td><td style=\"text-align: right;\">         58</td><td style=\"text-align: right;\">          0</td><td>                   </td><td style=\"text-align: right;\">         0</td><td style=\"text-align: right;\">               432</td><td style=\"text-align: right;\">                  465</td><td style=\"text-align: right;\">       434</td><td style=\"text-align: right;\">      3784</td><td>25.0           </td><td>0.0            </td><td>33.0       </td><td>0.0             </td><td>0.0                  </td><td>--           </td></tr>\n",
              "<tr><td><i style='opacity: 0.6'>7</i></td><td>2017-01-01</td><td>AA          </td><td style=\"text-align: right;\">                  9</td><td>JFK     </td><td>SFO   </td><td style=\"text-align: right;\">           700</td><td style=\"text-align: right;\">       656</td><td style=\"text-align: right;\">         -4</td><td style=\"text-align: right;\">        22</td><td style=\"text-align: right;\">         718</td><td style=\"text-align: right;\">       1020</td><td style=\"text-align: right;\">        3</td><td style=\"text-align: right;\">          1045</td><td style=\"text-align: right;\">      1023</td><td style=\"text-align: right;\">        -22</td><td style=\"text-align: right;\">          0</td><td>                   </td><td style=\"text-align: right;\">         0</td><td style=\"text-align: right;\">               405</td><td style=\"text-align: right;\">                  387</td><td style=\"text-align: right;\">       362</td><td style=\"text-align: right;\">      2586</td><td>--             </td><td>--             </td><td>--         </td><td>--              </td><td>--                   </td><td>--           </td></tr>\n",
              "<tr><td><i style='opacity: 0.6'>8</i></td><td>2017-01-01</td><td>AA          </td><td style=\"text-align: right;\">                 10</td><td>LAX     </td><td>JFK   </td><td style=\"text-align: right;\">          2100</td><td style=\"text-align: right;\">      2100</td><td style=\"text-align: right;\">          0</td><td style=\"text-align: right;\">        15</td><td style=\"text-align: right;\">        2115</td><td style=\"text-align: right;\">        447</td><td style=\"text-align: right;\">       10</td><td style=\"text-align: right;\">           527</td><td style=\"text-align: right;\">       457</td><td style=\"text-align: right;\">        -30</td><td style=\"text-align: right;\">          0</td><td>                   </td><td style=\"text-align: right;\">         0</td><td style=\"text-align: right;\">               327</td><td style=\"text-align: right;\">                  297</td><td style=\"text-align: right;\">       272</td><td style=\"text-align: right;\">      2475</td><td>--             </td><td>--             </td><td>--         </td><td>--              </td><td>--                   </td><td>--           </td></tr>\n",
              "<tr><td><i style='opacity: 0.6'>9</i></td><td>2017-01-01</td><td>AA          </td><td style=\"text-align: right;\">                 12</td><td>SFO     </td><td>JFK   </td><td style=\"text-align: right;\">          1135</td><td style=\"text-align: right;\">      1130</td><td style=\"text-align: right;\">         -5</td><td style=\"text-align: right;\">        27</td><td style=\"text-align: right;\">        1157</td><td style=\"text-align: right;\">       1937</td><td style=\"text-align: right;\">       17</td><td style=\"text-align: right;\">          2018</td><td style=\"text-align: right;\">      1954</td><td style=\"text-align: right;\">        -24</td><td style=\"text-align: right;\">          0</td><td>                   </td><td style=\"text-align: right;\">         0</td><td style=\"text-align: right;\">               343</td><td style=\"text-align: right;\">                  324</td><td style=\"text-align: right;\">       280</td><td style=\"text-align: right;\">      2586</td><td>--             </td><td>--             </td><td>--         </td><td>--              </td><td>--                   </td><td>--           </td></tr>\n",
              "</tbody>\n",
              "</table>"
            ],
            "text/plain": [
              "  #  FL_DATE     OP_CARRIER      OP_CARRIER_FL_NUM  ORIGIN    DEST      CRS_DEP_TIME    DEP_TIME    DEP_DELAY    TAXI_OUT    WHEELS_OFF    WHEELS_ON    TAXI_IN    CRS_ARR_TIME    ARR_TIME    ARR_DELAY    CANCELLED  CANCELLATION_CODE      DIVERTED    CRS_ELAPSED_TIME    ACTUAL_ELAPSED_TIME    AIR_TIME    DISTANCE  CARRIER_DELAY    WEATHER_DELAY    NAS_DELAY    SECURITY_DELAY    LATE_AIRCRAFT_DELAY    Unnamed: 27\n",
              "  0  2017-01-01  AA                              1  JFK       LAX                800         831           31          25           856         1143         26            1142        1209           27            0                                0                 402                    398         347        2475  27.0             0.0              0.0          0.0               0.0                    --\n",
              "  1  2017-01-01  AA                              2  LAX       JFK                900         934           34          34          1008         1757         12            1727        1809           42            0                                0                 327                    335         289        2475  34.0             0.0              8.0          0.0               0.0                    --\n",
              "  2  2017-01-01  AA                              4  LAX       JFK               1130        1221           51          20          1241         2025         15            1958        2040           42            0                                0                 328                    319         284        2475  7.0              0.0              0.0          0.0               35.0                   --\n",
              "  3  2017-01-01  AA                              5  DFW       HNL               1135        1252           77          19          1311         1744          5            1612        1749           97            0                                0                 517                    537         513        3784  77.0             0.0              20.0         0.0               0.0                    --\n",
              "  4  2017-01-01  AA                              6  OGG       DFW               1855        1855            0          16          1911          631         11             600         642           42            0                                0                 425                    467         440        3711  0.0              0.0              42.0         0.0               0.0                    --\n",
              "  5  2017-01-01  AA                              7  DFW       OGG                940        1619          399          12          1631         2031          6            1403        2037          394            0                                0                 503                    498         480        3711  394.0            0.0              0.0          0.0               0.0                    --\n",
              "  6  2017-01-01  AA                              8  HNL       DFW               1838        1903           25          19          1922          636         12             550         648           58            0                                0                 432                    465         434        3784  25.0             0.0              33.0         0.0               0.0                    --\n",
              "  7  2017-01-01  AA                              9  JFK       SFO                700         656           -4          22           718         1020          3            1045        1023          -22            0                                0                 405                    387         362        2586  --               --               --           --                --                     --\n",
              "  8  2017-01-01  AA                             10  LAX       JFK               2100        2100            0          15          2115          447         10             527         457          -30            0                                0                 327                    297         272        2475  --               --               --           --                --                     --\n",
              "  9  2017-01-01  AA                             12  SFO       JFK               1135        1130           -5          27          1157         1937         17            2018        1954          -24            0                                0                 343                    324         280        2586  --               --               --           --                --                     --"
            ]
          },
          "metadata": {},
          "execution_count": 6
        }
      ],
      "source": [
        "dfb = vx.open(\"2017.csv\")\n",
        "dfb.head()"
      ]
    },
    {
      "cell_type": "code",
      "execution_count": 7,
      "metadata": {
        "id": "txMqxmrxtuQ6",
        "colab": {
          "base_uri": "https://localhost:8080/",
          "height": 465
        },
        "outputId": "fbe346b0-15e8-4e97-c21e-c4ef12b6d42f"
      },
      "outputs": [
        {
          "output_type": "execute_result",
          "data": {
            "text/html": [
              "<table>\n",
              "<thead>\n",
              "<tr><th>#                            </th><th>FL_DATE   </th><th>OP_CARRIER  </th><th style=\"text-align: right;\">  OP_CARRIER_FL_NUM</th><th>ORIGIN  </th><th>DEST  </th><th style=\"text-align: right;\">  CRS_DEP_TIME</th><th style=\"text-align: right;\">  DEP_TIME</th><th style=\"text-align: right;\">  DEP_DELAY</th><th style=\"text-align: right;\">  TAXI_OUT</th><th style=\"text-align: right;\">  WHEELS_OFF</th><th style=\"text-align: right;\">  WHEELS_ON</th><th style=\"text-align: right;\">  TAXI_IN</th><th style=\"text-align: right;\">  CRS_ARR_TIME</th><th style=\"text-align: right;\">  ARR_TIME</th><th style=\"text-align: right;\">  ARR_DELAY</th><th style=\"text-align: right;\">  CANCELLED</th><th>CANCELLATION_CODE  </th><th style=\"text-align: right;\">  DIVERTED</th><th style=\"text-align: right;\">  CRS_ELAPSED_TIME</th><th style=\"text-align: right;\">  ACTUAL_ELAPSED_TIME</th><th style=\"text-align: right;\">  AIR_TIME</th><th style=\"text-align: right;\">  DISTANCE</th><th>CARRIER_DELAY  </th><th>WEATHER_DELAY  </th><th>NAS_DELAY  </th><th>SECURITY_DELAY  </th><th>LATE_AIRCRAFT_DELAY  </th><th>Unnamed: 27  </th></tr>\n",
              "</thead>\n",
              "<tbody>\n",
              "<tr><td><i style='opacity: 0.6'>0</i></td><td>2018-01-01</td><td>UA          </td><td style=\"text-align: right;\">               2429</td><td>EWR     </td><td>DEN   </td><td style=\"text-align: right;\">          1517</td><td style=\"text-align: right;\">      1512</td><td style=\"text-align: right;\">         -5</td><td style=\"text-align: right;\">        15</td><td style=\"text-align: right;\">        1527</td><td style=\"text-align: right;\">       1712</td><td style=\"text-align: right;\">       10</td><td style=\"text-align: right;\">          1745</td><td style=\"text-align: right;\">      1722</td><td style=\"text-align: right;\">        -23</td><td style=\"text-align: right;\">          0</td><td>                   </td><td style=\"text-align: right;\">         0</td><td style=\"text-align: right;\">               268</td><td style=\"text-align: right;\">                  250</td><td style=\"text-align: right;\">       225</td><td style=\"text-align: right;\">      1605</td><td>--             </td><td>--             </td><td>--         </td><td>--              </td><td>--                   </td><td>--           </td></tr>\n",
              "<tr><td><i style='opacity: 0.6'>1</i></td><td>2018-01-01</td><td>UA          </td><td style=\"text-align: right;\">               2427</td><td>LAS     </td><td>SFO   </td><td style=\"text-align: right;\">          1115</td><td style=\"text-align: right;\">      1107</td><td style=\"text-align: right;\">         -8</td><td style=\"text-align: right;\">        11</td><td style=\"text-align: right;\">        1118</td><td style=\"text-align: right;\">       1223</td><td style=\"text-align: right;\">        7</td><td style=\"text-align: right;\">          1254</td><td style=\"text-align: right;\">      1230</td><td style=\"text-align: right;\">        -24</td><td style=\"text-align: right;\">          0</td><td>                   </td><td style=\"text-align: right;\">         0</td><td style=\"text-align: right;\">                99</td><td style=\"text-align: right;\">                   83</td><td style=\"text-align: right;\">        65</td><td style=\"text-align: right;\">       414</td><td>--             </td><td>--             </td><td>--         </td><td>--              </td><td>--                   </td><td>--           </td></tr>\n",
              "<tr><td><i style='opacity: 0.6'>2</i></td><td>2018-01-01</td><td>UA          </td><td style=\"text-align: right;\">               2426</td><td>SNA     </td><td>DEN   </td><td style=\"text-align: right;\">          1335</td><td style=\"text-align: right;\">      1330</td><td style=\"text-align: right;\">         -5</td><td style=\"text-align: right;\">        15</td><td style=\"text-align: right;\">        1345</td><td style=\"text-align: right;\">       1631</td><td style=\"text-align: right;\">        5</td><td style=\"text-align: right;\">          1649</td><td style=\"text-align: right;\">      1636</td><td style=\"text-align: right;\">        -13</td><td style=\"text-align: right;\">          0</td><td>                   </td><td style=\"text-align: right;\">         0</td><td style=\"text-align: right;\">               134</td><td style=\"text-align: right;\">                  126</td><td style=\"text-align: right;\">       106</td><td style=\"text-align: right;\">       846</td><td>--             </td><td>--             </td><td>--         </td><td>--              </td><td>--                   </td><td>--           </td></tr>\n",
              "<tr><td><i style='opacity: 0.6'>3</i></td><td>2018-01-01</td><td>UA          </td><td style=\"text-align: right;\">               2425</td><td>RSW     </td><td>ORD   </td><td style=\"text-align: right;\">          1546</td><td style=\"text-align: right;\">      1552</td><td style=\"text-align: right;\">          6</td><td style=\"text-align: right;\">        19</td><td style=\"text-align: right;\">        1611</td><td style=\"text-align: right;\">       1748</td><td style=\"text-align: right;\">        6</td><td style=\"text-align: right;\">          1756</td><td style=\"text-align: right;\">      1754</td><td style=\"text-align: right;\">         -2</td><td style=\"text-align: right;\">          0</td><td>                   </td><td style=\"text-align: right;\">         0</td><td style=\"text-align: right;\">               190</td><td style=\"text-align: right;\">                  182</td><td style=\"text-align: right;\">       157</td><td style=\"text-align: right;\">      1120</td><td>--             </td><td>--             </td><td>--         </td><td>--              </td><td>--                   </td><td>--           </td></tr>\n",
              "<tr><td><i style='opacity: 0.6'>4</i></td><td>2018-01-01</td><td>UA          </td><td style=\"text-align: right;\">               2424</td><td>ORD     </td><td>ALB   </td><td style=\"text-align: right;\">           630</td><td style=\"text-align: right;\">       650</td><td style=\"text-align: right;\">         20</td><td style=\"text-align: right;\">        13</td><td style=\"text-align: right;\">         703</td><td style=\"text-align: right;\">        926</td><td style=\"text-align: right;\">       10</td><td style=\"text-align: right;\">           922</td><td style=\"text-align: right;\">       936</td><td style=\"text-align: right;\">         14</td><td style=\"text-align: right;\">          0</td><td>                   </td><td style=\"text-align: right;\">         0</td><td style=\"text-align: right;\">               112</td><td style=\"text-align: right;\">                  106</td><td style=\"text-align: right;\">        83</td><td style=\"text-align: right;\">       723</td><td>--             </td><td>--             </td><td>--         </td><td>--              </td><td>--                   </td><td>--           </td></tr>\n",
              "<tr><td><i style='opacity: 0.6'>5</i></td><td>2018-01-01</td><td>UA          </td><td style=\"text-align: right;\">               2422</td><td>ORD     </td><td>OMA   </td><td style=\"text-align: right;\">          2241</td><td style=\"text-align: right;\">      2244</td><td style=\"text-align: right;\">          3</td><td style=\"text-align: right;\">        15</td><td style=\"text-align: right;\">        2259</td><td style=\"text-align: right;\">          1</td><td style=\"text-align: right;\">        2</td><td style=\"text-align: right;\">            14</td><td style=\"text-align: right;\">         3</td><td style=\"text-align: right;\">        -11</td><td style=\"text-align: right;\">          0</td><td>                   </td><td style=\"text-align: right;\">         0</td><td style=\"text-align: right;\">                93</td><td style=\"text-align: right;\">                   79</td><td style=\"text-align: right;\">        62</td><td style=\"text-align: right;\">       416</td><td>--             </td><td>--             </td><td>--         </td><td>--              </td><td>--                   </td><td>--           </td></tr>\n",
              "<tr><td><i style='opacity: 0.6'>6</i></td><td>2018-01-01</td><td>UA          </td><td style=\"text-align: right;\">               2421</td><td>IAH     </td><td>LAS   </td><td style=\"text-align: right;\">           750</td><td style=\"text-align: right;\">       747</td><td style=\"text-align: right;\">         -3</td><td style=\"text-align: right;\">        14</td><td style=\"text-align: right;\">         801</td><td style=\"text-align: right;\">        854</td><td style=\"text-align: right;\">        6</td><td style=\"text-align: right;\">           916</td><td style=\"text-align: right;\">       900</td><td style=\"text-align: right;\">        -16</td><td style=\"text-align: right;\">          0</td><td>                   </td><td style=\"text-align: right;\">         0</td><td style=\"text-align: right;\">               206</td><td style=\"text-align: right;\">                  193</td><td style=\"text-align: right;\">       173</td><td style=\"text-align: right;\">      1222</td><td>--             </td><td>--             </td><td>--         </td><td>--              </td><td>--                   </td><td>--           </td></tr>\n",
              "<tr><td><i style='opacity: 0.6'>7</i></td><td>2018-01-01</td><td>UA          </td><td style=\"text-align: right;\">               2420</td><td>DEN     </td><td>CID   </td><td style=\"text-align: right;\">          1324</td><td style=\"text-align: right;\">      1318</td><td style=\"text-align: right;\">         -6</td><td style=\"text-align: right;\">        11</td><td style=\"text-align: right;\">        1329</td><td style=\"text-align: right;\">       1554</td><td style=\"text-align: right;\">        6</td><td style=\"text-align: right;\">          1619</td><td style=\"text-align: right;\">      1600</td><td style=\"text-align: right;\">        -19</td><td style=\"text-align: right;\">          0</td><td>                   </td><td style=\"text-align: right;\">         0</td><td style=\"text-align: right;\">               115</td><td style=\"text-align: right;\">                  102</td><td style=\"text-align: right;\">        85</td><td style=\"text-align: right;\">       692</td><td>--             </td><td>--             </td><td>--         </td><td>--              </td><td>--                   </td><td>--           </td></tr>\n",
              "<tr><td><i style='opacity: 0.6'>8</i></td><td>2018-01-01</td><td>UA          </td><td style=\"text-align: right;\">               2419</td><td>SMF     </td><td>EWR   </td><td style=\"text-align: right;\">          2224</td><td style=\"text-align: right;\">      2237</td><td style=\"text-align: right;\">         13</td><td style=\"text-align: right;\">        10</td><td style=\"text-align: right;\">        2247</td><td style=\"text-align: right;\">        627</td><td style=\"text-align: right;\">        9</td><td style=\"text-align: right;\">           638</td><td style=\"text-align: right;\">       636</td><td style=\"text-align: right;\">         -2</td><td style=\"text-align: right;\">          0</td><td>                   </td><td style=\"text-align: right;\">         0</td><td style=\"text-align: right;\">               314</td><td style=\"text-align: right;\">                  299</td><td style=\"text-align: right;\">       280</td><td style=\"text-align: right;\">      2500</td><td>--             </td><td>--             </td><td>--         </td><td>--              </td><td>--                   </td><td>--           </td></tr>\n",
              "<tr><td><i style='opacity: 0.6'>9</i></td><td>2018-01-01</td><td>UA          </td><td style=\"text-align: right;\">               2418</td><td>RIC     </td><td>DEN   </td><td style=\"text-align: right;\">          1601</td><td style=\"text-align: right;\">      1559</td><td style=\"text-align: right;\">         -2</td><td style=\"text-align: right;\">        12</td><td style=\"text-align: right;\">        1611</td><td style=\"text-align: right;\">       1748</td><td style=\"text-align: right;\">        8</td><td style=\"text-align: right;\">          1813</td><td style=\"text-align: right;\">      1756</td><td style=\"text-align: right;\">        -17</td><td style=\"text-align: right;\">          0</td><td>                   </td><td style=\"text-align: right;\">         0</td><td style=\"text-align: right;\">               252</td><td style=\"text-align: right;\">                  237</td><td style=\"text-align: right;\">       217</td><td style=\"text-align: right;\">      1482</td><td>--             </td><td>--             </td><td>--         </td><td>--              </td><td>--                   </td><td>--           </td></tr>\n",
              "</tbody>\n",
              "</table>"
            ],
            "text/plain": [
              "  #  FL_DATE     OP_CARRIER      OP_CARRIER_FL_NUM  ORIGIN    DEST      CRS_DEP_TIME    DEP_TIME    DEP_DELAY    TAXI_OUT    WHEELS_OFF    WHEELS_ON    TAXI_IN    CRS_ARR_TIME    ARR_TIME    ARR_DELAY    CANCELLED  CANCELLATION_CODE      DIVERTED    CRS_ELAPSED_TIME    ACTUAL_ELAPSED_TIME    AIR_TIME    DISTANCE  CARRIER_DELAY    WEATHER_DELAY    NAS_DELAY    SECURITY_DELAY    LATE_AIRCRAFT_DELAY    Unnamed: 27\n",
              "  0  2018-01-01  UA                           2429  EWR       DEN               1517        1512           -5          15          1527         1712         10            1745        1722          -23            0                                0                 268                    250         225        1605  --               --               --           --                --                     --\n",
              "  1  2018-01-01  UA                           2427  LAS       SFO               1115        1107           -8          11          1118         1223          7            1254        1230          -24            0                                0                  99                     83          65         414  --               --               --           --                --                     --\n",
              "  2  2018-01-01  UA                           2426  SNA       DEN               1335        1330           -5          15          1345         1631          5            1649        1636          -13            0                                0                 134                    126         106         846  --               --               --           --                --                     --\n",
              "  3  2018-01-01  UA                           2425  RSW       ORD               1546        1552            6          19          1611         1748          6            1756        1754           -2            0                                0                 190                    182         157        1120  --               --               --           --                --                     --\n",
              "  4  2018-01-01  UA                           2424  ORD       ALB                630         650           20          13           703          926         10             922         936           14            0                                0                 112                    106          83         723  --               --               --           --                --                     --\n",
              "  5  2018-01-01  UA                           2422  ORD       OMA               2241        2244            3          15          2259            1          2              14           3          -11            0                                0                  93                     79          62         416  --               --               --           --                --                     --\n",
              "  6  2018-01-01  UA                           2421  IAH       LAS                750         747           -3          14           801          854          6             916         900          -16            0                                0                 206                    193         173        1222  --               --               --           --                --                     --\n",
              "  7  2018-01-01  UA                           2420  DEN       CID               1324        1318           -6          11          1329         1554          6            1619        1600          -19            0                                0                 115                    102          85         692  --               --               --           --                --                     --\n",
              "  8  2018-01-01  UA                           2419  SMF       EWR               2224        2237           13          10          2247          627          9             638         636           -2            0                                0                 314                    299         280        2500  --               --               --           --                --                     --\n",
              "  9  2018-01-01  UA                           2418  RIC       DEN               1601        1559           -2          12          1611         1748          8            1813        1756          -17            0                                0                 252                    237         217        1482  --               --               --           --                --                     --"
            ]
          },
          "metadata": {},
          "execution_count": 7
        }
      ],
      "source": [
        "dfc = vx.open(\"2018.csv\")\n",
        "dfc.head()"
      ]
    },
    {
      "cell_type": "code",
      "execution_count": 8,
      "metadata": {
        "id": "4dpYofDjuh91",
        "colab": {
          "base_uri": "https://localhost:8080/",
          "height": 465
        },
        "outputId": "128964ad-6666-4189-d098-038f39e06e3e"
      },
      "outputs": [
        {
          "output_type": "execute_result",
          "data": {
            "text/html": [
              "<table>\n",
              "<thead>\n",
              "<tr><th>#                            </th><th>FL_DATE   </th><th>OP_CARRIER  </th><th style=\"text-align: right;\">  OP_CARRIER_FL_NUM</th><th>ORIGIN  </th><th>DEST  </th><th style=\"text-align: right;\">  CRS_DEP_TIME</th><th style=\"text-align: right;\">  DEP_TIME</th><th style=\"text-align: right;\">  DEP_DELAY</th><th style=\"text-align: right;\">  TAXI_OUT</th><th style=\"text-align: right;\">  WHEELS_OFF</th><th style=\"text-align: right;\">  WHEELS_ON</th><th style=\"text-align: right;\">  TAXI_IN</th><th style=\"text-align: right;\">  CRS_ARR_TIME</th><th style=\"text-align: right;\">  ARR_TIME</th><th style=\"text-align: right;\">  ARR_DELAY</th><th style=\"text-align: right;\">  CANCELLED</th><th>CANCELLATION_CODE  </th><th style=\"text-align: right;\">  DIVERTED</th><th style=\"text-align: right;\">  CRS_ELAPSED_TIME</th><th style=\"text-align: right;\">  ACTUAL_ELAPSED_TIME</th><th style=\"text-align: right;\">  AIR_TIME</th><th style=\"text-align: right;\">  DISTANCE</th><th>CARRIER_DELAY  </th><th>WEATHER_DELAY  </th><th>NAS_DELAY  </th><th>SECURITY_DELAY  </th><th>LATE_AIRCRAFT_DELAY  </th><th>Unnamed: 27  </th></tr>\n",
              "</thead>\n",
              "<tbody>\n",
              "<tr><td><i style='opacity: 0.6'>0</i></td><td>2016-01-01</td><td>DL          </td><td style=\"text-align: right;\">               1248</td><td>DTW     </td><td>LAX   </td><td style=\"text-align: right;\">          1935</td><td style=\"text-align: right;\">      1935</td><td style=\"text-align: right;\">          0</td><td style=\"text-align: right;\">        23</td><td style=\"text-align: right;\">        1958</td><td style=\"text-align: right;\">       2107</td><td style=\"text-align: right;\">       13</td><td style=\"text-align: right;\">          2144</td><td style=\"text-align: right;\">      2120</td><td style=\"text-align: right;\">        -24</td><td style=\"text-align: right;\">          0</td><td>                   </td><td style=\"text-align: right;\">         0</td><td style=\"text-align: right;\">               309</td><td style=\"text-align: right;\">                  285</td><td style=\"text-align: right;\">       249</td><td style=\"text-align: right;\">      1979</td><td>--             </td><td>--             </td><td>--         </td><td>--              </td><td>--                   </td><td>--           </td></tr>\n",
              "<tr><td><i style='opacity: 0.6'>1</i></td><td>2016-01-01</td><td>DL          </td><td style=\"text-align: right;\">               1251</td><td>ATL     </td><td>GRR   </td><td style=\"text-align: right;\">          2125</td><td style=\"text-align: right;\">      2130</td><td style=\"text-align: right;\">          5</td><td style=\"text-align: right;\">        13</td><td style=\"text-align: right;\">        2143</td><td style=\"text-align: right;\">       2315</td><td style=\"text-align: right;\">        4</td><td style=\"text-align: right;\">          2321</td><td style=\"text-align: right;\">      2319</td><td style=\"text-align: right;\">         -2</td><td style=\"text-align: right;\">          0</td><td>                   </td><td style=\"text-align: right;\">         0</td><td style=\"text-align: right;\">               116</td><td style=\"text-align: right;\">                  109</td><td style=\"text-align: right;\">        92</td><td style=\"text-align: right;\">       640</td><td>--             </td><td>--             </td><td>--         </td><td>--              </td><td>--                   </td><td>--           </td></tr>\n",
              "<tr><td><i style='opacity: 0.6'>2</i></td><td>2016-01-01</td><td>DL          </td><td style=\"text-align: right;\">               1254</td><td>LAX     </td><td>ATL   </td><td style=\"text-align: right;\">          2255</td><td style=\"text-align: right;\">      2256</td><td style=\"text-align: right;\">          1</td><td style=\"text-align: right;\">        19</td><td style=\"text-align: right;\">        2315</td><td style=\"text-align: right;\">        542</td><td style=\"text-align: right;\">        5</td><td style=\"text-align: right;\">           600</td><td style=\"text-align: right;\">       547</td><td style=\"text-align: right;\">        -13</td><td style=\"text-align: right;\">          0</td><td>                   </td><td style=\"text-align: right;\">         0</td><td style=\"text-align: right;\">               245</td><td style=\"text-align: right;\">                  231</td><td style=\"text-align: right;\">       207</td><td style=\"text-align: right;\">      1947</td><td>--             </td><td>--             </td><td>--         </td><td>--              </td><td>--                   </td><td>--           </td></tr>\n",
              "<tr><td><i style='opacity: 0.6'>3</i></td><td>2016-01-01</td><td>DL          </td><td style=\"text-align: right;\">               1255</td><td>SLC     </td><td>ATL   </td><td style=\"text-align: right;\">          1656</td><td style=\"text-align: right;\">      1700</td><td style=\"text-align: right;\">          4</td><td style=\"text-align: right;\">        12</td><td style=\"text-align: right;\">        1712</td><td style=\"text-align: right;\">       2205</td><td style=\"text-align: right;\">        8</td><td style=\"text-align: right;\">          2229</td><td style=\"text-align: right;\">      2213</td><td style=\"text-align: right;\">        -16</td><td style=\"text-align: right;\">          0</td><td>                   </td><td style=\"text-align: right;\">         0</td><td style=\"text-align: right;\">               213</td><td style=\"text-align: right;\">                  193</td><td style=\"text-align: right;\">       173</td><td style=\"text-align: right;\">      1590</td><td>--             </td><td>--             </td><td>--         </td><td>--              </td><td>--                   </td><td>--           </td></tr>\n",
              "<tr><td><i style='opacity: 0.6'>4</i></td><td>2016-01-01</td><td>DL          </td><td style=\"text-align: right;\">               1256</td><td>BZN     </td><td>MSP   </td><td style=\"text-align: right;\">           900</td><td style=\"text-align: right;\">      1012</td><td style=\"text-align: right;\">         72</td><td style=\"text-align: right;\">        63</td><td style=\"text-align: right;\">        1115</td><td style=\"text-align: right;\">       1416</td><td style=\"text-align: right;\">        4</td><td style=\"text-align: right;\">          1216</td><td style=\"text-align: right;\">      1420</td><td style=\"text-align: right;\">        124</td><td style=\"text-align: right;\">          0</td><td>                   </td><td style=\"text-align: right;\">         0</td><td style=\"text-align: right;\">               136</td><td style=\"text-align: right;\">                  188</td><td style=\"text-align: right;\">       121</td><td style=\"text-align: right;\">       874</td><td>72.0           </td><td>0.0            </td><td>52.0       </td><td>0.0             </td><td>0.0                  </td><td>--           </td></tr>\n",
              "<tr><td><i style='opacity: 0.6'>5</i></td><td>2016-01-01</td><td>DL          </td><td style=\"text-align: right;\">               1257</td><td>ATL     </td><td>BNA   </td><td style=\"text-align: right;\">          1233</td><td style=\"text-align: right;\">      1356</td><td style=\"text-align: right;\">         83</td><td style=\"text-align: right;\">        22</td><td style=\"text-align: right;\">        1418</td><td style=\"text-align: right;\">       1356</td><td style=\"text-align: right;\">        6</td><td style=\"text-align: right;\">          1239</td><td style=\"text-align: right;\">      1402</td><td style=\"text-align: right;\">         83</td><td style=\"text-align: right;\">          0</td><td>                   </td><td style=\"text-align: right;\">         0</td><td style=\"text-align: right;\">                66</td><td style=\"text-align: right;\">                   66</td><td style=\"text-align: right;\">        38</td><td style=\"text-align: right;\">       214</td><td>43.0           </td><td>0.0            </td><td>0.0        </td><td>0.0             </td><td>40.0                 </td><td>--           </td></tr>\n",
              "<tr><td><i style='opacity: 0.6'>6</i></td><td>2016-01-01</td><td>DL          </td><td style=\"text-align: right;\">               1257</td><td>BNA     </td><td>ATL   </td><td style=\"text-align: right;\">          1320</td><td style=\"text-align: right;\">      1446</td><td style=\"text-align: right;\">         86</td><td style=\"text-align: right;\">        15</td><td style=\"text-align: right;\">        1501</td><td style=\"text-align: right;\">       1638</td><td style=\"text-align: right;\">        6</td><td style=\"text-align: right;\">          1530</td><td style=\"text-align: right;\">      1644</td><td style=\"text-align: right;\">         74</td><td style=\"text-align: right;\">          0</td><td>                   </td><td style=\"text-align: right;\">         0</td><td style=\"text-align: right;\">                70</td><td style=\"text-align: right;\">                   58</td><td style=\"text-align: right;\">        37</td><td style=\"text-align: right;\">       214</td><td>3.0            </td><td>0.0            </td><td>0.0        </td><td>0.0             </td><td>71.0                 </td><td>--           </td></tr>\n",
              "<tr><td><i style='opacity: 0.6'>7</i></td><td>2016-01-01</td><td>DL          </td><td style=\"text-align: right;\">               1258</td><td>ATL     </td><td>JAX   </td><td style=\"text-align: right;\">           945</td><td style=\"text-align: right;\">       946</td><td style=\"text-align: right;\">          1</td><td style=\"text-align: right;\">        19</td><td style=\"text-align: right;\">        1005</td><td style=\"text-align: right;\">       1050</td><td style=\"text-align: right;\">        3</td><td style=\"text-align: right;\">          1050</td><td style=\"text-align: right;\">      1053</td><td style=\"text-align: right;\">          3</td><td style=\"text-align: right;\">          0</td><td>                   </td><td style=\"text-align: right;\">         0</td><td style=\"text-align: right;\">                65</td><td style=\"text-align: right;\">                   67</td><td style=\"text-align: right;\">        45</td><td style=\"text-align: right;\">       270</td><td>--             </td><td>--             </td><td>--         </td><td>--              </td><td>--                   </td><td>--           </td></tr>\n",
              "<tr><td><i style='opacity: 0.6'>8</i></td><td>2016-01-01</td><td>DL          </td><td style=\"text-align: right;\">               1258</td><td>JAX     </td><td>ATL   </td><td style=\"text-align: right;\">          1145</td><td style=\"text-align: right;\">      1144</td><td style=\"text-align: right;\">         -1</td><td style=\"text-align: right;\">        12</td><td style=\"text-align: right;\">        1156</td><td style=\"text-align: right;\">       1239</td><td style=\"text-align: right;\">        8</td><td style=\"text-align: right;\">          1302</td><td style=\"text-align: right;\">      1247</td><td style=\"text-align: right;\">        -15</td><td style=\"text-align: right;\">          0</td><td>                   </td><td style=\"text-align: right;\">         0</td><td style=\"text-align: right;\">                77</td><td style=\"text-align: right;\">                   63</td><td style=\"text-align: right;\">        43</td><td style=\"text-align: right;\">       270</td><td>--             </td><td>--             </td><td>--         </td><td>--              </td><td>--                   </td><td>--           </td></tr>\n",
              "<tr><td><i style='opacity: 0.6'>9</i></td><td>2016-01-01</td><td>DL          </td><td style=\"text-align: right;\">               1259</td><td>ATL     </td><td>OKC   </td><td style=\"text-align: right;\">          2110</td><td style=\"text-align: right;\">      2107</td><td style=\"text-align: right;\">         -3</td><td style=\"text-align: right;\">        16</td><td style=\"text-align: right;\">        2123</td><td style=\"text-align: right;\">       2219</td><td style=\"text-align: right;\">        5</td><td style=\"text-align: right;\">          2236</td><td style=\"text-align: right;\">      2224</td><td style=\"text-align: right;\">        -12</td><td style=\"text-align: right;\">          0</td><td>                   </td><td style=\"text-align: right;\">         0</td><td style=\"text-align: right;\">               146</td><td style=\"text-align: right;\">                  137</td><td style=\"text-align: right;\">       116</td><td style=\"text-align: right;\">       761</td><td>--             </td><td>--             </td><td>--         </td><td>--              </td><td>--                   </td><td>--           </td></tr>\n",
              "</tbody>\n",
              "</table>"
            ],
            "text/plain": [
              "  #  FL_DATE     OP_CARRIER      OP_CARRIER_FL_NUM  ORIGIN    DEST      CRS_DEP_TIME    DEP_TIME    DEP_DELAY    TAXI_OUT    WHEELS_OFF    WHEELS_ON    TAXI_IN    CRS_ARR_TIME    ARR_TIME    ARR_DELAY    CANCELLED  CANCELLATION_CODE      DIVERTED    CRS_ELAPSED_TIME    ACTUAL_ELAPSED_TIME    AIR_TIME    DISTANCE  CARRIER_DELAY    WEATHER_DELAY    NAS_DELAY    SECURITY_DELAY    LATE_AIRCRAFT_DELAY    Unnamed: 27\n",
              "  0  2016-01-01  DL                           1248  DTW       LAX               1935        1935            0          23          1958         2107         13            2144        2120          -24            0                                0                 309                    285         249        1979  --               --               --           --                --                     --\n",
              "  1  2016-01-01  DL                           1251  ATL       GRR               2125        2130            5          13          2143         2315          4            2321        2319           -2            0                                0                 116                    109          92         640  --               --               --           --                --                     --\n",
              "  2  2016-01-01  DL                           1254  LAX       ATL               2255        2256            1          19          2315          542          5             600         547          -13            0                                0                 245                    231         207        1947  --               --               --           --                --                     --\n",
              "  3  2016-01-01  DL                           1255  SLC       ATL               1656        1700            4          12          1712         2205          8            2229        2213          -16            0                                0                 213                    193         173        1590  --               --               --           --                --                     --\n",
              "  4  2016-01-01  DL                           1256  BZN       MSP                900        1012           72          63          1115         1416          4            1216        1420          124            0                                0                 136                    188         121         874  72.0             0.0              52.0         0.0               0.0                    --\n",
              "  5  2016-01-01  DL                           1257  ATL       BNA               1233        1356           83          22          1418         1356          6            1239        1402           83            0                                0                  66                     66          38         214  43.0             0.0              0.0          0.0               40.0                   --\n",
              "  6  2016-01-01  DL                           1257  BNA       ATL               1320        1446           86          15          1501         1638          6            1530        1644           74            0                                0                  70                     58          37         214  3.0              0.0              0.0          0.0               71.0                   --\n",
              "  7  2016-01-01  DL                           1258  ATL       JAX                945         946            1          19          1005         1050          3            1050        1053            3            0                                0                  65                     67          45         270  --               --               --           --                --                     --\n",
              "  8  2016-01-01  DL                           1258  JAX       ATL               1145        1144           -1          12          1156         1239          8            1302        1247          -15            0                                0                  77                     63          43         270  --               --               --           --                --                     --\n",
              "  9  2016-01-01  DL                           1259  ATL       OKC               2110        2107           -3          16          2123         2219          5            2236        2224          -12            0                                0                 146                    137         116         761  --               --               --           --                --                     --"
            ]
          },
          "metadata": {},
          "execution_count": 8
        }
      ],
      "source": [
        "vdf = vx.concat([dfa, dfb, dfc])\n",
        "vdf.head()"
      ]
    },
    {
      "cell_type": "markdown",
      "metadata": {
        "id": "ofO1MBm6uWZI"
      },
      "source": [
        "**Reading The Dataset into a Dataframe:** Using *PySpark Library*\n",
        "\n",
        "\n",
        "*   Read all 3 files\n",
        "*   Combine/Merge the dataframe into a single dataframe\n",
        "\n"
      ]
    },
    {
      "cell_type": "code",
      "execution_count": 20,
      "metadata": {
        "id": "MvjxPZc20FEo",
        "colab": {
          "base_uri": "https://localhost:8080/"
        },
        "outputId": "7a991c15-d0ad-4355-c077-5acc6b4036da"
      },
      "outputs": [
        {
          "output_type": "stream",
          "name": "stdout",
          "text": [
            "+-------------------+----------+-----------------+------+----+------------+--------+---------+--------+----------+---------+-------+------------+--------+---------+---------+-----------------+--------+----------------+-------------------+--------+--------+-------------+-------------+---------+--------------+-------------------+-----------+\n",
            "|            FL_DATE|OP_CARRIER|OP_CARRIER_FL_NUM|ORIGIN|DEST|CRS_DEP_TIME|DEP_TIME|DEP_DELAY|TAXI_OUT|WHEELS_OFF|WHEELS_ON|TAXI_IN|CRS_ARR_TIME|ARR_TIME|ARR_DELAY|CANCELLED|CANCELLATION_CODE|DIVERTED|CRS_ELAPSED_TIME|ACTUAL_ELAPSED_TIME|AIR_TIME|DISTANCE|CARRIER_DELAY|WEATHER_DELAY|NAS_DELAY|SECURITY_DELAY|LATE_AIRCRAFT_DELAY|Unnamed: 27|\n",
            "+-------------------+----------+-----------------+------+----+------------+--------+---------+--------+----------+---------+-------+------------+--------+---------+---------+-----------------+--------+----------------+-------------------+--------+--------+-------------+-------------+---------+--------------+-------------------+-----------+\n",
            "|2016-01-01 00:00:00|        DL|             1248|   DTW| LAX|        1935|  1935.0|      0.0|    23.0|    1958.0|   2107.0|   13.0|        2144|  2120.0|    -24.0|      0.0|             null|     0.0|           309.0|              285.0|   249.0|  1979.0|         null|         null|     null|          null|               null|       null|\n",
            "|2016-01-01 00:00:00|        DL|             1251|   ATL| GRR|        2125|  2130.0|      5.0|    13.0|    2143.0|   2315.0|    4.0|        2321|  2319.0|     -2.0|      0.0|             null|     0.0|           116.0|              109.0|    92.0|   640.0|         null|         null|     null|          null|               null|       null|\n",
            "|2016-01-01 00:00:00|        DL|             1254|   LAX| ATL|        2255|  2256.0|      1.0|    19.0|    2315.0|    542.0|    5.0|         600|   547.0|    -13.0|      0.0|             null|     0.0|           245.0|              231.0|   207.0|  1947.0|         null|         null|     null|          null|               null|       null|\n",
            "|2016-01-01 00:00:00|        DL|             1255|   SLC| ATL|        1656|  1700.0|      4.0|    12.0|    1712.0|   2205.0|    8.0|        2229|  2213.0|    -16.0|      0.0|             null|     0.0|           213.0|              193.0|   173.0|  1590.0|         null|         null|     null|          null|               null|       null|\n",
            "|2016-01-01 00:00:00|        DL|             1256|   BZN| MSP|         900|  1012.0|     72.0|    63.0|    1115.0|   1416.0|    4.0|        1216|  1420.0|    124.0|      0.0|             null|     0.0|           136.0|              188.0|   121.0|   874.0|         72.0|          0.0|     52.0|           0.0|                0.0|       null|\n",
            "|2016-01-01 00:00:00|        DL|             1257|   ATL| BNA|        1233|  1356.0|     83.0|    22.0|    1418.0|   1356.0|    6.0|        1239|  1402.0|     83.0|      0.0|             null|     0.0|            66.0|               66.0|    38.0|   214.0|         43.0|          0.0|      0.0|           0.0|               40.0|       null|\n",
            "|2016-01-01 00:00:00|        DL|             1257|   BNA| ATL|        1320|  1446.0|     86.0|    15.0|    1501.0|   1638.0|    6.0|        1530|  1644.0|     74.0|      0.0|             null|     0.0|            70.0|               58.0|    37.0|   214.0|          3.0|          0.0|      0.0|           0.0|               71.0|       null|\n",
            "|2016-01-01 00:00:00|        DL|             1258|   ATL| JAX|         945|   946.0|      1.0|    19.0|    1005.0|   1050.0|    3.0|        1050|  1053.0|      3.0|      0.0|             null|     0.0|            65.0|               67.0|    45.0|   270.0|         null|         null|     null|          null|               null|       null|\n",
            "|2016-01-01 00:00:00|        DL|             1258|   JAX| ATL|        1145|  1144.0|     -1.0|    12.0|    1156.0|   1239.0|    8.0|        1302|  1247.0|    -15.0|      0.0|             null|     0.0|            77.0|               63.0|    43.0|   270.0|         null|         null|     null|          null|               null|       null|\n",
            "|2016-01-01 00:00:00|        DL|             1259|   ATL| OKC|        2110|  2107.0|     -3.0|    16.0|    2123.0|   2219.0|    5.0|        2236|  2224.0|    -12.0|      0.0|             null|     0.0|           146.0|              137.0|   116.0|   761.0|         null|         null|     null|          null|               null|       null|\n",
            "+-------------------+----------+-----------------+------+----+------------+--------+---------+--------+----------+---------+-------+------------+--------+---------+---------+-----------------+--------+----------------+-------------------+--------+--------+-------------+-------------+---------+--------------+-------------------+-----------+\n",
            "only showing top 10 rows\n",
            "\n"
          ]
        }
      ],
      "source": [
        "df_1 = spark.read.csv(\"2016.csv\", inferSchema=True, header=True)\n",
        "df_1.show(10)"
      ]
    },
    {
      "cell_type": "code",
      "execution_count": 21,
      "metadata": {
        "id": "gAhgTCSL0bhr",
        "colab": {
          "base_uri": "https://localhost:8080/"
        },
        "outputId": "2c202b13-e157-473c-d199-7fce74a1a6e2"
      },
      "outputs": [
        {
          "output_type": "stream",
          "name": "stdout",
          "text": [
            "+-------------------+----------+-----------------+------+----+------------+--------+---------+--------+----------+---------+-------+------------+--------+---------+---------+-----------------+--------+----------------+-------------------+--------+--------+-------------+-------------+---------+--------------+-------------------+-----------+\n",
            "|            FL_DATE|OP_CARRIER|OP_CARRIER_FL_NUM|ORIGIN|DEST|CRS_DEP_TIME|DEP_TIME|DEP_DELAY|TAXI_OUT|WHEELS_OFF|WHEELS_ON|TAXI_IN|CRS_ARR_TIME|ARR_TIME|ARR_DELAY|CANCELLED|CANCELLATION_CODE|DIVERTED|CRS_ELAPSED_TIME|ACTUAL_ELAPSED_TIME|AIR_TIME|DISTANCE|CARRIER_DELAY|WEATHER_DELAY|NAS_DELAY|SECURITY_DELAY|LATE_AIRCRAFT_DELAY|Unnamed: 27|\n",
            "+-------------------+----------+-----------------+------+----+------------+--------+---------+--------+----------+---------+-------+------------+--------+---------+---------+-----------------+--------+----------------+-------------------+--------+--------+-------------+-------------+---------+--------------+-------------------+-----------+\n",
            "|2017-01-01 00:00:00|        AA|                1|   JFK| LAX|         800|   831.0|     31.0|    25.0|     856.0|   1143.0|   26.0|        1142|  1209.0|     27.0|      0.0|             null|     0.0|           402.0|              398.0|   347.0|  2475.0|         27.0|          0.0|      0.0|           0.0|                0.0|       null|\n",
            "|2017-01-01 00:00:00|        AA|                2|   LAX| JFK|         900|   934.0|     34.0|    34.0|    1008.0|   1757.0|   12.0|        1727|  1809.0|     42.0|      0.0|             null|     0.0|           327.0|              335.0|   289.0|  2475.0|         34.0|          0.0|      8.0|           0.0|                0.0|       null|\n",
            "|2017-01-01 00:00:00|        AA|                4|   LAX| JFK|        1130|  1221.0|     51.0|    20.0|    1241.0|   2025.0|   15.0|        1958|  2040.0|     42.0|      0.0|             null|     0.0|           328.0|              319.0|   284.0|  2475.0|          7.0|          0.0|      0.0|           0.0|               35.0|       null|\n",
            "|2017-01-01 00:00:00|        AA|                5|   DFW| HNL|        1135|  1252.0|     77.0|    19.0|    1311.0|   1744.0|    5.0|        1612|  1749.0|     97.0|      0.0|             null|     0.0|           517.0|              537.0|   513.0|  3784.0|         77.0|          0.0|     20.0|           0.0|                0.0|       null|\n",
            "|2017-01-01 00:00:00|        AA|                6|   OGG| DFW|        1855|  1855.0|      0.0|    16.0|    1911.0|    631.0|   11.0|         600|   642.0|     42.0|      0.0|             null|     0.0|           425.0|              467.0|   440.0|  3711.0|          0.0|          0.0|     42.0|           0.0|                0.0|       null|\n",
            "|2017-01-01 00:00:00|        AA|                7|   DFW| OGG|         940|  1619.0|    399.0|    12.0|    1631.0|   2031.0|    6.0|        1403|  2037.0|    394.0|      0.0|             null|     0.0|           503.0|              498.0|   480.0|  3711.0|        394.0|          0.0|      0.0|           0.0|                0.0|       null|\n",
            "|2017-01-01 00:00:00|        AA|                8|   HNL| DFW|        1838|  1903.0|     25.0|    19.0|    1922.0|    636.0|   12.0|         550|   648.0|     58.0|      0.0|             null|     0.0|           432.0|              465.0|   434.0|  3784.0|         25.0|          0.0|     33.0|           0.0|                0.0|       null|\n",
            "|2017-01-01 00:00:00|        AA|                9|   JFK| SFO|         700|   656.0|     -4.0|    22.0|     718.0|   1020.0|    3.0|        1045|  1023.0|    -22.0|      0.0|             null|     0.0|           405.0|              387.0|   362.0|  2586.0|         null|         null|     null|          null|               null|       null|\n",
            "|2017-01-01 00:00:00|        AA|               10|   LAX| JFK|        2100|  2100.0|      0.0|    15.0|    2115.0|    447.0|   10.0|         527|   457.0|    -30.0|      0.0|             null|     0.0|           327.0|              297.0|   272.0|  2475.0|         null|         null|     null|          null|               null|       null|\n",
            "|2017-01-01 00:00:00|        AA|               12|   SFO| JFK|        1135|  1130.0|     -5.0|    27.0|    1157.0|   1937.0|   17.0|        2018|  1954.0|    -24.0|      0.0|             null|     0.0|           343.0|              324.0|   280.0|  2586.0|         null|         null|     null|          null|               null|       null|\n",
            "+-------------------+----------+-----------------+------+----+------------+--------+---------+--------+----------+---------+-------+------------+--------+---------+---------+-----------------+--------+----------------+-------------------+--------+--------+-------------+-------------+---------+--------------+-------------------+-----------+\n",
            "only showing top 10 rows\n",
            "\n"
          ]
        }
      ],
      "source": [
        "df_2 = spark.read.csv(\"2017.csv\", inferSchema=True, header=True)\n",
        "df_2.show(10)"
      ]
    },
    {
      "cell_type": "code",
      "execution_count": 22,
      "metadata": {
        "id": "d6-8rVP94Ie9",
        "colab": {
          "base_uri": "https://localhost:8080/"
        },
        "outputId": "a90462b3-295b-4e8b-e73e-627c7b2c4e6b"
      },
      "outputs": [
        {
          "output_type": "stream",
          "name": "stdout",
          "text": [
            "+-------------------+----------+-----------------+------+----+------------+--------+---------+--------+----------+---------+-------+------------+--------+---------+---------+-----------------+--------+----------------+-------------------+--------+--------+-------------+-------------+---------+--------------+-------------------+-----------+\n",
            "|            FL_DATE|OP_CARRIER|OP_CARRIER_FL_NUM|ORIGIN|DEST|CRS_DEP_TIME|DEP_TIME|DEP_DELAY|TAXI_OUT|WHEELS_OFF|WHEELS_ON|TAXI_IN|CRS_ARR_TIME|ARR_TIME|ARR_DELAY|CANCELLED|CANCELLATION_CODE|DIVERTED|CRS_ELAPSED_TIME|ACTUAL_ELAPSED_TIME|AIR_TIME|DISTANCE|CARRIER_DELAY|WEATHER_DELAY|NAS_DELAY|SECURITY_DELAY|LATE_AIRCRAFT_DELAY|Unnamed: 27|\n",
            "+-------------------+----------+-----------------+------+----+------------+--------+---------+--------+----------+---------+-------+------------+--------+---------+---------+-----------------+--------+----------------+-------------------+--------+--------+-------------+-------------+---------+--------------+-------------------+-----------+\n",
            "|2018-01-01 00:00:00|        UA|             2429|   EWR| DEN|        1517|  1512.0|     -5.0|    15.0|    1527.0|   1712.0|   10.0|        1745|  1722.0|    -23.0|      0.0|             null|     0.0|           268.0|              250.0|   225.0|  1605.0|         null|         null|     null|          null|               null|       null|\n",
            "|2018-01-01 00:00:00|        UA|             2427|   LAS| SFO|        1115|  1107.0|     -8.0|    11.0|    1118.0|   1223.0|    7.0|        1254|  1230.0|    -24.0|      0.0|             null|     0.0|            99.0|               83.0|    65.0|   414.0|         null|         null|     null|          null|               null|       null|\n",
            "|2018-01-01 00:00:00|        UA|             2426|   SNA| DEN|        1335|  1330.0|     -5.0|    15.0|    1345.0|   1631.0|    5.0|        1649|  1636.0|    -13.0|      0.0|             null|     0.0|           134.0|              126.0|   106.0|   846.0|         null|         null|     null|          null|               null|       null|\n",
            "|2018-01-01 00:00:00|        UA|             2425|   RSW| ORD|        1546|  1552.0|      6.0|    19.0|    1611.0|   1748.0|    6.0|        1756|  1754.0|     -2.0|      0.0|             null|     0.0|           190.0|              182.0|   157.0|  1120.0|         null|         null|     null|          null|               null|       null|\n",
            "|2018-01-01 00:00:00|        UA|             2424|   ORD| ALB|         630|   650.0|     20.0|    13.0|     703.0|    926.0|   10.0|         922|   936.0|     14.0|      0.0|             null|     0.0|           112.0|              106.0|    83.0|   723.0|         null|         null|     null|          null|               null|       null|\n",
            "|2018-01-01 00:00:00|        UA|             2422|   ORD| OMA|        2241|  2244.0|      3.0|    15.0|    2259.0|      1.0|    2.0|          14|     3.0|    -11.0|      0.0|             null|     0.0|            93.0|               79.0|    62.0|   416.0|         null|         null|     null|          null|               null|       null|\n",
            "|2018-01-01 00:00:00|        UA|             2421|   IAH| LAS|         750|   747.0|     -3.0|    14.0|     801.0|    854.0|    6.0|         916|   900.0|    -16.0|      0.0|             null|     0.0|           206.0|              193.0|   173.0|  1222.0|         null|         null|     null|          null|               null|       null|\n",
            "|2018-01-01 00:00:00|        UA|             2420|   DEN| CID|        1324|  1318.0|     -6.0|    11.0|    1329.0|   1554.0|    6.0|        1619|  1600.0|    -19.0|      0.0|             null|     0.0|           115.0|              102.0|    85.0|   692.0|         null|         null|     null|          null|               null|       null|\n",
            "|2018-01-01 00:00:00|        UA|             2419|   SMF| EWR|        2224|  2237.0|     13.0|    10.0|    2247.0|    627.0|    9.0|         638|   636.0|     -2.0|      0.0|             null|     0.0|           314.0|              299.0|   280.0|  2500.0|         null|         null|     null|          null|               null|       null|\n",
            "|2018-01-01 00:00:00|        UA|             2418|   RIC| DEN|        1601|  1559.0|     -2.0|    12.0|    1611.0|   1748.0|    8.0|        1813|  1756.0|    -17.0|      0.0|             null|     0.0|           252.0|              237.0|   217.0|  1482.0|         null|         null|     null|          null|               null|       null|\n",
            "+-------------------+----------+-----------------+------+----+------------+--------+---------+--------+----------+---------+-------+------------+--------+---------+---------+-----------------+--------+----------------+-------------------+--------+--------+-------------+-------------+---------+--------------+-------------------+-----------+\n",
            "only showing top 10 rows\n",
            "\n"
          ]
        }
      ],
      "source": [
        "df_3 = spark.read.csv(\"2018.csv\", inferSchema=True, header=True)\n",
        "df_3.show(10)"
      ]
    },
    {
      "cell_type": "code",
      "execution_count": 23,
      "metadata": {
        "id": "600ktk-a4Lbn",
        "colab": {
          "base_uri": "https://localhost:8080/"
        },
        "outputId": "4a317785-d74e-4afa-cbba-03c5b986371e"
      },
      "outputs": [
        {
          "output_type": "stream",
          "name": "stdout",
          "text": [
            "+-------------------+----------+-----------------+------+----+------------+--------+---------+--------+----------+---------+-------+------------+--------+---------+---------+-----------------+--------+----------------+-------------------+--------+--------+-------------+-------------+---------+--------------+-------------------+-----------+\n",
            "|            FL_DATE|OP_CARRIER|OP_CARRIER_FL_NUM|ORIGIN|DEST|CRS_DEP_TIME|DEP_TIME|DEP_DELAY|TAXI_OUT|WHEELS_OFF|WHEELS_ON|TAXI_IN|CRS_ARR_TIME|ARR_TIME|ARR_DELAY|CANCELLED|CANCELLATION_CODE|DIVERTED|CRS_ELAPSED_TIME|ACTUAL_ELAPSED_TIME|AIR_TIME|DISTANCE|CARRIER_DELAY|WEATHER_DELAY|NAS_DELAY|SECURITY_DELAY|LATE_AIRCRAFT_DELAY|Unnamed: 27|\n",
            "+-------------------+----------+-----------------+------+----+------------+--------+---------+--------+----------+---------+-------+------------+--------+---------+---------+-----------------+--------+----------------+-------------------+--------+--------+-------------+-------------+---------+--------------+-------------------+-----------+\n",
            "|2016-01-01 00:00:00|        DL|             1248|   DTW| LAX|        1935|  1935.0|      0.0|    23.0|    1958.0|   2107.0|   13.0|        2144|  2120.0|    -24.0|      0.0|             null|     0.0|           309.0|              285.0|   249.0|  1979.0|         null|         null|     null|          null|               null|       null|\n",
            "|2016-01-01 00:00:00|        DL|             1251|   ATL| GRR|        2125|  2130.0|      5.0|    13.0|    2143.0|   2315.0|    4.0|        2321|  2319.0|     -2.0|      0.0|             null|     0.0|           116.0|              109.0|    92.0|   640.0|         null|         null|     null|          null|               null|       null|\n",
            "|2016-01-01 00:00:00|        DL|             1254|   LAX| ATL|        2255|  2256.0|      1.0|    19.0|    2315.0|    542.0|    5.0|         600|   547.0|    -13.0|      0.0|             null|     0.0|           245.0|              231.0|   207.0|  1947.0|         null|         null|     null|          null|               null|       null|\n",
            "|2016-01-01 00:00:00|        DL|             1255|   SLC| ATL|        1656|  1700.0|      4.0|    12.0|    1712.0|   2205.0|    8.0|        2229|  2213.0|    -16.0|      0.0|             null|     0.0|           213.0|              193.0|   173.0|  1590.0|         null|         null|     null|          null|               null|       null|\n",
            "|2016-01-01 00:00:00|        DL|             1256|   BZN| MSP|         900|  1012.0|     72.0|    63.0|    1115.0|   1416.0|    4.0|        1216|  1420.0|    124.0|      0.0|             null|     0.0|           136.0|              188.0|   121.0|   874.0|         72.0|          0.0|     52.0|           0.0|                0.0|       null|\n",
            "|2016-01-01 00:00:00|        DL|             1257|   ATL| BNA|        1233|  1356.0|     83.0|    22.0|    1418.0|   1356.0|    6.0|        1239|  1402.0|     83.0|      0.0|             null|     0.0|            66.0|               66.0|    38.0|   214.0|         43.0|          0.0|      0.0|           0.0|               40.0|       null|\n",
            "|2016-01-01 00:00:00|        DL|             1257|   BNA| ATL|        1320|  1446.0|     86.0|    15.0|    1501.0|   1638.0|    6.0|        1530|  1644.0|     74.0|      0.0|             null|     0.0|            70.0|               58.0|    37.0|   214.0|          3.0|          0.0|      0.0|           0.0|               71.0|       null|\n",
            "|2016-01-01 00:00:00|        DL|             1258|   ATL| JAX|         945|   946.0|      1.0|    19.0|    1005.0|   1050.0|    3.0|        1050|  1053.0|      3.0|      0.0|             null|     0.0|            65.0|               67.0|    45.0|   270.0|         null|         null|     null|          null|               null|       null|\n",
            "|2016-01-01 00:00:00|        DL|             1258|   JAX| ATL|        1145|  1144.0|     -1.0|    12.0|    1156.0|   1239.0|    8.0|        1302|  1247.0|    -15.0|      0.0|             null|     0.0|            77.0|               63.0|    43.0|   270.0|         null|         null|     null|          null|               null|       null|\n",
            "|2016-01-01 00:00:00|        DL|             1259|   ATL| OKC|        2110|  2107.0|     -3.0|    16.0|    2123.0|   2219.0|    5.0|        2236|  2224.0|    -12.0|      0.0|             null|     0.0|           146.0|              137.0|   116.0|   761.0|         null|         null|     null|          null|               null|       null|\n",
            "|2016-01-01 00:00:00|        DL|             1260|   MSP| SMF|        1115|  1113.0|     -2.0|    12.0|    1125.0|   1232.0|    4.0|        1309|  1236.0|    -33.0|      0.0|             null|     0.0|           234.0|              203.0|   187.0|  1517.0|         null|         null|     null|          null|               null|       null|\n",
            "|2016-01-01 00:00:00|        DL|             1262|   LAX| JFK|        2255|  2248.0|     -7.0|    23.0|    2311.0|    650.0|   11.0|         715|   701.0|    -14.0|      0.0|             null|     0.0|           320.0|              313.0|   279.0|  2475.0|         null|         null|     null|          null|               null|       null|\n",
            "|2016-01-01 00:00:00|        DL|             1263|   ATL| MDT|        1510|  1509.0|     -1.0|    17.0|    1526.0|   1646.0|    5.0|        1702|  1651.0|    -11.0|      0.0|             null|     0.0|           112.0|              102.0|    80.0|   620.0|         null|         null|     null|          null|               null|       null|\n",
            "|2016-01-01 00:00:00|        DL|             1263|   MDT| ATL|        1737|  1727.0|    -10.0|    11.0|    1738.0|   1923.0|   11.0|        1949|  1934.0|    -15.0|      0.0|             null|     0.0|           132.0|              127.0|   105.0|   620.0|         null|         null|     null|          null|               null|       null|\n",
            "|2016-01-01 00:00:00|        DL|             1264|   SLC| JFK|        2345|  2341.0|     -4.0|    25.0|       6.0|    602.0|   11.0|         607|   613.0|      6.0|      0.0|             null|     0.0|           262.0|              272.0|   236.0|  1990.0|         null|         null|     null|          null|               null|       null|\n",
            "|2016-01-01 00:00:00|        DL|             1265|   SAV| ATL|        1408|  1403.0|     -5.0|    15.0|    1418.0|   1459.0|    6.0|        1523|  1505.0|    -18.0|      0.0|             null|     0.0|            75.0|               62.0|    41.0|   214.0|         null|         null|     null|          null|               null|       null|\n",
            "|2016-01-01 00:00:00|        DL|             1266|   BUF| ATL|         615|   612.0|     -3.0|    38.0|     650.0|    844.0|    5.0|         843|   849.0|      6.0|      0.0|             null|     0.0|           148.0|              157.0|   114.0|   712.0|         null|         null|     null|          null|               null|       null|\n",
            "|2016-01-01 00:00:00|        DL|             1269|   LGA| MIA|        1100|  1100.0|      0.0|    15.0|    1115.0|   1402.0|    4.0|        1432|  1406.0|    -26.0|      0.0|             null|     0.0|           212.0|              186.0|   167.0|  1096.0|         null|         null|     null|          null|               null|       null|\n",
            "|2016-01-01 00:00:00|        DL|             1270|   ATL| PNS|        1340|  1337.0|     -3.0|    11.0|    1348.0|   1339.0|    3.0|        1352|  1342.0|    -10.0|      0.0|             null|     0.0|            72.0|               65.0|    51.0|   271.0|         null|         null|     null|          null|               null|       null|\n",
            "|2016-01-01 00:00:00|        DL|             1270|   PNS| ATL|        1435|  1431.0|     -4.0|    10.0|    1441.0|   1622.0|    6.0|        1648|  1628.0|    -20.0|      0.0|             null|     0.0|            73.0|               57.0|    41.0|   271.0|         null|         null|     null|          null|               null|       null|\n",
            "+-------------------+----------+-----------------+------+----+------------+--------+---------+--------+----------+---------+-------+------------+--------+---------+---------+-----------------+--------+----------------+-------------------+--------+--------+-------------+-------------+---------+--------------+-------------------+-----------+\n",
            "only showing top 20 rows\n",
            "\n"
          ]
        }
      ],
      "source": [
        "# Perform union\n",
        "pdf = df_1.union(df_2)\n",
        "pdf = pdf.union(df_3)\n",
        "pdf.show()"
      ]
    },
    {
      "cell_type": "markdown",
      "metadata": {
        "id": "gku3PXZH6VOh"
      },
      "source": [
        "# Performing Data Preparation & Data Cleaning"
      ]
    },
    {
      "cell_type": "markdown",
      "metadata": {
        "id": "JdR0zBQ4rvxY"
      },
      "source": [
        "**Getting Dataframe Information**"
      ]
    },
    {
      "cell_type": "code",
      "execution_count": null,
      "metadata": {
        "id": "x_10igWn6VE9",
        "colab": {
          "base_uri": "https://localhost:8080/"
        },
        "outputId": "c9f68747-726b-4e26-ee29-7a9982a2989d"
      },
      "outputs": [
        {
          "output_type": "stream",
          "name": "stdout",
          "text": [
            "CPU times: user 4 µs, sys: 0 ns, total: 4 µs\n",
            "Wall time: 8.11 µs\n"
          ]
        },
        {
          "output_type": "execute_result",
          "data": {
            "text/plain": [
              "FL_DATE                datetime64[ns]\n",
              "OP_CARRIER                     object\n",
              "OP_CARRIER_FL_NUM               int32\n",
              "ORIGIN                         object\n",
              "DEST                           object\n",
              "CRS_DEP_TIME                    int32\n",
              "DEP_TIME                      float64\n",
              "DEP_DELAY                     float64\n",
              "TAXI_OUT                      float64\n",
              "WHEELS_OFF                    float64\n",
              "WHEELS_ON                     float64\n",
              "TAXI_IN                       float64\n",
              "CRS_ARR_TIME                    int32\n",
              "ARR_TIME                      float64\n",
              "ARR_DELAY                     float64\n",
              "CANCELLED                     float64\n",
              "CANCELLATION_CODE              object\n",
              "DIVERTED                      float64\n",
              "CRS_ELAPSED_TIME              float64\n",
              "ACTUAL_ELAPSED_TIME           float64\n",
              "AIR_TIME                      float64\n",
              "DISTANCE                      float64\n",
              "CARRIER_DELAY                 float64\n",
              "WEATHER_DELAY                 float64\n",
              "NAS_DELAY                     float64\n",
              "SECURITY_DELAY                float64\n",
              "LATE_AIRCRAFT_DELAY           float64\n",
              "Unnamed: 27                    object\n",
              "dtype: object"
            ]
          },
          "metadata": {},
          "execution_count": 12
        }
      ],
      "source": [
        "#Koalas df\n",
        "%time\n",
        "kdf.dtypes"
      ]
    },
    {
      "cell_type": "code",
      "execution_count": 10,
      "metadata": {
        "id": "1r6NufEH6m-H",
        "colab": {
          "base_uri": "https://localhost:8080/"
        },
        "outputId": "b805c90d-90c6-4c19-fe4c-b8bf5a50c2f2"
      },
      "outputs": [
        {
          "output_type": "stream",
          "name": "stdout",
          "text": [
            "CPU times: user 4 µs, sys: 0 ns, total: 4 µs\n",
            "Wall time: 8.82 µs\n"
          ]
        },
        {
          "output_type": "execute_result",
          "data": {
            "text/plain": [
              "FL_DATE                date32[day]\n",
              "OP_CARRIER                  string\n",
              "OP_CARRIER_FL_NUM            int64\n",
              "ORIGIN                      string\n",
              "DEST                        string\n",
              "CRS_DEP_TIME                 int64\n",
              "DEP_TIME                   float64\n",
              "DEP_DELAY                  float64\n",
              "TAXI_OUT                   float64\n",
              "WHEELS_OFF                 float64\n",
              "WHEELS_ON                  float64\n",
              "TAXI_IN                    float64\n",
              "CRS_ARR_TIME                 int64\n",
              "ARR_TIME                   float64\n",
              "ARR_DELAY                  float64\n",
              "CANCELLED                  float64\n",
              "CANCELLATION_CODE           string\n",
              "DIVERTED                   float64\n",
              "CRS_ELAPSED_TIME           float64\n",
              "ACTUAL_ELAPSED_TIME        float64\n",
              "AIR_TIME                   float64\n",
              "DISTANCE                   float64\n",
              "CARRIER_DELAY              float64\n",
              "WEATHER_DELAY              float64\n",
              "NAS_DELAY                  float64\n",
              "SECURITY_DELAY             float64\n",
              "LATE_AIRCRAFT_DELAY        float64\n",
              "Unnamed: 27                   int8\n",
              "dtype: object"
            ]
          },
          "metadata": {},
          "execution_count": 10
        }
      ],
      "source": [
        "#Vaex df\n",
        "%time\n",
        "vdf.dtypes"
      ]
    },
    {
      "cell_type": "code",
      "execution_count": null,
      "metadata": {
        "id": "JeJC_aftswDb"
      },
      "outputs": [],
      "source": [
        "#Pyspark df\n",
        "%time\n",
        "pdf.dtypes"
      ]
    },
    {
      "cell_type": "markdown",
      "metadata": {
        "id": "6OonQ8XW3S0C"
      },
      "source": [
        "**Dataframe Shape**"
      ]
    },
    {
      "cell_type": "code",
      "execution_count": null,
      "metadata": {
        "id": "nkyh4OS904qK",
        "colab": {
          "base_uri": "https://localhost:8080/"
        },
        "outputId": "62c6e76d-b3be-403b-98b5-7e523fcceb1c"
      },
      "outputs": [
        {
          "output_type": "stream",
          "name": "stdout",
          "text": [
            "CPU times: user 3 µs, sys: 1 µs, total: 4 µs\n",
            "Wall time: 7.39 µs\n"
          ]
        },
        {
          "output_type": "execute_result",
          "data": {
            "text/plain": [
              "(18505725, 28)"
            ]
          },
          "metadata": {},
          "execution_count": 13
        }
      ],
      "source": [
        "#Koalas\n",
        "%time\n",
        "kdf.shape"
      ]
    },
    {
      "cell_type": "code",
      "execution_count": 11,
      "metadata": {
        "id": "vUkFYpzi1mdr",
        "colab": {
          "base_uri": "https://localhost:8080/"
        },
        "outputId": "728e39a9-bd03-45db-9bcb-bbfb048faf12"
      },
      "outputs": [
        {
          "output_type": "stream",
          "name": "stdout",
          "text": [
            "CPU times: user 3 µs, sys: 0 ns, total: 3 µs\n",
            "Wall time: 7.63 µs\n"
          ]
        },
        {
          "output_type": "execute_result",
          "data": {
            "text/plain": [
              "(18505725, 28)"
            ]
          },
          "metadata": {},
          "execution_count": 11
        }
      ],
      "source": [
        "#Vaex\n",
        "%time\n",
        "vdf.shape"
      ]
    },
    {
      "cell_type": "code",
      "execution_count": null,
      "metadata": {
        "id": "oWsywuht2NEC"
      },
      "outputs": [],
      "source": [
        "#PySpark\n",
        "%time\n",
        "print(\"Number of rows:\", pdf.count())\n",
        "pdf.printSchema()"
      ]
    },
    {
      "cell_type": "markdown",
      "metadata": {
        "id": "pupVaTP6BFvh"
      },
      "source": [
        "**Data Cleaning (Dropping Columns, Null Values, Coverting Datatype)**"
      ]
    },
    {
      "cell_type": "markdown",
      "metadata": {
        "id": "s8w8Eg7Ttf4a"
      },
      "source": [
        "###Koalas"
      ]
    },
    {
      "cell_type": "code",
      "execution_count": null,
      "metadata": {
        "id": "mFNTpcqcFzjL",
        "colab": {
          "base_uri": "https://localhost:8080/",
          "height": 206
        },
        "outputId": "c06519a4-43a1-46ed-8dc0-36c65d5e70e7"
      },
      "outputs": [
        {
          "output_type": "execute_result",
          "data": {
            "text/plain": [
              "     FL_DATE OP_CARRIER  OP_CARRIER_FL_NUM ORIGIN DEST  CRS_DEP_TIME  DEP_TIME  DEP_DELAY  TAXI_OUT  WHEELS_OFF  WHEELS_ON  TAXI_IN  CRS_ARR_TIME  ARR_TIME  ARR_DELAY  CRS_ELAPSED_TIME  ACTUAL_ELAPSED_TIME  AIR_TIME  DISTANCE\n",
              "0 2016-01-01         DL               1248    DTW  LAX          1935    1935.0        0.0      23.0      1958.0     2107.0     13.0          2144    2120.0      -24.0             309.0                285.0     249.0    1979.0\n",
              "1 2016-01-01         DL               1251    ATL  GRR          2125    2130.0        5.0      13.0      2143.0     2315.0      4.0          2321    2319.0       -2.0             116.0                109.0      92.0     640.0\n",
              "2 2016-01-01         DL               1254    LAX  ATL          2255    2256.0        1.0      19.0      2315.0      542.0      5.0           600     547.0      -13.0             245.0                231.0     207.0    1947.0\n",
              "3 2016-01-01         DL               1255    SLC  ATL          1656    1700.0        4.0      12.0      1712.0     2205.0      8.0          2229    2213.0      -16.0             213.0                193.0     173.0    1590.0\n",
              "4 2016-01-01         DL               1256    BZN  MSP           900    1012.0       72.0      63.0      1115.0     1416.0      4.0          1216    1420.0      124.0             136.0                188.0     121.0     874.0"
            ],
            "text/html": [
              "<div>\n",
              "<style scoped>\n",
              "    .dataframe tbody tr th:only-of-type {\n",
              "        vertical-align: middle;\n",
              "    }\n",
              "\n",
              "    .dataframe tbody tr th {\n",
              "        vertical-align: top;\n",
              "    }\n",
              "\n",
              "    .dataframe thead th {\n",
              "        text-align: right;\n",
              "    }\n",
              "</style>\n",
              "<table border=\"1\" class=\"dataframe\">\n",
              "  <thead>\n",
              "    <tr style=\"text-align: right;\">\n",
              "      <th></th>\n",
              "      <th>FL_DATE</th>\n",
              "      <th>OP_CARRIER</th>\n",
              "      <th>OP_CARRIER_FL_NUM</th>\n",
              "      <th>ORIGIN</th>\n",
              "      <th>DEST</th>\n",
              "      <th>CRS_DEP_TIME</th>\n",
              "      <th>DEP_TIME</th>\n",
              "      <th>DEP_DELAY</th>\n",
              "      <th>TAXI_OUT</th>\n",
              "      <th>WHEELS_OFF</th>\n",
              "      <th>WHEELS_ON</th>\n",
              "      <th>TAXI_IN</th>\n",
              "      <th>CRS_ARR_TIME</th>\n",
              "      <th>ARR_TIME</th>\n",
              "      <th>ARR_DELAY</th>\n",
              "      <th>CRS_ELAPSED_TIME</th>\n",
              "      <th>ACTUAL_ELAPSED_TIME</th>\n",
              "      <th>AIR_TIME</th>\n",
              "      <th>DISTANCE</th>\n",
              "    </tr>\n",
              "  </thead>\n",
              "  <tbody>\n",
              "    <tr>\n",
              "      <th>0</th>\n",
              "      <td>2016-01-01</td>\n",
              "      <td>DL</td>\n",
              "      <td>1248</td>\n",
              "      <td>DTW</td>\n",
              "      <td>LAX</td>\n",
              "      <td>1935</td>\n",
              "      <td>1935.0</td>\n",
              "      <td>0.0</td>\n",
              "      <td>23.0</td>\n",
              "      <td>1958.0</td>\n",
              "      <td>2107.0</td>\n",
              "      <td>13.0</td>\n",
              "      <td>2144</td>\n",
              "      <td>2120.0</td>\n",
              "      <td>-24.0</td>\n",
              "      <td>309.0</td>\n",
              "      <td>285.0</td>\n",
              "      <td>249.0</td>\n",
              "      <td>1979.0</td>\n",
              "    </tr>\n",
              "    <tr>\n",
              "      <th>1</th>\n",
              "      <td>2016-01-01</td>\n",
              "      <td>DL</td>\n",
              "      <td>1251</td>\n",
              "      <td>ATL</td>\n",
              "      <td>GRR</td>\n",
              "      <td>2125</td>\n",
              "      <td>2130.0</td>\n",
              "      <td>5.0</td>\n",
              "      <td>13.0</td>\n",
              "      <td>2143.0</td>\n",
              "      <td>2315.0</td>\n",
              "      <td>4.0</td>\n",
              "      <td>2321</td>\n",
              "      <td>2319.0</td>\n",
              "      <td>-2.0</td>\n",
              "      <td>116.0</td>\n",
              "      <td>109.0</td>\n",
              "      <td>92.0</td>\n",
              "      <td>640.0</td>\n",
              "    </tr>\n",
              "    <tr>\n",
              "      <th>2</th>\n",
              "      <td>2016-01-01</td>\n",
              "      <td>DL</td>\n",
              "      <td>1254</td>\n",
              "      <td>LAX</td>\n",
              "      <td>ATL</td>\n",
              "      <td>2255</td>\n",
              "      <td>2256.0</td>\n",
              "      <td>1.0</td>\n",
              "      <td>19.0</td>\n",
              "      <td>2315.0</td>\n",
              "      <td>542.0</td>\n",
              "      <td>5.0</td>\n",
              "      <td>600</td>\n",
              "      <td>547.0</td>\n",
              "      <td>-13.0</td>\n",
              "      <td>245.0</td>\n",
              "      <td>231.0</td>\n",
              "      <td>207.0</td>\n",
              "      <td>1947.0</td>\n",
              "    </tr>\n",
              "    <tr>\n",
              "      <th>3</th>\n",
              "      <td>2016-01-01</td>\n",
              "      <td>DL</td>\n",
              "      <td>1255</td>\n",
              "      <td>SLC</td>\n",
              "      <td>ATL</td>\n",
              "      <td>1656</td>\n",
              "      <td>1700.0</td>\n",
              "      <td>4.0</td>\n",
              "      <td>12.0</td>\n",
              "      <td>1712.0</td>\n",
              "      <td>2205.0</td>\n",
              "      <td>8.0</td>\n",
              "      <td>2229</td>\n",
              "      <td>2213.0</td>\n",
              "      <td>-16.0</td>\n",
              "      <td>213.0</td>\n",
              "      <td>193.0</td>\n",
              "      <td>173.0</td>\n",
              "      <td>1590.0</td>\n",
              "    </tr>\n",
              "    <tr>\n",
              "      <th>4</th>\n",
              "      <td>2016-01-01</td>\n",
              "      <td>DL</td>\n",
              "      <td>1256</td>\n",
              "      <td>BZN</td>\n",
              "      <td>MSP</td>\n",
              "      <td>900</td>\n",
              "      <td>1012.0</td>\n",
              "      <td>72.0</td>\n",
              "      <td>63.0</td>\n",
              "      <td>1115.0</td>\n",
              "      <td>1416.0</td>\n",
              "      <td>4.0</td>\n",
              "      <td>1216</td>\n",
              "      <td>1420.0</td>\n",
              "      <td>124.0</td>\n",
              "      <td>136.0</td>\n",
              "      <td>188.0</td>\n",
              "      <td>121.0</td>\n",
              "      <td>874.0</td>\n",
              "    </tr>\n",
              "  </tbody>\n",
              "</table>\n",
              "</div>"
            ]
          },
          "metadata": {},
          "execution_count": 14
        }
      ],
      "source": [
        "#Koalas (Dropping Unused Column)\n",
        "kdf = kdf.drop(columns=['CANCELLED', 'CANCELLATION_CODE', 'DIVERTED', 'CARRIER_DELAY', 'WEATHER_DELAY', 'NAS_DELAY', 'SECURITY_DELAY', 'LATE_AIRCRAFT_DELAY','Unnamed: 27']).reset_index(drop=True)\n",
        "kdf.head()"
      ]
    },
    {
      "cell_type": "code",
      "execution_count": null,
      "metadata": {
        "id": "-Mwi2JczMfOz"
      },
      "outputs": [],
      "source": [
        "#Koalas (Dropping Rows with Null Values)\n",
        "kdf = kdf.dropna()"
      ]
    },
    {
      "cell_type": "code",
      "execution_count": null,
      "metadata": {
        "id": "wpV6Z3imR8Z9",
        "colab": {
          "base_uri": "https://localhost:8080/",
          "height": 206
        },
        "outputId": "5db70ccb-ca84-4dfd-9000-4ee5832158fe"
      },
      "outputs": [
        {
          "output_type": "execute_result",
          "data": {
            "text/plain": [
              "     FL_DATE OP_CARRIER  OP_CARRIER_FL_NUM ORIGIN DEST  CRS_DEP_TIME  DEP_TIME  DEP_DELAY  TAXI_OUT  WHEELS_OFF  WHEELS_ON  TAXI_IN  CRS_ARR_TIME  ARR_TIME  ARR_DELAY  CRS_ELAPSED_TIME  ACTUAL_ELAPSED_TIME  AIR_TIME  DISTANCE\n",
              "0 2016-01-01         DL               1248    DTW  LAX          1935    1935.0        0.0      23.0      1958.0     2107.0     13.0          2144    2120.0      -24.0             309.0                285.0     249.0    1979.0\n",
              "1 2016-01-01         DL               1251    ATL  GRR          2125    2130.0        5.0      13.0      2143.0     2315.0      4.0          2321    2319.0       -2.0             116.0                109.0      92.0     640.0\n",
              "2 2016-01-01         DL               1254    LAX  ATL          2255    2256.0        1.0      19.0      2315.0      542.0      5.0           600     547.0      -13.0             245.0                231.0     207.0    1947.0\n",
              "3 2016-01-01         DL               1255    SLC  ATL          1656    1700.0        4.0      12.0      1712.0     2205.0      8.0          2229    2213.0      -16.0             213.0                193.0     173.0    1590.0\n",
              "4 2016-01-01         DL               1256    BZN  MSP           900    1012.0       72.0      63.0      1115.0     1416.0      4.0          1216    1420.0      124.0             136.0                188.0     121.0     874.0"
            ],
            "text/html": [
              "<div>\n",
              "<style scoped>\n",
              "    .dataframe tbody tr th:only-of-type {\n",
              "        vertical-align: middle;\n",
              "    }\n",
              "\n",
              "    .dataframe tbody tr th {\n",
              "        vertical-align: top;\n",
              "    }\n",
              "\n",
              "    .dataframe thead th {\n",
              "        text-align: right;\n",
              "    }\n",
              "</style>\n",
              "<table border=\"1\" class=\"dataframe\">\n",
              "  <thead>\n",
              "    <tr style=\"text-align: right;\">\n",
              "      <th></th>\n",
              "      <th>FL_DATE</th>\n",
              "      <th>OP_CARRIER</th>\n",
              "      <th>OP_CARRIER_FL_NUM</th>\n",
              "      <th>ORIGIN</th>\n",
              "      <th>DEST</th>\n",
              "      <th>CRS_DEP_TIME</th>\n",
              "      <th>DEP_TIME</th>\n",
              "      <th>DEP_DELAY</th>\n",
              "      <th>TAXI_OUT</th>\n",
              "      <th>WHEELS_OFF</th>\n",
              "      <th>WHEELS_ON</th>\n",
              "      <th>TAXI_IN</th>\n",
              "      <th>CRS_ARR_TIME</th>\n",
              "      <th>ARR_TIME</th>\n",
              "      <th>ARR_DELAY</th>\n",
              "      <th>CRS_ELAPSED_TIME</th>\n",
              "      <th>ACTUAL_ELAPSED_TIME</th>\n",
              "      <th>AIR_TIME</th>\n",
              "      <th>DISTANCE</th>\n",
              "    </tr>\n",
              "  </thead>\n",
              "  <tbody>\n",
              "    <tr>\n",
              "      <th>0</th>\n",
              "      <td>2016-01-01</td>\n",
              "      <td>DL</td>\n",
              "      <td>1248</td>\n",
              "      <td>DTW</td>\n",
              "      <td>LAX</td>\n",
              "      <td>1935</td>\n",
              "      <td>1935.0</td>\n",
              "      <td>0.0</td>\n",
              "      <td>23.0</td>\n",
              "      <td>1958.0</td>\n",
              "      <td>2107.0</td>\n",
              "      <td>13.0</td>\n",
              "      <td>2144</td>\n",
              "      <td>2120.0</td>\n",
              "      <td>-24.0</td>\n",
              "      <td>309.0</td>\n",
              "      <td>285.0</td>\n",
              "      <td>249.0</td>\n",
              "      <td>1979.0</td>\n",
              "    </tr>\n",
              "    <tr>\n",
              "      <th>1</th>\n",
              "      <td>2016-01-01</td>\n",
              "      <td>DL</td>\n",
              "      <td>1251</td>\n",
              "      <td>ATL</td>\n",
              "      <td>GRR</td>\n",
              "      <td>2125</td>\n",
              "      <td>2130.0</td>\n",
              "      <td>5.0</td>\n",
              "      <td>13.0</td>\n",
              "      <td>2143.0</td>\n",
              "      <td>2315.0</td>\n",
              "      <td>4.0</td>\n",
              "      <td>2321</td>\n",
              "      <td>2319.0</td>\n",
              "      <td>-2.0</td>\n",
              "      <td>116.0</td>\n",
              "      <td>109.0</td>\n",
              "      <td>92.0</td>\n",
              "      <td>640.0</td>\n",
              "    </tr>\n",
              "    <tr>\n",
              "      <th>2</th>\n",
              "      <td>2016-01-01</td>\n",
              "      <td>DL</td>\n",
              "      <td>1254</td>\n",
              "      <td>LAX</td>\n",
              "      <td>ATL</td>\n",
              "      <td>2255</td>\n",
              "      <td>2256.0</td>\n",
              "      <td>1.0</td>\n",
              "      <td>19.0</td>\n",
              "      <td>2315.0</td>\n",
              "      <td>542.0</td>\n",
              "      <td>5.0</td>\n",
              "      <td>600</td>\n",
              "      <td>547.0</td>\n",
              "      <td>-13.0</td>\n",
              "      <td>245.0</td>\n",
              "      <td>231.0</td>\n",
              "      <td>207.0</td>\n",
              "      <td>1947.0</td>\n",
              "    </tr>\n",
              "    <tr>\n",
              "      <th>3</th>\n",
              "      <td>2016-01-01</td>\n",
              "      <td>DL</td>\n",
              "      <td>1255</td>\n",
              "      <td>SLC</td>\n",
              "      <td>ATL</td>\n",
              "      <td>1656</td>\n",
              "      <td>1700.0</td>\n",
              "      <td>4.0</td>\n",
              "      <td>12.0</td>\n",
              "      <td>1712.0</td>\n",
              "      <td>2205.0</td>\n",
              "      <td>8.0</td>\n",
              "      <td>2229</td>\n",
              "      <td>2213.0</td>\n",
              "      <td>-16.0</td>\n",
              "      <td>213.0</td>\n",
              "      <td>193.0</td>\n",
              "      <td>173.0</td>\n",
              "      <td>1590.0</td>\n",
              "    </tr>\n",
              "    <tr>\n",
              "      <th>4</th>\n",
              "      <td>2016-01-01</td>\n",
              "      <td>DL</td>\n",
              "      <td>1256</td>\n",
              "      <td>BZN</td>\n",
              "      <td>MSP</td>\n",
              "      <td>900</td>\n",
              "      <td>1012.0</td>\n",
              "      <td>72.0</td>\n",
              "      <td>63.0</td>\n",
              "      <td>1115.0</td>\n",
              "      <td>1416.0</td>\n",
              "      <td>4.0</td>\n",
              "      <td>1216</td>\n",
              "      <td>1420.0</td>\n",
              "      <td>124.0</td>\n",
              "      <td>136.0</td>\n",
              "      <td>188.0</td>\n",
              "      <td>121.0</td>\n",
              "      <td>874.0</td>\n",
              "    </tr>\n",
              "  </tbody>\n",
              "</table>\n",
              "</div>"
            ]
          },
          "metadata": {},
          "execution_count": 16
        }
      ],
      "source": [
        "#Koalas (Display Dataframe)\n",
        "kdf.head()"
      ]
    },
    {
      "cell_type": "markdown",
      "metadata": {
        "id": "BlJHgssYtmwY"
      },
      "source": [
        "###Vaex"
      ]
    },
    {
      "cell_type": "code",
      "execution_count": 9,
      "metadata": {
        "id": "1WrS1PRRQ0j7",
        "colab": {
          "base_uri": "https://localhost:8080/",
          "height": 254
        },
        "outputId": "cc0ec9ec-29da-4ac4-8d98-3c2b7c31339d"
      },
      "outputs": [
        {
          "output_type": "execute_result",
          "data": {
            "text/html": [
              "<table>\n",
              "<thead>\n",
              "<tr><th>#                            </th><th>FL_DATE   </th><th>OP_CARRIER  </th><th style=\"text-align: right;\">  OP_CARRIER_FL_NUM</th><th>ORIGIN  </th><th>DEST  </th><th style=\"text-align: right;\">  CRS_DEP_TIME</th><th style=\"text-align: right;\">  DEP_TIME</th><th style=\"text-align: right;\">  DEP_DELAY</th><th style=\"text-align: right;\">  TAXI_OUT</th><th style=\"text-align: right;\">  WHEELS_OFF</th><th style=\"text-align: right;\">  WHEELS_ON</th><th style=\"text-align: right;\">  TAXI_IN</th><th style=\"text-align: right;\">  CRS_ARR_TIME</th><th style=\"text-align: right;\">  ARR_TIME</th><th style=\"text-align: right;\">  ARR_DELAY</th><th style=\"text-align: right;\">  CRS_ELAPSED_TIME</th><th style=\"text-align: right;\">  ACTUAL_ELAPSED_TIME</th><th style=\"text-align: right;\">  AIR_TIME</th><th style=\"text-align: right;\">  DISTANCE</th></tr>\n",
              "</thead>\n",
              "<tbody>\n",
              "<tr><td><i style='opacity: 0.6'>0</i></td><td>2016-01-01</td><td>DL          </td><td style=\"text-align: right;\">               1248</td><td>DTW     </td><td>LAX   </td><td style=\"text-align: right;\">          1935</td><td style=\"text-align: right;\">      1935</td><td style=\"text-align: right;\">          0</td><td style=\"text-align: right;\">        23</td><td style=\"text-align: right;\">        1958</td><td style=\"text-align: right;\">       2107</td><td style=\"text-align: right;\">       13</td><td style=\"text-align: right;\">          2144</td><td style=\"text-align: right;\">      2120</td><td style=\"text-align: right;\">        -24</td><td style=\"text-align: right;\">               309</td><td style=\"text-align: right;\">                  285</td><td style=\"text-align: right;\">       249</td><td style=\"text-align: right;\">      1979</td></tr>\n",
              "<tr><td><i style='opacity: 0.6'>1</i></td><td>2016-01-01</td><td>DL          </td><td style=\"text-align: right;\">               1251</td><td>ATL     </td><td>GRR   </td><td style=\"text-align: right;\">          2125</td><td style=\"text-align: right;\">      2130</td><td style=\"text-align: right;\">          5</td><td style=\"text-align: right;\">        13</td><td style=\"text-align: right;\">        2143</td><td style=\"text-align: right;\">       2315</td><td style=\"text-align: right;\">        4</td><td style=\"text-align: right;\">          2321</td><td style=\"text-align: right;\">      2319</td><td style=\"text-align: right;\">         -2</td><td style=\"text-align: right;\">               116</td><td style=\"text-align: right;\">                  109</td><td style=\"text-align: right;\">        92</td><td style=\"text-align: right;\">       640</td></tr>\n",
              "<tr><td><i style='opacity: 0.6'>2</i></td><td>2016-01-01</td><td>DL          </td><td style=\"text-align: right;\">               1254</td><td>LAX     </td><td>ATL   </td><td style=\"text-align: right;\">          2255</td><td style=\"text-align: right;\">      2256</td><td style=\"text-align: right;\">          1</td><td style=\"text-align: right;\">        19</td><td style=\"text-align: right;\">        2315</td><td style=\"text-align: right;\">        542</td><td style=\"text-align: right;\">        5</td><td style=\"text-align: right;\">           600</td><td style=\"text-align: right;\">       547</td><td style=\"text-align: right;\">        -13</td><td style=\"text-align: right;\">               245</td><td style=\"text-align: right;\">                  231</td><td style=\"text-align: right;\">       207</td><td style=\"text-align: right;\">      1947</td></tr>\n",
              "<tr><td><i style='opacity: 0.6'>3</i></td><td>2016-01-01</td><td>DL          </td><td style=\"text-align: right;\">               1255</td><td>SLC     </td><td>ATL   </td><td style=\"text-align: right;\">          1656</td><td style=\"text-align: right;\">      1700</td><td style=\"text-align: right;\">          4</td><td style=\"text-align: right;\">        12</td><td style=\"text-align: right;\">        1712</td><td style=\"text-align: right;\">       2205</td><td style=\"text-align: right;\">        8</td><td style=\"text-align: right;\">          2229</td><td style=\"text-align: right;\">      2213</td><td style=\"text-align: right;\">        -16</td><td style=\"text-align: right;\">               213</td><td style=\"text-align: right;\">                  193</td><td style=\"text-align: right;\">       173</td><td style=\"text-align: right;\">      1590</td></tr>\n",
              "<tr><td><i style='opacity: 0.6'>4</i></td><td>2016-01-01</td><td>DL          </td><td style=\"text-align: right;\">               1256</td><td>BZN     </td><td>MSP   </td><td style=\"text-align: right;\">           900</td><td style=\"text-align: right;\">      1012</td><td style=\"text-align: right;\">         72</td><td style=\"text-align: right;\">        63</td><td style=\"text-align: right;\">        1115</td><td style=\"text-align: right;\">       1416</td><td style=\"text-align: right;\">        4</td><td style=\"text-align: right;\">          1216</td><td style=\"text-align: right;\">      1420</td><td style=\"text-align: right;\">        124</td><td style=\"text-align: right;\">               136</td><td style=\"text-align: right;\">                  188</td><td style=\"text-align: right;\">       121</td><td style=\"text-align: right;\">       874</td></tr>\n",
              "<tr><td><i style='opacity: 0.6'>5</i></td><td>2016-01-01</td><td>DL          </td><td style=\"text-align: right;\">               1257</td><td>ATL     </td><td>BNA   </td><td style=\"text-align: right;\">          1233</td><td style=\"text-align: right;\">      1356</td><td style=\"text-align: right;\">         83</td><td style=\"text-align: right;\">        22</td><td style=\"text-align: right;\">        1418</td><td style=\"text-align: right;\">       1356</td><td style=\"text-align: right;\">        6</td><td style=\"text-align: right;\">          1239</td><td style=\"text-align: right;\">      1402</td><td style=\"text-align: right;\">         83</td><td style=\"text-align: right;\">                66</td><td style=\"text-align: right;\">                   66</td><td style=\"text-align: right;\">        38</td><td style=\"text-align: right;\">       214</td></tr>\n",
              "<tr><td><i style='opacity: 0.6'>6</i></td><td>2016-01-01</td><td>DL          </td><td style=\"text-align: right;\">               1257</td><td>BNA     </td><td>ATL   </td><td style=\"text-align: right;\">          1320</td><td style=\"text-align: right;\">      1446</td><td style=\"text-align: right;\">         86</td><td style=\"text-align: right;\">        15</td><td style=\"text-align: right;\">        1501</td><td style=\"text-align: right;\">       1638</td><td style=\"text-align: right;\">        6</td><td style=\"text-align: right;\">          1530</td><td style=\"text-align: right;\">      1644</td><td style=\"text-align: right;\">         74</td><td style=\"text-align: right;\">                70</td><td style=\"text-align: right;\">                   58</td><td style=\"text-align: right;\">        37</td><td style=\"text-align: right;\">       214</td></tr>\n",
              "<tr><td><i style='opacity: 0.6'>7</i></td><td>2016-01-01</td><td>DL          </td><td style=\"text-align: right;\">               1258</td><td>ATL     </td><td>JAX   </td><td style=\"text-align: right;\">           945</td><td style=\"text-align: right;\">       946</td><td style=\"text-align: right;\">          1</td><td style=\"text-align: right;\">        19</td><td style=\"text-align: right;\">        1005</td><td style=\"text-align: right;\">       1050</td><td style=\"text-align: right;\">        3</td><td style=\"text-align: right;\">          1050</td><td style=\"text-align: right;\">      1053</td><td style=\"text-align: right;\">          3</td><td style=\"text-align: right;\">                65</td><td style=\"text-align: right;\">                   67</td><td style=\"text-align: right;\">        45</td><td style=\"text-align: right;\">       270</td></tr>\n",
              "<tr><td><i style='opacity: 0.6'>8</i></td><td>2016-01-01</td><td>DL          </td><td style=\"text-align: right;\">               1258</td><td>JAX     </td><td>ATL   </td><td style=\"text-align: right;\">          1145</td><td style=\"text-align: right;\">      1144</td><td style=\"text-align: right;\">         -1</td><td style=\"text-align: right;\">        12</td><td style=\"text-align: right;\">        1156</td><td style=\"text-align: right;\">       1239</td><td style=\"text-align: right;\">        8</td><td style=\"text-align: right;\">          1302</td><td style=\"text-align: right;\">      1247</td><td style=\"text-align: right;\">        -15</td><td style=\"text-align: right;\">                77</td><td style=\"text-align: right;\">                   63</td><td style=\"text-align: right;\">        43</td><td style=\"text-align: right;\">       270</td></tr>\n",
              "<tr><td><i style='opacity: 0.6'>9</i></td><td>2016-01-01</td><td>DL          </td><td style=\"text-align: right;\">               1259</td><td>ATL     </td><td>OKC   </td><td style=\"text-align: right;\">          2110</td><td style=\"text-align: right;\">      2107</td><td style=\"text-align: right;\">         -3</td><td style=\"text-align: right;\">        16</td><td style=\"text-align: right;\">        2123</td><td style=\"text-align: right;\">       2219</td><td style=\"text-align: right;\">        5</td><td style=\"text-align: right;\">          2236</td><td style=\"text-align: right;\">      2224</td><td style=\"text-align: right;\">        -12</td><td style=\"text-align: right;\">               146</td><td style=\"text-align: right;\">                  137</td><td style=\"text-align: right;\">       116</td><td style=\"text-align: right;\">       761</td></tr>\n",
              "</tbody>\n",
              "</table>"
            ],
            "text/plain": [
              "  #  FL_DATE     OP_CARRIER      OP_CARRIER_FL_NUM  ORIGIN    DEST      CRS_DEP_TIME    DEP_TIME    DEP_DELAY    TAXI_OUT    WHEELS_OFF    WHEELS_ON    TAXI_IN    CRS_ARR_TIME    ARR_TIME    ARR_DELAY    CRS_ELAPSED_TIME    ACTUAL_ELAPSED_TIME    AIR_TIME    DISTANCE\n",
              "  0  2016-01-01  DL                           1248  DTW       LAX               1935        1935            0          23          1958         2107         13            2144        2120          -24                 309                    285         249        1979\n",
              "  1  2016-01-01  DL                           1251  ATL       GRR               2125        2130            5          13          2143         2315          4            2321        2319           -2                 116                    109          92         640\n",
              "  2  2016-01-01  DL                           1254  LAX       ATL               2255        2256            1          19          2315          542          5             600         547          -13                 245                    231         207        1947\n",
              "  3  2016-01-01  DL                           1255  SLC       ATL               1656        1700            4          12          1712         2205          8            2229        2213          -16                 213                    193         173        1590\n",
              "  4  2016-01-01  DL                           1256  BZN       MSP                900        1012           72          63          1115         1416          4            1216        1420          124                 136                    188         121         874\n",
              "  5  2016-01-01  DL                           1257  ATL       BNA               1233        1356           83          22          1418         1356          6            1239        1402           83                  66                     66          38         214\n",
              "  6  2016-01-01  DL                           1257  BNA       ATL               1320        1446           86          15          1501         1638          6            1530        1644           74                  70                     58          37         214\n",
              "  7  2016-01-01  DL                           1258  ATL       JAX                945         946            1          19          1005         1050          3            1050        1053            3                  65                     67          45         270\n",
              "  8  2016-01-01  DL                           1258  JAX       ATL               1145        1144           -1          12          1156         1239          8            1302        1247          -15                  77                     63          43         270\n",
              "  9  2016-01-01  DL                           1259  ATL       OKC               2110        2107           -3          16          2123         2219          5            2236        2224          -12                 146                    137         116         761"
            ]
          },
          "metadata": {},
          "execution_count": 9
        }
      ],
      "source": [
        "#Vaex (Dropping Unused Column)\n",
        "vdf = vdf.drop(columns=['CANCELLED', 'CANCELLATION_CODE', 'DIVERTED', 'CARRIER_DELAY', 'WEATHER_DELAY', 'NAS_DELAY', 'SECURITY_DELAY', 'LATE_AIRCRAFT_DELAY','Unnamed: 27'])\n",
        "vdf.head()"
      ]
    },
    {
      "cell_type": "code",
      "execution_count": 10,
      "metadata": {
        "id": "4Lvk50ySSHQ9"
      },
      "outputs": [],
      "source": [
        "#Vaex (Converting String to Datetime)\n",
        "\n",
        "vdf['FL_DATE'] = vdf['FL_DATE'].astype('datetime64[ns]')"
      ]
    },
    {
      "cell_type": "code",
      "execution_count": 11,
      "metadata": {
        "id": "UtIcDyDRTepX"
      },
      "outputs": [],
      "source": [
        "#Vaex (Dropping Rows with Null Values)\n",
        "vdf = vdf.dropna()\n"
      ]
    },
    {
      "cell_type": "code",
      "execution_count": 12,
      "metadata": {
        "id": "OS8oCz0YqGwV",
        "colab": {
          "base_uri": "https://localhost:8080/",
          "height": 428
        },
        "outputId": "286dafcf-f078-4b0c-b5f7-9a7e45e421fe"
      },
      "outputs": [
        {
          "output_type": "execute_result",
          "data": {
            "text/html": [
              "<table>\n",
              "<thead>\n",
              "<tr><th>#                            </th><th>FL_DATE            </th><th>OP_CARRIER  </th><th style=\"text-align: right;\">  OP_CARRIER_FL_NUM</th><th>ORIGIN  </th><th>DEST  </th><th style=\"text-align: right;\">  CRS_DEP_TIME</th><th style=\"text-align: right;\">  DEP_TIME</th><th style=\"text-align: right;\">  DEP_DELAY</th><th style=\"text-align: right;\">  TAXI_OUT</th><th style=\"text-align: right;\">  WHEELS_OFF</th><th style=\"text-align: right;\">  WHEELS_ON</th><th style=\"text-align: right;\">  TAXI_IN</th><th style=\"text-align: right;\">  CRS_ARR_TIME</th><th style=\"text-align: right;\">  ARR_TIME</th><th style=\"text-align: right;\">  ARR_DELAY</th><th style=\"text-align: right;\">  CRS_ELAPSED_TIME</th><th style=\"text-align: right;\">  ACTUAL_ELAPSED_TIME</th><th style=\"text-align: right;\">  AIR_TIME</th><th style=\"text-align: right;\">  DISTANCE</th></tr>\n",
              "</thead>\n",
              "<tbody>\n",
              "<tr><td><i style='opacity: 0.6'>0</i></td><td>2016-01-01 00:00:00</td><td>DL          </td><td style=\"text-align: right;\">               1248</td><td>DTW     </td><td>LAX   </td><td style=\"text-align: right;\">          1935</td><td style=\"text-align: right;\">      1935</td><td style=\"text-align: right;\">          0</td><td style=\"text-align: right;\">        23</td><td style=\"text-align: right;\">        1958</td><td style=\"text-align: right;\">       2107</td><td style=\"text-align: right;\">       13</td><td style=\"text-align: right;\">          2144</td><td style=\"text-align: right;\">      2120</td><td style=\"text-align: right;\">        -24</td><td style=\"text-align: right;\">               309</td><td style=\"text-align: right;\">                  285</td><td style=\"text-align: right;\">       249</td><td style=\"text-align: right;\">      1979</td></tr>\n",
              "<tr><td><i style='opacity: 0.6'>1</i></td><td>2016-01-01 00:00:00</td><td>DL          </td><td style=\"text-align: right;\">               1251</td><td>ATL     </td><td>GRR   </td><td style=\"text-align: right;\">          2125</td><td style=\"text-align: right;\">      2130</td><td style=\"text-align: right;\">          5</td><td style=\"text-align: right;\">        13</td><td style=\"text-align: right;\">        2143</td><td style=\"text-align: right;\">       2315</td><td style=\"text-align: right;\">        4</td><td style=\"text-align: right;\">          2321</td><td style=\"text-align: right;\">      2319</td><td style=\"text-align: right;\">         -2</td><td style=\"text-align: right;\">               116</td><td style=\"text-align: right;\">                  109</td><td style=\"text-align: right;\">        92</td><td style=\"text-align: right;\">       640</td></tr>\n",
              "<tr><td><i style='opacity: 0.6'>2</i></td><td>2016-01-01 00:00:00</td><td>DL          </td><td style=\"text-align: right;\">               1254</td><td>LAX     </td><td>ATL   </td><td style=\"text-align: right;\">          2255</td><td style=\"text-align: right;\">      2256</td><td style=\"text-align: right;\">          1</td><td style=\"text-align: right;\">        19</td><td style=\"text-align: right;\">        2315</td><td style=\"text-align: right;\">        542</td><td style=\"text-align: right;\">        5</td><td style=\"text-align: right;\">           600</td><td style=\"text-align: right;\">       547</td><td style=\"text-align: right;\">        -13</td><td style=\"text-align: right;\">               245</td><td style=\"text-align: right;\">                  231</td><td style=\"text-align: right;\">       207</td><td style=\"text-align: right;\">      1947</td></tr>\n",
              "<tr><td><i style='opacity: 0.6'>3</i></td><td>2016-01-01 00:00:00</td><td>DL          </td><td style=\"text-align: right;\">               1255</td><td>SLC     </td><td>ATL   </td><td style=\"text-align: right;\">          1656</td><td style=\"text-align: right;\">      1700</td><td style=\"text-align: right;\">          4</td><td style=\"text-align: right;\">        12</td><td style=\"text-align: right;\">        1712</td><td style=\"text-align: right;\">       2205</td><td style=\"text-align: right;\">        8</td><td style=\"text-align: right;\">          2229</td><td style=\"text-align: right;\">      2213</td><td style=\"text-align: right;\">        -16</td><td style=\"text-align: right;\">               213</td><td style=\"text-align: right;\">                  193</td><td style=\"text-align: right;\">       173</td><td style=\"text-align: right;\">      1590</td></tr>\n",
              "<tr><td><i style='opacity: 0.6'>4</i></td><td>2016-01-01 00:00:00</td><td>DL          </td><td style=\"text-align: right;\">               1256</td><td>BZN     </td><td>MSP   </td><td style=\"text-align: right;\">           900</td><td style=\"text-align: right;\">      1012</td><td style=\"text-align: right;\">         72</td><td style=\"text-align: right;\">        63</td><td style=\"text-align: right;\">        1115</td><td style=\"text-align: right;\">       1416</td><td style=\"text-align: right;\">        4</td><td style=\"text-align: right;\">          1216</td><td style=\"text-align: right;\">      1420</td><td style=\"text-align: right;\">        124</td><td style=\"text-align: right;\">               136</td><td style=\"text-align: right;\">                  188</td><td style=\"text-align: right;\">       121</td><td style=\"text-align: right;\">       874</td></tr>\n",
              "<tr><td><i style='opacity: 0.6'>5</i></td><td>2016-01-01 00:00:00</td><td>DL          </td><td style=\"text-align: right;\">               1257</td><td>ATL     </td><td>BNA   </td><td style=\"text-align: right;\">          1233</td><td style=\"text-align: right;\">      1356</td><td style=\"text-align: right;\">         83</td><td style=\"text-align: right;\">        22</td><td style=\"text-align: right;\">        1418</td><td style=\"text-align: right;\">       1356</td><td style=\"text-align: right;\">        6</td><td style=\"text-align: right;\">          1239</td><td style=\"text-align: right;\">      1402</td><td style=\"text-align: right;\">         83</td><td style=\"text-align: right;\">                66</td><td style=\"text-align: right;\">                   66</td><td style=\"text-align: right;\">        38</td><td style=\"text-align: right;\">       214</td></tr>\n",
              "<tr><td><i style='opacity: 0.6'>6</i></td><td>2016-01-01 00:00:00</td><td>DL          </td><td style=\"text-align: right;\">               1257</td><td>BNA     </td><td>ATL   </td><td style=\"text-align: right;\">          1320</td><td style=\"text-align: right;\">      1446</td><td style=\"text-align: right;\">         86</td><td style=\"text-align: right;\">        15</td><td style=\"text-align: right;\">        1501</td><td style=\"text-align: right;\">       1638</td><td style=\"text-align: right;\">        6</td><td style=\"text-align: right;\">          1530</td><td style=\"text-align: right;\">      1644</td><td style=\"text-align: right;\">         74</td><td style=\"text-align: right;\">                70</td><td style=\"text-align: right;\">                   58</td><td style=\"text-align: right;\">        37</td><td style=\"text-align: right;\">       214</td></tr>\n",
              "<tr><td><i style='opacity: 0.6'>7</i></td><td>2016-01-01 00:00:00</td><td>DL          </td><td style=\"text-align: right;\">               1258</td><td>ATL     </td><td>JAX   </td><td style=\"text-align: right;\">           945</td><td style=\"text-align: right;\">       946</td><td style=\"text-align: right;\">          1</td><td style=\"text-align: right;\">        19</td><td style=\"text-align: right;\">        1005</td><td style=\"text-align: right;\">       1050</td><td style=\"text-align: right;\">        3</td><td style=\"text-align: right;\">          1050</td><td style=\"text-align: right;\">      1053</td><td style=\"text-align: right;\">          3</td><td style=\"text-align: right;\">                65</td><td style=\"text-align: right;\">                   67</td><td style=\"text-align: right;\">        45</td><td style=\"text-align: right;\">       270</td></tr>\n",
              "<tr><td><i style='opacity: 0.6'>8</i></td><td>2016-01-01 00:00:00</td><td>DL          </td><td style=\"text-align: right;\">               1258</td><td>JAX     </td><td>ATL   </td><td style=\"text-align: right;\">          1145</td><td style=\"text-align: right;\">      1144</td><td style=\"text-align: right;\">         -1</td><td style=\"text-align: right;\">        12</td><td style=\"text-align: right;\">        1156</td><td style=\"text-align: right;\">       1239</td><td style=\"text-align: right;\">        8</td><td style=\"text-align: right;\">          1302</td><td style=\"text-align: right;\">      1247</td><td style=\"text-align: right;\">        -15</td><td style=\"text-align: right;\">                77</td><td style=\"text-align: right;\">                   63</td><td style=\"text-align: right;\">        43</td><td style=\"text-align: right;\">       270</td></tr>\n",
              "<tr><td><i style='opacity: 0.6'>9</i></td><td>2016-01-01 00:00:00</td><td>DL          </td><td style=\"text-align: right;\">               1259</td><td>ATL     </td><td>OKC   </td><td style=\"text-align: right;\">          2110</td><td style=\"text-align: right;\">      2107</td><td style=\"text-align: right;\">         -3</td><td style=\"text-align: right;\">        16</td><td style=\"text-align: right;\">        2123</td><td style=\"text-align: right;\">       2219</td><td style=\"text-align: right;\">        5</td><td style=\"text-align: right;\">          2236</td><td style=\"text-align: right;\">      2224</td><td style=\"text-align: right;\">        -12</td><td style=\"text-align: right;\">               146</td><td style=\"text-align: right;\">                  137</td><td style=\"text-align: right;\">       116</td><td style=\"text-align: right;\">       761</td></tr>\n",
              "</tbody>\n",
              "</table>"
            ],
            "text/plain": [
              "  #  FL_DATE              OP_CARRIER      OP_CARRIER_FL_NUM  ORIGIN    DEST      CRS_DEP_TIME    DEP_TIME    DEP_DELAY    TAXI_OUT    WHEELS_OFF    WHEELS_ON    TAXI_IN    CRS_ARR_TIME    ARR_TIME    ARR_DELAY    CRS_ELAPSED_TIME    ACTUAL_ELAPSED_TIME    AIR_TIME    DISTANCE\n",
              "  0  2016-01-01 00:00:00  DL                           1248  DTW       LAX               1935        1935            0          23          1958         2107         13            2144        2120          -24                 309                    285         249        1979\n",
              "  1  2016-01-01 00:00:00  DL                           1251  ATL       GRR               2125        2130            5          13          2143         2315          4            2321        2319           -2                 116                    109          92         640\n",
              "  2  2016-01-01 00:00:00  DL                           1254  LAX       ATL               2255        2256            1          19          2315          542          5             600         547          -13                 245                    231         207        1947\n",
              "  3  2016-01-01 00:00:00  DL                           1255  SLC       ATL               1656        1700            4          12          1712         2205          8            2229        2213          -16                 213                    193         173        1590\n",
              "  4  2016-01-01 00:00:00  DL                           1256  BZN       MSP                900        1012           72          63          1115         1416          4            1216        1420          124                 136                    188         121         874\n",
              "  5  2016-01-01 00:00:00  DL                           1257  ATL       BNA               1233        1356           83          22          1418         1356          6            1239        1402           83                  66                     66          38         214\n",
              "  6  2016-01-01 00:00:00  DL                           1257  BNA       ATL               1320        1446           86          15          1501         1638          6            1530        1644           74                  70                     58          37         214\n",
              "  7  2016-01-01 00:00:00  DL                           1258  ATL       JAX                945         946            1          19          1005         1050          3            1050        1053            3                  65                     67          45         270\n",
              "  8  2016-01-01 00:00:00  DL                           1258  JAX       ATL               1145        1144           -1          12          1156         1239          8            1302        1247          -15                  77                     63          43         270\n",
              "  9  2016-01-01 00:00:00  DL                           1259  ATL       OKC               2110        2107           -3          16          2123         2219          5            2236        2224          -12                 146                    137         116         761"
            ]
          },
          "metadata": {},
          "execution_count": 12
        }
      ],
      "source": [
        "#Vaex (Display Dataframe)\n",
        "vdf.head()"
      ]
    },
    {
      "cell_type": "code",
      "execution_count": 13,
      "metadata": {
        "id": "saVbDK8msRlt",
        "colab": {
          "base_uri": "https://localhost:8080/"
        },
        "outputId": "386ea361-bd76-4450-df60-9b0c4e80bd24"
      },
      "outputs": [
        {
          "output_type": "execute_result",
          "data": {
            "text/plain": [
              "FL_DATE                datetime64[ns]\n",
              "OP_CARRIER                     string\n",
              "OP_CARRIER_FL_NUM               int64\n",
              "ORIGIN                         string\n",
              "DEST                           string\n",
              "CRS_DEP_TIME                    int64\n",
              "DEP_TIME                      float64\n",
              "DEP_DELAY                     float64\n",
              "TAXI_OUT                      float64\n",
              "WHEELS_OFF                    float64\n",
              "WHEELS_ON                     float64\n",
              "TAXI_IN                       float64\n",
              "CRS_ARR_TIME                    int64\n",
              "ARR_TIME                      float64\n",
              "ARR_DELAY                     float64\n",
              "CRS_ELAPSED_TIME              float64\n",
              "ACTUAL_ELAPSED_TIME           float64\n",
              "AIR_TIME                      float64\n",
              "DISTANCE                      float64\n",
              "dtype: object"
            ]
          },
          "metadata": {},
          "execution_count": 13
        }
      ],
      "source": [
        "#Vaex (List columns datatypes)\n",
        "vdf.dtypes"
      ]
    },
    {
      "cell_type": "markdown",
      "metadata": {
        "id": "H9RQXh_Kt1lh"
      },
      "source": [
        "###Pyspark"
      ]
    },
    {
      "cell_type": "code",
      "execution_count": 24,
      "metadata": {
        "id": "3nwFU7pIX6FP"
      },
      "outputs": [],
      "source": [
        "#Pyspark (Dropping Unused Column)\n",
        "pdf = pdf.drop('CANCELLED', 'CANCELLATION_CODE', 'DIVERTED', 'CARRIER_DELAY', 'WEATHER_DELAY', 'NAS_DELAY', 'SECURITY_DELAY', 'LATE_AIRCRAFT_DELAY','Unnamed: 27')"
      ]
    },
    {
      "cell_type": "code",
      "execution_count": 25,
      "metadata": {
        "id": "mMTW0cL4ZEQM"
      },
      "outputs": [],
      "source": [
        "#Pyspark (Dropping Rows with Null Values)\n",
        "pdf = pdf.na.drop()\n"
      ]
    },
    {
      "cell_type": "code",
      "execution_count": 26,
      "metadata": {
        "id": "bmpYa0OTjggZ"
      },
      "outputs": [],
      "source": [
        "#Pyspark (Converting String to Datetime)\n",
        "from pyspark.sql.functions import *\n",
        "pdf = pdf.withColumn(\"FL_DATE\",to_date(\"FL_DATE\"))"
      ]
    },
    {
      "cell_type": "code",
      "execution_count": 27,
      "metadata": {
        "id": "UlyRYo4if8xt",
        "colab": {
          "base_uri": "https://localhost:8080/"
        },
        "outputId": "6e06583d-37bf-4b0b-c81e-0e9957b213ea"
      },
      "outputs": [
        {
          "output_type": "execute_result",
          "data": {
            "text/plain": [
              "[('FL_DATE', 'date'),\n",
              " ('OP_CARRIER', 'string'),\n",
              " ('OP_CARRIER_FL_NUM', 'int'),\n",
              " ('ORIGIN', 'string'),\n",
              " ('DEST', 'string'),\n",
              " ('CRS_DEP_TIME', 'int'),\n",
              " ('DEP_TIME', 'double'),\n",
              " ('DEP_DELAY', 'double'),\n",
              " ('TAXI_OUT', 'double'),\n",
              " ('WHEELS_OFF', 'double'),\n",
              " ('WHEELS_ON', 'double'),\n",
              " ('TAXI_IN', 'double'),\n",
              " ('CRS_ARR_TIME', 'int'),\n",
              " ('ARR_TIME', 'double'),\n",
              " ('ARR_DELAY', 'double'),\n",
              " ('CRS_ELAPSED_TIME', 'double'),\n",
              " ('ACTUAL_ELAPSED_TIME', 'double'),\n",
              " ('AIR_TIME', 'double'),\n",
              " ('DISTANCE', 'double')]"
            ]
          },
          "metadata": {},
          "execution_count": 27
        }
      ],
      "source": [
        "#Pyspark (List columns datatypes)\n",
        "pdf.dtypes"
      ]
    },
    {
      "cell_type": "code",
      "execution_count": 28,
      "metadata": {
        "id": "ICKPtRMBnZ0_",
        "colab": {
          "base_uri": "https://localhost:8080/"
        },
        "outputId": "6434722d-8fe5-468d-f845-5c556eccd092"
      },
      "outputs": [
        {
          "output_type": "stream",
          "name": "stdout",
          "text": [
            "+----------+----------+-----------------+------+----+------------+--------+---------+--------+----------+---------+-------+------------+--------+---------+----------------+-------------------+--------+--------+\n",
            "|   FL_DATE|OP_CARRIER|OP_CARRIER_FL_NUM|ORIGIN|DEST|CRS_DEP_TIME|DEP_TIME|DEP_DELAY|TAXI_OUT|WHEELS_OFF|WHEELS_ON|TAXI_IN|CRS_ARR_TIME|ARR_TIME|ARR_DELAY|CRS_ELAPSED_TIME|ACTUAL_ELAPSED_TIME|AIR_TIME|DISTANCE|\n",
            "+----------+----------+-----------------+------+----+------------+--------+---------+--------+----------+---------+-------+------------+--------+---------+----------------+-------------------+--------+--------+\n",
            "|2016-01-01|        DL|             1248|   DTW| LAX|        1935|  1935.0|      0.0|    23.0|    1958.0|   2107.0|   13.0|        2144|  2120.0|    -24.0|           309.0|              285.0|   249.0|  1979.0|\n",
            "|2016-01-01|        DL|             1251|   ATL| GRR|        2125|  2130.0|      5.0|    13.0|    2143.0|   2315.0|    4.0|        2321|  2319.0|     -2.0|           116.0|              109.0|    92.0|   640.0|\n",
            "|2016-01-01|        DL|             1254|   LAX| ATL|        2255|  2256.0|      1.0|    19.0|    2315.0|    542.0|    5.0|         600|   547.0|    -13.0|           245.0|              231.0|   207.0|  1947.0|\n",
            "|2016-01-01|        DL|             1255|   SLC| ATL|        1656|  1700.0|      4.0|    12.0|    1712.0|   2205.0|    8.0|        2229|  2213.0|    -16.0|           213.0|              193.0|   173.0|  1590.0|\n",
            "|2016-01-01|        DL|             1256|   BZN| MSP|         900|  1012.0|     72.0|    63.0|    1115.0|   1416.0|    4.0|        1216|  1420.0|    124.0|           136.0|              188.0|   121.0|   874.0|\n",
            "|2016-01-01|        DL|             1257|   ATL| BNA|        1233|  1356.0|     83.0|    22.0|    1418.0|   1356.0|    6.0|        1239|  1402.0|     83.0|            66.0|               66.0|    38.0|   214.0|\n",
            "|2016-01-01|        DL|             1257|   BNA| ATL|        1320|  1446.0|     86.0|    15.0|    1501.0|   1638.0|    6.0|        1530|  1644.0|     74.0|            70.0|               58.0|    37.0|   214.0|\n",
            "|2016-01-01|        DL|             1258|   ATL| JAX|         945|   946.0|      1.0|    19.0|    1005.0|   1050.0|    3.0|        1050|  1053.0|      3.0|            65.0|               67.0|    45.0|   270.0|\n",
            "|2016-01-01|        DL|             1258|   JAX| ATL|        1145|  1144.0|     -1.0|    12.0|    1156.0|   1239.0|    8.0|        1302|  1247.0|    -15.0|            77.0|               63.0|    43.0|   270.0|\n",
            "|2016-01-01|        DL|             1259|   ATL| OKC|        2110|  2107.0|     -3.0|    16.0|    2123.0|   2219.0|    5.0|        2236|  2224.0|    -12.0|           146.0|              137.0|   116.0|   761.0|\n",
            "|2016-01-01|        DL|             1260|   MSP| SMF|        1115|  1113.0|     -2.0|    12.0|    1125.0|   1232.0|    4.0|        1309|  1236.0|    -33.0|           234.0|              203.0|   187.0|  1517.0|\n",
            "|2016-01-01|        DL|             1262|   LAX| JFK|        2255|  2248.0|     -7.0|    23.0|    2311.0|    650.0|   11.0|         715|   701.0|    -14.0|           320.0|              313.0|   279.0|  2475.0|\n",
            "|2016-01-01|        DL|             1263|   ATL| MDT|        1510|  1509.0|     -1.0|    17.0|    1526.0|   1646.0|    5.0|        1702|  1651.0|    -11.0|           112.0|              102.0|    80.0|   620.0|\n",
            "|2016-01-01|        DL|             1263|   MDT| ATL|        1737|  1727.0|    -10.0|    11.0|    1738.0|   1923.0|   11.0|        1949|  1934.0|    -15.0|           132.0|              127.0|   105.0|   620.0|\n",
            "|2016-01-01|        DL|             1264|   SLC| JFK|        2345|  2341.0|     -4.0|    25.0|       6.0|    602.0|   11.0|         607|   613.0|      6.0|           262.0|              272.0|   236.0|  1990.0|\n",
            "|2016-01-01|        DL|             1265|   SAV| ATL|        1408|  1403.0|     -5.0|    15.0|    1418.0|   1459.0|    6.0|        1523|  1505.0|    -18.0|            75.0|               62.0|    41.0|   214.0|\n",
            "|2016-01-01|        DL|             1266|   BUF| ATL|         615|   612.0|     -3.0|    38.0|     650.0|    844.0|    5.0|         843|   849.0|      6.0|           148.0|              157.0|   114.0|   712.0|\n",
            "|2016-01-01|        DL|             1269|   LGA| MIA|        1100|  1100.0|      0.0|    15.0|    1115.0|   1402.0|    4.0|        1432|  1406.0|    -26.0|           212.0|              186.0|   167.0|  1096.0|\n",
            "|2016-01-01|        DL|             1270|   ATL| PNS|        1340|  1337.0|     -3.0|    11.0|    1348.0|   1339.0|    3.0|        1352|  1342.0|    -10.0|            72.0|               65.0|    51.0|   271.0|\n",
            "|2016-01-01|        DL|             1270|   PNS| ATL|        1435|  1431.0|     -4.0|    10.0|    1441.0|   1622.0|    6.0|        1648|  1628.0|    -20.0|            73.0|               57.0|    41.0|   271.0|\n",
            "+----------+----------+-----------------+------+----+------------+--------+---------+--------+----------+---------+-------+------------+--------+---------+----------------+-------------------+--------+--------+\n",
            "only showing top 20 rows\n",
            "\n"
          ]
        }
      ],
      "source": [
        "#Pyspark (Display Dataframe)\n",
        "pdf.show()"
      ]
    },
    {
      "cell_type": "markdown",
      "source": [
        "##Exploratory Analysis and Visualization\n",
        "\n",
        "Throughout this section, we will be providing the overall analysis while visualizing certain aspects of the dataset in the form of bar chart, pie chart and scatter plot."
      ],
      "metadata": {
        "id": "y-foGhOf4sxh"
      }
    },
    {
      "cell_type": "markdown",
      "source": [
        "**Total Distance Traveled by Flight**"
      ],
      "metadata": {
        "id": "vNIFKXnLe6Cw"
      }
    },
    {
      "cell_type": "markdown",
      "source": [
        "Using Koalas"
      ],
      "metadata": {
        "id": "oMZ_fMyyffrH"
      }
    },
    {
      "cell_type": "code",
      "source": [
        "%%time\n",
        "\n",
        "import plotly.graph_objects as go\n",
        "\n",
        "flights_distance = kdf.groupby('OP_CARRIER').sum()['DISTANCE']\n",
        "\n",
        "fig = flights_distance.plot.bar()\n",
        "\n",
        "fig.update_layout(title_text='Total Distance Traveled (km)',xaxis_title='Flight Name', yaxis_title='Total Distance')\n"
      ],
      "metadata": {
        "colab": {
          "base_uri": "https://localhost:8080/",
          "height": 577
        },
        "id": "ePeTSlz296_v",
        "outputId": "dad5bae8-7b83-4361-8b51-3e19957b3220"
      },
      "execution_count": 40,
      "outputs": [
        {
          "output_type": "stream",
          "name": "stdout",
          "text": [
            "CPU times: user 1.19 s, sys: 136 ms, total: 1.32 s\n",
            "Wall time: 2min 45s\n"
          ]
        },
        {
          "output_type": "display_data",
          "data": {
            "text/html": [
              "<html>\n",
              "<head><meta charset=\"utf-8\" /></head>\n",
              "<body>\n",
              "    <div>            <script src=\"https://cdnjs.cloudflare.com/ajax/libs/mathjax/2.7.5/MathJax.js?config=TeX-AMS-MML_SVG\"></script><script type=\"text/javascript\">if (window.MathJax) {MathJax.Hub.Config({SVG: {font: \"STIX-Web\"}});}</script>                <script type=\"text/javascript\">window.PlotlyConfig = {MathJaxConfig: 'local'};</script>\n",
              "        <script src=\"https://cdn.plot.ly/plotly-2.8.3.min.js\"></script>                <div id=\"d24f258b-34db-4cee-8c4c-e59aa15ac3a3\" class=\"plotly-graph-div\" style=\"height:525px; width:100%;\"></div>            <script type=\"text/javascript\">                                    window.PLOTLYENV=window.PLOTLYENV || {};                                    if (document.getElementById(\"d24f258b-34db-4cee-8c4c-e59aa15ac3a3\")) {                    Plotly.newPlot(                        \"d24f258b-34db-4cee-8c4c-e59aa15ac3a3\",                        [{\"alignmentgroup\":\"True\",\"hovertemplate\":\"variable=DISTANCE<br>OP_CARRIER=%{x}<br>value=%{y}<extra></extra>\",\"legendgroup\":\"DISTANCE\",\"marker\":{\"color\":\"#636efa\",\"pattern\":{\"shape\":\"\"}},\"name\":\"DISTANCE\",\"offsetgroup\":\"DISTANCE\",\"orientation\":\"v\",\"showlegend\":true,\"textposition\":\"auto\",\"x\":[\"UA\",\"NK\",\"AA\",\"EV\",\"B6\",\"DL\",\"OO\",\"F9\",\"HA\",\"AS\",\"VX\",\"WN\",\"YV\",\"MQ\",\"OH\",\"G4\",\"YX\",\"9E\"],\"xaxis\":\"x\",\"y\":[2071433807.0,464398343.0,2738098191.0,454743272.0,918318466.0,2413025415.0,989108066.0,330490333.0,154513450.0,762406515.0,226933443.0,2935639753.0,115638276.0,123271752.0,102108055.0,84158332.0,181827856.0,110143213.0],\"yaxis\":\"y\",\"type\":\"bar\"}],                        {\"template\":{\"data\":{\"bar\":[{\"error_x\":{\"color\":\"#2a3f5f\"},\"error_y\":{\"color\":\"#2a3f5f\"},\"marker\":{\"line\":{\"color\":\"#E5ECF6\",\"width\":0.5},\"pattern\":{\"fillmode\":\"overlay\",\"size\":10,\"solidity\":0.2}},\"type\":\"bar\"}],\"barpolar\":[{\"marker\":{\"line\":{\"color\":\"#E5ECF6\",\"width\":0.5},\"pattern\":{\"fillmode\":\"overlay\",\"size\":10,\"solidity\":0.2}},\"type\":\"barpolar\"}],\"carpet\":[{\"aaxis\":{\"endlinecolor\":\"#2a3f5f\",\"gridcolor\":\"white\",\"linecolor\":\"white\",\"minorgridcolor\":\"white\",\"startlinecolor\":\"#2a3f5f\"},\"baxis\":{\"endlinecolor\":\"#2a3f5f\",\"gridcolor\":\"white\",\"linecolor\":\"white\",\"minorgridcolor\":\"white\",\"startlinecolor\":\"#2a3f5f\"},\"type\":\"carpet\"}],\"choropleth\":[{\"colorbar\":{\"outlinewidth\":0,\"ticks\":\"\"},\"type\":\"choropleth\"}],\"contour\":[{\"colorbar\":{\"outlinewidth\":0,\"ticks\":\"\"},\"colorscale\":[[0.0,\"#0d0887\"],[0.1111111111111111,\"#46039f\"],[0.2222222222222222,\"#7201a8\"],[0.3333333333333333,\"#9c179e\"],[0.4444444444444444,\"#bd3786\"],[0.5555555555555556,\"#d8576b\"],[0.6666666666666666,\"#ed7953\"],[0.7777777777777778,\"#fb9f3a\"],[0.8888888888888888,\"#fdca26\"],[1.0,\"#f0f921\"]],\"type\":\"contour\"}],\"contourcarpet\":[{\"colorbar\":{\"outlinewidth\":0,\"ticks\":\"\"},\"type\":\"contourcarpet\"}],\"heatmap\":[{\"colorbar\":{\"outlinewidth\":0,\"ticks\":\"\"},\"colorscale\":[[0.0,\"#0d0887\"],[0.1111111111111111,\"#46039f\"],[0.2222222222222222,\"#7201a8\"],[0.3333333333333333,\"#9c179e\"],[0.4444444444444444,\"#bd3786\"],[0.5555555555555556,\"#d8576b\"],[0.6666666666666666,\"#ed7953\"],[0.7777777777777778,\"#fb9f3a\"],[0.8888888888888888,\"#fdca26\"],[1.0,\"#f0f921\"]],\"type\":\"heatmap\"}],\"heatmapgl\":[{\"colorbar\":{\"outlinewidth\":0,\"ticks\":\"\"},\"colorscale\":[[0.0,\"#0d0887\"],[0.1111111111111111,\"#46039f\"],[0.2222222222222222,\"#7201a8\"],[0.3333333333333333,\"#9c179e\"],[0.4444444444444444,\"#bd3786\"],[0.5555555555555556,\"#d8576b\"],[0.6666666666666666,\"#ed7953\"],[0.7777777777777778,\"#fb9f3a\"],[0.8888888888888888,\"#fdca26\"],[1.0,\"#f0f921\"]],\"type\":\"heatmapgl\"}],\"histogram\":[{\"marker\":{\"pattern\":{\"fillmode\":\"overlay\",\"size\":10,\"solidity\":0.2}},\"type\":\"histogram\"}],\"histogram2d\":[{\"colorbar\":{\"outlinewidth\":0,\"ticks\":\"\"},\"colorscale\":[[0.0,\"#0d0887\"],[0.1111111111111111,\"#46039f\"],[0.2222222222222222,\"#7201a8\"],[0.3333333333333333,\"#9c179e\"],[0.4444444444444444,\"#bd3786\"],[0.5555555555555556,\"#d8576b\"],[0.6666666666666666,\"#ed7953\"],[0.7777777777777778,\"#fb9f3a\"],[0.8888888888888888,\"#fdca26\"],[1.0,\"#f0f921\"]],\"type\":\"histogram2d\"}],\"histogram2dcontour\":[{\"colorbar\":{\"outlinewidth\":0,\"ticks\":\"\"},\"colorscale\":[[0.0,\"#0d0887\"],[0.1111111111111111,\"#46039f\"],[0.2222222222222222,\"#7201a8\"],[0.3333333333333333,\"#9c179e\"],[0.4444444444444444,\"#bd3786\"],[0.5555555555555556,\"#d8576b\"],[0.6666666666666666,\"#ed7953\"],[0.7777777777777778,\"#fb9f3a\"],[0.8888888888888888,\"#fdca26\"],[1.0,\"#f0f921\"]],\"type\":\"histogram2dcontour\"}],\"mesh3d\":[{\"colorbar\":{\"outlinewidth\":0,\"ticks\":\"\"},\"type\":\"mesh3d\"}],\"parcoords\":[{\"line\":{\"colorbar\":{\"outlinewidth\":0,\"ticks\":\"\"}},\"type\":\"parcoords\"}],\"pie\":[{\"automargin\":true,\"type\":\"pie\"}],\"scatter\":[{\"marker\":{\"colorbar\":{\"outlinewidth\":0,\"ticks\":\"\"}},\"type\":\"scatter\"}],\"scatter3d\":[{\"line\":{\"colorbar\":{\"outlinewidth\":0,\"ticks\":\"\"}},\"marker\":{\"colorbar\":{\"outlinewidth\":0,\"ticks\":\"\"}},\"type\":\"scatter3d\"}],\"scattercarpet\":[{\"marker\":{\"colorbar\":{\"outlinewidth\":0,\"ticks\":\"\"}},\"type\":\"scattercarpet\"}],\"scattergeo\":[{\"marker\":{\"colorbar\":{\"outlinewidth\":0,\"ticks\":\"\"}},\"type\":\"scattergeo\"}],\"scattergl\":[{\"marker\":{\"colorbar\":{\"outlinewidth\":0,\"ticks\":\"\"}},\"type\":\"scattergl\"}],\"scattermapbox\":[{\"marker\":{\"colorbar\":{\"outlinewidth\":0,\"ticks\":\"\"}},\"type\":\"scattermapbox\"}],\"scatterpolar\":[{\"marker\":{\"colorbar\":{\"outlinewidth\":0,\"ticks\":\"\"}},\"type\":\"scatterpolar\"}],\"scatterpolargl\":[{\"marker\":{\"colorbar\":{\"outlinewidth\":0,\"ticks\":\"\"}},\"type\":\"scatterpolargl\"}],\"scatterternary\":[{\"marker\":{\"colorbar\":{\"outlinewidth\":0,\"ticks\":\"\"}},\"type\":\"scatterternary\"}],\"surface\":[{\"colorbar\":{\"outlinewidth\":0,\"ticks\":\"\"},\"colorscale\":[[0.0,\"#0d0887\"],[0.1111111111111111,\"#46039f\"],[0.2222222222222222,\"#7201a8\"],[0.3333333333333333,\"#9c179e\"],[0.4444444444444444,\"#bd3786\"],[0.5555555555555556,\"#d8576b\"],[0.6666666666666666,\"#ed7953\"],[0.7777777777777778,\"#fb9f3a\"],[0.8888888888888888,\"#fdca26\"],[1.0,\"#f0f921\"]],\"type\":\"surface\"}],\"table\":[{\"cells\":{\"fill\":{\"color\":\"#EBF0F8\"},\"line\":{\"color\":\"white\"}},\"header\":{\"fill\":{\"color\":\"#C8D4E3\"},\"line\":{\"color\":\"white\"}},\"type\":\"table\"}]},\"layout\":{\"annotationdefaults\":{\"arrowcolor\":\"#2a3f5f\",\"arrowhead\":0,\"arrowwidth\":1},\"autotypenumbers\":\"strict\",\"coloraxis\":{\"colorbar\":{\"outlinewidth\":0,\"ticks\":\"\"}},\"colorscale\":{\"diverging\":[[0,\"#8e0152\"],[0.1,\"#c51b7d\"],[0.2,\"#de77ae\"],[0.3,\"#f1b6da\"],[0.4,\"#fde0ef\"],[0.5,\"#f7f7f7\"],[0.6,\"#e6f5d0\"],[0.7,\"#b8e186\"],[0.8,\"#7fbc41\"],[0.9,\"#4d9221\"],[1,\"#276419\"]],\"sequential\":[[0.0,\"#0d0887\"],[0.1111111111111111,\"#46039f\"],[0.2222222222222222,\"#7201a8\"],[0.3333333333333333,\"#9c179e\"],[0.4444444444444444,\"#bd3786\"],[0.5555555555555556,\"#d8576b\"],[0.6666666666666666,\"#ed7953\"],[0.7777777777777778,\"#fb9f3a\"],[0.8888888888888888,\"#fdca26\"],[1.0,\"#f0f921\"]],\"sequentialminus\":[[0.0,\"#0d0887\"],[0.1111111111111111,\"#46039f\"],[0.2222222222222222,\"#7201a8\"],[0.3333333333333333,\"#9c179e\"],[0.4444444444444444,\"#bd3786\"],[0.5555555555555556,\"#d8576b\"],[0.6666666666666666,\"#ed7953\"],[0.7777777777777778,\"#fb9f3a\"],[0.8888888888888888,\"#fdca26\"],[1.0,\"#f0f921\"]]},\"colorway\":[\"#636efa\",\"#EF553B\",\"#00cc96\",\"#ab63fa\",\"#FFA15A\",\"#19d3f3\",\"#FF6692\",\"#B6E880\",\"#FF97FF\",\"#FECB52\"],\"font\":{\"color\":\"#2a3f5f\"},\"geo\":{\"bgcolor\":\"white\",\"lakecolor\":\"white\",\"landcolor\":\"#E5ECF6\",\"showlakes\":true,\"showland\":true,\"subunitcolor\":\"white\"},\"hoverlabel\":{\"align\":\"left\"},\"hovermode\":\"closest\",\"mapbox\":{\"style\":\"light\"},\"paper_bgcolor\":\"white\",\"plot_bgcolor\":\"#E5ECF6\",\"polar\":{\"angularaxis\":{\"gridcolor\":\"white\",\"linecolor\":\"white\",\"ticks\":\"\"},\"bgcolor\":\"#E5ECF6\",\"radialaxis\":{\"gridcolor\":\"white\",\"linecolor\":\"white\",\"ticks\":\"\"}},\"scene\":{\"xaxis\":{\"backgroundcolor\":\"#E5ECF6\",\"gridcolor\":\"white\",\"gridwidth\":2,\"linecolor\":\"white\",\"showbackground\":true,\"ticks\":\"\",\"zerolinecolor\":\"white\"},\"yaxis\":{\"backgroundcolor\":\"#E5ECF6\",\"gridcolor\":\"white\",\"gridwidth\":2,\"linecolor\":\"white\",\"showbackground\":true,\"ticks\":\"\",\"zerolinecolor\":\"white\"},\"zaxis\":{\"backgroundcolor\":\"#E5ECF6\",\"gridcolor\":\"white\",\"gridwidth\":2,\"linecolor\":\"white\",\"showbackground\":true,\"ticks\":\"\",\"zerolinecolor\":\"white\"}},\"shapedefaults\":{\"line\":{\"color\":\"#2a3f5f\"}},\"ternary\":{\"aaxis\":{\"gridcolor\":\"white\",\"linecolor\":\"white\",\"ticks\":\"\"},\"baxis\":{\"gridcolor\":\"white\",\"linecolor\":\"white\",\"ticks\":\"\"},\"bgcolor\":\"#E5ECF6\",\"caxis\":{\"gridcolor\":\"white\",\"linecolor\":\"white\",\"ticks\":\"\"}},\"title\":{\"x\":0.05},\"xaxis\":{\"automargin\":true,\"gridcolor\":\"white\",\"linecolor\":\"white\",\"ticks\":\"\",\"title\":{\"standoff\":15},\"zerolinecolor\":\"white\",\"zerolinewidth\":2},\"yaxis\":{\"automargin\":true,\"gridcolor\":\"white\",\"linecolor\":\"white\",\"ticks\":\"\",\"title\":{\"standoff\":15},\"zerolinecolor\":\"white\",\"zerolinewidth\":2}}},\"xaxis\":{\"anchor\":\"y\",\"domain\":[0.0,1.0],\"title\":{\"text\":\"Total Distance\"}},\"yaxis\":{\"anchor\":\"x\",\"domain\":[0.0,1.0],\"title\":{\"text\":\"Flight Name\"}},\"legend\":{\"title\":{\"text\":\"variable\"},\"tracegroupgap\":0},\"margin\":{\"t\":60},\"barmode\":\"relative\",\"title\":{\"text\":\"Total Distance Traveled (km)\"}},                        {\"responsive\": true}                    ).then(function(){\n",
              "                            \n",
              "var gd = document.getElementById('d24f258b-34db-4cee-8c4c-e59aa15ac3a3');\n",
              "var x = new MutationObserver(function (mutations, observer) {{\n",
              "        var display = window.getComputedStyle(gd).display;\n",
              "        if (!display || display === 'none') {{\n",
              "            console.log([gd, 'removed!']);\n",
              "            Plotly.purge(gd);\n",
              "            observer.disconnect();\n",
              "        }}\n",
              "}});\n",
              "\n",
              "// Listen for the removal of the full notebook cells\n",
              "var notebookContainer = gd.closest('#notebook-container');\n",
              "if (notebookContainer) {{\n",
              "    x.observe(notebookContainer, {childList: true});\n",
              "}}\n",
              "\n",
              "// Listen for the clearing of the current output cell\n",
              "var outputEl = gd.closest('.output');\n",
              "if (outputEl) {{\n",
              "    x.observe(outputEl, {childList: true});\n",
              "}}\n",
              "\n",
              "                        })                };                            </script>        </div>\n",
              "</body>\n",
              "</html>"
            ]
          },
          "metadata": {}
        }
      ]
    },
    {
      "cell_type": "markdown",
      "source": [
        "Using Vaex"
      ],
      "metadata": {
        "id": "ZHWfg7Gzf5w1"
      }
    },
    {
      "cell_type": "code",
      "source": [
        "%%time\n",
        "\n",
        "\n",
        "flights_distance = vdf.groupby('OP_CARRIER').agg({'DISTANCE': 'sum'})\n",
        "flights_distance = flights_distance.to_pandas_df()\n",
        "flights_distance.plot.bar(x='OP_CARRIER', y='DISTANCE', color='blue')\n",
        "plt.xlabel(\"Flight Name\")\n",
        "plt.ylabel(\"Total Distance Traveled (km)\")\n",
        "plt.title(\"Total Distance Traveled by Flights\")\n",
        "plt.show()\n"
      ],
      "metadata": {
        "colab": {
          "base_uri": "https://localhost:8080/",
          "height": 338
        },
        "id": "g-Py6-SYOffd",
        "outputId": "62c85bbf-4daa-4bb7-b8cc-ebae89fa595d"
      },
      "execution_count": 16,
      "outputs": [
        {
          "output_type": "display_data",
          "data": {
            "text/plain": [
              "<Figure size 432x288 with 1 Axes>"
            ],
            "image/png": "[encoded data removed]"
          },
          "metadata": {
            "needs_background": "light"
          }
        },
        {
          "output_type": "stream",
          "name": "stdout",
          "text": [
            "CPU times: user 2min 33s, sys: 15.3 s, total: 2min 48s\n",
            "Wall time: 1min 28s\n"
          ]
        }
      ]
    },
    {
      "cell_type": "markdown",
      "source": [
        "Using Pyspark"
      ],
      "metadata": {
        "id": "sXKa79-wf-Bv"
      }
    },
    {
      "cell_type": "code",
      "source": [
        "%%time\n",
        "\n",
        "import seaborn as sns\n",
        "\n",
        "pyspark_chart1 = pdf.groupby(\"OP_CARRIER\").sum(\"DISTANCE\")\n",
        "pyspark_chart1 = pyspark_chart1.sort(col(\"OP_CARRIER\").asc())\n",
        "pyspark_chart1 = pyspark_chart1.toPandas()\n",
        "\n",
        "\n",
        "plt.figure(figsize=(15,10))\n",
        "plt.title(\"Total Distance Traveled for Flight Company\")\n",
        "sns.barplot(x=pyspark_chart1['OP_CARRIER'], y=pyspark_chart1['sum(DISTANCE)'])\n",
        "plt.xlabel('Flight Name')\n",
        "plt.ylabel('Total Distance Traveled (km)')\n",
        "plt.show()"
      ],
      "metadata": {
        "colab": {
          "base_uri": "https://localhost:8080/",
          "height": 656
        },
        "id": "p2Xz92EIbrR7",
        "outputId": "5a584ef1-87b3-4a8e-d5b8-117ff6c68d8e"
      },
      "execution_count": 43,
      "outputs": [
        {
          "output_type": "display_data",
          "data": {
            "text/plain": [
              "<Figure size 1080x720 with 1 Axes>"
            ],
            "image/png": "[encoded data removed]"
          },
          "metadata": {
            "needs_background": "light"
          }
        },
        {
          "output_type": "stream",
          "name": "stdout",
          "text": [
            "CPU times: user 879 ms, sys: 79.5 ms, total: 958 ms\n",
            "Wall time: 1min 23s\n"
          ]
        }
      ]
    },
    {
      "cell_type": "markdown",
      "metadata": {
        "id": "o0O1UOHPoFZx"
      },
      "source": [
        "***Question 1: Which airline has the highest number of flights from year 2016 - 2018?***"
      ]
    },
    {
      "cell_type": "markdown",
      "metadata": {
        "id": "9yeaSNu7drKB"
      },
      "source": [
        "**Visualisation with Koalas**"
      ]
    },
    {
      "cell_type": "code",
      "execution_count": null,
      "metadata": {
        "colab": {
          "base_uri": "https://localhost:8080/",
          "height": 578
        },
        "id": "MQvaNpRwQX_N",
        "outputId": "c0dc5a21-6f01-428b-a2e4-9623bf96f3f2"
      },
      "outputs": [
        {
          "name": "stdout",
          "output_type": "stream",
          "text": [
            "CPU times: user 4 µs, sys: 0 ns, total: 4 µs\n",
            "Wall time: 10.5 µs\n"
          ]
        },
        {
          "data": {
            "text/html": [
              "<html>\n",
              "<head><meta charset=\"utf-8\" /></head>\n",
              "<body>\n",
              "    <div>            <script src=\"https://cdnjs.cloudflare.com/ajax/libs/mathjax/2.7.5/MathJax.js?config=TeX-AMS-MML_SVG\"></script><script type=\"text/javascript\">if (window.MathJax) {MathJax.Hub.Config({SVG: {font: \"STIX-Web\"}});}</script>                <script type=\"text/javascript\">window.PlotlyConfig = {MathJaxConfig: 'local'};</script>\n",
              "        <script src=\"https://cdn.plot.ly/plotly-2.8.3.min.js\"></script>                <div id=\"5e2e9c7a-9259-49b3-a65b-81de4e77d9f0\" class=\"plotly-graph-div\" style=\"height:525px; width:100%;\"></div>            <script type=\"text/javascript\">                                    window.PLOTLYENV=window.PLOTLYENV || {};                                    if (document.getElementById(\"5e2e9c7a-9259-49b3-a65b-81de4e77d9f0\")) {                    Plotly.newPlot(                        \"5e2e9c7a-9259-49b3-a65b-81de4e77d9f0\",                        [{\"alignmentgroup\":\"True\",\"hovertemplate\":\"variable=0<br>OP_CARRIER=%{x}<br>value=%{y}<extra></extra>\",\"legendgroup\":\"0\",\"marker\":{\"color\":\"#636efa\",\"pattern\":{\"shape\":\"\"}},\"name\":\"0\",\"offsetgroup\":\"0\",\"orientation\":\"v\",\"showlegend\":true,\"textposition\":\"auto\",\"x\":[\"UA\",\"NK\",\"AA\",\"EV\",\"B6\",\"DL\",\"OO\",\"F9\",\"HA\",\"AS\",\"VX\",\"WN\",\"YV\",\"MQ\",\"OH\",\"G4\",\"YX\",\"9E\"],\"xaxis\":\"x\",\"y\":[1730317,460968,2683157,1002681,865396,2773525,2050388,313232,239823,602048,155092,3921112,209094,284497,265784,95192,305251,231815],\"yaxis\":\"y\",\"type\":\"bar\"}],                        {\"template\":{\"data\":{\"bar\":[{\"error_x\":{\"color\":\"#2a3f5f\"},\"error_y\":{\"color\":\"#2a3f5f\"},\"marker\":{\"line\":{\"color\":\"#E5ECF6\",\"width\":0.5},\"pattern\":{\"fillmode\":\"overlay\",\"size\":10,\"solidity\":0.2}},\"type\":\"bar\"}],\"barpolar\":[{\"marker\":{\"line\":{\"color\":\"#E5ECF6\",\"width\":0.5},\"pattern\":{\"fillmode\":\"overlay\",\"size\":10,\"solidity\":0.2}},\"type\":\"barpolar\"}],\"carpet\":[{\"aaxis\":{\"endlinecolor\":\"#2a3f5f\",\"gridcolor\":\"white\",\"linecolor\":\"white\",\"minorgridcolor\":\"white\",\"startlinecolor\":\"#2a3f5f\"},\"baxis\":{\"endlinecolor\":\"#2a3f5f\",\"gridcolor\":\"white\",\"linecolor\":\"white\",\"minorgridcolor\":\"white\",\"startlinecolor\":\"#2a3f5f\"},\"type\":\"carpet\"}],\"choropleth\":[{\"colorbar\":{\"outlinewidth\":0,\"ticks\":\"\"},\"type\":\"choropleth\"}],\"contour\":[{\"colorbar\":{\"outlinewidth\":0,\"ticks\":\"\"},\"colorscale\":[[0.0,\"#0d0887\"],[0.1111111111111111,\"#46039f\"],[0.2222222222222222,\"#7201a8\"],[0.3333333333333333,\"#9c179e\"],[0.4444444444444444,\"#bd3786\"],[0.5555555555555556,\"#d8576b\"],[0.6666666666666666,\"#ed7953\"],[0.7777777777777778,\"#fb9f3a\"],[0.8888888888888888,\"#fdca26\"],[1.0,\"#f0f921\"]],\"type\":\"contour\"}],\"contourcarpet\":[{\"colorbar\":{\"outlinewidth\":0,\"ticks\":\"\"},\"type\":\"contourcarpet\"}],\"heatmap\":[{\"colorbar\":{\"outlinewidth\":0,\"ticks\":\"\"},\"colorscale\":[[0.0,\"#0d0887\"],[0.1111111111111111,\"#46039f\"],[0.2222222222222222,\"#7201a8\"],[0.3333333333333333,\"#9c179e\"],[0.4444444444444444,\"#bd3786\"],[0.5555555555555556,\"#d8576b\"],[0.6666666666666666,\"#ed7953\"],[0.7777777777777778,\"#fb9f3a\"],[0.8888888888888888,\"#fdca26\"],[1.0,\"#f0f921\"]],\"type\":\"heatmap\"}],\"heatmapgl\":[{\"colorbar\":{\"outlinewidth\":0,\"ticks\":\"\"},\"colorscale\":[[0.0,\"#0d0887\"],[0.1111111111111111,\"#46039f\"],[0.2222222222222222,\"#7201a8\"],[0.3333333333333333,\"#9c179e\"],[0.4444444444444444,\"#bd3786\"],[0.5555555555555556,\"#d8576b\"],[0.6666666666666666,\"#ed7953\"],[0.7777777777777778,\"#fb9f3a\"],[0.8888888888888888,\"#fdca26\"],[1.0,\"#f0f921\"]],\"type\":\"heatmapgl\"}],\"histogram\":[{\"marker\":{\"pattern\":{\"fillmode\":\"overlay\",\"size\":10,\"solidity\":0.2}},\"type\":\"histogram\"}],\"histogram2d\":[{\"colorbar\":{\"outlinewidth\":0,\"ticks\":\"\"},\"colorscale\":[[0.0,\"#0d0887\"],[0.1111111111111111,\"#46039f\"],[0.2222222222222222,\"#7201a8\"],[0.3333333333333333,\"#9c179e\"],[0.4444444444444444,\"#bd3786\"],[0.5555555555555556,\"#d8576b\"],[0.6666666666666666,\"#ed7953\"],[0.7777777777777778,\"#fb9f3a\"],[0.8888888888888888,\"#fdca26\"],[1.0,\"#f0f921\"]],\"type\":\"histogram2d\"}],\"histogram2dcontour\":[{\"colorbar\":{\"outlinewidth\":0,\"ticks\":\"\"},\"colorscale\":[[0.0,\"#0d0887\"],[0.1111111111111111,\"#46039f\"],[0.2222222222222222,\"#7201a8\"],[0.3333333333333333,\"#9c179e\"],[0.4444444444444444,\"#bd3786\"],[0.5555555555555556,\"#d8576b\"],[0.6666666666666666,\"#ed7953\"],[0.7777777777777778,\"#fb9f3a\"],[0.8888888888888888,\"#fdca26\"],[1.0,\"#f0f921\"]],\"type\":\"histogram2dcontour\"}],\"mesh3d\":[{\"colorbar\":{\"outlinewidth\":0,\"ticks\":\"\"},\"type\":\"mesh3d\"}],\"parcoords\":[{\"line\":{\"colorbar\":{\"outlinewidth\":0,\"ticks\":\"\"}},\"type\":\"parcoords\"}],\"pie\":[{\"automargin\":true,\"type\":\"pie\"}],\"scatter\":[{\"marker\":{\"colorbar\":{\"outlinewidth\":0,\"ticks\":\"\"}},\"type\":\"scatter\"}],\"scatter3d\":[{\"line\":{\"colorbar\":{\"outlinewidth\":0,\"ticks\":\"\"}},\"marker\":{\"colorbar\":{\"outlinewidth\":0,\"ticks\":\"\"}},\"type\":\"scatter3d\"}],\"scattercarpet\":[{\"marker\":{\"colorbar\":{\"outlinewidth\":0,\"ticks\":\"\"}},\"type\":\"scattercarpet\"}],\"scattergeo\":[{\"marker\":{\"colorbar\":{\"outlinewidth\":0,\"ticks\":\"\"}},\"type\":\"scattergeo\"}],\"scattergl\":[{\"marker\":{\"colorbar\":{\"outlinewidth\":0,\"ticks\":\"\"}},\"type\":\"scattergl\"}],\"scattermapbox\":[{\"marker\":{\"colorbar\":{\"outlinewidth\":0,\"ticks\":\"\"}},\"type\":\"scattermapbox\"}],\"scatterpolar\":[{\"marker\":{\"colorbar\":{\"outlinewidth\":0,\"ticks\":\"\"}},\"type\":\"scatterpolar\"}],\"scatterpolargl\":[{\"marker\":{\"colorbar\":{\"outlinewidth\":0,\"ticks\":\"\"}},\"type\":\"scatterpolargl\"}],\"scatterternary\":[{\"marker\":{\"colorbar\":{\"outlinewidth\":0,\"ticks\":\"\"}},\"type\":\"scatterternary\"}],\"surface\":[{\"colorbar\":{\"outlinewidth\":0,\"ticks\":\"\"},\"colorscale\":[[0.0,\"#0d0887\"],[0.1111111111111111,\"#46039f\"],[0.2222222222222222,\"#7201a8\"],[0.3333333333333333,\"#9c179e\"],[0.4444444444444444,\"#bd3786\"],[0.5555555555555556,\"#d8576b\"],[0.6666666666666666,\"#ed7953\"],[0.7777777777777778,\"#fb9f3a\"],[0.8888888888888888,\"#fdca26\"],[1.0,\"#f0f921\"]],\"type\":\"surface\"}],\"table\":[{\"cells\":{\"fill\":{\"color\":\"#EBF0F8\"},\"line\":{\"color\":\"white\"}},\"header\":{\"fill\":{\"color\":\"#C8D4E3\"},\"line\":{\"color\":\"white\"}},\"type\":\"table\"}]},\"layout\":{\"annotationdefaults\":{\"arrowcolor\":\"#2a3f5f\",\"arrowhead\":0,\"arrowwidth\":1},\"autotypenumbers\":\"strict\",\"coloraxis\":{\"colorbar\":{\"outlinewidth\":0,\"ticks\":\"\"}},\"colorscale\":{\"diverging\":[[0,\"#8e0152\"],[0.1,\"#c51b7d\"],[0.2,\"#de77ae\"],[0.3,\"#f1b6da\"],[0.4,\"#fde0ef\"],[0.5,\"#f7f7f7\"],[0.6,\"#e6f5d0\"],[0.7,\"#b8e186\"],[0.8,\"#7fbc41\"],[0.9,\"#4d9221\"],[1,\"#276419\"]],\"sequential\":[[0.0,\"#0d0887\"],[0.1111111111111111,\"#46039f\"],[0.2222222222222222,\"#7201a8\"],[0.3333333333333333,\"#9c179e\"],[0.4444444444444444,\"#bd3786\"],[0.5555555555555556,\"#d8576b\"],[0.6666666666666666,\"#ed7953\"],[0.7777777777777778,\"#fb9f3a\"],[0.8888888888888888,\"#fdca26\"],[1.0,\"#f0f921\"]],\"sequentialminus\":[[0.0,\"#0d0887\"],[0.1111111111111111,\"#46039f\"],[0.2222222222222222,\"#7201a8\"],[0.3333333333333333,\"#9c179e\"],[0.4444444444444444,\"#bd3786\"],[0.5555555555555556,\"#d8576b\"],[0.6666666666666666,\"#ed7953\"],[0.7777777777777778,\"#fb9f3a\"],[0.8888888888888888,\"#fdca26\"],[1.0,\"#f0f921\"]]},\"colorway\":[\"#636efa\",\"#EF553B\",\"#00cc96\",\"#ab63fa\",\"#FFA15A\",\"#19d3f3\",\"#FF6692\",\"#B6E880\",\"#FF97FF\",\"#FECB52\"],\"font\":{\"color\":\"#2a3f5f\"},\"geo\":{\"bgcolor\":\"white\",\"lakecolor\":\"white\",\"landcolor\":\"#E5ECF6\",\"showlakes\":true,\"showland\":true,\"subunitcolor\":\"white\"},\"hoverlabel\":{\"align\":\"left\"},\"hovermode\":\"closest\",\"mapbox\":{\"style\":\"light\"},\"paper_bgcolor\":\"white\",\"plot_bgcolor\":\"#E5ECF6\",\"polar\":{\"angularaxis\":{\"gridcolor\":\"white\",\"linecolor\":\"white\",\"ticks\":\"\"},\"bgcolor\":\"#E5ECF6\",\"radialaxis\":{\"gridcolor\":\"white\",\"linecolor\":\"white\",\"ticks\":\"\"}},\"scene\":{\"xaxis\":{\"backgroundcolor\":\"#E5ECF6\",\"gridcolor\":\"white\",\"gridwidth\":2,\"linecolor\":\"white\",\"showbackground\":true,\"ticks\":\"\",\"zerolinecolor\":\"white\"},\"yaxis\":{\"backgroundcolor\":\"#E5ECF6\",\"gridcolor\":\"white\",\"gridwidth\":2,\"linecolor\":\"white\",\"showbackground\":true,\"ticks\":\"\",\"zerolinecolor\":\"white\"},\"zaxis\":{\"backgroundcolor\":\"#E5ECF6\",\"gridcolor\":\"white\",\"gridwidth\":2,\"linecolor\":\"white\",\"showbackground\":true,\"ticks\":\"\",\"zerolinecolor\":\"white\"}},\"shapedefaults\":{\"line\":{\"color\":\"#2a3f5f\"}},\"ternary\":{\"aaxis\":{\"gridcolor\":\"white\",\"linecolor\":\"white\",\"ticks\":\"\"},\"baxis\":{\"gridcolor\":\"white\",\"linecolor\":\"white\",\"ticks\":\"\"},\"bgcolor\":\"#E5ECF6\",\"caxis\":{\"gridcolor\":\"white\",\"linecolor\":\"white\",\"ticks\":\"\"}},\"title\":{\"x\":0.05},\"xaxis\":{\"automargin\":true,\"gridcolor\":\"white\",\"linecolor\":\"white\",\"ticks\":\"\",\"title\":{\"standoff\":15},\"zerolinecolor\":\"white\",\"zerolinewidth\":2},\"yaxis\":{\"automargin\":true,\"gridcolor\":\"white\",\"linecolor\":\"white\",\"ticks\":\"\",\"title\":{\"standoff\":15},\"zerolinecolor\":\"white\",\"zerolinewidth\":2}}},\"xaxis\":{\"anchor\":\"y\",\"domain\":[0.0,1.0],\"title\":{\"text\":\"OP_CARRIER\"}},\"yaxis\":{\"anchor\":\"x\",\"domain\":[0.0,1.0],\"title\":{\"text\":\"value\"}},\"legend\":{\"title\":{\"text\":\"variable\"},\"tracegroupgap\":0},\"margin\":{\"t\":60},\"barmode\":\"relative\"},                        {\"responsive\": true}                    ).then(function(){\n",
              "                            \n",
              "var gd = document.getElementById('5e2e9c7a-9259-49b3-a65b-81de4e77d9f0');\n",
              "var x = new MutationObserver(function (mutations, observer) {{\n",
              "        var display = window.getComputedStyle(gd).display;\n",
              "        if (!display || display === 'none') {{\n",
              "            console.log([gd, 'removed!']);\n",
              "            Plotly.purge(gd);\n",
              "            observer.disconnect();\n",
              "        }}\n",
              "}});\n",
              "\n",
              "// Listen for the removal of the full notebook cells\n",
              "var notebookContainer = gd.closest('#notebook-container');\n",
              "if (notebookContainer) {{\n",
              "    x.observe(notebookContainer, {childList: true});\n",
              "}}\n",
              "\n",
              "// Listen for the clearing of the current output cell\n",
              "var outputEl = gd.closest('.output');\n",
              "if (outputEl) {{\n",
              "    x.observe(outputEl, {childList: true});\n",
              "}}\n",
              "\n",
              "                        })                };                            </script>        </div>\n",
              "</body>\n",
              "</html>"
            ]
          },
          "metadata": {},
          "output_type": "display_data"
        }
      ],
      "source": [
        "%time\n",
        "flights_count = kdf.groupby('OP_CARRIER').size()\n",
        "flights_count.plot(kind='bar')"
      ]
    },
    {
      "cell_type": "markdown",
      "metadata": {
        "id": "YZyn0w-z220M"
      },
      "source": [
        "**Visualisation with Vaex**"
      ]
    },
    {
      "cell_type": "code",
      "execution_count": null,
      "metadata": {
        "colab": {
          "base_uri": "https://localhost:8080/",
          "height": 339
        },
        "id": "cS_1CI05gEGi",
        "outputId": "b9224af4-45b3-434f-ff09-90decc8847bd"
      },
      "outputs": [
        {
          "name": "stdout",
          "output_type": "stream",
          "text": [
            "CPU times: user 4 µs, sys: 1e+03 ns, total: 5 µs\n",
            "Wall time: 8.82 µs\n"
          ]
        },
        {
          "data": {
            "image/png": "[encoded data removed]",
            "text/plain": [
              "<Figure size 432x288 with 1 Axes>"
            ]
          },
          "metadata": {},
          "output_type": "display_data"
        }
      ],
      "source": [
        "%time\n",
        "\n",
        "flights_count = vdf.groupby('OP_CARRIER').agg({'OP_CARRIER_FL_NUM': 'count'})\n",
        "flights_count = flights_count.to_pandas_df()\n",
        "flights_count.plot.bar(x='OP_CARRIER', y='OP_CARRIER_FL_NUM', color='orange')\n",
        "plt.xlabel(\"Carrier\")\n",
        "plt.ylabel(\"Number of Flights\")\n",
        "plt.title(\"Carrier with highest number of flights\")\n",
        "plt.show()"
      ]
    },
    {
      "cell_type": "markdown",
      "metadata": {
        "id": "zMF91pr66inx"
      },
      "source": [
        "\n",
        "**Visualisation using Pyspark**\n",
        "\n"
      ]
    },
    {
      "cell_type": "code",
      "execution_count": 47,
      "metadata": {
        "id": "Y2lI9ymJ_Dng",
        "colab": {
          "base_uri": "https://localhost:8080/",
          "height": 351
        },
        "outputId": "577b39cc-7f99-40ae-8498-e8f7eb4510e2"
      },
      "outputs": [
        {
          "output_type": "stream",
          "name": "stdout",
          "text": [
            "CPU times: user 5 µs, sys: 0 ns, total: 5 µs\n",
            "Wall time: 9.3 µs\n"
          ]
        },
        {
          "output_type": "execute_result",
          "data": {
            "text/plain": [
              "<AxesSubplot: xlabel='OP_CARRIER'>"
            ]
          },
          "metadata": {},
          "execution_count": 47
        },
        {
          "output_type": "display_data",
          "data": {
            "text/plain": [
              "<Figure size 432x288 with 1 Axes>"
            ],
            "image/png": "[encoded data removed]"
          },
          "metadata": {
            "needs_background": "light"
          }
        }
      ],
      "source": [
        "%time\n",
        "from pyspark.sql.functions import count, desc\n",
        "carrier_counts = pdf.groupBy(\"OP_CARRIER\").agg(count(\"OP_CARRIER_FL_NUM\")).sort(col(\"OP_CARRIER\").asc()).toPandas()\n",
        "\n",
        "# plot the total distance travelled by each flight company name using a bar chart\n",
        "carrier_counts.plot(kind='bar', x='OP_CARRIER', y='count(OP_CARRIER_FL_NUM)')"
      ]
    },
    {
      "cell_type": "markdown",
      "metadata": {
        "id": "EesPTz3VmHHo"
      },
      "source": [
        "From the bar chart above, we can see the number of flights for each operating carrier (airline). It could be concluded that WN airline has the highest number of flights among all airline.\n",
        "\n",
        "\n",
        "\n",
        "***Question 2: Does the departure delay affects the arrival delay?***\n",
        "\n",
        "**Visualisation with Koalas**"
      ]
    },
    {
      "cell_type": "code",
      "execution_count": null,
      "metadata": {
        "id": "0ZTJhgnJRwjL"
      },
      "outputs": [],
      "source": [
        "%time\n",
        "kdf.plot(x='DEP_DELAY', y='ARR_DELAY', kind='scatter')"
      ]
    },
    {
      "cell_type": "markdown",
      "metadata": {
        "id": "ZbQbjd5V8ev7"
      },
      "source": [
        "**Visualisation with Vaex**"
      ]
    },
    {
      "cell_type": "code",
      "execution_count": null,
      "metadata": {
        "colab": {
          "background_save": true,
          "base_uri": "https://localhost:8080/",
          "height": 331
        },
        "id": "dRkYYmPqru-g",
        "outputId": "abe6dac6-d81e-4b79-fd92-3845952f7a74"
      },
      "outputs": [
        {
          "name": "stdout",
          "output_type": "stream",
          "text": [
            "CPU times: user 3 µs, sys: 0 ns, total: 3 µs\n",
            "Wall time: 6.44 µs\n"
          ]
        },
        {
          "data": {
            "image/png": "[encoded data removed]",
            "text/plain": [
              "<Figure size 432x288 with 1 Axes>"
            ]
          },
          "metadata": {},
          "output_type": "display_data"
        }
      ],
      "source": [
        "%time\n",
        "pandas_vdf = vdf[['DEP_DELAY', 'ARR_DELAY']].to_pandas_df()\n",
        "\n",
        "plt.scatter(pandas_vdf['DEP_DELAY'], pandas_vdf['ARR_DELAY'])\n",
        "plt.xlabel('Departure Delay (min)')\n",
        "plt.ylabel('Arrival Delay (min)')\n",
        "plt.title('Scatter Plot of Departure Delay vs Arrival Delay')\n",
        "\n",
        "plt.show()\n"
      ]
    },
    {
      "cell_type": "markdown",
      "metadata": {
        "id": "cJBe96IZ8f5W"
      },
      "source": [
        "**Visualisation with Pyspark**"
      ]
    },
    {
      "cell_type": "code",
      "execution_count": null,
      "metadata": {
        "id": "f6t7VMkD_Cnd"
      },
      "outputs": [],
      "source": [
        "%time\n",
        "sample_pdf=pdf.select(['DEP_DELAY','ARR_DELAY']).sample(False,0.5,42)\n",
        "pandas_pdf= sample_pdf.toPandas()\n",
        "plt.scatter(pandas_pdf['DEP_DELAY'], pandas_pdf['ARR_DELAY'])\n",
        "plt.xlabel('Departure Delay')\n",
        "plt.ylabel('Arrival Delay')\n",
        "plt.title('Scatter Plot of Departure Delay vs Arrival Delay')\n",
        "plt.show()"
      ]
    },
    {
      "cell_type": "markdown",
      "metadata": {
        "id": "7G7-hAWQmTR1"
      },
      "source": [
        "This shows the relationship between the departure delay and arrival delay of flights. When the arrival delay  tends to increase as the departure delay variable increases, we say there is a positive correlation between the variables.\n",
        "\n",
        "***Question 3: Which carrier has the highest total flight distance ?***"
      ]
    },
    {
      "cell_type": "markdown",
      "metadata": {
        "id": "678AIbkWPoN-"
      },
      "source": [
        "**Visualisation with Koalas**"
      ]
    },
    {
      "cell_type": "code",
      "execution_count": null,
      "metadata": {
        "id": "yLt2SoBSSxUm"
      },
      "outputs": [],
      "source": [
        "%time\n",
        "kdf.groupby(['OP_CARRIER'])['DISTANCE'].mean().plot(kind='bar')\n"
      ]
    },
    {
      "cell_type": "markdown",
      "metadata": {
        "id": "ecVIvEiV8o4H"
      },
      "source": [
        "**Visualisation with Vaex**"
      ]
    },
    {
      "cell_type": "code",
      "execution_count": null,
      "metadata": {
        "id": "sOsxbgCn-y8P"
      },
      "outputs": [],
      "source": [
        "%time\n",
        "import matplotlib.pyplot as plt\n",
        "\n",
        "carrier_distance = vdf.groupby('OP_CARRIER').agg({'DISTANCE': 'sum'})\n",
        "pandas_vdf = carrier_distance.to_pandas_df()\n",
        "pandas_vdf.plot.bar(x='OP_CARRIER', y='DISTANCE', color='orange')\n",
        "plt.show()\n",
        "\n"
      ]
    },
    {
      "cell_type": "markdown",
      "metadata": {
        "id": "EqI9veKY8sCh"
      },
      "source": [
        "**Visualisation with Pyspark**"
      ]
    },
    {
      "cell_type": "code",
      "execution_count": null,
      "metadata": {
        "id": "6gRVPlII-yWJ"
      },
      "outputs": [],
      "source": [
        "%time\n",
        "import pyspark.sql.functions as F\n",
        "pdf.groupBy(\"OP_CARRIER\").agg(F.avg(\"DISTANCE\").alias(\"Total flight distance\")).sort(\"Total flight distance\").show()"
      ]
    },
    {
      "cell_type": "markdown",
      "metadata": {
        "id": "K_oMD2homhw9"
      },
      "source": [
        "This bar chart shows the distribution of flight distances by carrier. From the bar chart above, VX airline has the highest total flight distance among all airlines.\n",
        "\n",
        "***Question 4: What is the average departure delay for each origin airport ?***"
      ]
    },
    {
      "cell_type": "markdown",
      "metadata": {
        "id": "bgsSq_zl9HDB"
      },
      "source": [
        "**Visualisation with Koalas**"
      ]
    },
    {
      "cell_type": "code",
      "execution_count": null,
      "metadata": {
        "id": "UeezrJgl-wR0"
      },
      "outputs": [],
      "source": [
        "%time\n",
        "kdf.groupby(['ORIGIN'])['DEP_DELAY'].mean().plot(kind='bar')"
      ]
    },
    {
      "cell_type": "markdown",
      "metadata": {
        "id": "NEupAaVVgT18"
      },
      "source": [
        "**Visualisation with Vaex**"
      ]
    },
    {
      "cell_type": "code",
      "execution_count": null,
      "metadata": {
        "id": "AnaihIOa-xQb"
      },
      "outputs": [],
      "source": [
        "%time\n",
        "flights_avg_delay = vdf.groupby('ORIGIN').agg({'DEP_DELAY': 'mean'})\n",
        "pandas_avg_delay = flights_avg_delay.to_pandas_df()\n",
        "pandas_avg_delay.plot.bar(x='ORIGIN', y='DEP_DELAY', color='red')\n",
        "plt.xlabel(\"Origin airport\")\n",
        "plt.ylabel(\"Avg Departure Delays\")\n",
        "plt.title(\"Average departure delay for each origin airport\")\n",
        "plt.show()"
      ]
    },
    {
      "cell_type": "markdown",
      "metadata": {
        "id": "bMdWqagBmwDA"
      },
      "source": [
        "\n",
        "**Visualisation using Pyspark**\n",
        "\n"
      ]
    },
    {
      "cell_type": "code",
      "execution_count": null,
      "metadata": {
        "id": "ldhwSHJAClfU"
      },
      "outputs": [],
      "source": [
        "%time\n",
        "import pyspark.sql.functions as F\n",
        "pdf.groupBy(\"ORIGIN\").agg(F.avg(\"DEP_DELAY\").alias(\"Avg Departure Delay\")).sort(\"Avg Departure Delay\").show()"
      ]
    },
    {
      "cell_type": "markdown",
      "metadata": {
        "id": "PkkzzYKL9JOt"
      },
      "source": [
        "From the bar chart above, we can see that some of the bar shows positive values and some are negative values. Positive values stand for the departure delay of the flight at the responding airport. While negative values means the time that the flight departs early. In conclusion, YNG airport has the highest departure delay and YAK airport has the lowest departure delay, in other words, YAK airport has the most earliest departure time than the original scheduled departure time."
      ]
    },
    {
      "cell_type": "markdown",
      "metadata": {
        "id": "NXNLDFbA9ckx"
      },
      "source": [
        "***Question 5: What is the average arrival delay for every destination airport?***"
      ]
    },
    {
      "cell_type": "markdown",
      "metadata": {
        "id": "ZaUfvrzQ9W1N"
      },
      "source": [
        "**Visualisation with Koalas**"
      ]
    },
    {
      "cell_type": "code",
      "execution_count": null,
      "metadata": {
        "id": "K81YC-5R-tpk"
      },
      "outputs": [],
      "source": [
        "%time\n",
        "kdf.groupby(['DEST'])['ARR_DELAY'].mean().plot(kind='bar')"
      ]
    },
    {
      "cell_type": "markdown",
      "metadata": {
        "id": "du-4fvWjgQA1"
      },
      "source": [
        "**Visualisation with Vaex**"
      ]
    },
    {
      "cell_type": "code",
      "execution_count": null,
      "metadata": {
        "id": "rWFSGg6p-uXI"
      },
      "outputs": [],
      "source": [
        "%time\n",
        "flights_avg_adelay = vdf.groupby('DEST').agg({'ARR_DELAY': 'mean'})\n",
        "pandas_avg_adelay = flights_avg_adelay.to_pandas_df()\n",
        "pandas_avg_adelay.plot.bar(x='DEST', y='ARR_DELAY', color='green')\n",
        "plt.xlabel(\"Destination airport\")\n",
        "plt.ylabel(\"Avg Arrival Delays\")\n",
        "plt.title(\"Average arrival delay for each destination airport\")\n",
        "plt.show()"
      ]
    },
    {
      "cell_type": "markdown",
      "metadata": {
        "id": "xwM2nYuZ9Zpx"
      },
      "source": [
        "\n",
        "**Visualisation using Pyspark**\n",
        "\n"
      ]
    },
    {
      "cell_type": "code",
      "execution_count": null,
      "metadata": {
        "id": "lPxIf75_-vGU"
      },
      "outputs": [],
      "source": [
        "%time\n",
        "import pyspark.sql.functions as F\n",
        "pdf.groupBy(\"DEST\").agg(F.avg(\"ARR_DELAY\").alias(\"Avg Arrival Delay\")).sort(\"Avg Arrival Delay\").show()"
      ]
    },
    {
      "cell_type": "markdown",
      "metadata": {
        "id": "JauewOb59UQx"
      },
      "source": [
        "From the bar chart above, we can see that some of the bar shows positive values and some are negative values. Positive values stand for the arrival delay of the flight at the responding airport. While negative values means the time that the flight arrive early. In conclusion, YNG airport has the highest arrival delay and YAK airport has the lowest arrival delay, in other words, DRT airport has the most earliest arrival time than the original scheduled arrival time."
      ]
    }
  ],
  "metadata": {
    "colab": {
      "provenance": [],
      "include_colab_link": true
    },
    "kernelspec": {
      "display_name": "Python 3",
      "name": "python3"
    },
    "language_info": {
      "name": "python"
    }
  },
  "nbformat": 4,
  "nbformat_minor": 0
}
{
  "cells": [
    {
      "cell_type": "markdown",
      "metadata": {
        "id": "view-in-github",
        "colab_type": "text"
      },
      "source": [
        "<a href=\"https://colab.research.google.com/github/drshahizan/Python-big-data/blob/main/Project/Rojak/Rojak_Project.ipynb\" target=\"_parent\"><img src=\"https://colab.research.google.com/assets/colab-badge.svg\" alt=\"Open In Colab\"/></a>"
      ]
    },
    {
      "cell_type": "markdown",
      "metadata": {
        "id": "m-4ki6XDWy4L"
      },
      "source": [
        "##**15 Million Chess Games from Lichess 2013-2014 Analysis and Libraries Comparisons**\n",
        "\n",
        "###Group Members: \n",
        "\n",
        "<table>\n",
        "  <tr>\n",
        "    <th>Name</th>\n",
        "    <th>Matric No</th>\n",
        "  </tr>\n",
        "  <tr>\n",
        "    <th>Eddie Wong Chung Pheng </th>\n",
        "    <th>A20EC0031</th>\n",
        "  </tr>\n",
        "  <tr>\n",
        "    <th>Madihah Binti Che Zabri </th>\n",
        "    <th>A20EC0074</th>\n",
        "  </tr>\n",
        "  <tr>\n",
        "    <th>Nurarissa Dayana Binti Mohd Sukri</th>\n",
        "    <th>A20EC0120</th>\n",
        "  </tr>\n",
        "  <tr> \n",
        "    <th>Vincent Boo Ee Khai</th>\n",
        "    <th>A20EC0231</th>\n",
        "  </tr>\n",
        "</table>\n",
        "<br></br>"
      ]
    },
    {
      "cell_type": "markdown",
      "metadata": {
        "id": "9OsE4JIDxInq"
      },
      "source": [
        "## About the dataset\n",
        "\n",
        "*  This dataset contains data from all rated games played in Lichess from January 2013 to December 2014, in total there are around 15.000.000 games.\n",
        "*  The dataset consists of 1048576 rows and 16 columns.\n",
        "*  The size of this dataset is 1.99GB.\n",
        "*  The dataset can be obtained from [here](https://www.kaggle.com/datasets/maca11/chess-games-from-lichess-20132014?select=Lichess_2013_2014_Complete.csv)\n",
        "\n",
        "\n",
        "\n"
      ]
    },
    {
      "cell_type": "code",
      "execution_count": 1,
      "metadata": {
        "id": "kcJCKyKpDlyi"
      },
      "outputs": [],
      "source": [
        "# Read dataset from google drive\n",
        "!pip install -U -q PyDrive\n",
        "from pydrive.auth import GoogleAuth\n",
        "from pydrive.drive import GoogleDrive\n",
        "from google.colab import auth\n",
        "from oauth2client.client import GoogleCredentials\n",
        "\n",
        "# Authenticate and create the PyDrive client.\n",
        "auth.authenticate_user()\n",
        "gauth = GoogleAuth()\n",
        "gauth.credentials = GoogleCredentials.get_application_default()\n",
        "drive = GoogleDrive(gauth)\n",
        "link = 'https://drive.google.com/file/d/10CIeiPoyqyyDT_4C2B0eGANY-XVFpzkr/view?usp=share_link'\n",
        "# to get the id part of the file\n",
        "id = link.split(\"/\")[-2]\n",
        " \n",
        "downloaded = drive.CreateFile({'id':id})\n",
        "downloaded.GetContentFile('Lichess_2013_2014_Complete.csv') "
      ]
    },
    {
      "cell_type": "markdown",
      "metadata": {
        "id": "AYULdpZa9nCy"
      },
      "source": [
        "Install Required Library"
      ]
    },
    {
      "cell_type": "code",
      "execution_count": 2,
      "metadata": {
        "colab": {
          "base_uri": "https://localhost:8080/"
        },
        "id": "z_oiNkn81u_x",
        "outputId": "bad2e010-9a8e-4923-c7cd-91bc56dbc0da"
      },
      "outputs": [
        {
          "output_type": "stream",
          "name": "stdout",
          "text": [
            "Looking in indexes: https://pypi.org/simple, https://us-python.pkg.dev/colab-wheels/public/simple/\n",
            "Requirement already satisfied: vaex in /usr/local/lib/python3.8/dist-packages (4.16.0)\n",
            "Requirement already satisfied: vaex-server<0.9,>=0.8.1 in /usr/local/lib/python3.8/dist-packages (from vaex) (0.8.1)\n",
            "Requirement already satisfied: vaex-viz<0.6,>=0.5.4 in /usr/local/lib/python3.8/dist-packages (from vaex) (0.5.4)\n",
            "Requirement already satisfied: vaex-jupyter<0.9,>=0.8.1 in /usr/local/lib/python3.8/dist-packages (from vaex) (0.8.1)\n",
            "Requirement already satisfied: vaex-ml<0.19,>=0.18.1 in /usr/local/lib/python3.8/dist-packages (from vaex) (0.18.1)\n",
            "Requirement already satisfied: vaex-hdf5<0.15,>=0.13.0 in /usr/local/lib/python3.8/dist-packages (from vaex) (0.14.1)\n",
            "Requirement already satisfied: vaex-astro<0.10,>=0.9.3 in /usr/local/lib/python3.8/dist-packages (from vaex) (0.9.3)\n",
            "Requirement already satisfied: vaex-core<4.17,>=4.16.0 in /usr/local/lib/python3.8/dist-packages (from vaex) (4.16.1)\n",
            "Requirement already satisfied: astropy in /usr/local/lib/python3.8/dist-packages (from vaex-astro<0.10,>=0.9.3->vaex) (4.3.1)\n",
            "Requirement already satisfied: pyyaml in /usr/local/lib/python3.8/dist-packages (from vaex-core<4.17,>=4.16.0->vaex) (6.0)\n",
            "Requirement already satisfied: pyarrow>=5.0.0 in /usr/local/lib/python3.8/dist-packages (from vaex-core<4.17,>=4.16.0->vaex) (9.0.0)\n",
            "Requirement already satisfied: aplus in /usr/local/lib/python3.8/dist-packages (from vaex-core<4.17,>=4.16.0->vaex) (0.11.0)\n",
            "Requirement already satisfied: progressbar2 in /usr/local/lib/python3.8/dist-packages (from vaex-core<4.17,>=4.16.0->vaex) (3.38.0)\n",
            "Requirement already satisfied: requests in /usr/local/lib/python3.8/dist-packages (from vaex-core<4.17,>=4.16.0->vaex) (2.25.1)\n",
            "Requirement already satisfied: future>=0.15.2 in /usr/local/lib/python3.8/dist-packages (from vaex-core<4.17,>=4.16.0->vaex) (0.16.0)\n",
            "Requirement already satisfied: blake3 in /usr/local/lib/python3.8/dist-packages (from vaex-core<4.17,>=4.16.0->vaex) (0.3.3)\n",
            "Requirement already satisfied: tabulate>=0.8.3 in /usr/local/lib/python3.8/dist-packages (from vaex-core<4.17,>=4.16.0->vaex) (0.8.10)\n",
            "Requirement already satisfied: dask!=2022.4.0 in /usr/local/lib/python3.8/dist-packages (from vaex-core<4.17,>=4.16.0->vaex) (2022.2.1)\n",
            "Requirement already satisfied: pydantic>=1.8.0 in /usr/local/lib/python3.8/dist-packages (from vaex-core<4.17,>=4.16.0->vaex) (1.10.4)\n",
            "Requirement already satisfied: cloudpickle in /usr/local/lib/python3.8/dist-packages (from vaex-core<4.17,>=4.16.0->vaex) (2.2.0)\n",
            "Requirement already satisfied: rich in /usr/local/lib/python3.8/dist-packages (from vaex-core<4.17,>=4.16.0->vaex) (13.3.1)\n",
            "Requirement already satisfied: six in /usr/local/lib/python3.8/dist-packages (from vaex-core<4.17,>=4.16.0->vaex) (1.15.0)\n",
            "Requirement already satisfied: nest-asyncio>=1.3.3 in /usr/local/lib/python3.8/dist-packages (from vaex-core<4.17,>=4.16.0->vaex) (1.5.6)\n",
            "Requirement already satisfied: numpy>=1.16 in /usr/local/lib/python3.8/dist-packages (from vaex-core<4.17,>=4.16.0->vaex) (1.21.6)\n",
            "Requirement already satisfied: filelock in /usr/local/lib/python3.8/dist-packages (from vaex-core<4.17,>=4.16.0->vaex) (3.9.0)\n",
            "Requirement already satisfied: frozendict!=2.2.0 in /usr/local/lib/python3.8/dist-packages (from vaex-core<4.17,>=4.16.0->vaex) (2.3.4)\n",
            "Requirement already satisfied: pandas in /usr/local/lib/python3.8/dist-packages (from vaex-core<4.17,>=4.16.0->vaex) (1.3.5)\n",
            "Requirement already satisfied: h5py>=2.9 in /usr/local/lib/python3.8/dist-packages (from vaex-hdf5<0.15,>=0.13.0->vaex) (3.1.0)\n",
            "Requirement already satisfied: ipyleaflet in /usr/local/lib/python3.8/dist-packages (from vaex-jupyter<0.9,>=0.8.1->vaex) (0.17.2)\n",
            "Requirement already satisfied: xarray in /usr/local/lib/python3.8/dist-packages (from vaex-jupyter<0.9,>=0.8.1->vaex) (2022.12.0)\n",
            "Requirement already satisfied: ipyvolume>=0.4 in /usr/local/lib/python3.8/dist-packages (from vaex-jupyter<0.9,>=0.8.1->vaex) (0.6.0)\n",
            "Requirement already satisfied: ipyvuetify<2,>=1.2.2 in /usr/local/lib/python3.8/dist-packages (from vaex-jupyter<0.9,>=0.8.1->vaex) (1.8.4)\n",
            "Requirement already satisfied: bqplot>=0.10.1 in /usr/local/lib/python3.8/dist-packages (from vaex-jupyter<0.9,>=0.8.1->vaex) (0.12.36)\n",
            "Requirement already satisfied: ipympl in /usr/local/lib/python3.8/dist-packages (from vaex-jupyter<0.9,>=0.8.1->vaex) (0.9.2)\n",
            "Requirement already satisfied: traitlets in /usr/local/lib/python3.8/dist-packages (from vaex-ml<0.19,>=0.18.1->vaex) (5.7.1)\n",
            "Requirement already satisfied: numba in /usr/local/lib/python3.8/dist-packages (from vaex-ml<0.19,>=0.18.1->vaex) (0.56.4)\n",
            "Requirement already satisfied: jinja2 in /usr/local/lib/python3.8/dist-packages (from vaex-ml<0.19,>=0.18.1->vaex) (2.11.3)\n",
            "Requirement already satisfied: cachetools in /usr/local/lib/python3.8/dist-packages (from vaex-server<0.9,>=0.8.1->vaex) (5.2.1)\n",
            "Requirement already satisfied: uvicorn[standard] in /usr/local/lib/python3.8/dist-packages (from vaex-server<0.9,>=0.8.1->vaex) (0.20.0)\n",
            "Requirement already satisfied: fastapi in /usr/local/lib/python3.8/dist-packages (from vaex-server<0.9,>=0.8.1->vaex) (0.89.1)\n",
            "Requirement already satisfied: tornado>4.1 in /usr/local/lib/python3.8/dist-packages (from vaex-server<0.9,>=0.8.1->vaex) (6.0.4)\n",
            "Requirement already satisfied: pillow in /usr/local/lib/python3.8/dist-packages (from vaex-viz<0.6,>=0.5.4->vaex) (7.1.2)\n",
            "Requirement already satisfied: matplotlib>=1.3.1 in /usr/local/lib/python3.8/dist-packages (from vaex-viz<0.6,>=0.5.4->vaex) (3.6.3)\n",
            "Requirement already satisfied: traittypes>=0.0.6 in /usr/local/lib/python3.8/dist-packages (from bqplot>=0.10.1->vaex-jupyter<0.9,>=0.8.1->vaex) (0.2.1)\n",
            "Requirement already satisfied: ipywidgets<9,>=7.5.0 in /usr/local/lib/python3.8/dist-packages (from bqplot>=0.10.1->vaex-jupyter<0.9,>=0.8.1->vaex) (7.7.1)\n",
            "Requirement already satisfied: toolz>=0.8.2 in /usr/local/lib/python3.8/dist-packages (from dask!=2022.4.0->vaex-core<4.17,>=4.16.0->vaex) (0.12.0)\n",
            "Requirement already satisfied: partd>=0.3.10 in /usr/local/lib/python3.8/dist-packages (from dask!=2022.4.0->vaex-core<4.17,>=4.16.0->vaex) (1.3.0)\n",
            "Requirement already satisfied: fsspec>=0.6.0 in /usr/local/lib/python3.8/dist-packages (from dask!=2022.4.0->vaex-core<4.17,>=4.16.0->vaex) (2022.11.0)\n",
            "Requirement already satisfied: packaging>=20.0 in /usr/local/lib/python3.8/dist-packages (from dask!=2022.4.0->vaex-core<4.17,>=4.16.0->vaex) (21.3)\n",
            "Requirement already satisfied: ipyvue>=1.7.0 in /usr/local/lib/python3.8/dist-packages (from ipyvolume>=0.4->vaex-jupyter<0.9,>=0.8.1->vaex) (1.8.0)\n",
            "Requirement already satisfied: pythreejs>=2.4.0 in /usr/local/lib/python3.8/dist-packages (from ipyvolume>=0.4->vaex-jupyter<0.9,>=0.8.1->vaex) (2.4.1)\n",
            "Requirement already satisfied: ipywebrtc in /usr/local/lib/python3.8/dist-packages (from ipyvolume>=0.4->vaex-jupyter<0.9,>=0.8.1->vaex) (0.6.0)\n",
            "Requirement already satisfied: cycler>=0.10 in /usr/local/lib/python3.8/dist-packages (from matplotlib>=1.3.1->vaex-viz<0.6,>=0.5.4->vaex) (0.11.0)\n",
            "Requirement already satisfied: python-dateutil>=2.7 in /usr/local/lib/python3.8/dist-packages (from matplotlib>=1.3.1->vaex-viz<0.6,>=0.5.4->vaex) (2.8.2)\n",
            "Requirement already satisfied: contourpy>=1.0.1 in /usr/local/lib/python3.8/dist-packages (from matplotlib>=1.3.1->vaex-viz<0.6,>=0.5.4->vaex) (1.0.7)\n",
            "Requirement already satisfied: pyparsing>=2.2.1 in /usr/local/lib/python3.8/dist-packages (from matplotlib>=1.3.1->vaex-viz<0.6,>=0.5.4->vaex) (3.0.9)\n",
            "Requirement already satisfied: kiwisolver>=1.0.1 in /usr/local/lib/python3.8/dist-packages (from matplotlib>=1.3.1->vaex-viz<0.6,>=0.5.4->vaex) (1.4.4)\n",
            "Requirement already satisfied: fonttools>=4.22.0 in /usr/local/lib/python3.8/dist-packages (from matplotlib>=1.3.1->vaex-viz<0.6,>=0.5.4->vaex) (4.38.0)\n",
            "Requirement already satisfied: pytz>=2017.3 in /usr/local/lib/python3.8/dist-packages (from pandas->vaex-core<4.17,>=4.16.0->vaex) (2022.7)\n",
            "Requirement already satisfied: typing-extensions>=4.2.0 in /usr/local/lib/python3.8/dist-packages (from pydantic>=1.8.0->vaex-core<4.17,>=4.16.0->vaex) (4.4.0)\n",
            "Requirement already satisfied: pyerfa>=1.7.3 in /usr/local/lib/python3.8/dist-packages (from astropy->vaex-astro<0.10,>=0.9.3->vaex) (2.0.0.1)\n",
            "Requirement already satisfied: starlette==0.22.0 in /usr/local/lib/python3.8/dist-packages (from fastapi->vaex-server<0.9,>=0.8.1->vaex) (0.22.0)\n",
            "Requirement already satisfied: anyio<5,>=3.4.0 in /usr/local/lib/python3.8/dist-packages (from starlette==0.22.0->fastapi->vaex-server<0.9,>=0.8.1->vaex) (3.6.2)\n",
            "Requirement already satisfied: xyzservices>=2021.8.1 in /usr/local/lib/python3.8/dist-packages (from ipyleaflet->vaex-jupyter<0.9,>=0.8.1->vaex) (2022.9.0)\n",
            "Requirement already satisfied: branca>=0.5.0 in /usr/local/lib/python3.8/dist-packages (from ipyleaflet->vaex-jupyter<0.9,>=0.8.1->vaex) (0.6.0)\n",
            "Requirement already satisfied: ipython-genutils in /usr/local/lib/python3.8/dist-packages (from ipympl->vaex-jupyter<0.9,>=0.8.1->vaex) (0.2.0)\n",
            "Requirement already satisfied: ipython<9 in /usr/local/lib/python3.8/dist-packages (from ipympl->vaex-jupyter<0.9,>=0.8.1->vaex) (7.9.0)\n",
            "Requirement already satisfied: MarkupSafe>=0.23 in /usr/local/lib/python3.8/dist-packages (from jinja2->vaex-ml<0.19,>=0.18.1->vaex) (2.0.1)\n",
            "Requirement already satisfied: importlib-metadata in /usr/local/lib/python3.8/dist-packages (from numba->vaex-ml<0.19,>=0.18.1->vaex) (6.0.0)\n",
            "Requirement already satisfied: llvmlite<0.40,>=0.39.0dev0 in /usr/local/lib/python3.8/dist-packages (from numba->vaex-ml<0.19,>=0.18.1->vaex) (0.39.1)\n",
            "Requirement already satisfied: setuptools in /usr/local/lib/python3.8/dist-packages (from numba->vaex-ml<0.19,>=0.18.1->vaex) (57.4.0)\n",
            "Requirement already satisfied: python-utils>=2.3.0 in /usr/local/lib/python3.8/dist-packages (from progressbar2->vaex-core<4.17,>=4.16.0->vaex) (3.4.5)\n",
            "Requirement already satisfied: certifi>=2017.4.17 in /usr/local/lib/python3.8/dist-packages (from requests->vaex-core<4.17,>=4.16.0->vaex) (2022.12.7)\n",
            "Requirement already satisfied: idna<3,>=2.5 in /usr/local/lib/python3.8/dist-packages (from requests->vaex-core<4.17,>=4.16.0->vaex) (2.10)\n",
            "Requirement already satisfied: urllib3<1.27,>=1.21.1 in /usr/local/lib/python3.8/dist-packages (from requests->vaex-core<4.17,>=4.16.0->vaex) (1.24.3)\n",
            "Requirement already satisfied: chardet<5,>=3.0.2 in /usr/local/lib/python3.8/dist-packages (from requests->vaex-core<4.17,>=4.16.0->vaex) (4.0.0)\n",
            "Requirement already satisfied: pygments<3.0.0,>=2.14.0 in /usr/local/lib/python3.8/dist-packages (from rich->vaex-core<4.17,>=4.16.0->vaex) (2.14.0)\n",
            "Requirement already satisfied: markdown-it-py<3.0.0,>=2.1.0 in /usr/local/lib/python3.8/dist-packages (from rich->vaex-core<4.17,>=4.16.0->vaex) (2.1.0)\n",
            "Requirement already satisfied: click>=7.0 in /usr/local/lib/python3.8/dist-packages (from uvicorn[standard]->vaex-server<0.9,>=0.8.1->vaex) (7.1.2)\n",
            "Requirement already satisfied: h11>=0.8 in /usr/local/lib/python3.8/dist-packages (from uvicorn[standard]->vaex-server<0.9,>=0.8.1->vaex) (0.14.0)\n",
            "Requirement already satisfied: websockets>=10.4 in /usr/local/lib/python3.8/dist-packages (from uvicorn[standard]->vaex-server<0.9,>=0.8.1->vaex) (10.4)\n",
            "Requirement already satisfied: httptools>=0.5.0 in /usr/local/lib/python3.8/dist-packages (from uvicorn[standard]->vaex-server<0.9,>=0.8.1->vaex) (0.5.0)\n",
            "Requirement already satisfied: uvloop!=0.15.0,!=0.15.1,>=0.14.0 in /usr/local/lib/python3.8/dist-packages (from uvicorn[standard]->vaex-server<0.9,>=0.8.1->vaex) (0.17.0)\n",
            "Requirement already satisfied: python-dotenv>=0.13 in /usr/local/lib/python3.8/dist-packages (from uvicorn[standard]->vaex-server<0.9,>=0.8.1->vaex) (0.21.1)\n",
            "Requirement already satisfied: watchfiles>=0.13 in /usr/local/lib/python3.8/dist-packages (from uvicorn[standard]->vaex-server<0.9,>=0.8.1->vaex) (0.18.1)\n",
            "Requirement already satisfied: backcall in /usr/local/lib/python3.8/dist-packages (from ipython<9->ipympl->vaex-jupyter<0.9,>=0.8.1->vaex) (0.2.0)\n",
            "Requirement already satisfied: jedi>=0.10 in /usr/local/lib/python3.8/dist-packages (from ipython<9->ipympl->vaex-jupyter<0.9,>=0.8.1->vaex) (0.18.2)\n",
            "Requirement already satisfied: pexpect in /usr/local/lib/python3.8/dist-packages (from ipython<9->ipympl->vaex-jupyter<0.9,>=0.8.1->vaex) (4.8.0)\n",
            "Requirement already satisfied: pickleshare in /usr/local/lib/python3.8/dist-packages (from ipython<9->ipympl->vaex-jupyter<0.9,>=0.8.1->vaex) (0.7.5)\n",
            "Requirement already satisfied: decorator in /usr/local/lib/python3.8/dist-packages (from ipython<9->ipympl->vaex-jupyter<0.9,>=0.8.1->vaex) (4.4.2)\n",
            "Requirement already satisfied: prompt-toolkit<2.1.0,>=2.0.0 in /usr/local/lib/python3.8/dist-packages (from ipython<9->ipympl->vaex-jupyter<0.9,>=0.8.1->vaex) (2.0.10)\n",
            "Requirement already satisfied: widgetsnbextension~=3.6.0 in /usr/local/lib/python3.8/dist-packages (from ipywidgets<9,>=7.5.0->bqplot>=0.10.1->vaex-jupyter<0.9,>=0.8.1->vaex) (3.6.1)\n",
            "Requirement already satisfied: ipykernel>=4.5.1 in /usr/local/lib/python3.8/dist-packages (from ipywidgets<9,>=7.5.0->bqplot>=0.10.1->vaex-jupyter<0.9,>=0.8.1->vaex) (5.3.4)\n",
            "Requirement already satisfied: jupyterlab-widgets>=1.0.0 in /usr/local/lib/python3.8/dist-packages (from ipywidgets<9,>=7.5.0->bqplot>=0.10.1->vaex-jupyter<0.9,>=0.8.1->vaex) (3.0.5)\n",
            "Requirement already satisfied: mdurl~=0.1 in /usr/local/lib/python3.8/dist-packages (from markdown-it-py<3.0.0,>=2.1.0->rich->vaex-core<4.17,>=4.16.0->vaex) (0.1.2)\n",
            "Requirement already satisfied: locket in /usr/local/lib/python3.8/dist-packages (from partd>=0.3.10->dask!=2022.4.0->vaex-core<4.17,>=4.16.0->vaex) (1.0.0)\n",
            "Requirement already satisfied: ipydatawidgets>=1.1.1 in /usr/local/lib/python3.8/dist-packages (from pythreejs>=2.4.0->ipyvolume>=0.4->vaex-jupyter<0.9,>=0.8.1->vaex) (4.3.2)\n",
            "Requirement already satisfied: zipp>=0.5 in /usr/local/lib/python3.8/dist-packages (from importlib-metadata->numba->vaex-ml<0.19,>=0.18.1->vaex) (3.11.0)\n",
            "Requirement already satisfied: sniffio>=1.1 in /usr/local/lib/python3.8/dist-packages (from anyio<5,>=3.4.0->starlette==0.22.0->fastapi->vaex-server<0.9,>=0.8.1->vaex) (1.3.0)\n",
            "Requirement already satisfied: jupyter-client in /usr/local/lib/python3.8/dist-packages (from ipykernel>=4.5.1->ipywidgets<9,>=7.5.0->bqplot>=0.10.1->vaex-jupyter<0.9,>=0.8.1->vaex) (6.1.12)\n",
            "Requirement already satisfied: parso<0.9.0,>=0.8.0 in /usr/local/lib/python3.8/dist-packages (from jedi>=0.10->ipython<9->ipympl->vaex-jupyter<0.9,>=0.8.1->vaex) (0.8.3)\n",
            "Requirement already satisfied: wcwidth in /usr/local/lib/python3.8/dist-packages (from prompt-toolkit<2.1.0,>=2.0.0->ipython<9->ipympl->vaex-jupyter<0.9,>=0.8.1->vaex) (0.2.5)\n",
            "Requirement already satisfied: notebook>=4.4.1 in /usr/local/lib/python3.8/dist-packages (from widgetsnbextension~=3.6.0->ipywidgets<9,>=7.5.0->bqplot>=0.10.1->vaex-jupyter<0.9,>=0.8.1->vaex) (5.7.16)\n",
            "Requirement already satisfied: ptyprocess>=0.5 in /usr/local/lib/python3.8/dist-packages (from pexpect->ipython<9->ipympl->vaex-jupyter<0.9,>=0.8.1->vaex) (0.7.0)\n",
            "Requirement already satisfied: Send2Trash in /usr/local/lib/python3.8/dist-packages (from notebook>=4.4.1->widgetsnbextension~=3.6.0->ipywidgets<9,>=7.5.0->bqplot>=0.10.1->vaex-jupyter<0.9,>=0.8.1->vaex) (1.8.0)\n",
            "Requirement already satisfied: prometheus-client in /usr/local/lib/python3.8/dist-packages (from notebook>=4.4.1->widgetsnbextension~=3.6.0->ipywidgets<9,>=7.5.0->bqplot>=0.10.1->vaex-jupyter<0.9,>=0.8.1->vaex) (0.15.0)\n",
            "Requirement already satisfied: pyzmq>=17 in /usr/local/lib/python3.8/dist-packages (from notebook>=4.4.1->widgetsnbextension~=3.6.0->ipywidgets<9,>=7.5.0->bqplot>=0.10.1->vaex-jupyter<0.9,>=0.8.1->vaex) (23.2.1)\n",
            "Requirement already satisfied: terminado>=0.8.1 in /usr/local/lib/python3.8/dist-packages (from notebook>=4.4.1->widgetsnbextension~=3.6.0->ipywidgets<9,>=7.5.0->bqplot>=0.10.1->vaex-jupyter<0.9,>=0.8.1->vaex) (0.13.3)\n",
            "Requirement already satisfied: nbformat in /usr/local/lib/python3.8/dist-packages (from notebook>=4.4.1->widgetsnbextension~=3.6.0->ipywidgets<9,>=7.5.0->bqplot>=0.10.1->vaex-jupyter<0.9,>=0.8.1->vaex) (5.7.1)\n",
            "Requirement already satisfied: nbconvert<6.0 in /usr/local/lib/python3.8/dist-packages (from notebook>=4.4.1->widgetsnbextension~=3.6.0->ipywidgets<9,>=7.5.0->bqplot>=0.10.1->vaex-jupyter<0.9,>=0.8.1->vaex) (5.6.1)\n",
            "Requirement already satisfied: jupyter-core>=4.4.0 in /usr/local/lib/python3.8/dist-packages (from notebook>=4.4.1->widgetsnbextension~=3.6.0->ipywidgets<9,>=7.5.0->bqplot>=0.10.1->vaex-jupyter<0.9,>=0.8.1->vaex) (5.1.3)\n",
            "Requirement already satisfied: platformdirs>=2.5 in /usr/local/lib/python3.8/dist-packages (from jupyter-core>=4.4.0->notebook>=4.4.1->widgetsnbextension~=3.6.0->ipywidgets<9,>=7.5.0->bqplot>=0.10.1->vaex-jupyter<0.9,>=0.8.1->vaex) (2.6.2)\n",
            "Requirement already satisfied: pandocfilters>=1.4.1 in /usr/local/lib/python3.8/dist-packages (from nbconvert<6.0->notebook>=4.4.1->widgetsnbextension~=3.6.0->ipywidgets<9,>=7.5.0->bqplot>=0.10.1->vaex-jupyter<0.9,>=0.8.1->vaex) (1.5.0)\n",
            "Requirement already satisfied: testpath in /usr/local/lib/python3.8/dist-packages (from nbconvert<6.0->notebook>=4.4.1->widgetsnbextension~=3.6.0->ipywidgets<9,>=7.5.0->bqplot>=0.10.1->vaex-jupyter<0.9,>=0.8.1->vaex) (0.6.0)\n",
            "Requirement already satisfied: defusedxml in /usr/local/lib/python3.8/dist-packages (from nbconvert<6.0->notebook>=4.4.1->widgetsnbextension~=3.6.0->ipywidgets<9,>=7.5.0->bqplot>=0.10.1->vaex-jupyter<0.9,>=0.8.1->vaex) (0.7.1)\n",
            "Requirement already satisfied: bleach in /usr/local/lib/python3.8/dist-packages (from nbconvert<6.0->notebook>=4.4.1->widgetsnbextension~=3.6.0->ipywidgets<9,>=7.5.0->bqplot>=0.10.1->vaex-jupyter<0.9,>=0.8.1->vaex) (5.0.1)\n",
            "Requirement already satisfied: entrypoints>=0.2.2 in /usr/local/lib/python3.8/dist-packages (from nbconvert<6.0->notebook>=4.4.1->widgetsnbextension~=3.6.0->ipywidgets<9,>=7.5.0->bqplot>=0.10.1->vaex-jupyter<0.9,>=0.8.1->vaex) (0.4)\n",
            "Requirement already satisfied: mistune<2,>=0.8.1 in /usr/local/lib/python3.8/dist-packages (from nbconvert<6.0->notebook>=4.4.1->widgetsnbextension~=3.6.0->ipywidgets<9,>=7.5.0->bqplot>=0.10.1->vaex-jupyter<0.9,>=0.8.1->vaex) (0.8.4)\n",
            "Requirement already satisfied: jsonschema>=2.6 in /usr/local/lib/python3.8/dist-packages (from nbformat->notebook>=4.4.1->widgetsnbextension~=3.6.0->ipywidgets<9,>=7.5.0->bqplot>=0.10.1->vaex-jupyter<0.9,>=0.8.1->vaex) (4.3.3)\n",
            "Requirement already satisfied: fastjsonschema in /usr/local/lib/python3.8/dist-packages (from nbformat->notebook>=4.4.1->widgetsnbextension~=3.6.0->ipywidgets<9,>=7.5.0->bqplot>=0.10.1->vaex-jupyter<0.9,>=0.8.1->vaex) (2.16.2)\n",
            "Requirement already satisfied: attrs>=17.4.0 in /usr/local/lib/python3.8/dist-packages (from jsonschema>=2.6->nbformat->notebook>=4.4.1->widgetsnbextension~=3.6.0->ipywidgets<9,>=7.5.0->bqplot>=0.10.1->vaex-jupyter<0.9,>=0.8.1->vaex) (22.2.0)\n",
            "Requirement already satisfied: importlib-resources>=1.4.0 in /usr/local/lib/python3.8/dist-packages (from jsonschema>=2.6->nbformat->notebook>=4.4.1->widgetsnbextension~=3.6.0->ipywidgets<9,>=7.5.0->bqplot>=0.10.1->vaex-jupyter<0.9,>=0.8.1->vaex) (5.10.2)\n",
            "Requirement already satisfied: pyrsistent!=0.17.0,!=0.17.1,!=0.17.2,>=0.14.0 in /usr/local/lib/python3.8/dist-packages (from jsonschema>=2.6->nbformat->notebook>=4.4.1->widgetsnbextension~=3.6.0->ipywidgets<9,>=7.5.0->bqplot>=0.10.1->vaex-jupyter<0.9,>=0.8.1->vaex) (0.19.3)\n",
            "Requirement already satisfied: webencodings in /usr/local/lib/python3.8/dist-packages (from bleach->nbconvert<6.0->notebook>=4.4.1->widgetsnbextension~=3.6.0->ipywidgets<9,>=7.5.0->bqplot>=0.10.1->vaex-jupyter<0.9,>=0.8.1->vaex) (0.5.1)\n",
            "Looking in indexes: https://pypi.org/simple, https://us-python.pkg.dev/colab-wheels/public/simple/\n",
            "Requirement already satisfied: koalas in /usr/local/lib/python3.8/dist-packages (1.8.2)\n",
            "Requirement already satisfied: numpy>=1.14 in /usr/local/lib/python3.8/dist-packages (from koalas) (1.21.6)\n",
            "Requirement already satisfied: pyarrow>=0.10 in /usr/local/lib/python3.8/dist-packages (from koalas) (9.0.0)\n",
            "Requirement already satisfied: pandas>=0.23.2 in /usr/local/lib/python3.8/dist-packages (from koalas) (1.3.5)\n",
            "Requirement already satisfied: pytz>=2017.3 in /usr/local/lib/python3.8/dist-packages (from pandas>=0.23.2->koalas) (2022.7)\n",
            "Requirement already satisfied: python-dateutil>=2.7.3 in /usr/local/lib/python3.8/dist-packages (from pandas>=0.23.2->koalas) (2.8.2)\n",
            "Requirement already satisfied: six>=1.5 in /usr/local/lib/python3.8/dist-packages (from python-dateutil>=2.7.3->pandas>=0.23.2->koalas) (1.15.0)\n",
            "Looking in indexes: https://pypi.org/simple, https://us-python.pkg.dev/colab-wheels/public/simple/\n",
            "Requirement already satisfied: pyspark in /usr/local/lib/python3.8/dist-packages (3.3.1)\n",
            "Requirement already satisfied: py4j==0.10.9.5 in /usr/local/lib/python3.8/dist-packages (from pyspark) (0.10.9.5)\n"
          ]
        }
      ],
      "source": [
        "!pip install vaex\n",
        "!pip install koalas\n",
        "!pip install pyspark"
      ]
    },
    {
      "cell_type": "code",
      "execution_count": 3,
      "metadata": {
        "colab": {
          "base_uri": "https://localhost:8080/"
        },
        "id": "gyP9LZKmGg1U",
        "outputId": "0847aa13-cf11-48f5-afa7-aabdf6aeb052"
      },
      "outputs": [
        {
          "output_type": "stream",
          "name": "stderr",
          "text": [
            "WARNING:root:Found pyspark version \"3.3.1\" installed. The pyspark version 3.2 and above has a built-in \"pandas APIs on Spark\" module ported from Koalas. Try `import pyspark.pandas as ps` instead. \n",
            "WARNING:root:'PYARROW_IGNORE_TIMEZONE' environment variable was not set. It is required to set this environment variable to '1' in both driver and executor sides if you use pyarrow>=2.0.0. Koalas will set it for you but it does not work if there is a Spark context already launched.\n"
          ]
        }
      ],
      "source": [
        "import pandas as pd\n",
        "import numpy as np\n",
        "import vaex as vx\n",
        "import databricks.koalas as kl\n",
        "import random\n",
        "from sklearn.linear_model import LogisticRegression"
      ]
    },
    {
      "cell_type": "code",
      "execution_count": 5,
      "metadata": {
        "id": "GuD-UvUWMg6k",
        "colab": {
          "base_uri": "https://localhost:8080/"
        },
        "outputId": "53c51f78-8cb1-4bac-c1d3-e267b2fd8851"
      },
      "outputs": [
        {
          "output_type": "stream",
          "name": "stdout",
          "text": [
            "CPU times: user 44.5 s, sys: 5.95 s, total: 50.4 s\n",
            "Wall time: 59.9 s\n"
          ]
        }
      ],
      "source": [
        "%time df = pd.read_csv(\"Lichess_2013_2014_Complete.csv\")\n",
        "pd.set_option('display.max_columns', None)"
      ]
    },
    {
      "cell_type": "code",
      "source": [
        "%time df.head(5)"
      ],
      "metadata": {
        "colab": {
          "base_uri": "https://localhost:8080/",
          "height": 601
        },
        "id": "9RXpg0eiS8AC",
        "outputId": "9daf822a-593d-46e3-c3da-fdc924e67108"
      },
      "execution_count": 6,
      "outputs": [
        {
          "output_type": "stream",
          "name": "stdout",
          "text": [
            "CPU times: user 331 µs, sys: 0 ns, total: 331 µs\n",
            "Wall time: 337 µs\n"
          ]
        },
        {
          "output_type": "execute_result",
          "data": {
            "text/plain": [
              "   WhiteElo  BlackElo         WhiteName          BlackName Winner Termination  \\\n",
              "0      1639      1403             BFG9k            mamalak  White      Normal   \n",
              "1      1654      1919    Desmond_Wilson          savinka59  White      Normal   \n",
              "2      1643      1747     Kozakmamay007  VanillaShamanilla  White      Normal   \n",
              "3      1824      1973  Naitero_Nagasaki                800  Black      Normal   \n",
              "4      1765      1815      nichiren1967   Naitero_Nagasaki  Black      Normal   \n",
              "\n",
              "                           Site  Day  Month  Year  InitialTime  Increment  \\\n",
              "0  https://lichess.org/j1dkb5dw   31     12  2012          600          8   \n",
              "1  https://lichess.org/a9tcp02g   31     12  2012          480          2   \n",
              "2  https://lichess.org/szom2tog   31     12  2012          420         17   \n",
              "3  https://lichess.org/rklpc7mk   31     12  2012           60          1   \n",
              "4  https://lichess.org/1xb3os63   31     12  2012           60          1   \n",
              "\n",
              "  TimeControl                                      Opening  ECO  \\\n",
              "0       Rapid             French Defense: Normal Variation  C00   \n",
              "1       Rapid  Queen's Pawn Game: Colle System, Anti-Colle  D04   \n",
              "2       Rapid         Four Knights Game: Italian Variation  C50   \n",
              "3      Bullet         Caro-Kann Defense: Goldman Variation  B12   \n",
              "4      Bullet     French Defense: La Bourdonnais Variation  C00   \n",
              "\n",
              "   Number_of_Moves  \n",
              "0               13  \n",
              "1               18  \n",
              "2               11  \n",
              "3               47  \n",
              "4               23  "
            ],
            "text/html": [
              "\n",
              "  <div id=\"df-10a6fdf6-54c7-4f8f-aaf2-515d11f53904\">\n",
              "    <div class=\"colab-df-container\">\n",
              "      <div>\n",
              "<style scoped>\n",
              "    .dataframe tbody tr th:only-of-type {\n",
              "        vertical-align: middle;\n",
              "    }\n",
              "\n",
              "    .dataframe tbody tr th {\n",
              "        vertical-align: top;\n",
              "    }\n",
              "\n",
              "    .dataframe thead th {\n",
              "        text-align: right;\n",
              "    }\n",
              "</style>\n",
              "<table border=\"1\" class=\"dataframe\">\n",
              "  <thead>\n",
              "    <tr style=\"text-align: right;\">\n",
              "      <th></th>\n",
              "      <th>WhiteElo</th>\n",
              "      <th>BlackElo</th>\n",
              "      <th>WhiteName</th>\n",
              "      <th>BlackName</th>\n",
              "      <th>Winner</th>\n",
              "      <th>Termination</th>\n",
              "      <th>Site</th>\n",
              "      <th>Day</th>\n",
              "      <th>Month</th>\n",
              "      <th>Year</th>\n",
              "      <th>InitialTime</th>\n",
              "      <th>Increment</th>\n",
              "      <th>TimeControl</th>\n",
              "      <th>Opening</th>\n",
              "      <th>ECO</th>\n",
              "      <th>Number_of_Moves</th>\n",
              "    </tr>\n",
              "  </thead>\n",
              "  <tbody>\n",
              "    <tr>\n",
              "      <th>0</th>\n",
              "      <td>1639</td>\n",
              "      <td>1403</td>\n",
              "      <td>BFG9k</td>\n",
              "      <td>mamalak</td>\n",
              "      <td>White</td>\n",
              "      <td>Normal</td>\n",
              "      <td>https://lichess.org/j1dkb5dw</td>\n",
              "      <td>31</td>\n",
              "      <td>12</td>\n",
              "      <td>2012</td>\n",
              "      <td>600</td>\n",
              "      <td>8</td>\n",
              "      <td>Rapid</td>\n",
              "      <td>French Defense: Normal Variation</td>\n",
              "      <td>C00</td>\n",
              "      <td>13</td>\n",
              "    </tr>\n",
              "    <tr>\n",
              "      <th>1</th>\n",
              "      <td>1654</td>\n",
              "      <td>1919</td>\n",
              "      <td>Desmond_Wilson</td>\n",
              "      <td>savinka59</td>\n",
              "      <td>White</td>\n",
              "      <td>Normal</td>\n",
              "      <td>https://lichess.org/a9tcp02g</td>\n",
              "      <td>31</td>\n",
              "      <td>12</td>\n",
              "      <td>2012</td>\n",
              "      <td>480</td>\n",
              "      <td>2</td>\n",
              "      <td>Rapid</td>\n",
              "      <td>Queen's Pawn Game: Colle System, Anti-Colle</td>\n",
              "      <td>D04</td>\n",
              "      <td>18</td>\n",
              "    </tr>\n",
              "    <tr>\n",
              "      <th>2</th>\n",
              "      <td>1643</td>\n",
              "      <td>1747</td>\n",
              "      <td>Kozakmamay007</td>\n",
              "      <td>VanillaShamanilla</td>\n",
              "      <td>White</td>\n",
              "      <td>Normal</td>\n",
              "      <td>https://lichess.org/szom2tog</td>\n",
              "      <td>31</td>\n",
              "      <td>12</td>\n",
              "      <td>2012</td>\n",
              "      <td>420</td>\n",
              "      <td>17</td>\n",
              "      <td>Rapid</td>\n",
              "      <td>Four Knights Game: Italian Variation</td>\n",
              "      <td>C50</td>\n",
              "      <td>11</td>\n",
              "    </tr>\n",
              "    <tr>\n",
              "      <th>3</th>\n",
              "      <td>1824</td>\n",
              "      <td>1973</td>\n",
              "      <td>Naitero_Nagasaki</td>\n",
              "      <td>800</td>\n",
              "      <td>Black</td>\n",
              "      <td>Normal</td>\n",
              "      <td>https://lichess.org/rklpc7mk</td>\n",
              "      <td>31</td>\n",
              "      <td>12</td>\n",
              "      <td>2012</td>\n",
              "      <td>60</td>\n",
              "      <td>1</td>\n",
              "      <td>Bullet</td>\n",
              "      <td>Caro-Kann Defense: Goldman Variation</td>\n",
              "      <td>B12</td>\n",
              "      <td>47</td>\n",
              "    </tr>\n",
              "    <tr>\n",
              "      <th>4</th>\n",
              "      <td>1765</td>\n",
              "      <td>1815</td>\n",
              "      <td>nichiren1967</td>\n",
              "      <td>Naitero_Nagasaki</td>\n",
              "      <td>Black</td>\n",
              "      <td>Normal</td>\n",
              "      <td>https://lichess.org/1xb3os63</td>\n",
              "      <td>31</td>\n",
              "      <td>12</td>\n",
              "      <td>2012</td>\n",
              "      <td>60</td>\n",
              "      <td>1</td>\n",
              "      <td>Bullet</td>\n",
              "      <td>French Defense: La Bourdonnais Variation</td>\n",
              "      <td>C00</td>\n",
              "      <td>23</td>\n",
              "    </tr>\n",
              "  </tbody>\n",
              "</table>\n",
              "</div>\n",
              "      <button class=\"colab-df-convert\" onclick=\"convertToInteractive('df-10a6fdf6-54c7-4f8f-aaf2-515d11f53904')\"\n",
              "              title=\"Convert this dataframe to an interactive table.\"\n",
              "              style=\"display:none;\">\n",
              "        \n",
              "  <svg xmlns=\"http://www.w3.org/2000/svg\" height=\"24px\"viewBox=\"0 0 24 24\"\n",
              "       width=\"24px\">\n",
              "    <path d=\"M0 0h24v24H0V0z\" fill=\"none\"/>\n",
              "    <path d=\"M18.56 5.44l.94 2.06.94-2.06 2.06-.94-2.06-.94-.94-2.06-.94 2.06-2.06.94zm-11 1L8.5 8.5l.94-2.06 2.06-.94-2.06-.94L8.5 2.5l-.94 2.06-2.06.94zm10 10l.94 2.06.94-2.06 2.06-.94-2.06-.94-.94-2.06-.94 2.06-2.06.94z\"/><path d=\"M17.41 7.96l-1.37-1.37c-.4-.4-.92-.59-1.43-.59-.52 0-1.04.2-1.43.59L10.3 9.45l-7.72 7.72c-.78.78-.78 2.05 0 2.83L4 21.41c.39.39.9.59 1.41.59.51 0 1.02-.2 1.41-.59l7.78-7.78 2.81-2.81c.8-.78.8-2.07 0-2.86zM5.41 20L4 18.59l7.72-7.72 1.47 1.35L5.41 20z\"/>\n",
              "  </svg>\n",
              "      </button>\n",
              "      \n",
              "  <style>\n",
              "    .colab-df-container {\n",
              "      display:flex;\n",
              "      flex-wrap:wrap;\n",
              "      gap: 12px;\n",
              "    }\n",
              "\n",
              "    .colab-df-convert {\n",
              "      background-color: #E8F0FE;\n",
              "      border: none;\n",
              "      border-radius: 50%;\n",
              "      cursor: pointer;\n",
              "      display: none;\n",
              "      fill: #1967D2;\n",
              "      height: 32px;\n",
              "      padding: 0 0 0 0;\n",
              "      width: 32px;\n",
              "    }\n",
              "\n",
              "    .colab-df-convert:hover {\n",
              "      background-color: #E2EBFA;\n",
              "      box-shadow: 0px 1px 2px rgba(60, 64, 67, 0.3), 0px 1px 3px 1px rgba(60, 64, 67, 0.15);\n",
              "      fill: #174EA6;\n",
              "    }\n",
              "\n",
              "    [theme=dark] .colab-df-convert {\n",
              "      background-color: #3B4455;\n",
              "      fill: #D2E3FC;\n",
              "    }\n",
              "\n",
              "    [theme=dark] .colab-df-convert:hover {\n",
              "      background-color: #434B5C;\n",
              "      box-shadow: 0px 1px 3px 1px rgba(0, 0, 0, 0.15);\n",
              "      filter: drop-shadow(0px 1px 2px rgba(0, 0, 0, 0.3));\n",
              "      fill: #FFFFFF;\n",
              "    }\n",
              "  </style>\n",
              "\n",
              "      <script>\n",
              "        const buttonEl =\n",
              "          document.querySelector('#df-10a6fdf6-54c7-4f8f-aaf2-515d11f53904 button.colab-df-convert');\n",
              "        buttonEl.style.display =\n",
              "          google.colab.kernel.accessAllowed ? 'block' : 'none';\n",
              "\n",
              "        async function convertToInteractive(key) {\n",
              "          const element = document.querySelector('#df-10a6fdf6-54c7-4f8f-aaf2-515d11f53904');\n",
              "          const dataTable =\n",
              "            await google.colab.kernel.invokeFunction('convertToInteractive',\n",
              "                                                     [key], {});\n",
              "          if (!dataTable) return;\n",
              "\n",
              "          const docLinkHtml = 'Like what you see? Visit the ' +\n",
              "            '<a target=\"_blank\" href=https://colab.research.google.com/notebooks/data_table.ipynb>data table notebook</a>'\n",
              "            + ' to learn more about interactive tables.';\n",
              "          element.innerHTML = '';\n",
              "          dataTable['output_type'] = 'display_data';\n",
              "          await google.colab.output.renderOutput(dataTable, element);\n",
              "          const docLink = document.createElement('div');\n",
              "          docLink.innerHTML = docLinkHtml;\n",
              "          element.appendChild(docLink);\n",
              "        }\n",
              "      </script>\n",
              "    </div>\n",
              "  </div>\n",
              "  "
            ]
          },
          "metadata": {},
          "execution_count": 6
        }
      ]
    },
    {
      "cell_type": "code",
      "source": [
        "%time vaex_df = vx.open('Lichess_2013_2014_Complete.csv') "
      ],
      "metadata": {
        "colab": {
          "base_uri": "https://localhost:8080/"
        },
        "id": "3tZXQ7lXBbWE",
        "outputId": "9c20f869-b2b1-4c96-e102-c82ae82ec2cc"
      },
      "execution_count": 7,
      "outputs": [
        {
          "output_type": "stream",
          "name": "stdout",
          "text": [
            "CPU times: user 2.64 s, sys: 1.48 s, total: 4.12 s\n",
            "Wall time: 10.3 s\n"
          ]
        }
      ]
    },
    {
      "cell_type": "code",
      "source": [
        "%time vaex_df.head(5)"
      ],
      "metadata": {
        "colab": {
          "base_uri": "https://localhost:8080/",
          "height": 495
        },
        "id": "scUn_e9cTBli",
        "outputId": "12cb90af-b3f3-4e0f-e52b-0b06d5fc8370"
      },
      "execution_count": 8,
      "outputs": [
        {
          "output_type": "stream",
          "name": "stdout",
          "text": [
            "CPU times: user 1.47 ms, sys: 0 ns, total: 1.47 ms\n",
            "Wall time: 4.99 ms\n"
          ]
        },
        {
          "output_type": "execute_result",
          "data": {
            "text/html": [
              "<table>\n",
              "<thead>\n",
              "<tr><th>#                            </th><th style=\"text-align: right;\">  WhiteElo</th><th style=\"text-align: right;\">  BlackElo</th><th>WhiteName       </th><th>BlackName        </th><th>Winner  </th><th>Termination  </th><th>Site                        </th><th style=\"text-align: right;\">  Day</th><th style=\"text-align: right;\">  Month</th><th style=\"text-align: right;\">  Year</th><th style=\"text-align: right;\">  InitialTime</th><th style=\"text-align: right;\">  Increment</th><th>TimeControl  </th><th>Opening                                    </th><th>ECO  </th><th style=\"text-align: right;\">  Number_of_Moves</th></tr>\n",
              "</thead>\n",
              "<tbody>\n",
              "<tr><td><i style='opacity: 0.6'>0</i></td><td style=\"text-align: right;\">      1639</td><td style=\"text-align: right;\">      1403</td><td>BFG9k           </td><td>mamalak          </td><td>White   </td><td>Normal       </td><td>https://lichess.org/j1dkb5dw</td><td style=\"text-align: right;\">   31</td><td style=\"text-align: right;\">     12</td><td style=\"text-align: right;\">  2012</td><td style=\"text-align: right;\">          600</td><td style=\"text-align: right;\">          8</td><td>Rapid        </td><td>French Defense: Normal Variation           </td><td>C00  </td><td style=\"text-align: right;\">               13</td></tr>\n",
              "<tr><td><i style='opacity: 0.6'>1</i></td><td style=\"text-align: right;\">      1654</td><td style=\"text-align: right;\">      1919</td><td>Desmond_Wilson  </td><td>savinka59        </td><td>White   </td><td>Normal       </td><td>https://lichess.org/a9tcp02g</td><td style=\"text-align: right;\">   31</td><td style=\"text-align: right;\">     12</td><td style=\"text-align: right;\">  2012</td><td style=\"text-align: right;\">          480</td><td style=\"text-align: right;\">          2</td><td>Rapid        </td><td>Queen&#x27;s Pawn Game: Colle System, Anti-Colle</td><td>D04  </td><td style=\"text-align: right;\">               18</td></tr>\n",
              "<tr><td><i style='opacity: 0.6'>2</i></td><td style=\"text-align: right;\">      1643</td><td style=\"text-align: right;\">      1747</td><td>Kozakmamay007   </td><td>VanillaShamanilla</td><td>White   </td><td>Normal       </td><td>https://lichess.org/szom2tog</td><td style=\"text-align: right;\">   31</td><td style=\"text-align: right;\">     12</td><td style=\"text-align: right;\">  2012</td><td style=\"text-align: right;\">          420</td><td style=\"text-align: right;\">         17</td><td>Rapid        </td><td>Four Knights Game: Italian Variation       </td><td>C50  </td><td style=\"text-align: right;\">               11</td></tr>\n",
              "<tr><td><i style='opacity: 0.6'>3</i></td><td style=\"text-align: right;\">      1824</td><td style=\"text-align: right;\">      1973</td><td>Naitero_Nagasaki</td><td>800              </td><td>Black   </td><td>Normal       </td><td>https://lichess.org/rklpc7mk</td><td style=\"text-align: right;\">   31</td><td style=\"text-align: right;\">     12</td><td style=\"text-align: right;\">  2012</td><td style=\"text-align: right;\">           60</td><td style=\"text-align: right;\">          1</td><td>Bullet       </td><td>Caro-Kann Defense: Goldman Variation       </td><td>B12  </td><td style=\"text-align: right;\">               47</td></tr>\n",
              "<tr><td><i style='opacity: 0.6'>4</i></td><td style=\"text-align: right;\">      1765</td><td style=\"text-align: right;\">      1815</td><td>nichiren1967    </td><td>Naitero_Nagasaki </td><td>Black   </td><td>Normal       </td><td>https://lichess.org/1xb3os63</td><td style=\"text-align: right;\">   31</td><td style=\"text-align: right;\">     12</td><td style=\"text-align: right;\">  2012</td><td style=\"text-align: right;\">           60</td><td style=\"text-align: right;\">          1</td><td>Bullet       </td><td>French Defense: La Bourdonnais Variation   </td><td>C00  </td><td style=\"text-align: right;\">               23</td></tr>\n",
              "</tbody>\n",
              "</table>"
            ],
            "text/plain": [
              "  #    WhiteElo    BlackElo  WhiteName         BlackName          Winner    Termination    Site                            Day    Month    Year    InitialTime    Increment  TimeControl    Opening                                      ECO      Number_of_Moves\n",
              "  0        1639        1403  BFG9k             mamalak            White     Normal         https://lichess.org/j1dkb5dw     31       12    2012            600            8  Rapid          French Defense: Normal Variation             C00                   13\n",
              "  1        1654        1919  Desmond_Wilson    savinka59          White     Normal         https://lichess.org/a9tcp02g     31       12    2012            480            2  Rapid          Queen's Pawn Game: Colle System, Anti-Colle  D04                   18\n",
              "  2        1643        1747  Kozakmamay007     VanillaShamanilla  White     Normal         https://lichess.org/szom2tog     31       12    2012            420           17  Rapid          Four Knights Game: Italian Variation         C50                   11\n",
              "  3        1824        1973  Naitero_Nagasaki  800                Black     Normal         https://lichess.org/rklpc7mk     31       12    2012             60            1  Bullet         Caro-Kann Defense: Goldman Variation         B12                   47\n",
              "  4        1765        1815  nichiren1967      Naitero_Nagasaki   Black     Normal         https://lichess.org/1xb3os63     31       12    2012             60            1  Bullet         French Defense: La Bourdonnais Variation     C00                   23"
            ]
          },
          "metadata": {},
          "execution_count": 8
        }
      ]
    },
    {
      "cell_type": "code",
      "execution_count": 9,
      "metadata": {
        "id": "4aJTz-VR7a46",
        "colab": {
          "base_uri": "https://localhost:8080/"
        },
        "outputId": "f19f2c9f-6a39-48b9-a062-6feea250d54f"
      },
      "outputs": [
        {
          "output_type": "stream",
          "name": "stdout",
          "text": [
            "CPU times: user 665 ms, sys: 259 ms, total: 924 ms\n",
            "Wall time: 1min 19s\n"
          ]
        }
      ],
      "source": [
        "%time koalas_df = kl.read_csv('Lichess_2013_2014_Complete.csv')"
      ]
    },
    {
      "cell_type": "code",
      "source": [
        "%time koalas_df.head(5)"
      ],
      "metadata": {
        "colab": {
          "base_uri": "https://localhost:8080/",
          "height": 557
        },
        "id": "peMcO8prTF-T",
        "outputId": "779fdafc-b725-4e4f-9a6b-7e1fd80da4b4"
      },
      "execution_count": 10,
      "outputs": [
        {
          "output_type": "stream",
          "name": "stdout",
          "text": [
            "CPU times: user 54.9 ms, sys: 11.5 ms, total: 66.5 ms\n",
            "Wall time: 590 ms\n"
          ]
        },
        {
          "output_type": "execute_result",
          "data": {
            "text/plain": [
              "   WhiteElo  BlackElo         WhiteName          BlackName Winner Termination                          Site  Day  Month  Year  InitialTime  Increment TimeControl                                      Opening  ECO  Number_of_Moves\n",
              "0      1639      1403             BFG9k            mamalak  White      Normal  https://lichess.org/j1dkb5dw   31     12  2012          600          8       Rapid             French Defense: Normal Variation  C00               13\n",
              "1      1654      1919    Desmond_Wilson          savinka59  White      Normal  https://lichess.org/a9tcp02g   31     12  2012          480          2       Rapid  Queen's Pawn Game: Colle System, Anti-Colle  D04               18\n",
              "2      1643      1747     Kozakmamay007  VanillaShamanilla  White      Normal  https://lichess.org/szom2tog   31     12  2012          420         17       Rapid         Four Knights Game: Italian Variation  C50               11\n",
              "3      1824      1973  Naitero_Nagasaki                800  Black      Normal  https://lichess.org/rklpc7mk   31     12  2012           60          1      Bullet         Caro-Kann Defense: Goldman Variation  B12               47\n",
              "4      1765      1815      nichiren1967   Naitero_Nagasaki  Black      Normal  https://lichess.org/1xb3os63   31     12  2012           60          1      Bullet     French Defense: La Bourdonnais Variation  C00               23"
            ],
            "text/html": [
              "<div>\n",
              "<style scoped>\n",
              "    .dataframe tbody tr th:only-of-type {\n",
              "        vertical-align: middle;\n",
              "    }\n",
              "\n",
              "    .dataframe tbody tr th {\n",
              "        vertical-align: top;\n",
              "    }\n",
              "\n",
              "    .dataframe thead th {\n",
              "        text-align: right;\n",
              "    }\n",
              "</style>\n",
              "<table border=\"1\" class=\"dataframe\">\n",
              "  <thead>\n",
              "    <tr style=\"text-align: right;\">\n",
              "      <th></th>\n",
              "      <th>WhiteElo</th>\n",
              "      <th>BlackElo</th>\n",
              "      <th>WhiteName</th>\n",
              "      <th>BlackName</th>\n",
              "      <th>Winner</th>\n",
              "      <th>Termination</th>\n",
              "      <th>Site</th>\n",
              "      <th>Day</th>\n",
              "      <th>Month</th>\n",
              "      <th>Year</th>\n",
              "      <th>InitialTime</th>\n",
              "      <th>Increment</th>\n",
              "      <th>TimeControl</th>\n",
              "      <th>Opening</th>\n",
              "      <th>ECO</th>\n",
              "      <th>Number_of_Moves</th>\n",
              "    </tr>\n",
              "  </thead>\n",
              "  <tbody>\n",
              "    <tr>\n",
              "      <th>0</th>\n",
              "      <td>1639</td>\n",
              "      <td>1403</td>\n",
              "      <td>BFG9k</td>\n",
              "      <td>mamalak</td>\n",
              "      <td>White</td>\n",
              "      <td>Normal</td>\n",
              "      <td>https://lichess.org/j1dkb5dw</td>\n",
              "      <td>31</td>\n",
              "      <td>12</td>\n",
              "      <td>2012</td>\n",
              "      <td>600</td>\n",
              "      <td>8</td>\n",
              "      <td>Rapid</td>\n",
              "      <td>French Defense: Normal Variation</td>\n",
              "      <td>C00</td>\n",
              "      <td>13</td>\n",
              "    </tr>\n",
              "    <tr>\n",
              "      <th>1</th>\n",
              "      <td>1654</td>\n",
              "      <td>1919</td>\n",
              "      <td>Desmond_Wilson</td>\n",
              "      <td>savinka59</td>\n",
              "      <td>White</td>\n",
              "      <td>Normal</td>\n",
              "      <td>https://lichess.org/a9tcp02g</td>\n",
              "      <td>31</td>\n",
              "      <td>12</td>\n",
              "      <td>2012</td>\n",
              "      <td>480</td>\n",
              "      <td>2</td>\n",
              "      <td>Rapid</td>\n",
              "      <td>Queen's Pawn Game: Colle System, Anti-Colle</td>\n",
              "      <td>D04</td>\n",
              "      <td>18</td>\n",
              "    </tr>\n",
              "    <tr>\n",
              "      <th>2</th>\n",
              "      <td>1643</td>\n",
              "      <td>1747</td>\n",
              "      <td>Kozakmamay007</td>\n",
              "      <td>VanillaShamanilla</td>\n",
              "      <td>White</td>\n",
              "      <td>Normal</td>\n",
              "      <td>https://lichess.org/szom2tog</td>\n",
              "      <td>31</td>\n",
              "      <td>12</td>\n",
              "      <td>2012</td>\n",
              "      <td>420</td>\n",
              "      <td>17</td>\n",
              "      <td>Rapid</td>\n",
              "      <td>Four Knights Game: Italian Variation</td>\n",
              "      <td>C50</td>\n",
              "      <td>11</td>\n",
              "    </tr>\n",
              "    <tr>\n",
              "      <th>3</th>\n",
              "      <td>1824</td>\n",
              "      <td>1973</td>\n",
              "      <td>Naitero_Nagasaki</td>\n",
              "      <td>800</td>\n",
              "      <td>Black</td>\n",
              "      <td>Normal</td>\n",
              "      <td>https://lichess.org/rklpc7mk</td>\n",
              "      <td>31</td>\n",
              "      <td>12</td>\n",
              "      <td>2012</td>\n",
              "      <td>60</td>\n",
              "      <td>1</td>\n",
              "      <td>Bullet</td>\n",
              "      <td>Caro-Kann Defense: Goldman Variation</td>\n",
              "      <td>B12</td>\n",
              "      <td>47</td>\n",
              "    </tr>\n",
              "    <tr>\n",
              "      <th>4</th>\n",
              "      <td>1765</td>\n",
              "      <td>1815</td>\n",
              "      <td>nichiren1967</td>\n",
              "      <td>Naitero_Nagasaki</td>\n",
              "      <td>Black</td>\n",
              "      <td>Normal</td>\n",
              "      <td>https://lichess.org/1xb3os63</td>\n",
              "      <td>31</td>\n",
              "      <td>12</td>\n",
              "      <td>2012</td>\n",
              "      <td>60</td>\n",
              "      <td>1</td>\n",
              "      <td>Bullet</td>\n",
              "      <td>French Defense: La Bourdonnais Variation</td>\n",
              "      <td>C00</td>\n",
              "      <td>23</td>\n",
              "    </tr>\n",
              "  </tbody>\n",
              "</table>\n",
              "</div>"
            ]
          },
          "metadata": {},
          "execution_count": 10
        }
      ]
    },
    {
      "cell_type": "code",
      "execution_count": 11,
      "metadata": {
        "colab": {
          "base_uri": "https://localhost:8080/"
        },
        "id": "db98RqIXrYET",
        "outputId": "74c8363b-18ea-432d-eb13-1ef5296a5dfd"
      },
      "outputs": [
        {
          "output_type": "execute_result",
          "data": {
            "text/plain": [
              "WhiteElo            int64\n",
              "BlackElo            int64\n",
              "WhiteName          object\n",
              "BlackName          object\n",
              "Winner             object\n",
              "Termination        object\n",
              "Site               object\n",
              "Day                 int64\n",
              "Month               int64\n",
              "Year                int64\n",
              "InitialTime         int64\n",
              "Increment           int64\n",
              "TimeControl        object\n",
              "Opening            object\n",
              "ECO                object\n",
              "Number_of_Moves     int64\n",
              "dtype: object"
            ]
          },
          "metadata": {},
          "execution_count": 11
        }
      ],
      "source": [
        "df.dtypes"
      ]
    },
    {
      "cell_type": "code",
      "execution_count": 12,
      "metadata": {
        "colab": {
          "base_uri": "https://localhost:8080/"
        },
        "id": "CUPZ0bk6rYjA",
        "outputId": "d7db153a-ef47-4ff7-8252-fb352e026feb"
      },
      "outputs": [
        {
          "output_type": "stream",
          "name": "stdout",
          "text": [
            "<class 'pandas.core.frame.DataFrame'>\n",
            "RangeIndex: 14918230 entries, 0 to 14918229\n",
            "Data columns (total 16 columns):\n",
            " #   Column           Dtype \n",
            "---  ------           ----- \n",
            " 0   WhiteElo         int64 \n",
            " 1   BlackElo         int64 \n",
            " 2   WhiteName        object\n",
            " 3   BlackName        object\n",
            " 4   Winner           object\n",
            " 5   Termination      object\n",
            " 6   Site             object\n",
            " 7   Day              int64 \n",
            " 8   Month            int64 \n",
            " 9   Year             int64 \n",
            " 10  InitialTime      int64 \n",
            " 11  Increment        int64 \n",
            " 12  TimeControl      object\n",
            " 13  Opening          object\n",
            " 14  ECO              object\n",
            " 15  Number_of_Moves  int64 \n",
            "dtypes: int64(8), object(8)\n",
            "memory usage: 1.8+ GB\n"
          ]
        }
      ],
      "source": [
        "df.info()"
      ]
    },
    {
      "cell_type": "code",
      "execution_count": 13,
      "metadata": {
        "colab": {
          "base_uri": "https://localhost:8080/"
        },
        "id": "zwrvOrPH6j8Q",
        "outputId": "c756ea3b-831e-4c4e-c490-c17677bb7a04"
      },
      "outputs": [
        {
          "output_type": "execute_result",
          "data": {
            "text/plain": [
              "(14918230, 16)"
            ]
          },
          "metadata": {},
          "execution_count": 13
        }
      ],
      "source": [
        "df.shape"
      ]
    },
    {
      "cell_type": "code",
      "execution_count": 14,
      "metadata": {
        "colab": {
          "base_uri": "https://localhost:8080/"
        },
        "id": "4y_Js9CH6ye0",
        "outputId": "5a81938e-58ef-4a71-85c4-69b6f80d6d0b"
      },
      "outputs": [
        {
          "output_type": "execute_result",
          "data": {
            "text/plain": [
              "WhiteElo           14918230\n",
              "BlackElo           14918230\n",
              "WhiteName          14918230\n",
              "BlackName          14918230\n",
              "Winner             14918230\n",
              "Termination        14918230\n",
              "Site               14918230\n",
              "Day                14918230\n",
              "Month              14918230\n",
              "Year               14918230\n",
              "InitialTime        14918230\n",
              "Increment          14918230\n",
              "TimeControl        14918230\n",
              "Opening            14918230\n",
              "ECO                14918230\n",
              "Number_of_Moves    14918230\n",
              "dtype: int64"
            ]
          },
          "metadata": {},
          "execution_count": 14
        }
      ],
      "source": [
        "# Count the number of rows\n",
        "df.count()     "
      ]
    },
    {
      "cell_type": "code",
      "execution_count": 11,
      "metadata": {
        "colab": {
          "base_uri": "https://localhost:8080/"
        },
        "id": "_Aws4dlmrY55",
        "outputId": "da2977df-662a-4147-e328-fc9968361def"
      },
      "outputs": [
        {
          "output_type": "execute_result",
          "data": {
            "text/plain": [
              "WhiteElo           0\n",
              "BlackElo           0\n",
              "WhiteName          0\n",
              "BlackName          0\n",
              "Winner             0\n",
              "Termination        0\n",
              "Site               0\n",
              "Day                0\n",
              "Month              0\n",
              "Year               0\n",
              "InitialTime        0\n",
              "Increment          0\n",
              "TimeControl        0\n",
              "Opening            0\n",
              "ECO                0\n",
              "Number_of_Moves    0\n",
              "dtype: int64"
            ]
          },
          "metadata": {},
          "execution_count": 11
        }
      ],
      "source": [
        "df.isnull().sum()"
      ]
    },
    {
      "cell_type": "code",
      "execution_count": null,
      "metadata": {
        "id": "RNlS57gQrZTc"
      },
      "outputs": [],
      "source": [
        "duplicate_rows_df = df[df.duplicated()]\n",
        "print(\"Number of duplicate rows: \", duplicate_rows_df.shape)"
      ]
    }
  ],
  "metadata": {
    "colab": {
      "provenance": [],
      "include_colab_link": true
    },
    "kernelspec": {
      "display_name": "Python 3",
      "name": "python3"
    },
    "language_info": {
      "name": "python"
    }
  },
  "nbformat": 4,
  "nbformat_minor": 0
}
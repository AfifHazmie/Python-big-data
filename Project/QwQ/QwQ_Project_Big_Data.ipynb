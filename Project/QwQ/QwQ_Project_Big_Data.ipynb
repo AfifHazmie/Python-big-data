{
  "cells": [                                                                                                         
    {
      "cell_type": "markdown",
      "metadata": {
        "id": "view-in-github",
        "colab_type": "text"
      },
      "source": [
        "<a href=\"https://colab.research.google.com/github/drshahizan/Python-big-data/blob/main/Project/QwQ/QwQ_Project_Big_Data.ipynb\" target=\"_parent\"><img src=\"https://colab.research.google.com/assets/colab-badge.svg\" alt=\"Open In Colab\"/></a>"
      ]
    },
    {
      "cell_type": "markdown",
      "metadata": {
        "id": "7F8DQl5dVJJ0"
      }, 
      "source": [
        "# New York City Automated Traffic Volume Counts\n",
        "\n",
        "This project aims to study the volume of traffic in NYC at bridge crossings and roadways. The dataset consists of 14 columns and 27.4M rows. It is considered as big data and occupies 3.33GB of memory. The dataset is obtained from Kaggle. We have selected this dataset because we like to analyze the traffic volume in NYC. We will perform a series of steps like data processing, data cleaning and visualization on this dataset. Google Colab will be used in this project."
      ]
    },
    {
      "cell_type": "markdown",
      "metadata": {
        "id": "PEscI9W6L-iH"
      },
      "source": [
        "**Team Members:**\n",
        "\n",
        "1.   MUHAMMAD DINIE HAZIM BIN AZALI\n",
        "2.   RADIN DAFINA BINTI RADIN ZULKAR NAIN\n",
        "3.   ADRINA ASYIQIN BINTI MD ADHA\n",
        "4.   KELVIN EE"
      ]
    },
    {
      "cell_type": "markdown",
      "metadata": {
        "id": "LxWzVndBVJJ1"
      },
      "source": [
        "## Downloading the Dataset\n",
        "\n",
        " \n",
        "\n",
        "*   This dataset contains all traffic sample volume counts at bridge crossings and roadways.\n",
        "*   However, these counts do not cover the entire year, and the number of days counted per location may vary from year to year.\n",
        "*   There are 27.2M samples and 14 feature variables in this dataset.\n",
        "*   The size of dataset is 3.33GB."
      ]
    },
    {
      "cell_type": "markdown",
      "metadata": {
        "id": "oHRcyidmVJJ1"
      },
      "source": [
        "Columns in this dataset:\n",
        "\n",
        "|Column Name |\tDescription |\tType |\n",
        "|---|---|---|\n",
        "|**RequestID**|An unique ID that is generated for each counts request.|\tNumber |\n",
        "|**Boro**|Lists which of the five administrative divisions of New York City the location is within, written as a word|Plain Text|\n",
        "|**Yr**|The two digit year portion of the date when the count was conducted.|\tNumber|\n",
        "|**M**|The two digit month portion of the date when the count was conducted.|\tNumber|\n",
        "|**D**|The two digit day portion of the date when the count was conducted.|\tNumber|\n",
        "|**HH**|The two digit hour portion of the time when the count was conducted.|\tNumber|\n",
        "|**MM**|The two digit start minute portion of the time when the count was conducted.|Number|\n",
        "|**Vol**|The total sum of count collected within a 15 minute increments.|Number|\n",
        "|**SegmentID**|The ID that identifies each segment of a street in the LION street network version 14.|Number|\n",
        "|**WktGeom**|A text markup language for representing vector geometry objects on a map and spatial reference systems of spatial objects.|Plain Text|\n",
        "|**street**|The 'On Street' where the count took place.|Plain Text|\n",
        "|**fromSt**|The 'From Street' where the count took place.|Plain Text|\n",
        "|**toSt**|The 'To Street' where the count took place.|Plain Text|\n",
        "|**Direction**|The text-based direction of traffic where the count took place.|\tPlain Text|\n"
      ]
    },
    {
      "cell_type": "markdown",
      "metadata": {
        "id": "5DqkZ91_R2CC"
      },
      "source": [
        "**Step 1**\n",
        "\n",
        "Download the dataset from [Kaggle](https://www.kaggle.com/datasets/aadimator/nyc-automated-traffic-volume-counts), which is in a zip file format. Extract the file and check the content."
      ]
    },
    {
      "cell_type": "markdown",
      "metadata": {
        "id": "edJ7yobfSqjg"
      },
      "source": [
        "**Step 2**\n",
        "\n",
        "Upload the dataset to Google Drive and share the link for access."
      ]
    },
    {
      "cell_type": "markdown",
      "metadata": {
        "id": "f_BO1NIjSsow"
      },
      "source": [ 
        "**Step 3**\n",
        "\n",
        "Create a link to the dataset on Google Drive and retrieve the dataset for use."
      ]
    },
    {
      "cell_type": "code",
      "execution_count": null,
      "metadata": {
        "id": "_s6ZSPWYVJJ2"
      },
      "outputs": [],
      "source": [
        "# Pull dataset from my google drive\n",
        "!pip install -U -q PyDrive\n",
        "from pydrive.auth import GoogleAuth\n",
        "from pydrive.drive import GoogleDrive\n",
        "from google.colab import auth\n",
        "from oauth2client.client import GoogleCredentials\n",
        "\n",
        "# Authenticate and create the PyDrive client.\n",
        "auth.authenticate_user()\n",
        "gauth = GoogleAuth()\n",
        "gauth.credentials = GoogleCredentials.get_application_default()\n",
        "drive = GoogleDrive(gauth)\n",
        "link = 'https://drive.google.com/file/d/19ZF66bqoiVy2vtLhKgtvc3yyisUq6Fw7/view?usp=share_link'\n",
        "\n",
        "# to get the id part of the file\n",
        "id = link.split(\"/\")[-2]\n",
        " \n",
        "downloaded = drive.CreateFile({'id':id})\n",
        "downloaded.GetContentFile('Automated_Traffic_Volume_Counts.csv') "
      ]
    },
    {
      "cell_type": "markdown",
      "metadata": {
        "id": "u0vucnGFVJJ5"
      },
      "source": [
        "## Data Preparation and Cleaning\n",
        "\n",
        "Data preparation involves cleaning and transforming the data to ensure quality results in the analysis. This includes removing missing, duplicate or outlier data. It is a crucial step in managing large data sets before proceeding to analysis.\n"
      ]
    },
    {
      "cell_type": "markdown",
      "metadata": {
        "id": "gBzC1JheVJJ5"
      },
      "source": [
        "**Import Data**"
      ]
    },
    {
      "cell_type": "markdown",
      "metadata": {
        "id": "9xi6RaZCUh_h"
      },
      "source": [
        "**1. Koalas**"
      ]
    },
    {
      "cell_type": "code",
      "execution_count": null,
      "metadata": {
        "colab": {
          "base_uri": "https://localhost:8080/"
        },
        "id": "7EAuLykQVwtH",
        "outputId": "9e56116f-34c2-48d1-8551-2994c4990e19"
      },
      "outputs": [
        {
          "output_type": "stream",
          "name": "stdout",
          "text": [
            "Looking in indexes: https://pypi.org/simple, https://us-python.pkg.dev/colab-wheels/public/simple/\n",
            "Collecting koalas\n",
            "  Downloading koalas-1.8.2-py3-none-any.whl (390 kB)\n",
            "\u001b[2K     \u001b[90m━━━━━━━━━━━━━━━━━━━━━━━━━━━━━━━━━━━━━━\u001b[0m \u001b[32m390.8/390.8 KB\u001b[0m \u001b[31m15.5 MB/s\u001b[0m eta \u001b[36m0:00:00\u001b[0m\n",
            "\u001b[?25hRequirement already satisfied: pyarrow>=0.10 in /usr/local/lib/python3.8/dist-packages (from koalas) (9.0.0)\n",
            "Requirement already satisfied: pandas>=0.23.2 in /usr/local/lib/python3.8/dist-packages (from koalas) (1.3.5)\n",
            "Requirement already satisfied: numpy>=1.14 in /usr/local/lib/python3.8/dist-packages (from koalas) (1.21.6)\n",
            "Requirement already satisfied: pytz>=2017.3 in /usr/local/lib/python3.8/dist-packages (from pandas>=0.23.2->koalas) (2022.7)\n",
            "Requirement already satisfied: python-dateutil>=2.7.3 in /usr/local/lib/python3.8/dist-packages (from pandas>=0.23.2->koalas) (2.8.2)\n",
            "Requirement already satisfied: six>=1.5 in /usr/local/lib/python3.8/dist-packages (from python-dateutil>=2.7.3->pandas>=0.23.2->koalas) (1.15.0)\n",
            "Installing collected packages: koalas\n",
            "Successfully installed koalas-1.8.2\n",
            "Looking in indexes: https://pypi.org/simple, https://us-python.pkg.dev/colab-wheels/public/simple/\n",
            "Collecting pyspark\n",
            "  Downloading pyspark-3.3.1.tar.gz (281.4 MB)\n",
            "\u001b[2K     \u001b[90m━━━━━━━━━━━━━━━━━━━━━━━━━━━━━━━━━━━━━━━\u001b[0m \u001b[32m281.4/281.4 MB\u001b[0m \u001b[31m5.3 MB/s\u001b[0m eta \u001b[36m0:00:00\u001b[0m\n",
            "\u001b[?25h  Preparing metadata (setup.py) ... \u001b[?25l\u001b[?25hdone\n",
            "Collecting py4j==0.10.9.5\n",
            "  Downloading py4j-0.10.9.5-py2.py3-none-any.whl (199 kB)\n",
            "\u001b[2K     \u001b[90m━━━━━━━━━━━━━━━━━━━━━━━━━━━━━━━━━━━━━━\u001b[0m \u001b[32m199.7/199.7 KB\u001b[0m \u001b[31m20.8 MB/s\u001b[0m eta \u001b[36m0:00:00\u001b[0m\n",
            "\u001b[?25hBuilding wheels for collected packages: pyspark\n",
            "  Building wheel for pyspark (setup.py) ... \u001b[?25l\u001b[?25hdone\n",
            "  Created wheel for pyspark: filename=pyspark-3.3.1-py2.py3-none-any.whl size=281845512 sha256=1917163acba8b9aa4be5c76f6ecf1ac0b311e1c402f00f870663469cd9f13442\n",
            "  Stored in directory: /root/.cache/pip/wheels/43/dc/11/ec201cd671da62fa9c5cc77078235e40722170ceba231d7598\n",
            "Successfully built pyspark\n",
            "Installing collected packages: py4j, pyspark\n",
            "Successfully installed py4j-0.10.9.5 pyspark-3.3.1\n"
          ]
        }
      ],
      "source": [
        "!pip install koalas\n",
        "!pip install pyspark"
      ]
    },
    {
      "cell_type": "code",
      "execution_count": null,
      "metadata": {
        "colab": {
          "base_uri": "https://localhost:8080/"
        },
        "id": "df5R-2s3VJJ5",
        "outputId": "63994a47-518c-4d8e-d064-25573aee8b08"
      },
      "outputs": [
        {
          "output_type": "stream",
          "name": "stderr",
          "text": [
            "WARNING:root:Found pyspark version \"3.3.1\" installed. The pyspark version 3.2 and above has a built-in \"pandas APIs on Spark\" module ported from Koalas. Try `import pyspark.pandas as ps` instead. \n",
            "WARNING:root:'PYARROW_IGNORE_TIMEZONE' environment variable was not set. It is required to set this environment variable to '1' in both driver and executor sides if you use pyarrow>=2.0.0. Koalas will set it for you but it does not work if there is a Spark context already launched.\n"
          ]
        }
      ],
      "source": [
        "import databricks.koalas as ks"
      ]
    },
    {
      "cell_type": "code",
      "execution_count": null,
      "metadata": {
        "colab": {
          "base_uri": "https://localhost:8080/",
          "height": 241
        },
        "id": "KribcC_XVJJ5",
        "outputId": "a2aca405-c92f-4017-f31d-607e9382a5c5"
      },
      "outputs": [
        {
          "output_type": "stream",
          "name": "stdout",
          "text": [
            "CPU times: user 591 ms, sys: 114 ms, total: 705 ms\n",
            "Wall time: 1min 31s\n"
          ]
        },
        {
          "output_type": "execute_result",
          "data": {
            "text/plain": [
              "   RequestID           Boro    Yr   M   D  HH  MM  Vol  SegmentID                                        WktGeom              street                  fromSt                     toSt Direction\n",
              "0      20856         Queens  2015   6  23  23  30    9     171896   POINT (1052296.600156678 199785.26932711253)           94 AVENUE              207 Street  Francis Lewis Boulevard        WB\n",
              "1      21231  Staten Island  2015   9  14   4  15    6       9896      POINT (942668.0589509147 171441.21296926)    RICHMOND TERRACE           Wright Avenue             Emeric Court        WB\n",
              "2      29279          Bronx  2017  10  19   4  30   85      77817  POINT (1016508.0034050211 235221.59092266942)  HUNTS POINT AVENUE         Whittier Street           Randall Avenue        NB\n",
              "3      27019       Brooklyn  2017  11   7  18  30  168     188023   POINT (992925.4316054962 184116.82855457635)     FLATBUSH AVENUE           Brighton Line            Brighton Line        NB\n",
              "4      26734      Manhattan  2017  11   3  22   0  355     137516  POINT (1004175.9505178436 247779.63624949602)   WASHINGTON BRIDGE  Harlem River Shoreline   Harlem River Shoreline        EB"
            ],
            "text/html": [
              "<div>\n",
              "<style scoped>\n",
              "    .dataframe tbody tr th:only-of-type {\n",
              "        vertical-align: middle;\n",
              "    }\n",
              "\n",
              "    .dataframe tbody tr th {\n",
              "        vertical-align: top;\n",
              "    }\n",
              "\n",
              "    .dataframe thead th {\n",
              "        text-align: right;\n",
              "    }\n",
              "</style>\n",
              "<table border=\"1\" class=\"dataframe\">\n",
              "  <thead>\n",
              "    <tr style=\"text-align: right;\">\n",
              "      <th></th>\n",
              "      <th>RequestID</th>\n",
              "      <th>Boro</th>\n",
              "      <th>Yr</th>\n",
              "      <th>M</th>\n",
              "      <th>D</th>\n",
              "      <th>HH</th>\n",
              "      <th>MM</th>\n",
              "      <th>Vol</th>\n",
              "      <th>SegmentID</th>\n",
              "      <th>WktGeom</th>\n",
              "      <th>street</th>\n",
              "      <th>fromSt</th>\n",
              "      <th>toSt</th>\n",
              "      <th>Direction</th>\n",
              "    </tr>\n",
              "  </thead>\n",
              "  <tbody>\n",
              "    <tr>\n",
              "      <th>0</th>\n",
              "      <td>20856</td>\n",
              "      <td>Queens</td>\n",
              "      <td>2015</td>\n",
              "      <td>6</td>\n",
              "      <td>23</td>\n",
              "      <td>23</td>\n",
              "      <td>30</td>\n",
              "      <td>9</td>\n",
              "      <td>171896</td>\n",
              "      <td>POINT (1052296.600156678 199785.26932711253)</td>\n",
              "      <td>94 AVENUE</td>\n",
              "      <td>207 Street</td>\n",
              "      <td>Francis Lewis Boulevard</td>\n",
              "      <td>WB</td>\n",
              "    </tr>\n",
              "    <tr>\n",
              "      <th>1</th>\n",
              "      <td>21231</td>\n",
              "      <td>Staten Island</td>\n",
              "      <td>2015</td>\n",
              "      <td>9</td>\n",
              "      <td>14</td>\n",
              "      <td>4</td>\n",
              "      <td>15</td>\n",
              "      <td>6</td>\n",
              "      <td>9896</td>\n",
              "      <td>POINT (942668.0589509147 171441.21296926)</td>\n",
              "      <td>RICHMOND TERRACE</td>\n",
              "      <td>Wright Avenue</td>\n",
              "      <td>Emeric Court</td>\n",
              "      <td>WB</td>\n",
              "    </tr>\n",
              "    <tr>\n",
              "      <th>2</th>\n",
              "      <td>29279</td>\n",
              "      <td>Bronx</td>\n",
              "      <td>2017</td>\n",
              "      <td>10</td>\n",
              "      <td>19</td>\n",
              "      <td>4</td>\n",
              "      <td>30</td>\n",
              "      <td>85</td>\n",
              "      <td>77817</td>\n",
              "      <td>POINT (1016508.0034050211 235221.59092266942)</td>\n",
              "      <td>HUNTS POINT AVENUE</td>\n",
              "      <td>Whittier Street</td>\n",
              "      <td>Randall Avenue</td>\n",
              "      <td>NB</td>\n",
              "    </tr>\n",
              "    <tr>\n",
              "      <th>3</th>\n",
              "      <td>27019</td>\n",
              "      <td>Brooklyn</td>\n",
              "      <td>2017</td>\n",
              "      <td>11</td>\n",
              "      <td>7</td>\n",
              "      <td>18</td>\n",
              "      <td>30</td>\n",
              "      <td>168</td>\n",
              "      <td>188023</td>\n",
              "      <td>POINT (992925.4316054962 184116.82855457635)</td>\n",
              "      <td>FLATBUSH AVENUE</td>\n",
              "      <td>Brighton Line</td>\n",
              "      <td>Brighton Line</td>\n",
              "      <td>NB</td>\n",
              "    </tr>\n",
              "    <tr>\n",
              "      <th>4</th>\n",
              "      <td>26734</td>\n",
              "      <td>Manhattan</td>\n",
              "      <td>2017</td>\n",
              "      <td>11</td>\n",
              "      <td>3</td>\n",
              "      <td>22</td>\n",
              "      <td>0</td>\n",
              "      <td>355</td>\n",
              "      <td>137516</td>\n",
              "      <td>POINT (1004175.9505178436 247779.63624949602)</td>\n",
              "      <td>WASHINGTON BRIDGE</td>\n",
              "      <td>Harlem River Shoreline</td>\n",
              "      <td>Harlem River Shoreline</td>\n",
              "      <td>EB</td>\n",
              "    </tr>\n",
              "  </tbody>\n",
              "</table>\n",
              "</div>"
            ]
          },
          "metadata": {},
          "execution_count": 4
        }
      ],
      "source": [
        "%%time\n",
        "kdf = ks.read_csv('Automated_Traffic_Volume_Counts.csv')\n",
        "kdf.head()"
      ]
    },
    {
      "cell_type": "markdown",
      "metadata": {
        "id": "UaE6khaHUrea"
      },
      "source": [
        "**2. PySpark**"
      ]
    },
    {
      "cell_type": "code",
      "execution_count": null,
      "metadata": {
        "colab": {
          "base_uri": "https://localhost:8080/"
        },
        "id": "hce_sJWBIwhX",
        "outputId": "a1fa4e20-a50d-4356-d844-5b21419db7a9"
      },
      "outputs": [
        {
          "output_type": "stream",
          "name": "stdout",
          "text": [
            "Looking in indexes: https://pypi.org/simple, https://us-python.pkg.dev/colab-wheels/public/simple/\n",
            "Requirement already satisfied: pyspark in /usr/local/lib/python3.8/dist-packages (3.3.1)\n",
            "Requirement already satisfied: py4j==0.10.9.5 in /usr/local/lib/python3.8/dist-packages (from pyspark) (0.10.9.5)\n"
          ]
        }
      ],
      "source": [
        "!pip install pyspark"
      ]
    },
    {
      "cell_type": "code",
      "execution_count": null,
      "metadata": {
        "id": "zfEO9zsX5bNK"
      },
      "outputs": [],
      "source": [
        "from pyspark.sql import SparkSession\n",
        "import pyspark.sql.functions as func\n",
        "spark = SparkSession.builder.getOrCreate()"
      ]
    },
    {
      "cell_type": "code",
      "execution_count": null,
      "metadata": {
        "colab": {
          "base_uri": "https://localhost:8080/"
        },
        "id": "cfcSY6YSVJJ6",
        "outputId": "8aae6a9b-8274-4705-bdb0-a654937b10af"
      },
      "outputs": [
        {
          "output_type": "stream",
          "name": "stdout",
          "text": [
            "+---------+-------------+----+---+---+---+---+---+---------+--------------------+------------------+--------------------+--------------------+---------+\n",
            "|RequestID|         Boro|  Yr|  M|  D| HH| MM|Vol|SegmentID|             WktGeom|            street|              fromSt|                toSt|Direction|\n",
            "+---------+-------------+----+---+---+---+---+---+---------+--------------------+------------------+--------------------+--------------------+---------+\n",
            "|    20856|       Queens|2015|  6| 23| 23| 30|  9|   171896|POINT (1052296.60...|         94 AVENUE|          207 Street|Francis Lewis Bou...|       WB|\n",
            "|    21231|Staten Island|2015|  9| 14|  4| 15|  6|     9896|POINT (942668.058...|  RICHMOND TERRACE|       Wright Avenue|        Emeric Court|       WB|\n",
            "|    29279|        Bronx|2017| 10| 19|  4| 30| 85|    77817|POINT (1016508.00...|HUNTS POINT AVENUE|     Whittier Street|      Randall Avenue|       NB|\n",
            "|    27019|     Brooklyn|2017| 11|  7| 18| 30|168|   188023|POINT (992925.431...|   FLATBUSH AVENUE|       Brighton Line|       Brighton Line|       NB|\n",
            "|    26734|    Manhattan|2017| 11|  3| 22|  0|355|   137516|POINT (1004175.95...| WASHINGTON BRIDGE|Harlem River Shor...|Harlem River Shor...|       EB|\n",
            "+---------+-------------+----+---+---+---+---+---+---------+--------------------+------------------+--------------------+--------------------+---------+\n",
            "only showing top 5 rows\n",
            "\n",
            "CPU times: user 2.56 ms, sys: 2.25 ms, total: 4.81 ms\n",
            "Wall time: 645 ms\n"
          ]
        }
      ],
      "source": [
        "%%time\n",
        "s_df = spark.read.csv('Automated_Traffic_Volume_Counts.csv', header=True)\n",
        "s_df.show(5)"
      ]
    },
    {
      "cell_type": "markdown",
      "metadata": {
        "id": "5m3_v_UjUvMY"
      },
      "source": [
        "**3. Dask**"
      ]
    },
    {
      "cell_type": "code",
      "execution_count": null,
      "metadata": {
        "colab": {
          "base_uri": "https://localhost:8080/"
        },
        "id": "HsDyuPIgVJJ6",
        "outputId": "559acbb1-7319-4ad7-fe76-978abd5559f4"
      },
      "outputs": [
        {
          "output_type": "stream",
          "name": "stdout",
          "text": [
            "Looking in indexes: https://pypi.org/simple, https://us-python.pkg.dev/colab-wheels/public/simple/\n",
            "Requirement already satisfied: dask in /usr/local/lib/python3.8/dist-packages (2022.2.1)\n",
            "Requirement already satisfied: fsspec>=0.6.0 in /usr/local/lib/python3.8/dist-packages (from dask) (2022.11.0)\n",
            "Requirement already satisfied: partd>=0.3.10 in /usr/local/lib/python3.8/dist-packages (from dask) (1.3.0)\n",
            "Requirement already satisfied: cloudpickle>=1.1.1 in /usr/local/lib/python3.8/dist-packages (from dask) (2.2.0)\n",
            "Requirement already satisfied: packaging>=20.0 in /usr/local/lib/python3.8/dist-packages (from dask) (21.3)\n",
            "Requirement already satisfied: toolz>=0.8.2 in /usr/local/lib/python3.8/dist-packages (from dask) (0.12.0)\n",
            "Requirement already satisfied: pyyaml>=5.3.1 in /usr/local/lib/python3.8/dist-packages (from dask) (6.0)\n",
            "Requirement already satisfied: pyparsing!=3.0.5,>=2.0.2 in /usr/local/lib/python3.8/dist-packages (from packaging>=20.0->dask) (3.0.9)\n",
            "Requirement already satisfied: locket in /usr/local/lib/python3.8/dist-packages (from partd>=0.3.10->dask) (1.0.0)\n"
          ]
        }
      ],
      "source": [
        "!pip install dask"
      ]
    },
    {
      "cell_type": "code",
      "execution_count": null,
      "metadata": {
        "id": "1Et9QhCbVJJ6"
      },
      "outputs": [],
      "source": [
        "import dask.dataframe as dd"
      ]
    },
    {
      "cell_type": "code",
      "execution_count": null,
      "metadata": {
        "colab": {
          "base_uri": "https://localhost:8080/",
          "height": 285
        },
        "id": "yBxDax1KVJJ6",
        "outputId": "5e967b2d-c375-4bf4-e3b9-9af417f42592"
      },
      "outputs": [
        {
          "output_type": "stream",
          "name": "stdout",
          "text": [
            "CPU times: user 878 ms, sys: 78 ms, total: 956 ms\n",
            "Wall time: 1.28 s\n"
          ]
        },
        {
          "output_type": "execute_result",
          "data": {
            "text/plain": [
              "   RequestID           Boro    Yr   M   D  HH  MM  Vol  SegmentID  \\\n",
              "0      20856         Queens  2015   6  23  23  30    9     171896   \n",
              "1      21231  Staten Island  2015   9  14   4  15    6       9896   \n",
              "2      29279          Bronx  2017  10  19   4  30   85      77817   \n",
              "3      27019       Brooklyn  2017  11   7  18  30  168     188023   \n",
              "4      26734      Manhattan  2017  11   3  22   0  355     137516   \n",
              "\n",
              "                                         WktGeom              street  \\\n",
              "0   POINT (1052296.600156678 199785.26932711253)           94 AVENUE   \n",
              "1      POINT (942668.0589509147 171441.21296926)    RICHMOND TERRACE   \n",
              "2  POINT (1016508.0034050211 235221.59092266942)  HUNTS POINT AVENUE   \n",
              "3   POINT (992925.4316054962 184116.82855457635)     FLATBUSH AVENUE   \n",
              "4  POINT (1004175.9505178436 247779.63624949602)   WASHINGTON BRIDGE   \n",
              "\n",
              "                   fromSt                     toSt Direction  \n",
              "0              207 Street  Francis Lewis Boulevard        WB  \n",
              "1           Wright Avenue             Emeric Court        WB  \n",
              "2         Whittier Street           Randall Avenue        NB  \n",
              "3           Brighton Line            Brighton Line        NB  \n",
              "4  Harlem River Shoreline   Harlem River Shoreline        EB  "
            ],
            "text/html": [
              "\n",
              "  <div id=\"df-7d1620a6-8766-45b5-ba95-9388a15964df\">\n",
              "    <div class=\"colab-df-container\">\n",
              "      <div>\n",
              "<style scoped>\n",
              "    .dataframe tbody tr th:only-of-type {\n",
              "        vertical-align: middle;\n",
              "    }\n",
              "\n",
              "    .dataframe tbody tr th {\n",
              "        vertical-align: top;\n",
              "    }\n",
              "\n",
              "    .dataframe thead th {\n",
              "        text-align: right;\n",
              "    }\n",
              "</style>\n",
              "<table border=\"1\" class=\"dataframe\">\n",
              "  <thead>\n",
              "    <tr style=\"text-align: right;\">\n",
              "      <th></th>\n",
              "      <th>RequestID</th>\n",
              "      <th>Boro</th>\n",
              "      <th>Yr</th>\n",
              "      <th>M</th>\n",
              "      <th>D</th>\n",
              "      <th>HH</th>\n",
              "      <th>MM</th>\n",
              "      <th>Vol</th>\n",
              "      <th>SegmentID</th>\n",
              "      <th>WktGeom</th>\n",
              "      <th>street</th>\n",
              "      <th>fromSt</th>\n",
              "      <th>toSt</th>\n",
              "      <th>Direction</th>\n",
              "    </tr>\n",
              "  </thead>\n",
              "  <tbody>\n",
              "    <tr>\n",
              "      <th>0</th>\n",
              "      <td>20856</td>\n",
              "      <td>Queens</td>\n",
              "      <td>2015</td>\n",
              "      <td>6</td>\n",
              "      <td>23</td>\n",
              "      <td>23</td>\n",
              "      <td>30</td>\n",
              "      <td>9</td>\n",
              "      <td>171896</td>\n",
              "      <td>POINT (1052296.600156678 199785.26932711253)</td>\n",
              "      <td>94 AVENUE</td>\n",
              "      <td>207 Street</td>\n",
              "      <td>Francis Lewis Boulevard</td>\n",
              "      <td>WB</td>\n",
              "    </tr>\n",
              "    <tr>\n",
              "      <th>1</th>\n",
              "      <td>21231</td>\n",
              "      <td>Staten Island</td>\n",
              "      <td>2015</td>\n",
              "      <td>9</td>\n",
              "      <td>14</td>\n",
              "      <td>4</td>\n",
              "      <td>15</td>\n",
              "      <td>6</td>\n",
              "      <td>9896</td>\n",
              "      <td>POINT (942668.0589509147 171441.21296926)</td>\n",
              "      <td>RICHMOND TERRACE</td>\n",
              "      <td>Wright Avenue</td>\n",
              "      <td>Emeric Court</td>\n",
              "      <td>WB</td>\n",
              "    </tr>\n",
              "    <tr>\n",
              "      <th>2</th>\n",
              "      <td>29279</td>\n",
              "      <td>Bronx</td>\n",
              "      <td>2017</td>\n",
              "      <td>10</td>\n",
              "      <td>19</td>\n",
              "      <td>4</td>\n",
              "      <td>30</td>\n",
              "      <td>85</td>\n",
              "      <td>77817</td>\n",
              "      <td>POINT (1016508.0034050211 235221.59092266942)</td>\n",
              "      <td>HUNTS POINT AVENUE</td>\n",
              "      <td>Whittier Street</td>\n",
              "      <td>Randall Avenue</td>\n",
              "      <td>NB</td>\n",
              "    </tr>\n",
              "    <tr>\n",
              "      <th>3</th>\n",
              "      <td>27019</td>\n",
              "      <td>Brooklyn</td>\n",
              "      <td>2017</td>\n",
              "      <td>11</td>\n",
              "      <td>7</td>\n",
              "      <td>18</td>\n",
              "      <td>30</td>\n",
              "      <td>168</td>\n",
              "      <td>188023</td>\n",
              "      <td>POINT (992925.4316054962 184116.82855457635)</td>\n",
              "      <td>FLATBUSH AVENUE</td>\n",
              "      <td>Brighton Line</td>\n",
              "      <td>Brighton Line</td>\n",
              "      <td>NB</td>\n",
              "    </tr>\n",
              "    <tr>\n",
              "      <th>4</th>\n",
              "      <td>26734</td>\n",
              "      <td>Manhattan</td>\n",
              "      <td>2017</td>\n",
              "      <td>11</td>\n",
              "      <td>3</td>\n",
              "      <td>22</td>\n",
              "      <td>0</td>\n",
              "      <td>355</td>\n",
              "      <td>137516</td>\n",
              "      <td>POINT (1004175.9505178436 247779.63624949602)</td>\n",
              "      <td>WASHINGTON BRIDGE</td>\n",
              "      <td>Harlem River Shoreline</td>\n",
              "      <td>Harlem River Shoreline</td>\n",
              "      <td>EB</td>\n",
              "    </tr>\n",
              "  </tbody>\n",
              "</table>\n",
              "</div>\n",
              "      <button class=\"colab-df-convert\" onclick=\"convertToInteractive('df-7d1620a6-8766-45b5-ba95-9388a15964df')\"\n",
              "              title=\"Convert this dataframe to an interactive table.\"\n",
              "              style=\"display:none;\">\n",
              "        \n",
              "  <svg xmlns=\"http://www.w3.org/2000/svg\" height=\"24px\"viewBox=\"0 0 24 24\"\n",
              "       width=\"24px\">\n",
              "    <path d=\"M0 0h24v24H0V0z\" fill=\"none\"/>\n",
              "    <path d=\"M18.56 5.44l.94 2.06.94-2.06 2.06-.94-2.06-.94-.94-2.06-.94 2.06-2.06.94zm-11 1L8.5 8.5l.94-2.06 2.06-.94-2.06-.94L8.5 2.5l-.94 2.06-2.06.94zm10 10l.94 2.06.94-2.06 2.06-.94-2.06-.94-.94-2.06-.94 2.06-2.06.94z\"/><path d=\"M17.41 7.96l-1.37-1.37c-.4-.4-.92-.59-1.43-.59-.52 0-1.04.2-1.43.59L10.3 9.45l-7.72 7.72c-.78.78-.78 2.05 0 2.83L4 21.41c.39.39.9.59 1.41.59.51 0 1.02-.2 1.41-.59l7.78-7.78 2.81-2.81c.8-.78.8-2.07 0-2.86zM5.41 20L4 18.59l7.72-7.72 1.47 1.35L5.41 20z\"/>\n",
              "  </svg>\n",
              "      </button>\n",
              "      \n",
              "  <style>\n",
              "    .colab-df-container {\n",
              "      display:flex;\n",
              "      flex-wrap:wrap;\n",
              "      gap: 12px;\n",
              "    }\n",
              "\n",
              "    .colab-df-convert {\n",
              "      background-color: #E8F0FE;\n",
              "      border: none;\n",
              "      border-radius: 50%;\n",
              "      cursor: pointer;\n",
              "      display: none;\n",
              "      fill: #1967D2;\n",
              "      height: 32px;\n",
              "      padding: 0 0 0 0;\n",
              "      width: 32px;\n",
              "    }\n",
              "\n",
              "    .colab-df-convert:hover {\n",
              "      background-color: #E2EBFA;\n",
              "      box-shadow: 0px 1px 2px rgba(60, 64, 67, 0.3), 0px 1px 3px 1px rgba(60, 64, 67, 0.15);\n",
              "      fill: #174EA6;\n",
              "    }\n",
              "\n",
              "    [theme=dark] .colab-df-convert {\n",
              "      background-color: #3B4455;\n",
              "      fill: #D2E3FC;\n",
              "    }\n",
              "\n",
              "    [theme=dark] .colab-df-convert:hover {\n",
              "      background-color: #434B5C;\n",
              "      box-shadow: 0px 1px 3px 1px rgba(0, 0, 0, 0.15);\n",
              "      filter: drop-shadow(0px 1px 2px rgba(0, 0, 0, 0.3));\n",
              "      fill: #FFFFFF;\n",
              "    }\n",
              "  </style>\n",
              "\n",
              "      <script>\n",
              "        const buttonEl =\n",
              "          document.querySelector('#df-7d1620a6-8766-45b5-ba95-9388a15964df button.colab-df-convert');\n",
              "        buttonEl.style.display =\n",
              "          google.colab.kernel.accessAllowed ? 'block' : 'none';\n",
              "\n",
              "        async function convertToInteractive(key) {\n",
              "          const element = document.querySelector('#df-7d1620a6-8766-45b5-ba95-9388a15964df');\n",
              "          const dataTable =\n",
              "            await google.colab.kernel.invokeFunction('convertToInteractive',\n",
              "                                                     [key], {});\n",
              "          if (!dataTable) return;\n",
              "\n",
              "          const docLinkHtml = 'Like what you see? Visit the ' +\n",
              "            '<a target=\"_blank\" href=https://colab.research.google.com/notebooks/data_table.ipynb>data table notebook</a>'\n",
              "            + ' to learn more about interactive tables.';\n",
              "          element.innerHTML = '';\n",
              "          dataTable['output_type'] = 'display_data';\n",
              "          await google.colab.output.renderOutput(dataTable, element);\n",
              "          const docLink = document.createElement('div');\n",
              "          docLink.innerHTML = docLinkHtml;\n",
              "          element.appendChild(docLink);\n",
              "        }\n",
              "      </script>\n",
              "    </div>\n",
              "  </div>\n",
              "  "
            ]
          },
          "metadata": {},
          "execution_count": 10
        }
      ],
      "source": [
        "%%time\n",
        "ddf = dd.read_csv('Automated_Traffic_Volume_Counts.csv')\n",
        "ddf.head()"
      ]
    },
    {
      "cell_type": "markdown",
      "metadata": {
        "id": "l69f5KxWu5C4"
      },
      "source": [
        "**Remove null values**\n",
        "\n",
        "We will remove the null values to avoid it affect the perfomance and accuracy."
      ]
    },
    {
      "cell_type": "markdown",
      "metadata": {
        "id": "62doTfz2I9Cf"
      },
      "source": [
        "**1. Koalas**"
      ]
    },
    {
      "cell_type": "code",
      "execution_count": null,
      "metadata": {
        "colab": {
          "base_uri": "https://localhost:8080/"
        },
        "id": "VBqPOf9dwolI",
        "outputId": "87836a66-2dca-431f-80b4-0239e4841f43"
      },
      "outputs": [
        {
          "output_type": "execute_result",
          "data": {
            "text/plain": [
              "RequestID       0\n",
              "Boro            0\n",
              "Yr              0\n",
              "M               0\n",
              "D               0\n",
              "HH              0\n",
              "MM              0\n",
              "Vol             0\n",
              "SegmentID       0\n",
              "WktGeom         0\n",
              "street          0\n",
              "fromSt          0\n",
              "toSt         2002\n",
              "Direction       0\n",
              "dtype: int64"
            ]
          },
          "metadata": {},
          "execution_count": 6
        }
      ],
      "source": [
        "kdf.isnull().sum()"
      ]
    },
    {
      "cell_type": "code",
      "execution_count": null,
      "metadata": {
        "colab": {
          "base_uri": "https://localhost:8080/"
        },
        "id": "kTjOyLlSQfxG",
        "outputId": "fc13bff3-f07e-4ed5-c4b8-b0fca81057c7"
      },
      "outputs": [
        {
          "output_type": "stream",
          "name": "stdout",
          "text": [
            "CPU times: user 185 ms, sys: 20.1 ms, total: 205 ms\n",
            "Wall time: 933 ms\n"
          ]
        }
      ],
      "source": [
        "%%time\n",
        "kdf = kdf.dropna()"
      ]
    },
    {
      "cell_type": "code",
      "execution_count": null,
      "metadata": {
        "colab": {
          "base_uri": "https://localhost:8080/"
        },
        "id": "Ys4qJaGuQigj",
        "outputId": "01a5bbd7-af5d-4bc6-def6-e8979695dacf"
      },
      "outputs": [
        {
          "output_type": "execute_result",
          "data": {
            "text/plain": [
              "RequestID    0\n",
              "Boro         0\n",
              "Yr           0\n",
              "M            0\n",
              "D            0\n",
              "HH           0\n",
              "MM           0\n",
              "Vol          0\n",
              "SegmentID    0\n",
              "WktGeom      0\n",
              "street       0\n",
              "fromSt       0\n",
              "toSt         0\n",
              "Direction    0\n",
              "dtype: int64"
            ]
          },
          "metadata": {},
          "execution_count": 8
        }
      ],
      "source": [
        "kdf.isnull().sum()"
      ]
    },
    {
      "cell_type": "markdown",
      "metadata": {
        "id": "VAxfMmKAwo74"
      },
      "source": [
        "**2. PySpark**"
      ]
    },
    {
      "cell_type": "code",
      "execution_count": null,
      "metadata": {
        "colab": {
          "base_uri": "https://localhost:8080/"
        },
        "id": "O8mifEhFZQc_",
        "outputId": "62c92ff1-56bf-483b-f384-33a441b229b2"
      },
      "outputs": [
        {
          "output_type": "stream",
          "name": "stdout",
          "text": [
            "+---------+----+---+---+---+---+---+---+---------+-------+------+------+----+---------+\n",
            "|RequestID|Boro| Yr|  M|  D| HH| MM|Vol|SegmentID|WktGeom|street|fromSt|toSt|Direction|\n",
            "+---------+----+---+---+---+---+---+---+---------+-------+------+------+----+---------+\n",
            "|        0|   0|  0|  0|  0|  0|  0|  0|        0|      0|     0|     0|2002|        0|\n",
            "+---------+----+---+---+---+---+---+---+---------+-------+------+------+----+---------+\n",
            "\n"
          ]
        }
      ],
      "source": [
        "from pyspark.sql.functions import col,isnan,when,count\n",
        "s_df1 = s_df.select([count(when(col(c).contains('None') | \\\n",
        "                            col(c).contains('NULL') | \\\n",
        "                            (col(c) == '' ) | \\\n",
        "                            col(c).isNull() | \\\n",
        "                            isnan(c), c \n",
        "                           )).alias(c)\n",
        "                    for c in s_df.columns])\n",
        "s_df1.show()"
      ]
    },
    {
      "cell_type": "code",
      "execution_count": null,
      "metadata": {
        "id": "X8NB4G5vKlk2",
        "colab": {
          "base_uri": "https://localhost:8080/"
        },
        "outputId": "a97b1feb-039d-4fb5-ec77-0ceffc39ee45"
      },
      "outputs": [
        {
          "output_type": "stream",
          "name": "stdout",
          "text": [
            "CPU times: user 6.17 ms, sys: 1.45 ms, total: 7.62 ms\n",
            "Wall time: 220 ms\n"
          ]
        }
      ],
      "source": [
        "%%time\n",
        "s_df = s_df.dropna()"
      ]
    },
    {
      "cell_type": "code",
      "execution_count": null,
      "metadata": {
        "id": "6zeMIhXuLB14",
        "colab": {
          "base_uri": "https://localhost:8080/"
        },
        "outputId": "f0c8d970-aa3e-43cc-a601-115160b80e5f"
      },
      "outputs": [
        {
          "output_type": "stream",
          "name": "stdout",
          "text": [
            "+---------+----+---+---+---+---+---+---+---------+-------+------+------+----+---------+\n",
            "|RequestID|Boro| Yr|  M|  D| HH| MM|Vol|SegmentID|WktGeom|street|fromSt|toSt|Direction|\n",
            "+---------+----+---+---+---+---+---+---+---------+-------+------+------+----+---------+\n",
            "|        0|   0|  0|  0|  0|  0|  0|  0|        0|      0|     0|     0|   0|        0|\n",
            "+---------+----+---+---+---+---+---+---+---------+-------+------+------+----+---------+\n",
            "\n"
          ]
        }
      ],
      "source": [
        "from pyspark.sql.functions import col,isnan,when,count\n",
        "s_df1 = s_df.select([count(when(col(c).contains('None') | \\\n",
        "                            col(c).contains('NULL') | \\\n",
        "                            (col(c) == '' ) | \\\n",
        "                            col(c).isNull() | \\\n",
        "                            isnan(c), c \n",
        "                           )).alias(c)\n",
        "                    for c in s_df.columns])\n",
        "s_df1.show()"
      ]
    },
    {
      "cell_type": "markdown",
      "metadata": {
        "id": "FhNTjvv5JIk2"
      },
      "source": [
        "**3. Dask**"
      ]
    },
    {
      "cell_type": "code",
      "execution_count": null,
      "metadata": {
        "id": "xNT_uzgeJLd8"
      },
      "outputs": [],
      "source": [
        "ddf.isnull().sum().compute()"
      ]
    },
    {
      "cell_type": "code",
      "execution_count": null,
      "metadata": {
        "id": "emTjA5iKKqFE"
      },
      "outputs": [],
      "source": [
        "%%time\n",
        "ddf = ddf.dropna(subset=['toSt'])"
      ]
    },
    {
      "cell_type": "code",
      "execution_count": null,
      "metadata": {
        "id": "qCk8pQpBL4re"
      },
      "outputs": [],
      "source": [
        "ddf.isnull().sum().compute()"
      ]
    },
    {
      "cell_type": "markdown",
      "metadata": {
        "id": "OIYfp3h-RMLR"
      },
      "source": [
        "**Drop dupilcated rows**\n",
        "\n",
        "We will remove duplicate data because it may contaminate our result later."
      ]
    },
    {
      "cell_type": "markdown",
      "metadata": {
        "id": "2NMnTEKgRVyR"
      },
      "source": [
        "**1. Koalas**"
      ]
    },
    {
      "cell_type": "code",
      "execution_count": null,
      "metadata": {
        "colab": {
          "base_uri": "https://localhost:8080/"
        },
        "id": "0DepoYnPRUpD",
        "outputId": "feab7efc-082d-4dc3-c0e7-bf213d9ba9b5"
      },
      "outputs": [
        {
          "output_type": "stream",
          "name": "stdout",
          "text": [
            "( 27188509 , 14 )\n"
          ]
        }
      ],
      "source": [
        "print('(',len(kdf),',',len(kdf.columns),')')"
      ]
    },
    {
      "cell_type": "code",
      "execution_count": null,
      "metadata": {
        "colab": {
          "base_uri": "https://localhost:8080/"
        },
        "id": "dNP84XTQZOTc",
        "outputId": "a953dbc1-594c-4cc0-ff35-e9cbb16f5ebc"
      },
      "outputs": [
        {
          "output_type": "stream",
          "name": "stdout",
          "text": [
            "CPU times: user 53.9 ms, sys: 8.14 ms, total: 62 ms\n",
            "Wall time: 571 ms\n"
          ]
        }
      ],
      "source": [
        "%%time\n",
        "kdf = kdf.drop_duplicates()"
      ]
    },
    {
      "cell_type": "code",
      "execution_count": null,
      "metadata": {
        "colab": {
          "base_uri": "https://localhost:8080/"
        },
        "id": "dHaVF5Z4ZZqa",
        "outputId": "afd256bb-202d-43ae-ab3f-5fda12627dd0"
      },
      "outputs": [
        {
          "output_type": "stream",
          "name": "stdout",
          "text": [
            "( 26872239 , 14 )\n"
          ]
        }
      ],
      "source": [
        "print('(',len(kdf),',',len(kdf.columns),')')"
      ]
    },
    {
      "cell_type": "markdown",
      "metadata": {
        "id": "94jFpgCDS063"
      },
      "source": [
        "**2. PySpark**"
      ]
    },
    {
      "cell_type": "code",
      "execution_count": null,
      "metadata": {
        "id": "LTCiU7C9S4DU",
        "colab": {
          "base_uri": "https://localhost:8080/"
        },
        "outputId": "0970cb8f-47ce-4aa0-c879-afacd338df36"
      },
      "outputs": [
        {
          "output_type": "stream",
          "name": "stdout",
          "text": [
            "( 27188509 , 14 )\n"
          ]
        }
      ],
      "source": [
        "print('(',s_df.count(),',',len(s_df.columns),')')"
      ]
    },
    {
      "cell_type": "code",
      "execution_count": null,
      "metadata": {
        "id": "qEUoYN4CkoGP",
        "colab": {
          "base_uri": "https://localhost:8080/"
        },
        "outputId": "bb4e40b8-6af0-414e-f46b-56dc5f1b8323"
      },
      "outputs": [
        {
          "output_type": "stream",
          "name": "stdout",
          "text": [
            "CPU times: user 4.37 ms, sys: 595 µs, total: 4.97 ms\n",
            "Wall time: 35.6 ms\n"
          ]
        }
      ],
      "source": [
        "%%time\n",
        "s_df = s_df.dropDuplicates()"
      ]
    },
    {
      "cell_type": "code",
      "execution_count": null,
      "metadata": {
        "id": "mUkpbRBHkvwV",
        "colab": {
          "base_uri": "https://localhost:8080/"
        },
        "outputId": "75c2e5a4-ffa0-4f02-89e0-c247eee24ed8"
      },
      "outputs": [
        {
          "output_type": "stream",
          "name": "stdout",
          "text": [
            "( 26872239 , 14 )\n"
          ]
        }
      ],
      "source": [
        "print('(',s_df.count(),',',len(s_df.columns),')')"
      ]
    },
    {
      "cell_type": "markdown",
      "metadata": {
        "id": "jHsgVPhGS4fM"
      },
      "source": [
        "**3. Dask**"
      ]
    },
    {
      "cell_type": "code",
      "execution_count": null,
      "metadata": {
        "id": "yIy_zNx-S8VT"
      },
      "outputs": [],
      "source": [
        "print('(',len(ddf),',',len(ddf.columns),')')"
      ]
    },
    {
      "cell_type": "code",
      "execution_count": null,
      "metadata": {
        "id": "oAibpiPeToyk"
      },
      "outputs": [],
      "source": [
        "%%time\n",
        "ddf = ddf.drop_duplicates()"
      ]
    },
    {
      "cell_type": "markdown",
      "metadata": {
        "id": "_0m5LkbVVJJ6"
      },
      "source": [
        "## Exploratory Analysis and Visualization\n",
        "\n",
        "**Yearly Distribution**\n",
        "\n",
        "Let's take a look at the number of distribution of years in the dataset using three different library on pie chart and bar chart.\n",
        "\n"
      ]
    },
    {
      "cell_type": "markdown",
      "metadata": {
        "id": "Fv4NPHasVJJ7"
      },
      "source": [
        "**Koalas** "
      ]
    },
    {
      "cell_type": "code",
      "execution_count": null,
      "metadata": {
        "id": "NKN6RIplVJJ7",
        "colab": {
          "base_uri": "https://localhost:8080/",
          "height": 577
        },
        "outputId": "1bb60c84-560e-410e-d91f-f71e7c725952"
      },
      "outputs": [
        {
          "output_type": "stream",
          "name": "stdout",
          "text": [
            "CPU times: user 3.49 s, sys: 497 ms, total: 3.99 s\n",
            "Wall time: 44.5 s\n"
          ]
        },
        {
          "output_type": "display_data",
          "data": {
            "text/html": [
              "<html>\n",
              "<head><meta charset=\"utf-8\" /></head>\n",
              "<body>\n",
              "    <div>            <script src=\"https://cdnjs.cloudflare.com/ajax/libs/mathjax/2.7.5/MathJax.js?config=TeX-AMS-MML_SVG\"></script><script type=\"text/javascript\">if (window.MathJax) {MathJax.Hub.Config({SVG: {font: \"STIX-Web\"}});}</script>                <script type=\"text/javascript\">window.PlotlyConfig = {MathJaxConfig: 'local'};</script>\n",
              "        <script src=\"https://cdn.plot.ly/plotly-2.8.3.min.js\"></script>                <div id=\"c5c3dce4-a022-48d0-8145-e617e1553ded\" class=\"plotly-graph-div\" style=\"height:525px; width:100%;\"></div>            <script type=\"text/javascript\">                                    window.PLOTLYENV=window.PLOTLYENV || {};                                    if (document.getElementById(\"c5c3dce4-a022-48d0-8145-e617e1553ded\")) {                    Plotly.newPlot(                        \"c5c3dce4-a022-48d0-8145-e617e1553ded\",                        [{\"domain\":{\"x\":[0.0,1.0],\"y\":[0.0,1.0]},\"hovertemplate\":\"index=%{label}<br>Yr=%{value}<extra></extra>\",\"labels\":[2014,2016,2015,2017,2013,2012,2019,2018,2010,2011,2009,2020,2008,2007,2000,2006],\"legendgroup\":\"\",\"name\":\"\",\"showlegend\":true,\"values\":[3708367,3362243,3232005,3013530,2829656,2434583,2365633,2046443,1421397,1238391,1012766,442558,68591,11780,1904,664],\"type\":\"pie\"}],                        {\"template\":{\"data\":{\"bar\":[{\"error_x\":{\"color\":\"#2a3f5f\"},\"error_y\":{\"color\":\"#2a3f5f\"},\"marker\":{\"line\":{\"color\":\"#E5ECF6\",\"width\":0.5},\"pattern\":{\"fillmode\":\"overlay\",\"size\":10,\"solidity\":0.2}},\"type\":\"bar\"}],\"barpolar\":[{\"marker\":{\"line\":{\"color\":\"#E5ECF6\",\"width\":0.5},\"pattern\":{\"fillmode\":\"overlay\",\"size\":10,\"solidity\":0.2}},\"type\":\"barpolar\"}],\"carpet\":[{\"aaxis\":{\"endlinecolor\":\"#2a3f5f\",\"gridcolor\":\"white\",\"linecolor\":\"white\",\"minorgridcolor\":\"white\",\"startlinecolor\":\"#2a3f5f\"},\"baxis\":{\"endlinecolor\":\"#2a3f5f\",\"gridcolor\":\"white\",\"linecolor\":\"white\",\"minorgridcolor\":\"white\",\"startlinecolor\":\"#2a3f5f\"},\"type\":\"carpet\"}],\"choropleth\":[{\"colorbar\":{\"outlinewidth\":0,\"ticks\":\"\"},\"type\":\"choropleth\"}],\"contour\":[{\"colorbar\":{\"outlinewidth\":0,\"ticks\":\"\"},\"colorscale\":[[0.0,\"#0d0887\"],[0.1111111111111111,\"#46039f\"],[0.2222222222222222,\"#7201a8\"],[0.3333333333333333,\"#9c179e\"],[0.4444444444444444,\"#bd3786\"],[0.5555555555555556,\"#d8576b\"],[0.6666666666666666,\"#ed7953\"],[0.7777777777777778,\"#fb9f3a\"],[0.8888888888888888,\"#fdca26\"],[1.0,\"#f0f921\"]],\"type\":\"contour\"}],\"contourcarpet\":[{\"colorbar\":{\"outlinewidth\":0,\"ticks\":\"\"},\"type\":\"contourcarpet\"}],\"heatmap\":[{\"colorbar\":{\"outlinewidth\":0,\"ticks\":\"\"},\"colorscale\":[[0.0,\"#0d0887\"],[0.1111111111111111,\"#46039f\"],[0.2222222222222222,\"#7201a8\"],[0.3333333333333333,\"#9c179e\"],[0.4444444444444444,\"#bd3786\"],[0.5555555555555556,\"#d8576b\"],[0.6666666666666666,\"#ed7953\"],[0.7777777777777778,\"#fb9f3a\"],[0.8888888888888888,\"#fdca26\"],[1.0,\"#f0f921\"]],\"type\":\"heatmap\"}],\"heatmapgl\":[{\"colorbar\":{\"outlinewidth\":0,\"ticks\":\"\"},\"colorscale\":[[0.0,\"#0d0887\"],[0.1111111111111111,\"#46039f\"],[0.2222222222222222,\"#7201a8\"],[0.3333333333333333,\"#9c179e\"],[0.4444444444444444,\"#bd3786\"],[0.5555555555555556,\"#d8576b\"],[0.6666666666666666,\"#ed7953\"],[0.7777777777777778,\"#fb9f3a\"],[0.8888888888888888,\"#fdca26\"],[1.0,\"#f0f921\"]],\"type\":\"heatmapgl\"}],\"histogram\":[{\"marker\":{\"pattern\":{\"fillmode\":\"overlay\",\"size\":10,\"solidity\":0.2}},\"type\":\"histogram\"}],\"histogram2d\":[{\"colorbar\":{\"outlinewidth\":0,\"ticks\":\"\"},\"colorscale\":[[0.0,\"#0d0887\"],[0.1111111111111111,\"#46039f\"],[0.2222222222222222,\"#7201a8\"],[0.3333333333333333,\"#9c179e\"],[0.4444444444444444,\"#bd3786\"],[0.5555555555555556,\"#d8576b\"],[0.6666666666666666,\"#ed7953\"],[0.7777777777777778,\"#fb9f3a\"],[0.8888888888888888,\"#fdca26\"],[1.0,\"#f0f921\"]],\"type\":\"histogram2d\"}],\"histogram2dcontour\":[{\"colorbar\":{\"outlinewidth\":0,\"ticks\":\"\"},\"colorscale\":[[0.0,\"#0d0887\"],[0.1111111111111111,\"#46039f\"],[0.2222222222222222,\"#7201a8\"],[0.3333333333333333,\"#9c179e\"],[0.4444444444444444,\"#bd3786\"],[0.5555555555555556,\"#d8576b\"],[0.6666666666666666,\"#ed7953\"],[0.7777777777777778,\"#fb9f3a\"],[0.8888888888888888,\"#fdca26\"],[1.0,\"#f0f921\"]],\"type\":\"histogram2dcontour\"}],\"mesh3d\":[{\"colorbar\":{\"outlinewidth\":0,\"ticks\":\"\"},\"type\":\"mesh3d\"}],\"parcoords\":[{\"line\":{\"colorbar\":{\"outlinewidth\":0,\"ticks\":\"\"}},\"type\":\"parcoords\"}],\"pie\":[{\"automargin\":true,\"type\":\"pie\"}],\"scatter\":[{\"marker\":{\"colorbar\":{\"outlinewidth\":0,\"ticks\":\"\"}},\"type\":\"scatter\"}],\"scatter3d\":[{\"line\":{\"colorbar\":{\"outlinewidth\":0,\"ticks\":\"\"}},\"marker\":{\"colorbar\":{\"outlinewidth\":0,\"ticks\":\"\"}},\"type\":\"scatter3d\"}],\"scattercarpet\":[{\"marker\":{\"colorbar\":{\"outlinewidth\":0,\"ticks\":\"\"}},\"type\":\"scattercarpet\"}],\"scattergeo\":[{\"marker\":{\"colorbar\":{\"outlinewidth\":0,\"ticks\":\"\"}},\"type\":\"scattergeo\"}],\"scattergl\":[{\"marker\":{\"colorbar\":{\"outlinewidth\":0,\"ticks\":\"\"}},\"type\":\"scattergl\"}],\"scattermapbox\":[{\"marker\":{\"colorbar\":{\"outlinewidth\":0,\"ticks\":\"\"}},\"type\":\"scattermapbox\"}],\"scatterpolar\":[{\"marker\":{\"colorbar\":{\"outlinewidth\":0,\"ticks\":\"\"}},\"type\":\"scatterpolar\"}],\"scatterpolargl\":[{\"marker\":{\"colorbar\":{\"outlinewidth\":0,\"ticks\":\"\"}},\"type\":\"scatterpolargl\"}],\"scatterternary\":[{\"marker\":{\"colorbar\":{\"outlinewidth\":0,\"ticks\":\"\"}},\"type\":\"scatterternary\"}],\"surface\":[{\"colorbar\":{\"outlinewidth\":0,\"ticks\":\"\"},\"colorscale\":[[0.0,\"#0d0887\"],[0.1111111111111111,\"#46039f\"],[0.2222222222222222,\"#7201a8\"],[0.3333333333333333,\"#9c179e\"],[0.4444444444444444,\"#bd3786\"],[0.5555555555555556,\"#d8576b\"],[0.6666666666666666,\"#ed7953\"],[0.7777777777777778,\"#fb9f3a\"],[0.8888888888888888,\"#fdca26\"],[1.0,\"#f0f921\"]],\"type\":\"surface\"}],\"table\":[{\"cells\":{\"fill\":{\"color\":\"#EBF0F8\"},\"line\":{\"color\":\"white\"}},\"header\":{\"fill\":{\"color\":\"#C8D4E3\"},\"line\":{\"color\":\"white\"}},\"type\":\"table\"}]},\"layout\":{\"annotationdefaults\":{\"arrowcolor\":\"#2a3f5f\",\"arrowhead\":0,\"arrowwidth\":1},\"autotypenumbers\":\"strict\",\"coloraxis\":{\"colorbar\":{\"outlinewidth\":0,\"ticks\":\"\"}},\"colorscale\":{\"diverging\":[[0,\"#8e0152\"],[0.1,\"#c51b7d\"],[0.2,\"#de77ae\"],[0.3,\"#f1b6da\"],[0.4,\"#fde0ef\"],[0.5,\"#f7f7f7\"],[0.6,\"#e6f5d0\"],[0.7,\"#b8e186\"],[0.8,\"#7fbc41\"],[0.9,\"#4d9221\"],[1,\"#276419\"]],\"sequential\":[[0.0,\"#0d0887\"],[0.1111111111111111,\"#46039f\"],[0.2222222222222222,\"#7201a8\"],[0.3333333333333333,\"#9c179e\"],[0.4444444444444444,\"#bd3786\"],[0.5555555555555556,\"#d8576b\"],[0.6666666666666666,\"#ed7953\"],[0.7777777777777778,\"#fb9f3a\"],[0.8888888888888888,\"#fdca26\"],[1.0,\"#f0f921\"]],\"sequentialminus\":[[0.0,\"#0d0887\"],[0.1111111111111111,\"#46039f\"],[0.2222222222222222,\"#7201a8\"],[0.3333333333333333,\"#9c179e\"],[0.4444444444444444,\"#bd3786\"],[0.5555555555555556,\"#d8576b\"],[0.6666666666666666,\"#ed7953\"],[0.7777777777777778,\"#fb9f3a\"],[0.8888888888888888,\"#fdca26\"],[1.0,\"#f0f921\"]]},\"colorway\":[\"#636efa\",\"#EF553B\",\"#00cc96\",\"#ab63fa\",\"#FFA15A\",\"#19d3f3\",\"#FF6692\",\"#B6E880\",\"#FF97FF\",\"#FECB52\"],\"font\":{\"color\":\"#2a3f5f\"},\"geo\":{\"bgcolor\":\"white\",\"lakecolor\":\"white\",\"landcolor\":\"#E5ECF6\",\"showlakes\":true,\"showland\":true,\"subunitcolor\":\"white\"},\"hoverlabel\":{\"align\":\"left\"},\"hovermode\":\"closest\",\"mapbox\":{\"style\":\"light\"},\"paper_bgcolor\":\"white\",\"plot_bgcolor\":\"#E5ECF6\",\"polar\":{\"angularaxis\":{\"gridcolor\":\"white\",\"linecolor\":\"white\",\"ticks\":\"\"},\"bgcolor\":\"#E5ECF6\",\"radialaxis\":{\"gridcolor\":\"white\",\"linecolor\":\"white\",\"ticks\":\"\"}},\"scene\":{\"xaxis\":{\"backgroundcolor\":\"#E5ECF6\",\"gridcolor\":\"white\",\"gridwidth\":2,\"linecolor\":\"white\",\"showbackground\":true,\"ticks\":\"\",\"zerolinecolor\":\"white\"},\"yaxis\":{\"backgroundcolor\":\"#E5ECF6\",\"gridcolor\":\"white\",\"gridwidth\":2,\"linecolor\":\"white\",\"showbackground\":true,\"ticks\":\"\",\"zerolinecolor\":\"white\"},\"zaxis\":{\"backgroundcolor\":\"#E5ECF6\",\"gridcolor\":\"white\",\"gridwidth\":2,\"linecolor\":\"white\",\"showbackground\":true,\"ticks\":\"\",\"zerolinecolor\":\"white\"}},\"shapedefaults\":{\"line\":{\"color\":\"#2a3f5f\"}},\"ternary\":{\"aaxis\":{\"gridcolor\":\"white\",\"linecolor\":\"white\",\"ticks\":\"\"},\"baxis\":{\"gridcolor\":\"white\",\"linecolor\":\"white\",\"ticks\":\"\"},\"bgcolor\":\"#E5ECF6\",\"caxis\":{\"gridcolor\":\"white\",\"linecolor\":\"white\",\"ticks\":\"\"}},\"title\":{\"x\":0.05},\"xaxis\":{\"automargin\":true,\"gridcolor\":\"white\",\"linecolor\":\"white\",\"ticks\":\"\",\"title\":{\"standoff\":15},\"zerolinecolor\":\"white\",\"zerolinewidth\":2},\"yaxis\":{\"automargin\":true,\"gridcolor\":\"white\",\"linecolor\":\"white\",\"ticks\":\"\",\"title\":{\"standoff\":15},\"zerolinecolor\":\"white\",\"zerolinewidth\":2}}},\"legend\":{\"tracegroupgap\":0},\"margin\":{\"t\":60}},                        {\"responsive\": true}                    ).then(function(){\n",
              "                            \n",
              "var gd = document.getElementById('c5c3dce4-a022-48d0-8145-e617e1553ded');\n",
              "var x = new MutationObserver(function (mutations, observer) {{\n",
              "        var display = window.getComputedStyle(gd).display;\n",
              "        if (!display || display === 'none') {{\n",
              "            console.log([gd, 'removed!']);\n",
              "            Plotly.purge(gd);\n",
              "            observer.disconnect();\n",
              "        }}\n",
              "}});\n",
              "\n",
              "// Listen for the removal of the full notebook cells\n",
              "var notebookContainer = gd.closest('#notebook-container');\n",
              "if (notebookContainer) {{\n",
              "    x.observe(notebookContainer, {childList: true});\n",
              "}}\n",
              "\n",
              "// Listen for the clearing of the current output cell\n",
              "var outputEl = gd.closest('.output');\n",
              "if (outputEl) {{\n",
              "    x.observe(outputEl, {childList: true});\n",
              "}}\n",
              "\n",
              "                        })                };                            </script>        </div>\n",
              "</body>\n",
              "</html>"
            ]
          },
          "metadata": {}
        }
      ],
      "source": [
        "import matplotlib.pyplot as plt\n",
        "%time kdf['Yr'].value_counts().plot.pie()"
      ]
    },
    {
      "cell_type": "code",
      "execution_count": null,
      "metadata": {
        "id": "-Scf_lKnVJJ7",
        "colab": {
          "base_uri": "https://localhost:8080/",
          "height": 577
        },
        "outputId": "a2e5fd2e-bb67-4532-db70-9b09735d381c"
      },
      "outputs": [
        {
          "output_type": "stream",
          "name": "stdout",
          "text": [
            "CPU times: user 1.06 s, sys: 157 ms, total: 1.22 s\n",
            "Wall time: 52.4 s\n"
          ]
        },
        {
          "output_type": "display_data",
          "data": {
            "text/html": [
              "<html>\n",
              "<head><meta charset=\"utf-8\" /></head>\n",
              "<body>\n",
              "    <div>            <script src=\"https://cdnjs.cloudflare.com/ajax/libs/mathjax/2.7.5/MathJax.js?config=TeX-AMS-MML_SVG\"></script><script type=\"text/javascript\">if (window.MathJax) {MathJax.Hub.Config({SVG: {font: \"STIX-Web\"}});}</script>                <script type=\"text/javascript\">window.PlotlyConfig = {MathJaxConfig: 'local'};</script>\n",
              "        <script src=\"https://cdn.plot.ly/plotly-2.8.3.min.js\"></script>                <div id=\"686c46a8-df0c-4fd8-9733-1d21df90f915\" class=\"plotly-graph-div\" style=\"height:525px; width:100%;\"></div>            <script type=\"text/javascript\">                                    window.PLOTLYENV=window.PLOTLYENV || {};                                    if (document.getElementById(\"686c46a8-df0c-4fd8-9733-1d21df90f915\")) {                    Plotly.newPlot(                        \"686c46a8-df0c-4fd8-9733-1d21df90f915\",                        [{\"alignmentgroup\":\"True\",\"hovertemplate\":\"variable=Yr<br>index=%{x}<br>value=%{y}<extra></extra>\",\"legendgroup\":\"Yr\",\"marker\":{\"color\":\"#636efa\",\"pattern\":{\"shape\":\"\"}},\"name\":\"Yr\",\"offsetgroup\":\"Yr\",\"orientation\":\"v\",\"showlegend\":true,\"textposition\":\"auto\",\"x\":[2014,2016,2015,2017,2013,2012,2019,2018,2010,2011,2009,2020,2008,2007,2000,2006],\"xaxis\":\"x\",\"y\":[3708367,3362243,3232005,3013530,2829656,2434583,2365633,2046443,1421397,1238391,1012766,442558,68591,11780,1904,664],\"yaxis\":\"y\",\"type\":\"bar\"}],                        {\"template\":{\"data\":{\"bar\":[{\"error_x\":{\"color\":\"#2a3f5f\"},\"error_y\":{\"color\":\"#2a3f5f\"},\"marker\":{\"line\":{\"color\":\"#E5ECF6\",\"width\":0.5},\"pattern\":{\"fillmode\":\"overlay\",\"size\":10,\"solidity\":0.2}},\"type\":\"bar\"}],\"barpolar\":[{\"marker\":{\"line\":{\"color\":\"#E5ECF6\",\"width\":0.5},\"pattern\":{\"fillmode\":\"overlay\",\"size\":10,\"solidity\":0.2}},\"type\":\"barpolar\"}],\"carpet\":[{\"aaxis\":{\"endlinecolor\":\"#2a3f5f\",\"gridcolor\":\"white\",\"linecolor\":\"white\",\"minorgridcolor\":\"white\",\"startlinecolor\":\"#2a3f5f\"},\"baxis\":{\"endlinecolor\":\"#2a3f5f\",\"gridcolor\":\"white\",\"linecolor\":\"white\",\"minorgridcolor\":\"white\",\"startlinecolor\":\"#2a3f5f\"},\"type\":\"carpet\"}],\"choropleth\":[{\"colorbar\":{\"outlinewidth\":0,\"ticks\":\"\"},\"type\":\"choropleth\"}],\"contour\":[{\"colorbar\":{\"outlinewidth\":0,\"ticks\":\"\"},\"colorscale\":[[0.0,\"#0d0887\"],[0.1111111111111111,\"#46039f\"],[0.2222222222222222,\"#7201a8\"],[0.3333333333333333,\"#9c179e\"],[0.4444444444444444,\"#bd3786\"],[0.5555555555555556,\"#d8576b\"],[0.6666666666666666,\"#ed7953\"],[0.7777777777777778,\"#fb9f3a\"],[0.8888888888888888,\"#fdca26\"],[1.0,\"#f0f921\"]],\"type\":\"contour\"}],\"contourcarpet\":[{\"colorbar\":{\"outlinewidth\":0,\"ticks\":\"\"},\"type\":\"contourcarpet\"}],\"heatmap\":[{\"colorbar\":{\"outlinewidth\":0,\"ticks\":\"\"},\"colorscale\":[[0.0,\"#0d0887\"],[0.1111111111111111,\"#46039f\"],[0.2222222222222222,\"#7201a8\"],[0.3333333333333333,\"#9c179e\"],[0.4444444444444444,\"#bd3786\"],[0.5555555555555556,\"#d8576b\"],[0.6666666666666666,\"#ed7953\"],[0.7777777777777778,\"#fb9f3a\"],[0.8888888888888888,\"#fdca26\"],[1.0,\"#f0f921\"]],\"type\":\"heatmap\"}],\"heatmapgl\":[{\"colorbar\":{\"outlinewidth\":0,\"ticks\":\"\"},\"colorscale\":[[0.0,\"#0d0887\"],[0.1111111111111111,\"#46039f\"],[0.2222222222222222,\"#7201a8\"],[0.3333333333333333,\"#9c179e\"],[0.4444444444444444,\"#bd3786\"],[0.5555555555555556,\"#d8576b\"],[0.6666666666666666,\"#ed7953\"],[0.7777777777777778,\"#fb9f3a\"],[0.8888888888888888,\"#fdca26\"],[1.0,\"#f0f921\"]],\"type\":\"heatmapgl\"}],\"histogram\":[{\"marker\":{\"pattern\":{\"fillmode\":\"overlay\",\"size\":10,\"solidity\":0.2}},\"type\":\"histogram\"}],\"histogram2d\":[{\"colorbar\":{\"outlinewidth\":0,\"ticks\":\"\"},\"colorscale\":[[0.0,\"#0d0887\"],[0.1111111111111111,\"#46039f\"],[0.2222222222222222,\"#7201a8\"],[0.3333333333333333,\"#9c179e\"],[0.4444444444444444,\"#bd3786\"],[0.5555555555555556,\"#d8576b\"],[0.6666666666666666,\"#ed7953\"],[0.7777777777777778,\"#fb9f3a\"],[0.8888888888888888,\"#fdca26\"],[1.0,\"#f0f921\"]],\"type\":\"histogram2d\"}],\"histogram2dcontour\":[{\"colorbar\":{\"outlinewidth\":0,\"ticks\":\"\"},\"colorscale\":[[0.0,\"#0d0887\"],[0.1111111111111111,\"#46039f\"],[0.2222222222222222,\"#7201a8\"],[0.3333333333333333,\"#9c179e\"],[0.4444444444444444,\"#bd3786\"],[0.5555555555555556,\"#d8576b\"],[0.6666666666666666,\"#ed7953\"],[0.7777777777777778,\"#fb9f3a\"],[0.8888888888888888,\"#fdca26\"],[1.0,\"#f0f921\"]],\"type\":\"histogram2dcontour\"}],\"mesh3d\":[{\"colorbar\":{\"outlinewidth\":0,\"ticks\":\"\"},\"type\":\"mesh3d\"}],\"parcoords\":[{\"line\":{\"colorbar\":{\"outlinewidth\":0,\"ticks\":\"\"}},\"type\":\"parcoords\"}],\"pie\":[{\"automargin\":true,\"type\":\"pie\"}],\"scatter\":[{\"marker\":{\"colorbar\":{\"outlinewidth\":0,\"ticks\":\"\"}},\"type\":\"scatter\"}],\"scatter3d\":[{\"line\":{\"colorbar\":{\"outlinewidth\":0,\"ticks\":\"\"}},\"marker\":{\"colorbar\":{\"outlinewidth\":0,\"ticks\":\"\"}},\"type\":\"scatter3d\"}],\"scattercarpet\":[{\"marker\":{\"colorbar\":{\"outlinewidth\":0,\"ticks\":\"\"}},\"type\":\"scattercarpet\"}],\"scattergeo\":[{\"marker\":{\"colorbar\":{\"outlinewidth\":0,\"ticks\":\"\"}},\"type\":\"scattergeo\"}],\"scattergl\":[{\"marker\":{\"colorbar\":{\"outlinewidth\":0,\"ticks\":\"\"}},\"type\":\"scattergl\"}],\"scattermapbox\":[{\"marker\":{\"colorbar\":{\"outlinewidth\":0,\"ticks\":\"\"}},\"type\":\"scattermapbox\"}],\"scatterpolar\":[{\"marker\":{\"colorbar\":{\"outlinewidth\":0,\"ticks\":\"\"}},\"type\":\"scatterpolar\"}],\"scatterpolargl\":[{\"marker\":{\"colorbar\":{\"outlinewidth\":0,\"ticks\":\"\"}},\"type\":\"scatterpolargl\"}],\"scatterternary\":[{\"marker\":{\"colorbar\":{\"outlinewidth\":0,\"ticks\":\"\"}},\"type\":\"scatterternary\"}],\"surface\":[{\"colorbar\":{\"outlinewidth\":0,\"ticks\":\"\"},\"colorscale\":[[0.0,\"#0d0887\"],[0.1111111111111111,\"#46039f\"],[0.2222222222222222,\"#7201a8\"],[0.3333333333333333,\"#9c179e\"],[0.4444444444444444,\"#bd3786\"],[0.5555555555555556,\"#d8576b\"],[0.6666666666666666,\"#ed7953\"],[0.7777777777777778,\"#fb9f3a\"],[0.8888888888888888,\"#fdca26\"],[1.0,\"#f0f921\"]],\"type\":\"surface\"}],\"table\":[{\"cells\":{\"fill\":{\"color\":\"#EBF0F8\"},\"line\":{\"color\":\"white\"}},\"header\":{\"fill\":{\"color\":\"#C8D4E3\"},\"line\":{\"color\":\"white\"}},\"type\":\"table\"}]},\"layout\":{\"annotationdefaults\":{\"arrowcolor\":\"#2a3f5f\",\"arrowhead\":0,\"arrowwidth\":1},\"autotypenumbers\":\"strict\",\"coloraxis\":{\"colorbar\":{\"outlinewidth\":0,\"ticks\":\"\"}},\"colorscale\":{\"diverging\":[[0,\"#8e0152\"],[0.1,\"#c51b7d\"],[0.2,\"#de77ae\"],[0.3,\"#f1b6da\"],[0.4,\"#fde0ef\"],[0.5,\"#f7f7f7\"],[0.6,\"#e6f5d0\"],[0.7,\"#b8e186\"],[0.8,\"#7fbc41\"],[0.9,\"#4d9221\"],[1,\"#276419\"]],\"sequential\":[[0.0,\"#0d0887\"],[0.1111111111111111,\"#46039f\"],[0.2222222222222222,\"#7201a8\"],[0.3333333333333333,\"#9c179e\"],[0.4444444444444444,\"#bd3786\"],[0.5555555555555556,\"#d8576b\"],[0.6666666666666666,\"#ed7953\"],[0.7777777777777778,\"#fb9f3a\"],[0.8888888888888888,\"#fdca26\"],[1.0,\"#f0f921\"]],\"sequentialminus\":[[0.0,\"#0d0887\"],[0.1111111111111111,\"#46039f\"],[0.2222222222222222,\"#7201a8\"],[0.3333333333333333,\"#9c179e\"],[0.4444444444444444,\"#bd3786\"],[0.5555555555555556,\"#d8576b\"],[0.6666666666666666,\"#ed7953\"],[0.7777777777777778,\"#fb9f3a\"],[0.8888888888888888,\"#fdca26\"],[1.0,\"#f0f921\"]]},\"colorway\":[\"#636efa\",\"#EF553B\",\"#00cc96\",\"#ab63fa\",\"#FFA15A\",\"#19d3f3\",\"#FF6692\",\"#B6E880\",\"#FF97FF\",\"#FECB52\"],\"font\":{\"color\":\"#2a3f5f\"},\"geo\":{\"bgcolor\":\"white\",\"lakecolor\":\"white\",\"landcolor\":\"#E5ECF6\",\"showlakes\":true,\"showland\":true,\"subunitcolor\":\"white\"},\"hoverlabel\":{\"align\":\"left\"},\"hovermode\":\"closest\",\"mapbox\":{\"style\":\"light\"},\"paper_bgcolor\":\"white\",\"plot_bgcolor\":\"#E5ECF6\",\"polar\":{\"angularaxis\":{\"gridcolor\":\"white\",\"linecolor\":\"white\",\"ticks\":\"\"},\"bgcolor\":\"#E5ECF6\",\"radialaxis\":{\"gridcolor\":\"white\",\"linecolor\":\"white\",\"ticks\":\"\"}},\"scene\":{\"xaxis\":{\"backgroundcolor\":\"#E5ECF6\",\"gridcolor\":\"white\",\"gridwidth\":2,\"linecolor\":\"white\",\"showbackground\":true,\"ticks\":\"\",\"zerolinecolor\":\"white\"},\"yaxis\":{\"backgroundcolor\":\"#E5ECF6\",\"gridcolor\":\"white\",\"gridwidth\":2,\"linecolor\":\"white\",\"showbackground\":true,\"ticks\":\"\",\"zerolinecolor\":\"white\"},\"zaxis\":{\"backgroundcolor\":\"#E5ECF6\",\"gridcolor\":\"white\",\"gridwidth\":2,\"linecolor\":\"white\",\"showbackground\":true,\"ticks\":\"\",\"zerolinecolor\":\"white\"}},\"shapedefaults\":{\"line\":{\"color\":\"#2a3f5f\"}},\"ternary\":{\"aaxis\":{\"gridcolor\":\"white\",\"linecolor\":\"white\",\"ticks\":\"\"},\"baxis\":{\"gridcolor\":\"white\",\"linecolor\":\"white\",\"ticks\":\"\"},\"bgcolor\":\"#E5ECF6\",\"caxis\":{\"gridcolor\":\"white\",\"linecolor\":\"white\",\"ticks\":\"\"}},\"title\":{\"x\":0.05},\"xaxis\":{\"automargin\":true,\"gridcolor\":\"white\",\"linecolor\":\"white\",\"ticks\":\"\",\"title\":{\"standoff\":15},\"zerolinecolor\":\"white\",\"zerolinewidth\":2},\"yaxis\":{\"automargin\":true,\"gridcolor\":\"white\",\"linecolor\":\"white\",\"ticks\":\"\",\"title\":{\"standoff\":15},\"zerolinecolor\":\"white\",\"zerolinewidth\":2}}},\"xaxis\":{\"anchor\":\"y\",\"domain\":[0.0,1.0],\"title\":{\"text\":\"index\"}},\"yaxis\":{\"anchor\":\"x\",\"domain\":[0.0,1.0],\"title\":{\"text\":\"value\"}},\"legend\":{\"title\":{\"text\":\"variable\"},\"tracegroupgap\":0},\"margin\":{\"t\":60},\"barmode\":\"relative\"},                        {\"responsive\": true}                    ).then(function(){\n",
              "                            \n",
              "var gd = document.getElementById('686c46a8-df0c-4fd8-9733-1d21df90f915');\n",
              "var x = new MutationObserver(function (mutations, observer) {{\n",
              "        var display = window.getComputedStyle(gd).display;\n",
              "        if (!display || display === 'none') {{\n",
              "            console.log([gd, 'removed!']);\n",
              "            Plotly.purge(gd);\n",
              "            observer.disconnect();\n",
              "        }}\n",
              "}});\n",
              "\n",
              "// Listen for the removal of the full notebook cells\n",
              "var notebookContainer = gd.closest('#notebook-container');\n",
              "if (notebookContainer) {{\n",
              "    x.observe(notebookContainer, {childList: true});\n",
              "}}\n",
              "\n",
              "// Listen for the clearing of the current output cell\n",
              "var outputEl = gd.closest('.output');\n",
              "if (outputEl) {{\n",
              "    x.observe(outputEl, {childList: true});\n",
              "}}\n",
              "\n",
              "                        })                };                            </script>        </div>\n",
              "</body>\n",
              "</html>"
            ]
          },
          "metadata": {}
        }
      ],
      "source": [
        "%time kdf['Yr'].value_counts().plot.bar()"
      ]
    },
    {
      "cell_type": "markdown",
      "metadata": {
        "id": "Dn_AW-5uVJJ7"
      },
      "source": [
        "**Pyspark** "
      ]
    },
    {
      "cell_type": "code",
      "execution_count": null,
      "metadata": {
        "id": "c7fugjWzVJJ7",
        "colab": {
          "base_uri": "https://localhost:8080/",
          "height": 248
        },
        "outputId": "2eacb4b7-fa3c-41b2-fae3-6a44c1df54ef"
      },
      "outputs": [
        {
          "output_type": "display_data",
          "data": {
            "text/plain": [
              "<Figure size 432x288 with 1 Axes>"
            ],
            "image/png": "[encoded data removed]"
          },
          "metadata": {}
        }
      ],
      "source": [
        "from pyspark.sql import SparkSession\n",
        "import matplotlib.pyplot as plt\n",
        "\n",
        "spark = SparkSession.builder.appName(\"Yr_Pie_Chart\").getOrCreate()\n",
        "\n",
        "\n",
        "# Compute the value counts of the 'Yr' column\n",
        "value_counts = s_df.groupBy(\"Yr\").count()\n",
        "value_counts_pd=value_counts.toPandas()\n",
        "\n",
        "# Plot the value counts as a pie chart\n",
        "plt.pie(value_counts_pd['count'], labels=value_counts_pd['Yr'])\n",
        "plt.show()"
      ]
    },
    {
      "cell_type": "code",
      "execution_count": null,
      "metadata": {
        "id": "pPnlFwy2VJJ7"
      },
      "outputs": [],
      "source": []
    },
    {
      "cell_type": "markdown",
      "metadata": {
        "id": "rN1bUu8RVJJ7"
      },
      "source": [
        "**Dask** "
      ]
    },
    {
      "cell_type": "code",
      "execution_count": null,
      "metadata": {
        "id": "kMrm6CiAVJJ8",
        "colab": {
          "base_uri": "https://localhost:8080/",
          "height": 531
        },
        "outputId": "7468ff2f-4b8b-492e-e0a1-03762818668e"
      },
      "outputs": [
        {
          "output_type": "stream",
          "name": "stdout",
          "text": [
            "CPU times: user 2 µs, sys: 1e+03 ns, total: 3 µs\n",
            "Wall time: 6.2 µs\n"
          ]
        },
        {
          "output_type": "execute_result",
          "data": {
            "text/plain": [
              "<matplotlib.axes._subplots.AxesSubplot at 0x7f68dcd04880>"
            ]
          },
          "metadata": {},
          "execution_count": 14
        },
        {
          "output_type": "display_data",
          "data": {
            "text/plain": [
              "<Figure size 432x288 with 1 Axes>"
            ],
            "image/png": "[encoded data removed]"
          },
          "metadata": {}
        },
        {
          "output_type": "display_data",
          "data": {
            "text/plain": [
              "<Figure size 432x288 with 1 Axes>"
            ],
            "image/png": "[encoded data removed]"
          },
          "metadata": {}
        }
      ],
      "source": [
        "import matplotlib.pyplot as plt\n",
        "import dask.delayed as delayed\n",
        "from dask.distributed import Client\n",
        "\n",
        "%time\n",
        "client = Client()\n",
        "\n",
        "value_counts = ddf['Yr'].value_counts().compute()\n",
        "\n",
        "# Plot the value counts as a pie chart\n",
        "delayed(value_counts.plot.pie()).compute()"
      ]
    },
    {
      "cell_type": "code",
      "execution_count": null,
      "metadata": {
        "id": "RSt7KlcfVJJ8",
        "colab": {
          "base_uri": "https://localhost:8080/",
          "height": 723
        },
        "outputId": "ced8cf62-71bf-4f90-f70f-a0e59addd9bd"
      },
      "outputs": [
        {
          "output_type": "stream",
          "name": "stdout",
          "text": [
            "CPU times: user 2 µs, sys: 1e+03 ns, total: 3 µs\n",
            "Wall time: 7.87 µs\n"
          ]
        },
        {
          "output_type": "stream",
          "name": "stderr",
          "text": [
            "/usr/local/lib/python3.8/dist-packages/distributed/node.py:180: UserWarning:\n",
            "\n",
            "Port 8787 is already in use.\n",
            "Perhaps you already have a cluster running?\n",
            "Hosting the HTTP server on port 34343 instead\n",
            "\n"
          ]
        },
        {
          "output_type": "execute_result",
          "data": {
            "text/plain": [
              "<matplotlib.axes._subplots.AxesSubplot at 0x7f68d8462a30>"
            ]
          },
          "metadata": {},
          "execution_count": 15
        },
        {
          "output_type": "display_data",
          "data": {
            "text/plain": [
              "<Figure size 432x288 with 1 Axes>"
            ],
            "image/png": "[encoded data removed]"
          },
          "metadata": {
            "needs_background": "light"
          }
        },
        {
          "output_type": "display_data",
          "data": {
            "text/plain": [
              "<Figure size 432x288 with 1 Axes>"
            ],
            "image/png": "[encoded data removed]"
          },
          "metadata": {
            "needs_background": "light"
          }
        }
      ],
      "source": [
        "%time\n",
        "client = Client()\n",
        "\n",
        "value_counts = ddf['Yr'].value_counts().compute()\n",
        "\n",
        "# Plot the value counts as a bar chart\n",
        "delayed(value_counts.plot.bar()).compute()"
      ]
    },
    {
      "cell_type": "markdown",
      "metadata": {
        "id": "E0U3IWm8VJJ9"
      },
      "source": [
        "## Asking and Answering Questions\n",
        "\n",
        "\n"
      ]
    },
    {
      "cell_type": "code",
      "source": [
        "from pyspark.sql.functions import col,isnan,when,count,sum\n",
        "from pyspark.sql.functions import desc"
      ],
      "metadata": {
        "id": "_cc-GYeYditd"
      },
      "execution_count": null,
      "outputs": []
    },
    {
      "cell_type": "markdown",
      "metadata": {
        "id": "7Lor5rHMVJJ9"
      },
      "source": [
        "#### Q1: Which division has the most cars?"
      ]
    },
    {
      "cell_type": "markdown",
      "metadata": {
        "id": "3_mq_XhRgxjB"
      },
      "source": [
        "**Koalas**"
      ]
    },
    {
      "cell_type": "code",
      "source": [
        "%time\n",
        "print(kdf.groupby(['Boro'], as_index=False).Vol.sum().sort_values(by='Vol', ascending=False).head(3))"
      ],
      "metadata": {
        "id": "ww2pU6qNdyU2",
        "colab": {
          "base_uri": "https://localhost:8080/"
        },
        "outputId": "dad4b38c-23ca-4364-fc2b-f25e62825efb"
      },
      "execution_count": null,
      "outputs": [
        {
          "output_type": "stream",
          "name": "stdout",
          "text": [
            "        Boro        Vol\n",
            "3  Manhattan  878384457\n",
            "0     Queens  749302332\n",
            "1   Brooklyn  652695107\n"
          ]
        }
      ]
    },
    {
      "cell_type": "markdown",
      "metadata": {
        "id": "680vD5qsgxnj"
      },
      "source": [
        "**Pyspark**"
      ]
    },
    {
      "cell_type": "code",
      "execution_count": null,
      "metadata": {
        "id": "D-PdOKqCVJJ9",
        "colab": {
          "base_uri": "https://localhost:8080/"
        },
        "outputId": "de337d5f-3a5f-4442-8d42-6be3de2b70b2"
      },
      "outputs": [
        {
          "output_type": "stream",
          "name": "stdout",
          "text": [
            "CPU times: user 4 µs, sys: 0 ns, total: 4 µs\n",
            "Wall time: 7.87 µs\n",
            "+---------+------------+\n",
            "|     Boro|         Vol|\n",
            "+---------+------------+\n",
            "|Manhattan|8.78384457E8|\n",
            "|   Queens|7.49302332E8|\n",
            "| Brooklyn|6.52695107E8|\n",
            "+---------+------------+\n",
            "only showing top 3 rows\n",
            "\n"
          ]
        }
      ],
      "source": [
        "%time\n",
        "py_div = s_df.groupBy(\"Boro\").agg(sum(\"Vol\").alias(\"Vol\")).sort(col(\"Vol\").desc())\n",
        "py_div.show(3)"
      ]
    },
    {
      "cell_type": "code",
      "source": [
        "result = py_div.toPandas()\n",
        "result.plot(kind='bar', x='Boro', y='Vol', legend=True)\n",
        "plt.xlabel('Volume')\n",
        "plt.ylabel('Division')\n",
        "plt.title('Division with Total Volume of Cars')\n",
        "plt.show()"
      ],
      "metadata": {
        "colab": {
          "base_uri": "https://localhost:8080/",
          "height": 351
        },
        "id": "gtt1FviD0sHc",
        "outputId": "0ce5e53e-e8ed-40d8-e681-7f28a01e8adf"
      },
      "execution_count": null,
      "outputs": [
        {
          "output_type": "display_data",
          "data": {
            "text/plain": [
              "<Figure size 432x288 with 1 Axes>"
            ],
            "image/png": "[encoded data removed]"
          },
          "metadata": {
            "needs_background": "light"
          }
        }
      ]
    },
    {
      "cell_type": "markdown",
      "metadata": {
        "id": "vP0UHQU1g2aZ"
      },
      "source": [
        "**Dask**"
      ]
    },
    {
      "cell_type": "code",
      "execution_count": null,
      "metadata": {
        "id": "LKIZxnawVJJ9"
      },
      "outputs": [],
      "source": [
        "%time\n",
        "ddf.groupby(\"Boro\").sum().nlargest(3,\"Vol\").compute().index.tolist()"
      ]
    },
    {
      "cell_type": "markdown",
      "metadata": {
        "id": "c_REVnrhVJJ-"
      },
      "source": [
        "#### Q2: Which street do most cars go?"
      ]
    },
    {
      "cell_type": "markdown",
      "metadata": {
        "id": "8RHAESWNhK5H"
      },
      "source": [
        "**Koalas**"
      ]
    },
    {
      "cell_type": "code",
      "execution_count": null,
      "metadata": {
        "id": "twu3VTm3hMW0",
        "colab": {
          "base_uri": "https://localhost:8080/"
        },
        "outputId": "bbb5f036-303c-448f-b92e-4c12c8bd1420"
      },
      "outputs": [
        {
          "output_type": "stream",
          "name": "stdout",
          "text": [
            "Dead end         2128177\n",
            "8 Avenue Line     247490\n",
            "BODY OF WATER     213175\n",
            "Name: toSt, dtype: int64\n"
          ]
        }
      ],
      "source": [
        "%time\n",
        "print(kdf['toSt'].value_counts().sort_values(ascending=False).head(3))"
      ]
    },
    {
      "cell_type": "markdown",
      "metadata": {
        "id": "RzxyLIzUhEz9"
      },
      "source": [
        "**Pyspark**"
      ]
    },
    {
      "cell_type": "code",
      "source": [
        "%time\n",
        "py_dir = s_df.groupBy(\"toSt\").agg(count(\"*\").alias(\"count\")).sort(col(\"count\").desc())\n",
        "py_dir.show(3)"
      ],
      "metadata": {
        "colab": {
          "base_uri": "https://localhost:8080/"
        },
        "id": "B-dA9fzRjeID",
        "outputId": "b9c02909-3952-485c-fb38-f75210e096ab"
      },
      "execution_count": null,
      "outputs": [
        {
          "output_type": "stream",
          "name": "stdout",
          "text": [
            "CPU times: user 3 µs, sys: 0 ns, total: 3 µs\n",
            "Wall time: 8.34 µs\n",
            "+-------------+-------+\n",
            "|         toSt|  count|\n",
            "+-------------+-------+\n",
            "|     Dead end|2128177|\n",
            "|8 Avenue Line| 247490|\n",
            "|BODY OF WATER| 213175|\n",
            "+-------------+-------+\n",
            "only showing top 3 rows\n",
            "\n"
          ]
        }
      ]
    },
    {
      "cell_type": "code",
      "source": [
        "result1 = py_dir.show(10).toPandas()\n",
        "plt.figure(figsize=(10, 6))\n",
        "result1.plot(kind='barh', x='toSt', y='count', legend=True)\n",
        "plt.xlabel('toSt')\n",
        "plt.ylabel('count')\n",
        "plt.title('The Top 10 Street with Highest Count of Cars')\n",
        "plt.show()"
      ],
      "metadata": {
        "colab": {
          "base_uri": "https://localhost:8080/",
          "height": 512
        },
        "id": "AXVR1ew47v-8",
        "outputId": "89b62992-ade9-4b39-8e57-eb211c6dc923"
      },
      "execution_count": null,
      "outputs": [
        {
          "output_type": "stream",
          "name": "stdout",
          "text": [
            "+--------------------+-------+\n",
            "|                toSt|  count|\n",
            "+--------------------+-------+\n",
            "|            Dead end|2128177|\n",
            "|       8 Avenue Line| 247490|\n",
            "|       BODY OF WATER| 213175|\n",
            "|            Dead End| 203858|\n",
            "|            DEAD END| 165433|\n",
            "|Harlem River Shor...| 135770|\n",
            "|                BEND| 134932|\n",
            "|14 Street/canarsi...| 127484|\n",
            "|      East 61 Street| 115551|\n",
            "|            BROADWAY| 112612|\n",
            "+--------------------+-------+\n",
            "only showing top 10 rows\n",
            "\n"
          ]
        },
        {
          "output_type": "error",
          "ename": "AttributeError",
          "evalue": "ignored",
          "traceback": [
            "\u001b[0;31m---------------------------------------------------------------------------\u001b[0m",
            "\u001b[0;31mAttributeError\u001b[0m                            Traceback (most recent call last)",
            "\u001b[0;32m<ipython-input-25-ecbfe94bb54b>\u001b[0m in \u001b[0;36m<module>\u001b[0;34m\u001b[0m\n\u001b[0;32m----> 1\u001b[0;31m \u001b[0mresult1\u001b[0m \u001b[0;34m=\u001b[0m \u001b[0mpy_dir\u001b[0m\u001b[0;34m.\u001b[0m\u001b[0mshow\u001b[0m\u001b[0;34m(\u001b[0m\u001b[0;36m10\u001b[0m\u001b[0;34m)\u001b[0m\u001b[0;34m.\u001b[0m\u001b[0mtoPandas\u001b[0m\u001b[0;34m(\u001b[0m\u001b[0;34m)\u001b[0m\u001b[0;34m\u001b[0m\u001b[0;34m\u001b[0m\u001b[0m\n\u001b[0m\u001b[1;32m      2\u001b[0m \u001b[0mplt\u001b[0m\u001b[0;34m.\u001b[0m\u001b[0mfigure\u001b[0m\u001b[0;34m(\u001b[0m\u001b[0mfigsize\u001b[0m\u001b[0;34m=\u001b[0m\u001b[0;34m(\u001b[0m\u001b[0;36m10\u001b[0m\u001b[0;34m,\u001b[0m \u001b[0;36m6\u001b[0m\u001b[0;34m)\u001b[0m\u001b[0;34m)\u001b[0m\u001b[0;34m\u001b[0m\u001b[0;34m\u001b[0m\u001b[0m\n\u001b[1;32m      3\u001b[0m \u001b[0mresult1\u001b[0m\u001b[0;34m.\u001b[0m\u001b[0mplot\u001b[0m\u001b[0;34m(\u001b[0m\u001b[0mkind\u001b[0m\u001b[0;34m=\u001b[0m\u001b[0;34m'barh'\u001b[0m\u001b[0;34m,\u001b[0m \u001b[0mx\u001b[0m\u001b[0;34m=\u001b[0m\u001b[0;34m'toSt'\u001b[0m\u001b[0;34m,\u001b[0m \u001b[0my\u001b[0m\u001b[0;34m=\u001b[0m\u001b[0;34m'count'\u001b[0m\u001b[0;34m,\u001b[0m \u001b[0mlegend\u001b[0m\u001b[0;34m=\u001b[0m\u001b[0;32mTrue\u001b[0m\u001b[0;34m)\u001b[0m\u001b[0;34m\u001b[0m\u001b[0;34m\u001b[0m\u001b[0m\n\u001b[1;32m      4\u001b[0m \u001b[0mplt\u001b[0m\u001b[0;34m.\u001b[0m\u001b[0mxlabel\u001b[0m\u001b[0;34m(\u001b[0m\u001b[0;34m'toSt'\u001b[0m\u001b[0;34m)\u001b[0m\u001b[0;34m\u001b[0m\u001b[0;34m\u001b[0m\u001b[0m\n\u001b[1;32m      5\u001b[0m \u001b[0mplt\u001b[0m\u001b[0;34m.\u001b[0m\u001b[0mylabel\u001b[0m\u001b[0;34m(\u001b[0m\u001b[0;34m'count'\u001b[0m\u001b[0;34m)\u001b[0m\u001b[0;34m\u001b[0m\u001b[0;34m\u001b[0m\u001b[0m\n",
            "\u001b[0;31mAttributeError\u001b[0m: 'NoneType' object has no attribute 'toPandas'"
          ]
        }
      ]
    },
    {
      "cell_type": "markdown",
      "metadata": {
        "id": "36wMTzIfhLEs"
      },
      "source": [
        "**Dask**"
      ]
    },
    {
      "cell_type": "code",
      "execution_count": null,
      "metadata": {
        "id": "tdjrhzySVJJ-"
      },
      "outputs": [],
      "source": [
        "%time\n",
        "top_streets = dd.groupby(\"toSt\").sum().nlargest(3,\"Vol\").compute()\n",
        "top_streets"
      ]
    },
    {
      "cell_type": "markdown",
      "metadata": {
        "id": "ya3o0SurVJJ-"
      },
      "source": [
        "#### Q3: In Brooklyn, which street has the highest count of cars?"
      ]
    },
    {
      "cell_type": "markdown",
      "source": [
        "**Koalas**"
      ],
      "metadata": {
        "id": "k7Mk98Q3244K"
      }
    },
    {
      "cell_type": "code",
      "execution_count": null,
      "metadata": {
        "id": "CaF9SiPeVJJ-",
        "colab": {
          "base_uri": "https://localhost:8080/",
          "height": 98
        },
        "outputId": "682fdf33-1dc3-4c7d-c7a8-434ea8b85719"
      },
      "outputs": [
        {
          "output_type": "execute_result",
          "data": {
            "text/plain": [
              "         RequestID      Boro    Yr   M  D  HH  MM  Vol  SegmentID                     WktGeom                             street                                 fromSt       toSt Direction\n",
              "4630782      10785  Brooklyn  2009  12  1  18   0  223     158041  POINT (1012109.3 153957.3)  Flatbush Ave NB Between Belt Pkwy  and Floyd Bennet Field South Entrance  CONNECTOR        NB"
            ],
            "text/html": [
              "<div>\n",
              "<style scoped>\n",
              "    .dataframe tbody tr th:only-of-type {\n",
              "        vertical-align: middle;\n",
              "    }\n",
              "\n",
              "    .dataframe tbody tr th {\n",
              "        vertical-align: top;\n",
              "    }\n",
              "\n",
              "    .dataframe thead th {\n",
              "        text-align: right;\n",
              "    }\n",
              "</style>\n",
              "<table border=\"1\" class=\"dataframe\">\n",
              "  <thead>\n",
              "    <tr style=\"text-align: right;\">\n",
              "      <th></th>\n",
              "      <th>RequestID</th>\n",
              "      <th>Boro</th>\n",
              "      <th>Yr</th>\n",
              "      <th>M</th>\n",
              "      <th>D</th>\n",
              "      <th>HH</th>\n",
              "      <th>MM</th>\n",
              "      <th>Vol</th>\n",
              "      <th>SegmentID</th>\n",
              "      <th>WktGeom</th>\n",
              "      <th>street</th>\n",
              "      <th>fromSt</th>\n",
              "      <th>toSt</th>\n",
              "      <th>Direction</th>\n",
              "    </tr>\n",
              "  </thead>\n",
              "  <tbody>\n",
              "    <tr>\n",
              "      <th>4630782</th>\n",
              "      <td>10785</td>\n",
              "      <td>Brooklyn</td>\n",
              "      <td>2009</td>\n",
              "      <td>12</td>\n",
              "      <td>1</td>\n",
              "      <td>18</td>\n",
              "      <td>0</td>\n",
              "      <td>223</td>\n",
              "      <td>158041</td>\n",
              "      <td>POINT (1012109.3 153957.3)</td>\n",
              "      <td>Flatbush Ave NB Between Belt Pkwy</td>\n",
              "      <td>and Floyd Bennet Field South Entrance</td>\n",
              "      <td>CONNECTOR</td>\n",
              "      <td>NB</td>\n",
              "    </tr>\n",
              "  </tbody>\n",
              "</table>\n",
              "</div>"
            ]
          },
          "metadata": {},
          "execution_count": 21
        }
      ],
      "source": [
        "%time\n",
        "highest_count = kdf[kdf['Boro'] == 'Brooklyn']\n",
        "highest_count.sort_values(by=['fromSt'], ascending=False).head(1)"
      ]
    },
    {
      "cell_type": "markdown",
      "source": [
        "**PySpark**"
      ],
      "metadata": {
        "id": "tZYKSt-y273x"
      }
    },
    {
      "cell_type": "code",
      "execution_count": null,
      "metadata": {
        "id": "bGV1nEzqVJJ-",
        "colab": {
          "base_uri": "https://localhost:8080/",
          "height": 357
        },
        "outputId": "c1cca2df-ff2d-426c-e47d-b95a4d384d89"
      },
      "outputs": [
        {
          "output_type": "stream",
          "name": "stdout",
          "text": [
            "CPU times: user 4 µs, sys: 2 µs, total: 6 µs\n",
            "Wall time: 9.78 µs\n"
          ]
        },
        {
          "output_type": "error",
          "ename": "AttributeError",
          "evalue": "ignored",
          "traceback": [
            "\u001b[0;31m---------------------------------------------------------------------------\u001b[0m",
            "\u001b[0;31mAttributeError\u001b[0m                            Traceback (most recent call last)",
            "\u001b[0;32m<ipython-input-17-5367174aa1c9>\u001b[0m in \u001b[0;36m<module>\u001b[0;34m\u001b[0m\n\u001b[1;32m      1\u001b[0m \u001b[0mget_ipython\u001b[0m\u001b[0;34m(\u001b[0m\u001b[0;34m)\u001b[0m\u001b[0;34m.\u001b[0m\u001b[0mrun_line_magic\u001b[0m\u001b[0;34m(\u001b[0m\u001b[0;34m'time'\u001b[0m\u001b[0;34m,\u001b[0m \u001b[0;34m''\u001b[0m\u001b[0;34m)\u001b[0m\u001b[0;34m\u001b[0m\u001b[0;34m\u001b[0m\u001b[0m\n\u001b[1;32m      2\u001b[0m \u001b[0mhighest_countp\u001b[0m \u001b[0;34m=\u001b[0m \u001b[0ms_df\u001b[0m\u001b[0;34m[\u001b[0m\u001b[0ms_df\u001b[0m\u001b[0;34m[\u001b[0m\u001b[0;34m'Boro'\u001b[0m\u001b[0;34m]\u001b[0m \u001b[0;34m==\u001b[0m \u001b[0;34m'Brooklyn'\u001b[0m\u001b[0;34m]\u001b[0m\u001b[0;34m\u001b[0m\u001b[0;34m\u001b[0m\u001b[0m\n\u001b[0;32m----> 3\u001b[0;31m \u001b[0mhighest_countp\u001b[0m\u001b[0;34m.\u001b[0m\u001b[0msort_values\u001b[0m\u001b[0;34m(\u001b[0m\u001b[0mby\u001b[0m\u001b[0;34m=\u001b[0m\u001b[0;34m[\u001b[0m\u001b[0;34m'fromSt'\u001b[0m\u001b[0;34m]\u001b[0m\u001b[0;34m,\u001b[0m \u001b[0mascending\u001b[0m\u001b[0;34m=\u001b[0m\u001b[0;32mFalse\u001b[0m\u001b[0;34m)\u001b[0m\u001b[0;34m.\u001b[0m\u001b[0mhead\u001b[0m\u001b[0;34m(\u001b[0m\u001b[0;36m1\u001b[0m\u001b[0;34m)\u001b[0m\u001b[0;34m\u001b[0m\u001b[0;34m\u001b[0m\u001b[0m\n\u001b[0m",
            "\u001b[0;32m/usr/local/lib/python3.8/dist-packages/pyspark/sql/dataframe.py\u001b[0m in \u001b[0;36m__getattr__\u001b[0;34m(self, name)\u001b[0m\n\u001b[1;32m   1986\u001b[0m         \"\"\"\n\u001b[1;32m   1987\u001b[0m         \u001b[0;32mif\u001b[0m \u001b[0mname\u001b[0m \u001b[0;32mnot\u001b[0m \u001b[0;32min\u001b[0m \u001b[0mself\u001b[0m\u001b[0;34m.\u001b[0m\u001b[0mcolumns\u001b[0m\u001b[0;34m:\u001b[0m\u001b[0;34m\u001b[0m\u001b[0;34m\u001b[0m\u001b[0m\n\u001b[0;32m-> 1988\u001b[0;31m             raise AttributeError(\n\u001b[0m\u001b[1;32m   1989\u001b[0m                 \u001b[0;34m\"'%s' object has no attribute '%s'\"\u001b[0m \u001b[0;34m%\u001b[0m \u001b[0;34m(\u001b[0m\u001b[0mself\u001b[0m\u001b[0;34m.\u001b[0m\u001b[0m__class__\u001b[0m\u001b[0;34m.\u001b[0m\u001b[0m__name__\u001b[0m\u001b[0;34m,\u001b[0m \u001b[0mname\u001b[0m\u001b[0;34m)\u001b[0m\u001b[0;34m\u001b[0m\u001b[0;34m\u001b[0m\u001b[0m\n\u001b[1;32m   1990\u001b[0m             )\n",
            "\u001b[0;31mAttributeError\u001b[0m: 'DataFrame' object has no attribute 'sort_values'"
          ]
        }
      ],
      "source": [
        "%time\n",
        "s_df.filter(\"Boro == 'Brooklyn'\").groupBy(\"fromSt\").agg({\"Vol\":\"sum\"}).sort(desc(\"sum(Vol)\")).show(1)"
      ]
    },
    {
      "cell_type": "markdown",
      "source": [
        "**Dask**"
      ],
      "metadata": {
        "id": "a1TV3MRf2_p_"
      }
    },
    {
      "cell_type": "code",
      "execution_count": null,
      "metadata": {
        "id": "1y8gWqGcVJJ-"
      },
      "outputs": [],
      "source": [
        "%time\n",
        "ddf[ddf.Boro == 'Brooklyn'].groupby(\"fromSt\").Vol.sum().nlargest(1).compute()"
      ]
    },
    {
      "cell_type": "markdown",
      "metadata": {
        "id": "p4CcVO1TVJJ-"
      },
      "source": [
        "#### Q4: Which year has the least request ID? Display top 5\n"
      ]
    },
    {
      "cell_type": "markdown",
      "source": [
        "**Koalas**"
      ],
      "metadata": {
        "id": "iXN6EdM85wRY"
      }
    },
    {
      "cell_type": "code",
      "execution_count": null,
      "metadata": {
        "id": "Wa96BGX1VJJ-"
      },
      "outputs": [],
      "source": [
        "%time\n",
        "kdf.groupby(['Yr'])['RequestID'].count().sort_values().head()"
      ]
    },
    {
      "cell_type": "markdown",
      "source": [
        "**PySpark**"
      ],
      "metadata": {
        "id": "UGcI5HCX5zji"
      }
    },
    {
      "cell_type": "code",
      "execution_count": null,
      "metadata": {
        "id": "R_C78KePVJJ-"
      },
      "outputs": [],
      "source": [
        "%time\n",
        "s_df.groupBy(['Yr']).count()"
      ]
    },
    {
      "cell_type": "markdown",
      "source": [
        "**Dask**"
      ],
      "metadata": {
        "id": "1Ov8OZ1F52qB"
      }
    },
    {
      "cell_type": "code",
      "execution_count": null,
      "metadata": {
        "id": "i4iTQAxBVJJ_"
      },
      "outputs": [],
      "source": [
        "%time\n",
        "ddf.groupby(['Yr'])['RequestID'].count().compute().sort_values().head(5)"
      ]
    },
    {
      "cell_type": "markdown",
      "metadata": {
        "id": "uFuZBqX1VJJ_"
      },
      "source": [
        "#### Q5: From each direction, display the total number of streets each car went through"
      ]
    },
    {
      "cell_type": "markdown",
      "source": [
        "**Koalas**"
      ],
      "metadata": {
        "id": "sm0FGmyP5405"
      }
    },
    {
      "cell_type": "code",
      "execution_count": null,
      "metadata": {
        "id": "0XCOkgIHVJJ_"
      },
      "outputs": [],
      "source": [
        "%time\n",
        "kdf.groupby(['Direction'])['street'].count()"
      ]
    },
    {
      "cell_type": "markdown",
      "source": [
        "**PySpark**"
      ],
      "metadata": {
        "id": "O3kUXjca56gO"
      }
    },
    {
      "cell_type": "code",
      "execution_count": null,
      "metadata": {
        "id": "xZWIg8jJVJJ_",
        "colab": {
          "base_uri": "https://localhost:8080/"
        },
        "outputId": "2e7abc22-cca3-4115-dde4-0a71fec10b9b"
      },
      "outputs": [
        {
          "output_type": "stream",
          "name": "stdout",
          "text": [
            "+---------+-----+\n",
            "|Direction|count|\n",
            "+---------+-----+\n",
            "|       NS| 2964|\n",
            "+---------+-----+\n",
            "only showing top 1 row\n",
            "\n"
          ]
        }
      ],
      "source": [
        "%time\n",
        "s_df.groupBy(['Direction']).count().show()"
      ]
    },
    {
      "cell_type": "markdown",
      "source": [
        "**Dask**"
      ],
      "metadata": {
        "id": "BfRs7ox159Bk"
      }
    },
    {
      "cell_type": "code",
      "execution_count": null,
      "metadata": {
        "id": "MMExemAYVJJ_"
      },
      "outputs": [],
      "source": [
        "%time\n",
        "ddf.groupby(['Direction'])['street'].count().head()"
      ]
    },
    {
      "cell_type": "markdown",
      "metadata": {
        "id": "VxoO755tVJJ_"
      },
      "source": [
        "## Inferences and Conclusion \n",
        "\n",
        "Koalas, Dask, and PySpark are all tools that can be used for large-scale data processing and analysis.\n",
        "\n",
        "Koalas is a library that provides a pandas-like API for working with large datasets using Apache Spark. It allows users to perform operations on large datasets using familiar pandas syntax, and it automatically handles the distributed computing and memory management that is required when working with large amounts of data.\n",
        "\n",
        "Dask is a parallel computing library that can be used to perform parallel and distributed computing on large datasets. It allows users to perform operations on large datasets using familiar numpy and pandas syntax, and it can handle distributed computing and memory management automatically.\n",
        "\n",
        "PySpark is the Python API for Apache Spark, an open-source, distributed computing system for big data processing. It allows users to perform operations on large datasets using a distributed computing model, and it provides a wide variety of APIs for data processing, machine learning, and graph processing.\n",
        "\n",
        "In summary, Koalas and Dask are more similar in that they both provide a more familiar API for data processing and analysis, while PySpark is a more general-purpose tool for distributed data processing.\n",
        "\n",
        "--------------------------------------------------------------------------\n",
        "\n",
        "Koalas is great for begginers. It is easy to understand and requires little effort. both Koalas and PySpark are based on Spark, one of the fastest distributed computing engines.\n",
        "\n",
        "Spark is mature and all-inclusive. If you want a single project that does everything and you’re already on Big Data hardware, then Spark is a safe bet, especially if your use cases are typical ETL + SQL and you’re already using Scala.\n",
        "\n",
        "Dask is lighter weight and is easier to integrate into existing code and hardware. If your problems vary beyond typical ETL + SQL and you want to add flexible parallelism to existing solutions, then Dask may be a good fit, especially if you are already using Python and associated libraries like NumPy and Pandas."
      ]
    },
    {
      "cell_type": "markdown",
      "source": [
        "Based on the project, we can conclude that Pyspark library compute the fastest in the overall tasks. PySpark is the best fit which could process operations many times(100x) faster than Pandas. But overall, it all depends on the suitablity to each user.\n",
        "\n",
        "# Reasons to choose Koalas:\n",
        "1. Koalas is lazy-evaluated like Spark, i.e., it executes only when triggered by an action.\n",
        "\n",
        "2. You do not need a separate Spark context/Spark session for processing the Koalas dataframe. Koalas makes use of the existing Spark context/Spark session.\n",
        "\n",
        "3. Koalas has an SQL API with which you can perform query operations on a Koalas dataframe.\n",
        "\n",
        "4. By configuring Koalas, you can even toggle computation between Pandas and Spark.\n",
        "\n",
        "5. Koalas dataframe can be derived from both the Pandas and PySpark dataframes.\n",
        "\n",
        "# Reasons to choose Pyspark:\n",
        "(Python is very easy to learn and implement. It provides simple and comprehensive API. With Python, the readability of code, maintenance, and familiarity is far better. It features various options for data visualization, which is difficult using Scala or Java.)\n",
        "\n",
        "1. You prefer Scala or the SQL language\n",
        "\n",
        "2. You have mostly JVM infrastructure and legacy systems\n",
        "\n",
        "3. You want an established and trusted solution for business\n",
        "\n",
        "4. You are mostly doing business analytics with some lightweight machine learning\n",
        "\n",
        "5. You want an all-in-one solution\n",
        "\n",
        "# Reasons to choose Dask:\n",
        "(Dask is lighter weight and is easier to integrate into existing code and hardware. If your problems vary beyond typical ETL + SQL and you want to add flexible parallelism to existing solutions, then Dask may be a good fit, especially if you are already using Python and associated libraries like NumPy and Pandas.)\n",
        "\n",
        "1. You prefer Python or native code, or have large legacy code bases that you do not want to entirely rewrite\n",
        "\n",
        "2. Your use case is complex or does not cleanly fit the Spark computing model\n",
        "\n",
        "3. You want a lighter-weight transition from local computing to cluster computing\n",
        "\n",
        "4. You want to interoperate with other technologies and don’t mind installing multiple packages\n"
      ],
      "metadata": {
        "id": "1ZhwD46HVHH3"
      }
    },
    {
      "cell_type": "markdown",
      "metadata": {
        "id": "xfuc6sJgVJKA"
      },
      "source": [
        "## References and Future Work\n",
        "\n",
        "https://spark.apache.org/docs/latest/api/python/reference/pyspark.sql/functions.html\n",
        "\n",
        "https://docs.dask.org/en/stable/spark.html\n",
        "\n",
        "https://www.machinelearningplus.com/python/dask-tutorial/"
      ]
    }
  ],
  "metadata": {
    "colab": {
      "provenance": [],
      "include_colab_link": true
    },
    "gpuClass": "standard",
    "kernelspec": {
      "display_name": "Python 3",
      "language": "python",
      "name": "python3"
    },
    "language_info": {
      "codemirror_mode": {
        "name": "ipython",
        "version": 3
      },
      "file_extension": ".py",
      "mimetype": "text/x-python",
      "name": "python",
      "nbconvert_exporter": "python",
      "pygments_lexer": "ipython3",
      "version": "3.8.5"
    }
  },
  "nbformat": 4,
  "nbformat_minor": 0
}                                                                                            

{
  "cells": [
    {
      "cell_type": "markdown",
      "metadata": {
        "id": "view-in-github",
        "colab_type": "text"
      },
      "source": [
        "<a href=\"https://colab.research.google.com/github/drshahizan/Python-big-data/blob/main/Assignment%202b/BigMac/VAEXAssignment_File2.ipynb\" target=\"_parent\"><img src=\"https://colab.research.google.com/assets/colab-badge.svg\" alt=\"Open In Colab\"/></a>"
      ]
    },
    {
      "cell_type": "markdown",
      "source": [
        "# Medical Dataset(Rate.csv)\n",
        "\n",
        "\n",
        "Medical datasets are electronic collections of data that are related to the healthcare industry. It uses a virtual memory approach to allow processing of large datasets that do not fit in memory. Vaex also provides a variety of functions for data visualization and exploration. Pandas is another popular Python library for data manipulation and analysis. It is well-suited for small to medium-sized datasets that can be loaded into memory, but it can become slow and unwieldy when working with large datasets. In this assignment, we will show you how which library are the most suitable to use with large dataset. \n",
        "\n",
        "# Group Members\n",
        "\n",
        "1.   Afif Hazmie Arsyad bin Agus (A20EC0176)\n",
        "2.   Muhammad Imran Hakimi bin Mohd Shukri (A20EC0213)\n",
        "1.   Jia Rou\n",
        "2.   Rasmin\n",
        "\n",
        "\n",
        "\n"
      ],
      "metadata": {
        "id": "bMeBafK7VkL5"
      }
    },
    {
      "cell_type": "code",
      "source": [
        "pip install -U matplotlib"
      ],
      "metadata": {
        "colab": {
          "base_uri": "https://localhost:8080/",
          "height": 537
        },
        "id": "91RlrmFpmt2x",
        "outputId": "8adbd9a9-6e37-44c1-c4c9-66803d11dde4"
      },
      "execution_count": null,
      "outputs": [
        {
          "output_type": "stream",
          "name": "stdout",
          "text": [
            "Looking in indexes: https://pypi.org/simple, https://us-python.pkg.dev/colab-wheels/public/simple/\n",
            "Requirement already satisfied: matplotlib in /usr/local/lib/python3.8/dist-packages (3.2.2)\n",
            "Collecting matplotlib\n",
            "  Downloading matplotlib-3.6.2-cp38-cp38-manylinux_2_12_x86_64.manylinux2010_x86_64.whl (9.4 MB)\n",
            "\u001b[2K     \u001b[90m━━━━━━━━━━━━━━━━━━━━━━━━━━━━━━━━━━━━━━━━\u001b[0m \u001b[32m9.4/9.4 MB\u001b[0m \u001b[31m48.3 MB/s\u001b[0m eta \u001b[36m0:00:00\u001b[0m\n",
            "\u001b[?25hRequirement already satisfied: cycler>=0.10 in /usr/local/lib/python3.8/dist-packages (from matplotlib) (0.11.0)\n",
            "Requirement already satisfied: packaging>=20.0 in /usr/local/lib/python3.8/dist-packages (from matplotlib) (21.3)\n",
            "Requirement already satisfied: pyparsing>=2.2.1 in /usr/local/lib/python3.8/dist-packages (from matplotlib) (3.0.9)\n",
            "Requirement already satisfied: numpy>=1.19 in /usr/local/lib/python3.8/dist-packages (from matplotlib) (1.21.6)\n",
            "Requirement already satisfied: python-dateutil>=2.7 in /usr/local/lib/python3.8/dist-packages (from matplotlib) (2.8.2)\n",
            "Collecting fonttools>=4.22.0\n",
            "  Downloading fonttools-4.38.0-py3-none-any.whl (965 kB)\n",
            "\u001b[2K     \u001b[90m━━━━━━━━━━━━━━━━━━━━━━━━━━━━━━━━━━━━━━\u001b[0m \u001b[32m965.4/965.4 KB\u001b[0m \u001b[31m50.9 MB/s\u001b[0m eta \u001b[36m0:00:00\u001b[0m\n",
            "\u001b[?25hRequirement already satisfied: pillow>=6.2.0 in /usr/local/lib/python3.8/dist-packages (from matplotlib) (7.1.2)\n",
            "Requirement already satisfied: kiwisolver>=1.0.1 in /usr/local/lib/python3.8/dist-packages (from matplotlib) (1.4.4)\n",
            "Collecting contourpy>=1.0.1\n",
            "  Downloading contourpy-1.0.6-cp38-cp38-manylinux_2_17_x86_64.manylinux2014_x86_64.whl (295 kB)\n",
            "\u001b[2K     \u001b[90m━━━━━━━━━━━━━━━━━━━━━━━━━━━━━━━━━━━━━━\u001b[0m \u001b[32m296.0/296.0 KB\u001b[0m \u001b[31m28.2 MB/s\u001b[0m eta \u001b[36m0:00:00\u001b[0m\n",
            "\u001b[?25hRequirement already satisfied: six>=1.5 in /usr/local/lib/python3.8/dist-packages (from python-dateutil>=2.7->matplotlib) (1.15.0)\n",
            "Installing collected packages: fonttools, contourpy, matplotlib\n",
            "  Attempting uninstall: matplotlib\n",
            "    Found existing installation: matplotlib 3.2.2\n",
            "    Uninstalling matplotlib-3.2.2:\n",
            "      Successfully uninstalled matplotlib-3.2.2\n",
            "Successfully installed contourpy-1.0.6 fonttools-4.38.0 matplotlib-3.6.2\n"
          ]
        },
        {
          "output_type": "display_data",
          "data": {
            "application/vnd.colab-display-data+json": {
              "pip_warning": {
                "packages": [
                  "matplotlib",
                  "mpl_toolkits"
                ]
              }
            }
          },
          "metadata": {}
        }
      ]
    },
    {
      "cell_type": "code",
      "source": [
        "!pip install vaex"
      ],
      "metadata": {
        "colab": {
          "base_uri": "https://localhost:8080/"
        },
        "id": "2f8z7ve1Hqd_",
        "outputId": "1321bf26-3e33-44ca-c9a7-19ece429b747"
      },
      "execution_count": null,
      "outputs": [
        {
          "output_type": "stream",
          "name": "stdout",
          "text": [
            "Looking in indexes: https://pypi.org/simple, https://us-python.pkg.dev/colab-wheels/public/simple/\n",
            "Collecting vaex\n",
            "  Downloading vaex-4.16.0-py3-none-any.whl (4.7 kB)\n",
            "Collecting vaex-server<0.9,>=0.8.1\n",
            "  Downloading vaex_server-0.8.1-py3-none-any.whl (23 kB)\n",
            "Collecting vaex-hdf5<0.15,>=0.13.0\n",
            "  Downloading vaex_hdf5-0.14.1-py3-none-any.whl (16 kB)\n",
            "Collecting vaex-jupyter<0.9,>=0.8.1\n",
            "  Downloading vaex_jupyter-0.8.1-py3-none-any.whl (43 kB)\n",
            "\u001b[2K     \u001b[90m━━━━━━━━━━━━━━━━━━━━━━━━━━━━━━━━━━━━━━━━\u001b[0m \u001b[32m43.2/43.2 KB\u001b[0m \u001b[31m4.8 MB/s\u001b[0m eta \u001b[36m0:00:00\u001b[0m\n",
            "\u001b[?25hCollecting vaex-core<4.17,>=4.16.0\n",
            "  Downloading vaex_core-4.16.1-cp38-cp38-manylinux_2_17_x86_64.manylinux2014_x86_64.whl (4.5 MB)\n",
            "\u001b[2K     \u001b[90m━━━━━━━━━━━━━━━━━━━━━━━━━━━━━━━━━━━━━━━━\u001b[0m \u001b[32m4.5/4.5 MB\u001b[0m \u001b[31m36.2 MB/s\u001b[0m eta \u001b[36m0:00:00\u001b[0m\n",
            "\u001b[?25hCollecting vaex-astro<0.10,>=0.9.3\n",
            "  Downloading vaex_astro-0.9.3-py3-none-any.whl (20 kB)\n",
            "Collecting vaex-ml<0.19,>=0.18.1\n",
            "  Downloading vaex_ml-0.18.1-py3-none-any.whl (58 kB)\n",
            "\u001b[2K     \u001b[90m━━━━━━━━━━━━━━━━━━━━━━━━━━━━━━━━━━━━━━━━\u001b[0m \u001b[32m58.2/58.2 KB\u001b[0m \u001b[31m7.6 MB/s\u001b[0m eta \u001b[36m0:00:00\u001b[0m\n",
            "\u001b[?25hCollecting vaex-viz<0.6,>=0.5.4\n",
            "  Downloading vaex_viz-0.5.4-py3-none-any.whl (19 kB)\n",
            "Requirement already satisfied: astropy in /usr/local/lib/python3.8/dist-packages (from vaex-astro<0.10,>=0.9.3->vaex) (4.3.1)\n",
            "Requirement already satisfied: pandas in /usr/local/lib/python3.8/dist-packages (from vaex-core<4.17,>=4.16.0->vaex) (1.3.5)\n",
            "Requirement already satisfied: cloudpickle in /usr/local/lib/python3.8/dist-packages (from vaex-core<4.17,>=4.16.0->vaex) (1.5.0)\n",
            "Requirement already satisfied: pyyaml in /usr/local/lib/python3.8/dist-packages (from vaex-core<4.17,>=4.16.0->vaex) (6.0)\n",
            "Collecting nest-asyncio>=1.3.3\n",
            "  Downloading nest_asyncio-1.5.6-py3-none-any.whl (5.2 kB)\n",
            "Requirement already satisfied: filelock in /usr/local/lib/python3.8/dist-packages (from vaex-core<4.17,>=4.16.0->vaex) (3.8.2)\n",
            "Requirement already satisfied: dask!=2022.4.0 in /usr/local/lib/python3.8/dist-packages (from vaex-core<4.17,>=4.16.0->vaex) (2022.2.1)\n",
            "Requirement already satisfied: progressbar2 in /usr/local/lib/python3.8/dist-packages (from vaex-core<4.17,>=4.16.0->vaex) (3.38.0)\n",
            "Collecting frozendict!=2.2.0\n",
            "  Downloading frozendict-2.3.4-cp38-cp38-manylinux_2_17_x86_64.manylinux2014_x86_64.whl (110 kB)\n",
            "\u001b[2K     \u001b[90m━━━━━━━━━━━━━━━━━━━━━━━━━━━━━━━━━━━━━━\u001b[0m \u001b[32m111.0/111.0 KB\u001b[0m \u001b[31m14.4 MB/s\u001b[0m eta \u001b[36m0:00:00\u001b[0m\n",
            "\u001b[?25hRequirement already satisfied: tabulate>=0.8.3 in /usr/local/lib/python3.8/dist-packages (from vaex-core<4.17,>=4.16.0->vaex) (0.8.10)\n",
            "Requirement already satisfied: requests in /usr/local/lib/python3.8/dist-packages (from vaex-core<4.17,>=4.16.0->vaex) (2.25.1)\n",
            "Requirement already satisfied: pyarrow>=5.0.0 in /usr/local/lib/python3.8/dist-packages (from vaex-core<4.17,>=4.16.0->vaex) (9.0.0)\n",
            "Collecting blake3\n",
            "  Downloading blake3-0.3.3-cp38-cp38-manylinux_2_17_x86_64.manylinux2014_x86_64.whl (1.2 MB)\n",
            "\u001b[2K     \u001b[90m━━━━━━━━━━━━━━━━━━━━━━━━━━━━━━━━━━━━━━━━\u001b[0m \u001b[32m1.2/1.2 MB\u001b[0m \u001b[31m54.1 MB/s\u001b[0m eta \u001b[36m0:00:00\u001b[0m\n",
            "\u001b[?25hCollecting rich\n",
            "  Downloading rich-13.0.1-py3-none-any.whl (238 kB)\n",
            "\u001b[2K     \u001b[90m━━━━━━━━━━━━━━━━━━━━━━━━━━━━━━━━━━━━━━\u001b[0m \u001b[32m238.1/238.1 KB\u001b[0m \u001b[31m25.2 MB/s\u001b[0m eta \u001b[36m0:00:00\u001b[0m\n",
            "\u001b[?25hCollecting aplus\n",
            "  Downloading aplus-0.11.0.tar.gz (3.7 kB)\n",
            "  Preparing metadata (setup.py) ... \u001b[?25l\u001b[?25hdone\n",
            "Requirement already satisfied: six in /usr/local/lib/python3.8/dist-packages (from vaex-core<4.17,>=4.16.0->vaex) (1.15.0)\n",
            "Requirement already satisfied: future>=0.15.2 in /usr/local/lib/python3.8/dist-packages (from vaex-core<4.17,>=4.16.0->vaex) (0.16.0)\n",
            "Requirement already satisfied: pydantic>=1.8.0 in /usr/local/lib/python3.8/dist-packages (from vaex-core<4.17,>=4.16.0->vaex) (1.10.2)\n",
            "Requirement already satisfied: numpy>=1.16 in /usr/local/lib/python3.8/dist-packages (from vaex-core<4.17,>=4.16.0->vaex) (1.21.6)\n",
            "Requirement already satisfied: h5py>=2.9 in /usr/local/lib/python3.8/dist-packages (from vaex-hdf5<0.15,>=0.13.0->vaex) (3.1.0)\n",
            "Collecting ipyleaflet\n",
            "  Downloading ipyleaflet-0.17.2-py3-none-any.whl (3.7 MB)\n",
            "\u001b[2K     \u001b[90m━━━━━━━━━━━━━━━━━━━━━━━━━━━━━━━━━━━━━━━━\u001b[0m \u001b[32m3.7/3.7 MB\u001b[0m \u001b[31m58.1 MB/s\u001b[0m eta \u001b[36m0:00:00\u001b[0m\n",
            "\u001b[?25hCollecting ipyvolume>=0.4\n",
            "  Downloading ipyvolume-0.5.2-py2.py3-none-any.whl (2.9 MB)\n",
            "\u001b[2K     \u001b[90m━━━━━━━━━━━━━━━━━━━━━━━━━━━━━━━━━━━━━━━━\u001b[0m \u001b[32m2.9/2.9 MB\u001b[0m \u001b[31m37.2 MB/s\u001b[0m eta \u001b[36m0:00:00\u001b[0m\n",
            "\u001b[?25hCollecting ipympl\n",
            "  Downloading ipympl-0.9.2-py2.py3-none-any.whl (510 kB)\n",
            "\u001b[2K     \u001b[90m━━━━━━━━━━━━━━━━━━━━━━━━━━━━━━━━━━━━━━\u001b[0m \u001b[32m510.3/510.3 KB\u001b[0m \u001b[31m12.1 MB/s\u001b[0m eta \u001b[36m0:00:00\u001b[0m\n",
            "\u001b[?25hRequirement already satisfied: xarray in /usr/local/lib/python3.8/dist-packages (from vaex-jupyter<0.9,>=0.8.1->vaex) (2022.12.0)\n",
            "Collecting bqplot>=0.10.1\n",
            "  Downloading bqplot-0.12.36-py2.py3-none-any.whl (1.2 MB)\n",
            "\u001b[2K     \u001b[90m━━━━━━━━━━━━━━━━━━━━━━━━━━━━━━━━━━━━━━━━\u001b[0m \u001b[32m1.2/1.2 MB\u001b[0m \u001b[31m40.9 MB/s\u001b[0m eta \u001b[36m0:00:00\u001b[0m\n",
            "\u001b[?25hCollecting ipyvuetify<2,>=1.2.2\n",
            "  Downloading ipyvuetify-1.8.4-py2.py3-none-any.whl (11.7 MB)\n",
            "\u001b[2K     \u001b[90m━━━━━━━━━━━━━━━━━━━━━━━━━━━━━━━━━━━━━━━━\u001b[0m \u001b[32m11.7/11.7 MB\u001b[0m \u001b[31m35.4 MB/s\u001b[0m eta \u001b[36m0:00:00\u001b[0m\n",
            "\u001b[?25hRequirement already satisfied: traitlets in /usr/local/lib/python3.8/dist-packages (from vaex-ml<0.19,>=0.18.1->vaex) (5.7.1)\n",
            "Requirement already satisfied: numba in /usr/local/lib/python3.8/dist-packages (from vaex-ml<0.19,>=0.18.1->vaex) (0.56.4)\n",
            "Requirement already satisfied: jinja2 in /usr/local/lib/python3.8/dist-packages (from vaex-ml<0.19,>=0.18.1->vaex) (2.11.3)\n",
            "Requirement already satisfied: tornado>4.1 in /usr/local/lib/python3.8/dist-packages (from vaex-server<0.9,>=0.8.1->vaex) (6.0.4)\n",
            "Requirement already satisfied: cachetools in /usr/local/lib/python3.8/dist-packages (from vaex-server<0.9,>=0.8.1->vaex) (5.2.0)\n",
            "Collecting fastapi\n",
            "  Downloading fastapi-0.89.0-py3-none-any.whl (55 kB)\n",
            "\u001b[2K     \u001b[90m━━━━━━━━━━━━━━━━━━━━━━━━━━━━━━━━━━━━━━━━\u001b[0m \u001b[32m55.6/55.6 KB\u001b[0m \u001b[31m5.7 MB/s\u001b[0m eta \u001b[36m0:00:00\u001b[0m\n",
            "\u001b[?25hCollecting uvicorn[standard]\n",
            "  Downloading uvicorn-0.20.0-py3-none-any.whl (56 kB)\n",
            "\u001b[2K     \u001b[90m━━━━━━━━━━━━━━━━━━━━━━━━━━━━━━━━━━━━━━━\u001b[0m \u001b[32m56.9/56.9 KB\u001b[0m \u001b[31m218.2 kB/s\u001b[0m eta \u001b[36m0:00:00\u001b[0m\n",
            "\u001b[?25hRequirement already satisfied: matplotlib>=1.3.1 in /usr/local/lib/python3.8/dist-packages (from vaex-viz<0.6,>=0.5.4->vaex) (3.6.2)\n",
            "Requirement already satisfied: pillow in /usr/local/lib/python3.8/dist-packages (from vaex-viz<0.6,>=0.5.4->vaex) (7.1.2)\n",
            "Requirement already satisfied: ipywidgets<9,>=7.5.0 in /usr/local/lib/python3.8/dist-packages (from bqplot>=0.10.1->vaex-jupyter<0.9,>=0.8.1->vaex) (7.7.1)\n",
            "Collecting traittypes>=0.0.6\n",
            "  Downloading traittypes-0.2.1-py2.py3-none-any.whl (8.6 kB)\n",
            "Requirement already satisfied: packaging>=20.0 in /usr/local/lib/python3.8/dist-packages (from dask!=2022.4.0->vaex-core<4.17,>=4.16.0->vaex) (21.3)\n",
            "Requirement already satisfied: fsspec>=0.6.0 in /usr/local/lib/python3.8/dist-packages (from dask!=2022.4.0->vaex-core<4.17,>=4.16.0->vaex) (2022.11.0)\n",
            "Requirement already satisfied: toolz>=0.8.2 in /usr/local/lib/python3.8/dist-packages (from dask!=2022.4.0->vaex-core<4.17,>=4.16.0->vaex) (0.12.0)\n",
            "Requirement already satisfied: partd>=0.3.10 in /usr/local/lib/python3.8/dist-packages (from dask!=2022.4.0->vaex-core<4.17,>=4.16.0->vaex) (1.3.0)\n",
            "Collecting pythreejs>=1.0.0\n",
            "  Downloading pythreejs-2.4.1-py3-none-any.whl (3.3 MB)\n",
            "\u001b[2K     \u001b[90m━━━━━━━━━━━━━━━━━━━━━━━━━━━━━━━━━━━━━━━━\u001b[0m \u001b[32m3.3/3.3 MB\u001b[0m \u001b[31m25.7 MB/s\u001b[0m eta \u001b[36m0:00:00\u001b[0m\n",
            "\u001b[?25hCollecting ipywebrtc\n",
            "  Downloading ipywebrtc-0.6.0-py2.py3-none-any.whl (260 kB)\n",
            "\u001b[2K     \u001b[90m━━━━━━━━━━━━━━━━━━━━━━━━━━━━━━━━━━━━━━\u001b[0m \u001b[32m260.7/260.7 KB\u001b[0m \u001b[31m21.0 MB/s\u001b[0m eta \u001b[36m0:00:00\u001b[0m\n",
            "\u001b[?25hCollecting ipyvue<2,>=1.5\n",
            "  Downloading ipyvue-1.8.0-py2.py3-none-any.whl (2.7 MB)\n",
            "\u001b[2K     \u001b[90m━━━━━━━━━━━━━━━━━━━━━━━━━━━━━━━━━━━━━━━━\u001b[0m \u001b[32m2.7/2.7 MB\u001b[0m \u001b[31m25.0 MB/s\u001b[0m eta \u001b[36m0:00:00\u001b[0m\n",
            "\u001b[?25hRequirement already satisfied: kiwisolver>=1.0.1 in /usr/local/lib/python3.8/dist-packages (from matplotlib>=1.3.1->vaex-viz<0.6,>=0.5.4->vaex) (1.4.4)\n",
            "Requirement already satisfied: contourpy>=1.0.1 in /usr/local/lib/python3.8/dist-packages (from matplotlib>=1.3.1->vaex-viz<0.6,>=0.5.4->vaex) (1.0.6)\n",
            "Requirement already satisfied: fonttools>=4.22.0 in /usr/local/lib/python3.8/dist-packages (from matplotlib>=1.3.1->vaex-viz<0.6,>=0.5.4->vaex) (4.38.0)\n",
            "Requirement already satisfied: python-dateutil>=2.7 in /usr/local/lib/python3.8/dist-packages (from matplotlib>=1.3.1->vaex-viz<0.6,>=0.5.4->vaex) (2.8.2)\n",
            "Requirement already satisfied: pyparsing>=2.2.1 in /usr/local/lib/python3.8/dist-packages (from matplotlib>=1.3.1->vaex-viz<0.6,>=0.5.4->vaex) (3.0.9)\n",
            "Requirement already satisfied: cycler>=0.10 in /usr/local/lib/python3.8/dist-packages (from matplotlib>=1.3.1->vaex-viz<0.6,>=0.5.4->vaex) (0.11.0)\n",
            "Requirement already satisfied: pytz>=2017.3 in /usr/local/lib/python3.8/dist-packages (from pandas->vaex-core<4.17,>=4.16.0->vaex) (2022.7)\n",
            "Requirement already satisfied: typing-extensions>=4.1.0 in /usr/local/lib/python3.8/dist-packages (from pydantic>=1.8.0->vaex-core<4.17,>=4.16.0->vaex) (4.4.0)\n",
            "Requirement already satisfied: pyerfa>=1.7.3 in /usr/local/lib/python3.8/dist-packages (from astropy->vaex-astro<0.10,>=0.9.3->vaex) (2.0.0.1)\n",
            "Collecting starlette==0.22.0\n",
            "  Downloading starlette-0.22.0-py3-none-any.whl (64 kB)\n",
            "\u001b[2K     \u001b[90m━━━━━━━━━━━━━━━━━━━━━━━━━━━━━━━━━━━━━━━━\u001b[0m \u001b[32m64.3/64.3 KB\u001b[0m \u001b[31m7.6 MB/s\u001b[0m eta \u001b[36m0:00:00\u001b[0m\n",
            "\u001b[?25hCollecting anyio<5,>=3.4.0\n",
            "  Downloading anyio-3.6.2-py3-none-any.whl (80 kB)\n",
            "\u001b[2K     \u001b[90m━━━━━━━━━━━━━━━━━━━━━━━━━━━━━━━━━━━━━━━━\u001b[0m \u001b[32m80.6/80.6 KB\u001b[0m \u001b[31m4.2 MB/s\u001b[0m eta \u001b[36m0:00:00\u001b[0m\n",
            "\u001b[?25hRequirement already satisfied: branca>=0.5.0 in /usr/local/lib/python3.8/dist-packages (from ipyleaflet->vaex-jupyter<0.9,>=0.8.1->vaex) (0.6.0)\n",
            "Collecting xyzservices>=2021.8.1\n",
            "  Downloading xyzservices-2022.9.0-py3-none-any.whl (55 kB)\n",
            "\u001b[2K     \u001b[90m━━━━━━━━━━━━━━━━━━━━━━━━━━━━━━━━━━━━━━━━\u001b[0m \u001b[32m55.9/55.9 KB\u001b[0m \u001b[31m5.8 MB/s\u001b[0m eta \u001b[36m0:00:00\u001b[0m\n",
            "\u001b[?25hRequirement already satisfied: ipython<9 in /usr/local/lib/python3.8/dist-packages (from ipympl->vaex-jupyter<0.9,>=0.8.1->vaex) (7.9.0)\n",
            "Requirement already satisfied: ipython-genutils in /usr/local/lib/python3.8/dist-packages (from ipympl->vaex-jupyter<0.9,>=0.8.1->vaex) (0.2.0)\n",
            "Requirement already satisfied: MarkupSafe>=0.23 in /usr/local/lib/python3.8/dist-packages (from jinja2->vaex-ml<0.19,>=0.18.1->vaex) (2.0.1)\n",
            "Requirement already satisfied: llvmlite<0.40,>=0.39.0dev0 in /usr/local/lib/python3.8/dist-packages (from numba->vaex-ml<0.19,>=0.18.1->vaex) (0.39.1)\n",
            "Requirement already satisfied: importlib-metadata in /usr/local/lib/python3.8/dist-packages (from numba->vaex-ml<0.19,>=0.18.1->vaex) (5.2.0)\n",
            "Requirement already satisfied: setuptools in /usr/local/lib/python3.8/dist-packages (from numba->vaex-ml<0.19,>=0.18.1->vaex) (57.4.0)\n",
            "Requirement already satisfied: python-utils>=2.3.0 in /usr/local/lib/python3.8/dist-packages (from progressbar2->vaex-core<4.17,>=4.16.0->vaex) (3.4.5)\n",
            "Requirement already satisfied: chardet<5,>=3.0.2 in /usr/local/lib/python3.8/dist-packages (from requests->vaex-core<4.17,>=4.16.0->vaex) (4.0.0)\n",
            "Requirement already satisfied: urllib3<1.27,>=1.21.1 in /usr/local/lib/python3.8/dist-packages (from requests->vaex-core<4.17,>=4.16.0->vaex) (1.24.3)\n",
            "Requirement already satisfied: idna<3,>=2.5 in /usr/local/lib/python3.8/dist-packages (from requests->vaex-core<4.17,>=4.16.0->vaex) (2.10)\n",
            "Requirement already satisfied: certifi>=2017.4.17 in /usr/local/lib/python3.8/dist-packages (from requests->vaex-core<4.17,>=4.16.0->vaex) (2022.12.7)\n",
            "Requirement already satisfied: pygments<3.0.0,>=2.6.0 in /usr/local/lib/python3.8/dist-packages (from rich->vaex-core<4.17,>=4.16.0->vaex) (2.6.1)\n",
            "Collecting commonmark<0.10.0,>=0.9.0\n",
            "  Downloading commonmark-0.9.1-py2.py3-none-any.whl (51 kB)\n",
            "\u001b[2K     \u001b[90m━━━━━━━━━━━━━━━━━━━━━━━━━━━━━━━━━━━━━━━━\u001b[0m \u001b[32m51.1/51.1 KB\u001b[0m \u001b[31m5.3 MB/s\u001b[0m eta \u001b[36m0:00:00\u001b[0m\n",
            "\u001b[?25hRequirement already satisfied: click>=7.0 in /usr/local/lib/python3.8/dist-packages (from uvicorn[standard]->vaex-server<0.9,>=0.8.1->vaex) (7.1.2)\n",
            "Collecting h11>=0.8\n",
            "  Downloading h11-0.14.0-py3-none-any.whl (58 kB)\n",
            "\u001b[2K     \u001b[90m━━━━━━━━━━━━━━━━━━━━━━━━━━━━━━━━━━━━━━━━\u001b[0m \u001b[32m58.3/58.3 KB\u001b[0m \u001b[31m5.8 MB/s\u001b[0m eta \u001b[36m0:00:00\u001b[0m\n",
            "\u001b[?25hCollecting websockets>=10.4\n",
            "  Downloading websockets-10.4-cp38-cp38-manylinux_2_5_x86_64.manylinux1_x86_64.manylinux_2_17_x86_64.manylinux2014_x86_64.whl (106 kB)\n",
            "\u001b[2K     \u001b[90m━━━━━━━━━━━━━━━━━━━━━━━━━━━━━━━━━━━━━━\u001b[0m \u001b[32m107.0/107.0 KB\u001b[0m \u001b[31m10.7 MB/s\u001b[0m eta \u001b[36m0:00:00\u001b[0m\n",
            "\u001b[?25hCollecting uvloop!=0.15.0,!=0.15.1,>=0.14.0\n",
            "  Downloading uvloop-0.17.0-cp38-cp38-manylinux_2_17_x86_64.manylinux2014_x86_64.whl (4.6 MB)\n",
            "\u001b[2K     \u001b[90m━━━━━━━━━━━━━━━━━━━━━━━━━━━━━━━━━━━━━━━━\u001b[0m \u001b[32m4.6/4.6 MB\u001b[0m \u001b[31m53.2 MB/s\u001b[0m eta \u001b[36m0:00:00\u001b[0m\n",
            "\u001b[?25hCollecting python-dotenv>=0.13\n",
            "  Downloading python_dotenv-0.21.0-py3-none-any.whl (18 kB)\n",
            "Collecting httptools>=0.5.0\n",
            "  Downloading httptools-0.5.0-cp38-cp38-manylinux_2_5_x86_64.manylinux1_x86_64.manylinux_2_17_x86_64.manylinux2014_x86_64.whl (427 kB)\n",
            "\u001b[2K     \u001b[90m━━━━━━━━━━━━━━━━━━━━━━━━━━━━━━━━━━━━━━\u001b[0m \u001b[32m427.8/427.8 KB\u001b[0m \u001b[31m29.6 MB/s\u001b[0m eta \u001b[36m0:00:00\u001b[0m\n",
            "\u001b[?25hCollecting watchfiles>=0.13\n",
            "  Downloading watchfiles-0.18.1-cp37-abi3-manylinux_2_17_x86_64.manylinux2014_x86_64.whl (1.2 MB)\n",
            "\u001b[2K     \u001b[90m━━━━━━━━━━━━━━━━━━━━━━━━━━━━━━━━━━━━━━━━\u001b[0m \u001b[32m1.2/1.2 MB\u001b[0m \u001b[31m38.4 MB/s\u001b[0m eta \u001b[36m0:00:00\u001b[0m\n",
            "\u001b[?25hRequirement already satisfied: backcall in /usr/local/lib/python3.8/dist-packages (from ipython<9->ipympl->vaex-jupyter<0.9,>=0.8.1->vaex) (0.2.0)\n",
            "Requirement already satisfied: pexpect in /usr/local/lib/python3.8/dist-packages (from ipython<9->ipympl->vaex-jupyter<0.9,>=0.8.1->vaex) (4.8.0)\n",
            "Collecting jedi>=0.10\n",
            "  Downloading jedi-0.18.2-py2.py3-none-any.whl (1.6 MB)\n",
            "\u001b[2K     \u001b[90m━━━━━━━━━━━━━━━━━━━━━━━━━━━━━━━━━━━━━━━━\u001b[0m \u001b[32m1.6/1.6 MB\u001b[0m \u001b[31m43.4 MB/s\u001b[0m eta \u001b[36m0:00:00\u001b[0m\n",
            "\u001b[?25hRequirement already satisfied: decorator in /usr/local/lib/python3.8/dist-packages (from ipython<9->ipympl->vaex-jupyter<0.9,>=0.8.1->vaex) (4.4.2)\n",
            "Requirement already satisfied: pickleshare in /usr/local/lib/python3.8/dist-packages (from ipython<9->ipympl->vaex-jupyter<0.9,>=0.8.1->vaex) (0.7.5)\n",
            "Requirement already satisfied: prompt-toolkit<2.1.0,>=2.0.0 in /usr/local/lib/python3.8/dist-packages (from ipython<9->ipympl->vaex-jupyter<0.9,>=0.8.1->vaex) (2.0.10)\n",
            "Requirement already satisfied: widgetsnbextension~=3.6.0 in /usr/local/lib/python3.8/dist-packages (from ipywidgets<9,>=7.5.0->bqplot>=0.10.1->vaex-jupyter<0.9,>=0.8.1->vaex) (3.6.1)\n",
            "Requirement already satisfied: ipykernel>=4.5.1 in /usr/local/lib/python3.8/dist-packages (from ipywidgets<9,>=7.5.0->bqplot>=0.10.1->vaex-jupyter<0.9,>=0.8.1->vaex) (5.3.4)\n",
            "Requirement already satisfied: jupyterlab-widgets>=1.0.0 in /usr/local/lib/python3.8/dist-packages (from ipywidgets<9,>=7.5.0->bqplot>=0.10.1->vaex-jupyter<0.9,>=0.8.1->vaex) (3.0.5)\n",
            "Requirement already satisfied: locket in /usr/local/lib/python3.8/dist-packages (from partd>=0.3.10->dask!=2022.4.0->vaex-core<4.17,>=4.16.0->vaex) (1.0.0)\n",
            "Collecting ipydatawidgets>=1.1.1\n",
            "  Downloading ipydatawidgets-4.3.2-py2.py3-none-any.whl (271 kB)\n",
            "\u001b[2K     \u001b[90m━━━━━━━━━━━━━━━━━━━━━━━━━━━━━━━━━━━━━━\u001b[0m \u001b[32m271.6/271.6 KB\u001b[0m \u001b[31m12.4 MB/s\u001b[0m eta \u001b[36m0:00:00\u001b[0m\n",
            "\u001b[?25hRequirement already satisfied: zipp>=0.5 in /usr/local/lib/python3.8/dist-packages (from importlib-metadata->numba->vaex-ml<0.19,>=0.18.1->vaex) (3.11.0)\n",
            "Collecting sniffio>=1.1\n",
            "  Downloading sniffio-1.3.0-py3-none-any.whl (10 kB)\n",
            "Requirement already satisfied: jupyter-client in /usr/local/lib/python3.8/dist-packages (from ipykernel>=4.5.1->ipywidgets<9,>=7.5.0->bqplot>=0.10.1->vaex-jupyter<0.9,>=0.8.1->vaex) (6.1.12)\n",
            "Requirement already satisfied: parso<0.9.0,>=0.8.0 in /usr/local/lib/python3.8/dist-packages (from jedi>=0.10->ipython<9->ipympl->vaex-jupyter<0.9,>=0.8.1->vaex) (0.8.3)\n",
            "Requirement already satisfied: wcwidth in /usr/local/lib/python3.8/dist-packages (from prompt-toolkit<2.1.0,>=2.0.0->ipython<9->ipympl->vaex-jupyter<0.9,>=0.8.1->vaex) (0.2.5)\n",
            "Requirement already satisfied: notebook>=4.4.1 in /usr/local/lib/python3.8/dist-packages (from widgetsnbextension~=3.6.0->ipywidgets<9,>=7.5.0->bqplot>=0.10.1->vaex-jupyter<0.9,>=0.8.1->vaex) (5.7.16)\n",
            "Requirement already satisfied: ptyprocess>=0.5 in /usr/local/lib/python3.8/dist-packages (from pexpect->ipython<9->ipympl->vaex-jupyter<0.9,>=0.8.1->vaex) (0.7.0)\n",
            "Requirement already satisfied: pyzmq>=17 in /usr/local/lib/python3.8/dist-packages (from notebook>=4.4.1->widgetsnbextension~=3.6.0->ipywidgets<9,>=7.5.0->bqplot>=0.10.1->vaex-jupyter<0.9,>=0.8.1->vaex) (23.2.1)\n",
            "Requirement already satisfied: nbformat in /usr/local/lib/python3.8/dist-packages (from notebook>=4.4.1->widgetsnbextension~=3.6.0->ipywidgets<9,>=7.5.0->bqplot>=0.10.1->vaex-jupyter<0.9,>=0.8.1->vaex) (5.7.1)\n",
            "Requirement already satisfied: jupyter-core>=4.4.0 in /usr/local/lib/python3.8/dist-packages (from notebook>=4.4.1->widgetsnbextension~=3.6.0->ipywidgets<9,>=7.5.0->bqplot>=0.10.1->vaex-jupyter<0.9,>=0.8.1->vaex) (5.1.1)\n",
            "Requirement already satisfied: Send2Trash in /usr/local/lib/python3.8/dist-packages (from notebook>=4.4.1->widgetsnbextension~=3.6.0->ipywidgets<9,>=7.5.0->bqplot>=0.10.1->vaex-jupyter<0.9,>=0.8.1->vaex) (1.8.0)\n",
            "Requirement already satisfied: terminado>=0.8.1 in /usr/local/lib/python3.8/dist-packages (from notebook>=4.4.1->widgetsnbextension~=3.6.0->ipywidgets<9,>=7.5.0->bqplot>=0.10.1->vaex-jupyter<0.9,>=0.8.1->vaex) (0.13.3)\n",
            "Requirement already satisfied: prometheus-client in /usr/local/lib/python3.8/dist-packages (from notebook>=4.4.1->widgetsnbextension~=3.6.0->ipywidgets<9,>=7.5.0->bqplot>=0.10.1->vaex-jupyter<0.9,>=0.8.1->vaex) (0.15.0)\n",
            "Requirement already satisfied: nbconvert<6.0 in /usr/local/lib/python3.8/dist-packages (from notebook>=4.4.1->widgetsnbextension~=3.6.0->ipywidgets<9,>=7.5.0->bqplot>=0.10.1->vaex-jupyter<0.9,>=0.8.1->vaex) (5.6.1)\n",
            "Requirement already satisfied: platformdirs>=2.5 in /usr/local/lib/python3.8/dist-packages (from jupyter-core>=4.4.0->notebook>=4.4.1->widgetsnbextension~=3.6.0->ipywidgets<9,>=7.5.0->bqplot>=0.10.1->vaex-jupyter<0.9,>=0.8.1->vaex) (2.6.0)\n",
            "Requirement already satisfied: pandocfilters>=1.4.1 in /usr/local/lib/python3.8/dist-packages (from nbconvert<6.0->notebook>=4.4.1->widgetsnbextension~=3.6.0->ipywidgets<9,>=7.5.0->bqplot>=0.10.1->vaex-jupyter<0.9,>=0.8.1->vaex) (1.5.0)\n",
            "Requirement already satisfied: testpath in /usr/local/lib/python3.8/dist-packages (from nbconvert<6.0->notebook>=4.4.1->widgetsnbextension~=3.6.0->ipywidgets<9,>=7.5.0->bqplot>=0.10.1->vaex-jupyter<0.9,>=0.8.1->vaex) (0.6.0)\n",
            "Requirement already satisfied: entrypoints>=0.2.2 in /usr/local/lib/python3.8/dist-packages (from nbconvert<6.0->notebook>=4.4.1->widgetsnbextension~=3.6.0->ipywidgets<9,>=7.5.0->bqplot>=0.10.1->vaex-jupyter<0.9,>=0.8.1->vaex) (0.4)\n",
            "Requirement already satisfied: defusedxml in /usr/local/lib/python3.8/dist-packages (from nbconvert<6.0->notebook>=4.4.1->widgetsnbextension~=3.6.0->ipywidgets<9,>=7.5.0->bqplot>=0.10.1->vaex-jupyter<0.9,>=0.8.1->vaex) (0.7.1)\n",
            "Requirement already satisfied: bleach in /usr/local/lib/python3.8/dist-packages (from nbconvert<6.0->notebook>=4.4.1->widgetsnbextension~=3.6.0->ipywidgets<9,>=7.5.0->bqplot>=0.10.1->vaex-jupyter<0.9,>=0.8.1->vaex) (5.0.1)\n",
            "Requirement already satisfied: mistune<2,>=0.8.1 in /usr/local/lib/python3.8/dist-packages (from nbconvert<6.0->notebook>=4.4.1->widgetsnbextension~=3.6.0->ipywidgets<9,>=7.5.0->bqplot>=0.10.1->vaex-jupyter<0.9,>=0.8.1->vaex) (0.8.4)\n",
            "Requirement already satisfied: jsonschema>=2.6 in /usr/local/lib/python3.8/dist-packages (from nbformat->notebook>=4.4.1->widgetsnbextension~=3.6.0->ipywidgets<9,>=7.5.0->bqplot>=0.10.1->vaex-jupyter<0.9,>=0.8.1->vaex) (4.3.3)\n",
            "Requirement already satisfied: fastjsonschema in /usr/local/lib/python3.8/dist-packages (from nbformat->notebook>=4.4.1->widgetsnbextension~=3.6.0->ipywidgets<9,>=7.5.0->bqplot>=0.10.1->vaex-jupyter<0.9,>=0.8.1->vaex) (2.16.2)\n",
            "Requirement already satisfied: attrs>=17.4.0 in /usr/local/lib/python3.8/dist-packages (from jsonschema>=2.6->nbformat->notebook>=4.4.1->widgetsnbextension~=3.6.0->ipywidgets<9,>=7.5.0->bqplot>=0.10.1->vaex-jupyter<0.9,>=0.8.1->vaex) (22.2.0)\n",
            "Requirement already satisfied: importlib-resources>=1.4.0 in /usr/local/lib/python3.8/dist-packages (from jsonschema>=2.6->nbformat->notebook>=4.4.1->widgetsnbextension~=3.6.0->ipywidgets<9,>=7.5.0->bqplot>=0.10.1->vaex-jupyter<0.9,>=0.8.1->vaex) (5.10.1)\n",
            "Requirement already satisfied: pyrsistent!=0.17.0,!=0.17.1,!=0.17.2,>=0.14.0 in /usr/local/lib/python3.8/dist-packages (from jsonschema>=2.6->nbformat->notebook>=4.4.1->widgetsnbextension~=3.6.0->ipywidgets<9,>=7.5.0->bqplot>=0.10.1->vaex-jupyter<0.9,>=0.8.1->vaex) (0.19.2)\n",
            "Requirement already satisfied: webencodings in /usr/local/lib/python3.8/dist-packages (from bleach->nbconvert<6.0->notebook>=4.4.1->widgetsnbextension~=3.6.0->ipywidgets<9,>=7.5.0->bqplot>=0.10.1->vaex-jupyter<0.9,>=0.8.1->vaex) (0.5.1)\n",
            "Building wheels for collected packages: aplus\n",
            "  Building wheel for aplus (setup.py) ... \u001b[?25l\u001b[?25hdone\n",
            "  Created wheel for aplus: filename=aplus-0.11.0-py3-none-any.whl size=4408 sha256=8ad00a9016e8bfbfff510abdc80f0093ace45df3d10d46c99bc455682c8ca9b1\n",
            "  Stored in directory: /root/.cache/pip/wheels/de/93/23/3db69e1003030a764c9827dc02137119ec5e6e439afd64eebb\n",
            "Successfully built aplus\n",
            "Installing collected packages: ipywebrtc, commonmark, blake3, aplus, xyzservices, websockets, uvloop, traittypes, sniffio, rich, python-dotenv, nest-asyncio, jedi, httptools, h11, frozendict, uvicorn, anyio, watchfiles, vaex-core, starlette, vaex-viz, vaex-ml, vaex-hdf5, vaex-astro, fastapi, vaex-server, ipyvue, ipympl, ipyleaflet, ipydatawidgets, bqplot, pythreejs, ipyvuetify, ipyvolume, vaex-jupyter, vaex\n",
            "Successfully installed anyio-3.6.2 aplus-0.11.0 blake3-0.3.3 bqplot-0.12.36 commonmark-0.9.1 fastapi-0.89.0 frozendict-2.3.4 h11-0.14.0 httptools-0.5.0 ipydatawidgets-4.3.2 ipyleaflet-0.17.2 ipympl-0.9.2 ipyvolume-0.5.2 ipyvue-1.8.0 ipyvuetify-1.8.4 ipywebrtc-0.6.0 jedi-0.18.2 nest-asyncio-1.5.6 python-dotenv-0.21.0 pythreejs-2.4.1 rich-13.0.1 sniffio-1.3.0 starlette-0.22.0 traittypes-0.2.1 uvicorn-0.20.0 uvloop-0.17.0 vaex-4.16.0 vaex-astro-0.9.3 vaex-core-4.16.1 vaex-hdf5-0.14.1 vaex-jupyter-0.8.1 vaex-ml-0.18.1 vaex-server-0.8.1 vaex-viz-0.5.4 watchfiles-0.18.1 websockets-10.4 xyzservices-2022.9.0\n"
          ]
        }
      ]
    },
    {
      "cell_type": "code",
      "source": [
        "!pip install vaex-viz\n"
      ],
      "metadata": {
        "colab": {
          "base_uri": "https://localhost:8080/"
        },
        "id": "Kh60gJNKeyea",
        "outputId": "c88f6208-d430-4ae8-b862-7a816a543447"
      },
      "execution_count": null,
      "outputs": [
        {
          "output_type": "stream",
          "name": "stdout",
          "text": [
            "Looking in indexes: https://pypi.org/simple, https://us-python.pkg.dev/colab-wheels/public/simple/\n",
            "Requirement already satisfied: vaex-viz in /usr/local/lib/python3.8/dist-packages (0.5.4)\n",
            "Requirement already satisfied: matplotlib>=1.3.1 in /usr/local/lib/python3.8/dist-packages (from vaex-viz) (3.6.2)\n",
            "Requirement already satisfied: pillow in /usr/local/lib/python3.8/dist-packages (from vaex-viz) (7.1.2)\n",
            "Requirement already satisfied: vaex-core<5,>=4.0.0 in /usr/local/lib/python3.8/dist-packages (from vaex-viz) (4.16.1)\n",
            "Requirement already satisfied: cycler>=0.10 in /usr/local/lib/python3.8/dist-packages (from matplotlib>=1.3.1->vaex-viz) (0.11.0)\n",
            "Requirement already satisfied: pyparsing>=2.2.1 in /usr/local/lib/python3.8/dist-packages (from matplotlib>=1.3.1->vaex-viz) (3.0.9)\n",
            "Requirement already satisfied: fonttools>=4.22.0 in /usr/local/lib/python3.8/dist-packages (from matplotlib>=1.3.1->vaex-viz) (4.38.0)\n",
            "Requirement already satisfied: numpy>=1.19 in /usr/local/lib/python3.8/dist-packages (from matplotlib>=1.3.1->vaex-viz) (1.21.6)\n",
            "Requirement already satisfied: packaging>=20.0 in /usr/local/lib/python3.8/dist-packages (from matplotlib>=1.3.1->vaex-viz) (21.3)\n",
            "Requirement already satisfied: contourpy>=1.0.1 in /usr/local/lib/python3.8/dist-packages (from matplotlib>=1.3.1->vaex-viz) (1.0.6)\n",
            "Requirement already satisfied: python-dateutil>=2.7 in /usr/local/lib/python3.8/dist-packages (from matplotlib>=1.3.1->vaex-viz) (2.8.2)\n",
            "Requirement already satisfied: kiwisolver>=1.0.1 in /usr/local/lib/python3.8/dist-packages (from matplotlib>=1.3.1->vaex-viz) (1.4.4)\n",
            "Requirement already satisfied: cloudpickle in /usr/local/lib/python3.8/dist-packages (from vaex-core<5,>=4.0.0->vaex-viz) (1.5.0)\n",
            "Requirement already satisfied: dask!=2022.4.0 in /usr/local/lib/python3.8/dist-packages (from vaex-core<5,>=4.0.0->vaex-viz) (2022.2.1)\n",
            "Requirement already satisfied: future>=0.15.2 in /usr/local/lib/python3.8/dist-packages (from vaex-core<5,>=4.0.0->vaex-viz) (0.16.0)\n",
            "Requirement already satisfied: blake3 in /usr/local/lib/python3.8/dist-packages (from vaex-core<5,>=4.0.0->vaex-viz) (0.3.3)\n",
            "Requirement already satisfied: progressbar2 in /usr/local/lib/python3.8/dist-packages (from vaex-core<5,>=4.0.0->vaex-viz) (3.38.0)\n",
            "Requirement already satisfied: rich in /usr/local/lib/python3.8/dist-packages (from vaex-core<5,>=4.0.0->vaex-viz) (13.0.1)\n",
            "Requirement already satisfied: frozendict!=2.2.0 in /usr/local/lib/python3.8/dist-packages (from vaex-core<5,>=4.0.0->vaex-viz) (2.3.4)\n",
            "Requirement already satisfied: aplus in /usr/local/lib/python3.8/dist-packages (from vaex-core<5,>=4.0.0->vaex-viz) (0.11.0)\n",
            "Requirement already satisfied: pydantic>=1.8.0 in /usr/local/lib/python3.8/dist-packages (from vaex-core<5,>=4.0.0->vaex-viz) (1.10.2)\n",
            "Requirement already satisfied: nest-asyncio>=1.3.3 in /usr/local/lib/python3.8/dist-packages (from vaex-core<5,>=4.0.0->vaex-viz) (1.5.6)\n",
            "Requirement already satisfied: six in /usr/local/lib/python3.8/dist-packages (from vaex-core<5,>=4.0.0->vaex-viz) (1.15.0)\n",
            "Requirement already satisfied: tabulate>=0.8.3 in /usr/local/lib/python3.8/dist-packages (from vaex-core<5,>=4.0.0->vaex-viz) (0.8.10)\n",
            "Requirement already satisfied: pyarrow>=5.0.0 in /usr/local/lib/python3.8/dist-packages (from vaex-core<5,>=4.0.0->vaex-viz) (9.0.0)\n",
            "Requirement already satisfied: pandas in /usr/local/lib/python3.8/dist-packages (from vaex-core<5,>=4.0.0->vaex-viz) (1.3.5)\n",
            "Requirement already satisfied: pyyaml in /usr/local/lib/python3.8/dist-packages (from vaex-core<5,>=4.0.0->vaex-viz) (6.0)\n",
            "Requirement already satisfied: requests in /usr/local/lib/python3.8/dist-packages (from vaex-core<5,>=4.0.0->vaex-viz) (2.25.1)\n",
            "Requirement already satisfied: filelock in /usr/local/lib/python3.8/dist-packages (from vaex-core<5,>=4.0.0->vaex-viz) (3.8.2)\n",
            "Requirement already satisfied: fsspec>=0.6.0 in /usr/local/lib/python3.8/dist-packages (from dask!=2022.4.0->vaex-core<5,>=4.0.0->vaex-viz) (2022.11.0)\n",
            "Requirement already satisfied: partd>=0.3.10 in /usr/local/lib/python3.8/dist-packages (from dask!=2022.4.0->vaex-core<5,>=4.0.0->vaex-viz) (1.3.0)\n",
            "Requirement already satisfied: toolz>=0.8.2 in /usr/local/lib/python3.8/dist-packages (from dask!=2022.4.0->vaex-core<5,>=4.0.0->vaex-viz) (0.12.0)\n",
            "Requirement already satisfied: typing-extensions>=4.1.0 in /usr/local/lib/python3.8/dist-packages (from pydantic>=1.8.0->vaex-core<5,>=4.0.0->vaex-viz) (4.4.0)\n",
            "Requirement already satisfied: pytz>=2017.3 in /usr/local/lib/python3.8/dist-packages (from pandas->vaex-core<5,>=4.0.0->vaex-viz) (2022.7)\n",
            "Requirement already satisfied: python-utils>=2.3.0 in /usr/local/lib/python3.8/dist-packages (from progressbar2->vaex-core<5,>=4.0.0->vaex-viz) (3.4.5)\n",
            "Requirement already satisfied: chardet<5,>=3.0.2 in /usr/local/lib/python3.8/dist-packages (from requests->vaex-core<5,>=4.0.0->vaex-viz) (4.0.0)\n",
            "Requirement already satisfied: idna<3,>=2.5 in /usr/local/lib/python3.8/dist-packages (from requests->vaex-core<5,>=4.0.0->vaex-viz) (2.10)\n",
            "Requirement already satisfied: certifi>=2017.4.17 in /usr/local/lib/python3.8/dist-packages (from requests->vaex-core<5,>=4.0.0->vaex-viz) (2022.12.7)\n",
            "Requirement already satisfied: urllib3<1.27,>=1.21.1 in /usr/local/lib/python3.8/dist-packages (from requests->vaex-core<5,>=4.0.0->vaex-viz) (1.24.3)\n",
            "Requirement already satisfied: commonmark<0.10.0,>=0.9.0 in /usr/local/lib/python3.8/dist-packages (from rich->vaex-core<5,>=4.0.0->vaex-viz) (0.9.1)\n",
            "Requirement already satisfied: pygments<3.0.0,>=2.6.0 in /usr/local/lib/python3.8/dist-packages (from rich->vaex-core<5,>=4.0.0->vaex-viz) (2.6.1)\n",
            "Requirement already satisfied: locket in /usr/local/lib/python3.8/dist-packages (from partd>=0.3.10->dask!=2022.4.0->vaex-core<5,>=4.0.0->vaex-viz) (1.0.0)\n"
          ]
        }
      ]
    },
    {
      "cell_type": "code",
      "source": [
        "import numpy as np\n",
        "import time\n",
        "import matplotlib.pyplot as plt\n",
        "import seaborn as sns"
      ],
      "metadata": {
        "id": "NvOfUl229HCv"
      },
      "execution_count": null,
      "outputs": []
    },
    {
      "cell_type": "code",
      "source": [
        "# Pull dataset from my google drive\n",
        "!pip install -U -q PyDrive\n",
        "from pydrive.auth import GoogleAuth\n",
        "from pydrive.drive import GoogleDrive\n",
        "from google.colab import auth\n",
        "from oauth2client.client import GoogleCredentials\n",
        "\n",
        "# Authenticate and create the PyDrive client.\n",
        "auth.authenticate_user()\n",
        "gauth = GoogleAuth()\n",
        "gauth.credentials = GoogleCredentials.get_application_default()\n",
        "drive = GoogleDrive(gauth)\n",
        "link = 'https://drive.google.com/file/d/110mZHE08iW3Kbio-XCcASizLcpU2qFAV/view?usp=sharing'\n",
        "# to get the id part of the file\n",
        "id = link.split(\"/\")[-2]\n",
        " \n",
        "downloaded = drive.CreateFile({'id':id})\n",
        "downloaded.GetContentFile('Rate.csv') "
      ],
      "metadata": {
        "id": "ILcnPUUEKCSn"
      },
      "execution_count": null,
      "outputs": []
    },
    {
      "cell_type": "markdown",
      "source": [
        "##Importing Libraries"
      ],
      "metadata": {
        "id": "I3DVYx_P86in"
      }
    },
    {
      "cell_type": "code",
      "source": [
        "#importing vaex library\n",
        "import vaex as vx"
      ],
      "metadata": {
        "id": "aRTYVFlQJ9qq"
      },
      "execution_count": null,
      "outputs": []
    },
    {
      "cell_type": "code",
      "source": [
        "#importing pandas library\n",
        "import pandas as pd"
      ],
      "metadata": {
        "id": "pAlnNV-99nca"
      },
      "execution_count": null,
      "outputs": []
    },
    {
      "cell_type": "code",
      "source": [
        "#Import seaborn and matplotlib for pandas\n",
        "import matplotlib.pyplot as plt\n",
        "import seaborn as sns"
      ],
      "metadata": {
        "id": "7haqN4mwz0nR"
      },
      "execution_count": null,
      "outputs": []
    },
    {
      "cell_type": "markdown",
      "source": [
        "##Reading CSV Files"
      ],
      "metadata": {
        "id": "lx5RDjFP9tAm"
      }
    },
    {
      "cell_type": "code",
      "source": [
        "#reading csv files with vaex\n",
        "\n",
        "startreadvx = time.time()\n",
        "\n",
        "df_vx=vx.open(\"/content/drive/MyDrive/Colab Notebooks/Rate.csv\")\n",
        "df_vx.head()\n",
        "\n",
        "endreadvx = time.time()\n",
        "timereadvx = endreadvx - startreadvx\n",
        "print(timereadvx, \"s\")"
      ],
      "metadata": {
        "id": "PSxBDHQaKYAw",
        "colab": {
          "base_uri": "https://localhost:8080/"
        },
        "outputId": "4984747e-8962-4457-aa14-274ad7e525ff"
      },
      "execution_count": null,
      "outputs": [
        {
          "output_type": "stream",
          "name": "stdout",
          "text": [
            "11.403634548187256 s\n"
          ]
        }
      ]
    },
    {
      "cell_type": "code",
      "source": [
        "#reading csv files with pandas\n",
        "\n",
        "startreadpd = time.time()\n",
        "\n",
        "df_pd=pd.read_csv(\"/content/drive/MyDrive/Colab Notebooks/Rate.csv\")\n",
        "df_pd.head()\n",
        "\n",
        "endreadpd = time.time()\n",
        "timereadpd = endreadpd - startreadpd\n",
        "print(timereadpd, \"s\")"
      ],
      "metadata": {
        "colab": {
          "base_uri": "https://localhost:8080/"
        },
        "id": "vf_yhbxb-Bnj",
        "outputId": "a0701092-2bf5-4ea9-9683-6c738015a064"
      },
      "execution_count": null,
      "outputs": [
        {
          "output_type": "stream",
          "name": "stdout",
          "text": [
            "53.62658190727234 s\n"
          ]
        }
      ]
    },
    {
      "cell_type": "code",
      "source": [
        "x = ['Vaex', 'Pandas']\n",
        "y = [timereadvx, timereadpd]\n",
        "\n",
        "\n",
        " \n",
        "# creating the bar plot\n",
        "plt.bar(x, y, color ='maroon',\n",
        "        width = 0.4)\n",
        "\n",
        "# add value labels to the bars\n",
        "ax = plt.gca()  # get current axis\n",
        "for p in ax.patches:\n",
        "    ax.text(p.get_x() + p.get_width()/2., p.get_height(), '%.4f' % p.get_height(), fontsize=12, color='black', ha='center', va='bottom')\n",
        "\n",
        "plt.xlabel(\"Library\")\n",
        "plt.ylabel(\"Time Taken (s)\")\n",
        "plt.title(\"Time Taken for both Libraries (The lower the better)\")\n",
        "plt.show()"
      ],
      "metadata": {
        "colab": {
          "base_uri": "https://localhost:8080/",
          "height": 295
        },
        "id": "O5hRIvtoc_xQ",
        "outputId": "06252b08-a80d-43df-de34-06a2895c2450"
      },
      "execution_count": null,
      "outputs": [
        {
          "output_type": "display_data",
          "data": {
            "text/plain": [
              "<Figure size 432x288 with 1 Axes>"
            ],
            "image/png": "[encoded data removed]"
          },
          "metadata": {
            "needs_background": "light"
          }
        }
      ]
    },
    {
      "cell_type": "markdown",
      "source": [
        "##Creating New Column"
      ],
      "metadata": {
        "id": "TJZu9UmsAyCa"
      }
    },
    {
      "cell_type": "code",
      "source": [
        "#creating new column with vaex (will create a virtual column)\n",
        "\n",
        "startnewvx = time.time()\n",
        "\n",
        "df_vx['new_TotalIndividualRate'] = df_vx['IndividualRate'] * 100\n",
        "df_vx.head()\n",
        "\n",
        "endnewvx = time.time()\n",
        "timenewvx = endnewvx - startnewvx\n",
        "print(timenewvx, \"s\")"
      ],
      "metadata": {
        "colab": {
          "base_uri": "https://localhost:8080/"
        },
        "id": "7IgPdWHqBFRA",
        "outputId": "bf2eaa3a-4d59-4a0f-990c-78648deadc65"
      },
      "execution_count": null,
      "outputs": [
        {
          "output_type": "stream",
          "name": "stdout",
          "text": [
            "0.009686470031738281 s\n"
          ]
        }
      ]
    },
    {
      "cell_type": "code",
      "source": [
        "#creating new column with pandas\n",
        "\n",
        "startnewpd = time.time()\n",
        "\n",
        "df_pd['new_TotalIndividualRate'] = df_pd['IndividualRate'] * 100\n",
        "df_pd.head()\n",
        "\n",
        "endnewpd = time.time()\n",
        "timenewpd = endnewpd - startnewpd\n",
        "print(timenewpd, \"s\")"
      ],
      "metadata": {
        "colab": {
          "base_uri": "https://localhost:8080/"
        },
        "id": "FS3SGgt3CAUw",
        "outputId": "969e00b7-aa4a-46ed-c8e3-b8b8af126561"
      },
      "execution_count": null,
      "outputs": [
        {
          "output_type": "stream",
          "name": "stdout",
          "text": [
            "0.1333158016204834 s\n"
          ]
        }
      ]
    },
    {
      "cell_type": "code",
      "source": [
        "x = ['Vaex', 'Pandas']\n",
        "y = [timenewvx, timenewpd]\n",
        "\n",
        "\n",
        " \n",
        "# creating the bar plot\n",
        "plt.bar(x, y, color ='maroon',\n",
        "        width = 0.4)\n",
        "\n",
        "# add value labels to the bars\n",
        "ax = plt.gca()  # get current axis\n",
        "for p in ax.patches:\n",
        "    ax.text(p.get_x() + p.get_width()/2., p.get_height(), '%.4f' % p.get_height(), fontsize=12, color='black', ha='center', va='bottom')\n",
        "\n",
        "plt.xlabel(\"Library\")\n",
        "plt.ylabel(\"Time Taken (s)\")\n",
        "plt.title(\"Time Taken for both Libraries (The lower the better)\")\n",
        "plt.show()"
      ],
      "metadata": {
        "colab": {
          "base_uri": "https://localhost:8080/",
          "height": 295
        },
        "id": "X3fxroa0ckyJ",
        "outputId": "881c88c1-76cf-46b0-9fe3-08218ac602bf"
      },
      "execution_count": null,
      "outputs": [
        {
          "output_type": "display_data",
          "data": {
            "text/plain": [
              "<Figure size 432x288 with 1 Axes>"
            ],
            "image/png": "[encoded data removed]"
          },
          "metadata": {
            "needs_background": "light"
          }
        }
      ]
    },
    {
      "cell_type": "markdown",
      "source": [
        "##Data Cleaning (Filtering)"
      ],
      "metadata": {
        "id": "68r3sGZAESHY"
      }
    },
    {
      "cell_type": "code",
      "source": [
        "#filtering data with vaex\n",
        "\n",
        "startfiltervx = time.time()\n",
        "\n",
        "df_vx_filtered = df_vx[df_vx['BusinessYear']==2015]\n",
        "df_vx_filtered\n",
        "\n",
        "endfiltervx = time.time()\n",
        "timefiltervx = endfiltervx - startfiltervx\n",
        "print(timefiltervx, \"s\")"
      ],
      "metadata": {
        "colab": {
          "base_uri": "https://localhost:8080/"
        },
        "id": "qbhpfUQcEXgp",
        "outputId": "478e826b-4fcd-471d-9dca-9a36e6e2d1ac"
      },
      "execution_count": null,
      "outputs": [
        {
          "output_type": "stream",
          "name": "stdout",
          "text": [
            "0.016496658325195312 s\n"
          ]
        }
      ]
    },
    {
      "cell_type": "code",
      "source": [
        "#filtering data with pandas\n",
        "\n",
        "startfilterpd = time.time()\n",
        "\n",
        "df_pd_filtered = df_pd[df_pd['BusinessYear']==2015]\n",
        "df_pd_filtered\n",
        "\n",
        "endfilterpd = time.time()\n",
        "timefilterpd = endfilterpd - startfilterpd\n",
        "print(timefilterpd, \"s\")"
      ],
      "metadata": {
        "colab": {
          "base_uri": "https://localhost:8080/"
        },
        "id": "xg91o66zFAFH",
        "outputId": "354dac07-13d6-4338-ff15-3d384635b981"
      },
      "execution_count": null,
      "outputs": [
        {
          "output_type": "stream",
          "name": "stdout",
          "text": [
            "2.0307319164276123 s\n"
          ]
        }
      ]
    },
    {
      "cell_type": "code",
      "source": [
        "x = ['Vaex', 'Pandas']\n",
        "y = [timefiltervx, timefilterpd]\n",
        "\n",
        "\n",
        " \n",
        "# creating the bar plot\n",
        "plt.bar(x, y, color ='maroon',\n",
        "        width = 0.4)\n",
        "\n",
        "# add value labels to the bars\n",
        "ax = plt.gca()  # get current axis\n",
        "for p in ax.patches:\n",
        "    ax.text(p.get_x() + p.get_width()/2., p.get_height(), '%.4f' % p.get_height(), fontsize=12, color='black', ha='center', va='bottom')\n",
        "\n",
        "plt.xlabel(\"Library\")\n",
        "plt.ylabel(\"Time Taken (s)\")\n",
        "plt.title(\"Time Taken for both Libraries (The lower the better)\")\n",
        "plt.show()"
      ],
      "metadata": {
        "colab": {
          "base_uri": "https://localhost:8080/",
          "height": 295
        },
        "id": "govTnPl2bIXP",
        "outputId": "c7df8d35-66ca-43b6-91e2-032a4e25eeaf"
      },
      "execution_count": null,
      "outputs": [
        {
          "output_type": "display_data",
          "data": {
            "text/plain": [
              "<Figure size 432x288 with 1 Axes>"
            ],
            "image/png": "[encoded data removed]"
          },
          "metadata": {
            "needs_background": "light"
          }
        }
      ]
    },
    {
      "cell_type": "markdown",
      "source": [
        "##Data Cleaning (Dropping NaN values)"
      ],
      "metadata": {
        "id": "Z5FafFLGIIgC"
      }
    },
    {
      "cell_type": "code",
      "source": [
        "#dropping NaN with vaex\n",
        "\n",
        "startdropvx = time.time()\n",
        "\n",
        "dropna_vx=df_vx.dropna()\n",
        "\n",
        "enddropvx = time.time()\n",
        "timedropvx = enddropvx - startdropvx\n",
        "print(timedropvx, \"s\")"
      ],
      "metadata": {
        "colab": {
          "base_uri": "https://localhost:8080/"
        },
        "id": "6PLSKbqHIMCJ",
        "outputId": "d08ae868-eff4-45c3-f4a0-0d72f0558808"
      },
      "execution_count": null,
      "outputs": [
        {
          "output_type": "stream",
          "name": "stdout",
          "text": [
            "1.430835247039795 s\n"
          ]
        }
      ]
    },
    {
      "cell_type": "code",
      "source": [
        "#dropping NaN with pandas\n",
        "\n",
        "startdroppd = time.time()\n",
        "\n",
        "dropna_pd=df_pd.dropna()\n",
        "\n",
        "enddroppd = time.time()\n",
        "timedroppd = enddroppd - startdroppd\n",
        "print(timedroppd, \"s\")"
      ],
      "metadata": {
        "colab": {
          "base_uri": "https://localhost:8080/"
        },
        "id": "IvSDqj4xI-7d",
        "outputId": "895e5215-04e2-4982-ea09-5d6feb3df8ad"
      },
      "execution_count": null,
      "outputs": [
        {
          "output_type": "stream",
          "name": "stdout",
          "text": [
            "14.92984938621521 s\n"
          ]
        }
      ]
    },
    {
      "cell_type": "code",
      "source": [
        "x = ['Vaex', 'Pandas']\n",
        "y = [timedropvx, timedroppd]\n",
        "\n",
        "\n",
        " \n",
        "# creating the bar plot\n",
        "plt.bar(x, y, color ='maroon',\n",
        "        width = 0.4)\n",
        "\n",
        "# add value labels to the bars\n",
        "ax = plt.gca()  # get current axis\n",
        "for p in ax.patches:\n",
        "    ax.text(p.get_x() + p.get_width()/2., p.get_height(), '%.4f' % p.get_height(), fontsize=12, color='black', ha='center', va='bottom')\n",
        "\n",
        "plt.xlabel(\"Library\")\n",
        "plt.ylabel(\"Time Taken (s)\")\n",
        "plt.title(\"Time Taken for both Libraries (The lower the better)\")\n",
        "plt.show()"
      ],
      "metadata": {
        "colab": {
          "base_uri": "https://localhost:8080/",
          "height": 295
        },
        "id": "BgoaNAp2aPjp",
        "outputId": "93394c39-0827-4f62-bab2-3b2dc768f32f"
      },
      "execution_count": null,
      "outputs": [
        {
          "output_type": "display_data",
          "data": {
            "text/plain": [
              "<Figure size 432x288 with 1 Axes>"
            ],
            "image/png": "[encoded data removed]"
          },
          "metadata": {
            "needs_background": "light"
          }
        }
      ]
    },
    {
      "cell_type": "markdown",
      "source": [
        "##String Processing\n"
      ],
      "metadata": {
        "id": "jn4NKMpcNuK4"
      }
    },
    {
      "cell_type": "code",
      "source": [
        "#string processing using vaex\n",
        "\n",
        "startstringvx = time.time()\n",
        "\n",
        "df_vx.SourceName.str.upper()\n",
        "\n",
        "endstringvx = time.time()\n",
        "timestringvx = endstringvx - startstringvx\n",
        "print(timestringvx, \"s\")"
      ],
      "metadata": {
        "colab": {
          "base_uri": "https://localhost:8080/"
        },
        "id": "ApGBU9uoNxvU",
        "outputId": "7b86019a-b7b6-45f2-adfb-077edb9bcc5c"
      },
      "execution_count": null,
      "outputs": [
        {
          "output_type": "stream",
          "name": "stdout",
          "text": [
            "0.0018930435180664062 s\n"
          ]
        }
      ]
    },
    {
      "cell_type": "code",
      "source": [
        "#string procesing using pandas\n",
        "\n",
        "startstringpd = time.time()\n",
        "\n",
        "df_pd.SourceName.str.upper()\n",
        "\n",
        "endstringpd = time.time()\n",
        "timestringpd = endstringpd - startstringpd\n",
        "print(timestringpd, \"s\")"
      ],
      "metadata": {
        "colab": {
          "base_uri": "https://localhost:8080/"
        },
        "id": "uIwbAKFcN_3M",
        "outputId": "28672db9-1cb3-4400-a10e-3dac808417fd"
      },
      "execution_count": null,
      "outputs": [
        {
          "output_type": "stream",
          "name": "stdout",
          "text": [
            "4.633962631225586 s\n"
          ]
        }
      ]
    },
    {
      "cell_type": "code",
      "source": [
        "x = ['Vaex', 'Pandas']\n",
        "y = [timestringvx, timestringpd]\n",
        "\n",
        "\n",
        " \n",
        "# creating the bar plot\n",
        "plt.bar(x, y, color ='maroon',\n",
        "        width = 0.4)\n",
        "\n",
        "# add value labels to the bars\n",
        "ax = plt.gca()  # get current axis\n",
        "for p in ax.patches:\n",
        "    ax.text(p.get_x() + p.get_width()/2., p.get_height(), '%.4f' % p.get_height(), fontsize=12, color='black', ha='center', va='bottom')\n",
        "\n",
        "plt.xlabel(\"Library\")\n",
        "plt.ylabel(\"Time Taken (s)\")\n",
        "plt.title(\"Time Taken for both Libraries (The lower the better)\")\n",
        "plt.show()"
      ],
      "metadata": {
        "colab": {
          "base_uri": "https://localhost:8080/",
          "height": 295
        },
        "id": "Lsoe0j0WZUs6",
        "outputId": "04fea187-f006-4f6d-a32b-5c0e3cca9735"
      },
      "execution_count": null,
      "outputs": [
        {
          "output_type": "display_data",
          "data": {
            "text/plain": [
              "<Figure size 432x288 with 1 Axes>"
            ],
            "image/png": "[encoded data removed]"
          },
          "metadata": {
            "needs_background": "light"
          }
        }
      ]
    },
    {
      "cell_type": "markdown",
      "source": [
        "##Performing Simple Computation"
      ],
      "metadata": {
        "id": "YUG24BnCRrgt"
      }
    },
    {
      "cell_type": "code",
      "source": [
        "startcomputevx = time.time()\n",
        "\n",
        "df_vx.IndividualRate + df_vx.IndividualRate\n",
        "\n",
        "endcomputevx = time.time()\n",
        "timecomputevx = endcomputevx - startcomputevx\n",
        "print(timecomputevx, \"s\")"
      ],
      "metadata": {
        "colab": {
          "base_uri": "https://localhost:8080/"
        },
        "id": "M4rtiHPvRvAR",
        "outputId": "ca7cd041-e37a-4a50-c868-53c8ecad3a59"
      },
      "execution_count": null,
      "outputs": [
        {
          "output_type": "stream",
          "name": "stdout",
          "text": [
            "0.00038433074951171875 s\n"
          ]
        }
      ]
    },
    {
      "cell_type": "code",
      "source": [
        "startcomputepd = time.time()\n",
        "\n",
        "df_pd['IndividualRate'] + df_pd['IndividualRate']\n",
        "\n",
        "endcomputepd = time.time()\n",
        "timecomputepd = endcomputepd - startcomputepd\n",
        "print(timecomputepd, \"s\")"
      ],
      "metadata": {
        "colab": {
          "base_uri": "https://localhost:8080/"
        },
        "id": "dbnr9bVtR0c5",
        "outputId": "c047ea6b-fc65-499a-c5d9-4839d33e7121"
      },
      "execution_count": null,
      "outputs": [
        {
          "output_type": "stream",
          "name": "stdout",
          "text": [
            "0.034413814544677734 s\n"
          ]
        }
      ]
    },
    {
      "cell_type": "code",
      "source": [
        "x = ['Vaex', 'Pandas']\n",
        "y = [timecomputevx, timecomputepd]\n",
        "\n",
        "\n",
        " \n",
        "# creating the bar plot\n",
        "plt.bar(x, y, color ='maroon',\n",
        "        width = 0.4)\n",
        "\n",
        "# add value labels to the bars\n",
        "ax = plt.gca()  # get current axis\n",
        "for p in ax.patches:\n",
        "    ax.text(p.get_x() + p.get_width()/2., p.get_height(), '%.4f' % p.get_height(), fontsize=12, color='black', ha='center', va='bottom')\n",
        "\n",
        "plt.xlabel(\"Library\")\n",
        "plt.ylabel(\"Time Taken (s)\")\n",
        "plt.title(\"Time Taken for both Libraries (The lower the better)\")\n",
        "plt.show()"
      ],
      "metadata": {
        "colab": {
          "base_uri": "https://localhost:8080/",
          "height": 295
        },
        "id": "nDmxtmyQX-WW",
        "outputId": "cab04bef-a20a-4d08-f9e8-fc5113c39411"
      },
      "execution_count": null,
      "outputs": [
        {
          "output_type": "display_data",
          "data": {
            "text/plain": [
              "<Figure size 432x288 with 1 Axes>"
            ],
            "image/png": "[encoded data removed]"
          },
          "metadata": {
            "needs_background": "light"
          }
        }
      ]
    },
    {
      "cell_type": "markdown",
      "source": [
        "##GroupBy Operation"
      ],
      "metadata": {
        "id": "O2omN2jIrGtY"
      }
    },
    {
      "cell_type": "code",
      "source": [
        "startgroupbyvx = time.time()\n",
        "\n",
        "df_vx.groupby(df_vx.BusinessYear)\n",
        "\n",
        "endgroupbyvx = time.time()\n",
        "timegroupbyvx = endgroupbyvx - startgroupbyvx\n",
        "print(timegroupbyvx, \"s\")"
      ],
      "metadata": {
        "colab": {
          "base_uri": "https://localhost:8080/"
        },
        "id": "tXKgHJisrJrY",
        "outputId": "e894f216-7b22-421a-c828-501882984060"
      },
      "execution_count": null,
      "outputs": [
        {
          "output_type": "stream",
          "name": "stdout",
          "text": [
            "13.45243215560913 s\n"
          ]
        }
      ]
    },
    {
      "cell_type": "code",
      "source": [
        "startgroupbypd = time.time()\n",
        "\n",
        "df_pd.groupby(df_pd['BusinessYear'])\n",
        "\n",
        "endgroupbypd = time.time()\n",
        "timegroupbypd = endgroupbypd - startgroupbypd\n",
        "print(timegroupbypd, \"s\")"
      ],
      "metadata": {
        "colab": {
          "base_uri": "https://localhost:8080/"
        },
        "id": "C-WmUKv4rWgq",
        "outputId": "f385bc3d-93bf-4c9a-eb80-c40ab0af745e"
      },
      "execution_count": null,
      "outputs": [
        {
          "output_type": "stream",
          "name": "stdout",
          "text": [
            "0.0008666515350341797 s\n"
          ]
        }
      ]
    },
    {
      "cell_type": "code",
      "source": [
        "x = ['Vaex', 'Pandas']\n",
        "y = [timegroupbyvx, timegroupbypd]\n",
        "\n",
        "\n",
        " \n",
        "# creating the bar plot\n",
        "plt.bar(x, y, color ='maroon',\n",
        "        width = 0.4)\n",
        "\n",
        "# add value labels to the bars\n",
        "ax = plt.gca()  # get current axis\n",
        "for p in ax.patches:\n",
        "    ax.text(p.get_x() + p.get_width()/2., p.get_height(), '%.4f' % p.get_height(), fontsize=12, color='black', ha='center', va='bottom')\n",
        "\n",
        "plt.xlabel(\"Library\")\n",
        "plt.ylabel(\"Time Taken (s)\")\n",
        "plt.title(\"Time Taken for both Libraries\")\n",
        "plt.show()"
      ],
      "metadata": {
        "colab": {
          "base_uri": "https://localhost:8080/",
          "height": 295
        },
        "id": "thU5nj5kibdw",
        "outputId": "4e283242-b5a6-42bc-bd59-cf5db9a436a3"
      },
      "execution_count": null,
      "outputs": [
        {
          "output_type": "display_data",
          "data": {
            "text/plain": [
              "<Figure size 432x288 with 1 Axes>"
            ],
            "image/png": "[encoded data removed]"
          },
          "metadata": {
            "needs_background": "light"
          }
        }
      ]
    },
    {
      "cell_type": "markdown",
      "source": [
        "# Plotting 1D Visualization with dataframe from vaex and pandas"
      ],
      "metadata": {
        "id": "Khuzw8cuUnfl"
      }
    },
    {
      "cell_type": "markdown",
      "source": [
        "**Using Vaex**"
      ],
      "metadata": {
        "id": "wWkQTsruaVgc"
      }
    },
    {
      "cell_type": "code",
      "source": [
        "%%time\n",
        "df_vx.viz.histogram('IndividualRate', shape=(25))"
      ],
      "metadata": {
        "colab": {
          "base_uri": "https://localhost:8080/",
          "height": 349
        },
        "id": "lZ6SPCYQUq5b",
        "outputId": "08507503-1d86-406c-8ce5-a73fa1724b34"
      },
      "execution_count": null,
      "outputs": [
        {
          "output_type": "stream",
          "name": "stdout",
          "text": [
            "CPU times: user 17.5 s, sys: 4.18 s, total: 21.7 s\n",
            "Wall time: 16.2 s\n"
          ]
        },
        {
          "output_type": "execute_result",
          "data": {
            "text/plain": [
              "[<matplotlib.lines.Line2D at 0x7fe57a7b0d60>]"
            ]
          },
          "metadata": {},
          "execution_count": 27
        },
        {
          "output_type": "display_data",
          "data": {
            "text/plain": [
              "<Figure size 432x288 with 1 Axes>"
            ],
            "image/png": "[encoded data removed]"
          },
          "metadata": {
            "needs_background": "light"
          }
        }
      ]
    },
    {
      "cell_type": "markdown",
      "source": [
        "**Using Pandas**"
      ],
      "metadata": {
        "id": "2sxUxquGaY8f"
      }
    },
    {
      "cell_type": "code",
      "source": [
        "%%time\n",
        "import matplotlib.pyplot as plt\n",
        "\n",
        "x = df_pd['IndividualRate']\n",
        "plt.hist(x, bins=25)\n",
        "plt.show()"
      ],
      "metadata": {
        "id": "l6E2sKWoVKMQ",
        "colab": {
          "base_uri": "https://localhost:8080/",
          "height": 324
        },
        "outputId": "edb20ab6-de30-4789-cab3-b66a17da1ede"
      },
      "execution_count": null,
      "outputs": [
        {
          "output_type": "display_data",
          "data": {
            "text/plain": [
              "<Figure size 432x288 with 1 Axes>"
            ],
            "image/png": "[encoded data removed]"
          },
          "metadata": {
            "needs_background": "light"
          }
        },
        {
          "output_type": "stream",
          "name": "stdout",
          "text": [
            "CPU times: user 474 ms, sys: 124 ms, total: 598 ms\n",
            "Wall time: 478 ms\n"
          ]
        }
      ]
    },
    {
      "cell_type": "code",
      "source": [
        "%%time\n",
        "# Select the columns of data you want to plot\n",
        "data1 = df_vx['BusinessYear']\n",
        "data2 = df_vx['IndividualRate']\n",
        "\n",
        "# Set the labels for the x-axis and y-axis\n",
        "plt.xlabel('BusinessYear')\n",
        "plt.ylabel('IndividualRate')\n",
        "\n",
        "# Create the histogram\n",
        "plt.hist(data1, alpha=0.5, label='BusinessYear')\n",
        "plt.hist(data2, alpha=0.5, label='IndividualRatee')\n",
        "\n",
        "# Add a legend\n",
        "plt.legend(loc='upper right')\n",
        "\n",
        "# Show the plot\n",
        "plt.show()"
      ],
      "metadata": {
        "colab": {
          "base_uri": "https://localhost:8080/",
          "height": 325
        },
        "id": "rXqRzZxyxB4J",
        "outputId": "037cd213-e068-4908-b7df-dbe7fd7482ea"
      },
      "execution_count": null,
      "outputs": [
        {
          "output_type": "display_data",
          "data": {
            "text/plain": [
              "<Figure size 432x288 with 1 Axes>"
            ],
            "image/png": "[encoded data removed]"
          },
          "metadata": {
            "needs_background": "light"
          }
        },
        {
          "output_type": "stream",
          "name": "stdout",
          "text": [
            "CPU times: user 17.6 s, sys: 4.13 s, total: 21.7 s\n",
            "Wall time: 15.4 s\n"
          ]
        }
      ]
    },
    {
      "cell_type": "code",
      "source": [
        "%%time\n",
        "# Select the columns of data you want to plot\n",
        "data1 = df_pd['BusinessYear']\n",
        "data2 = df_pd['IndividualRate']\n",
        "\n",
        "# Set the labels for the x-axis and y-axis\n",
        "plt.xlabel('BusinessYear')\n",
        "plt.ylabel('IndividualRate')\n",
        "\n",
        "# Create the histogram\n",
        "plt.hist(data1, alpha=0.5, label='BusinessYear')\n",
        "plt.hist(data2, alpha=0.5, label='IndividualRatee')\n",
        "\n",
        "# Add a legend\n",
        "plt.legend(loc='upper right')\n",
        "\n",
        "# Show the plot\n",
        "plt.show()"
      ],
      "metadata": {
        "colab": {
          "base_uri": "https://localhost:8080/",
          "height": 325
        },
        "id": "CKqIQ2oQxElh",
        "outputId": "39fbdba0-a173-4f04-c71a-35d64d225798"
      },
      "execution_count": null,
      "outputs": [
        {
          "output_type": "display_data",
          "data": {
            "text/plain": [
              "<Figure size 432x288 with 1 Axes>"
            ],
            "image/png": "[encoded data removed]"
          },
          "metadata": {
            "needs_background": "light"
          }
        },
        {
          "output_type": "stream",
          "name": "stdout",
          "text": [
            "CPU times: user 999 ms, sys: 97 ms, total: 1.1 s\n",
            "Wall time: 1.17 s\n"
          ]
        }
      ]
    }
  ],
  "metadata": {
    "kernelspec": {
      "display_name": "Python 3",
      "language": "python",
      "name": "python3"
    },
    "language_info": {
      "codemirror_mode": {
        "name": "ipython",
        "version": 3
      },
      "file_extension": ".py",
      "mimetype": "text/x-python",
      "name": "python",
      "nbconvert_exporter": "python",
      "pygments_lexer": "ipython3",
      "version": "3.8.5"
    },
    "colab": {
      "provenance": [],
      "include_colab_link": true
    }
  },
  "nbformat": 4,
  "nbformat_minor": 0
}
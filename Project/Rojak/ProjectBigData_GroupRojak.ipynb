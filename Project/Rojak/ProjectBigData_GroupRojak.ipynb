{
  "cells": [
    {
      "cell_type": "markdown",
      "metadata": {
        "id": "XBtcnU6iVJJx"
      },
      "source": [
        "# **Chess Games Analysis with Three Python Libraries**\n",
        "\n",
        "This dataset contains data for every rated Lichess game played between January 2013 and December 2014. There were approximately 15,000,000 games in total. It includes the players' names, ratings, the winner, the opening, the number of moves, etc. We will conduct an analysis to gain insights on the games and address our research questions. We hope to discover interesting patterns by analysing the various characteristics of each game, including the type of opening employed, the ratings of the players, and more. This data analysis allows us to comprehend the effects of various moves, strategies, and time controls on game outcomes. This research will also compare the performance of three Python libraries: Pandas, Vaex, and Koalas.\n",
        "\n",
        "### Libraries\n",
        "1. Pandas\n",
        "2. Vaex\n",
        "3. Koalas\n",
        "\n",
        "###Group Members: \n",
        "\n",
        "<table>\n",
        "  <tr>\n",
        "    <th>Name</th>\n",
        "    <th>Matric No</th>\n",
        "  </tr>\n",
        "  <tr>\n",
        "    <th>Eddie Wong Chung Pheng </th>\n",
        "    <th>A20EC0031</th>\n",
        "  </tr>\n",
        "  <tr>\n",
        "    <th>Madihah Binti Che Zabri </th>\n",
        "    <th>A20EC0074</th>\n",
        "  </tr>\n",
        "  <tr>\n",
        "    <th>Nurarissa Dayana Binti Mohd Sukri</th>\n",
        "    <th>A20EC0120</th>\n",
        "  </tr>\n",
        "  <tr> \n",
        "    <th>Vincent Boo Ee Khai</th>\n",
        "    <th>A20EC0231</th>\n",
        "  </tr>\n",
        "</table>\n",
        "<br></br>\n",
        "\n",
        "###About The Dataset\n",
        "\n",
        "*  This dataset contains data from all rated games played in Lichess from January 2013 to December 2014, in total there are around 15,000,000 games.\n",
        "*  The dataset consists of 1048576 rows and 16 columns.\n",
        "*  The size of this dataset is 1.99GB.\n",
        "*  The dataset can be obtained from [here](https://www.kaggle.com/datasets/maca11/chess-games-from-lichess-20132014?select=Lichess_2013_2014_Complete.csv)\n"
      ]
    },
    {
      "cell_type": "markdown",
      "metadata": {
        "id": "LxWzVndBVJJ1"
      },
      "source": [
        "## Downloading the Dataset"
      ]
    },
    {
      "cell_type": "markdown",
      "metadata": {
        "id": "oHRcyidmVJJ1"
      },
      "source": [
        "Install Pydrive to read dataset from Google Drive. Dataset is uploaded in Google Drive and the link is provided to mount the dataset."
      ]
    },
    {
      "cell_type": "code",
      "execution_count": 2,
      "metadata": {
        "id": "_s6ZSPWYVJJ2"
      },
      "outputs": [],
      "source": [
        "# Read dataset from google drive\n",
        "!pip install -U -q PyDrive\n",
        "from pydrive.auth import GoogleAuth\n",
        "from pydrive.drive import GoogleDrive\n",
        "from google.colab import auth\n",
        "from oauth2client.client import GoogleCredentials\n",
        "\n",
        "# Authenticate and create the PyDrive client.\n",
        "auth.authenticate_user()\n",
        "gauth = GoogleAuth()\n",
        "gauth.credentials = GoogleCredentials.get_application_default()\n",
        "drive = GoogleDrive(gauth)\n",
        "link = 'https://drive.google.com/file/d/10CIeiPoyqyyDT_4C2B0eGANY-XVFpzkr/view?usp=share_link'\n",
        "# to get the id part of the file\n",
        "id = link.split(\"/\")[-2]\n",
        " \n",
        "downloaded = drive.CreateFile({'id':id})\n",
        "downloaded.GetContentFile('Lichess_2013_2014_Complete.csv') "
      ]
    },
    {
      "cell_type": "markdown",
      "metadata": {
        "id": "GhhO14GEVJJ2"
      },
      "source": [
        "The dataset has been downloaded and extracted. We will compare the performance of libraries in analyzing the data."
      ]
    },
    {
      "cell_type": "markdown",
      "metadata": {
        "id": "CmX-deowZ6D-"
      },
      "source": [
        "##Import The Libraries"
      ]
    },
    {
      "cell_type": "code",
      "execution_count": null,
      "metadata": {
        "id": "Y01mz1wea8zE"
      },
      "outputs": [],
      "source": [
        "!pip install vaex"
      ]
    },
    {
      "cell_type": "code",
      "execution_count": null,
      "metadata": {
        "id": "LPePFv2Xf5ZQ"
      },
      "outputs": [],
      "source": [
        "!pip install koalas"
      ]
    },
    {
      "cell_type": "code",
      "execution_count": 1,
      "metadata": {
        "id": "teZORj7RbMON",
        "colab": {
          "base_uri": "https://localhost:8080/"
        },
        "outputId": "6f8fdb79-de9c-464b-885a-9660804a7a9b"
      },
      "outputs": [
        {
          "output_type": "stream",
          "name": "stderr",
          "text": [
            "WARNING:root:'PYARROW_IGNORE_TIMEZONE' environment variable was not set. It is required to set this environment variable to '1' in both driver and executor sides if you use pyarrow>=2.0.0. pandas-on-Spark will set it for you but it does not work if there is a Spark context already launched.\n",
            "WARNING:root:Found pyspark version \"3.3.1\" installed. The pyspark version 3.2 and above has a built-in \"pandas APIs on Spark\" module ported from Koalas. Try `import pyspark.pandas as ps` instead. \n"
          ]
        }
      ],
      "source": [
        "import pandas as pd\n",
        "import numpy as np\n",
        "import vaex as vx\n",
        "import vaex.ml\n",
        "import vaex.viz as vv\n",
        "import pyspark.pandas as ps\n",
        "import databricks.koalas as ks\n",
        "from pyspark.sql import SparkSession\n",
        "from pyspark.conf import SparkConf\n",
        "import matplotlib.pyplot as plt\n",
        "import seaborn as sns\n",
        "%matplotlib inline"
      ]
    },
    {
      "cell_type": "markdown",
      "metadata": {
        "id": "u0vucnGFVJJ5"
      },
      "source": [
        "## Data Preparation and Cleaning\n",
        "\n",
        "\n"
      ]
    },
    {
      "cell_type": "markdown",
      "source": [
        "###Read the data\n",
        "We will evaluate which library reads large datasets more efficiently."
      ],
      "metadata": {
        "id": "kaW7WzMqi0jH"
      }
    },
    {
      "cell_type": "markdown",
      "metadata": {
        "id": "aAxrFSVSZUK8"
      },
      "source": [
        "**Pandas**\n"
      ]
    },
    {
      "cell_type": "code",
      "execution_count": 2,
      "metadata": {
        "colab": {
          "base_uri": "https://localhost:8080/"
        },
        "id": "90nIoWQtVJJ3",
        "outputId": "6fadd560-04bb-4143-fa0a-c11902f8fb22"
      },
      "outputs": [
        {
          "output_type": "stream",
          "name": "stdout",
          "text": [
            "CPU times: user 34 s, sys: 4.7 s, total: 38.7 s\n",
            "Wall time: 48.4 s\n"
          ]
        }
      ],
      "source": [
        "%%time \n",
        "pdf = pd.read_csv(\"Lichess_2013_2014_Complete.csv\")\n",
        "pd.set_option('display.max_columns', None)"
      ]
    },
    {
      "cell_type": "markdown",
      "metadata": {
        "id": "E7_W0mWiaaCo"
      },
      "source": [
        "**Vaex**"
      ]
    },
    {
      "cell_type": "code",
      "execution_count": 3,
      "metadata": {
        "colab": {
          "base_uri": "https://localhost:8080/"
        },
        "id": "oAVmLuq2VJJ3",
        "outputId": "fbede885-76be-4bca-fdd5-57fa670ead43"
      },
      "outputs": [
        {
          "output_type": "stream",
          "name": "stdout",
          "text": [
            "CPU times: user 1.98 s, sys: 251 ms, total: 2.23 s\n",
            "Wall time: 1.88 s\n"
          ]
        }
      ],
      "source": [
        "%%time\n",
        "vdf = vx.open('Lichess_2013_2014_Complete.csv') "
      ]
    },
    {
      "cell_type": "markdown",
      "metadata": {
        "id": "6bL3PoACaeAA"
      },
      "source": [
        "**Koalas**"
      ]
    },
    {
      "cell_type": "code",
      "execution_count": 4,
      "metadata": {
        "id": "HTOsaP0Cc-Ym",
        "colab": {
          "base_uri": "https://localhost:8080/"
        },
        "outputId": "982b923b-863e-46c5-d4dc-3d4bb96a526b"
      },
      "outputs": [
        {
          "output_type": "stream",
          "name": "stdout",
          "text": [
            "CPU times: user 425 ms, sys: 123 ms, total: 548 ms\n",
            "Wall time: 1min 2s\n"
          ]
        }
      ],
      "source": [
        "%%time\n",
        "kdf = ks.read_csv('Lichess_2013_2014_Complete.csv')"
      ]
    },
    {
      "cell_type": "markdown",
      "metadata": {
        "id": "WzFvzxuqnRpv"
      },
      "source": [
        "### Viewing The Dataset"
      ]
    },
    {
      "cell_type": "markdown",
      "metadata": {
        "id": "4p8B6mrvnxNb"
      },
      "source": [
        "**Pandas**\n"
      ]
    },
    {
      "cell_type": "code",
      "execution_count": null,
      "metadata": {
        "colab": {
          "base_uri": "https://localhost:8080/",
          "height": 601
        },
        "id": "Np6iQXSrrBWg",
        "outputId": "2fca1d83-f2a2-4e85-85e7-1dc8c147c0a0"
      },
      "outputs": [
        {
          "output_type": "stream",
          "name": "stdout",
          "text": [
            "CPU times: user 347 µs, sys: 71 µs, total: 418 µs\n",
            "Wall time: 504 µs\n"
          ]
        },
        {
          "output_type": "execute_result",
          "data": {
            "text/plain": [
              "   WhiteElo  BlackElo         WhiteName          BlackName Winner Termination  \\\n",
              "0      1639      1403             BFG9k            mamalak  White      Normal   \n",
              "1      1654      1919    Desmond_Wilson          savinka59  White      Normal   \n",
              "2      1643      1747     Kozakmamay007  VanillaShamanilla  White      Normal   \n",
              "3      1824      1973  Naitero_Nagasaki                800  Black      Normal   \n",
              "4      1765      1815      nichiren1967   Naitero_Nagasaki  Black      Normal   \n",
              "\n",
              "                           Site  Day  Month  Year  InitialTime  Increment  \\\n",
              "0  https://lichess.org/j1dkb5dw   31     12  2012          600          8   \n",
              "1  https://lichess.org/a9tcp02g   31     12  2012          480          2   \n",
              "2  https://lichess.org/szom2tog   31     12  2012          420         17   \n",
              "3  https://lichess.org/rklpc7mk   31     12  2012           60          1   \n",
              "4  https://lichess.org/1xb3os63   31     12  2012           60          1   \n",
              "\n",
              "  TimeControl                                      Opening  ECO  \\\n",
              "0       Rapid             French Defense: Normal Variation  C00   \n",
              "1       Rapid  Queen's Pawn Game: Colle System, Anti-Colle  D04   \n",
              "2       Rapid         Four Knights Game: Italian Variation  C50   \n",
              "3      Bullet         Caro-Kann Defense: Goldman Variation  B12   \n",
              "4      Bullet     French Defense: La Bourdonnais Variation  C00   \n",
              "\n",
              "   Number_of_Moves  \n",
              "0               13  \n",
              "1               18  \n",
              "2               11  \n",
              "3               47  \n",
              "4               23  "
            ],
            "text/html": [
              "\n",
              "  <div id=\"df-b6d79522-b583-40b8-bada-5c2e8f5f0c29\">\n",
              "    <div class=\"colab-df-container\">\n",
              "      <div>\n",
              "<style scoped>\n",
              "    .dataframe tbody tr th:only-of-type {\n",
              "        vertical-align: middle;\n",
              "    }\n",
              "\n",
              "    .dataframe tbody tr th {\n",
              "        vertical-align: top;\n",
              "    }\n",
              "\n",
              "    .dataframe thead th {\n",
              "        text-align: right;\n",
              "    }\n",
              "</style>\n",
              "<table border=\"1\" class=\"dataframe\">\n",
              "  <thead>\n",
              "    <tr style=\"text-align: right;\">\n",
              "      <th></th>\n",
              "      <th>WhiteElo</th>\n",
              "      <th>BlackElo</th>\n",
              "      <th>WhiteName</th>\n",
              "      <th>BlackName</th>\n",
              "      <th>Winner</th>\n",
              "      <th>Termination</th>\n",
              "      <th>Site</th>\n",
              "      <th>Day</th>\n",
              "      <th>Month</th>\n",
              "      <th>Year</th>\n",
              "      <th>InitialTime</th>\n",
              "      <th>Increment</th>\n",
              "      <th>TimeControl</th>\n",
              "      <th>Opening</th>\n",
              "      <th>ECO</th>\n",
              "      <th>Number_of_Moves</th>\n",
              "    </tr>\n",
              "  </thead>\n",
              "  <tbody>\n",
              "    <tr>\n",
              "      <th>0</th>\n",
              "      <td>1639</td>\n",
              "      <td>1403</td>\n",
              "      <td>BFG9k</td>\n",
              "      <td>mamalak</td>\n",
              "      <td>White</td>\n",
              "      <td>Normal</td>\n",
              "      <td>https://lichess.org/j1dkb5dw</td>\n",
              "      <td>31</td>\n",
              "      <td>12</td>\n",
              "      <td>2012</td>\n",
              "      <td>600</td>\n",
              "      <td>8</td>\n",
              "      <td>Rapid</td>\n",
              "      <td>French Defense: Normal Variation</td>\n",
              "      <td>C00</td>\n",
              "      <td>13</td>\n",
              "    </tr>\n",
              "    <tr>\n",
              "      <th>1</th>\n",
              "      <td>1654</td>\n",
              "      <td>1919</td>\n",
              "      <td>Desmond_Wilson</td>\n",
              "      <td>savinka59</td>\n",
              "      <td>White</td>\n",
              "      <td>Normal</td>\n",
              "      <td>https://lichess.org/a9tcp02g</td>\n",
              "      <td>31</td>\n",
              "      <td>12</td>\n",
              "      <td>2012</td>\n",
              "      <td>480</td>\n",
              "      <td>2</td>\n",
              "      <td>Rapid</td>\n",
              "      <td>Queen's Pawn Game: Colle System, Anti-Colle</td>\n",
              "      <td>D04</td>\n",
              "      <td>18</td>\n",
              "    </tr>\n",
              "    <tr>\n",
              "      <th>2</th>\n",
              "      <td>1643</td>\n",
              "      <td>1747</td>\n",
              "      <td>Kozakmamay007</td>\n",
              "      <td>VanillaShamanilla</td>\n",
              "      <td>White</td>\n",
              "      <td>Normal</td>\n",
              "      <td>https://lichess.org/szom2tog</td>\n",
              "      <td>31</td>\n",
              "      <td>12</td>\n",
              "      <td>2012</td>\n",
              "      <td>420</td>\n",
              "      <td>17</td>\n",
              "      <td>Rapid</td>\n",
              "      <td>Four Knights Game: Italian Variation</td>\n",
              "      <td>C50</td>\n",
              "      <td>11</td>\n",
              "    </tr>\n",
              "    <tr>\n",
              "      <th>3</th>\n",
              "      <td>1824</td>\n",
              "      <td>1973</td>\n",
              "      <td>Naitero_Nagasaki</td>\n",
              "      <td>800</td>\n",
              "      <td>Black</td>\n",
              "      <td>Normal</td>\n",
              "      <td>https://lichess.org/rklpc7mk</td>\n",
              "      <td>31</td>\n",
              "      <td>12</td>\n",
              "      <td>2012</td>\n",
              "      <td>60</td>\n",
              "      <td>1</td>\n",
              "      <td>Bullet</td>\n",
              "      <td>Caro-Kann Defense: Goldman Variation</td>\n",
              "      <td>B12</td>\n",
              "      <td>47</td>\n",
              "    </tr>\n",
              "    <tr>\n",
              "      <th>4</th>\n",
              "      <td>1765</td>\n",
              "      <td>1815</td>\n",
              "      <td>nichiren1967</td>\n",
              "      <td>Naitero_Nagasaki</td>\n",
              "      <td>Black</td>\n",
              "      <td>Normal</td>\n",
              "      <td>https://lichess.org/1xb3os63</td>\n",
              "      <td>31</td>\n",
              "      <td>12</td>\n",
              "      <td>2012</td>\n",
              "      <td>60</td>\n",
              "      <td>1</td>\n",
              "      <td>Bullet</td>\n",
              "      <td>French Defense: La Bourdonnais Variation</td>\n",
              "      <td>C00</td>\n",
              "      <td>23</td>\n",
              "    </tr>\n",
              "  </tbody>\n",
              "</table>\n",
              "</div>\n",
              "      <button class=\"colab-df-convert\" onclick=\"convertToInteractive('df-b6d79522-b583-40b8-bada-5c2e8f5f0c29')\"\n",
              "              title=\"Convert this dataframe to an interactive table.\"\n",
              "              style=\"display:none;\">\n",
              "        \n",
              "  <svg xmlns=\"http://www.w3.org/2000/svg\" height=\"24px\"viewBox=\"0 0 24 24\"\n",
              "       width=\"24px\">\n",
              "    <path d=\"M0 0h24v24H0V0z\" fill=\"none\"/>\n",
              "    <path d=\"M18.56 5.44l.94 2.06.94-2.06 2.06-.94-2.06-.94-.94-2.06-.94 2.06-2.06.94zm-11 1L8.5 8.5l.94-2.06 2.06-.94-2.06-.94L8.5 2.5l-.94 2.06-2.06.94zm10 10l.94 2.06.94-2.06 2.06-.94-2.06-.94-.94-2.06-.94 2.06-2.06.94z\"/><path d=\"M17.41 7.96l-1.37-1.37c-.4-.4-.92-.59-1.43-.59-.52 0-1.04.2-1.43.59L10.3 9.45l-7.72 7.72c-.78.78-.78 2.05 0 2.83L4 21.41c.39.39.9.59 1.41.59.51 0 1.02-.2 1.41-.59l7.78-7.78 2.81-2.81c.8-.78.8-2.07 0-2.86zM5.41 20L4 18.59l7.72-7.72 1.47 1.35L5.41 20z\"/>\n",
              "  </svg>\n",
              "      </button>\n",
              "      \n",
              "  <style>\n",
              "    .colab-df-container {\n",
              "      display:flex;\n",
              "      flex-wrap:wrap;\n",
              "      gap: 12px;\n",
              "    }\n",
              "\n",
              "    .colab-df-convert {\n",
              "      background-color: #E8F0FE;\n",
              "      border: none;\n",
              "      border-radius: 50%;\n",
              "      cursor: pointer;\n",
              "      display: none;\n",
              "      fill: #1967D2;\n",
              "      height: 32px;\n",
              "      padding: 0 0 0 0;\n",
              "      width: 32px;\n",
              "    }\n",
              "\n",
              "    .colab-df-convert:hover {\n",
              "      background-color: #E2EBFA;\n",
              "      box-shadow: 0px 1px 2px rgba(60, 64, 67, 0.3), 0px 1px 3px 1px rgba(60, 64, 67, 0.15);\n",
              "      fill: #174EA6;\n",
              "    }\n",
              "\n",
              "    [theme=dark] .colab-df-convert {\n",
              "      background-color: #3B4455;\n",
              "      fill: #D2E3FC;\n",
              "    }\n",
              "\n",
              "    [theme=dark] .colab-df-convert:hover {\n",
              "      background-color: #434B5C;\n",
              "      box-shadow: 0px 1px 3px 1px rgba(0, 0, 0, 0.15);\n",
              "      filter: drop-shadow(0px 1px 2px rgba(0, 0, 0, 0.3));\n",
              "      fill: #FFFFFF;\n",
              "    }\n",
              "  </style>\n",
              "\n",
              "      <script>\n",
              "        const buttonEl =\n",
              "          document.querySelector('#df-b6d79522-b583-40b8-bada-5c2e8f5f0c29 button.colab-df-convert');\n",
              "        buttonEl.style.display =\n",
              "          google.colab.kernel.accessAllowed ? 'block' : 'none';\n",
              "\n",
              "        async function convertToInteractive(key) {\n",
              "          const element = document.querySelector('#df-b6d79522-b583-40b8-bada-5c2e8f5f0c29');\n",
              "          const dataTable =\n",
              "            await google.colab.kernel.invokeFunction('convertToInteractive',\n",
              "                                                     [key], {});\n",
              "          if (!dataTable) return;\n",
              "\n",
              "          const docLinkHtml = 'Like what you see? Visit the ' +\n",
              "            '<a target=\"_blank\" href=https://colab.research.google.com/notebooks/data_table.ipynb>data table notebook</a>'\n",
              "            + ' to learn more about interactive tables.';\n",
              "          element.innerHTML = '';\n",
              "          dataTable['output_type'] = 'display_data';\n",
              "          await google.colab.output.renderOutput(dataTable, element);\n",
              "          const docLink = document.createElement('div');\n",
              "          docLink.innerHTML = docLinkHtml;\n",
              "          element.appendChild(docLink);\n",
              "        }\n",
              "      </script>\n",
              "    </div>\n",
              "  </div>\n",
              "  "
            ]
          },
          "metadata": {},
          "execution_count": 10
        }
      ],
      "source": [
        "%%time\n",
        "pdf.head()"
      ]
    },
    {
      "cell_type": "markdown",
      "metadata": {
        "id": "N42iYGNGn2W-"
      },
      "source": [
        "**Vaex**"
      ]
    },
    {
      "cell_type": "code",
      "execution_count": null,
      "metadata": {
        "colab": {
          "base_uri": "https://localhost:8080/",
          "height": 322
        },
        "id": "9HsdH1YtrLtw",
        "outputId": "86f92a5c-ac9a-4c0f-c10b-7be3df4eaac8"
      },
      "outputs": [
        {
          "output_type": "stream",
          "name": "stdout",
          "text": [
            "CPU times: user 3.47 ms, sys: 1.1 ms, total: 4.57 ms\n",
            "Wall time: 4.82 ms\n"
          ]
        },
        {
          "output_type": "execute_result",
          "data": {
            "text/html": [
              "<table>\n",
              "<thead>\n",
              "<tr><th>#                            </th><th style=\"text-align: right;\">  WhiteElo</th><th style=\"text-align: right;\">  BlackElo</th><th>WhiteName       </th><th>BlackName        </th><th>Winner  </th><th>Termination  </th><th>Site                        </th><th style=\"text-align: right;\">  Day</th><th style=\"text-align: right;\">  Month</th><th style=\"text-align: right;\">  Year</th><th style=\"text-align: right;\">  InitialTime</th><th style=\"text-align: right;\">  Increment</th><th>TimeControl  </th><th>Opening                                    </th><th>ECO  </th><th style=\"text-align: right;\">  Number_of_Moves</th></tr>\n",
              "</thead>\n",
              "<tbody>\n",
              "<tr><td><i style='opacity: 0.6'>0</i></td><td style=\"text-align: right;\">      1639</td><td style=\"text-align: right;\">      1403</td><td>BFG9k           </td><td>mamalak          </td><td>White   </td><td>Normal       </td><td>https://lichess.org/j1dkb5dw</td><td style=\"text-align: right;\">   31</td><td style=\"text-align: right;\">     12</td><td style=\"text-align: right;\">  2012</td><td style=\"text-align: right;\">          600</td><td style=\"text-align: right;\">          8</td><td>Rapid        </td><td>French Defense: Normal Variation           </td><td>C00  </td><td style=\"text-align: right;\">               13</td></tr>\n",
              "<tr><td><i style='opacity: 0.6'>1</i></td><td style=\"text-align: right;\">      1654</td><td style=\"text-align: right;\">      1919</td><td>Desmond_Wilson  </td><td>savinka59        </td><td>White   </td><td>Normal       </td><td>https://lichess.org/a9tcp02g</td><td style=\"text-align: right;\">   31</td><td style=\"text-align: right;\">     12</td><td style=\"text-align: right;\">  2012</td><td style=\"text-align: right;\">          480</td><td style=\"text-align: right;\">          2</td><td>Rapid        </td><td>Queen&#x27;s Pawn Game: Colle System, Anti-Colle</td><td>D04  </td><td style=\"text-align: right;\">               18</td></tr>\n",
              "<tr><td><i style='opacity: 0.6'>2</i></td><td style=\"text-align: right;\">      1643</td><td style=\"text-align: right;\">      1747</td><td>Kozakmamay007   </td><td>VanillaShamanilla</td><td>White   </td><td>Normal       </td><td>https://lichess.org/szom2tog</td><td style=\"text-align: right;\">   31</td><td style=\"text-align: right;\">     12</td><td style=\"text-align: right;\">  2012</td><td style=\"text-align: right;\">          420</td><td style=\"text-align: right;\">         17</td><td>Rapid        </td><td>Four Knights Game: Italian Variation       </td><td>C50  </td><td style=\"text-align: right;\">               11</td></tr>\n",
              "<tr><td><i style='opacity: 0.6'>3</i></td><td style=\"text-align: right;\">      1824</td><td style=\"text-align: right;\">      1973</td><td>Naitero_Nagasaki</td><td>800              </td><td>Black   </td><td>Normal       </td><td>https://lichess.org/rklpc7mk</td><td style=\"text-align: right;\">   31</td><td style=\"text-align: right;\">     12</td><td style=\"text-align: right;\">  2012</td><td style=\"text-align: right;\">           60</td><td style=\"text-align: right;\">          1</td><td>Bullet       </td><td>Caro-Kann Defense: Goldman Variation       </td><td>B12  </td><td style=\"text-align: right;\">               47</td></tr>\n",
              "<tr><td><i style='opacity: 0.6'>4</i></td><td style=\"text-align: right;\">      1765</td><td style=\"text-align: right;\">      1815</td><td>nichiren1967    </td><td>Naitero_Nagasaki </td><td>Black   </td><td>Normal       </td><td>https://lichess.org/1xb3os63</td><td style=\"text-align: right;\">   31</td><td style=\"text-align: right;\">     12</td><td style=\"text-align: right;\">  2012</td><td style=\"text-align: right;\">           60</td><td style=\"text-align: right;\">          1</td><td>Bullet       </td><td>French Defense: La Bourdonnais Variation   </td><td>C00  </td><td style=\"text-align: right;\">               23</td></tr>\n",
              "</tbody>\n",
              "</table>"
            ],
            "text/plain": [
              "  #    WhiteElo    BlackElo  WhiteName         BlackName          Winner    Termination    Site                            Day    Month    Year    InitialTime    Increment  TimeControl    Opening                                      ECO      Number_of_Moves\n",
              "  0        1639        1403  BFG9k             mamalak            White     Normal         https://lichess.org/j1dkb5dw     31       12    2012            600            8  Rapid          French Defense: Normal Variation             C00                   13\n",
              "  1        1654        1919  Desmond_Wilson    savinka59          White     Normal         https://lichess.org/a9tcp02g     31       12    2012            480            2  Rapid          Queen's Pawn Game: Colle System, Anti-Colle  D04                   18\n",
              "  2        1643        1747  Kozakmamay007     VanillaShamanilla  White     Normal         https://lichess.org/szom2tog     31       12    2012            420           17  Rapid          Four Knights Game: Italian Variation         C50                   11\n",
              "  3        1824        1973  Naitero_Nagasaki  800                Black     Normal         https://lichess.org/rklpc7mk     31       12    2012             60            1  Bullet         Caro-Kann Defense: Goldman Variation         B12                   47\n",
              "  4        1765        1815  nichiren1967      Naitero_Nagasaki   Black     Normal         https://lichess.org/1xb3os63     31       12    2012             60            1  Bullet         French Defense: La Bourdonnais Variation     C00                   23"
            ]
          },
          "metadata": {},
          "execution_count": 11
        }
      ],
      "source": [
        "%%time\n",
        "vdf.head(5)"
      ]
    },
    {
      "cell_type": "markdown",
      "metadata": {
        "id": "plpyDIYYn4GP"
      },
      "source": [
        "**Koalas**"
      ]
    },
    {
      "cell_type": "code",
      "execution_count": null,
      "metadata": {
        "colab": {
          "base_uri": "https://localhost:8080/",
          "height": 557
        },
        "id": "1Et9QhCbVJJ6",
        "outputId": "96304d8d-8c04-4693-bd57-c4dce68a703e"
      },
      "outputs": [
        {
          "output_type": "stream",
          "name": "stdout",
          "text": [
            "CPU times: user 65.3 ms, sys: 13.8 ms, total: 79.1 ms\n",
            "Wall time: 475 ms\n"
          ]
        },
        {
          "output_type": "execute_result",
          "data": {
            "text/plain": [
              "   WhiteElo  BlackElo         WhiteName          BlackName Winner Termination                          Site  Day  Month  Year  InitialTime  Increment TimeControl                                      Opening  ECO  Number_of_Moves\n",
              "0      1639      1403             BFG9k            mamalak  White      Normal  https://lichess.org/j1dkb5dw   31     12  2012          600          8       Rapid             French Defense: Normal Variation  C00               13\n",
              "1      1654      1919    Desmond_Wilson          savinka59  White      Normal  https://lichess.org/a9tcp02g   31     12  2012          480          2       Rapid  Queen's Pawn Game: Colle System, Anti-Colle  D04               18\n",
              "2      1643      1747     Kozakmamay007  VanillaShamanilla  White      Normal  https://lichess.org/szom2tog   31     12  2012          420         17       Rapid         Four Knights Game: Italian Variation  C50               11\n",
              "3      1824      1973  Naitero_Nagasaki                800  Black      Normal  https://lichess.org/rklpc7mk   31     12  2012           60          1      Bullet         Caro-Kann Defense: Goldman Variation  B12               47\n",
              "4      1765      1815      nichiren1967   Naitero_Nagasaki  Black      Normal  https://lichess.org/1xb3os63   31     12  2012           60          1      Bullet     French Defense: La Bourdonnais Variation  C00               23"
            ],
            "text/html": [
              "<div>\n",
              "<style scoped>\n",
              "    .dataframe tbody tr th:only-of-type {\n",
              "        vertical-align: middle;\n",
              "    }\n",
              "\n",
              "    .dataframe tbody tr th {\n",
              "        vertical-align: top;\n",
              "    }\n",
              "\n",
              "    .dataframe thead th {\n",
              "        text-align: right;\n",
              "    }\n",
              "</style>\n",
              "<table border=\"1\" class=\"dataframe\">\n",
              "  <thead>\n",
              "    <tr style=\"text-align: right;\">\n",
              "      <th></th>\n",
              "      <th>WhiteElo</th>\n",
              "      <th>BlackElo</th>\n",
              "      <th>WhiteName</th>\n",
              "      <th>BlackName</th>\n",
              "      <th>Winner</th>\n",
              "      <th>Termination</th>\n",
              "      <th>Site</th>\n",
              "      <th>Day</th>\n",
              "      <th>Month</th>\n",
              "      <th>Year</th>\n",
              "      <th>InitialTime</th>\n",
              "      <th>Increment</th>\n",
              "      <th>TimeControl</th>\n",
              "      <th>Opening</th>\n",
              "      <th>ECO</th>\n",
              "      <th>Number_of_Moves</th>\n",
              "    </tr>\n",
              "  </thead>\n",
              "  <tbody>\n",
              "    <tr>\n",
              "      <th>0</th>\n",
              "      <td>1639</td>\n",
              "      <td>1403</td>\n",
              "      <td>BFG9k</td>\n",
              "      <td>mamalak</td>\n",
              "      <td>White</td>\n",
              "      <td>Normal</td>\n",
              "      <td>https://lichess.org/j1dkb5dw</td>\n",
              "      <td>31</td>\n",
              "      <td>12</td>\n",
              "      <td>2012</td>\n",
              "      <td>600</td>\n",
              "      <td>8</td>\n",
              "      <td>Rapid</td>\n",
              "      <td>French Defense: Normal Variation</td>\n",
              "      <td>C00</td>\n",
              "      <td>13</td>\n",
              "    </tr>\n",
              "    <tr>\n",
              "      <th>1</th>\n",
              "      <td>1654</td>\n",
              "      <td>1919</td>\n",
              "      <td>Desmond_Wilson</td>\n",
              "      <td>savinka59</td>\n",
              "      <td>White</td>\n",
              "      <td>Normal</td>\n",
              "      <td>https://lichess.org/a9tcp02g</td>\n",
              "      <td>31</td>\n",
              "      <td>12</td>\n",
              "      <td>2012</td>\n",
              "      <td>480</td>\n",
              "      <td>2</td>\n",
              "      <td>Rapid</td>\n",
              "      <td>Queen's Pawn Game: Colle System, Anti-Colle</td>\n",
              "      <td>D04</td>\n",
              "      <td>18</td>\n",
              "    </tr>\n",
              "    <tr>\n",
              "      <th>2</th>\n",
              "      <td>1643</td>\n",
              "      <td>1747</td>\n",
              "      <td>Kozakmamay007</td>\n",
              "      <td>VanillaShamanilla</td>\n",
              "      <td>White</td>\n",
              "      <td>Normal</td>\n",
              "      <td>https://lichess.org/szom2tog</td>\n",
              "      <td>31</td>\n",
              "      <td>12</td>\n",
              "      <td>2012</td>\n",
              "      <td>420</td>\n",
              "      <td>17</td>\n",
              "      <td>Rapid</td>\n",
              "      <td>Four Knights Game: Italian Variation</td>\n",
              "      <td>C50</td>\n",
              "      <td>11</td>\n",
              "    </tr>\n",
              "    <tr>\n",
              "      <th>3</th>\n",
              "      <td>1824</td>\n",
              "      <td>1973</td>\n",
              "      <td>Naitero_Nagasaki</td>\n",
              "      <td>800</td>\n",
              "      <td>Black</td>\n",
              "      <td>Normal</td>\n",
              "      <td>https://lichess.org/rklpc7mk</td>\n",
              "      <td>31</td>\n",
              "      <td>12</td>\n",
              "      <td>2012</td>\n",
              "      <td>60</td>\n",
              "      <td>1</td>\n",
              "      <td>Bullet</td>\n",
              "      <td>Caro-Kann Defense: Goldman Variation</td>\n",
              "      <td>B12</td>\n",
              "      <td>47</td>\n",
              "    </tr>\n",
              "    <tr>\n",
              "      <th>4</th>\n",
              "      <td>1765</td>\n",
              "      <td>1815</td>\n",
              "      <td>nichiren1967</td>\n",
              "      <td>Naitero_Nagasaki</td>\n",
              "      <td>Black</td>\n",
              "      <td>Normal</td>\n",
              "      <td>https://lichess.org/1xb3os63</td>\n",
              "      <td>31</td>\n",
              "      <td>12</td>\n",
              "      <td>2012</td>\n",
              "      <td>60</td>\n",
              "      <td>1</td>\n",
              "      <td>Bullet</td>\n",
              "      <td>French Defense: La Bourdonnais Variation</td>\n",
              "      <td>C00</td>\n",
              "      <td>23</td>\n",
              "    </tr>\n",
              "  </tbody>\n",
              "</table>\n",
              "</div>"
            ]
          },
          "metadata": {},
          "execution_count": 12
        }
      ],
      "source": [
        "%%time \n",
        "kdf.head()"
      ]
    },
    {
      "cell_type": "markdown",
      "metadata": {
        "id": "sj8Njm_EoG59"
      },
      "source": [
        "### Handle Missing Values"
      ]
    },
    {
      "cell_type": "markdown",
      "metadata": {
        "id": "tjZRmHsGogYK"
      },
      "source": [
        "**Pandas**\n"
      ]
    },
    {
      "cell_type": "code",
      "execution_count": null,
      "metadata": {
        "colab": {
          "base_uri": "https://localhost:8080/"
        },
        "id": "WyflWMNppsfw",
        "outputId": "757400f9-3b26-47ae-f644-3c9c215fcc56"
      },
      "outputs": [
        {
          "output_type": "stream",
          "name": "stdout",
          "text": [
            "CPU times: user 69.2 ms, sys: 809 µs, total: 70 ms\n",
            "Wall time: 80.5 ms\n"
          ]
        },
        {
          "output_type": "execute_result",
          "data": {
            "text/plain": [
              "WhiteElo           0\n",
              "BlackElo           0\n",
              "WhiteName          0\n",
              "BlackName          0\n",
              "Winner             0\n",
              "Termination        0\n",
              "Site               0\n",
              "Day                0\n",
              "Month              0\n",
              "Year               0\n",
              "InitialTime        0\n",
              "Increment          0\n",
              "TimeControl        0\n",
              "Opening            0\n",
              "ECO                0\n",
              "Number_of_Moves    0\n",
              "dtype: int64"
            ]
          },
          "metadata": {},
          "execution_count": 109
        }
      ],
      "source": [
        "%%time\n",
        "pdf.isnull().sum()"
      ]
    },
    {
      "cell_type": "markdown",
      "metadata": {
        "id": "M7OUvGE_o0ZV"
      },
      "source": [
        "**Vaex**"
      ]
    },
    {
      "cell_type": "code",
      "execution_count": null,
      "metadata": {
        "colab": {
          "base_uri": "https://localhost:8080/"
        },
        "id": "j-0ZBHF6pmM9",
        "outputId": "1d6d21ac-2241-463e-dc02-083ca8f0a69d"
      },
      "outputs": [
        {
          "output_type": "stream",
          "name": "stdout",
          "text": [
            "WhiteElo\t 0\n",
            "BlackElo\t 0\n",
            "WhiteName\t 0\n",
            "BlackName\t 0\n",
            "Termination\t 0\n",
            "Site\t\t 0\n"
          ]
        }
      ],
      "source": [
        "%%time\n",
        "print(\"WhiteElo\\t\", vdf.WhiteElo.isnan().sum())\n",
        "print(\"BlackElo\\t\", vdf.BlackElo.isnan().sum())\n",
        "print(\"WhiteName\\t\", vdf.WhiteName.isnan().sum())\n",
        "print(\"BlackName\\t\", vdf.BlackName.isnan().sum())\n",
        "print(\"Termination\\t\", vdf.Termination.isnan().sum())\n",
        "print(\"Site\\t\\t\", vdf.Site.isnan().sum())\n",
        "print(\"Day\\t\\t\", vdf.Day.isnan().sum())\n",
        "print(\"Month\\t\\t\", vdf.Month.isnan().sum())\n",
        "print(\"Year\\t\\t\", vdf.Year.isnan().sum())\n",
        "print(\"InitialTime\\t\", vdf.InitialTime.isnan().sum())\n",
        "print(\"Increment\\t\", vdf.Increment.isnan().sum())\n",
        "print(\"TimeControl\\t\", vdf.TimeControl.isnan().sum())\n",
        "print(\"Opening\\t\\t\", vdf.Opening.isnan().sum())\n",
        "print(\"ECO\\t\\t\", vdf.ECO.isnan().sum())\n",
        "print(\"Number_of_Moves\\t\", vdf.Number_of_Moves.isnan().sum())"
      ]
    },
    {
      "cell_type": "markdown",
      "metadata": {
        "id": "2tYCnFIPo3h3"
      },
      "source": [
        "**Koalas**"
      ]
    },
    {
      "cell_type": "code",
      "execution_count": null,
      "metadata": {
        "id": "UxntD1GepAuY",
        "colab": {
          "base_uri": "https://localhost:8080/"
        },
        "outputId": "4ef2644f-7ff7-4a32-98cc-f70349b8884f"
      },
      "outputs": [
        {
          "output_type": "stream",
          "name": "stdout",
          "text": [
            "CPU times: user 589 ms, sys: 90.1 ms, total: 679 ms\n",
            "Wall time: 48.4 s\n"
          ]
        },
        {
          "output_type": "execute_result",
          "data": {
            "text/plain": [
              "WhiteElo           0\n",
              "BlackElo           0\n",
              "WhiteName          0\n",
              "BlackName          0\n",
              "Winner             0\n",
              "Termination        0\n",
              "Site               0\n",
              "Day                0\n",
              "Month              0\n",
              "Year               0\n",
              "InitialTime        0\n",
              "Increment          0\n",
              "TimeControl        0\n",
              "Opening            0\n",
              "ECO                0\n",
              "Number_of_Moves    0\n",
              "dtype: int64"
            ]
          },
          "metadata": {},
          "execution_count": 9
        }
      ],
      "source": [
        "%%time\n",
        "kdf.isnull().sum()"
      ]
    },
    {
      "cell_type": "markdown",
      "metadata": {
        "id": "g54WJZZYoL_b"
      },
      "source": [
        "### Drop Unnecessary Columns "
      ]
    },
    {
      "cell_type": "markdown",
      "metadata": {
        "id": "p8YnHpC2pR12"
      },
      "source": [
        "We will not be using the opening songs and volume, and the day of the gameplay for this study."
      ]
    },
    {
      "cell_type": "markdown",
      "metadata": {
        "id": "P5yJpLcnogwf"
      },
      "source": [
        "**Pandas**\n"
      ]
    },
    {
      "cell_type": "code",
      "execution_count": 5,
      "metadata": {
        "id": "oi5Nus_9uLDa",
        "colab": {
          "base_uri": "https://localhost:8080/"
        },
        "outputId": "f9947054-5ea7-43cd-a8b3-7fbecaa94dfd"
      },
      "outputs": [
        {
          "output_type": "stream",
          "name": "stdout",
          "text": [
            "CPU times: user 1.06 s, sys: 317 ms, total: 1.38 s\n",
            "Wall time: 1.38 s\n"
          ]
        }
      ],
      "source": [
        "%%time\n",
        "pdf = pdf.drop([\"Day\", \"Opening\", \"ECO\"], axis=1)"
      ]
    },
    {
      "cell_type": "markdown",
      "metadata": {
        "id": "TsJsm2XUo03W"
      },
      "source": [
        "**Vaex**"
      ]
    },
    {
      "cell_type": "code",
      "execution_count": 6,
      "metadata": {
        "id": "gkuAQHWqptxd",
        "colab": {
          "base_uri": "https://localhost:8080/"
        },
        "outputId": "af4d5d88-9596-479c-8e96-8bb20384190c"
      },
      "outputs": [
        {
          "output_type": "stream",
          "name": "stdout",
          "text": [
            "CPU times: user 1.25 ms, sys: 37 µs, total: 1.29 ms\n",
            "Wall time: 1.23 ms\n"
          ]
        }
      ],
      "source": [
        "%%time\n",
        "vdf = vdf.drop(columns=[\"Day\", \"Opening\", \"ECO\"])"
      ]
    },
    {
      "cell_type": "markdown",
      "metadata": {
        "id": "HV-xhiTho3_q"
      },
      "source": [
        "**Koalas**"
      ]
    },
    {
      "cell_type": "code",
      "execution_count": 7,
      "metadata": {
        "id": "Ff-oeRzMpCfh",
        "colab": {
          "base_uri": "https://localhost:8080/"
        },
        "outputId": "9e27fa73-40b5-4527-888c-3468996b1eb6"
      },
      "outputs": [
        {
          "output_type": "stream",
          "name": "stdout",
          "text": [
            "CPU times: user 35 ms, sys: 4.85 ms, total: 39.9 ms\n",
            "Wall time: 247 ms\n"
          ]
        }
      ],
      "source": [
        "%%time\n",
        "kdf = kdf.drop(columns=[\"Day\", \"Opening\", \"ECO\"])"
      ]
    },
    {
      "cell_type": "markdown",
      "metadata": {
        "id": "j0sBm4croR6H"
      },
      "source": [
        "###Sorting The Dataset\n",
        "The dataset is sorted by 2014 in order to view the most recent game play."
      ]
    },
    {
      "cell_type": "markdown",
      "metadata": {
        "id": "AfmnRHQFohoD"
      },
      "source": [
        "**Pandas**\n"
      ]
    },
    {
      "cell_type": "code",
      "execution_count": null,
      "metadata": {
        "id": "u6P05vsbsEAF",
        "colab": {
          "base_uri": "https://localhost:8080/",
          "height": 306
        },
        "outputId": "0089ab4c-c0ff-4292-b427-6c22b5bef8e7"
      },
      "outputs": [
        {
          "output_type": "stream",
          "name": "stdout",
          "text": [
            "CPU times: user 2.73 s, sys: 1.83 s, total: 4.56 s\n",
            "Wall time: 4.59 s\n"
          ]
        },
        {
          "output_type": "execute_result",
          "data": {
            "text/plain": [
              "         WhiteElo  BlackElo         WhiteName    BlackName Winner Termination  \\\n",
              "7459115      1905      1863              Alia    rafiquito  Black      Normal   \n",
              "9945506      1575      1545           veridik   STANISLAV2  White      Normal   \n",
              "9945480      1671      1541           ISHOGAI       audax1  Black      Normal   \n",
              "9945481      1400      1489  Triceratops_2007  Breaksparov  Black      Normal   \n",
              "9945482      1619      1553          Andrew67     rosebud-  White      Normal   \n",
              "\n",
              "                                 Site  Month  Year  InitialTime  Increment  \\\n",
              "7459115  https://lichess.org/ZSsxYwgy      6  2014          420          8   \n",
              "9945506  https://lichess.org/3RcUeAl5      8  2014          300          2   \n",
              "9945480  https://lichess.org/EbdTeNEf      8  2014          180          0   \n",
              "9945481  https://lichess.org/IUyf7e0g      8  2014          120          6   \n",
              "9945482  https://lichess.org/0tyCcZXw      8  2014          600         10   \n",
              "\n",
              "        TimeControl  Number_of_Moves  \n",
              "7459115       Rapid               33  \n",
              "9945506       Blitz               26  \n",
              "9945480       Blitz               28  \n",
              "9945481       Blitz               25  \n",
              "9945482       Rapid               33  "
            ],
            "text/html": [
              "\n",
              "  <div id=\"df-e8583124-6eab-4e4b-9edf-d40438c7be4c\">\n",
              "    <div class=\"colab-df-container\">\n",
              "      <div>\n",
              "<style scoped>\n",
              "    .dataframe tbody tr th:only-of-type {\n",
              "        vertical-align: middle;\n",
              "    }\n",
              "\n",
              "    .dataframe tbody tr th {\n",
              "        vertical-align: top;\n",
              "    }\n",
              "\n",
              "    .dataframe thead th {\n",
              "        text-align: right;\n",
              "    }\n",
              "</style>\n",
              "<table border=\"1\" class=\"dataframe\">\n",
              "  <thead>\n",
              "    <tr style=\"text-align: right;\">\n",
              "      <th></th>\n",
              "      <th>WhiteElo</th>\n",
              "      <th>BlackElo</th>\n",
              "      <th>WhiteName</th>\n",
              "      <th>BlackName</th>\n",
              "      <th>Winner</th>\n",
              "      <th>Termination</th>\n",
              "      <th>Site</th>\n",
              "      <th>Month</th>\n",
              "      <th>Year</th>\n",
              "      <th>InitialTime</th>\n",
              "      <th>Increment</th>\n",
              "      <th>TimeControl</th>\n",
              "      <th>Number_of_Moves</th>\n",
              "    </tr>\n",
              "  </thead>\n",
              "  <tbody>\n",
              "    <tr>\n",
              "      <th>7459115</th>\n",
              "      <td>1905</td>\n",
              "      <td>1863</td>\n",
              "      <td>Alia</td>\n",
              "      <td>rafiquito</td>\n",
              "      <td>Black</td>\n",
              "      <td>Normal</td>\n",
              "      <td>https://lichess.org/ZSsxYwgy</td>\n",
              "      <td>6</td>\n",
              "      <td>2014</td>\n",
              "      <td>420</td>\n",
              "      <td>8</td>\n",
              "      <td>Rapid</td>\n",
              "      <td>33</td>\n",
              "    </tr>\n",
              "    <tr>\n",
              "      <th>9945506</th>\n",
              "      <td>1575</td>\n",
              "      <td>1545</td>\n",
              "      <td>veridik</td>\n",
              "      <td>STANISLAV2</td>\n",
              "      <td>White</td>\n",
              "      <td>Normal</td>\n",
              "      <td>https://lichess.org/3RcUeAl5</td>\n",
              "      <td>8</td>\n",
              "      <td>2014</td>\n",
              "      <td>300</td>\n",
              "      <td>2</td>\n",
              "      <td>Blitz</td>\n",
              "      <td>26</td>\n",
              "    </tr>\n",
              "    <tr>\n",
              "      <th>9945480</th>\n",
              "      <td>1671</td>\n",
              "      <td>1541</td>\n",
              "      <td>ISHOGAI</td>\n",
              "      <td>audax1</td>\n",
              "      <td>Black</td>\n",
              "      <td>Normal</td>\n",
              "      <td>https://lichess.org/EbdTeNEf</td>\n",
              "      <td>8</td>\n",
              "      <td>2014</td>\n",
              "      <td>180</td>\n",
              "      <td>0</td>\n",
              "      <td>Blitz</td>\n",
              "      <td>28</td>\n",
              "    </tr>\n",
              "    <tr>\n",
              "      <th>9945481</th>\n",
              "      <td>1400</td>\n",
              "      <td>1489</td>\n",
              "      <td>Triceratops_2007</td>\n",
              "      <td>Breaksparov</td>\n",
              "      <td>Black</td>\n",
              "      <td>Normal</td>\n",
              "      <td>https://lichess.org/IUyf7e0g</td>\n",
              "      <td>8</td>\n",
              "      <td>2014</td>\n",
              "      <td>120</td>\n",
              "      <td>6</td>\n",
              "      <td>Blitz</td>\n",
              "      <td>25</td>\n",
              "    </tr>\n",
              "    <tr>\n",
              "      <th>9945482</th>\n",
              "      <td>1619</td>\n",
              "      <td>1553</td>\n",
              "      <td>Andrew67</td>\n",
              "      <td>rosebud-</td>\n",
              "      <td>White</td>\n",
              "      <td>Normal</td>\n",
              "      <td>https://lichess.org/0tyCcZXw</td>\n",
              "      <td>8</td>\n",
              "      <td>2014</td>\n",
              "      <td>600</td>\n",
              "      <td>10</td>\n",
              "      <td>Rapid</td>\n",
              "      <td>33</td>\n",
              "    </tr>\n",
              "  </tbody>\n",
              "</table>\n",
              "</div>\n",
              "      <button class=\"colab-df-convert\" onclick=\"convertToInteractive('df-e8583124-6eab-4e4b-9edf-d40438c7be4c')\"\n",
              "              title=\"Convert this dataframe to an interactive table.\"\n",
              "              style=\"display:none;\">\n",
              "        \n",
              "  <svg xmlns=\"http://www.w3.org/2000/svg\" height=\"24px\"viewBox=\"0 0 24 24\"\n",
              "       width=\"24px\">\n",
              "    <path d=\"M0 0h24v24H0V0z\" fill=\"none\"/>\n",
              "    <path d=\"M18.56 5.44l.94 2.06.94-2.06 2.06-.94-2.06-.94-.94-2.06-.94 2.06-2.06.94zm-11 1L8.5 8.5l.94-2.06 2.06-.94-2.06-.94L8.5 2.5l-.94 2.06-2.06.94zm10 10l.94 2.06.94-2.06 2.06-.94-2.06-.94-.94-2.06-.94 2.06-2.06.94z\"/><path d=\"M17.41 7.96l-1.37-1.37c-.4-.4-.92-.59-1.43-.59-.52 0-1.04.2-1.43.59L10.3 9.45l-7.72 7.72c-.78.78-.78 2.05 0 2.83L4 21.41c.39.39.9.59 1.41.59.51 0 1.02-.2 1.41-.59l7.78-7.78 2.81-2.81c.8-.78.8-2.07 0-2.86zM5.41 20L4 18.59l7.72-7.72 1.47 1.35L5.41 20z\"/>\n",
              "  </svg>\n",
              "      </button>\n",
              "      \n",
              "  <style>\n",
              "    .colab-df-container {\n",
              "      display:flex;\n",
              "      flex-wrap:wrap;\n",
              "      gap: 12px;\n",
              "    }\n",
              "\n",
              "    .colab-df-convert {\n",
              "      background-color: #E8F0FE;\n",
              "      border: none;\n",
              "      border-radius: 50%;\n",
              "      cursor: pointer;\n",
              "      display: none;\n",
              "      fill: #1967D2;\n",
              "      height: 32px;\n",
              "      padding: 0 0 0 0;\n",
              "      width: 32px;\n",
              "    }\n",
              "\n",
              "    .colab-df-convert:hover {\n",
              "      background-color: #E2EBFA;\n",
              "      box-shadow: 0px 1px 2px rgba(60, 64, 67, 0.3), 0px 1px 3px 1px rgba(60, 64, 67, 0.15);\n",
              "      fill: #174EA6;\n",
              "    }\n",
              "\n",
              "    [theme=dark] .colab-df-convert {\n",
              "      background-color: #3B4455;\n",
              "      fill: #D2E3FC;\n",
              "    }\n",
              "\n",
              "    [theme=dark] .colab-df-convert:hover {\n",
              "      background-color: #434B5C;\n",
              "      box-shadow: 0px 1px 3px 1px rgba(0, 0, 0, 0.15);\n",
              "      filter: drop-shadow(0px 1px 2px rgba(0, 0, 0, 0.3));\n",
              "      fill: #FFFFFF;\n",
              "    }\n",
              "  </style>\n",
              "\n",
              "      <script>\n",
              "        const buttonEl =\n",
              "          document.querySelector('#df-e8583124-6eab-4e4b-9edf-d40438c7be4c button.colab-df-convert');\n",
              "        buttonEl.style.display =\n",
              "          google.colab.kernel.accessAllowed ? 'block' : 'none';\n",
              "\n",
              "        async function convertToInteractive(key) {\n",
              "          const element = document.querySelector('#df-e8583124-6eab-4e4b-9edf-d40438c7be4c');\n",
              "          const dataTable =\n",
              "            await google.colab.kernel.invokeFunction('convertToInteractive',\n",
              "                                                     [key], {});\n",
              "          if (!dataTable) return;\n",
              "\n",
              "          const docLinkHtml = 'Like what you see? Visit the ' +\n",
              "            '<a target=\"_blank\" href=https://colab.research.google.com/notebooks/data_table.ipynb>data table notebook</a>'\n",
              "            + ' to learn more about interactive tables.';\n",
              "          element.innerHTML = '';\n",
              "          dataTable['output_type'] = 'display_data';\n",
              "          await google.colab.output.renderOutput(dataTable, element);\n",
              "          const docLink = document.createElement('div');\n",
              "          docLink.innerHTML = docLinkHtml;\n",
              "          element.appendChild(docLink);\n",
              "        }\n",
              "      </script>\n",
              "    </div>\n",
              "  </div>\n",
              "  "
            ]
          },
          "metadata": {},
          "execution_count": 16
        }
      ],
      "source": [
        "%%time\n",
        "pdf.sort_values(by='Year', ascending=False).head()"
      ]
    },
    {
      "cell_type": "markdown",
      "metadata": {
        "id": "i_EsRrddo1m6"
      },
      "source": [
        "**Vaex**"
      ]
    },
    {
      "cell_type": "code",
      "execution_count": null,
      "metadata": {
        "id": "GIYfBv2OsJzN",
        "colab": {
          "base_uri": "https://localhost:8080/",
          "height": 290
        },
        "outputId": "4fdcf965-eb74-454a-f8fd-18ce3f2be885"
      },
      "outputs": [
        {
          "output_type": "stream",
          "name": "stdout",
          "text": [
            "CPU times: user 10.1 s, sys: 1.19 s, total: 11.3 s\n",
            "Wall time: 11.7 s\n"
          ]
        },
        {
          "output_type": "execute_result",
          "data": {
            "text/html": [
              "<table>\n",
              "<thead>\n",
              "<tr><th>#                            </th><th style=\"text-align: right;\">  WhiteElo</th><th style=\"text-align: right;\">  BlackElo</th><th>WhiteName       </th><th>BlackName  </th><th>Winner  </th><th>Termination  </th><th>Site                        </th><th style=\"text-align: right;\">  Month</th><th style=\"text-align: right;\">  Year</th><th style=\"text-align: right;\">  InitialTime</th><th style=\"text-align: right;\">  Increment</th><th>TimeControl  </th><th style=\"text-align: right;\">  Number_of_Moves</th></tr>\n",
              "</thead>\n",
              "<tbody>\n",
              "<tr><td><i style='opacity: 0.6'>0</i></td><td style=\"text-align: right;\">      1433</td><td style=\"text-align: right;\">      1438</td><td>Dolg            </td><td>ArchisT    </td><td>White   </td><td>Normal       </td><td>https://lichess.org/9s3drbbn</td><td style=\"text-align: right;\">      1</td><td style=\"text-align: right;\">  2014</td><td style=\"text-align: right;\">          600</td><td style=\"text-align: right;\">          0</td><td>Rapid        </td><td style=\"text-align: right;\">               21</td></tr>\n",
              "<tr><td><i style='opacity: 0.6'>1</i></td><td style=\"text-align: right;\">      1560</td><td style=\"text-align: right;\">      1652</td><td>NapoleonII      </td><td>SteMitch   </td><td>White   </td><td>Time forfeit </td><td>https://lichess.org/81um1man</td><td style=\"text-align: right;\">      1</td><td style=\"text-align: right;\">  2014</td><td style=\"text-align: right;\">          600</td><td style=\"text-align: right;\">          0</td><td>Rapid        </td><td style=\"text-align: right;\">               22</td></tr>\n",
              "<tr><td><i style='opacity: 0.6'>2</i></td><td style=\"text-align: right;\">      1532</td><td style=\"text-align: right;\">      1160</td><td>juansosaipanaque</td><td>zaza71     </td><td>White   </td><td>Time forfeit </td><td>https://lichess.org/lnpqqokc</td><td style=\"text-align: right;\">      1</td><td style=\"text-align: right;\">  2014</td><td style=\"text-align: right;\">          120</td><td style=\"text-align: right;\">          0</td><td>Bullet       </td><td style=\"text-align: right;\">               29</td></tr>\n",
              "<tr><td><i style='opacity: 0.6'>3</i></td><td style=\"text-align: right;\">      1806</td><td style=\"text-align: right;\">      1914</td><td>draten          </td><td>perico12   </td><td>White   </td><td>Normal       </td><td>https://lichess.org/nga51dld</td><td style=\"text-align: right;\">      1</td><td style=\"text-align: right;\">  2014</td><td style=\"text-align: right;\">          300</td><td style=\"text-align: right;\">          0</td><td>Blitz        </td><td style=\"text-align: right;\">               24</td></tr>\n",
              "<tr><td><i style='opacity: 0.6'>4</i></td><td style=\"text-align: right;\">      1500</td><td style=\"text-align: right;\">      1460</td><td>firespoon       </td><td>yesse2     </td><td>White   </td><td>Time forfeit </td><td>https://lichess.org/me4jnzdp</td><td style=\"text-align: right;\">      1</td><td style=\"text-align: right;\">  2014</td><td style=\"text-align: right;\">          180</td><td style=\"text-align: right;\">          0</td><td>Blitz        </td><td style=\"text-align: right;\">               30</td></tr>\n",
              "<tr><td><i style='opacity: 0.6'>5</i></td><td style=\"text-align: right;\">      1248</td><td style=\"text-align: right;\">      1848</td><td>pitter          </td><td>Bucanatol  </td><td>Black   </td><td>Normal       </td><td>https://lichess.org/gqrxzgdj</td><td style=\"text-align: right;\">      1</td><td style=\"text-align: right;\">  2014</td><td style=\"text-align: right;\">          360</td><td style=\"text-align: right;\">          2</td><td>Blitz        </td><td style=\"text-align: right;\">               17</td></tr>\n",
              "<tr><td><i style='opacity: 0.6'>6</i></td><td style=\"text-align: right;\">      1909</td><td style=\"text-align: right;\">      1855</td><td>fael1316        </td><td>kishomat   </td><td>Black   </td><td>Normal       </td><td>https://lichess.org/tusz9bq8</td><td style=\"text-align: right;\">      1</td><td style=\"text-align: right;\">  2014</td><td style=\"text-align: right;\">          420</td><td style=\"text-align: right;\">          6</td><td>Rapid        </td><td style=\"text-align: right;\">               21</td></tr>\n",
              "<tr><td><i style='opacity: 0.6'>7</i></td><td style=\"text-align: right;\">      1780</td><td style=\"text-align: right;\">      1829</td><td>chatkf          </td><td>zapatapak  </td><td>White   </td><td>Normal       </td><td>https://lichess.org/y0f6jbgz</td><td style=\"text-align: right;\">      1</td><td style=\"text-align: right;\">  2014</td><td style=\"text-align: right;\">          300</td><td style=\"text-align: right;\">          3</td><td>Blitz        </td><td style=\"text-align: right;\">               40</td></tr>\n",
              "<tr><td><i style='opacity: 0.6'>8</i></td><td style=\"text-align: right;\">      2075</td><td style=\"text-align: right;\">      1813</td><td>mateurdu75      </td><td>marjan     </td><td>White   </td><td>Normal       </td><td>https://lichess.org/6ds8lj8r</td><td style=\"text-align: right;\">      1</td><td style=\"text-align: right;\">  2014</td><td style=\"text-align: right;\">           60</td><td style=\"text-align: right;\">          0</td><td>Bullet       </td><td style=\"text-align: right;\">               18</td></tr>\n",
              "<tr><td><i style='opacity: 0.6'>9</i></td><td style=\"text-align: right;\">      1553</td><td style=\"text-align: right;\">      1446</td><td>kolomoets       </td><td>fjroldan   </td><td>White   </td><td>Time forfeit </td><td>https://lichess.org/x77o2fkh</td><td style=\"text-align: right;\">      1</td><td style=\"text-align: right;\">  2014</td><td style=\"text-align: right;\">          420</td><td style=\"text-align: right;\">          0</td><td>Blitz        </td><td style=\"text-align: right;\">               45</td></tr>\n",
              "</tbody>\n",
              "</table>"
            ],
            "text/plain": [
              "  #    WhiteElo    BlackElo  WhiteName         BlackName    Winner    Termination    Site                            Month    Year    InitialTime    Increment  TimeControl      Number_of_Moves\n",
              "  0        1433        1438  Dolg              ArchisT      White     Normal         https://lichess.org/9s3drbbn        1    2014            600            0  Rapid                         21\n",
              "  1        1560        1652  NapoleonII        SteMitch     White     Time forfeit   https://lichess.org/81um1man        1    2014            600            0  Rapid                         22\n",
              "  2        1532        1160  juansosaipanaque  zaza71       White     Time forfeit   https://lichess.org/lnpqqokc        1    2014            120            0  Bullet                        29\n",
              "  3        1806        1914  draten            perico12     White     Normal         https://lichess.org/nga51dld        1    2014            300            0  Blitz                         24\n",
              "  4        1500        1460  firespoon         yesse2       White     Time forfeit   https://lichess.org/me4jnzdp        1    2014            180            0  Blitz                         30\n",
              "  5        1248        1848  pitter            Bucanatol    Black     Normal         https://lichess.org/gqrxzgdj        1    2014            360            2  Blitz                         17\n",
              "  6        1909        1855  fael1316          kishomat     Black     Normal         https://lichess.org/tusz9bq8        1    2014            420            6  Rapid                         21\n",
              "  7        1780        1829  chatkf            zapatapak    White     Normal         https://lichess.org/y0f6jbgz        1    2014            300            3  Blitz                         40\n",
              "  8        2075        1813  mateurdu75        marjan       White     Normal         https://lichess.org/6ds8lj8r        1    2014             60            0  Bullet                        18\n",
              "  9        1553        1446  kolomoets         fjroldan     White     Time forfeit   https://lichess.org/x77o2fkh        1    2014            420            0  Blitz                         45"
            ]
          },
          "metadata": {},
          "execution_count": 17
        }
      ],
      "source": [
        "%%time\n",
        "vdf.sort(by='Year', ascending=False).head()"
      ]
    },
    {
      "cell_type": "markdown",
      "metadata": {
        "id": "Or2TLuxjo4mW"
      },
      "source": [
        "**Koalas**"
      ]
    },
    {
      "cell_type": "code",
      "execution_count": null,
      "metadata": {
        "id": "ibAQP0N6j2fw",
        "colab": {
          "base_uri": "https://localhost:8080/",
          "height": 262
        },
        "outputId": "2a399da5-558f-40c1-aff8-46bc50a6e39b"
      },
      "outputs": [
        {
          "output_type": "stream",
          "name": "stdout",
          "text": [
            "CPU times: user 65.1 ms, sys: 16.2 ms, total: 81.2 ms\n",
            "Wall time: 471 ms\n"
          ]
        },
        {
          "output_type": "execute_result",
          "data": {
            "text/plain": [
              "         WhiteElo  BlackElo         WhiteName BlackName Winner   Termination                          Site  Month  Year  InitialTime  Increment TimeControl  Number_of_Moves\n",
              "3375674      1433      1438              Dolg   ArchisT  White        Normal  https://lichess.org/9s3drbbn      1  2014          600          0       Rapid               21\n",
              "3375677      1560      1652        NapoleonII  SteMitch  White  Time forfeit  https://lichess.org/81um1man      1  2014          600          0       Rapid               22\n",
              "3375681      1532      1160  juansosaipanaque    zaza71  White  Time forfeit  https://lichess.org/lnpqqokc      1  2014          120          0      Bullet               29\n",
              "3375682      1806      1914            draten  perico12  White        Normal  https://lichess.org/nga51dld      1  2014          300          0       Blitz               24\n",
              "3375683      1500      1460         firespoon    yesse2  White  Time forfeit  https://lichess.org/me4jnzdp      1  2014          180          0       Blitz               30"
            ],
            "text/html": [
              "<div>\n",
              "<style scoped>\n",
              "    .dataframe tbody tr th:only-of-type {\n",
              "        vertical-align: middle;\n",
              "    }\n",
              "\n",
              "    .dataframe tbody tr th {\n",
              "        vertical-align: top;\n",
              "    }\n",
              "\n",
              "    .dataframe thead th {\n",
              "        text-align: right;\n",
              "    }\n",
              "</style>\n",
              "<table border=\"1\" class=\"dataframe\">\n",
              "  <thead>\n",
              "    <tr style=\"text-align: right;\">\n",
              "      <th></th>\n",
              "      <th>WhiteElo</th>\n",
              "      <th>BlackElo</th>\n",
              "      <th>WhiteName</th>\n",
              "      <th>BlackName</th>\n",
              "      <th>Winner</th>\n",
              "      <th>Termination</th>\n",
              "      <th>Site</th>\n",
              "      <th>Month</th>\n",
              "      <th>Year</th>\n",
              "      <th>InitialTime</th>\n",
              "      <th>Increment</th>\n",
              "      <th>TimeControl</th>\n",
              "      <th>Number_of_Moves</th>\n",
              "    </tr>\n",
              "  </thead>\n",
              "  <tbody>\n",
              "    <tr>\n",
              "      <th>3375674</th>\n",
              "      <td>1433</td>\n",
              "      <td>1438</td>\n",
              "      <td>Dolg</td>\n",
              "      <td>ArchisT</td>\n",
              "      <td>White</td>\n",
              "      <td>Normal</td>\n",
              "      <td>https://lichess.org/9s3drbbn</td>\n",
              "      <td>1</td>\n",
              "      <td>2014</td>\n",
              "      <td>600</td>\n",
              "      <td>0</td>\n",
              "      <td>Rapid</td>\n",
              "      <td>21</td>\n",
              "    </tr>\n",
              "    <tr>\n",
              "      <th>3375677</th>\n",
              "      <td>1560</td>\n",
              "      <td>1652</td>\n",
              "      <td>NapoleonII</td>\n",
              "      <td>SteMitch</td>\n",
              "      <td>White</td>\n",
              "      <td>Time forfeit</td>\n",
              "      <td>https://lichess.org/81um1man</td>\n",
              "      <td>1</td>\n",
              "      <td>2014</td>\n",
              "      <td>600</td>\n",
              "      <td>0</td>\n",
              "      <td>Rapid</td>\n",
              "      <td>22</td>\n",
              "    </tr>\n",
              "    <tr>\n",
              "      <th>3375681</th>\n",
              "      <td>1532</td>\n",
              "      <td>1160</td>\n",
              "      <td>juansosaipanaque</td>\n",
              "      <td>zaza71</td>\n",
              "      <td>White</td>\n",
              "      <td>Time forfeit</td>\n",
              "      <td>https://lichess.org/lnpqqokc</td>\n",
              "      <td>1</td>\n",
              "      <td>2014</td>\n",
              "      <td>120</td>\n",
              "      <td>0</td>\n",
              "      <td>Bullet</td>\n",
              "      <td>29</td>\n",
              "    </tr>\n",
              "    <tr>\n",
              "      <th>3375682</th>\n",
              "      <td>1806</td>\n",
              "      <td>1914</td>\n",
              "      <td>draten</td>\n",
              "      <td>perico12</td>\n",
              "      <td>White</td>\n",
              "      <td>Normal</td>\n",
              "      <td>https://lichess.org/nga51dld</td>\n",
              "      <td>1</td>\n",
              "      <td>2014</td>\n",
              "      <td>300</td>\n",
              "      <td>0</td>\n",
              "      <td>Blitz</td>\n",
              "      <td>24</td>\n",
              "    </tr>\n",
              "    <tr>\n",
              "      <th>3375683</th>\n",
              "      <td>1500</td>\n",
              "      <td>1460</td>\n",
              "      <td>firespoon</td>\n",
              "      <td>yesse2</td>\n",
              "      <td>White</td>\n",
              "      <td>Time forfeit</td>\n",
              "      <td>https://lichess.org/me4jnzdp</td>\n",
              "      <td>1</td>\n",
              "      <td>2014</td>\n",
              "      <td>180</td>\n",
              "      <td>0</td>\n",
              "      <td>Blitz</td>\n",
              "      <td>30</td>\n",
              "    </tr>\n",
              "  </tbody>\n",
              "</table>\n",
              "</div>"
            ]
          },
          "metadata": {},
          "execution_count": 18
        }
      ],
      "source": [
        "%%time\n",
        "kdf.sort_values(by='Year', ascending=False).head()"
      ]
    },
    {
      "cell_type": "markdown",
      "metadata": {
        "id": "_0m5LkbVVJJ6"
      },
      "source": [
        "## Exploratory Analysis and Visualization\n",
        "\n",
        "In this section, we will examine the data characteristics, including the mean number of moves, the distribution of the month in which the game was played, the highest and lowest rated players, and the correlation between the attributes."
      ]
    },
    {
      "cell_type": "markdown",
      "metadata": {
        "id": "rN1bUu8RVJJ7"
      },
      "source": [
        "**The Number of Moves Mean** - The average value of moves across all chess games."
      ]
    },
    {
      "cell_type": "markdown",
      "metadata": {
        "id": "JxUC2f69vNqH"
      },
      "source": [
        "**Pandas**\n"
      ]
    },
    {
      "cell_type": "code",
      "execution_count": null,
      "metadata": {
        "id": "l68WW_a2wOLY",
        "colab": {
          "base_uri": "https://localhost:8080/"
        },
        "outputId": "94dcef36-36fe-44fe-fc29-d3f2ad191d5d"
      },
      "outputs": [
        {
          "output_type": "stream",
          "name": "stdout",
          "text": [
            "CPU times: user 38.6 ms, sys: 1.08 ms, total: 39.7 ms\n",
            "Wall time: 46.7 ms\n"
          ]
        },
        {
          "output_type": "execute_result",
          "data": {
            "text/plain": [
              "33.846118205712074"
            ]
          },
          "metadata": {},
          "execution_count": 21
        }
      ],
      "source": [
        "%%time\n",
        "pdf['Number_of_Moves'].mean()"
      ]
    },
    {
      "cell_type": "markdown",
      "metadata": {
        "id": "mMloqF6GvS9-"
      },
      "source": [
        "**Vaex**"
      ]
    },
    {
      "cell_type": "code",
      "execution_count": null,
      "metadata": {
        "id": "fG1jJTJ_wOom",
        "colab": {
          "base_uri": "https://localhost:8080/"
        },
        "outputId": "c8f49267-9490-4ebf-b60c-0e5a2294db2b"
      },
      "outputs": [
        {
          "output_type": "stream",
          "name": "stdout",
          "text": [
            "CPU times: user 9.65 s, sys: 1.87 s, total: 11.5 s\n",
            "Wall time: 19.6 s\n"
          ]
        },
        {
          "output_type": "execute_result",
          "data": {
            "text/plain": [
              "array(33.84611821)"
            ]
          },
          "metadata": {},
          "execution_count": 22
        }
      ],
      "source": [
        "%%time\n",
        "vdf['Number_of_Moves'].mean()"
      ]
    },
    {
      "cell_type": "markdown",
      "metadata": {
        "id": "M9yVHP0Uvyg1"
      },
      "source": [
        "**Koalas**"
      ]
    },
    {
      "cell_type": "code",
      "execution_count": null,
      "metadata": {
        "id": "c7fugjWzVJJ7",
        "colab": {
          "base_uri": "https://localhost:8080/"
        },
        "outputId": "1e0946f6-6038-41d9-fb88-0cbeda253c64"
      },
      "outputs": [
        {
          "output_type": "stream",
          "name": "stdout",
          "text": [
            "CPU times: user 212 ms, sys: 23 ms, total: 235 ms\n",
            "Wall time: 26.5 s\n"
          ]
        },
        {
          "output_type": "execute_result",
          "data": {
            "text/plain": [
              "33.846118205712074"
            ]
          },
          "metadata": {},
          "execution_count": 23
        }
      ],
      "source": [
        "%%time\n",
        "kdf['Number_of_Moves'].mean()"
      ]
    },
    {
      "cell_type": "markdown",
      "source": [
        "\n",
        "\n",
        "---\n"
      ],
      "metadata": {
        "id": "HhOJxwNZCxlr"
      }
    },
    {
      "cell_type": "markdown",
      "metadata": {
        "id": "Fv4NPHasVJJ7"
      },
      "source": [
        "**Chess Game Month Distribution** - The monthly distribution of chess matches."
      ]
    },
    {
      "cell_type": "markdown",
      "metadata": {
        "id": "bHh3EiUnvOGd"
      },
      "source": [
        "**Pandas**\n"
      ]
    },
    {
      "cell_type": "code",
      "execution_count": 12,
      "metadata": {
        "id": "Sa9msP7hjj6x",
        "colab": {
          "base_uri": "https://localhost:8080/",
          "height": 330
        },
        "outputId": "066f67a6-6dbd-443c-bcda-7ccb72d72058"
      },
      "outputs": [
        {
          "output_type": "stream",
          "name": "stdout",
          "text": [
            "CPU times: user 1.27 s, sys: 127 ms, total: 1.39 s\n",
            "Wall time: 1.39 s\n"
          ]
        },
        {
          "output_type": "execute_result",
          "data": {
            "text/plain": [
              "<AxesSubplot: ylabel='Frequency'>"
            ]
          },
          "metadata": {},
          "execution_count": 12
        },
        {
          "output_type": "display_data",
          "data": {
            "text/plain": [
              "<Figure size 432x288 with 1 Axes>"
            ],
            "image/png": "[encoded data removed]"
          },
          "metadata": {
            "needs_background": "light"
          }
        }
      ],
      "source": [
        "%%time\n",
        "pdf['Month'].plot.hist()"
      ]
    },
    {
      "cell_type": "markdown",
      "metadata": {
        "id": "MdT-BZ_yvTey"
      },
      "source": [
        "**Vaex**"
      ]
    },
    {
      "cell_type": "code",
      "execution_count": null,
      "metadata": {
        "id": "uAGmCnzh4Zlg",
        "colab": {
          "base_uri": "https://localhost:8080/",
          "height": 353
        },
        "outputId": "12ade14b-1eff-48fb-9cf5-cb5c5c89b752"
      },
      "outputs": [
        {
          "output_type": "stream",
          "name": "stderr",
          "text": [
            "/usr/local/lib/python3.8/dist-packages/vaex/viz/mpl.py:46: UserWarning: `plot1d` is deprecated and it will be removed in version 5.x. Please use `df.viz.histogram` instead.\n",
            "  warnings.warn('`plot1d` is deprecated and it will be removed in version 5.x. Please use `df.viz.histogram` instead.')\n"
          ]
        },
        {
          "output_type": "display_data",
          "data": {
            "text/plain": [
              "<Figure size 432x288 with 1 Axes>"
            ],
            "image/png": "[encoded data removed]"
          },
          "metadata": {
            "needs_background": "light"
          }
        }
      ],
      "source": [
        "vdf.plot1d(vdf.Month)"
      ]
    },
    {
      "cell_type": "markdown",
      "metadata": {
        "id": "8oBeggjPvy64"
      },
      "source": [
        "**Koalas**"
      ]
    },
    {
      "cell_type": "code",
      "execution_count": null,
      "metadata": {
        "id": "kMrm6CiAVJJ8",
        "colab": {
          "base_uri": "https://localhost:8080/",
          "height": 578
        },
        "outputId": "f4c8eb0d-9f0a-4215-f69b-29c79b867a1d"
      },
      "outputs": [
        {
          "output_type": "stream",
          "name": "stdout",
          "text": [
            "CPU times: user 524 ms, sys: 70.7 ms, total: 595 ms\n",
            "Wall time: 1min\n"
          ]
        },
        {
          "output_type": "display_data",
          "data": {
            "text/html": [
              "<html>\n",
              "<head><meta charset=\"utf-8\" /></head>\n",
              "<body>\n",
              "    <div>            <script src=\"https://cdnjs.cloudflare.com/ajax/libs/mathjax/2.7.5/MathJax.js?config=TeX-AMS-MML_SVG\"></script><script type=\"text/javascript\">if (window.MathJax) {MathJax.Hub.Config({SVG: {font: \"STIX-Web\"}});}</script>                <script type=\"text/javascript\">window.PlotlyConfig = {MathJaxConfig: 'local'};</script>\n",
              "        <script src=\"https://cdn.plot.ly/plotly-2.8.3.min.js\"></script>                <div id=\"0cdd0180-ad15-4334-b722-b88998ff9a50\" class=\"plotly-graph-div\" style=\"height:525px; width:100%;\"></div>            <script type=\"text/javascript\">                                    window.PLOTLYENV=window.PLOTLYENV || {};                                    if (document.getElementById(\"0cdd0180-ad15-4334-b722-b88998ff9a50\")) {                    Plotly.newPlot(                        \"0cdd0180-ad15-4334-b722-b88998ff9a50\",                        [{\"hovertemplate\":\"variable=Month<br>value=%{text}<br>count=%{y}\",\"name\":\"Month\",\"text\":[\"[1.0, 2.1)\",\"[2.1, 3.2)\",\"[3.2, 4.3)\",\"[4.3, 5.4)\",\"[5.4, 6.5)\",\"[6.5, 7.6)\",\"[7.6, 8.7)\",\"[8.7, 9.8)\",\"[9.8, 10.9)\",\"[10.9, 12.0]\"],\"x\":[1.55,2.6500000000000004,3.7500000000000004,4.8500000000000005,5.95,7.050000000000001,8.15,9.25,10.350000000000001,11.45],\"y\":[1630097,951711,965814,1080837,1183394,1338443,1335046,1321639,1516728,3594521],\"type\":\"bar\"}],                        {\"barmode\":\"stack\",\"template\":{\"data\":{\"bar\":[{\"error_x\":{\"color\":\"#2a3f5f\"},\"error_y\":{\"color\":\"#2a3f5f\"},\"marker\":{\"line\":{\"color\":\"#E5ECF6\",\"width\":0.5},\"pattern\":{\"fillmode\":\"overlay\",\"size\":10,\"solidity\":0.2}},\"type\":\"bar\"}],\"barpolar\":[{\"marker\":{\"line\":{\"color\":\"#E5ECF6\",\"width\":0.5},\"pattern\":{\"fillmode\":\"overlay\",\"size\":10,\"solidity\":0.2}},\"type\":\"barpolar\"}],\"carpet\":[{\"aaxis\":{\"endlinecolor\":\"#2a3f5f\",\"gridcolor\":\"white\",\"linecolor\":\"white\",\"minorgridcolor\":\"white\",\"startlinecolor\":\"#2a3f5f\"},\"baxis\":{\"endlinecolor\":\"#2a3f5f\",\"gridcolor\":\"white\",\"linecolor\":\"white\",\"minorgridcolor\":\"white\",\"startlinecolor\":\"#2a3f5f\"},\"type\":\"carpet\"}],\"choropleth\":[{\"colorbar\":{\"outlinewidth\":0,\"ticks\":\"\"},\"type\":\"choropleth\"}],\"contour\":[{\"colorbar\":{\"outlinewidth\":0,\"ticks\":\"\"},\"colorscale\":[[0.0,\"#0d0887\"],[0.1111111111111111,\"#46039f\"],[0.2222222222222222,\"#7201a8\"],[0.3333333333333333,\"#9c179e\"],[0.4444444444444444,\"#bd3786\"],[0.5555555555555556,\"#d8576b\"],[0.6666666666666666,\"#ed7953\"],[0.7777777777777778,\"#fb9f3a\"],[0.8888888888888888,\"#fdca26\"],[1.0,\"#f0f921\"]],\"type\":\"contour\"}],\"contourcarpet\":[{\"colorbar\":{\"outlinewidth\":0,\"ticks\":\"\"},\"type\":\"contourcarpet\"}],\"heatmap\":[{\"colorbar\":{\"outlinewidth\":0,\"ticks\":\"\"},\"colorscale\":[[0.0,\"#0d0887\"],[0.1111111111111111,\"#46039f\"],[0.2222222222222222,\"#7201a8\"],[0.3333333333333333,\"#9c179e\"],[0.4444444444444444,\"#bd3786\"],[0.5555555555555556,\"#d8576b\"],[0.6666666666666666,\"#ed7953\"],[0.7777777777777778,\"#fb9f3a\"],[0.8888888888888888,\"#fdca26\"],[1.0,\"#f0f921\"]],\"type\":\"heatmap\"}],\"heatmapgl\":[{\"colorbar\":{\"outlinewidth\":0,\"ticks\":\"\"},\"colorscale\":[[0.0,\"#0d0887\"],[0.1111111111111111,\"#46039f\"],[0.2222222222222222,\"#7201a8\"],[0.3333333333333333,\"#9c179e\"],[0.4444444444444444,\"#bd3786\"],[0.5555555555555556,\"#d8576b\"],[0.6666666666666666,\"#ed7953\"],[0.7777777777777778,\"#fb9f3a\"],[0.8888888888888888,\"#fdca26\"],[1.0,\"#f0f921\"]],\"type\":\"heatmapgl\"}],\"histogram\":[{\"marker\":{\"pattern\":{\"fillmode\":\"overlay\",\"size\":10,\"solidity\":0.2}},\"type\":\"histogram\"}],\"histogram2d\":[{\"colorbar\":{\"outlinewidth\":0,\"ticks\":\"\"},\"colorscale\":[[0.0,\"#0d0887\"],[0.1111111111111111,\"#46039f\"],[0.2222222222222222,\"#7201a8\"],[0.3333333333333333,\"#9c179e\"],[0.4444444444444444,\"#bd3786\"],[0.5555555555555556,\"#d8576b\"],[0.6666666666666666,\"#ed7953\"],[0.7777777777777778,\"#fb9f3a\"],[0.8888888888888888,\"#fdca26\"],[1.0,\"#f0f921\"]],\"type\":\"histogram2d\"}],\"histogram2dcontour\":[{\"colorbar\":{\"outlinewidth\":0,\"ticks\":\"\"},\"colorscale\":[[0.0,\"#0d0887\"],[0.1111111111111111,\"#46039f\"],[0.2222222222222222,\"#7201a8\"],[0.3333333333333333,\"#9c179e\"],[0.4444444444444444,\"#bd3786\"],[0.5555555555555556,\"#d8576b\"],[0.6666666666666666,\"#ed7953\"],[0.7777777777777778,\"#fb9f3a\"],[0.8888888888888888,\"#fdca26\"],[1.0,\"#f0f921\"]],\"type\":\"histogram2dcontour\"}],\"mesh3d\":[{\"colorbar\":{\"outlinewidth\":0,\"ticks\":\"\"},\"type\":\"mesh3d\"}],\"parcoords\":[{\"line\":{\"colorbar\":{\"outlinewidth\":0,\"ticks\":\"\"}},\"type\":\"parcoords\"}],\"pie\":[{\"automargin\":true,\"type\":\"pie\"}],\"scatter\":[{\"marker\":{\"colorbar\":{\"outlinewidth\":0,\"ticks\":\"\"}},\"type\":\"scatter\"}],\"scatter3d\":[{\"line\":{\"colorbar\":{\"outlinewidth\":0,\"ticks\":\"\"}},\"marker\":{\"colorbar\":{\"outlinewidth\":0,\"ticks\":\"\"}},\"type\":\"scatter3d\"}],\"scattercarpet\":[{\"marker\":{\"colorbar\":{\"outlinewidth\":0,\"ticks\":\"\"}},\"type\":\"scattercarpet\"}],\"scattergeo\":[{\"marker\":{\"colorbar\":{\"outlinewidth\":0,\"ticks\":\"\"}},\"type\":\"scattergeo\"}],\"scattergl\":[{\"marker\":{\"colorbar\":{\"outlinewidth\":0,\"ticks\":\"\"}},\"type\":\"scattergl\"}],\"scattermapbox\":[{\"marker\":{\"colorbar\":{\"outlinewidth\":0,\"ticks\":\"\"}},\"type\":\"scattermapbox\"}],\"scatterpolar\":[{\"marker\":{\"colorbar\":{\"outlinewidth\":0,\"ticks\":\"\"}},\"type\":\"scatterpolar\"}],\"scatterpolargl\":[{\"marker\":{\"colorbar\":{\"outlinewidth\":0,\"ticks\":\"\"}},\"type\":\"scatterpolargl\"}],\"scatterternary\":[{\"marker\":{\"colorbar\":{\"outlinewidth\":0,\"ticks\":\"\"}},\"type\":\"scatterternary\"}],\"surface\":[{\"colorbar\":{\"outlinewidth\":0,\"ticks\":\"\"},\"colorscale\":[[0.0,\"#0d0887\"],[0.1111111111111111,\"#46039f\"],[0.2222222222222222,\"#7201a8\"],[0.3333333333333333,\"#9c179e\"],[0.4444444444444444,\"#bd3786\"],[0.5555555555555556,\"#d8576b\"],[0.6666666666666666,\"#ed7953\"],[0.7777777777777778,\"#fb9f3a\"],[0.8888888888888888,\"#fdca26\"],[1.0,\"#f0f921\"]],\"type\":\"surface\"}],\"table\":[{\"cells\":{\"fill\":{\"color\":\"#EBF0F8\"},\"line\":{\"color\":\"white\"}},\"header\":{\"fill\":{\"color\":\"#C8D4E3\"},\"line\":{\"color\":\"white\"}},\"type\":\"table\"}]},\"layout\":{\"annotationdefaults\":{\"arrowcolor\":\"#2a3f5f\",\"arrowhead\":0,\"arrowwidth\":1},\"autotypenumbers\":\"strict\",\"coloraxis\":{\"colorbar\":{\"outlinewidth\":0,\"ticks\":\"\"}},\"colorscale\":{\"diverging\":[[0,\"#8e0152\"],[0.1,\"#c51b7d\"],[0.2,\"#de77ae\"],[0.3,\"#f1b6da\"],[0.4,\"#fde0ef\"],[0.5,\"#f7f7f7\"],[0.6,\"#e6f5d0\"],[0.7,\"#b8e186\"],[0.8,\"#7fbc41\"],[0.9,\"#4d9221\"],[1,\"#276419\"]],\"sequential\":[[0.0,\"#0d0887\"],[0.1111111111111111,\"#46039f\"],[0.2222222222222222,\"#7201a8\"],[0.3333333333333333,\"#9c179e\"],[0.4444444444444444,\"#bd3786\"],[0.5555555555555556,\"#d8576b\"],[0.6666666666666666,\"#ed7953\"],[0.7777777777777778,\"#fb9f3a\"],[0.8888888888888888,\"#fdca26\"],[1.0,\"#f0f921\"]],\"sequentialminus\":[[0.0,\"#0d0887\"],[0.1111111111111111,\"#46039f\"],[0.2222222222222222,\"#7201a8\"],[0.3333333333333333,\"#9c179e\"],[0.4444444444444444,\"#bd3786\"],[0.5555555555555556,\"#d8576b\"],[0.6666666666666666,\"#ed7953\"],[0.7777777777777778,\"#fb9f3a\"],[0.8888888888888888,\"#fdca26\"],[1.0,\"#f0f921\"]]},\"colorway\":[\"#636efa\",\"#EF553B\",\"#00cc96\",\"#ab63fa\",\"#FFA15A\",\"#19d3f3\",\"#FF6692\",\"#B6E880\",\"#FF97FF\",\"#FECB52\"],\"font\":{\"color\":\"#2a3f5f\"},\"geo\":{\"bgcolor\":\"white\",\"lakecolor\":\"white\",\"landcolor\":\"#E5ECF6\",\"showlakes\":true,\"showland\":true,\"subunitcolor\":\"white\"},\"hoverlabel\":{\"align\":\"left\"},\"hovermode\":\"closest\",\"mapbox\":{\"style\":\"light\"},\"paper_bgcolor\":\"white\",\"plot_bgcolor\":\"#E5ECF6\",\"polar\":{\"angularaxis\":{\"gridcolor\":\"white\",\"linecolor\":\"white\",\"ticks\":\"\"},\"bgcolor\":\"#E5ECF6\",\"radialaxis\":{\"gridcolor\":\"white\",\"linecolor\":\"white\",\"ticks\":\"\"}},\"scene\":{\"xaxis\":{\"backgroundcolor\":\"#E5ECF6\",\"gridcolor\":\"white\",\"gridwidth\":2,\"linecolor\":\"white\",\"showbackground\":true,\"ticks\":\"\",\"zerolinecolor\":\"white\"},\"yaxis\":{\"backgroundcolor\":\"#E5ECF6\",\"gridcolor\":\"white\",\"gridwidth\":2,\"linecolor\":\"white\",\"showbackground\":true,\"ticks\":\"\",\"zerolinecolor\":\"white\"},\"zaxis\":{\"backgroundcolor\":\"#E5ECF6\",\"gridcolor\":\"white\",\"gridwidth\":2,\"linecolor\":\"white\",\"showbackground\":true,\"ticks\":\"\",\"zerolinecolor\":\"white\"}},\"shapedefaults\":{\"line\":{\"color\":\"#2a3f5f\"}},\"ternary\":{\"aaxis\":{\"gridcolor\":\"white\",\"linecolor\":\"white\",\"ticks\":\"\"},\"baxis\":{\"gridcolor\":\"white\",\"linecolor\":\"white\",\"ticks\":\"\"},\"bgcolor\":\"#E5ECF6\",\"caxis\":{\"gridcolor\":\"white\",\"linecolor\":\"white\",\"ticks\":\"\"}},\"title\":{\"x\":0.05},\"xaxis\":{\"automargin\":true,\"gridcolor\":\"white\",\"linecolor\":\"white\",\"ticks\":\"\",\"title\":{\"standoff\":15},\"zerolinecolor\":\"white\",\"zerolinewidth\":2},\"yaxis\":{\"automargin\":true,\"gridcolor\":\"white\",\"linecolor\":\"white\",\"ticks\":\"\",\"title\":{\"standoff\":15},\"zerolinecolor\":\"white\",\"zerolinewidth\":2}}},\"xaxis\":{\"title\":{\"text\":\"value\"}},\"yaxis\":{\"title\":{\"text\":\"count\"}}},                        {\"responsive\": true}                    ).then(function(){\n",
              "                            \n",
              "var gd = document.getElementById('0cdd0180-ad15-4334-b722-b88998ff9a50');\n",
              "var x = new MutationObserver(function (mutations, observer) {{\n",
              "        var display = window.getComputedStyle(gd).display;\n",
              "        if (!display || display === 'none') {{\n",
              "            console.log([gd, 'removed!']);\n",
              "            Plotly.purge(gd);\n",
              "            observer.disconnect();\n",
              "        }}\n",
              "}});\n",
              "\n",
              "// Listen for the removal of the full notebook cells\n",
              "var notebookContainer = gd.closest('#notebook-container');\n",
              "if (notebookContainer) {{\n",
              "    x.observe(notebookContainer, {childList: true});\n",
              "}}\n",
              "\n",
              "// Listen for the clearing of the current output cell\n",
              "var outputEl = gd.closest('.output');\n",
              "if (outputEl) {{\n",
              "    x.observe(outputEl, {childList: true});\n",
              "}}\n",
              "\n",
              "                        })                };                            </script>        </div>\n",
              "</body>\n",
              "</html>"
            ]
          },
          "metadata": {}
        }
      ],
      "source": [
        "%%time\n",
        "kdf['Month'].plot.hist()"
      ]
    },
    {
      "cell_type": "markdown",
      "source": [
        "\n",
        "\n",
        "---\n"
      ],
      "metadata": {
        "id": "Ih_eg_GMC4lv"
      }
    },
    {
      "cell_type": "markdown",
      "metadata": {
        "id": "Dn_AW-5uVJJ7"
      },
      "source": [
        "**Highest Elo rating** - The Elo rating system is a method for determining the relative skill levels of players in zero-sum games like chess. Having Elo higher than 2000 is consider an advanced player."
      ]
    },
    {
      "cell_type": "markdown",
      "metadata": {
        "id": "eXj_pwSBvOfs"
      },
      "source": [
        "**Pandas**\n"
      ]
    },
    {
      "cell_type": "code",
      "execution_count": 13,
      "metadata": {
        "id": "Lfg7WYbL4boE",
        "colab": {
          "base_uri": "https://localhost:8080/"
        },
        "outputId": "d1d1d9f1-7b30-44f6-9cc5-a6628122b195"
      },
      "outputs": [
        {
          "output_type": "stream",
          "name": "stdout",
          "text": [
            "CPU times: user 110 ms, sys: 0 ns, total: 110 ms\n",
            "Wall time: 115 ms\n"
          ]
        },
        {
          "output_type": "execute_result",
          "data": {
            "text/plain": [
              "WhiteElo    2970\n",
              "BlackElo    2970\n",
              "dtype: int64"
            ]
          },
          "metadata": {},
          "execution_count": 13
        }
      ],
      "source": [
        "%%time\n",
        "pdf[['WhiteElo','BlackElo']].max()"
      ]
    },
    {
      "cell_type": "markdown",
      "metadata": {
        "id": "u6Ug_-7FvT4I"
      },
      "source": [
        "**Vaex**"
      ]
    },
    {
      "cell_type": "code",
      "execution_count": 15,
      "metadata": {
        "id": "nulYoszT4cIH",
        "colab": {
          "base_uri": "https://localhost:8080/"
        },
        "outputId": "18fd43ad-ed50-4af7-8f7a-3ed2e7946885"
      },
      "outputs": [
        {
          "output_type": "stream",
          "name": "stdout",
          "text": [
            "WhiteElo 2970\n",
            "BlackELo 2970\n",
            "CPU times: user 18.2 s, sys: 4.8 s, total: 23 s\n",
            "Wall time: 22.4 s\n"
          ]
        }
      ],
      "source": [
        "%%time\n",
        "print(\"WhiteElo\",vdf['WhiteElo'].max())\n",
        "print(\"BlackElo\",vdf['BlackElo'].max())"
      ]
    },
    {
      "cell_type": "markdown",
      "metadata": {
        "id": "Ay8K1ItKvzVS"
      },
      "source": [
        "**Koalas**"
      ]
    },
    {
      "cell_type": "code",
      "execution_count": 8,
      "metadata": {
        "id": "bn66soce4xyD",
        "colab": {
          "base_uri": "https://localhost:8080/"
        },
        "outputId": "3dcd7d6f-0356-4fe2-d279-215455392362"
      },
      "outputs": [
        {
          "output_type": "stream",
          "name": "stdout",
          "text": [
            "CPU times: user 263 ms, sys: 33.3 ms, total: 297 ms\n",
            "Wall time: 29.8 s\n"
          ]
        },
        {
          "output_type": "execute_result",
          "data": {
            "text/plain": [
              "WhiteElo    2970\n",
              "BlackElo    2970\n",
              "dtype: int32"
            ]
          },
          "metadata": {},
          "execution_count": 8
        }
      ],
      "source": [
        "%%time\n",
        "kdf[['WhiteElo','BlackElo']].max()"
      ]
    },
    {
      "cell_type": "markdown",
      "source": [
        "\n",
        "\n",
        "---\n"
      ],
      "metadata": {
        "id": "6orgs16uDKIv"
      }
    },
    {
      "cell_type": "markdown",
      "metadata": {
        "id": "tLNLw0EOVJJ8"
      },
      "source": [
        "**Lowest ELO rating** - The Elo rating system is a method for determining the relative skill levels of players in zero-sum games like chess. Elo lower than 1000 is considered a beginner."
      ]
    },
    {
      "cell_type": "markdown",
      "metadata": {
        "id": "zz3ISExbvO2-"
      },
      "source": [
        "**Pandas**\n"
      ]
    },
    {
      "cell_type": "code",
      "execution_count": 9,
      "metadata": {
        "id": "61sgf555VJJ8",
        "colab": {
          "base_uri": "https://localhost:8080/"
        },
        "outputId": "19a8a243-8b65-4208-9a74-496582f331ba"
      },
      "outputs": [
        {
          "output_type": "stream",
          "name": "stdout",
          "text": [
            "CPU times: user 149 ms, sys: 44.8 ms, total: 194 ms\n",
            "Wall time: 292 ms\n"
          ]
        },
        {
          "output_type": "execute_result",
          "data": {
            "text/plain": [
              "WhiteElo    511\n",
              "BlackElo    704\n",
              "dtype: int64"
            ]
          },
          "metadata": {},
          "execution_count": 9
        }
      ],
      "source": [
        "%%time\n",
        "pdf[['WhiteElo','BlackElo']].min()"
      ]
    },
    {
      "cell_type": "markdown",
      "metadata": {
        "id": "y5EinQ43vUQO"
      },
      "source": [
        "**Vaex**"
      ]
    },
    {
      "cell_type": "code",
      "execution_count": 10,
      "metadata": {
        "id": "EPAIPWsJ4o3B",
        "colab": {
          "base_uri": "https://localhost:8080/"
        },
        "outputId": "d43522ca-874a-43c2-9565-154cb1c11c81"
      },
      "outputs": [
        {
          "output_type": "stream",
          "name": "stdout",
          "text": [
            "WhiteElo 511\n",
            "BlackElo 704\n",
            "CPU times: user 18.8 s, sys: 917 ms, total: 19.7 s\n",
            "Wall time: 11.4 s\n"
          ]
        }
      ],
      "source": [
        "%%time\n",
        "print(\"WhiteElo\",vdf['WhiteElo'].min())\n",
        "print(\"BlackElo\",vdf['BlackElo'].min())"
      ]
    },
    {
      "cell_type": "markdown",
      "metadata": {
        "id": "AwL1TWgtvz2B"
      },
      "source": [
        "**Koalas**"
      ]
    },
    {
      "cell_type": "code",
      "execution_count": 11,
      "metadata": {
        "id": "fOQ9cTWiVJJ8",
        "colab": {
          "base_uri": "https://localhost:8080/"
        },
        "outputId": "90e4f148-f982-4c50-b84a-4639c38b189b"
      },
      "outputs": [
        {
          "output_type": "stream",
          "name": "stdout",
          "text": [
            "CPU times: user 385 ms, sys: 40.8 ms, total: 426 ms\n",
            "Wall time: 27.2 s\n"
          ]
        },
        {
          "output_type": "execute_result",
          "data": {
            "text/plain": [
              "WhiteElo    511\n",
              "BlackElo    704\n",
              "dtype: int32"
            ]
          },
          "metadata": {},
          "execution_count": 11
        }
      ],
      "source": [
        "%%time\n",
        "kdf[['WhiteElo','BlackElo']].min()"
      ]
    },
    {
      "cell_type": "markdown",
      "source": [
        "\n",
        "\n",
        "---\n"
      ],
      "metadata": {
        "id": "DycUA00HDLB5"
      }
    },
    {
      "cell_type": "markdown",
      "metadata": {
        "id": "nt_CVhi-VJJ8"
      },
      "source": [
        "**Correlation** - Using correlation, we can analyse the data to determine if there is a relationship between its variables."
      ]
    },
    {
      "cell_type": "markdown",
      "metadata": {
        "id": "3fZINj-qvPdc"
      },
      "source": [
        "**Pandas**\n"
      ]
    },
    {
      "cell_type": "code",
      "execution_count": 12,
      "metadata": {
        "id": "JCembFhBgEzz",
        "colab": {
          "base_uri": "https://localhost:8080/",
          "height": 351
        },
        "outputId": "8327df7d-913c-484c-e988-017669d32217"
      },
      "outputs": [
        {
          "output_type": "display_data",
          "data": {
            "text/plain": [
              "<Figure size 432x288 with 2 Axes>"
            ],
            "image/png": "[encoded data removed]"
          },
          "metadata": {
            "needs_background": "light"
          }
        }
      ],
      "source": [
        "sns.heatmap(pdf.corr(), annot = True)\n",
        "sns.set(rc={'figure.figsize':(15, 15)})"
      ]
    },
    {
      "cell_type": "markdown",
      "metadata": {
        "id": "j4QgGE_nvUun"
      },
      "source": [
        "**Vaex**"
      ]
    },
    {
      "cell_type": "code",
      "source": [
        "%%time\n",
        "vdf.correlation(x=['WhiteElo'], y=['WhiteElo','BlackElo', 'Month', 'Year', 'InitialTime', 'Increment', 'Number_of_Moves'])"
      ],
      "metadata": {
        "colab": {
          "base_uri": "https://localhost:8080/"
        },
        "id": "YCl1ortyH-Kg",
        "outputId": "2cf39501-2962-46b1-d730-0bce7d11ac25"
      },
      "execution_count": 30,
      "outputs": [
        {
          "output_type": "stream",
          "name": "stdout",
          "text": [
            "CPU times: user 17.2 s, sys: 840 ms, total: 18 s\n",
            "Wall time: 9.5 s\n"
          ]
        },
        {
          "output_type": "execute_result",
          "data": {
            "text/plain": [
              "array([[ 1.        ,  0.63076933,  0.01677337,  0.0237081 , -0.15292352,\n",
              "        -0.12694023,  0.14001812]])"
            ]
          },
          "metadata": {},
          "execution_count": 30
        }
      ]
    },
    {
      "cell_type": "markdown",
      "metadata": {
        "id": "m-CppDOXv0T1"
      },
      "source": [
        "**Koalas**"
      ]
    },
    {
      "cell_type": "code",
      "execution_count": 17,
      "metadata": {
        "id": "RBYoxztOVJJ8",
        "colab": {
          "base_uri": "https://localhost:8080/",
          "height": 305
        },
        "outputId": "67df8df1-431b-48fb-d8d4-e1acd6d5a813"
      },
      "outputs": [
        {
          "output_type": "stream",
          "name": "stdout",
          "text": [
            "CPU times: user 828 ms, sys: 78.7 ms, total: 907 ms\n",
            "Wall time: 2min 5s\n"
          ]
        },
        {
          "output_type": "execute_result",
          "data": {
            "text/plain": [
              "                 WhiteElo  BlackElo     Month      Year  InitialTime  Increment  Number_of_Moves\n",
              "WhiteElo         1.000000  0.630769  0.016773  0.023708    -0.152924  -0.126940         0.140018\n",
              "BlackElo         0.630769  1.000000  0.020254  0.028343    -0.152487  -0.124079         0.157436\n",
              "Month            0.016773  0.020254  1.000000 -0.126758    -0.007037  -0.026483        -0.003796\n",
              "Year             0.023708  0.028343 -0.126758  1.000000    -0.009142  -0.032140         0.002334\n",
              "InitialTime     -0.152924 -0.152487 -0.007037 -0.009142     1.000000   0.450276        -0.016472\n",
              "Increment       -0.126940 -0.124079 -0.026483 -0.032140     0.450276   1.000000        -0.036216\n",
              "Number_of_Moves  0.140018  0.157436 -0.003796  0.002334    -0.016472  -0.036216         1.000000"
            ],
            "text/html": [
              "<div>\n",
              "<style scoped>\n",
              "    .dataframe tbody tr th:only-of-type {\n",
              "        vertical-align: middle;\n",
              "    }\n",
              "\n",
              "    .dataframe tbody tr th {\n",
              "        vertical-align: top;\n",
              "    }\n",
              "\n",
              "    .dataframe thead th {\n",
              "        text-align: right;\n",
              "    }\n",
              "</style>\n",
              "<table border=\"1\" class=\"dataframe\">\n",
              "  <thead>\n",
              "    <tr style=\"text-align: right;\">\n",
              "      <th></th>\n",
              "      <th>WhiteElo</th>\n",
              "      <th>BlackElo</th>\n",
              "      <th>Month</th>\n",
              "      <th>Year</th>\n",
              "      <th>InitialTime</th>\n",
              "      <th>Increment</th>\n",
              "      <th>Number_of_Moves</th>\n",
              "    </tr>\n",
              "  </thead>\n",
              "  <tbody>\n",
              "    <tr>\n",
              "      <th>WhiteElo</th>\n",
              "      <td>1.000000</td>\n",
              "      <td>0.630769</td>\n",
              "      <td>0.016773</td>\n",
              "      <td>0.023708</td>\n",
              "      <td>-0.152924</td>\n",
              "      <td>-0.126940</td>\n",
              "      <td>0.140018</td>\n",
              "    </tr>\n",
              "    <tr>\n",
              "      <th>BlackElo</th>\n",
              "      <td>0.630769</td>\n",
              "      <td>1.000000</td>\n",
              "      <td>0.020254</td>\n",
              "      <td>0.028343</td>\n",
              "      <td>-0.152487</td>\n",
              "      <td>-0.124079</td>\n",
              "      <td>0.157436</td>\n",
              "    </tr>\n",
              "    <tr>\n",
              "      <th>Month</th>\n",
              "      <td>0.016773</td>\n",
              "      <td>0.020254</td>\n",
              "      <td>1.000000</td>\n",
              "      <td>-0.126758</td>\n",
              "      <td>-0.007037</td>\n",
              "      <td>-0.026483</td>\n",
              "      <td>-0.003796</td>\n",
              "    </tr>\n",
              "    <tr>\n",
              "      <th>Year</th>\n",
              "      <td>0.023708</td>\n",
              "      <td>0.028343</td>\n",
              "      <td>-0.126758</td>\n",
              "      <td>1.000000</td>\n",
              "      <td>-0.009142</td>\n",
              "      <td>-0.032140</td>\n",
              "      <td>0.002334</td>\n",
              "    </tr>\n",
              "    <tr>\n",
              "      <th>InitialTime</th>\n",
              "      <td>-0.152924</td>\n",
              "      <td>-0.152487</td>\n",
              "      <td>-0.007037</td>\n",
              "      <td>-0.009142</td>\n",
              "      <td>1.000000</td>\n",
              "      <td>0.450276</td>\n",
              "      <td>-0.016472</td>\n",
              "    </tr>\n",
              "    <tr>\n",
              "      <th>Increment</th>\n",
              "      <td>-0.126940</td>\n",
              "      <td>-0.124079</td>\n",
              "      <td>-0.026483</td>\n",
              "      <td>-0.032140</td>\n",
              "      <td>0.450276</td>\n",
              "      <td>1.000000</td>\n",
              "      <td>-0.036216</td>\n",
              "    </tr>\n",
              "    <tr>\n",
              "      <th>Number_of_Moves</th>\n",
              "      <td>0.140018</td>\n",
              "      <td>0.157436</td>\n",
              "      <td>-0.003796</td>\n",
              "      <td>0.002334</td>\n",
              "      <td>-0.016472</td>\n",
              "      <td>-0.036216</td>\n",
              "      <td>1.000000</td>\n",
              "    </tr>\n",
              "  </tbody>\n",
              "</table>\n",
              "</div>"
            ]
          },
          "metadata": {},
          "execution_count": 17
        }
      ],
      "source": [
        "%%time\n",
        "kdf.corr()"
      ]
    },
    {
      "cell_type": "markdown",
      "metadata": {
        "id": "E0U3IWm8VJJ9"
      },
      "source": [
        "## Asking and Answering Questions\n",
        "\n",
        "TODO - write some explanation here.\n",
        "\n"
      ]
    },
    {
      "cell_type": "markdown",
      "metadata": {
        "id": "7Lor5rHMVJJ9"
      },
      "source": [
        "#### Q1: Which chess color have more wins?"
      ]
    },
    {
      "cell_type": "markdown",
      "metadata": {
        "id": "mLPp_Bnx2dGM"
      },
      "source": [
        "**Pandas**\n"
      ]
    },
    {
      "cell_type": "code",
      "source": [
        "pdf.Winner.value_counts().plot(kind='pie', figsize=(20,10))().plot(kind='pie', figsize=(20,10))\n",
        "fig.update_traces(textposition='inside', textinfo='percent+label+value',marker=dict(line=dict(color='#000000', width=2)))"
      ],
      "metadata": {
        "colab": {
          "base_uri": "https://localhost:8080/",
          "height": 183
        },
        "id": "HAMxj86lQ5Eb",
        "outputId": "1ee6d246-b274-4255-f864-177a4015b53d"
      },
      "execution_count": null,
      "outputs": [
        {
          "output_type": "error",
          "ename": "AttributeError",
          "evalue": "ignored",
          "traceback": [
            "\u001b[0;31m---------------------------------------------------------------------------\u001b[0m",
            "\u001b[0;31mAttributeError\u001b[0m                            Traceback (most recent call last)",
            "\u001b[0;32m<ipython-input-97-780985f644c0>\u001b[0m in \u001b[0;36m<module>\u001b[0;34m\u001b[0m\n\u001b[0;32m----> 1\u001b[0;31m \u001b[0mpdf\u001b[0m\u001b[0;34m.\u001b[0m\u001b[0mWinner\u001b[0m\u001b[0;34m.\u001b[0m\u001b[0mvalue_counts\u001b[0m\u001b[0;34m(\u001b[0m\u001b[0;34m)\u001b[0m\u001b[0;34m.\u001b[0m\u001b[0mplot\u001b[0m\u001b[0;34m(\u001b[0m\u001b[0mkind\u001b[0m\u001b[0;34m=\u001b[0m\u001b[0;34m'pie'\u001b[0m\u001b[0;34m,\u001b[0m \u001b[0mfigsize\u001b[0m\u001b[0;34m=\u001b[0m\u001b[0;34m(\u001b[0m\u001b[0;36m20\u001b[0m\u001b[0;34m,\u001b[0m\u001b[0;36m10\u001b[0m\u001b[0;34m)\u001b[0m\u001b[0;34m)\u001b[0m\u001b[0;34m(\u001b[0m\u001b[0;34m)\u001b[0m\u001b[0;34m.\u001b[0m\u001b[0mplot\u001b[0m\u001b[0;34m(\u001b[0m\u001b[0mkind\u001b[0m\u001b[0;34m=\u001b[0m\u001b[0;34m'pie'\u001b[0m\u001b[0;34m,\u001b[0m \u001b[0mfigsize\u001b[0m\u001b[0;34m=\u001b[0m\u001b[0;34m(\u001b[0m\u001b[0;36m20\u001b[0m\u001b[0;34m,\u001b[0m\u001b[0;36m10\u001b[0m\u001b[0;34m)\u001b[0m\u001b[0;34m)\u001b[0m\u001b[0;34m\u001b[0m\u001b[0;34m\u001b[0m\u001b[0m\n\u001b[0m\u001b[1;32m      2\u001b[0m \u001b[0mfig\u001b[0m\u001b[0;34m.\u001b[0m\u001b[0mupdate_traces\u001b[0m\u001b[0;34m(\u001b[0m\u001b[0mtextposition\u001b[0m\u001b[0;34m=\u001b[0m\u001b[0;34m'inside'\u001b[0m\u001b[0;34m,\u001b[0m \u001b[0mtextinfo\u001b[0m\u001b[0;34m=\u001b[0m\u001b[0;34m'percent+label+value'\u001b[0m\u001b[0;34m,\u001b[0m\u001b[0mmarker\u001b[0m\u001b[0;34m=\u001b[0m\u001b[0mdict\u001b[0m\u001b[0;34m(\u001b[0m\u001b[0mline\u001b[0m\u001b[0;34m=\u001b[0m\u001b[0mdict\u001b[0m\u001b[0;34m(\u001b[0m\u001b[0mcolor\u001b[0m\u001b[0;34m=\u001b[0m\u001b[0;34m'#000000'\u001b[0m\u001b[0;34m,\u001b[0m \u001b[0mwidth\u001b[0m\u001b[0;34m=\u001b[0m\u001b[0;36m2\u001b[0m\u001b[0;34m)\u001b[0m\u001b[0;34m)\u001b[0m\u001b[0;34m)\u001b[0m\u001b[0;34m\u001b[0m\u001b[0;34m\u001b[0m\u001b[0m\n",
            "\u001b[0;31mAttributeError\u001b[0m: 'numpy.ndarray' object has no attribute 'Winner'"
          ]
        }
      ]
    },
    {
      "cell_type": "code",
      "execution_count": null,
      "metadata": {
        "id": "D-PdOKqCVJJ9",
        "colab": {
          "base_uri": "https://localhost:8080/",
          "height": 836
        },
        "outputId": "e721e318-c814-4fda-e6e6-23310f35f2a4"
      },
      "outputs": [
        {
          "output_type": "stream",
          "name": "stdout",
          "text": [
            "CPU times: user 3 µs, sys: 0 ns, total: 3 µs\n",
            "Wall time: 8.34 µs\n"
          ]
        },
        {
          "output_type": "error",
          "ename": "TypeError",
          "evalue": "ignored",
          "traceback": [
            "\u001b[0;31m---------------------------------------------------------------------------\u001b[0m",
            "\u001b[0;31mTypeError\u001b[0m                                 Traceback (most recent call last)",
            "\u001b[0;32m<ipython-input-73-a44fc226dd44>\u001b[0m in \u001b[0;36m<module>\u001b[0;34m\u001b[0m\n\u001b[1;32m      1\u001b[0m \u001b[0mget_ipython\u001b[0m\u001b[0;34m(\u001b[0m\u001b[0;34m)\u001b[0m\u001b[0;34m.\u001b[0m\u001b[0mrun_line_magic\u001b[0m\u001b[0;34m(\u001b[0m\u001b[0;34m'time'\u001b[0m\u001b[0;34m,\u001b[0m \u001b[0;34m''\u001b[0m\u001b[0;34m)\u001b[0m\u001b[0;34m\u001b[0m\u001b[0;34m\u001b[0m\u001b[0m\n\u001b[1;32m      2\u001b[0m \u001b[0;34m\u001b[0m\u001b[0m\n\u001b[0;32m----> 3\u001b[0;31m \u001b[0mpdf\u001b[0m\u001b[0;34m.\u001b[0m\u001b[0mWinner\u001b[0m\u001b[0;34m.\u001b[0m\u001b[0mvalue_counts\u001b[0m\u001b[0;34m(\u001b[0m\u001b[0;34m)\u001b[0m\u001b[0;34m.\u001b[0m\u001b[0mplot\u001b[0m\u001b[0;34m(\u001b[0m\u001b[0mkind\u001b[0m\u001b[0;34m=\u001b[0m\u001b[0;34m'bar'\u001b[0m\u001b[0;34m,\u001b[0m \u001b[0mfigsize\u001b[0m\u001b[0;34m=\u001b[0m\u001b[0;34m(\u001b[0m\u001b[0;36m20\u001b[0m\u001b[0;34m,\u001b[0m\u001b[0;36m10\u001b[0m\u001b[0;34m)\u001b[0m\u001b[0;34m)\u001b[0m\u001b[0;34m(\u001b[0m\u001b[0;34m)\u001b[0m\u001b[0;34m.\u001b[0m\u001b[0mplot\u001b[0m\u001b[0;34m(\u001b[0m\u001b[0mkind\u001b[0m\u001b[0;34m=\u001b[0m\u001b[0;34m'bar'\u001b[0m\u001b[0;34m,\u001b[0m \u001b[0mfigsize\u001b[0m\u001b[0;34m=\u001b[0m\u001b[0;34m(\u001b[0m\u001b[0;36m20\u001b[0m\u001b[0;34m,\u001b[0m\u001b[0;36m10\u001b[0m\u001b[0;34m)\u001b[0m\u001b[0;34m)\u001b[0m\u001b[0;34m\u001b[0m\u001b[0;34m\u001b[0m\u001b[0m\n\u001b[0m\u001b[1;32m      4\u001b[0m \u001b[0mplt\u001b[0m\u001b[0;34m.\u001b[0m\u001b[0mtitle\u001b[0m\u001b[0;34m(\u001b[0m\u001b[0;34m\"Winner\"\u001b[0m\u001b[0;34m)\u001b[0m\u001b[0;34m\u001b[0m\u001b[0;34m\u001b[0m\u001b[0m\n\u001b[1;32m      5\u001b[0m \u001b[0mplt\u001b[0m\u001b[0;34m.\u001b[0m\u001b[0mylabel\u001b[0m\u001b[0;34m(\u001b[0m\u001b[0;34m'Number of Winning'\u001b[0m\u001b[0;34m)\u001b[0m\u001b[0;34m\u001b[0m\u001b[0;34m\u001b[0m\u001b[0m\n",
            "\u001b[0;31mTypeError\u001b[0m: 'AxesSubplot' object is not callable"
          ]
        },
        {
          "output_type": "display_data",
          "data": {
            "text/plain": [
              "<Figure size 1440x720 with 1 Axes>"
            ],
            "image/png": "[encoded data removed]"
          },
          "metadata": {}
        }
      ],
      "source": [
        "%time\n",
        "\n",
        "pdf.Winner.value_counts().plot(kind='bar', figsize=(20,10))().plot(kind='bar', figsize=(20,10))\n",
        "plt.title(\"Winner\")\n",
        "plt.ylabel('Number of Winning')\n",
        "plt.xlabel('Type of Winner')"
      ]
    },
    {
      "cell_type": "markdown",
      "metadata": {
        "id": "N3jPyM0s2hKp"
      },
      "source": [
        "**Vaex**"
      ]
    },
    {
      "cell_type": "code",
      "execution_count": null,
      "metadata": {
        "id": "pR1HdQ4JVJJ9",
        "colab": {
          "base_uri": "https://localhost:8080/",
          "height": 415
        },
        "outputId": "38bb6427-9b7b-41e8-fd89-a60d456e55b5"
      },
      "outputs": [
        {
          "output_type": "error",
          "ename": "TypeError",
          "evalue": "ignored",
          "traceback": [
            "\u001b[0;31m---------------------------------------------------------------------------\u001b[0m",
            "\u001b[0;31mTypeError\u001b[0m                                 Traceback (most recent call last)",
            "\u001b[0;32m<timed eval>\u001b[0m in \u001b[0;36m<module>\u001b[0;34m\u001b[0m\n",
            "\u001b[0;32m/usr/local/lib/python3.8/dist-packages/vaex/viz/mpl.py\u001b[0m in \u001b[0;36mwrapper\u001b[0;34m(self, *args, **kwargs)\u001b[0m\n\u001b[1;32m     30\u001b[0m     \u001b[0;34m@\u001b[0m\u001b[0mfunctools\u001b[0m\u001b[0;34m.\u001b[0m\u001b[0mwraps\u001b[0m\u001b[0;34m(\u001b[0m\u001b[0mf\u001b[0m\u001b[0;34m)\u001b[0m\u001b[0;34m\u001b[0m\u001b[0;34m\u001b[0m\u001b[0m\n\u001b[1;32m     31\u001b[0m     \u001b[0;32mdef\u001b[0m \u001b[0mwrapper\u001b[0m\u001b[0;34m(\u001b[0m\u001b[0mself\u001b[0m\u001b[0;34m,\u001b[0m \u001b[0;34m*\u001b[0m\u001b[0margs\u001b[0m\u001b[0;34m,\u001b[0m \u001b[0;34m**\u001b[0m\u001b[0mkwargs\u001b[0m\u001b[0;34m)\u001b[0m\u001b[0;34m:\u001b[0m\u001b[0;34m\u001b[0m\u001b[0;34m\u001b[0m\u001b[0m\n\u001b[0;32m---> 32\u001b[0;31m         \u001b[0;32mreturn\u001b[0m \u001b[0mf\u001b[0m\u001b[0;34m(\u001b[0m\u001b[0mself\u001b[0m\u001b[0;34m.\u001b[0m\u001b[0mdf\u001b[0m\u001b[0;34m,\u001b[0m \u001b[0;34m*\u001b[0m\u001b[0margs\u001b[0m\u001b[0;34m,\u001b[0m \u001b[0;34m**\u001b[0m\u001b[0mkwargs\u001b[0m\u001b[0;34m)\u001b[0m\u001b[0;34m\u001b[0m\u001b[0;34m\u001b[0m\u001b[0m\n\u001b[0m\u001b[1;32m     33\u001b[0m     \u001b[0;32mfrom\u001b[0m \u001b[0;34m.\u001b[0m \u001b[0;32mimport\u001b[0m \u001b[0mDataFrameAccessorViz\u001b[0m \u001b[0;32mas\u001b[0m \u001b[0mcls\u001b[0m\u001b[0;34m\u001b[0m\u001b[0;34m\u001b[0m\u001b[0m\n\u001b[1;32m     34\u001b[0m     \u001b[0msetattr\u001b[0m\u001b[0;34m(\u001b[0m\u001b[0mcls\u001b[0m\u001b[0;34m,\u001b[0m \u001b[0mf\u001b[0m\u001b[0;34m.\u001b[0m\u001b[0m__name__\u001b[0m\u001b[0;34m,\u001b[0m \u001b[0mwrapper\u001b[0m\u001b[0;34m)\u001b[0m\u001b[0;34m\u001b[0m\u001b[0;34m\u001b[0m\u001b[0m\n",
            "\u001b[0;32m/usr/local/lib/python3.8/dist-packages/vaex/viz/mpl.py\u001b[0m in \u001b[0;36mhistogram\u001b[0;34m(self, x, what, grid, shape, facet, limits, figsize, f, n, normalize_axis, xlabel, ylabel, label, selection, show, tight_layout, hardcopy, progress, **kwargs)\u001b[0m\n\u001b[1;32m     92\u001b[0m         \u001b[0mshape\u001b[0m \u001b[0;34m=\u001b[0m \u001b[0;34m(\u001b[0m\u001b[0mshape\u001b[0m\u001b[0;34m,\u001b[0m\u001b[0;34m)\u001b[0m\u001b[0;34m\u001b[0m\u001b[0;34m\u001b[0m\u001b[0m\n\u001b[1;32m     93\u001b[0m     \u001b[0mbinby\u001b[0m \u001b[0;34m=\u001b[0m \u001b[0;34m[\u001b[0m\u001b[0;34m]\u001b[0m\u001b[0;34m\u001b[0m\u001b[0;34m\u001b[0m\u001b[0m\n\u001b[0;32m---> 94\u001b[0;31m     \u001b[0mx\u001b[0m \u001b[0;34m=\u001b[0m \u001b[0m_ensure_strings_from_expressions\u001b[0m\u001b[0;34m(\u001b[0m\u001b[0mx\u001b[0m\u001b[0;34m)\u001b[0m\u001b[0;34m\u001b[0m\u001b[0;34m\u001b[0m\u001b[0m\n\u001b[0m\u001b[1;32m     95\u001b[0m     \u001b[0;32mfor\u001b[0m \u001b[0mexpression\u001b[0m \u001b[0;32min\u001b[0m \u001b[0;34m[\u001b[0m\u001b[0mx\u001b[0m\u001b[0;34m]\u001b[0m\u001b[0;34m:\u001b[0m\u001b[0;34m\u001b[0m\u001b[0;34m\u001b[0m\u001b[0m\n\u001b[1;32m     96\u001b[0m         \u001b[0;32mif\u001b[0m \u001b[0mexpression\u001b[0m \u001b[0;32mis\u001b[0m \u001b[0;32mnot\u001b[0m \u001b[0;32mNone\u001b[0m\u001b[0;34m:\u001b[0m\u001b[0;34m\u001b[0m\u001b[0;34m\u001b[0m\u001b[0m\n",
            "\u001b[0;32m/usr/local/lib/python3.8/dist-packages/vaex/utils.py\u001b[0m in \u001b[0;36m_ensure_strings_from_expressions\u001b[0;34m(expressions)\u001b[0m\n\u001b[1;32m    653\u001b[0m \u001b[0;32mdef\u001b[0m \u001b[0m_ensure_strings_from_expressions\u001b[0m\u001b[0;34m(\u001b[0m\u001b[0mexpressions\u001b[0m\u001b[0;34m)\u001b[0m\u001b[0;34m:\u001b[0m\u001b[0;34m\u001b[0m\u001b[0;34m\u001b[0m\u001b[0m\n\u001b[1;32m    654\u001b[0m     \u001b[0;32mif\u001b[0m \u001b[0m_issequence\u001b[0m\u001b[0;34m(\u001b[0m\u001b[0mexpressions\u001b[0m\u001b[0;34m)\u001b[0m\u001b[0;34m:\u001b[0m\u001b[0;34m\u001b[0m\u001b[0;34m\u001b[0m\u001b[0m\n\u001b[0;32m--> 655\u001b[0;31m         \u001b[0;32mreturn\u001b[0m \u001b[0;34m[\u001b[0m\u001b[0m_ensure_strings_from_expressions\u001b[0m\u001b[0;34m(\u001b[0m\u001b[0mk\u001b[0m\u001b[0;34m)\u001b[0m \u001b[0;32mfor\u001b[0m \u001b[0mk\u001b[0m \u001b[0;32min\u001b[0m \u001b[0mexpressions\u001b[0m\u001b[0;34m]\u001b[0m\u001b[0;34m\u001b[0m\u001b[0;34m\u001b[0m\u001b[0m\n\u001b[0m\u001b[1;32m    656\u001b[0m     \u001b[0;32melse\u001b[0m\u001b[0;34m:\u001b[0m\u001b[0;34m\u001b[0m\u001b[0;34m\u001b[0m\u001b[0m\n\u001b[1;32m    657\u001b[0m         \u001b[0;32mreturn\u001b[0m \u001b[0m_ensure_string_from_expression\u001b[0m\u001b[0;34m(\u001b[0m\u001b[0mexpressions\u001b[0m\u001b[0;34m)\u001b[0m\u001b[0;34m\u001b[0m\u001b[0;34m\u001b[0m\u001b[0m\n",
            "\u001b[0;31mTypeError\u001b[0m: iteration over a 0-d array"
          ]
        }
      ],
      "source": [
        "%time \n",
        "w = vdf['Winner'==\"White\"]\n",
        "b = vdf['Winner'==\"Black\"]\n",
        "vv.DataFrameAccessorViz.histogram(vdf.Winner, vdf.Winner.count())"
      ]
    },
    {
      "cell_type": "markdown",
      "metadata": {
        "id": "_7jIW5Sq2kd-"
      },
      "source": [
        "**Koalas**"
      ]
    },
    {
      "cell_type": "code",
      "execution_count": null,
      "metadata": {
        "id": "LKIZxnawVJJ9"
      },
      "outputs": [],
      "source": []
    },
    {
      "cell_type": "markdown",
      "metadata": {
        "id": "c_REVnrhVJJ-"
      },
      "source": [
        "#### Q2: Which player has more game?"
      ]
    },
    {
      "cell_type": "markdown",
      "metadata": {
        "id": "piN3qrJY2dzf"
      },
      "source": [
        "**Pandas**\n"
      ]
    },
    {
      "cell_type": "code",
      "execution_count": null,
      "metadata": {
        "colab": {
          "base_uri": "https://localhost:8080/"
        },
        "id": "ShA3QyQpVJJ-",
        "outputId": "50a8c7fd-0987-4fa7-f73c-32466afc63f1"
      },
      "outputs": [
        {
          "name": "stdout",
          "output_type": "stream",
          "text": [
            "CPU times: user 41.2 ms, sys: 0 ns, total: 41.2 ms\n",
            "Wall time: 51.6 ms\n"
          ]
        },
        {
          "data": {
            "text/plain": [
              "F1_ALONSO_FERRARI    1502.0\n",
              "german11             1405.0\n",
              "nichiren1967         1388.0\n",
              "ChikiPuki            1261.0\n",
              "Redneck              1224.0\n",
              "                      ...  \n",
              "neverforever            1.0\n",
              "new_One                 1.0\n",
              "as_1                    1.0\n",
              "ExuqHo                  1.0\n",
              "T-Bone                  1.0\n",
              "Length: 4270, dtype: float64"
            ]
          },
          "execution_count": 81,
          "metadata": {},
          "output_type": "execute_result"
        }
      ],
      "source": [
        "%%time\n",
        "total_gamesP = pdf['WhiteName'].value_counts().add(pdf['BlackName'].value_counts(), fill_value=0)\n",
        "total_gamesP = total_gamesP.sort_values(ascending = False)\n",
        "total_gamesP"
      ]
    },
    {
      "cell_type": "markdown",
      "metadata": {
        "id": "ND8oOuXl2hsV"
      },
      "source": [
        "**Vaex**"
      ]
    },
    {
      "cell_type": "code",
      "execution_count": 32,
      "metadata": {
        "id": "dvyLd9MdVJJ-",
        "colab": {
          "base_uri": "https://localhost:8080/"
        },
        "outputId": "34d72ea0-e82f-420e-df97-a90ec62b9270"
      },
      "outputs": [
        {
          "output_type": "stream",
          "name": "stdout",
          "text": [
            "CPU times: user 28.2 s, sys: 1.4 s, total: 29.6 s\n",
            "Wall time: 16.8 s\n"
          ]
        },
        {
          "output_type": "execute_result",
          "data": {
            "text/plain": [
              "ribarisah          45907.0\n",
              "IgorKoc            39856.0\n",
              "Grga1              35195.0\n",
              "aavza50            35005.0\n",
              "german11           31729.0\n",
              "                    ...   \n",
              "drdlfytf               1.0\n",
              "drcarter87             1.0\n",
              "drbong                 1.0\n",
              "dratomf                1.0\n",
              "zzzzzzzzzzzzzzz        1.0\n",
              "Length: 241692, dtype: float64"
            ]
          },
          "metadata": {},
          "execution_count": 32
        }
      ],
      "source": [
        "%%time\n",
        "total_gamesP = vdf['WhiteName'].value_counts().add(vdf['BlackName'].value_counts(), fill_value=0)\n",
        "total_gamesP = total_gamesP.sort_values(ascending = False)\n",
        "total_gamesP"
      ]
    },
    {
      "cell_type": "markdown",
      "metadata": {
        "id": "-KUhq7sz2lpp"
      },
      "source": [
        "**Koalas**"
      ]
    },
    {
      "cell_type": "code",
      "execution_count": null,
      "metadata": {
        "id": "tdjrhzySVJJ-"
      },
      "outputs": [],
      "source": [
        "%%time\n",
        "total_gamesP = kdf['WhiteName'].value_counts().add(kdf['BlackName'].value_counts(), fill_value=0)\n",
        "total_gamesP = total_gamesP.sort_values(ascending = False)\n",
        "total_gamesP"
      ]
    },
    {
      "cell_type": "markdown",
      "metadata": {
        "id": "ya3o0SurVJJ-"
      },
      "source": [
        "#### Q3: How many game ended normally based on the TimeControl?"
      ]
    },
    {
      "cell_type": "markdown",
      "metadata": {
        "id": "pO5BwhyN2eSE"
      },
      "source": [
        "**Pandas**\n"
      ]
    },
    {
      "cell_type": "code",
      "execution_count": 45,
      "metadata": {
        "id": "CaF9SiPeVJJ-",
        "colab": {
          "base_uri": "https://localhost:8080/",
          "height": 242
        },
        "outputId": "24421509-651e-4744-8d33-f23d97d15a09"
      },
      "outputs": [
        {
          "output_type": "stream",
          "name": "stdout",
          "text": [
            "CPU times: user 4.26 s, sys: 76.2 ms, total: 4.34 s\n",
            "Wall time: 4.69 s\n"
          ]
        },
        {
          "output_type": "execute_result",
          "data": {
            "text/plain": [
              "             Termination\n",
              "TimeControl             \n",
              "Blitz            4204736\n",
              "Bullet           1871279\n",
              "Classical         261979\n",
              "Rapid            3628779"
            ],
            "text/html": [
              "\n",
              "  <div id=\"df-d5a8bb6f-14ea-4a64-9777-0f28e63d4b20\">\n",
              "    <div class=\"colab-df-container\">\n",
              "      <div>\n",
              "<style scoped>\n",
              "    .dataframe tbody tr th:only-of-type {\n",
              "        vertical-align: middle;\n",
              "    }\n",
              "\n",
              "    .dataframe tbody tr th {\n",
              "        vertical-align: top;\n",
              "    }\n",
              "\n",
              "    .dataframe thead th {\n",
              "        text-align: right;\n",
              "    }\n",
              "</style>\n",
              "<table border=\"1\" class=\"dataframe\">\n",
              "  <thead>\n",
              "    <tr style=\"text-align: right;\">\n",
              "      <th></th>\n",
              "      <th>Termination</th>\n",
              "    </tr>\n",
              "    <tr>\n",
              "      <th>TimeControl</th>\n",
              "      <th></th>\n",
              "    </tr>\n",
              "  </thead>\n",
              "  <tbody>\n",
              "    <tr>\n",
              "      <th>Blitz</th>\n",
              "      <td>4204736</td>\n",
              "    </tr>\n",
              "    <tr>\n",
              "      <th>Bullet</th>\n",
              "      <td>1871279</td>\n",
              "    </tr>\n",
              "    <tr>\n",
              "      <th>Classical</th>\n",
              "      <td>261979</td>\n",
              "    </tr>\n",
              "    <tr>\n",
              "      <th>Rapid</th>\n",
              "      <td>3628779</td>\n",
              "    </tr>\n",
              "  </tbody>\n",
              "</table>\n",
              "</div>\n",
              "      <button class=\"colab-df-convert\" onclick=\"convertToInteractive('df-d5a8bb6f-14ea-4a64-9777-0f28e63d4b20')\"\n",
              "              title=\"Convert this dataframe to an interactive table.\"\n",
              "              style=\"display:none;\">\n",
              "        \n",
              "  <svg xmlns=\"http://www.w3.org/2000/svg\" height=\"24px\"viewBox=\"0 0 24 24\"\n",
              "       width=\"24px\">\n",
              "    <path d=\"M0 0h24v24H0V0z\" fill=\"none\"/>\n",
              "    <path d=\"M18.56 5.44l.94 2.06.94-2.06 2.06-.94-2.06-.94-.94-2.06-.94 2.06-2.06.94zm-11 1L8.5 8.5l.94-2.06 2.06-.94-2.06-.94L8.5 2.5l-.94 2.06-2.06.94zm10 10l.94 2.06.94-2.06 2.06-.94-2.06-.94-.94-2.06-.94 2.06-2.06.94z\"/><path d=\"M17.41 7.96l-1.37-1.37c-.4-.4-.92-.59-1.43-.59-.52 0-1.04.2-1.43.59L10.3 9.45l-7.72 7.72c-.78.78-.78 2.05 0 2.83L4 21.41c.39.39.9.59 1.41.59.51 0 1.02-.2 1.41-.59l7.78-7.78 2.81-2.81c.8-.78.8-2.07 0-2.86zM5.41 20L4 18.59l7.72-7.72 1.47 1.35L5.41 20z\"/>\n",
              "  </svg>\n",
              "      </button>\n",
              "      \n",
              "  <style>\n",
              "    .colab-df-container {\n",
              "      display:flex;\n",
              "      flex-wrap:wrap;\n",
              "      gap: 12px;\n",
              "    }\n",
              "\n",
              "    .colab-df-convert {\n",
              "      background-color: #E8F0FE;\n",
              "      border: none;\n",
              "      border-radius: 50%;\n",
              "      cursor: pointer;\n",
              "      display: none;\n",
              "      fill: #1967D2;\n",
              "      height: 32px;\n",
              "      padding: 0 0 0 0;\n",
              "      width: 32px;\n",
              "    }\n",
              "\n",
              "    .colab-df-convert:hover {\n",
              "      background-color: #E2EBFA;\n",
              "      box-shadow: 0px 1px 2px rgba(60, 64, 67, 0.3), 0px 1px 3px 1px rgba(60, 64, 67, 0.15);\n",
              "      fill: #174EA6;\n",
              "    }\n",
              "\n",
              "    [theme=dark] .colab-df-convert {\n",
              "      background-color: #3B4455;\n",
              "      fill: #D2E3FC;\n",
              "    }\n",
              "\n",
              "    [theme=dark] .colab-df-convert:hover {\n",
              "      background-color: #434B5C;\n",
              "      box-shadow: 0px 1px 3px 1px rgba(0, 0, 0, 0.15);\n",
              "      filter: drop-shadow(0px 1px 2px rgba(0, 0, 0, 0.3));\n",
              "      fill: #FFFFFF;\n",
              "    }\n",
              "  </style>\n",
              "\n",
              "      <script>\n",
              "        const buttonEl =\n",
              "          document.querySelector('#df-d5a8bb6f-14ea-4a64-9777-0f28e63d4b20 button.colab-df-convert');\n",
              "        buttonEl.style.display =\n",
              "          google.colab.kernel.accessAllowed ? 'block' : 'none';\n",
              "\n",
              "        async function convertToInteractive(key) {\n",
              "          const element = document.querySelector('#df-d5a8bb6f-14ea-4a64-9777-0f28e63d4b20');\n",
              "          const dataTable =\n",
              "            await google.colab.kernel.invokeFunction('convertToInteractive',\n",
              "                                                     [key], {});\n",
              "          if (!dataTable) return;\n",
              "\n",
              "          const docLinkHtml = 'Like what you see? Visit the ' +\n",
              "            '<a target=\"_blank\" href=https://colab.research.google.com/notebooks/data_table.ipynb>data table notebook</a>'\n",
              "            + ' to learn more about interactive tables.';\n",
              "          element.innerHTML = '';\n",
              "          dataTable['output_type'] = 'display_data';\n",
              "          await google.colab.output.renderOutput(dataTable, element);\n",
              "          const docLink = document.createElement('div');\n",
              "          docLink.innerHTML = docLinkHtml;\n",
              "          element.appendChild(docLink);\n",
              "        }\n",
              "      </script>\n",
              "    </div>\n",
              "  </div>\n",
              "  "
            ]
          },
          "metadata": {},
          "execution_count": 45
        }
      ],
      "source": [
        "%%time\n",
        "newpdf = pdf[pdf.Termination == 'Normal']\n",
        "newpdf[['Termination','TimeControl']].groupby('TimeControl').count()"
      ]
    },
    {
      "cell_type": "markdown",
      "metadata": {
        "id": "omUpXrhF2iIA"
      },
      "source": [
        "**Vaex**"
      ]
    },
    {
      "cell_type": "code",
      "execution_count": 47,
      "metadata": {
        "id": "bGV1nEzqVJJ-",
        "colab": {
          "base_uri": "https://localhost:8080/",
          "height": 162
        },
        "outputId": "6a34eb53-c31c-4d91-d219-a51cba9e93a1"
      },
      "outputs": [
        {
          "output_type": "stream",
          "name": "stdout",
          "text": [
            "CPU times: user 23.1 s, sys: 1.92 s, total: 25.1 s\n",
            "Wall time: 16.5 s\n"
          ]
        },
        {
          "output_type": "execute_result",
          "data": {
            "text/html": [
              "<table>\n",
              "<thead>\n",
              "<tr><th>#                            </th><th>TimeControl  </th><th style=\"text-align: right;\">  count</th></tr>\n",
              "</thead>\n",
              "<tbody>\n",
              "<tr><td><i style='opacity: 0.6'>0</i></td><td>Rapid        </td><td style=\"text-align: right;\">3628779</td></tr>\n",
              "<tr><td><i style='opacity: 0.6'>1</i></td><td>Classical    </td><td style=\"text-align: right;\"> 261979</td></tr>\n",
              "<tr><td><i style='opacity: 0.6'>2</i></td><td>Blitz        </td><td style=\"text-align: right;\">4204736</td></tr>\n",
              "<tr><td><i style='opacity: 0.6'>3</i></td><td>Bullet       </td><td style=\"text-align: right;\">1871279</td></tr>\n",
              "</tbody>\n",
              "</table>"
            ],
            "text/plain": [
              "  #  TimeControl      count\n",
              "  0  Rapid          3628779\n",
              "  1  Classical       261979\n",
              "  2  Blitz          4204736\n",
              "  3  Bullet         1871279"
            ]
          },
          "metadata": {},
          "execution_count": 47
        }
      ],
      "source": [
        "%%time\n",
        "newvdf = vdf[vdf.Termination == 'Normal']\n",
        "newvdf[['Termination','TimeControl']].groupby('TimeControl', agg='count')"
      ]
    },
    {
      "cell_type": "markdown",
      "metadata": {
        "id": "21_DgJFY2mQI"
      },
      "source": [
        "**Koalas**"
      ]
    },
    {
      "cell_type": "code",
      "execution_count": 48,
      "metadata": {
        "id": "1y8gWqGcVJJ-",
        "colab": {
          "base_uri": "https://localhost:8080/",
          "height": 242
        },
        "outputId": "cc351077-77df-406e-a24f-874df36a1519"
      },
      "outputs": [
        {
          "output_type": "stream",
          "name": "stdout",
          "text": [
            "CPU times: user 66.2 ms, sys: 10.4 ms, total: 76.6 ms\n",
            "Wall time: 374 ms\n"
          ]
        },
        {
          "output_type": "execute_result",
          "data": {
            "text/plain": [
              "             Termination\n",
              "TimeControl             \n",
              "Bullet           1871279\n",
              "Blitz            4204736\n",
              "Classical         261979\n",
              "Rapid            3628779"
            ],
            "text/html": [
              "<div>\n",
              "<style scoped>\n",
              "    .dataframe tbody tr th:only-of-type {\n",
              "        vertical-align: middle;\n",
              "    }\n",
              "\n",
              "    .dataframe tbody tr th {\n",
              "        vertical-align: top;\n",
              "    }\n",
              "\n",
              "    .dataframe thead th {\n",
              "        text-align: right;\n",
              "    }\n",
              "</style>\n",
              "<table border=\"1\" class=\"dataframe\">\n",
              "  <thead>\n",
              "    <tr style=\"text-align: right;\">\n",
              "      <th></th>\n",
              "      <th>Termination</th>\n",
              "    </tr>\n",
              "    <tr>\n",
              "      <th>TimeControl</th>\n",
              "      <th></th>\n",
              "    </tr>\n",
              "  </thead>\n",
              "  <tbody>\n",
              "    <tr>\n",
              "      <th>Bullet</th>\n",
              "      <td>1871279</td>\n",
              "    </tr>\n",
              "    <tr>\n",
              "      <th>Blitz</th>\n",
              "      <td>4204736</td>\n",
              "    </tr>\n",
              "    <tr>\n",
              "      <th>Classical</th>\n",
              "      <td>261979</td>\n",
              "    </tr>\n",
              "    <tr>\n",
              "      <th>Rapid</th>\n",
              "      <td>3628779</td>\n",
              "    </tr>\n",
              "  </tbody>\n",
              "</table>\n",
              "</div>"
            ]
          },
          "metadata": {},
          "execution_count": 48
        }
      ],
      "source": [
        "%%time\n",
        "newkdf = kdf[kdf.Termination == 'Normal']\n",
        "newkdf[['Termination','TimeControl']].groupby('TimeControl').count()"
      ]
    },
    {
      "cell_type": "markdown",
      "metadata": {
        "id": "p4CcVO1TVJJ-"
      },
      "source": [
        "#### Q4: Which game did the lower-rated player win against a higher-rated opponent whose elo difference was the greatest?"
      ]
    },
    {
      "cell_type": "markdown",
      "metadata": {
        "id": "mgkjXcGx2epE"
      },
      "source": [
        "**Pandas**\n"
      ]
    },
    {
      "cell_type": "code",
      "execution_count": 49,
      "metadata": {
        "id": "Wa96BGX1VJJ-",
        "colab": {
          "base_uri": "https://localhost:8080/"
        },
        "outputId": "a1ee597f-90ac-4dd8-9811-46790eb516a2"
      },
      "outputs": [
        {
          "output_type": "execute_result",
          "data": {
            "text/plain": [
              "Difference                            1331\n",
              "Site          https://lichess.org/o9DnmkC1\n",
              "Name: 5086669, dtype: object"
            ]
          },
          "metadata": {},
          "execution_count": 49
        }
      ],
      "source": [
        "new_pdf = pdf[((pdf['WhiteElo']-pdf['BlackElo']>=400)&(pdf['Winner'] == 'Black'))|((pdf['WhiteElo']-pdf['BlackElo']<=-400)&(pdf['Winner'] == 'White'))][['WhiteElo','BlackElo','Site']]\n",
        "new_pdf['Difference'] = (new_pdf['WhiteElo']-new_pdf['BlackElo']).abs()\n",
        "new_pdf[['Difference','Site']].loc[new_pdf['Difference'].idxmax()]"
      ]
    },
    {
      "cell_type": "markdown",
      "metadata": {
        "id": "-NszpoXK2ikt"
      },
      "source": [
        "**Vaex**"
      ]
    },
    {
      "cell_type": "code",
      "execution_count": 59,
      "metadata": {
        "id": "odvn2Qsw2HRW",
        "colab": {
          "base_uri": "https://localhost:8080/"
        },
        "outputId": "aba09f9e-1e7f-44b5-fa64-d5d06b62ea78"
      },
      "outputs": [
        {
          "output_type": "execute_result",
          "data": {
            "text/plain": [
              "array(1331)"
            ]
          },
          "metadata": {},
          "execution_count": 59
        }
      ],
      "source": [
        "new_vdf = vdf[((vdf['WhiteElo']-vdf['BlackElo']>=400)&(vdf['Winner'] == 'Black'))|((vdf['WhiteElo']-vdf['BlackElo']<=-400)&(vdf['Winner'] == 'White'))][['WhiteElo','BlackElo','Site']]\n",
        "new_vdf['Difference'] = (new_vdf['WhiteElo']-new_vdf['BlackElo']).abs()\n",
        "new_vdf[['Difference','Site']].max('Difference')"
      ]
    },
    {
      "cell_type": "markdown",
      "metadata": {
        "id": "6Ye1I2lD2m9H"
      },
      "source": [
        "**Koalas**"
      ]
    },
    {
      "cell_type": "code",
      "execution_count": 51,
      "metadata": {
        "id": "JfWasWvZ2HVN",
        "colab": {
          "base_uri": "https://localhost:8080/"
        },
        "outputId": "81773465-59fb-43c5-d730-d9a611ab9a44"
      },
      "outputs": [
        {
          "output_type": "execute_result",
          "data": {
            "text/plain": [
              "Difference                            1331\n",
              "Site          https://lichess.org/o9DnmkC1\n",
              "Name: 5086669, dtype: object"
            ]
          },
          "metadata": {},
          "execution_count": 51
        }
      ],
      "source": [
        "new_kdf = kdf[((kdf['WhiteElo']-kdf['BlackElo']>=400)&(kdf['Winner'] == 'Black'))|((kdf['WhiteElo']-kdf['BlackElo']<=-400)&(kdf['Winner'] == 'White'))][['WhiteElo','BlackElo','Site']]\n",
        "new_kdf['Difference'] = (new_kdf['WhiteElo']-new_kdf['BlackElo']).abs()\n",
        "new_kdf[['Difference','Site']].loc[new_kdf['Difference'].idxmax()]"
      ]
    },
    {
      "cell_type": "markdown",
      "metadata": {
        "id": "uFuZBqX1VJJ_"
      },
      "source": [
        "#### Q5: In what time control is it easiest to defeat a higher-rated opponent?"
      ]
    },
    {
      "cell_type": "markdown",
      "metadata": {
        "id": "E6GQ7jiG2fBz"
      },
      "source": [
        "**Pandas**\n"
      ]
    },
    {
      "cell_type": "code",
      "execution_count": null,
      "metadata": {
        "id": "0XCOkgIHVJJ_",
        "colab": {
          "base_uri": "https://localhost:8080/"
        },
        "outputId": "97c0b459-1a0d-4265-cf15-0145296d0794"
      },
      "outputs": [
        {
          "output_type": "stream",
          "name": "stdout",
          "text": [
            "CPU times: user 68.5 ms, sys: 2.76 ms, total: 71.2 ms\n",
            "Wall time: 90.6 ms\n"
          ]
        },
        {
          "output_type": "execute_result",
          "data": {
            "text/plain": [
              "TimeControl  TimeControl\n",
              "Blitz        Blitz           9.321121\n",
              "Bullet       Bullet          8.248378\n",
              "Classical    Classical       7.843137\n",
              "Rapid        Rapid          10.747051\n",
              "Name: TimeControl, dtype: float64"
            ]
          },
          "metadata": {},
          "execution_count": 51
        }
      ],
      "source": [
        "%%time\n",
        "games_p = pdf[(pdf['WhiteElo']-pdf['BlackElo']>=400)|(pdf['WhiteElo']-pdf['BlackElo']<=-400)].groupby('TimeControl')['TimeControl'].value_counts()\n",
        "win_p = pdf[((pdf['WhiteElo']-pdf['BlackElo']>=400)&(pdf['Winner'] == 'Black'))|((pdf['WhiteElo']-pdf['BlackElo']<=-400)&(pdf['Winner'] == 'White'))].groupby('TimeControl')['TimeControl'].value_counts()\n",
        "\n",
        "win_p/games_p*100"
      ]
    },
    {
      "cell_type": "markdown",
      "metadata": {
        "id": "1-ragaSS2pcs"
      },
      "source": [
        "**Vaex**"
      ]
    },
    {
      "cell_type": "code",
      "execution_count": 53,
      "metadata": {
        "id": "xZWIg8jJVJJ_",
        "colab": {
          "base_uri": "https://localhost:8080/",
          "height": 151
        },
        "outputId": "fb4b6c06-358e-4dfd-c287-7a4ffb444124"
      },
      "outputs": [
        {
          "output_type": "error",
          "ename": "TypeError",
          "evalue": "ignored",
          "traceback": [
            "\u001b[0;31m---------------------------------------------------------------------------\u001b[0m",
            "\u001b[0;31mTypeError\u001b[0m                                 Traceback (most recent call last)",
            "\u001b[0;32m<timed exec>\u001b[0m in \u001b[0;36m<module>\u001b[0;34m\u001b[0m\n",
            "\u001b[0;31mTypeError\u001b[0m: unsupported operand type(s) for /: 'DataFrameLocal' and 'DataFrameLocal'"
          ]
        }
      ],
      "source": [
        "%%time\n",
        "games_v = vdf[(vdf['WhiteElo']-vdf['BlackElo']>=400)|(vdf['WhiteElo']-vdf['BlackElo']<=-400)].groupby('TimeControl', agg='count')\n",
        "win_v = vdf[((vdf['WhiteElo']-vdf['BlackElo']>=400)&(vdf['Winner'] == 'Black'))|((vdf['WhiteElo']-vdf['BlackElo']<=-400)&(vdf['Winner'] == 'White'))].groupby('TimeControl', agg='count')\n",
        "\n",
        "win_v/games_v*100"
      ]
    },
    {
      "cell_type": "markdown",
      "metadata": {
        "id": "4-l4mf3J2n0q"
      },
      "source": [
        "**Koalas**"
      ]
    },
    {
      "cell_type": "code",
      "execution_count": null,
      "metadata": {
        "id": "MMExemAYVJJ_",
        "colab": {
          "base_uri": "https://localhost:8080/",
          "height": 414
        },
        "outputId": "4baaa0cd-ae5a-4fe6-d8e5-e24b1be7205b"
      },
      "outputs": [
        {
          "output_type": "error",
          "ename": "ValueError",
          "evalue": "ignored",
          "traceback": [
            "\u001b[0;31m---------------------------------------------------------------------------\u001b[0m",
            "\u001b[0;31mValueError\u001b[0m                                Traceback (most recent call last)",
            "\u001b[0;32m<timed exec>\u001b[0m in \u001b[0;36m<module>\u001b[0;34m\u001b[0m\n",
            "\u001b[0;32m/usr/local/lib/python3.8/dist-packages/databricks/koalas/base.py\u001b[0m in \u001b[0;36m__truediv__\u001b[0;34m(self, other)\u001b[0m\n\u001b[1;32m    452\u001b[0m             )\n\u001b[1;32m    453\u001b[0m \u001b[0;34m\u001b[0m\u001b[0m\n\u001b[0;32m--> 454\u001b[0;31m         \u001b[0;32mreturn\u001b[0m \u001b[0mnumpy_column_op\u001b[0m\u001b[0;34m(\u001b[0m\u001b[0mtruediv\u001b[0m\u001b[0;34m)\u001b[0m\u001b[0;34m(\u001b[0m\u001b[0mself\u001b[0m\u001b[0;34m,\u001b[0m \u001b[0mother\u001b[0m\u001b[0;34m)\u001b[0m\u001b[0;34m\u001b[0m\u001b[0;34m\u001b[0m\u001b[0m\n\u001b[0m\u001b[1;32m    455\u001b[0m \u001b[0;34m\u001b[0m\u001b[0m\n\u001b[1;32m    456\u001b[0m     \u001b[0;32mdef\u001b[0m \u001b[0m__mod__\u001b[0m\u001b[0;34m(\u001b[0m\u001b[0mself\u001b[0m\u001b[0;34m,\u001b[0m \u001b[0mother\u001b[0m\u001b[0;34m)\u001b[0m \u001b[0;34m->\u001b[0m \u001b[0mUnion\u001b[0m\u001b[0;34m[\u001b[0m\u001b[0;34m\"Series\"\u001b[0m\u001b[0;34m,\u001b[0m \u001b[0;34m\"Index\"\u001b[0m\u001b[0;34m]\u001b[0m\u001b[0;34m:\u001b[0m\u001b[0;34m\u001b[0m\u001b[0;34m\u001b[0m\u001b[0m\n",
            "\u001b[0;32m/usr/local/lib/python3.8/dist-packages/databricks/koalas/base.py\u001b[0m in \u001b[0;36mwrapper\u001b[0;34m(self, *args)\u001b[0m\n\u001b[1;32m    276\u001b[0m             \u001b[0;32melse\u001b[0m\u001b[0;34m:\u001b[0m\u001b[0;34m\u001b[0m\u001b[0;34m\u001b[0m\u001b[0m\n\u001b[1;32m    277\u001b[0m                 \u001b[0mnew_args\u001b[0m\u001b[0;34m.\u001b[0m\u001b[0mappend\u001b[0m\u001b[0;34m(\u001b[0m\u001b[0marg\u001b[0m\u001b[0;34m)\u001b[0m\u001b[0;34m\u001b[0m\u001b[0;34m\u001b[0m\u001b[0m\n\u001b[0;32m--> 278\u001b[0;31m         \u001b[0;32mreturn\u001b[0m \u001b[0mcolumn_op\u001b[0m\u001b[0;34m(\u001b[0m\u001b[0mf\u001b[0m\u001b[0;34m)\u001b[0m\u001b[0;34m(\u001b[0m\u001b[0mself\u001b[0m\u001b[0;34m,\u001b[0m \u001b[0;34m*\u001b[0m\u001b[0mnew_args\u001b[0m\u001b[0;34m)\u001b[0m\u001b[0;34m\u001b[0m\u001b[0;34m\u001b[0m\u001b[0m\n\u001b[0m\u001b[1;32m    279\u001b[0m \u001b[0;34m\u001b[0m\u001b[0m\n\u001b[1;32m    280\u001b[0m     \u001b[0;32mreturn\u001b[0m \u001b[0mwrapper\u001b[0m\u001b[0;34m\u001b[0m\u001b[0;34m\u001b[0m\u001b[0m\n",
            "\u001b[0;32m/usr/local/lib/python3.8/dist-packages/databricks/koalas/base.py\u001b[0m in \u001b[0;36mwrapper\u001b[0;34m(self, *args)\u001b[0m\n\u001b[1;32m    254\u001b[0m             \u001b[0mindex_ops\u001b[0m \u001b[0;34m=\u001b[0m \u001b[0malign_diff_index_ops\u001b[0m\u001b[0;34m(\u001b[0m\u001b[0mf\u001b[0m\u001b[0;34m,\u001b[0m \u001b[0mself\u001b[0m\u001b[0;34m,\u001b[0m \u001b[0;34m*\u001b[0m\u001b[0margs\u001b[0m\u001b[0;34m)\u001b[0m\u001b[0;34m\u001b[0m\u001b[0;34m\u001b[0m\u001b[0m\n\u001b[1;32m    255\u001b[0m         \u001b[0;32melse\u001b[0m\u001b[0;34m:\u001b[0m\u001b[0;34m\u001b[0m\u001b[0;34m\u001b[0m\u001b[0m\n\u001b[0;32m--> 256\u001b[0;31m             \u001b[0;32mraise\u001b[0m \u001b[0mValueError\u001b[0m\u001b[0;34m(\u001b[0m\u001b[0mERROR_MESSAGE_CANNOT_COMBINE\u001b[0m\u001b[0;34m)\u001b[0m\u001b[0;34m\u001b[0m\u001b[0;34m\u001b[0m\u001b[0m\n\u001b[0m\u001b[1;32m    257\u001b[0m \u001b[0;34m\u001b[0m\u001b[0m\n\u001b[1;32m    258\u001b[0m         \u001b[0;32mif\u001b[0m \u001b[0;32mnot\u001b[0m \u001b[0mall\u001b[0m\u001b[0;34m(\u001b[0m\u001b[0mself\u001b[0m\u001b[0;34m.\u001b[0m\u001b[0mname\u001b[0m \u001b[0;34m==\u001b[0m \u001b[0mcol\u001b[0m\u001b[0;34m.\u001b[0m\u001b[0mname\u001b[0m \u001b[0;32mfor\u001b[0m \u001b[0mcol\u001b[0m \u001b[0;32min\u001b[0m \u001b[0mcols\u001b[0m\u001b[0;34m)\u001b[0m\u001b[0;34m:\u001b[0m\u001b[0;34m\u001b[0m\u001b[0;34m\u001b[0m\u001b[0m\n",
            "\u001b[0;31mValueError\u001b[0m: Cannot combine the series or dataframe because it comes from a different dataframe. In order to allow this operation, enable 'compute.ops_on_diff_frames' option."
          ]
        }
      ],
      "source": [
        "%%time\n",
        "games_k = kdf[(kdf['WhiteElo']-kdf['BlackElo']>=400)|(kdf['WhiteElo']-kdf['BlackElo']<=-400)].groupby('TimeControl')['TimeControl'].value_counts()\n",
        "win_k = kdf[((kdf['WhiteElo']-kdf['BlackElo']>=400)&(kdf['Winner'] == 'Black'))|((kdf['WhiteElo']-kdf['BlackElo']<=-400)&(kdf['Winner'] == 'White'))].groupby('TimeControl')['TimeControl'].value_counts()\n",
        "\n",
        "win_k/games_k*100"
      ]
    },
    {
      "cell_type": "markdown",
      "metadata": {
        "id": "VxoO755tVJJ_"
      },
      "source": [
        "## Inferences and Conclusion\n",
        "\n",
        "In conclusion, this study aimed to understand patterns and trends in the game of chess through Exploratory Data Analysis. Using a dataset of games from 2013 to 2014, we performed a comprehensive analysis of player ratings, game outcomes, and move sequences. Our findings showed that player ratings have a strong impact on game outcomes, with higher rated players having a higher win rate. We also observed that certain moves and openings are more frequent in higher rated games, indicating that certain strategies may be more effective at higher levels of play.\n",
        "\n",
        "The results of this study have important implications for the future of chess analysis and can be used to inform the development of new training and evaluation tools. However, it is important to note that the results are limited by the time period and quality of the data, and future studies could benefit from incorporating more recent and comprehensive data. Additionally, our analysis was limited to a relatively small number of variables, and future studies could benefit from exploring other aspects of the game, such as player behavior, time management, and psychological factors."
      ]
    },
    {
      "cell_type": "markdown",
      "metadata": {
        "id": "xfuc6sJgVJKA"
      },
      "source": [
        "## References and Future Work\n",
        "\n",
        "Overall, this project highlights the value of Exploratory Data Analysis in the analysis of complex systems, and the potential for data to inform our understanding of the game of chess. The results of this study lay the foundation for future research aimed at improving the quality and effectiveness of chess analysis.\n",
        "\n",
        "[Vaex Tutorial](https://vaex.io/docs/tutorials.html) <br/>\n",
        "[Koalas](https://koalas.readthedocs.io/en/latest/) <br/>\n",
        "[Vaex Visualization](https://vaex.readthedocs.io/en/latest/_modules/vaex/viz.html) <br/>\n",
        "[Vaex PyPI](https://pypi.org/project/vaex/ps) <br/>\n",
        "[Hands-On Guide to Vaex](https://analyticsindiamag.com/hands-on-guide-to-vaex-tool-to-overcome-drawbacks-of-pandas/) <br/>\n",
        "[Introduction to Vaex in Python](https://www.geeksforgeeks.org/introduction-to-vaex-in-python/)"
      ]
    },
    {
      "cell_type": "code",
      "source": [],
      "metadata": {
        "id": "NphdnM0AKPwR"
      },
      "execution_count": null,
      "outputs": []
    }
  ],
  "metadata": {
    "colab": {
      "provenance": []
    },
    "kernelspec": {
      "display_name": "Python 3",
      "language": "python",
      "name": "python3"
    },
    "language_info": {
      "codemirror_mode": {
        "name": "ipython",
        "version": 3
      },
      "file_extension": ".py",
      "mimetype": "text/x-python",
      "name": "python",
      "nbconvert_exporter": "python",
      "pygments_lexer": "ipython3",
      "version": "3.8.5"
    }
  },
  "nbformat": 4,
  "nbformat_minor": 0
}
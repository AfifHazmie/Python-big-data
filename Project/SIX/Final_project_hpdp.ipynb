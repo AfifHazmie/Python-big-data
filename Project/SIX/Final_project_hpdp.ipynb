{
  "cells": [
    {
      "cell_type": "markdown",
      "metadata": {
        "id": "view-in-github",
        "colab_type": "text"
      },
      "source": [
        "<a href=\"https://colab.research.google.com/github/drshahizan/Python-big-data/blob/main/Project/SIX/Final_project_hpdp.ipynb\" target=\"_parent\"><img src=\"https://colab.research.google.com/assets/colab-badge.svg\" alt=\"Open In Colab\"/></a>"
      ]
    },
    {
      "cell_type": "markdown",
      "source": [
        "# **NYC Parking Ticket Analysis Using 3 Different Libraries.**"
      ],
      "metadata": {
        "id": "8HfAIXrNdOBt"
      }
    },
    {
      "cell_type": "markdown",
      "metadata": {
        "id": "KZa3Yh9yHtj0"
      },
      "source": [
        "**Group Members:**\n",
        "\n",
        "<table>\n",
        "  <tr>\n",
        "    <th>Name</th>\n",
        "    <th>Matric</th>\n",
        "  </tr>\n",
        "  <tr>\n",
        "    <th>LEE MING QI</th>\n",
        "    <th>A20EC0064</th>\n",
        "  </tr>\n",
        "\n",
        "  <tr>\n",
        "    <th>AMIRAH RAIHANAH BINTI ABDUL RAHIM</th>\n",
        "    <th>A20EC0182</th>\n",
        "  </tr>\n",
        "    <tr>\n",
        "    <th>SINGTHAI SRISOI</th>\n",
        "    <th>A20EC0147</th>\n",
        "  </tr>\n",
        "    <tr>\n",
        "    <th>NUR IRDINA ALIAH BINTI ABDUL WAHAB</th>\n",
        "    <th>A20EC0115</th>\n",
        "  </tr>\n",
        "</table>\n"
      ]
    },
    {
      "cell_type": "markdown",
      "metadata": {
        "id": "zoYgPcVS0awB"
      },
      "source": [
        "**About Project:**\n",
        "\n",
        "In this project, we will analyze NYC Parking Ticket dataset by performing EDA using 3 different libraries. The libraries that will be use are Dask, Pyspark and Koalas.The dataset used can be retrieve from [Kaggle](https://www.kaggle.com/datasets/new-york-city/nyc-parking-tickets). This is a large dataset that contains 10 million rows and 51 columns with the size of 2GB. We will show each operation by using the 3 libraries stated and provide time taken needed to perform it. This will help you to evaluate which library can do it more effectively. \n",
        "This project is divided to 4 parts;\n",
        "\n",
        "\n",
        "1.   Downloading Dataset\n",
        "2.   Data Cleaning\n",
        "3.   Data Visualization\n",
        "4.   Data Questions and Answers\n",
        "5.   Findings and Analysis\n",
        "\n",
        "\n"
      ]
    },
    {
      "cell_type": "markdown",
      "metadata": {
        "id": "l1auve99Tdxz"
      },
      "source": [
        "\n",
        "\n",
        "---\n",
        "\n",
        "\n",
        "## **`Downloading the Dataset`**\n",
        "\n",
        "The NYC Department of Finance collects data on every parking ticket issued in NYC. This data is made publicly available to aid in ticket resolution and to guide policymakers. Now, we will perform EDA by first downloading the dataset from Kaggle [here](https://www.kaggle.com/datasets/new-york-city/nyc-parking-tickets).\n",
        "\n",
        "Download steps:\n",
        "1. Open [dataset link](https://www.kaggle.com/datasets/new-york-city/nyc-parking-tickets) that will be directed to the NYC Parking Ticket dataset.\n",
        "2. Download the dataset.\n",
        "3. Upload dataset into Google Drive.\n",
        "4. Get link of the dataset file in Google Drive.\n",
        "5. Import the dataset retrieve from Google Drive."
      ]
    },
    {
      "cell_type": "code",
      "execution_count": null,
      "metadata": {
        "id": "Irz-XIEctley"
      },
      "outputs": [],
      "source": [
        "# Pull dataset from google drive\n",
        "!pip install -U -q PyDrive\n",
        "from pydrive.auth import GoogleAuth\n",
        "from pydrive.drive import GoogleDrive\n",
        "from google.colab import auth\n",
        "from oauth2client.client import GoogleCredentials\n",
        "\n",
        "# Authenticate and create the PyDrive client.\n",
        "auth.authenticate_user()\n",
        "gauth = GoogleAuth()\n",
        "gauth.credentials = GoogleCredentials.get_application_default()\n",
        "drive = GoogleDrive(gauth)\n",
        "link = 'https://drive.google.com/file/d/1TSEOGseOzszVn342YESVHk7LyjX1Qmbd/view?usp=sharing'\n",
        "# to get the id part of the file\n",
        "id = link.split(\"/\")[-2]\n",
        " \n",
        "downloaded = drive.CreateFile({'id':id})\n",
        "downloaded.GetContentFile('NYC_Parking_Ticket.csv') "
      ]
    },
    {
      "cell_type": "markdown",
      "source": [
        "\n",
        "\n",
        "---\n",
        "\n",
        "# **`Read Dataset Into Dataframe Of Each Library`**\n",
        "Steps:\n",
        "1. Install library using pip.\n",
        "2. Import the library installed.\n",
        "3. Read the csv file into dataframe."
      ],
      "metadata": {
        "id": "8scOwO3NfNjs"
      }
    },
    {
      "cell_type": "code",
      "execution_count": null,
      "metadata": {
        "id": "eRdQNGqdhzE5"
      },
      "outputs": [],
      "source": [
        "import pandas as pd\n",
        "import numpy as np"
      ]
    },
    {
      "cell_type": "markdown",
      "source": [
        "**1. Dask**"
      ],
      "metadata": {
        "id": "8gAN8OgXfyx-"
      }
    },
    {
      "cell_type": "code",
      "execution_count": null,
      "metadata": {
        "colab": {
          "base_uri": "https://localhost:8080/"
        },
        "id": "LP0enrrlursp",
        "outputId": "66077c32-18a1-411a-ed42-09b180553c81"
      },
      "outputs": [
        {
          "output_type": "stream",
          "name": "stdout",
          "text": [
            "Looking in indexes: https://pypi.org/simple, https://us-python.pkg.dev/colab-wheels/public/simple/\n",
            "Requirement already satisfied: dask[complete] in /usr/local/lib/python3.8/dist-packages (2022.2.1)\n",
            "Requirement already satisfied: cloudpickle>=1.1.1 in /usr/local/lib/python3.8/dist-packages (from dask[complete]) (2.2.0)\n",
            "Requirement already satisfied: toolz>=0.8.2 in /usr/local/lib/python3.8/dist-packages (from dask[complete]) (0.12.0)\n",
            "Requirement already satisfied: fsspec>=0.6.0 in /usr/local/lib/python3.8/dist-packages (from dask[complete]) (2022.11.0)\n",
            "Requirement already satisfied: pyyaml>=5.3.1 in /usr/local/lib/python3.8/dist-packages (from dask[complete]) (6.0)\n",
            "Requirement already satisfied: partd>=0.3.10 in /usr/local/lib/python3.8/dist-packages (from dask[complete]) (1.3.0)\n",
            "Requirement already satisfied: packaging>=20.0 in /usr/local/lib/python3.8/dist-packages (from dask[complete]) (21.3)\n",
            "Requirement already satisfied: bokeh>=2.1.1 in /usr/local/lib/python3.8/dist-packages (from dask[complete]) (2.3.3)\n",
            "Requirement already satisfied: pandas>=1.0 in /usr/local/lib/python3.8/dist-packages (from dask[complete]) (1.3.5)\n",
            "Requirement already satisfied: numpy>=1.18 in /usr/local/lib/python3.8/dist-packages (from dask[complete]) (1.21.6)\n",
            "Requirement already satisfied: jinja2 in /usr/local/lib/python3.8/dist-packages (from dask[complete]) (2.11.3)\n",
            "Requirement already satisfied: distributed==2022.02.1 in /usr/local/lib/python3.8/dist-packages (from dask[complete]) (2022.2.1)\n",
            "Requirement already satisfied: msgpack>=0.6.0 in /usr/local/lib/python3.8/dist-packages (from distributed==2022.02.1->dask[complete]) (1.0.4)\n",
            "Requirement already satisfied: tornado>=6.0.3 in /usr/local/lib/python3.8/dist-packages (from distributed==2022.02.1->dask[complete]) (6.0.4)\n",
            "Requirement already satisfied: tblib>=1.6.0 in /usr/local/lib/python3.8/dist-packages (from distributed==2022.02.1->dask[complete]) (1.7.0)\n",
            "Requirement already satisfied: psutil>=5.0 in /usr/local/lib/python3.8/dist-packages (from distributed==2022.02.1->dask[complete]) (5.4.8)\n",
            "Requirement already satisfied: click>=6.6 in /usr/local/lib/python3.8/dist-packages (from distributed==2022.02.1->dask[complete]) (7.1.2)\n",
            "Requirement already satisfied: setuptools in /usr/local/lib/python3.8/dist-packages (from distributed==2022.02.1->dask[complete]) (57.4.0)\n",
            "Requirement already satisfied: zict>=0.1.3 in /usr/local/lib/python3.8/dist-packages (from distributed==2022.02.1->dask[complete]) (2.2.0)\n",
            "Requirement already satisfied: sortedcontainers!=2.0.0,!=2.0.1 in /usr/local/lib/python3.8/dist-packages (from distributed==2022.02.1->dask[complete]) (2.4.0)\n",
            "Requirement already satisfied: typing-extensions>=3.7.4 in /usr/local/lib/python3.8/dist-packages (from bokeh>=2.1.1->dask[complete]) (4.4.0)\n",
            "Requirement already satisfied: python-dateutil>=2.1 in /usr/local/lib/python3.8/dist-packages (from bokeh>=2.1.1->dask[complete]) (2.8.2)\n",
            "Requirement already satisfied: pillow>=7.1.0 in /usr/local/lib/python3.8/dist-packages (from bokeh>=2.1.1->dask[complete]) (7.1.2)\n",
            "Requirement already satisfied: MarkupSafe>=0.23 in /usr/local/lib/python3.8/dist-packages (from jinja2->dask[complete]) (2.0.1)\n",
            "Requirement already satisfied: pyparsing!=3.0.5,>=2.0.2 in /usr/local/lib/python3.8/dist-packages (from packaging>=20.0->dask[complete]) (3.0.9)\n",
            "Requirement already satisfied: pytz>=2017.3 in /usr/local/lib/python3.8/dist-packages (from pandas>=1.0->dask[complete]) (2022.7)\n",
            "Requirement already satisfied: locket in /usr/local/lib/python3.8/dist-packages (from partd>=0.3.10->dask[complete]) (1.0.0)\n",
            "Requirement already satisfied: six>=1.5 in /usr/local/lib/python3.8/dist-packages (from python-dateutil>=2.1->bokeh>=2.1.1->dask[complete]) (1.15.0)\n",
            "Requirement already satisfied: heapdict in /usr/local/lib/python3.8/dist-packages (from zict>=0.1.3->distributed==2022.02.1->dask[complete]) (1.0.1)\n"
          ]
        }
      ],
      "source": [
        "!python -m pip install \"dask[complete]\" # Install everything"
      ]
    },
    {
      "cell_type": "code",
      "execution_count": null,
      "metadata": {
        "id": "lPD3kUWlKaSi"
      },
      "outputs": [],
      "source": [
        " #specify dtypes to prevent errors because the dataset is messy.\n",
        " dtypes={'Date First Observed': str,\n",
        "    'Days Parking In Effect    ': str,\n",
        "    'Double Parking Violation': str,\n",
        "    'Feet From Curb': np.float32,\n",
        "    'From Hours In Effect': str,\n",
        "    'House Number': str,\n",
        "    'Hydrant Violation': str,\n",
        "    'Intersecting Street': str,\n",
        "    'Issue Date': str,\n",
        "    'Issuer Code': np.float32,\n",
        "    'Issuer Command': str,\n",
        "    'Issuer Precinct': np.float32,\n",
        "    'Issuer Squad': str,\n",
        "    'Issuing Agency': str,\n",
        "    'Law Section': np.float32,\n",
        "    'Meter Number': str,\n",
        "    'No Standing or Stopping Violation': str,\n",
        "    'Plate ID': str,\n",
        "    'Plate Type': str,\n",
        "    'Registration State': str,\n",
        "    'Street Code1': np.int32,\n",
        "    'Street Code2': np.int32,\n",
        "    'Street Code3': np.int32,\n",
        "    'Street Name': str,\n",
        "    'Sub Division': str,\n",
        "    'Summons Number': np.int32,\n",
        "    'Time First Observed': str,\n",
        "    'To Hours In Effect': str,\n",
        "    'Unregistered Vehicle?': str,\n",
        "    'Vehicle Body Type': str,\n",
        "    'Vehicle Color': str,\n",
        "    'Vehicle Expiration Date': str,\n",
        "    'Vehicle Make': str,\n",
        "    'Vehicle Year': np.float32,\n",
        "    'Violation Code': np.int16,\n",
        "    'Violation County': str,\n",
        "    'Violation Description': str,\n",
        "    'Violation In Front Of Or Opposite': str,\n",
        "    'Violation Legal Code': str,\n",
        "    'Violation Location': str,\n",
        "    'Violation Post Code': str,\n",
        "    'Violation Precinct': np.float32,\n",
        "    'Violation Time': str\n",
        "}"
      ]
    },
    {
      "cell_type": "code",
      "execution_count": null,
      "metadata": {
        "id": "83QjBRMyKUV_"
      },
      "outputs": [],
      "source": [
        "import dask.dataframe as dd"
      ]
    },
    {
      "cell_type": "code",
      "execution_count": null,
      "metadata": {
        "colab": {
          "base_uri": "https://localhost:8080/",
          "height": 369
        },
        "id": "rrtwlyqijIIK",
        "outputId": "97147ff5-6698-476b-e875-d5cf67ac0807"
      },
      "outputs": [
        {
          "output_type": "stream",
          "name": "stdout",
          "text": [
            "CPU times: user 1.58 s, sys: 146 ms, total: 1.73 s\n",
            "Wall time: 1.79 s\n"
          ]
        },
        {
          "output_type": "execute_result",
          "data": {
            "text/plain": [
              "   Summons Number Plate ID Registration State Plate Type  Issue Date  \\\n",
              "0      1283294138  GBB9093                 NY        PAS  08/04/2013   \n",
              "1      1283294151  62416MB                 NY        COM  08/04/2013   \n",
              "2      1283294163  78755JZ                 NY        COM  08/05/2013   \n",
              "3      1283294175  63009MA                 NY        COM  08/05/2013   \n",
              "4      1283294187  91648MC                 NY        COM  08/08/2013   \n",
              "\n",
              "   Violation Code Vehicle Body Type Vehicle Make Issuing Agency  Street Code1  \\\n",
              "0              46              SUBN         AUDI              P         37250   \n",
              "1              46               VAN         FORD              P         37290   \n",
              "2              46               P-U        CHEVR              P         37030   \n",
              "3              46               VAN         FORD              P         37270   \n",
              "4              41              TRLR          GMC              P         37240   \n",
              "\n",
              "   ...  Hydrant Violation  Double Parking Violation Latitude Longitude  \\\n",
              "0  ...                NaN                       NaN      NaN       NaN   \n",
              "1  ...                NaN                       NaN      NaN       NaN   \n",
              "2  ...                NaN                       NaN      NaN       NaN   \n",
              "3  ...                NaN                       NaN      NaN       NaN   \n",
              "4  ...                NaN                       NaN      NaN       NaN   \n",
              "\n",
              "   Community Board  Community Council   Census Tract BIN BBL NTA  \n",
              "0              NaN                 NaN           NaN NaN NaN NaN  \n",
              "1              NaN                 NaN           NaN NaN NaN NaN  \n",
              "2              NaN                 NaN           NaN NaN NaN NaN  \n",
              "3              NaN                 NaN           NaN NaN NaN NaN  \n",
              "4              NaN                 NaN           NaN NaN NaN NaN  \n",
              "\n",
              "[5 rows x 51 columns]"
            ],
            "text/html": [
              "\n",
              "  <div id=\"df-488cd3cc-a914-4dbe-9a6c-8ebdb3c68cdb\">\n",
              "    <div class=\"colab-df-container\">\n",
              "      <div>\n",
              "<style scoped>\n",
              "    .dataframe tbody tr th:only-of-type {\n",
              "        vertical-align: middle;\n",
              "    }\n",
              "\n",
              "    .dataframe tbody tr th {\n",
              "        vertical-align: top;\n",
              "    }\n",
              "\n",
              "    .dataframe thead th {\n",
              "        text-align: right;\n",
              "    }\n",
              "</style>\n",
              "<table border=\"1\" class=\"dataframe\">\n",
              "  <thead>\n",
              "    <tr style=\"text-align: right;\">\n",
              "      <th></th>\n",
              "      <th>Summons Number</th>\n",
              "      <th>Plate ID</th>\n",
              "      <th>Registration State</th>\n",
              "      <th>Plate Type</th>\n",
              "      <th>Issue Date</th>\n",
              "      <th>Violation Code</th>\n",
              "      <th>Vehicle Body Type</th>\n",
              "      <th>Vehicle Make</th>\n",
              "      <th>Issuing Agency</th>\n",
              "      <th>Street Code1</th>\n",
              "      <th>...</th>\n",
              "      <th>Hydrant Violation</th>\n",
              "      <th>Double Parking Violation</th>\n",
              "      <th>Latitude</th>\n",
              "      <th>Longitude</th>\n",
              "      <th>Community Board</th>\n",
              "      <th>Community Council</th>\n",
              "      <th>Census Tract</th>\n",
              "      <th>BIN</th>\n",
              "      <th>BBL</th>\n",
              "      <th>NTA</th>\n",
              "    </tr>\n",
              "  </thead>\n",
              "  <tbody>\n",
              "    <tr>\n",
              "      <th>0</th>\n",
              "      <td>1283294138</td>\n",
              "      <td>GBB9093</td>\n",
              "      <td>NY</td>\n",
              "      <td>PAS</td>\n",
              "      <td>08/04/2013</td>\n",
              "      <td>46</td>\n",
              "      <td>SUBN</td>\n",
              "      <td>AUDI</td>\n",
              "      <td>P</td>\n",
              "      <td>37250</td>\n",
              "      <td>...</td>\n",
              "      <td>NaN</td>\n",
              "      <td>NaN</td>\n",
              "      <td>NaN</td>\n",
              "      <td>NaN</td>\n",
              "      <td>NaN</td>\n",
              "      <td>NaN</td>\n",
              "      <td>NaN</td>\n",
              "      <td>NaN</td>\n",
              "      <td>NaN</td>\n",
              "      <td>NaN</td>\n",
              "    </tr>\n",
              "    <tr>\n",
              "      <th>1</th>\n",
              "      <td>1283294151</td>\n",
              "      <td>62416MB</td>\n",
              "      <td>NY</td>\n",
              "      <td>COM</td>\n",
              "      <td>08/04/2013</td>\n",
              "      <td>46</td>\n",
              "      <td>VAN</td>\n",
              "      <td>FORD</td>\n",
              "      <td>P</td>\n",
              "      <td>37290</td>\n",
              "      <td>...</td>\n",
              "      <td>NaN</td>\n",
              "      <td>NaN</td>\n",
              "      <td>NaN</td>\n",
              "      <td>NaN</td>\n",
              "      <td>NaN</td>\n",
              "      <td>NaN</td>\n",
              "      <td>NaN</td>\n",
              "      <td>NaN</td>\n",
              "      <td>NaN</td>\n",
              "      <td>NaN</td>\n",
              "    </tr>\n",
              "    <tr>\n",
              "      <th>2</th>\n",
              "      <td>1283294163</td>\n",
              "      <td>78755JZ</td>\n",
              "      <td>NY</td>\n",
              "      <td>COM</td>\n",
              "      <td>08/05/2013</td>\n",
              "      <td>46</td>\n",
              "      <td>P-U</td>\n",
              "      <td>CHEVR</td>\n",
              "      <td>P</td>\n",
              "      <td>37030</td>\n",
              "      <td>...</td>\n",
              "      <td>NaN</td>\n",
              "      <td>NaN</td>\n",
              "      <td>NaN</td>\n",
              "      <td>NaN</td>\n",
              "      <td>NaN</td>\n",
              "      <td>NaN</td>\n",
              "      <td>NaN</td>\n",
              "      <td>NaN</td>\n",
              "      <td>NaN</td>\n",
              "      <td>NaN</td>\n",
              "    </tr>\n",
              "    <tr>\n",
              "      <th>3</th>\n",
              "      <td>1283294175</td>\n",
              "      <td>63009MA</td>\n",
              "      <td>NY</td>\n",
              "      <td>COM</td>\n",
              "      <td>08/05/2013</td>\n",
              "      <td>46</td>\n",
              "      <td>VAN</td>\n",
              "      <td>FORD</td>\n",
              "      <td>P</td>\n",
              "      <td>37270</td>\n",
              "      <td>...</td>\n",
              "      <td>NaN</td>\n",
              "      <td>NaN</td>\n",
              "      <td>NaN</td>\n",
              "      <td>NaN</td>\n",
              "      <td>NaN</td>\n",
              "      <td>NaN</td>\n",
              "      <td>NaN</td>\n",
              "      <td>NaN</td>\n",
              "      <td>NaN</td>\n",
              "      <td>NaN</td>\n",
              "    </tr>\n",
              "    <tr>\n",
              "      <th>4</th>\n",
              "      <td>1283294187</td>\n",
              "      <td>91648MC</td>\n",
              "      <td>NY</td>\n",
              "      <td>COM</td>\n",
              "      <td>08/08/2013</td>\n",
              "      <td>41</td>\n",
              "      <td>TRLR</td>\n",
              "      <td>GMC</td>\n",
              "      <td>P</td>\n",
              "      <td>37240</td>\n",
              "      <td>...</td>\n",
              "      <td>NaN</td>\n",
              "      <td>NaN</td>\n",
              "      <td>NaN</td>\n",
              "      <td>NaN</td>\n",
              "      <td>NaN</td>\n",
              "      <td>NaN</td>\n",
              "      <td>NaN</td>\n",
              "      <td>NaN</td>\n",
              "      <td>NaN</td>\n",
              "      <td>NaN</td>\n",
              "    </tr>\n",
              "  </tbody>\n",
              "</table>\n",
              "<p>5 rows × 51 columns</p>\n",
              "</div>\n",
              "      <button class=\"colab-df-convert\" onclick=\"convertToInteractive('df-488cd3cc-a914-4dbe-9a6c-8ebdb3c68cdb')\"\n",
              "              title=\"Convert this dataframe to an interactive table.\"\n",
              "              style=\"display:none;\">\n",
              "        \n",
              "  <svg xmlns=\"http://www.w3.org/2000/svg\" height=\"24px\"viewBox=\"0 0 24 24\"\n",
              "       width=\"24px\">\n",
              "    <path d=\"M0 0h24v24H0V0z\" fill=\"none\"/>\n",
              "    <path d=\"M18.56 5.44l.94 2.06.94-2.06 2.06-.94-2.06-.94-.94-2.06-.94 2.06-2.06.94zm-11 1L8.5 8.5l.94-2.06 2.06-.94-2.06-.94L8.5 2.5l-.94 2.06-2.06.94zm10 10l.94 2.06.94-2.06 2.06-.94-2.06-.94-.94-2.06-.94 2.06-2.06.94z\"/><path d=\"M17.41 7.96l-1.37-1.37c-.4-.4-.92-.59-1.43-.59-.52 0-1.04.2-1.43.59L10.3 9.45l-7.72 7.72c-.78.78-.78 2.05 0 2.83L4 21.41c.39.39.9.59 1.41.59.51 0 1.02-.2 1.41-.59l7.78-7.78 2.81-2.81c.8-.78.8-2.07 0-2.86zM5.41 20L4 18.59l7.72-7.72 1.47 1.35L5.41 20z\"/>\n",
              "  </svg>\n",
              "      </button>\n",
              "      \n",
              "  <style>\n",
              "    .colab-df-container {\n",
              "      display:flex;\n",
              "      flex-wrap:wrap;\n",
              "      gap: 12px;\n",
              "    }\n",
              "\n",
              "    .colab-df-convert {\n",
              "      background-color: #E8F0FE;\n",
              "      border: none;\n",
              "      border-radius: 50%;\n",
              "      cursor: pointer;\n",
              "      display: none;\n",
              "      fill: #1967D2;\n",
              "      height: 32px;\n",
              "      padding: 0 0 0 0;\n",
              "      width: 32px;\n",
              "    }\n",
              "\n",
              "    .colab-df-convert:hover {\n",
              "      background-color: #E2EBFA;\n",
              "      box-shadow: 0px 1px 2px rgba(60, 64, 67, 0.3), 0px 1px 3px 1px rgba(60, 64, 67, 0.15);\n",
              "      fill: #174EA6;\n",
              "    }\n",
              "\n",
              "    [theme=dark] .colab-df-convert {\n",
              "      background-color: #3B4455;\n",
              "      fill: #D2E3FC;\n",
              "    }\n",
              "\n",
              "    [theme=dark] .colab-df-convert:hover {\n",
              "      background-color: #434B5C;\n",
              "      box-shadow: 0px 1px 3px 1px rgba(0, 0, 0, 0.15);\n",
              "      filter: drop-shadow(0px 1px 2px rgba(0, 0, 0, 0.3));\n",
              "      fill: #FFFFFF;\n",
              "    }\n",
              "  </style>\n",
              "\n",
              "      <script>\n",
              "        const buttonEl =\n",
              "          document.querySelector('#df-488cd3cc-a914-4dbe-9a6c-8ebdb3c68cdb button.colab-df-convert');\n",
              "        buttonEl.style.display =\n",
              "          google.colab.kernel.accessAllowed ? 'block' : 'none';\n",
              "\n",
              "        async function convertToInteractive(key) {\n",
              "          const element = document.querySelector('#df-488cd3cc-a914-4dbe-9a6c-8ebdb3c68cdb');\n",
              "          const dataTable =\n",
              "            await google.colab.kernel.invokeFunction('convertToInteractive',\n",
              "                                                     [key], {});\n",
              "          if (!dataTable) return;\n",
              "\n",
              "          const docLinkHtml = 'Like what you see? Visit the ' +\n",
              "            '<a target=\"_blank\" href=https://colab.research.google.com/notebooks/data_table.ipynb>data table notebook</a>'\n",
              "            + ' to learn more about interactive tables.';\n",
              "          element.innerHTML = '';\n",
              "          dataTable['output_type'] = 'display_data';\n",
              "          await google.colab.output.renderOutput(dataTable, element);\n",
              "          const docLink = document.createElement('div');\n",
              "          docLink.innerHTML = docLinkHtml;\n",
              "          element.appendChild(docLink);\n",
              "        }\n",
              "      </script>\n",
              "    </div>\n",
              "  </div>\n",
              "  "
            ]
          },
          "metadata": {},
          "execution_count": 6
        }
      ],
      "source": [
        "%%time\n",
        "dfdask = dd.read_csv('NYC_Parking_Ticket.csv',dtype=dtypes)\n",
        "dfdask.head()\n",
        "       "
      ]
    },
    {
      "cell_type": "markdown",
      "source": [
        "**2. PySpark**"
      ],
      "metadata": {
        "id": "oF1rpVAGf9wp"
      }
    },
    {
      "cell_type": "code",
      "execution_count": null,
      "metadata": {
        "colab": {
          "base_uri": "https://localhost:8080/"
        },
        "id": "lSeH5NRku3xj",
        "outputId": "646b960f-0f65-4abd-997f-ba8583961ff4"
      },
      "outputs": [
        {
          "output_type": "stream",
          "name": "stdout",
          "text": [
            "Looking in indexes: https://pypi.org/simple, https://us-python.pkg.dev/colab-wheels/public/simple/\n",
            "Collecting pyspark\n",
            "  Downloading pyspark-3.3.1.tar.gz (281.4 MB)\n",
            "\u001b[2K     \u001b[90m━━━━━━━━━━━━━━━━━━━━━━━━━━━━━━━━━━━━━━━\u001b[0m \u001b[32m281.4/281.4 MB\u001b[0m \u001b[31m5.4 MB/s\u001b[0m eta \u001b[36m0:00:00\u001b[0m\n",
            "\u001b[?25h  Preparing metadata (setup.py) ... \u001b[?25l\u001b[?25hdone\n",
            "Collecting py4j==0.10.9.5\n",
            "  Downloading py4j-0.10.9.5-py2.py3-none-any.whl (199 kB)\n",
            "\u001b[2K     \u001b[90m━━━━━━━━━━━━━━━━━━━━━━━━━━━━━━━━━━━━━━\u001b[0m \u001b[32m199.7/199.7 KB\u001b[0m \u001b[31m17.4 MB/s\u001b[0m eta \u001b[36m0:00:00\u001b[0m\n",
            "\u001b[?25hBuilding wheels for collected packages: pyspark\n",
            "  Building wheel for pyspark (setup.py) ... \u001b[?25l\u001b[?25hdone\n",
            "  Created wheel for pyspark: filename=pyspark-3.3.1-py2.py3-none-any.whl size=281845512 sha256=fc118cce285163eb0b7dec64a8a9299a51e2ce82e51a2ed2f1aaa3aae84e54f2\n",
            "  Stored in directory: /root/.cache/pip/wheels/43/dc/11/ec201cd671da62fa9c5cc77078235e40722170ceba231d7598\n",
            "Successfully built pyspark\n",
            "Installing collected packages: py4j, pyspark\n",
            "Successfully installed py4j-0.10.9.5 pyspark-3.3.1\n"
          ]
        }
      ],
      "source": [
        "!pip install pyspark"
      ]
    },
    {
      "cell_type": "code",
      "execution_count": null,
      "metadata": {
        "id": "0DP9nZxKKpK7"
      },
      "outputs": [],
      "source": [
        "from pyspark.sql import SparkSession\n",
        "import pyspark.sql.functions as func\n",
        "from pyspark.sql.types import StructType,StructField, StringType, IntegerType \n",
        "from pyspark.sql.types import ArrayType, DoubleType, BooleanType\n",
        "from pyspark.sql.functions import col,array_contains\n",
        "spark = SparkSession.builder.getOrCreate()"
      ]
    },
    {
      "cell_type": "code",
      "execution_count": null,
      "metadata": {
        "colab": {
          "base_uri": "https://localhost:8080/"
        },
        "id": "5kXp9vdXSPXB",
        "outputId": "1c211908-77a6-4b38-b08c-dff32294cbaf"
      },
      "outputs": [
        {
          "output_type": "stream",
          "name": "stdout",
          "text": [
            "+--------------+--------+------------------+----------+----------+--------------+-----------------+------------+--------------+------------+------------+------------+-----------------------+------------------+------------------+---------------+-----------+--------------+------------+--------------+-------------------+----------------+---------------------------------+------------+-----------+-------------------+-------------------+-----------+------------+--------------------+--------------------------+--------------------+------------------+-------------+---------------------+------------+------------+--------------+-------------------+---------------------+---------------------------------+-----------------+------------------------+--------+---------+---------------+------------------+------------+----+----+----+\n",
            "|Summons Number|Plate ID|Registration State|Plate Type|Issue Date|Violation Code|Vehicle Body Type|Vehicle Make|Issuing Agency|Street Code1|Street Code2|Street Code3|Vehicle Expiration Date|Violation Location|Violation Precinct|Issuer Precinct|Issuer Code|Issuer Command|Issuer Squad|Violation Time|Time First Observed|Violation County|Violation In Front Of Or Opposite|House Number|Street Name|Intersecting Street|Date First Observed|Law Section|Sub Division|Violation Legal Code|Days Parking In Effect    |From Hours In Effect|To Hours In Effect|Vehicle Color|Unregistered Vehicle?|Vehicle Year|Meter Number|Feet From Curb|Violation Post Code|Violation Description|No Standing or Stopping Violation|Hydrant Violation|Double Parking Violation|Latitude|Longitude|Community Board|Community Council |Census Tract| BIN| BBL| NTA|\n",
            "+--------------+--------+------------------+----------+----------+--------------+-----------------+------------+--------------+------------+------------+------------+-----------------------+------------------+------------------+---------------+-----------+--------------+------------+--------------+-------------------+----------------+---------------------------------+------------+-----------+-------------------+-------------------+-----------+------------+--------------------+--------------------------+--------------------+------------------+-------------+---------------------+------------+------------+--------------+-------------------+---------------------+---------------------------------+-----------------+------------------------+--------+---------+---------------+------------------+------------+----+----+----+\n",
            "|    1283294138| GBB9093|                NY|       PAS|08/04/2013|            46|             SUBN|        AUDI|             P|       37250|       13610|       21190|               20140831|                33|                33|             33|     921043|          0033|        0000|         0752A|               null|            null|                                F|         712|   W 175 ST|               null|                  0|        408|          F1|                null|                   BBBBBBB|                 ALL|               ALL|           GY|                    0|        2013|           -|             0|               null|                 null|                             null|             null|                    null|    null|     null|           null|              null|        null|null|null|null|\n",
            "|    1283294151| 62416MB|                NY|       COM|08/04/2013|            46|              VAN|        FORD|             P|       37290|       40404|       40404|               20140430|                33|                33|             33|     921043|          0033|        0000|         1240P|               null|              NY|                                O|         201|   W 177 ST|               null|                  0|        408|           C|                null|                   BBBBBBB|                 ALL|               ALL|           WH|                    0|        2012|           -|             0|               null|                 null|                             null|             null|                    null|    null|     null|           null|              null|        null|null|null|null|\n",
            "|    1283294163| 78755JZ|                NY|       COM|08/05/2013|            46|              P-U|       CHEVR|             P|       37030|       31190|       13610|               20140228|                33|                33|             33|     921043|          0033|        0000|         1243P|               null|              NY|                                O|         520|   W 163 ST|               null|                  0|        408|          F7|                null|                   BBBBBBB|                 ALL|               ALL|         null|                    0|           0|           -|             0|               null|                 null|                             null|             null|                    null|    null|     null|           null|              null|        null|null|null|null|\n",
            "|    1283294175| 63009MA|                NY|       COM|08/05/2013|            46|              VAN|        FORD|             P|       37270|       11710|       12010|               20141031|                33|                33|             33|     921043|          0033|        0000|         0232P|               null|              NY|                                O|         517|   W 176 ST|               null|                  0|        408|          F1|                null|                   BBBBBBB|                 ALL|               ALL|           WH|                    0|        2010|           -|             0|               null|                 null|                             null|             null|                    null|    null|     null|           null|              null|        null|null|null|null|\n",
            "|    1283294187| 91648MC|                NY|       COM|08/08/2013|            41|             TRLR|         GMC|             P|       37240|       12010|       31190|                      0|                33|                33|             33|     921043|          0033|        0000|         1239P|               null|              NY|                                F|         590|   W 174 ST|               null|                  0|        408|          E1|                null|                   BBBBBBB|                 ALL|               ALL|           BR|                    0|        2012|           -|             0|               null|                 null|                             null|             null|                    null|    null|     null|           null|              null|        null|null|null|null|\n",
            "+--------------+--------+------------------+----------+----------+--------------+-----------------+------------+--------------+------------+------------+------------+-----------------------+------------------+------------------+---------------+-----------+--------------+------------+--------------+-------------------+----------------+---------------------------------+------------+-----------+-------------------+-------------------+-----------+------------+--------------------+--------------------------+--------------------+------------------+-------------+---------------------+------------+------------+--------------+-------------------+---------------------+---------------------------------+-----------------+------------------------+--------+---------+---------------+------------------+------------+----+----+----+\n",
            "only showing top 5 rows\n",
            "\n",
            "CPU times: user 372 ms, sys: 46.1 ms, total: 418 ms\n",
            "Wall time: 1min 10s\n"
          ]
        }
      ],
      "source": [
        "%%time\n",
        "dfs = spark.read.options(header = \"true\", \\\n",
        "  inferSchema = \"true\",) \\\n",
        "     .csv(\"NYC_Parking_Ticket.csv\")\n",
        "dfs.show(5)"
      ]
    },
    {
      "cell_type": "markdown",
      "source": [
        "**3. Koalas**"
      ],
      "metadata": {
        "id": "oO4oj5u6gFUV"
      }
    },
    {
      "cell_type": "code",
      "execution_count": null,
      "metadata": {
        "colab": {
          "base_uri": "https://localhost:8080/"
        },
        "id": "EJ4SuZlqYf77",
        "outputId": "0ebea083-7632-4741-a1b3-678f850cd8a0"
      },
      "outputs": [
        {
          "output_type": "stream",
          "name": "stdout",
          "text": [
            "Looking in indexes: https://pypi.org/simple, https://us-python.pkg.dev/colab-wheels/public/simple/\n",
            "Collecting koalas\n",
            "  Downloading koalas-1.8.2-py3-none-any.whl (390 kB)\n",
            "\u001b[2K     \u001b[90m━━━━━━━━━━━━━━━━━━━━━━━━━━━━━━━━━━━━━━━\u001b[0m \u001b[32m390.8/390.8 KB\u001b[0m \u001b[31m7.6 MB/s\u001b[0m eta \u001b[36m0:00:00\u001b[0m\n",
            "\u001b[?25hRequirement already satisfied: pandas>=0.23.2 in /usr/local/lib/python3.8/dist-packages (from koalas) (1.3.5)\n",
            "Requirement already satisfied: numpy>=1.14 in /usr/local/lib/python3.8/dist-packages (from koalas) (1.21.6)\n",
            "Requirement already satisfied: pyarrow>=0.10 in /usr/local/lib/python3.8/dist-packages (from koalas) (9.0.0)\n",
            "Requirement already satisfied: python-dateutil>=2.7.3 in /usr/local/lib/python3.8/dist-packages (from pandas>=0.23.2->koalas) (2.8.2)\n",
            "Requirement already satisfied: pytz>=2017.3 in /usr/local/lib/python3.8/dist-packages (from pandas>=0.23.2->koalas) (2022.7)\n",
            "Requirement already satisfied: six>=1.5 in /usr/local/lib/python3.8/dist-packages (from python-dateutil>=2.7.3->pandas>=0.23.2->koalas) (1.15.0)\n",
            "Installing collected packages: koalas\n",
            "Successfully installed koalas-1.8.2\n"
          ]
        }
      ],
      "source": [
        "!pip install koalas"
      ]
    },
    {
      "cell_type": "code",
      "execution_count": null,
      "metadata": {
        "colab": {
          "base_uri": "https://localhost:8080/"
        },
        "id": "oiTZTZi7Yj0o",
        "outputId": "ac162d26-15c3-4693-ef33-c669452b5166"
      },
      "outputs": [
        {
          "output_type": "stream",
          "name": "stderr",
          "text": [
            "WARNING:root:Found pyspark version \"3.3.1\" installed. The pyspark version 3.2 and above has a built-in \"pandas APIs on Spark\" module ported from Koalas. Try `import pyspark.pandas as ps` instead. \n",
            "WARNING:root:'PYARROW_IGNORE_TIMEZONE' environment variable was not set. It is required to set this environment variable to '1' in both driver and executor sides if you use pyarrow>=2.0.0. Koalas will set it for you but it does not work if there is a Spark context already launched.\n"
          ]
        }
      ],
      "source": [
        "import databricks.koalas as ks"
      ]
    },
    {
      "cell_type": "code",
      "execution_count": null,
      "metadata": {
        "colab": {
          "base_uri": "https://localhost:8080/",
          "height": 417
        },
        "id": "Xp-gp1vGYqOY",
        "outputId": "1916d9f2-076b-4f66-c633-388b5d835400"
      },
      "outputs": [
        {
          "output_type": "stream",
          "name": "stdout",
          "text": [
            "CPU times: user 4.23 s, sys: 698 ms, total: 4.92 s\n",
            "Wall time: 1min 19s\n"
          ]
        },
        {
          "output_type": "execute_result",
          "data": {
            "text/plain": [
              "   Summons Number Plate ID Registration State Plate Type  Issue Date  Violation Code Vehicle Body Type Vehicle Make Issuing Agency  Street Code1  Street Code2  Street Code3 Vehicle Expiration Date Violation Location  Violation Precinct  Issuer Precinct  Issuer Code Issuer Command Issuer Squad Violation Time Time First Observed Violation County Violation In Front Of Or Opposite House Number Street Name Intersecting Street Date First Observed  Law Section Sub Division Violation Legal Code Days Parking In Effect     From Hours In Effect To Hours In Effect Vehicle Color Unregistered Vehicle?  Vehicle Year Meter Number  Feet From Curb Violation Post Code Violation Description No Standing or Stopping Violation Hydrant Violation Double Parking Violation Latitude Longitude Community Board Community Council  Census Tract   BIN   BBL   NTA\n",
              "0      1283294138  GBB9093                 NY        PAS  08/04/2013              46              SUBN         AUDI              P         37250         13610         21190                20140831                 33                33.0             33.0     921043.0           0033         0000          0752A                None             None                                 F          712    W 175 ST                None                   0        408.0           F1                 None                    BBBBBBB                  ALL                ALL            GY                     0        2013.0            -             0.0                None                  None                              None              None                     None     None      None            None               None         None  None  None  None\n",
              "1      1283294151  62416MB                 NY        COM  08/04/2013              46               VAN         FORD              P         37290         40404         40404                20140430                 33                33.0             33.0     921043.0           0033         0000          1240P                None               NY                                 O          201    W 177 ST                None                   0        408.0            C                 None                    BBBBBBB                  ALL                ALL            WH                     0        2012.0            -             0.0                None                  None                              None              None                     None     None      None            None               None         None  None  None  None\n",
              "2      1283294163  78755JZ                 NY        COM  08/05/2013              46               P-U        CHEVR              P         37030         31190         13610                20140228                 33                33.0             33.0     921043.0           0033         0000          1243P                None               NY                                 O          520    W 163 ST                None                   0        408.0           F7                 None                    BBBBBBB                  ALL                ALL          None                     0           0.0            -             0.0                None                  None                              None              None                     None     None      None            None               None         None  None  None  None\n",
              "3      1283294175  63009MA                 NY        COM  08/05/2013              46               VAN         FORD              P         37270         11710         12010                20141031                 33                33.0             33.0     921043.0           0033         0000          0232P                None               NY                                 O          517    W 176 ST                None                   0        408.0           F1                 None                    BBBBBBB                  ALL                ALL            WH                     0        2010.0            -             0.0                None                  None                              None              None                     None     None      None            None               None         None  None  None  None\n",
              "4      1283294187  91648MC                 NY        COM  08/08/2013              41              TRLR          GMC              P         37240         12010         31190                       0                 33                33.0             33.0     921043.0           0033         0000          1239P                None               NY                                 F          590    W 174 ST                None                   0        408.0           E1                 None                    BBBBBBB                  ALL                ALL            BR                     0        2012.0            -             0.0                None                  None                              None              None                     None     None      None            None               None         None  None  None  None"
            ],
            "text/html": [
              "<div>\n",
              "<style scoped>\n",
              "    .dataframe tbody tr th:only-of-type {\n",
              "        vertical-align: middle;\n",
              "    }\n",
              "\n",
              "    .dataframe tbody tr th {\n",
              "        vertical-align: top;\n",
              "    }\n",
              "\n",
              "    .dataframe thead th {\n",
              "        text-align: right;\n",
              "    }\n",
              "</style>\n",
              "<table border=\"1\" class=\"dataframe\">\n",
              "  <thead>\n",
              "    <tr style=\"text-align: right;\">\n",
              "      <th></th>\n",
              "      <th>Summons Number</th>\n",
              "      <th>Plate ID</th>\n",
              "      <th>Registration State</th>\n",
              "      <th>Plate Type</th>\n",
              "      <th>Issue Date</th>\n",
              "      <th>Violation Code</th>\n",
              "      <th>Vehicle Body Type</th>\n",
              "      <th>Vehicle Make</th>\n",
              "      <th>Issuing Agency</th>\n",
              "      <th>Street Code1</th>\n",
              "      <th>Street Code2</th>\n",
              "      <th>Street Code3</th>\n",
              "      <th>Vehicle Expiration Date</th>\n",
              "      <th>Violation Location</th>\n",
              "      <th>Violation Precinct</th>\n",
              "      <th>Issuer Precinct</th>\n",
              "      <th>Issuer Code</th>\n",
              "      <th>Issuer Command</th>\n",
              "      <th>Issuer Squad</th>\n",
              "      <th>Violation Time</th>\n",
              "      <th>Time First Observed</th>\n",
              "      <th>Violation County</th>\n",
              "      <th>Violation In Front Of Or Opposite</th>\n",
              "      <th>House Number</th>\n",
              "      <th>Street Name</th>\n",
              "      <th>Intersecting Street</th>\n",
              "      <th>Date First Observed</th>\n",
              "      <th>Law Section</th>\n",
              "      <th>Sub Division</th>\n",
              "      <th>Violation Legal Code</th>\n",
              "      <th>Days Parking In Effect</th>\n",
              "      <th>From Hours In Effect</th>\n",
              "      <th>To Hours In Effect</th>\n",
              "      <th>Vehicle Color</th>\n",
              "      <th>Unregistered Vehicle?</th>\n",
              "      <th>Vehicle Year</th>\n",
              "      <th>Meter Number</th>\n",
              "      <th>Feet From Curb</th>\n",
              "      <th>Violation Post Code</th>\n",
              "      <th>Violation Description</th>\n",
              "      <th>No Standing or Stopping Violation</th>\n",
              "      <th>Hydrant Violation</th>\n",
              "      <th>Double Parking Violation</th>\n",
              "      <th>Latitude</th>\n",
              "      <th>Longitude</th>\n",
              "      <th>Community Board</th>\n",
              "      <th>Community Council</th>\n",
              "      <th>Census Tract</th>\n",
              "      <th>BIN</th>\n",
              "      <th>BBL</th>\n",
              "      <th>NTA</th>\n",
              "    </tr>\n",
              "  </thead>\n",
              "  <tbody>\n",
              "    <tr>\n",
              "      <th>0</th>\n",
              "      <td>1283294138</td>\n",
              "      <td>GBB9093</td>\n",
              "      <td>NY</td>\n",
              "      <td>PAS</td>\n",
              "      <td>08/04/2013</td>\n",
              "      <td>46</td>\n",
              "      <td>SUBN</td>\n",
              "      <td>AUDI</td>\n",
              "      <td>P</td>\n",
              "      <td>37250</td>\n",
              "      <td>13610</td>\n",
              "      <td>21190</td>\n",
              "      <td>20140831</td>\n",
              "      <td>33</td>\n",
              "      <td>33.0</td>\n",
              "      <td>33.0</td>\n",
              "      <td>921043.0</td>\n",
              "      <td>0033</td>\n",
              "      <td>0000</td>\n",
              "      <td>0752A</td>\n",
              "      <td>None</td>\n",
              "      <td>None</td>\n",
              "      <td>F</td>\n",
              "      <td>712</td>\n",
              "      <td>W 175 ST</td>\n",
              "      <td>None</td>\n",
              "      <td>0</td>\n",
              "      <td>408.0</td>\n",
              "      <td>F1</td>\n",
              "      <td>None</td>\n",
              "      <td>BBBBBBB</td>\n",
              "      <td>ALL</td>\n",
              "      <td>ALL</td>\n",
              "      <td>GY</td>\n",
              "      <td>0</td>\n",
              "      <td>2013.0</td>\n",
              "      <td>-</td>\n",
              "      <td>0.0</td>\n",
              "      <td>None</td>\n",
              "      <td>None</td>\n",
              "      <td>None</td>\n",
              "      <td>None</td>\n",
              "      <td>None</td>\n",
              "      <td>None</td>\n",
              "      <td>None</td>\n",
              "      <td>None</td>\n",
              "      <td>None</td>\n",
              "      <td>None</td>\n",
              "      <td>None</td>\n",
              "      <td>None</td>\n",
              "      <td>None</td>\n",
              "    </tr>\n",
              "    <tr>\n",
              "      <th>1</th>\n",
              "      <td>1283294151</td>\n",
              "      <td>62416MB</td>\n",
              "      <td>NY</td>\n",
              "      <td>COM</td>\n",
              "      <td>08/04/2013</td>\n",
              "      <td>46</td>\n",
              "      <td>VAN</td>\n",
              "      <td>FORD</td>\n",
              "      <td>P</td>\n",
              "      <td>37290</td>\n",
              "      <td>40404</td>\n",
              "      <td>40404</td>\n",
              "      <td>20140430</td>\n",
              "      <td>33</td>\n",
              "      <td>33.0</td>\n",
              "      <td>33.0</td>\n",
              "      <td>921043.0</td>\n",
              "      <td>0033</td>\n",
              "      <td>0000</td>\n",
              "      <td>1240P</td>\n",
              "      <td>None</td>\n",
              "      <td>NY</td>\n",
              "      <td>O</td>\n",
              "      <td>201</td>\n",
              "      <td>W 177 ST</td>\n",
              "      <td>None</td>\n",
              "      <td>0</td>\n",
              "      <td>408.0</td>\n",
              "      <td>C</td>\n",
              "      <td>None</td>\n",
              "      <td>BBBBBBB</td>\n",
              "      <td>ALL</td>\n",
              "      <td>ALL</td>\n",
              "      <td>WH</td>\n",
              "      <td>0</td>\n",
              "      <td>2012.0</td>\n",
              "      <td>-</td>\n",
              "      <td>0.0</td>\n",
              "      <td>None</td>\n",
              "      <td>None</td>\n",
              "      <td>None</td>\n",
              "      <td>None</td>\n",
              "      <td>None</td>\n",
              "      <td>None</td>\n",
              "      <td>None</td>\n",
              "      <td>None</td>\n",
              "      <td>None</td>\n",
              "      <td>None</td>\n",
              "      <td>None</td>\n",
              "      <td>None</td>\n",
              "      <td>None</td>\n",
              "    </tr>\n",
              "    <tr>\n",
              "      <th>2</th>\n",
              "      <td>1283294163</td>\n",
              "      <td>78755JZ</td>\n",
              "      <td>NY</td>\n",
              "      <td>COM</td>\n",
              "      <td>08/05/2013</td>\n",
              "      <td>46</td>\n",
              "      <td>P-U</td>\n",
              "      <td>CHEVR</td>\n",
              "      <td>P</td>\n",
              "      <td>37030</td>\n",
              "      <td>31190</td>\n",
              "      <td>13610</td>\n",
              "      <td>20140228</td>\n",
              "      <td>33</td>\n",
              "      <td>33.0</td>\n",
              "      <td>33.0</td>\n",
              "      <td>921043.0</td>\n",
              "      <td>0033</td>\n",
              "      <td>0000</td>\n",
              "      <td>1243P</td>\n",
              "      <td>None</td>\n",
              "      <td>NY</td>\n",
              "      <td>O</td>\n",
              "      <td>520</td>\n",
              "      <td>W 163 ST</td>\n",
              "      <td>None</td>\n",
              "      <td>0</td>\n",
              "      <td>408.0</td>\n",
              "      <td>F7</td>\n",
              "      <td>None</td>\n",
              "      <td>BBBBBBB</td>\n",
              "      <td>ALL</td>\n",
              "      <td>ALL</td>\n",
              "      <td>None</td>\n",
              "      <td>0</td>\n",
              "      <td>0.0</td>\n",
              "      <td>-</td>\n",
              "      <td>0.0</td>\n",
              "      <td>None</td>\n",
              "      <td>None</td>\n",
              "      <td>None</td>\n",
              "      <td>None</td>\n",
              "      <td>None</td>\n",
              "      <td>None</td>\n",
              "      <td>None</td>\n",
              "      <td>None</td>\n",
              "      <td>None</td>\n",
              "      <td>None</td>\n",
              "      <td>None</td>\n",
              "      <td>None</td>\n",
              "      <td>None</td>\n",
              "    </tr>\n",
              "    <tr>\n",
              "      <th>3</th>\n",
              "      <td>1283294175</td>\n",
              "      <td>63009MA</td>\n",
              "      <td>NY</td>\n",
              "      <td>COM</td>\n",
              "      <td>08/05/2013</td>\n",
              "      <td>46</td>\n",
              "      <td>VAN</td>\n",
              "      <td>FORD</td>\n",
              "      <td>P</td>\n",
              "      <td>37270</td>\n",
              "      <td>11710</td>\n",
              "      <td>12010</td>\n",
              "      <td>20141031</td>\n",
              "      <td>33</td>\n",
              "      <td>33.0</td>\n",
              "      <td>33.0</td>\n",
              "      <td>921043.0</td>\n",
              "      <td>0033</td>\n",
              "      <td>0000</td>\n",
              "      <td>0232P</td>\n",
              "      <td>None</td>\n",
              "      <td>NY</td>\n",
              "      <td>O</td>\n",
              "      <td>517</td>\n",
              "      <td>W 176 ST</td>\n",
              "      <td>None</td>\n",
              "      <td>0</td>\n",
              "      <td>408.0</td>\n",
              "      <td>F1</td>\n",
              "      <td>None</td>\n",
              "      <td>BBBBBBB</td>\n",
              "      <td>ALL</td>\n",
              "      <td>ALL</td>\n",
              "      <td>WH</td>\n",
              "      <td>0</td>\n",
              "      <td>2010.0</td>\n",
              "      <td>-</td>\n",
              "      <td>0.0</td>\n",
              "      <td>None</td>\n",
              "      <td>None</td>\n",
              "      <td>None</td>\n",
              "      <td>None</td>\n",
              "      <td>None</td>\n",
              "      <td>None</td>\n",
              "      <td>None</td>\n",
              "      <td>None</td>\n",
              "      <td>None</td>\n",
              "      <td>None</td>\n",
              "      <td>None</td>\n",
              "      <td>None</td>\n",
              "      <td>None</td>\n",
              "    </tr>\n",
              "    <tr>\n",
              "      <th>4</th>\n",
              "      <td>1283294187</td>\n",
              "      <td>91648MC</td>\n",
              "      <td>NY</td>\n",
              "      <td>COM</td>\n",
              "      <td>08/08/2013</td>\n",
              "      <td>41</td>\n",
              "      <td>TRLR</td>\n",
              "      <td>GMC</td>\n",
              "      <td>P</td>\n",
              "      <td>37240</td>\n",
              "      <td>12010</td>\n",
              "      <td>31190</td>\n",
              "      <td>0</td>\n",
              "      <td>33</td>\n",
              "      <td>33.0</td>\n",
              "      <td>33.0</td>\n",
              "      <td>921043.0</td>\n",
              "      <td>0033</td>\n",
              "      <td>0000</td>\n",
              "      <td>1239P</td>\n",
              "      <td>None</td>\n",
              "      <td>NY</td>\n",
              "      <td>F</td>\n",
              "      <td>590</td>\n",
              "      <td>W 174 ST</td>\n",
              "      <td>None</td>\n",
              "      <td>0</td>\n",
              "      <td>408.0</td>\n",
              "      <td>E1</td>\n",
              "      <td>None</td>\n",
              "      <td>BBBBBBB</td>\n",
              "      <td>ALL</td>\n",
              "      <td>ALL</td>\n",
              "      <td>BR</td>\n",
              "      <td>0</td>\n",
              "      <td>2012.0</td>\n",
              "      <td>-</td>\n",
              "      <td>0.0</td>\n",
              "      <td>None</td>\n",
              "      <td>None</td>\n",
              "      <td>None</td>\n",
              "      <td>None</td>\n",
              "      <td>None</td>\n",
              "      <td>None</td>\n",
              "      <td>None</td>\n",
              "      <td>None</td>\n",
              "      <td>None</td>\n",
              "      <td>None</td>\n",
              "      <td>None</td>\n",
              "      <td>None</td>\n",
              "      <td>None</td>\n",
              "    </tr>\n",
              "  </tbody>\n",
              "</table>\n",
              "</div>"
            ]
          },
          "metadata": {},
          "execution_count": 12
        }
      ],
      "source": [
        "%%time\n",
        "dfk = ks.read_csv('NYC_Parking_Ticket.csv',dtype=dtypes)\n",
        "dfk.head()"
      ]
    },
    {
      "cell_type": "markdown",
      "source": [
        ">**Findings ▶** \n",
        "All library has different way of importing the dataset and requires different functions to run it.\n",
        "1. Dask 🕔\n",
        "Dask is the fastest way to read the data by taking **1.79s** but we have to initialize its dtype. This is because there are a lot of mismatched data type in the dataset. It requires to import **dask.dataframe** in order to read it in dataframe. The function used is common like Pandas which is **read.csv()**.\n",
        "\n",
        ">2. PySpark 🕔\n",
        "Pyspark took a long time to read the dataset which is **1min 10s**. In pyspark, there is no need to initialize dtype because we can set **inferSchema = True** and it will assign the correct dtype. The function used is different from common Pandas which is **spark.read.options.**\n",
        "\n",
        ">3. Koalas 🕔\n",
        "Koalas took the **longest time** compared to Dask and PySpark which is **1min 10s**.\n",
        "Most of Koalas funtions are the same with common Pandas which in this case we use **read.csv()** to read the data into dataframe.\n"
      ],
      "metadata": {
        "id": "ravLDg76gOKi"
      }
    },
    {
      "cell_type": "markdown",
      "source": [
        "\n",
        "\n",
        "---\n",
        "\n",
        "\n",
        "\n",
        "---\n",
        "\n"
      ],
      "metadata": {
        "id": "GuRVZHYVkaH-"
      }
    },
    {
      "cell_type": "markdown",
      "metadata": {
        "id": "qK3CFwjATlIc"
      },
      "source": [
        "# **`Data Preparation and Cleaning`**"
      ]
    },
    {
      "cell_type": "markdown",
      "source": [
        "The dataset contains 10 million rows and 51 columns of records which has a lot of missing data, mismatched data, unused columns and other mess that need to be clean. Before we can analyze the data, we must clean the data to obtain an accurate analysis. Now, we will perform data cleaning using 3 different libraries and evaluate which library does it more effectively."
      ],
      "metadata": {
        "id": "ONd9mheRkfdT"
      }
    },
    {
      "cell_type": "markdown",
      "metadata": {
        "id": "lyPx7o7ioIeG"
      },
      "source": [
        "# **`Step 1: Checking dataframe size to ensure all libraries read the same number of records.`**"
      ]
    },
    {
      "cell_type": "markdown",
      "metadata": {
        "id": "QKXob7WFoVFB"
      },
      "source": [
        "**1. Dask**"
      ]
    },
    {
      "cell_type": "code",
      "execution_count": null,
      "metadata": {
        "colab": {
          "base_uri": "https://localhost:8080/"
        },
        "id": "KcRRKBO49Iw4",
        "outputId": "2e979628-ccb5-482f-ec3a-87abaec7731f"
      },
      "outputs": [
        {
          "output_type": "stream",
          "name": "stdout",
          "text": [
            "CPU times: user 8.43 ms, sys: 0 ns, total: 8.43 ms\n",
            "Wall time: 9.06 ms\n"
          ]
        },
        {
          "output_type": "execute_result",
          "data": {
            "text/plain": [
              "(Delayed('int-68bfe4bb-bf90-4109-aed6-d05c2fcf248e'), 51)"
            ]
          },
          "metadata": {},
          "execution_count": 13
        }
      ],
      "source": [
        "%%time\n",
        "dfdask.shape"
      ]
    },
    {
      "cell_type": "markdown",
      "metadata": {
        "id": "ZhbXkeeSoY9g"
      },
      "source": [
        "**2. PySpark**"
      ]
    },
    {
      "cell_type": "code",
      "execution_count": null,
      "metadata": {
        "colab": {
          "base_uri": "https://localhost:8080/"
        },
        "id": "WNAc528t_MVx",
        "outputId": "36c044c2-8c09-49cc-a365-5dc745cbde62"
      },
      "outputs": [
        {
          "output_type": "stream",
          "name": "stdout",
          "text": [
            "9100278 , 51\n",
            "CPU times: user 45.7 ms, sys: 10.5 ms, total: 56.3 ms\n",
            "Wall time: 6.47 s\n"
          ]
        }
      ],
      "source": [
        "%%time\n",
        "rows = dfs.count()\n",
        "cols = len(dfs.columns)\n",
        "print (rows, \",\" ,cols)\n"
      ]
    },
    {
      "cell_type": "markdown",
      "metadata": {
        "id": "5eYkoy20of6Y"
      },
      "source": [
        "**3. Koalas**"
      ]
    },
    {
      "cell_type": "code",
      "execution_count": null,
      "metadata": {
        "colab": {
          "base_uri": "https://localhost:8080/"
        },
        "id": "58MsbBOvjCPR",
        "outputId": "036e3aef-e1c6-43b4-f961-364c92187d2c"
      },
      "outputs": [
        {
          "output_type": "stream",
          "name": "stdout",
          "text": [
            "CPU times: user 59.7 ms, sys: 3.8 ms, total: 63.5 ms\n",
            "Wall time: 9.49 s\n"
          ]
        },
        {
          "output_type": "execute_result",
          "data": {
            "text/plain": [
              "(9100278, 51)"
            ]
          },
          "metadata": {},
          "execution_count": 15
        }
      ],
      "source": [
        "%%time\n",
        "dfk.shape"
      ]
    },
    {
      "cell_type": "markdown",
      "source": [
        ">**Findings ▶** \n",
        "All libraries managed to read the same no of rows and columns which are **9100278 rows and 51 columns**. To find the number and columns read by all libraries, **Dask and Koalas** use the same method which is **dataframe.shape**. Meanwhile, **Pyspark** is different and it **uses count to find rows and cols for columns**.\n",
        "\n",
        ">1. Dask 🕔\n",
        "Dask is the fastest way to find number of rows and columns by taking **9.06ms**.\n",
        "\n",
        ">2. PySpark 🕔\n",
        "PySpark comes next as it took **6.47s** to find number of rows and columns.\n",
        "\n",
        ">3. Koalas 🕔\n",
        "Koalas took the **longest time** compared to Dask and PySpark which is **9.49s**.\n"
      ],
      "metadata": {
        "id": "V4FUbWm_lcri"
      }
    },
    {
      "cell_type": "markdown",
      "metadata": {
        "id": "a5xZvll1j0_U"
      },
      "source": [
        "\n",
        "\n",
        "---\n",
        "\n",
        "\n",
        "\n",
        "---\n",
        "\n"
      ]
    },
    {
      "cell_type": "markdown",
      "metadata": {
        "id": "TdAoY3FL0QRY"
      },
      "source": [
        "# **`Check and drop column that has more than 80% missing values.`**\n",
        "\n"
      ]
    },
    {
      "cell_type": "markdown",
      "source": [
        "This dataset contains a lot of missing and null values and certain columns have no values at all. Anyhow, dropping all missing values is not recommended as it will lose a lot of records. Some null values can be change to 0, for example column `Feet From Curb` because the attribute may not be collected but the parking ticket is still valid.In order to get a clean data, we must drop the columns and change the null values to get consistent result for our analysis.\n",
        "\n",
        "Steps:\n",
        "1. Check number of Nan values.\n",
        "2. Drop columns that have more than 80% Nan values.\n",
        "3. Fill in the rest of Nan values with 0.\n",
        "4. Check if there is any Nan values left."
      ],
      "metadata": {
        "id": "uYOeFJk4nThx"
      }
    },
    {
      "cell_type": "markdown",
      "metadata": {
        "id": "FtS_WpQW0bs7"
      },
      "source": [
        "**1. Dask**"
      ]
    },
    {
      "cell_type": "code",
      "execution_count": null,
      "metadata": {
        "colab": {
          "base_uri": "https://localhost:8080/"
        },
        "id": "TqyLl5YSkpjq",
        "outputId": "416c3b16-07bf-4a76-f83a-76066c956512"
      },
      "outputs": [
        {
          "output_type": "stream",
          "name": "stdout",
          "text": [
            "CPU times: user 1min 15s, sys: 1.71 s, total: 1min 17s\n",
            "Wall time: 1min 4s\n"
          ]
        },
        {
          "output_type": "execute_result",
          "data": {
            "text/plain": [
              "Summons Number                             0\n",
              "Plate ID                                3612\n",
              "Registration State                         0\n",
              "Plate Type                                 0\n",
              "Issue Date                                 0\n",
              "Violation Code                             0\n",
              "Vehicle Body Type                     111377\n",
              "Vehicle Make                           63273\n",
              "Issuing Agency                             0\n",
              "Street Code1                               0\n",
              "Street Code2                               0\n",
              "Street Code3                               0\n",
              "Vehicle Expiration Date                    0\n",
              "Violation Location                    671170\n",
              "Violation Precinct                         0\n",
              "Issuer Precinct                            0\n",
              "Issuer Code                                0\n",
              "Issuer Command                        654437\n",
              "Issuer Squad                          654437\n",
              "Violation Time                          2074\n",
              "Time First Observed                  8080301\n",
              "Violation County                      705205\n",
              "Violation In Front Of Or Opposite     769191\n",
              "House Number                          856317\n",
              "Street Name                             4904\n",
              "Intersecting Street                  7217042\n",
              "Date First Observed                        1\n",
              "Law Section                                1\n",
              "Sub Division                             247\n",
              "Violation Legal Code                 8443774\n",
              "Days Parking In Effect               1415127\n",
              "From Hours In Effect                 3363269\n",
              "To Hours In Effect                   3363269\n",
              "Vehicle Color                          72460\n",
              "Unregistered Vehicle?                7868632\n",
              "Vehicle Year                               1\n",
              "Meter Number                         7053456\n",
              "Feet From Curb                             1\n",
              "Violation Post Code                  1884023\n",
              "Violation Description                1231653\n",
              "No Standing or Stopping Violation    9100278\n",
              "Hydrant Violation                    9100278\n",
              "Double Parking Violation             9100278\n",
              "Latitude                             9100278\n",
              "Longitude                            9100278\n",
              "Community Board                      9100278\n",
              "Community Council                    9100278\n",
              "Census Tract                         9100278\n",
              "BIN                                  9100278\n",
              "BBL                                  9100278\n",
              "NTA                                  9100278\n",
              "dtype: int64"
            ]
          },
          "metadata": {},
          "execution_count": 16
        }
      ],
      "source": [
        "%%time\n",
        "dfdask.isnull().sum().compute()\n"
      ]
    },
    {
      "cell_type": "code",
      "execution_count": null,
      "metadata": {
        "colab": {
          "base_uri": "https://localhost:8080/",
          "height": 386
        },
        "id": "6upxXr544F4C",
        "outputId": "5563d5ef-26de-4008-b6d1-3976f2526c72"
      },
      "outputs": [
        {
          "output_type": "stream",
          "name": "stdout",
          "text": [
            "CPU times: user 1.49 s, sys: 27.9 ms, total: 1.52 s\n",
            "Wall time: 1.52 s\n"
          ]
        },
        {
          "output_type": "execute_result",
          "data": {
            "text/plain": [
              "   Summons Number Plate ID Registration State Plate Type  Issue Date  \\\n",
              "0      1283294138  GBB9093                 NY        PAS  08/04/2013   \n",
              "1      1283294151  62416MB                 NY        COM  08/04/2013   \n",
              "2      1283294163  78755JZ                 NY        COM  08/05/2013   \n",
              "3      1283294175  63009MA                 NY        COM  08/05/2013   \n",
              "4      1283294187  91648MC                 NY        COM  08/08/2013   \n",
              "\n",
              "   Violation Code Vehicle Body Type Vehicle Make Issuing Agency  Street Code1  \\\n",
              "0              46              SUBN         AUDI              P         37250   \n",
              "1              46               VAN         FORD              P         37290   \n",
              "2              46               P-U        CHEVR              P         37030   \n",
              "3              46               VAN         FORD              P         37270   \n",
              "4              41              TRLR          GMC              P         37240   \n",
              "\n",
              "   ...  Sub Division  Days Parking In Effect     From Hours In Effect  \\\n",
              "0  ...            F1                     BBBBBBB                  ALL   \n",
              "1  ...             C                     BBBBBBB                  ALL   \n",
              "2  ...            F7                     BBBBBBB                  ALL   \n",
              "3  ...            F1                     BBBBBBB                  ALL   \n",
              "4  ...            E1                     BBBBBBB                  ALL   \n",
              "\n",
              "  To Hours In Effect  Vehicle Color  Vehicle Year  Meter Number  \\\n",
              "0                ALL             GY        2013.0             -   \n",
              "1                ALL             WH        2012.0             -   \n",
              "2                ALL            NaN           0.0             -   \n",
              "3                ALL             WH        2010.0             -   \n",
              "4                ALL             BR        2012.0             -   \n",
              "\n",
              "  Feet From Curb Violation Post Code Violation Description  \n",
              "0            0.0                 NaN                   NaN  \n",
              "1            0.0                 NaN                   NaN  \n",
              "2            0.0                 NaN                   NaN  \n",
              "3            0.0                 NaN                   NaN  \n",
              "4            0.0                 NaN                   NaN  \n",
              "\n",
              "[5 rows x 37 columns]"
            ],
            "text/html": [
              "\n",
              "  <div id=\"df-044fe488-de6e-423d-a8b2-1fea4e22e0f9\">\n",
              "    <div class=\"colab-df-container\">\n",
              "      <div>\n",
              "<style scoped>\n",
              "    .dataframe tbody tr th:only-of-type {\n",
              "        vertical-align: middle;\n",
              "    }\n",
              "\n",
              "    .dataframe tbody tr th {\n",
              "        vertical-align: top;\n",
              "    }\n",
              "\n",
              "    .dataframe thead th {\n",
              "        text-align: right;\n",
              "    }\n",
              "</style>\n",
              "<table border=\"1\" class=\"dataframe\">\n",
              "  <thead>\n",
              "    <tr style=\"text-align: right;\">\n",
              "      <th></th>\n",
              "      <th>Summons Number</th>\n",
              "      <th>Plate ID</th>\n",
              "      <th>Registration State</th>\n",
              "      <th>Plate Type</th>\n",
              "      <th>Issue Date</th>\n",
              "      <th>Violation Code</th>\n",
              "      <th>Vehicle Body Type</th>\n",
              "      <th>Vehicle Make</th>\n",
              "      <th>Issuing Agency</th>\n",
              "      <th>Street Code1</th>\n",
              "      <th>...</th>\n",
              "      <th>Sub Division</th>\n",
              "      <th>Days Parking In Effect</th>\n",
              "      <th>From Hours In Effect</th>\n",
              "      <th>To Hours In Effect</th>\n",
              "      <th>Vehicle Color</th>\n",
              "      <th>Vehicle Year</th>\n",
              "      <th>Meter Number</th>\n",
              "      <th>Feet From Curb</th>\n",
              "      <th>Violation Post Code</th>\n",
              "      <th>Violation Description</th>\n",
              "    </tr>\n",
              "  </thead>\n",
              "  <tbody>\n",
              "    <tr>\n",
              "      <th>0</th>\n",
              "      <td>1283294138</td>\n",
              "      <td>GBB9093</td>\n",
              "      <td>NY</td>\n",
              "      <td>PAS</td>\n",
              "      <td>08/04/2013</td>\n",
              "      <td>46</td>\n",
              "      <td>SUBN</td>\n",
              "      <td>AUDI</td>\n",
              "      <td>P</td>\n",
              "      <td>37250</td>\n",
              "      <td>...</td>\n",
              "      <td>F1</td>\n",
              "      <td>BBBBBBB</td>\n",
              "      <td>ALL</td>\n",
              "      <td>ALL</td>\n",
              "      <td>GY</td>\n",
              "      <td>2013.0</td>\n",
              "      <td>-</td>\n",
              "      <td>0.0</td>\n",
              "      <td>NaN</td>\n",
              "      <td>NaN</td>\n",
              "    </tr>\n",
              "    <tr>\n",
              "      <th>1</th>\n",
              "      <td>1283294151</td>\n",
              "      <td>62416MB</td>\n",
              "      <td>NY</td>\n",
              "      <td>COM</td>\n",
              "      <td>08/04/2013</td>\n",
              "      <td>46</td>\n",
              "      <td>VAN</td>\n",
              "      <td>FORD</td>\n",
              "      <td>P</td>\n",
              "      <td>37290</td>\n",
              "      <td>...</td>\n",
              "      <td>C</td>\n",
              "      <td>BBBBBBB</td>\n",
              "      <td>ALL</td>\n",
              "      <td>ALL</td>\n",
              "      <td>WH</td>\n",
              "      <td>2012.0</td>\n",
              "      <td>-</td>\n",
              "      <td>0.0</td>\n",
              "      <td>NaN</td>\n",
              "      <td>NaN</td>\n",
              "    </tr>\n",
              "    <tr>\n",
              "      <th>2</th>\n",
              "      <td>1283294163</td>\n",
              "      <td>78755JZ</td>\n",
              "      <td>NY</td>\n",
              "      <td>COM</td>\n",
              "      <td>08/05/2013</td>\n",
              "      <td>46</td>\n",
              "      <td>P-U</td>\n",
              "      <td>CHEVR</td>\n",
              "      <td>P</td>\n",
              "      <td>37030</td>\n",
              "      <td>...</td>\n",
              "      <td>F7</td>\n",
              "      <td>BBBBBBB</td>\n",
              "      <td>ALL</td>\n",
              "      <td>ALL</td>\n",
              "      <td>NaN</td>\n",
              "      <td>0.0</td>\n",
              "      <td>-</td>\n",
              "      <td>0.0</td>\n",
              "      <td>NaN</td>\n",
              "      <td>NaN</td>\n",
              "    </tr>\n",
              "    <tr>\n",
              "      <th>3</th>\n",
              "      <td>1283294175</td>\n",
              "      <td>63009MA</td>\n",
              "      <td>NY</td>\n",
              "      <td>COM</td>\n",
              "      <td>08/05/2013</td>\n",
              "      <td>46</td>\n",
              "      <td>VAN</td>\n",
              "      <td>FORD</td>\n",
              "      <td>P</td>\n",
              "      <td>37270</td>\n",
              "      <td>...</td>\n",
              "      <td>F1</td>\n",
              "      <td>BBBBBBB</td>\n",
              "      <td>ALL</td>\n",
              "      <td>ALL</td>\n",
              "      <td>WH</td>\n",
              "      <td>2010.0</td>\n",
              "      <td>-</td>\n",
              "      <td>0.0</td>\n",
              "      <td>NaN</td>\n",
              "      <td>NaN</td>\n",
              "    </tr>\n",
              "    <tr>\n",
              "      <th>4</th>\n",
              "      <td>1283294187</td>\n",
              "      <td>91648MC</td>\n",
              "      <td>NY</td>\n",
              "      <td>COM</td>\n",
              "      <td>08/08/2013</td>\n",
              "      <td>41</td>\n",
              "      <td>TRLR</td>\n",
              "      <td>GMC</td>\n",
              "      <td>P</td>\n",
              "      <td>37240</td>\n",
              "      <td>...</td>\n",
              "      <td>E1</td>\n",
              "      <td>BBBBBBB</td>\n",
              "      <td>ALL</td>\n",
              "      <td>ALL</td>\n",
              "      <td>BR</td>\n",
              "      <td>2012.0</td>\n",
              "      <td>-</td>\n",
              "      <td>0.0</td>\n",
              "      <td>NaN</td>\n",
              "      <td>NaN</td>\n",
              "    </tr>\n",
              "  </tbody>\n",
              "</table>\n",
              "<p>5 rows × 37 columns</p>\n",
              "</div>\n",
              "      <button class=\"colab-df-convert\" onclick=\"convertToInteractive('df-044fe488-de6e-423d-a8b2-1fea4e22e0f9')\"\n",
              "              title=\"Convert this dataframe to an interactive table.\"\n",
              "              style=\"display:none;\">\n",
              "        \n",
              "  <svg xmlns=\"http://www.w3.org/2000/svg\" height=\"24px\"viewBox=\"0 0 24 24\"\n",
              "       width=\"24px\">\n",
              "    <path d=\"M0 0h24v24H0V0z\" fill=\"none\"/>\n",
              "    <path d=\"M18.56 5.44l.94 2.06.94-2.06 2.06-.94-2.06-.94-.94-2.06-.94 2.06-2.06.94zm-11 1L8.5 8.5l.94-2.06 2.06-.94-2.06-.94L8.5 2.5l-.94 2.06-2.06.94zm10 10l.94 2.06.94-2.06 2.06-.94-2.06-.94-.94-2.06-.94 2.06-2.06.94z\"/><path d=\"M17.41 7.96l-1.37-1.37c-.4-.4-.92-.59-1.43-.59-.52 0-1.04.2-1.43.59L10.3 9.45l-7.72 7.72c-.78.78-.78 2.05 0 2.83L4 21.41c.39.39.9.59 1.41.59.51 0 1.02-.2 1.41-.59l7.78-7.78 2.81-2.81c.8-.78.8-2.07 0-2.86zM5.41 20L4 18.59l7.72-7.72 1.47 1.35L5.41 20z\"/>\n",
              "  </svg>\n",
              "      </button>\n",
              "      \n",
              "  <style>\n",
              "    .colab-df-container {\n",
              "      display:flex;\n",
              "      flex-wrap:wrap;\n",
              "      gap: 12px;\n",
              "    }\n",
              "\n",
              "    .colab-df-convert {\n",
              "      background-color: #E8F0FE;\n",
              "      border: none;\n",
              "      border-radius: 50%;\n",
              "      cursor: pointer;\n",
              "      display: none;\n",
              "      fill: #1967D2;\n",
              "      height: 32px;\n",
              "      padding: 0 0 0 0;\n",
              "      width: 32px;\n",
              "    }\n",
              "\n",
              "    .colab-df-convert:hover {\n",
              "      background-color: #E2EBFA;\n",
              "      box-shadow: 0px 1px 2px rgba(60, 64, 67, 0.3), 0px 1px 3px 1px rgba(60, 64, 67, 0.15);\n",
              "      fill: #174EA6;\n",
              "    }\n",
              "\n",
              "    [theme=dark] .colab-df-convert {\n",
              "      background-color: #3B4455;\n",
              "      fill: #D2E3FC;\n",
              "    }\n",
              "\n",
              "    [theme=dark] .colab-df-convert:hover {\n",
              "      background-color: #434B5C;\n",
              "      box-shadow: 0px 1px 3px 1px rgba(0, 0, 0, 0.15);\n",
              "      filter: drop-shadow(0px 1px 2px rgba(0, 0, 0, 0.3));\n",
              "      fill: #FFFFFF;\n",
              "    }\n",
              "  </style>\n",
              "\n",
              "      <script>\n",
              "        const buttonEl =\n",
              "          document.querySelector('#df-044fe488-de6e-423d-a8b2-1fea4e22e0f9 button.colab-df-convert');\n",
              "        buttonEl.style.display =\n",
              "          google.colab.kernel.accessAllowed ? 'block' : 'none';\n",
              "\n",
              "        async function convertToInteractive(key) {\n",
              "          const element = document.querySelector('#df-044fe488-de6e-423d-a8b2-1fea4e22e0f9');\n",
              "          const dataTable =\n",
              "            await google.colab.kernel.invokeFunction('convertToInteractive',\n",
              "                                                     [key], {});\n",
              "          if (!dataTable) return;\n",
              "\n",
              "          const docLinkHtml = 'Like what you see? Visit the ' +\n",
              "            '<a target=\"_blank\" href=https://colab.research.google.com/notebooks/data_table.ipynb>data table notebook</a>'\n",
              "            + ' to learn more about interactive tables.';\n",
              "          element.innerHTML = '';\n",
              "          dataTable['output_type'] = 'display_data';\n",
              "          await google.colab.output.renderOutput(dataTable, element);\n",
              "          const docLink = document.createElement('div');\n",
              "          docLink.innerHTML = docLinkHtml;\n",
              "          element.appendChild(docLink);\n",
              "        }\n",
              "      </script>\n",
              "    </div>\n",
              "  </div>\n",
              "  "
            ]
          },
          "metadata": {},
          "execution_count": 17
        }
      ],
      "source": [
        "%%time\n",
        "dfdask=dfdask.drop(['Time First Observed','Violation Legal Code','Unregistered Vehicle?','No Standing or Stopping Violation', 'Hydrant Violation', 'Double Parking Violation','Latitude','Longitude','Community Board','Community Council ','Census Tract','BIN','BBL','NTA'], axis=1) \n",
        "dfdask.head()\n"
      ]
    },
    {
      "cell_type": "code",
      "execution_count": null,
      "metadata": {
        "colab": {
          "base_uri": "https://localhost:8080/"
        },
        "id": "rK7rR7hj0jcm",
        "outputId": "28f97ca6-8805-4ed4-b7ea-aa86d4fb14d7"
      },
      "outputs": [
        {
          "output_type": "stream",
          "name": "stdout",
          "text": [
            "CPU times: user 12.7 ms, sys: 1.98 ms, total: 14.7 ms\n",
            "Wall time: 14.8 ms\n"
          ]
        }
      ],
      "source": [
        "#Not all nan values need to be drop. Hence we fill the Nan values with 0.\n",
        "%%time\n",
        "dfdask = dfdask.fillna(0)\n"
      ]
    },
    {
      "cell_type": "code",
      "execution_count": null,
      "metadata": {
        "colab": {
          "base_uri": "https://localhost:8080/"
        },
        "id": "btnK4UQo0w2q",
        "outputId": "efd0afbe-493f-479a-fa2c-fb9afc59593a"
      },
      "outputs": [
        {
          "output_type": "execute_result",
          "data": {
            "text/plain": [
              "Summons Number                       0\n",
              "Plate ID                             0\n",
              "Registration State                   0\n",
              "Plate Type                           0\n",
              "Issue Date                           0\n",
              "Violation Code                       0\n",
              "Vehicle Body Type                    0\n",
              "Vehicle Make                         0\n",
              "Issuing Agency                       0\n",
              "Street Code1                         0\n",
              "Street Code2                         0\n",
              "Street Code3                         0\n",
              "Vehicle Expiration Date              0\n",
              "Violation Location                   0\n",
              "Violation Precinct                   0\n",
              "Issuer Precinct                      0\n",
              "Issuer Code                          0\n",
              "Issuer Command                       0\n",
              "Issuer Squad                         0\n",
              "Violation Time                       0\n",
              "Violation County                     0\n",
              "Violation In Front Of Or Opposite    0\n",
              "House Number                         0\n",
              "Street Name                          0\n",
              "Intersecting Street                  0\n",
              "Date First Observed                  0\n",
              "Law Section                          0\n",
              "Sub Division                         0\n",
              "Days Parking In Effect               0\n",
              "From Hours In Effect                 0\n",
              "To Hours In Effect                   0\n",
              "Vehicle Color                        0\n",
              "Vehicle Year                         0\n",
              "Meter Number                         0\n",
              "Feet From Curb                       0\n",
              "Violation Post Code                  0\n",
              "Violation Description                0\n",
              "dtype: int64"
            ]
          },
          "metadata": {},
          "execution_count": 19
        }
      ],
      "source": [
        "dfdask.isnull().sum().compute()"
      ]
    },
    {
      "cell_type": "markdown",
      "metadata": {
        "id": "qvBFRjMW3TaR"
      },
      "source": [
        "**2.PySpark**"
      ]
    },
    {
      "cell_type": "code",
      "execution_count": null,
      "metadata": {
        "id": "cBQpw14zqEv_",
        "colab": {
          "base_uri": "https://localhost:8080/"
        },
        "outputId": "3f7b1944-296a-4729-9c7b-0de058726c93"
      },
      "outputs": [
        {
          "output_type": "stream",
          "name": "stdout",
          "text": [
            "+--------------+--------+------------------+----------+----------+--------------+-----------------+------------+--------------+------------+------------+------------+-----------------------+------------------+------------------+---------------+-----------+--------------+------------+--------------+-------------------+----------------+---------------------------------+------------+-----------+-------------------+-------------------+-----------+------------+--------------------+--------------------------+--------------------+------------------+-------------+---------------------+------------+------------+--------------+-------------------+---------------------+---------------------------------+-----------------+------------------------+--------+---------+---------------+------------------+------------+-------+-------+-------+\n",
            "|Summons Number|Plate ID|Registration State|Plate Type|Issue Date|Violation Code|Vehicle Body Type|Vehicle Make|Issuing Agency|Street Code1|Street Code2|Street Code3|Vehicle Expiration Date|Violation Location|Violation Precinct|Issuer Precinct|Issuer Code|Issuer Command|Issuer Squad|Violation Time|Time First Observed|Violation County|Violation In Front Of Or Opposite|House Number|Street Name|Intersecting Street|Date First Observed|Law Section|Sub Division|Violation Legal Code|Days Parking In Effect    |From Hours In Effect|To Hours In Effect|Vehicle Color|Unregistered Vehicle?|Vehicle Year|Meter Number|Feet From Curb|Violation Post Code|Violation Description|No Standing or Stopping Violation|Hydrant Violation|Double Parking Violation|Latitude|Longitude|Community Board|Community Council |Census Tract|    BIN|    BBL|    NTA|\n",
            "+--------------+--------+------------------+----------+----------+--------------+-----------------+------------+--------------+------------+------------+------------+-----------------------+------------------+------------------+---------------+-----------+--------------+------------+--------------+-------------------+----------------+---------------------------------+------------+-----------+-------------------+-------------------+-----------+------------+--------------------+--------------------------+--------------------+------------------+-------------+---------------------+------------+------------+--------------+-------------------+---------------------+---------------------------------+-----------------+------------------------+--------+---------+---------------+------------------+------------+-------+-------+-------+\n",
            "|             0|       3|                 0|         0|         0|             0|           110868|       63175|             0|           0|           0|           0|                      0|            671170|                 0|              0|          0|        654437|      654437|          2074|            8080301|          705205|                           769191|      856317|       4904|            7217041|                  0|          0|         246|             8443773|                   1415126|             3363268|           3363268|        72442|              7868631|           0|     7053455|             0|            1884022|              1231652|                          9100277|          9100277|                 9100277| 9100277|  9100277|        9100277|           9100277|     9100277|9100277|9100277|9100277|\n",
            "+--------------+--------+------------------+----------+----------+--------------+-----------------+------------+--------------+------------+------------+------------+-----------------------+------------------+------------------+---------------+-----------+--------------+------------+--------------+-------------------+----------------+---------------------------------+------------+-----------+-------------------+-------------------+-----------+------------+--------------------+--------------------------+--------------------+------------------+-------------+---------------------+------------+------------+--------------+-------------------+---------------------+---------------------------------+-----------------+------------------------+--------+---------+---------------+------------------+------------+-------+-------+-------+\n",
            "\n",
            "CPU times: user 2.62 s, sys: 292 ms, total: 2.91 s\n",
            "Wall time: 7min 50s\n"
          ]
        }
      ],
      "source": [
        "%%time\n",
        "from pyspark.sql.functions import isnan, when, count, col\n",
        "dfs.select([count(when(isnan(c) | col(c).isNull(), c)).alias(c) for c in dfs.columns]).show()"
      ]
    },
    {
      "cell_type": "code",
      "execution_count": null,
      "metadata": {
        "id": "O4-sfr0t9Zv0",
        "colab": {
          "base_uri": "https://localhost:8080/"
        },
        "outputId": "2eb12afd-6abb-4838-a856-096f843b535a"
      },
      "outputs": [
        {
          "output_type": "stream",
          "name": "stdout",
          "text": [
            "root\n",
            " |-- Summons Number: long (nullable = true)\n",
            " |-- Plate ID: string (nullable = true)\n",
            " |-- Registration State: string (nullable = true)\n",
            " |-- Plate Type: string (nullable = true)\n",
            " |-- Issue Date: string (nullable = true)\n",
            " |-- Violation Code: integer (nullable = true)\n",
            " |-- Vehicle Body Type: string (nullable = true)\n",
            " |-- Vehicle Make: string (nullable = true)\n",
            " |-- Issuing Agency: string (nullable = true)\n",
            " |-- Street Code1: integer (nullable = true)\n",
            " |-- Street Code2: integer (nullable = true)\n",
            " |-- Street Code3: integer (nullable = true)\n",
            " |-- Vehicle Expiration Date: integer (nullable = true)\n",
            " |-- Violation Location: integer (nullable = true)\n",
            " |-- Violation Precinct: integer (nullable = true)\n",
            " |-- Issuer Precinct: integer (nullable = true)\n",
            " |-- Issuer Code: integer (nullable = true)\n",
            " |-- Issuer Command: string (nullable = true)\n",
            " |-- Issuer Squad: string (nullable = true)\n",
            " |-- Violation Time: string (nullable = true)\n",
            " |-- Violation County: string (nullable = true)\n",
            " |-- Violation In Front Of Or Opposite: string (nullable = true)\n",
            " |-- House Number: string (nullable = true)\n",
            " |-- Street Name: string (nullable = true)\n",
            " |-- Intersecting Street: string (nullable = true)\n",
            " |-- Date First Observed: string (nullable = true)\n",
            " |-- Law Section: string (nullable = true)\n",
            " |-- Sub Division: string (nullable = true)\n",
            " |-- Days Parking In Effect    : string (nullable = true)\n",
            " |-- From Hours In Effect: string (nullable = true)\n",
            " |-- To Hours In Effect: string (nullable = true)\n",
            " |-- Vehicle Color: string (nullable = true)\n",
            " |-- Vehicle Year: string (nullable = true)\n",
            " |-- Meter Number: string (nullable = true)\n",
            " |-- Feet From Curb: string (nullable = true)\n",
            " |-- Violation Post Code: string (nullable = true)\n",
            " |-- Violation Description: string (nullable = true)\n",
            "\n",
            "CPU times: user 5.79 ms, sys: 0 ns, total: 5.79 ms\n",
            "Wall time: 30.6 ms\n"
          ]
        }
      ],
      "source": [
        "%%time\n",
        "dfs.drop('Time First Observed','Violation Legal Code','Unregistered Vehicle?','No Standing or Stopping Violation', 'Hydrant Violation', 'Double Parking Violation','Latitude','Longitude','Community Board','Community Council ','Census Tract','BIN','BBL','NTA') \\\n",
        "    .printSchema()"
      ]
    },
    {
      "cell_type": "code",
      "execution_count": null,
      "metadata": {
        "id": "3fy4Rbvn2Ern",
        "colab": {
          "base_uri": "https://localhost:8080/"
        },
        "outputId": "b0c7d207-c67a-436b-c3a9-713de85c290d"
      },
      "outputs": [
        {
          "output_type": "stream",
          "name": "stdout",
          "text": [
            "CPU times: user 2.77 ms, sys: 0 ns, total: 2.77 ms\n",
            "Wall time: 39 ms\n"
          ]
        }
      ],
      "source": [
        "#Not all nan values need to be drop. Hence we fill the Nan values with 0.\n",
        "%%time\n",
        "dfs=dfs.fillna(0)"
      ]
    },
    {
      "cell_type": "code",
      "execution_count": null,
      "metadata": {
        "id": "tOq7jPmD25ZN",
        "colab": {
          "base_uri": "https://localhost:8080/",
          "height": 449
        },
        "outputId": "63495b6d-4636-40df-8e82-910fb0600228"
      },
      "outputs": [
        {
          "output_type": "error",
          "ename": "ConnectionRefusedError",
          "evalue": "ignored",
          "traceback": [
            "\u001b[0;31m---------------------------------------------------------------------------\u001b[0m",
            "\u001b[0;31mConnectionRefusedError\u001b[0m                    Traceback (most recent call last)",
            "\u001b[0;32m<timed exec>\u001b[0m in \u001b[0;36m<module>\u001b[0;34m\u001b[0m\n",
            "\u001b[0;32m<timed exec>\u001b[0m in \u001b[0;36m<listcomp>\u001b[0;34m(.0)\u001b[0m\n",
            "\u001b[0;32m/usr/local/lib/python3.8/dist-packages/pyspark/sql/functions.py\u001b[0m in \u001b[0;36misnan\u001b[0;34m(col)\u001b[0m\n\u001b[1;32m   1311\u001b[0m     \u001b[0;34m[\u001b[0m\u001b[0mRow\u001b[0m\u001b[0;34m(\u001b[0m\u001b[0mr1\u001b[0m\u001b[0;34m=\u001b[0m\u001b[0;32mFalse\u001b[0m\u001b[0;34m,\u001b[0m \u001b[0mr2\u001b[0m\u001b[0;34m=\u001b[0m\u001b[0;32mFalse\u001b[0m\u001b[0;34m)\u001b[0m\u001b[0;34m,\u001b[0m \u001b[0mRow\u001b[0m\u001b[0;34m(\u001b[0m\u001b[0mr1\u001b[0m\u001b[0;34m=\u001b[0m\u001b[0;32mTrue\u001b[0m\u001b[0;34m,\u001b[0m \u001b[0mr2\u001b[0m\u001b[0;34m=\u001b[0m\u001b[0;32mTrue\u001b[0m\u001b[0;34m)\u001b[0m\u001b[0;34m]\u001b[0m\u001b[0;34m\u001b[0m\u001b[0;34m\u001b[0m\u001b[0m\n\u001b[1;32m   1312\u001b[0m     \"\"\"\n\u001b[0;32m-> 1313\u001b[0;31m     \u001b[0;32mreturn\u001b[0m \u001b[0m_invoke_function_over_columns\u001b[0m\u001b[0;34m(\u001b[0m\u001b[0;34m\"isnan\"\u001b[0m\u001b[0;34m,\u001b[0m \u001b[0mcol\u001b[0m\u001b[0;34m)\u001b[0m\u001b[0;34m\u001b[0m\u001b[0;34m\u001b[0m\u001b[0m\n\u001b[0m\u001b[1;32m   1314\u001b[0m \u001b[0;34m\u001b[0m\u001b[0m\n\u001b[1;32m   1315\u001b[0m \u001b[0;34m\u001b[0m\u001b[0m\n",
            "\u001b[0;32m/usr/local/lib/python3.8/dist-packages/pyspark/sql/functions.py\u001b[0m in \u001b[0;36m_invoke_function_over_columns\u001b[0;34m(name, *cols)\u001b[0m\n\u001b[1;32m     91\u001b[0m     \u001b[0;32mand\u001b[0m \u001b[0mwraps\u001b[0m \u001b[0mthe\u001b[0m \u001b[0mresult\u001b[0m \u001b[0;32mwith\u001b[0m \u001b[0;34m:\u001b[0m\u001b[0;32mclass\u001b[0m\u001b[0;34m:\u001b[0m\u001b[0;31m`\u001b[0m\u001b[0;34m~\u001b[0m\u001b[0mpyspark\u001b[0m\u001b[0;34m.\u001b[0m\u001b[0msql\u001b[0m\u001b[0;34m.\u001b[0m\u001b[0mColumn\u001b[0m\u001b[0;31m`\u001b[0m\u001b[0;34m.\u001b[0m\u001b[0;34m\u001b[0m\u001b[0;34m\u001b[0m\u001b[0m\n\u001b[1;32m     92\u001b[0m     \"\"\"\n\u001b[0;32m---> 93\u001b[0;31m     \u001b[0;32mreturn\u001b[0m \u001b[0m_invoke_function\u001b[0m\u001b[0;34m(\u001b[0m\u001b[0mname\u001b[0m\u001b[0;34m,\u001b[0m \u001b[0;34m*\u001b[0m\u001b[0;34m(\u001b[0m\u001b[0m_to_java_column\u001b[0m\u001b[0;34m(\u001b[0m\u001b[0mcol\u001b[0m\u001b[0;34m)\u001b[0m \u001b[0;32mfor\u001b[0m \u001b[0mcol\u001b[0m \u001b[0;32min\u001b[0m \u001b[0mcols\u001b[0m\u001b[0;34m)\u001b[0m\u001b[0;34m)\u001b[0m\u001b[0;34m\u001b[0m\u001b[0;34m\u001b[0m\u001b[0m\n\u001b[0m\u001b[1;32m     94\u001b[0m \u001b[0;34m\u001b[0m\u001b[0m\n\u001b[1;32m     95\u001b[0m \u001b[0;34m\u001b[0m\u001b[0m\n",
            "\u001b[0;32m/usr/local/lib/python3.8/dist-packages/pyspark/sql/functions.py\u001b[0m in \u001b[0;36m<genexpr>\u001b[0;34m(.0)\u001b[0m\n\u001b[1;32m     91\u001b[0m     \u001b[0;32mand\u001b[0m \u001b[0mwraps\u001b[0m \u001b[0mthe\u001b[0m \u001b[0mresult\u001b[0m \u001b[0;32mwith\u001b[0m \u001b[0;34m:\u001b[0m\u001b[0;32mclass\u001b[0m\u001b[0;34m:\u001b[0m\u001b[0;31m`\u001b[0m\u001b[0;34m~\u001b[0m\u001b[0mpyspark\u001b[0m\u001b[0;34m.\u001b[0m\u001b[0msql\u001b[0m\u001b[0;34m.\u001b[0m\u001b[0mColumn\u001b[0m\u001b[0;31m`\u001b[0m\u001b[0;34m.\u001b[0m\u001b[0;34m\u001b[0m\u001b[0;34m\u001b[0m\u001b[0m\n\u001b[1;32m     92\u001b[0m     \"\"\"\n\u001b[0;32m---> 93\u001b[0;31m     \u001b[0;32mreturn\u001b[0m \u001b[0m_invoke_function\u001b[0m\u001b[0;34m(\u001b[0m\u001b[0mname\u001b[0m\u001b[0;34m,\u001b[0m \u001b[0;34m*\u001b[0m\u001b[0;34m(\u001b[0m\u001b[0m_to_java_column\u001b[0m\u001b[0;34m(\u001b[0m\u001b[0mcol\u001b[0m\u001b[0;34m)\u001b[0m \u001b[0;32mfor\u001b[0m \u001b[0mcol\u001b[0m \u001b[0;32min\u001b[0m \u001b[0mcols\u001b[0m\u001b[0;34m)\u001b[0m\u001b[0;34m)\u001b[0m\u001b[0;34m\u001b[0m\u001b[0;34m\u001b[0m\u001b[0m\n\u001b[0m\u001b[1;32m     94\u001b[0m \u001b[0;34m\u001b[0m\u001b[0m\n\u001b[1;32m     95\u001b[0m \u001b[0;34m\u001b[0m\u001b[0m\n",
            "\u001b[0;32m/usr/local/lib/python3.8/dist-packages/pyspark/sql/column.py\u001b[0m in \u001b[0;36m_to_java_column\u001b[0;34m(col)\u001b[0m\n\u001b[1;32m     61\u001b[0m         \u001b[0mjcol\u001b[0m \u001b[0;34m=\u001b[0m \u001b[0mcol\u001b[0m\u001b[0;34m.\u001b[0m\u001b[0m_jc\u001b[0m\u001b[0;34m\u001b[0m\u001b[0;34m\u001b[0m\u001b[0m\n\u001b[1;32m     62\u001b[0m     \u001b[0;32melif\u001b[0m \u001b[0misinstance\u001b[0m\u001b[0;34m(\u001b[0m\u001b[0mcol\u001b[0m\u001b[0;34m,\u001b[0m \u001b[0mstr\u001b[0m\u001b[0;34m)\u001b[0m\u001b[0;34m:\u001b[0m\u001b[0;34m\u001b[0m\u001b[0;34m\u001b[0m\u001b[0m\n\u001b[0;32m---> 63\u001b[0;31m         \u001b[0mjcol\u001b[0m \u001b[0;34m=\u001b[0m \u001b[0m_create_column_from_name\u001b[0m\u001b[0;34m(\u001b[0m\u001b[0mcol\u001b[0m\u001b[0;34m)\u001b[0m\u001b[0;34m\u001b[0m\u001b[0;34m\u001b[0m\u001b[0m\n\u001b[0m\u001b[1;32m     64\u001b[0m     \u001b[0;32melse\u001b[0m\u001b[0;34m:\u001b[0m\u001b[0;34m\u001b[0m\u001b[0;34m\u001b[0m\u001b[0m\n\u001b[1;32m     65\u001b[0m         raise TypeError(\n",
            "\u001b[0;32m/usr/local/lib/python3.8/dist-packages/pyspark/sql/column.py\u001b[0m in \u001b[0;36m_create_column_from_name\u001b[0;34m(name)\u001b[0m\n\u001b[1;32m     54\u001b[0m     \u001b[0msc\u001b[0m \u001b[0;34m=\u001b[0m \u001b[0mSparkContext\u001b[0m\u001b[0;34m.\u001b[0m\u001b[0m_active_spark_context\u001b[0m\u001b[0;34m\u001b[0m\u001b[0;34m\u001b[0m\u001b[0m\n\u001b[1;32m     55\u001b[0m     \u001b[0;32massert\u001b[0m \u001b[0msc\u001b[0m \u001b[0;32mis\u001b[0m \u001b[0;32mnot\u001b[0m \u001b[0;32mNone\u001b[0m \u001b[0;32mand\u001b[0m \u001b[0msc\u001b[0m\u001b[0;34m.\u001b[0m\u001b[0m_jvm\u001b[0m \u001b[0;32mis\u001b[0m \u001b[0;32mnot\u001b[0m \u001b[0;32mNone\u001b[0m\u001b[0;34m\u001b[0m\u001b[0;34m\u001b[0m\u001b[0m\n\u001b[0;32m---> 56\u001b[0;31m     \u001b[0;32mreturn\u001b[0m \u001b[0msc\u001b[0m\u001b[0;34m.\u001b[0m\u001b[0m_jvm\u001b[0m\u001b[0;34m.\u001b[0m\u001b[0mfunctions\u001b[0m\u001b[0;34m.\u001b[0m\u001b[0mcol\u001b[0m\u001b[0;34m(\u001b[0m\u001b[0mname\u001b[0m\u001b[0;34m)\u001b[0m\u001b[0;34m\u001b[0m\u001b[0;34m\u001b[0m\u001b[0m\n\u001b[0m\u001b[1;32m     57\u001b[0m \u001b[0;34m\u001b[0m\u001b[0m\n\u001b[1;32m     58\u001b[0m \u001b[0;34m\u001b[0m\u001b[0m\n",
            "\u001b[0;32m/usr/local/lib/python3.8/dist-packages/py4j/java_gateway.py\u001b[0m in \u001b[0;36m__getattr__\u001b[0;34m(self, name)\u001b[0m\n\u001b[1;32m   1707\u001b[0m             \u001b[0;32mreturn\u001b[0m \u001b[0mUserHelpAutoCompletion\u001b[0m\u001b[0;34m(\u001b[0m\u001b[0;34m)\u001b[0m\u001b[0;34m\u001b[0m\u001b[0;34m\u001b[0m\u001b[0m\n\u001b[1;32m   1708\u001b[0m \u001b[0;34m\u001b[0m\u001b[0m\n\u001b[0;32m-> 1709\u001b[0;31m         answer = self._gateway_client.send_command(\n\u001b[0m\u001b[1;32m   1710\u001b[0m             \u001b[0mproto\u001b[0m\u001b[0;34m.\u001b[0m\u001b[0mREFLECTION_COMMAND_NAME\u001b[0m \u001b[0;34m+\u001b[0m\u001b[0;34m\u001b[0m\u001b[0;34m\u001b[0m\u001b[0m\n\u001b[1;32m   1711\u001b[0m             \u001b[0mproto\u001b[0m\u001b[0;34m.\u001b[0m\u001b[0mREFL_GET_UNKNOWN_SUB_COMMAND_NAME\u001b[0m \u001b[0;34m+\u001b[0m \u001b[0mname\u001b[0m \u001b[0;34m+\u001b[0m \u001b[0;34m\"\\n\"\u001b[0m \u001b[0;34m+\u001b[0m \u001b[0mself\u001b[0m\u001b[0;34m.\u001b[0m\u001b[0m_id\u001b[0m \u001b[0;34m+\u001b[0m\u001b[0;34m\u001b[0m\u001b[0;34m\u001b[0m\u001b[0m\n",
            "\u001b[0;32m/usr/local/lib/python3.8/dist-packages/py4j/java_gateway.py\u001b[0m in \u001b[0;36msend_command\u001b[0;34m(self, command, retry, binary)\u001b[0m\n\u001b[1;32m   1034\u001b[0m          \u001b[0;32mif\u001b[0m\u001b[0;31m \u001b[0m\u001b[0;31m`\u001b[0m\u001b[0mbinary\u001b[0m\u001b[0;31m`\u001b[0m \u001b[0;32mis\u001b[0m\u001b[0;31m \u001b[0m\u001b[0;31m`\u001b[0m\u001b[0;32mTrue\u001b[0m\u001b[0;31m`\u001b[0m\u001b[0;34m.\u001b[0m\u001b[0;34m\u001b[0m\u001b[0;34m\u001b[0m\u001b[0m\n\u001b[1;32m   1035\u001b[0m         \"\"\"\n\u001b[0;32m-> 1036\u001b[0;31m         \u001b[0mconnection\u001b[0m \u001b[0;34m=\u001b[0m \u001b[0mself\u001b[0m\u001b[0;34m.\u001b[0m\u001b[0m_get_connection\u001b[0m\u001b[0;34m(\u001b[0m\u001b[0;34m)\u001b[0m\u001b[0;34m\u001b[0m\u001b[0;34m\u001b[0m\u001b[0m\n\u001b[0m\u001b[1;32m   1037\u001b[0m         \u001b[0;32mtry\u001b[0m\u001b[0;34m:\u001b[0m\u001b[0;34m\u001b[0m\u001b[0;34m\u001b[0m\u001b[0m\n\u001b[1;32m   1038\u001b[0m             \u001b[0mresponse\u001b[0m \u001b[0;34m=\u001b[0m \u001b[0mconnection\u001b[0m\u001b[0;34m.\u001b[0m\u001b[0msend_command\u001b[0m\u001b[0;34m(\u001b[0m\u001b[0mcommand\u001b[0m\u001b[0;34m)\u001b[0m\u001b[0;34m\u001b[0m\u001b[0;34m\u001b[0m\u001b[0m\n",
            "\u001b[0;32m/usr/local/lib/python3.8/dist-packages/py4j/clientserver.py\u001b[0m in \u001b[0;36m_get_connection\u001b[0;34m(self)\u001b[0m\n\u001b[1;32m    282\u001b[0m \u001b[0;34m\u001b[0m\u001b[0m\n\u001b[1;32m    283\u001b[0m         \u001b[0;32mif\u001b[0m \u001b[0mconnection\u001b[0m \u001b[0;32mis\u001b[0m \u001b[0;32mNone\u001b[0m \u001b[0;32mor\u001b[0m \u001b[0mconnection\u001b[0m\u001b[0;34m.\u001b[0m\u001b[0msocket\u001b[0m \u001b[0;32mis\u001b[0m \u001b[0;32mNone\u001b[0m\u001b[0;34m:\u001b[0m\u001b[0;34m\u001b[0m\u001b[0;34m\u001b[0m\u001b[0m\n\u001b[0;32m--> 284\u001b[0;31m             \u001b[0mconnection\u001b[0m \u001b[0;34m=\u001b[0m \u001b[0mself\u001b[0m\u001b[0;34m.\u001b[0m\u001b[0m_create_new_connection\u001b[0m\u001b[0;34m(\u001b[0m\u001b[0;34m)\u001b[0m\u001b[0;34m\u001b[0m\u001b[0;34m\u001b[0m\u001b[0m\n\u001b[0m\u001b[1;32m    285\u001b[0m         \u001b[0;32mreturn\u001b[0m \u001b[0mconnection\u001b[0m\u001b[0;34m\u001b[0m\u001b[0;34m\u001b[0m\u001b[0m\n\u001b[1;32m    286\u001b[0m \u001b[0;34m\u001b[0m\u001b[0m\n",
            "\u001b[0;32m/usr/local/lib/python3.8/dist-packages/py4j/clientserver.py\u001b[0m in \u001b[0;36m_create_new_connection\u001b[0;34m(self)\u001b[0m\n\u001b[1;32m    289\u001b[0m             \u001b[0mself\u001b[0m\u001b[0;34m.\u001b[0m\u001b[0mjava_parameters\u001b[0m\u001b[0;34m,\u001b[0m \u001b[0mself\u001b[0m\u001b[0;34m.\u001b[0m\u001b[0mpython_parameters\u001b[0m\u001b[0;34m,\u001b[0m\u001b[0;34m\u001b[0m\u001b[0;34m\u001b[0m\u001b[0m\n\u001b[1;32m    290\u001b[0m             self.gateway_property, self)\n\u001b[0;32m--> 291\u001b[0;31m         \u001b[0mconnection\u001b[0m\u001b[0;34m.\u001b[0m\u001b[0mconnect_to_java_server\u001b[0m\u001b[0;34m(\u001b[0m\u001b[0;34m)\u001b[0m\u001b[0;34m\u001b[0m\u001b[0;34m\u001b[0m\u001b[0m\n\u001b[0m\u001b[1;32m    292\u001b[0m         \u001b[0mself\u001b[0m\u001b[0;34m.\u001b[0m\u001b[0mset_thread_connection\u001b[0m\u001b[0;34m(\u001b[0m\u001b[0mconnection\u001b[0m\u001b[0;34m)\u001b[0m\u001b[0;34m\u001b[0m\u001b[0;34m\u001b[0m\u001b[0m\n\u001b[1;32m    293\u001b[0m         \u001b[0;32mreturn\u001b[0m \u001b[0mconnection\u001b[0m\u001b[0;34m\u001b[0m\u001b[0;34m\u001b[0m\u001b[0m\n",
            "\u001b[0;32m/usr/local/lib/python3.8/dist-packages/py4j/clientserver.py\u001b[0m in \u001b[0;36mconnect_to_java_server\u001b[0;34m(self)\u001b[0m\n\u001b[1;32m    436\u001b[0m                 self.socket = self.ssl_context.wrap_socket(\n\u001b[1;32m    437\u001b[0m                     self.socket, server_hostname=self.java_address)\n\u001b[0;32m--> 438\u001b[0;31m             \u001b[0mself\u001b[0m\u001b[0;34m.\u001b[0m\u001b[0msocket\u001b[0m\u001b[0;34m.\u001b[0m\u001b[0mconnect\u001b[0m\u001b[0;34m(\u001b[0m\u001b[0;34m(\u001b[0m\u001b[0mself\u001b[0m\u001b[0;34m.\u001b[0m\u001b[0mjava_address\u001b[0m\u001b[0;34m,\u001b[0m \u001b[0mself\u001b[0m\u001b[0;34m.\u001b[0m\u001b[0mjava_port\u001b[0m\u001b[0;34m)\u001b[0m\u001b[0;34m)\u001b[0m\u001b[0;34m\u001b[0m\u001b[0;34m\u001b[0m\u001b[0m\n\u001b[0m\u001b[1;32m    439\u001b[0m             \u001b[0mself\u001b[0m\u001b[0;34m.\u001b[0m\u001b[0mstream\u001b[0m \u001b[0;34m=\u001b[0m \u001b[0mself\u001b[0m\u001b[0;34m.\u001b[0m\u001b[0msocket\u001b[0m\u001b[0;34m.\u001b[0m\u001b[0mmakefile\u001b[0m\u001b[0;34m(\u001b[0m\u001b[0;34m\"rb\"\u001b[0m\u001b[0;34m)\u001b[0m\u001b[0;34m\u001b[0m\u001b[0;34m\u001b[0m\u001b[0m\n\u001b[1;32m    440\u001b[0m             \u001b[0mself\u001b[0m\u001b[0;34m.\u001b[0m\u001b[0mis_connected\u001b[0m \u001b[0;34m=\u001b[0m \u001b[0;32mTrue\u001b[0m\u001b[0;34m\u001b[0m\u001b[0;34m\u001b[0m\u001b[0m\n",
            "\u001b[0;31mConnectionRefusedError\u001b[0m: [Errno 111] Connection refused"
          ]
        }
      ],
      "source": [
        "%%time\n",
        "from pyspark.sql.functions import isnan, when, count, col\n",
        "dfs.select([count(when(isnan(c) | col(c).isNull(), c)).alias(c) for c in dfs.columns]).show()"
      ]
    },
    {
      "cell_type": "markdown",
      "metadata": {
        "id": "wsvO2GxE3cO1"
      },
      "source": [
        "**3.Koalas**"
      ]
    },
    {
      "cell_type": "code",
      "execution_count": null,
      "metadata": {
        "id": "pP-2HKSXkWpk",
        "colab": {
          "base_uri": "https://localhost:8080/"
        },
        "outputId": "a9548b02-f957-45df-b93d-fd8db239c10f"
      },
      "outputs": [
        {
          "output_type": "stream",
          "name": "stdout",
          "text": [
            "CPU times: user 1.45 s, sys: 153 ms, total: 1.6 s\n",
            "Wall time: 1min 12s\n"
          ]
        },
        {
          "output_type": "execute_result",
          "data": {
            "text/plain": [
              "Summons Number                             0\n",
              "Plate ID                                   0\n",
              "Registration State                         0\n",
              "Plate Type                                 0\n",
              "Issue Date                                 0\n",
              "Violation Code                             0\n",
              "Vehicle Body Type                          0\n",
              "Vehicle Make                               0\n",
              "Issuing Agency                             0\n",
              "Street Code1                               0\n",
              "Street Code2                               0\n",
              "Street Code3                               0\n",
              "Vehicle Expiration Date                    0\n",
              "Violation Location                         0\n",
              "Violation Precinct                         0\n",
              "Issuer Precinct                            0\n",
              "Issuer Code                                0\n",
              "Issuer Command                             0\n",
              "Issuer Squad                               0\n",
              "Violation Time                             0\n",
              "Time First Observed                        0\n",
              "Violation County                           0\n",
              "Violation In Front Of Or Opposite          0\n",
              "House Number                               0\n",
              "Street Name                                0\n",
              "Intersecting Street                        0\n",
              "Date First Observed                        0\n",
              "Law Section                                1\n",
              "Sub Division                               0\n",
              "Violation Legal Code                       0\n",
              "Days Parking In Effect                     0\n",
              "From Hours In Effect                       0\n",
              "To Hours In Effect                         0\n",
              "Vehicle Color                              0\n",
              "Unregistered Vehicle?                      0\n",
              "Vehicle Year                               1\n",
              "Meter Number                               0\n",
              "Feet From Curb                             1\n",
              "Violation Post Code                        0\n",
              "Violation Description                      0\n",
              "No Standing or Stopping Violation          0\n",
              "Hydrant Violation                          0\n",
              "Double Parking Violation                   0\n",
              "Latitude                             9100277\n",
              "Longitude                            9100277\n",
              "Community Board                      9100277\n",
              "Community Council                    9100277\n",
              "Census Tract                         9100277\n",
              "BIN                                  9100277\n",
              "BBL                                  9100277\n",
              "NTA                                  9100277\n",
              "dtype: int64"
            ]
          },
          "metadata": {},
          "execution_count": 24
        }
      ],
      "source": [
        "%%time\n",
        "dfk.isnull().sum()"
      ]
    },
    {
      "cell_type": "code",
      "execution_count": null,
      "metadata": {
        "id": "I7HmvJkBBD1N",
        "colab": {
          "base_uri": "https://localhost:8080/",
          "height": 399
        },
        "outputId": "24d8e2e1-f6c7-4f42-8feb-f7144dbfdae1"
      },
      "outputs": [
        {
          "output_type": "stream",
          "name": "stdout",
          "text": [
            "CPU times: user 50.6 ms, sys: 8.15 ms, total: 58.7 ms\n",
            "Wall time: 171 ms\n"
          ]
        },
        {
          "output_type": "execute_result",
          "data": {
            "text/plain": [
              "   Summons Number Plate ID Registration State Plate Type  Issue Date  Violation Code Vehicle Body Type Vehicle Make Issuing Agency  Street Code1  Street Code2  Street Code3 Vehicle Expiration Date Violation Location  Violation Precinct  Issuer Precinct  Issuer Code Issuer Command Issuer Squad Violation Time Violation County Violation In Front Of Or Opposite House Number Street Name Intersecting Street Date First Observed  Law Section Sub Division Days Parking In Effect     From Hours In Effect To Hours In Effect Vehicle Color  Vehicle Year Meter Number  Feet From Curb Violation Post Code Violation Description\n",
              "0      1283294138  GBB9093                 NY        PAS  08/04/2013              46              SUBN         AUDI              P         37250         13610         21190                20140831                 33                33.0             33.0     921043.0           0033         0000          0752A             None                                 F          712    W 175 ST                None                   0        408.0           F1                    BBBBBBB                  ALL                ALL            GY        2013.0            -             0.0                None                  None\n",
              "1      1283294151  62416MB                 NY        COM  08/04/2013              46               VAN         FORD              P         37290         40404         40404                20140430                 33                33.0             33.0     921043.0           0033         0000          1240P               NY                                 O          201    W 177 ST                None                   0        408.0            C                    BBBBBBB                  ALL                ALL            WH        2012.0            -             0.0                None                  None\n",
              "2      1283294163  78755JZ                 NY        COM  08/05/2013              46               P-U        CHEVR              P         37030         31190         13610                20140228                 33                33.0             33.0     921043.0           0033         0000          1243P               NY                                 O          520    W 163 ST                None                   0        408.0           F7                    BBBBBBB                  ALL                ALL          None           0.0            -             0.0                None                  None\n",
              "3      1283294175  63009MA                 NY        COM  08/05/2013              46               VAN         FORD              P         37270         11710         12010                20141031                 33                33.0             33.0     921043.0           0033         0000          0232P               NY                                 O          517    W 176 ST                None                   0        408.0           F1                    BBBBBBB                  ALL                ALL            WH        2010.0            -             0.0                None                  None\n",
              "4      1283294187  91648MC                 NY        COM  08/08/2013              41              TRLR          GMC              P         37240         12010         31190                       0                 33                33.0             33.0     921043.0           0033         0000          1239P               NY                                 F          590    W 174 ST                None                   0        408.0           E1                    BBBBBBB                  ALL                ALL            BR        2012.0            -             0.0                None                  None"
            ],
            "text/html": [
              "<div>\n",
              "<style scoped>\n",
              "    .dataframe tbody tr th:only-of-type {\n",
              "        vertical-align: middle;\n",
              "    }\n",
              "\n",
              "    .dataframe tbody tr th {\n",
              "        vertical-align: top;\n",
              "    }\n",
              "\n",
              "    .dataframe thead th {\n",
              "        text-align: right;\n",
              "    }\n",
              "</style>\n",
              "<table border=\"1\" class=\"dataframe\">\n",
              "  <thead>\n",
              "    <tr style=\"text-align: right;\">\n",
              "      <th></th>\n",
              "      <th>Summons Number</th>\n",
              "      <th>Plate ID</th>\n",
              "      <th>Registration State</th>\n",
              "      <th>Plate Type</th>\n",
              "      <th>Issue Date</th>\n",
              "      <th>Violation Code</th>\n",
              "      <th>Vehicle Body Type</th>\n",
              "      <th>Vehicle Make</th>\n",
              "      <th>Issuing Agency</th>\n",
              "      <th>Street Code1</th>\n",
              "      <th>Street Code2</th>\n",
              "      <th>Street Code3</th>\n",
              "      <th>Vehicle Expiration Date</th>\n",
              "      <th>Violation Location</th>\n",
              "      <th>Violation Precinct</th>\n",
              "      <th>Issuer Precinct</th>\n",
              "      <th>Issuer Code</th>\n",
              "      <th>Issuer Command</th>\n",
              "      <th>Issuer Squad</th>\n",
              "      <th>Violation Time</th>\n",
              "      <th>Violation County</th>\n",
              "      <th>Violation In Front Of Or Opposite</th>\n",
              "      <th>House Number</th>\n",
              "      <th>Street Name</th>\n",
              "      <th>Intersecting Street</th>\n",
              "      <th>Date First Observed</th>\n",
              "      <th>Law Section</th>\n",
              "      <th>Sub Division</th>\n",
              "      <th>Days Parking In Effect</th>\n",
              "      <th>From Hours In Effect</th>\n",
              "      <th>To Hours In Effect</th>\n",
              "      <th>Vehicle Color</th>\n",
              "      <th>Vehicle Year</th>\n",
              "      <th>Meter Number</th>\n",
              "      <th>Feet From Curb</th>\n",
              "      <th>Violation Post Code</th>\n",
              "      <th>Violation Description</th>\n",
              "    </tr>\n",
              "  </thead>\n",
              "  <tbody>\n",
              "    <tr>\n",
              "      <th>0</th>\n",
              "      <td>1283294138</td>\n",
              "      <td>GBB9093</td>\n",
              "      <td>NY</td>\n",
              "      <td>PAS</td>\n",
              "      <td>08/04/2013</td>\n",
              "      <td>46</td>\n",
              "      <td>SUBN</td>\n",
              "      <td>AUDI</td>\n",
              "      <td>P</td>\n",
              "      <td>37250</td>\n",
              "      <td>13610</td>\n",
              "      <td>21190</td>\n",
              "      <td>20140831</td>\n",
              "      <td>33</td>\n",
              "      <td>33.0</td>\n",
              "      <td>33.0</td>\n",
              "      <td>921043.0</td>\n",
              "      <td>0033</td>\n",
              "      <td>0000</td>\n",
              "      <td>0752A</td>\n",
              "      <td>None</td>\n",
              "      <td>F</td>\n",
              "      <td>712</td>\n",
              "      <td>W 175 ST</td>\n",
              "      <td>None</td>\n",
              "      <td>0</td>\n",
              "      <td>408.0</td>\n",
              "      <td>F1</td>\n",
              "      <td>BBBBBBB</td>\n",
              "      <td>ALL</td>\n",
              "      <td>ALL</td>\n",
              "      <td>GY</td>\n",
              "      <td>2013.0</td>\n",
              "      <td>-</td>\n",
              "      <td>0.0</td>\n",
              "      <td>None</td>\n",
              "      <td>None</td>\n",
              "    </tr>\n",
              "    <tr>\n",
              "      <th>1</th>\n",
              "      <td>1283294151</td>\n",
              "      <td>62416MB</td>\n",
              "      <td>NY</td>\n",
              "      <td>COM</td>\n",
              "      <td>08/04/2013</td>\n",
              "      <td>46</td>\n",
              "      <td>VAN</td>\n",
              "      <td>FORD</td>\n",
              "      <td>P</td>\n",
              "      <td>37290</td>\n",
              "      <td>40404</td>\n",
              "      <td>40404</td>\n",
              "      <td>20140430</td>\n",
              "      <td>33</td>\n",
              "      <td>33.0</td>\n",
              "      <td>33.0</td>\n",
              "      <td>921043.0</td>\n",
              "      <td>0033</td>\n",
              "      <td>0000</td>\n",
              "      <td>1240P</td>\n",
              "      <td>NY</td>\n",
              "      <td>O</td>\n",
              "      <td>201</td>\n",
              "      <td>W 177 ST</td>\n",
              "      <td>None</td>\n",
              "      <td>0</td>\n",
              "      <td>408.0</td>\n",
              "      <td>C</td>\n",
              "      <td>BBBBBBB</td>\n",
              "      <td>ALL</td>\n",
              "      <td>ALL</td>\n",
              "      <td>WH</td>\n",
              "      <td>2012.0</td>\n",
              "      <td>-</td>\n",
              "      <td>0.0</td>\n",
              "      <td>None</td>\n",
              "      <td>None</td>\n",
              "    </tr>\n",
              "    <tr>\n",
              "      <th>2</th>\n",
              "      <td>1283294163</td>\n",
              "      <td>78755JZ</td>\n",
              "      <td>NY</td>\n",
              "      <td>COM</td>\n",
              "      <td>08/05/2013</td>\n",
              "      <td>46</td>\n",
              "      <td>P-U</td>\n",
              "      <td>CHEVR</td>\n",
              "      <td>P</td>\n",
              "      <td>37030</td>\n",
              "      <td>31190</td>\n",
              "      <td>13610</td>\n",
              "      <td>20140228</td>\n",
              "      <td>33</td>\n",
              "      <td>33.0</td>\n",
              "      <td>33.0</td>\n",
              "      <td>921043.0</td>\n",
              "      <td>0033</td>\n",
              "      <td>0000</td>\n",
              "      <td>1243P</td>\n",
              "      <td>NY</td>\n",
              "      <td>O</td>\n",
              "      <td>520</td>\n",
              "      <td>W 163 ST</td>\n",
              "      <td>None</td>\n",
              "      <td>0</td>\n",
              "      <td>408.0</td>\n",
              "      <td>F7</td>\n",
              "      <td>BBBBBBB</td>\n",
              "      <td>ALL</td>\n",
              "      <td>ALL</td>\n",
              "      <td>None</td>\n",
              "      <td>0.0</td>\n",
              "      <td>-</td>\n",
              "      <td>0.0</td>\n",
              "      <td>None</td>\n",
              "      <td>None</td>\n",
              "    </tr>\n",
              "    <tr>\n",
              "      <th>3</th>\n",
              "      <td>1283294175</td>\n",
              "      <td>63009MA</td>\n",
              "      <td>NY</td>\n",
              "      <td>COM</td>\n",
              "      <td>08/05/2013</td>\n",
              "      <td>46</td>\n",
              "      <td>VAN</td>\n",
              "      <td>FORD</td>\n",
              "      <td>P</td>\n",
              "      <td>37270</td>\n",
              "      <td>11710</td>\n",
              "      <td>12010</td>\n",
              "      <td>20141031</td>\n",
              "      <td>33</td>\n",
              "      <td>33.0</td>\n",
              "      <td>33.0</td>\n",
              "      <td>921043.0</td>\n",
              "      <td>0033</td>\n",
              "      <td>0000</td>\n",
              "      <td>0232P</td>\n",
              "      <td>NY</td>\n",
              "      <td>O</td>\n",
              "      <td>517</td>\n",
              "      <td>W 176 ST</td>\n",
              "      <td>None</td>\n",
              "      <td>0</td>\n",
              "      <td>408.0</td>\n",
              "      <td>F1</td>\n",
              "      <td>BBBBBBB</td>\n",
              "      <td>ALL</td>\n",
              "      <td>ALL</td>\n",
              "      <td>WH</td>\n",
              "      <td>2010.0</td>\n",
              "      <td>-</td>\n",
              "      <td>0.0</td>\n",
              "      <td>None</td>\n",
              "      <td>None</td>\n",
              "    </tr>\n",
              "    <tr>\n",
              "      <th>4</th>\n",
              "      <td>1283294187</td>\n",
              "      <td>91648MC</td>\n",
              "      <td>NY</td>\n",
              "      <td>COM</td>\n",
              "      <td>08/08/2013</td>\n",
              "      <td>41</td>\n",
              "      <td>TRLR</td>\n",
              "      <td>GMC</td>\n",
              "      <td>P</td>\n",
              "      <td>37240</td>\n",
              "      <td>12010</td>\n",
              "      <td>31190</td>\n",
              "      <td>0</td>\n",
              "      <td>33</td>\n",
              "      <td>33.0</td>\n",
              "      <td>33.0</td>\n",
              "      <td>921043.0</td>\n",
              "      <td>0033</td>\n",
              "      <td>0000</td>\n",
              "      <td>1239P</td>\n",
              "      <td>NY</td>\n",
              "      <td>F</td>\n",
              "      <td>590</td>\n",
              "      <td>W 174 ST</td>\n",
              "      <td>None</td>\n",
              "      <td>0</td>\n",
              "      <td>408.0</td>\n",
              "      <td>E1</td>\n",
              "      <td>BBBBBBB</td>\n",
              "      <td>ALL</td>\n",
              "      <td>ALL</td>\n",
              "      <td>BR</td>\n",
              "      <td>2012.0</td>\n",
              "      <td>-</td>\n",
              "      <td>0.0</td>\n",
              "      <td>None</td>\n",
              "      <td>None</td>\n",
              "    </tr>\n",
              "  </tbody>\n",
              "</table>\n",
              "</div>"
            ]
          },
          "metadata": {},
          "execution_count": 25
        }
      ],
      "source": [
        "%%time\n",
        "dfk=dfk.drop(['Time First Observed','Violation Legal Code','Unregistered Vehicle?','No Standing or Stopping Violation', 'Hydrant Violation', 'Double Parking Violation','Latitude','Longitude','Community Board','Community Council ','Census Tract','BIN','BBL','NTA'], axis=1) \n",
        "dfk.head()"
      ]
    },
    {
      "cell_type": "code",
      "execution_count": null,
      "metadata": {
        "id": "mgsywbiIBbtw",
        "colab": {
          "base_uri": "https://localhost:8080/"
        },
        "outputId": "4aaff832-2167-427b-89b6-5e456230c954"
      },
      "outputs": [
        {
          "output_type": "stream",
          "name": "stdout",
          "text": [
            "CPU times: user 400 ms, sys: 37.8 ms, total: 438 ms\n",
            "Wall time: 2.33 s\n"
          ]
        }
      ],
      "source": [
        "#Not all nan values need to be drop. Hence we fill the Nan values with 0.\n",
        "%%time\n",
        "dfk = dfk.fillna(0)"
      ]
    },
    {
      "cell_type": "code",
      "execution_count": null,
      "metadata": {
        "id": "KWe0HRZ4Bi5l",
        "colab": {
          "base_uri": "https://localhost:8080/"
        },
        "outputId": "dc47711d-7097-4d12-bc1d-fdaf8be8b1d3"
      },
      "outputs": [
        {
          "output_type": "execute_result",
          "data": {
            "text/plain": [
              "Summons Number                       0\n",
              "Plate ID                             0\n",
              "Registration State                   0\n",
              "Plate Type                           0\n",
              "Issue Date                           0\n",
              "Violation Code                       0\n",
              "Vehicle Body Type                    0\n",
              "Vehicle Make                         0\n",
              "Issuing Agency                       0\n",
              "Street Code1                         0\n",
              "Street Code2                         0\n",
              "Street Code3                         0\n",
              "Vehicle Expiration Date              0\n",
              "Violation Location                   0\n",
              "Violation Precinct                   0\n",
              "Issuer Precinct                      0\n",
              "Issuer Code                          0\n",
              "Issuer Command                       0\n",
              "Issuer Squad                         0\n",
              "Violation Time                       0\n",
              "Violation County                     0\n",
              "Violation In Front Of Or Opposite    0\n",
              "House Number                         0\n",
              "Street Name                          0\n",
              "Intersecting Street                  0\n",
              "Date First Observed                  0\n",
              "Law Section                          0\n",
              "Sub Division                         0\n",
              "Days Parking In Effect               0\n",
              "From Hours In Effect                 0\n",
              "To Hours In Effect                   0\n",
              "Vehicle Color                        0\n",
              "Vehicle Year                         0\n",
              "Meter Number                         0\n",
              "Feet From Curb                       0\n",
              "Violation Post Code                  0\n",
              "Violation Description                0\n",
              "dtype: int64"
            ]
          },
          "metadata": {},
          "execution_count": 27
        }
      ],
      "source": [
        "#dfk.isnull().sum()"
      ]
    },
    {
      "cell_type": "markdown",
      "source": [
        ">**Findings ▶** \n",
        "All libraries managed to read the same no of rows and columns which are **9100278 rows and 51 columns**. To find the number and columns read by all libraries, **Dask and Koalas** use the same method which is **dataframe.shape**. Meanwhile, **Pyspark** is different and it **uses count to find rows and cols for columns**.\n",
        "\n",
        ">1. Dask 🕔\n",
        "Dask is the fastest way to find number of rows and columns by taking **9.06ms**.\n",
        "\n",
        ">2. PySpark 🕔\n",
        "PySpark comes next as it took **6.47s** to find number of rows and columns.\n",
        "\n",
        ">3. Koalas 🕔\n",
        "Koalas took the **longest time** compared to Dask and PySpark which is **9.49s**."
      ],
      "metadata": {
        "id": "oMlzxtbbrSiW"
      }
    },
    {
      "cell_type": "markdown",
      "metadata": {
        "id": "Xbomtg8eCfaQ"
      },
      "source": [
        "\n",
        "\n",
        "---\n",
        "\n",
        "\n",
        "\n",
        "---\n",
        "\n"
      ]
    },
    {
      "cell_type": "markdown",
      "metadata": {
        "id": "_8mbKpS7B_SP"
      },
      "source": [
        "# **`Convert column 'IssueDate' to datetime.`**"
      ]
    },
    {
      "cell_type": "markdown",
      "metadata": {
        "id": "ffloctkrCoqv"
      },
      "source": [
        "**1. Dask**"
      ]
    },
    {
      "cell_type": "code",
      "execution_count": null,
      "metadata": {
        "id": "_sJ60gHDCza5",
        "colab": {
          "base_uri": "https://localhost:8080/"
        },
        "outputId": "724ca5cf-9b38-48b5-f153-7881e7fec8a7"
      },
      "outputs": [
        {
          "output_type": "stream",
          "name": "stdout",
          "text": [
            "CPU times: user 19.2 ms, sys: 891 µs, total: 20.1 ms\n",
            "Wall time: 30.9 ms\n"
          ]
        },
        {
          "output_type": "execute_result",
          "data": {
            "text/plain": [
              "Summons Number                                int32\n",
              "Plate ID                                     object\n",
              "Registration State                           object\n",
              "Plate Type                                   object\n",
              "Issue Date                           datetime64[ns]\n",
              "Violation Code                                int16\n",
              "Vehicle Body Type                            object\n",
              "Vehicle Make                                 object\n",
              "Issuing Agency                               object\n",
              "Street Code1                                  int32\n",
              "Street Code2                                  int32\n",
              "Street Code3                                  int32\n",
              "Vehicle Expiration Date                      object\n",
              "Violation Location                           object\n",
              "Violation Precinct                          float32\n",
              "Issuer Precinct                             float32\n",
              "Issuer Code                                 float32\n",
              "Issuer Command                               object\n",
              "Issuer Squad                                 object\n",
              "Violation Time                               object\n",
              "Violation County                             object\n",
              "Violation In Front Of Or Opposite            object\n",
              "House Number                                 object\n",
              "Street Name                                  object\n",
              "Intersecting Street                          object\n",
              "Date First Observed                          object\n",
              "Law Section                                 float32\n",
              "Sub Division                                 object\n",
              "Days Parking In Effect                       object\n",
              "From Hours In Effect                         object\n",
              "To Hours In Effect                           object\n",
              "Vehicle Color                                object\n",
              "Vehicle Year                                float32\n",
              "Meter Number                                 object\n",
              "Feet From Curb                              float32\n",
              "Violation Post Code                          object\n",
              "Violation Description                        object\n",
              "dtype: object"
            ]
          },
          "metadata": {},
          "execution_count": 28
        }
      ],
      "source": [
        "%%time\n",
        "dfdask['Issue Date'] = dd.to_datetime(dfdask['Issue Date'],format='%m/%d/%Y',errors='coerce')\n",
        "dfdask.dtypes"
      ]
    },
    {
      "cell_type": "markdown",
      "metadata": {
        "id": "nGui82dADhAr"
      },
      "source": [
        "**2. PySpark**"
      ]
    },
    {
      "cell_type": "code",
      "execution_count": null,
      "metadata": {
        "id": "e_N3JBDHDgGj",
        "colab": {
          "base_uri": "https://localhost:8080/"
        },
        "outputId": "1878f4fe-af67-4ff3-e3a3-b7b9bc5f64d1"
      },
      "outputs": [
        {
          "output_type": "stream",
          "name": "stdout",
          "text": [
            "root\n",
            " |-- Summons Number: long (nullable = true)\n",
            " |-- Plate ID: string (nullable = true)\n",
            " |-- Registration State: string (nullable = true)\n",
            " |-- Plate Type: string (nullable = true)\n",
            " |-- Issue Date: date (nullable = true)\n",
            " |-- Violation Code: integer (nullable = true)\n",
            " |-- Vehicle Body Type: string (nullable = true)\n",
            " |-- Vehicle Make: string (nullable = true)\n",
            " |-- Issuing Agency: string (nullable = true)\n",
            " |-- Street Code1: integer (nullable = true)\n",
            " |-- Street Code2: integer (nullable = true)\n",
            " |-- Street Code3: integer (nullable = true)\n",
            " |-- Vehicle Expiration Date: integer (nullable = true)\n",
            " |-- Violation Location: integer (nullable = true)\n",
            " |-- Violation Precinct: integer (nullable = true)\n",
            " |-- Issuer Precinct: integer (nullable = true)\n",
            " |-- Issuer Code: integer (nullable = true)\n",
            " |-- Issuer Command: string (nullable = true)\n",
            " |-- Issuer Squad: string (nullable = true)\n",
            " |-- Violation Time: string (nullable = true)\n",
            " |-- Time First Observed: string (nullable = true)\n",
            " |-- Violation County: string (nullable = true)\n",
            " |-- Violation In Front Of Or Opposite: string (nullable = true)\n",
            " |-- House Number: string (nullable = true)\n",
            " |-- Street Name: string (nullable = true)\n",
            " |-- Intersecting Street: string (nullable = true)\n",
            " |-- Date First Observed: string (nullable = true)\n",
            " |-- Law Section: string (nullable = true)\n",
            " |-- Sub Division: string (nullable = true)\n",
            " |-- Violation Legal Code: string (nullable = true)\n",
            " |-- Days Parking In Effect    : string (nullable = true)\n",
            " |-- From Hours In Effect: string (nullable = true)\n",
            " |-- To Hours In Effect: string (nullable = true)\n",
            " |-- Vehicle Color: string (nullable = true)\n",
            " |-- Unregistered Vehicle?: string (nullable = true)\n",
            " |-- Vehicle Year: string (nullable = true)\n",
            " |-- Meter Number: string (nullable = true)\n",
            " |-- Feet From Curb: string (nullable = true)\n",
            " |-- Violation Post Code: string (nullable = true)\n",
            " |-- Violation Description: string (nullable = true)\n",
            " |-- No Standing or Stopping Violation: string (nullable = true)\n",
            " |-- Hydrant Violation: string (nullable = true)\n",
            " |-- Double Parking Violation: string (nullable = true)\n",
            " |-- Latitude: string (nullable = true)\n",
            " |-- Longitude: string (nullable = true)\n",
            " |-- Community Board: string (nullable = true)\n",
            " |-- Community Council : string (nullable = true)\n",
            " |-- Census Tract: string (nullable = true)\n",
            " |-- BIN: string (nullable = true)\n",
            " |-- BBL: string (nullable = true)\n",
            " |-- NTA: string (nullable = true)\n",
            "\n",
            "CPU times: user 1.76 ms, sys: 44 µs, total: 1.8 ms\n",
            "Wall time: 22.6 ms\n"
          ]
        }
      ],
      "source": [
        "%%time\n",
        "#dfs = dfs.withColumn(\"Issue Date\", to_date(dfs.date_string))\n",
        "#from pyspark.sql.functions import to_date, lit\n",
        "#df.select(\"db_id\", to_date(lit(\"1-12-2022\"),\"d-MM-yyyy\")).show()\n",
        "from pyspark.sql.types import StringType, DateType, FloatType\n",
        "dfs = dfs.withColumn('Issue Date', func.to_date('Issue Date', 'dd/MM/yyyy'))\n",
        "dfs.printSchema()\n"
      ]
    },
    {
      "cell_type": "markdown",
      "metadata": {
        "id": "DIQD4WqAGvdv"
      },
      "source": [
        "**3. Koalas**"
      ]
    },
    {
      "cell_type": "code",
      "execution_count": null,
      "metadata": {
        "id": "itesHBnSGysl",
        "colab": {
          "base_uri": "https://localhost:8080/"
        },
        "outputId": "eb38bbfd-407b-4d03-8a57-34f4fa92e7b4"
      },
      "outputs": [
        {
          "output_type": "stream",
          "name": "stderr",
          "text": [
            "/usr/local/lib/python3.8/dist-packages/pyspark/sql/pandas/functions.py:394: UserWarning: In Python 3.6+ and Spark 3.0+, it is preferred to specify type hints for pandas UDF instead of specifying pandas UDF type which will be deprecated in the future releases. See SPARK-28264 for more details.\n",
            "  warnings.warn(\n"
          ]
        },
        {
          "output_type": "stream",
          "name": "stdout",
          "text": [
            "CPU times: user 153 ms, sys: 17.7 ms, total: 170 ms\n",
            "Wall time: 1.13 s\n"
          ]
        },
        {
          "output_type": "execute_result",
          "data": {
            "text/plain": [
              "Summons Number                            int32\n",
              "Plate ID                                 object\n",
              "Registration State                       object\n",
              "Plate Type                               object\n",
              "Issue Date                           datetime64\n",
              "Violation Code                            int32\n",
              "Vehicle Body Type                        object\n",
              "Vehicle Make                             object\n",
              "Issuing Agency                           object\n",
              "Street Code1                              int32\n",
              "Street Code2                              int32\n",
              "Street Code3                              int32\n",
              "Vehicle Expiration Date                  object\n",
              "Violation Location                       object\n",
              "Violation Precinct                      float32\n",
              "Issuer Precinct                         float32\n",
              "Issuer Code                             float32\n",
              "Issuer Command                           object\n",
              "Issuer Squad                             object\n",
              "Violation Time                           object\n",
              "Violation County                         object\n",
              "Violation In Front Of Or Opposite        object\n",
              "House Number                             object\n",
              "Street Name                              object\n",
              "Intersecting Street                      object\n",
              "Date First Observed                      object\n",
              "Law Section                             float32\n",
              "Sub Division                             object\n",
              "Days Parking In Effect                   object\n",
              "From Hours In Effect                     object\n",
              "To Hours In Effect                       object\n",
              "Vehicle Color                            object\n",
              "Vehicle Year                            float32\n",
              "Meter Number                             object\n",
              "Feet From Curb                          float32\n",
              "Violation Post Code                      object\n",
              "Violation Description                    object\n",
              "dtype: object"
            ]
          },
          "metadata": {},
          "execution_count": 30
        }
      ],
      "source": [
        "%%time\n",
        "dfk['Issue Date'] = ks.to_datetime(dfk['Issue Date'],format='%m/%d/%Y',errors='coerce')\n",
        "dfk.dtypes"
      ]
    },
    {
      "cell_type": "markdown",
      "metadata": {
        "id": "IcWEu7qiK9JD"
      },
      "source": [
        "\n",
        "\n",
        "---\n",
        "\n",
        "\n",
        "\n",
        "---\n",
        "\n"
      ]
    },
    {
      "cell_type": "markdown",
      "metadata": {
        "id": "tubhedUsK4GO"
      },
      "source": [
        "**1. Dask**"
      ]
    },
    {
      "cell_type": "code",
      "execution_count": null,
      "metadata": {
        "id": "AKnuukxNKyZ-",
        "colab": {
          "base_uri": "https://localhost:8080/",
          "height": 473
        },
        "outputId": "b7d1136f-90d5-4096-dcd4-d6e7ab4c814b"
      },
      "outputs": [
        {
          "output_type": "stream",
          "name": "stdout",
          "text": [
            "CPU times: user 2.27 s, sys: 47.8 ms, total: 2.32 s\n",
            "Wall time: 2.33 s\n"
          ]
        },
        {
          "output_type": "execute_result",
          "data": {
            "text/plain": [
              "   Summons Number Plate ID Registration State Plate Type Issue Date  \\\n",
              "0      1283294138  GBB9093                 NY        PAS 2013-08-04   \n",
              "1      1283294151  62416MB                 NY        COM 2013-08-04   \n",
              "2      1283294163  78755JZ                 NY        COM 2013-08-05   \n",
              "3      1283294175  63009MA                 NY        COM 2013-08-05   \n",
              "4      1283294187  91648MC                 NY        COM 2013-08-08   \n",
              "\n",
              "   Violation Code Vehicle Body Type Vehicle Make Issuing Agency  Street Code1  \\\n",
              "0              46              SUBN         AUDI              P         37250   \n",
              "1              46               VAN         FORD              P         37290   \n",
              "2              46               P-U        CHEVR              P         37030   \n",
              "3              46               VAN         FORD              P         37270   \n",
              "4              41              TRLR          GMC              P         37240   \n",
              "\n",
              "   ...  Sub Division  Days Parking In Effect     From Hours In Effect  \\\n",
              "0  ...            F1                     BBBBBBB                  ALL   \n",
              "1  ...             C                     BBBBBBB                  ALL   \n",
              "2  ...            F7                     BBBBBBB                  ALL   \n",
              "3  ...            F1                     BBBBBBB                  ALL   \n",
              "4  ...            E1                     BBBBBBB                  ALL   \n",
              "\n",
              "  To Hours In Effect  Vehicle Color  Vehicle Year  Meter Number  \\\n",
              "0                ALL             GY        2013.0             -   \n",
              "1                ALL             WH        2012.0             -   \n",
              "2                ALL              0           0.0             -   \n",
              "3                ALL             WH        2010.0             -   \n",
              "4                ALL             BR        2012.0             -   \n",
              "\n",
              "  Feet From Curb Violation Post Code Violation Description  \n",
              "0            0.0                   0                     0  \n",
              "1            0.0                   0                     0  \n",
              "2            0.0                   0                     0  \n",
              "3            0.0                   0                     0  \n",
              "4            0.0                   0                     0  \n",
              "\n",
              "[5 rows x 37 columns]"
            ],
            "text/html": [
              "\n",
              "  <div id=\"df-aad2be80-7cdb-4d4b-a5a7-d8d98e5d2d2d\">\n",
              "    <div class=\"colab-df-container\">\n",
              "      <div>\n",
              "<style scoped>\n",
              "    .dataframe tbody tr th:only-of-type {\n",
              "        vertical-align: middle;\n",
              "    }\n",
              "\n",
              "    .dataframe tbody tr th {\n",
              "        vertical-align: top;\n",
              "    }\n",
              "\n",
              "    .dataframe thead th {\n",
              "        text-align: right;\n",
              "    }\n",
              "</style>\n",
              "<table border=\"1\" class=\"dataframe\">\n",
              "  <thead>\n",
              "    <tr style=\"text-align: right;\">\n",
              "      <th></th>\n",
              "      <th>Summons Number</th>\n",
              "      <th>Plate ID</th>\n",
              "      <th>Registration State</th>\n",
              "      <th>Plate Type</th>\n",
              "      <th>Issue Date</th>\n",
              "      <th>Violation Code</th>\n",
              "      <th>Vehicle Body Type</th>\n",
              "      <th>Vehicle Make</th>\n",
              "      <th>Issuing Agency</th>\n",
              "      <th>Street Code1</th>\n",
              "      <th>...</th>\n",
              "      <th>Sub Division</th>\n",
              "      <th>Days Parking In Effect</th>\n",
              "      <th>From Hours In Effect</th>\n",
              "      <th>To Hours In Effect</th>\n",
              "      <th>Vehicle Color</th>\n",
              "      <th>Vehicle Year</th>\n",
              "      <th>Meter Number</th>\n",
              "      <th>Feet From Curb</th>\n",
              "      <th>Violation Post Code</th>\n",
              "      <th>Violation Description</th>\n",
              "    </tr>\n",
              "  </thead>\n",
              "  <tbody>\n",
              "    <tr>\n",
              "      <th>0</th>\n",
              "      <td>1283294138</td>\n",
              "      <td>GBB9093</td>\n",
              "      <td>NY</td>\n",
              "      <td>PAS</td>\n",
              "      <td>2013-08-04</td>\n",
              "      <td>46</td>\n",
              "      <td>SUBN</td>\n",
              "      <td>AUDI</td>\n",
              "      <td>P</td>\n",
              "      <td>37250</td>\n",
              "      <td>...</td>\n",
              "      <td>F1</td>\n",
              "      <td>BBBBBBB</td>\n",
              "      <td>ALL</td>\n",
              "      <td>ALL</td>\n",
              "      <td>GY</td>\n",
              "      <td>2013.0</td>\n",
              "      <td>-</td>\n",
              "      <td>0.0</td>\n",
              "      <td>0</td>\n",
              "      <td>0</td>\n",
              "    </tr>\n",
              "    <tr>\n",
              "      <th>1</th>\n",
              "      <td>1283294151</td>\n",
              "      <td>62416MB</td>\n",
              "      <td>NY</td>\n",
              "      <td>COM</td>\n",
              "      <td>2013-08-04</td>\n",
              "      <td>46</td>\n",
              "      <td>VAN</td>\n",
              "      <td>FORD</td>\n",
              "      <td>P</td>\n",
              "      <td>37290</td>\n",
              "      <td>...</td>\n",
              "      <td>C</td>\n",
              "      <td>BBBBBBB</td>\n",
              "      <td>ALL</td>\n",
              "      <td>ALL</td>\n",
              "      <td>WH</td>\n",
              "      <td>2012.0</td>\n",
              "      <td>-</td>\n",
              "      <td>0.0</td>\n",
              "      <td>0</td>\n",
              "      <td>0</td>\n",
              "    </tr>\n",
              "    <tr>\n",
              "      <th>2</th>\n",
              "      <td>1283294163</td>\n",
              "      <td>78755JZ</td>\n",
              "      <td>NY</td>\n",
              "      <td>COM</td>\n",
              "      <td>2013-08-05</td>\n",
              "      <td>46</td>\n",
              "      <td>P-U</td>\n",
              "      <td>CHEVR</td>\n",
              "      <td>P</td>\n",
              "      <td>37030</td>\n",
              "      <td>...</td>\n",
              "      <td>F7</td>\n",
              "      <td>BBBBBBB</td>\n",
              "      <td>ALL</td>\n",
              "      <td>ALL</td>\n",
              "      <td>0</td>\n",
              "      <td>0.0</td>\n",
              "      <td>-</td>\n",
              "      <td>0.0</td>\n",
              "      <td>0</td>\n",
              "      <td>0</td>\n",
              "    </tr>\n",
              "    <tr>\n",
              "      <th>3</th>\n",
              "      <td>1283294175</td>\n",
              "      <td>63009MA</td>\n",
              "      <td>NY</td>\n",
              "      <td>COM</td>\n",
              "      <td>2013-08-05</td>\n",
              "      <td>46</td>\n",
              "      <td>VAN</td>\n",
              "      <td>FORD</td>\n",
              "      <td>P</td>\n",
              "      <td>37270</td>\n",
              "      <td>...</td>\n",
              "      <td>F1</td>\n",
              "      <td>BBBBBBB</td>\n",
              "      <td>ALL</td>\n",
              "      <td>ALL</td>\n",
              "      <td>WH</td>\n",
              "      <td>2010.0</td>\n",
              "      <td>-</td>\n",
              "      <td>0.0</td>\n",
              "      <td>0</td>\n",
              "      <td>0</td>\n",
              "    </tr>\n",
              "    <tr>\n",
              "      <th>4</th>\n",
              "      <td>1283294187</td>\n",
              "      <td>91648MC</td>\n",
              "      <td>NY</td>\n",
              "      <td>COM</td>\n",
              "      <td>2013-08-08</td>\n",
              "      <td>41</td>\n",
              "      <td>TRLR</td>\n",
              "      <td>GMC</td>\n",
              "      <td>P</td>\n",
              "      <td>37240</td>\n",
              "      <td>...</td>\n",
              "      <td>E1</td>\n",
              "      <td>BBBBBBB</td>\n",
              "      <td>ALL</td>\n",
              "      <td>ALL</td>\n",
              "      <td>BR</td>\n",
              "      <td>2012.0</td>\n",
              "      <td>-</td>\n",
              "      <td>0.0</td>\n",
              "      <td>0</td>\n",
              "      <td>0</td>\n",
              "    </tr>\n",
              "  </tbody>\n",
              "</table>\n",
              "<p>5 rows × 37 columns</p>\n",
              "</div>\n",
              "      <button class=\"colab-df-convert\" onclick=\"convertToInteractive('df-aad2be80-7cdb-4d4b-a5a7-d8d98e5d2d2d')\"\n",
              "              title=\"Convert this dataframe to an interactive table.\"\n",
              "              style=\"display:none;\">\n",
              "        \n",
              "  <svg xmlns=\"http://www.w3.org/2000/svg\" height=\"24px\"viewBox=\"0 0 24 24\"\n",
              "       width=\"24px\">\n",
              "    <path d=\"M0 0h24v24H0V0z\" fill=\"none\"/>\n",
              "    <path d=\"M18.56 5.44l.94 2.06.94-2.06 2.06-.94-2.06-.94-.94-2.06-.94 2.06-2.06.94zm-11 1L8.5 8.5l.94-2.06 2.06-.94-2.06-.94L8.5 2.5l-.94 2.06-2.06.94zm10 10l.94 2.06.94-2.06 2.06-.94-2.06-.94-.94-2.06-.94 2.06-2.06.94z\"/><path d=\"M17.41 7.96l-1.37-1.37c-.4-.4-.92-.59-1.43-.59-.52 0-1.04.2-1.43.59L10.3 9.45l-7.72 7.72c-.78.78-.78 2.05 0 2.83L4 21.41c.39.39.9.59 1.41.59.51 0 1.02-.2 1.41-.59l7.78-7.78 2.81-2.81c.8-.78.8-2.07 0-2.86zM5.41 20L4 18.59l7.72-7.72 1.47 1.35L5.41 20z\"/>\n",
              "  </svg>\n",
              "      </button>\n",
              "      \n",
              "  <style>\n",
              "    .colab-df-container {\n",
              "      display:flex;\n",
              "      flex-wrap:wrap;\n",
              "      gap: 12px;\n",
              "    }\n",
              "\n",
              "    .colab-df-convert {\n",
              "      background-color: #E8F0FE;\n",
              "      border: none;\n",
              "      border-radius: 50%;\n",
              "      cursor: pointer;\n",
              "      display: none;\n",
              "      fill: #1967D2;\n",
              "      height: 32px;\n",
              "      padding: 0 0 0 0;\n",
              "      width: 32px;\n",
              "    }\n",
              "\n",
              "    .colab-df-convert:hover {\n",
              "      background-color: #E2EBFA;\n",
              "      box-shadow: 0px 1px 2px rgba(60, 64, 67, 0.3), 0px 1px 3px 1px rgba(60, 64, 67, 0.15);\n",
              "      fill: #174EA6;\n",
              "    }\n",
              "\n",
              "    [theme=dark] .colab-df-convert {\n",
              "      background-color: #3B4455;\n",
              "      fill: #D2E3FC;\n",
              "    }\n",
              "\n",
              "    [theme=dark] .colab-df-convert:hover {\n",
              "      background-color: #434B5C;\n",
              "      box-shadow: 0px 1px 3px 1px rgba(0, 0, 0, 0.15);\n",
              "      filter: drop-shadow(0px 1px 2px rgba(0, 0, 0, 0.3));\n",
              "      fill: #FFFFFF;\n",
              "    }\n",
              "  </style>\n",
              "\n",
              "      <script>\n",
              "        const buttonEl =\n",
              "          document.querySelector('#df-aad2be80-7cdb-4d4b-a5a7-d8d98e5d2d2d button.colab-df-convert');\n",
              "        buttonEl.style.display =\n",
              "          google.colab.kernel.accessAllowed ? 'block' : 'none';\n",
              "\n",
              "        async function convertToInteractive(key) {\n",
              "          const element = document.querySelector('#df-aad2be80-7cdb-4d4b-a5a7-d8d98e5d2d2d');\n",
              "          const dataTable =\n",
              "            await google.colab.kernel.invokeFunction('convertToInteractive',\n",
              "                                                     [key], {});\n",
              "          if (!dataTable) return;\n",
              "\n",
              "          const docLinkHtml = 'Like what you see? Visit the ' +\n",
              "            '<a target=\"_blank\" href=https://colab.research.google.com/notebooks/data_table.ipynb>data table notebook</a>'\n",
              "            + ' to learn more about interactive tables.';\n",
              "          element.innerHTML = '';\n",
              "          dataTable['output_type'] = 'display_data';\n",
              "          await google.colab.output.renderOutput(dataTable, element);\n",
              "          const docLink = document.createElement('div');\n",
              "          docLink.innerHTML = docLinkHtml;\n",
              "          element.appendChild(docLink);\n",
              "        }\n",
              "      </script>\n",
              "    </div>\n",
              "  </div>\n",
              "  "
            ]
          },
          "metadata": {},
          "execution_count": 31
        }
      ],
      "source": [
        "%%time\n",
        "dfdask.drop_duplicates(subset = ['Summons Number'], inplace = True)\n",
        "dfdask.head()\n"
      ]
    },
    {
      "cell_type": "markdown",
      "metadata": {
        "id": "ne9WH-XzO6AD"
      },
      "source": [
        "**2. PySpark**"
      ]
    },
    {
      "cell_type": "code",
      "execution_count": null,
      "metadata": {
        "id": "dDxgs4VLN9HJ",
        "colab": {
          "base_uri": "https://localhost:8080/"
        },
        "outputId": "6ebcc6e3-a1de-4673-cefd-8fc786458df4"
      },
      "outputs": [
        {
          "output_type": "stream",
          "name": "stdout",
          "text": [
            "+--------------+--------+------------------+----------+----------+--------------+-----------------+------------+--------------+------------+------------+------------+-----------------------+------------------+------------------+---------------+-----------+--------------+------------+--------------+-------------------+----------------+---------------------------------+------------+-----------+-------------------+-------------------+-----------+------------+--------------------+--------------------------+--------------------+------------------+-------------+---------------------+------------+------------+--------------+-------------------+---------------------+---------------------------------+-----------------+------------------------+--------+---------+---------------+------------------+------------+----+----+----+\n",
            "|Summons Number|Plate ID|Registration State|Plate Type|Issue Date|Violation Code|Vehicle Body Type|Vehicle Make|Issuing Agency|Street Code1|Street Code2|Street Code3|Vehicle Expiration Date|Violation Location|Violation Precinct|Issuer Precinct|Issuer Code|Issuer Command|Issuer Squad|Violation Time|Time First Observed|Violation County|Violation In Front Of Or Opposite|House Number|Street Name|Intersecting Street|Date First Observed|Law Section|Sub Division|Violation Legal Code|Days Parking In Effect    |From Hours In Effect|To Hours In Effect|Vehicle Color|Unregistered Vehicle?|Vehicle Year|Meter Number|Feet From Curb|Violation Post Code|Violation Description|No Standing or Stopping Violation|Hydrant Violation|Double Parking Violation|Latitude|Longitude|Community Board|Community Council |Census Tract| BIN| BBL| NTA|\n",
            "+--------------+--------+------------------+----------+----------+--------------+-----------------+------------+--------------+------------+------------+------------+-----------------------+------------------+------------------+---------------+-----------+--------------+------------+--------------+-------------------+----------------+---------------------------------+------------+-----------+-------------------+-------------------+-----------+------------+--------------------+--------------------------+--------------------+------------------+-------------+---------------------+------------+------------+--------------+-------------------+---------------------+---------------------------------+-----------------+------------------------+--------+---------+---------------+------------------+------------+----+----+----+\n",
            "|    1283294138| GBB9093|                NY|       PAS|2013-04-08|            46|             SUBN|        AUDI|             P|       37250|       13610|       21190|               20140831|                33|                33|             33|     921043|          0033|        0000|         0752A|               null|            null|                                F|         712|   W 175 ST|               null|                  0|        408|          F1|                null|                   BBBBBBB|                 ALL|               ALL|           GY|                    0|        2013|           -|             0|               null|                 null|                             null|             null|                    null|    null|     null|           null|              null|        null|null|null|null|\n",
            "|    1283294151| 62416MB|                NY|       COM|2013-04-08|            46|              VAN|        FORD|             P|       37290|       40404|       40404|               20140430|                33|                33|             33|     921043|          0033|        0000|         1240P|               null|              NY|                                O|         201|   W 177 ST|               null|                  0|        408|           C|                null|                   BBBBBBB|                 ALL|               ALL|           WH|                    0|        2012|           -|             0|               null|                 null|                             null|             null|                    null|    null|     null|           null|              null|        null|null|null|null|\n",
            "|    1283294163| 78755JZ|                NY|       COM|2013-05-08|            46|              P-U|       CHEVR|             P|       37030|       31190|       13610|               20140228|                33|                33|             33|     921043|          0033|        0000|         1243P|               null|              NY|                                O|         520|   W 163 ST|               null|                  0|        408|          F7|                null|                   BBBBBBB|                 ALL|               ALL|         null|                    0|           0|           -|             0|               null|                 null|                             null|             null|                    null|    null|     null|           null|              null|        null|null|null|null|\n",
            "|    1283294175| 63009MA|                NY|       COM|2013-05-08|            46|              VAN|        FORD|             P|       37270|       11710|       12010|               20141031|                33|                33|             33|     921043|          0033|        0000|         0232P|               null|              NY|                                O|         517|   W 176 ST|               null|                  0|        408|          F1|                null|                   BBBBBBB|                 ALL|               ALL|           WH|                    0|        2010|           -|             0|               null|                 null|                             null|             null|                    null|    null|     null|           null|              null|        null|null|null|null|\n",
            "|    1283294187| 91648MC|                NY|       COM|2013-08-08|            41|             TRLR|         GMC|             P|       37240|       12010|       31190|                      0|                33|                33|             33|     921043|          0033|        0000|         1239P|               null|              NY|                                F|         590|   W 174 ST|               null|                  0|        408|          E1|                null|                   BBBBBBB|                 ALL|               ALL|           BR|                    0|        2012|           -|             0|               null|                 null|                             null|             null|                    null|    null|     null|           null|              null|        null|null|null|null|\n",
            "+--------------+--------+------------------+----------+----------+--------------+-----------------+------------+--------------+------------+------------+------------+-----------------------+------------------+------------------+---------------+-----------+--------------+------------+--------------+-------------------+----------------+---------------------------------+------------+-----------+-------------------+-------------------+-----------+------------+--------------------+--------------------------+--------------------+------------------+-------------+---------------------+------------+------------+--------------+-------------------+---------------------+---------------------------------+-----------------+------------------------+--------+---------+---------------+------------------+------------+----+----+----+\n",
            "only showing top 5 rows\n",
            "\n",
            "CPU times: user 3.33 ms, sys: 919 µs, total: 4.25 ms\n",
            "Wall time: 273 ms\n"
          ]
        }
      ],
      "source": [
        "#dfs.drop_duplicates(subset = ['Summons Number'], inplace = True)\n",
        "%%time\n",
        "dfs.dropDuplicates(['Summons Number'])\n",
        "dfs.show(5)"
      ]
    },
    {
      "cell_type": "markdown",
      "metadata": {
        "id": "Ku1er27V-Fqy"
      },
      "source": [
        "**3. Koalas**"
      ]
    },
    {
      "cell_type": "code",
      "execution_count": null,
      "metadata": {
        "id": "vdVv4Hku-Cd_",
        "colab": {
          "base_uri": "https://localhost:8080/",
          "height": 1000
        },
        "outputId": "7e9b1caa-ba07-4a8b-b298-cbed05739370"
      },
      "outputs": [
        {
          "metadata": {
            "tags": null
          },
          "name": "stdout",
          "output_type": "stream",
          "text": [
            "CPU times: user 366 ms, sys: 35.8 ms, total: 402 ms\n",
            "Wall time: 2.55 s\n"
          ]
        },
        {
          "output_type": "error",
          "ename": "Py4JJavaError",
          "evalue": "ignored",
          "traceback": [
            "\u001b[0;31m---------------------------------------------------------------------------\u001b[0m",
            "\u001b[0;31mPy4JJavaError\u001b[0m                             Traceback (most recent call last)",
            "\u001b[0;32m/usr/local/lib/python3.8/dist-packages/IPython/core/formatters.py\u001b[0m in \u001b[0;36m__call__\u001b[0;34m(self, obj)\u001b[0m\n\u001b[1;32m    700\u001b[0m                 \u001b[0mtype_pprinters\u001b[0m\u001b[0;34m=\u001b[0m\u001b[0mself\u001b[0m\u001b[0;34m.\u001b[0m\u001b[0mtype_printers\u001b[0m\u001b[0;34m,\u001b[0m\u001b[0;34m\u001b[0m\u001b[0;34m\u001b[0m\u001b[0m\n\u001b[1;32m    701\u001b[0m                 deferred_pprinters=self.deferred_printers)\n\u001b[0;32m--> 702\u001b[0;31m             \u001b[0mprinter\u001b[0m\u001b[0;34m.\u001b[0m\u001b[0mpretty\u001b[0m\u001b[0;34m(\u001b[0m\u001b[0mobj\u001b[0m\u001b[0;34m)\u001b[0m\u001b[0;34m\u001b[0m\u001b[0;34m\u001b[0m\u001b[0m\n\u001b[0m\u001b[1;32m    703\u001b[0m             \u001b[0mprinter\u001b[0m\u001b[0;34m.\u001b[0m\u001b[0mflush\u001b[0m\u001b[0;34m(\u001b[0m\u001b[0;34m)\u001b[0m\u001b[0;34m\u001b[0m\u001b[0;34m\u001b[0m\u001b[0m\n\u001b[1;32m    704\u001b[0m             \u001b[0;32mreturn\u001b[0m \u001b[0mstream\u001b[0m\u001b[0;34m.\u001b[0m\u001b[0mgetvalue\u001b[0m\u001b[0;34m(\u001b[0m\u001b[0;34m)\u001b[0m\u001b[0;34m\u001b[0m\u001b[0;34m\u001b[0m\u001b[0m\n",
            "\u001b[0;32m/usr/local/lib/python3.8/dist-packages/IPython/lib/pretty.py\u001b[0m in \u001b[0;36mpretty\u001b[0;34m(self, obj)\u001b[0m\n\u001b[1;32m    400\u001b[0m                         \u001b[0;32mif\u001b[0m \u001b[0mcls\u001b[0m \u001b[0;32mis\u001b[0m \u001b[0;32mnot\u001b[0m \u001b[0mobject\u001b[0m\u001b[0;31m \u001b[0m\u001b[0;31m\\\u001b[0m\u001b[0;34m\u001b[0m\u001b[0;34m\u001b[0m\u001b[0m\n\u001b[1;32m    401\u001b[0m                                 \u001b[0;32mand\u001b[0m \u001b[0mcallable\u001b[0m\u001b[0;34m(\u001b[0m\u001b[0mcls\u001b[0m\u001b[0;34m.\u001b[0m\u001b[0m__dict__\u001b[0m\u001b[0;34m.\u001b[0m\u001b[0mget\u001b[0m\u001b[0;34m(\u001b[0m\u001b[0;34m'__repr__'\u001b[0m\u001b[0;34m)\u001b[0m\u001b[0;34m)\u001b[0m\u001b[0;34m:\u001b[0m\u001b[0;34m\u001b[0m\u001b[0;34m\u001b[0m\u001b[0m\n\u001b[0;32m--> 402\u001b[0;31m                             \u001b[0;32mreturn\u001b[0m \u001b[0m_repr_pprint\u001b[0m\u001b[0;34m(\u001b[0m\u001b[0mobj\u001b[0m\u001b[0;34m,\u001b[0m \u001b[0mself\u001b[0m\u001b[0;34m,\u001b[0m \u001b[0mcycle\u001b[0m\u001b[0;34m)\u001b[0m\u001b[0;34m\u001b[0m\u001b[0;34m\u001b[0m\u001b[0m\n\u001b[0m\u001b[1;32m    403\u001b[0m \u001b[0;34m\u001b[0m\u001b[0m\n\u001b[1;32m    404\u001b[0m             \u001b[0;32mreturn\u001b[0m \u001b[0m_default_pprint\u001b[0m\u001b[0;34m(\u001b[0m\u001b[0mobj\u001b[0m\u001b[0;34m,\u001b[0m \u001b[0mself\u001b[0m\u001b[0;34m,\u001b[0m \u001b[0mcycle\u001b[0m\u001b[0;34m)\u001b[0m\u001b[0;34m\u001b[0m\u001b[0;34m\u001b[0m\u001b[0m\n",
            "\u001b[0;32m/usr/local/lib/python3.8/dist-packages/IPython/lib/pretty.py\u001b[0m in \u001b[0;36m_repr_pprint\u001b[0;34m(obj, p, cycle)\u001b[0m\n\u001b[1;32m    695\u001b[0m     \u001b[0;34m\"\"\"A pprint that just redirects to the normal repr function.\"\"\"\u001b[0m\u001b[0;34m\u001b[0m\u001b[0;34m\u001b[0m\u001b[0m\n\u001b[1;32m    696\u001b[0m     \u001b[0;31m# Find newlines and replace them with p.break_()\u001b[0m\u001b[0;34m\u001b[0m\u001b[0;34m\u001b[0m\u001b[0;34m\u001b[0m\u001b[0m\n\u001b[0;32m--> 697\u001b[0;31m     \u001b[0moutput\u001b[0m \u001b[0;34m=\u001b[0m \u001b[0mrepr\u001b[0m\u001b[0;34m(\u001b[0m\u001b[0mobj\u001b[0m\u001b[0;34m)\u001b[0m\u001b[0;34m\u001b[0m\u001b[0;34m\u001b[0m\u001b[0m\n\u001b[0m\u001b[1;32m    698\u001b[0m     \u001b[0;32mfor\u001b[0m \u001b[0midx\u001b[0m\u001b[0;34m,\u001b[0m\u001b[0moutput_line\u001b[0m \u001b[0;32min\u001b[0m \u001b[0menumerate\u001b[0m\u001b[0;34m(\u001b[0m\u001b[0moutput\u001b[0m\u001b[0;34m.\u001b[0m\u001b[0msplitlines\u001b[0m\u001b[0;34m(\u001b[0m\u001b[0;34m)\u001b[0m\u001b[0;34m)\u001b[0m\u001b[0;34m:\u001b[0m\u001b[0;34m\u001b[0m\u001b[0;34m\u001b[0m\u001b[0m\n\u001b[1;32m    699\u001b[0m         \u001b[0;32mif\u001b[0m \u001b[0midx\u001b[0m\u001b[0;34m:\u001b[0m\u001b[0;34m\u001b[0m\u001b[0;34m\u001b[0m\u001b[0m\n",
            "\u001b[0;32m/usr/local/lib/python3.8/dist-packages/databricks/koalas/frame.py\u001b[0m in \u001b[0;36m__repr__\u001b[0;34m(self)\u001b[0m\n\u001b[1;32m  11661\u001b[0m             \u001b[0;32mreturn\u001b[0m \u001b[0mself\u001b[0m\u001b[0;34m.\u001b[0m\u001b[0m_to_internal_pandas\u001b[0m\u001b[0;34m(\u001b[0m\u001b[0;34m)\u001b[0m\u001b[0;34m.\u001b[0m\u001b[0mto_string\u001b[0m\u001b[0;34m(\u001b[0m\u001b[0;34m)\u001b[0m\u001b[0;34m\u001b[0m\u001b[0;34m\u001b[0m\u001b[0m\n\u001b[1;32m  11662\u001b[0m \u001b[0;34m\u001b[0m\u001b[0m\n\u001b[0;32m> 11663\u001b[0;31m         \u001b[0mpdf\u001b[0m \u001b[0;34m=\u001b[0m \u001b[0mself\u001b[0m\u001b[0;34m.\u001b[0m\u001b[0m_get_or_create_repr_pandas_cache\u001b[0m\u001b[0;34m(\u001b[0m\u001b[0mmax_display_count\u001b[0m\u001b[0;34m)\u001b[0m\u001b[0;34m\u001b[0m\u001b[0;34m\u001b[0m\u001b[0m\n\u001b[0m\u001b[1;32m  11664\u001b[0m         \u001b[0mpdf_length\u001b[0m \u001b[0;34m=\u001b[0m \u001b[0mlen\u001b[0m\u001b[0;34m(\u001b[0m\u001b[0mpdf\u001b[0m\u001b[0;34m)\u001b[0m\u001b[0;34m\u001b[0m\u001b[0;34m\u001b[0m\u001b[0m\n\u001b[1;32m  11665\u001b[0m         \u001b[0mpdf\u001b[0m \u001b[0;34m=\u001b[0m \u001b[0mpdf\u001b[0m\u001b[0;34m.\u001b[0m\u001b[0miloc\u001b[0m\u001b[0;34m[\u001b[0m\u001b[0;34m:\u001b[0m\u001b[0mmax_display_count\u001b[0m\u001b[0;34m]\u001b[0m\u001b[0;34m\u001b[0m\u001b[0;34m\u001b[0m\u001b[0m\n",
            "\u001b[0;32m/usr/local/lib/python3.8/dist-packages/databricks/koalas/frame.py\u001b[0m in \u001b[0;36m_get_or_create_repr_pandas_cache\u001b[0;34m(self, n)\u001b[0m\n\u001b[1;32m  11652\u001b[0m         \u001b[0;32mif\u001b[0m \u001b[0;32mnot\u001b[0m \u001b[0mhasattr\u001b[0m\u001b[0;34m(\u001b[0m\u001b[0mself\u001b[0m\u001b[0;34m,\u001b[0m \u001b[0;34m\"_repr_pandas_cache\"\u001b[0m\u001b[0;34m)\u001b[0m \u001b[0;32mor\u001b[0m \u001b[0mn\u001b[0m \u001b[0;32mnot\u001b[0m \u001b[0;32min\u001b[0m \u001b[0mself\u001b[0m\u001b[0;34m.\u001b[0m\u001b[0m_repr_pandas_cache\u001b[0m\u001b[0;34m:\u001b[0m\u001b[0;34m\u001b[0m\u001b[0;34m\u001b[0m\u001b[0m\n\u001b[1;32m  11653\u001b[0m             object.__setattr__(\n\u001b[0;32m> 11654\u001b[0;31m                 \u001b[0mself\u001b[0m\u001b[0;34m,\u001b[0m \u001b[0;34m\"_repr_pandas_cache\"\u001b[0m\u001b[0;34m,\u001b[0m \u001b[0;34m{\u001b[0m\u001b[0mn\u001b[0m\u001b[0;34m:\u001b[0m \u001b[0mself\u001b[0m\u001b[0;34m.\u001b[0m\u001b[0mhead\u001b[0m\u001b[0;34m(\u001b[0m\u001b[0mn\u001b[0m \u001b[0;34m+\u001b[0m \u001b[0;36m1\u001b[0m\u001b[0;34m)\u001b[0m\u001b[0;34m.\u001b[0m\u001b[0m_to_internal_pandas\u001b[0m\u001b[0;34m(\u001b[0m\u001b[0;34m)\u001b[0m\u001b[0;34m}\u001b[0m\u001b[0;34m\u001b[0m\u001b[0;34m\u001b[0m\u001b[0m\n\u001b[0m\u001b[1;32m  11655\u001b[0m             )\n\u001b[1;32m  11656\u001b[0m         \u001b[0;32mreturn\u001b[0m \u001b[0mself\u001b[0m\u001b[0;34m.\u001b[0m\u001b[0m_repr_pandas_cache\u001b[0m\u001b[0;34m[\u001b[0m\u001b[0mn\u001b[0m\u001b[0;34m]\u001b[0m\u001b[0;34m\u001b[0m\u001b[0;34m\u001b[0m\u001b[0m\n",
            "\u001b[0;32m/usr/local/lib/python3.8/dist-packages/databricks/koalas/frame.py\u001b[0m in \u001b[0;36m_to_internal_pandas\u001b[0;34m(self)\u001b[0m\n\u001b[1;32m  11647\u001b[0m         \u001b[0mThis\u001b[0m \u001b[0mmethod\u001b[0m \u001b[0;32mis\u001b[0m \u001b[0;32mfor\u001b[0m \u001b[0minternal\u001b[0m \u001b[0muse\u001b[0m \u001b[0monly\u001b[0m\u001b[0;34m.\u001b[0m\u001b[0;34m\u001b[0m\u001b[0;34m\u001b[0m\u001b[0m\n\u001b[1;32m  11648\u001b[0m         \"\"\"\n\u001b[0;32m> 11649\u001b[0;31m         \u001b[0;32mreturn\u001b[0m \u001b[0mself\u001b[0m\u001b[0;34m.\u001b[0m\u001b[0m_internal\u001b[0m\u001b[0;34m.\u001b[0m\u001b[0mto_pandas_frame\u001b[0m\u001b[0;34m\u001b[0m\u001b[0;34m\u001b[0m\u001b[0m\n\u001b[0m\u001b[1;32m  11650\u001b[0m \u001b[0;34m\u001b[0m\u001b[0m\n\u001b[1;32m  11651\u001b[0m     \u001b[0;32mdef\u001b[0m \u001b[0m_get_or_create_repr_pandas_cache\u001b[0m\u001b[0;34m(\u001b[0m\u001b[0mself\u001b[0m\u001b[0;34m,\u001b[0m \u001b[0mn\u001b[0m\u001b[0;34m)\u001b[0m\u001b[0;34m:\u001b[0m\u001b[0;34m\u001b[0m\u001b[0;34m\u001b[0m\u001b[0m\n",
            "\u001b[0;32m/usr/local/lib/python3.8/dist-packages/databricks/koalas/utils.py\u001b[0m in \u001b[0;36mwrapped_lazy_property\u001b[0;34m(self)\u001b[0m\n\u001b[1;32m    576\u001b[0m     \u001b[0;32mdef\u001b[0m \u001b[0mwrapped_lazy_property\u001b[0m\u001b[0;34m(\u001b[0m\u001b[0mself\u001b[0m\u001b[0;34m)\u001b[0m\u001b[0;34m:\u001b[0m\u001b[0;34m\u001b[0m\u001b[0;34m\u001b[0m\u001b[0m\n\u001b[1;32m    577\u001b[0m         \u001b[0;32mif\u001b[0m \u001b[0;32mnot\u001b[0m \u001b[0mhasattr\u001b[0m\u001b[0;34m(\u001b[0m\u001b[0mself\u001b[0m\u001b[0;34m,\u001b[0m \u001b[0mattr_name\u001b[0m\u001b[0;34m)\u001b[0m\u001b[0;34m:\u001b[0m\u001b[0;34m\u001b[0m\u001b[0;34m\u001b[0m\u001b[0m\n\u001b[0;32m--> 578\u001b[0;31m             \u001b[0msetattr\u001b[0m\u001b[0;34m(\u001b[0m\u001b[0mself\u001b[0m\u001b[0;34m,\u001b[0m \u001b[0mattr_name\u001b[0m\u001b[0;34m,\u001b[0m \u001b[0mfn\u001b[0m\u001b[0;34m(\u001b[0m\u001b[0mself\u001b[0m\u001b[0;34m)\u001b[0m\u001b[0;34m)\u001b[0m\u001b[0;34m\u001b[0m\u001b[0;34m\u001b[0m\u001b[0m\n\u001b[0m\u001b[1;32m    579\u001b[0m         \u001b[0;32mreturn\u001b[0m \u001b[0mgetattr\u001b[0m\u001b[0;34m(\u001b[0m\u001b[0mself\u001b[0m\u001b[0;34m,\u001b[0m \u001b[0mattr_name\u001b[0m\u001b[0;34m)\u001b[0m\u001b[0;34m\u001b[0m\u001b[0;34m\u001b[0m\u001b[0m\n\u001b[1;32m    580\u001b[0m \u001b[0;34m\u001b[0m\u001b[0m\n",
            "\u001b[0;32m/usr/local/lib/python3.8/dist-packages/databricks/koalas/internal.py\u001b[0m in \u001b[0;36mto_pandas_frame\u001b[0;34m(self)\u001b[0m\n\u001b[1;32m    932\u001b[0m         \u001b[0;34m\"\"\" Return as pandas DataFrame. \"\"\"\u001b[0m\u001b[0;34m\u001b[0m\u001b[0;34m\u001b[0m\u001b[0m\n\u001b[1;32m    933\u001b[0m         \u001b[0msdf\u001b[0m \u001b[0;34m=\u001b[0m \u001b[0mself\u001b[0m\u001b[0;34m.\u001b[0m\u001b[0mto_internal_spark_frame\u001b[0m\u001b[0;34m\u001b[0m\u001b[0;34m\u001b[0m\u001b[0m\n\u001b[0;32m--> 934\u001b[0;31m         \u001b[0mpdf\u001b[0m \u001b[0;34m=\u001b[0m \u001b[0msdf\u001b[0m\u001b[0;34m.\u001b[0m\u001b[0mtoPandas\u001b[0m\u001b[0;34m(\u001b[0m\u001b[0;34m)\u001b[0m\u001b[0;34m\u001b[0m\u001b[0;34m\u001b[0m\u001b[0m\n\u001b[0m\u001b[1;32m    935\u001b[0m         \u001b[0;32mif\u001b[0m \u001b[0mlen\u001b[0m\u001b[0;34m(\u001b[0m\u001b[0mpdf\u001b[0m\u001b[0;34m)\u001b[0m \u001b[0;34m==\u001b[0m \u001b[0;36m0\u001b[0m \u001b[0;32mand\u001b[0m \u001b[0mlen\u001b[0m\u001b[0;34m(\u001b[0m\u001b[0msdf\u001b[0m\u001b[0;34m.\u001b[0m\u001b[0mschema\u001b[0m\u001b[0;34m)\u001b[0m \u001b[0;34m>\u001b[0m \u001b[0;36m0\u001b[0m\u001b[0;34m:\u001b[0m\u001b[0;34m\u001b[0m\u001b[0;34m\u001b[0m\u001b[0m\n\u001b[1;32m    936\u001b[0m             pdf = pdf.astype(\n",
            "\u001b[0;32m/usr/local/lib/python3.8/dist-packages/pyspark/sql/pandas/conversion.py\u001b[0m in \u001b[0;36mtoPandas\u001b[0;34m(self)\u001b[0m\n\u001b[1;32m    203\u001b[0m \u001b[0;34m\u001b[0m\u001b[0m\n\u001b[1;32m    204\u001b[0m         \u001b[0;31m# Below is toPandas without Arrow optimization.\u001b[0m\u001b[0;34m\u001b[0m\u001b[0;34m\u001b[0m\u001b[0;34m\u001b[0m\u001b[0m\n\u001b[0;32m--> 205\u001b[0;31m         \u001b[0mpdf\u001b[0m \u001b[0;34m=\u001b[0m \u001b[0mpd\u001b[0m\u001b[0;34m.\u001b[0m\u001b[0mDataFrame\u001b[0m\u001b[0;34m.\u001b[0m\u001b[0mfrom_records\u001b[0m\u001b[0;34m(\u001b[0m\u001b[0mself\u001b[0m\u001b[0;34m.\u001b[0m\u001b[0mcollect\u001b[0m\u001b[0;34m(\u001b[0m\u001b[0;34m)\u001b[0m\u001b[0;34m,\u001b[0m \u001b[0mcolumns\u001b[0m\u001b[0;34m=\u001b[0m\u001b[0mself\u001b[0m\u001b[0;34m.\u001b[0m\u001b[0mcolumns\u001b[0m\u001b[0;34m)\u001b[0m\u001b[0;34m\u001b[0m\u001b[0;34m\u001b[0m\u001b[0m\n\u001b[0m\u001b[1;32m    206\u001b[0m         \u001b[0mcolumn_counter\u001b[0m \u001b[0;34m=\u001b[0m \u001b[0mCounter\u001b[0m\u001b[0;34m(\u001b[0m\u001b[0mself\u001b[0m\u001b[0;34m.\u001b[0m\u001b[0mcolumns\u001b[0m\u001b[0;34m)\u001b[0m\u001b[0;34m\u001b[0m\u001b[0;34m\u001b[0m\u001b[0m\n\u001b[1;32m    207\u001b[0m \u001b[0;34m\u001b[0m\u001b[0m\n",
            "\u001b[0;32m/usr/local/lib/python3.8/dist-packages/pyspark/sql/dataframe.py\u001b[0m in \u001b[0;36mcollect\u001b[0;34m(self)\u001b[0m\n\u001b[1;32m    815\u001b[0m         \"\"\"\n\u001b[1;32m    816\u001b[0m         \u001b[0;32mwith\u001b[0m \u001b[0mSCCallSiteSync\u001b[0m\u001b[0;34m(\u001b[0m\u001b[0mself\u001b[0m\u001b[0;34m.\u001b[0m\u001b[0m_sc\u001b[0m\u001b[0;34m)\u001b[0m\u001b[0;34m:\u001b[0m\u001b[0;34m\u001b[0m\u001b[0;34m\u001b[0m\u001b[0m\n\u001b[0;32m--> 817\u001b[0;31m             \u001b[0msock_info\u001b[0m \u001b[0;34m=\u001b[0m \u001b[0mself\u001b[0m\u001b[0;34m.\u001b[0m\u001b[0m_jdf\u001b[0m\u001b[0;34m.\u001b[0m\u001b[0mcollectToPython\u001b[0m\u001b[0;34m(\u001b[0m\u001b[0;34m)\u001b[0m\u001b[0;34m\u001b[0m\u001b[0;34m\u001b[0m\u001b[0m\n\u001b[0m\u001b[1;32m    818\u001b[0m         \u001b[0;32mreturn\u001b[0m \u001b[0mlist\u001b[0m\u001b[0;34m(\u001b[0m\u001b[0m_load_from_socket\u001b[0m\u001b[0;34m(\u001b[0m\u001b[0msock_info\u001b[0m\u001b[0;34m,\u001b[0m \u001b[0mBatchedSerializer\u001b[0m\u001b[0;34m(\u001b[0m\u001b[0mCPickleSerializer\u001b[0m\u001b[0;34m(\u001b[0m\u001b[0;34m)\u001b[0m\u001b[0;34m)\u001b[0m\u001b[0;34m)\u001b[0m\u001b[0;34m)\u001b[0m\u001b[0;34m\u001b[0m\u001b[0;34m\u001b[0m\u001b[0m\n\u001b[1;32m    819\u001b[0m \u001b[0;34m\u001b[0m\u001b[0m\n",
            "\u001b[0;32m/usr/local/lib/python3.8/dist-packages/py4j/java_gateway.py\u001b[0m in \u001b[0;36m__call__\u001b[0;34m(self, *args)\u001b[0m\n\u001b[1;32m   1319\u001b[0m \u001b[0;34m\u001b[0m\u001b[0m\n\u001b[1;32m   1320\u001b[0m         \u001b[0manswer\u001b[0m \u001b[0;34m=\u001b[0m \u001b[0mself\u001b[0m\u001b[0;34m.\u001b[0m\u001b[0mgateway_client\u001b[0m\u001b[0;34m.\u001b[0m\u001b[0msend_command\u001b[0m\u001b[0;34m(\u001b[0m\u001b[0mcommand\u001b[0m\u001b[0;34m)\u001b[0m\u001b[0;34m\u001b[0m\u001b[0;34m\u001b[0m\u001b[0m\n\u001b[0;32m-> 1321\u001b[0;31m         return_value = get_return_value(\n\u001b[0m\u001b[1;32m   1322\u001b[0m             answer, self.gateway_client, self.target_id, self.name)\n\u001b[1;32m   1323\u001b[0m \u001b[0;34m\u001b[0m\u001b[0m\n",
            "\u001b[0;32m/usr/local/lib/python3.8/dist-packages/pyspark/sql/utils.py\u001b[0m in \u001b[0;36mdeco\u001b[0;34m(*a, **kw)\u001b[0m\n\u001b[1;32m    188\u001b[0m     \u001b[0;32mdef\u001b[0m \u001b[0mdeco\u001b[0m\u001b[0;34m(\u001b[0m\u001b[0;34m*\u001b[0m\u001b[0ma\u001b[0m\u001b[0;34m:\u001b[0m \u001b[0mAny\u001b[0m\u001b[0;34m,\u001b[0m \u001b[0;34m**\u001b[0m\u001b[0mkw\u001b[0m\u001b[0;34m:\u001b[0m \u001b[0mAny\u001b[0m\u001b[0;34m)\u001b[0m \u001b[0;34m->\u001b[0m \u001b[0mAny\u001b[0m\u001b[0;34m:\u001b[0m\u001b[0;34m\u001b[0m\u001b[0;34m\u001b[0m\u001b[0m\n\u001b[1;32m    189\u001b[0m         \u001b[0;32mtry\u001b[0m\u001b[0;34m:\u001b[0m\u001b[0;34m\u001b[0m\u001b[0;34m\u001b[0m\u001b[0m\n\u001b[0;32m--> 190\u001b[0;31m             \u001b[0;32mreturn\u001b[0m \u001b[0mf\u001b[0m\u001b[0;34m(\u001b[0m\u001b[0;34m*\u001b[0m\u001b[0ma\u001b[0m\u001b[0;34m,\u001b[0m \u001b[0;34m**\u001b[0m\u001b[0mkw\u001b[0m\u001b[0;34m)\u001b[0m\u001b[0;34m\u001b[0m\u001b[0;34m\u001b[0m\u001b[0m\n\u001b[0m\u001b[1;32m    191\u001b[0m         \u001b[0;32mexcept\u001b[0m \u001b[0mPy4JJavaError\u001b[0m \u001b[0;32mas\u001b[0m \u001b[0me\u001b[0m\u001b[0;34m:\u001b[0m\u001b[0;34m\u001b[0m\u001b[0;34m\u001b[0m\u001b[0m\n\u001b[1;32m    192\u001b[0m             \u001b[0mconverted\u001b[0m \u001b[0;34m=\u001b[0m \u001b[0mconvert_exception\u001b[0m\u001b[0;34m(\u001b[0m\u001b[0me\u001b[0m\u001b[0;34m.\u001b[0m\u001b[0mjava_exception\u001b[0m\u001b[0;34m)\u001b[0m\u001b[0;34m\u001b[0m\u001b[0;34m\u001b[0m\u001b[0m\n",
            "\u001b[0;32m/usr/local/lib/python3.8/dist-packages/py4j/protocol.py\u001b[0m in \u001b[0;36mget_return_value\u001b[0;34m(answer, gateway_client, target_id, name)\u001b[0m\n\u001b[1;32m    324\u001b[0m             \u001b[0mvalue\u001b[0m \u001b[0;34m=\u001b[0m \u001b[0mOUTPUT_CONVERTER\u001b[0m\u001b[0;34m[\u001b[0m\u001b[0mtype\u001b[0m\u001b[0;34m]\u001b[0m\u001b[0;34m(\u001b[0m\u001b[0manswer\u001b[0m\u001b[0;34m[\u001b[0m\u001b[0;36m2\u001b[0m\u001b[0;34m:\u001b[0m\u001b[0;34m]\u001b[0m\u001b[0;34m,\u001b[0m \u001b[0mgateway_client\u001b[0m\u001b[0;34m)\u001b[0m\u001b[0;34m\u001b[0m\u001b[0;34m\u001b[0m\u001b[0m\n\u001b[1;32m    325\u001b[0m             \u001b[0;32mif\u001b[0m \u001b[0manswer\u001b[0m\u001b[0;34m[\u001b[0m\u001b[0;36m1\u001b[0m\u001b[0;34m]\u001b[0m \u001b[0;34m==\u001b[0m \u001b[0mREFERENCE_TYPE\u001b[0m\u001b[0;34m:\u001b[0m\u001b[0;34m\u001b[0m\u001b[0;34m\u001b[0m\u001b[0m\n\u001b[0;32m--> 326\u001b[0;31m                 raise Py4JJavaError(\n\u001b[0m\u001b[1;32m    327\u001b[0m                     \u001b[0;34m\"An error occurred while calling {0}{1}{2}.\\n\"\u001b[0m\u001b[0;34m.\u001b[0m\u001b[0;34m\u001b[0m\u001b[0;34m\u001b[0m\u001b[0m\n\u001b[1;32m    328\u001b[0m                     format(target_id, \".\", name), value)\n",
            "\u001b[0;31mPy4JJavaError\u001b[0m: An error occurred while calling o18084.collectToPython.\n: org.apache.spark.SparkException: Job aborted due to stage failure: Task 0 in stage 34.0 failed 1 times, most recent failure: Lost task 0.0 in stage 34.0 (TID 182) (a835a36c7edc executor driver): java.lang.OutOfMemoryError: Java heap space\n\tat java.base/java.nio.HeapByteBuffer.<init>(HeapByteBuffer.java:61)\n\tat java.base/java.nio.ByteBuffer.allocate(ByteBuffer.java:348)\n\tat org.apache.spark.io.ReadAheadInputStream.<init>(ReadAheadInputStream.java:106)\n\tat org.apache.spark.util.collection.unsafe.sort.UnsafeSorterSpillReader.<init>(UnsafeSorterSpillReader.java:74)\n\tat org.apache.spark.util.collection.unsafe.sort.UnsafeSorterSpillWriter.getReader(UnsafeSorterSpillWriter.java:159)\n\tat org.apache.spark.util.collection.unsafe.sort.UnsafeExternalSorter.getSortedIterator(UnsafeExternalSorter.java:553)\n\tat org.apache.spark.sql.execution.UnsafeExternalRowSorter.sort(UnsafeExternalRowSorter.java:172)\n\tat org.apache.spark.sql.catalyst.expressions.GeneratedClass$GeneratedIteratorForCodegenStage3.processNext(Unknown Source)\n\tat org.apache.spark.sql.execution.BufferedRowIterator.hasNext(BufferedRowIterator.java:43)\n\tat org.apache.spark.sql.execution.WholeStageCodegenExec$$anon$1.hasNext(WholeStageCodegenExec.scala:760)\n\tat org.apache.spark.sql.execution.window.WindowExec$$anon$1.fetchNextRow(WindowExec.scala:113)\n\tat org.apache.spark.sql.execution.window.WindowExec$$anon$1.<init>(WindowExec.scala:122)\n\tat org.apache.spark.sql.execution.window.WindowExec.$anonfun$doExecute$3(WindowExec.scala:102)\n\tat org.apache.spark.sql.execution.window.WindowExec$$Lambda$3337/0x00000008413e6840.apply(Unknown Source)\n\tat org.apache.spark.rdd.RDD.$anonfun$mapPartitions$2(RDD.scala:855)\n\tat org.apache.spark.rdd.RDD.$anonfun$mapPartitions$2$adapted(RDD.scala:855)\n\tat org.apache.spark.rdd.RDD$$Lambda$2839/0x00000008411f9c40.apply(Unknown Source)\n\tat org.apache.spark.rdd.MapPartitionsRDD.compute(MapPartitionsRDD.scala:52)\n\tat org.apache.spark.rdd.RDD.computeOrReadCheckpoint(RDD.scala:365)\n\tat org.apache.spark.rdd.RDD.iterator(RDD.scala:329)\n\tat org.apache.spark.rdd.MapPartitionsRDD.compute(MapPartitionsRDD.scala:52)\n\tat org.apache.spark.rdd.RDD.computeOrReadCheckpoint(RDD.scala:365)\n\tat org.apache.spark.rdd.RDD.iterator(RDD.scala:329)\n\tat org.apache.spark.rdd.MapPartitionsRDD.compute(MapPartitionsRDD.scala:52)\n\tat org.apache.spark.rdd.RDD.computeOrReadCheckpoint(RDD.scala:365)\n\tat org.apache.spark.rdd.RDD.iterator(RDD.scala:329)\n\tat org.apache.spark.scheduler.ResultTask.runTask(ResultTask.scala:90)\n\tat org.apache.spark.scheduler.Task.run(Task.scala:136)\n\tat org.apache.spark.executor.Executor$TaskRunner.$anonfun$run$3(Executor.scala:548)\n\tat org.apache.spark.executor.Executor$TaskRunner$$Lambda$2614/0x0000000841102840.apply(Unknown Source)\n\tat org.apache.spark.util.Utils$.tryWithSafeFinally(Utils.scala:1504)\n\tat org.apache.spark.executor.Executor$TaskRunner.run(Executor.scala:551)\n\nDriver stacktrace:\n\tat org.apache.spark.scheduler.DAGScheduler.failJobAndIndependentStages(DAGScheduler.scala:2672)\n\tat org.apache.spark.scheduler.DAGScheduler.$anonfun$abortStage$2(DAGScheduler.scala:2608)\n\tat org.apache.spark.scheduler.DAGScheduler.$anonfun$abortStage$2$adapted(DAGScheduler.scala:2607)\n\tat scala.collection.mutable.ResizableArray.foreach(ResizableArray.scala:62)\n\tat scala.collection.mutable.ResizableArray.foreach$(ResizableArray.scala:55)\n\tat scala.collection.mutable.ArrayBuffer.foreach(ArrayBuffer.scala:49)\n\tat org.apache.spark.scheduler.DAGScheduler.abortStage(DAGScheduler.scala:2607)\n\tat org.apache.spark.scheduler.DAGScheduler.$anonfun$handleTaskSetFailed$1(DAGScheduler.scala:1182)\n\tat org.apache.spark.scheduler.DAGScheduler.$anonfun$handleTaskSetFailed$1$adapted(DAGScheduler.scala:1182)\n\tat scala.Option.foreach(Option.scala:407)\n\tat org.apache.spark.scheduler.DAGScheduler.handleTaskSetFailed(DAGScheduler.scala:1182)\n\tat org.apache.spark.scheduler.DAGSchedulerEventProcessLoop.doOnReceive(DAGScheduler.scala:2860)\n\tat org.apache.spark.scheduler.DAGSchedulerEventProcessLoop.onReceive(DAGScheduler.scala:2802)\n\tat org.apache.spark.scheduler.DAGSchedulerEventProcessLoop.onReceive(DAGScheduler.scala:2791)\n\tat org.apache.spark.util.EventLoop$$anon$1.run(EventLoop.scala:49)\n\tat org.apache.spark.scheduler.DAGScheduler.runJob(DAGScheduler.scala:952)\n\tat org.apache.spark.SparkContext.runJob(SparkContext.scala:2228)\n\tat org.apache.spark.SparkContext.runJob(SparkContext.scala:2249)\n\tat org.apache.spark.SparkContext.runJob(SparkContext.scala:2268)\n\tat org.apache.spark.sql.execution.SparkPlan.executeTake(SparkPlan.scala:506)\n\tat org.apache.spark.sql.execution.SparkPlan.executeTake(SparkPlan.scala:459)\n\tat org.apache.spark.sql.execution.CollectLimitExec.executeCollect(limit.scala:48)\n\tat org.apache.spark.sql.execution.adaptive.AdaptiveSparkPlanExec.$anonfun$executeCollect$1(AdaptiveSparkPlanExec.scala:345)\n\tat org.apache.spark.sql.execution.adaptive.AdaptiveSparkPlanExec.withFinalPlanUpdate(AdaptiveSparkPlanExec.scala:373)\n\tat org.apache.spark.sql.execution.adaptive.AdaptiveSparkPlanExec.executeCollect(AdaptiveSparkPlanExec.scala:345)\n\tat org.apache.spark.sql.Dataset.$anonfun$collectToPython$1(Dataset.scala:3688)\n\tat org.apache.spark.sql.Dataset.$anonfun$withAction$2(Dataset.scala:3858)\n\tat org.apache.spark.sql.execution.QueryExecution$.withInternalError(QueryExecution.scala:510)\n\tat org.apache.spark.sql.Dataset.$anonfun$withAction$1(Dataset.scala:3856)\n\tat org.apache.spark.sql.execution.SQLExecution$.$anonfun$withNewExecutionId$6(SQLExecution.scala:109)\n\tat org.apache.spark.sql.execution.SQLExecution$.withSQLConfPropagated(SQLExecution.scala:169)\n\tat org.apache.spark.sql.execution.SQLExecution$.$anonfun$withNewExecutionId$1(SQLExecution.scala:95)\n\tat org.apache.spark.sql.SparkSession.withActive(SparkSession.scala:779)\n\tat org.apache.spark.sql.execution.SQLExecution$.withNewExecutionId(SQLExecution.scala:64)\n\tat org.apache.spark.sql.Dataset.withAction(Dataset.scala:3856)\n\tat org.apache.spark.sql.Dataset.collectToPython(Dataset.scala:3685)\n\tat java.base/jdk.internal.reflect.NativeMethodAccessorImpl.invoke0(Native Method)\n\tat java.base/jdk.internal.reflect.NativeMethodAccessorImpl.invoke(NativeMethodAccessorImpl.java:62)\n\tat java.base/jdk.internal.reflect.DelegatingMethodAccessorImpl.invoke(DelegatingMethodAccessorImpl.java:43)\n\tat java.base/java.lang.reflect.Method.invoke(Method.java:566)\n\tat py4j.reflection.MethodInvoker.invoke(MethodInvoker.java:244)\n\tat py4j.reflection.ReflectionEngine.invoke(ReflectionEngine.java:357)\n\tat py4j.Gateway.invoke(Gateway.java:282)\n\tat py4j.commands.AbstractCommand.invokeMethod(AbstractCommand.java:132)\n\tat py4j.commands.CallCommand.execute(CallCommand.java:79)\n\tat py4j.ClientServerConnection.waitForCommands(ClientServerConnection.java:182)\n\tat py4j.ClientServerConnection.run(ClientServerConnection.java:106)\n\tat java.base/java.lang.Thread.run(Thread.java:829)\nCaused by: java.lang.OutOfMemoryError: Java heap space\n\tat java.base/java.nio.HeapByteBuffer.<init>(HeapByteBuffer.java:61)\n\tat java.base/java.nio.ByteBuffer.allocate(ByteBuffer.java:348)\n\tat org.apache.spark.io.ReadAheadInputStream.<init>(ReadAheadInputStream.java:106)\n\tat org.apache.spark.util.collection.unsafe.sort.UnsafeSorterSpillReader.<init>(UnsafeSorterSpillReader.java:74)\n\tat org.apache.spark.util.collection.unsafe.sort.UnsafeSorterSpillWriter.getReader(UnsafeSorterSpillWriter.java:159)\n\tat org.apache.spark.util.collection.unsafe.sort.UnsafeExternalSorter.getSortedIterator(UnsafeExternalSorter.java:553)\n\tat org.apache.spark.sql.execution.UnsafeExternalRowSorter.sort(UnsafeExternalRowSorter.java:172)\n\tat org.apache.spark.sql.catalyst.expressions.GeneratedClass$GeneratedIteratorForCodegenStage3.processNext(Unknown Source)\n\tat org.apache.spark.sql.execution.BufferedRowIterator.hasNext(BufferedRowIterator.java:43)\n\tat org.apache.spark.sql.execution.WholeStageCodegenExec$$anon$1.hasNext(WholeStageCodegenExec.scala:760)\n\tat org.apache.spark.sql.execution.window.WindowExec$$anon$1.fetchNextRow(WindowExec.scala:113)\n\tat org.apache.spark.sql.execution.window.WindowExec$$anon$1.<init>(WindowExec.scala:122)\n\tat org.apache.spark.sql.execution.window.WindowExec.$anonfun$doExecute$3(WindowExec.scala:102)\n\tat org.apache.spark.sql.execution.window.WindowExec$$Lambda$3337/0x00000008413e6840.apply(Unknown Source)\n\tat org.apache.spark.rdd.RDD.$anonfun$mapPartitions$2(RDD.scala:855)\n\tat org.apache.spark.rdd.RDD.$anonfun$mapPartitions$2$adapted(RDD.scala:855)\n\tat org.apache.spark.rdd.RDD$$Lambda$2839/0x00000008411f9c40.apply(Unknown Source)\n\tat org.apache.spark.rdd.MapPartitionsRDD.compute(MapPartitionsRDD.scala:52)\n\tat org.apache.spark.rdd.RDD.computeOrReadCheckpoint(RDD.scala:365)\n\tat org.apache.spark.rdd.RDD.iterator(RDD.scala:329)\n\tat org.apache.spark.rdd.MapPartitionsRDD.compute(MapPartitionsRDD.scala:52)\n\tat org.apache.spark.rdd.RDD.computeOrReadCheckpoint(RDD.scala:365)\n\tat org.apache.spark.rdd.RDD.iterator(RDD.scala:329)\n\tat org.apache.spark.rdd.MapPartitionsRDD.compute(MapPartitionsRDD.scala:52)\n\tat org.apache.spark.rdd.RDD.computeOrReadCheckpoint(RDD.scala:365)\n\tat org.apache.spark.rdd.RDD.iterator(RDD.scala:329)\n\tat org.apache.spark.scheduler.ResultTask.runTask(ResultTask.scala:90)\n\tat org.apache.spark.scheduler.Task.run(Task.scala:136)\n\tat org.apache.spark.executor.Executor$TaskRunner.$anonfun$run$3(Executor.scala:548)\n\tat org.apache.spark.executor.Executor$TaskRunner$$Lambda$2614/0x0000000841102840.apply(Unknown Source)\n\tat org.apache.spark.util.Utils$.tryWithSafeFinally(Utils.scala:1504)\n\tat org.apache.spark.executor.Executor$TaskRunner.run(Executor.scala:551)\n"
          ]
        },
        {
          "output_type": "stream",
          "name": "stderr",
          "text": [
            "----------------------------------------\n",
            "Exception happened during processing of request from ('127.0.0.1', 56754)\n",
            "ERROR:root:Exception while sending command.\n",
            "Traceback (most recent call last):\n",
            "  File \"/usr/local/lib/python3.8/dist-packages/py4j/clientserver.py\", line 516, in send_command\n",
            "    raise Py4JNetworkError(\"Answer from Java side is empty\")\n",
            "py4j.protocol.Py4JNetworkError: Answer from Java side is empty\n",
            "\n",
            "During handling of the above exception, another exception occurred:\n",
            "\n",
            "Traceback (most recent call last):\n",
            "  File \"/usr/local/lib/python3.8/dist-packages/py4j/java_gateway.py\", line 1038, in send_command\n",
            "    response = connection.send_command(command)\n",
            "  File \"/usr/local/lib/python3.8/dist-packages/py4j/clientserver.py\", line 539, in send_command\n",
            "    raise Py4JNetworkError(\n",
            "py4j.protocol.Py4JNetworkError: Error while sending or receiving\n",
            "ERROR:root:Exception while sending command.\n",
            "Traceback (most recent call last):\n",
            "  File \"/usr/local/lib/python3.8/dist-packages/py4j/clientserver.py\", line 516, in send_command\n",
            "    raise Py4JNetworkError(\"Answer from Java side is empty\")\n",
            "py4j.protocol.Py4JNetworkError: Answer from Java side is empty\n",
            "\n",
            "During handling of the above exception, another exception occurred:\n",
            "\n",
            "Traceback (most recent call last):\n",
            "  File \"/usr/local/lib/python3.8/dist-packages/py4j/java_gateway.py\", line 1038, in send_command\n",
            "    response = connection.send_command(command)\n",
            "  File \"/usr/local/lib/python3.8/dist-packages/py4j/clientserver.py\", line 539, in send_command\n",
            "    raise Py4JNetworkError(\n",
            "py4j.protocol.Py4JNetworkError: Error while sending or receiving\n",
            "Traceback (most recent call last):\n",
            "  File \"/usr/lib/python3.8/socketserver.py\", line 316, in _handle_request_noblock\n",
            "    self.process_request(request, client_address)\n",
            "  File \"/usr/lib/python3.8/socketserver.py\", line 347, in process_request\n",
            "    self.finish_request(request, client_address)\n",
            "  File \"/usr/lib/python3.8/socketserver.py\", line 360, in finish_request\n",
            "    self.RequestHandlerClass(request, client_address, self)\n",
            "  File \"/usr/lib/python3.8/socketserver.py\", line 747, in __init__\n",
            "    self.handle()\n",
            "  File \"/usr/local/lib/python3.8/dist-packages/pyspark/accumulators.py\", line 281, in handle\n",
            "    poll(accum_updates)\n",
            "  File \"/usr/local/lib/python3.8/dist-packages/pyspark/accumulators.py\", line 253, in poll\n",
            "    if func():\n",
            "  File \"/usr/local/lib/python3.8/dist-packages/pyspark/accumulators.py\", line 257, in accum_updates\n",
            "    num_updates = read_int(self.rfile)\n",
            "  File \"/usr/local/lib/python3.8/dist-packages/pyspark/serializers.py\", line 595, in read_int\n",
            "    raise EOFError\n",
            "EOFError\n",
            "----------------------------------------"
          ]
        },
        {
          "output_type": "error",
          "ename": "Py4JError",
          "evalue": "ignored",
          "traceback": [
            "\u001b[0;31m---------------------------------------------------------------------------\u001b[0m",
            "\u001b[0;31mPy4JError\u001b[0m                                 Traceback (most recent call last)",
            "\u001b[0;32m/usr/local/lib/python3.8/dist-packages/IPython/core/formatters.py\u001b[0m in \u001b[0;36m__call__\u001b[0;34m(self, obj)\u001b[0m\n\u001b[1;32m    343\u001b[0m             \u001b[0mmethod\u001b[0m \u001b[0;34m=\u001b[0m \u001b[0mget_real_method\u001b[0m\u001b[0;34m(\u001b[0m\u001b[0mobj\u001b[0m\u001b[0;34m,\u001b[0m \u001b[0mself\u001b[0m\u001b[0;34m.\u001b[0m\u001b[0mprint_method\u001b[0m\u001b[0;34m)\u001b[0m\u001b[0;34m\u001b[0m\u001b[0;34m\u001b[0m\u001b[0m\n\u001b[1;32m    344\u001b[0m             \u001b[0;32mif\u001b[0m \u001b[0mmethod\u001b[0m \u001b[0;32mis\u001b[0m \u001b[0;32mnot\u001b[0m \u001b[0;32mNone\u001b[0m\u001b[0;34m:\u001b[0m\u001b[0;34m\u001b[0m\u001b[0;34m\u001b[0m\u001b[0m\n\u001b[0;32m--> 345\u001b[0;31m                 \u001b[0;32mreturn\u001b[0m \u001b[0mmethod\u001b[0m\u001b[0;34m(\u001b[0m\u001b[0;34m)\u001b[0m\u001b[0;34m\u001b[0m\u001b[0;34m\u001b[0m\u001b[0m\n\u001b[0m\u001b[1;32m    346\u001b[0m             \u001b[0;32mreturn\u001b[0m \u001b[0;32mNone\u001b[0m\u001b[0;34m\u001b[0m\u001b[0;34m\u001b[0m\u001b[0m\n\u001b[1;32m    347\u001b[0m         \u001b[0;32melse\u001b[0m\u001b[0;34m:\u001b[0m\u001b[0;34m\u001b[0m\u001b[0;34m\u001b[0m\u001b[0m\n",
            "\u001b[0;32m/usr/local/lib/python3.8/dist-packages/databricks/koalas/frame.py\u001b[0m in \u001b[0;36m_repr_html_\u001b[0;34m(self)\u001b[0m\n\u001b[1;32m  11684\u001b[0m             \u001b[0;32mreturn\u001b[0m \u001b[0mself\u001b[0m\u001b[0;34m.\u001b[0m\u001b[0m_to_internal_pandas\u001b[0m\u001b[0;34m(\u001b[0m\u001b[0;34m)\u001b[0m\u001b[0;34m.\u001b[0m\u001b[0mto_html\u001b[0m\u001b[0;34m(\u001b[0m\u001b[0mnotebook\u001b[0m\u001b[0;34m=\u001b[0m\u001b[0;32mTrue\u001b[0m\u001b[0;34m,\u001b[0m \u001b[0mbold_rows\u001b[0m\u001b[0;34m=\u001b[0m\u001b[0mbold_rows\u001b[0m\u001b[0;34m)\u001b[0m\u001b[0;34m\u001b[0m\u001b[0;34m\u001b[0m\u001b[0m\n\u001b[1;32m  11685\u001b[0m \u001b[0;34m\u001b[0m\u001b[0m\n\u001b[0;32m> 11686\u001b[0;31m         \u001b[0mpdf\u001b[0m \u001b[0;34m=\u001b[0m \u001b[0mself\u001b[0m\u001b[0;34m.\u001b[0m\u001b[0m_get_or_create_repr_pandas_cache\u001b[0m\u001b[0;34m(\u001b[0m\u001b[0mmax_display_count\u001b[0m\u001b[0;34m)\u001b[0m\u001b[0;34m\u001b[0m\u001b[0;34m\u001b[0m\u001b[0m\n\u001b[0m\u001b[1;32m  11687\u001b[0m         \u001b[0mpdf_length\u001b[0m \u001b[0;34m=\u001b[0m \u001b[0mlen\u001b[0m\u001b[0;34m(\u001b[0m\u001b[0mpdf\u001b[0m\u001b[0;34m)\u001b[0m\u001b[0;34m\u001b[0m\u001b[0;34m\u001b[0m\u001b[0m\n\u001b[1;32m  11688\u001b[0m         \u001b[0mpdf\u001b[0m \u001b[0;34m=\u001b[0m \u001b[0mpdf\u001b[0m\u001b[0;34m.\u001b[0m\u001b[0miloc\u001b[0m\u001b[0;34m[\u001b[0m\u001b[0;34m:\u001b[0m\u001b[0mmax_display_count\u001b[0m\u001b[0;34m]\u001b[0m\u001b[0;34m\u001b[0m\u001b[0;34m\u001b[0m\u001b[0m\n",
            "\u001b[0;32m/usr/local/lib/python3.8/dist-packages/databricks/koalas/frame.py\u001b[0m in \u001b[0;36m_get_or_create_repr_pandas_cache\u001b[0;34m(self, n)\u001b[0m\n\u001b[1;32m  11652\u001b[0m         \u001b[0;32mif\u001b[0m \u001b[0;32mnot\u001b[0m \u001b[0mhasattr\u001b[0m\u001b[0;34m(\u001b[0m\u001b[0mself\u001b[0m\u001b[0;34m,\u001b[0m \u001b[0;34m\"_repr_pandas_cache\"\u001b[0m\u001b[0;34m)\u001b[0m \u001b[0;32mor\u001b[0m \u001b[0mn\u001b[0m \u001b[0;32mnot\u001b[0m \u001b[0;32min\u001b[0m \u001b[0mself\u001b[0m\u001b[0;34m.\u001b[0m\u001b[0m_repr_pandas_cache\u001b[0m\u001b[0;34m:\u001b[0m\u001b[0;34m\u001b[0m\u001b[0;34m\u001b[0m\u001b[0m\n\u001b[1;32m  11653\u001b[0m             object.__setattr__(\n\u001b[0;32m> 11654\u001b[0;31m                 \u001b[0mself\u001b[0m\u001b[0;34m,\u001b[0m \u001b[0;34m\"_repr_pandas_cache\"\u001b[0m\u001b[0;34m,\u001b[0m \u001b[0;34m{\u001b[0m\u001b[0mn\u001b[0m\u001b[0;34m:\u001b[0m \u001b[0mself\u001b[0m\u001b[0;34m.\u001b[0m\u001b[0mhead\u001b[0m\u001b[0;34m(\u001b[0m\u001b[0mn\u001b[0m \u001b[0;34m+\u001b[0m \u001b[0;36m1\u001b[0m\u001b[0;34m)\u001b[0m\u001b[0;34m.\u001b[0m\u001b[0m_to_internal_pandas\u001b[0m\u001b[0;34m(\u001b[0m\u001b[0;34m)\u001b[0m\u001b[0;34m}\u001b[0m\u001b[0;34m\u001b[0m\u001b[0;34m\u001b[0m\u001b[0m\n\u001b[0m\u001b[1;32m  11655\u001b[0m             )\n\u001b[1;32m  11656\u001b[0m         \u001b[0;32mreturn\u001b[0m \u001b[0mself\u001b[0m\u001b[0;34m.\u001b[0m\u001b[0m_repr_pandas_cache\u001b[0m\u001b[0;34m[\u001b[0m\u001b[0mn\u001b[0m\u001b[0;34m]\u001b[0m\u001b[0;34m\u001b[0m\u001b[0;34m\u001b[0m\u001b[0m\n",
            "\u001b[0;32m/usr/local/lib/python3.8/dist-packages/databricks/koalas/frame.py\u001b[0m in \u001b[0;36mhead\u001b[0;34m(self, n)\u001b[0m\n\u001b[1;32m   5751\u001b[0m             \u001b[0;32mif\u001b[0m \u001b[0mget_option\u001b[0m\u001b[0;34m(\u001b[0m\u001b[0;34m\"compute.ordered_head\"\u001b[0m\u001b[0;34m)\u001b[0m\u001b[0;34m:\u001b[0m\u001b[0;34m\u001b[0m\u001b[0;34m\u001b[0m\u001b[0m\n\u001b[1;32m   5752\u001b[0m                 \u001b[0msdf\u001b[0m \u001b[0;34m=\u001b[0m \u001b[0msdf\u001b[0m\u001b[0;34m.\u001b[0m\u001b[0morderBy\u001b[0m\u001b[0;34m(\u001b[0m\u001b[0mNATURAL_ORDER_COLUMN_NAME\u001b[0m\u001b[0;34m)\u001b[0m\u001b[0;34m\u001b[0m\u001b[0;34m\u001b[0m\u001b[0m\n\u001b[0;32m-> 5753\u001b[0;31m             \u001b[0;32mreturn\u001b[0m \u001b[0mDataFrame\u001b[0m\u001b[0;34m(\u001b[0m\u001b[0mself\u001b[0m\u001b[0;34m.\u001b[0m\u001b[0m_internal\u001b[0m\u001b[0;34m.\u001b[0m\u001b[0mwith_new_sdf\u001b[0m\u001b[0;34m(\u001b[0m\u001b[0msdf\u001b[0m\u001b[0;34m.\u001b[0m\u001b[0mlimit\u001b[0m\u001b[0;34m(\u001b[0m\u001b[0mn\u001b[0m\u001b[0;34m)\u001b[0m\u001b[0;34m)\u001b[0m\u001b[0;34m)\u001b[0m\u001b[0;34m\u001b[0m\u001b[0;34m\u001b[0m\u001b[0m\n\u001b[0m\u001b[1;32m   5754\u001b[0m \u001b[0;34m\u001b[0m\u001b[0m\n\u001b[1;32m   5755\u001b[0m     \u001b[0;32mdef\u001b[0m \u001b[0mlast\u001b[0m\u001b[0;34m(\u001b[0m\u001b[0mself\u001b[0m\u001b[0;34m,\u001b[0m \u001b[0moffset\u001b[0m\u001b[0;34m:\u001b[0m \u001b[0mUnion\u001b[0m\u001b[0;34m[\u001b[0m\u001b[0mstr\u001b[0m\u001b[0;34m,\u001b[0m \u001b[0mDateOffset\u001b[0m\u001b[0;34m]\u001b[0m\u001b[0;34m)\u001b[0m \u001b[0;34m->\u001b[0m \u001b[0;34m\"DataFrame\"\u001b[0m\u001b[0;34m:\u001b[0m\u001b[0;34m\u001b[0m\u001b[0;34m\u001b[0m\u001b[0m\n",
            "\u001b[0;32m/usr/local/lib/python3.8/dist-packages/databricks/koalas/internal.py\u001b[0m in \u001b[0;36mwith_new_sdf\u001b[0;34m(self, spark_frame, index_dtypes, data_columns, data_dtypes)\u001b[0m\n\u001b[1;32m   1114\u001b[0m \u001b[0;34m\u001b[0m\u001b[0m\n\u001b[1;32m   1115\u001b[0m         \u001b[0msdf\u001b[0m \u001b[0;34m=\u001b[0m \u001b[0mspark_frame\u001b[0m\u001b[0;34m.\u001b[0m\u001b[0mdrop\u001b[0m\u001b[0;34m(\u001b[0m\u001b[0mNATURAL_ORDER_COLUMN_NAME\u001b[0m\u001b[0;34m)\u001b[0m\u001b[0;34m\u001b[0m\u001b[0;34m\u001b[0m\u001b[0m\n\u001b[0;32m-> 1116\u001b[0;31m         return self.copy(\n\u001b[0m\u001b[1;32m   1117\u001b[0m             \u001b[0mspark_frame\u001b[0m\u001b[0;34m=\u001b[0m\u001b[0msdf\u001b[0m\u001b[0;34m,\u001b[0m\u001b[0;34m\u001b[0m\u001b[0;34m\u001b[0m\u001b[0m\n\u001b[1;32m   1118\u001b[0m             \u001b[0mindex_spark_columns\u001b[0m\u001b[0;34m=\u001b[0m\u001b[0;34m[\u001b[0m\u001b[0mscol_for\u001b[0m\u001b[0;34m(\u001b[0m\u001b[0msdf\u001b[0m\u001b[0;34m,\u001b[0m \u001b[0mcol\u001b[0m\u001b[0;34m)\u001b[0m \u001b[0;32mfor\u001b[0m \u001b[0mcol\u001b[0m \u001b[0;32min\u001b[0m \u001b[0mself\u001b[0m\u001b[0;34m.\u001b[0m\u001b[0mindex_spark_column_names\u001b[0m\u001b[0;34m]\u001b[0m\u001b[0;34m,\u001b[0m\u001b[0;34m\u001b[0m\u001b[0;34m\u001b[0m\u001b[0m\n",
            "\u001b[0;32m/usr/local/lib/python3.8/dist-packages/databricks/koalas/internal.py\u001b[0m in \u001b[0;36mcopy\u001b[0;34m(self, spark_frame, index_spark_columns, index_names, index_dtypes, column_labels, data_spark_columns, data_dtypes, column_label_names)\u001b[0m\n\u001b[1;32m   1313\u001b[0m         \u001b[0;32mif\u001b[0m \u001b[0mcolumn_label_names\u001b[0m \u001b[0;32mis\u001b[0m \u001b[0m_NoValue\u001b[0m\u001b[0;34m:\u001b[0m\u001b[0;34m\u001b[0m\u001b[0;34m\u001b[0m\u001b[0m\n\u001b[1;32m   1314\u001b[0m             \u001b[0mcolumn_label_names\u001b[0m \u001b[0;34m=\u001b[0m \u001b[0mself\u001b[0m\u001b[0;34m.\u001b[0m\u001b[0mcolumn_label_names\u001b[0m\u001b[0;34m\u001b[0m\u001b[0;34m\u001b[0m\u001b[0m\n\u001b[0;32m-> 1315\u001b[0;31m         return InternalFrame(\n\u001b[0m\u001b[1;32m   1316\u001b[0m             \u001b[0mspark_frame\u001b[0m\u001b[0;34m=\u001b[0m\u001b[0mspark_frame\u001b[0m\u001b[0;34m,\u001b[0m\u001b[0;34m\u001b[0m\u001b[0;34m\u001b[0m\u001b[0m\n\u001b[1;32m   1317\u001b[0m             \u001b[0mindex_spark_columns\u001b[0m\u001b[0;34m=\u001b[0m\u001b[0mindex_spark_columns\u001b[0m\u001b[0;34m,\u001b[0m\u001b[0;34m\u001b[0m\u001b[0;34m\u001b[0m\u001b[0m\n",
            "\u001b[0;32m/usr/local/lib/python3.8/dist-packages/databricks/koalas/internal.py\u001b[0m in \u001b[0;36m__init__\u001b[0;34m(self, spark_frame, index_spark_columns, index_names, index_dtypes, column_labels, data_spark_columns, data_dtypes, column_label_names)\u001b[0m\n\u001b[1;32m    595\u001b[0m         )\n\u001b[1;32m    596\u001b[0m \u001b[0;34m\u001b[0m\u001b[0m\n\u001b[0;32m--> 597\u001b[0;31m         data_dtypes = [\n\u001b[0m\u001b[1;32m    598\u001b[0m             \u001b[0mspark_type_to_pandas_dtype\u001b[0m\u001b[0;34m(\u001b[0m\u001b[0mspark_frame\u001b[0m\u001b[0;34m.\u001b[0m\u001b[0mselect\u001b[0m\u001b[0;34m(\u001b[0m\u001b[0mscol\u001b[0m\u001b[0;34m)\u001b[0m\u001b[0;34m.\u001b[0m\u001b[0mschema\u001b[0m\u001b[0;34m[\u001b[0m\u001b[0;36m0\u001b[0m\u001b[0;34m]\u001b[0m\u001b[0;34m.\u001b[0m\u001b[0mdataType\u001b[0m\u001b[0;34m)\u001b[0m\u001b[0;34m\u001b[0m\u001b[0;34m\u001b[0m\u001b[0m\n\u001b[1;32m    599\u001b[0m             \u001b[0;32mif\u001b[0m \u001b[0mdtype\u001b[0m \u001b[0;32mis\u001b[0m \u001b[0;32mNone\u001b[0m \u001b[0;32mor\u001b[0m \u001b[0mdtype\u001b[0m \u001b[0;34m==\u001b[0m \u001b[0mnp\u001b[0m\u001b[0;34m.\u001b[0m\u001b[0mdtype\u001b[0m\u001b[0;34m(\u001b[0m\u001b[0;34m\"object\"\u001b[0m\u001b[0;34m)\u001b[0m\u001b[0;34m\u001b[0m\u001b[0;34m\u001b[0m\u001b[0m\n",
            "\u001b[0;32m/usr/local/lib/python3.8/dist-packages/databricks/koalas/internal.py\u001b[0m in \u001b[0;36m<listcomp>\u001b[0;34m(.0)\u001b[0m\n\u001b[1;32m    596\u001b[0m \u001b[0;34m\u001b[0m\u001b[0m\n\u001b[1;32m    597\u001b[0m         data_dtypes = [\n\u001b[0;32m--> 598\u001b[0;31m             \u001b[0mspark_type_to_pandas_dtype\u001b[0m\u001b[0;34m(\u001b[0m\u001b[0mspark_frame\u001b[0m\u001b[0;34m.\u001b[0m\u001b[0mselect\u001b[0m\u001b[0;34m(\u001b[0m\u001b[0mscol\u001b[0m\u001b[0;34m)\u001b[0m\u001b[0;34m.\u001b[0m\u001b[0mschema\u001b[0m\u001b[0;34m[\u001b[0m\u001b[0;36m0\u001b[0m\u001b[0;34m]\u001b[0m\u001b[0;34m.\u001b[0m\u001b[0mdataType\u001b[0m\u001b[0;34m)\u001b[0m\u001b[0;34m\u001b[0m\u001b[0;34m\u001b[0m\u001b[0m\n\u001b[0m\u001b[1;32m    599\u001b[0m             \u001b[0;32mif\u001b[0m \u001b[0mdtype\u001b[0m \u001b[0;32mis\u001b[0m \u001b[0;32mNone\u001b[0m \u001b[0;32mor\u001b[0m \u001b[0mdtype\u001b[0m \u001b[0;34m==\u001b[0m \u001b[0mnp\u001b[0m\u001b[0;34m.\u001b[0m\u001b[0mdtype\u001b[0m\u001b[0;34m(\u001b[0m\u001b[0;34m\"object\"\u001b[0m\u001b[0;34m)\u001b[0m\u001b[0;34m\u001b[0m\u001b[0;34m\u001b[0m\u001b[0m\n\u001b[1;32m    600\u001b[0m             \u001b[0;32melse\u001b[0m \u001b[0mdtype\u001b[0m\u001b[0;34m\u001b[0m\u001b[0;34m\u001b[0m\u001b[0m\n",
            "\u001b[0;32m/usr/local/lib/python3.8/dist-packages/pyspark/sql/dataframe.py\u001b[0m in \u001b[0;36mselect\u001b[0;34m(self, *cols)\u001b[0m\n\u001b[1;32m   2021\u001b[0m         \u001b[0;34m[\u001b[0m\u001b[0mRow\u001b[0m\u001b[0;34m(\u001b[0m\u001b[0mname\u001b[0m\u001b[0;34m=\u001b[0m\u001b[0;34m'Alice'\u001b[0m\u001b[0;34m,\u001b[0m \u001b[0mage\u001b[0m\u001b[0;34m=\u001b[0m\u001b[0;36m12\u001b[0m\u001b[0;34m)\u001b[0m\u001b[0;34m,\u001b[0m \u001b[0mRow\u001b[0m\u001b[0;34m(\u001b[0m\u001b[0mname\u001b[0m\u001b[0;34m=\u001b[0m\u001b[0;34m'Bob'\u001b[0m\u001b[0;34m,\u001b[0m \u001b[0mage\u001b[0m\u001b[0;34m=\u001b[0m\u001b[0;36m15\u001b[0m\u001b[0;34m)\u001b[0m\u001b[0;34m]\u001b[0m\u001b[0;34m\u001b[0m\u001b[0;34m\u001b[0m\u001b[0m\n\u001b[1;32m   2022\u001b[0m         \"\"\"\n\u001b[0;32m-> 2023\u001b[0;31m         \u001b[0mjdf\u001b[0m \u001b[0;34m=\u001b[0m \u001b[0mself\u001b[0m\u001b[0;34m.\u001b[0m\u001b[0m_jdf\u001b[0m\u001b[0;34m.\u001b[0m\u001b[0mselect\u001b[0m\u001b[0;34m(\u001b[0m\u001b[0mself\u001b[0m\u001b[0;34m.\u001b[0m\u001b[0m_jcols\u001b[0m\u001b[0;34m(\u001b[0m\u001b[0;34m*\u001b[0m\u001b[0mcols\u001b[0m\u001b[0;34m)\u001b[0m\u001b[0;34m)\u001b[0m\u001b[0;34m\u001b[0m\u001b[0;34m\u001b[0m\u001b[0m\n\u001b[0m\u001b[1;32m   2024\u001b[0m         \u001b[0;32mreturn\u001b[0m \u001b[0mDataFrame\u001b[0m\u001b[0;34m(\u001b[0m\u001b[0mjdf\u001b[0m\u001b[0;34m,\u001b[0m \u001b[0mself\u001b[0m\u001b[0;34m.\u001b[0m\u001b[0msparkSession\u001b[0m\u001b[0;34m)\u001b[0m\u001b[0;34m\u001b[0m\u001b[0;34m\u001b[0m\u001b[0m\n\u001b[1;32m   2025\u001b[0m \u001b[0;34m\u001b[0m\u001b[0m\n",
            "\u001b[0;32m/usr/local/lib/python3.8/dist-packages/py4j/java_gateway.py\u001b[0m in \u001b[0;36m__call__\u001b[0;34m(self, *args)\u001b[0m\n\u001b[1;32m   1319\u001b[0m \u001b[0;34m\u001b[0m\u001b[0m\n\u001b[1;32m   1320\u001b[0m         \u001b[0manswer\u001b[0m \u001b[0;34m=\u001b[0m \u001b[0mself\u001b[0m\u001b[0;34m.\u001b[0m\u001b[0mgateway_client\u001b[0m\u001b[0;34m.\u001b[0m\u001b[0msend_command\u001b[0m\u001b[0;34m(\u001b[0m\u001b[0mcommand\u001b[0m\u001b[0;34m)\u001b[0m\u001b[0;34m\u001b[0m\u001b[0;34m\u001b[0m\u001b[0m\n\u001b[0;32m-> 1321\u001b[0;31m         return_value = get_return_value(\n\u001b[0m\u001b[1;32m   1322\u001b[0m             answer, self.gateway_client, self.target_id, self.name)\n\u001b[1;32m   1323\u001b[0m \u001b[0;34m\u001b[0m\u001b[0m\n",
            "\u001b[0;32m/usr/local/lib/python3.8/dist-packages/pyspark/sql/utils.py\u001b[0m in \u001b[0;36mdeco\u001b[0;34m(*a, **kw)\u001b[0m\n\u001b[1;32m    188\u001b[0m     \u001b[0;32mdef\u001b[0m \u001b[0mdeco\u001b[0m\u001b[0;34m(\u001b[0m\u001b[0;34m*\u001b[0m\u001b[0ma\u001b[0m\u001b[0;34m:\u001b[0m \u001b[0mAny\u001b[0m\u001b[0;34m,\u001b[0m \u001b[0;34m**\u001b[0m\u001b[0mkw\u001b[0m\u001b[0;34m:\u001b[0m \u001b[0mAny\u001b[0m\u001b[0;34m)\u001b[0m \u001b[0;34m->\u001b[0m \u001b[0mAny\u001b[0m\u001b[0;34m:\u001b[0m\u001b[0;34m\u001b[0m\u001b[0;34m\u001b[0m\u001b[0m\n\u001b[1;32m    189\u001b[0m         \u001b[0;32mtry\u001b[0m\u001b[0;34m:\u001b[0m\u001b[0;34m\u001b[0m\u001b[0;34m\u001b[0m\u001b[0m\n\u001b[0;32m--> 190\u001b[0;31m             \u001b[0;32mreturn\u001b[0m \u001b[0mf\u001b[0m\u001b[0;34m(\u001b[0m\u001b[0;34m*\u001b[0m\u001b[0ma\u001b[0m\u001b[0;34m,\u001b[0m \u001b[0;34m**\u001b[0m\u001b[0mkw\u001b[0m\u001b[0;34m)\u001b[0m\u001b[0;34m\u001b[0m\u001b[0;34m\u001b[0m\u001b[0m\n\u001b[0m\u001b[1;32m    191\u001b[0m         \u001b[0;32mexcept\u001b[0m \u001b[0mPy4JJavaError\u001b[0m \u001b[0;32mas\u001b[0m \u001b[0me\u001b[0m\u001b[0;34m:\u001b[0m\u001b[0;34m\u001b[0m\u001b[0;34m\u001b[0m\u001b[0m\n\u001b[1;32m    192\u001b[0m             \u001b[0mconverted\u001b[0m \u001b[0;34m=\u001b[0m \u001b[0mconvert_exception\u001b[0m\u001b[0;34m(\u001b[0m\u001b[0me\u001b[0m\u001b[0;34m.\u001b[0m\u001b[0mjava_exception\u001b[0m\u001b[0;34m)\u001b[0m\u001b[0;34m\u001b[0m\u001b[0;34m\u001b[0m\u001b[0m\n",
            "\u001b[0;32m/usr/local/lib/python3.8/dist-packages/py4j/protocol.py\u001b[0m in \u001b[0;36mget_return_value\u001b[0;34m(answer, gateway_client, target_id, name)\u001b[0m\n\u001b[1;32m    332\u001b[0m                     format(target_id, \".\", name, value))\n\u001b[1;32m    333\u001b[0m         \u001b[0;32melse\u001b[0m\u001b[0;34m:\u001b[0m\u001b[0;34m\u001b[0m\u001b[0;34m\u001b[0m\u001b[0m\n\u001b[0;32m--> 334\u001b[0;31m             raise Py4JError(\n\u001b[0m\u001b[1;32m    335\u001b[0m                 \u001b[0;34m\"An error occurred while calling {0}{1}{2}\"\u001b[0m\u001b[0;34m.\u001b[0m\u001b[0;34m\u001b[0m\u001b[0;34m\u001b[0m\u001b[0m\n\u001b[1;32m    336\u001b[0m                 format(target_id, \".\", name))\n",
            "\u001b[0;31mPy4JError\u001b[0m: An error occurred while calling o18139.select"
          ]
        },
        {
          "output_type": "stream",
          "name": "stderr",
          "text": [
            "\n"
          ]
        }
      ],
      "source": [
        "%%time\n",
        "dfk.drop_duplicates(subset = ['Summons Number'], inplace = True)\n",
        "dfk.head()\n"
      ]
    },
    {
      "cell_type": "markdown",
      "metadata": {
        "id": "k4R8HM5oUG51"
      },
      "source": [
        "# Exploratory Analysis and Visualization\n",
        "\n"
      ]
    },
    {
      "cell_type": "markdown",
      "metadata": {
        "id": "9mXdoqL8VEDo"
      },
      "source": [
        "\n",
        "\n",
        "> Instructions (delete this cell)\n",
        "\n",
        "* Compute the mean, sum, range and other \n",
        "interesting statistics for numeric columns\n",
        "* Explore distributions of numeric columns using histograms etc.\n",
        "* Explore relationship between columns using scatter plots, bar charts etc.\n",
        "* Make a note of interesting insights from the exploratory analysis\n",
        "\n"
      ]
    },
    {
      "cell_type": "markdown",
      "metadata": {
        "id": "L1fkwPli4Vkw"
      },
      "source": [
        "**Pandas**"
      ]
    },
    {
      "cell_type": "code",
      "execution_count": null,
      "metadata": {
        "id": "1p-1yPYLU56a"
      },
      "outputs": [],
      "source": []
    },
    {
      "cell_type": "markdown",
      "metadata": {
        "id": "l3kBH1wi4vk_"
      },
      "source": [
        "**Dask**"
      ]
    },
    {
      "cell_type": "code",
      "execution_count": null,
      "metadata": {
        "id": "V6-6BrCd4TmM"
      },
      "outputs": [],
      "source": []
    },
    {
      "cell_type": "markdown",
      "metadata": {
        "id": "Hhnxx_N-40VG"
      },
      "source": [
        "**Polars**"
      ]
    },
    {
      "cell_type": "code",
      "execution_count": null,
      "metadata": {
        "id": "XTp-Jneb4TzB"
      },
      "outputs": [],
      "source": []
    },
    {
      "cell_type": "code",
      "execution_count": null,
      "metadata": {
        "id": "FZcBLYak4UX-"
      },
      "outputs": [],
      "source": []
    },
    {
      "cell_type": "code",
      "execution_count": null,
      "metadata": {
        "id": "qqCu-ay84Ufe"
      },
      "outputs": [],
      "source": []
    },
    {
      "cell_type": "code",
      "execution_count": null,
      "metadata": {
        "id": "23xQ4v9c4UnQ"
      },
      "outputs": [],
      "source": []
    },
    {
      "cell_type": "markdown",
      "metadata": {
        "id": "PDHIlU3SU8ZO"
      },
      "source": [
        "# Asking and Answering Questions"
      ]
    },
    {
      "cell_type": "markdown",
      "metadata": {
        "id": "TCeS_kaYVhIy"
      },
      "source": [
        "> Instructions (delete this cell)\n",
        "\n",
        "* Ask at least 5 interesting questions about your dataset\n",
        "* Answer the questions either by computing the results using Numpy/Pandas or by plotting graphs using Matplotlib/Seaborn\n",
        "* Create new columns, merge multiple dataset and perform grouping/aggregation wherever necessary\n",
        "* Wherever you're using a library function from Pandas/Numpy/Matplotlib etc. explain briefly what it does"
      ]
    },
    {
      "cell_type": "markdown",
      "metadata": {
        "id": "nL2iosucQwow"
      },
      "source": [
        "### 1. Dask"
      ]
    },
    {
      "cell_type": "markdown",
      "metadata": {
        "id": "_EFMAKdhgn70"
      },
      "source": [
        "a. What is the most common plate type?"
      ]
    },
    {
      "cell_type": "code",
      "execution_count": null,
      "metadata": {
        "id": "JzMvGiTkrNwh",
        "colab": {
          "base_uri": "https://localhost:8080/",
          "height": 272
        },
        "outputId": "c1e8aff1-0687-4b15-fe86-085b6ea3196c"
      },
      "outputs": [
        {
          "output_type": "stream",
          "name": "stdout",
          "text": [
            "CPU times: user 1min 27s, sys: 1.93 s, total: 1min 29s\n",
            "Wall time: 1min 22s\n"
          ]
        },
        {
          "output_type": "execute_result",
          "data": {
            "text/plain": [
              "      Plate Type\n",
              "Name            \n",
              "PAS      6511094\n",
              "COM      1887869\n",
              "OMT       235273\n",
              "SRF        96764\n",
              "OMS        75041"
            ],
            "text/html": [
              "\n",
              "  <div id=\"df-be34afd8-f490-4dd1-b8b4-1c050eac0adc\">\n",
              "    <div class=\"colab-df-container\">\n",
              "      <div>\n",
              "<style scoped>\n",
              "    .dataframe tbody tr th:only-of-type {\n",
              "        vertical-align: middle;\n",
              "    }\n",
              "\n",
              "    .dataframe tbody tr th {\n",
              "        vertical-align: top;\n",
              "    }\n",
              "\n",
              "    .dataframe thead th {\n",
              "        text-align: right;\n",
              "    }\n",
              "</style>\n",
              "<table border=\"1\" class=\"dataframe\">\n",
              "  <thead>\n",
              "    <tr style=\"text-align: right;\">\n",
              "      <th></th>\n",
              "      <th>Plate Type</th>\n",
              "    </tr>\n",
              "    <tr>\n",
              "      <th>Name</th>\n",
              "      <th></th>\n",
              "    </tr>\n",
              "  </thead>\n",
              "  <tbody>\n",
              "    <tr>\n",
              "      <th>PAS</th>\n",
              "      <td>6511094</td>\n",
              "    </tr>\n",
              "    <tr>\n",
              "      <th>COM</th>\n",
              "      <td>1887869</td>\n",
              "    </tr>\n",
              "    <tr>\n",
              "      <th>OMT</th>\n",
              "      <td>235273</td>\n",
              "    </tr>\n",
              "    <tr>\n",
              "      <th>SRF</th>\n",
              "      <td>96764</td>\n",
              "    </tr>\n",
              "    <tr>\n",
              "      <th>OMS</th>\n",
              "      <td>75041</td>\n",
              "    </tr>\n",
              "  </tbody>\n",
              "</table>\n",
              "</div>\n",
              "      <button class=\"colab-df-convert\" onclick=\"convertToInteractive('df-be34afd8-f490-4dd1-b8b4-1c050eac0adc')\"\n",
              "              title=\"Convert this dataframe to an interactive table.\"\n",
              "              style=\"display:none;\">\n",
              "        \n",
              "  <svg xmlns=\"http://www.w3.org/2000/svg\" height=\"24px\"viewBox=\"0 0 24 24\"\n",
              "       width=\"24px\">\n",
              "    <path d=\"M0 0h24v24H0V0z\" fill=\"none\"/>\n",
              "    <path d=\"M18.56 5.44l.94 2.06.94-2.06 2.06-.94-2.06-.94-.94-2.06-.94 2.06-2.06.94zm-11 1L8.5 8.5l.94-2.06 2.06-.94-2.06-.94L8.5 2.5l-.94 2.06-2.06.94zm10 10l.94 2.06.94-2.06 2.06-.94-2.06-.94-.94-2.06-.94 2.06-2.06.94z\"/><path d=\"M17.41 7.96l-1.37-1.37c-.4-.4-.92-.59-1.43-.59-.52 0-1.04.2-1.43.59L10.3 9.45l-7.72 7.72c-.78.78-.78 2.05 0 2.83L4 21.41c.39.39.9.59 1.41.59.51 0 1.02-.2 1.41-.59l7.78-7.78 2.81-2.81c.8-.78.8-2.07 0-2.86zM5.41 20L4 18.59l7.72-7.72 1.47 1.35L5.41 20z\"/>\n",
              "  </svg>\n",
              "      </button>\n",
              "      \n",
              "  <style>\n",
              "    .colab-df-container {\n",
              "      display:flex;\n",
              "      flex-wrap:wrap;\n",
              "      gap: 12px;\n",
              "    }\n",
              "\n",
              "    .colab-df-convert {\n",
              "      background-color: #E8F0FE;\n",
              "      border: none;\n",
              "      border-radius: 50%;\n",
              "      cursor: pointer;\n",
              "      display: none;\n",
              "      fill: #1967D2;\n",
              "      height: 32px;\n",
              "      padding: 0 0 0 0;\n",
              "      width: 32px;\n",
              "    }\n",
              "\n",
              "    .colab-df-convert:hover {\n",
              "      background-color: #E2EBFA;\n",
              "      box-shadow: 0px 1px 2px rgba(60, 64, 67, 0.3), 0px 1px 3px 1px rgba(60, 64, 67, 0.15);\n",
              "      fill: #174EA6;\n",
              "    }\n",
              "\n",
              "    [theme=dark] .colab-df-convert {\n",
              "      background-color: #3B4455;\n",
              "      fill: #D2E3FC;\n",
              "    }\n",
              "\n",
              "    [theme=dark] .colab-df-convert:hover {\n",
              "      background-color: #434B5C;\n",
              "      box-shadow: 0px 1px 3px 1px rgba(0, 0, 0, 0.15);\n",
              "      filter: drop-shadow(0px 1px 2px rgba(0, 0, 0, 0.3));\n",
              "      fill: #FFFFFF;\n",
              "    }\n",
              "  </style>\n",
              "\n",
              "      <script>\n",
              "        const buttonEl =\n",
              "          document.querySelector('#df-be34afd8-f490-4dd1-b8b4-1c050eac0adc button.colab-df-convert');\n",
              "        buttonEl.style.display =\n",
              "          google.colab.kernel.accessAllowed ? 'block' : 'none';\n",
              "\n",
              "        async function convertToInteractive(key) {\n",
              "          const element = document.querySelector('#df-be34afd8-f490-4dd1-b8b4-1c050eac0adc');\n",
              "          const dataTable =\n",
              "            await google.colab.kernel.invokeFunction('convertToInteractive',\n",
              "                                                     [key], {});\n",
              "          if (!dataTable) return;\n",
              "\n",
              "          const docLinkHtml = 'Like what you see? Visit the ' +\n",
              "            '<a target=\"_blank\" href=https://colab.research.google.com/notebooks/data_table.ipynb>data table notebook</a>'\n",
              "            + ' to learn more about interactive tables.';\n",
              "          element.innerHTML = '';\n",
              "          dataTable['output_type'] = 'display_data';\n",
              "          await google.colab.output.renderOutput(dataTable, element);\n",
              "          const docLink = document.createElement('div');\n",
              "          docLink.innerHTML = docLinkHtml;\n",
              "          element.appendChild(docLink);\n",
              "        }\n",
              "      </script>\n",
              "    </div>\n",
              "  </div>\n",
              "  "
            ]
          },
          "metadata": {},
          "execution_count": 34
        }
      ],
      "source": [
        "%%time\n",
        "result = dfdask.groupby(\"Plate Type\").agg({\"Plate Type\" : \"count\"}).compute()\n",
        "result.index.name = 'Name'\n",
        "result.sort_values(by=\"Plate Type\",ascending=False,inplace=True)\n",
        "result.head(5)"
      ]
    },
    {
      "cell_type": "code",
      "execution_count": null,
      "metadata": {
        "id": "DBAg-T3TwEq8",
        "colab": {
          "base_uri": "https://localhost:8080/",
          "height": 438
        },
        "outputId": "9230c8f4-e9a7-460f-a514-fbd773fd5ab9"
      },
      "outputs": [
        {
          "output_type": "execute_result",
          "data": {
            "text/plain": [
              "   Summons Number Plate ID Registration State Plate Type Issue Date  \\\n",
              "0      1283294138  GBB9093                 NY        PAS 2013-08-04   \n",
              "1      1283294151  62416MB                 NY        COM 2013-08-04   \n",
              "2      1283294163  78755JZ                 NY        COM 2013-08-05   \n",
              "3      1283294175  63009MA                 NY        COM 2013-08-05   \n",
              "4      1283294187  91648MC                 NY        COM 2013-08-08   \n",
              "\n",
              "   Violation Code Vehicle Body Type Vehicle Make Issuing Agency  Street Code1  \\\n",
              "0              46              SUBN         AUDI              P         37250   \n",
              "1              46               VAN         FORD              P         37290   \n",
              "2              46               P-U        CHEVR              P         37030   \n",
              "3              46               VAN         FORD              P         37270   \n",
              "4              41              TRLR          GMC              P         37240   \n",
              "\n",
              "   ...  Sub Division  Days Parking In Effect     From Hours In Effect  \\\n",
              "0  ...            F1                     BBBBBBB                  ALL   \n",
              "1  ...             C                     BBBBBBB                  ALL   \n",
              "2  ...            F7                     BBBBBBB                  ALL   \n",
              "3  ...            F1                     BBBBBBB                  ALL   \n",
              "4  ...            E1                     BBBBBBB                  ALL   \n",
              "\n",
              "  To Hours In Effect  Vehicle Color  Vehicle Year  Meter Number  \\\n",
              "0                ALL             GY        2013.0             -   \n",
              "1                ALL             WH        2012.0             -   \n",
              "2                ALL              0           0.0             -   \n",
              "3                ALL             WH        2010.0             -   \n",
              "4                ALL             BR        2012.0             -   \n",
              "\n",
              "  Feet From Curb Violation Post Code Violation Description  \n",
              "0            0.0                   0                     0  \n",
              "1            0.0                   0                     0  \n",
              "2            0.0                   0                     0  \n",
              "3            0.0                   0                     0  \n",
              "4            0.0                   0                     0  \n",
              "\n",
              "[5 rows x 37 columns]"
            ],
            "text/html": [
              "\n",
              "  <div id=\"df-b11a83bd-b6c1-4a90-858e-9756e31182de\">\n",
              "    <div class=\"colab-df-container\">\n",
              "      <div>\n",
              "<style scoped>\n",
              "    .dataframe tbody tr th:only-of-type {\n",
              "        vertical-align: middle;\n",
              "    }\n",
              "\n",
              "    .dataframe tbody tr th {\n",
              "        vertical-align: top;\n",
              "    }\n",
              "\n",
              "    .dataframe thead th {\n",
              "        text-align: right;\n",
              "    }\n",
              "</style>\n",
              "<table border=\"1\" class=\"dataframe\">\n",
              "  <thead>\n",
              "    <tr style=\"text-align: right;\">\n",
              "      <th></th>\n",
              "      <th>Summons Number</th>\n",
              "      <th>Plate ID</th>\n",
              "      <th>Registration State</th>\n",
              "      <th>Plate Type</th>\n",
              "      <th>Issue Date</th>\n",
              "      <th>Violation Code</th>\n",
              "      <th>Vehicle Body Type</th>\n",
              "      <th>Vehicle Make</th>\n",
              "      <th>Issuing Agency</th>\n",
              "      <th>Street Code1</th>\n",
              "      <th>...</th>\n",
              "      <th>Sub Division</th>\n",
              "      <th>Days Parking In Effect</th>\n",
              "      <th>From Hours In Effect</th>\n",
              "      <th>To Hours In Effect</th>\n",
              "      <th>Vehicle Color</th>\n",
              "      <th>Vehicle Year</th>\n",
              "      <th>Meter Number</th>\n",
              "      <th>Feet From Curb</th>\n",
              "      <th>Violation Post Code</th>\n",
              "      <th>Violation Description</th>\n",
              "    </tr>\n",
              "  </thead>\n",
              "  <tbody>\n",
              "    <tr>\n",
              "      <th>0</th>\n",
              "      <td>1283294138</td>\n",
              "      <td>GBB9093</td>\n",
              "      <td>NY</td>\n",
              "      <td>PAS</td>\n",
              "      <td>2013-08-04</td>\n",
              "      <td>46</td>\n",
              "      <td>SUBN</td>\n",
              "      <td>AUDI</td>\n",
              "      <td>P</td>\n",
              "      <td>37250</td>\n",
              "      <td>...</td>\n",
              "      <td>F1</td>\n",
              "      <td>BBBBBBB</td>\n",
              "      <td>ALL</td>\n",
              "      <td>ALL</td>\n",
              "      <td>GY</td>\n",
              "      <td>2013.0</td>\n",
              "      <td>-</td>\n",
              "      <td>0.0</td>\n",
              "      <td>0</td>\n",
              "      <td>0</td>\n",
              "    </tr>\n",
              "    <tr>\n",
              "      <th>1</th>\n",
              "      <td>1283294151</td>\n",
              "      <td>62416MB</td>\n",
              "      <td>NY</td>\n",
              "      <td>COM</td>\n",
              "      <td>2013-08-04</td>\n",
              "      <td>46</td>\n",
              "      <td>VAN</td>\n",
              "      <td>FORD</td>\n",
              "      <td>P</td>\n",
              "      <td>37290</td>\n",
              "      <td>...</td>\n",
              "      <td>C</td>\n",
              "      <td>BBBBBBB</td>\n",
              "      <td>ALL</td>\n",
              "      <td>ALL</td>\n",
              "      <td>WH</td>\n",
              "      <td>2012.0</td>\n",
              "      <td>-</td>\n",
              "      <td>0.0</td>\n",
              "      <td>0</td>\n",
              "      <td>0</td>\n",
              "    </tr>\n",
              "    <tr>\n",
              "      <th>2</th>\n",
              "      <td>1283294163</td>\n",
              "      <td>78755JZ</td>\n",
              "      <td>NY</td>\n",
              "      <td>COM</td>\n",
              "      <td>2013-08-05</td>\n",
              "      <td>46</td>\n",
              "      <td>P-U</td>\n",
              "      <td>CHEVR</td>\n",
              "      <td>P</td>\n",
              "      <td>37030</td>\n",
              "      <td>...</td>\n",
              "      <td>F7</td>\n",
              "      <td>BBBBBBB</td>\n",
              "      <td>ALL</td>\n",
              "      <td>ALL</td>\n",
              "      <td>0</td>\n",
              "      <td>0.0</td>\n",
              "      <td>-</td>\n",
              "      <td>0.0</td>\n",
              "      <td>0</td>\n",
              "      <td>0</td>\n",
              "    </tr>\n",
              "    <tr>\n",
              "      <th>3</th>\n",
              "      <td>1283294175</td>\n",
              "      <td>63009MA</td>\n",
              "      <td>NY</td>\n",
              "      <td>COM</td>\n",
              "      <td>2013-08-05</td>\n",
              "      <td>46</td>\n",
              "      <td>VAN</td>\n",
              "      <td>FORD</td>\n",
              "      <td>P</td>\n",
              "      <td>37270</td>\n",
              "      <td>...</td>\n",
              "      <td>F1</td>\n",
              "      <td>BBBBBBB</td>\n",
              "      <td>ALL</td>\n",
              "      <td>ALL</td>\n",
              "      <td>WH</td>\n",
              "      <td>2010.0</td>\n",
              "      <td>-</td>\n",
              "      <td>0.0</td>\n",
              "      <td>0</td>\n",
              "      <td>0</td>\n",
              "    </tr>\n",
              "    <tr>\n",
              "      <th>4</th>\n",
              "      <td>1283294187</td>\n",
              "      <td>91648MC</td>\n",
              "      <td>NY</td>\n",
              "      <td>COM</td>\n",
              "      <td>2013-08-08</td>\n",
              "      <td>41</td>\n",
              "      <td>TRLR</td>\n",
              "      <td>GMC</td>\n",
              "      <td>P</td>\n",
              "      <td>37240</td>\n",
              "      <td>...</td>\n",
              "      <td>E1</td>\n",
              "      <td>BBBBBBB</td>\n",
              "      <td>ALL</td>\n",
              "      <td>ALL</td>\n",
              "      <td>BR</td>\n",
              "      <td>2012.0</td>\n",
              "      <td>-</td>\n",
              "      <td>0.0</td>\n",
              "      <td>0</td>\n",
              "      <td>0</td>\n",
              "    </tr>\n",
              "  </tbody>\n",
              "</table>\n",
              "<p>5 rows × 37 columns</p>\n",
              "</div>\n",
              "      <button class=\"colab-df-convert\" onclick=\"convertToInteractive('df-b11a83bd-b6c1-4a90-858e-9756e31182de')\"\n",
              "              title=\"Convert this dataframe to an interactive table.\"\n",
              "              style=\"display:none;\">\n",
              "        \n",
              "  <svg xmlns=\"http://www.w3.org/2000/svg\" height=\"24px\"viewBox=\"0 0 24 24\"\n",
              "       width=\"24px\">\n",
              "    <path d=\"M0 0h24v24H0V0z\" fill=\"none\"/>\n",
              "    <path d=\"M18.56 5.44l.94 2.06.94-2.06 2.06-.94-2.06-.94-.94-2.06-.94 2.06-2.06.94zm-11 1L8.5 8.5l.94-2.06 2.06-.94-2.06-.94L8.5 2.5l-.94 2.06-2.06.94zm10 10l.94 2.06.94-2.06 2.06-.94-2.06-.94-.94-2.06-.94 2.06-2.06.94z\"/><path d=\"M17.41 7.96l-1.37-1.37c-.4-.4-.92-.59-1.43-.59-.52 0-1.04.2-1.43.59L10.3 9.45l-7.72 7.72c-.78.78-.78 2.05 0 2.83L4 21.41c.39.39.9.59 1.41.59.51 0 1.02-.2 1.41-.59l7.78-7.78 2.81-2.81c.8-.78.8-2.07 0-2.86zM5.41 20L4 18.59l7.72-7.72 1.47 1.35L5.41 20z\"/>\n",
              "  </svg>\n",
              "      </button>\n",
              "      \n",
              "  <style>\n",
              "    .colab-df-container {\n",
              "      display:flex;\n",
              "      flex-wrap:wrap;\n",
              "      gap: 12px;\n",
              "    }\n",
              "\n",
              "    .colab-df-convert {\n",
              "      background-color: #E8F0FE;\n",
              "      border: none;\n",
              "      border-radius: 50%;\n",
              "      cursor: pointer;\n",
              "      display: none;\n",
              "      fill: #1967D2;\n",
              "      height: 32px;\n",
              "      padding: 0 0 0 0;\n",
              "      width: 32px;\n",
              "    }\n",
              "\n",
              "    .colab-df-convert:hover {\n",
              "      background-color: #E2EBFA;\n",
              "      box-shadow: 0px 1px 2px rgba(60, 64, 67, 0.3), 0px 1px 3px 1px rgba(60, 64, 67, 0.15);\n",
              "      fill: #174EA6;\n",
              "    }\n",
              "\n",
              "    [theme=dark] .colab-df-convert {\n",
              "      background-color: #3B4455;\n",
              "      fill: #D2E3FC;\n",
              "    }\n",
              "\n",
              "    [theme=dark] .colab-df-convert:hover {\n",
              "      background-color: #434B5C;\n",
              "      box-shadow: 0px 1px 3px 1px rgba(0, 0, 0, 0.15);\n",
              "      filter: drop-shadow(0px 1px 2px rgba(0, 0, 0, 0.3));\n",
              "      fill: #FFFFFF;\n",
              "    }\n",
              "  </style>\n",
              "\n",
              "      <script>\n",
              "        const buttonEl =\n",
              "          document.querySelector('#df-b11a83bd-b6c1-4a90-858e-9756e31182de button.colab-df-convert');\n",
              "        buttonEl.style.display =\n",
              "          google.colab.kernel.accessAllowed ? 'block' : 'none';\n",
              "\n",
              "        async function convertToInteractive(key) {\n",
              "          const element = document.querySelector('#df-b11a83bd-b6c1-4a90-858e-9756e31182de');\n",
              "          const dataTable =\n",
              "            await google.colab.kernel.invokeFunction('convertToInteractive',\n",
              "                                                     [key], {});\n",
              "          if (!dataTable) return;\n",
              "\n",
              "          const docLinkHtml = 'Like what you see? Visit the ' +\n",
              "            '<a target=\"_blank\" href=https://colab.research.google.com/notebooks/data_table.ipynb>data table notebook</a>'\n",
              "            + ' to learn more about interactive tables.';\n",
              "          element.innerHTML = '';\n",
              "          dataTable['output_type'] = 'display_data';\n",
              "          await google.colab.output.renderOutput(dataTable, element);\n",
              "          const docLink = document.createElement('div');\n",
              "          docLink.innerHTML = docLinkHtml;\n",
              "          element.appendChild(docLink);\n",
              "        }\n",
              "      </script>\n",
              "    </div>\n",
              "  </div>\n",
              "  "
            ]
          },
          "metadata": {},
          "execution_count": 35
        }
      ],
      "source": [
        "dfdask.head(5)"
      ]
    },
    {
      "cell_type": "markdown",
      "metadata": {
        "id": "lbvbSlgMgYhI"
      },
      "source": [
        "b. What registeration stae has the highest rate?"
      ]
    },
    {
      "cell_type": "code",
      "execution_count": null,
      "metadata": {
        "id": "J8msxYyYwCYP",
        "colab": {
          "base_uri": "https://localhost:8080/",
          "height": 272
        },
        "outputId": "5620fe97-e0d4-4a95-ea11-7aec78e8816a"
      },
      "outputs": [
        {
          "output_type": "stream",
          "name": "stdout",
          "text": [
            "CPU times: user 1min 29s, sys: 1.65 s, total: 1min 30s\n",
            "Wall time: 1min 19s\n"
          ]
        },
        {
          "output_type": "execute_result",
          "data": {
            "text/plain": [
              "      Plate Type\n",
              "Name            \n",
              "NY       7029804\n",
              "NJ        878677\n",
              "PA        225760\n",
              "CT        136973\n",
              "FL        111887"
            ],
            "text/html": [
              "\n",
              "  <div id=\"df-9b47d734-d56d-455d-9585-fc870190dcd2\">\n",
              "    <div class=\"colab-df-container\">\n",
              "      <div>\n",
              "<style scoped>\n",
              "    .dataframe tbody tr th:only-of-type {\n",
              "        vertical-align: middle;\n",
              "    }\n",
              "\n",
              "    .dataframe tbody tr th {\n",
              "        vertical-align: top;\n",
              "    }\n",
              "\n",
              "    .dataframe thead th {\n",
              "        text-align: right;\n",
              "    }\n",
              "</style>\n",
              "<table border=\"1\" class=\"dataframe\">\n",
              "  <thead>\n",
              "    <tr style=\"text-align: right;\">\n",
              "      <th></th>\n",
              "      <th>Plate Type</th>\n",
              "    </tr>\n",
              "    <tr>\n",
              "      <th>Name</th>\n",
              "      <th></th>\n",
              "    </tr>\n",
              "  </thead>\n",
              "  <tbody>\n",
              "    <tr>\n",
              "      <th>NY</th>\n",
              "      <td>7029804</td>\n",
              "    </tr>\n",
              "    <tr>\n",
              "      <th>NJ</th>\n",
              "      <td>878677</td>\n",
              "    </tr>\n",
              "    <tr>\n",
              "      <th>PA</th>\n",
              "      <td>225760</td>\n",
              "    </tr>\n",
              "    <tr>\n",
              "      <th>CT</th>\n",
              "      <td>136973</td>\n",
              "    </tr>\n",
              "    <tr>\n",
              "      <th>FL</th>\n",
              "      <td>111887</td>\n",
              "    </tr>\n",
              "  </tbody>\n",
              "</table>\n",
              "</div>\n",
              "      <button class=\"colab-df-convert\" onclick=\"convertToInteractive('df-9b47d734-d56d-455d-9585-fc870190dcd2')\"\n",
              "              title=\"Convert this dataframe to an interactive table.\"\n",
              "              style=\"display:none;\">\n",
              "        \n",
              "  <svg xmlns=\"http://www.w3.org/2000/svg\" height=\"24px\"viewBox=\"0 0 24 24\"\n",
              "       width=\"24px\">\n",
              "    <path d=\"M0 0h24v24H0V0z\" fill=\"none\"/>\n",
              "    <path d=\"M18.56 5.44l.94 2.06.94-2.06 2.06-.94-2.06-.94-.94-2.06-.94 2.06-2.06.94zm-11 1L8.5 8.5l.94-2.06 2.06-.94-2.06-.94L8.5 2.5l-.94 2.06-2.06.94zm10 10l.94 2.06.94-2.06 2.06-.94-2.06-.94-.94-2.06-.94 2.06-2.06.94z\"/><path d=\"M17.41 7.96l-1.37-1.37c-.4-.4-.92-.59-1.43-.59-.52 0-1.04.2-1.43.59L10.3 9.45l-7.72 7.72c-.78.78-.78 2.05 0 2.83L4 21.41c.39.39.9.59 1.41.59.51 0 1.02-.2 1.41-.59l7.78-7.78 2.81-2.81c.8-.78.8-2.07 0-2.86zM5.41 20L4 18.59l7.72-7.72 1.47 1.35L5.41 20z\"/>\n",
              "  </svg>\n",
              "      </button>\n",
              "      \n",
              "  <style>\n",
              "    .colab-df-container {\n",
              "      display:flex;\n",
              "      flex-wrap:wrap;\n",
              "      gap: 12px;\n",
              "    }\n",
              "\n",
              "    .colab-df-convert {\n",
              "      background-color: #E8F0FE;\n",
              "      border: none;\n",
              "      border-radius: 50%;\n",
              "      cursor: pointer;\n",
              "      display: none;\n",
              "      fill: #1967D2;\n",
              "      height: 32px;\n",
              "      padding: 0 0 0 0;\n",
              "      width: 32px;\n",
              "    }\n",
              "\n",
              "    .colab-df-convert:hover {\n",
              "      background-color: #E2EBFA;\n",
              "      box-shadow: 0px 1px 2px rgba(60, 64, 67, 0.3), 0px 1px 3px 1px rgba(60, 64, 67, 0.15);\n",
              "      fill: #174EA6;\n",
              "    }\n",
              "\n",
              "    [theme=dark] .colab-df-convert {\n",
              "      background-color: #3B4455;\n",
              "      fill: #D2E3FC;\n",
              "    }\n",
              "\n",
              "    [theme=dark] .colab-df-convert:hover {\n",
              "      background-color: #434B5C;\n",
              "      box-shadow: 0px 1px 3px 1px rgba(0, 0, 0, 0.15);\n",
              "      filter: drop-shadow(0px 1px 2px rgba(0, 0, 0, 0.3));\n",
              "      fill: #FFFFFF;\n",
              "    }\n",
              "  </style>\n",
              "\n",
              "      <script>\n",
              "        const buttonEl =\n",
              "          document.querySelector('#df-9b47d734-d56d-455d-9585-fc870190dcd2 button.colab-df-convert');\n",
              "        buttonEl.style.display =\n",
              "          google.colab.kernel.accessAllowed ? 'block' : 'none';\n",
              "\n",
              "        async function convertToInteractive(key) {\n",
              "          const element = document.querySelector('#df-9b47d734-d56d-455d-9585-fc870190dcd2');\n",
              "          const dataTable =\n",
              "            await google.colab.kernel.invokeFunction('convertToInteractive',\n",
              "                                                     [key], {});\n",
              "          if (!dataTable) return;\n",
              "\n",
              "          const docLinkHtml = 'Like what you see? Visit the ' +\n",
              "            '<a target=\"_blank\" href=https://colab.research.google.com/notebooks/data_table.ipynb>data table notebook</a>'\n",
              "            + ' to learn more about interactive tables.';\n",
              "          element.innerHTML = '';\n",
              "          dataTable['output_type'] = 'display_data';\n",
              "          await google.colab.output.renderOutput(dataTable, element);\n",
              "          const docLink = document.createElement('div');\n",
              "          docLink.innerHTML = docLinkHtml;\n",
              "          element.appendChild(docLink);\n",
              "        }\n",
              "      </script>\n",
              "    </div>\n",
              "  </div>\n",
              "  "
            ]
          },
          "metadata": {},
          "execution_count": 36
        }
      ],
      "source": [
        "%%time\n",
        "result = dfdask.groupby(\"Registration State\").agg({\"Plate Type\" : \"count\"}).compute()\n",
        "result.index.name = 'Name'\n",
        "result.sort_values(by=\"Plate Type\",ascending=False,inplace=True)\n",
        "result.head(5)"
      ]
    },
    {
      "cell_type": "markdown",
      "metadata": {
        "id": "Mib_SrZdgYhI"
      },
      "source": [
        "c. What is the most common vehicle body type?"
      ]
    },
    {
      "cell_type": "markdown",
      "metadata": {
        "id": "EfoJ3P2YgYhJ"
      },
      "source": [
        "d. What is the most common vehicle colour?"
      ]
    },
    {
      "cell_type": "markdown",
      "metadata": {
        "id": "WBawWXV1gYhJ"
      },
      "source": [
        "e. What is the most common state?"
      ]
    },
    {
      "cell_type": "code",
      "execution_count": null,
      "metadata": {
        "id": "0WMzWH2AU-Ur",
        "colab": {
          "base_uri": "https://localhost:8080/",
          "height": 438
        },
        "outputId": "888cd821-fc8b-4537-81b9-2e1b1678d899"
      },
      "outputs": [
        {
          "output_type": "execute_result",
          "data": {
            "text/plain": [
              "   Summons Number Plate ID Registration State Plate Type Issue Date  \\\n",
              "0      1283294138  GBB9093                 NY        PAS 2013-08-04   \n",
              "1      1283294151  62416MB                 NY        COM 2013-08-04   \n",
              "2      1283294163  78755JZ                 NY        COM 2013-08-05   \n",
              "3      1283294175  63009MA                 NY        COM 2013-08-05   \n",
              "4      1283294187  91648MC                 NY        COM 2013-08-08   \n",
              "\n",
              "   Violation Code Vehicle Body Type Vehicle Make Issuing Agency  Street Code1  \\\n",
              "0              46              SUBN         AUDI              P         37250   \n",
              "1              46               VAN         FORD              P         37290   \n",
              "2              46               P-U        CHEVR              P         37030   \n",
              "3              46               VAN         FORD              P         37270   \n",
              "4              41              TRLR          GMC              P         37240   \n",
              "\n",
              "   ...  Sub Division  Days Parking In Effect     From Hours In Effect  \\\n",
              "0  ...            F1                     BBBBBBB                  ALL   \n",
              "1  ...             C                     BBBBBBB                  ALL   \n",
              "2  ...            F7                     BBBBBBB                  ALL   \n",
              "3  ...            F1                     BBBBBBB                  ALL   \n",
              "4  ...            E1                     BBBBBBB                  ALL   \n",
              "\n",
              "  To Hours In Effect  Vehicle Color  Vehicle Year  Meter Number  \\\n",
              "0                ALL             GY        2013.0             -   \n",
              "1                ALL             WH        2012.0             -   \n",
              "2                ALL              0           0.0             -   \n",
              "3                ALL             WH        2010.0             -   \n",
              "4                ALL             BR        2012.0             -   \n",
              "\n",
              "  Feet From Curb Violation Post Code Violation Description  \n",
              "0            0.0                   0                     0  \n",
              "1            0.0                   0                     0  \n",
              "2            0.0                   0                     0  \n",
              "3            0.0                   0                     0  \n",
              "4            0.0                   0                     0  \n",
              "\n",
              "[5 rows x 37 columns]"
            ],
            "text/html": [
              "\n",
              "  <div id=\"df-c480bb22-daee-43e4-8079-3830008b1465\">\n",
              "    <div class=\"colab-df-container\">\n",
              "      <div>\n",
              "<style scoped>\n",
              "    .dataframe tbody tr th:only-of-type {\n",
              "        vertical-align: middle;\n",
              "    }\n",
              "\n",
              "    .dataframe tbody tr th {\n",
              "        vertical-align: top;\n",
              "    }\n",
              "\n",
              "    .dataframe thead th {\n",
              "        text-align: right;\n",
              "    }\n",
              "</style>\n",
              "<table border=\"1\" class=\"dataframe\">\n",
              "  <thead>\n",
              "    <tr style=\"text-align: right;\">\n",
              "      <th></th>\n",
              "      <th>Summons Number</th>\n",
              "      <th>Plate ID</th>\n",
              "      <th>Registration State</th>\n",
              "      <th>Plate Type</th>\n",
              "      <th>Issue Date</th>\n",
              "      <th>Violation Code</th>\n",
              "      <th>Vehicle Body Type</th>\n",
              "      <th>Vehicle Make</th>\n",
              "      <th>Issuing Agency</th>\n",
              "      <th>Street Code1</th>\n",
              "      <th>...</th>\n",
              "      <th>Sub Division</th>\n",
              "      <th>Days Parking In Effect</th>\n",
              "      <th>From Hours In Effect</th>\n",
              "      <th>To Hours In Effect</th>\n",
              "      <th>Vehicle Color</th>\n",
              "      <th>Vehicle Year</th>\n",
              "      <th>Meter Number</th>\n",
              "      <th>Feet From Curb</th>\n",
              "      <th>Violation Post Code</th>\n",
              "      <th>Violation Description</th>\n",
              "    </tr>\n",
              "  </thead>\n",
              "  <tbody>\n",
              "    <tr>\n",
              "      <th>0</th>\n",
              "      <td>1283294138</td>\n",
              "      <td>GBB9093</td>\n",
              "      <td>NY</td>\n",
              "      <td>PAS</td>\n",
              "      <td>2013-08-04</td>\n",
              "      <td>46</td>\n",
              "      <td>SUBN</td>\n",
              "      <td>AUDI</td>\n",
              "      <td>P</td>\n",
              "      <td>37250</td>\n",
              "      <td>...</td>\n",
              "      <td>F1</td>\n",
              "      <td>BBBBBBB</td>\n",
              "      <td>ALL</td>\n",
              "      <td>ALL</td>\n",
              "      <td>GY</td>\n",
              "      <td>2013.0</td>\n",
              "      <td>-</td>\n",
              "      <td>0.0</td>\n",
              "      <td>0</td>\n",
              "      <td>0</td>\n",
              "    </tr>\n",
              "    <tr>\n",
              "      <th>1</th>\n",
              "      <td>1283294151</td>\n",
              "      <td>62416MB</td>\n",
              "      <td>NY</td>\n",
              "      <td>COM</td>\n",
              "      <td>2013-08-04</td>\n",
              "      <td>46</td>\n",
              "      <td>VAN</td>\n",
              "      <td>FORD</td>\n",
              "      <td>P</td>\n",
              "      <td>37290</td>\n",
              "      <td>...</td>\n",
              "      <td>C</td>\n",
              "      <td>BBBBBBB</td>\n",
              "      <td>ALL</td>\n",
              "      <td>ALL</td>\n",
              "      <td>WH</td>\n",
              "      <td>2012.0</td>\n",
              "      <td>-</td>\n",
              "      <td>0.0</td>\n",
              "      <td>0</td>\n",
              "      <td>0</td>\n",
              "    </tr>\n",
              "    <tr>\n",
              "      <th>2</th>\n",
              "      <td>1283294163</td>\n",
              "      <td>78755JZ</td>\n",
              "      <td>NY</td>\n",
              "      <td>COM</td>\n",
              "      <td>2013-08-05</td>\n",
              "      <td>46</td>\n",
              "      <td>P-U</td>\n",
              "      <td>CHEVR</td>\n",
              "      <td>P</td>\n",
              "      <td>37030</td>\n",
              "      <td>...</td>\n",
              "      <td>F7</td>\n",
              "      <td>BBBBBBB</td>\n",
              "      <td>ALL</td>\n",
              "      <td>ALL</td>\n",
              "      <td>0</td>\n",
              "      <td>0.0</td>\n",
              "      <td>-</td>\n",
              "      <td>0.0</td>\n",
              "      <td>0</td>\n",
              "      <td>0</td>\n",
              "    </tr>\n",
              "    <tr>\n",
              "      <th>3</th>\n",
              "      <td>1283294175</td>\n",
              "      <td>63009MA</td>\n",
              "      <td>NY</td>\n",
              "      <td>COM</td>\n",
              "      <td>2013-08-05</td>\n",
              "      <td>46</td>\n",
              "      <td>VAN</td>\n",
              "      <td>FORD</td>\n",
              "      <td>P</td>\n",
              "      <td>37270</td>\n",
              "      <td>...</td>\n",
              "      <td>F1</td>\n",
              "      <td>BBBBBBB</td>\n",
              "      <td>ALL</td>\n",
              "      <td>ALL</td>\n",
              "      <td>WH</td>\n",
              "      <td>2010.0</td>\n",
              "      <td>-</td>\n",
              "      <td>0.0</td>\n",
              "      <td>0</td>\n",
              "      <td>0</td>\n",
              "    </tr>\n",
              "    <tr>\n",
              "      <th>4</th>\n",
              "      <td>1283294187</td>\n",
              "      <td>91648MC</td>\n",
              "      <td>NY</td>\n",
              "      <td>COM</td>\n",
              "      <td>2013-08-08</td>\n",
              "      <td>41</td>\n",
              "      <td>TRLR</td>\n",
              "      <td>GMC</td>\n",
              "      <td>P</td>\n",
              "      <td>37240</td>\n",
              "      <td>...</td>\n",
              "      <td>E1</td>\n",
              "      <td>BBBBBBB</td>\n",
              "      <td>ALL</td>\n",
              "      <td>ALL</td>\n",
              "      <td>BR</td>\n",
              "      <td>2012.0</td>\n",
              "      <td>-</td>\n",
              "      <td>0.0</td>\n",
              "      <td>0</td>\n",
              "      <td>0</td>\n",
              "    </tr>\n",
              "  </tbody>\n",
              "</table>\n",
              "<p>5 rows × 37 columns</p>\n",
              "</div>\n",
              "      <button class=\"colab-df-convert\" onclick=\"convertToInteractive('df-c480bb22-daee-43e4-8079-3830008b1465')\"\n",
              "              title=\"Convert this dataframe to an interactive table.\"\n",
              "              style=\"display:none;\">\n",
              "        \n",
              "  <svg xmlns=\"http://www.w3.org/2000/svg\" height=\"24px\"viewBox=\"0 0 24 24\"\n",
              "       width=\"24px\">\n",
              "    <path d=\"M0 0h24v24H0V0z\" fill=\"none\"/>\n",
              "    <path d=\"M18.56 5.44l.94 2.06.94-2.06 2.06-.94-2.06-.94-.94-2.06-.94 2.06-2.06.94zm-11 1L8.5 8.5l.94-2.06 2.06-.94-2.06-.94L8.5 2.5l-.94 2.06-2.06.94zm10 10l.94 2.06.94-2.06 2.06-.94-2.06-.94-.94-2.06-.94 2.06-2.06.94z\"/><path d=\"M17.41 7.96l-1.37-1.37c-.4-.4-.92-.59-1.43-.59-.52 0-1.04.2-1.43.59L10.3 9.45l-7.72 7.72c-.78.78-.78 2.05 0 2.83L4 21.41c.39.39.9.59 1.41.59.51 0 1.02-.2 1.41-.59l7.78-7.78 2.81-2.81c.8-.78.8-2.07 0-2.86zM5.41 20L4 18.59l7.72-7.72 1.47 1.35L5.41 20z\"/>\n",
              "  </svg>\n",
              "      </button>\n",
              "      \n",
              "  <style>\n",
              "    .colab-df-container {\n",
              "      display:flex;\n",
              "      flex-wrap:wrap;\n",
              "      gap: 12px;\n",
              "    }\n",
              "\n",
              "    .colab-df-convert {\n",
              "      background-color: #E8F0FE;\n",
              "      border: none;\n",
              "      border-radius: 50%;\n",
              "      cursor: pointer;\n",
              "      display: none;\n",
              "      fill: #1967D2;\n",
              "      height: 32px;\n",
              "      padding: 0 0 0 0;\n",
              "      width: 32px;\n",
              "    }\n",
              "\n",
              "    .colab-df-convert:hover {\n",
              "      background-color: #E2EBFA;\n",
              "      box-shadow: 0px 1px 2px rgba(60, 64, 67, 0.3), 0px 1px 3px 1px rgba(60, 64, 67, 0.15);\n",
              "      fill: #174EA6;\n",
              "    }\n",
              "\n",
              "    [theme=dark] .colab-df-convert {\n",
              "      background-color: #3B4455;\n",
              "      fill: #D2E3FC;\n",
              "    }\n",
              "\n",
              "    [theme=dark] .colab-df-convert:hover {\n",
              "      background-color: #434B5C;\n",
              "      box-shadow: 0px 1px 3px 1px rgba(0, 0, 0, 0.15);\n",
              "      filter: drop-shadow(0px 1px 2px rgba(0, 0, 0, 0.3));\n",
              "      fill: #FFFFFF;\n",
              "    }\n",
              "  </style>\n",
              "\n",
              "      <script>\n",
              "        const buttonEl =\n",
              "          document.querySelector('#df-c480bb22-daee-43e4-8079-3830008b1465 button.colab-df-convert');\n",
              "        buttonEl.style.display =\n",
              "          google.colab.kernel.accessAllowed ? 'block' : 'none';\n",
              "\n",
              "        async function convertToInteractive(key) {\n",
              "          const element = document.querySelector('#df-c480bb22-daee-43e4-8079-3830008b1465');\n",
              "          const dataTable =\n",
              "            await google.colab.kernel.invokeFunction('convertToInteractive',\n",
              "                                                     [key], {});\n",
              "          if (!dataTable) return;\n",
              "\n",
              "          const docLinkHtml = 'Like what you see? Visit the ' +\n",
              "            '<a target=\"_blank\" href=https://colab.research.google.com/notebooks/data_table.ipynb>data table notebook</a>'\n",
              "            + ' to learn more about interactive tables.';\n",
              "          element.innerHTML = '';\n",
              "          dataTable['output_type'] = 'display_data';\n",
              "          await google.colab.output.renderOutput(dataTable, element);\n",
              "          const docLink = document.createElement('div');\n",
              "          docLink.innerHTML = docLinkHtml;\n",
              "          element.appendChild(docLink);\n",
              "        }\n",
              "      </script>\n",
              "    </div>\n",
              "  </div>\n",
              "  "
            ]
          },
          "metadata": {},
          "execution_count": 37
        }
      ],
      "source": [
        "dfdask.head()"
      ]
    },
    {
      "cell_type": "code",
      "execution_count": null,
      "metadata": {
        "id": "DMJl3bVFRQ3p"
      },
      "outputs": [],
      "source": [
        "result = dfdask.groupby('Plate Type').agg({'Plate Type' : 'count'}).compute()\n"
      ]
    },
    {
      "cell_type": "code",
      "execution_count": null,
      "metadata": {
        "id": "sYuscWtkXIuK",
        "colab": {
          "base_uri": "https://localhost:8080/",
          "height": 131
        },
        "outputId": "3c1acca5-5a75-47e8-fcf1-da6c424e630a"
      },
      "outputs": [
        {
          "output_type": "error",
          "ename": "SyntaxError",
          "evalue": "ignored",
          "traceback": [
            "\u001b[0;36m  File \u001b[0;32m\"<ipython-input-39-47c30cf7607e>\"\u001b[0;36m, line \u001b[0;32m1\u001b[0m\n\u001b[0;31m    result.\u001b[0m\n\u001b[0m           ^\u001b[0m\n\u001b[0;31mSyntaxError\u001b[0m\u001b[0;31m:\u001b[0m invalid syntax\n"
          ]
        }
      ],
      "source": [
        "result."
      ]
    },
    {
      "cell_type": "markdown",
      "metadata": {
        "id": "eUW9nF_nQ75B"
      },
      "source": [
        "### 2. PySpark"
      ]
    },
    {
      "cell_type": "markdown",
      "metadata": {
        "id": "5BQCg_HUYpHj"
      },
      "source": []
    },
    {
      "cell_type": "markdown",
      "metadata": {
        "id": "opLmy99IgnJr"
      },
      "source": [
        "a. What is the most common plate type?"
      ]
    },
    {
      "cell_type": "markdown",
      "metadata": {
        "id": "D7YKRsvCgZth"
      },
      "source": [
        "b. What registeration stae has the highest rate?"
      ]
    },
    {
      "cell_type": "markdown",
      "metadata": {
        "id": "ittuE9WegZth"
      },
      "source": [
        "c. What is the most common vehicle body type?"
      ]
    },
    {
      "cell_type": "markdown",
      "metadata": {
        "id": "DeW0cJccgZti"
      },
      "source": [
        "d. What is the most common vehicle colour?"
      ]
    },
    {
      "cell_type": "markdown",
      "metadata": {
        "id": "C6aRntfzgZti"
      },
      "source": [
        "e. What is the most common state?"
      ]
    },
    {
      "cell_type": "code",
      "execution_count": null,
      "metadata": {
        "id": "VvTK6HsNZFsH"
      },
      "outputs": [],
      "source": []
    },
    {
      "cell_type": "code",
      "execution_count": null,
      "metadata": {
        "id": "N9-1GdolXqMR"
      },
      "outputs": [],
      "source": [
        "dfs.select('*').show(5)"
      ]
    },
    {
      "cell_type": "code",
      "execution_count": null,
      "metadata": {
        "id": "ATI3ILzQXqUz"
      },
      "outputs": [],
      "source": []
    },
    {
      "cell_type": "markdown",
      "metadata": {
        "id": "DmgT10D9RBrl"
      },
      "source": [
        "### 3. Koalas"
      ]
    },
    {
      "cell_type": "markdown",
      "metadata": {
        "id": "FuH17Qzkftvq"
      },
      "source": [
        "a. What is the most common plate type?"
      ]
    },
    {
      "cell_type": "code",
      "execution_count": null,
      "metadata": {
        "id": "CPa5vhupem7T"
      },
      "outputs": [],
      "source": [
        "%%time\n",
        "dfk = ks.read_csv('NYC_Parking_Ticket.csv')\n",
        "dfk.head()"
      ]
    },
    {
      "cell_type": "code",
      "execution_count": null,
      "metadata": {
        "id": "4jOUM803fUvq"
      },
      "outputs": [],
      "source": [
        "%%time\n",
        "dfk.groupby('Plate Type').agg({'Plate Type' : 'count'})"
      ]
    },
    {
      "cell_type": "markdown",
      "metadata": {
        "id": "upzzwj7Jf2fy"
      },
      "source": [
        "b. What registeration state has the highest rate?"
      ]
    },
    {
      "cell_type": "code",
      "execution_count": null,
      "metadata": {
        "id": "3QgSMqDRgywN"
      },
      "outputs": [],
      "source": [
        "%%time\n",
        "dfk.groupby('Registration State').count()"
      ]
    },
    {
      "cell_type": "markdown",
      "metadata": {
        "id": "hYaqPu-Xf-fT"
      },
      "source": [
        "c. What is the most common vehicle body type?"
      ]
    },
    {
      "cell_type": "code",
      "execution_count": null,
      "metadata": {
        "id": "FUM44nYMg6J6"
      },
      "outputs": [],
      "source": [
        "%%time\n",
        "dfk.groupby('Vehicle Body Type').count()"
      ]
    },
    {
      "cell_type": "markdown",
      "metadata": {
        "id": "Ag8omTzDgGHO"
      },
      "source": [
        "d. What is the most common vehicle colour?"
      ]
    },
    {
      "cell_type": "code",
      "execution_count": null,
      "metadata": {
        "id": "SQ-pPxNsh6M_"
      },
      "outputs": [],
      "source": [
        "%%time\n",
        "dfk.groupby('').count()"
      ]
    },
    {
      "cell_type": "markdown",
      "metadata": {
        "id": "xmejGtfBgQZi"
      },
      "source": [
        "e. What is the most common state?"
      ]
    },
    {
      "cell_type": "code",
      "execution_count": null,
      "metadata": {
        "id": "6cAvo862h-ik"
      },
      "outputs": [],
      "source": [
        "%%time\n",
        "dfk.groupby('').count()"
      ]
    },
    {
      "cell_type": "markdown",
      "metadata": {
        "id": "md_Am1oeVtTJ"
      },
      "source": [
        "# Inferences and Conclusion\n",
        "\n",
        "**TODO** - Write some explanation here: a summary of all the inferences drawn from the analysis, and any conclusions you may have drawn by answering various questions."
      ]
    },
    {
      "cell_type": "code",
      "execution_count": null,
      "metadata": {
        "id": "XKj0weytVw0n"
      },
      "outputs": [],
      "source": []
    },
    {
      "cell_type": "markdown",
      "metadata": {
        "id": "g8UTxyLRV-JU"
      },
      "source": [
        "# References and Future Work\n",
        "\n",
        "**TODO** - Write some explanation here: ideas for future projects using this dataset, and links to resources you found useful."
      ]
    },
    {
      "cell_type": "code",
      "execution_count": null,
      "metadata": {
        "id": "TuhZQB6rWsKq"
      },
      "outputs": [],
      "source": []
    }
  ],
  "metadata": {
    "colab": {
      "provenance": [],
      "include_colab_link": true
    },
    "kernelspec": {
      "display_name": "Python 3",
      "name": "python3"
    },
    "language_info": {
      "name": "python"
    }
  },
  "nbformat": 4,
  "nbformat_minor": 0
}
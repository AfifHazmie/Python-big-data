{
  "cells": [
    {
      "cell_type": "markdown",
      "metadata": {
        "id": "XBtcnU6iVJJx"
      },
      "source": [
        "# **Chess Games Analysis with Three Python Libraries**\n",
        "\n",
        "This dataset contains data for every rated Lichess game played between January 2013 and December 2014. There were approximately 15,000,000 games in total. It includes the players' names, ratings, the winner, the opening, the number of moves, etc. We will conduct an analysis to gain insights on the games and address our research questions. We hope to discover interesting patterns by analysing the various characteristics of each game, including the type of opening employed, the ratings of the players, and more. This data analysis allows us to comprehend the effects of various moves, strategies, and time controls on game outcomes. This research will also compare the performance of three Python libraries: Pandas, Vaex, and Koalas.\n",
        "\n",
        "### Libraries\n",
        "1. Pandas\n",
        "2. Vaex\n",
        "3. Modin\n",
        "\n",
        "###Group Members: \n",
        "\n",
        "<table>\n",
        "  <tr>\n",
        "    <th>Name</th>\n",
        "    <th>Matric No</th>\n",
        "  </tr>\n",
        "  <tr>\n",
        "    <th>Eddie Wong Chung Pheng </th>\n",
        "    <th>A20EC0031</th>\n",
        "  </tr>\n",
        "  <tr>\n",
        "    <th>Madihah Binti Che Zabri </th>\n",
        "    <th>A20EC0074</th>\n",
        "  </tr>\n",
        "  <tr>\n",
        "    <th>Nurarissa Dayana Binti Mohd Sukri</th>\n",
        "    <th>A20EC0120</th>\n",
        "  </tr>\n",
        "  <tr> \n",
        "    <th>Vincent Boo Ee Khai</th>\n",
        "    <th>A20EC0231</th>\n",
        "  </tr>\n",
        "</table>\n",
        "<br></br>\n",
        "\n",
        "###About The Dataset\n",
        "\n",
        "*  This dataset contains data from all rated games played in Lichess from January 2013 to December 2014, in total there are around 15,000,000 games.\n",
        "*  The dataset consists of 1048576 rows and 16 columns.\n",
        "*  The size of this dataset is 1.99GB.\n",
        "*  The dataset can be obtained from [here](https://www.kaggle.com/datasets/maca11/chess-games-from-lichess-20132014?select=Lichess_2013_2014_Complete.csv)\n"
      ]
    },
    {
      "cell_type": "markdown",
      "metadata": {
        "id": "LxWzVndBVJJ1"
      },
      "source": [
        "## Downloading the Dataset"
      ]
    },
    {
      "cell_type": "markdown",
      "metadata": {
        "id": "oHRcyidmVJJ1"
      },
      "source": [
        "Install Pydrive to read dataset from Google Drive. Dataset is uploaded in Google Drive and the link is provided to mount the dataset."
      ]
    },
    {
      "cell_type": "code",
      "execution_count": 40,
      "metadata": {
        "id": "_s6ZSPWYVJJ2"
      },
      "outputs": [],
      "source": [
        "# Read dataset from google drive\n",
        "!pip install -U -q PyDrive\n",
        "from pydrive.auth import GoogleAuth\n",
        "from pydrive.drive import GoogleDrive\n",
        "from google.colab import auth\n",
        "from oauth2client.client import GoogleCredentials\n",
        "\n",
        "# Authenticate and create the PyDrive client.\n",
        "auth.authenticate_user()\n",
        "gauth = GoogleAuth()\n",
        "gauth.credentials = GoogleCredentials.get_application_default()\n",
        "drive = GoogleDrive(gauth)\n",
        "link = 'https://drive.google.com/file/d/10CIeiPoyqyyDT_4C2B0eGANY-XVFpzkr/view?usp=share_link'\n",
        "# to get the id part of the file\n",
        "id = link.split(\"/\")[-2]\n",
        " \n",
        "downloaded = drive.CreateFile({'id':id})\n",
        "downloaded.GetContentFile('Lichess_2013_2014_Complete.csv') "
      ]
    },
    {
      "cell_type": "markdown",
      "metadata": {
        "id": "GhhO14GEVJJ2"
      },
      "source": [
        "The dataset has been downloaded and extracted. We will compare the performance of libraries in analyzing the data."
      ]
    },
    {
      "cell_type": "markdown",
      "source": [
        "##Import The Libraries"
      ],
      "metadata": {
        "id": "CmX-deowZ6D-"
      }
    },
    {
      "cell_type": "code",
      "source": [
        "!pip install vaex"
      ],
      "metadata": {
        "id": "Y01mz1wea8zE"
      },
      "execution_count": null,
      "outputs": []
    },
    {
      "cell_type": "code",
      "source": [
        "!pip install koalas"
      ],
      "metadata": {
        "id": "LPePFv2Xf5ZQ"
      },
      "execution_count": null,
      "outputs": []
    },
    {
      "cell_type": "code",
      "source": [
        "!pip install pyspark"
      ],
      "metadata": {
        "id": "e8X6s2kDgcmi"
      },
      "execution_count": null,
      "outputs": []
    },
    {
      "cell_type": "code",
      "source": [
        "import pandas as pd\n",
        "import vaex as vx\n",
        "import databricks.koalas as ks\n",
        "from pyspark.sql import SparkSession"
      ],
      "metadata": {
        "id": "teZORj7RbMON"
      },
      "execution_count": 44,
      "outputs": []
    },
    {
      "cell_type": "markdown",
      "metadata": {
        "id": "u0vucnGFVJJ5"
      },
      "source": [
        "## Data Preparation and Cleaning\n",
        "\n",
        "> Reading The Data\n",
        "\n"
      ]
    },
    {
      "cell_type": "markdown",
      "source": [
        "**Pandas**\n"
      ],
      "metadata": {
        "id": "aAxrFSVSZUK8"
      }
    },
    {
      "cell_type": "code",
      "execution_count": 87,
      "metadata": {
        "id": "90nIoWQtVJJ3",
        "colab": {
          "base_uri": "https://localhost:8080/"
        },
        "outputId": "f20c81b6-96dc-4164-96bb-241e74db5514"
      },
      "outputs": [
        {
          "output_type": "stream",
          "name": "stdout",
          "text": [
            "CPU times: user 333 ms, sys: 0 ns, total: 333 ms\n",
            "Wall time: 354 ms\n"
          ]
        }
      ],
      "source": [
        "%%time \n",
        "pdf = pd.read_csv(\"Lichess_2013_2014_Complete.csv\", nrows=100000)\n",
        "pd.set_option('display.max_columns', None)"
      ]
    },
    {
      "cell_type": "markdown",
      "source": [
        "**Vaex**"
      ],
      "metadata": {
        "id": "E7_W0mWiaaCo"
      }
    },
    {
      "cell_type": "code",
      "execution_count": 46,
      "metadata": {
        "id": "oAVmLuq2VJJ3",
        "colab": {
          "base_uri": "https://localhost:8080/"
        },
        "outputId": "fe0ac0c9-2f51-4582-85b0-4e4c326080fd"
      },
      "outputs": [
        {
          "output_type": "stream",
          "name": "stdout",
          "text": [
            "CPU times: user 2.23 s, sys: 698 ms, total: 2.93 s\n",
            "Wall time: 5.88 s\n"
          ]
        }
      ],
      "source": [
        "%%time\n",
        "vdf = vx.open('Lichess_2013_2014_Complete.csv') "
      ]
    },
    {
      "cell_type": "markdown",
      "source": [
        "**Koalas**"
      ],
      "metadata": {
        "id": "6bL3PoACaeAA"
      }
    },
    {
      "cell_type": "code",
      "source": [
        "%%time\n",
        "kdf = ks.read_csv('Lichess_2013_2014_Complete.csv', nrows=100000)"
      ],
      "metadata": {
        "id": "HTOsaP0Cc-Ym",
        "colab": {
          "base_uri": "https://localhost:8080/"
        },
        "outputId": "ac055cb3-9043-4f91-a921-c91bf15fae5a"
      },
      "execution_count": 97,
      "outputs": [
        {
          "output_type": "stream",
          "name": "stdout",
          "text": [
            "CPU times: user 384 ms, sys: 36.7 ms, total: 421 ms\n",
            "Wall time: 56.3 s\n"
          ]
        }
      ]
    },
    {
      "cell_type": "markdown",
      "source": [
        "> Viewing The Dataset"
      ],
      "metadata": {
        "id": "WzFvzxuqnRpv"
      }
    },
    {
      "cell_type": "markdown",
      "source": [
        "**Pandas**\n"
      ],
      "metadata": {
        "id": "4p8B6mrvnxNb"
      }
    },
    {
      "cell_type": "code",
      "source": [
        "%%time\n",
        "pdf.head()"
      ],
      "metadata": {
        "id": "Np6iQXSrrBWg",
        "colab": {
          "base_uri": "https://localhost:8080/",
          "height": 601
        },
        "outputId": "78d22204-ddbc-460f-e20c-2f18c0081a60"
      },
      "execution_count": 48,
      "outputs": [
        {
          "output_type": "stream",
          "name": "stdout",
          "text": [
            "CPU times: user 1 ms, sys: 723 µs, total: 1.72 ms\n",
            "Wall time: 9.28 ms\n"
          ]
        },
        {
          "output_type": "execute_result",
          "data": {
            "text/plain": [
              "   WhiteElo  BlackElo         WhiteName          BlackName Winner Termination  \\\n",
              "0      1639      1403             BFG9k            mamalak  White      Normal   \n",
              "1      1654      1919    Desmond_Wilson          savinka59  White      Normal   \n",
              "2      1643      1747     Kozakmamay007  VanillaShamanilla  White      Normal   \n",
              "3      1824      1973  Naitero_Nagasaki                800  Black      Normal   \n",
              "4      1765      1815      nichiren1967   Naitero_Nagasaki  Black      Normal   \n",
              "\n",
              "                           Site  Day  Month  Year  InitialTime  Increment  \\\n",
              "0  https://lichess.org/j1dkb5dw   31     12  2012          600          8   \n",
              "1  https://lichess.org/a9tcp02g   31     12  2012          480          2   \n",
              "2  https://lichess.org/szom2tog   31     12  2012          420         17   \n",
              "3  https://lichess.org/rklpc7mk   31     12  2012           60          1   \n",
              "4  https://lichess.org/1xb3os63   31     12  2012           60          1   \n",
              "\n",
              "  TimeControl                                      Opening  ECO  \\\n",
              "0       Rapid             French Defense: Normal Variation  C00   \n",
              "1       Rapid  Queen's Pawn Game: Colle System, Anti-Colle  D04   \n",
              "2       Rapid         Four Knights Game: Italian Variation  C50   \n",
              "3      Bullet         Caro-Kann Defense: Goldman Variation  B12   \n",
              "4      Bullet     French Defense: La Bourdonnais Variation  C00   \n",
              "\n",
              "   Number_of_Moves  \n",
              "0               13  \n",
              "1               18  \n",
              "2               11  \n",
              "3               47  \n",
              "4               23  "
            ],
            "text/html": [
              "\n",
              "  <div id=\"df-6dbc9021-c007-4a82-86ac-1323f171be0c\">\n",
              "    <div class=\"colab-df-container\">\n",
              "      <div>\n",
              "<style scoped>\n",
              "    .dataframe tbody tr th:only-of-type {\n",
              "        vertical-align: middle;\n",
              "    }\n",
              "\n",
              "    .dataframe tbody tr th {\n",
              "        vertical-align: top;\n",
              "    }\n",
              "\n",
              "    .dataframe thead th {\n",
              "        text-align: right;\n",
              "    }\n",
              "</style>\n",
              "<table border=\"1\" class=\"dataframe\">\n",
              "  <thead>\n",
              "    <tr style=\"text-align: right;\">\n",
              "      <th></th>\n",
              "      <th>WhiteElo</th>\n",
              "      <th>BlackElo</th>\n",
              "      <th>WhiteName</th>\n",
              "      <th>BlackName</th>\n",
              "      <th>Winner</th>\n",
              "      <th>Termination</th>\n",
              "      <th>Site</th>\n",
              "      <th>Day</th>\n",
              "      <th>Month</th>\n",
              "      <th>Year</th>\n",
              "      <th>InitialTime</th>\n",
              "      <th>Increment</th>\n",
              "      <th>TimeControl</th>\n",
              "      <th>Opening</th>\n",
              "      <th>ECO</th>\n",
              "      <th>Number_of_Moves</th>\n",
              "    </tr>\n",
              "  </thead>\n",
              "  <tbody>\n",
              "    <tr>\n",
              "      <th>0</th>\n",
              "      <td>1639</td>\n",
              "      <td>1403</td>\n",
              "      <td>BFG9k</td>\n",
              "      <td>mamalak</td>\n",
              "      <td>White</td>\n",
              "      <td>Normal</td>\n",
              "      <td>https://lichess.org/j1dkb5dw</td>\n",
              "      <td>31</td>\n",
              "      <td>12</td>\n",
              "      <td>2012</td>\n",
              "      <td>600</td>\n",
              "      <td>8</td>\n",
              "      <td>Rapid</td>\n",
              "      <td>French Defense: Normal Variation</td>\n",
              "      <td>C00</td>\n",
              "      <td>13</td>\n",
              "    </tr>\n",
              "    <tr>\n",
              "      <th>1</th>\n",
              "      <td>1654</td>\n",
              "      <td>1919</td>\n",
              "      <td>Desmond_Wilson</td>\n",
              "      <td>savinka59</td>\n",
              "      <td>White</td>\n",
              "      <td>Normal</td>\n",
              "      <td>https://lichess.org/a9tcp02g</td>\n",
              "      <td>31</td>\n",
              "      <td>12</td>\n",
              "      <td>2012</td>\n",
              "      <td>480</td>\n",
              "      <td>2</td>\n",
              "      <td>Rapid</td>\n",
              "      <td>Queen's Pawn Game: Colle System, Anti-Colle</td>\n",
              "      <td>D04</td>\n",
              "      <td>18</td>\n",
              "    </tr>\n",
              "    <tr>\n",
              "      <th>2</th>\n",
              "      <td>1643</td>\n",
              "      <td>1747</td>\n",
              "      <td>Kozakmamay007</td>\n",
              "      <td>VanillaShamanilla</td>\n",
              "      <td>White</td>\n",
              "      <td>Normal</td>\n",
              "      <td>https://lichess.org/szom2tog</td>\n",
              "      <td>31</td>\n",
              "      <td>12</td>\n",
              "      <td>2012</td>\n",
              "      <td>420</td>\n",
              "      <td>17</td>\n",
              "      <td>Rapid</td>\n",
              "      <td>Four Knights Game: Italian Variation</td>\n",
              "      <td>C50</td>\n",
              "      <td>11</td>\n",
              "    </tr>\n",
              "    <tr>\n",
              "      <th>3</th>\n",
              "      <td>1824</td>\n",
              "      <td>1973</td>\n",
              "      <td>Naitero_Nagasaki</td>\n",
              "      <td>800</td>\n",
              "      <td>Black</td>\n",
              "      <td>Normal</td>\n",
              "      <td>https://lichess.org/rklpc7mk</td>\n",
              "      <td>31</td>\n",
              "      <td>12</td>\n",
              "      <td>2012</td>\n",
              "      <td>60</td>\n",
              "      <td>1</td>\n",
              "      <td>Bullet</td>\n",
              "      <td>Caro-Kann Defense: Goldman Variation</td>\n",
              "      <td>B12</td>\n",
              "      <td>47</td>\n",
              "    </tr>\n",
              "    <tr>\n",
              "      <th>4</th>\n",
              "      <td>1765</td>\n",
              "      <td>1815</td>\n",
              "      <td>nichiren1967</td>\n",
              "      <td>Naitero_Nagasaki</td>\n",
              "      <td>Black</td>\n",
              "      <td>Normal</td>\n",
              "      <td>https://lichess.org/1xb3os63</td>\n",
              "      <td>31</td>\n",
              "      <td>12</td>\n",
              "      <td>2012</td>\n",
              "      <td>60</td>\n",
              "      <td>1</td>\n",
              "      <td>Bullet</td>\n",
              "      <td>French Defense: La Bourdonnais Variation</td>\n",
              "      <td>C00</td>\n",
              "      <td>23</td>\n",
              "    </tr>\n",
              "  </tbody>\n",
              "</table>\n",
              "</div>\n",
              "      <button class=\"colab-df-convert\" onclick=\"convertToInteractive('df-6dbc9021-c007-4a82-86ac-1323f171be0c')\"\n",
              "              title=\"Convert this dataframe to an interactive table.\"\n",
              "              style=\"display:none;\">\n",
              "        \n",
              "  <svg xmlns=\"http://www.w3.org/2000/svg\" height=\"24px\"viewBox=\"0 0 24 24\"\n",
              "       width=\"24px\">\n",
              "    <path d=\"M0 0h24v24H0V0z\" fill=\"none\"/>\n",
              "    <path d=\"M18.56 5.44l.94 2.06.94-2.06 2.06-.94-2.06-.94-.94-2.06-.94 2.06-2.06.94zm-11 1L8.5 8.5l.94-2.06 2.06-.94-2.06-.94L8.5 2.5l-.94 2.06-2.06.94zm10 10l.94 2.06.94-2.06 2.06-.94-2.06-.94-.94-2.06-.94 2.06-2.06.94z\"/><path d=\"M17.41 7.96l-1.37-1.37c-.4-.4-.92-.59-1.43-.59-.52 0-1.04.2-1.43.59L10.3 9.45l-7.72 7.72c-.78.78-.78 2.05 0 2.83L4 21.41c.39.39.9.59 1.41.59.51 0 1.02-.2 1.41-.59l7.78-7.78 2.81-2.81c.8-.78.8-2.07 0-2.86zM5.41 20L4 18.59l7.72-7.72 1.47 1.35L5.41 20z\"/>\n",
              "  </svg>\n",
              "      </button>\n",
              "      \n",
              "  <style>\n",
              "    .colab-df-container {\n",
              "      display:flex;\n",
              "      flex-wrap:wrap;\n",
              "      gap: 12px;\n",
              "    }\n",
              "\n",
              "    .colab-df-convert {\n",
              "      background-color: #E8F0FE;\n",
              "      border: none;\n",
              "      border-radius: 50%;\n",
              "      cursor: pointer;\n",
              "      display: none;\n",
              "      fill: #1967D2;\n",
              "      height: 32px;\n",
              "      padding: 0 0 0 0;\n",
              "      width: 32px;\n",
              "    }\n",
              "\n",
              "    .colab-df-convert:hover {\n",
              "      background-color: #E2EBFA;\n",
              "      box-shadow: 0px 1px 2px rgba(60, 64, 67, 0.3), 0px 1px 3px 1px rgba(60, 64, 67, 0.15);\n",
              "      fill: #174EA6;\n",
              "    }\n",
              "\n",
              "    [theme=dark] .colab-df-convert {\n",
              "      background-color: #3B4455;\n",
              "      fill: #D2E3FC;\n",
              "    }\n",
              "\n",
              "    [theme=dark] .colab-df-convert:hover {\n",
              "      background-color: #434B5C;\n",
              "      box-shadow: 0px 1px 3px 1px rgba(0, 0, 0, 0.15);\n",
              "      filter: drop-shadow(0px 1px 2px rgba(0, 0, 0, 0.3));\n",
              "      fill: #FFFFFF;\n",
              "    }\n",
              "  </style>\n",
              "\n",
              "      <script>\n",
              "        const buttonEl =\n",
              "          document.querySelector('#df-6dbc9021-c007-4a82-86ac-1323f171be0c button.colab-df-convert');\n",
              "        buttonEl.style.display =\n",
              "          google.colab.kernel.accessAllowed ? 'block' : 'none';\n",
              "\n",
              "        async function convertToInteractive(key) {\n",
              "          const element = document.querySelector('#df-6dbc9021-c007-4a82-86ac-1323f171be0c');\n",
              "          const dataTable =\n",
              "            await google.colab.kernel.invokeFunction('convertToInteractive',\n",
              "                                                     [key], {});\n",
              "          if (!dataTable) return;\n",
              "\n",
              "          const docLinkHtml = 'Like what you see? Visit the ' +\n",
              "            '<a target=\"_blank\" href=https://colab.research.google.com/notebooks/data_table.ipynb>data table notebook</a>'\n",
              "            + ' to learn more about interactive tables.';\n",
              "          element.innerHTML = '';\n",
              "          dataTable['output_type'] = 'display_data';\n",
              "          await google.colab.output.renderOutput(dataTable, element);\n",
              "          const docLink = document.createElement('div');\n",
              "          docLink.innerHTML = docLinkHtml;\n",
              "          element.appendChild(docLink);\n",
              "        }\n",
              "      </script>\n",
              "    </div>\n",
              "  </div>\n",
              "  "
            ]
          },
          "metadata": {},
          "execution_count": 48
        }
      ]
    },
    {
      "cell_type": "markdown",
      "source": [
        "**Vaex**"
      ],
      "metadata": {
        "id": "N42iYGNGn2W-"
      }
    },
    {
      "cell_type": "code",
      "source": [
        "%%time\n",
        "vdf.head(5)"
      ],
      "metadata": {
        "id": "9HsdH1YtrLtw",
        "colab": {
          "base_uri": "https://localhost:8080/",
          "height": 550
        },
        "outputId": "11e91fe6-aa81-4929-e26e-3fdaa238caa1"
      },
      "execution_count": 49,
      "outputs": [
        {
          "output_type": "stream",
          "name": "stdout",
          "text": [
            "CPU times: user 1.53 ms, sys: 0 ns, total: 1.53 ms\n",
            "Wall time: 2.96 ms\n"
          ]
        },
        {
          "output_type": "execute_result",
          "data": {
            "text/html": [
              "<table>\n",
              "<thead>\n",
              "<tr><th>#                            </th><th style=\"text-align: right;\">  WhiteElo</th><th style=\"text-align: right;\">  BlackElo</th><th>WhiteName       </th><th>BlackName        </th><th>Winner  </th><th>Termination  </th><th>Site                        </th><th style=\"text-align: right;\">  Day</th><th style=\"text-align: right;\">  Month</th><th style=\"text-align: right;\">  Year</th><th style=\"text-align: right;\">  InitialTime</th><th style=\"text-align: right;\">  Increment</th><th>TimeControl  </th><th>Opening                                            </th><th>ECO  </th><th style=\"text-align: right;\">  Number_of_Moves</th></tr>\n",
              "</thead>\n",
              "<tbody>\n",
              "<tr><td><i style='opacity: 0.6'>0</i></td><td style=\"text-align: right;\">      1639</td><td style=\"text-align: right;\">      1403</td><td>BFG9k           </td><td>mamalak          </td><td>White   </td><td>Normal       </td><td>https://lichess.org/j1dkb5dw</td><td style=\"text-align: right;\">   31</td><td style=\"text-align: right;\">     12</td><td style=\"text-align: right;\">  2012</td><td style=\"text-align: right;\">          600</td><td style=\"text-align: right;\">          8</td><td>Rapid        </td><td>French Defense: Normal Variation                   </td><td>C00  </td><td style=\"text-align: right;\">               13</td></tr>\n",
              "<tr><td><i style='opacity: 0.6'>1</i></td><td style=\"text-align: right;\">      1654</td><td style=\"text-align: right;\">      1919</td><td>Desmond_Wilson  </td><td>savinka59        </td><td>White   </td><td>Normal       </td><td>https://lichess.org/a9tcp02g</td><td style=\"text-align: right;\">   31</td><td style=\"text-align: right;\">     12</td><td style=\"text-align: right;\">  2012</td><td style=\"text-align: right;\">          480</td><td style=\"text-align: right;\">          2</td><td>Rapid        </td><td>Queen&#x27;s Pawn Game: Colle System, Anti-Colle        </td><td>D04  </td><td style=\"text-align: right;\">               18</td></tr>\n",
              "<tr><td><i style='opacity: 0.6'>2</i></td><td style=\"text-align: right;\">      1643</td><td style=\"text-align: right;\">      1747</td><td>Kozakmamay007   </td><td>VanillaShamanilla</td><td>White   </td><td>Normal       </td><td>https://lichess.org/szom2tog</td><td style=\"text-align: right;\">   31</td><td style=\"text-align: right;\">     12</td><td style=\"text-align: right;\">  2012</td><td style=\"text-align: right;\">          420</td><td style=\"text-align: right;\">         17</td><td>Rapid        </td><td>Four Knights Game: Italian Variation               </td><td>C50  </td><td style=\"text-align: right;\">               11</td></tr>\n",
              "<tr><td><i style='opacity: 0.6'>3</i></td><td style=\"text-align: right;\">      1824</td><td style=\"text-align: right;\">      1973</td><td>Naitero_Nagasaki</td><td>800              </td><td>Black   </td><td>Normal       </td><td>https://lichess.org/rklpc7mk</td><td style=\"text-align: right;\">   31</td><td style=\"text-align: right;\">     12</td><td style=\"text-align: right;\">  2012</td><td style=\"text-align: right;\">           60</td><td style=\"text-align: right;\">          1</td><td>Bullet       </td><td>Caro-Kann Defense: Goldman Variation               </td><td>B12  </td><td style=\"text-align: right;\">               47</td></tr>\n",
              "<tr><td><i style='opacity: 0.6'>4</i></td><td style=\"text-align: right;\">      1765</td><td style=\"text-align: right;\">      1815</td><td>nichiren1967    </td><td>Naitero_Nagasaki </td><td>Black   </td><td>Normal       </td><td>https://lichess.org/1xb3os63</td><td style=\"text-align: right;\">   31</td><td style=\"text-align: right;\">     12</td><td style=\"text-align: right;\">  2012</td><td style=\"text-align: right;\">           60</td><td style=\"text-align: right;\">          1</td><td>Bullet       </td><td>French Defense: La Bourdonnais Variation           </td><td>C00  </td><td style=\"text-align: right;\">               23</td></tr>\n",
              "<tr><td><i style='opacity: 0.6'>5</i></td><td style=\"text-align: right;\">      1477</td><td style=\"text-align: right;\">      1487</td><td>sport           </td><td>shamirbj         </td><td>White   </td><td>Time forfeit </td><td>https://lichess.org/6x5nq6qd</td><td style=\"text-align: right;\">   31</td><td style=\"text-align: right;\">     12</td><td style=\"text-align: right;\">  2012</td><td style=\"text-align: right;\">          300</td><td style=\"text-align: right;\">          3</td><td>Blitz        </td><td>Owen Defense                                       </td><td>B00  </td><td style=\"text-align: right;\">               32</td></tr>\n",
              "<tr><td><i style='opacity: 0.6'>6</i></td><td style=\"text-align: right;\">      1541</td><td style=\"text-align: right;\">      1500</td><td>tiggran         </td><td>arion_6          </td><td>Black   </td><td>Normal       </td><td>https://lichess.org/fl7asfa0</td><td style=\"text-align: right;\">   31</td><td style=\"text-align: right;\">     12</td><td style=\"text-align: right;\">  2012</td><td style=\"text-align: right;\">          300</td><td style=\"text-align: right;\">          0</td><td>Blitz        </td><td>&#x27;Italian Game: Classical Variation, Giuoco Piani...</td><td>C53  </td><td style=\"text-align: right;\">               19</td></tr>\n",
              "<tr><td><i style='opacity: 0.6'>7</i></td><td style=\"text-align: right;\">      1765</td><td style=\"text-align: right;\">      1752</td><td>hostking        </td><td>troepianiz       </td><td>White   </td><td>Normal       </td><td>https://lichess.org/7b44wxzu</td><td style=\"text-align: right;\">   31</td><td style=\"text-align: right;\">     12</td><td style=\"text-align: right;\">  2012</td><td style=\"text-align: right;\">          540</td><td style=\"text-align: right;\">          0</td><td>Rapid        </td><td>English Opening: The Whale                         </td><td>C20  </td><td style=\"text-align: right;\">               28</td></tr>\n",
              "<tr><td><i style='opacity: 0.6'>8</i></td><td style=\"text-align: right;\">      1445</td><td style=\"text-align: right;\">      1169</td><td>manos68         </td><td>jtkjtkful        </td><td>White   </td><td>Normal       </td><td>https://lichess.org/7rzcutsf</td><td style=\"text-align: right;\">   31</td><td style=\"text-align: right;\">     12</td><td style=\"text-align: right;\">  2012</td><td style=\"text-align: right;\">          900</td><td style=\"text-align: right;\">          0</td><td>Rapid        </td><td>Old Benoni Defense                                 </td><td>A43  </td><td style=\"text-align: right;\">               37</td></tr>\n",
              "<tr><td><i style='opacity: 0.6'>9</i></td><td style=\"text-align: right;\">      1522</td><td style=\"text-align: right;\">      1428</td><td>adamsrj         </td><td>hamiakaz         </td><td>Black   </td><td>Normal       </td><td>https://lichess.org/9opx3qh7</td><td style=\"text-align: right;\">   31</td><td style=\"text-align: right;\">     12</td><td style=\"text-align: right;\">  2012</td><td style=\"text-align: right;\">          180</td><td style=\"text-align: right;\">          5</td><td>Blitz        </td><td>Englund Gambit Complex: Hartlaub-Charlick Gambit   </td><td>A40  </td><td style=\"text-align: right;\">               45</td></tr>\n",
              "</tbody>\n",
              "</table>"
            ],
            "text/plain": [
              "  #    WhiteElo    BlackElo  WhiteName         BlackName          Winner    Termination    Site                            Day    Month    Year    InitialTime    Increment  TimeControl    Opening                                              ECO      Number_of_Moves\n",
              "  0        1639        1403  BFG9k             mamalak            White     Normal         https://lichess.org/j1dkb5dw     31       12    2012            600            8  Rapid          French Defense: Normal Variation                     C00                   13\n",
              "  1        1654        1919  Desmond_Wilson    savinka59          White     Normal         https://lichess.org/a9tcp02g     31       12    2012            480            2  Rapid          Queen's Pawn Game: Colle System, Anti-Colle          D04                   18\n",
              "  2        1643        1747  Kozakmamay007     VanillaShamanilla  White     Normal         https://lichess.org/szom2tog     31       12    2012            420           17  Rapid          Four Knights Game: Italian Variation                 C50                   11\n",
              "  3        1824        1973  Naitero_Nagasaki  800                Black     Normal         https://lichess.org/rklpc7mk     31       12    2012             60            1  Bullet         Caro-Kann Defense: Goldman Variation                 B12                   47\n",
              "  4        1765        1815  nichiren1967      Naitero_Nagasaki   Black     Normal         https://lichess.org/1xb3os63     31       12    2012             60            1  Bullet         French Defense: La Bourdonnais Variation             C00                   23\n",
              "  5        1477        1487  sport             shamirbj           White     Time forfeit   https://lichess.org/6x5nq6qd     31       12    2012            300            3  Blitz          Owen Defense                                         B00                   32\n",
              "  6        1541        1500  tiggran           arion_6            Black     Normal         https://lichess.org/fl7asfa0     31       12    2012            300            0  Blitz          'Italian Game: Classical Variation, Giuoco Piani...  C53                   19\n",
              "  7        1765        1752  hostking          troepianiz         White     Normal         https://lichess.org/7b44wxzu     31       12    2012            540            0  Rapid          English Opening: The Whale                           C20                   28\n",
              "  8        1445        1169  manos68           jtkjtkful          White     Normal         https://lichess.org/7rzcutsf     31       12    2012            900            0  Rapid          Old Benoni Defense                                   A43                   37\n",
              "  9        1522        1428  adamsrj           hamiakaz           Black     Normal         https://lichess.org/9opx3qh7     31       12    2012            180            5  Blitz          Englund Gambit Complex: Hartlaub-Charlick Gambit     A40                   45"
            ]
          },
          "metadata": {},
          "execution_count": 49
        }
      ]
    },
    {
      "cell_type": "markdown",
      "source": [
        "**Koalas**"
      ],
      "metadata": {
        "id": "plpyDIYYn4GP"
      }
    },
    {
      "cell_type": "code",
      "execution_count": 50,
      "metadata": {
        "id": "1Et9QhCbVJJ6",
        "colab": {
          "base_uri": "https://localhost:8080/",
          "height": 557
        },
        "outputId": "ec8c1d5b-b0dc-46fe-cd59-de77d422e352"
      },
      "outputs": [
        {
          "output_type": "stream",
          "name": "stdout",
          "text": [
            "CPU times: user 27.8 ms, sys: 9.09 ms, total: 36.9 ms\n",
            "Wall time: 140 ms\n"
          ]
        },
        {
          "output_type": "execute_result",
          "data": {
            "text/plain": [
              "   WhiteElo  BlackElo         WhiteName          BlackName Winner Termination                          Site  Day  Month  Year  InitialTime  Increment TimeControl                                      Opening  ECO  Number_of_Moves\n",
              "0      1639      1403             BFG9k            mamalak  White      Normal  https://lichess.org/j1dkb5dw   31     12  2012          600          8       Rapid             French Defense: Normal Variation  C00               13\n",
              "1      1654      1919    Desmond_Wilson          savinka59  White      Normal  https://lichess.org/a9tcp02g   31     12  2012          480          2       Rapid  Queen's Pawn Game: Colle System, Anti-Colle  D04               18\n",
              "2      1643      1747     Kozakmamay007  VanillaShamanilla  White      Normal  https://lichess.org/szom2tog   31     12  2012          420         17       Rapid         Four Knights Game: Italian Variation  C50               11\n",
              "3      1824      1973  Naitero_Nagasaki                800  Black      Normal  https://lichess.org/rklpc7mk   31     12  2012           60          1      Bullet         Caro-Kann Defense: Goldman Variation  B12               47\n",
              "4      1765      1815      nichiren1967   Naitero_Nagasaki  Black      Normal  https://lichess.org/1xb3os63   31     12  2012           60          1      Bullet     French Defense: La Bourdonnais Variation  C00               23"
            ],
            "text/html": [
              "<div>\n",
              "<style scoped>\n",
              "    .dataframe tbody tr th:only-of-type {\n",
              "        vertical-align: middle;\n",
              "    }\n",
              "\n",
              "    .dataframe tbody tr th {\n",
              "        vertical-align: top;\n",
              "    }\n",
              "\n",
              "    .dataframe thead th {\n",
              "        text-align: right;\n",
              "    }\n",
              "</style>\n",
              "<table border=\"1\" class=\"dataframe\">\n",
              "  <thead>\n",
              "    <tr style=\"text-align: right;\">\n",
              "      <th></th>\n",
              "      <th>WhiteElo</th>\n",
              "      <th>BlackElo</th>\n",
              "      <th>WhiteName</th>\n",
              "      <th>BlackName</th>\n",
              "      <th>Winner</th>\n",
              "      <th>Termination</th>\n",
              "      <th>Site</th>\n",
              "      <th>Day</th>\n",
              "      <th>Month</th>\n",
              "      <th>Year</th>\n",
              "      <th>InitialTime</th>\n",
              "      <th>Increment</th>\n",
              "      <th>TimeControl</th>\n",
              "      <th>Opening</th>\n",
              "      <th>ECO</th>\n",
              "      <th>Number_of_Moves</th>\n",
              "    </tr>\n",
              "  </thead>\n",
              "  <tbody>\n",
              "    <tr>\n",
              "      <th>0</th>\n",
              "      <td>1639</td>\n",
              "      <td>1403</td>\n",
              "      <td>BFG9k</td>\n",
              "      <td>mamalak</td>\n",
              "      <td>White</td>\n",
              "      <td>Normal</td>\n",
              "      <td>https://lichess.org/j1dkb5dw</td>\n",
              "      <td>31</td>\n",
              "      <td>12</td>\n",
              "      <td>2012</td>\n",
              "      <td>600</td>\n",
              "      <td>8</td>\n",
              "      <td>Rapid</td>\n",
              "      <td>French Defense: Normal Variation</td>\n",
              "      <td>C00</td>\n",
              "      <td>13</td>\n",
              "    </tr>\n",
              "    <tr>\n",
              "      <th>1</th>\n",
              "      <td>1654</td>\n",
              "      <td>1919</td>\n",
              "      <td>Desmond_Wilson</td>\n",
              "      <td>savinka59</td>\n",
              "      <td>White</td>\n",
              "      <td>Normal</td>\n",
              "      <td>https://lichess.org/a9tcp02g</td>\n",
              "      <td>31</td>\n",
              "      <td>12</td>\n",
              "      <td>2012</td>\n",
              "      <td>480</td>\n",
              "      <td>2</td>\n",
              "      <td>Rapid</td>\n",
              "      <td>Queen's Pawn Game: Colle System, Anti-Colle</td>\n",
              "      <td>D04</td>\n",
              "      <td>18</td>\n",
              "    </tr>\n",
              "    <tr>\n",
              "      <th>2</th>\n",
              "      <td>1643</td>\n",
              "      <td>1747</td>\n",
              "      <td>Kozakmamay007</td>\n",
              "      <td>VanillaShamanilla</td>\n",
              "      <td>White</td>\n",
              "      <td>Normal</td>\n",
              "      <td>https://lichess.org/szom2tog</td>\n",
              "      <td>31</td>\n",
              "      <td>12</td>\n",
              "      <td>2012</td>\n",
              "      <td>420</td>\n",
              "      <td>17</td>\n",
              "      <td>Rapid</td>\n",
              "      <td>Four Knights Game: Italian Variation</td>\n",
              "      <td>C50</td>\n",
              "      <td>11</td>\n",
              "    </tr>\n",
              "    <tr>\n",
              "      <th>3</th>\n",
              "      <td>1824</td>\n",
              "      <td>1973</td>\n",
              "      <td>Naitero_Nagasaki</td>\n",
              "      <td>800</td>\n",
              "      <td>Black</td>\n",
              "      <td>Normal</td>\n",
              "      <td>https://lichess.org/rklpc7mk</td>\n",
              "      <td>31</td>\n",
              "      <td>12</td>\n",
              "      <td>2012</td>\n",
              "      <td>60</td>\n",
              "      <td>1</td>\n",
              "      <td>Bullet</td>\n",
              "      <td>Caro-Kann Defense: Goldman Variation</td>\n",
              "      <td>B12</td>\n",
              "      <td>47</td>\n",
              "    </tr>\n",
              "    <tr>\n",
              "      <th>4</th>\n",
              "      <td>1765</td>\n",
              "      <td>1815</td>\n",
              "      <td>nichiren1967</td>\n",
              "      <td>Naitero_Nagasaki</td>\n",
              "      <td>Black</td>\n",
              "      <td>Normal</td>\n",
              "      <td>https://lichess.org/1xb3os63</td>\n",
              "      <td>31</td>\n",
              "      <td>12</td>\n",
              "      <td>2012</td>\n",
              "      <td>60</td>\n",
              "      <td>1</td>\n",
              "      <td>Bullet</td>\n",
              "      <td>French Defense: La Bourdonnais Variation</td>\n",
              "      <td>C00</td>\n",
              "      <td>23</td>\n",
              "    </tr>\n",
              "  </tbody>\n",
              "</table>\n",
              "</div>"
            ]
          },
          "metadata": {},
          "execution_count": 50
        }
      ],
      "source": [
        "%%time \n",
        "kdf.head()"
      ]
    },
    {
      "cell_type": "markdown",
      "source": [
        "> Handle Missing Values"
      ],
      "metadata": {
        "id": "sj8Njm_EoG59"
      }
    },
    {
      "cell_type": "markdown",
      "source": [
        "**Pandas**\n"
      ],
      "metadata": {
        "id": "tjZRmHsGogYK"
      }
    },
    {
      "cell_type": "code",
      "source": [
        "%%time\n",
        "pdf.isnull().sum()"
      ],
      "metadata": {
        "id": "WyflWMNppsfw",
        "colab": {
          "base_uri": "https://localhost:8080/"
        },
        "outputId": "b468ad34-fbc6-4c4a-c7ac-9b6ded0b4013"
      },
      "execution_count": 51,
      "outputs": [
        {
          "output_type": "stream",
          "name": "stdout",
          "text": [
            "CPU times: user 6.13 s, sys: 12.5 ms, total: 6.14 s\n",
            "Wall time: 6.13 s\n"
          ]
        },
        {
          "output_type": "execute_result",
          "data": {
            "text/plain": [
              "WhiteElo           0\n",
              "BlackElo           0\n",
              "WhiteName          0\n",
              "BlackName          0\n",
              "Winner             0\n",
              "Termination        0\n",
              "Site               0\n",
              "Day                0\n",
              "Month              0\n",
              "Year               0\n",
              "InitialTime        0\n",
              "Increment          0\n",
              "TimeControl        0\n",
              "Opening            0\n",
              "ECO                0\n",
              "Number_of_Moves    0\n",
              "dtype: int64"
            ]
          },
          "metadata": {},
          "execution_count": 51
        }
      ]
    },
    {
      "cell_type": "markdown",
      "source": [
        "**Vaex**"
      ],
      "metadata": {
        "id": "M7OUvGE_o0ZV"
      }
    },
    {
      "cell_type": "code",
      "source": [
        "%%time\n",
        "vdf.isnull().sum()"
      ],
      "metadata": {
        "id": "j-0ZBHF6pmM9",
        "colab": {
          "base_uri": "https://localhost:8080/",
          "height": 276
        },
        "outputId": "b6653ef2-2a34-472c-954b-46993b5e4161"
      },
      "execution_count": 52,
      "outputs": [
        {
          "output_type": "error",
          "ename": "AttributeError",
          "evalue": "ignored",
          "traceback": [
            "\u001b[0;31m---------------------------------------------------------------------------\u001b[0m",
            "\u001b[0;31mAttributeError\u001b[0m                            Traceback (most recent call last)",
            "\u001b[0;32m<timed eval>\u001b[0m in \u001b[0;36m<module>\u001b[0;34m\u001b[0m\n",
            "\u001b[0;32m/usr/local/lib/python3.8/dist-packages/vaex/dataframe.py\u001b[0m in \u001b[0;36m__getattr__\u001b[0;34m(self, name)\u001b[0m\n\u001b[1;32m    286\u001b[0m             \u001b[0;32mreturn\u001b[0m \u001b[0mself\u001b[0m\u001b[0;34m.\u001b[0m\u001b[0m__hidden__\u001b[0m\u001b[0;34m[\u001b[0m\u001b[0mname\u001b[0m\u001b[0;34m]\u001b[0m\u001b[0;34m.\u001b[0m\u001b[0m__get__\u001b[0m\u001b[0;34m(\u001b[0m\u001b[0mself\u001b[0m\u001b[0;34m)\u001b[0m\u001b[0;34m\u001b[0m\u001b[0;34m\u001b[0m\u001b[0m\n\u001b[1;32m    287\u001b[0m         \u001b[0;32melse\u001b[0m\u001b[0;34m:\u001b[0m\u001b[0;34m\u001b[0m\u001b[0;34m\u001b[0m\u001b[0m\n\u001b[0;32m--> 288\u001b[0;31m             \u001b[0;32mreturn\u001b[0m \u001b[0mobject\u001b[0m\u001b[0;34m.\u001b[0m\u001b[0m__getattribute__\u001b[0m\u001b[0;34m(\u001b[0m\u001b[0mself\u001b[0m\u001b[0;34m,\u001b[0m \u001b[0mname\u001b[0m\u001b[0;34m)\u001b[0m\u001b[0;34m\u001b[0m\u001b[0;34m\u001b[0m\u001b[0m\n\u001b[0m\u001b[1;32m    289\u001b[0m \u001b[0;34m\u001b[0m\u001b[0m\n\u001b[1;32m    290\u001b[0m     \u001b[0;32mdef\u001b[0m \u001b[0m_ipython_key_completions_\u001b[0m\u001b[0;34m(\u001b[0m\u001b[0mself\u001b[0m\u001b[0;34m)\u001b[0m\u001b[0;34m:\u001b[0m\u001b[0;34m\u001b[0m\u001b[0;34m\u001b[0m\u001b[0m\n",
            "\u001b[0;31mAttributeError\u001b[0m: 'DataFrameLocal' object has no attribute 'isnull'"
          ]
        }
      ]
    },
    {
      "cell_type": "markdown",
      "source": [
        "**Koalas**"
      ],
      "metadata": {
        "id": "2tYCnFIPo3h3"
      }
    },
    {
      "cell_type": "code",
      "source": [
        "%%time\n",
        "kdf.isnull().sum()"
      ],
      "metadata": {
        "id": "UxntD1GepAuY",
        "colab": {
          "base_uri": "https://localhost:8080/"
        },
        "outputId": "4677c784-0e15-4b25-b7f0-6eca6a84e711"
      },
      "execution_count": 53,
      "outputs": [
        {
          "output_type": "stream",
          "name": "stdout",
          "text": [
            "CPU times: user 672 ms, sys: 100 ms, total: 773 ms\n",
            "Wall time: 55.8 s\n"
          ]
        },
        {
          "output_type": "execute_result",
          "data": {
            "text/plain": [
              "WhiteElo           0\n",
              "BlackElo           0\n",
              "WhiteName          0\n",
              "BlackName          0\n",
              "Winner             0\n",
              "Termination        0\n",
              "Site               0\n",
              "Day                0\n",
              "Month              0\n",
              "Year               0\n",
              "InitialTime        0\n",
              "Increment          0\n",
              "TimeControl        0\n",
              "Opening            0\n",
              "ECO                0\n",
              "Number_of_Moves    0\n",
              "dtype: int64"
            ]
          },
          "metadata": {},
          "execution_count": 53
        }
      ]
    },
    {
      "cell_type": "markdown",
      "source": [
        "> Drop Unnecessary Columns "
      ],
      "metadata": {
        "id": "g54WJZZYoL_b"
      }
    },
    {
      "cell_type": "markdown",
      "source": [
        "We will not be using the opening songs and volume, and the day of the gameplay for this study."
      ],
      "metadata": {
        "id": "p8YnHpC2pR12"
      }
    },
    {
      "cell_type": "markdown",
      "source": [
        "**Pandas**\n"
      ],
      "metadata": {
        "id": "P5yJpLcnogwf"
      }
    },
    {
      "cell_type": "code",
      "source": [
        "%%time\n",
        "pdf = pdf.drop([\"Day\", \"Opening\", \"ECO\"], axis=1)"
      ],
      "metadata": {
        "colab": {
          "base_uri": "https://localhost:8080/",
          "height": 276
        },
        "id": "oi5Nus_9uLDa",
        "outputId": "e287a2d3-35a3-4482-9591-8a1e6d4d9e81"
      },
      "execution_count": 55,
      "outputs": [
        {
          "output_type": "error",
          "ename": "KeyError",
          "evalue": "ignored",
          "traceback": [
            "\u001b[0;31m---------------------------------------------------------------------------\u001b[0m",
            "\u001b[0;31mKeyError\u001b[0m                                  Traceback (most recent call last)",
            "\u001b[0;32m<timed exec>\u001b[0m in \u001b[0;36m<module>\u001b[0;34m\u001b[0m\n",
            "\u001b[0;32m/usr/local/lib/python3.8/dist-packages/databricks/koalas/frame.py\u001b[0m in \u001b[0;36mdrop\u001b[0;34m(self, labels, axis, columns)\u001b[0m\n\u001b[1;32m   6755\u001b[0m             )\n\u001b[1;32m   6756\u001b[0m             \u001b[0;32mif\u001b[0m \u001b[0mlen\u001b[0m\u001b[0;34m(\u001b[0m\u001b[0mdrop_column_labels\u001b[0m\u001b[0;34m)\u001b[0m \u001b[0;34m==\u001b[0m \u001b[0;36m0\u001b[0m\u001b[0;34m:\u001b[0m\u001b[0;34m\u001b[0m\u001b[0;34m\u001b[0m\u001b[0m\n\u001b[0;32m-> 6757\u001b[0;31m                 \u001b[0;32mraise\u001b[0m \u001b[0mKeyError\u001b[0m\u001b[0;34m(\u001b[0m\u001b[0mcolumns\u001b[0m\u001b[0;34m)\u001b[0m\u001b[0;34m\u001b[0m\u001b[0;34m\u001b[0m\u001b[0m\n\u001b[0m\u001b[1;32m   6758\u001b[0m             cols, labels = zip(\n\u001b[1;32m   6759\u001b[0m                 *(\n",
            "\u001b[0;31mKeyError\u001b[0m: [('Site',), ('Day',), ('Opening',), ('ECO',)]"
          ]
        }
      ]
    },
    {
      "cell_type": "markdown",
      "source": [
        "**Vaex**"
      ],
      "metadata": {
        "id": "TsJsm2XUo03W"
      }
    },
    {
      "cell_type": "code",
      "source": [
        "%%time\n",
        "vdf = vdf.drop(columns=[\"Day\", \"Opening\", \"ECO\"])"
      ],
      "metadata": {
        "id": "gkuAQHWqptxd",
        "colab": {
          "base_uri": "https://localhost:8080/"
        },
        "outputId": "af5e314e-392b-480a-d91c-ca358d4a348c"
      },
      "execution_count": 56,
      "outputs": [
        {
          "output_type": "stream",
          "name": "stdout",
          "text": [
            "CPU times: user 2.66 ms, sys: 0 ns, total: 2.66 ms\n",
            "Wall time: 5.2 ms\n"
          ]
        }
      ]
    },
    {
      "cell_type": "markdown",
      "source": [
        "**Koalas**"
      ],
      "metadata": {
        "id": "HV-xhiTho3_q"
      }
    },
    {
      "cell_type": "code",
      "source": [
        "%%time\n",
        "kdf = kdf.drop(columns=[\"Day\", \"Opening\", \"ECO\"])"
      ],
      "metadata": {
        "id": "Ff-oeRzMpCfh",
        "colab": {
          "base_uri": "https://localhost:8080/"
        },
        "outputId": "04424a07-76e0-4bcd-f281-07e1dd38eb2d"
      },
      "execution_count": 57,
      "outputs": [
        {
          "output_type": "stream",
          "name": "stdout",
          "text": [
            "CPU times: user 25 ms, sys: 5.46 ms, total: 30.5 ms\n",
            "Wall time: 112 ms\n"
          ]
        }
      ]
    },
    {
      "cell_type": "markdown",
      "source": [
        "> Sorting The Dataset By Year"
      ],
      "metadata": {
        "id": "j0sBm4croR6H"
      }
    },
    {
      "cell_type": "markdown",
      "source": [
        "**Pandas**\n"
      ],
      "metadata": {
        "id": "AfmnRHQFohoD"
      }
    },
    {
      "cell_type": "code",
      "source": [
        "%%time\n",
        "pdf.sort_values(by='Year', ascending=False).head()"
      ],
      "metadata": {
        "colab": {
          "base_uri": "https://localhost:8080/",
          "height": 242
        },
        "id": "u6P05vsbsEAF",
        "outputId": "fff1497d-c215-45c3-9506-0616dd68f958"
      },
      "execution_count": 58,
      "outputs": [
        {
          "output_type": "stream",
          "name": "stdout",
          "text": [
            "CPU times: user 58.6 ms, sys: 19.1 ms, total: 77.7 ms\n",
            "Wall time: 253 ms\n"
          ]
        },
        {
          "output_type": "execute_result",
          "data": {
            "text/plain": [
              "   WhiteElo  BlackElo         WhiteName          BlackName Winner Termination  Month  Year  InitialTime  Increment TimeControl  Number_of_Moves\n",
              "0      1639      1403             BFG9k            mamalak  White      Normal     12  2012          600          8       Rapid               13\n",
              "1      1654      1919    Desmond_Wilson          savinka59  White      Normal     12  2012          480          2       Rapid               18\n",
              "2      1643      1747     Kozakmamay007  VanillaShamanilla  White      Normal     12  2012          420         17       Rapid               11\n",
              "3      1824      1973  Naitero_Nagasaki                800  Black      Normal     12  2012           60          1      Bullet               47\n",
              "4      1765      1815      nichiren1967   Naitero_Nagasaki  Black      Normal     12  2012           60          1      Bullet               23"
            ],
            "text/html": [
              "<div>\n",
              "<style scoped>\n",
              "    .dataframe tbody tr th:only-of-type {\n",
              "        vertical-align: middle;\n",
              "    }\n",
              "\n",
              "    .dataframe tbody tr th {\n",
              "        vertical-align: top;\n",
              "    }\n",
              "\n",
              "    .dataframe thead th {\n",
              "        text-align: right;\n",
              "    }\n",
              "</style>\n",
              "<table border=\"1\" class=\"dataframe\">\n",
              "  <thead>\n",
              "    <tr style=\"text-align: right;\">\n",
              "      <th></th>\n",
              "      <th>WhiteElo</th>\n",
              "      <th>BlackElo</th>\n",
              "      <th>WhiteName</th>\n",
              "      <th>BlackName</th>\n",
              "      <th>Winner</th>\n",
              "      <th>Termination</th>\n",
              "      <th>Month</th>\n",
              "      <th>Year</th>\n",
              "      <th>InitialTime</th>\n",
              "      <th>Increment</th>\n",
              "      <th>TimeControl</th>\n",
              "      <th>Number_of_Moves</th>\n",
              "    </tr>\n",
              "  </thead>\n",
              "  <tbody>\n",
              "    <tr>\n",
              "      <th>0</th>\n",
              "      <td>1639</td>\n",
              "      <td>1403</td>\n",
              "      <td>BFG9k</td>\n",
              "      <td>mamalak</td>\n",
              "      <td>White</td>\n",
              "      <td>Normal</td>\n",
              "      <td>12</td>\n",
              "      <td>2012</td>\n",
              "      <td>600</td>\n",
              "      <td>8</td>\n",
              "      <td>Rapid</td>\n",
              "      <td>13</td>\n",
              "    </tr>\n",
              "    <tr>\n",
              "      <th>1</th>\n",
              "      <td>1654</td>\n",
              "      <td>1919</td>\n",
              "      <td>Desmond_Wilson</td>\n",
              "      <td>savinka59</td>\n",
              "      <td>White</td>\n",
              "      <td>Normal</td>\n",
              "      <td>12</td>\n",
              "      <td>2012</td>\n",
              "      <td>480</td>\n",
              "      <td>2</td>\n",
              "      <td>Rapid</td>\n",
              "      <td>18</td>\n",
              "    </tr>\n",
              "    <tr>\n",
              "      <th>2</th>\n",
              "      <td>1643</td>\n",
              "      <td>1747</td>\n",
              "      <td>Kozakmamay007</td>\n",
              "      <td>VanillaShamanilla</td>\n",
              "      <td>White</td>\n",
              "      <td>Normal</td>\n",
              "      <td>12</td>\n",
              "      <td>2012</td>\n",
              "      <td>420</td>\n",
              "      <td>17</td>\n",
              "      <td>Rapid</td>\n",
              "      <td>11</td>\n",
              "    </tr>\n",
              "    <tr>\n",
              "      <th>3</th>\n",
              "      <td>1824</td>\n",
              "      <td>1973</td>\n",
              "      <td>Naitero_Nagasaki</td>\n",
              "      <td>800</td>\n",
              "      <td>Black</td>\n",
              "      <td>Normal</td>\n",
              "      <td>12</td>\n",
              "      <td>2012</td>\n",
              "      <td>60</td>\n",
              "      <td>1</td>\n",
              "      <td>Bullet</td>\n",
              "      <td>47</td>\n",
              "    </tr>\n",
              "    <tr>\n",
              "      <th>4</th>\n",
              "      <td>1765</td>\n",
              "      <td>1815</td>\n",
              "      <td>nichiren1967</td>\n",
              "      <td>Naitero_Nagasaki</td>\n",
              "      <td>Black</td>\n",
              "      <td>Normal</td>\n",
              "      <td>12</td>\n",
              "      <td>2012</td>\n",
              "      <td>60</td>\n",
              "      <td>1</td>\n",
              "      <td>Bullet</td>\n",
              "      <td>23</td>\n",
              "    </tr>\n",
              "  </tbody>\n",
              "</table>\n",
              "</div>"
            ]
          },
          "metadata": {},
          "execution_count": 58
        }
      ]
    },
    {
      "cell_type": "markdown",
      "source": [
        "**Vaex**"
      ],
      "metadata": {
        "id": "i_EsRrddo1m6"
      }
    },
    {
      "cell_type": "code",
      "source": [
        "%%time\n"
      ],
      "metadata": {
        "colab": {
          "base_uri": "https://localhost:8080/",
          "height": 276
        },
        "id": "GIYfBv2OsJzN",
        "outputId": "e1ab26f0-3fcd-4045-b92b-c1821b177c05"
      },
      "execution_count": 59,
      "outputs": [
        {
          "output_type": "error",
          "ename": "AttributeError",
          "evalue": "ignored",
          "traceback": [
            "\u001b[0;31m---------------------------------------------------------------------------\u001b[0m",
            "\u001b[0;31mAttributeError\u001b[0m                            Traceback (most recent call last)",
            "\u001b[0;32m<timed eval>\u001b[0m in \u001b[0;36m<module>\u001b[0;34m\u001b[0m\n",
            "\u001b[0;32m/usr/local/lib/python3.8/dist-packages/vaex/dataframe.py\u001b[0m in \u001b[0;36m__getattr__\u001b[0;34m(self, name)\u001b[0m\n\u001b[1;32m    286\u001b[0m             \u001b[0;32mreturn\u001b[0m \u001b[0mself\u001b[0m\u001b[0;34m.\u001b[0m\u001b[0m__hidden__\u001b[0m\u001b[0;34m[\u001b[0m\u001b[0mname\u001b[0m\u001b[0;34m]\u001b[0m\u001b[0;34m.\u001b[0m\u001b[0m__get__\u001b[0m\u001b[0;34m(\u001b[0m\u001b[0mself\u001b[0m\u001b[0;34m)\u001b[0m\u001b[0;34m\u001b[0m\u001b[0;34m\u001b[0m\u001b[0m\n\u001b[1;32m    287\u001b[0m         \u001b[0;32melse\u001b[0m\u001b[0;34m:\u001b[0m\u001b[0;34m\u001b[0m\u001b[0;34m\u001b[0m\u001b[0m\n\u001b[0;32m--> 288\u001b[0;31m             \u001b[0;32mreturn\u001b[0m \u001b[0mobject\u001b[0m\u001b[0;34m.\u001b[0m\u001b[0m__getattribute__\u001b[0m\u001b[0;34m(\u001b[0m\u001b[0mself\u001b[0m\u001b[0;34m,\u001b[0m \u001b[0mname\u001b[0m\u001b[0;34m)\u001b[0m\u001b[0;34m\u001b[0m\u001b[0;34m\u001b[0m\u001b[0m\n\u001b[0m\u001b[1;32m    289\u001b[0m \u001b[0;34m\u001b[0m\u001b[0m\n\u001b[1;32m    290\u001b[0m     \u001b[0;32mdef\u001b[0m \u001b[0m_ipython_key_completions_\u001b[0m\u001b[0;34m(\u001b[0m\u001b[0mself\u001b[0m\u001b[0;34m)\u001b[0m\u001b[0;34m:\u001b[0m\u001b[0;34m\u001b[0m\u001b[0;34m\u001b[0m\u001b[0m\n",
            "\u001b[0;31mAttributeError\u001b[0m: 'DataFrameLocal' object has no attribute 'sort_values'"
          ]
        }
      ]
    },
    {
      "cell_type": "markdown",
      "source": [
        "**Koalas**"
      ],
      "metadata": {
        "id": "Or2TLuxjo4mW"
      }
    },
    {
      "cell_type": "code",
      "source": [
        "%%time\n",
        "kdf.sort_values(by='Year', ascending=False).head()"
      ],
      "metadata": {
        "id": "ibAQP0N6j2fw",
        "colab": {
          "base_uri": "https://localhost:8080/",
          "height": 242
        },
        "outputId": "15267623-ac9c-45f5-9a8a-e5dc78961000"
      },
      "execution_count": 60,
      "outputs": [
        {
          "output_type": "stream",
          "name": "stdout",
          "text": [
            "CPU times: user 47.8 ms, sys: 6.11 ms, total: 53.9 ms\n",
            "Wall time: 234 ms\n"
          ]
        },
        {
          "output_type": "execute_result",
          "data": {
            "text/plain": [
              "   WhiteElo  BlackElo         WhiteName          BlackName Winner Termination  Month  Year  InitialTime  Increment TimeControl  Number_of_Moves\n",
              "0      1639      1403             BFG9k            mamalak  White      Normal     12  2012          600          8       Rapid               13\n",
              "1      1654      1919    Desmond_Wilson          savinka59  White      Normal     12  2012          480          2       Rapid               18\n",
              "2      1643      1747     Kozakmamay007  VanillaShamanilla  White      Normal     12  2012          420         17       Rapid               11\n",
              "3      1824      1973  Naitero_Nagasaki                800  Black      Normal     12  2012           60          1      Bullet               47\n",
              "4      1765      1815      nichiren1967   Naitero_Nagasaki  Black      Normal     12  2012           60          1      Bullet               23"
            ],
            "text/html": [
              "<div>\n",
              "<style scoped>\n",
              "    .dataframe tbody tr th:only-of-type {\n",
              "        vertical-align: middle;\n",
              "    }\n",
              "\n",
              "    .dataframe tbody tr th {\n",
              "        vertical-align: top;\n",
              "    }\n",
              "\n",
              "    .dataframe thead th {\n",
              "        text-align: right;\n",
              "    }\n",
              "</style>\n",
              "<table border=\"1\" class=\"dataframe\">\n",
              "  <thead>\n",
              "    <tr style=\"text-align: right;\">\n",
              "      <th></th>\n",
              "      <th>WhiteElo</th>\n",
              "      <th>BlackElo</th>\n",
              "      <th>WhiteName</th>\n",
              "      <th>BlackName</th>\n",
              "      <th>Winner</th>\n",
              "      <th>Termination</th>\n",
              "      <th>Month</th>\n",
              "      <th>Year</th>\n",
              "      <th>InitialTime</th>\n",
              "      <th>Increment</th>\n",
              "      <th>TimeControl</th>\n",
              "      <th>Number_of_Moves</th>\n",
              "    </tr>\n",
              "  </thead>\n",
              "  <tbody>\n",
              "    <tr>\n",
              "      <th>0</th>\n",
              "      <td>1639</td>\n",
              "      <td>1403</td>\n",
              "      <td>BFG9k</td>\n",
              "      <td>mamalak</td>\n",
              "      <td>White</td>\n",
              "      <td>Normal</td>\n",
              "      <td>12</td>\n",
              "      <td>2012</td>\n",
              "      <td>600</td>\n",
              "      <td>8</td>\n",
              "      <td>Rapid</td>\n",
              "      <td>13</td>\n",
              "    </tr>\n",
              "    <tr>\n",
              "      <th>1</th>\n",
              "      <td>1654</td>\n",
              "      <td>1919</td>\n",
              "      <td>Desmond_Wilson</td>\n",
              "      <td>savinka59</td>\n",
              "      <td>White</td>\n",
              "      <td>Normal</td>\n",
              "      <td>12</td>\n",
              "      <td>2012</td>\n",
              "      <td>480</td>\n",
              "      <td>2</td>\n",
              "      <td>Rapid</td>\n",
              "      <td>18</td>\n",
              "    </tr>\n",
              "    <tr>\n",
              "      <th>2</th>\n",
              "      <td>1643</td>\n",
              "      <td>1747</td>\n",
              "      <td>Kozakmamay007</td>\n",
              "      <td>VanillaShamanilla</td>\n",
              "      <td>White</td>\n",
              "      <td>Normal</td>\n",
              "      <td>12</td>\n",
              "      <td>2012</td>\n",
              "      <td>420</td>\n",
              "      <td>17</td>\n",
              "      <td>Rapid</td>\n",
              "      <td>11</td>\n",
              "    </tr>\n",
              "    <tr>\n",
              "      <th>3</th>\n",
              "      <td>1824</td>\n",
              "      <td>1973</td>\n",
              "      <td>Naitero_Nagasaki</td>\n",
              "      <td>800</td>\n",
              "      <td>Black</td>\n",
              "      <td>Normal</td>\n",
              "      <td>12</td>\n",
              "      <td>2012</td>\n",
              "      <td>60</td>\n",
              "      <td>1</td>\n",
              "      <td>Bullet</td>\n",
              "      <td>47</td>\n",
              "    </tr>\n",
              "    <tr>\n",
              "      <th>4</th>\n",
              "      <td>1765</td>\n",
              "      <td>1815</td>\n",
              "      <td>nichiren1967</td>\n",
              "      <td>Naitero_Nagasaki</td>\n",
              "      <td>Black</td>\n",
              "      <td>Normal</td>\n",
              "      <td>12</td>\n",
              "      <td>2012</td>\n",
              "      <td>60</td>\n",
              "      <td>1</td>\n",
              "      <td>Bullet</td>\n",
              "      <td>23</td>\n",
              "    </tr>\n",
              "  </tbody>\n",
              "</table>\n",
              "</div>"
            ]
          },
          "metadata": {},
          "execution_count": 60
        }
      ]
    },
    {
      "cell_type": "markdown",
      "metadata": {
        "id": "_0m5LkbVVJJ6"
      },
      "source": [
        "## Exploratory Analysis and Visualization\n",
        "\n",
        "**TODO** - write some explanation here.\n",
        "\n"
      ]
    },
    {
      "cell_type": "code",
      "source": [
        "%matplotlib inline\n",
        "import matplotlib.pyplot as plt\n",
        "from pyspark.sql import SparkSession\n",
        "from pyspark.conf import SparkConf\n",
        "\n",
        "config = SparkConf()\n",
        "config.set(\"spark.driver.memory\", \"2g\")\n",
        "config.set(\"spark.executor.memory\", \"1g\")\n",
        "spark1 = SparkSession.builder.config(conf=config).master(\"spark://192.168.0.6:7077\").appName(\"Plotting\").getOrCreate()"
      ],
      "metadata": {
        "id": "f1B5V3QZ4WSJ"
      },
      "execution_count": null,
      "outputs": []
    },
    {
      "cell_type": "markdown",
      "metadata": {
        "id": "rN1bUu8RVJJ7"
      },
      "source": [
        "**The Number of Moves Mean** - The average value of moves across all chess games."
      ]
    },
    {
      "cell_type": "markdown",
      "source": [
        "**Pandas**\n"
      ],
      "metadata": {
        "id": "JxUC2f69vNqH"
      }
    },
    {
      "cell_type": "code",
      "source": [
        "%%time\n",
        "pdf['Number_of_Moves'].mean()"
      ],
      "metadata": {
        "colab": {
          "base_uri": "https://localhost:8080/"
        },
        "id": "l68WW_a2wOLY",
        "outputId": "b3921af2-4792-41a3-e905-fe5733320876"
      },
      "execution_count": 90,
      "outputs": [
        {
          "output_type": "stream",
          "name": "stdout",
          "text": [
            "CPU times: user 0 ns, sys: 4.08 ms, total: 4.08 ms\n",
            "Wall time: 16.1 ms\n"
          ]
        },
        {
          "output_type": "execute_result",
          "data": {
            "text/plain": [
              "33.86832"
            ]
          },
          "metadata": {},
          "execution_count": 90
        }
      ]
    },
    {
      "cell_type": "markdown",
      "source": [
        "**Vaex**"
      ],
      "metadata": {
        "id": "mMloqF6GvS9-"
      }
    },
    {
      "cell_type": "code",
      "source": [
        "%%time\n",
        "vdf['Number_of_Moves'].mean()"
      ],
      "metadata": {
        "colab": {
          "base_uri": "https://localhost:8080/"
        },
        "id": "fG1jJTJ_wOom",
        "outputId": "b3532e7c-32c2-4f1f-f868-94f2f19410a1"
      },
      "execution_count": 91,
      "outputs": [
        {
          "output_type": "stream",
          "name": "stdout",
          "text": [
            "CPU times: user 9.47 s, sys: 1.19 s, total: 10.7 s\n",
            "Wall time: 9.62 s\n"
          ]
        },
        {
          "output_type": "execute_result",
          "data": {
            "text/plain": [
              "array(33.84611821)"
            ]
          },
          "metadata": {},
          "execution_count": 91
        }
      ]
    },
    {
      "cell_type": "markdown",
      "source": [
        "**Koalas**"
      ],
      "metadata": {
        "id": "M9yVHP0Uvyg1"
      }
    },
    {
      "cell_type": "code",
      "execution_count": 62,
      "metadata": {
        "id": "c7fugjWzVJJ7",
        "colab": {
          "base_uri": "https://localhost:8080/"
        },
        "outputId": "5da7c889-8106-41c6-a57f-e8afaa6eef38"
      },
      "outputs": [
        {
          "output_type": "stream",
          "name": "stdout",
          "text": [
            "CPU times: user 194 ms, sys: 27.9 ms, total: 222 ms\n",
            "Wall time: 29.4 s\n"
          ]
        },
        {
          "output_type": "execute_result",
          "data": {
            "text/plain": [
              "33.846118205712074"
            ]
          },
          "metadata": {},
          "execution_count": 62
        }
      ],
      "source": [
        "%%time\n",
        "kdf['Number_of_Moves'].mean()"
      ]
    },
    {
      "cell_type": "markdown",
      "metadata": {
        "id": "Fv4NPHasVJJ7"
      },
      "source": [
        "**Chess Game Month Distribution** - Explore one or more columns by plotting a graph below, and add some explanation about it"
      ]
    },
    {
      "cell_type": "markdown",
      "source": [
        "**Pandas**\n"
      ],
      "metadata": {
        "id": "bHh3EiUnvOGd"
      }
    },
    {
      "cell_type": "code",
      "source": [],
      "metadata": {
        "id": "QuqPxHj24Z7j"
      },
      "execution_count": null,
      "outputs": []
    },
    {
      "cell_type": "markdown",
      "source": [
        "**Vaex**"
      ],
      "metadata": {
        "id": "MdT-BZ_yvTey"
      }
    },
    {
      "cell_type": "code",
      "source": [],
      "metadata": {
        "id": "uAGmCnzh4Zlg"
      },
      "execution_count": null,
      "outputs": []
    },
    {
      "cell_type": "markdown",
      "source": [
        "**Koalas**"
      ],
      "metadata": {
        "id": "8oBeggjPvy64"
      }
    },
    {
      "cell_type": "code",
      "execution_count": 65,
      "metadata": {
        "id": "kMrm6CiAVJJ8",
        "colab": {
          "base_uri": "https://localhost:8080/",
          "height": 542
        },
        "outputId": "ca33805c-d94a-43ff-a72f-9e19850b98ac"
      },
      "outputs": [
        {
          "output_type": "display_data",
          "data": {
            "text/html": [
              "<html>\n",
              "<head><meta charset=\"utf-8\" /></head>\n",
              "<body>\n",
              "    <div>            <script src=\"https://cdnjs.cloudflare.com/ajax/libs/mathjax/2.7.5/MathJax.js?config=TeX-AMS-MML_SVG\"></script><script type=\"text/javascript\">if (window.MathJax) {MathJax.Hub.Config({SVG: {font: \"STIX-Web\"}});}</script>                <script type=\"text/javascript\">window.PlotlyConfig = {MathJaxConfig: 'local'};</script>\n",
              "        <script src=\"https://cdn.plot.ly/plotly-2.8.3.min.js\"></script>                <div id=\"b656bcba-56c2-49d6-8125-f3ba45b64180\" class=\"plotly-graph-div\" style=\"height:525px; width:100%;\"></div>            <script type=\"text/javascript\">                                    window.PLOTLYENV=window.PLOTLYENV || {};                                    if (document.getElementById(\"b656bcba-56c2-49d6-8125-f3ba45b64180\")) {                    Plotly.newPlot(                        \"b656bcba-56c2-49d6-8125-f3ba45b64180\",                        [{\"hovertemplate\":\"variable=Month<br>index=%{x}<br>value=%{y}<extra></extra>\",\"legendgroup\":\"Month\",\"line\":{\"color\":\"#636efa\",\"dash\":\"solid\"},\"marker\":{\"symbol\":\"circle\"},\"mode\":\"lines\",\"name\":\"Month\",\"showlegend\":true,\"x\":[11318,27278,37223,50011,55699,66689,95315,140469,152413,163604,167998,170936,179951,186079,193548,200615,203370,210778,215835,227476,236229,237708,237854,239033,247721,251031,252469,265192,266092,280913,282926,285226,287611,312006,332102,344830,345525,349818,351277,355454,385600,403971,416857,460017,464459,467535,478059,486155,486202,502553,552230,558474,563330,567332,608959,616795,619291,633012,653725,658238,668090,668747,693046,695666,698345,701878,716411,719076,721995,732337,746345,746930,756843,779521,781650,785694,799190,806647,812432,832216,842501,855161,873494,899430,916660,939021,950970,955984,956706,964708,980871,1016937,1054155,1055126,1092743,1096804,1108776,1133258,1146333,1176127,1263246,1280129,1291739,1292629,1318453,1350363,1376415,1378106,1399943,1405566,1415302,1417060,1425144,1445634,1454484,1455518,1472244,1513304,1537150,1563311,1600485,1601633,1615801,1648788,1675359,1680413,1699060,1709721,1717208,1717309,1717361,1743827,1752341,1757076,1769516,1793318,1805238,1820060,1871218,1876482,1921681,1937197,1948877,1948982,1965907,1973788,1988976,1997221,1998876,2013405,2033502,2050520,2061164,2063284,2083214,2093571,2094716,2098218,2101916,2105790,2109792,2158925,2192007,2208871,2219235,2229356,2241970,2243830,2267884,2281253,2296379,2339033,2340661,2350092,2352416,2352623,2403997,2430205,2454966,2455519,2478310,2505886,2509228,2524307,2528233,2545535,2552650,2560758,2584723,2591939,2599769,2603453,2605502,2618063,2624309,2639210,2648795,2661995,2694729,2712070,2712884,2721439,2735962,2746980,2756397,2775130,2828978,2840741,2850394,2851305,2853647,2865512,2884280,2884905,2888738,2897524,2962048,2966208,2983130,2986223,2990078,2990135,2993584,3046362,3070158,3072748,3098656,3098921,3105019,3120011,3132484,3132838,3146798,3153229,3165688,3175431,3176083,3193004,3194663,3227778,3230488,3247207,3252165,3254235,3255336,3272091,3295760,3300429,3319871,3323455,3324383,3325535,3338791,3353792,3354856,3358023,3358055,3365715,3387673,3441719,3450906,3490642,3524909,3528437,3533207,3538866,3553776,3601445,3604347,3614784,3638296,3641893,3663850,3666669,3685425,3690277,3700626,3701819,3724829,3736650,3753657,3765264,3767273,3771306,3778550,3789061,3814221,3820639,3822373,3830032,3843395,3865621,3869303,3878516,3887919,3889711,3933837,3963795,3967373,3984482,4007389,4009212,4029675,4038690,4049505,4051641,4061382,4072605,4126107,4133805,4134379,4141921,4146264,4147961,4148212,4161230,4167027,4168573,4173137,4190288,4201447,4209275,4209996,4212214,4213027,4244294,4274347,4303694,4312668,4324993,4361275,4367080,4372471,4382442,4388711,4408595,4418701,4445495,4449436,4471239,4566794,4570881,4576571,4591358,4623609,4624264,4629534,4631360,4642702,4658821,4690539,4697832,4703235,4720435,4734526,4741515,4783651,4798668,4800959,4809876,4818989,4850826,4855323,4926010,4950500,4971528,4981098,4995063,5018265,5046620,5089076,5119740,5126860,5127836,5137173,5157870,5160796,5168910,5191951,5223844,5276926,5300261,5314187,5321749,5325501,5333200,5353395,5356432,5372138,5383181,5384602,5384826,5387136,5399810,5457093,5460743,5491753,5512377,5512981,5544318,5556328,5557397,5558199,5588250,5589017,5604978,5616951,5631758,5636026,5649237,5682624,5690006,5719994,5743868,5779915,5787137,5806474,5836252,5845055,5875995,5878970,5883008,5898445,5899674,5917970,5918576,5920912,5921537,5950151,6012955,6026008,6052548,6059878,6062525,6064826,6085238,6094026,6109287,6111471,6132905,6134136,6137322,6148427,6179195,6194280,6228519,6239693,6252671,6286065,6313874,6341198,6361657,6381445,6396436,6404436,6420438,6421976,6468551,6483238,6483876,6506819,6531701,6535567,6535619,6541525,6552970,6574747,6582689,6594233,6620986,6642005,6656573,6657857,6687059,6693801,6698523,6698828,6741184,6758684,6800526,6818727,6823793,6828139,6829307,6840374,6845304,6858450,6871844,6876207,6900439,6915533,6916735,6947849,6949318,6953597,6961808,7004857,7015551,7044472,7056368,7059986,7062942,7078253,7079830,7096372,7099334,7106577,7132296,7148095,7177066,7182401,7184606,7224696,7237964,7273990,7312236,7328353,7349129,7349715,7382963,7385007,7394199,7394825,7395282,7402452,7409374,7430915,7440285,7446491,7473107,7495454,7505358,7534429,7539841,7561384,7561767,7597935,7605091,7612234,7679200,7690006,7691146,7691541,7691784,7702698,7726111,7729018,7758956,7759808,7761435,7784618,7790855,7792357,7800560,7848204,7854111,7902037,7903156,7953070,7990782,7997580,8006925,8039629,8061308,8090405,8092892,8104387,8108905,8118734,8147925,8172971,8178433,8200117,8202353,8211188,8222525,8235156,8236639,8289600,8295134,8297482,8299090,8314378,8320772,8326956,8333031,8349125,8371343,8375165,8405269,8408532,8427465,8437935,8448512,8523425,8525773,8596586,8634016,8641744,8659892,8665703,8672835,8684665,8685788,8690603,8709680,8719028,8737708,8738223,8757678,8759625,8765493,8792101,8797967,8800544,8809664,8822029,8825516,8830796,8867710,8868373,8881723,8920600,8923726,8967684,8988865,8990163,8999084,9009736,9019766,9022503,9034189,9041057,9064557,9076046,9113716,9165349,9176166,9188528,9193817,9202641,9203671,9238993,9247757,9253916,9271166,9273690,9274032,9303499,9306488,9332604,9340113,9346118,9346923,9377131,9392165,9407600,9468867,9470793,9471249,9518765,9532298,9596280,9597727,9597974,9630696,9639287,9639701,9651099,9652712,9655353,9675984,9683699,9698200,9715368,9732670,9734370,9747975,9759798,9788150,9804227,9850176,9865527,9868912,9889568,9897660,9906708,9912047,9929212,9952272,9972176,10018333,10022990,10026229,10050280,10064219,10066193,10097744,10105031,10109697,10117743,10132609,10135012,10139370,10151983,10156349,10162941,10163866,10165620,10165814,10165858,10169466,10173228,10174534,10190602,10212955,10218467,10232215,10240306,10245488,10247254,10275167,10277142,10283825,10284594,10284784,10286745,10291494,10296772,10341417,10376017,10399258,10403004,10404583,10405717,10430592,10462212,10469520,10475680,10496148,10505490,10516353,10577183,10588506,10589062,10594348,10604476,10611894,10619103,10647864,10699094,10762994,10777950,10794278,10809221,10818812,10820181,10830437,10837180,10844318,10848025,10873346,10876572,10895435,10952117,11018313,11019107,11035680,11060825,11070261,11075624,11081091,11117100,11128055,11157250,11172642,11182589,11192086,11201067,11205255,11217368,11217763,11233186,11246594,11252583,11286575,11325341,11328891,11335436,11342251,11367063,11381800,11392669,11399924,11409365,11424766,11436143,11468377,11469816,11471932,11474012,11489119,11493201,11498686,11519868,11524073,11546434,11568186,11568432,11571988,11575298,11577122,11584097,11591495,11593926,11595499,11608990,11644486,11651598,11664749,11722789,11731761,11805456,11818478,11819359,11834156,11835802,11861878,11893583,11913686,11913772,11926739,11942053,11969760,11973818,12022001,12058551,12088002,12102409,12108350,12111433,12141563,12147436,12152812,12157778,12159693,12175488,12194343,12195666,12203502,12206506,12223261,12224846,12232499,12253576,12254467,12290877,12314730,12331037,12342030,12358416,12379760,12393332,12395416,12395884,12411574,12439479,12439543,12447854,12483380,12487742,12499238,12507244,12539502,12570110,12570196,12585518,12602400,12621679,12658201,12663339,12682952,12690292,12708346,12711663,12724155,12729939,12743408,12797198,12829573,12872038,12885069,12899476,12906941,12927559,12962416,12967712,13009669,13048211,13065644,13079976,13080295,13083330,13085771,13097277,13144378,13150867,13181317,13192818,13195114,13217407,13220417,13253893,13293091,13294142,13314264,13327628,13387321,13414184,13424351,13469074,13473164,13479198,13494151,13508710,13576373,13581200,13599832,13623562,13673886,13674281,13738777,13744605,13771915,13772905,13777386,13809655,13836635,13879465,13880231,13926826,13927881,13947365,13970097,13979788,13980389,13982533,13987149,13998408,14004441,14011646,14013014,14039087,14050672,14063656,14068756,14087497,14091630,14092821,14106476,14107601,14130493,14154866,14173910,14177601,14178668,14204134,14205074,14214130,14242039,14278645,14300163,14311763,14320144,14330544,14345302,14349360,14355789,14371555,14375105,14394254,14396339,14397095,14408542,14414844,14438588,14439810,14443276,14447200,14493049,14501512,14524867,14531083,14531170,14545887,14548665,14577011,14601444,14603598,14607630,14610405,14617367,14618989,14670826,14713054,14719208,14731675,14735493,14739511,14756532,14756778,14766685,14801168,14804335,14808007,14820522,14828825,14842733,14843102,14849296,14854829,14855325,14857989,14882353,14898982,14911739],\"xaxis\":\"x\",\"y\":[1,1,1,1,1,1,1,2,2,2,2,2,2,2,2,2,2,2,2,2,2,2,2,2,3,3,3,3,3,3,3,3,3,3,3,3,3,3,3,3,3,4,4,4,4,4,4,4,4,4,4,4,5,5,5,5,5,5,5,5,5,5,5,5,5,5,5,5,5,5,6,6,6,6,6,6,6,6,6,6,6,6,6,6,6,6,6,6,6,7,7,7,7,7,7,7,7,7,7,7,8,8,8,8,8,8,8,8,8,8,8,8,8,8,8,8,8,8,8,8,9,9,9,9,9,9,9,9,9,9,9,9,9,9,9,9,9,9,9,9,10,10,10,10,10,10,10,10,10,10,10,10,10,10,10,10,10,10,10,10,10,10,10,10,10,10,10,10,10,10,10,11,11,11,11,11,11,11,11,11,11,11,11,11,11,11,11,11,11,11,11,11,11,11,11,11,11,11,11,11,11,11,11,11,11,11,12,12,12,12,12,12,12,12,12,12,12,12,12,12,12,12,12,12,12,12,12,12,12,12,12,12,12,12,12,12,12,12,12,12,12,12,12,12,12,12,12,12,12,12,12,12,12,12,12,12,12,12,1,1,1,1,1,1,1,1,1,1,1,1,1,1,1,1,1,1,1,1,1,1,1,1,1,1,1,1,1,1,1,1,1,1,1,1,1,1,1,1,1,1,1,1,1,1,1,1,1,2,2,2,2,2,2,2,2,2,2,2,2,2,2,2,2,2,2,2,2,2,2,2,2,2,2,2,2,2,2,2,2,2,2,2,2,2,2,2,2,2,2,2,2,2,2,2,2,2,3,3,3,3,3,3,3,3,3,3,3,3,3,3,3,3,3,3,3,3,3,3,3,3,3,3,3,3,3,3,3,3,3,3,3,3,3,3,3,3,3,3,3,3,4,4,4,4,4,4,4,4,4,4,4,4,4,4,4,4,4,4,4,4,4,4,4,4,4,4,4,4,4,4,4,4,4,4,4,4,4,4,4,4,4,4,4,4,4,4,4,4,4,4,4,4,5,5,5,5,5,5,5,5,5,5,5,5,5,5,5,5,5,5,5,5,5,5,5,5,5,5,5,5,5,5,5,5,5,5,5,5,5,5,5,5,5,5,5,5,5,5,5,5,5,5,5,5,5,5,5,5,5,5,5,5,5,5,6,6,6,6,6,6,6,6,6,6,6,6,6,6,6,6,6,6,6,6,6,6,6,6,6,6,6,6,6,6,6,6,6,6,6,6,6,6,6,6,6,6,6,6,6,6,6,6,6,6,6,6,6,6,6,6,6,6,6,6,6,6,7,7,7,7,7,7,7,7,7,7,7,7,7,7,7,7,7,7,7,7,7,7,7,7,7,7,7,7,7,7,7,7,7,7,7,7,7,7,7,7,7,7,7,7,7,7,7,7,7,7,7,7,7,7,7,7,7,7,7,7,7,7,7,7,7,7,7,7,7,8,8,8,8,8,8,8,8,8,8,8,8,8,8,8,8,8,8,8,8,8,8,8,8,8,8,8,8,8,8,8,8,8,8,8,8,8,8,8,8,8,8,8,8,8,8,8,8,8,8,8,8,8,8,8,8,8,8,8,8,8,8,8,8,8,8,8,8,8,8,8,8,8,8,8,8,8,8,9,9,9,9,9,9,9,9,9,9,9,9,9,9,9,9,9,9,9,9,9,9,9,9,9,9,9,9,9,9,9,9,9,9,9,9,9,9,9,9,9,9,9,9,9,9,9,9,9,9,9,9,9,9,9,9,9,9,9,9,9,9,10,10,10,10,10,10,10,10,10,10,10,10,10,10,10,10,10,10,10,10,10,10,10,10,10,10,10,10,10,10,10,10,10,10,10,10,10,10,10,10,10,10,10,10,10,10,10,10,10,10,10,10,10,10,10,10,10,10,10,10,10,10,10,10,10,10,10,10,10,10,10,10,10,10,10,10,10,11,11,11,11,11,11,11,11,11,11,11,11,11,11,11,11,11,11,11,11,11,11,11,11,11,11,11,11,11,11,11,11,11,11,11,11,11,11,11,11,11,11,11,11,11,11,11,11,11,11,11,11,11,11,11,11,11,11,11,11,11,11,11,11,11,12,12,12,12,12,12,12,12,12,12,12,12,12,12,12,12,12,12,12,12,12,12,12,12,12,12,12,12,12,12,12,12,12,12,12,12,12,12,12,12,12,12,12,12,12,12,12,12,12,12,12,12,12,12,12,12,12,12,12,12,12,12,12,12,12,12,12,12,12,12,12,12,12,12,12,12,12,12,12,12,12,12,12,12,12,12,12,12,12,12,12,12,12,12,12,12,12,12,12],\"yaxis\":\"y\",\"type\":\"scattergl\"}],                        {\"template\":{\"data\":{\"bar\":[{\"error_x\":{\"color\":\"#2a3f5f\"},\"error_y\":{\"color\":\"#2a3f5f\"},\"marker\":{\"line\":{\"color\":\"#E5ECF6\",\"width\":0.5},\"pattern\":{\"fillmode\":\"overlay\",\"size\":10,\"solidity\":0.2}},\"type\":\"bar\"}],\"barpolar\":[{\"marker\":{\"line\":{\"color\":\"#E5ECF6\",\"width\":0.5},\"pattern\":{\"fillmode\":\"overlay\",\"size\":10,\"solidity\":0.2}},\"type\":\"barpolar\"}],\"carpet\":[{\"aaxis\":{\"endlinecolor\":\"#2a3f5f\",\"gridcolor\":\"white\",\"linecolor\":\"white\",\"minorgridcolor\":\"white\",\"startlinecolor\":\"#2a3f5f\"},\"baxis\":{\"endlinecolor\":\"#2a3f5f\",\"gridcolor\":\"white\",\"linecolor\":\"white\",\"minorgridcolor\":\"white\",\"startlinecolor\":\"#2a3f5f\"},\"type\":\"carpet\"}],\"choropleth\":[{\"colorbar\":{\"outlinewidth\":0,\"ticks\":\"\"},\"type\":\"choropleth\"}],\"contour\":[{\"colorbar\":{\"outlinewidth\":0,\"ticks\":\"\"},\"colorscale\":[[0.0,\"#0d0887\"],[0.1111111111111111,\"#46039f\"],[0.2222222222222222,\"#7201a8\"],[0.3333333333333333,\"#9c179e\"],[0.4444444444444444,\"#bd3786\"],[0.5555555555555556,\"#d8576b\"],[0.6666666666666666,\"#ed7953\"],[0.7777777777777778,\"#fb9f3a\"],[0.8888888888888888,\"#fdca26\"],[1.0,\"#f0f921\"]],\"type\":\"contour\"}],\"contourcarpet\":[{\"colorbar\":{\"outlinewidth\":0,\"ticks\":\"\"},\"type\":\"contourcarpet\"}],\"heatmap\":[{\"colorbar\":{\"outlinewidth\":0,\"ticks\":\"\"},\"colorscale\":[[0.0,\"#0d0887\"],[0.1111111111111111,\"#46039f\"],[0.2222222222222222,\"#7201a8\"],[0.3333333333333333,\"#9c179e\"],[0.4444444444444444,\"#bd3786\"],[0.5555555555555556,\"#d8576b\"],[0.6666666666666666,\"#ed7953\"],[0.7777777777777778,\"#fb9f3a\"],[0.8888888888888888,\"#fdca26\"],[1.0,\"#f0f921\"]],\"type\":\"heatmap\"}],\"heatmapgl\":[{\"colorbar\":{\"outlinewidth\":0,\"ticks\":\"\"},\"colorscale\":[[0.0,\"#0d0887\"],[0.1111111111111111,\"#46039f\"],[0.2222222222222222,\"#7201a8\"],[0.3333333333333333,\"#9c179e\"],[0.4444444444444444,\"#bd3786\"],[0.5555555555555556,\"#d8576b\"],[0.6666666666666666,\"#ed7953\"],[0.7777777777777778,\"#fb9f3a\"],[0.8888888888888888,\"#fdca26\"],[1.0,\"#f0f921\"]],\"type\":\"heatmapgl\"}],\"histogram\":[{\"marker\":{\"pattern\":{\"fillmode\":\"overlay\",\"size\":10,\"solidity\":0.2}},\"type\":\"histogram\"}],\"histogram2d\":[{\"colorbar\":{\"outlinewidth\":0,\"ticks\":\"\"},\"colorscale\":[[0.0,\"#0d0887\"],[0.1111111111111111,\"#46039f\"],[0.2222222222222222,\"#7201a8\"],[0.3333333333333333,\"#9c179e\"],[0.4444444444444444,\"#bd3786\"],[0.5555555555555556,\"#d8576b\"],[0.6666666666666666,\"#ed7953\"],[0.7777777777777778,\"#fb9f3a\"],[0.8888888888888888,\"#fdca26\"],[1.0,\"#f0f921\"]],\"type\":\"histogram2d\"}],\"histogram2dcontour\":[{\"colorbar\":{\"outlinewidth\":0,\"ticks\":\"\"},\"colorscale\":[[0.0,\"#0d0887\"],[0.1111111111111111,\"#46039f\"],[0.2222222222222222,\"#7201a8\"],[0.3333333333333333,\"#9c179e\"],[0.4444444444444444,\"#bd3786\"],[0.5555555555555556,\"#d8576b\"],[0.6666666666666666,\"#ed7953\"],[0.7777777777777778,\"#fb9f3a\"],[0.8888888888888888,\"#fdca26\"],[1.0,\"#f0f921\"]],\"type\":\"histogram2dcontour\"}],\"mesh3d\":[{\"colorbar\":{\"outlinewidth\":0,\"ticks\":\"\"},\"type\":\"mesh3d\"}],\"parcoords\":[{\"line\":{\"colorbar\":{\"outlinewidth\":0,\"ticks\":\"\"}},\"type\":\"parcoords\"}],\"pie\":[{\"automargin\":true,\"type\":\"pie\"}],\"scatter\":[{\"marker\":{\"colorbar\":{\"outlinewidth\":0,\"ticks\":\"\"}},\"type\":\"scatter\"}],\"scatter3d\":[{\"line\":{\"colorbar\":{\"outlinewidth\":0,\"ticks\":\"\"}},\"marker\":{\"colorbar\":{\"outlinewidth\":0,\"ticks\":\"\"}},\"type\":\"scatter3d\"}],\"scattercarpet\":[{\"marker\":{\"colorbar\":{\"outlinewidth\":0,\"ticks\":\"\"}},\"type\":\"scattercarpet\"}],\"scattergeo\":[{\"marker\":{\"colorbar\":{\"outlinewidth\":0,\"ticks\":\"\"}},\"type\":\"scattergeo\"}],\"scattergl\":[{\"marker\":{\"colorbar\":{\"outlinewidth\":0,\"ticks\":\"\"}},\"type\":\"scattergl\"}],\"scattermapbox\":[{\"marker\":{\"colorbar\":{\"outlinewidth\":0,\"ticks\":\"\"}},\"type\":\"scattermapbox\"}],\"scatterpolar\":[{\"marker\":{\"colorbar\":{\"outlinewidth\":0,\"ticks\":\"\"}},\"type\":\"scatterpolar\"}],\"scatterpolargl\":[{\"marker\":{\"colorbar\":{\"outlinewidth\":0,\"ticks\":\"\"}},\"type\":\"scatterpolargl\"}],\"scatterternary\":[{\"marker\":{\"colorbar\":{\"outlinewidth\":0,\"ticks\":\"\"}},\"type\":\"scatterternary\"}],\"surface\":[{\"colorbar\":{\"outlinewidth\":0,\"ticks\":\"\"},\"colorscale\":[[0.0,\"#0d0887\"],[0.1111111111111111,\"#46039f\"],[0.2222222222222222,\"#7201a8\"],[0.3333333333333333,\"#9c179e\"],[0.4444444444444444,\"#bd3786\"],[0.5555555555555556,\"#d8576b\"],[0.6666666666666666,\"#ed7953\"],[0.7777777777777778,\"#fb9f3a\"],[0.8888888888888888,\"#fdca26\"],[1.0,\"#f0f921\"]],\"type\":\"surface\"}],\"table\":[{\"cells\":{\"fill\":{\"color\":\"#EBF0F8\"},\"line\":{\"color\":\"white\"}},\"header\":{\"fill\":{\"color\":\"#C8D4E3\"},\"line\":{\"color\":\"white\"}},\"type\":\"table\"}]},\"layout\":{\"annotationdefaults\":{\"arrowcolor\":\"#2a3f5f\",\"arrowhead\":0,\"arrowwidth\":1},\"autotypenumbers\":\"strict\",\"coloraxis\":{\"colorbar\":{\"outlinewidth\":0,\"ticks\":\"\"}},\"colorscale\":{\"diverging\":[[0,\"#8e0152\"],[0.1,\"#c51b7d\"],[0.2,\"#de77ae\"],[0.3,\"#f1b6da\"],[0.4,\"#fde0ef\"],[0.5,\"#f7f7f7\"],[0.6,\"#e6f5d0\"],[0.7,\"#b8e186\"],[0.8,\"#7fbc41\"],[0.9,\"#4d9221\"],[1,\"#276419\"]],\"sequential\":[[0.0,\"#0d0887\"],[0.1111111111111111,\"#46039f\"],[0.2222222222222222,\"#7201a8\"],[0.3333333333333333,\"#9c179e\"],[0.4444444444444444,\"#bd3786\"],[0.5555555555555556,\"#d8576b\"],[0.6666666666666666,\"#ed7953\"],[0.7777777777777778,\"#fb9f3a\"],[0.8888888888888888,\"#fdca26\"],[1.0,\"#f0f921\"]],\"sequentialminus\":[[0.0,\"#0d0887\"],[0.1111111111111111,\"#46039f\"],[0.2222222222222222,\"#7201a8\"],[0.3333333333333333,\"#9c179e\"],[0.4444444444444444,\"#bd3786\"],[0.5555555555555556,\"#d8576b\"],[0.6666666666666666,\"#ed7953\"],[0.7777777777777778,\"#fb9f3a\"],[0.8888888888888888,\"#fdca26\"],[1.0,\"#f0f921\"]]},\"colorway\":[\"#636efa\",\"#EF553B\",\"#00cc96\",\"#ab63fa\",\"#FFA15A\",\"#19d3f3\",\"#FF6692\",\"#B6E880\",\"#FF97FF\",\"#FECB52\"],\"font\":{\"color\":\"#2a3f5f\"},\"geo\":{\"bgcolor\":\"white\",\"lakecolor\":\"white\",\"landcolor\":\"#E5ECF6\",\"showlakes\":true,\"showland\":true,\"subunitcolor\":\"white\"},\"hoverlabel\":{\"align\":\"left\"},\"hovermode\":\"closest\",\"mapbox\":{\"style\":\"light\"},\"paper_bgcolor\":\"white\",\"plot_bgcolor\":\"#E5ECF6\",\"polar\":{\"angularaxis\":{\"gridcolor\":\"white\",\"linecolor\":\"white\",\"ticks\":\"\"},\"bgcolor\":\"#E5ECF6\",\"radialaxis\":{\"gridcolor\":\"white\",\"linecolor\":\"white\",\"ticks\":\"\"}},\"scene\":{\"xaxis\":{\"backgroundcolor\":\"#E5ECF6\",\"gridcolor\":\"white\",\"gridwidth\":2,\"linecolor\":\"white\",\"showbackground\":true,\"ticks\":\"\",\"zerolinecolor\":\"white\"},\"yaxis\":{\"backgroundcolor\":\"#E5ECF6\",\"gridcolor\":\"white\",\"gridwidth\":2,\"linecolor\":\"white\",\"showbackground\":true,\"ticks\":\"\",\"zerolinecolor\":\"white\"},\"zaxis\":{\"backgroundcolor\":\"#E5ECF6\",\"gridcolor\":\"white\",\"gridwidth\":2,\"linecolor\":\"white\",\"showbackground\":true,\"ticks\":\"\",\"zerolinecolor\":\"white\"}},\"shapedefaults\":{\"line\":{\"color\":\"#2a3f5f\"}},\"ternary\":{\"aaxis\":{\"gridcolor\":\"white\",\"linecolor\":\"white\",\"ticks\":\"\"},\"baxis\":{\"gridcolor\":\"white\",\"linecolor\":\"white\",\"ticks\":\"\"},\"bgcolor\":\"#E5ECF6\",\"caxis\":{\"gridcolor\":\"white\",\"linecolor\":\"white\",\"ticks\":\"\"}},\"title\":{\"x\":0.05},\"xaxis\":{\"automargin\":true,\"gridcolor\":\"white\",\"linecolor\":\"white\",\"ticks\":\"\",\"title\":{\"standoff\":15},\"zerolinecolor\":\"white\",\"zerolinewidth\":2},\"yaxis\":{\"automargin\":true,\"gridcolor\":\"white\",\"linecolor\":\"white\",\"ticks\":\"\",\"title\":{\"standoff\":15},\"zerolinecolor\":\"white\",\"zerolinewidth\":2}}},\"xaxis\":{\"anchor\":\"y\",\"domain\":[0.0,1.0],\"title\":{\"text\":\"index\"}},\"yaxis\":{\"anchor\":\"x\",\"domain\":[0.0,1.0],\"title\":{\"text\":\"value\"}},\"legend\":{\"title\":{\"text\":\"variable\"},\"tracegroupgap\":0},\"margin\":{\"t\":60}},                        {\"responsive\": true}                    ).then(function(){\n",
              "                            \n",
              "var gd = document.getElementById('b656bcba-56c2-49d6-8125-f3ba45b64180');\n",
              "var x = new MutationObserver(function (mutations, observer) {{\n",
              "        var display = window.getComputedStyle(gd).display;\n",
              "        if (!display || display === 'none') {{\n",
              "            console.log([gd, 'removed!']);\n",
              "            Plotly.purge(gd);\n",
              "            observer.disconnect();\n",
              "        }}\n",
              "}});\n",
              "\n",
              "// Listen for the removal of the full notebook cells\n",
              "var notebookContainer = gd.closest('#notebook-container');\n",
              "if (notebookContainer) {{\n",
              "    x.observe(notebookContainer, {childList: true});\n",
              "}}\n",
              "\n",
              "// Listen for the clearing of the current output cell\n",
              "var outputEl = gd.closest('.output');\n",
              "if (outputEl) {{\n",
              "    x.observe(outputEl, {childList: true});\n",
              "}}\n",
              "\n",
              "                        })                };                            </script>        </div>\n",
              "</body>\n",
              "</html>"
            ]
          },
          "metadata": {}
        }
      ],
      "source": [
        "%%time\n",
        "kdf['Month'].plot()"
      ]
    },
    {
      "cell_type": "markdown",
      "metadata": {
        "id": "Dn_AW-5uVJJ7"
      },
      "source": [
        "**Highest Elo rating** - The Elo rating system is a method for determining the relative skill levels of players in zero-sum games like chess. Having Elo higher than 2000 is consider an advanced player."
      ]
    },
    {
      "cell_type": "markdown",
      "source": [
        "**Pandas**\n"
      ],
      "metadata": {
        "id": "eXj_pwSBvOfs"
      }
    },
    {
      "cell_type": "code",
      "source": [
        "%%time\n",
        "pdf[['WhiteElo','BlackElo']].max()"
      ],
      "metadata": {
        "colab": {
          "base_uri": "https://localhost:8080/"
        },
        "id": "Lfg7WYbL4boE",
        "outputId": "df775579-e4a2-4754-f08e-a148aca6486a"
      },
      "execution_count": 66,
      "outputs": [
        {
          "output_type": "stream",
          "name": "stdout",
          "text": [
            "CPU times: user 235 ms, sys: 32.5 ms, total: 267 ms\n",
            "Wall time: 27.6 s\n"
          ]
        },
        {
          "output_type": "execute_result",
          "data": {
            "text/plain": [
              "WhiteElo    2970\n",
              "BlackElo    2970\n",
              "dtype: int32"
            ]
          },
          "metadata": {},
          "execution_count": 66
        }
      ]
    },
    {
      "cell_type": "markdown",
      "source": [
        "**Vaex**"
      ],
      "metadata": {
        "id": "u6Ug_-7FvT4I"
      }
    },
    {
      "cell_type": "code",
      "source": [
        "%%time\n",
        "vdf[['WhiteElo','BlackElo']].max()"
      ],
      "metadata": {
        "colab": {
          "base_uri": "https://localhost:8080/",
          "height": 151
        },
        "id": "nulYoszT4cIH",
        "outputId": "ba0cd8c7-40ed-4596-9eca-62913d8f45ef"
      },
      "execution_count": 67,
      "outputs": [
        {
          "output_type": "error",
          "ename": "TypeError",
          "evalue": "ignored",
          "traceback": [
            "\u001b[0;31m---------------------------------------------------------------------------\u001b[0m",
            "\u001b[0;31mTypeError\u001b[0m                                 Traceback (most recent call last)",
            "\u001b[0;32m<timed eval>\u001b[0m in \u001b[0;36m<module>\u001b[0;34m\u001b[0m\n",
            "\u001b[0;31mTypeError\u001b[0m: max() missing 1 required positional argument: 'expression'"
          ]
        }
      ]
    },
    {
      "cell_type": "markdown",
      "source": [
        "**Koalas**"
      ],
      "metadata": {
        "id": "Ay8K1ItKvzVS"
      }
    },
    {
      "cell_type": "code",
      "source": [
        "%%time\n",
        "kdf[['WhiteElo','BlackElo']].max()"
      ],
      "metadata": {
        "colab": {
          "base_uri": "https://localhost:8080/"
        },
        "id": "bn66soce4xyD",
        "outputId": "f26968a9-abeb-4f04-b0e3-c961ce24a718"
      },
      "execution_count": 68,
      "outputs": [
        {
          "output_type": "stream",
          "name": "stdout",
          "text": [
            "CPU times: user 219 ms, sys: 16.9 ms, total: 236 ms\n",
            "Wall time: 24.7 s\n"
          ]
        },
        {
          "output_type": "execute_result",
          "data": {
            "text/plain": [
              "WhiteElo    2970\n",
              "BlackElo    2970\n",
              "dtype: int32"
            ]
          },
          "metadata": {},
          "execution_count": 68
        }
      ]
    },
    {
      "cell_type": "markdown",
      "metadata": {
        "id": "tLNLw0EOVJJ8"
      },
      "source": [
        "**Lowest ELO rating** - The Elo rating system is a method for determining the relative skill levels of players in zero-sum games like chess. Elo lower than 1000 is considered a beginner."
      ]
    },
    {
      "cell_type": "markdown",
      "source": [
        "**Pandas**\n"
      ],
      "metadata": {
        "id": "zz3ISExbvO2-"
      }
    },
    {
      "cell_type": "code",
      "execution_count": 69,
      "metadata": {
        "id": "61sgf555VJJ8",
        "colab": {
          "base_uri": "https://localhost:8080/"
        },
        "outputId": "3a059e34-d607-4b4f-e3fe-9c19f91b9bde"
      },
      "outputs": [
        {
          "output_type": "stream",
          "name": "stdout",
          "text": [
            "CPU times: user 249 ms, sys: 25.5 ms, total: 275 ms\n",
            "Wall time: 26.4 s\n"
          ]
        },
        {
          "output_type": "execute_result",
          "data": {
            "text/plain": [
              "WhiteElo    511\n",
              "BlackElo    704\n",
              "dtype: int32"
            ]
          },
          "metadata": {},
          "execution_count": 69
        }
      ],
      "source": [
        "%%time\n",
        "pdf[['WhiteElo','BlackElo']].min()"
      ]
    },
    {
      "cell_type": "markdown",
      "source": [
        "**Vaex**"
      ],
      "metadata": {
        "id": "y5EinQ43vUQO"
      }
    },
    {
      "cell_type": "code",
      "source": [
        "%%time\n",
        "vdf[['WhiteElo','BlackElo']].min()"
      ],
      "metadata": {
        "colab": {
          "base_uri": "https://localhost:8080/",
          "height": 151
        },
        "id": "EPAIPWsJ4o3B",
        "outputId": "6527ddf6-3d71-4347-c77d-05d72de6ad28"
      },
      "execution_count": 70,
      "outputs": [
        {
          "output_type": "error",
          "ename": "TypeError",
          "evalue": "ignored",
          "traceback": [
            "\u001b[0;31m---------------------------------------------------------------------------\u001b[0m",
            "\u001b[0;31mTypeError\u001b[0m                                 Traceback (most recent call last)",
            "\u001b[0;32m<timed eval>\u001b[0m in \u001b[0;36m<module>\u001b[0;34m\u001b[0m\n",
            "\u001b[0;31mTypeError\u001b[0m: min() missing 1 required positional argument: 'expression'"
          ]
        }
      ]
    },
    {
      "cell_type": "markdown",
      "source": [
        "**Koalas**"
      ],
      "metadata": {
        "id": "AwL1TWgtvz2B"
      }
    },
    {
      "cell_type": "code",
      "execution_count": 71,
      "metadata": {
        "id": "fOQ9cTWiVJJ8",
        "colab": {
          "base_uri": "https://localhost:8080/"
        },
        "outputId": "e21df18b-e1b8-47f0-83d4-accae170fbf8"
      },
      "outputs": [
        {
          "output_type": "stream",
          "name": "stdout",
          "text": [
            "CPU times: user 242 ms, sys: 35.9 ms, total: 278 ms\n",
            "Wall time: 25.6 s\n"
          ]
        },
        {
          "output_type": "execute_result",
          "data": {
            "text/plain": [
              "WhiteElo    511\n",
              "BlackElo    704\n",
              "dtype: int32"
            ]
          },
          "metadata": {},
          "execution_count": 71
        }
      ],
      "source": [
        "%%time\n",
        "kdf[['WhiteElo','BlackElo']].min()"
      ]
    },
    {
      "cell_type": "markdown",
      "metadata": {
        "id": "nt_CVhi-VJJ8"
      },
      "source": [
        "**TODO** - Explore one or more columns by plotting a graph below, and add some explanation about it"
      ]
    },
    {
      "cell_type": "markdown",
      "source": [
        "**Pandas**\n"
      ],
      "metadata": {
        "id": "3fZINj-qvPdc"
      }
    },
    {
      "cell_type": "code",
      "execution_count": null,
      "metadata": {
        "id": "NKN6RIplVJJ7"
      },
      "outputs": [],
      "source": [
        "df.corr()"
      ]
    },
    {
      "cell_type": "code",
      "execution_count": null,
      "metadata": {
        "id": "-Scf_lKnVJJ7"
      },
      "outputs": [],
      "source": [
        "df[['WhiteElo','BlackElo']].corr()"
      ]
    },
    {
      "cell_type": "markdown",
      "source": [
        "**Vaex**"
      ],
      "metadata": {
        "id": "j4QgGE_nvUun"
      }
    },
    {
      "cell_type": "code",
      "execution_count": null,
      "metadata": {
        "id": "Zatc4Si_VJJ8"
      },
      "outputs": [],
      "source": []
    },
    {
      "cell_type": "markdown",
      "source": [
        "**Koalas**"
      ],
      "metadata": {
        "id": "m-CppDOXv0T1"
      }
    },
    {
      "cell_type": "code",
      "execution_count": null,
      "metadata": {
        "id": "RBYoxztOVJJ8"
      },
      "outputs": [],
      "source": []
    },
    {
      "cell_type": "markdown",
      "metadata": {
        "id": "E0U3IWm8VJJ9"
      },
      "source": [
        "## Asking and Answering Questions\n",
        "\n",
        "TODO - write some explanation here.\n",
        "\n"
      ]
    },
    {
      "cell_type": "markdown",
      "metadata": {
        "id": "SjXvLl4dVJJ9"
      },
      "source": [
        "> Instructions (delete this cell)\n",
        ">\n",
        "> - Ask at least 5 interesting questions about your dataset\n",
        "> - Answer the questions either by computing the results using Numpy/Pandas or by plotting graphs using Matplotlib/Seaborn\n",
        "> - Create new columns, merge multiple dataset and perform grouping/aggregation wherever necessary\n",
        "> - Wherever you're using a library function from Pandas/Numpy/Matplotlib etc. explain briefly what it does\n",
        "\n"
      ]
    },
    {
      "cell_type": "markdown",
      "metadata": {
        "id": "7Lor5rHMVJJ9"
      },
      "source": [
        "#### Q1: Which chess color have more wins?"
      ]
    },
    {
      "cell_type": "markdown",
      "source": [
        "**Pandas**\n"
      ],
      "metadata": {
        "id": "mLPp_Bnx2dGM"
      }
    },
    {
      "cell_type": "code",
      "execution_count": null,
      "metadata": {
        "id": "D-PdOKqCVJJ9"
      },
      "outputs": [],
      "source": []
    },
    {
      "cell_type": "markdown",
      "source": [
        "**Vaex**"
      ],
      "metadata": {
        "id": "N3jPyM0s2hKp"
      }
    },
    {
      "cell_type": "code",
      "execution_count": null,
      "metadata": {
        "id": "pR1HdQ4JVJJ9"
      },
      "outputs": [],
      "source": []
    },
    {
      "cell_type": "markdown",
      "source": [
        "**Koalas**"
      ],
      "metadata": {
        "id": "_7jIW5Sq2kd-"
      }
    },
    {
      "cell_type": "code",
      "execution_count": null,
      "metadata": {
        "id": "LKIZxnawVJJ9"
      },
      "outputs": [],
      "source": []
    },
    {
      "cell_type": "markdown",
      "metadata": {
        "id": "c_REVnrhVJJ-"
      },
      "source": [
        "#### Q2: Which player has more game?"
      ]
    },
    {
      "cell_type": "markdown",
      "source": [
        "**Pandas**\n"
      ],
      "metadata": {
        "id": "piN3qrJY2dzf"
      }
    },
    {
      "cell_type": "code",
      "execution_count": 92,
      "metadata": {
        "id": "ShA3QyQpVJJ-",
        "colab": {
          "base_uri": "https://localhost:8080/"
        },
        "outputId": "39ce2694-2d77-441b-b7f8-8ae9f5a82c00"
      },
      "outputs": [
        {
          "output_type": "stream",
          "name": "stdout",
          "text": [
            "CPU times: user 49.2 ms, sys: 3.25 ms, total: 52.4 ms\n",
            "Wall time: 126 ms\n"
          ]
        },
        {
          "output_type": "execute_result",
          "data": {
            "text/plain": [
              "F1_ALONSO_FERRARI    1502.0\n",
              "german11             1405.0\n",
              "nichiren1967         1388.0\n",
              "ChikiPuki            1261.0\n",
              "Redneck              1224.0\n",
              "                      ...  \n",
              "neverforever            1.0\n",
              "new_One                 1.0\n",
              "as_1                    1.0\n",
              "ExuqHo                  1.0\n",
              "T-Bone                  1.0\n",
              "Length: 4270, dtype: float64"
            ]
          },
          "metadata": {},
          "execution_count": 92
        }
      ],
      "source": [
        "%%time\n",
        "total_gamesP = pdf['WhiteName'].value_counts().add(pdf['BlackName'].value_counts(), fill_value=0)\n",
        "total_gamesP = total_gamesP.sort_values(ascending = False)\n",
        "total_gamesP"
      ]
    },
    {
      "cell_type": "code",
      "source": [
        "pdf"
      ],
      "metadata": {
        "id": "V-_QA6jo9P0B"
      },
      "execution_count": null,
      "outputs": []
    },
    {
      "cell_type": "markdown",
      "source": [
        "**Vaex**"
      ],
      "metadata": {
        "id": "ND8oOuXl2hsV"
      }
    },
    {
      "cell_type": "code",
      "execution_count": null,
      "metadata": {
        "id": "dvyLd9MdVJJ-"
      },
      "outputs": [],
      "source": []
    },
    {
      "cell_type": "markdown",
      "source": [
        "**Koalas**"
      ],
      "metadata": {
        "id": "-KUhq7sz2lpp"
      }
    },
    {
      "cell_type": "code",
      "execution_count": 114,
      "metadata": {
        "id": "tdjrhzySVJJ-",
        "colab": {
          "base_uri": "https://localhost:8080/",
          "height": 419
        },
        "outputId": "bae29892-3728-4b74-ebed-c96f26258b01"
      },
      "outputs": [
        {
          "output_type": "error",
          "ename": "ValueError",
          "evalue": "ignored",
          "traceback": [
            "\u001b[0;31m---------------------------------------------------------------------------\u001b[0m",
            "\u001b[0;31mValueError\u001b[0m                                Traceback (most recent call last)",
            "\u001b[0;32m<timed exec>\u001b[0m in \u001b[0;36m<module>\u001b[0;34m\u001b[0m\n",
            "\u001b[0;32m/usr/local/lib/python3.8/dist-packages/databricks/koalas/base.py\u001b[0m in \u001b[0;36m__add__\u001b[0;34m(self, other)\u001b[0m\n\u001b[1;32m    345\u001b[0m                 \u001b[0;32mraise\u001b[0m \u001b[0mTypeError\u001b[0m\u001b[0;34m(\u001b[0m\u001b[0;34m\"string addition can only be applied to string series or literals.\"\u001b[0m\u001b[0;34m)\u001b[0m\u001b[0;34m\u001b[0m\u001b[0;34m\u001b[0m\u001b[0m\n\u001b[1;32m    346\u001b[0m         \u001b[0;32melse\u001b[0m\u001b[0;34m:\u001b[0m\u001b[0;34m\u001b[0m\u001b[0;34m\u001b[0m\u001b[0m\n\u001b[0;32m--> 347\u001b[0;31m             \u001b[0;32mreturn\u001b[0m \u001b[0mcolumn_op\u001b[0m\u001b[0;34m(\u001b[0m\u001b[0mColumn\u001b[0m\u001b[0;34m.\u001b[0m\u001b[0m__add__\u001b[0m\u001b[0;34m)\u001b[0m\u001b[0;34m(\u001b[0m\u001b[0mself\u001b[0m\u001b[0;34m,\u001b[0m \u001b[0mother\u001b[0m\u001b[0;34m)\u001b[0m\u001b[0;34m\u001b[0m\u001b[0;34m\u001b[0m\u001b[0m\n\u001b[0m\u001b[1;32m    348\u001b[0m \u001b[0;34m\u001b[0m\u001b[0m\n\u001b[1;32m    349\u001b[0m     \u001b[0;32mdef\u001b[0m \u001b[0m__sub__\u001b[0m\u001b[0;34m(\u001b[0m\u001b[0mself\u001b[0m\u001b[0;34m,\u001b[0m \u001b[0mother\u001b[0m\u001b[0;34m)\u001b[0m \u001b[0;34m->\u001b[0m \u001b[0mUnion\u001b[0m\u001b[0;34m[\u001b[0m\u001b[0;34m\"Series\"\u001b[0m\u001b[0;34m,\u001b[0m \u001b[0;34m\"Index\"\u001b[0m\u001b[0;34m]\u001b[0m\u001b[0;34m:\u001b[0m\u001b[0;34m\u001b[0m\u001b[0;34m\u001b[0m\u001b[0m\n",
            "\u001b[0;32m/usr/local/lib/python3.8/dist-packages/databricks/koalas/base.py\u001b[0m in \u001b[0;36mwrapper\u001b[0;34m(self, *args)\u001b[0m\n\u001b[1;32m    254\u001b[0m             \u001b[0mindex_ops\u001b[0m \u001b[0;34m=\u001b[0m \u001b[0malign_diff_index_ops\u001b[0m\u001b[0;34m(\u001b[0m\u001b[0mf\u001b[0m\u001b[0;34m,\u001b[0m \u001b[0mself\u001b[0m\u001b[0;34m,\u001b[0m \u001b[0;34m*\u001b[0m\u001b[0margs\u001b[0m\u001b[0;34m)\u001b[0m\u001b[0;34m\u001b[0m\u001b[0;34m\u001b[0m\u001b[0m\n\u001b[1;32m    255\u001b[0m         \u001b[0;32melse\u001b[0m\u001b[0;34m:\u001b[0m\u001b[0;34m\u001b[0m\u001b[0;34m\u001b[0m\u001b[0m\n\u001b[0;32m--> 256\u001b[0;31m             \u001b[0;32mraise\u001b[0m \u001b[0mValueError\u001b[0m\u001b[0;34m(\u001b[0m\u001b[0mERROR_MESSAGE_CANNOT_COMBINE\u001b[0m\u001b[0;34m)\u001b[0m\u001b[0;34m\u001b[0m\u001b[0;34m\u001b[0m\u001b[0m\n\u001b[0m\u001b[1;32m    257\u001b[0m \u001b[0;34m\u001b[0m\u001b[0m\n\u001b[1;32m    258\u001b[0m         \u001b[0;32mif\u001b[0m \u001b[0;32mnot\u001b[0m \u001b[0mall\u001b[0m\u001b[0;34m(\u001b[0m\u001b[0mself\u001b[0m\u001b[0;34m.\u001b[0m\u001b[0mname\u001b[0m \u001b[0;34m==\u001b[0m \u001b[0mcol\u001b[0m\u001b[0;34m.\u001b[0m\u001b[0mname\u001b[0m \u001b[0;32mfor\u001b[0m \u001b[0mcol\u001b[0m \u001b[0;32min\u001b[0m \u001b[0mcols\u001b[0m\u001b[0;34m)\u001b[0m\u001b[0;34m:\u001b[0m\u001b[0;34m\u001b[0m\u001b[0;34m\u001b[0m\u001b[0m\n",
            "\u001b[0;31mValueError\u001b[0m: Cannot combine the series or dataframe because it comes from a different dataframe. In order to allow this operation, enable 'compute.ops_on_diff_frames' option."
          ]
        }
      ],
      "source": [
        "%%time\n",
        "b = kdf['BlackName'].value_counts()\n",
        "w = kdf['WhiteName'].value_counts()\n",
        "total_gamesP = b+w\n",
        "total_gamesP.sort_values(ascending = False)\n",
        "total_gamesP"
      ]
    },
    {
      "cell_type": "markdown",
      "metadata": {
        "id": "ya3o0SurVJJ-"
      },
      "source": [
        "#### Q3: "
      ]
    },
    {
      "cell_type": "markdown",
      "source": [
        "**Pandas**\n"
      ],
      "metadata": {
        "id": "pO5BwhyN2eSE"
      }
    },
    {
      "cell_type": "code",
      "execution_count": null,
      "metadata": {
        "id": "CaF9SiPeVJJ-"
      },
      "outputs": [],
      "source": []
    },
    {
      "cell_type": "markdown",
      "source": [
        "**Vaex**"
      ],
      "metadata": {
        "id": "omUpXrhF2iIA"
      }
    },
    {
      "cell_type": "code",
      "execution_count": null,
      "metadata": {
        "id": "bGV1nEzqVJJ-"
      },
      "outputs": [],
      "source": []
    },
    {
      "cell_type": "markdown",
      "source": [
        "**Koalas**"
      ],
      "metadata": {
        "id": "21_DgJFY2mQI"
      }
    },
    {
      "cell_type": "code",
      "execution_count": null,
      "metadata": {
        "id": "1y8gWqGcVJJ-"
      },
      "outputs": [],
      "source": []
    },
    {
      "cell_type": "markdown",
      "metadata": {
        "id": "p4CcVO1TVJJ-"
      },
      "source": [
        "#### Q4: Which game did the lower-rated player win against a higher-rated opponent whose elo difference was the greatest?"
      ]
    },
    {
      "cell_type": "markdown",
      "source": [
        "**Pandas**\n"
      ],
      "metadata": {
        "id": "mgkjXcGx2epE"
      }
    },
    {
      "cell_type": "code",
      "execution_count": null,
      "metadata": {
        "id": "Wa96BGX1VJJ-"
      },
      "outputs": [],
      "source": [
        "new_pdf = pdf[((pdf['WhiteElo']-pdf['BlackElo']>=400)&(pdf['Winner'] == 'Black'))|((pdf['WhiteElo']-pdf['BlackElo']<=-400)&(pdf['Winner'] == 'White'))][['WhiteElo','BlackElo','Site']]\n",
        "new_pdf['Difference'] = (new_pdf['WhiteElo']-new_pdf['BlackElo']).abs()\n",
        "new_pdf[['Difference','Site']].loc[new_pdf['Difference'].idxmax()]"
      ]
    },
    {
      "cell_type": "markdown",
      "source": [
        "**Vaex**"
      ],
      "metadata": {
        "id": "-NszpoXK2ikt"
      }
    },
    {
      "cell_type": "code",
      "source": [
        "new_vdf = vdf[((vdf['WhiteElo']-vdf['BlackElo']>=400)&(vdf['Winner'] == 'Black'))|((vdf['WhiteElo']-vdf['BlackElo']<=-400)&(vdf['Winner'] == 'White'))][['WhiteElo','BlackElo','Site']]\n",
        "new_vdf['Difference'] = (new_vdf['WhiteElo']-new_vdf['BlackElo']).abs()\n",
        "new_vdf[['Difference','Site']].loc[new_vdf['Difference'].idxmax()]"
      ],
      "metadata": {
        "id": "odvn2Qsw2HRW"
      },
      "execution_count": null,
      "outputs": []
    },
    {
      "cell_type": "markdown",
      "source": [
        "**Koalas**"
      ],
      "metadata": {
        "id": "6Ye1I2lD2m9H"
      }
    },
    {
      "cell_type": "code",
      "source": [
        "new_kdf = kdf[((kdf['WhiteElo']-kdf['BlackElo']>=400)&(kdf['Winner'] == 'Black'))|((kdf['WhiteElo']-kdf['BlackElo']<=-400)&(kdf['Winner'] == 'White'))][['WhiteElo','BlackElo','Site']]\n",
        "new_kdf['Difference'] = (new_kdf['WhiteElo']-new_kdf['BlackElo']).abs()\n",
        "new_kdf[['Difference','Site']].loc[new_kdf['Difference'].idxmax()]"
      ],
      "metadata": {
        "id": "JfWasWvZ2HVN"
      },
      "execution_count": null,
      "outputs": []
    },
    {
      "cell_type": "markdown",
      "metadata": {
        "id": "uFuZBqX1VJJ_"
      },
      "source": [
        "#### Q5: In what time control is it easiest to defeat a higher-rated opponent?"
      ]
    },
    {
      "cell_type": "markdown",
      "source": [
        "**Pandas**\n"
      ],
      "metadata": {
        "id": "E6GQ7jiG2fBz"
      }
    },
    {
      "cell_type": "code",
      "execution_count": null,
      "metadata": {
        "id": "0XCOkgIHVJJ_"
      },
      "outputs": [],
      "source": [
        "%%time\n",
        "games_p = pdf[(pdf['WhiteElo']-pdf['BlackElo']>=400)|(pdf['WhiteElo']-pdf['BlackElo']<=-400)].groupby('TimeControl')['TimeControl'].value_counts()\n",
        "win_p = pdf[((pdf['WhiteElo']-pdf['BlackElo']>=400)&(pdf['Winner'] == 'Black'))|((pdf['WhiteElo']-pdf['BlackElo']<=-400)&(pdf['Winner'] == 'White'))].groupby('TimeControl')['TimeControl'].value_counts()\n",
        "\n",
        "win_p/games_p*100"
      ]
    },
    {
      "cell_type": "markdown",
      "source": [
        "**Vaex**"
      ],
      "metadata": {
        "id": "1-ragaSS2pcs"
      }
    },
    {
      "cell_type": "code",
      "execution_count": null,
      "metadata": {
        "id": "xZWIg8jJVJJ_"
      },
      "outputs": [],
      "source": []
    },
    {
      "cell_type": "markdown",
      "source": [
        "**Koalas**"
      ],
      "metadata": {
        "id": "4-l4mf3J2n0q"
      }
    },
    {
      "cell_type": "code",
      "execution_count": null,
      "metadata": {
        "id": "MMExemAYVJJ_"
      },
      "outputs": [],
      "source": [
        "%%time\n",
        "games_k = kdf[(kdf['WhiteElo']-kdf['BlackElo']>=400)|(kdf['WhiteElo']-kdf['BlackElo']<=-400)].groupby('TimeControl')['TimeControl'].value_counts()\n",
        "win_k = kdf[((kdf['WhiteElo']-kdf['BlackElo']>=400)&(kdf['Winner'] == 'Black'))|((kdf['WhiteElo']-kdf['BlackElo']<=-400)&(kdf['Winner'] == 'White'))].groupby('TimeControl')['TimeControl'].value_counts()\n",
        "\n",
        "win_k/games_k*100"
      ]
    },
    {
      "cell_type": "markdown",
      "metadata": {
        "id": "VxoO755tVJJ_"
      },
      "source": [
        "## Inferences and Conclusion\n",
        "\n",
        "**TODO** - Write some explanation here: a summary of all the inferences drawn from the analysis, and any conclusions you may have drawn by answering various questions."
      ]
    },
    {
      "cell_type": "code",
      "execution_count": null,
      "metadata": {
        "id": "kZ1_OOfbVJKA"
      },
      "outputs": [],
      "source": []
    },
    {
      "cell_type": "code",
      "execution_count": null,
      "metadata": {
        "id": "MtFJFEuMVJKA"
      },
      "outputs": [],
      "source": []
    },
    {
      "cell_type": "markdown",
      "metadata": {
        "id": "xfuc6sJgVJKA"
      },
      "source": [
        "## References and Future Work\n",
        "\n",
        "**TODO** - Write some explanation here: ideas for future projects using this dataset, and links to resources you found useful."
      ]
    },
    {
      "cell_type": "code",
      "execution_count": null,
      "metadata": {
        "id": "OuvFcAJoVJKA"
      },
      "outputs": [],
      "source": []
    },
    {
      "cell_type": "code",
      "execution_count": null,
      "metadata": {
        "scrolled": true,
        "id": "VWI2hEA1VJKA"
      },
      "outputs": [],
      "source": []
    },
    {
      "cell_type": "code",
      "execution_count": null,
      "metadata": {
        "id": "VT58I-b9VJKB"
      },
      "outputs": [],
      "source": []
    }
  ],
  "metadata": {
    "kernelspec": {
      "display_name": "Python 3",
      "language": "python",
      "name": "python3"
    },
    "language_info": {
      "codemirror_mode": {
        "name": "ipython",
        "version": 3
      },
      "file_extension": ".py",
      "mimetype": "text/x-python",
      "name": "python",
      "nbconvert_exporter": "python",
      "pygments_lexer": "ipython3",
      "version": "3.8.5"
    },
    "colab": {
      "provenance": []
    }
  },
  "nbformat": 4,
  "nbformat_minor": 0
}
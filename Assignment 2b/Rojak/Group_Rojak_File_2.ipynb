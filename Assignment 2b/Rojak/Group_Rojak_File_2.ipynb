{
  "nbformat": 4,
  "nbformat_minor": 0,
  "metadata": {
    "colab": {
      "provenance": [],
      "include_colab_link": true
    },
    "kernelspec": {
      "name": "python3",
      "display_name": "Python 3"
    },
    "language_info": {
      "name": "python"
    }
  },
  "cells": [
    {
      "cell_type": "markdown",
      "metadata": {
        "id": "view-in-github",
        "colab_type": "text"
      },
      "source": [
        "<a href=\"https://colab.research.google.com/github/drshahizan/Python-big-data/blob/main/Assignment%202b/Rojak/Group_Rojak_File_2.ipynb\" target=\"_parent\"><img src=\"https://colab.research.google.com/assets/colab-badge.svg\" alt=\"Open In Colab\"/></a>"
      ]
    },
    {
      "cell_type": "markdown",
      "source": [
        "## Assignment: Alternatives to Pandas for Processing Large Datasets (Vaex)\n",
        "\n",
        "###Group Members: \n",
        "\n",
        "<table>\n",
        "  <tr>\n",
        "    <th>Name</th>\n",
        "    <th>Matric No</th>\n",
        "  </tr>\n",
        "  <tr>\n",
        "    <th>Eddie Wong Chung Pheng </th>\n",
        "    <th>A20EC0031</th>\n",
        "  </tr>\n",
        "  <tr>\n",
        "    <th>Madihah Binti Che Zabri </th>\n",
        "    <th>A20EC0074</th>\n",
        "  </tr>\n",
        "  <tr>\n",
        "    <th>Nurarissa Dayana Binti Mohd Sukri</th>\n",
        "    <th>A20EC0120</th>\n",
        "  </tr>\n",
        "  <tr> \n",
        "    <th>Vincent Boo Ee Khai</th>\n",
        "    <th>A20EC0231</th>\n",
        "  </tr>\n",
        "</table>\n",
        "<br></br>\n",
        "\n",
        "\n",
        "## File 2: Comparison between Pandas and Vaex\n",
        "Vaex is a python library for lazy Out-of-Core DataFrames (similar to Pandas), to visualize and explore big tabular datasets. It can calculate statistics such as mean, sum, count, standard deviation etc, on an N-dimensional grid up to a billion () objects/rows per second. Visualization is done using histograms, density plots and 3d volume rendering, allowing interactive exploration of big data. Vaex uses memory mapping, a zero memory copy policy, and lazy computations for best performance (no memory wasted).\n",
        "<br></br>\n",
        "\n",
        "**Dataset**\n",
        "\n",
        "The dataset is obtained from Kaggle: <a href=\"https://www.kaggle.com/datasets/hhs/health-insurance-marketplace?select=Rate.csv\">Rate.csv</a>  <br>\n",
        "The size of the dataset is <b> 1.97 GB</b>.\n",
        "\n",
        "#### Attribute Information:\n",
        "| Acronym | Description |\n",
        "| --- | --- |\n",
        "| **BusinessYear** |   The year for which the rate information applies.  |\n",
        "|**StateCode** |  The two-letter code for the state in which the health insurance plan is offered.  |\n",
        "| **IssuerId** | A unique identifier for the insurer offering the health insurance plan. |\n",
        "| **SourceName** |  The source of the rate information (e.g. the insurer, the state insurance department). |\n",
        "| **VersionNum** | A version number for the rate information.  |\n",
        "| **ImportDate** |  The date on which the rate information was imported into the Marketplace database.   |\n",
        "| **IssuerId2** | A unique identifier for the insurer offering the health insurance plan.  |\n",
        "| **FederalTIN** | Federal income taxes  |\n",
        "| **RateEffectiveDate** |  The date for which the rate information is effective.   |\n",
        "|**RateExpirationDate** |  The expire date for the rate. |\n",
        "| **PlanId** | A unique identifier for the health insurance plan. |\n",
        "| **RatingAreaId** | The age of the insured person for which the rate information applies.  |\n",
        "| **Tobacco** | The rate information applies to tobacco users or non-tobacco users. |\n",
        "| **Age** |   The age of the insured person for which the rate information applies.  |\n",
        "| **IndividualRate** |  The monthly premium (cost) for the health insurance plan for an individual.  |\n",
        "| **IndividualTobaccoRate** | The monthly premium for the health insurance plan for an individual tobacco user.  |\n",
        "| **Couple** | The monthly premium for the health insurance plan for a couple.  |\n",
        "|**PrimarySubscriberAndOneDependent** |  The primary subscriber for the health insurance plan and one dependent. |\n",
        "| **PrimarySubscriberAndTwoDependents** | The primary subscriber for the health insurance plan and two dependent. |\n",
        "| **CoupleAndOneDependent** | The monthly premium for the health insurance plan for a couple and one dependent. |\n",
        "| **CoupleAndTwoDependents** | The monthly premium for the health insurance plan for a couple and two dependents.  |\n",
        "| **CoupleAndThreeOrMoreDependents** |  The monthly premium for the health insurance plan for a couple and three or more dependents.   |\n",
        "| **RowNumber** | The row number of rate information.  |\n"
      ],
      "metadata": {
        "id": "hYPtLDj_XmWG"
      }
    },
    {
      "cell_type": "markdown",
      "source": [
        "## **Installation and Downloading the Dataset**"
      ],
      "metadata": {
        "id": "SrZoz_YvpBx2"
      }
    },
    {
      "cell_type": "markdown",
      "source": [
        "**1) Install Vaex**"
      ],
      "metadata": {
        "id": "sD2DUJTmpH-V"
      }
    },
    {
      "cell_type": "code",
      "source": [
        "!pip install vaex"
      ],
      "metadata": {
        "colab": {
          "base_uri": "https://localhost:8080/",
          "height": 1000
        },
        "id": "O5rf9CmJYsmx",
        "outputId": "ee5dbaa9-d05b-47fb-b140-af0576c1b1c8"
      },
      "execution_count": 1,
      "outputs": [
        {
          "output_type": "stream",
          "name": "stdout",
          "text": [
            "Looking in indexes: https://pypi.org/simple, https://us-python.pkg.dev/colab-wheels/public/simple/\n",
            "Collecting vaex\n",
            "  Downloading vaex-4.16.0-py3-none-any.whl (4.7 kB)\n",
            "Collecting vaex-astro<0.10,>=0.9.3\n",
            "  Downloading vaex_astro-0.9.3-py3-none-any.whl (20 kB)\n",
            "Collecting vaex-ml<0.19,>=0.18.1\n",
            "  Downloading vaex_ml-0.18.1-py3-none-any.whl (58 kB)\n",
            "\u001b[2K     \u001b[90m━━━━━━━━━━━━━━━━━━━━━━━━━━━━━━━━━━━━━━━━\u001b[0m \u001b[32m58.2/58.2 KB\u001b[0m \u001b[31m4.5 MB/s\u001b[0m eta \u001b[36m0:00:00\u001b[0m\n",
            "\u001b[?25hCollecting vaex-core<4.17,>=4.16.0\n",
            "  Downloading vaex_core-4.16.1-cp38-cp38-manylinux_2_17_x86_64.manylinux2014_x86_64.whl (4.5 MB)\n",
            "\u001b[2K     \u001b[90m━━━━━━━━━━━━━━━━━━━━━━━━━━━━━━━━━━━━━━━━\u001b[0m \u001b[32m4.5/4.5 MB\u001b[0m \u001b[31m42.7 MB/s\u001b[0m eta \u001b[36m0:00:00\u001b[0m\n",
            "\u001b[?25hCollecting vaex-jupyter<0.9,>=0.8.1\n",
            "  Downloading vaex_jupyter-0.8.1-py3-none-any.whl (43 kB)\n",
            "\u001b[2K     \u001b[90m━━━━━━━━━━━━━━━━━━━━━━━━━━━━━━━━━━━━━━━━\u001b[0m \u001b[32m43.2/43.2 KB\u001b[0m \u001b[31m2.4 MB/s\u001b[0m eta \u001b[36m0:00:00\u001b[0m\n",
            "\u001b[?25hCollecting vaex-viz<0.6,>=0.5.4\n",
            "  Downloading vaex_viz-0.5.4-py3-none-any.whl (19 kB)\n",
            "Collecting vaex-hdf5<0.15,>=0.13.0\n",
            "  Downloading vaex_hdf5-0.14.1-py3-none-any.whl (16 kB)\n",
            "Collecting vaex-server<0.9,>=0.8.1\n",
            "  Downloading vaex_server-0.8.1-py3-none-any.whl (23 kB)\n",
            "Requirement already satisfied: astropy in /usr/local/lib/python3.8/dist-packages (from vaex-astro<0.10,>=0.9.3->vaex) (4.3.1)\n",
            "Collecting frozendict!=2.2.0\n",
            "  Downloading frozendict-2.3.4-cp38-cp38-manylinux_2_17_x86_64.manylinux2014_x86_64.whl (110 kB)\n",
            "\u001b[2K     \u001b[90m━━━━━━━━━━━━━━━━━━━━━━━━━━━━━━━━━━━━━━━\u001b[0m \u001b[32m111.0/111.0 KB\u001b[0m \u001b[31m5.0 MB/s\u001b[0m eta \u001b[36m0:00:00\u001b[0m\n",
            "\u001b[?25hRequirement already satisfied: progressbar2 in /usr/local/lib/python3.8/dist-packages (from vaex-core<4.17,>=4.16.0->vaex) (3.38.0)\n",
            "Requirement already satisfied: pandas in /usr/local/lib/python3.8/dist-packages (from vaex-core<4.17,>=4.16.0->vaex) (1.3.5)\n",
            "Requirement already satisfied: tabulate>=0.8.3 in /usr/local/lib/python3.8/dist-packages (from vaex-core<4.17,>=4.16.0->vaex) (0.8.10)\n",
            "Requirement already satisfied: pyarrow>=5.0.0 in /usr/local/lib/python3.8/dist-packages (from vaex-core<4.17,>=4.16.0->vaex) (9.0.0)\n",
            "Requirement already satisfied: requests in /usr/local/lib/python3.8/dist-packages (from vaex-core<4.17,>=4.16.0->vaex) (2.25.1)\n",
            "Requirement already satisfied: six in /usr/local/lib/python3.8/dist-packages (from vaex-core<4.17,>=4.16.0->vaex) (1.15.0)\n",
            "Collecting aplus\n",
            "  Downloading aplus-0.11.0.tar.gz (3.7 kB)\n",
            "  Preparing metadata (setup.py) ... \u001b[?25l\u001b[?25hdone\n",
            "Requirement already satisfied: cloudpickle in /usr/local/lib/python3.8/dist-packages (from vaex-core<4.17,>=4.16.0->vaex) (2.2.0)\n",
            "Requirement already satisfied: filelock in /usr/local/lib/python3.8/dist-packages (from vaex-core<4.17,>=4.16.0->vaex) (3.9.0)\n",
            "Requirement already satisfied: future>=0.15.2 in /usr/local/lib/python3.8/dist-packages (from vaex-core<4.17,>=4.16.0->vaex) (0.16.0)\n",
            "Collecting nest-asyncio>=1.3.3\n",
            "  Downloading nest_asyncio-1.5.6-py3-none-any.whl (5.2 kB)\n",
            "Collecting blake3\n",
            "  Downloading blake3-0.3.3-cp38-cp38-manylinux_2_17_x86_64.manylinux2014_x86_64.whl (1.2 MB)\n",
            "\u001b[2K     \u001b[90m━━━━━━━━━━━━━━━━━━━━━━━━━━━━━━━━━━━━━━━━\u001b[0m \u001b[32m1.2/1.2 MB\u001b[0m \u001b[31m28.0 MB/s\u001b[0m eta \u001b[36m0:00:00\u001b[0m\n",
            "\u001b[?25hCollecting rich\n",
            "  Downloading rich-13.0.1-py3-none-any.whl (238 kB)\n",
            "\u001b[2K     \u001b[90m━━━━━━━━━━━━━━━━━━━━━━━━━━━━━━━━━━━━━━\u001b[0m \u001b[32m238.1/238.1 KB\u001b[0m \u001b[31m13.0 MB/s\u001b[0m eta \u001b[36m0:00:00\u001b[0m\n",
            "\u001b[?25hRequirement already satisfied: dask!=2022.4.0 in /usr/local/lib/python3.8/dist-packages (from vaex-core<4.17,>=4.16.0->vaex) (2022.2.1)\n",
            "Requirement already satisfied: pydantic>=1.8.0 in /usr/local/lib/python3.8/dist-packages (from vaex-core<4.17,>=4.16.0->vaex) (1.10.4)\n",
            "Requirement already satisfied: pyyaml in /usr/local/lib/python3.8/dist-packages (from vaex-core<4.17,>=4.16.0->vaex) (6.0)\n",
            "Requirement already satisfied: numpy>=1.16 in /usr/local/lib/python3.8/dist-packages (from vaex-core<4.17,>=4.16.0->vaex) (1.21.6)\n",
            "Requirement already satisfied: h5py>=2.9 in /usr/local/lib/python3.8/dist-packages (from vaex-hdf5<0.15,>=0.13.0->vaex) (3.1.0)\n",
            "Collecting ipyleaflet\n",
            "  Downloading ipyleaflet-0.17.2-py3-none-any.whl (3.7 MB)\n",
            "\u001b[2K     \u001b[90m━━━━━━━━━━━━━━━━━━━━━━━━━━━━━━━━━━━━━━━━\u001b[0m \u001b[32m3.7/3.7 MB\u001b[0m \u001b[31m53.7 MB/s\u001b[0m eta \u001b[36m0:00:00\u001b[0m\n",
            "\u001b[?25hCollecting ipympl\n",
            "  Downloading ipympl-0.9.2-py2.py3-none-any.whl (510 kB)\n",
            "\u001b[2K     \u001b[90m━━━━━━━━━━━━━━━━━━━━━━━━━━━━━━━━━━━━━━\u001b[0m \u001b[32m510.3/510.3 KB\u001b[0m \u001b[31m21.5 MB/s\u001b[0m eta \u001b[36m0:00:00\u001b[0m\n",
            "\u001b[?25hCollecting bqplot>=0.10.1\n",
            "  Downloading bqplot-0.12.36-py2.py3-none-any.whl (1.2 MB)\n",
            "\u001b[2K     \u001b[90m━━━━━━━━━━━━━━━━━━━━━━━━━━━━━━━━━━━━━━━━\u001b[0m \u001b[32m1.2/1.2 MB\u001b[0m \u001b[31m38.1 MB/s\u001b[0m eta \u001b[36m0:00:00\u001b[0m\n",
            "\u001b[?25hRequirement already satisfied: xarray in /usr/local/lib/python3.8/dist-packages (from vaex-jupyter<0.9,>=0.8.1->vaex) (2022.12.0)\n",
            "Collecting ipyvuetify<2,>=1.2.2\n",
            "  Downloading ipyvuetify-1.8.4-py2.py3-none-any.whl (11.7 MB)\n",
            "\u001b[2K     \u001b[90m━━━━━━━━━━━━━━━━━━━━━━━━━━━━━━━━━━━━━━━━\u001b[0m \u001b[32m11.7/11.7 MB\u001b[0m \u001b[31m33.9 MB/s\u001b[0m eta \u001b[36m0:00:00\u001b[0m\n",
            "\u001b[?25hCollecting ipyvolume>=0.4\n",
            "  Downloading ipyvolume-0.5.2-py2.py3-none-any.whl (2.9 MB)\n",
            "\u001b[2K     \u001b[90m━━━━━━━━━━━━━━━━━━━━━━━━━━━━━━━━━━━━━━━━\u001b[0m \u001b[32m2.9/2.9 MB\u001b[0m \u001b[31m44.3 MB/s\u001b[0m eta \u001b[36m0:00:00\u001b[0m\n",
            "\u001b[?25hRequirement already satisfied: jinja2 in /usr/local/lib/python3.8/dist-packages (from vaex-ml<0.19,>=0.18.1->vaex) (2.11.3)\n",
            "Requirement already satisfied: numba in /usr/local/lib/python3.8/dist-packages (from vaex-ml<0.19,>=0.18.1->vaex) (0.56.4)\n",
            "Requirement already satisfied: traitlets in /usr/local/lib/python3.8/dist-packages (from vaex-ml<0.19,>=0.18.1->vaex) (5.7.1)\n",
            "Collecting uvicorn[standard]\n",
            "  Downloading uvicorn-0.20.0-py3-none-any.whl (56 kB)\n",
            "\u001b[2K     \u001b[90m━━━━━━━━━━━━━━━━━━━━━━━━━━━━━━━━━━━━━━━━\u001b[0m \u001b[32m56.9/56.9 KB\u001b[0m \u001b[31m3.0 MB/s\u001b[0m eta \u001b[36m0:00:00\u001b[0m\n",
            "\u001b[?25hRequirement already satisfied: tornado>4.1 in /usr/local/lib/python3.8/dist-packages (from vaex-server<0.9,>=0.8.1->vaex) (6.0.4)\n",
            "Collecting fastapi\n",
            "  Downloading fastapi-0.89.1-py3-none-any.whl (55 kB)\n",
            "\u001b[2K     \u001b[90m━━━━━━━━━━━━━━━━━━━━━━━━━━━━━━━━━━━━━━━━\u001b[0m \u001b[32m55.8/55.8 KB\u001b[0m \u001b[31m3.6 MB/s\u001b[0m eta \u001b[36m0:00:00\u001b[0m\n",
            "\u001b[?25hRequirement already satisfied: cachetools in /usr/local/lib/python3.8/dist-packages (from vaex-server<0.9,>=0.8.1->vaex) (5.2.0)\n",
            "Requirement already satisfied: pillow in /usr/local/lib/python3.8/dist-packages (from vaex-viz<0.6,>=0.5.4->vaex) (7.1.2)\n",
            "Requirement already satisfied: matplotlib>=1.3.1 in /usr/local/lib/python3.8/dist-packages (from vaex-viz<0.6,>=0.5.4->vaex) (3.2.2)\n",
            "Collecting traittypes>=0.0.6\n",
            "  Downloading traittypes-0.2.1-py2.py3-none-any.whl (8.6 kB)\n",
            "Requirement already satisfied: ipywidgets<9,>=7.5.0 in /usr/local/lib/python3.8/dist-packages (from bqplot>=0.10.1->vaex-jupyter<0.9,>=0.8.1->vaex) (7.7.1)\n",
            "Requirement already satisfied: partd>=0.3.10 in /usr/local/lib/python3.8/dist-packages (from dask!=2022.4.0->vaex-core<4.17,>=4.16.0->vaex) (1.3.0)\n",
            "Requirement already satisfied: fsspec>=0.6.0 in /usr/local/lib/python3.8/dist-packages (from dask!=2022.4.0->vaex-core<4.17,>=4.16.0->vaex) (2022.11.0)\n",
            "Requirement already satisfied: packaging>=20.0 in /usr/local/lib/python3.8/dist-packages (from dask!=2022.4.0->vaex-core<4.17,>=4.16.0->vaex) (21.3)\n",
            "Requirement already satisfied: toolz>=0.8.2 in /usr/local/lib/python3.8/dist-packages (from dask!=2022.4.0->vaex-core<4.17,>=4.16.0->vaex) (0.12.0)\n",
            "Collecting ipywebrtc\n",
            "  Downloading ipywebrtc-0.6.0-py2.py3-none-any.whl (260 kB)\n",
            "\u001b[2K     \u001b[90m━━━━━━━━━━━━━━━━━━━━━━━━━━━━━━━━━━━━━━\u001b[0m \u001b[32m260.7/260.7 KB\u001b[0m \u001b[31m16.8 MB/s\u001b[0m eta \u001b[36m0:00:00\u001b[0m\n",
            "\u001b[?25hCollecting pythreejs>=1.0.0\n",
            "  Downloading pythreejs-2.4.1-py3-none-any.whl (3.3 MB)\n",
            "\u001b[2K     \u001b[90m━━━━━━━━━━━━━━━━━━━━━━━━━━━━━━━━━━━━━━━━\u001b[0m \u001b[32m3.3/3.3 MB\u001b[0m \u001b[31m55.8 MB/s\u001b[0m eta \u001b[36m0:00:00\u001b[0m\n",
            "\u001b[?25hCollecting ipyvue<2,>=1.5\n",
            "  Downloading ipyvue-1.8.0-py2.py3-none-any.whl (2.7 MB)\n",
            "\u001b[2K     \u001b[90m━━━━━━━━━━━━━━━━━━━━━━━━━━━━━━━━━━━━━━━━\u001b[0m \u001b[32m2.7/2.7 MB\u001b[0m \u001b[31m58.8 MB/s\u001b[0m eta \u001b[36m0:00:00\u001b[0m\n",
            "\u001b[?25hRequirement already satisfied: pyparsing!=2.0.4,!=2.1.2,!=2.1.6,>=2.0.1 in /usr/local/lib/python3.8/dist-packages (from matplotlib>=1.3.1->vaex-viz<0.6,>=0.5.4->vaex) (3.0.9)\n",
            "Requirement already satisfied: kiwisolver>=1.0.1 in /usr/local/lib/python3.8/dist-packages (from matplotlib>=1.3.1->vaex-viz<0.6,>=0.5.4->vaex) (1.4.4)\n",
            "Requirement already satisfied: cycler>=0.10 in /usr/local/lib/python3.8/dist-packages (from matplotlib>=1.3.1->vaex-viz<0.6,>=0.5.4->vaex) (0.11.0)\n",
            "Requirement already satisfied: python-dateutil>=2.1 in /usr/local/lib/python3.8/dist-packages (from matplotlib>=1.3.1->vaex-viz<0.6,>=0.5.4->vaex) (2.8.2)\n",
            "Requirement already satisfied: pytz>=2017.3 in /usr/local/lib/python3.8/dist-packages (from pandas->vaex-core<4.17,>=4.16.0->vaex) (2022.7)\n",
            "Requirement already satisfied: typing-extensions>=4.2.0 in /usr/local/lib/python3.8/dist-packages (from pydantic>=1.8.0->vaex-core<4.17,>=4.16.0->vaex) (4.4.0)\n",
            "Requirement already satisfied: pyerfa>=1.7.3 in /usr/local/lib/python3.8/dist-packages (from astropy->vaex-astro<0.10,>=0.9.3->vaex) (2.0.0.1)\n",
            "Collecting starlette==0.22.0\n",
            "  Downloading starlette-0.22.0-py3-none-any.whl (64 kB)\n",
            "\u001b[2K     \u001b[90m━━━━━━━━━━━━━━━━━━━━━━━━━━━━━━━━━━━━━━━━\u001b[0m \u001b[32m64.3/64.3 KB\u001b[0m \u001b[31m3.9 MB/s\u001b[0m eta \u001b[36m0:00:00\u001b[0m\n",
            "\u001b[?25hCollecting anyio<5,>=3.4.0\n",
            "  Downloading anyio-3.6.2-py3-none-any.whl (80 kB)\n",
            "\u001b[2K     \u001b[90m━━━━━━━━━━━━━━━━━━━━━━━━━━━━━━━━━━━━━━━━\u001b[0m \u001b[32m80.6/80.6 KB\u001b[0m \u001b[31m4.8 MB/s\u001b[0m eta \u001b[36m0:00:00\u001b[0m\n",
            "\u001b[?25hCollecting xyzservices>=2021.8.1\n",
            "  Downloading xyzservices-2022.9.0-py3-none-any.whl (55 kB)\n",
            "\u001b[2K     \u001b[90m━━━━━━━━━━━━━━━━━━━━━━━━━━━━━━━━━━━━━━━━\u001b[0m \u001b[32m55.9/55.9 KB\u001b[0m \u001b[31m2.5 MB/s\u001b[0m eta \u001b[36m0:00:00\u001b[0m\n",
            "\u001b[?25hRequirement already satisfied: branca>=0.5.0 in /usr/local/lib/python3.8/dist-packages (from ipyleaflet->vaex-jupyter<0.9,>=0.8.1->vaex) (0.6.0)\n",
            "Requirement already satisfied: ipython-genutils in /usr/local/lib/python3.8/dist-packages (from ipympl->vaex-jupyter<0.9,>=0.8.1->vaex) (0.2.0)\n",
            "Requirement already satisfied: ipython<9 in /usr/local/lib/python3.8/dist-packages (from ipympl->vaex-jupyter<0.9,>=0.8.1->vaex) (7.9.0)\n",
            "Collecting matplotlib>=1.3.1\n",
            "  Downloading matplotlib-3.6.3-cp38-cp38-manylinux_2_12_x86_64.manylinux2010_x86_64.whl (9.4 MB)\n",
            "\u001b[2K     \u001b[90m━━━━━━━━━━━━━━━━━━━━━━━━━━━━━━━━━━━━━━━━\u001b[0m \u001b[32m9.4/9.4 MB\u001b[0m \u001b[31m25.6 MB/s\u001b[0m eta \u001b[36m0:00:00\u001b[0m\n",
            "\u001b[?25hCollecting fonttools>=4.22.0\n",
            "  Downloading fonttools-4.38.0-py3-none-any.whl (965 kB)\n",
            "\u001b[2K     \u001b[90m━━━━━━━━━━━━━━━━━━━━━━━━━━━━━━━━━━━━━━\u001b[0m \u001b[32m965.4/965.4 KB\u001b[0m \u001b[31m14.4 MB/s\u001b[0m eta \u001b[36m0:00:00\u001b[0m\n",
            "\u001b[?25hCollecting contourpy>=1.0.1\n",
            "  Downloading contourpy-1.0.7-cp38-cp38-manylinux_2_17_x86_64.manylinux2014_x86_64.whl (300 kB)\n",
            "\u001b[2K     \u001b[90m━━━━━━━━━━━━━━━━━━━━━━━━━━━━━━━━━━━━━━━\u001b[0m \u001b[32m300.0/300.0 KB\u001b[0m \u001b[31m6.6 MB/s\u001b[0m eta \u001b[36m0:00:00\u001b[0m\n",
            "\u001b[?25hRequirement already satisfied: MarkupSafe>=0.23 in /usr/local/lib/python3.8/dist-packages (from jinja2->vaex-ml<0.19,>=0.18.1->vaex) (2.0.1)\n",
            "Requirement already satisfied: setuptools in /usr/local/lib/python3.8/dist-packages (from numba->vaex-ml<0.19,>=0.18.1->vaex) (57.4.0)\n",
            "Requirement already satisfied: importlib-metadata in /usr/local/lib/python3.8/dist-packages (from numba->vaex-ml<0.19,>=0.18.1->vaex) (6.0.0)\n",
            "Requirement already satisfied: llvmlite<0.40,>=0.39.0dev0 in /usr/local/lib/python3.8/dist-packages (from numba->vaex-ml<0.19,>=0.18.1->vaex) (0.39.1)\n",
            "Requirement already satisfied: python-utils>=2.3.0 in /usr/local/lib/python3.8/dist-packages (from progressbar2->vaex-core<4.17,>=4.16.0->vaex) (3.4.5)\n",
            "Requirement already satisfied: chardet<5,>=3.0.2 in /usr/local/lib/python3.8/dist-packages (from requests->vaex-core<4.17,>=4.16.0->vaex) (4.0.0)\n",
            "Requirement already satisfied: urllib3<1.27,>=1.21.1 in /usr/local/lib/python3.8/dist-packages (from requests->vaex-core<4.17,>=4.16.0->vaex) (1.24.3)\n",
            "Requirement already satisfied: idna<3,>=2.5 in /usr/local/lib/python3.8/dist-packages (from requests->vaex-core<4.17,>=4.16.0->vaex) (2.10)\n",
            "Requirement already satisfied: certifi>=2017.4.17 in /usr/local/lib/python3.8/dist-packages (from requests->vaex-core<4.17,>=4.16.0->vaex) (2022.12.7)\n",
            "Requirement already satisfied: pygments<3.0.0,>=2.6.0 in /usr/local/lib/python3.8/dist-packages (from rich->vaex-core<4.17,>=4.16.0->vaex) (2.6.1)\n",
            "Collecting commonmark<0.10.0,>=0.9.0\n",
            "  Downloading commonmark-0.9.1-py2.py3-none-any.whl (51 kB)\n",
            "\u001b[2K     \u001b[90m━━━━━━━━━━━━━━━━━━━━━━━━━━━━━━━━━━━━━━━━\u001b[0m \u001b[32m51.1/51.1 KB\u001b[0m \u001b[31m2.7 MB/s\u001b[0m eta \u001b[36m0:00:00\u001b[0m\n",
            "\u001b[?25hRequirement already satisfied: click>=7.0 in /usr/local/lib/python3.8/dist-packages (from uvicorn[standard]->vaex-server<0.9,>=0.8.1->vaex) (7.1.2)\n",
            "Collecting h11>=0.8\n",
            "  Downloading h11-0.14.0-py3-none-any.whl (58 kB)\n",
            "\u001b[2K     \u001b[90m━━━━━━━━━━━━━━━━━━━━━━━━━━━━━━━━━━━━━━━━\u001b[0m \u001b[32m58.3/58.3 KB\u001b[0m \u001b[31m5.7 MB/s\u001b[0m eta \u001b[36m0:00:00\u001b[0m\n",
            "\u001b[?25hCollecting python-dotenv>=0.13\n",
            "  Downloading python_dotenv-0.21.0-py3-none-any.whl (18 kB)\n",
            "Collecting websockets>=10.4\n",
            "  Downloading websockets-10.4-cp38-cp38-manylinux_2_5_x86_64.manylinux1_x86_64.manylinux_2_17_x86_64.manylinux2014_x86_64.whl (106 kB)\n",
            "\u001b[2K     \u001b[90m━━━━━━━━━━━━━━━━━━━━━━━━━━━━━━━━━━━━━━━\u001b[0m \u001b[32m107.0/107.0 KB\u001b[0m \u001b[31m9.2 MB/s\u001b[0m eta \u001b[36m0:00:00\u001b[0m\n",
            "\u001b[?25hCollecting uvloop!=0.15.0,!=0.15.1,>=0.14.0\n",
            "  Downloading uvloop-0.17.0-cp38-cp38-manylinux_2_17_x86_64.manylinux2014_x86_64.whl (4.6 MB)\n",
            "\u001b[2K     \u001b[90m━━━━━━━━━━━━━━━━━━━━━━━━━━━━━━━━━━━━━━━━\u001b[0m \u001b[32m4.6/4.6 MB\u001b[0m \u001b[31m49.3 MB/s\u001b[0m eta \u001b[36m0:00:00\u001b[0m\n",
            "\u001b[?25hCollecting httptools>=0.5.0\n",
            "  Downloading httptools-0.5.0-cp38-cp38-manylinux_2_5_x86_64.manylinux1_x86_64.manylinux_2_17_x86_64.manylinux2014_x86_64.whl (427 kB)\n",
            "\u001b[2K     \u001b[90m━━━━━━━━━━━━━━━━━━━━━━━━━━━━━━━━━━━━━━\u001b[0m \u001b[32m427.8/427.8 KB\u001b[0m \u001b[31m22.1 MB/s\u001b[0m eta \u001b[36m0:00:00\u001b[0m\n",
            "\u001b[?25hCollecting watchfiles>=0.13\n",
            "  Downloading watchfiles-0.18.1-cp37-abi3-manylinux_2_17_x86_64.manylinux2014_x86_64.whl (1.2 MB)\n",
            "\u001b[2K     \u001b[90m━━━━━━━━━━━━━━━━━━━━━━━━━━━━━━━━━━━━━━━━\u001b[0m \u001b[32m1.2/1.2 MB\u001b[0m \u001b[31m26.6 MB/s\u001b[0m eta \u001b[36m0:00:00\u001b[0m\n",
            "\u001b[?25hRequirement already satisfied: pickleshare in /usr/local/lib/python3.8/dist-packages (from ipython<9->ipympl->vaex-jupyter<0.9,>=0.8.1->vaex) (0.7.5)\n",
            "Requirement already satisfied: backcall in /usr/local/lib/python3.8/dist-packages (from ipython<9->ipympl->vaex-jupyter<0.9,>=0.8.1->vaex) (0.2.0)\n",
            "Collecting jedi>=0.10\n",
            "  Downloading jedi-0.18.2-py2.py3-none-any.whl (1.6 MB)\n",
            "\u001b[2K     \u001b[90m━━━━━━━━━━━━━━━━━━━━━━━━━━━━━━━━━━━━━━━━\u001b[0m \u001b[32m1.6/1.6 MB\u001b[0m \u001b[31m26.0 MB/s\u001b[0m eta \u001b[36m0:00:00\u001b[0m\n",
            "\u001b[?25hRequirement already satisfied: pexpect in /usr/local/lib/python3.8/dist-packages (from ipython<9->ipympl->vaex-jupyter<0.9,>=0.8.1->vaex) (4.8.0)\n",
            "Requirement already satisfied: decorator in /usr/local/lib/python3.8/dist-packages (from ipython<9->ipympl->vaex-jupyter<0.9,>=0.8.1->vaex) (4.4.2)\n",
            "Requirement already satisfied: prompt-toolkit<2.1.0,>=2.0.0 in /usr/local/lib/python3.8/dist-packages (from ipython<9->ipympl->vaex-jupyter<0.9,>=0.8.1->vaex) (2.0.10)\n",
            "Requirement already satisfied: widgetsnbextension~=3.6.0 in /usr/local/lib/python3.8/dist-packages (from ipywidgets<9,>=7.5.0->bqplot>=0.10.1->vaex-jupyter<0.9,>=0.8.1->vaex) (3.6.1)\n",
            "Requirement already satisfied: jupyterlab-widgets>=1.0.0 in /usr/local/lib/python3.8/dist-packages (from ipywidgets<9,>=7.5.0->bqplot>=0.10.1->vaex-jupyter<0.9,>=0.8.1->vaex) (3.0.5)\n",
            "Requirement already satisfied: ipykernel>=4.5.1 in /usr/local/lib/python3.8/dist-packages (from ipywidgets<9,>=7.5.0->bqplot>=0.10.1->vaex-jupyter<0.9,>=0.8.1->vaex) (5.3.4)\n",
            "Requirement already satisfied: locket in /usr/local/lib/python3.8/dist-packages (from partd>=0.3.10->dask!=2022.4.0->vaex-core<4.17,>=4.16.0->vaex) (1.0.0)\n",
            "Collecting ipydatawidgets>=1.1.1\n",
            "  Downloading ipydatawidgets-4.3.2-py2.py3-none-any.whl (271 kB)\n",
            "\u001b[2K     \u001b[90m━━━━━━━━━━━━━━━━━━━━━━━━━━━━━━━━━━━━━━\u001b[0m \u001b[32m271.6/271.6 KB\u001b[0m \u001b[31m21.6 MB/s\u001b[0m eta \u001b[36m0:00:00\u001b[0m\n",
            "\u001b[?25hRequirement already satisfied: zipp>=0.5 in /usr/local/lib/python3.8/dist-packages (from importlib-metadata->numba->vaex-ml<0.19,>=0.18.1->vaex) (3.11.0)\n",
            "Collecting sniffio>=1.1\n",
            "  Downloading sniffio-1.3.0-py3-none-any.whl (10 kB)\n",
            "Requirement already satisfied: jupyter-client in /usr/local/lib/python3.8/dist-packages (from ipykernel>=4.5.1->ipywidgets<9,>=7.5.0->bqplot>=0.10.1->vaex-jupyter<0.9,>=0.8.1->vaex) (6.1.12)\n",
            "Requirement already satisfied: parso<0.9.0,>=0.8.0 in /usr/local/lib/python3.8/dist-packages (from jedi>=0.10->ipython<9->ipympl->vaex-jupyter<0.9,>=0.8.1->vaex) (0.8.3)\n",
            "Requirement already satisfied: wcwidth in /usr/local/lib/python3.8/dist-packages (from prompt-toolkit<2.1.0,>=2.0.0->ipython<9->ipympl->vaex-jupyter<0.9,>=0.8.1->vaex) (0.2.5)\n",
            "Requirement already satisfied: notebook>=4.4.1 in /usr/local/lib/python3.8/dist-packages (from widgetsnbextension~=3.6.0->ipywidgets<9,>=7.5.0->bqplot>=0.10.1->vaex-jupyter<0.9,>=0.8.1->vaex) (5.7.16)\n",
            "Requirement already satisfied: ptyprocess>=0.5 in /usr/local/lib/python3.8/dist-packages (from pexpect->ipython<9->ipympl->vaex-jupyter<0.9,>=0.8.1->vaex) (0.7.0)\n",
            "Requirement already satisfied: Send2Trash in /usr/local/lib/python3.8/dist-packages (from notebook>=4.4.1->widgetsnbextension~=3.6.0->ipywidgets<9,>=7.5.0->bqplot>=0.10.1->vaex-jupyter<0.9,>=0.8.1->vaex) (1.8.0)\n",
            "Requirement already satisfied: jupyter-core>=4.4.0 in /usr/local/lib/python3.8/dist-packages (from notebook>=4.4.1->widgetsnbextension~=3.6.0->ipywidgets<9,>=7.5.0->bqplot>=0.10.1->vaex-jupyter<0.9,>=0.8.1->vaex) (5.1.2)\n",
            "Requirement already satisfied: nbformat in /usr/local/lib/python3.8/dist-packages (from notebook>=4.4.1->widgetsnbextension~=3.6.0->ipywidgets<9,>=7.5.0->bqplot>=0.10.1->vaex-jupyter<0.9,>=0.8.1->vaex) (5.7.1)\n",
            "Requirement already satisfied: nbconvert<6.0 in /usr/local/lib/python3.8/dist-packages (from notebook>=4.4.1->widgetsnbextension~=3.6.0->ipywidgets<9,>=7.5.0->bqplot>=0.10.1->vaex-jupyter<0.9,>=0.8.1->vaex) (5.6.1)\n",
            "Requirement already satisfied: prometheus-client in /usr/local/lib/python3.8/dist-packages (from notebook>=4.4.1->widgetsnbextension~=3.6.0->ipywidgets<9,>=7.5.0->bqplot>=0.10.1->vaex-jupyter<0.9,>=0.8.1->vaex) (0.15.0)\n",
            "Requirement already satisfied: pyzmq>=17 in /usr/local/lib/python3.8/dist-packages (from notebook>=4.4.1->widgetsnbextension~=3.6.0->ipywidgets<9,>=7.5.0->bqplot>=0.10.1->vaex-jupyter<0.9,>=0.8.1->vaex) (23.2.1)\n",
            "Requirement already satisfied: terminado>=0.8.1 in /usr/local/lib/python3.8/dist-packages (from notebook>=4.4.1->widgetsnbextension~=3.6.0->ipywidgets<9,>=7.5.0->bqplot>=0.10.1->vaex-jupyter<0.9,>=0.8.1->vaex) (0.13.3)\n",
            "Requirement already satisfied: platformdirs>=2.5 in /usr/local/lib/python3.8/dist-packages (from jupyter-core>=4.4.0->notebook>=4.4.1->widgetsnbextension~=3.6.0->ipywidgets<9,>=7.5.0->bqplot>=0.10.1->vaex-jupyter<0.9,>=0.8.1->vaex) (2.6.2)\n",
            "Requirement already satisfied: testpath in /usr/local/lib/python3.8/dist-packages (from nbconvert<6.0->notebook>=4.4.1->widgetsnbextension~=3.6.0->ipywidgets<9,>=7.5.0->bqplot>=0.10.1->vaex-jupyter<0.9,>=0.8.1->vaex) (0.6.0)\n",
            "Requirement already satisfied: defusedxml in /usr/local/lib/python3.8/dist-packages (from nbconvert<6.0->notebook>=4.4.1->widgetsnbextension~=3.6.0->ipywidgets<9,>=7.5.0->bqplot>=0.10.1->vaex-jupyter<0.9,>=0.8.1->vaex) (0.7.1)\n",
            "Requirement already satisfied: entrypoints>=0.2.2 in /usr/local/lib/python3.8/dist-packages (from nbconvert<6.0->notebook>=4.4.1->widgetsnbextension~=3.6.0->ipywidgets<9,>=7.5.0->bqplot>=0.10.1->vaex-jupyter<0.9,>=0.8.1->vaex) (0.4)\n",
            "Requirement already satisfied: pandocfilters>=1.4.1 in /usr/local/lib/python3.8/dist-packages (from nbconvert<6.0->notebook>=4.4.1->widgetsnbextension~=3.6.0->ipywidgets<9,>=7.5.0->bqplot>=0.10.1->vaex-jupyter<0.9,>=0.8.1->vaex) (1.5.0)\n",
            "Requirement already satisfied: bleach in /usr/local/lib/python3.8/dist-packages (from nbconvert<6.0->notebook>=4.4.1->widgetsnbextension~=3.6.0->ipywidgets<9,>=7.5.0->bqplot>=0.10.1->vaex-jupyter<0.9,>=0.8.1->vaex) (5.0.1)\n",
            "Requirement already satisfied: mistune<2,>=0.8.1 in /usr/local/lib/python3.8/dist-packages (from nbconvert<6.0->notebook>=4.4.1->widgetsnbextension~=3.6.0->ipywidgets<9,>=7.5.0->bqplot>=0.10.1->vaex-jupyter<0.9,>=0.8.1->vaex) (0.8.4)\n",
            "Requirement already satisfied: fastjsonschema in /usr/local/lib/python3.8/dist-packages (from nbformat->notebook>=4.4.1->widgetsnbextension~=3.6.0->ipywidgets<9,>=7.5.0->bqplot>=0.10.1->vaex-jupyter<0.9,>=0.8.1->vaex) (2.16.2)\n",
            "Requirement already satisfied: jsonschema>=2.6 in /usr/local/lib/python3.8/dist-packages (from nbformat->notebook>=4.4.1->widgetsnbextension~=3.6.0->ipywidgets<9,>=7.5.0->bqplot>=0.10.1->vaex-jupyter<0.9,>=0.8.1->vaex) (4.3.3)\n",
            "Requirement already satisfied: pyrsistent!=0.17.0,!=0.17.1,!=0.17.2,>=0.14.0 in /usr/local/lib/python3.8/dist-packages (from jsonschema>=2.6->nbformat->notebook>=4.4.1->widgetsnbextension~=3.6.0->ipywidgets<9,>=7.5.0->bqplot>=0.10.1->vaex-jupyter<0.9,>=0.8.1->vaex) (0.19.3)\n",
            "Requirement already satisfied: importlib-resources>=1.4.0 in /usr/local/lib/python3.8/dist-packages (from jsonschema>=2.6->nbformat->notebook>=4.4.1->widgetsnbextension~=3.6.0->ipywidgets<9,>=7.5.0->bqplot>=0.10.1->vaex-jupyter<0.9,>=0.8.1->vaex) (5.10.2)\n",
            "Requirement already satisfied: attrs>=17.4.0 in /usr/local/lib/python3.8/dist-packages (from jsonschema>=2.6->nbformat->notebook>=4.4.1->widgetsnbextension~=3.6.0->ipywidgets<9,>=7.5.0->bqplot>=0.10.1->vaex-jupyter<0.9,>=0.8.1->vaex) (22.2.0)\n",
            "Requirement already satisfied: webencodings in /usr/local/lib/python3.8/dist-packages (from bleach->nbconvert<6.0->notebook>=4.4.1->widgetsnbextension~=3.6.0->ipywidgets<9,>=7.5.0->bqplot>=0.10.1->vaex-jupyter<0.9,>=0.8.1->vaex) (0.5.1)\n",
            "Building wheels for collected packages: aplus\n",
            "  Building wheel for aplus (setup.py) ... \u001b[?25l\u001b[?25hdone\n",
            "  Created wheel for aplus: filename=aplus-0.11.0-py3-none-any.whl size=4408 sha256=ce5501bb9f96efee6b4722d6aa952060e9dccdbf6fdd32ffb5f972f821788e9a\n",
            "  Stored in directory: /root/.cache/pip/wheels/de/93/23/3db69e1003030a764c9827dc02137119ec5e6e439afd64eebb\n",
            "Successfully built aplus\n",
            "Installing collected packages: ipywebrtc, commonmark, blake3, aplus, xyzservices, websockets, uvloop, traittypes, sniffio, rich, python-dotenv, nest-asyncio, jedi, httptools, h11, frozendict, fonttools, contourpy, uvicorn, matplotlib, anyio, watchfiles, vaex-core, starlette, vaex-viz, vaex-ml, vaex-hdf5, vaex-astro, fastapi, vaex-server, ipyvue, ipympl, ipyleaflet, ipydatawidgets, bqplot, pythreejs, ipyvuetify, ipyvolume, vaex-jupyter, vaex\n",
            "  Attempting uninstall: matplotlib\n",
            "    Found existing installation: matplotlib 3.2.2\n",
            "    Uninstalling matplotlib-3.2.2:\n",
            "      Successfully uninstalled matplotlib-3.2.2\n",
            "Successfully installed anyio-3.6.2 aplus-0.11.0 blake3-0.3.3 bqplot-0.12.36 commonmark-0.9.1 contourpy-1.0.7 fastapi-0.89.1 fonttools-4.38.0 frozendict-2.3.4 h11-0.14.0 httptools-0.5.0 ipydatawidgets-4.3.2 ipyleaflet-0.17.2 ipympl-0.9.2 ipyvolume-0.5.2 ipyvue-1.8.0 ipyvuetify-1.8.4 ipywebrtc-0.6.0 jedi-0.18.2 matplotlib-3.6.3 nest-asyncio-1.5.6 python-dotenv-0.21.0 pythreejs-2.4.1 rich-13.0.1 sniffio-1.3.0 starlette-0.22.0 traittypes-0.2.1 uvicorn-0.20.0 uvloop-0.17.0 vaex-4.16.0 vaex-astro-0.9.3 vaex-core-4.16.1 vaex-hdf5-0.14.1 vaex-jupyter-0.8.1 vaex-ml-0.18.1 vaex-server-0.8.1 vaex-viz-0.5.4 watchfiles-0.18.1 websockets-10.4 xyzservices-2022.9.0\n"
          ]
        },
        {
          "output_type": "display_data",
          "data": {
            "application/vnd.colab-display-data+json": {
              "pip_warning": {
                "packages": [
                  "matplotlib",
                  "mpl_toolkits"
                ]
              }
            }
          },
          "metadata": {}
        }
      ]
    },
    {
      "cell_type": "markdown",
      "source": [
        "**2) Import the Vaex Libraries**"
      ],
      "metadata": {
        "id": "3KaDM_GYYowF"
      }
    },
    {
      "cell_type": "code",
      "source": [
        "import vaex as vx\n",
        "import vaex.ml\n",
        "import vaex.viz as vv\n",
        "import pandas as pd "
      ],
      "metadata": {
        "id": "_FQhXcttYR14"
      },
      "execution_count": 2,
      "outputs": []
    },
    {
      "cell_type": "markdown",
      "source": [
        "**3) Download the dataset from Google Drive**"
      ],
      "metadata": {
        "id": "ue3b1THHYSs7"
      }
    },
    {
      "cell_type": "code",
      "source": [
        "# Read dataset from google drive\n",
        "!pip install -U -q PyDrive\n",
        "from pydrive.auth import GoogleAuth\n",
        "from pydrive.drive import GoogleDrive\n",
        "from google.colab import auth\n",
        "from oauth2client.client import GoogleCredentials\n",
        "\n",
        "# Authenticate and create the PyDrive client.\n",
        "auth.authenticate_user()\n",
        "gauth = GoogleAuth()\n",
        "gauth.credentials = GoogleCredentials.get_application_default()\n",
        "drive = GoogleDrive(gauth)\n",
        "link = 'https://drive.google.com/file/d/10PKFCHEW_B_4alRrDpjbA1WOsG2h4anZ/view?usp=share_link'\n",
        "# to get the id part of the file\n",
        "id = link.split(\"/\")[-2]\n",
        " \n",
        "downloaded = drive.CreateFile({'id':id})\n",
        "downloaded.GetContentFile('Rate.csv') \n",
        "downloaded.GetContentFile('Network.csv') "
      ],
      "metadata": {
        "id": "dAmdIifdsq-5",
        "colab": {
          "base_uri": "https://localhost:8080/",
          "height": 380
        },
        "outputId": "179d6344-2f4d-4d04-e77c-d7e3ac369162"
      },
      "execution_count": 3,
      "outputs": [
        {
          "output_type": "error",
          "ename": "MessageError",
          "evalue": "ignored",
          "traceback": [
            "\u001b[0;31m---------------------------------------------------------------------------\u001b[0m",
            "\u001b[0;31mMessageError\u001b[0m                              Traceback (most recent call last)",
            "\u001b[0;32m<ipython-input-3-afbbc5510b76>\u001b[0m in \u001b[0;36m<module>\u001b[0;34m\u001b[0m\n\u001b[1;32m      7\u001b[0m \u001b[0;34m\u001b[0m\u001b[0m\n\u001b[1;32m      8\u001b[0m \u001b[0;31m# Authenticate and create the PyDrive client.\u001b[0m\u001b[0;34m\u001b[0m\u001b[0;34m\u001b[0m\u001b[0;34m\u001b[0m\u001b[0m\n\u001b[0;32m----> 9\u001b[0;31m \u001b[0mauth\u001b[0m\u001b[0;34m.\u001b[0m\u001b[0mauthenticate_user\u001b[0m\u001b[0;34m(\u001b[0m\u001b[0;34m)\u001b[0m\u001b[0;34m\u001b[0m\u001b[0;34m\u001b[0m\u001b[0m\n\u001b[0m\u001b[1;32m     10\u001b[0m \u001b[0mgauth\u001b[0m \u001b[0;34m=\u001b[0m \u001b[0mGoogleAuth\u001b[0m\u001b[0;34m(\u001b[0m\u001b[0;34m)\u001b[0m\u001b[0;34m\u001b[0m\u001b[0;34m\u001b[0m\u001b[0m\n\u001b[1;32m     11\u001b[0m \u001b[0mgauth\u001b[0m\u001b[0;34m.\u001b[0m\u001b[0mcredentials\u001b[0m \u001b[0;34m=\u001b[0m \u001b[0mGoogleCredentials\u001b[0m\u001b[0;34m.\u001b[0m\u001b[0mget_application_default\u001b[0m\u001b[0;34m(\u001b[0m\u001b[0;34m)\u001b[0m\u001b[0;34m\u001b[0m\u001b[0;34m\u001b[0m\u001b[0m\n",
            "\u001b[0;32m/usr/local/lib/python3.8/dist-packages/google/colab/auth.py\u001b[0m in \u001b[0;36mauthenticate_user\u001b[0;34m(clear_output)\u001b[0m\n\u001b[1;32m    228\u001b[0m   \u001b[0;32mif\u001b[0m \u001b[0;32mnot\u001b[0m \u001b[0m_check_adc\u001b[0m\u001b[0;34m(\u001b[0m\u001b[0m_CredentialType\u001b[0m\u001b[0;34m.\u001b[0m\u001b[0mUSER\u001b[0m\u001b[0;34m)\u001b[0m\u001b[0;34m:\u001b[0m\u001b[0;34m\u001b[0m\u001b[0;34m\u001b[0m\u001b[0m\n\u001b[1;32m    229\u001b[0m     \u001b[0;32mif\u001b[0m \u001b[0muse_auth_ephem\u001b[0m\u001b[0;34m:\u001b[0m\u001b[0;34m\u001b[0m\u001b[0;34m\u001b[0m\u001b[0m\n\u001b[0;32m--> 230\u001b[0;31m       _message.blocking_request(\n\u001b[0m\u001b[1;32m    231\u001b[0m           \u001b[0;34m'request_auth'\u001b[0m\u001b[0;34m,\u001b[0m\u001b[0;34m\u001b[0m\u001b[0;34m\u001b[0m\u001b[0m\n\u001b[1;32m    232\u001b[0m           \u001b[0mrequest\u001b[0m\u001b[0;34m=\u001b[0m\u001b[0;34m{\u001b[0m\u001b[0;34m'authType'\u001b[0m\u001b[0;34m:\u001b[0m \u001b[0;34m'auth_user_ephemeral'\u001b[0m\u001b[0;34m}\u001b[0m\u001b[0;34m,\u001b[0m\u001b[0;34m\u001b[0m\u001b[0;34m\u001b[0m\u001b[0m\n",
            "\u001b[0;32m/usr/local/lib/python3.8/dist-packages/google/colab/_message.py\u001b[0m in \u001b[0;36mblocking_request\u001b[0;34m(request_type, request, timeout_sec, parent)\u001b[0m\n\u001b[1;32m    169\u001b[0m   request_id = send_request(\n\u001b[1;32m    170\u001b[0m       request_type, request, parent=parent, expect_reply=True)\n\u001b[0;32m--> 171\u001b[0;31m   \u001b[0;32mreturn\u001b[0m \u001b[0mread_reply_from_input\u001b[0m\u001b[0;34m(\u001b[0m\u001b[0mrequest_id\u001b[0m\u001b[0;34m,\u001b[0m \u001b[0mtimeout_sec\u001b[0m\u001b[0;34m)\u001b[0m\u001b[0;34m\u001b[0m\u001b[0;34m\u001b[0m\u001b[0m\n\u001b[0m",
            "\u001b[0;32m/usr/local/lib/python3.8/dist-packages/google/colab/_message.py\u001b[0m in \u001b[0;36mread_reply_from_input\u001b[0;34m(message_id, timeout_sec)\u001b[0m\n\u001b[1;32m    100\u001b[0m         reply.get('colab_msg_id') == message_id):\n\u001b[1;32m    101\u001b[0m       \u001b[0;32mif\u001b[0m \u001b[0;34m'error'\u001b[0m \u001b[0;32min\u001b[0m \u001b[0mreply\u001b[0m\u001b[0;34m:\u001b[0m\u001b[0;34m\u001b[0m\u001b[0;34m\u001b[0m\u001b[0m\n\u001b[0;32m--> 102\u001b[0;31m         \u001b[0;32mraise\u001b[0m \u001b[0mMessageError\u001b[0m\u001b[0;34m(\u001b[0m\u001b[0mreply\u001b[0m\u001b[0;34m[\u001b[0m\u001b[0;34m'error'\u001b[0m\u001b[0;34m]\u001b[0m\u001b[0;34m)\u001b[0m\u001b[0;34m\u001b[0m\u001b[0;34m\u001b[0m\u001b[0m\n\u001b[0m\u001b[1;32m    103\u001b[0m       \u001b[0;32mreturn\u001b[0m \u001b[0mreply\u001b[0m\u001b[0;34m.\u001b[0m\u001b[0mget\u001b[0m\u001b[0;34m(\u001b[0m\u001b[0;34m'data'\u001b[0m\u001b[0;34m,\u001b[0m \u001b[0;32mNone\u001b[0m\u001b[0;34m)\u001b[0m\u001b[0;34m\u001b[0m\u001b[0;34m\u001b[0m\u001b[0m\n\u001b[1;32m    104\u001b[0m \u001b[0;34m\u001b[0m\u001b[0m\n",
            "\u001b[0;31mMessageError\u001b[0m: Error: credential propagation was unsuccessful"
          ]
        }
      ]
    },
    {
      "cell_type": "markdown",
      "source": [
        "\n",
        "\n",
        "---\n",
        "\n"
      ],
      "metadata": {
        "id": "kDL51DDPqGph"
      }
    },
    {
      "cell_type": "markdown",
      "source": [
        "\n",
        "# Comparison of Vaex and Pandas"
      ],
      "metadata": {
        "id": "vUzh2zA7ZUv0"
      }
    },
    {
      "cell_type": "markdown",
      "source": [
        "**1) Reading Files**"
      ],
      "metadata": {
        "id": "AyhzAiaDpxFh"
      }
    },
    {
      "cell_type": "code",
      "source": [
        "%time pd_df = pd.read_csv('Rate.csv')"
      ],
      "metadata": {
        "id": "_bjFREfGZfoe",
        "colab": {
          "base_uri": "https://localhost:8080/"
        },
        "outputId": "31b8d406-d716-44f7-d747-57448c22176a"
      },
      "execution_count": null,
      "outputs": [
        {
          "output_type": "stream",
          "name": "stdout",
          "text": [
            "CPU times: user 31.7 s, sys: 5.97 s, total: 37.6 s\n",
            "Wall time: 40.3 s\n"
          ]
        }
      ]
    },
    {
      "cell_type": "code",
      "source": [
        "%time vaex_df = vx.open('Rate.csv') "
      ],
      "metadata": {
        "colab": {
          "base_uri": "https://localhost:8080/"
        },
        "id": "ZjM57-hzZVs6",
        "outputId": "ec5aa7e5-2e8d-46c1-c548-2a4e94c9caa7"
      },
      "execution_count": null,
      "outputs": [
        {
          "output_type": "stream",
          "name": "stdout",
          "text": [
            "CPU times: user 2.24 s, sys: 484 ms, total: 2.72 s\n",
            "Wall time: 2.73 s\n"
          ]
        }
      ]
    },
    {
      "cell_type": "markdown",
      "source": [
        "Based on the comparison above, we can see that **vaex** took only ```3.06 s``` in reading the dataset compared to **pandas** 31.4 s in terms of ```CPU times```. **Vaex** is also much faster in reading the dataset than **pandas** in terms of ```wall time```.\n",
        "\n"
      ],
      "metadata": {
        "id": "DBi2JQsh6CWp"
      }
    },
    {
      "cell_type": "markdown",
      "source": [
        "**2) Reading Multi-file**\n",
        "\n",
        "Data is frequently spread over multiple files, and you must open each one manually. This will give us troublesome and time-consuming."
      ],
      "metadata": {
        "id": "qJJhu66zK4XQ"
      }
    },
    {
      "cell_type": "code",
      "source": [
        "%time pd_df = pd.read_csv('Rate.csv')"
      ],
      "metadata": {
        "id": "e0I9XxEvLFH0",
        "colab": {
          "base_uri": "https://localhost:8080/"
        },
        "outputId": "5cff88d4-9cce-49c4-e405-ee1644f95f49"
      },
      "execution_count": null,
      "outputs": [
        {
          "output_type": "stream",
          "name": "stdout",
          "text": [
            "CPU times: user 29.7 s, sys: 6.62 s, total: 36.3 s\n",
            "Wall time: 36.4 s\n"
          ]
        }
      ]
    },
    {
      "cell_type": "code",
      "source": [
        "%time pd_df = pd.read_csv('Network.csv')"
      ],
      "metadata": {
        "id": "hsx7KGIRLE26",
        "colab": {
          "base_uri": "https://localhost:8080/"
        },
        "outputId": "aa642e6f-b1d4-4cf8-d324-d27bc37988e0"
      },
      "execution_count": null,
      "outputs": [
        {
          "output_type": "stream",
          "name": "stdout",
          "text": [
            "CPU times: user 31.3 s, sys: 6.54 s, total: 37.8 s\n",
            "Wall time: 43.3 s\n"
          ]
        }
      ]
    },
    {
      "cell_type": "markdown",
      "source": [
        "However, vaex offers the open many function, which can open a list of filenames and quickly concatenate them all into a single DataFrame."
      ],
      "metadata": {
        "id": "YwE9-wZDNoII"
      }
    },
    {
      "cell_type": "code",
      "source": [
        "%time \n",
        "vaex_df_concat = vx.open_many(['Rate.csv', 'Network.csv'])"
      ],
      "metadata": {
        "id": "6jeJvvPcIdm4",
        "colab": {
          "base_uri": "https://localhost:8080/"
        },
        "outputId": "a30cf7da-dc34-4128-bee8-be980581efbd"
      },
      "execution_count": null,
      "outputs": [
        {
          "output_type": "stream",
          "name": "stdout",
          "text": [
            "CPU times: user 3 µs, sys: 1 µs, total: 4 µs\n",
            "Wall time: 7.63 µs\n"
          ]
        }
      ]
    },
    {
      "cell_type": "markdown",
      "source": [
        "As a result, vaex can open two files in just ```microseconds``` while\n",
        "pandas need ```minutes``` to open two files separately."
      ],
      "metadata": {
        "id": "txRqTX-TMPiJ"
      }
    },
    {
      "cell_type": "markdown",
      "source": [
        "**3) Head (Vaex vs Pandas)**"
      ],
      "metadata": {
        "id": "BKavwoBxuEdJ"
      }
    },
    {
      "cell_type": "code",
      "source": [
        "%time\n",
        "head_pd = pd_df.head()"
      ],
      "metadata": {
        "id": "7n-iBo5LuMF_",
        "colab": {
          "base_uri": "https://localhost:8080/"
        },
        "outputId": "096c69d6-36bf-4b56-deae-655fc275cd99"
      },
      "execution_count": null,
      "outputs": [
        {
          "output_type": "stream",
          "name": "stdout",
          "text": [
            "CPU times: user 3 µs, sys: 1e+03 ns, total: 4 µs\n",
            "Wall time: 8.58 µs\n"
          ]
        }
      ]
    },
    {
      "cell_type": "code",
      "source": [
        "%time\n",
        "head_vaex = vaex_df.head()"
      ],
      "metadata": {
        "id": "mqaTMs8UuhUj",
        "colab": {
          "base_uri": "https://localhost:8080/"
        },
        "outputId": "247d7506-9f27-4fd8-f910-3d3eaaa80173"
      },
      "execution_count": null,
      "outputs": [
        {
          "output_type": "stream",
          "name": "stdout",
          "text": [
            "CPU times: user 4 µs, sys: 0 ns, total: 4 µs\n",
            "Wall time: 8.11 µs\n"
          ]
        }
      ]
    },
    {
      "cell_type": "markdown",
      "source": [
        "**4) Filtering Data**"
      ],
      "metadata": {
        "id": "ud_oY5ktbp_K"
      }
    },
    {
      "cell_type": "code",
      "source": [
        "%time df_filtered = pd_df[pd_df['IndividualRate']>20]"
      ],
      "metadata": {
        "id": "XbdiJRq8bsXA",
        "colab": {
          "base_uri": "https://localhost:8080/"
        },
        "outputId": "b767f1c2-5b7f-453a-950b-b014829ec71b"
      },
      "execution_count": null,
      "outputs": [
        {
          "output_type": "stream",
          "name": "stdout",
          "text": [
            "CPU times: user 1.6 s, sys: 1.22 s, total: 2.83 s\n",
            "Wall time: 2.83 s\n"
          ]
        }
      ]
    },
    {
      "cell_type": "code",
      "source": [
        "%time df_filtered=vaex_df[vaex_df['IndividualRate']>20]"
      ],
      "metadata": {
        "id": "jp-7nhcJcqA7",
        "colab": {
          "base_uri": "https://localhost:8080/"
        },
        "outputId": "baeb1471-cda7-42d7-8072-134c50f42da2"
      },
      "execution_count": null,
      "outputs": [
        {
          "output_type": "stream",
          "name": "stdout",
          "text": [
            "CPU times: user 11.8 ms, sys: 3.88 ms, total: 15.7 ms\n",
            "Wall time: 33.2 ms\n"
          ]
        }
      ]
    },
    {
      "cell_type": "markdown",
      "source": [
        "As we filter the data, we can see that **vaex** reduced the time taken from ```milliseconds``` to ```seconds```.\n",
        "\n"
      ],
      "metadata": {
        "id": "D0P3nQVl9L3q"
      }
    },
    {
      "cell_type": "markdown",
      "source": [
        "**5) Statistic Performance**"
      ],
      "metadata": {
        "id": "QVY-PkyNc3uE"
      }
    },
    {
      "cell_type": "code",
      "source": [
        "%time pd_df['IndividualRate'].mean()"
      ],
      "metadata": {
        "id": "g5CrsRnOeUGd",
        "colab": {
          "base_uri": "https://localhost:8080/"
        },
        "outputId": "44e87204-c15b-4c51-812b-94eb9b0d31a7"
      },
      "execution_count": null,
      "outputs": [
        {
          "output_type": "stream",
          "name": "stdout",
          "text": [
            "CPU times: user 42.3 ms, sys: 607 µs, total: 42.9 ms\n",
            "Wall time: 44.4 ms\n"
          ]
        },
        {
          "output_type": "execute_result",
          "data": {
            "text/plain": [
              "4098.026458591218"
            ]
          },
          "metadata": {},
          "execution_count": 13
        }
      ]
    },
    {
      "cell_type": "code",
      "source": [
        "%time vaex_df['IndividualRate'].mean()"
      ],
      "metadata": {
        "id": "yWrKQDxOc8Ps",
        "colab": {
          "base_uri": "https://localhost:8080/"
        },
        "outputId": "f4b559e1-3133-4c18-b330-2c2fec90d601"
      },
      "execution_count": null,
      "outputs": [
        {
          "output_type": "stream",
          "name": "stdout",
          "text": [
            "CPU times: user 8.66 s, sys: 1.44 s, total: 10.1 s\n",
            "Wall time: 7.44 s\n"
          ]
        },
        {
          "output_type": "execute_result",
          "data": {
            "text/plain": [
              "array(4098.02645858)"
            ]
          },
          "metadata": {},
          "execution_count": 14
        }
      ]
    },
    {
      "cell_type": "markdown",
      "source": [
        "As we use mean to perform the statistic measures, we found out that **pandas** take shorter time to perform the task than **vaex**. \n",
        "\n",
        "\n"
      ],
      "metadata": {
        "id": "4RpUnHA_9-tI"
      }
    },
    {
      "cell_type": "markdown",
      "source": [
        "**6) String Operations**"
      ],
      "metadata": {
        "id": "dC63Hj3abwNE"
      }
    },
    {
      "cell_type": "code",
      "source": [
        "%time pd_df['Tobacco'].str.lower()"
      ],
      "metadata": {
        "id": "0NU4vCipTA2D",
        "colab": {
          "base_uri": "https://localhost:8080/"
        },
        "outputId": "2ca78c60-863c-4be0-dfc7-55e73757f11e"
      },
      "execution_count": null,
      "outputs": [
        {
          "output_type": "stream",
          "name": "stdout",
          "text": [
            "CPU times: user 3.77 s, sys: 627 ms, total: 4.39 s\n",
            "Wall time: 4.92 s\n"
          ]
        },
        {
          "output_type": "execute_result",
          "data": {
            "text/plain": [
              "0           no preference\n",
              "1           no preference\n",
              "2           no preference\n",
              "3           no preference\n",
              "4           no preference\n",
              "                ...      \n",
              "12694440    no preference\n",
              "12694441    no preference\n",
              "12694442    no preference\n",
              "12694443    no preference\n",
              "12694444    no preference\n",
              "Name: Tobacco, Length: 12694445, dtype: object"
            ]
          },
          "metadata": {},
          "execution_count": 15
        }
      ]
    },
    {
      "cell_type": "markdown",
      "source": [
        "Vaex has a separate class for string functions vaex.expression.StringOperations. \n"
      ],
      "metadata": {
        "id": "bvSvGQY-cFXO"
      }
    },
    {
      "cell_type": "code",
      "source": [
        "%time vaex_df['Tobacco'].str.lower()"
      ],
      "metadata": {
        "id": "0ch7BdDxbmKg",
        "colab": {
          "base_uri": "https://localhost:8080/"
        },
        "outputId": "60f10a17-9c9c-41dd-b73a-fd55b8b3120d"
      },
      "execution_count": null,
      "outputs": [
        {
          "output_type": "stream",
          "name": "stdout",
          "text": [
            "CPU times: user 1.2 ms, sys: 0 ns, total: 1.2 ms\n",
            "Wall time: 1.21 ms\n"
          ]
        },
        {
          "output_type": "execute_result",
          "data": {
            "text/plain": [
              "Expression = str_lower(Tobacco)\n",
              "Length: 12,694,445 dtype: string (expression)\n",
              "---------------------------------------------\n",
              "       0  no preference\n",
              "       1  no preference\n",
              "       2  no preference\n",
              "       3  no preference\n",
              "       4  no preference\n",
              "          ...          \n",
              "12694440  no preference\n",
              "12694441  no preference\n",
              "12694442  no preference\n",
              "12694443  no preference\n",
              "12694444  no preference"
            ]
          },
          "metadata": {},
          "execution_count": 16
        }
      ]
    },
    {
      "cell_type": "markdown",
      "source": [
        "Using vaex.expression.StringOperations can reduce the time taken to  execute the String Operations."
      ],
      "metadata": {
        "id": "Mz_522GJchZw"
      }
    },
    {
      "cell_type": "markdown",
      "source": [
        "**7) GroupBy Function**"
      ],
      "metadata": {
        "id": "5Qpc23LrhthC"
      }
    },
    {
      "cell_type": "code",
      "source": [
        "%time pd_df.groupby('StateCode')['IndividualRate'].mean()"
      ],
      "metadata": {
        "id": "iWxJxMWVhyOB",
        "colab": {
          "base_uri": "https://localhost:8080/"
        },
        "outputId": "fbabef7f-0f7a-46b6-db3c-372f238ed1bc"
      },
      "execution_count": null,
      "outputs": [
        {
          "output_type": "stream",
          "name": "stdout",
          "text": [
            "CPU times: user 814 ms, sys: 196 ms, total: 1.01 s\n",
            "Wall time: 1.02 s\n"
          ]
        },
        {
          "output_type": "execute_result",
          "data": {
            "text/plain": [
              "StateCode\n",
              "AK     7024.934674\n",
              "AL    12131.738408\n",
              "AR    15069.197977\n",
              "AZ     3976.503845\n",
              "DE      359.123401\n",
              "FL      311.205760\n",
              "GA     6427.433659\n",
              "HI      256.341476\n",
              "IA      319.639549\n",
              "ID    18457.376815\n",
              "IL      372.445315\n",
              "IN     4855.918482\n",
              "KS    11346.758629\n",
              "LA     8716.849950\n",
              "ME      355.559184\n",
              "MI     3052.602867\n",
              "MO    12305.733324\n",
              "MS    12977.019737\n",
              "MT     5133.976639\n",
              "NC     8206.358099\n",
              "ND     7218.928421\n",
              "NE     9155.720853\n",
              "NH      351.429461\n",
              "NJ      422.017152\n",
              "NM    12148.574158\n",
              "NV      299.121995\n",
              "OH     3743.698566\n",
              "OK     5157.578136\n",
              "OR      277.150862\n",
              "PA     3746.284228\n",
              "SC     5681.339818\n",
              "SD     9836.866162\n",
              "TN     9608.466825\n",
              "TX     5709.282772\n",
              "UT     6710.920042\n",
              "VA      319.326524\n",
              "WI      477.037688\n",
              "WV      347.902542\n",
              "WY    12103.594558\n",
              "Name: IndividualRate, dtype: float64"
            ]
          },
          "metadata": {},
          "execution_count": 17
        }
      ]
    },
    {
      "cell_type": "code",
      "source": [
        "%time vaex_df.groupby(by='StateCode').agg({'IndividualRate':'mean'})"
      ],
      "metadata": {
        "id": "XSuiSZvJD9a3",
        "colab": {
          "base_uri": "https://localhost:8080/",
          "height": 311
        },
        "outputId": "69c24818-1752-4da3-ce38-6aade9b0e53f"
      },
      "execution_count": null,
      "outputs": [
        {
          "output_type": "stream",
          "name": "stdout",
          "text": [
            "CPU times: user 21.4 s, sys: 2.35 s, total: 23.8 s\n",
            "Wall time: 13.4 s\n"
          ]
        },
        {
          "output_type": "execute_result",
          "data": {
            "text/html": [
              "<table>\n",
              "<thead>\n",
              "<tr><th>#                             </th><th>StateCode  </th><th>IndividualRate    </th></tr>\n",
              "</thead>\n",
              "<tbody>\n",
              "<tr><td><i style='opacity: 0.6'>0</i> </td><td>NJ         </td><td>422.017152475854  </td></tr>\n",
              "<tr><td><i style='opacity: 0.6'>1</i> </td><td>OK         </td><td>5157.578136289506 </td></tr>\n",
              "<tr><td><i style='opacity: 0.6'>2</i> </td><td>SC         </td><td>5681.339818376415 </td></tr>\n",
              "<tr><td><i style='opacity: 0.6'>3</i> </td><td>NE         </td><td>9155.720852636192 </td></tr>\n",
              "<tr><td><i style='opacity: 0.6'>4</i> </td><td>IN         </td><td>4855.9184819586535</td></tr>\n",
              "<tr><td>...                           </td><td>...        </td><td>...               </td></tr>\n",
              "<tr><td><i style='opacity: 0.6'>34</i></td><td>AK         </td><td>7024.934674098514 </td></tr>\n",
              "<tr><td><i style='opacity: 0.6'>35</i></td><td>NC         </td><td>8206.358099093733 </td></tr>\n",
              "<tr><td><i style='opacity: 0.6'>36</i></td><td>ME         </td><td>355.5591839399675 </td></tr>\n",
              "<tr><td><i style='opacity: 0.6'>37</i></td><td>IL         </td><td>372.44531510277506</td></tr>\n",
              "<tr><td><i style='opacity: 0.6'>38</i></td><td>HI         </td><td>256.34147562582365</td></tr>\n",
              "</tbody>\n",
              "</table>"
            ],
            "text/plain": [
              "#    StateCode    IndividualRate\n",
              "0    NJ           422.017152475854\n",
              "1    OK           5157.578136289506\n",
              "2    SC           5681.339818376415\n",
              "3    NE           9155.720852636192\n",
              "4    IN           4855.9184819586535\n",
              "...  ...          ...\n",
              "34   AK           7024.934674098514\n",
              "35   NC           8206.358099093733\n",
              "36   ME           355.5591839399675\n",
              "37   IL           372.44531510277506\n",
              "38   HI           256.34147562582365"
            ]
          },
          "metadata": {},
          "execution_count": 18
        }
      ]
    },
    {
      "cell_type": "markdown",
      "source": [
        "## Comparisons (Vaex vs Pandas)"
      ],
      "metadata": {
        "id": "VB0SZ6hdasSE"
      }
    },
    {
      "cell_type": "code",
      "source": [
        "import pandas as pd\n",
        "import numpy as np\n",
        "import matplotlib.pyplot as plt\n",
        "\n",
        "function = ['Reading File', 'Reading Multi-file','Head', 'Filtering Data', 'Statistic Performance', 'String Operation', 'GroupBy']\n",
        "compare = pd.DataFrame({'Pandas': [40.3, 36.4, 0.00000858, 2.83, 44.4, 4.92, 1.02], 'Vaex': [2.73, 43.3, 0.00000811, 0.0332, 7.44, 1.21, 13.4]}, index = function)\n",
        "compare"
      ],
      "metadata": {
        "id": "az4aoMgpnVi0",
        "colab": {
          "base_uri": "https://localhost:8080/",
          "height": 269
        },
        "outputId": "63721b70-fc48-45d6-aa88-51a432905cab"
      },
      "execution_count": null,
      "outputs": [
        {
          "output_type": "execute_result",
          "data": {
            "text/plain": [
              "                          Pandas       Vaex\n",
              "Reading File           40.300000   2.730000\n",
              "Reading Multi-file     36.400000  43.300000\n",
              "Head                    0.000009   0.000008\n",
              "Filtering Data          2.830000   0.033200\n",
              "Statistic Performance  44.400000   7.440000\n",
              "String Operation        4.920000   1.210000\n",
              "GroupBy                 1.020000  13.400000"
            ],
            "text/html": [
              "\n",
              "  <div id=\"df-be1373a0-495c-4437-9880-27671ea9cc41\">\n",
              "    <div class=\"colab-df-container\">\n",
              "      <div>\n",
              "<style scoped>\n",
              "    .dataframe tbody tr th:only-of-type {\n",
              "        vertical-align: middle;\n",
              "    }\n",
              "\n",
              "    .dataframe tbody tr th {\n",
              "        vertical-align: top;\n",
              "    }\n",
              "\n",
              "    .dataframe thead th {\n",
              "        text-align: right;\n",
              "    }\n",
              "</style>\n",
              "<table border=\"1\" class=\"dataframe\">\n",
              "  <thead>\n",
              "    <tr style=\"text-align: right;\">\n",
              "      <th></th>\n",
              "      <th>Pandas</th>\n",
              "      <th>Vaex</th>\n",
              "    </tr>\n",
              "  </thead>\n",
              "  <tbody>\n",
              "    <tr>\n",
              "      <th>Reading File</th>\n",
              "      <td>40.300000</td>\n",
              "      <td>2.730000</td>\n",
              "    </tr>\n",
              "    <tr>\n",
              "      <th>Reading Multi-file</th>\n",
              "      <td>36.400000</td>\n",
              "      <td>43.300000</td>\n",
              "    </tr>\n",
              "    <tr>\n",
              "      <th>Head</th>\n",
              "      <td>0.000009</td>\n",
              "      <td>0.000008</td>\n",
              "    </tr>\n",
              "    <tr>\n",
              "      <th>Filtering Data</th>\n",
              "      <td>2.830000</td>\n",
              "      <td>0.033200</td>\n",
              "    </tr>\n",
              "    <tr>\n",
              "      <th>Statistic Performance</th>\n",
              "      <td>44.400000</td>\n",
              "      <td>7.440000</td>\n",
              "    </tr>\n",
              "    <tr>\n",
              "      <th>String Operation</th>\n",
              "      <td>4.920000</td>\n",
              "      <td>1.210000</td>\n",
              "    </tr>\n",
              "    <tr>\n",
              "      <th>GroupBy</th>\n",
              "      <td>1.020000</td>\n",
              "      <td>13.400000</td>\n",
              "    </tr>\n",
              "  </tbody>\n",
              "</table>\n",
              "</div>\n",
              "      <button class=\"colab-df-convert\" onclick=\"convertToInteractive('df-be1373a0-495c-4437-9880-27671ea9cc41')\"\n",
              "              title=\"Convert this dataframe to an interactive table.\"\n",
              "              style=\"display:none;\">\n",
              "        \n",
              "  <svg xmlns=\"http://www.w3.org/2000/svg\" height=\"24px\"viewBox=\"0 0 24 24\"\n",
              "       width=\"24px\">\n",
              "    <path d=\"M0 0h24v24H0V0z\" fill=\"none\"/>\n",
              "    <path d=\"M18.56 5.44l.94 2.06.94-2.06 2.06-.94-2.06-.94-.94-2.06-.94 2.06-2.06.94zm-11 1L8.5 8.5l.94-2.06 2.06-.94-2.06-.94L8.5 2.5l-.94 2.06-2.06.94zm10 10l.94 2.06.94-2.06 2.06-.94-2.06-.94-.94-2.06-.94 2.06-2.06.94z\"/><path d=\"M17.41 7.96l-1.37-1.37c-.4-.4-.92-.59-1.43-.59-.52 0-1.04.2-1.43.59L10.3 9.45l-7.72 7.72c-.78.78-.78 2.05 0 2.83L4 21.41c.39.39.9.59 1.41.59.51 0 1.02-.2 1.41-.59l7.78-7.78 2.81-2.81c.8-.78.8-2.07 0-2.86zM5.41 20L4 18.59l7.72-7.72 1.47 1.35L5.41 20z\"/>\n",
              "  </svg>\n",
              "      </button>\n",
              "      \n",
              "  <style>\n",
              "    .colab-df-container {\n",
              "      display:flex;\n",
              "      flex-wrap:wrap;\n",
              "      gap: 12px;\n",
              "    }\n",
              "\n",
              "    .colab-df-convert {\n",
              "      background-color: #E8F0FE;\n",
              "      border: none;\n",
              "      border-radius: 50%;\n",
              "      cursor: pointer;\n",
              "      display: none;\n",
              "      fill: #1967D2;\n",
              "      height: 32px;\n",
              "      padding: 0 0 0 0;\n",
              "      width: 32px;\n",
              "    }\n",
              "\n",
              "    .colab-df-convert:hover {\n",
              "      background-color: #E2EBFA;\n",
              "      box-shadow: 0px 1px 2px rgba(60, 64, 67, 0.3), 0px 1px 3px 1px rgba(60, 64, 67, 0.15);\n",
              "      fill: #174EA6;\n",
              "    }\n",
              "\n",
              "    [theme=dark] .colab-df-convert {\n",
              "      background-color: #3B4455;\n",
              "      fill: #D2E3FC;\n",
              "    }\n",
              "\n",
              "    [theme=dark] .colab-df-convert:hover {\n",
              "      background-color: #434B5C;\n",
              "      box-shadow: 0px 1px 3px 1px rgba(0, 0, 0, 0.15);\n",
              "      filter: drop-shadow(0px 1px 2px rgba(0, 0, 0, 0.3));\n",
              "      fill: #FFFFFF;\n",
              "    }\n",
              "  </style>\n",
              "\n",
              "      <script>\n",
              "        const buttonEl =\n",
              "          document.querySelector('#df-be1373a0-495c-4437-9880-27671ea9cc41 button.colab-df-convert');\n",
              "        buttonEl.style.display =\n",
              "          google.colab.kernel.accessAllowed ? 'block' : 'none';\n",
              "\n",
              "        async function convertToInteractive(key) {\n",
              "          const element = document.querySelector('#df-be1373a0-495c-4437-9880-27671ea9cc41');\n",
              "          const dataTable =\n",
              "            await google.colab.kernel.invokeFunction('convertToInteractive',\n",
              "                                                     [key], {});\n",
              "          if (!dataTable) return;\n",
              "\n",
              "          const docLinkHtml = 'Like what you see? Visit the ' +\n",
              "            '<a target=\"_blank\" href=https://colab.research.google.com/notebooks/data_table.ipynb>data table notebook</a>'\n",
              "            + ' to learn more about interactive tables.';\n",
              "          element.innerHTML = '';\n",
              "          dataTable['output_type'] = 'display_data';\n",
              "          await google.colab.output.renderOutput(dataTable, element);\n",
              "          const docLink = document.createElement('div');\n",
              "          docLink.innerHTML = docLinkHtml;\n",
              "          element.appendChild(docLink);\n",
              "        }\n",
              "      </script>\n",
              "    </div>\n",
              "  </div>\n",
              "  "
            ]
          },
          "metadata": {},
          "execution_count": 14
        }
      ]
    },
    {
      "cell_type": "code",
      "source": [
        "for cpr in compare.index:\n",
        "  compare.loc[cpr].plot(kind='bar', title=cpr)\n",
        "  plt.show()"
      ],
      "metadata": {
        "colab": {
          "base_uri": "https://localhost:8080/",
          "height": 1000
        },
        "id": "SzGGkUMXfSnK",
        "outputId": "1b877f7e-3c81-4d3c-ae77-4cabb2af4f18"
      },
      "execution_count": null,
      "outputs": [
        {
          "output_type": "display_data",
          "data": {
            "text/plain": [
              "<Figure size 432x288 with 1 Axes>"
            ],
            "image/png": "[encoded data removed]"
          },
          "metadata": {
            "needs_background": "light"
          }
        },
        {
          "output_type": "display_data",
          "data": {
            "text/plain": [
              "<Figure size 432x288 with 1 Axes>"
            ],
            "image/png": "[encoded data removed]"
          },
          "metadata": {
            "needs_background": "light"
          }
        },
        {
          "output_type": "display_data",
          "data": {
            "text/plain": [
              "<Figure size 432x288 with 1 Axes>"
            ],
            "image/png": "[encoded data removed]"
          },
          "metadata": {
            "needs_background": "light"
          }
        },
        {
          "output_type": "display_data",
          "data": {
            "text/plain": [
              "<Figure size 432x288 with 1 Axes>"
            ],
            "image/png": "[encoded data removed]"
          },
          "metadata": {
            "needs_background": "light"
          }
        },
        {
          "output_type": "display_data",
          "data": {
            "text/plain": [
              "<Figure size 432x288 with 1 Axes>"
            ],
            "image/png": "[encoded data removed]"
          },
          "metadata": {
            "needs_background": "light"
          }
        },
        {
          "output_type": "display_data",
          "data": {
            "text/plain": [
              "<Figure size 432x288 with 1 Axes>"
            ],
            "image/png": "[encoded data removed]"
          },
          "metadata": {
            "needs_background": "light"
          }
        },
        {
          "output_type": "display_data",
          "data": {
            "text/plain": [
              "<Figure size 432x288 with 1 Axes>"
            ],
            "image/png": "[encoded data removed]"
          },
          "metadata": {
            "needs_background": "light"
          }
        }
      ]
    },
    {
      "cell_type": "markdown",
      "source": [
        "Based on the results that we had gotten in all the function test above, we can see that for reading file in Vaex is 2.73s and Pandas is 40.3s. Whereas, for multi-file reading in Vaex is 43.3s and Pandas is 36.4s.\n",
        "\n",
        "The next part is about head for Vaex is 0.000008s vs Pandas is 0.000009s. For filtering data, Vaex got the result of 0.0332s and Pandas needed 2.83s. Then, Vaex needed only 7.44s for statistic performance but pandas needed 44.4s. \n",
        "\n",
        "Next is about string operation for Vaex is only 1.21s and Pandas needed "
      ],
      "metadata": {
        "id": "yijCODGV1Qtd"
      }
    }
  ]
}
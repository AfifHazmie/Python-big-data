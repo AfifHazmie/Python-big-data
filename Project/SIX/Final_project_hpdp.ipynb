{
  "cells": [
    {
      "cell_type": "markdown",
      "metadata": {
        "id": "view-in-github",
        "colab_type": "text"
      },
      "source": [
        "<a href=\"https://colab.research.google.com/github/drshahizan/Python-big-data/blob/main/Project/SIX/Final_project_hpdp.ipynb\" target=\"_parent\"><img src=\"https://colab.research.google.com/assets/colab-badge.svg\" alt=\"Open In Colab\"/></a>"
      ]
    },
    {
      "cell_type": "markdown",
      "source": [
        "# **NYC Parking Ticket Analysis Using 3 Different Libraries.**"
      ],
      "metadata": {
        "id": "8HfAIXrNdOBt"
      }
    },
    {
      "cell_type": "markdown",
      "metadata": {
        "id": "KZa3Yh9yHtj0"
      },
      "source": [
        "**Group Members:**\n",
        "\n",
        "<table>\n",
        "  <tr>\n",
        "    <th>Name</th>\n",
        "    <th>Matric</th>\n",
        "  </tr>\n",
        "  <tr>\n",
        "    <th>LEE MING QI</th>\n",
        "    <th>A20EC0064</th>\n",
        "  </tr>\n",
        "\n",
        "  <tr>\n",
        "    <th>AMIRAH RAIHANAH BINTI ABDUL RAHIM</th>\n",
        "    <th>A20EC0182</th>\n",
        "  </tr>\n",
        "    <tr>\n",
        "    <th>SINGTHAI SRISOI</th>\n",
        "    <th>A20EC0147</th>\n",
        "  </tr>\n",
        "    <tr>\n",
        "    <th>NUR IRDINA ALIAH BINTI ABDUL WAHAB</th>\n",
        "    <th>A20EC0115</th>\n",
        "  </tr>\n",
        "</table>\n"
      ]
    },
    {
      "cell_type": "markdown",
      "metadata": {
        "id": "zoYgPcVS0awB"
      },
      "source": [
        "**About Project:**\n",
        "\n",
        "In this project, we will analyze NYC Parking Ticket dataset by performing EDA using 3 different libraries. The libraries that will be use are Dask, Pyspark and Koalas.The dataset used can be retrieve from [Kaggle](https://www.kaggle.com/datasets/new-york-city/nyc-parking-tickets). This is a large dataset that contains 10 million rows and 51 columns with the size of 2GB. We will show each operation by using the 3 libraries stated and provide time taken needed to perform it. This will help you to evaluate which library can do it more effectively. \n",
        "This project is divided to 4 parts;\n",
        "\n",
        "\n",
        "1.   Downloading Dataset\n",
        "2.   Data Cleaning\n",
        "3.   Data Visualization\n",
        "4.   Data Questions and Answers\n",
        "5.   Findings and Analysis\n",
        "\n",
        "\n"
      ]
    },
    {
      "cell_type": "markdown",
      "metadata": {
        "id": "l1auve99Tdxz"
      },
      "source": [
        "\n",
        "\n",
        "---\n",
        "\n",
        "\n",
        "## **`Downloading the Dataset`**\n",
        "\n",
        "The NYC Department of Finance collects data on every parking ticket issued in NYC. This data is made publicly available to aid in ticket resolution and to guide policymakers. Now, we will perform EDA by first downloading the dataset from Kaggle [here](https://www.kaggle.com/datasets/new-york-city/nyc-parking-tickets).\n",
        "\n",
        "Download steps:\n",
        "1. Open [dataset link](https://www.kaggle.com/datasets/new-york-city/nyc-parking-tickets) that will be directed to the NYC Parking Ticket dataset.\n",
        "2. Download the dataset.\n",
        "3. Upload dataset into Google Drive.\n",
        "4. Get link of the dataset file in Google Drive.\n",
        "5. Import the dataset retrieve from Google Drive."
      ]
    },
    {
      "cell_type": "code",
      "execution_count": 1,
      "metadata": {
        "id": "Irz-XIEctley"
      },
      "outputs": [],
      "source": [
        "# Pull dataset from google drive\n",
        "!pip install -U -q PyDrive\n",
        "from pydrive.auth import GoogleAuth\n",
        "from pydrive.drive import GoogleDrive\n",
        "from google.colab import auth\n",
        "from oauth2client.client import GoogleCredentials\n",
        "\n",
        "# Authenticate and create the PyDrive client.\n",
        "auth.authenticate_user()\n",
        "gauth = GoogleAuth()\n",
        "gauth.credentials = GoogleCredentials.get_application_default()\n",
        "drive = GoogleDrive(gauth)\n",
        "link = 'https://drive.google.com/file/d/1TSEOGseOzszVn342YESVHk7LyjX1Qmbd/view?usp=sharing'\n",
        "# to get the id part of the file\n",
        "id = link.split(\"/\")[-2]\n",
        " \n",
        "downloaded = drive.CreateFile({'id':id})\n",
        "downloaded.GetContentFile('NYC_Parking_Ticket.csv') "
      ]
    },
    {
      "cell_type": "markdown",
      "source": [
        "\n",
        "\n",
        "---\n",
        "\n",
        "# **`Read Dataset Into Dataframe Of Each Library`**\n",
        "Steps:\n",
        "1. Install library using pip.\n",
        "2. Import the library installed.\n",
        "3. Read the csv file into dataframe."
      ],
      "metadata": {
        "id": "8scOwO3NfNjs"
      }
    },
    {
      "cell_type": "code",
      "execution_count": 2,
      "metadata": {
        "id": "eRdQNGqdhzE5"
      },
      "outputs": [],
      "source": [
        "import pandas as pd\n",
        "import numpy as np"
      ]
    },
    {
      "cell_type": "markdown",
      "source": [
        "**1. Dask**"
      ],
      "metadata": {
        "id": "8gAN8OgXfyx-"
      }
    },
    {
      "cell_type": "code",
      "execution_count": 3,
      "metadata": {
        "colab": {
          "base_uri": "https://localhost:8080/"
        },
        "id": "LP0enrrlursp",
        "outputId": "5e017d87-643a-416f-eaac-33573d86ca61"
      },
      "outputs": [
        {
          "output_type": "stream",
          "name": "stdout",
          "text": [
            "Looking in indexes: https://pypi.org/simple, https://us-python.pkg.dev/colab-wheels/public/simple/\n",
            "Requirement already satisfied: dask[complete] in /usr/local/lib/python3.8/dist-packages (2022.2.1)\n",
            "Requirement already satisfied: toolz>=0.8.2 in /usr/local/lib/python3.8/dist-packages (from dask[complete]) (0.12.0)\n",
            "Requirement already satisfied: packaging>=20.0 in /usr/local/lib/python3.8/dist-packages (from dask[complete]) (21.3)\n",
            "Requirement already satisfied: fsspec>=0.6.0 in /usr/local/lib/python3.8/dist-packages (from dask[complete]) (2022.11.0)\n",
            "Requirement already satisfied: partd>=0.3.10 in /usr/local/lib/python3.8/dist-packages (from dask[complete]) (1.3.0)\n",
            "Requirement already satisfied: cloudpickle>=1.1.1 in /usr/local/lib/python3.8/dist-packages (from dask[complete]) (2.2.0)\n",
            "Requirement already satisfied: pyyaml>=5.3.1 in /usr/local/lib/python3.8/dist-packages (from dask[complete]) (6.0)\n",
            "Requirement already satisfied: numpy>=1.18 in /usr/local/lib/python3.8/dist-packages (from dask[complete]) (1.21.6)\n",
            "Requirement already satisfied: bokeh>=2.1.1 in /usr/local/lib/python3.8/dist-packages (from dask[complete]) (2.3.3)\n",
            "Requirement already satisfied: pandas>=1.0 in /usr/local/lib/python3.8/dist-packages (from dask[complete]) (1.3.5)\n",
            "Requirement already satisfied: jinja2 in /usr/local/lib/python3.8/dist-packages (from dask[complete]) (2.11.3)\n",
            "Requirement already satisfied: distributed==2022.02.1 in /usr/local/lib/python3.8/dist-packages (from dask[complete]) (2022.2.1)\n",
            "Requirement already satisfied: click>=6.6 in /usr/local/lib/python3.8/dist-packages (from distributed==2022.02.1->dask[complete]) (7.1.2)\n",
            "Requirement already satisfied: tblib>=1.6.0 in /usr/local/lib/python3.8/dist-packages (from distributed==2022.02.1->dask[complete]) (1.7.0)\n",
            "Requirement already satisfied: zict>=0.1.3 in /usr/local/lib/python3.8/dist-packages (from distributed==2022.02.1->dask[complete]) (2.2.0)\n",
            "Requirement already satisfied: setuptools in /usr/local/lib/python3.8/dist-packages (from distributed==2022.02.1->dask[complete]) (57.4.0)\n",
            "Requirement already satisfied: msgpack>=0.6.0 in /usr/local/lib/python3.8/dist-packages (from distributed==2022.02.1->dask[complete]) (1.0.4)\n",
            "Requirement already satisfied: psutil>=5.0 in /usr/local/lib/python3.8/dist-packages (from distributed==2022.02.1->dask[complete]) (5.4.8)\n",
            "Requirement already satisfied: sortedcontainers!=2.0.0,!=2.0.1 in /usr/local/lib/python3.8/dist-packages (from distributed==2022.02.1->dask[complete]) (2.4.0)\n",
            "Requirement already satisfied: tornado>=6.0.3 in /usr/local/lib/python3.8/dist-packages (from distributed==2022.02.1->dask[complete]) (6.0.4)\n",
            "Requirement already satisfied: python-dateutil>=2.1 in /usr/local/lib/python3.8/dist-packages (from bokeh>=2.1.1->dask[complete]) (2.8.2)\n",
            "Requirement already satisfied: typing-extensions>=3.7.4 in /usr/local/lib/python3.8/dist-packages (from bokeh>=2.1.1->dask[complete]) (4.4.0)\n",
            "Requirement already satisfied: pillow>=7.1.0 in /usr/local/lib/python3.8/dist-packages (from bokeh>=2.1.1->dask[complete]) (7.1.2)\n",
            "Requirement already satisfied: MarkupSafe>=0.23 in /usr/local/lib/python3.8/dist-packages (from jinja2->dask[complete]) (2.0.1)\n",
            "Requirement already satisfied: pyparsing!=3.0.5,>=2.0.2 in /usr/local/lib/python3.8/dist-packages (from packaging>=20.0->dask[complete]) (3.0.9)\n",
            "Requirement already satisfied: pytz>=2017.3 in /usr/local/lib/python3.8/dist-packages (from pandas>=1.0->dask[complete]) (2022.7)\n",
            "Requirement already satisfied: locket in /usr/local/lib/python3.8/dist-packages (from partd>=0.3.10->dask[complete]) (1.0.0)\n",
            "Requirement already satisfied: six>=1.5 in /usr/local/lib/python3.8/dist-packages (from python-dateutil>=2.1->bokeh>=2.1.1->dask[complete]) (1.15.0)\n",
            "Requirement already satisfied: heapdict in /usr/local/lib/python3.8/dist-packages (from zict>=0.1.3->distributed==2022.02.1->dask[complete]) (1.0.1)\n"
          ]
        }
      ],
      "source": [
        "!python -m pip install \"dask[complete]\" # Install everything"
      ]
    },
    {
      "cell_type": "code",
      "execution_count": 4,
      "metadata": {
        "id": "lPD3kUWlKaSi"
      },
      "outputs": [],
      "source": [
        " #specify dtypes to prevent errors because the dataset is messy.\n",
        " dtypes={'Date First Observed': str,\n",
        "    'Days Parking In Effect    ': str,\n",
        "    'Double Parking Violation': str,\n",
        "    'Feet From Curb': np.float32,\n",
        "    'From Hours In Effect': str,\n",
        "    'House Number': str,\n",
        "    'Hydrant Violation': str,\n",
        "    'Intersecting Street': str,\n",
        "    'Issue Date': str,\n",
        "    'Issuer Code': np.float32,\n",
        "    'Issuer Command': str,\n",
        "    'Issuer Precinct': np.float32,\n",
        "    'Issuer Squad': str,\n",
        "    'Issuing Agency': str,\n",
        "    'Law Section': np.float32,\n",
        "    'Meter Number': str,\n",
        "    'No Standing or Stopping Violation': str,\n",
        "    'Plate ID': str,\n",
        "    'Plate Type': str,\n",
        "    'Registration State': str,\n",
        "    'Street Code1': np.int32,\n",
        "    'Street Code2': np.int32,\n",
        "    'Street Code3': np.int32,\n",
        "    'Street Name': str,\n",
        "    'Sub Division': str,\n",
        "    'Summons Number': np.int32,\n",
        "    'Time First Observed': str,\n",
        "    'To Hours In Effect': str,\n",
        "    'Unregistered Vehicle?': str,\n",
        "    'Vehicle Body Type': str,\n",
        "    'Vehicle Color': str,\n",
        "    'Vehicle Expiration Date': str,\n",
        "    'Vehicle Make': str,\n",
        "    'Vehicle Year': np.float32,\n",
        "    'Violation Code': np.int16,\n",
        "    'Violation County': str,\n",
        "    'Violation Description': str,\n",
        "    'Violation In Front Of Or Opposite': str,\n",
        "    'Violation Legal Code': str,\n",
        "    'Violation Location': str,\n",
        "    'Violation Post Code': str,\n",
        "    'Violation Precinct': np.float32,\n",
        "    'Violation Time': str\n",
        "}"
      ]
    },
    {
      "cell_type": "code",
      "execution_count": 5,
      "metadata": {
        "id": "83QjBRMyKUV_"
      },
      "outputs": [],
      "source": [
        "import dask.dataframe as dd"
      ]
    },
    {
      "cell_type": "code",
      "execution_count": 6,
      "metadata": {
        "colab": {
          "base_uri": "https://localhost:8080/",
          "height": 369
        },
        "id": "rrtwlyqijIIK",
        "outputId": "fff54b30-53c1-497d-959a-44a5deb8d923"
      },
      "outputs": [
        {
          "output_type": "stream",
          "name": "stdout",
          "text": [
            "CPU times: user 1.55 s, sys: 178 ms, total: 1.73 s\n",
            "Wall time: 1.76 s\n"
          ]
        },
        {
          "output_type": "execute_result",
          "data": {
            "text/plain": [
              "   Summons Number Plate ID Registration State Plate Type  Issue Date  \\\n",
              "0      1283294138  GBB9093                 NY        PAS  08/04/2013   \n",
              "1      1283294151  62416MB                 NY        COM  08/04/2013   \n",
              "2      1283294163  78755JZ                 NY        COM  08/05/2013   \n",
              "3      1283294175  63009MA                 NY        COM  08/05/2013   \n",
              "4      1283294187  91648MC                 NY        COM  08/08/2013   \n",
              "\n",
              "   Violation Code Vehicle Body Type Vehicle Make Issuing Agency  Street Code1  \\\n",
              "0              46              SUBN         AUDI              P         37250   \n",
              "1              46               VAN         FORD              P         37290   \n",
              "2              46               P-U        CHEVR              P         37030   \n",
              "3              46               VAN         FORD              P         37270   \n",
              "4              41              TRLR          GMC              P         37240   \n",
              "\n",
              "   ...  Hydrant Violation  Double Parking Violation Latitude Longitude  \\\n",
              "0  ...                NaN                       NaN      NaN       NaN   \n",
              "1  ...                NaN                       NaN      NaN       NaN   \n",
              "2  ...                NaN                       NaN      NaN       NaN   \n",
              "3  ...                NaN                       NaN      NaN       NaN   \n",
              "4  ...                NaN                       NaN      NaN       NaN   \n",
              "\n",
              "   Community Board  Community Council   Census Tract BIN BBL NTA  \n",
              "0              NaN                 NaN           NaN NaN NaN NaN  \n",
              "1              NaN                 NaN           NaN NaN NaN NaN  \n",
              "2              NaN                 NaN           NaN NaN NaN NaN  \n",
              "3              NaN                 NaN           NaN NaN NaN NaN  \n",
              "4              NaN                 NaN           NaN NaN NaN NaN  \n",
              "\n",
              "[5 rows x 51 columns]"
            ],
            "text/html": [
              "\n",
              "  <div id=\"df-8b9ee66d-67e1-4d8c-b4c3-ab3be3b4a68f\">\n",
              "    <div class=\"colab-df-container\">\n",
              "      <div>\n",
              "<style scoped>\n",
              "    .dataframe tbody tr th:only-of-type {\n",
              "        vertical-align: middle;\n",
              "    }\n",
              "\n",
              "    .dataframe tbody tr th {\n",
              "        vertical-align: top;\n",
              "    }\n",
              "\n",
              "    .dataframe thead th {\n",
              "        text-align: right;\n",
              "    }\n",
              "</style>\n",
              "<table border=\"1\" class=\"dataframe\">\n",
              "  <thead>\n",
              "    <tr style=\"text-align: right;\">\n",
              "      <th></th>\n",
              "      <th>Summons Number</th>\n",
              "      <th>Plate ID</th>\n",
              "      <th>Registration State</th>\n",
              "      <th>Plate Type</th>\n",
              "      <th>Issue Date</th>\n",
              "      <th>Violation Code</th>\n",
              "      <th>Vehicle Body Type</th>\n",
              "      <th>Vehicle Make</th>\n",
              "      <th>Issuing Agency</th>\n",
              "      <th>Street Code1</th>\n",
              "      <th>...</th>\n",
              "      <th>Hydrant Violation</th>\n",
              "      <th>Double Parking Violation</th>\n",
              "      <th>Latitude</th>\n",
              "      <th>Longitude</th>\n",
              "      <th>Community Board</th>\n",
              "      <th>Community Council</th>\n",
              "      <th>Census Tract</th>\n",
              "      <th>BIN</th>\n",
              "      <th>BBL</th>\n",
              "      <th>NTA</th>\n",
              "    </tr>\n",
              "  </thead>\n",
              "  <tbody>\n",
              "    <tr>\n",
              "      <th>0</th>\n",
              "      <td>1283294138</td>\n",
              "      <td>GBB9093</td>\n",
              "      <td>NY</td>\n",
              "      <td>PAS</td>\n",
              "      <td>08/04/2013</td>\n",
              "      <td>46</td>\n",
              "      <td>SUBN</td>\n",
              "      <td>AUDI</td>\n",
              "      <td>P</td>\n",
              "      <td>37250</td>\n",
              "      <td>...</td>\n",
              "      <td>NaN</td>\n",
              "      <td>NaN</td>\n",
              "      <td>NaN</td>\n",
              "      <td>NaN</td>\n",
              "      <td>NaN</td>\n",
              "      <td>NaN</td>\n",
              "      <td>NaN</td>\n",
              "      <td>NaN</td>\n",
              "      <td>NaN</td>\n",
              "      <td>NaN</td>\n",
              "    </tr>\n",
              "    <tr>\n",
              "      <th>1</th>\n",
              "      <td>1283294151</td>\n",
              "      <td>62416MB</td>\n",
              "      <td>NY</td>\n",
              "      <td>COM</td>\n",
              "      <td>08/04/2013</td>\n",
              "      <td>46</td>\n",
              "      <td>VAN</td>\n",
              "      <td>FORD</td>\n",
              "      <td>P</td>\n",
              "      <td>37290</td>\n",
              "      <td>...</td>\n",
              "      <td>NaN</td>\n",
              "      <td>NaN</td>\n",
              "      <td>NaN</td>\n",
              "      <td>NaN</td>\n",
              "      <td>NaN</td>\n",
              "      <td>NaN</td>\n",
              "      <td>NaN</td>\n",
              "      <td>NaN</td>\n",
              "      <td>NaN</td>\n",
              "      <td>NaN</td>\n",
              "    </tr>\n",
              "    <tr>\n",
              "      <th>2</th>\n",
              "      <td>1283294163</td>\n",
              "      <td>78755JZ</td>\n",
              "      <td>NY</td>\n",
              "      <td>COM</td>\n",
              "      <td>08/05/2013</td>\n",
              "      <td>46</td>\n",
              "      <td>P-U</td>\n",
              "      <td>CHEVR</td>\n",
              "      <td>P</td>\n",
              "      <td>37030</td>\n",
              "      <td>...</td>\n",
              "      <td>NaN</td>\n",
              "      <td>NaN</td>\n",
              "      <td>NaN</td>\n",
              "      <td>NaN</td>\n",
              "      <td>NaN</td>\n",
              "      <td>NaN</td>\n",
              "      <td>NaN</td>\n",
              "      <td>NaN</td>\n",
              "      <td>NaN</td>\n",
              "      <td>NaN</td>\n",
              "    </tr>\n",
              "    <tr>\n",
              "      <th>3</th>\n",
              "      <td>1283294175</td>\n",
              "      <td>63009MA</td>\n",
              "      <td>NY</td>\n",
              "      <td>COM</td>\n",
              "      <td>08/05/2013</td>\n",
              "      <td>46</td>\n",
              "      <td>VAN</td>\n",
              "      <td>FORD</td>\n",
              "      <td>P</td>\n",
              "      <td>37270</td>\n",
              "      <td>...</td>\n",
              "      <td>NaN</td>\n",
              "      <td>NaN</td>\n",
              "      <td>NaN</td>\n",
              "      <td>NaN</td>\n",
              "      <td>NaN</td>\n",
              "      <td>NaN</td>\n",
              "      <td>NaN</td>\n",
              "      <td>NaN</td>\n",
              "      <td>NaN</td>\n",
              "      <td>NaN</td>\n",
              "    </tr>\n",
              "    <tr>\n",
              "      <th>4</th>\n",
              "      <td>1283294187</td>\n",
              "      <td>91648MC</td>\n",
              "      <td>NY</td>\n",
              "      <td>COM</td>\n",
              "      <td>08/08/2013</td>\n",
              "      <td>41</td>\n",
              "      <td>TRLR</td>\n",
              "      <td>GMC</td>\n",
              "      <td>P</td>\n",
              "      <td>37240</td>\n",
              "      <td>...</td>\n",
              "      <td>NaN</td>\n",
              "      <td>NaN</td>\n",
              "      <td>NaN</td>\n",
              "      <td>NaN</td>\n",
              "      <td>NaN</td>\n",
              "      <td>NaN</td>\n",
              "      <td>NaN</td>\n",
              "      <td>NaN</td>\n",
              "      <td>NaN</td>\n",
              "      <td>NaN</td>\n",
              "    </tr>\n",
              "  </tbody>\n",
              "</table>\n",
              "<p>5 rows × 51 columns</p>\n",
              "</div>\n",
              "      <button class=\"colab-df-convert\" onclick=\"convertToInteractive('df-8b9ee66d-67e1-4d8c-b4c3-ab3be3b4a68f')\"\n",
              "              title=\"Convert this dataframe to an interactive table.\"\n",
              "              style=\"display:none;\">\n",
              "        \n",
              "  <svg xmlns=\"http://www.w3.org/2000/svg\" height=\"24px\"viewBox=\"0 0 24 24\"\n",
              "       width=\"24px\">\n",
              "    <path d=\"M0 0h24v24H0V0z\" fill=\"none\"/>\n",
              "    <path d=\"M18.56 5.44l.94 2.06.94-2.06 2.06-.94-2.06-.94-.94-2.06-.94 2.06-2.06.94zm-11 1L8.5 8.5l.94-2.06 2.06-.94-2.06-.94L8.5 2.5l-.94 2.06-2.06.94zm10 10l.94 2.06.94-2.06 2.06-.94-2.06-.94-.94-2.06-.94 2.06-2.06.94z\"/><path d=\"M17.41 7.96l-1.37-1.37c-.4-.4-.92-.59-1.43-.59-.52 0-1.04.2-1.43.59L10.3 9.45l-7.72 7.72c-.78.78-.78 2.05 0 2.83L4 21.41c.39.39.9.59 1.41.59.51 0 1.02-.2 1.41-.59l7.78-7.78 2.81-2.81c.8-.78.8-2.07 0-2.86zM5.41 20L4 18.59l7.72-7.72 1.47 1.35L5.41 20z\"/>\n",
              "  </svg>\n",
              "      </button>\n",
              "      \n",
              "  <style>\n",
              "    .colab-df-container {\n",
              "      display:flex;\n",
              "      flex-wrap:wrap;\n",
              "      gap: 12px;\n",
              "    }\n",
              "\n",
              "    .colab-df-convert {\n",
              "      background-color: #E8F0FE;\n",
              "      border: none;\n",
              "      border-radius: 50%;\n",
              "      cursor: pointer;\n",
              "      display: none;\n",
              "      fill: #1967D2;\n",
              "      height: 32px;\n",
              "      padding: 0 0 0 0;\n",
              "      width: 32px;\n",
              "    }\n",
              "\n",
              "    .colab-df-convert:hover {\n",
              "      background-color: #E2EBFA;\n",
              "      box-shadow: 0px 1px 2px rgba(60, 64, 67, 0.3), 0px 1px 3px 1px rgba(60, 64, 67, 0.15);\n",
              "      fill: #174EA6;\n",
              "    }\n",
              "\n",
              "    [theme=dark] .colab-df-convert {\n",
              "      background-color: #3B4455;\n",
              "      fill: #D2E3FC;\n",
              "    }\n",
              "\n",
              "    [theme=dark] .colab-df-convert:hover {\n",
              "      background-color: #434B5C;\n",
              "      box-shadow: 0px 1px 3px 1px rgba(0, 0, 0, 0.15);\n",
              "      filter: drop-shadow(0px 1px 2px rgba(0, 0, 0, 0.3));\n",
              "      fill: #FFFFFF;\n",
              "    }\n",
              "  </style>\n",
              "\n",
              "      <script>\n",
              "        const buttonEl =\n",
              "          document.querySelector('#df-8b9ee66d-67e1-4d8c-b4c3-ab3be3b4a68f button.colab-df-convert');\n",
              "        buttonEl.style.display =\n",
              "          google.colab.kernel.accessAllowed ? 'block' : 'none';\n",
              "\n",
              "        async function convertToInteractive(key) {\n",
              "          const element = document.querySelector('#df-8b9ee66d-67e1-4d8c-b4c3-ab3be3b4a68f');\n",
              "          const dataTable =\n",
              "            await google.colab.kernel.invokeFunction('convertToInteractive',\n",
              "                                                     [key], {});\n",
              "          if (!dataTable) return;\n",
              "\n",
              "          const docLinkHtml = 'Like what you see? Visit the ' +\n",
              "            '<a target=\"_blank\" href=https://colab.research.google.com/notebooks/data_table.ipynb>data table notebook</a>'\n",
              "            + ' to learn more about interactive tables.';\n",
              "          element.innerHTML = '';\n",
              "          dataTable['output_type'] = 'display_data';\n",
              "          await google.colab.output.renderOutput(dataTable, element);\n",
              "          const docLink = document.createElement('div');\n",
              "          docLink.innerHTML = docLinkHtml;\n",
              "          element.appendChild(docLink);\n",
              "        }\n",
              "      </script>\n",
              "    </div>\n",
              "  </div>\n",
              "  "
            ]
          },
          "metadata": {},
          "execution_count": 6
        }
      ],
      "source": [
        "%%time\n",
        "dfdask = dd.read_csv('NYC_Parking_Ticket.csv',dtype=dtypes)\n",
        "dfdask.head()\n",
        "       "
      ]
    },
    {
      "cell_type": "markdown",
      "source": [
        "**2. PySpark**"
      ],
      "metadata": {
        "id": "oF1rpVAGf9wp"
      }
    },
    {
      "cell_type": "code",
      "execution_count": 7,
      "metadata": {
        "colab": {
          "base_uri": "https://localhost:8080/"
        },
        "id": "lSeH5NRku3xj",
        "outputId": "d6fb4f38-a084-4e3a-c60d-4f3a66b37676"
      },
      "outputs": [
        {
          "output_type": "stream",
          "name": "stdout",
          "text": [
            "Looking in indexes: https://pypi.org/simple, https://us-python.pkg.dev/colab-wheels/public/simple/\n",
            "Collecting pyspark\n",
            "  Downloading pyspark-3.3.1.tar.gz (281.4 MB)\n",
            "\u001b[2K     \u001b[90m━━━━━━━━━━━━━━━━━━━━━━━━━━━━━━━━━━━━━━━\u001b[0m \u001b[32m281.4/281.4 MB\u001b[0m \u001b[31m4.7 MB/s\u001b[0m eta \u001b[36m0:00:00\u001b[0m\n",
            "\u001b[?25h  Preparing metadata (setup.py) ... \u001b[?25l\u001b[?25hdone\n",
            "Collecting py4j==0.10.9.5\n",
            "  Downloading py4j-0.10.9.5-py2.py3-none-any.whl (199 kB)\n",
            "\u001b[2K     \u001b[90m━━━━━━━━━━━━━━━━━━━━━━━━━━━━━━━━━━━━━━\u001b[0m \u001b[32m199.7/199.7 KB\u001b[0m \u001b[31m18.4 MB/s\u001b[0m eta \u001b[36m0:00:00\u001b[0m\n",
            "\u001b[?25hBuilding wheels for collected packages: pyspark\n",
            "  Building wheel for pyspark (setup.py) ... \u001b[?25l\u001b[?25hdone\n",
            "  Created wheel for pyspark: filename=pyspark-3.3.1-py2.py3-none-any.whl size=281845512 sha256=bc27d2c7a765f22113ac83abc307d60906ae26fae15e88ff4b501a95e68f11fd\n",
            "  Stored in directory: /root/.cache/pip/wheels/43/dc/11/ec201cd671da62fa9c5cc77078235e40722170ceba231d7598\n",
            "Successfully built pyspark\n",
            "Installing collected packages: py4j, pyspark\n",
            "Successfully installed py4j-0.10.9.5 pyspark-3.3.1\n"
          ]
        }
      ],
      "source": [
        "!pip install pyspark"
      ]
    },
    {
      "cell_type": "code",
      "execution_count": 8,
      "metadata": {
        "id": "0DP9nZxKKpK7"
      },
      "outputs": [],
      "source": [
        "from pyspark.sql import SparkSession\n",
        "import pyspark.sql.functions as func\n",
        "from pyspark.sql.types import StructType,StructField, StringType, IntegerType \n",
        "from pyspark.sql.types import ArrayType, DoubleType, BooleanType\n",
        "from pyspark.sql.functions import col,array_contains\n",
        "spark = SparkSession.builder.getOrCreate()"
      ]
    },
    {
      "cell_type": "code",
      "execution_count": 9,
      "metadata": {
        "colab": {
          "base_uri": "https://localhost:8080/"
        },
        "id": "5kXp9vdXSPXB",
        "outputId": "8af2a5ab-3786-4484-effc-5c8ae3cd86d2"
      },
      "outputs": [
        {
          "output_type": "stream",
          "name": "stdout",
          "text": [
            "+--------------+--------+------------------+----------+----------+--------------+-----------------+------------+--------------+------------+------------+------------+-----------------------+------------------+------------------+---------------+-----------+--------------+------------+--------------+-------------------+----------------+---------------------------------+------------+-----------+-------------------+-------------------+-----------+------------+--------------------+--------------------------+--------------------+------------------+-------------+---------------------+------------+------------+--------------+-------------------+---------------------+---------------------------------+-----------------+------------------------+--------+---------+---------------+------------------+------------+----+----+----+\n",
            "|Summons Number|Plate ID|Registration State|Plate Type|Issue Date|Violation Code|Vehicle Body Type|Vehicle Make|Issuing Agency|Street Code1|Street Code2|Street Code3|Vehicle Expiration Date|Violation Location|Violation Precinct|Issuer Precinct|Issuer Code|Issuer Command|Issuer Squad|Violation Time|Time First Observed|Violation County|Violation In Front Of Or Opposite|House Number|Street Name|Intersecting Street|Date First Observed|Law Section|Sub Division|Violation Legal Code|Days Parking In Effect    |From Hours In Effect|To Hours In Effect|Vehicle Color|Unregistered Vehicle?|Vehicle Year|Meter Number|Feet From Curb|Violation Post Code|Violation Description|No Standing or Stopping Violation|Hydrant Violation|Double Parking Violation|Latitude|Longitude|Community Board|Community Council |Census Tract| BIN| BBL| NTA|\n",
            "+--------------+--------+------------------+----------+----------+--------------+-----------------+------------+--------------+------------+------------+------------+-----------------------+------------------+------------------+---------------+-----------+--------------+------------+--------------+-------------------+----------------+---------------------------------+------------+-----------+-------------------+-------------------+-----------+------------+--------------------+--------------------------+--------------------+------------------+-------------+---------------------+------------+------------+--------------+-------------------+---------------------+---------------------------------+-----------------+------------------------+--------+---------+---------------+------------------+------------+----+----+----+\n",
            "|    1283294138| GBB9093|                NY|       PAS|08/04/2013|            46|             SUBN|        AUDI|             P|       37250|       13610|       21190|               20140831|                33|                33|             33|     921043|          0033|        0000|         0752A|               null|            null|                                F|         712|   W 175 ST|               null|                  0|        408|          F1|                null|                   BBBBBBB|                 ALL|               ALL|           GY|                    0|        2013|           -|             0|               null|                 null|                             null|             null|                    null|    null|     null|           null|              null|        null|null|null|null|\n",
            "|    1283294151| 62416MB|                NY|       COM|08/04/2013|            46|              VAN|        FORD|             P|       37290|       40404|       40404|               20140430|                33|                33|             33|     921043|          0033|        0000|         1240P|               null|              NY|                                O|         201|   W 177 ST|               null|                  0|        408|           C|                null|                   BBBBBBB|                 ALL|               ALL|           WH|                    0|        2012|           -|             0|               null|                 null|                             null|             null|                    null|    null|     null|           null|              null|        null|null|null|null|\n",
            "|    1283294163| 78755JZ|                NY|       COM|08/05/2013|            46|              P-U|       CHEVR|             P|       37030|       31190|       13610|               20140228|                33|                33|             33|     921043|          0033|        0000|         1243P|               null|              NY|                                O|         520|   W 163 ST|               null|                  0|        408|          F7|                null|                   BBBBBBB|                 ALL|               ALL|         null|                    0|           0|           -|             0|               null|                 null|                             null|             null|                    null|    null|     null|           null|              null|        null|null|null|null|\n",
            "|    1283294175| 63009MA|                NY|       COM|08/05/2013|            46|              VAN|        FORD|             P|       37270|       11710|       12010|               20141031|                33|                33|             33|     921043|          0033|        0000|         0232P|               null|              NY|                                O|         517|   W 176 ST|               null|                  0|        408|          F1|                null|                   BBBBBBB|                 ALL|               ALL|           WH|                    0|        2010|           -|             0|               null|                 null|                             null|             null|                    null|    null|     null|           null|              null|        null|null|null|null|\n",
            "|    1283294187| 91648MC|                NY|       COM|08/08/2013|            41|             TRLR|         GMC|             P|       37240|       12010|       31190|                      0|                33|                33|             33|     921043|          0033|        0000|         1239P|               null|              NY|                                F|         590|   W 174 ST|               null|                  0|        408|          E1|                null|                   BBBBBBB|                 ALL|               ALL|           BR|                    0|        2012|           -|             0|               null|                 null|                             null|             null|                    null|    null|     null|           null|              null|        null|null|null|null|\n",
            "+--------------+--------+------------------+----------+----------+--------------+-----------------+------------+--------------+------------+------------+------------+-----------------------+------------------+------------------+---------------+-----------+--------------+------------+--------------+-------------------+----------------+---------------------------------+------------+-----------+-------------------+-------------------+-----------+------------+--------------------+--------------------------+--------------------+------------------+-------------+---------------------+------------+------------+--------------+-------------------+---------------------+---------------------------------+-----------------+------------------------+--------+---------+---------------+------------------+------------+----+----+----+\n",
            "only showing top 5 rows\n",
            "\n",
            "CPU times: user 393 ms, sys: 55.5 ms, total: 448 ms\n",
            "Wall time: 1min 14s\n"
          ]
        }
      ],
      "source": [
        "%%time\n",
        "dfs = spark.read.options(header = \"true\", \\\n",
        "  inferSchema = \"true\",) \\\n",
        "     .csv(\"NYC_Parking_Ticket.csv\")\n",
        "dfs.show(5)"
      ]
    },
    {
      "cell_type": "markdown",
      "source": [
        "**3. Koalas**"
      ],
      "metadata": {
        "id": "oO4oj5u6gFUV"
      }
    },
    {
      "cell_type": "code",
      "execution_count": 10,
      "metadata": {
        "colab": {
          "base_uri": "https://localhost:8080/"
        },
        "id": "EJ4SuZlqYf77",
        "outputId": "21ada739-c593-45b5-a986-9b3af27f82e3"
      },
      "outputs": [
        {
          "output_type": "stream",
          "name": "stdout",
          "text": [
            "Looking in indexes: https://pypi.org/simple, https://us-python.pkg.dev/colab-wheels/public/simple/\n",
            "Collecting koalas\n",
            "  Downloading koalas-1.8.2-py3-none-any.whl (390 kB)\n",
            "\u001b[2K     \u001b[90m━━━━━━━━━━━━━━━━━━━━━━━━━━━━━━━━━━━━━━\u001b[0m \u001b[32m390.8/390.8 KB\u001b[0m \u001b[31m20.7 MB/s\u001b[0m eta \u001b[36m0:00:00\u001b[0m\n",
            "\u001b[?25hRequirement already satisfied: pandas>=0.23.2 in /usr/local/lib/python3.8/dist-packages (from koalas) (1.3.5)\n",
            "Requirement already satisfied: pyarrow>=0.10 in /usr/local/lib/python3.8/dist-packages (from koalas) (9.0.0)\n",
            "Requirement already satisfied: numpy>=1.14 in /usr/local/lib/python3.8/dist-packages (from koalas) (1.21.6)\n",
            "Requirement already satisfied: python-dateutil>=2.7.3 in /usr/local/lib/python3.8/dist-packages (from pandas>=0.23.2->koalas) (2.8.2)\n",
            "Requirement already satisfied: pytz>=2017.3 in /usr/local/lib/python3.8/dist-packages (from pandas>=0.23.2->koalas) (2022.7)\n",
            "Requirement already satisfied: six>=1.5 in /usr/local/lib/python3.8/dist-packages (from python-dateutil>=2.7.3->pandas>=0.23.2->koalas) (1.15.0)\n",
            "Installing collected packages: koalas\n",
            "Successfully installed koalas-1.8.2\n"
          ]
        }
      ],
      "source": [
        "!pip install koalas"
      ]
    },
    {
      "cell_type": "code",
      "execution_count": 11,
      "metadata": {
        "colab": {
          "base_uri": "https://localhost:8080/"
        },
        "id": "oiTZTZi7Yj0o",
        "outputId": "6a848655-12c0-414c-8793-544c44ad6d44"
      },
      "outputs": [
        {
          "output_type": "stream",
          "name": "stderr",
          "text": [
            "WARNING:root:Found pyspark version \"3.3.1\" installed. The pyspark version 3.2 and above has a built-in \"pandas APIs on Spark\" module ported from Koalas. Try `import pyspark.pandas as ps` instead. \n",
            "WARNING:root:'PYARROW_IGNORE_TIMEZONE' environment variable was not set. It is required to set this environment variable to '1' in both driver and executor sides if you use pyarrow>=2.0.0. Koalas will set it for you but it does not work if there is a Spark context already launched.\n"
          ]
        }
      ],
      "source": [
        "import databricks.koalas as ks"
      ]
    },
    {
      "cell_type": "code",
      "execution_count": 12,
      "metadata": {
        "colab": {
          "base_uri": "https://localhost:8080/",
          "height": 417
        },
        "id": "Xp-gp1vGYqOY",
        "outputId": "dc14546a-9a98-4c1a-97e0-9c1895a21860"
      },
      "outputs": [
        {
          "output_type": "stream",
          "name": "stdout",
          "text": [
            "CPU times: user 4.09 s, sys: 668 ms, total: 4.75 s\n",
            "Wall time: 1min 24s\n"
          ]
        },
        {
          "output_type": "execute_result",
          "data": {
            "text/plain": [
              "   Summons Number Plate ID Registration State Plate Type  Issue Date  Violation Code Vehicle Body Type Vehicle Make Issuing Agency  Street Code1  Street Code2  Street Code3 Vehicle Expiration Date Violation Location  Violation Precinct  Issuer Precinct  Issuer Code Issuer Command Issuer Squad Violation Time Time First Observed Violation County Violation In Front Of Or Opposite House Number Street Name Intersecting Street Date First Observed  Law Section Sub Division Violation Legal Code Days Parking In Effect     From Hours In Effect To Hours In Effect Vehicle Color Unregistered Vehicle?  Vehicle Year Meter Number  Feet From Curb Violation Post Code Violation Description No Standing or Stopping Violation Hydrant Violation Double Parking Violation Latitude Longitude Community Board Community Council  Census Tract   BIN   BBL   NTA\n",
              "0      1283294138  GBB9093                 NY        PAS  08/04/2013              46              SUBN         AUDI              P         37250         13610         21190                20140831                 33                33.0             33.0     921043.0           0033         0000          0752A                None             None                                 F          712    W 175 ST                None                   0        408.0           F1                 None                    BBBBBBB                  ALL                ALL            GY                     0        2013.0            -             0.0                None                  None                              None              None                     None     None      None            None               None         None  None  None  None\n",
              "1      1283294151  62416MB                 NY        COM  08/04/2013              46               VAN         FORD              P         37290         40404         40404                20140430                 33                33.0             33.0     921043.0           0033         0000          1240P                None               NY                                 O          201    W 177 ST                None                   0        408.0            C                 None                    BBBBBBB                  ALL                ALL            WH                     0        2012.0            -             0.0                None                  None                              None              None                     None     None      None            None               None         None  None  None  None\n",
              "2      1283294163  78755JZ                 NY        COM  08/05/2013              46               P-U        CHEVR              P         37030         31190         13610                20140228                 33                33.0             33.0     921043.0           0033         0000          1243P                None               NY                                 O          520    W 163 ST                None                   0        408.0           F7                 None                    BBBBBBB                  ALL                ALL          None                     0           0.0            -             0.0                None                  None                              None              None                     None     None      None            None               None         None  None  None  None\n",
              "3      1283294175  63009MA                 NY        COM  08/05/2013              46               VAN         FORD              P         37270         11710         12010                20141031                 33                33.0             33.0     921043.0           0033         0000          0232P                None               NY                                 O          517    W 176 ST                None                   0        408.0           F1                 None                    BBBBBBB                  ALL                ALL            WH                     0        2010.0            -             0.0                None                  None                              None              None                     None     None      None            None               None         None  None  None  None\n",
              "4      1283294187  91648MC                 NY        COM  08/08/2013              41              TRLR          GMC              P         37240         12010         31190                       0                 33                33.0             33.0     921043.0           0033         0000          1239P                None               NY                                 F          590    W 174 ST                None                   0        408.0           E1                 None                    BBBBBBB                  ALL                ALL            BR                     0        2012.0            -             0.0                None                  None                              None              None                     None     None      None            None               None         None  None  None  None"
            ],
            "text/html": [
              "<div>\n",
              "<style scoped>\n",
              "    .dataframe tbody tr th:only-of-type {\n",
              "        vertical-align: middle;\n",
              "    }\n",
              "\n",
              "    .dataframe tbody tr th {\n",
              "        vertical-align: top;\n",
              "    }\n",
              "\n",
              "    .dataframe thead th {\n",
              "        text-align: right;\n",
              "    }\n",
              "</style>\n",
              "<table border=\"1\" class=\"dataframe\">\n",
              "  <thead>\n",
              "    <tr style=\"text-align: right;\">\n",
              "      <th></th>\n",
              "      <th>Summons Number</th>\n",
              "      <th>Plate ID</th>\n",
              "      <th>Registration State</th>\n",
              "      <th>Plate Type</th>\n",
              "      <th>Issue Date</th>\n",
              "      <th>Violation Code</th>\n",
              "      <th>Vehicle Body Type</th>\n",
              "      <th>Vehicle Make</th>\n",
              "      <th>Issuing Agency</th>\n",
              "      <th>Street Code1</th>\n",
              "      <th>Street Code2</th>\n",
              "      <th>Street Code3</th>\n",
              "      <th>Vehicle Expiration Date</th>\n",
              "      <th>Violation Location</th>\n",
              "      <th>Violation Precinct</th>\n",
              "      <th>Issuer Precinct</th>\n",
              "      <th>Issuer Code</th>\n",
              "      <th>Issuer Command</th>\n",
              "      <th>Issuer Squad</th>\n",
              "      <th>Violation Time</th>\n",
              "      <th>Time First Observed</th>\n",
              "      <th>Violation County</th>\n",
              "      <th>Violation In Front Of Or Opposite</th>\n",
              "      <th>House Number</th>\n",
              "      <th>Street Name</th>\n",
              "      <th>Intersecting Street</th>\n",
              "      <th>Date First Observed</th>\n",
              "      <th>Law Section</th>\n",
              "      <th>Sub Division</th>\n",
              "      <th>Violation Legal Code</th>\n",
              "      <th>Days Parking In Effect</th>\n",
              "      <th>From Hours In Effect</th>\n",
              "      <th>To Hours In Effect</th>\n",
              "      <th>Vehicle Color</th>\n",
              "      <th>Unregistered Vehicle?</th>\n",
              "      <th>Vehicle Year</th>\n",
              "      <th>Meter Number</th>\n",
              "      <th>Feet From Curb</th>\n",
              "      <th>Violation Post Code</th>\n",
              "      <th>Violation Description</th>\n",
              "      <th>No Standing or Stopping Violation</th>\n",
              "      <th>Hydrant Violation</th>\n",
              "      <th>Double Parking Violation</th>\n",
              "      <th>Latitude</th>\n",
              "      <th>Longitude</th>\n",
              "      <th>Community Board</th>\n",
              "      <th>Community Council</th>\n",
              "      <th>Census Tract</th>\n",
              "      <th>BIN</th>\n",
              "      <th>BBL</th>\n",
              "      <th>NTA</th>\n",
              "    </tr>\n",
              "  </thead>\n",
              "  <tbody>\n",
              "    <tr>\n",
              "      <th>0</th>\n",
              "      <td>1283294138</td>\n",
              "      <td>GBB9093</td>\n",
              "      <td>NY</td>\n",
              "      <td>PAS</td>\n",
              "      <td>08/04/2013</td>\n",
              "      <td>46</td>\n",
              "      <td>SUBN</td>\n",
              "      <td>AUDI</td>\n",
              "      <td>P</td>\n",
              "      <td>37250</td>\n",
              "      <td>13610</td>\n",
              "      <td>21190</td>\n",
              "      <td>20140831</td>\n",
              "      <td>33</td>\n",
              "      <td>33.0</td>\n",
              "      <td>33.0</td>\n",
              "      <td>921043.0</td>\n",
              "      <td>0033</td>\n",
              "      <td>0000</td>\n",
              "      <td>0752A</td>\n",
              "      <td>None</td>\n",
              "      <td>None</td>\n",
              "      <td>F</td>\n",
              "      <td>712</td>\n",
              "      <td>W 175 ST</td>\n",
              "      <td>None</td>\n",
              "      <td>0</td>\n",
              "      <td>408.0</td>\n",
              "      <td>F1</td>\n",
              "      <td>None</td>\n",
              "      <td>BBBBBBB</td>\n",
              "      <td>ALL</td>\n",
              "      <td>ALL</td>\n",
              "      <td>GY</td>\n",
              "      <td>0</td>\n",
              "      <td>2013.0</td>\n",
              "      <td>-</td>\n",
              "      <td>0.0</td>\n",
              "      <td>None</td>\n",
              "      <td>None</td>\n",
              "      <td>None</td>\n",
              "      <td>None</td>\n",
              "      <td>None</td>\n",
              "      <td>None</td>\n",
              "      <td>None</td>\n",
              "      <td>None</td>\n",
              "      <td>None</td>\n",
              "      <td>None</td>\n",
              "      <td>None</td>\n",
              "      <td>None</td>\n",
              "      <td>None</td>\n",
              "    </tr>\n",
              "    <tr>\n",
              "      <th>1</th>\n",
              "      <td>1283294151</td>\n",
              "      <td>62416MB</td>\n",
              "      <td>NY</td>\n",
              "      <td>COM</td>\n",
              "      <td>08/04/2013</td>\n",
              "      <td>46</td>\n",
              "      <td>VAN</td>\n",
              "      <td>FORD</td>\n",
              "      <td>P</td>\n",
              "      <td>37290</td>\n",
              "      <td>40404</td>\n",
              "      <td>40404</td>\n",
              "      <td>20140430</td>\n",
              "      <td>33</td>\n",
              "      <td>33.0</td>\n",
              "      <td>33.0</td>\n",
              "      <td>921043.0</td>\n",
              "      <td>0033</td>\n",
              "      <td>0000</td>\n",
              "      <td>1240P</td>\n",
              "      <td>None</td>\n",
              "      <td>NY</td>\n",
              "      <td>O</td>\n",
              "      <td>201</td>\n",
              "      <td>W 177 ST</td>\n",
              "      <td>None</td>\n",
              "      <td>0</td>\n",
              "      <td>408.0</td>\n",
              "      <td>C</td>\n",
              "      <td>None</td>\n",
              "      <td>BBBBBBB</td>\n",
              "      <td>ALL</td>\n",
              "      <td>ALL</td>\n",
              "      <td>WH</td>\n",
              "      <td>0</td>\n",
              "      <td>2012.0</td>\n",
              "      <td>-</td>\n",
              "      <td>0.0</td>\n",
              "      <td>None</td>\n",
              "      <td>None</td>\n",
              "      <td>None</td>\n",
              "      <td>None</td>\n",
              "      <td>None</td>\n",
              "      <td>None</td>\n",
              "      <td>None</td>\n",
              "      <td>None</td>\n",
              "      <td>None</td>\n",
              "      <td>None</td>\n",
              "      <td>None</td>\n",
              "      <td>None</td>\n",
              "      <td>None</td>\n",
              "    </tr>\n",
              "    <tr>\n",
              "      <th>2</th>\n",
              "      <td>1283294163</td>\n",
              "      <td>78755JZ</td>\n",
              "      <td>NY</td>\n",
              "      <td>COM</td>\n",
              "      <td>08/05/2013</td>\n",
              "      <td>46</td>\n",
              "      <td>P-U</td>\n",
              "      <td>CHEVR</td>\n",
              "      <td>P</td>\n",
              "      <td>37030</td>\n",
              "      <td>31190</td>\n",
              "      <td>13610</td>\n",
              "      <td>20140228</td>\n",
              "      <td>33</td>\n",
              "      <td>33.0</td>\n",
              "      <td>33.0</td>\n",
              "      <td>921043.0</td>\n",
              "      <td>0033</td>\n",
              "      <td>0000</td>\n",
              "      <td>1243P</td>\n",
              "      <td>None</td>\n",
              "      <td>NY</td>\n",
              "      <td>O</td>\n",
              "      <td>520</td>\n",
              "      <td>W 163 ST</td>\n",
              "      <td>None</td>\n",
              "      <td>0</td>\n",
              "      <td>408.0</td>\n",
              "      <td>F7</td>\n",
              "      <td>None</td>\n",
              "      <td>BBBBBBB</td>\n",
              "      <td>ALL</td>\n",
              "      <td>ALL</td>\n",
              "      <td>None</td>\n",
              "      <td>0</td>\n",
              "      <td>0.0</td>\n",
              "      <td>-</td>\n",
              "      <td>0.0</td>\n",
              "      <td>None</td>\n",
              "      <td>None</td>\n",
              "      <td>None</td>\n",
              "      <td>None</td>\n",
              "      <td>None</td>\n",
              "      <td>None</td>\n",
              "      <td>None</td>\n",
              "      <td>None</td>\n",
              "      <td>None</td>\n",
              "      <td>None</td>\n",
              "      <td>None</td>\n",
              "      <td>None</td>\n",
              "      <td>None</td>\n",
              "    </tr>\n",
              "    <tr>\n",
              "      <th>3</th>\n",
              "      <td>1283294175</td>\n",
              "      <td>63009MA</td>\n",
              "      <td>NY</td>\n",
              "      <td>COM</td>\n",
              "      <td>08/05/2013</td>\n",
              "      <td>46</td>\n",
              "      <td>VAN</td>\n",
              "      <td>FORD</td>\n",
              "      <td>P</td>\n",
              "      <td>37270</td>\n",
              "      <td>11710</td>\n",
              "      <td>12010</td>\n",
              "      <td>20141031</td>\n",
              "      <td>33</td>\n",
              "      <td>33.0</td>\n",
              "      <td>33.0</td>\n",
              "      <td>921043.0</td>\n",
              "      <td>0033</td>\n",
              "      <td>0000</td>\n",
              "      <td>0232P</td>\n",
              "      <td>None</td>\n",
              "      <td>NY</td>\n",
              "      <td>O</td>\n",
              "      <td>517</td>\n",
              "      <td>W 176 ST</td>\n",
              "      <td>None</td>\n",
              "      <td>0</td>\n",
              "      <td>408.0</td>\n",
              "      <td>F1</td>\n",
              "      <td>None</td>\n",
              "      <td>BBBBBBB</td>\n",
              "      <td>ALL</td>\n",
              "      <td>ALL</td>\n",
              "      <td>WH</td>\n",
              "      <td>0</td>\n",
              "      <td>2010.0</td>\n",
              "      <td>-</td>\n",
              "      <td>0.0</td>\n",
              "      <td>None</td>\n",
              "      <td>None</td>\n",
              "      <td>None</td>\n",
              "      <td>None</td>\n",
              "      <td>None</td>\n",
              "      <td>None</td>\n",
              "      <td>None</td>\n",
              "      <td>None</td>\n",
              "      <td>None</td>\n",
              "      <td>None</td>\n",
              "      <td>None</td>\n",
              "      <td>None</td>\n",
              "      <td>None</td>\n",
              "    </tr>\n",
              "    <tr>\n",
              "      <th>4</th>\n",
              "      <td>1283294187</td>\n",
              "      <td>91648MC</td>\n",
              "      <td>NY</td>\n",
              "      <td>COM</td>\n",
              "      <td>08/08/2013</td>\n",
              "      <td>41</td>\n",
              "      <td>TRLR</td>\n",
              "      <td>GMC</td>\n",
              "      <td>P</td>\n",
              "      <td>37240</td>\n",
              "      <td>12010</td>\n",
              "      <td>31190</td>\n",
              "      <td>0</td>\n",
              "      <td>33</td>\n",
              "      <td>33.0</td>\n",
              "      <td>33.0</td>\n",
              "      <td>921043.0</td>\n",
              "      <td>0033</td>\n",
              "      <td>0000</td>\n",
              "      <td>1239P</td>\n",
              "      <td>None</td>\n",
              "      <td>NY</td>\n",
              "      <td>F</td>\n",
              "      <td>590</td>\n",
              "      <td>W 174 ST</td>\n",
              "      <td>None</td>\n",
              "      <td>0</td>\n",
              "      <td>408.0</td>\n",
              "      <td>E1</td>\n",
              "      <td>None</td>\n",
              "      <td>BBBBBBB</td>\n",
              "      <td>ALL</td>\n",
              "      <td>ALL</td>\n",
              "      <td>BR</td>\n",
              "      <td>0</td>\n",
              "      <td>2012.0</td>\n",
              "      <td>-</td>\n",
              "      <td>0.0</td>\n",
              "      <td>None</td>\n",
              "      <td>None</td>\n",
              "      <td>None</td>\n",
              "      <td>None</td>\n",
              "      <td>None</td>\n",
              "      <td>None</td>\n",
              "      <td>None</td>\n",
              "      <td>None</td>\n",
              "      <td>None</td>\n",
              "      <td>None</td>\n",
              "      <td>None</td>\n",
              "      <td>None</td>\n",
              "      <td>None</td>\n",
              "    </tr>\n",
              "  </tbody>\n",
              "</table>\n",
              "</div>"
            ]
          },
          "metadata": {},
          "execution_count": 12
        }
      ],
      "source": [
        "%%time\n",
        "dfk = ks.read_csv('NYC_Parking_Ticket.csv',dtype=dtypes)\n",
        "dfk.head()"
      ]
    },
    {
      "cell_type": "markdown",
      "source": [
        ">**Findings ▶** \n",
        "All library has different way of importing the dataset and requires different functions to run it.\n",
        "1. Dask 🕔\n",
        "Dask is the fastest way to read the data by taking **1.79s** but we have to initialize its dtype. This is because there are a lot of mismatched data type in the dataset. It requires to import **dask.dataframe** in order to read it in dataframe. The function used is common like Pandas which is **read.csv()**.\n",
        "\n",
        ">2. PySpark 🕔\n",
        "Pyspark took a long time to read the dataset which is **1min 10s**. In pyspark, there is no need to initialize dtype because we can set **inferSchema = True** and it will assign the correct dtype. The function used is different from common Pandas which is **spark.read.options.**\n",
        "\n",
        ">3. Koalas 🕔\n",
        "Koalas took the **longest time** compared to Dask and PySpark which is **1min 10s**.\n",
        "Most of Koalas funtions are the same with common Pandas which in this case we use **read.csv()** to read the data into dataframe.\n"
      ],
      "metadata": {
        "id": "ravLDg76gOKi"
      }
    },
    {
      "cell_type": "markdown",
      "source": [
        "\n",
        "\n",
        "---\n",
        "\n",
        "\n",
        "\n",
        "---\n",
        "\n"
      ],
      "metadata": {
        "id": "GuRVZHYVkaH-"
      }
    },
    {
      "cell_type": "markdown",
      "metadata": {
        "id": "qK3CFwjATlIc"
      },
      "source": [
        "# **`Data Preparation and Cleaning`**"
      ]
    },
    {
      "cell_type": "markdown",
      "source": [
        "The dataset contains 10 million rows and 51 columns of records which has a lot of missing data, mismatched data, unused columns and other mess that need to be clean. Before we can analyze the data, we must clean the data to obtain an accurate analysis. Now, we will perform data cleaning using 3 different libraries and evaluate which library does it more effectively."
      ],
      "metadata": {
        "id": "ONd9mheRkfdT"
      }
    },
    {
      "cell_type": "markdown",
      "metadata": {
        "id": "lyPx7o7ioIeG"
      },
      "source": [
        "## **`Step 1: Checking dataframe size to ensure all libraries read the same number of records.`**"
      ]
    },
    {
      "cell_type": "markdown",
      "metadata": {
        "id": "QKXob7WFoVFB"
      },
      "source": [
        "**1. Dask**"
      ]
    },
    {
      "cell_type": "code",
      "execution_count": 13,
      "metadata": {
        "colab": {
          "base_uri": "https://localhost:8080/"
        },
        "id": "KcRRKBO49Iw4",
        "outputId": "b4448e9c-cd97-4119-e8cb-cbaa32a6c747"
      },
      "outputs": [
        {
          "output_type": "stream",
          "name": "stdout",
          "text": [
            "CPU times: user 8.2 ms, sys: 0 ns, total: 8.2 ms\n",
            "Wall time: 8.28 ms\n"
          ]
        },
        {
          "output_type": "execute_result",
          "data": {
            "text/plain": [
              "(Delayed('int-5a52d29a-01b3-4373-a665-e7a494ecf4ab'), 51)"
            ]
          },
          "metadata": {},
          "execution_count": 13
        }
      ],
      "source": [
        "%%time\n",
        "dfdask.shape"
      ]
    },
    {
      "cell_type": "markdown",
      "metadata": {
        "id": "ZhbXkeeSoY9g"
      },
      "source": [
        "**2. PySpark**"
      ]
    },
    {
      "cell_type": "code",
      "execution_count": 14,
      "metadata": {
        "colab": {
          "base_uri": "https://localhost:8080/"
        },
        "id": "WNAc528t_MVx",
        "outputId": "3236c074-7828-418e-c3ad-17fb61ea792a"
      },
      "outputs": [
        {
          "output_type": "stream",
          "name": "stdout",
          "text": [
            "9100278 , 51\n",
            "CPU times: user 49.5 ms, sys: 3.35 ms, total: 52.8 ms\n",
            "Wall time: 6.77 s\n"
          ]
        }
      ],
      "source": [
        "%%time\n",
        "rows = dfs.count()\n",
        "cols = len(dfs.columns)\n",
        "print (rows, \",\" ,cols)\n"
      ]
    },
    {
      "cell_type": "markdown",
      "metadata": {
        "id": "5eYkoy20of6Y"
      },
      "source": [
        "**3. Koalas**"
      ]
    },
    {
      "cell_type": "code",
      "execution_count": 15,
      "metadata": {
        "colab": {
          "base_uri": "https://localhost:8080/"
        },
        "id": "58MsbBOvjCPR",
        "outputId": "1739e7b9-8002-45fa-9299-cc6582b3b311"
      },
      "outputs": [
        {
          "output_type": "stream",
          "name": "stdout",
          "text": [
            "CPU times: user 56.3 ms, sys: 4.69 ms, total: 61 ms\n",
            "Wall time: 9.66 s\n"
          ]
        },
        {
          "output_type": "execute_result",
          "data": {
            "text/plain": [
              "(9100278, 51)"
            ]
          },
          "metadata": {},
          "execution_count": 15
        }
      ],
      "source": [
        "%%time\n",
        "dfk.shape"
      ]
    },
    {
      "cell_type": "markdown",
      "source": [
        ">**Findings ▶** \n",
        "All libraries managed to read the same no of rows and columns which are **9100278 rows and 51 columns**. To find the number and columns read by all libraries, **Dask and Koalas** use the same method which is **dataframe.shape**. Meanwhile, **Pyspark** is different and it **uses count to find rows and cols for columns**.\n",
        "\n",
        ">1. Dask 🕔\n",
        "Dask is the fastest way to find number of rows and columns by taking **9.06ms**.\n",
        "\n",
        ">2. PySpark 🕔\n",
        "PySpark comes next as it took **6.47s** to find number of rows and columns.\n",
        "\n",
        ">3. Koalas 🕔\n",
        "Koalas took the **longest time** compared to Dask and PySpark which is **9.49s**.\n"
      ],
      "metadata": {
        "id": "V4FUbWm_lcri"
      }
    },
    {
      "cell_type": "markdown",
      "metadata": {
        "id": "a5xZvll1j0_U"
      },
      "source": [
        "\n",
        "\n",
        "---\n",
        "\n",
        "\n",
        "\n",
        "---\n",
        "\n"
      ]
    },
    {
      "cell_type": "markdown",
      "metadata": {
        "id": "TdAoY3FL0QRY"
      },
      "source": [
        "## **`Step 2: Check and drop column that has more than 80% missing values.`**\n",
        "\n"
      ]
    },
    {
      "cell_type": "markdown",
      "source": [
        "This dataset contains a lot of missing and null values and certain columns have no values at all. Anyhow, dropping all missing values is not recommended as it will lose a lot of records. Some null values can be change to 0, for example column `Feet From Curb` because the attribute may not be collected but the parking ticket is still valid.In order to get a clean data, we must drop the columns and change the null values to get consistent result for our analysis.\n",
        "\n",
        "Steps:\n",
        "1. Check number of Nan values.\n",
        "2. Drop columns that have more than 80% Nan values.\n",
        "3. Fill in the rest of Nan values with 0.\n",
        "4. Check if there is any Nan values left."
      ],
      "metadata": {
        "id": "uYOeFJk4nThx"
      }
    },
    {
      "cell_type": "markdown",
      "metadata": {
        "id": "FtS_WpQW0bs7"
      },
      "source": [
        "**1. Dask**"
      ]
    },
    {
      "cell_type": "code",
      "execution_count": 16,
      "metadata": {
        "colab": {
          "base_uri": "https://localhost:8080/"
        },
        "id": "TqyLl5YSkpjq",
        "outputId": "7636ef60-52eb-4846-ecfa-4f7a075df510"
      },
      "outputs": [
        {
          "output_type": "stream",
          "name": "stdout",
          "text": [
            "CPU times: user 1min 13s, sys: 2.55 s, total: 1min 15s\n",
            "Wall time: 1min 3s\n"
          ]
        },
        {
          "output_type": "execute_result",
          "data": {
            "text/plain": [
              "Summons Number                             0\n",
              "Plate ID                                3612\n",
              "Registration State                         0\n",
              "Plate Type                                 0\n",
              "Issue Date                                 0\n",
              "Violation Code                             0\n",
              "Vehicle Body Type                     111377\n",
              "Vehicle Make                           63273\n",
              "Issuing Agency                             0\n",
              "Street Code1                               0\n",
              "Street Code2                               0\n",
              "Street Code3                               0\n",
              "Vehicle Expiration Date                    0\n",
              "Violation Location                    671170\n",
              "Violation Precinct                         0\n",
              "Issuer Precinct                            0\n",
              "Issuer Code                                0\n",
              "Issuer Command                        654437\n",
              "Issuer Squad                          654437\n",
              "Violation Time                          2074\n",
              "Time First Observed                  8080301\n",
              "Violation County                      705205\n",
              "Violation In Front Of Or Opposite     769191\n",
              "House Number                          856317\n",
              "Street Name                             4904\n",
              "Intersecting Street                  7217042\n",
              "Date First Observed                        1\n",
              "Law Section                                1\n",
              "Sub Division                             247\n",
              "Violation Legal Code                 8443774\n",
              "Days Parking In Effect               1415127\n",
              "From Hours In Effect                 3363269\n",
              "To Hours In Effect                   3363269\n",
              "Vehicle Color                          72460\n",
              "Unregistered Vehicle?                7868632\n",
              "Vehicle Year                               1\n",
              "Meter Number                         7053456\n",
              "Feet From Curb                             1\n",
              "Violation Post Code                  1884023\n",
              "Violation Description                1231653\n",
              "No Standing or Stopping Violation    9100278\n",
              "Hydrant Violation                    9100278\n",
              "Double Parking Violation             9100278\n",
              "Latitude                             9100278\n",
              "Longitude                            9100278\n",
              "Community Board                      9100278\n",
              "Community Council                    9100278\n",
              "Census Tract                         9100278\n",
              "BIN                                  9100278\n",
              "BBL                                  9100278\n",
              "NTA                                  9100278\n",
              "dtype: int64"
            ]
          },
          "metadata": {},
          "execution_count": 16
        }
      ],
      "source": [
        "#check number of nan values\n",
        "%%time\n",
        "dfdask.isnull().sum().compute()\n"
      ]
    },
    {
      "cell_type": "code",
      "execution_count": 17,
      "metadata": {
        "colab": {
          "base_uri": "https://localhost:8080/",
          "height": 386
        },
        "id": "6upxXr544F4C",
        "outputId": "7638f971-263f-41e2-9272-4b4bdb0bee4a"
      },
      "outputs": [
        {
          "output_type": "stream",
          "name": "stdout",
          "text": [
            "CPU times: user 1.48 s, sys: 72.3 ms, total: 1.55 s\n",
            "Wall time: 1.56 s\n"
          ]
        },
        {
          "output_type": "execute_result",
          "data": {
            "text/plain": [
              "   Summons Number Plate ID Registration State Plate Type  Issue Date  \\\n",
              "0      1283294138  GBB9093                 NY        PAS  08/04/2013   \n",
              "1      1283294151  62416MB                 NY        COM  08/04/2013   \n",
              "2      1283294163  78755JZ                 NY        COM  08/05/2013   \n",
              "3      1283294175  63009MA                 NY        COM  08/05/2013   \n",
              "4      1283294187  91648MC                 NY        COM  08/08/2013   \n",
              "\n",
              "   Violation Code Vehicle Body Type Vehicle Make Issuing Agency  Street Code1  \\\n",
              "0              46              SUBN         AUDI              P         37250   \n",
              "1              46               VAN         FORD              P         37290   \n",
              "2              46               P-U        CHEVR              P         37030   \n",
              "3              46               VAN         FORD              P         37270   \n",
              "4              41              TRLR          GMC              P         37240   \n",
              "\n",
              "   ...  Sub Division  Days Parking In Effect     From Hours In Effect  \\\n",
              "0  ...            F1                     BBBBBBB                  ALL   \n",
              "1  ...             C                     BBBBBBB                  ALL   \n",
              "2  ...            F7                     BBBBBBB                  ALL   \n",
              "3  ...            F1                     BBBBBBB                  ALL   \n",
              "4  ...            E1                     BBBBBBB                  ALL   \n",
              "\n",
              "  To Hours In Effect  Vehicle Color  Vehicle Year  Meter Number  \\\n",
              "0                ALL             GY        2013.0             -   \n",
              "1                ALL             WH        2012.0             -   \n",
              "2                ALL            NaN           0.0             -   \n",
              "3                ALL             WH        2010.0             -   \n",
              "4                ALL             BR        2012.0             -   \n",
              "\n",
              "  Feet From Curb Violation Post Code Violation Description  \n",
              "0            0.0                 NaN                   NaN  \n",
              "1            0.0                 NaN                   NaN  \n",
              "2            0.0                 NaN                   NaN  \n",
              "3            0.0                 NaN                   NaN  \n",
              "4            0.0                 NaN                   NaN  \n",
              "\n",
              "[5 rows x 37 columns]"
            ],
            "text/html": [
              "\n",
              "  <div id=\"df-7cdb41ca-b5ed-4b62-a15f-a9710288d53d\">\n",
              "    <div class=\"colab-df-container\">\n",
              "      <div>\n",
              "<style scoped>\n",
              "    .dataframe tbody tr th:only-of-type {\n",
              "        vertical-align: middle;\n",
              "    }\n",
              "\n",
              "    .dataframe tbody tr th {\n",
              "        vertical-align: top;\n",
              "    }\n",
              "\n",
              "    .dataframe thead th {\n",
              "        text-align: right;\n",
              "    }\n",
              "</style>\n",
              "<table border=\"1\" class=\"dataframe\">\n",
              "  <thead>\n",
              "    <tr style=\"text-align: right;\">\n",
              "      <th></th>\n",
              "      <th>Summons Number</th>\n",
              "      <th>Plate ID</th>\n",
              "      <th>Registration State</th>\n",
              "      <th>Plate Type</th>\n",
              "      <th>Issue Date</th>\n",
              "      <th>Violation Code</th>\n",
              "      <th>Vehicle Body Type</th>\n",
              "      <th>Vehicle Make</th>\n",
              "      <th>Issuing Agency</th>\n",
              "      <th>Street Code1</th>\n",
              "      <th>...</th>\n",
              "      <th>Sub Division</th>\n",
              "      <th>Days Parking In Effect</th>\n",
              "      <th>From Hours In Effect</th>\n",
              "      <th>To Hours In Effect</th>\n",
              "      <th>Vehicle Color</th>\n",
              "      <th>Vehicle Year</th>\n",
              "      <th>Meter Number</th>\n",
              "      <th>Feet From Curb</th>\n",
              "      <th>Violation Post Code</th>\n",
              "      <th>Violation Description</th>\n",
              "    </tr>\n",
              "  </thead>\n",
              "  <tbody>\n",
              "    <tr>\n",
              "      <th>0</th>\n",
              "      <td>1283294138</td>\n",
              "      <td>GBB9093</td>\n",
              "      <td>NY</td>\n",
              "      <td>PAS</td>\n",
              "      <td>08/04/2013</td>\n",
              "      <td>46</td>\n",
              "      <td>SUBN</td>\n",
              "      <td>AUDI</td>\n",
              "      <td>P</td>\n",
              "      <td>37250</td>\n",
              "      <td>...</td>\n",
              "      <td>F1</td>\n",
              "      <td>BBBBBBB</td>\n",
              "      <td>ALL</td>\n",
              "      <td>ALL</td>\n",
              "      <td>GY</td>\n",
              "      <td>2013.0</td>\n",
              "      <td>-</td>\n",
              "      <td>0.0</td>\n",
              "      <td>NaN</td>\n",
              "      <td>NaN</td>\n",
              "    </tr>\n",
              "    <tr>\n",
              "      <th>1</th>\n",
              "      <td>1283294151</td>\n",
              "      <td>62416MB</td>\n",
              "      <td>NY</td>\n",
              "      <td>COM</td>\n",
              "      <td>08/04/2013</td>\n",
              "      <td>46</td>\n",
              "      <td>VAN</td>\n",
              "      <td>FORD</td>\n",
              "      <td>P</td>\n",
              "      <td>37290</td>\n",
              "      <td>...</td>\n",
              "      <td>C</td>\n",
              "      <td>BBBBBBB</td>\n",
              "      <td>ALL</td>\n",
              "      <td>ALL</td>\n",
              "      <td>WH</td>\n",
              "      <td>2012.0</td>\n",
              "      <td>-</td>\n",
              "      <td>0.0</td>\n",
              "      <td>NaN</td>\n",
              "      <td>NaN</td>\n",
              "    </tr>\n",
              "    <tr>\n",
              "      <th>2</th>\n",
              "      <td>1283294163</td>\n",
              "      <td>78755JZ</td>\n",
              "      <td>NY</td>\n",
              "      <td>COM</td>\n",
              "      <td>08/05/2013</td>\n",
              "      <td>46</td>\n",
              "      <td>P-U</td>\n",
              "      <td>CHEVR</td>\n",
              "      <td>P</td>\n",
              "      <td>37030</td>\n",
              "      <td>...</td>\n",
              "      <td>F7</td>\n",
              "      <td>BBBBBBB</td>\n",
              "      <td>ALL</td>\n",
              "      <td>ALL</td>\n",
              "      <td>NaN</td>\n",
              "      <td>0.0</td>\n",
              "      <td>-</td>\n",
              "      <td>0.0</td>\n",
              "      <td>NaN</td>\n",
              "      <td>NaN</td>\n",
              "    </tr>\n",
              "    <tr>\n",
              "      <th>3</th>\n",
              "      <td>1283294175</td>\n",
              "      <td>63009MA</td>\n",
              "      <td>NY</td>\n",
              "      <td>COM</td>\n",
              "      <td>08/05/2013</td>\n",
              "      <td>46</td>\n",
              "      <td>VAN</td>\n",
              "      <td>FORD</td>\n",
              "      <td>P</td>\n",
              "      <td>37270</td>\n",
              "      <td>...</td>\n",
              "      <td>F1</td>\n",
              "      <td>BBBBBBB</td>\n",
              "      <td>ALL</td>\n",
              "      <td>ALL</td>\n",
              "      <td>WH</td>\n",
              "      <td>2010.0</td>\n",
              "      <td>-</td>\n",
              "      <td>0.0</td>\n",
              "      <td>NaN</td>\n",
              "      <td>NaN</td>\n",
              "    </tr>\n",
              "    <tr>\n",
              "      <th>4</th>\n",
              "      <td>1283294187</td>\n",
              "      <td>91648MC</td>\n",
              "      <td>NY</td>\n",
              "      <td>COM</td>\n",
              "      <td>08/08/2013</td>\n",
              "      <td>41</td>\n",
              "      <td>TRLR</td>\n",
              "      <td>GMC</td>\n",
              "      <td>P</td>\n",
              "      <td>37240</td>\n",
              "      <td>...</td>\n",
              "      <td>E1</td>\n",
              "      <td>BBBBBBB</td>\n",
              "      <td>ALL</td>\n",
              "      <td>ALL</td>\n",
              "      <td>BR</td>\n",
              "      <td>2012.0</td>\n",
              "      <td>-</td>\n",
              "      <td>0.0</td>\n",
              "      <td>NaN</td>\n",
              "      <td>NaN</td>\n",
              "    </tr>\n",
              "  </tbody>\n",
              "</table>\n",
              "<p>5 rows × 37 columns</p>\n",
              "</div>\n",
              "      <button class=\"colab-df-convert\" onclick=\"convertToInteractive('df-7cdb41ca-b5ed-4b62-a15f-a9710288d53d')\"\n",
              "              title=\"Convert this dataframe to an interactive table.\"\n",
              "              style=\"display:none;\">\n",
              "        \n",
              "  <svg xmlns=\"http://www.w3.org/2000/svg\" height=\"24px\"viewBox=\"0 0 24 24\"\n",
              "       width=\"24px\">\n",
              "    <path d=\"M0 0h24v24H0V0z\" fill=\"none\"/>\n",
              "    <path d=\"M18.56 5.44l.94 2.06.94-2.06 2.06-.94-2.06-.94-.94-2.06-.94 2.06-2.06.94zm-11 1L8.5 8.5l.94-2.06 2.06-.94-2.06-.94L8.5 2.5l-.94 2.06-2.06.94zm10 10l.94 2.06.94-2.06 2.06-.94-2.06-.94-.94-2.06-.94 2.06-2.06.94z\"/><path d=\"M17.41 7.96l-1.37-1.37c-.4-.4-.92-.59-1.43-.59-.52 0-1.04.2-1.43.59L10.3 9.45l-7.72 7.72c-.78.78-.78 2.05 0 2.83L4 21.41c.39.39.9.59 1.41.59.51 0 1.02-.2 1.41-.59l7.78-7.78 2.81-2.81c.8-.78.8-2.07 0-2.86zM5.41 20L4 18.59l7.72-7.72 1.47 1.35L5.41 20z\"/>\n",
              "  </svg>\n",
              "      </button>\n",
              "      \n",
              "  <style>\n",
              "    .colab-df-container {\n",
              "      display:flex;\n",
              "      flex-wrap:wrap;\n",
              "      gap: 12px;\n",
              "    }\n",
              "\n",
              "    .colab-df-convert {\n",
              "      background-color: #E8F0FE;\n",
              "      border: none;\n",
              "      border-radius: 50%;\n",
              "      cursor: pointer;\n",
              "      display: none;\n",
              "      fill: #1967D2;\n",
              "      height: 32px;\n",
              "      padding: 0 0 0 0;\n",
              "      width: 32px;\n",
              "    }\n",
              "\n",
              "    .colab-df-convert:hover {\n",
              "      background-color: #E2EBFA;\n",
              "      box-shadow: 0px 1px 2px rgba(60, 64, 67, 0.3), 0px 1px 3px 1px rgba(60, 64, 67, 0.15);\n",
              "      fill: #174EA6;\n",
              "    }\n",
              "\n",
              "    [theme=dark] .colab-df-convert {\n",
              "      background-color: #3B4455;\n",
              "      fill: #D2E3FC;\n",
              "    }\n",
              "\n",
              "    [theme=dark] .colab-df-convert:hover {\n",
              "      background-color: #434B5C;\n",
              "      box-shadow: 0px 1px 3px 1px rgba(0, 0, 0, 0.15);\n",
              "      filter: drop-shadow(0px 1px 2px rgba(0, 0, 0, 0.3));\n",
              "      fill: #FFFFFF;\n",
              "    }\n",
              "  </style>\n",
              "\n",
              "      <script>\n",
              "        const buttonEl =\n",
              "          document.querySelector('#df-7cdb41ca-b5ed-4b62-a15f-a9710288d53d button.colab-df-convert');\n",
              "        buttonEl.style.display =\n",
              "          google.colab.kernel.accessAllowed ? 'block' : 'none';\n",
              "\n",
              "        async function convertToInteractive(key) {\n",
              "          const element = document.querySelector('#df-7cdb41ca-b5ed-4b62-a15f-a9710288d53d');\n",
              "          const dataTable =\n",
              "            await google.colab.kernel.invokeFunction('convertToInteractive',\n",
              "                                                     [key], {});\n",
              "          if (!dataTable) return;\n",
              "\n",
              "          const docLinkHtml = 'Like what you see? Visit the ' +\n",
              "            '<a target=\"_blank\" href=https://colab.research.google.com/notebooks/data_table.ipynb>data table notebook</a>'\n",
              "            + ' to learn more about interactive tables.';\n",
              "          element.innerHTML = '';\n",
              "          dataTable['output_type'] = 'display_data';\n",
              "          await google.colab.output.renderOutput(dataTable, element);\n",
              "          const docLink = document.createElement('div');\n",
              "          docLink.innerHTML = docLinkHtml;\n",
              "          element.appendChild(docLink);\n",
              "        }\n",
              "      </script>\n",
              "    </div>\n",
              "  </div>\n",
              "  "
            ]
          },
          "metadata": {},
          "execution_count": 17
        }
      ],
      "source": [
        "#drop columns that have more than 80% values\n",
        "%%time\n",
        "dfdask=dfdask.drop(['Time First Observed','Violation Legal Code','Unregistered Vehicle?','No Standing or Stopping Violation', 'Hydrant Violation', 'Double Parking Violation','Latitude','Longitude','Community Board','Community Council ','Census Tract','BIN','BBL','NTA'], axis=1) \n",
        "dfdask.head()\n"
      ]
    },
    {
      "cell_type": "code",
      "execution_count": 18,
      "metadata": {
        "colab": {
          "base_uri": "https://localhost:8080/"
        },
        "id": "rK7rR7hj0jcm",
        "outputId": "d177877e-1a46-4123-e954-ca9e9c1d8263"
      },
      "outputs": [
        {
          "output_type": "stream",
          "name": "stdout",
          "text": [
            "CPU times: user 13.1 ms, sys: 0 ns, total: 13.1 ms\n",
            "Wall time: 14.3 ms\n"
          ]
        }
      ],
      "source": [
        "#Not all nan values need to be drop. Hence we fill the Nan values with 0.\n",
        "%%time\n",
        "dfdask = dfdask.fillna(0)\n"
      ]
    },
    {
      "cell_type": "code",
      "execution_count": 19,
      "metadata": {
        "colab": {
          "base_uri": "https://localhost:8080/"
        },
        "id": "btnK4UQo0w2q",
        "outputId": "60f310d4-52a4-4dfb-c30e-41b2281d7941"
      },
      "outputs": [
        {
          "output_type": "execute_result",
          "data": {
            "text/plain": [
              "Summons Number                       0\n",
              "Plate ID                             0\n",
              "Registration State                   0\n",
              "Plate Type                           0\n",
              "Issue Date                           0\n",
              "Violation Code                       0\n",
              "Vehicle Body Type                    0\n",
              "Vehicle Make                         0\n",
              "Issuing Agency                       0\n",
              "Street Code1                         0\n",
              "Street Code2                         0\n",
              "Street Code3                         0\n",
              "Vehicle Expiration Date              0\n",
              "Violation Location                   0\n",
              "Violation Precinct                   0\n",
              "Issuer Precinct                      0\n",
              "Issuer Code                          0\n",
              "Issuer Command                       0\n",
              "Issuer Squad                         0\n",
              "Violation Time                       0\n",
              "Violation County                     0\n",
              "Violation In Front Of Or Opposite    0\n",
              "House Number                         0\n",
              "Street Name                          0\n",
              "Intersecting Street                  0\n",
              "Date First Observed                  0\n",
              "Law Section                          0\n",
              "Sub Division                         0\n",
              "Days Parking In Effect               0\n",
              "From Hours In Effect                 0\n",
              "To Hours In Effect                   0\n",
              "Vehicle Color                        0\n",
              "Vehicle Year                         0\n",
              "Meter Number                         0\n",
              "Feet From Curb                       0\n",
              "Violation Post Code                  0\n",
              "Violation Description                0\n",
              "dtype: int64"
            ]
          },
          "metadata": {},
          "execution_count": 19
        }
      ],
      "source": [
        "#check again all null values to ensure it is clean.\n",
        "dfdask.isnull().sum().compute()"
      ]
    },
    {
      "cell_type": "markdown",
      "metadata": {
        "id": "qvBFRjMW3TaR"
      },
      "source": [
        "**2.PySpark**"
      ]
    },
    {
      "cell_type": "code",
      "execution_count": 20,
      "metadata": {
        "id": "cBQpw14zqEv_",
        "colab": {
          "base_uri": "https://localhost:8080/"
        },
        "outputId": "22fefda1-d805-4f7c-ef1a-1f2a51b406dc"
      },
      "outputs": [
        {
          "output_type": "stream",
          "name": "stdout",
          "text": [
            "+--------------+--------+------------------+----------+----------+--------------+-----------------+------------+--------------+------------+------------+------------+-----------------------+------------------+------------------+---------------+-----------+--------------+------------+--------------+-------------------+----------------+---------------------------------+------------+-----------+-------------------+-------------------+-----------+------------+--------------------+--------------------------+--------------------+------------------+-------------+---------------------+------------+------------+--------------+-------------------+---------------------+---------------------------------+-----------------+------------------------+--------+---------+---------------+------------------+------------+-------+-------+-------+\n",
            "|Summons Number|Plate ID|Registration State|Plate Type|Issue Date|Violation Code|Vehicle Body Type|Vehicle Make|Issuing Agency|Street Code1|Street Code2|Street Code3|Vehicle Expiration Date|Violation Location|Violation Precinct|Issuer Precinct|Issuer Code|Issuer Command|Issuer Squad|Violation Time|Time First Observed|Violation County|Violation In Front Of Or Opposite|House Number|Street Name|Intersecting Street|Date First Observed|Law Section|Sub Division|Violation Legal Code|Days Parking In Effect    |From Hours In Effect|To Hours In Effect|Vehicle Color|Unregistered Vehicle?|Vehicle Year|Meter Number|Feet From Curb|Violation Post Code|Violation Description|No Standing or Stopping Violation|Hydrant Violation|Double Parking Violation|Latitude|Longitude|Community Board|Community Council |Census Tract|    BIN|    BBL|    NTA|\n",
            "+--------------+--------+------------------+----------+----------+--------------+-----------------+------------+--------------+------------+------------+------------+-----------------------+------------------+------------------+---------------+-----------+--------------+------------+--------------+-------------------+----------------+---------------------------------+------------+-----------+-------------------+-------------------+-----------+------------+--------------------+--------------------------+--------------------+------------------+-------------+---------------------+------------+------------+--------------+-------------------+---------------------+---------------------------------+-----------------+------------------------+--------+---------+---------------+------------------+------------+-------+-------+-------+\n",
            "|             0|       3|                 0|         0|         0|             0|           110868|       63175|             0|           0|           0|           0|                      0|            671170|                 0|              0|          0|        654437|      654437|          2074|            8080301|          705205|                           769191|      856317|       4904|            7217041|                  0|          0|         246|             8443773|                   1415126|             3363268|           3363268|        72442|              7868631|           0|     7053455|             0|            1884022|              1231652|                          9100277|          9100277|                 9100277| 9100277|  9100277|        9100277|           9100277|     9100277|9100277|9100277|9100277|\n",
            "+--------------+--------+------------------+----------+----------+--------------+-----------------+------------+--------------+------------+------------+------------+-----------------------+------------------+------------------+---------------+-----------+--------------+------------+--------------+-------------------+----------------+---------------------------------+------------+-----------+-------------------+-------------------+-----------+------------+--------------------+--------------------------+--------------------+------------------+-------------+---------------------+------------+------------+--------------+-------------------+---------------------+---------------------------------+-----------------+------------------------+--------+---------+---------------+------------------+------------+-------+-------+-------+\n",
            "\n",
            "CPU times: user 2.75 s, sys: 321 ms, total: 3.07 s\n",
            "Wall time: 8min 2s\n"
          ]
        }
      ],
      "source": [
        "#count missing values\n",
        "%%time\n",
        "from pyspark.sql.functions import isnan, when, count, col\n",
        "dfs.select([count(when(isnan(c) | col(c).isNull(), c)).alias(c) for c in dfs.columns]).show()"
      ]
    },
    {
      "cell_type": "code",
      "execution_count": 21,
      "metadata": {
        "id": "O4-sfr0t9Zv0",
        "colab": {
          "base_uri": "https://localhost:8080/"
        },
        "outputId": "68c23e45-a1a0-4fb9-cf19-e60b92c04410"
      },
      "outputs": [
        {
          "output_type": "stream",
          "name": "stdout",
          "text": [
            "root\n",
            " |-- Summons Number: long (nullable = true)\n",
            " |-- Plate ID: string (nullable = true)\n",
            " |-- Registration State: string (nullable = true)\n",
            " |-- Plate Type: string (nullable = true)\n",
            " |-- Issue Date: string (nullable = true)\n",
            " |-- Violation Code: integer (nullable = true)\n",
            " |-- Vehicle Body Type: string (nullable = true)\n",
            " |-- Vehicle Make: string (nullable = true)\n",
            " |-- Issuing Agency: string (nullable = true)\n",
            " |-- Street Code1: integer (nullable = true)\n",
            " |-- Street Code2: integer (nullable = true)\n",
            " |-- Street Code3: integer (nullable = true)\n",
            " |-- Vehicle Expiration Date: integer (nullable = true)\n",
            " |-- Violation Location: integer (nullable = true)\n",
            " |-- Violation Precinct: integer (nullable = true)\n",
            " |-- Issuer Precinct: integer (nullable = true)\n",
            " |-- Issuer Code: integer (nullable = true)\n",
            " |-- Issuer Command: string (nullable = true)\n",
            " |-- Issuer Squad: string (nullable = true)\n",
            " |-- Violation Time: string (nullable = true)\n",
            " |-- Violation County: string (nullable = true)\n",
            " |-- Violation In Front Of Or Opposite: string (nullable = true)\n",
            " |-- House Number: string (nullable = true)\n",
            " |-- Street Name: string (nullable = true)\n",
            " |-- Intersecting Street: string (nullable = true)\n",
            " |-- Date First Observed: string (nullable = true)\n",
            " |-- Law Section: string (nullable = true)\n",
            " |-- Sub Division: string (nullable = true)\n",
            " |-- Days Parking In Effect    : string (nullable = true)\n",
            " |-- From Hours In Effect: string (nullable = true)\n",
            " |-- To Hours In Effect: string (nullable = true)\n",
            " |-- Vehicle Color: string (nullable = true)\n",
            " |-- Vehicle Year: string (nullable = true)\n",
            " |-- Meter Number: string (nullable = true)\n",
            " |-- Feet From Curb: string (nullable = true)\n",
            " |-- Violation Post Code: string (nullable = true)\n",
            " |-- Violation Description: string (nullable = true)\n",
            "\n",
            "CPU times: user 7.11 ms, sys: 0 ns, total: 7.11 ms\n",
            "Wall time: 32.2 ms\n"
          ]
        }
      ],
      "source": [
        "#drop columns that have more than 80% missing values\n",
        "%%time\n",
        "dfs.drop('Time First Observed','Violation Legal Code','Unregistered Vehicle?','No Standing or Stopping Violation', 'Hydrant Violation', 'Double Parking Violation','Latitude','Longitude','Community Board','Community Council ','Census Tract','BIN','BBL','NTA') \\\n",
        "    .printSchema()"
      ]
    },
    {
      "cell_type": "code",
      "execution_count": 22,
      "metadata": {
        "id": "3fy4Rbvn2Ern",
        "colab": {
          "base_uri": "https://localhost:8080/"
        },
        "outputId": "856c968d-4b52-4c4a-96eb-873839851483"
      },
      "outputs": [
        {
          "output_type": "stream",
          "name": "stdout",
          "text": [
            "CPU times: user 2.57 ms, sys: 0 ns, total: 2.57 ms\n",
            "Wall time: 30.3 ms\n"
          ]
        }
      ],
      "source": [
        "#Not all nan values need to be drop. Hence we fill the Nan values with 0.\n",
        "%%time\n",
        "dfs=dfs.fillna(0)"
      ]
    },
    {
      "cell_type": "code",
      "execution_count": 23,
      "metadata": {
        "id": "tOq7jPmD25ZN",
        "colab": {
          "base_uri": "https://localhost:8080/"
        },
        "outputId": "dcb3ec8b-1cfc-40d7-8b37-074612be8917"
      },
      "outputs": [
        {
          "output_type": "stream",
          "name": "stdout",
          "text": [
            "+--------------+--------+------------------+----------+----------+--------------+-----------------+------------+--------------+------------+------------+------------+-----------------------+------------------+------------------+---------------+-----------+--------------+------------+--------------+-------------------+----------------+---------------------------------+------------+-----------+-------------------+-------------------+-----------+------------+--------------------+--------------------------+--------------------+------------------+-------------+---------------------+------------+------------+--------------+-------------------+---------------------+---------------------------------+-----------------+------------------------+--------+---------+---------------+------------------+------------+-------+-------+-------+\n",
            "|Summons Number|Plate ID|Registration State|Plate Type|Issue Date|Violation Code|Vehicle Body Type|Vehicle Make|Issuing Agency|Street Code1|Street Code2|Street Code3|Vehicle Expiration Date|Violation Location|Violation Precinct|Issuer Precinct|Issuer Code|Issuer Command|Issuer Squad|Violation Time|Time First Observed|Violation County|Violation In Front Of Or Opposite|House Number|Street Name|Intersecting Street|Date First Observed|Law Section|Sub Division|Violation Legal Code|Days Parking In Effect    |From Hours In Effect|To Hours In Effect|Vehicle Color|Unregistered Vehicle?|Vehicle Year|Meter Number|Feet From Curb|Violation Post Code|Violation Description|No Standing or Stopping Violation|Hydrant Violation|Double Parking Violation|Latitude|Longitude|Community Board|Community Council |Census Tract|    BIN|    BBL|    NTA|\n",
            "+--------------+--------+------------------+----------+----------+--------------+-----------------+------------+--------------+------------+------------+------------+-----------------------+------------------+------------------+---------------+-----------+--------------+------------+--------------+-------------------+----------------+---------------------------------+------------+-----------+-------------------+-------------------+-----------+------------+--------------------+--------------------------+--------------------+------------------+-------------+---------------------+------------+------------+--------------+-------------------+---------------------+---------------------------------+-----------------+------------------------+--------+---------+---------------+------------------+------------+-------+-------+-------+\n",
            "|             0|       3|                 0|         0|         0|             0|           110868|       63175|             0|           0|           0|           0|                      0|                 0|                 0|              0|          0|        654437|      654437|          2074|            8080301|          705205|                           769191|      856317|       4904|            7217041|                  0|          0|         246|             8443773|                   1415126|             3363268|           3363268|        72442|              7868631|           0|     7053455|             0|            1884022|              1231652|                          9100277|          9100277|                 9100277| 9100277|  9100277|        9100277|           9100277|     9100277|9100277|9100277|9100277|\n",
            "+--------------+--------+------------------+----------+----------+--------------+-----------------+------------+--------------+------------+------------+------------+-----------------------+------------------+------------------+---------------+-----------+--------------+------------+--------------+-------------------+----------------+---------------------------------+------------+-----------+-------------------+-------------------+-----------+------------+--------------------+--------------------------+--------------------+------------------+-------------+---------------------+------------+------------+--------------+-------------------+---------------------+---------------------------------+-----------------+------------------------+--------+---------+---------------+------------------+------------+-------+-------+-------+\n",
            "\n",
            "CPU times: user 2.62 s, sys: 305 ms, total: 2.93 s\n",
            "Wall time: 7min 55s\n"
          ]
        }
      ],
      "source": [
        "#check again to ensure the data is clean\n",
        "%%time\n",
        "from pyspark.sql.functions import isnan, when, count, col\n",
        "dfs.select([count(when(isnan(c) | col(c).isNull(), c)).alias(c) for c in dfs.columns]).show()"
      ]
    },
    {
      "cell_type": "markdown",
      "metadata": {
        "id": "wsvO2GxE3cO1"
      },
      "source": [
        "**3.Koalas**"
      ]
    },
    {
      "cell_type": "code",
      "execution_count": 24,
      "metadata": {
        "id": "pP-2HKSXkWpk",
        "colab": {
          "base_uri": "https://localhost:8080/"
        },
        "outputId": "0a5dc1eb-0fa8-47be-dde4-25ff956aca61"
      },
      "outputs": [
        {
          "output_type": "stream",
          "name": "stdout",
          "text": [
            "CPU times: user 1.38 s, sys: 168 ms, total: 1.55 s\n",
            "Wall time: 1min 15s\n"
          ]
        },
        {
          "output_type": "execute_result",
          "data": {
            "text/plain": [
              "Summons Number                             0\n",
              "Plate ID                                   0\n",
              "Registration State                         0\n",
              "Plate Type                                 0\n",
              "Issue Date                                 0\n",
              "Violation Code                             0\n",
              "Vehicle Body Type                          0\n",
              "Vehicle Make                               0\n",
              "Issuing Agency                             0\n",
              "Street Code1                               0\n",
              "Street Code2                               0\n",
              "Street Code3                               0\n",
              "Vehicle Expiration Date                    0\n",
              "Violation Location                         0\n",
              "Violation Precinct                         0\n",
              "Issuer Precinct                            0\n",
              "Issuer Code                                0\n",
              "Issuer Command                             0\n",
              "Issuer Squad                               0\n",
              "Violation Time                             0\n",
              "Time First Observed                        0\n",
              "Violation County                           0\n",
              "Violation In Front Of Or Opposite          0\n",
              "House Number                               0\n",
              "Street Name                                0\n",
              "Intersecting Street                        0\n",
              "Date First Observed                        0\n",
              "Law Section                                1\n",
              "Sub Division                               0\n",
              "Violation Legal Code                       0\n",
              "Days Parking In Effect                     0\n",
              "From Hours In Effect                       0\n",
              "To Hours In Effect                         0\n",
              "Vehicle Color                              0\n",
              "Unregistered Vehicle?                      0\n",
              "Vehicle Year                               1\n",
              "Meter Number                               0\n",
              "Feet From Curb                             1\n",
              "Violation Post Code                        0\n",
              "Violation Description                      0\n",
              "No Standing or Stopping Violation          0\n",
              "Hydrant Violation                          0\n",
              "Double Parking Violation                   0\n",
              "Latitude                             9100277\n",
              "Longitude                            9100277\n",
              "Community Board                      9100277\n",
              "Community Council                    9100277\n",
              "Census Tract                         9100277\n",
              "BIN                                  9100277\n",
              "BBL                                  9100277\n",
              "NTA                                  9100277\n",
              "dtype: int64"
            ]
          },
          "metadata": {},
          "execution_count": 24
        }
      ],
      "source": [
        "#count missing values\n",
        "%%time\n",
        "dfk.isnull().sum()"
      ]
    },
    {
      "cell_type": "code",
      "execution_count": 25,
      "metadata": {
        "id": "I7HmvJkBBD1N",
        "colab": {
          "base_uri": "https://localhost:8080/",
          "height": 399
        },
        "outputId": "d6df76c2-9f7d-438f-9882-3491e5731a3e"
      },
      "outputs": [
        {
          "output_type": "stream",
          "name": "stdout",
          "text": [
            "CPU times: user 52.4 ms, sys: 6.95 ms, total: 59.4 ms\n",
            "Wall time: 159 ms\n"
          ]
        },
        {
          "output_type": "execute_result",
          "data": {
            "text/plain": [
              "   Summons Number Plate ID Registration State Plate Type  Issue Date  Violation Code Vehicle Body Type Vehicle Make Issuing Agency  Street Code1  Street Code2  Street Code3 Vehicle Expiration Date Violation Location  Violation Precinct  Issuer Precinct  Issuer Code Issuer Command Issuer Squad Violation Time Violation County Violation In Front Of Or Opposite House Number Street Name Intersecting Street Date First Observed  Law Section Sub Division Days Parking In Effect     From Hours In Effect To Hours In Effect Vehicle Color  Vehicle Year Meter Number  Feet From Curb Violation Post Code Violation Description\n",
              "0      1283294138  GBB9093                 NY        PAS  08/04/2013              46              SUBN         AUDI              P         37250         13610         21190                20140831                 33                33.0             33.0     921043.0           0033         0000          0752A             None                                 F          712    W 175 ST                None                   0        408.0           F1                    BBBBBBB                  ALL                ALL            GY        2013.0            -             0.0                None                  None\n",
              "1      1283294151  62416MB                 NY        COM  08/04/2013              46               VAN         FORD              P         37290         40404         40404                20140430                 33                33.0             33.0     921043.0           0033         0000          1240P               NY                                 O          201    W 177 ST                None                   0        408.0            C                    BBBBBBB                  ALL                ALL            WH        2012.0            -             0.0                None                  None\n",
              "2      1283294163  78755JZ                 NY        COM  08/05/2013              46               P-U        CHEVR              P         37030         31190         13610                20140228                 33                33.0             33.0     921043.0           0033         0000          1243P               NY                                 O          520    W 163 ST                None                   0        408.0           F7                    BBBBBBB                  ALL                ALL          None           0.0            -             0.0                None                  None\n",
              "3      1283294175  63009MA                 NY        COM  08/05/2013              46               VAN         FORD              P         37270         11710         12010                20141031                 33                33.0             33.0     921043.0           0033         0000          0232P               NY                                 O          517    W 176 ST                None                   0        408.0           F1                    BBBBBBB                  ALL                ALL            WH        2010.0            -             0.0                None                  None\n",
              "4      1283294187  91648MC                 NY        COM  08/08/2013              41              TRLR          GMC              P         37240         12010         31190                       0                 33                33.0             33.0     921043.0           0033         0000          1239P               NY                                 F          590    W 174 ST                None                   0        408.0           E1                    BBBBBBB                  ALL                ALL            BR        2012.0            -             0.0                None                  None"
            ],
            "text/html": [
              "<div>\n",
              "<style scoped>\n",
              "    .dataframe tbody tr th:only-of-type {\n",
              "        vertical-align: middle;\n",
              "    }\n",
              "\n",
              "    .dataframe tbody tr th {\n",
              "        vertical-align: top;\n",
              "    }\n",
              "\n",
              "    .dataframe thead th {\n",
              "        text-align: right;\n",
              "    }\n",
              "</style>\n",
              "<table border=\"1\" class=\"dataframe\">\n",
              "  <thead>\n",
              "    <tr style=\"text-align: right;\">\n",
              "      <th></th>\n",
              "      <th>Summons Number</th>\n",
              "      <th>Plate ID</th>\n",
              "      <th>Registration State</th>\n",
              "      <th>Plate Type</th>\n",
              "      <th>Issue Date</th>\n",
              "      <th>Violation Code</th>\n",
              "      <th>Vehicle Body Type</th>\n",
              "      <th>Vehicle Make</th>\n",
              "      <th>Issuing Agency</th>\n",
              "      <th>Street Code1</th>\n",
              "      <th>Street Code2</th>\n",
              "      <th>Street Code3</th>\n",
              "      <th>Vehicle Expiration Date</th>\n",
              "      <th>Violation Location</th>\n",
              "      <th>Violation Precinct</th>\n",
              "      <th>Issuer Precinct</th>\n",
              "      <th>Issuer Code</th>\n",
              "      <th>Issuer Command</th>\n",
              "      <th>Issuer Squad</th>\n",
              "      <th>Violation Time</th>\n",
              "      <th>Violation County</th>\n",
              "      <th>Violation In Front Of Or Opposite</th>\n",
              "      <th>House Number</th>\n",
              "      <th>Street Name</th>\n",
              "      <th>Intersecting Street</th>\n",
              "      <th>Date First Observed</th>\n",
              "      <th>Law Section</th>\n",
              "      <th>Sub Division</th>\n",
              "      <th>Days Parking In Effect</th>\n",
              "      <th>From Hours In Effect</th>\n",
              "      <th>To Hours In Effect</th>\n",
              "      <th>Vehicle Color</th>\n",
              "      <th>Vehicle Year</th>\n",
              "      <th>Meter Number</th>\n",
              "      <th>Feet From Curb</th>\n",
              "      <th>Violation Post Code</th>\n",
              "      <th>Violation Description</th>\n",
              "    </tr>\n",
              "  </thead>\n",
              "  <tbody>\n",
              "    <tr>\n",
              "      <th>0</th>\n",
              "      <td>1283294138</td>\n",
              "      <td>GBB9093</td>\n",
              "      <td>NY</td>\n",
              "      <td>PAS</td>\n",
              "      <td>08/04/2013</td>\n",
              "      <td>46</td>\n",
              "      <td>SUBN</td>\n",
              "      <td>AUDI</td>\n",
              "      <td>P</td>\n",
              "      <td>37250</td>\n",
              "      <td>13610</td>\n",
              "      <td>21190</td>\n",
              "      <td>20140831</td>\n",
              "      <td>33</td>\n",
              "      <td>33.0</td>\n",
              "      <td>33.0</td>\n",
              "      <td>921043.0</td>\n",
              "      <td>0033</td>\n",
              "      <td>0000</td>\n",
              "      <td>0752A</td>\n",
              "      <td>None</td>\n",
              "      <td>F</td>\n",
              "      <td>712</td>\n",
              "      <td>W 175 ST</td>\n",
              "      <td>None</td>\n",
              "      <td>0</td>\n",
              "      <td>408.0</td>\n",
              "      <td>F1</td>\n",
              "      <td>BBBBBBB</td>\n",
              "      <td>ALL</td>\n",
              "      <td>ALL</td>\n",
              "      <td>GY</td>\n",
              "      <td>2013.0</td>\n",
              "      <td>-</td>\n",
              "      <td>0.0</td>\n",
              "      <td>None</td>\n",
              "      <td>None</td>\n",
              "    </tr>\n",
              "    <tr>\n",
              "      <th>1</th>\n",
              "      <td>1283294151</td>\n",
              "      <td>62416MB</td>\n",
              "      <td>NY</td>\n",
              "      <td>COM</td>\n",
              "      <td>08/04/2013</td>\n",
              "      <td>46</td>\n",
              "      <td>VAN</td>\n",
              "      <td>FORD</td>\n",
              "      <td>P</td>\n",
              "      <td>37290</td>\n",
              "      <td>40404</td>\n",
              "      <td>40404</td>\n",
              "      <td>20140430</td>\n",
              "      <td>33</td>\n",
              "      <td>33.0</td>\n",
              "      <td>33.0</td>\n",
              "      <td>921043.0</td>\n",
              "      <td>0033</td>\n",
              "      <td>0000</td>\n",
              "      <td>1240P</td>\n",
              "      <td>NY</td>\n",
              "      <td>O</td>\n",
              "      <td>201</td>\n",
              "      <td>W 177 ST</td>\n",
              "      <td>None</td>\n",
              "      <td>0</td>\n",
              "      <td>408.0</td>\n",
              "      <td>C</td>\n",
              "      <td>BBBBBBB</td>\n",
              "      <td>ALL</td>\n",
              "      <td>ALL</td>\n",
              "      <td>WH</td>\n",
              "      <td>2012.0</td>\n",
              "      <td>-</td>\n",
              "      <td>0.0</td>\n",
              "      <td>None</td>\n",
              "      <td>None</td>\n",
              "    </tr>\n",
              "    <tr>\n",
              "      <th>2</th>\n",
              "      <td>1283294163</td>\n",
              "      <td>78755JZ</td>\n",
              "      <td>NY</td>\n",
              "      <td>COM</td>\n",
              "      <td>08/05/2013</td>\n",
              "      <td>46</td>\n",
              "      <td>P-U</td>\n",
              "      <td>CHEVR</td>\n",
              "      <td>P</td>\n",
              "      <td>37030</td>\n",
              "      <td>31190</td>\n",
              "      <td>13610</td>\n",
              "      <td>20140228</td>\n",
              "      <td>33</td>\n",
              "      <td>33.0</td>\n",
              "      <td>33.0</td>\n",
              "      <td>921043.0</td>\n",
              "      <td>0033</td>\n",
              "      <td>0000</td>\n",
              "      <td>1243P</td>\n",
              "      <td>NY</td>\n",
              "      <td>O</td>\n",
              "      <td>520</td>\n",
              "      <td>W 163 ST</td>\n",
              "      <td>None</td>\n",
              "      <td>0</td>\n",
              "      <td>408.0</td>\n",
              "      <td>F7</td>\n",
              "      <td>BBBBBBB</td>\n",
              "      <td>ALL</td>\n",
              "      <td>ALL</td>\n",
              "      <td>None</td>\n",
              "      <td>0.0</td>\n",
              "      <td>-</td>\n",
              "      <td>0.0</td>\n",
              "      <td>None</td>\n",
              "      <td>None</td>\n",
              "    </tr>\n",
              "    <tr>\n",
              "      <th>3</th>\n",
              "      <td>1283294175</td>\n",
              "      <td>63009MA</td>\n",
              "      <td>NY</td>\n",
              "      <td>COM</td>\n",
              "      <td>08/05/2013</td>\n",
              "      <td>46</td>\n",
              "      <td>VAN</td>\n",
              "      <td>FORD</td>\n",
              "      <td>P</td>\n",
              "      <td>37270</td>\n",
              "      <td>11710</td>\n",
              "      <td>12010</td>\n",
              "      <td>20141031</td>\n",
              "      <td>33</td>\n",
              "      <td>33.0</td>\n",
              "      <td>33.0</td>\n",
              "      <td>921043.0</td>\n",
              "      <td>0033</td>\n",
              "      <td>0000</td>\n",
              "      <td>0232P</td>\n",
              "      <td>NY</td>\n",
              "      <td>O</td>\n",
              "      <td>517</td>\n",
              "      <td>W 176 ST</td>\n",
              "      <td>None</td>\n",
              "      <td>0</td>\n",
              "      <td>408.0</td>\n",
              "      <td>F1</td>\n",
              "      <td>BBBBBBB</td>\n",
              "      <td>ALL</td>\n",
              "      <td>ALL</td>\n",
              "      <td>WH</td>\n",
              "      <td>2010.0</td>\n",
              "      <td>-</td>\n",
              "      <td>0.0</td>\n",
              "      <td>None</td>\n",
              "      <td>None</td>\n",
              "    </tr>\n",
              "    <tr>\n",
              "      <th>4</th>\n",
              "      <td>1283294187</td>\n",
              "      <td>91648MC</td>\n",
              "      <td>NY</td>\n",
              "      <td>COM</td>\n",
              "      <td>08/08/2013</td>\n",
              "      <td>41</td>\n",
              "      <td>TRLR</td>\n",
              "      <td>GMC</td>\n",
              "      <td>P</td>\n",
              "      <td>37240</td>\n",
              "      <td>12010</td>\n",
              "      <td>31190</td>\n",
              "      <td>0</td>\n",
              "      <td>33</td>\n",
              "      <td>33.0</td>\n",
              "      <td>33.0</td>\n",
              "      <td>921043.0</td>\n",
              "      <td>0033</td>\n",
              "      <td>0000</td>\n",
              "      <td>1239P</td>\n",
              "      <td>NY</td>\n",
              "      <td>F</td>\n",
              "      <td>590</td>\n",
              "      <td>W 174 ST</td>\n",
              "      <td>None</td>\n",
              "      <td>0</td>\n",
              "      <td>408.0</td>\n",
              "      <td>E1</td>\n",
              "      <td>BBBBBBB</td>\n",
              "      <td>ALL</td>\n",
              "      <td>ALL</td>\n",
              "      <td>BR</td>\n",
              "      <td>2012.0</td>\n",
              "      <td>-</td>\n",
              "      <td>0.0</td>\n",
              "      <td>None</td>\n",
              "      <td>None</td>\n",
              "    </tr>\n",
              "  </tbody>\n",
              "</table>\n",
              "</div>"
            ]
          },
          "metadata": {},
          "execution_count": 25
        }
      ],
      "source": [
        "#drop columns that have more than 80% missing values\n",
        "%%time\n",
        "dfk=dfk.drop(['Time First Observed','Violation Legal Code','Unregistered Vehicle?','No Standing or Stopping Violation', 'Hydrant Violation', 'Double Parking Violation','Latitude','Longitude','Community Board','Community Council ','Census Tract','BIN','BBL','NTA'], axis=1) \n",
        "dfk.head()"
      ]
    },
    {
      "cell_type": "code",
      "execution_count": 26,
      "metadata": {
        "id": "mgsywbiIBbtw",
        "colab": {
          "base_uri": "https://localhost:8080/"
        },
        "outputId": "588ba87e-d76d-4b74-dff3-b62321f212aa"
      },
      "outputs": [
        {
          "output_type": "stream",
          "name": "stdout",
          "text": [
            "CPU times: user 353 ms, sys: 52.7 ms, total: 406 ms\n",
            "Wall time: 2.21 s\n"
          ]
        }
      ],
      "source": [
        "#Not all nan values need to be drop. Hence we fill the Nan values with 0.\n",
        "%%time\n",
        "dfk = dfk.fillna(0)"
      ]
    },
    {
      "cell_type": "code",
      "execution_count": 27,
      "metadata": {
        "id": "KWe0HRZ4Bi5l",
        "colab": {
          "base_uri": "https://localhost:8080/"
        },
        "outputId": "2c8bda67-ec5d-40bb-dc85-743f6d359500"
      },
      "outputs": [
        {
          "output_type": "execute_result",
          "data": {
            "text/plain": [
              "Summons Number                       0\n",
              "Plate ID                             0\n",
              "Registration State                   0\n",
              "Plate Type                           0\n",
              "Issue Date                           0\n",
              "Violation Code                       0\n",
              "Vehicle Body Type                    0\n",
              "Vehicle Make                         0\n",
              "Issuing Agency                       0\n",
              "Street Code1                         0\n",
              "Street Code2                         0\n",
              "Street Code3                         0\n",
              "Vehicle Expiration Date              0\n",
              "Violation Location                   0\n",
              "Violation Precinct                   0\n",
              "Issuer Precinct                      0\n",
              "Issuer Code                          0\n",
              "Issuer Command                       0\n",
              "Issuer Squad                         0\n",
              "Violation Time                       0\n",
              "Violation County                     0\n",
              "Violation In Front Of Or Opposite    0\n",
              "House Number                         0\n",
              "Street Name                          0\n",
              "Intersecting Street                  0\n",
              "Date First Observed                  0\n",
              "Law Section                          0\n",
              "Sub Division                         0\n",
              "Days Parking In Effect               0\n",
              "From Hours In Effect                 0\n",
              "To Hours In Effect                   0\n",
              "Vehicle Color                        0\n",
              "Vehicle Year                         0\n",
              "Meter Number                         0\n",
              "Feet From Curb                       0\n",
              "Violation Post Code                  0\n",
              "Violation Description                0\n",
              "dtype: int64"
            ]
          },
          "metadata": {},
          "execution_count": 27
        }
      ],
      "source": [
        "#check again to ensure the data is clean\n",
        "dfk.isnull().sum()"
      ]
    },
    {
      "cell_type": "markdown",
      "source": [
        ">**Findings ▶** \n",
        "There are some similarity in all 3 libraries in finding and drop missing values. Dask and Koalas uses the same method but PySpark using different method.\n",
        "We found that the fastest library that can do this operation is **Dask** with the total of **1min 54s**.\n",
        ">1. Dask 🕔\n",
        "Dask took **1min 4s** to compute nan values **1.52s** to drop columns and **14.18ms** to fill null values. Total execution time is **1min 6s**, the fastest library.\n",
        "\n",
        ">2. PySpark 🕔\n",
        "PySpark took **7min 50s** to compute nan values **30.6s** to drop columns and **39ms** to fill null values. Total execution time is **8min 34s** which is **8 times slower compared to Dask**.\n",
        "\n",
        ">3. Koalas 🕔\n",
        "PySpark took **1min 12s** to compute nan values **171ms** to drop columns and **2.33s** to fill null values. Total execution time is **1min 15s** which is **9s behind Dask**.\n",
        "\n"
      ],
      "metadata": {
        "id": "oMlzxtbbrSiW"
      }
    },
    {
      "cell_type": "markdown",
      "metadata": {
        "id": "Xbomtg8eCfaQ"
      },
      "source": [
        "\n",
        "\n",
        "---\n",
        "\n",
        "\n",
        "\n",
        "---\n",
        "\n"
      ]
    },
    {
      "cell_type": "markdown",
      "metadata": {
        "id": "_8mbKpS7B_SP"
      },
      "source": [
        "# **`Step 3: Convert column 'Issue Date' to datetime.`**"
      ]
    },
    {
      "cell_type": "markdown",
      "source": [
        "The ` Issue Date`column has string type data hence it need to be change to datetime type."
      ],
      "metadata": {
        "id": "uSytdYFiye7R"
      }
    },
    {
      "cell_type": "markdown",
      "metadata": {
        "id": "ffloctkrCoqv"
      },
      "source": [
        "**1. Dask**"
      ]
    },
    {
      "cell_type": "code",
      "execution_count": 28,
      "metadata": {
        "id": "_sJ60gHDCza5",
        "colab": {
          "base_uri": "https://localhost:8080/"
        },
        "outputId": "b0a1451e-1ab2-46ab-c28f-84e871c670a5"
      },
      "outputs": [
        {
          "output_type": "stream",
          "name": "stdout",
          "text": [
            "CPU times: user 19.6 ms, sys: 0 ns, total: 19.6 ms\n",
            "Wall time: 29.5 ms\n"
          ]
        },
        {
          "output_type": "execute_result",
          "data": {
            "text/plain": [
              "Summons Number                                int32\n",
              "Plate ID                                     object\n",
              "Registration State                           object\n",
              "Plate Type                                   object\n",
              "Issue Date                           datetime64[ns]\n",
              "Violation Code                                int16\n",
              "Vehicle Body Type                            object\n",
              "Vehicle Make                                 object\n",
              "Issuing Agency                               object\n",
              "Street Code1                                  int32\n",
              "Street Code2                                  int32\n",
              "Street Code3                                  int32\n",
              "Vehicle Expiration Date                      object\n",
              "Violation Location                           object\n",
              "Violation Precinct                          float32\n",
              "Issuer Precinct                             float32\n",
              "Issuer Code                                 float32\n",
              "Issuer Command                               object\n",
              "Issuer Squad                                 object\n",
              "Violation Time                               object\n",
              "Violation County                             object\n",
              "Violation In Front Of Or Opposite            object\n",
              "House Number                                 object\n",
              "Street Name                                  object\n",
              "Intersecting Street                          object\n",
              "Date First Observed                          object\n",
              "Law Section                                 float32\n",
              "Sub Division                                 object\n",
              "Days Parking In Effect                       object\n",
              "From Hours In Effect                         object\n",
              "To Hours In Effect                           object\n",
              "Vehicle Color                                object\n",
              "Vehicle Year                                float32\n",
              "Meter Number                                 object\n",
              "Feet From Curb                              float32\n",
              "Violation Post Code                          object\n",
              "Violation Description                        object\n",
              "dtype: object"
            ]
          },
          "metadata": {},
          "execution_count": 28
        }
      ],
      "source": [
        "%%time\n",
        "dfdask['Issue Date'] = dd.to_datetime(dfdask['Issue Date'],format='%m/%d/%Y',errors='coerce')\n",
        "dfdask.dtypes"
      ]
    },
    {
      "cell_type": "markdown",
      "metadata": {
        "id": "nGui82dADhAr"
      },
      "source": [
        "**2. PySpark**"
      ]
    },
    {
      "cell_type": "code",
      "execution_count": 29,
      "metadata": {
        "id": "e_N3JBDHDgGj",
        "colab": {
          "base_uri": "https://localhost:8080/"
        },
        "outputId": "e19bce3f-4b68-4c90-8ee8-5f8aa99f15ac"
      },
      "outputs": [
        {
          "output_type": "stream",
          "name": "stdout",
          "text": [
            "root\n",
            " |-- Summons Number: long (nullable = true)\n",
            " |-- Plate ID: string (nullable = true)\n",
            " |-- Registration State: string (nullable = true)\n",
            " |-- Plate Type: string (nullable = true)\n",
            " |-- Issue Date: date (nullable = true)\n",
            " |-- Violation Code: integer (nullable = true)\n",
            " |-- Vehicle Body Type: string (nullable = true)\n",
            " |-- Vehicle Make: string (nullable = true)\n",
            " |-- Issuing Agency: string (nullable = true)\n",
            " |-- Street Code1: integer (nullable = true)\n",
            " |-- Street Code2: integer (nullable = true)\n",
            " |-- Street Code3: integer (nullable = true)\n",
            " |-- Vehicle Expiration Date: integer (nullable = true)\n",
            " |-- Violation Location: integer (nullable = true)\n",
            " |-- Violation Precinct: integer (nullable = true)\n",
            " |-- Issuer Precinct: integer (nullable = true)\n",
            " |-- Issuer Code: integer (nullable = true)\n",
            " |-- Issuer Command: string (nullable = true)\n",
            " |-- Issuer Squad: string (nullable = true)\n",
            " |-- Violation Time: string (nullable = true)\n",
            " |-- Time First Observed: string (nullable = true)\n",
            " |-- Violation County: string (nullable = true)\n",
            " |-- Violation In Front Of Or Opposite: string (nullable = true)\n",
            " |-- House Number: string (nullable = true)\n",
            " |-- Street Name: string (nullable = true)\n",
            " |-- Intersecting Street: string (nullable = true)\n",
            " |-- Date First Observed: string (nullable = true)\n",
            " |-- Law Section: string (nullable = true)\n",
            " |-- Sub Division: string (nullable = true)\n",
            " |-- Violation Legal Code: string (nullable = true)\n",
            " |-- Days Parking In Effect    : string (nullable = true)\n",
            " |-- From Hours In Effect: string (nullable = true)\n",
            " |-- To Hours In Effect: string (nullable = true)\n",
            " |-- Vehicle Color: string (nullable = true)\n",
            " |-- Unregistered Vehicle?: string (nullable = true)\n",
            " |-- Vehicle Year: string (nullable = true)\n",
            " |-- Meter Number: string (nullable = true)\n",
            " |-- Feet From Curb: string (nullable = true)\n",
            " |-- Violation Post Code: string (nullable = true)\n",
            " |-- Violation Description: string (nullable = true)\n",
            " |-- No Standing or Stopping Violation: string (nullable = true)\n",
            " |-- Hydrant Violation: string (nullable = true)\n",
            " |-- Double Parking Violation: string (nullable = true)\n",
            " |-- Latitude: string (nullable = true)\n",
            " |-- Longitude: string (nullable = true)\n",
            " |-- Community Board: string (nullable = true)\n",
            " |-- Community Council : string (nullable = true)\n",
            " |-- Census Tract: string (nullable = true)\n",
            " |-- BIN: string (nullable = true)\n",
            " |-- BBL: string (nullable = true)\n",
            " |-- NTA: string (nullable = true)\n",
            "\n",
            "CPU times: user 1.6 ms, sys: 0 ns, total: 1.6 ms\n",
            "Wall time: 21.6 ms\n"
          ]
        }
      ],
      "source": [
        "%%time\n",
        "#dfs = dfs.withColumn(\"Issue Date\", to_date(dfs.date_string))\n",
        "#from pyspark.sql.functions import to_date, lit\n",
        "#df.select(\"db_id\", to_date(lit(\"1-12-2022\"),\"d-MM-yyyy\")).show()\n",
        "from pyspark.sql.types import StringType, DateType, FloatType\n",
        "dfs = dfs.withColumn('Issue Date', func.to_date('Issue Date', 'dd/MM/yyyy'))\n",
        "dfs.printSchema()\n"
      ]
    },
    {
      "cell_type": "markdown",
      "metadata": {
        "id": "DIQD4WqAGvdv"
      },
      "source": [
        "**3. Koalas**"
      ]
    },
    {
      "cell_type": "code",
      "execution_count": 30,
      "metadata": {
        "id": "itesHBnSGysl",
        "colab": {
          "base_uri": "https://localhost:8080/"
        },
        "outputId": "cc80c79a-ce19-43d7-e33c-5d1f71a1cc5f"
      },
      "outputs": [
        {
          "output_type": "stream",
          "name": "stderr",
          "text": [
            "/usr/local/lib/python3.8/dist-packages/pyspark/sql/pandas/functions.py:394: UserWarning: In Python 3.6+ and Spark 3.0+, it is preferred to specify type hints for pandas UDF instead of specifying pandas UDF type which will be deprecated in the future releases. See SPARK-28264 for more details.\n",
            "  warnings.warn(\n"
          ]
        },
        {
          "output_type": "stream",
          "name": "stdout",
          "text": [
            "CPU times: user 123 ms, sys: 27 ms, total: 150 ms\n",
            "Wall time: 917 ms\n"
          ]
        },
        {
          "output_type": "execute_result",
          "data": {
            "text/plain": [
              "Summons Number                            int32\n",
              "Plate ID                                 object\n",
              "Registration State                       object\n",
              "Plate Type                               object\n",
              "Issue Date                           datetime64\n",
              "Violation Code                            int32\n",
              "Vehicle Body Type                        object\n",
              "Vehicle Make                             object\n",
              "Issuing Agency                           object\n",
              "Street Code1                              int32\n",
              "Street Code2                              int32\n",
              "Street Code3                              int32\n",
              "Vehicle Expiration Date                  object\n",
              "Violation Location                       object\n",
              "Violation Precinct                      float32\n",
              "Issuer Precinct                         float32\n",
              "Issuer Code                             float32\n",
              "Issuer Command                           object\n",
              "Issuer Squad                             object\n",
              "Violation Time                           object\n",
              "Violation County                         object\n",
              "Violation In Front Of Or Opposite        object\n",
              "House Number                             object\n",
              "Street Name                              object\n",
              "Intersecting Street                      object\n",
              "Date First Observed                      object\n",
              "Law Section                             float32\n",
              "Sub Division                             object\n",
              "Days Parking In Effect                   object\n",
              "From Hours In Effect                     object\n",
              "To Hours In Effect                       object\n",
              "Vehicle Color                            object\n",
              "Vehicle Year                            float32\n",
              "Meter Number                             object\n",
              "Feet From Curb                          float32\n",
              "Violation Post Code                      object\n",
              "Violation Description                    object\n",
              "dtype: object"
            ]
          },
          "metadata": {},
          "execution_count": 30
        }
      ],
      "source": [
        "%%time\n",
        "dfk['Issue Date'] = ks.to_datetime(dfk['Issue Date'],format='%m/%d/%Y',errors='coerce')\n",
        "dfk.dtypes"
      ]
    },
    {
      "cell_type": "markdown",
      "source": [
        ">**Findings ▶** \n",
        "To change dtype of a column Dask and Koalas use the same method which is **to_datetime()**. Meanwhile, PySpark need to use import function **to_date()**.\n",
        "We found that the **fastest library** is **PySpark** that took **22.6ms**.\n",
        ">1. Dask 🕔\n",
        "Dask took **30.9ms** to change dtype from string to datetime which is **12.3s behind PySpark.**\n",
        "\n",
        ">2. PySpark 🕔\n",
        "PySpark is the **fastest** compared to Dask and Koalas with only **22.6ms** to change dtype string to date.\n",
        "\n",
        ">3. Koalas 🕔\n",
        "Koalas remain as the **slowest library** that took **1.13s** to change dtype string to datetime.\n",
        "\n"
      ],
      "metadata": {
        "id": "C8RLdxMlzBSI"
      }
    },
    {
      "cell_type": "markdown",
      "metadata": {
        "id": "IcWEu7qiK9JD"
      },
      "source": [
        "\n",
        "\n",
        "---\n",
        "\n",
        "\n",
        "\n",
        "---\n",
        "\n"
      ]
    },
    {
      "cell_type": "markdown",
      "source": [
        "## **`Step 4: Drop Duplicates of Unique Values`**"
      ],
      "metadata": {
        "id": "nVnubzkU09-V"
      }
    },
    {
      "cell_type": "markdown",
      "source": [
        "In NYC Parking Ticket dataset, the `Summons Number` is a unique value because there can only be 1 record of each summon took. In the dataset, we found that there are duplicates of this value. Hence, we must drop the duplicated value to prevent from errors in analyzing the data."
      ],
      "metadata": {
        "id": "igckTI2N1UPM"
      }
    },
    {
      "cell_type": "markdown",
      "metadata": {
        "id": "tubhedUsK4GO"
      },
      "source": [
        "**1. Dask**"
      ]
    },
    {
      "cell_type": "code",
      "execution_count": 31,
      "metadata": {
        "id": "AKnuukxNKyZ-",
        "colab": {
          "base_uri": "https://localhost:8080/",
          "height": 473
        },
        "outputId": "0ac8af53-a15f-431e-eef7-259c54065090"
      },
      "outputs": [
        {
          "output_type": "stream",
          "name": "stdout",
          "text": [
            "CPU times: user 2.43 s, sys: 55.8 ms, total: 2.48 s\n",
            "Wall time: 2.49 s\n"
          ]
        },
        {
          "output_type": "execute_result",
          "data": {
            "text/plain": [
              "   Summons Number Plate ID Registration State Plate Type Issue Date  \\\n",
              "0      1283294138  GBB9093                 NY        PAS 2013-08-04   \n",
              "1      1283294151  62416MB                 NY        COM 2013-08-04   \n",
              "2      1283294163  78755JZ                 NY        COM 2013-08-05   \n",
              "3      1283294175  63009MA                 NY        COM 2013-08-05   \n",
              "4      1283294187  91648MC                 NY        COM 2013-08-08   \n",
              "\n",
              "   Violation Code Vehicle Body Type Vehicle Make Issuing Agency  Street Code1  \\\n",
              "0              46              SUBN         AUDI              P         37250   \n",
              "1              46               VAN         FORD              P         37290   \n",
              "2              46               P-U        CHEVR              P         37030   \n",
              "3              46               VAN         FORD              P         37270   \n",
              "4              41              TRLR          GMC              P         37240   \n",
              "\n",
              "   ...  Sub Division  Days Parking In Effect     From Hours In Effect  \\\n",
              "0  ...            F1                     BBBBBBB                  ALL   \n",
              "1  ...             C                     BBBBBBB                  ALL   \n",
              "2  ...            F7                     BBBBBBB                  ALL   \n",
              "3  ...            F1                     BBBBBBB                  ALL   \n",
              "4  ...            E1                     BBBBBBB                  ALL   \n",
              "\n",
              "  To Hours In Effect  Vehicle Color  Vehicle Year  Meter Number  \\\n",
              "0                ALL             GY        2013.0             -   \n",
              "1                ALL             WH        2012.0             -   \n",
              "2                ALL              0           0.0             -   \n",
              "3                ALL             WH        2010.0             -   \n",
              "4                ALL             BR        2012.0             -   \n",
              "\n",
              "  Feet From Curb Violation Post Code Violation Description  \n",
              "0            0.0                   0                     0  \n",
              "1            0.0                   0                     0  \n",
              "2            0.0                   0                     0  \n",
              "3            0.0                   0                     0  \n",
              "4            0.0                   0                     0  \n",
              "\n",
              "[5 rows x 37 columns]"
            ],
            "text/html": [
              "\n",
              "  <div id=\"df-9325a1d6-3de4-4a45-934c-780edb44192f\">\n",
              "    <div class=\"colab-df-container\">\n",
              "      <div>\n",
              "<style scoped>\n",
              "    .dataframe tbody tr th:only-of-type {\n",
              "        vertical-align: middle;\n",
              "    }\n",
              "\n",
              "    .dataframe tbody tr th {\n",
              "        vertical-align: top;\n",
              "    }\n",
              "\n",
              "    .dataframe thead th {\n",
              "        text-align: right;\n",
              "    }\n",
              "</style>\n",
              "<table border=\"1\" class=\"dataframe\">\n",
              "  <thead>\n",
              "    <tr style=\"text-align: right;\">\n",
              "      <th></th>\n",
              "      <th>Summons Number</th>\n",
              "      <th>Plate ID</th>\n",
              "      <th>Registration State</th>\n",
              "      <th>Plate Type</th>\n",
              "      <th>Issue Date</th>\n",
              "      <th>Violation Code</th>\n",
              "      <th>Vehicle Body Type</th>\n",
              "      <th>Vehicle Make</th>\n",
              "      <th>Issuing Agency</th>\n",
              "      <th>Street Code1</th>\n",
              "      <th>...</th>\n",
              "      <th>Sub Division</th>\n",
              "      <th>Days Parking In Effect</th>\n",
              "      <th>From Hours In Effect</th>\n",
              "      <th>To Hours In Effect</th>\n",
              "      <th>Vehicle Color</th>\n",
              "      <th>Vehicle Year</th>\n",
              "      <th>Meter Number</th>\n",
              "      <th>Feet From Curb</th>\n",
              "      <th>Violation Post Code</th>\n",
              "      <th>Violation Description</th>\n",
              "    </tr>\n",
              "  </thead>\n",
              "  <tbody>\n",
              "    <tr>\n",
              "      <th>0</th>\n",
              "      <td>1283294138</td>\n",
              "      <td>GBB9093</td>\n",
              "      <td>NY</td>\n",
              "      <td>PAS</td>\n",
              "      <td>2013-08-04</td>\n",
              "      <td>46</td>\n",
              "      <td>SUBN</td>\n",
              "      <td>AUDI</td>\n",
              "      <td>P</td>\n",
              "      <td>37250</td>\n",
              "      <td>...</td>\n",
              "      <td>F1</td>\n",
              "      <td>BBBBBBB</td>\n",
              "      <td>ALL</td>\n",
              "      <td>ALL</td>\n",
              "      <td>GY</td>\n",
              "      <td>2013.0</td>\n",
              "      <td>-</td>\n",
              "      <td>0.0</td>\n",
              "      <td>0</td>\n",
              "      <td>0</td>\n",
              "    </tr>\n",
              "    <tr>\n",
              "      <th>1</th>\n",
              "      <td>1283294151</td>\n",
              "      <td>62416MB</td>\n",
              "      <td>NY</td>\n",
              "      <td>COM</td>\n",
              "      <td>2013-08-04</td>\n",
              "      <td>46</td>\n",
              "      <td>VAN</td>\n",
              "      <td>FORD</td>\n",
              "      <td>P</td>\n",
              "      <td>37290</td>\n",
              "      <td>...</td>\n",
              "      <td>C</td>\n",
              "      <td>BBBBBBB</td>\n",
              "      <td>ALL</td>\n",
              "      <td>ALL</td>\n",
              "      <td>WH</td>\n",
              "      <td>2012.0</td>\n",
              "      <td>-</td>\n",
              "      <td>0.0</td>\n",
              "      <td>0</td>\n",
              "      <td>0</td>\n",
              "    </tr>\n",
              "    <tr>\n",
              "      <th>2</th>\n",
              "      <td>1283294163</td>\n",
              "      <td>78755JZ</td>\n",
              "      <td>NY</td>\n",
              "      <td>COM</td>\n",
              "      <td>2013-08-05</td>\n",
              "      <td>46</td>\n",
              "      <td>P-U</td>\n",
              "      <td>CHEVR</td>\n",
              "      <td>P</td>\n",
              "      <td>37030</td>\n",
              "      <td>...</td>\n",
              "      <td>F7</td>\n",
              "      <td>BBBBBBB</td>\n",
              "      <td>ALL</td>\n",
              "      <td>ALL</td>\n",
              "      <td>0</td>\n",
              "      <td>0.0</td>\n",
              "      <td>-</td>\n",
              "      <td>0.0</td>\n",
              "      <td>0</td>\n",
              "      <td>0</td>\n",
              "    </tr>\n",
              "    <tr>\n",
              "      <th>3</th>\n",
              "      <td>1283294175</td>\n",
              "      <td>63009MA</td>\n",
              "      <td>NY</td>\n",
              "      <td>COM</td>\n",
              "      <td>2013-08-05</td>\n",
              "      <td>46</td>\n",
              "      <td>VAN</td>\n",
              "      <td>FORD</td>\n",
              "      <td>P</td>\n",
              "      <td>37270</td>\n",
              "      <td>...</td>\n",
              "      <td>F1</td>\n",
              "      <td>BBBBBBB</td>\n",
              "      <td>ALL</td>\n",
              "      <td>ALL</td>\n",
              "      <td>WH</td>\n",
              "      <td>2010.0</td>\n",
              "      <td>-</td>\n",
              "      <td>0.0</td>\n",
              "      <td>0</td>\n",
              "      <td>0</td>\n",
              "    </tr>\n",
              "    <tr>\n",
              "      <th>4</th>\n",
              "      <td>1283294187</td>\n",
              "      <td>91648MC</td>\n",
              "      <td>NY</td>\n",
              "      <td>COM</td>\n",
              "      <td>2013-08-08</td>\n",
              "      <td>41</td>\n",
              "      <td>TRLR</td>\n",
              "      <td>GMC</td>\n",
              "      <td>P</td>\n",
              "      <td>37240</td>\n",
              "      <td>...</td>\n",
              "      <td>E1</td>\n",
              "      <td>BBBBBBB</td>\n",
              "      <td>ALL</td>\n",
              "      <td>ALL</td>\n",
              "      <td>BR</td>\n",
              "      <td>2012.0</td>\n",
              "      <td>-</td>\n",
              "      <td>0.0</td>\n",
              "      <td>0</td>\n",
              "      <td>0</td>\n",
              "    </tr>\n",
              "  </tbody>\n",
              "</table>\n",
              "<p>5 rows × 37 columns</p>\n",
              "</div>\n",
              "      <button class=\"colab-df-convert\" onclick=\"convertToInteractive('df-9325a1d6-3de4-4a45-934c-780edb44192f')\"\n",
              "              title=\"Convert this dataframe to an interactive table.\"\n",
              "              style=\"display:none;\">\n",
              "        \n",
              "  <svg xmlns=\"http://www.w3.org/2000/svg\" height=\"24px\"viewBox=\"0 0 24 24\"\n",
              "       width=\"24px\">\n",
              "    <path d=\"M0 0h24v24H0V0z\" fill=\"none\"/>\n",
              "    <path d=\"M18.56 5.44l.94 2.06.94-2.06 2.06-.94-2.06-.94-.94-2.06-.94 2.06-2.06.94zm-11 1L8.5 8.5l.94-2.06 2.06-.94-2.06-.94L8.5 2.5l-.94 2.06-2.06.94zm10 10l.94 2.06.94-2.06 2.06-.94-2.06-.94-.94-2.06-.94 2.06-2.06.94z\"/><path d=\"M17.41 7.96l-1.37-1.37c-.4-.4-.92-.59-1.43-.59-.52 0-1.04.2-1.43.59L10.3 9.45l-7.72 7.72c-.78.78-.78 2.05 0 2.83L4 21.41c.39.39.9.59 1.41.59.51 0 1.02-.2 1.41-.59l7.78-7.78 2.81-2.81c.8-.78.8-2.07 0-2.86zM5.41 20L4 18.59l7.72-7.72 1.47 1.35L5.41 20z\"/>\n",
              "  </svg>\n",
              "      </button>\n",
              "      \n",
              "  <style>\n",
              "    .colab-df-container {\n",
              "      display:flex;\n",
              "      flex-wrap:wrap;\n",
              "      gap: 12px;\n",
              "    }\n",
              "\n",
              "    .colab-df-convert {\n",
              "      background-color: #E8F0FE;\n",
              "      border: none;\n",
              "      border-radius: 50%;\n",
              "      cursor: pointer;\n",
              "      display: none;\n",
              "      fill: #1967D2;\n",
              "      height: 32px;\n",
              "      padding: 0 0 0 0;\n",
              "      width: 32px;\n",
              "    }\n",
              "\n",
              "    .colab-df-convert:hover {\n",
              "      background-color: #E2EBFA;\n",
              "      box-shadow: 0px 1px 2px rgba(60, 64, 67, 0.3), 0px 1px 3px 1px rgba(60, 64, 67, 0.15);\n",
              "      fill: #174EA6;\n",
              "    }\n",
              "\n",
              "    [theme=dark] .colab-df-convert {\n",
              "      background-color: #3B4455;\n",
              "      fill: #D2E3FC;\n",
              "    }\n",
              "\n",
              "    [theme=dark] .colab-df-convert:hover {\n",
              "      background-color: #434B5C;\n",
              "      box-shadow: 0px 1px 3px 1px rgba(0, 0, 0, 0.15);\n",
              "      filter: drop-shadow(0px 1px 2px rgba(0, 0, 0, 0.3));\n",
              "      fill: #FFFFFF;\n",
              "    }\n",
              "  </style>\n",
              "\n",
              "      <script>\n",
              "        const buttonEl =\n",
              "          document.querySelector('#df-9325a1d6-3de4-4a45-934c-780edb44192f button.colab-df-convert');\n",
              "        buttonEl.style.display =\n",
              "          google.colab.kernel.accessAllowed ? 'block' : 'none';\n",
              "\n",
              "        async function convertToInteractive(key) {\n",
              "          const element = document.querySelector('#df-9325a1d6-3de4-4a45-934c-780edb44192f');\n",
              "          const dataTable =\n",
              "            await google.colab.kernel.invokeFunction('convertToInteractive',\n",
              "                                                     [key], {});\n",
              "          if (!dataTable) return;\n",
              "\n",
              "          const docLinkHtml = 'Like what you see? Visit the ' +\n",
              "            '<a target=\"_blank\" href=https://colab.research.google.com/notebooks/data_table.ipynb>data table notebook</a>'\n",
              "            + ' to learn more about interactive tables.';\n",
              "          element.innerHTML = '';\n",
              "          dataTable['output_type'] = 'display_data';\n",
              "          await google.colab.output.renderOutput(dataTable, element);\n",
              "          const docLink = document.createElement('div');\n",
              "          docLink.innerHTML = docLinkHtml;\n",
              "          element.appendChild(docLink);\n",
              "        }\n",
              "      </script>\n",
              "    </div>\n",
              "  </div>\n",
              "  "
            ]
          },
          "metadata": {},
          "execution_count": 31
        }
      ],
      "source": [
        "%%time\n",
        "dfdask.drop_duplicates(subset = ['Summons Number'], inplace = True)\n",
        "dfdask.head()\n"
      ]
    },
    {
      "cell_type": "markdown",
      "metadata": {
        "id": "ne9WH-XzO6AD"
      },
      "source": [
        "**2. PySpark**"
      ]
    },
    {
      "cell_type": "code",
      "execution_count": 32,
      "metadata": {
        "id": "dDxgs4VLN9HJ",
        "colab": {
          "base_uri": "https://localhost:8080/"
        },
        "outputId": "0b7945c8-4045-467e-8e1b-3a2f8278ed4f"
      },
      "outputs": [
        {
          "output_type": "stream",
          "name": "stdout",
          "text": [
            "+--------------+--------+------------------+----------+----------+--------------+-----------------+------------+--------------+------------+------------+------------+-----------------------+------------------+------------------+---------------+-----------+--------------+------------+--------------+-------------------+----------------+---------------------------------+------------+-----------+-------------------+-------------------+-----------+------------+--------------------+--------------------------+--------------------+------------------+-------------+---------------------+------------+------------+--------------+-------------------+---------------------+---------------------------------+-----------------+------------------------+--------+---------+---------------+------------------+------------+----+----+----+\n",
            "|Summons Number|Plate ID|Registration State|Plate Type|Issue Date|Violation Code|Vehicle Body Type|Vehicle Make|Issuing Agency|Street Code1|Street Code2|Street Code3|Vehicle Expiration Date|Violation Location|Violation Precinct|Issuer Precinct|Issuer Code|Issuer Command|Issuer Squad|Violation Time|Time First Observed|Violation County|Violation In Front Of Or Opposite|House Number|Street Name|Intersecting Street|Date First Observed|Law Section|Sub Division|Violation Legal Code|Days Parking In Effect    |From Hours In Effect|To Hours In Effect|Vehicle Color|Unregistered Vehicle?|Vehicle Year|Meter Number|Feet From Curb|Violation Post Code|Violation Description|No Standing or Stopping Violation|Hydrant Violation|Double Parking Violation|Latitude|Longitude|Community Board|Community Council |Census Tract| BIN| BBL| NTA|\n",
            "+--------------+--------+------------------+----------+----------+--------------+-----------------+------------+--------------+------------+------------+------------+-----------------------+------------------+------------------+---------------+-----------+--------------+------------+--------------+-------------------+----------------+---------------------------------+------------+-----------+-------------------+-------------------+-----------+------------+--------------------+--------------------------+--------------------+------------------+-------------+---------------------+------------+------------+--------------+-------------------+---------------------+---------------------------------+-----------------+------------------------+--------+---------+---------------+------------------+------------+----+----+----+\n",
            "|    1283294138| GBB9093|                NY|       PAS|2013-04-08|            46|             SUBN|        AUDI|             P|       37250|       13610|       21190|               20140831|                33|                33|             33|     921043|          0033|        0000|         0752A|               null|            null|                                F|         712|   W 175 ST|               null|                  0|        408|          F1|                null|                   BBBBBBB|                 ALL|               ALL|           GY|                    0|        2013|           -|             0|               null|                 null|                             null|             null|                    null|    null|     null|           null|              null|        null|null|null|null|\n",
            "|    1283294151| 62416MB|                NY|       COM|2013-04-08|            46|              VAN|        FORD|             P|       37290|       40404|       40404|               20140430|                33|                33|             33|     921043|          0033|        0000|         1240P|               null|              NY|                                O|         201|   W 177 ST|               null|                  0|        408|           C|                null|                   BBBBBBB|                 ALL|               ALL|           WH|                    0|        2012|           -|             0|               null|                 null|                             null|             null|                    null|    null|     null|           null|              null|        null|null|null|null|\n",
            "|    1283294163| 78755JZ|                NY|       COM|2013-05-08|            46|              P-U|       CHEVR|             P|       37030|       31190|       13610|               20140228|                33|                33|             33|     921043|          0033|        0000|         1243P|               null|              NY|                                O|         520|   W 163 ST|               null|                  0|        408|          F7|                null|                   BBBBBBB|                 ALL|               ALL|         null|                    0|           0|           -|             0|               null|                 null|                             null|             null|                    null|    null|     null|           null|              null|        null|null|null|null|\n",
            "|    1283294175| 63009MA|                NY|       COM|2013-05-08|            46|              VAN|        FORD|             P|       37270|       11710|       12010|               20141031|                33|                33|             33|     921043|          0033|        0000|         0232P|               null|              NY|                                O|         517|   W 176 ST|               null|                  0|        408|          F1|                null|                   BBBBBBB|                 ALL|               ALL|           WH|                    0|        2010|           -|             0|               null|                 null|                             null|             null|                    null|    null|     null|           null|              null|        null|null|null|null|\n",
            "|    1283294187| 91648MC|                NY|       COM|2013-08-08|            41|             TRLR|         GMC|             P|       37240|       12010|       31190|                      0|                33|                33|             33|     921043|          0033|        0000|         1239P|               null|              NY|                                F|         590|   W 174 ST|               null|                  0|        408|          E1|                null|                   BBBBBBB|                 ALL|               ALL|           BR|                    0|        2012|           -|             0|               null|                 null|                             null|             null|                    null|    null|     null|           null|              null|        null|null|null|null|\n",
            "+--------------+--------+------------------+----------+----------+--------------+-----------------+------------+--------------+------------+------------+------------+-----------------------+------------------+------------------+---------------+-----------+--------------+------------+--------------+-------------------+----------------+---------------------------------+------------+-----------+-------------------+-------------------+-----------+------------+--------------------+--------------------------+--------------------+------------------+-------------+---------------------+------------+------------+--------------+-------------------+---------------------+---------------------------------+-----------------+------------------------+--------+---------+---------------+------------------+------------+----+----+----+\n",
            "only showing top 5 rows\n",
            "\n",
            "CPU times: user 8.09 ms, sys: 0 ns, total: 8.09 ms\n",
            "Wall time: 302 ms\n"
          ]
        }
      ],
      "source": [
        "#dfs.drop_duplicates(subset = ['Summons Number'], inplace = True)\n",
        "%%time\n",
        "dfs.dropDuplicates(['Summons Number'])\n",
        "dfs.show(5)"
      ]
    },
    {
      "cell_type": "markdown",
      "metadata": {
        "id": "Ku1er27V-Fqy"
      },
      "source": [
        "**3. Koalas**"
      ]
    },
    {
      "cell_type": "code",
      "execution_count": 33,
      "metadata": {
        "id": "vdVv4Hku-Cd_",
        "colab": {
          "base_uri": "https://localhost:8080/",
          "height": 451
        },
        "outputId": "76520a53-4e38-4c2a-9f1d-6d1ee1b6f0e8"
      },
      "outputs": [
        {
          "output_type": "stream",
          "name": "stdout",
          "text": [
            "CPU times: user 216 ms, sys: 41.4 ms, total: 257 ms\n",
            "Wall time: 1.91 s\n"
          ]
        },
        {
          "output_type": "execute_result",
          "data": {
            "text/plain": [
              "        Summons Number Plate ID Registration State Plate Type Issue Date  Violation Code Vehicle Body Type Vehicle Make Issuing Agency  Street Code1  Street Code2  Street Code3 Vehicle Expiration Date Violation Location  Violation Precinct  Issuer Precinct  Issuer Code Issuer Command Issuer Squad Violation Time Violation County Violation In Front Of Or Opposite House Number      Street Name Intersecting Street Date First Observed  Law Section Sub Division Days Parking In Effect     From Hours In Effect To Hours In Effect Vehicle Color  Vehicle Year Meter Number  Feet From Curb Violation Post Code           Violation Description\n",
              "84217      -1589820192   611YJS                 CT        PAS 2013-07-29              38              4DSD        HONDA              T         54580             0             0                20130088                109               109.0            109.0     355249.0           T401            P          0240P                Q                                 I            E          Main St  29ft N/of Peck Ave                   0        408.0           h1                          Y                0900A              0700P          GREY           0.0         None             0.0                03 -  38-Failure to Display Muni Rec\n",
              "84222      -1589820090  7AM9586                 MD        PAS 2013-07-30              38              SUBN        HONDA              T             0         40404         40404                20131188                109               109.0            109.0     356334.0           T401            M          0615A                Q                                 I         None  Flushing Lot #1                None                   0        408.0           h1                          Y                0600A              1000P          GREY           0.0         None             0.0                 A -  38-Failure to Display Muni Rec\n",
              "502091     -1589819695  24490MD                 NY        COM 2013-07-30              51               VAN        ISUZU              T          8140          8990          9140                20150228                114               114.0            114.0     356329.0           T401            O          0333P                Q                                 O        38-06          31st St                None                   0        408.0           e3                       None                 None               None            WH        2001.0         None             0.0                 D -                     51-Sidewalk\n",
              "502054     -1589819475  FHV4577                 NY        PAS 2013-07-31              74              SUBN        NISSA              T         18240          8190         57790                20150316                115               115.0            115.0     357084.0           T401            E          1014A                Q                                 F        32-45          90th St                None                   0        408.0           j2                       None                 None               None            BL        2008.0         None             0.0                16 -        74-Missing Display Plate\n",
              "502133     -1589819025  FXX6070                 NY        PAS 2013-08-01              20              SUBN          GMC              T         14740         58190         45490                20140515                104               104.0            104.0     357054.0           T401            K          1123A                Q                                 O        58-11         70th Ave                None                   0        408.0            d                          Y                0800A              0600P            GY        2003.0         None             0.0                62-A        20A-No Parking (Non-COM)"
            ],
            "text/html": [
              "<div>\n",
              "<style scoped>\n",
              "    .dataframe tbody tr th:only-of-type {\n",
              "        vertical-align: middle;\n",
              "    }\n",
              "\n",
              "    .dataframe tbody tr th {\n",
              "        vertical-align: top;\n",
              "    }\n",
              "\n",
              "    .dataframe thead th {\n",
              "        text-align: right;\n",
              "    }\n",
              "</style>\n",
              "<table border=\"1\" class=\"dataframe\">\n",
              "  <thead>\n",
              "    <tr style=\"text-align: right;\">\n",
              "      <th></th>\n",
              "      <th>Summons Number</th>\n",
              "      <th>Plate ID</th>\n",
              "      <th>Registration State</th>\n",
              "      <th>Plate Type</th>\n",
              "      <th>Issue Date</th>\n",
              "      <th>Violation Code</th>\n",
              "      <th>Vehicle Body Type</th>\n",
              "      <th>Vehicle Make</th>\n",
              "      <th>Issuing Agency</th>\n",
              "      <th>Street Code1</th>\n",
              "      <th>Street Code2</th>\n",
              "      <th>Street Code3</th>\n",
              "      <th>Vehicle Expiration Date</th>\n",
              "      <th>Violation Location</th>\n",
              "      <th>Violation Precinct</th>\n",
              "      <th>Issuer Precinct</th>\n",
              "      <th>Issuer Code</th>\n",
              "      <th>Issuer Command</th>\n",
              "      <th>Issuer Squad</th>\n",
              "      <th>Violation Time</th>\n",
              "      <th>Violation County</th>\n",
              "      <th>Violation In Front Of Or Opposite</th>\n",
              "      <th>House Number</th>\n",
              "      <th>Street Name</th>\n",
              "      <th>Intersecting Street</th>\n",
              "      <th>Date First Observed</th>\n",
              "      <th>Law Section</th>\n",
              "      <th>Sub Division</th>\n",
              "      <th>Days Parking In Effect</th>\n",
              "      <th>From Hours In Effect</th>\n",
              "      <th>To Hours In Effect</th>\n",
              "      <th>Vehicle Color</th>\n",
              "      <th>Vehicle Year</th>\n",
              "      <th>Meter Number</th>\n",
              "      <th>Feet From Curb</th>\n",
              "      <th>Violation Post Code</th>\n",
              "      <th>Violation Description</th>\n",
              "    </tr>\n",
              "  </thead>\n",
              "  <tbody>\n",
              "    <tr>\n",
              "      <th>84217</th>\n",
              "      <td>-1589820192</td>\n",
              "      <td>611YJS</td>\n",
              "      <td>CT</td>\n",
              "      <td>PAS</td>\n",
              "      <td>2013-07-29</td>\n",
              "      <td>38</td>\n",
              "      <td>4DSD</td>\n",
              "      <td>HONDA</td>\n",
              "      <td>T</td>\n",
              "      <td>54580</td>\n",
              "      <td>0</td>\n",
              "      <td>0</td>\n",
              "      <td>20130088</td>\n",
              "      <td>109</td>\n",
              "      <td>109.0</td>\n",
              "      <td>109.0</td>\n",
              "      <td>355249.0</td>\n",
              "      <td>T401</td>\n",
              "      <td>P</td>\n",
              "      <td>0240P</td>\n",
              "      <td>Q</td>\n",
              "      <td>I</td>\n",
              "      <td>E</td>\n",
              "      <td>Main St</td>\n",
              "      <td>29ft N/of Peck Ave</td>\n",
              "      <td>0</td>\n",
              "      <td>408.0</td>\n",
              "      <td>h1</td>\n",
              "      <td>Y</td>\n",
              "      <td>0900A</td>\n",
              "      <td>0700P</td>\n",
              "      <td>GREY</td>\n",
              "      <td>0.0</td>\n",
              "      <td>None</td>\n",
              "      <td>0.0</td>\n",
              "      <td>03 -</td>\n",
              "      <td>38-Failure to Display Muni Rec</td>\n",
              "    </tr>\n",
              "    <tr>\n",
              "      <th>84222</th>\n",
              "      <td>-1589820090</td>\n",
              "      <td>7AM9586</td>\n",
              "      <td>MD</td>\n",
              "      <td>PAS</td>\n",
              "      <td>2013-07-30</td>\n",
              "      <td>38</td>\n",
              "      <td>SUBN</td>\n",
              "      <td>HONDA</td>\n",
              "      <td>T</td>\n",
              "      <td>0</td>\n",
              "      <td>40404</td>\n",
              "      <td>40404</td>\n",
              "      <td>20131188</td>\n",
              "      <td>109</td>\n",
              "      <td>109.0</td>\n",
              "      <td>109.0</td>\n",
              "      <td>356334.0</td>\n",
              "      <td>T401</td>\n",
              "      <td>M</td>\n",
              "      <td>0615A</td>\n",
              "      <td>Q</td>\n",
              "      <td>I</td>\n",
              "      <td>None</td>\n",
              "      <td>Flushing Lot #1</td>\n",
              "      <td>None</td>\n",
              "      <td>0</td>\n",
              "      <td>408.0</td>\n",
              "      <td>h1</td>\n",
              "      <td>Y</td>\n",
              "      <td>0600A</td>\n",
              "      <td>1000P</td>\n",
              "      <td>GREY</td>\n",
              "      <td>0.0</td>\n",
              "      <td>None</td>\n",
              "      <td>0.0</td>\n",
              "      <td>A -</td>\n",
              "      <td>38-Failure to Display Muni Rec</td>\n",
              "    </tr>\n",
              "    <tr>\n",
              "      <th>502091</th>\n",
              "      <td>-1589819695</td>\n",
              "      <td>24490MD</td>\n",
              "      <td>NY</td>\n",
              "      <td>COM</td>\n",
              "      <td>2013-07-30</td>\n",
              "      <td>51</td>\n",
              "      <td>VAN</td>\n",
              "      <td>ISUZU</td>\n",
              "      <td>T</td>\n",
              "      <td>8140</td>\n",
              "      <td>8990</td>\n",
              "      <td>9140</td>\n",
              "      <td>20150228</td>\n",
              "      <td>114</td>\n",
              "      <td>114.0</td>\n",
              "      <td>114.0</td>\n",
              "      <td>356329.0</td>\n",
              "      <td>T401</td>\n",
              "      <td>O</td>\n",
              "      <td>0333P</td>\n",
              "      <td>Q</td>\n",
              "      <td>O</td>\n",
              "      <td>38-06</td>\n",
              "      <td>31st St</td>\n",
              "      <td>None</td>\n",
              "      <td>0</td>\n",
              "      <td>408.0</td>\n",
              "      <td>e3</td>\n",
              "      <td>None</td>\n",
              "      <td>None</td>\n",
              "      <td>None</td>\n",
              "      <td>WH</td>\n",
              "      <td>2001.0</td>\n",
              "      <td>None</td>\n",
              "      <td>0.0</td>\n",
              "      <td>D -</td>\n",
              "      <td>51-Sidewalk</td>\n",
              "    </tr>\n",
              "    <tr>\n",
              "      <th>502054</th>\n",
              "      <td>-1589819475</td>\n",
              "      <td>FHV4577</td>\n",
              "      <td>NY</td>\n",
              "      <td>PAS</td>\n",
              "      <td>2013-07-31</td>\n",
              "      <td>74</td>\n",
              "      <td>SUBN</td>\n",
              "      <td>NISSA</td>\n",
              "      <td>T</td>\n",
              "      <td>18240</td>\n",
              "      <td>8190</td>\n",
              "      <td>57790</td>\n",
              "      <td>20150316</td>\n",
              "      <td>115</td>\n",
              "      <td>115.0</td>\n",
              "      <td>115.0</td>\n",
              "      <td>357084.0</td>\n",
              "      <td>T401</td>\n",
              "      <td>E</td>\n",
              "      <td>1014A</td>\n",
              "      <td>Q</td>\n",
              "      <td>F</td>\n",
              "      <td>32-45</td>\n",
              "      <td>90th St</td>\n",
              "      <td>None</td>\n",
              "      <td>0</td>\n",
              "      <td>408.0</td>\n",
              "      <td>j2</td>\n",
              "      <td>None</td>\n",
              "      <td>None</td>\n",
              "      <td>None</td>\n",
              "      <td>BL</td>\n",
              "      <td>2008.0</td>\n",
              "      <td>None</td>\n",
              "      <td>0.0</td>\n",
              "      <td>16 -</td>\n",
              "      <td>74-Missing Display Plate</td>\n",
              "    </tr>\n",
              "    <tr>\n",
              "      <th>502133</th>\n",
              "      <td>-1589819025</td>\n",
              "      <td>FXX6070</td>\n",
              "      <td>NY</td>\n",
              "      <td>PAS</td>\n",
              "      <td>2013-08-01</td>\n",
              "      <td>20</td>\n",
              "      <td>SUBN</td>\n",
              "      <td>GMC</td>\n",
              "      <td>T</td>\n",
              "      <td>14740</td>\n",
              "      <td>58190</td>\n",
              "      <td>45490</td>\n",
              "      <td>20140515</td>\n",
              "      <td>104</td>\n",
              "      <td>104.0</td>\n",
              "      <td>104.0</td>\n",
              "      <td>357054.0</td>\n",
              "      <td>T401</td>\n",
              "      <td>K</td>\n",
              "      <td>1123A</td>\n",
              "      <td>Q</td>\n",
              "      <td>O</td>\n",
              "      <td>58-11</td>\n",
              "      <td>70th Ave</td>\n",
              "      <td>None</td>\n",
              "      <td>0</td>\n",
              "      <td>408.0</td>\n",
              "      <td>d</td>\n",
              "      <td>Y</td>\n",
              "      <td>0800A</td>\n",
              "      <td>0600P</td>\n",
              "      <td>GY</td>\n",
              "      <td>2003.0</td>\n",
              "      <td>None</td>\n",
              "      <td>0.0</td>\n",
              "      <td>62-A</td>\n",
              "      <td>20A-No Parking (Non-COM)</td>\n",
              "    </tr>\n",
              "  </tbody>\n",
              "</table>\n",
              "</div>"
            ]
          },
          "metadata": {},
          "execution_count": 33
        }
      ],
      "source": [
        "%%time\n",
        "dfk.drop_duplicates(subset = ['Summons Number'], inplace = True)\n",
        "dfk.head()\n"
      ]
    },
    {
      "cell_type": "markdown",
      "source": [
        ">**Findings ▶** \n",
        "In order to remove or drop duplicate values Dask and Koalas use the same method which is **dataframe.drop_duplicates()** while PySpark uses **dataframe.dropDuplicates()**. For this operation, PySpark is the fastest library which took **273ms**.\n",
        "\n",
        ">1. Dask 🕔\n",
        "Dask took **2.33s** to remove the duplicates value of `Summons Number` and is the second fastest after PySpark.\n",
        "\n",
        ">2. PySpark 🕔\n",
        "PySpark is the **fastest** compared to Dask and Koalas with only **273ms** to remove duplicate values of `Summons Number` .\n",
        "\n",
        ">3. Koalas 🕔\n",
        "Koalas remain as the **slowest library** that took **12.55s** to remove duplicate values of `Summons Number` ."
      ],
      "metadata": {
        "id": "8_UKMI5N1-P7"
      }
    },
    {
      "cell_type": "markdown",
      "metadata": {
        "id": "k4R8HM5oUG51"
      },
      "source": [
        "# Exploratory Analysis and Visualization\n",
        "\n"
      ]
    },
    {
      "cell_type": "markdown",
      "metadata": {
        "id": "9mXdoqL8VEDo"
      },
      "source": [
        "\n",
        "\n",
        "> Instructions (delete this cell)\n",
        "\n",
        "* Compute the mean, sum, range and other \n",
        "interesting statistics for numeric columns\n",
        "* Explore distributions of numeric columns using histograms etc.\n",
        "* Explore relationship between columns using scatter plots, bar charts etc.\n",
        "* Make a note of interesting insights from the exploratory analysis\n",
        "\n"
      ]
    },
    {
      "cell_type": "markdown",
      "metadata": {
        "id": "L1fkwPli4Vkw"
      },
      "source": [
        "**Pandas**"
      ]
    },
    {
      "cell_type": "code",
      "execution_count": 33,
      "metadata": {
        "id": "1p-1yPYLU56a"
      },
      "outputs": [],
      "source": []
    },
    {
      "cell_type": "markdown",
      "metadata": {
        "id": "l3kBH1wi4vk_"
      },
      "source": [
        "**Dask**"
      ]
    },
    {
      "cell_type": "code",
      "execution_count": 33,
      "metadata": {
        "id": "V6-6BrCd4TmM"
      },
      "outputs": [],
      "source": []
    },
    {
      "cell_type": "markdown",
      "metadata": {
        "id": "Hhnxx_N-40VG"
      },
      "source": [
        "**Polars**"
      ]
    },
    {
      "cell_type": "code",
      "execution_count": 33,
      "metadata": {
        "id": "XTp-Jneb4TzB"
      },
      "outputs": [],
      "source": []
    },
    {
      "cell_type": "code",
      "execution_count": 33,
      "metadata": {
        "id": "FZcBLYak4UX-"
      },
      "outputs": [],
      "source": []
    },
    {
      "cell_type": "code",
      "execution_count": 33,
      "metadata": {
        "id": "qqCu-ay84Ufe"
      },
      "outputs": [],
      "source": []
    },
    {
      "cell_type": "code",
      "execution_count": 33,
      "metadata": {
        "id": "23xQ4v9c4UnQ"
      },
      "outputs": [],
      "source": []
    },
    {
      "cell_type": "markdown",
      "metadata": {
        "id": "PDHIlU3SU8ZO"
      },
      "source": [
        "# Asking and Answering Questions"
      ]
    },
    {
      "cell_type": "markdown",
      "metadata": {
        "id": "TCeS_kaYVhIy"
      },
      "source": [
        "> Instructions (delete this cell)\n",
        "\n",
        "* Ask at least 5 interesting questions about your dataset\n",
        "* Answer the questions either by computing the results using Numpy/Pandas or by plotting graphs using Matplotlib/Seaborn\n",
        "* Create new columns, merge multiple dataset and perform grouping/aggregation wherever necessary\n",
        "* Wherever you're using a library function from Pandas/Numpy/Matplotlib etc. explain briefly what it does"
      ]
    },
    {
      "cell_type": "markdown",
      "metadata": {
        "id": "nL2iosucQwow"
      },
      "source": [
        "### 1. Dask"
      ]
    },
    {
      "cell_type": "markdown",
      "metadata": {
        "id": "_EFMAKdhgn70"
      },
      "source": [
        "a. What is the most common plate type?"
      ]
    },
    {
      "cell_type": "code",
      "execution_count": 34,
      "metadata": {
        "id": "JzMvGiTkrNwh",
        "colab": {
          "base_uri": "https://localhost:8080/",
          "height": 272
        },
        "outputId": "d2f841ab-acc9-455d-8608-7bd2eef23f30"
      },
      "outputs": [
        {
          "output_type": "stream",
          "name": "stdout",
          "text": [
            "CPU times: user 1min 18s, sys: 1.81 s, total: 1min 20s\n",
            "Wall time: 1min 4s\n"
          ]
        },
        {
          "output_type": "execute_result",
          "data": {
            "text/plain": [
              "      Plate Type\n",
              "Name            \n",
              "PAS      6511094\n",
              "COM      1887869\n",
              "OMT       235273\n",
              "SRF        96764\n",
              "OMS        75041"
            ],
            "text/html": [
              "\n",
              "  <div id=\"df-2719ead2-510d-423b-9c84-ece9982140e9\">\n",
              "    <div class=\"colab-df-container\">\n",
              "      <div>\n",
              "<style scoped>\n",
              "    .dataframe tbody tr th:only-of-type {\n",
              "        vertical-align: middle;\n",
              "    }\n",
              "\n",
              "    .dataframe tbody tr th {\n",
              "        vertical-align: top;\n",
              "    }\n",
              "\n",
              "    .dataframe thead th {\n",
              "        text-align: right;\n",
              "    }\n",
              "</style>\n",
              "<table border=\"1\" class=\"dataframe\">\n",
              "  <thead>\n",
              "    <tr style=\"text-align: right;\">\n",
              "      <th></th>\n",
              "      <th>Plate Type</th>\n",
              "    </tr>\n",
              "    <tr>\n",
              "      <th>Name</th>\n",
              "      <th></th>\n",
              "    </tr>\n",
              "  </thead>\n",
              "  <tbody>\n",
              "    <tr>\n",
              "      <th>PAS</th>\n",
              "      <td>6511094</td>\n",
              "    </tr>\n",
              "    <tr>\n",
              "      <th>COM</th>\n",
              "      <td>1887869</td>\n",
              "    </tr>\n",
              "    <tr>\n",
              "      <th>OMT</th>\n",
              "      <td>235273</td>\n",
              "    </tr>\n",
              "    <tr>\n",
              "      <th>SRF</th>\n",
              "      <td>96764</td>\n",
              "    </tr>\n",
              "    <tr>\n",
              "      <th>OMS</th>\n",
              "      <td>75041</td>\n",
              "    </tr>\n",
              "  </tbody>\n",
              "</table>\n",
              "</div>\n",
              "      <button class=\"colab-df-convert\" onclick=\"convertToInteractive('df-2719ead2-510d-423b-9c84-ece9982140e9')\"\n",
              "              title=\"Convert this dataframe to an interactive table.\"\n",
              "              style=\"display:none;\">\n",
              "        \n",
              "  <svg xmlns=\"http://www.w3.org/2000/svg\" height=\"24px\"viewBox=\"0 0 24 24\"\n",
              "       width=\"24px\">\n",
              "    <path d=\"M0 0h24v24H0V0z\" fill=\"none\"/>\n",
              "    <path d=\"M18.56 5.44l.94 2.06.94-2.06 2.06-.94-2.06-.94-.94-2.06-.94 2.06-2.06.94zm-11 1L8.5 8.5l.94-2.06 2.06-.94-2.06-.94L8.5 2.5l-.94 2.06-2.06.94zm10 10l.94 2.06.94-2.06 2.06-.94-2.06-.94-.94-2.06-.94 2.06-2.06.94z\"/><path d=\"M17.41 7.96l-1.37-1.37c-.4-.4-.92-.59-1.43-.59-.52 0-1.04.2-1.43.59L10.3 9.45l-7.72 7.72c-.78.78-.78 2.05 0 2.83L4 21.41c.39.39.9.59 1.41.59.51 0 1.02-.2 1.41-.59l7.78-7.78 2.81-2.81c.8-.78.8-2.07 0-2.86zM5.41 20L4 18.59l7.72-7.72 1.47 1.35L5.41 20z\"/>\n",
              "  </svg>\n",
              "      </button>\n",
              "      \n",
              "  <style>\n",
              "    .colab-df-container {\n",
              "      display:flex;\n",
              "      flex-wrap:wrap;\n",
              "      gap: 12px;\n",
              "    }\n",
              "\n",
              "    .colab-df-convert {\n",
              "      background-color: #E8F0FE;\n",
              "      border: none;\n",
              "      border-radius: 50%;\n",
              "      cursor: pointer;\n",
              "      display: none;\n",
              "      fill: #1967D2;\n",
              "      height: 32px;\n",
              "      padding: 0 0 0 0;\n",
              "      width: 32px;\n",
              "    }\n",
              "\n",
              "    .colab-df-convert:hover {\n",
              "      background-color: #E2EBFA;\n",
              "      box-shadow: 0px 1px 2px rgba(60, 64, 67, 0.3), 0px 1px 3px 1px rgba(60, 64, 67, 0.15);\n",
              "      fill: #174EA6;\n",
              "    }\n",
              "\n",
              "    [theme=dark] .colab-df-convert {\n",
              "      background-color: #3B4455;\n",
              "      fill: #D2E3FC;\n",
              "    }\n",
              "\n",
              "    [theme=dark] .colab-df-convert:hover {\n",
              "      background-color: #434B5C;\n",
              "      box-shadow: 0px 1px 3px 1px rgba(0, 0, 0, 0.15);\n",
              "      filter: drop-shadow(0px 1px 2px rgba(0, 0, 0, 0.3));\n",
              "      fill: #FFFFFF;\n",
              "    }\n",
              "  </style>\n",
              "\n",
              "      <script>\n",
              "        const buttonEl =\n",
              "          document.querySelector('#df-2719ead2-510d-423b-9c84-ece9982140e9 button.colab-df-convert');\n",
              "        buttonEl.style.display =\n",
              "          google.colab.kernel.accessAllowed ? 'block' : 'none';\n",
              "\n",
              "        async function convertToInteractive(key) {\n",
              "          const element = document.querySelector('#df-2719ead2-510d-423b-9c84-ece9982140e9');\n",
              "          const dataTable =\n",
              "            await google.colab.kernel.invokeFunction('convertToInteractive',\n",
              "                                                     [key], {});\n",
              "          if (!dataTable) return;\n",
              "\n",
              "          const docLinkHtml = 'Like what you see? Visit the ' +\n",
              "            '<a target=\"_blank\" href=https://colab.research.google.com/notebooks/data_table.ipynb>data table notebook</a>'\n",
              "            + ' to learn more about interactive tables.';\n",
              "          element.innerHTML = '';\n",
              "          dataTable['output_type'] = 'display_data';\n",
              "          await google.colab.output.renderOutput(dataTable, element);\n",
              "          const docLink = document.createElement('div');\n",
              "          docLink.innerHTML = docLinkHtml;\n",
              "          element.appendChild(docLink);\n",
              "        }\n",
              "      </script>\n",
              "    </div>\n",
              "  </div>\n",
              "  "
            ]
          },
          "metadata": {},
          "execution_count": 34
        }
      ],
      "source": [
        "%%time\n",
        "result = dfdask.groupby(\"Plate Type\").agg({\"Plate Type\" : \"count\"}).compute()\n",
        "result.index.name = 'Name'\n",
        "result.sort_values(by=\"Plate Type\",ascending=False,inplace=True)\n",
        "result.head(5)"
      ]
    },
    {
      "cell_type": "code",
      "execution_count": 35,
      "metadata": {
        "id": "DBAg-T3TwEq8",
        "colab": {
          "base_uri": "https://localhost:8080/",
          "height": 438
        },
        "outputId": "b9c83508-bdd9-483f-a100-a3cfe0babc11"
      },
      "outputs": [
        {
          "output_type": "execute_result",
          "data": {
            "text/plain": [
              "   Summons Number Plate ID Registration State Plate Type Issue Date  \\\n",
              "0      1283294138  GBB9093                 NY        PAS 2013-08-04   \n",
              "1      1283294151  62416MB                 NY        COM 2013-08-04   \n",
              "2      1283294163  78755JZ                 NY        COM 2013-08-05   \n",
              "3      1283294175  63009MA                 NY        COM 2013-08-05   \n",
              "4      1283294187  91648MC                 NY        COM 2013-08-08   \n",
              "\n",
              "   Violation Code Vehicle Body Type Vehicle Make Issuing Agency  Street Code1  \\\n",
              "0              46              SUBN         AUDI              P         37250   \n",
              "1              46               VAN         FORD              P         37290   \n",
              "2              46               P-U        CHEVR              P         37030   \n",
              "3              46               VAN         FORD              P         37270   \n",
              "4              41              TRLR          GMC              P         37240   \n",
              "\n",
              "   ...  Sub Division  Days Parking In Effect     From Hours In Effect  \\\n",
              "0  ...            F1                     BBBBBBB                  ALL   \n",
              "1  ...             C                     BBBBBBB                  ALL   \n",
              "2  ...            F7                     BBBBBBB                  ALL   \n",
              "3  ...            F1                     BBBBBBB                  ALL   \n",
              "4  ...            E1                     BBBBBBB                  ALL   \n",
              "\n",
              "  To Hours In Effect  Vehicle Color  Vehicle Year  Meter Number  \\\n",
              "0                ALL             GY        2013.0             -   \n",
              "1                ALL             WH        2012.0             -   \n",
              "2                ALL              0           0.0             -   \n",
              "3                ALL             WH        2010.0             -   \n",
              "4                ALL             BR        2012.0             -   \n",
              "\n",
              "  Feet From Curb Violation Post Code Violation Description  \n",
              "0            0.0                   0                     0  \n",
              "1            0.0                   0                     0  \n",
              "2            0.0                   0                     0  \n",
              "3            0.0                   0                     0  \n",
              "4            0.0                   0                     0  \n",
              "\n",
              "[5 rows x 37 columns]"
            ],
            "text/html": [
              "\n",
              "  <div id=\"df-93a2a3d2-5133-4b4f-b29e-e90e084f474c\">\n",
              "    <div class=\"colab-df-container\">\n",
              "      <div>\n",
              "<style scoped>\n",
              "    .dataframe tbody tr th:only-of-type {\n",
              "        vertical-align: middle;\n",
              "    }\n",
              "\n",
              "    .dataframe tbody tr th {\n",
              "        vertical-align: top;\n",
              "    }\n",
              "\n",
              "    .dataframe thead th {\n",
              "        text-align: right;\n",
              "    }\n",
              "</style>\n",
              "<table border=\"1\" class=\"dataframe\">\n",
              "  <thead>\n",
              "    <tr style=\"text-align: right;\">\n",
              "      <th></th>\n",
              "      <th>Summons Number</th>\n",
              "      <th>Plate ID</th>\n",
              "      <th>Registration State</th>\n",
              "      <th>Plate Type</th>\n",
              "      <th>Issue Date</th>\n",
              "      <th>Violation Code</th>\n",
              "      <th>Vehicle Body Type</th>\n",
              "      <th>Vehicle Make</th>\n",
              "      <th>Issuing Agency</th>\n",
              "      <th>Street Code1</th>\n",
              "      <th>...</th>\n",
              "      <th>Sub Division</th>\n",
              "      <th>Days Parking In Effect</th>\n",
              "      <th>From Hours In Effect</th>\n",
              "      <th>To Hours In Effect</th>\n",
              "      <th>Vehicle Color</th>\n",
              "      <th>Vehicle Year</th>\n",
              "      <th>Meter Number</th>\n",
              "      <th>Feet From Curb</th>\n",
              "      <th>Violation Post Code</th>\n",
              "      <th>Violation Description</th>\n",
              "    </tr>\n",
              "  </thead>\n",
              "  <tbody>\n",
              "    <tr>\n",
              "      <th>0</th>\n",
              "      <td>1283294138</td>\n",
              "      <td>GBB9093</td>\n",
              "      <td>NY</td>\n",
              "      <td>PAS</td>\n",
              "      <td>2013-08-04</td>\n",
              "      <td>46</td>\n",
              "      <td>SUBN</td>\n",
              "      <td>AUDI</td>\n",
              "      <td>P</td>\n",
              "      <td>37250</td>\n",
              "      <td>...</td>\n",
              "      <td>F1</td>\n",
              "      <td>BBBBBBB</td>\n",
              "      <td>ALL</td>\n",
              "      <td>ALL</td>\n",
              "      <td>GY</td>\n",
              "      <td>2013.0</td>\n",
              "      <td>-</td>\n",
              "      <td>0.0</td>\n",
              "      <td>0</td>\n",
              "      <td>0</td>\n",
              "    </tr>\n",
              "    <tr>\n",
              "      <th>1</th>\n",
              "      <td>1283294151</td>\n",
              "      <td>62416MB</td>\n",
              "      <td>NY</td>\n",
              "      <td>COM</td>\n",
              "      <td>2013-08-04</td>\n",
              "      <td>46</td>\n",
              "      <td>VAN</td>\n",
              "      <td>FORD</td>\n",
              "      <td>P</td>\n",
              "      <td>37290</td>\n",
              "      <td>...</td>\n",
              "      <td>C</td>\n",
              "      <td>BBBBBBB</td>\n",
              "      <td>ALL</td>\n",
              "      <td>ALL</td>\n",
              "      <td>WH</td>\n",
              "      <td>2012.0</td>\n",
              "      <td>-</td>\n",
              "      <td>0.0</td>\n",
              "      <td>0</td>\n",
              "      <td>0</td>\n",
              "    </tr>\n",
              "    <tr>\n",
              "      <th>2</th>\n",
              "      <td>1283294163</td>\n",
              "      <td>78755JZ</td>\n",
              "      <td>NY</td>\n",
              "      <td>COM</td>\n",
              "      <td>2013-08-05</td>\n",
              "      <td>46</td>\n",
              "      <td>P-U</td>\n",
              "      <td>CHEVR</td>\n",
              "      <td>P</td>\n",
              "      <td>37030</td>\n",
              "      <td>...</td>\n",
              "      <td>F7</td>\n",
              "      <td>BBBBBBB</td>\n",
              "      <td>ALL</td>\n",
              "      <td>ALL</td>\n",
              "      <td>0</td>\n",
              "      <td>0.0</td>\n",
              "      <td>-</td>\n",
              "      <td>0.0</td>\n",
              "      <td>0</td>\n",
              "      <td>0</td>\n",
              "    </tr>\n",
              "    <tr>\n",
              "      <th>3</th>\n",
              "      <td>1283294175</td>\n",
              "      <td>63009MA</td>\n",
              "      <td>NY</td>\n",
              "      <td>COM</td>\n",
              "      <td>2013-08-05</td>\n",
              "      <td>46</td>\n",
              "      <td>VAN</td>\n",
              "      <td>FORD</td>\n",
              "      <td>P</td>\n",
              "      <td>37270</td>\n",
              "      <td>...</td>\n",
              "      <td>F1</td>\n",
              "      <td>BBBBBBB</td>\n",
              "      <td>ALL</td>\n",
              "      <td>ALL</td>\n",
              "      <td>WH</td>\n",
              "      <td>2010.0</td>\n",
              "      <td>-</td>\n",
              "      <td>0.0</td>\n",
              "      <td>0</td>\n",
              "      <td>0</td>\n",
              "    </tr>\n",
              "    <tr>\n",
              "      <th>4</th>\n",
              "      <td>1283294187</td>\n",
              "      <td>91648MC</td>\n",
              "      <td>NY</td>\n",
              "      <td>COM</td>\n",
              "      <td>2013-08-08</td>\n",
              "      <td>41</td>\n",
              "      <td>TRLR</td>\n",
              "      <td>GMC</td>\n",
              "      <td>P</td>\n",
              "      <td>37240</td>\n",
              "      <td>...</td>\n",
              "      <td>E1</td>\n",
              "      <td>BBBBBBB</td>\n",
              "      <td>ALL</td>\n",
              "      <td>ALL</td>\n",
              "      <td>BR</td>\n",
              "      <td>2012.0</td>\n",
              "      <td>-</td>\n",
              "      <td>0.0</td>\n",
              "      <td>0</td>\n",
              "      <td>0</td>\n",
              "    </tr>\n",
              "  </tbody>\n",
              "</table>\n",
              "<p>5 rows × 37 columns</p>\n",
              "</div>\n",
              "      <button class=\"colab-df-convert\" onclick=\"convertToInteractive('df-93a2a3d2-5133-4b4f-b29e-e90e084f474c')\"\n",
              "              title=\"Convert this dataframe to an interactive table.\"\n",
              "              style=\"display:none;\">\n",
              "        \n",
              "  <svg xmlns=\"http://www.w3.org/2000/svg\" height=\"24px\"viewBox=\"0 0 24 24\"\n",
              "       width=\"24px\">\n",
              "    <path d=\"M0 0h24v24H0V0z\" fill=\"none\"/>\n",
              "    <path d=\"M18.56 5.44l.94 2.06.94-2.06 2.06-.94-2.06-.94-.94-2.06-.94 2.06-2.06.94zm-11 1L8.5 8.5l.94-2.06 2.06-.94-2.06-.94L8.5 2.5l-.94 2.06-2.06.94zm10 10l.94 2.06.94-2.06 2.06-.94-2.06-.94-.94-2.06-.94 2.06-2.06.94z\"/><path d=\"M17.41 7.96l-1.37-1.37c-.4-.4-.92-.59-1.43-.59-.52 0-1.04.2-1.43.59L10.3 9.45l-7.72 7.72c-.78.78-.78 2.05 0 2.83L4 21.41c.39.39.9.59 1.41.59.51 0 1.02-.2 1.41-.59l7.78-7.78 2.81-2.81c.8-.78.8-2.07 0-2.86zM5.41 20L4 18.59l7.72-7.72 1.47 1.35L5.41 20z\"/>\n",
              "  </svg>\n",
              "      </button>\n",
              "      \n",
              "  <style>\n",
              "    .colab-df-container {\n",
              "      display:flex;\n",
              "      flex-wrap:wrap;\n",
              "      gap: 12px;\n",
              "    }\n",
              "\n",
              "    .colab-df-convert {\n",
              "      background-color: #E8F0FE;\n",
              "      border: none;\n",
              "      border-radius: 50%;\n",
              "      cursor: pointer;\n",
              "      display: none;\n",
              "      fill: #1967D2;\n",
              "      height: 32px;\n",
              "      padding: 0 0 0 0;\n",
              "      width: 32px;\n",
              "    }\n",
              "\n",
              "    .colab-df-convert:hover {\n",
              "      background-color: #E2EBFA;\n",
              "      box-shadow: 0px 1px 2px rgba(60, 64, 67, 0.3), 0px 1px 3px 1px rgba(60, 64, 67, 0.15);\n",
              "      fill: #174EA6;\n",
              "    }\n",
              "\n",
              "    [theme=dark] .colab-df-convert {\n",
              "      background-color: #3B4455;\n",
              "      fill: #D2E3FC;\n",
              "    }\n",
              "\n",
              "    [theme=dark] .colab-df-convert:hover {\n",
              "      background-color: #434B5C;\n",
              "      box-shadow: 0px 1px 3px 1px rgba(0, 0, 0, 0.15);\n",
              "      filter: drop-shadow(0px 1px 2px rgba(0, 0, 0, 0.3));\n",
              "      fill: #FFFFFF;\n",
              "    }\n",
              "  </style>\n",
              "\n",
              "      <script>\n",
              "        const buttonEl =\n",
              "          document.querySelector('#df-93a2a3d2-5133-4b4f-b29e-e90e084f474c button.colab-df-convert');\n",
              "        buttonEl.style.display =\n",
              "          google.colab.kernel.accessAllowed ? 'block' : 'none';\n",
              "\n",
              "        async function convertToInteractive(key) {\n",
              "          const element = document.querySelector('#df-93a2a3d2-5133-4b4f-b29e-e90e084f474c');\n",
              "          const dataTable =\n",
              "            await google.colab.kernel.invokeFunction('convertToInteractive',\n",
              "                                                     [key], {});\n",
              "          if (!dataTable) return;\n",
              "\n",
              "          const docLinkHtml = 'Like what you see? Visit the ' +\n",
              "            '<a target=\"_blank\" href=https://colab.research.google.com/notebooks/data_table.ipynb>data table notebook</a>'\n",
              "            + ' to learn more about interactive tables.';\n",
              "          element.innerHTML = '';\n",
              "          dataTable['output_type'] = 'display_data';\n",
              "          await google.colab.output.renderOutput(dataTable, element);\n",
              "          const docLink = document.createElement('div');\n",
              "          docLink.innerHTML = docLinkHtml;\n",
              "          element.appendChild(docLink);\n",
              "        }\n",
              "      </script>\n",
              "    </div>\n",
              "  </div>\n",
              "  "
            ]
          },
          "metadata": {},
          "execution_count": 35
        }
      ],
      "source": [
        "dfdask.head(5)"
      ]
    },
    {
      "cell_type": "markdown",
      "metadata": {
        "id": "lbvbSlgMgYhI"
      },
      "source": [
        "b. What registeration stae has the highest rate?"
      ]
    },
    {
      "cell_type": "code",
      "execution_count": 36,
      "metadata": {
        "id": "J8msxYyYwCYP",
        "colab": {
          "base_uri": "https://localhost:8080/",
          "height": 272
        },
        "outputId": "52dbe19c-e15c-46df-da5f-1a3e3892681c"
      },
      "outputs": [
        {
          "output_type": "stream",
          "name": "stdout",
          "text": [
            "CPU times: user 1min 20s, sys: 1.63 s, total: 1min 22s\n",
            "Wall time: 1min 6s\n"
          ]
        },
        {
          "output_type": "execute_result",
          "data": {
            "text/plain": [
              "      Plate Type\n",
              "Name            \n",
              "NY       7029804\n",
              "NJ        878677\n",
              "PA        225760\n",
              "CT        136973\n",
              "FL        111887"
            ],
            "text/html": [
              "\n",
              "  <div id=\"df-fd60bd34-dfd9-40eb-a004-a8daa93acbab\">\n",
              "    <div class=\"colab-df-container\">\n",
              "      <div>\n",
              "<style scoped>\n",
              "    .dataframe tbody tr th:only-of-type {\n",
              "        vertical-align: middle;\n",
              "    }\n",
              "\n",
              "    .dataframe tbody tr th {\n",
              "        vertical-align: top;\n",
              "    }\n",
              "\n",
              "    .dataframe thead th {\n",
              "        text-align: right;\n",
              "    }\n",
              "</style>\n",
              "<table border=\"1\" class=\"dataframe\">\n",
              "  <thead>\n",
              "    <tr style=\"text-align: right;\">\n",
              "      <th></th>\n",
              "      <th>Plate Type</th>\n",
              "    </tr>\n",
              "    <tr>\n",
              "      <th>Name</th>\n",
              "      <th></th>\n",
              "    </tr>\n",
              "  </thead>\n",
              "  <tbody>\n",
              "    <tr>\n",
              "      <th>NY</th>\n",
              "      <td>7029804</td>\n",
              "    </tr>\n",
              "    <tr>\n",
              "      <th>NJ</th>\n",
              "      <td>878677</td>\n",
              "    </tr>\n",
              "    <tr>\n",
              "      <th>PA</th>\n",
              "      <td>225760</td>\n",
              "    </tr>\n",
              "    <tr>\n",
              "      <th>CT</th>\n",
              "      <td>136973</td>\n",
              "    </tr>\n",
              "    <tr>\n",
              "      <th>FL</th>\n",
              "      <td>111887</td>\n",
              "    </tr>\n",
              "  </tbody>\n",
              "</table>\n",
              "</div>\n",
              "      <button class=\"colab-df-convert\" onclick=\"convertToInteractive('df-fd60bd34-dfd9-40eb-a004-a8daa93acbab')\"\n",
              "              title=\"Convert this dataframe to an interactive table.\"\n",
              "              style=\"display:none;\">\n",
              "        \n",
              "  <svg xmlns=\"http://www.w3.org/2000/svg\" height=\"24px\"viewBox=\"0 0 24 24\"\n",
              "       width=\"24px\">\n",
              "    <path d=\"M0 0h24v24H0V0z\" fill=\"none\"/>\n",
              "    <path d=\"M18.56 5.44l.94 2.06.94-2.06 2.06-.94-2.06-.94-.94-2.06-.94 2.06-2.06.94zm-11 1L8.5 8.5l.94-2.06 2.06-.94-2.06-.94L8.5 2.5l-.94 2.06-2.06.94zm10 10l.94 2.06.94-2.06 2.06-.94-2.06-.94-.94-2.06-.94 2.06-2.06.94z\"/><path d=\"M17.41 7.96l-1.37-1.37c-.4-.4-.92-.59-1.43-.59-.52 0-1.04.2-1.43.59L10.3 9.45l-7.72 7.72c-.78.78-.78 2.05 0 2.83L4 21.41c.39.39.9.59 1.41.59.51 0 1.02-.2 1.41-.59l7.78-7.78 2.81-2.81c.8-.78.8-2.07 0-2.86zM5.41 20L4 18.59l7.72-7.72 1.47 1.35L5.41 20z\"/>\n",
              "  </svg>\n",
              "      </button>\n",
              "      \n",
              "  <style>\n",
              "    .colab-df-container {\n",
              "      display:flex;\n",
              "      flex-wrap:wrap;\n",
              "      gap: 12px;\n",
              "    }\n",
              "\n",
              "    .colab-df-convert {\n",
              "      background-color: #E8F0FE;\n",
              "      border: none;\n",
              "      border-radius: 50%;\n",
              "      cursor: pointer;\n",
              "      display: none;\n",
              "      fill: #1967D2;\n",
              "      height: 32px;\n",
              "      padding: 0 0 0 0;\n",
              "      width: 32px;\n",
              "    }\n",
              "\n",
              "    .colab-df-convert:hover {\n",
              "      background-color: #E2EBFA;\n",
              "      box-shadow: 0px 1px 2px rgba(60, 64, 67, 0.3), 0px 1px 3px 1px rgba(60, 64, 67, 0.15);\n",
              "      fill: #174EA6;\n",
              "    }\n",
              "\n",
              "    [theme=dark] .colab-df-convert {\n",
              "      background-color: #3B4455;\n",
              "      fill: #D2E3FC;\n",
              "    }\n",
              "\n",
              "    [theme=dark] .colab-df-convert:hover {\n",
              "      background-color: #434B5C;\n",
              "      box-shadow: 0px 1px 3px 1px rgba(0, 0, 0, 0.15);\n",
              "      filter: drop-shadow(0px 1px 2px rgba(0, 0, 0, 0.3));\n",
              "      fill: #FFFFFF;\n",
              "    }\n",
              "  </style>\n",
              "\n",
              "      <script>\n",
              "        const buttonEl =\n",
              "          document.querySelector('#df-fd60bd34-dfd9-40eb-a004-a8daa93acbab button.colab-df-convert');\n",
              "        buttonEl.style.display =\n",
              "          google.colab.kernel.accessAllowed ? 'block' : 'none';\n",
              "\n",
              "        async function convertToInteractive(key) {\n",
              "          const element = document.querySelector('#df-fd60bd34-dfd9-40eb-a004-a8daa93acbab');\n",
              "          const dataTable =\n",
              "            await google.colab.kernel.invokeFunction('convertToInteractive',\n",
              "                                                     [key], {});\n",
              "          if (!dataTable) return;\n",
              "\n",
              "          const docLinkHtml = 'Like what you see? Visit the ' +\n",
              "            '<a target=\"_blank\" href=https://colab.research.google.com/notebooks/data_table.ipynb>data table notebook</a>'\n",
              "            + ' to learn more about interactive tables.';\n",
              "          element.innerHTML = '';\n",
              "          dataTable['output_type'] = 'display_data';\n",
              "          await google.colab.output.renderOutput(dataTable, element);\n",
              "          const docLink = document.createElement('div');\n",
              "          docLink.innerHTML = docLinkHtml;\n",
              "          element.appendChild(docLink);\n",
              "        }\n",
              "      </script>\n",
              "    </div>\n",
              "  </div>\n",
              "  "
            ]
          },
          "metadata": {},
          "execution_count": 36
        }
      ],
      "source": [
        "%%time\n",
        "result = dfdask.groupby(\"Registration State\").agg({\"Plate Type\" : \"count\"}).compute()\n",
        "result.index.name = 'Name'\n",
        "result.sort_values(by=\"Plate Type\",ascending=False,inplace=True)\n",
        "result.head(5)"
      ]
    },
    {
      "cell_type": "markdown",
      "metadata": {
        "id": "Mib_SrZdgYhI"
      },
      "source": [
        "c. What is the most common vehicle body type?"
      ]
    },
    {
      "cell_type": "markdown",
      "metadata": {
        "id": "EfoJ3P2YgYhJ"
      },
      "source": [
        "d. What is the most common vehicle colour?"
      ]
    },
    {
      "cell_type": "markdown",
      "metadata": {
        "id": "WBawWXV1gYhJ"
      },
      "source": [
        "e. What is the most common state?"
      ]
    },
    {
      "cell_type": "code",
      "execution_count": 37,
      "metadata": {
        "id": "0WMzWH2AU-Ur",
        "colab": {
          "base_uri": "https://localhost:8080/",
          "height": 438
        },
        "outputId": "bb078d7b-cf14-4695-ada0-b850db57e9f0"
      },
      "outputs": [
        {
          "output_type": "execute_result",
          "data": {
            "text/plain": [
              "   Summons Number Plate ID Registration State Plate Type Issue Date  \\\n",
              "0      1283294138  GBB9093                 NY        PAS 2013-08-04   \n",
              "1      1283294151  62416MB                 NY        COM 2013-08-04   \n",
              "2      1283294163  78755JZ                 NY        COM 2013-08-05   \n",
              "3      1283294175  63009MA                 NY        COM 2013-08-05   \n",
              "4      1283294187  91648MC                 NY        COM 2013-08-08   \n",
              "\n",
              "   Violation Code Vehicle Body Type Vehicle Make Issuing Agency  Street Code1  \\\n",
              "0              46              SUBN         AUDI              P         37250   \n",
              "1              46               VAN         FORD              P         37290   \n",
              "2              46               P-U        CHEVR              P         37030   \n",
              "3              46               VAN         FORD              P         37270   \n",
              "4              41              TRLR          GMC              P         37240   \n",
              "\n",
              "   ...  Sub Division  Days Parking In Effect     From Hours In Effect  \\\n",
              "0  ...            F1                     BBBBBBB                  ALL   \n",
              "1  ...             C                     BBBBBBB                  ALL   \n",
              "2  ...            F7                     BBBBBBB                  ALL   \n",
              "3  ...            F1                     BBBBBBB                  ALL   \n",
              "4  ...            E1                     BBBBBBB                  ALL   \n",
              "\n",
              "  To Hours In Effect  Vehicle Color  Vehicle Year  Meter Number  \\\n",
              "0                ALL             GY        2013.0             -   \n",
              "1                ALL             WH        2012.0             -   \n",
              "2                ALL              0           0.0             -   \n",
              "3                ALL             WH        2010.0             -   \n",
              "4                ALL             BR        2012.0             -   \n",
              "\n",
              "  Feet From Curb Violation Post Code Violation Description  \n",
              "0            0.0                   0                     0  \n",
              "1            0.0                   0                     0  \n",
              "2            0.0                   0                     0  \n",
              "3            0.0                   0                     0  \n",
              "4            0.0                   0                     0  \n",
              "\n",
              "[5 rows x 37 columns]"
            ],
            "text/html": [
              "\n",
              "  <div id=\"df-42e126d6-4516-4c8b-8ef7-8cdfc9fdf4e8\">\n",
              "    <div class=\"colab-df-container\">\n",
              "      <div>\n",
              "<style scoped>\n",
              "    .dataframe tbody tr th:only-of-type {\n",
              "        vertical-align: middle;\n",
              "    }\n",
              "\n",
              "    .dataframe tbody tr th {\n",
              "        vertical-align: top;\n",
              "    }\n",
              "\n",
              "    .dataframe thead th {\n",
              "        text-align: right;\n",
              "    }\n",
              "</style>\n",
              "<table border=\"1\" class=\"dataframe\">\n",
              "  <thead>\n",
              "    <tr style=\"text-align: right;\">\n",
              "      <th></th>\n",
              "      <th>Summons Number</th>\n",
              "      <th>Plate ID</th>\n",
              "      <th>Registration State</th>\n",
              "      <th>Plate Type</th>\n",
              "      <th>Issue Date</th>\n",
              "      <th>Violation Code</th>\n",
              "      <th>Vehicle Body Type</th>\n",
              "      <th>Vehicle Make</th>\n",
              "      <th>Issuing Agency</th>\n",
              "      <th>Street Code1</th>\n",
              "      <th>...</th>\n",
              "      <th>Sub Division</th>\n",
              "      <th>Days Parking In Effect</th>\n",
              "      <th>From Hours In Effect</th>\n",
              "      <th>To Hours In Effect</th>\n",
              "      <th>Vehicle Color</th>\n",
              "      <th>Vehicle Year</th>\n",
              "      <th>Meter Number</th>\n",
              "      <th>Feet From Curb</th>\n",
              "      <th>Violation Post Code</th>\n",
              "      <th>Violation Description</th>\n",
              "    </tr>\n",
              "  </thead>\n",
              "  <tbody>\n",
              "    <tr>\n",
              "      <th>0</th>\n",
              "      <td>1283294138</td>\n",
              "      <td>GBB9093</td>\n",
              "      <td>NY</td>\n",
              "      <td>PAS</td>\n",
              "      <td>2013-08-04</td>\n",
              "      <td>46</td>\n",
              "      <td>SUBN</td>\n",
              "      <td>AUDI</td>\n",
              "      <td>P</td>\n",
              "      <td>37250</td>\n",
              "      <td>...</td>\n",
              "      <td>F1</td>\n",
              "      <td>BBBBBBB</td>\n",
              "      <td>ALL</td>\n",
              "      <td>ALL</td>\n",
              "      <td>GY</td>\n",
              "      <td>2013.0</td>\n",
              "      <td>-</td>\n",
              "      <td>0.0</td>\n",
              "      <td>0</td>\n",
              "      <td>0</td>\n",
              "    </tr>\n",
              "    <tr>\n",
              "      <th>1</th>\n",
              "      <td>1283294151</td>\n",
              "      <td>62416MB</td>\n",
              "      <td>NY</td>\n",
              "      <td>COM</td>\n",
              "      <td>2013-08-04</td>\n",
              "      <td>46</td>\n",
              "      <td>VAN</td>\n",
              "      <td>FORD</td>\n",
              "      <td>P</td>\n",
              "      <td>37290</td>\n",
              "      <td>...</td>\n",
              "      <td>C</td>\n",
              "      <td>BBBBBBB</td>\n",
              "      <td>ALL</td>\n",
              "      <td>ALL</td>\n",
              "      <td>WH</td>\n",
              "      <td>2012.0</td>\n",
              "      <td>-</td>\n",
              "      <td>0.0</td>\n",
              "      <td>0</td>\n",
              "      <td>0</td>\n",
              "    </tr>\n",
              "    <tr>\n",
              "      <th>2</th>\n",
              "      <td>1283294163</td>\n",
              "      <td>78755JZ</td>\n",
              "      <td>NY</td>\n",
              "      <td>COM</td>\n",
              "      <td>2013-08-05</td>\n",
              "      <td>46</td>\n",
              "      <td>P-U</td>\n",
              "      <td>CHEVR</td>\n",
              "      <td>P</td>\n",
              "      <td>37030</td>\n",
              "      <td>...</td>\n",
              "      <td>F7</td>\n",
              "      <td>BBBBBBB</td>\n",
              "      <td>ALL</td>\n",
              "      <td>ALL</td>\n",
              "      <td>0</td>\n",
              "      <td>0.0</td>\n",
              "      <td>-</td>\n",
              "      <td>0.0</td>\n",
              "      <td>0</td>\n",
              "      <td>0</td>\n",
              "    </tr>\n",
              "    <tr>\n",
              "      <th>3</th>\n",
              "      <td>1283294175</td>\n",
              "      <td>63009MA</td>\n",
              "      <td>NY</td>\n",
              "      <td>COM</td>\n",
              "      <td>2013-08-05</td>\n",
              "      <td>46</td>\n",
              "      <td>VAN</td>\n",
              "      <td>FORD</td>\n",
              "      <td>P</td>\n",
              "      <td>37270</td>\n",
              "      <td>...</td>\n",
              "      <td>F1</td>\n",
              "      <td>BBBBBBB</td>\n",
              "      <td>ALL</td>\n",
              "      <td>ALL</td>\n",
              "      <td>WH</td>\n",
              "      <td>2010.0</td>\n",
              "      <td>-</td>\n",
              "      <td>0.0</td>\n",
              "      <td>0</td>\n",
              "      <td>0</td>\n",
              "    </tr>\n",
              "    <tr>\n",
              "      <th>4</th>\n",
              "      <td>1283294187</td>\n",
              "      <td>91648MC</td>\n",
              "      <td>NY</td>\n",
              "      <td>COM</td>\n",
              "      <td>2013-08-08</td>\n",
              "      <td>41</td>\n",
              "      <td>TRLR</td>\n",
              "      <td>GMC</td>\n",
              "      <td>P</td>\n",
              "      <td>37240</td>\n",
              "      <td>...</td>\n",
              "      <td>E1</td>\n",
              "      <td>BBBBBBB</td>\n",
              "      <td>ALL</td>\n",
              "      <td>ALL</td>\n",
              "      <td>BR</td>\n",
              "      <td>2012.0</td>\n",
              "      <td>-</td>\n",
              "      <td>0.0</td>\n",
              "      <td>0</td>\n",
              "      <td>0</td>\n",
              "    </tr>\n",
              "  </tbody>\n",
              "</table>\n",
              "<p>5 rows × 37 columns</p>\n",
              "</div>\n",
              "      <button class=\"colab-df-convert\" onclick=\"convertToInteractive('df-42e126d6-4516-4c8b-8ef7-8cdfc9fdf4e8')\"\n",
              "              title=\"Convert this dataframe to an interactive table.\"\n",
              "              style=\"display:none;\">\n",
              "        \n",
              "  <svg xmlns=\"http://www.w3.org/2000/svg\" height=\"24px\"viewBox=\"0 0 24 24\"\n",
              "       width=\"24px\">\n",
              "    <path d=\"M0 0h24v24H0V0z\" fill=\"none\"/>\n",
              "    <path d=\"M18.56 5.44l.94 2.06.94-2.06 2.06-.94-2.06-.94-.94-2.06-.94 2.06-2.06.94zm-11 1L8.5 8.5l.94-2.06 2.06-.94-2.06-.94L8.5 2.5l-.94 2.06-2.06.94zm10 10l.94 2.06.94-2.06 2.06-.94-2.06-.94-.94-2.06-.94 2.06-2.06.94z\"/><path d=\"M17.41 7.96l-1.37-1.37c-.4-.4-.92-.59-1.43-.59-.52 0-1.04.2-1.43.59L10.3 9.45l-7.72 7.72c-.78.78-.78 2.05 0 2.83L4 21.41c.39.39.9.59 1.41.59.51 0 1.02-.2 1.41-.59l7.78-7.78 2.81-2.81c.8-.78.8-2.07 0-2.86zM5.41 20L4 18.59l7.72-7.72 1.47 1.35L5.41 20z\"/>\n",
              "  </svg>\n",
              "      </button>\n",
              "      \n",
              "  <style>\n",
              "    .colab-df-container {\n",
              "      display:flex;\n",
              "      flex-wrap:wrap;\n",
              "      gap: 12px;\n",
              "    }\n",
              "\n",
              "    .colab-df-convert {\n",
              "      background-color: #E8F0FE;\n",
              "      border: none;\n",
              "      border-radius: 50%;\n",
              "      cursor: pointer;\n",
              "      display: none;\n",
              "      fill: #1967D2;\n",
              "      height: 32px;\n",
              "      padding: 0 0 0 0;\n",
              "      width: 32px;\n",
              "    }\n",
              "\n",
              "    .colab-df-convert:hover {\n",
              "      background-color: #E2EBFA;\n",
              "      box-shadow: 0px 1px 2px rgba(60, 64, 67, 0.3), 0px 1px 3px 1px rgba(60, 64, 67, 0.15);\n",
              "      fill: #174EA6;\n",
              "    }\n",
              "\n",
              "    [theme=dark] .colab-df-convert {\n",
              "      background-color: #3B4455;\n",
              "      fill: #D2E3FC;\n",
              "    }\n",
              "\n",
              "    [theme=dark] .colab-df-convert:hover {\n",
              "      background-color: #434B5C;\n",
              "      box-shadow: 0px 1px 3px 1px rgba(0, 0, 0, 0.15);\n",
              "      filter: drop-shadow(0px 1px 2px rgba(0, 0, 0, 0.3));\n",
              "      fill: #FFFFFF;\n",
              "    }\n",
              "  </style>\n",
              "\n",
              "      <script>\n",
              "        const buttonEl =\n",
              "          document.querySelector('#df-42e126d6-4516-4c8b-8ef7-8cdfc9fdf4e8 button.colab-df-convert');\n",
              "        buttonEl.style.display =\n",
              "          google.colab.kernel.accessAllowed ? 'block' : 'none';\n",
              "\n",
              "        async function convertToInteractive(key) {\n",
              "          const element = document.querySelector('#df-42e126d6-4516-4c8b-8ef7-8cdfc9fdf4e8');\n",
              "          const dataTable =\n",
              "            await google.colab.kernel.invokeFunction('convertToInteractive',\n",
              "                                                     [key], {});\n",
              "          if (!dataTable) return;\n",
              "\n",
              "          const docLinkHtml = 'Like what you see? Visit the ' +\n",
              "            '<a target=\"_blank\" href=https://colab.research.google.com/notebooks/data_table.ipynb>data table notebook</a>'\n",
              "            + ' to learn more about interactive tables.';\n",
              "          element.innerHTML = '';\n",
              "          dataTable['output_type'] = 'display_data';\n",
              "          await google.colab.output.renderOutput(dataTable, element);\n",
              "          const docLink = document.createElement('div');\n",
              "          docLink.innerHTML = docLinkHtml;\n",
              "          element.appendChild(docLink);\n",
              "        }\n",
              "      </script>\n",
              "    </div>\n",
              "  </div>\n",
              "  "
            ]
          },
          "metadata": {},
          "execution_count": 37
        }
      ],
      "source": [
        "dfdask.head()"
      ]
    },
    {
      "cell_type": "code",
      "execution_count": 38,
      "metadata": {
        "id": "DMJl3bVFRQ3p",
        "colab": {
          "base_uri": "https://localhost:8080/",
          "height": 311
        },
        "outputId": "8b6be52f-cdc7-45ec-fa3b-bec9a518068e"
      },
      "outputs": [
        {
          "output_type": "error",
          "ename": "KeyboardInterrupt",
          "evalue": "ignored",
          "traceback": [
            "\u001b[0;31m---------------------------------------------------------------------------\u001b[0m",
            "\u001b[0;31mKeyboardInterrupt\u001b[0m                         Traceback (most recent call last)",
            "\u001b[0;32m<ipython-input-38-3befb65b616e>\u001b[0m in \u001b[0;36m<module>\u001b[0;34m\u001b[0m\n\u001b[0;32m----> 1\u001b[0;31m \u001b[0mresult\u001b[0m \u001b[0;34m=\u001b[0m \u001b[0mdfdask\u001b[0m\u001b[0;34m.\u001b[0m\u001b[0mgroupby\u001b[0m\u001b[0;34m(\u001b[0m\u001b[0;34m'Plate Type'\u001b[0m\u001b[0;34m)\u001b[0m\u001b[0;34m.\u001b[0m\u001b[0magg\u001b[0m\u001b[0;34m(\u001b[0m\u001b[0;34m{\u001b[0m\u001b[0;34m'Plate Type'\u001b[0m \u001b[0;34m:\u001b[0m \u001b[0;34m'count'\u001b[0m\u001b[0;34m}\u001b[0m\u001b[0;34m)\u001b[0m\u001b[0;34m.\u001b[0m\u001b[0mcompute\u001b[0m\u001b[0;34m(\u001b[0m\u001b[0;34m)\u001b[0m\u001b[0;34m\u001b[0m\u001b[0;34m\u001b[0m\u001b[0m\n\u001b[0m",
            "\u001b[0;32m/usr/local/lib/python3.8/dist-packages/dask/base.py\u001b[0m in \u001b[0;36mcompute\u001b[0;34m(self, **kwargs)\u001b[0m\n\u001b[1;32m    288\u001b[0m         \u001b[0mdask\u001b[0m\u001b[0;34m.\u001b[0m\u001b[0mbase\u001b[0m\u001b[0;34m.\u001b[0m\u001b[0mcompute\u001b[0m\u001b[0;34m\u001b[0m\u001b[0;34m\u001b[0m\u001b[0m\n\u001b[1;32m    289\u001b[0m         \"\"\"\n\u001b[0;32m--> 290\u001b[0;31m         \u001b[0;34m(\u001b[0m\u001b[0mresult\u001b[0m\u001b[0;34m,\u001b[0m\u001b[0;34m)\u001b[0m \u001b[0;34m=\u001b[0m \u001b[0mcompute\u001b[0m\u001b[0;34m(\u001b[0m\u001b[0mself\u001b[0m\u001b[0;34m,\u001b[0m \u001b[0mtraverse\u001b[0m\u001b[0;34m=\u001b[0m\u001b[0;32mFalse\u001b[0m\u001b[0;34m,\u001b[0m \u001b[0;34m**\u001b[0m\u001b[0mkwargs\u001b[0m\u001b[0;34m)\u001b[0m\u001b[0;34m\u001b[0m\u001b[0;34m\u001b[0m\u001b[0m\n\u001b[0m\u001b[1;32m    291\u001b[0m         \u001b[0;32mreturn\u001b[0m \u001b[0mresult\u001b[0m\u001b[0;34m\u001b[0m\u001b[0;34m\u001b[0m\u001b[0m\n\u001b[1;32m    292\u001b[0m \u001b[0;34m\u001b[0m\u001b[0m\n",
            "\u001b[0;32m/usr/local/lib/python3.8/dist-packages/dask/base.py\u001b[0m in \u001b[0;36mcompute\u001b[0;34m(traverse, optimize_graph, scheduler, get, *args, **kwargs)\u001b[0m\n\u001b[1;32m    571\u001b[0m         \u001b[0mpostcomputes\u001b[0m\u001b[0;34m.\u001b[0m\u001b[0mappend\u001b[0m\u001b[0;34m(\u001b[0m\u001b[0mx\u001b[0m\u001b[0;34m.\u001b[0m\u001b[0m__dask_postcompute__\u001b[0m\u001b[0;34m(\u001b[0m\u001b[0;34m)\u001b[0m\u001b[0;34m)\u001b[0m\u001b[0;34m\u001b[0m\u001b[0;34m\u001b[0m\u001b[0m\n\u001b[1;32m    572\u001b[0m \u001b[0;34m\u001b[0m\u001b[0m\n\u001b[0;32m--> 573\u001b[0;31m     \u001b[0mresults\u001b[0m \u001b[0;34m=\u001b[0m \u001b[0mschedule\u001b[0m\u001b[0;34m(\u001b[0m\u001b[0mdsk\u001b[0m\u001b[0;34m,\u001b[0m \u001b[0mkeys\u001b[0m\u001b[0;34m,\u001b[0m \u001b[0;34m**\u001b[0m\u001b[0mkwargs\u001b[0m\u001b[0;34m)\u001b[0m\u001b[0;34m\u001b[0m\u001b[0;34m\u001b[0m\u001b[0m\n\u001b[0m\u001b[1;32m    574\u001b[0m     \u001b[0;32mreturn\u001b[0m \u001b[0mrepack\u001b[0m\u001b[0;34m(\u001b[0m\u001b[0;34m[\u001b[0m\u001b[0mf\u001b[0m\u001b[0;34m(\u001b[0m\u001b[0mr\u001b[0m\u001b[0;34m,\u001b[0m \u001b[0;34m*\u001b[0m\u001b[0ma\u001b[0m\u001b[0;34m)\u001b[0m \u001b[0;32mfor\u001b[0m \u001b[0mr\u001b[0m\u001b[0;34m,\u001b[0m \u001b[0;34m(\u001b[0m\u001b[0mf\u001b[0m\u001b[0;34m,\u001b[0m \u001b[0ma\u001b[0m\u001b[0;34m)\u001b[0m \u001b[0;32min\u001b[0m \u001b[0mzip\u001b[0m\u001b[0;34m(\u001b[0m\u001b[0mresults\u001b[0m\u001b[0;34m,\u001b[0m \u001b[0mpostcomputes\u001b[0m\u001b[0;34m)\u001b[0m\u001b[0;34m]\u001b[0m\u001b[0;34m)\u001b[0m\u001b[0;34m\u001b[0m\u001b[0;34m\u001b[0m\u001b[0m\n\u001b[1;32m    575\u001b[0m \u001b[0;34m\u001b[0m\u001b[0m\n",
            "\u001b[0;32m/usr/local/lib/python3.8/dist-packages/dask/threaded.py\u001b[0m in \u001b[0;36mget\u001b[0;34m(dsk, result, cache, num_workers, pool, **kwargs)\u001b[0m\n\u001b[1;32m     79\u001b[0m             \u001b[0mpool\u001b[0m \u001b[0;34m=\u001b[0m \u001b[0mMultiprocessingPoolExecutor\u001b[0m\u001b[0;34m(\u001b[0m\u001b[0mpool\u001b[0m\u001b[0;34m)\u001b[0m\u001b[0;34m\u001b[0m\u001b[0;34m\u001b[0m\u001b[0m\n\u001b[1;32m     80\u001b[0m \u001b[0;34m\u001b[0m\u001b[0m\n\u001b[0;32m---> 81\u001b[0;31m     results = get_async(\n\u001b[0m\u001b[1;32m     82\u001b[0m         \u001b[0mpool\u001b[0m\u001b[0;34m.\u001b[0m\u001b[0msubmit\u001b[0m\u001b[0;34m,\u001b[0m\u001b[0;34m\u001b[0m\u001b[0;34m\u001b[0m\u001b[0m\n\u001b[1;32m     83\u001b[0m         \u001b[0mpool\u001b[0m\u001b[0;34m.\u001b[0m\u001b[0m_max_workers\u001b[0m\u001b[0;34m,\u001b[0m\u001b[0;34m\u001b[0m\u001b[0;34m\u001b[0m\u001b[0m\n",
            "\u001b[0;32m/usr/local/lib/python3.8/dist-packages/dask/local.py\u001b[0m in \u001b[0;36mget_async\u001b[0;34m(submit, num_workers, dsk, result, cache, get_id, rerun_exceptions_locally, pack_exception, raise_exception, callbacks, dumps, loads, chunksize, **kwargs)\u001b[0m\n\u001b[1;32m    493\u001b[0m             \u001b[0;32mwhile\u001b[0m \u001b[0mstate\u001b[0m\u001b[0;34m[\u001b[0m\u001b[0;34m\"waiting\"\u001b[0m\u001b[0;34m]\u001b[0m \u001b[0;32mor\u001b[0m \u001b[0mstate\u001b[0m\u001b[0;34m[\u001b[0m\u001b[0;34m\"ready\"\u001b[0m\u001b[0;34m]\u001b[0m \u001b[0;32mor\u001b[0m \u001b[0mstate\u001b[0m\u001b[0;34m[\u001b[0m\u001b[0;34m\"running\"\u001b[0m\u001b[0;34m]\u001b[0m\u001b[0;34m:\u001b[0m\u001b[0;34m\u001b[0m\u001b[0;34m\u001b[0m\u001b[0m\n\u001b[1;32m    494\u001b[0m                 \u001b[0mfire_tasks\u001b[0m\u001b[0;34m(\u001b[0m\u001b[0mchunksize\u001b[0m\u001b[0;34m)\u001b[0m\u001b[0;34m\u001b[0m\u001b[0;34m\u001b[0m\u001b[0m\n\u001b[0;32m--> 495\u001b[0;31m                 \u001b[0;32mfor\u001b[0m \u001b[0mkey\u001b[0m\u001b[0;34m,\u001b[0m \u001b[0mres_info\u001b[0m\u001b[0;34m,\u001b[0m \u001b[0mfailed\u001b[0m \u001b[0;32min\u001b[0m \u001b[0mqueue_get\u001b[0m\u001b[0;34m(\u001b[0m\u001b[0mqueue\u001b[0m\u001b[0;34m)\u001b[0m\u001b[0;34m.\u001b[0m\u001b[0mresult\u001b[0m\u001b[0;34m(\u001b[0m\u001b[0;34m)\u001b[0m\u001b[0;34m:\u001b[0m\u001b[0;34m\u001b[0m\u001b[0;34m\u001b[0m\u001b[0m\n\u001b[0m\u001b[1;32m    496\u001b[0m                     \u001b[0;32mif\u001b[0m \u001b[0mfailed\u001b[0m\u001b[0;34m:\u001b[0m\u001b[0;34m\u001b[0m\u001b[0;34m\u001b[0m\u001b[0m\n\u001b[1;32m    497\u001b[0m                         \u001b[0mexc\u001b[0m\u001b[0;34m,\u001b[0m \u001b[0mtb\u001b[0m \u001b[0;34m=\u001b[0m \u001b[0mloads\u001b[0m\u001b[0;34m(\u001b[0m\u001b[0mres_info\u001b[0m\u001b[0;34m)\u001b[0m\u001b[0;34m\u001b[0m\u001b[0;34m\u001b[0m\u001b[0m\n",
            "\u001b[0;32m/usr/local/lib/python3.8/dist-packages/dask/local.py\u001b[0m in \u001b[0;36mqueue_get\u001b[0;34m(q)\u001b[0m\n\u001b[1;32m    131\u001b[0m \u001b[0;34m\u001b[0m\u001b[0m\n\u001b[1;32m    132\u001b[0m     \u001b[0;32mdef\u001b[0m \u001b[0mqueue_get\u001b[0m\u001b[0;34m(\u001b[0m\u001b[0mq\u001b[0m\u001b[0;34m)\u001b[0m\u001b[0;34m:\u001b[0m\u001b[0;34m\u001b[0m\u001b[0;34m\u001b[0m\u001b[0m\n\u001b[0;32m--> 133\u001b[0;31m         \u001b[0;32mreturn\u001b[0m \u001b[0mq\u001b[0m\u001b[0;34m.\u001b[0m\u001b[0mget\u001b[0m\u001b[0;34m(\u001b[0m\u001b[0;34m)\u001b[0m\u001b[0;34m\u001b[0m\u001b[0;34m\u001b[0m\u001b[0m\n\u001b[0m\u001b[1;32m    134\u001b[0m \u001b[0;34m\u001b[0m\u001b[0m\n\u001b[1;32m    135\u001b[0m \u001b[0;34m\u001b[0m\u001b[0m\n",
            "\u001b[0;32m/usr/lib/python3.8/queue.py\u001b[0m in \u001b[0;36mget\u001b[0;34m(self, block, timeout)\u001b[0m\n\u001b[1;32m    168\u001b[0m             \u001b[0;32melif\u001b[0m \u001b[0mtimeout\u001b[0m \u001b[0;32mis\u001b[0m \u001b[0;32mNone\u001b[0m\u001b[0;34m:\u001b[0m\u001b[0;34m\u001b[0m\u001b[0;34m\u001b[0m\u001b[0m\n\u001b[1;32m    169\u001b[0m                 \u001b[0;32mwhile\u001b[0m \u001b[0;32mnot\u001b[0m \u001b[0mself\u001b[0m\u001b[0;34m.\u001b[0m\u001b[0m_qsize\u001b[0m\u001b[0;34m(\u001b[0m\u001b[0;34m)\u001b[0m\u001b[0;34m:\u001b[0m\u001b[0;34m\u001b[0m\u001b[0;34m\u001b[0m\u001b[0m\n\u001b[0;32m--> 170\u001b[0;31m                     \u001b[0mself\u001b[0m\u001b[0;34m.\u001b[0m\u001b[0mnot_empty\u001b[0m\u001b[0;34m.\u001b[0m\u001b[0mwait\u001b[0m\u001b[0;34m(\u001b[0m\u001b[0;34m)\u001b[0m\u001b[0;34m\u001b[0m\u001b[0;34m\u001b[0m\u001b[0m\n\u001b[0m\u001b[1;32m    171\u001b[0m             \u001b[0;32melif\u001b[0m \u001b[0mtimeout\u001b[0m \u001b[0;34m<\u001b[0m \u001b[0;36m0\u001b[0m\u001b[0;34m:\u001b[0m\u001b[0;34m\u001b[0m\u001b[0;34m\u001b[0m\u001b[0m\n\u001b[1;32m    172\u001b[0m                 \u001b[0;32mraise\u001b[0m \u001b[0mValueError\u001b[0m\u001b[0;34m(\u001b[0m\u001b[0;34m\"'timeout' must be a non-negative number\"\u001b[0m\u001b[0;34m)\u001b[0m\u001b[0;34m\u001b[0m\u001b[0;34m\u001b[0m\u001b[0m\n",
            "\u001b[0;32m/usr/lib/python3.8/threading.py\u001b[0m in \u001b[0;36mwait\u001b[0;34m(self, timeout)\u001b[0m\n\u001b[1;32m    300\u001b[0m         \u001b[0;32mtry\u001b[0m\u001b[0;34m:\u001b[0m    \u001b[0;31m# restore state no matter what (e.g., KeyboardInterrupt)\u001b[0m\u001b[0;34m\u001b[0m\u001b[0;34m\u001b[0m\u001b[0m\n\u001b[1;32m    301\u001b[0m             \u001b[0;32mif\u001b[0m \u001b[0mtimeout\u001b[0m \u001b[0;32mis\u001b[0m \u001b[0;32mNone\u001b[0m\u001b[0;34m:\u001b[0m\u001b[0;34m\u001b[0m\u001b[0;34m\u001b[0m\u001b[0m\n\u001b[0;32m--> 302\u001b[0;31m                 \u001b[0mwaiter\u001b[0m\u001b[0;34m.\u001b[0m\u001b[0macquire\u001b[0m\u001b[0;34m(\u001b[0m\u001b[0;34m)\u001b[0m\u001b[0;34m\u001b[0m\u001b[0;34m\u001b[0m\u001b[0m\n\u001b[0m\u001b[1;32m    303\u001b[0m                 \u001b[0mgotit\u001b[0m \u001b[0;34m=\u001b[0m \u001b[0;32mTrue\u001b[0m\u001b[0;34m\u001b[0m\u001b[0;34m\u001b[0m\u001b[0m\n\u001b[1;32m    304\u001b[0m             \u001b[0;32melse\u001b[0m\u001b[0;34m:\u001b[0m\u001b[0;34m\u001b[0m\u001b[0;34m\u001b[0m\u001b[0m\n",
            "\u001b[0;31mKeyboardInterrupt\u001b[0m: "
          ]
        }
      ],
      "source": [
        "result = dfdask.groupby('Plate Type').agg({'Plate Type' : 'count'}).compute()\n"
      ]
    },
    {
      "cell_type": "code",
      "execution_count": null,
      "metadata": {
        "id": "sYuscWtkXIuK"
      },
      "outputs": [],
      "source": [
        "result."
      ]
    },
    {
      "cell_type": "markdown",
      "metadata": {
        "id": "eUW9nF_nQ75B"
      },
      "source": [
        "### 2. PySpark"
      ]
    },
    {
      "cell_type": "markdown",
      "metadata": {
        "id": "5BQCg_HUYpHj"
      },
      "source": []
    },
    {
      "cell_type": "markdown",
      "metadata": {
        "id": "opLmy99IgnJr"
      },
      "source": [
        "a. What is the most common plate type?"
      ]
    },
    {
      "cell_type": "markdown",
      "metadata": {
        "id": "D7YKRsvCgZth"
      },
      "source": [
        "b. What registeration stae has the highest rate?"
      ]
    },
    {
      "cell_type": "markdown",
      "metadata": {
        "id": "ittuE9WegZth"
      },
      "source": [
        "c. What is the most common vehicle body type?"
      ]
    },
    {
      "cell_type": "markdown",
      "metadata": {
        "id": "DeW0cJccgZti"
      },
      "source": [
        "d. What is the most common vehicle colour?"
      ]
    },
    {
      "cell_type": "markdown",
      "metadata": {
        "id": "C6aRntfzgZti"
      },
      "source": [
        "e. What is the most common state?"
      ]
    },
    {
      "cell_type": "code",
      "execution_count": null,
      "metadata": {
        "id": "VvTK6HsNZFsH"
      },
      "outputs": [],
      "source": []
    },
    {
      "cell_type": "code",
      "execution_count": null,
      "metadata": {
        "id": "N9-1GdolXqMR"
      },
      "outputs": [],
      "source": [
        "dfs.select('*').show(5)"
      ]
    },
    {
      "cell_type": "code",
      "execution_count": null,
      "metadata": {
        "id": "ATI3ILzQXqUz"
      },
      "outputs": [],
      "source": []
    },
    {
      "cell_type": "markdown",
      "metadata": {
        "id": "DmgT10D9RBrl"
      },
      "source": [
        "### 3. Koalas"
      ]
    },
    {
      "cell_type": "markdown",
      "metadata": {
        "id": "FuH17Qzkftvq"
      },
      "source": [
        "a. What is the most common plate type?"
      ]
    },
    {
      "cell_type": "code",
      "execution_count": null,
      "metadata": {
        "id": "CPa5vhupem7T"
      },
      "outputs": [],
      "source": [
        "%%time\n",
        "dfk = ks.read_csv('NYC_Parking_Ticket.csv')\n",
        "dfk.head()"
      ]
    },
    {
      "cell_type": "code",
      "execution_count": null,
      "metadata": {
        "id": "4jOUM803fUvq"
      },
      "outputs": [],
      "source": [
        "%%time\n",
        "dfk.groupby('Plate Type').agg({'Plate Type' : 'count'})"
      ]
    },
    {
      "cell_type": "markdown",
      "metadata": {
        "id": "upzzwj7Jf2fy"
      },
      "source": [
        "b. What registeration state has the highest rate?"
      ]
    },
    {
      "cell_type": "code",
      "execution_count": null,
      "metadata": {
        "id": "3QgSMqDRgywN"
      },
      "outputs": [],
      "source": [
        "%%time\n",
        "dfk.groupby('Registration State').count()"
      ]
    },
    {
      "cell_type": "markdown",
      "metadata": {
        "id": "hYaqPu-Xf-fT"
      },
      "source": [
        "c. What is the most common vehicle body type?"
      ]
    },
    {
      "cell_type": "code",
      "execution_count": null,
      "metadata": {
        "id": "FUM44nYMg6J6"
      },
      "outputs": [],
      "source": [
        "%%time\n",
        "dfk.groupby('Vehicle Body Type').count()"
      ]
    },
    {
      "cell_type": "markdown",
      "metadata": {
        "id": "Ag8omTzDgGHO"
      },
      "source": [
        "d. What is the most common vehicle colour?"
      ]
    },
    {
      "cell_type": "code",
      "execution_count": null,
      "metadata": {
        "id": "SQ-pPxNsh6M_"
      },
      "outputs": [],
      "source": [
        "%%time\n",
        "dfk.groupby('').count()"
      ]
    },
    {
      "cell_type": "markdown",
      "metadata": {
        "id": "xmejGtfBgQZi"
      },
      "source": [
        "e. What is the most common state?"
      ]
    },
    {
      "cell_type": "code",
      "execution_count": null,
      "metadata": {
        "id": "6cAvo862h-ik"
      },
      "outputs": [],
      "source": [
        "%%time\n",
        "dfk.groupby('').count()"
      ]
    },
    {
      "cell_type": "markdown",
      "metadata": {
        "id": "md_Am1oeVtTJ"
      },
      "source": [
        "# Inferences and Conclusion\n",
        "\n",
        "**TODO** - Write some explanation here: a summary of all the inferences drawn from the analysis, and any conclusions you may have drawn by answering various questions."
      ]
    },
    {
      "cell_type": "code",
      "execution_count": null,
      "metadata": {
        "id": "XKj0weytVw0n"
      },
      "outputs": [],
      "source": []
    },
    {
      "cell_type": "markdown",
      "metadata": {
        "id": "g8UTxyLRV-JU"
      },
      "source": [
        "# References and Future Work\n",
        "\n",
        "**TODO** - Write some explanation here: ideas for future projects using this dataset, and links to resources you found useful."
      ]
    },
    {
      "cell_type": "code",
      "execution_count": null,
      "metadata": {
        "id": "TuhZQB6rWsKq"
      },
      "outputs": [],
      "source": []
    }
  ],
  "metadata": {
    "colab": {
      "provenance": [],
      "include_colab_link": true
    },
    "kernelspec": {
      "display_name": "Python 3",
      "name": "python3"
    },
    "language_info": {
      "name": "python"
    }
  },
  "nbformat": 4,
  "nbformat_minor": 0
}
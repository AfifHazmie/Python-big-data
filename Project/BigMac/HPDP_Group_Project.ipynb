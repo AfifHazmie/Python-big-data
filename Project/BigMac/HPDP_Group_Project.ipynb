{
  "nbformat": 4,
  "nbformat_minor": 0,
  "metadata": {
    "colab": {
      "provenance": [],
      "include_colab_link": true
    },
    "kernelspec": {
      "name": "python3",
      "display_name": "Python 3"
    },
    "language_info": {
      "name": "python"
    }
  },
  "cells": [
    {
      "cell_type": "markdown",
      "metadata": {
        "id": "view-in-github",
        "colab_type": "text"
      },
      "source": [
        "<a href=\"https://colab.research.google.com/github/drshahizan/Python-big-data/blob/main/Project/BigMac/HPDP_Group_Project.ipynb\" target=\"_parent\"><img src=\"https://colab.research.google.com/assets/colab-badge.svg\" alt=\"Open In Colab\"/></a>"
      ]
    },
    {
      "cell_type": "markdown",
      "source": [
        "# **Project: Airline Delay and Cancellation Data(2016 - 2018.csv)**\n",
        "\n",
        "\n",
        "The U.S. Department of Transportation's (DOT) Bureau of Transportation Statistics tracks the on-time performance of domestic flights operated by large air carriers. Summary information on the number of on-time, delayed, canceled, and diverted flights is published in DOT's monthly Air Travel Consumer Report and in this dataset of 2016 flight delays and cancellations.\n",
        "\n",
        "**Group members:**\n",
        "\n",
        "<table>\n",
        "  <tr>\n",
        "    <th>Name</th>\n",
        "    <th>Matric</th>\n",
        "  </tr>\n",
        "  <tr>\n",
        "    <th>Muhammad Imran Hakimi Bin Mohd Shukri </th>\n",
        "    <th>A20EC0213</th>\n",
        "  </tr>\n",
        "  <tr>\n",
        "    <th>Afif Hazmie Arsyad Bin Agus</th>\n",
        "    <th>A20EC0176</th>\n",
        "  </tr>\n",
        "    <tr>\n",
        "    <th>Kong Jia Rou</th>\n",
        "    <th>A20EC0198</th>\n",
        "  </tr>\n",
        "    <tr>\n",
        "    <th>Rasmin Kaur Sandhu</th>\n",
        "    <th>A19ET0216</th>\n",
        "  </tr>\n",
        "</table>\n",
        "\n",
        "Dataset source: https://www.kaggle.com/datasets/yuanyuwendymu/airline-delay-and-cancellation-data-2009-2018?select=2018.csv\n",
        "\n",
        "\n"
      ],
      "metadata": {
        "id": "bMeBafK7VkL5"
      }
    },
    {
      "cell_type": "markdown",
      "source": [
        "# Installing and Importing the libraries"
      ],
      "metadata": {
        "id": "vU_UArqGytM8"
      }
    },
    {
      "cell_type": "markdown",
      "source": [
        "**Pyspark Library**"
      ],
      "metadata": {
        "id": "iBTybpmUzML_"
      }
    },
    {
      "cell_type": "code",
      "source": [
        "!pip install pyspark"
      ],
      "metadata": {
        "colab": {
          "base_uri": "https://localhost:8080/"
        },
        "id": "OJoWJtRlzEjx",
        "outputId": "729e8506-7382-4b96-acb6-b6c2dd26b8a0"
      },
      "execution_count": null,
      "outputs": [
        {
          "output_type": "stream",
          "name": "stdout",
          "text": [
            "Looking in indexes: https://pypi.org/simple, https://us-python.pkg.dev/colab-wheels/public/simple/\n",
            "Collecting pyspark\n",
            "  Downloading pyspark-3.3.1.tar.gz (281.4 MB)\n",
            "\u001b[2K     \u001b[90m━━━━━━━━━━━━━━━━━━━━━━━━━━━━━━━━━━━━━━━\u001b[0m \u001b[32m281.4/281.4 MB\u001b[0m \u001b[31m4.5 MB/s\u001b[0m eta \u001b[36m0:00:00\u001b[0m\n",
            "\u001b[?25h  Preparing metadata (setup.py) ... \u001b[?25l\u001b[?25hdone\n",
            "Collecting py4j==0.10.9.5\n",
            "  Downloading py4j-0.10.9.5-py2.py3-none-any.whl (199 kB)\n",
            "\u001b[2K     \u001b[90m━━━━━━━━━━━━━━━━━━━━━━━━━━━━━━━━━━━━━━\u001b[0m \u001b[32m199.7/199.7 KB\u001b[0m \u001b[31m20.7 MB/s\u001b[0m eta \u001b[36m0:00:00\u001b[0m\n",
            "\u001b[?25hBuilding wheels for collected packages: pyspark\n",
            "  Building wheel for pyspark (setup.py) ... \u001b[?25l\u001b[?25hdone\n",
            "  Created wheel for pyspark: filename=pyspark-3.3.1-py2.py3-none-any.whl size=281845512 sha256=3e9aefeb07a3cab64df465f7f193e2bade1ecf4b7c5e19da31496977cb7edd42\n",
            "  Stored in directory: /root/.cache/pip/wheels/43/dc/11/ec201cd671da62fa9c5cc77078235e40722170ceba231d7598\n",
            "Successfully built pyspark\n",
            "Installing collected packages: py4j, pyspark\n",
            "Successfully installed py4j-0.10.9.5 pyspark-3.3.1\n"
          ]
        }
      ]
    },
    {
      "cell_type": "code",
      "source": [
        "from pyspark.sql.functions import col\n",
        "from pyspark.sql import SparkSession"
      ],
      "metadata": {
        "id": "Fy825olkzJ6U"
      },
      "execution_count": null,
      "outputs": []
    },
    {
      "cell_type": "code",
      "source": [
        "spark = SparkSession \\\n",
        "    .builder \\\n",
        "    .appName(\"HPDP Group Project\") \\\n",
        "    .getOrCreate()"
      ],
      "metadata": {
        "id": "Dc9gX1z1zLDV"
      },
      "execution_count": null,
      "outputs": []
    },
    {
      "cell_type": "markdown",
      "source": [
        "**Koalas Library**"
      ],
      "metadata": {
        "id": "rsKPEbtNzLfG"
      }
    },
    {
      "cell_type": "code",
      "source": [
        "!pip install koalas"
      ],
      "metadata": {
        "colab": {
          "base_uri": "https://localhost:8080/"
        },
        "id": "RCJPTLc6bMs_",
        "outputId": "e0a73511-fa35-47f8-f731-bf2c46194acf"
      },
      "execution_count": null,
      "outputs": [
        {
          "output_type": "stream",
          "name": "stdout",
          "text": [
            "Looking in indexes: https://pypi.org/simple, https://us-python.pkg.dev/colab-wheels/public/simple/\n",
            "Collecting koalas\n",
            "  Downloading koalas-1.8.2-py3-none-any.whl (390 kB)\n",
            "\u001b[2K     \u001b[90m━━━━━━━━━━━━━━━━━━━━━━━━━━━━━━━━━━━━━━\u001b[0m \u001b[32m390.8/390.8 KB\u001b[0m \u001b[31m13.9 MB/s\u001b[0m eta \u001b[36m0:00:00\u001b[0m\n",
            "\u001b[?25hRequirement already satisfied: numpy>=1.14 in /usr/local/lib/python3.8/dist-packages (from koalas) (1.21.6)\n",
            "Requirement already satisfied: pandas>=0.23.2 in /usr/local/lib/python3.8/dist-packages (from koalas) (1.3.5)\n",
            "Requirement already satisfied: pyarrow>=0.10 in /usr/local/lib/python3.8/dist-packages (from koalas) (9.0.0)\n",
            "Requirement already satisfied: python-dateutil>=2.7.3 in /usr/local/lib/python3.8/dist-packages (from pandas>=0.23.2->koalas) (2.8.2)\n",
            "Requirement already satisfied: pytz>=2017.3 in /usr/local/lib/python3.8/dist-packages (from pandas>=0.23.2->koalas) (2022.7)\n",
            "Requirement already satisfied: six>=1.5 in /usr/local/lib/python3.8/dist-packages (from python-dateutil>=2.7.3->pandas>=0.23.2->koalas) (1.15.0)\n",
            "Installing collected packages: koalas\n",
            "Successfully installed koalas-1.8.2\n"
          ]
        }
      ]
    },
    {
      "cell_type": "code",
      "source": [
        "import databricks.koalas as ks"
      ],
      "metadata": {
        "id": "N5qyvNv8zzka"
      },
      "execution_count": null,
      "outputs": []
    },
    {
      "cell_type": "markdown",
      "source": [
        "**Vaex Library**"
      ],
      "metadata": {
        "id": "RwoEcZ6azYnQ"
      }
    },
    {
      "cell_type": "code",
      "source": [
        "!pip install vaex\n",
        "!pip install vaex-viz"
      ],
      "metadata": {
        "colab": {
          "base_uri": "https://localhost:8080/",
          "height": 1000
        },
        "id": "ayfJCortzvdJ",
        "outputId": "42405513-6948-407f-af5c-726c0f42112c"
      },
      "execution_count": null,
      "outputs": [
        {
          "output_type": "stream",
          "name": "stdout",
          "text": [
            "Looking in indexes: https://pypi.org/simple, https://us-python.pkg.dev/colab-wheels/public/simple/\n",
            "Collecting vaex\n",
            "  Downloading vaex-4.16.0-py3-none-any.whl (4.7 kB)\n",
            "Collecting vaex-jupyter<0.9,>=0.8.1\n",
            "  Downloading vaex_jupyter-0.8.1-py3-none-any.whl (43 kB)\n",
            "\u001b[2K     \u001b[90m━━━━━━━━━━━━━━━━━━━━━━━━━━━━━━━━━━━━━━━━\u001b[0m \u001b[32m43.2/43.2 KB\u001b[0m \u001b[31m6.3 MB/s\u001b[0m eta \u001b[36m0:00:00\u001b[0m\n",
            "\u001b[?25hCollecting vaex-viz<0.6,>=0.5.4\n",
            "  Downloading vaex_viz-0.5.4-py3-none-any.whl (19 kB)\n",
            "Collecting vaex-astro<0.10,>=0.9.3\n",
            "  Downloading vaex_astro-0.9.3-py3-none-any.whl (20 kB)\n",
            "Collecting vaex-server<0.9,>=0.8.1\n",
            "  Downloading vaex_server-0.8.1-py3-none-any.whl (23 kB)\n",
            "Collecting vaex-ml<0.19,>=0.18.1\n",
            "  Downloading vaex_ml-0.18.1-py3-none-any.whl (58 kB)\n",
            "\u001b[2K     \u001b[90m━━━━━━━━━━━━━━━━━━━━━━━━━━━━━━━━━━━━━━━━\u001b[0m \u001b[32m58.2/58.2 KB\u001b[0m \u001b[31m8.5 MB/s\u001b[0m eta \u001b[36m0:00:00\u001b[0m\n",
            "\u001b[?25hCollecting vaex-core<4.17,>=4.16.0\n",
            "  Downloading vaex_core-4.16.1-cp38-cp38-manylinux_2_17_x86_64.manylinux2014_x86_64.whl (4.5 MB)\n",
            "\u001b[2K     \u001b[90m━━━━━━━━━━━━━━━━━━━━━━━━━━━━━━━━━━━━━━━━\u001b[0m \u001b[32m4.5/4.5 MB\u001b[0m \u001b[31m91.3 MB/s\u001b[0m eta \u001b[36m0:00:00\u001b[0m\n",
            "\u001b[?25hCollecting vaex-hdf5<0.15,>=0.13.0\n",
            "  Downloading vaex_hdf5-0.14.1-py3-none-any.whl (16 kB)\n",
            "Requirement already satisfied: astropy in /usr/local/lib/python3.8/dist-packages (from vaex-astro<0.10,>=0.9.3->vaex) (4.3.1)\n",
            "Collecting frozendict!=2.2.0\n",
            "  Downloading frozendict-2.3.4-cp38-cp38-manylinux_2_17_x86_64.manylinux2014_x86_64.whl (110 kB)\n",
            "\u001b[2K     \u001b[90m━━━━━━━━━━━━━━━━━━━━━━━━━━━━━━━━━━━━━━\u001b[0m \u001b[32m111.0/111.0 KB\u001b[0m \u001b[31m15.8 MB/s\u001b[0m eta \u001b[36m0:00:00\u001b[0m\n",
            "\u001b[?25hRequirement already satisfied: future>=0.15.2 in /usr/local/lib/python3.8/dist-packages (from vaex-core<4.17,>=4.16.0->vaex) (0.16.0)\n",
            "Collecting nest-asyncio>=1.3.3\n",
            "  Downloading nest_asyncio-1.5.6-py3-none-any.whl (5.2 kB)\n",
            "Collecting rich\n",
            "  Downloading rich-13.3.0-py3-none-any.whl (238 kB)\n",
            "\u001b[2K     \u001b[90m━━━━━━━━━━━━━━━━━━━━━━━━━━━━━━━━━━━━━━\u001b[0m \u001b[32m239.0/239.0 KB\u001b[0m \u001b[31m30.7 MB/s\u001b[0m eta \u001b[36m0:00:00\u001b[0m\n",
            "\u001b[?25hRequirement already satisfied: requests in /usr/local/lib/python3.8/dist-packages (from vaex-core<4.17,>=4.16.0->vaex) (2.25.1)\n",
            "Requirement already satisfied: numpy>=1.16 in /usr/local/lib/python3.8/dist-packages (from vaex-core<4.17,>=4.16.0->vaex) (1.21.6)\n",
            "Requirement already satisfied: progressbar2 in /usr/local/lib/python3.8/dist-packages (from vaex-core<4.17,>=4.16.0->vaex) (3.38.0)\n",
            "Requirement already satisfied: pandas in /usr/local/lib/python3.8/dist-packages (from vaex-core<4.17,>=4.16.0->vaex) (1.3.5)\n",
            "Requirement already satisfied: filelock in /usr/local/lib/python3.8/dist-packages (from vaex-core<4.17,>=4.16.0->vaex) (3.9.0)\n",
            "Requirement already satisfied: pyyaml in /usr/local/lib/python3.8/dist-packages (from vaex-core<4.17,>=4.16.0->vaex) (6.0)\n",
            "Collecting blake3\n",
            "  Downloading blake3-0.3.3-cp38-cp38-manylinux_2_17_x86_64.manylinux2014_x86_64.whl (1.2 MB)\n",
            "\u001b[2K     \u001b[90m━━━━━━━━━━━━━━━━━━━━━━━━━━━━━━━━━━━━━━━━\u001b[0m \u001b[32m1.2/1.2 MB\u001b[0m \u001b[31m76.9 MB/s\u001b[0m eta \u001b[36m0:00:00\u001b[0m\n",
            "\u001b[?25hRequirement already satisfied: tabulate>=0.8.3 in /usr/local/lib/python3.8/dist-packages (from vaex-core<4.17,>=4.16.0->vaex) (0.8.10)\n",
            "Requirement already satisfied: pydantic>=1.8.0 in /usr/local/lib/python3.8/dist-packages (from vaex-core<4.17,>=4.16.0->vaex) (1.10.4)\n",
            "Requirement already satisfied: pyarrow>=5.0.0 in /usr/local/lib/python3.8/dist-packages (from vaex-core<4.17,>=4.16.0->vaex) (9.0.0)\n",
            "Collecting aplus\n",
            "  Downloading aplus-0.11.0.tar.gz (3.7 kB)\n",
            "  Preparing metadata (setup.py) ... \u001b[?25l\u001b[?25hdone\n",
            "Requirement already satisfied: cloudpickle in /usr/local/lib/python3.8/dist-packages (from vaex-core<4.17,>=4.16.0->vaex) (2.2.0)\n",
            "Requirement already satisfied: six in /usr/local/lib/python3.8/dist-packages (from vaex-core<4.17,>=4.16.0->vaex) (1.15.0)\n",
            "Requirement already satisfied: dask!=2022.4.0 in /usr/local/lib/python3.8/dist-packages (from vaex-core<4.17,>=4.16.0->vaex) (2022.2.1)\n",
            "Requirement already satisfied: h5py>=2.9 in /usr/local/lib/python3.8/dist-packages (from vaex-hdf5<0.15,>=0.13.0->vaex) (3.1.0)\n",
            "Requirement already satisfied: xarray in /usr/local/lib/python3.8/dist-packages (from vaex-jupyter<0.9,>=0.8.1->vaex) (2022.12.0)\n",
            "Collecting ipympl\n",
            "  Downloading ipympl-0.9.2-py2.py3-none-any.whl (510 kB)\n",
            "\u001b[2K     \u001b[90m━━━━━━━━━━━━━━━━━━━━━━━━━━━━━━━━━━━━━━\u001b[0m \u001b[32m510.3/510.3 KB\u001b[0m \u001b[31m43.4 MB/s\u001b[0m eta \u001b[36m0:00:00\u001b[0m\n",
            "\u001b[?25hCollecting ipyvuetify<2,>=1.2.2\n",
            "  Downloading ipyvuetify-1.8.4-py2.py3-none-any.whl (11.7 MB)\n",
            "\u001b[2K     \u001b[90m━━━━━━━━━━━━━━━━━━━━━━━━━━━━━━━━━━━━━━━━\u001b[0m \u001b[32m11.7/11.7 MB\u001b[0m \u001b[31m91.0 MB/s\u001b[0m eta \u001b[36m0:00:00\u001b[0m\n",
            "\u001b[?25hCollecting ipyvolume>=0.4\n",
            "  Downloading ipyvolume-0.6.0-py3-none-any.whl (1.6 MB)\n",
            "\u001b[2K     \u001b[90m━━━━━━━━━━━━━━━━━━━━━━━━━━━━━━━━━━━━━━━━\u001b[0m \u001b[32m1.6/1.6 MB\u001b[0m \u001b[31m76.5 MB/s\u001b[0m eta \u001b[36m0:00:00\u001b[0m\n",
            "\u001b[?25hCollecting ipyleaflet\n",
            "  Downloading ipyleaflet-0.17.2-py3-none-any.whl (3.7 MB)\n",
            "\u001b[2K     \u001b[90m━━━━━━━━━━━━━━━━━━━━━━━━━━━━━━━━━━━━━━━━\u001b[0m \u001b[32m3.7/3.7 MB\u001b[0m \u001b[31m94.8 MB/s\u001b[0m eta \u001b[36m0:00:00\u001b[0m\n",
            "\u001b[?25hCollecting bqplot>=0.10.1\n",
            "  Downloading bqplot-0.12.36-py2.py3-none-any.whl (1.2 MB)\n",
            "\u001b[2K     \u001b[90m━━━━━━━━━━━━━━━━━━━━━━━━━━━━━━━━━━━━━━━━\u001b[0m \u001b[32m1.2/1.2 MB\u001b[0m \u001b[31m66.9 MB/s\u001b[0m eta \u001b[36m0:00:00\u001b[0m\n",
            "\u001b[?25hRequirement already satisfied: traitlets in /usr/local/lib/python3.8/dist-packages (from vaex-ml<0.19,>=0.18.1->vaex) (5.7.1)\n",
            "Requirement already satisfied: numba in /usr/local/lib/python3.8/dist-packages (from vaex-ml<0.19,>=0.18.1->vaex) (0.56.4)\n",
            "Requirement already satisfied: jinja2 in /usr/local/lib/python3.8/dist-packages (from vaex-ml<0.19,>=0.18.1->vaex) (2.11.3)\n",
            "Requirement already satisfied: cachetools in /usr/local/lib/python3.8/dist-packages (from vaex-server<0.9,>=0.8.1->vaex) (5.2.1)\n",
            "Requirement already satisfied: tornado>4.1 in /usr/local/lib/python3.8/dist-packages (from vaex-server<0.9,>=0.8.1->vaex) (6.0.4)\n",
            "Collecting uvicorn[standard]\n",
            "  Downloading uvicorn-0.20.0-py3-none-any.whl (56 kB)\n",
            "\u001b[2K     \u001b[90m━━━━━━━━━━━━━━━━━━━━━━━━━━━━━━━━━━━━━━━━\u001b[0m \u001b[32m56.9/56.9 KB\u001b[0m \u001b[31m7.5 MB/s\u001b[0m eta \u001b[36m0:00:00\u001b[0m\n",
            "\u001b[?25hCollecting fastapi\n",
            "  Downloading fastapi-0.89.1-py3-none-any.whl (55 kB)\n",
            "\u001b[2K     \u001b[90m━━━━━━━━━━━━━━━━━━━━━━━━━━━━━━━━━━━━━━━━\u001b[0m \u001b[32m55.8/55.8 KB\u001b[0m \u001b[31m8.6 MB/s\u001b[0m eta \u001b[36m0:00:00\u001b[0m\n",
            "\u001b[?25hRequirement already satisfied: pillow in /usr/local/lib/python3.8/dist-packages (from vaex-viz<0.6,>=0.5.4->vaex) (7.1.2)\n",
            "Requirement already satisfied: matplotlib>=1.3.1 in /usr/local/lib/python3.8/dist-packages (from vaex-viz<0.6,>=0.5.4->vaex) (3.2.2)\n",
            "Collecting traittypes>=0.0.6\n",
            "  Downloading traittypes-0.2.1-py2.py3-none-any.whl (8.6 kB)\n",
            "Requirement already satisfied: ipywidgets<9,>=7.5.0 in /usr/local/lib/python3.8/dist-packages (from bqplot>=0.10.1->vaex-jupyter<0.9,>=0.8.1->vaex) (7.7.1)\n",
            "Requirement already satisfied: fsspec>=0.6.0 in /usr/local/lib/python3.8/dist-packages (from dask!=2022.4.0->vaex-core<4.17,>=4.16.0->vaex) (2022.11.0)\n",
            "Requirement already satisfied: packaging>=20.0 in /usr/local/lib/python3.8/dist-packages (from dask!=2022.4.0->vaex-core<4.17,>=4.16.0->vaex) (21.3)\n",
            "Requirement already satisfied: partd>=0.3.10 in /usr/local/lib/python3.8/dist-packages (from dask!=2022.4.0->vaex-core<4.17,>=4.16.0->vaex) (1.3.0)\n",
            "Requirement already satisfied: toolz>=0.8.2 in /usr/local/lib/python3.8/dist-packages (from dask!=2022.4.0->vaex-core<4.17,>=4.16.0->vaex) (0.12.0)\n",
            "Collecting ipywebrtc\n",
            "  Downloading ipywebrtc-0.6.0-py2.py3-none-any.whl (260 kB)\n",
            "\u001b[2K     \u001b[90m━━━━━━━━━━━━━━━━━━━━━━━━━━━━━━━━━━━━━━\u001b[0m \u001b[32m260.7/260.7 KB\u001b[0m \u001b[31m27.3 MB/s\u001b[0m eta \u001b[36m0:00:00\u001b[0m\n",
            "\u001b[?25hCollecting ipyvue>=1.7.0\n",
            "  Downloading ipyvue-1.8.0-py2.py3-none-any.whl (2.7 MB)\n",
            "\u001b[2K     \u001b[90m━━━━━━━━━━━━━━━━━━━━━━━━━━━━━━━━━━━━━━━━\u001b[0m \u001b[32m2.7/2.7 MB\u001b[0m \u001b[31m92.3 MB/s\u001b[0m eta \u001b[36m0:00:00\u001b[0m\n",
            "\u001b[?25hCollecting pythreejs>=2.4.0\n",
            "  Downloading pythreejs-2.4.1-py3-none-any.whl (3.3 MB)\n",
            "\u001b[2K     \u001b[90m━━━━━━━━━━━━━━━━━━━━━━━━━━━━━━━━━━━━━━━━\u001b[0m \u001b[32m3.3/3.3 MB\u001b[0m \u001b[31m90.5 MB/s\u001b[0m eta \u001b[36m0:00:00\u001b[0m\n",
            "\u001b[?25hRequirement already satisfied: kiwisolver>=1.0.1 in /usr/local/lib/python3.8/dist-packages (from matplotlib>=1.3.1->vaex-viz<0.6,>=0.5.4->vaex) (1.4.4)\n",
            "Requirement already satisfied: pyparsing!=2.0.4,!=2.1.2,!=2.1.6,>=2.0.1 in /usr/local/lib/python3.8/dist-packages (from matplotlib>=1.3.1->vaex-viz<0.6,>=0.5.4->vaex) (3.0.9)\n",
            "Requirement already satisfied: python-dateutil>=2.1 in /usr/local/lib/python3.8/dist-packages (from matplotlib>=1.3.1->vaex-viz<0.6,>=0.5.4->vaex) (2.8.2)\n",
            "Requirement already satisfied: cycler>=0.10 in /usr/local/lib/python3.8/dist-packages (from matplotlib>=1.3.1->vaex-viz<0.6,>=0.5.4->vaex) (0.11.0)\n",
            "Requirement already satisfied: pytz>=2017.3 in /usr/local/lib/python3.8/dist-packages (from pandas->vaex-core<4.17,>=4.16.0->vaex) (2022.7)\n",
            "Requirement already satisfied: typing-extensions>=4.2.0 in /usr/local/lib/python3.8/dist-packages (from pydantic>=1.8.0->vaex-core<4.17,>=4.16.0->vaex) (4.4.0)\n",
            "Requirement already satisfied: pyerfa>=1.7.3 in /usr/local/lib/python3.8/dist-packages (from astropy->vaex-astro<0.10,>=0.9.3->vaex) (2.0.0.1)\n",
            "Collecting starlette==0.22.0\n",
            "  Downloading starlette-0.22.0-py3-none-any.whl (64 kB)\n",
            "\u001b[2K     \u001b[90m━━━━━━━━━━━━━━━━━━━━━━━━━━━━━━━━━━━━━━━━\u001b[0m \u001b[32m64.3/64.3 KB\u001b[0m \u001b[31m9.7 MB/s\u001b[0m eta \u001b[36m0:00:00\u001b[0m\n",
            "\u001b[?25hCollecting anyio<5,>=3.4.0\n",
            "  Downloading anyio-3.6.2-py3-none-any.whl (80 kB)\n",
            "\u001b[2K     \u001b[90m━━━━━━━━━━━━━━━━━━━━━━━━━━━━━━━━━━━━━━━━\u001b[0m \u001b[32m80.6/80.6 KB\u001b[0m \u001b[31m10.5 MB/s\u001b[0m eta \u001b[36m0:00:00\u001b[0m\n",
            "\u001b[?25hCollecting xyzservices>=2021.8.1\n",
            "  Downloading xyzservices-2022.9.0-py3-none-any.whl (55 kB)\n",
            "\u001b[2K     \u001b[90m━━━━━━━━━━━━━━━━━━━━━━━━━━━━━━━━━━━━━━━━\u001b[0m \u001b[32m55.9/55.9 KB\u001b[0m \u001b[31m8.7 MB/s\u001b[0m eta \u001b[36m0:00:00\u001b[0m\n",
            "\u001b[?25hRequirement already satisfied: branca>=0.5.0 in /usr/local/lib/python3.8/dist-packages (from ipyleaflet->vaex-jupyter<0.9,>=0.8.1->vaex) (0.6.0)\n",
            "Requirement already satisfied: ipython<9 in /usr/local/lib/python3.8/dist-packages (from ipympl->vaex-jupyter<0.9,>=0.8.1->vaex) (7.9.0)\n",
            "Requirement already satisfied: ipython-genutils in /usr/local/lib/python3.8/dist-packages (from ipympl->vaex-jupyter<0.9,>=0.8.1->vaex) (0.2.0)\n",
            "Collecting matplotlib>=1.3.1\n",
            "  Downloading matplotlib-3.6.3-cp38-cp38-manylinux_2_12_x86_64.manylinux2010_x86_64.whl (9.4 MB)\n",
            "\u001b[2K     \u001b[90m━━━━━━━━━━━━━━━━━━━━━━━━━━━━━━━━━━━━━━━━\u001b[0m \u001b[32m9.4/9.4 MB\u001b[0m \u001b[31m99.9 MB/s\u001b[0m eta \u001b[36m0:00:00\u001b[0m\n",
            "\u001b[?25hCollecting fonttools>=4.22.0\n",
            "  Downloading fonttools-4.38.0-py3-none-any.whl (965 kB)\n",
            "\u001b[2K     \u001b[90m━━━━━━━━━━━━━━━━━━━━━━━━━━━━━━━━━━━━━━\u001b[0m \u001b[32m965.4/965.4 KB\u001b[0m \u001b[31m66.6 MB/s\u001b[0m eta \u001b[36m0:00:00\u001b[0m\n",
            "\u001b[?25hCollecting contourpy>=1.0.1\n",
            "  Downloading contourpy-1.0.7-cp38-cp38-manylinux_2_17_x86_64.manylinux2014_x86_64.whl (300 kB)\n",
            "\u001b[2K     \u001b[90m━━━━━━━━━━━━━━━━━━━━━━━━━━━━━━━━━━━━━━\u001b[0m \u001b[32m300.0/300.0 KB\u001b[0m \u001b[31m32.5 MB/s\u001b[0m eta \u001b[36m0:00:00\u001b[0m\n",
            "\u001b[?25hRequirement already satisfied: MarkupSafe>=0.23 in /usr/local/lib/python3.8/dist-packages (from jinja2->vaex-ml<0.19,>=0.18.1->vaex) (2.0.1)\n",
            "Requirement already satisfied: llvmlite<0.40,>=0.39.0dev0 in /usr/local/lib/python3.8/dist-packages (from numba->vaex-ml<0.19,>=0.18.1->vaex) (0.39.1)\n",
            "Requirement already satisfied: setuptools in /usr/local/lib/python3.8/dist-packages (from numba->vaex-ml<0.19,>=0.18.1->vaex) (57.4.0)\n",
            "Requirement already satisfied: importlib-metadata in /usr/local/lib/python3.8/dist-packages (from numba->vaex-ml<0.19,>=0.18.1->vaex) (6.0.0)\n",
            "Requirement already satisfied: python-utils>=2.3.0 in /usr/local/lib/python3.8/dist-packages (from progressbar2->vaex-core<4.17,>=4.16.0->vaex) (3.4.5)\n",
            "Requirement already satisfied: certifi>=2017.4.17 in /usr/local/lib/python3.8/dist-packages (from requests->vaex-core<4.17,>=4.16.0->vaex) (2022.12.7)\n",
            "Requirement already satisfied: chardet<5,>=3.0.2 in /usr/local/lib/python3.8/dist-packages (from requests->vaex-core<4.17,>=4.16.0->vaex) (4.0.0)\n",
            "Requirement already satisfied: urllib3<1.27,>=1.21.1 in /usr/local/lib/python3.8/dist-packages (from requests->vaex-core<4.17,>=4.16.0->vaex) (1.24.3)\n",
            "Requirement already satisfied: idna<3,>=2.5 in /usr/local/lib/python3.8/dist-packages (from requests->vaex-core<4.17,>=4.16.0->vaex) (2.10)\n",
            "Collecting markdown-it-py<3.0.0,>=2.1.0\n",
            "  Downloading markdown_it_py-2.1.0-py3-none-any.whl (84 kB)\n",
            "\u001b[2K     \u001b[90m━━━━━━━━━━━━━━━━━━━━━━━━━━━━━━━━━━━━━━━━\u001b[0m \u001b[32m84.5/84.5 KB\u001b[0m \u001b[31m10.6 MB/s\u001b[0m eta \u001b[36m0:00:00\u001b[0m\n",
            "\u001b[?25hCollecting pygments<3.0.0,>=2.14.0\n",
            "  Downloading Pygments-2.14.0-py3-none-any.whl (1.1 MB)\n",
            "\u001b[2K     \u001b[90m━━━━━━━━━━━━━━━━━━━━━━━━━━━━━━━━━━━━━━━━\u001b[0m \u001b[32m1.1/1.1 MB\u001b[0m \u001b[31m70.4 MB/s\u001b[0m eta \u001b[36m0:00:00\u001b[0m\n",
            "\u001b[?25hRequirement already satisfied: click>=7.0 in /usr/local/lib/python3.8/dist-packages (from uvicorn[standard]->vaex-server<0.9,>=0.8.1->vaex) (7.1.2)\n",
            "Collecting h11>=0.8\n",
            "  Downloading h11-0.14.0-py3-none-any.whl (58 kB)\n",
            "\u001b[2K     \u001b[90m━━━━━━━━━━━━━━━━━━━━━━━━━━━━━━━━━━━━━━━━\u001b[0m \u001b[32m58.3/58.3 KB\u001b[0m \u001b[31m8.4 MB/s\u001b[0m eta \u001b[36m0:00:00\u001b[0m\n",
            "\u001b[?25hCollecting python-dotenv>=0.13\n",
            "  Downloading python_dotenv-0.21.1-py3-none-any.whl (19 kB)\n",
            "Collecting watchfiles>=0.13\n",
            "  Downloading watchfiles-0.18.1-cp37-abi3-manylinux_2_17_x86_64.manylinux2014_x86_64.whl (1.2 MB)\n",
            "\u001b[2K     \u001b[90m━━━━━━━━━━━━━━━━━━━━━━━━━━━━━━━━━━━━━━━━\u001b[0m \u001b[32m1.2/1.2 MB\u001b[0m \u001b[31m75.2 MB/s\u001b[0m eta \u001b[36m0:00:00\u001b[0m\n",
            "\u001b[?25hCollecting httptools>=0.5.0\n",
            "  Downloading httptools-0.5.0-cp38-cp38-manylinux_2_5_x86_64.manylinux1_x86_64.manylinux_2_17_x86_64.manylinux2014_x86_64.whl (427 kB)\n",
            "\u001b[2K     \u001b[90m━━━━━━━━━━━━━━━━━━━━━━━━━━━━━━━━━━━━━━\u001b[0m \u001b[32m427.8/427.8 KB\u001b[0m \u001b[31m44.9 MB/s\u001b[0m eta \u001b[36m0:00:00\u001b[0m\n",
            "\u001b[?25hCollecting uvloop!=0.15.0,!=0.15.1,>=0.14.0\n",
            "  Downloading uvloop-0.17.0-cp38-cp38-manylinux_2_17_x86_64.manylinux2014_x86_64.whl (4.6 MB)\n",
            "\u001b[2K     \u001b[90m━━━━━━━━━━━━━━━━━━━━━━━━━━━━━━━━━━━━━━━━\u001b[0m \u001b[32m4.6/4.6 MB\u001b[0m \u001b[31m101.4 MB/s\u001b[0m eta \u001b[36m0:00:00\u001b[0m\n",
            "\u001b[?25hCollecting websockets>=10.4\n",
            "  Downloading websockets-10.4-cp38-cp38-manylinux_2_5_x86_64.manylinux1_x86_64.manylinux_2_17_x86_64.manylinux2014_x86_64.whl (106 kB)\n",
            "\u001b[2K     \u001b[90m━━━━━━━━━━━━━━━━━━━━━━━━━━━━━━━━━━━━━━\u001b[0m \u001b[32m107.0/107.0 KB\u001b[0m \u001b[31m15.5 MB/s\u001b[0m eta \u001b[36m0:00:00\u001b[0m\n",
            "\u001b[?25hRequirement already satisfied: decorator in /usr/local/lib/python3.8/dist-packages (from ipython<9->ipympl->vaex-jupyter<0.9,>=0.8.1->vaex) (4.4.2)\n",
            "Collecting jedi>=0.10\n",
            "  Downloading jedi-0.18.2-py2.py3-none-any.whl (1.6 MB)\n",
            "\u001b[2K     \u001b[90m━━━━━━━━━━━━━━━━━━━━━━━━━━━━━━━━━━━━━━━━\u001b[0m \u001b[32m1.6/1.6 MB\u001b[0m \u001b[31m78.5 MB/s\u001b[0m eta \u001b[36m0:00:00\u001b[0m\n",
            "\u001b[?25hRequirement already satisfied: backcall in /usr/local/lib/python3.8/dist-packages (from ipython<9->ipympl->vaex-jupyter<0.9,>=0.8.1->vaex) (0.2.0)\n",
            "Requirement already satisfied: prompt-toolkit<2.1.0,>=2.0.0 in /usr/local/lib/python3.8/dist-packages (from ipython<9->ipympl->vaex-jupyter<0.9,>=0.8.1->vaex) (2.0.10)\n",
            "Requirement already satisfied: pexpect in /usr/local/lib/python3.8/dist-packages (from ipython<9->ipympl->vaex-jupyter<0.9,>=0.8.1->vaex) (4.8.0)\n",
            "Requirement already satisfied: pickleshare in /usr/local/lib/python3.8/dist-packages (from ipython<9->ipympl->vaex-jupyter<0.9,>=0.8.1->vaex) (0.7.5)\n",
            "Requirement already satisfied: widgetsnbextension~=3.6.0 in /usr/local/lib/python3.8/dist-packages (from ipywidgets<9,>=7.5.0->bqplot>=0.10.1->vaex-jupyter<0.9,>=0.8.1->vaex) (3.6.1)\n",
            "Requirement already satisfied: ipykernel>=4.5.1 in /usr/local/lib/python3.8/dist-packages (from ipywidgets<9,>=7.5.0->bqplot>=0.10.1->vaex-jupyter<0.9,>=0.8.1->vaex) (5.3.4)\n",
            "Requirement already satisfied: jupyterlab-widgets>=1.0.0 in /usr/local/lib/python3.8/dist-packages (from ipywidgets<9,>=7.5.0->bqplot>=0.10.1->vaex-jupyter<0.9,>=0.8.1->vaex) (3.0.5)\n",
            "Collecting mdurl~=0.1\n",
            "  Downloading mdurl-0.1.2-py3-none-any.whl (10.0 kB)\n",
            "Requirement already satisfied: locket in /usr/local/lib/python3.8/dist-packages (from partd>=0.3.10->dask!=2022.4.0->vaex-core<4.17,>=4.16.0->vaex) (1.0.0)\n",
            "Collecting ipydatawidgets>=1.1.1\n",
            "  Downloading ipydatawidgets-4.3.2-py2.py3-none-any.whl (271 kB)\n",
            "\u001b[2K     \u001b[90m━━━━━━━━━━━━━━━━━━━━━━━━━━━━━━━━━━━━━━\u001b[0m \u001b[32m271.6/271.6 KB\u001b[0m \u001b[31m31.3 MB/s\u001b[0m eta \u001b[36m0:00:00\u001b[0m\n",
            "\u001b[?25hRequirement already satisfied: zipp>=0.5 in /usr/local/lib/python3.8/dist-packages (from importlib-metadata->numba->vaex-ml<0.19,>=0.18.1->vaex) (3.11.0)\n",
            "Collecting sniffio>=1.1\n",
            "  Downloading sniffio-1.3.0-py3-none-any.whl (10 kB)\n",
            "Requirement already satisfied: jupyter-client in /usr/local/lib/python3.8/dist-packages (from ipykernel>=4.5.1->ipywidgets<9,>=7.5.0->bqplot>=0.10.1->vaex-jupyter<0.9,>=0.8.1->vaex) (6.1.12)\n",
            "Requirement already satisfied: parso<0.9.0,>=0.8.0 in /usr/local/lib/python3.8/dist-packages (from jedi>=0.10->ipython<9->ipympl->vaex-jupyter<0.9,>=0.8.1->vaex) (0.8.3)\n",
            "Requirement already satisfied: wcwidth in /usr/local/lib/python3.8/dist-packages (from prompt-toolkit<2.1.0,>=2.0.0->ipython<9->ipympl->vaex-jupyter<0.9,>=0.8.1->vaex) (0.2.5)\n",
            "Requirement already satisfied: notebook>=4.4.1 in /usr/local/lib/python3.8/dist-packages (from widgetsnbextension~=3.6.0->ipywidgets<9,>=7.5.0->bqplot>=0.10.1->vaex-jupyter<0.9,>=0.8.1->vaex) (5.7.16)\n",
            "Requirement already satisfied: ptyprocess>=0.5 in /usr/local/lib/python3.8/dist-packages (from pexpect->ipython<9->ipympl->vaex-jupyter<0.9,>=0.8.1->vaex) (0.7.0)\n",
            "Requirement already satisfied: pyzmq>=17 in /usr/local/lib/python3.8/dist-packages (from notebook>=4.4.1->widgetsnbextension~=3.6.0->ipywidgets<9,>=7.5.0->bqplot>=0.10.1->vaex-jupyter<0.9,>=0.8.1->vaex) (23.2.1)\n",
            "Requirement already satisfied: jupyter-core>=4.4.0 in /usr/local/lib/python3.8/dist-packages (from notebook>=4.4.1->widgetsnbextension~=3.6.0->ipywidgets<9,>=7.5.0->bqplot>=0.10.1->vaex-jupyter<0.9,>=0.8.1->vaex) (5.1.3)\n",
            "Requirement already satisfied: nbconvert<6.0 in /usr/local/lib/python3.8/dist-packages (from notebook>=4.4.1->widgetsnbextension~=3.6.0->ipywidgets<9,>=7.5.0->bqplot>=0.10.1->vaex-jupyter<0.9,>=0.8.1->vaex) (5.6.1)\n",
            "Requirement already satisfied: prometheus-client in /usr/local/lib/python3.8/dist-packages (from notebook>=4.4.1->widgetsnbextension~=3.6.0->ipywidgets<9,>=7.5.0->bqplot>=0.10.1->vaex-jupyter<0.9,>=0.8.1->vaex) (0.15.0)\n",
            "Requirement already satisfied: terminado>=0.8.1 in /usr/local/lib/python3.8/dist-packages (from notebook>=4.4.1->widgetsnbextension~=3.6.0->ipywidgets<9,>=7.5.0->bqplot>=0.10.1->vaex-jupyter<0.9,>=0.8.1->vaex) (0.13.3)\n",
            "Requirement already satisfied: Send2Trash in /usr/local/lib/python3.8/dist-packages (from notebook>=4.4.1->widgetsnbextension~=3.6.0->ipywidgets<9,>=7.5.0->bqplot>=0.10.1->vaex-jupyter<0.9,>=0.8.1->vaex) (1.8.0)\n",
            "Requirement already satisfied: nbformat in /usr/local/lib/python3.8/dist-packages (from notebook>=4.4.1->widgetsnbextension~=3.6.0->ipywidgets<9,>=7.5.0->bqplot>=0.10.1->vaex-jupyter<0.9,>=0.8.1->vaex) (5.7.1)\n",
            "Requirement already satisfied: platformdirs>=2.5 in /usr/local/lib/python3.8/dist-packages (from jupyter-core>=4.4.0->notebook>=4.4.1->widgetsnbextension~=3.6.0->ipywidgets<9,>=7.5.0->bqplot>=0.10.1->vaex-jupyter<0.9,>=0.8.1->vaex) (2.6.2)\n",
            "Requirement already satisfied: testpath in /usr/local/lib/python3.8/dist-packages (from nbconvert<6.0->notebook>=4.4.1->widgetsnbextension~=3.6.0->ipywidgets<9,>=7.5.0->bqplot>=0.10.1->vaex-jupyter<0.9,>=0.8.1->vaex) (0.6.0)\n",
            "Requirement already satisfied: bleach in /usr/local/lib/python3.8/dist-packages (from nbconvert<6.0->notebook>=4.4.1->widgetsnbextension~=3.6.0->ipywidgets<9,>=7.5.0->bqplot>=0.10.1->vaex-jupyter<0.9,>=0.8.1->vaex) (5.0.1)\n",
            "Requirement already satisfied: pandocfilters>=1.4.1 in /usr/local/lib/python3.8/dist-packages (from nbconvert<6.0->notebook>=4.4.1->widgetsnbextension~=3.6.0->ipywidgets<9,>=7.5.0->bqplot>=0.10.1->vaex-jupyter<0.9,>=0.8.1->vaex) (1.5.0)\n",
            "Requirement already satisfied: mistune<2,>=0.8.1 in /usr/local/lib/python3.8/dist-packages (from nbconvert<6.0->notebook>=4.4.1->widgetsnbextension~=3.6.0->ipywidgets<9,>=7.5.0->bqplot>=0.10.1->vaex-jupyter<0.9,>=0.8.1->vaex) (0.8.4)\n",
            "Requirement already satisfied: defusedxml in /usr/local/lib/python3.8/dist-packages (from nbconvert<6.0->notebook>=4.4.1->widgetsnbextension~=3.6.0->ipywidgets<9,>=7.5.0->bqplot>=0.10.1->vaex-jupyter<0.9,>=0.8.1->vaex) (0.7.1)\n",
            "Requirement already satisfied: entrypoints>=0.2.2 in /usr/local/lib/python3.8/dist-packages (from nbconvert<6.0->notebook>=4.4.1->widgetsnbextension~=3.6.0->ipywidgets<9,>=7.5.0->bqplot>=0.10.1->vaex-jupyter<0.9,>=0.8.1->vaex) (0.4)\n",
            "Requirement already satisfied: jsonschema>=2.6 in /usr/local/lib/python3.8/dist-packages (from nbformat->notebook>=4.4.1->widgetsnbextension~=3.6.0->ipywidgets<9,>=7.5.0->bqplot>=0.10.1->vaex-jupyter<0.9,>=0.8.1->vaex) (4.3.3)\n",
            "Requirement already satisfied: fastjsonschema in /usr/local/lib/python3.8/dist-packages (from nbformat->notebook>=4.4.1->widgetsnbextension~=3.6.0->ipywidgets<9,>=7.5.0->bqplot>=0.10.1->vaex-jupyter<0.9,>=0.8.1->vaex) (2.16.2)\n",
            "Requirement already satisfied: attrs>=17.4.0 in /usr/local/lib/python3.8/dist-packages (from jsonschema>=2.6->nbformat->notebook>=4.4.1->widgetsnbextension~=3.6.0->ipywidgets<9,>=7.5.0->bqplot>=0.10.1->vaex-jupyter<0.9,>=0.8.1->vaex) (22.2.0)\n",
            "Requirement already satisfied: pyrsistent!=0.17.0,!=0.17.1,!=0.17.2,>=0.14.0 in /usr/local/lib/python3.8/dist-packages (from jsonschema>=2.6->nbformat->notebook>=4.4.1->widgetsnbextension~=3.6.0->ipywidgets<9,>=7.5.0->bqplot>=0.10.1->vaex-jupyter<0.9,>=0.8.1->vaex) (0.19.3)\n",
            "Requirement already satisfied: importlib-resources>=1.4.0 in /usr/local/lib/python3.8/dist-packages (from jsonschema>=2.6->nbformat->notebook>=4.4.1->widgetsnbextension~=3.6.0->ipywidgets<9,>=7.5.0->bqplot>=0.10.1->vaex-jupyter<0.9,>=0.8.1->vaex) (5.10.2)\n",
            "Requirement already satisfied: webencodings in /usr/local/lib/python3.8/dist-packages (from bleach->nbconvert<6.0->notebook>=4.4.1->widgetsnbextension~=3.6.0->ipywidgets<9,>=7.5.0->bqplot>=0.10.1->vaex-jupyter<0.9,>=0.8.1->vaex) (0.5.1)\n",
            "Building wheels for collected packages: aplus\n",
            "  Building wheel for aplus (setup.py) ... \u001b[?25l\u001b[?25hdone\n",
            "  Created wheel for aplus: filename=aplus-0.11.0-py3-none-any.whl size=4408 sha256=2e821c83cc36a9f52467290cf2dd97e781ab93eccb09243b2ff60778f1a8982d\n",
            "  Stored in directory: /root/.cache/pip/wheels/de/93/23/3db69e1003030a764c9827dc02137119ec5e6e439afd64eebb\n",
            "Successfully built aplus\n",
            "Installing collected packages: ipywebrtc, blake3, aplus, xyzservices, websockets, uvloop, traittypes, sniffio, python-dotenv, pygments, nest-asyncio, mdurl, jedi, httptools, h11, frozendict, fonttools, contourpy, uvicorn, matplotlib, markdown-it-py, anyio, watchfiles, starlette, rich, vaex-core, fastapi, vaex-viz, vaex-server, vaex-ml, vaex-hdf5, vaex-astro, ipyvue, ipympl, ipyleaflet, ipydatawidgets, bqplot, pythreejs, ipyvuetify, ipyvolume, vaex-jupyter, vaex\n",
            "  Attempting uninstall: pygments\n",
            "    Found existing installation: Pygments 2.6.1\n",
            "    Uninstalling Pygments-2.6.1:\n",
            "      Successfully uninstalled Pygments-2.6.1\n",
            "  Attempting uninstall: matplotlib\n",
            "    Found existing installation: matplotlib 3.2.2\n",
            "    Uninstalling matplotlib-3.2.2:\n",
            "      Successfully uninstalled matplotlib-3.2.2\n",
            "Successfully installed anyio-3.6.2 aplus-0.11.0 blake3-0.3.3 bqplot-0.12.36 contourpy-1.0.7 fastapi-0.89.1 fonttools-4.38.0 frozendict-2.3.4 h11-0.14.0 httptools-0.5.0 ipydatawidgets-4.3.2 ipyleaflet-0.17.2 ipympl-0.9.2 ipyvolume-0.6.0 ipyvue-1.8.0 ipyvuetify-1.8.4 ipywebrtc-0.6.0 jedi-0.18.2 markdown-it-py-2.1.0 matplotlib-3.6.3 mdurl-0.1.2 nest-asyncio-1.5.6 pygments-2.14.0 python-dotenv-0.21.1 pythreejs-2.4.1 rich-13.3.0 sniffio-1.3.0 starlette-0.22.0 traittypes-0.2.1 uvicorn-0.20.0 uvloop-0.17.0 vaex-4.16.0 vaex-astro-0.9.3 vaex-core-4.16.1 vaex-hdf5-0.14.1 vaex-jupyter-0.8.1 vaex-ml-0.18.1 vaex-server-0.8.1 vaex-viz-0.5.4 watchfiles-0.18.1 websockets-10.4 xyzservices-2022.9.0\n"
          ]
        },
        {
          "output_type": "display_data",
          "data": {
            "application/vnd.colab-display-data+json": {
              "pip_warning": {
                "packages": [
                  "matplotlib",
                  "mpl_toolkits",
                  "pygments"
                ]
              }
            }
          },
          "metadata": {}
        },
        {
          "output_type": "stream",
          "name": "stdout",
          "text": [
            "Looking in indexes: https://pypi.org/simple, https://us-python.pkg.dev/colab-wheels/public/simple/\n",
            "Requirement already satisfied: vaex-viz in /usr/local/lib/python3.8/dist-packages (0.5.4)\n",
            "Requirement already satisfied: vaex-core<5,>=4.0.0 in /usr/local/lib/python3.8/dist-packages (from vaex-viz) (4.16.1)\n",
            "Requirement already satisfied: matplotlib>=1.3.1 in /usr/local/lib/python3.8/dist-packages (from vaex-viz) (3.6.3)\n",
            "Requirement already satisfied: pillow in /usr/local/lib/python3.8/dist-packages (from vaex-viz) (7.1.2)\n",
            "Requirement already satisfied: cycler>=0.10 in /usr/local/lib/python3.8/dist-packages (from matplotlib>=1.3.1->vaex-viz) (0.11.0)\n",
            "Requirement already satisfied: numpy>=1.19 in /usr/local/lib/python3.8/dist-packages (from matplotlib>=1.3.1->vaex-viz) (1.21.6)\n",
            "Requirement already satisfied: python-dateutil>=2.7 in /usr/local/lib/python3.8/dist-packages (from matplotlib>=1.3.1->vaex-viz) (2.8.2)\n",
            "Requirement already satisfied: fonttools>=4.22.0 in /usr/local/lib/python3.8/dist-packages (from matplotlib>=1.3.1->vaex-viz) (4.38.0)\n",
            "Requirement already satisfied: kiwisolver>=1.0.1 in /usr/local/lib/python3.8/dist-packages (from matplotlib>=1.3.1->vaex-viz) (1.4.4)\n",
            "Requirement already satisfied: packaging>=20.0 in /usr/local/lib/python3.8/dist-packages (from matplotlib>=1.3.1->vaex-viz) (21.3)\n",
            "Requirement already satisfied: pyparsing>=2.2.1 in /usr/local/lib/python3.8/dist-packages (from matplotlib>=1.3.1->vaex-viz) (3.0.9)\n",
            "Requirement already satisfied: contourpy>=1.0.1 in /usr/local/lib/python3.8/dist-packages (from matplotlib>=1.3.1->vaex-viz) (1.0.7)\n",
            "Requirement already satisfied: future>=0.15.2 in /usr/local/lib/python3.8/dist-packages (from vaex-core<5,>=4.0.0->vaex-viz) (0.16.0)\n",
            "Requirement already satisfied: six in /usr/local/lib/python3.8/dist-packages (from vaex-core<5,>=4.0.0->vaex-viz) (1.15.0)\n",
            "Requirement already satisfied: blake3 in /usr/local/lib/python3.8/dist-packages (from vaex-core<5,>=4.0.0->vaex-viz) (0.3.3)\n",
            "Requirement already satisfied: pydantic>=1.8.0 in /usr/local/lib/python3.8/dist-packages (from vaex-core<5,>=4.0.0->vaex-viz) (1.10.4)\n",
            "Requirement already satisfied: aplus in /usr/local/lib/python3.8/dist-packages (from vaex-core<5,>=4.0.0->vaex-viz) (0.11.0)\n",
            "Requirement already satisfied: nest-asyncio>=1.3.3 in /usr/local/lib/python3.8/dist-packages (from vaex-core<5,>=4.0.0->vaex-viz) (1.5.6)\n",
            "Requirement already satisfied: requests in /usr/local/lib/python3.8/dist-packages (from vaex-core<5,>=4.0.0->vaex-viz) (2.25.1)\n",
            "Requirement already satisfied: pyarrow>=5.0.0 in /usr/local/lib/python3.8/dist-packages (from vaex-core<5,>=4.0.0->vaex-viz) (9.0.0)\n",
            "Requirement already satisfied: cloudpickle in /usr/local/lib/python3.8/dist-packages (from vaex-core<5,>=4.0.0->vaex-viz) (2.2.0)\n",
            "Requirement already satisfied: frozendict!=2.2.0 in /usr/local/lib/python3.8/dist-packages (from vaex-core<5,>=4.0.0->vaex-viz) (2.3.4)\n",
            "Requirement already satisfied: filelock in /usr/local/lib/python3.8/dist-packages (from vaex-core<5,>=4.0.0->vaex-viz) (3.9.0)\n",
            "Requirement already satisfied: pyyaml in /usr/local/lib/python3.8/dist-packages (from vaex-core<5,>=4.0.0->vaex-viz) (6.0)\n",
            "Requirement already satisfied: tabulate>=0.8.3 in /usr/local/lib/python3.8/dist-packages (from vaex-core<5,>=4.0.0->vaex-viz) (0.8.10)\n",
            "Requirement already satisfied: progressbar2 in /usr/local/lib/python3.8/dist-packages (from vaex-core<5,>=4.0.0->vaex-viz) (3.38.0)\n",
            "Requirement already satisfied: pandas in /usr/local/lib/python3.8/dist-packages (from vaex-core<5,>=4.0.0->vaex-viz) (1.3.5)\n",
            "Requirement already satisfied: rich in /usr/local/lib/python3.8/dist-packages (from vaex-core<5,>=4.0.0->vaex-viz) (13.3.0)\n",
            "Requirement already satisfied: dask!=2022.4.0 in /usr/local/lib/python3.8/dist-packages (from vaex-core<5,>=4.0.0->vaex-viz) (2022.2.1)\n",
            "Requirement already satisfied: toolz>=0.8.2 in /usr/local/lib/python3.8/dist-packages (from dask!=2022.4.0->vaex-core<5,>=4.0.0->vaex-viz) (0.12.0)\n",
            "Requirement already satisfied: fsspec>=0.6.0 in /usr/local/lib/python3.8/dist-packages (from dask!=2022.4.0->vaex-core<5,>=4.0.0->vaex-viz) (2022.11.0)\n",
            "Requirement already satisfied: partd>=0.3.10 in /usr/local/lib/python3.8/dist-packages (from dask!=2022.4.0->vaex-core<5,>=4.0.0->vaex-viz) (1.3.0)\n",
            "Requirement already satisfied: typing-extensions>=4.2.0 in /usr/local/lib/python3.8/dist-packages (from pydantic>=1.8.0->vaex-core<5,>=4.0.0->vaex-viz) (4.4.0)\n",
            "Requirement already satisfied: pytz>=2017.3 in /usr/local/lib/python3.8/dist-packages (from pandas->vaex-core<5,>=4.0.0->vaex-viz) (2022.7)\n",
            "Requirement already satisfied: python-utils>=2.3.0 in /usr/local/lib/python3.8/dist-packages (from progressbar2->vaex-core<5,>=4.0.0->vaex-viz) (3.4.5)\n",
            "Requirement already satisfied: chardet<5,>=3.0.2 in /usr/local/lib/python3.8/dist-packages (from requests->vaex-core<5,>=4.0.0->vaex-viz) (4.0.0)\n",
            "Requirement already satisfied: idna<3,>=2.5 in /usr/local/lib/python3.8/dist-packages (from requests->vaex-core<5,>=4.0.0->vaex-viz) (2.10)\n",
            "Requirement already satisfied: certifi>=2017.4.17 in /usr/local/lib/python3.8/dist-packages (from requests->vaex-core<5,>=4.0.0->vaex-viz) (2022.12.7)\n",
            "Requirement already satisfied: urllib3<1.27,>=1.21.1 in /usr/local/lib/python3.8/dist-packages (from requests->vaex-core<5,>=4.0.0->vaex-viz) (1.24.3)\n",
            "Requirement already satisfied: markdown-it-py<3.0.0,>=2.1.0 in /usr/local/lib/python3.8/dist-packages (from rich->vaex-core<5,>=4.0.0->vaex-viz) (2.1.0)\n",
            "Requirement already satisfied: pygments<3.0.0,>=2.14.0 in /usr/local/lib/python3.8/dist-packages (from rich->vaex-core<5,>=4.0.0->vaex-viz) (2.14.0)\n",
            "Requirement already satisfied: mdurl~=0.1 in /usr/local/lib/python3.8/dist-packages (from markdown-it-py<3.0.0,>=2.1.0->rich->vaex-core<5,>=4.0.0->vaex-viz) (0.1.2)\n",
            "Requirement already satisfied: locket in /usr/local/lib/python3.8/dist-packages (from partd>=0.3.10->dask!=2022.4.0->vaex-core<5,>=4.0.0->vaex-viz) (1.0.0)\n"
          ]
        }
      ]
    },
    {
      "cell_type": "code",
      "source": [
        "import vaex as vx"
      ],
      "metadata": {
        "id": "Ep3FjAefzwxa"
      },
      "execution_count": null,
      "outputs": []
    },
    {
      "cell_type": "markdown",
      "source": [
        "**Pandas Library**"
      ],
      "metadata": {
        "id": "Ka99vIE4zfAP"
      }
    },
    {
      "cell_type": "code",
      "source": [
        "import pandas as pd\n",
        "import numpy as np\n",
        "import matplotlib.pyplot as plt\n",
        "import time\n",
        "from timeit import default_timer as timer"
      ],
      "metadata": {
        "id": "guEZhsOmewnE"
      },
      "execution_count": null,
      "outputs": []
    },
    {
      "cell_type": "markdown",
      "source": [
        "# Retrieve/Pulling Dataset from Google Drive"
      ],
      "metadata": {
        "id": "kLoOmqNqyzuo"
      }
    },
    {
      "cell_type": "code",
      "source": [
        "# Pull dataset from my google drive \n",
        "!pip install -U -q PyDrive\n",
        "from pydrive.auth import GoogleAuth\n",
        "from pydrive.drive import GoogleDrive\n",
        "from google.colab import auth\n",
        "from oauth2client.client import GoogleCredentials\n",
        "\n",
        "# Authenticate and create the PyDrive client.\n",
        "auth.authenticate_user()\n",
        "gauth = GoogleAuth()\n",
        "gauth.credentials = GoogleCredentials.get_application_default()\n",
        "drive = GoogleDrive(gauth)\n",
        "link = 'https://drive.google.com/drive/u/1/folders/1fpBzh5qnR0PkRfM3Ba23AoqzEKoMcqdi'\n",
        "# to get the id part of the file\n",
        "id = link.split(\"/\")[-2]\n",
        "downloaded = drive.CreateFile({'id':id})\n",
        "\n",
        "# Get the folder ID\n",
        "folder_id = '1fpBzh5qnR0PkRfM3Ba23AoqzEKoMcqdi'\n",
        "\n",
        "# Use the ListFile method to list all the files in the folder\n",
        "file_list = drive.ListFile({'q': \"'\" + folder_id + \"' in parents and trashed = false\"}).GetList()\n",
        "\n",
        "# Iterate through the list of files and download each one\n",
        "for file in file_list:\n",
        "    print(file['title'])\n",
        "    file_id = file['id']\n",
        "    downloaded = drive.CreateFile({'id': file_id})\n",
        "    downloaded.GetContentFile(file['title'])"
      ],
      "metadata": {
        "id": "pSCkjRx8bw5k",
        "colab": {
          "base_uri": "https://localhost:8080/"
        },
        "outputId": "03c87ca9-6ef8-4ac8-c2c3-bc750199b7f4"
      },
      "execution_count": null,
      "outputs": [
        {
          "output_type": "stream",
          "name": "stdout",
          "text": [
            "2017.csv\n",
            "2016.csv\n",
            "2018.csv\n"
          ]
        }
      ]
    },
    {
      "cell_type": "markdown",
      "source": [
        "# Reading Dataset into Dataframe"
      ],
      "metadata": {
        "id": "Tj52W6bDrjvL"
      }
    },
    {
      "cell_type": "markdown",
      "source": [
        "**Reading The Dataset into a Dataframe:** Using *Koalas*\n",
        "\n",
        "\n",
        "*   Read all 3 files\n",
        "*   Combine/Merge the dataframe into a single dataframe\n",
        "\n"
      ],
      "metadata": {
        "id": "mG3iyO-Iqlx-"
      }
    },
    {
      "cell_type": "code",
      "source": [
        "df1 = ks.read_csv(\"2016.csv\")\n",
        "df1.head()"
      ],
      "metadata": {
        "id": "YJwk7GW9b0DG",
        "colab": {
          "base_uri": "https://localhost:8080/",
          "height": 330
        },
        "outputId": "a2133bf6-57a0-4c98-adf0-d172b6c4411b"
      },
      "execution_count": null,
      "outputs": [
        {
          "output_type": "execute_result",
          "data": {
            "text/plain": [
              "     FL_DATE OP_CARRIER  OP_CARRIER_FL_NUM ORIGIN DEST  CRS_DEP_TIME  DEP_TIME  DEP_DELAY  TAXI_OUT  WHEELS_OFF  WHEELS_ON  TAXI_IN  CRS_ARR_TIME  ARR_TIME  ARR_DELAY  CANCELLED CANCELLATION_CODE  DIVERTED  CRS_ELAPSED_TIME  ACTUAL_ELAPSED_TIME  AIR_TIME  DISTANCE  CARRIER_DELAY  WEATHER_DELAY  NAS_DELAY  SECURITY_DELAY  LATE_AIRCRAFT_DELAY Unnamed: 27\n",
              "0 2016-01-01         DL               1248    DTW  LAX          1935    1935.0        0.0      23.0      1958.0     2107.0     13.0          2144    2120.0      -24.0        0.0              None       0.0             309.0                285.0     249.0    1979.0            NaN            NaN        NaN             NaN                  NaN        None\n",
              "1 2016-01-01         DL               1251    ATL  GRR          2125    2130.0        5.0      13.0      2143.0     2315.0      4.0          2321    2319.0       -2.0        0.0              None       0.0             116.0                109.0      92.0     640.0            NaN            NaN        NaN             NaN                  NaN        None\n",
              "2 2016-01-01         DL               1254    LAX  ATL          2255    2256.0        1.0      19.0      2315.0      542.0      5.0           600     547.0      -13.0        0.0              None       0.0             245.0                231.0     207.0    1947.0            NaN            NaN        NaN             NaN                  NaN        None\n",
              "3 2016-01-01         DL               1255    SLC  ATL          1656    1700.0        4.0      12.0      1712.0     2205.0      8.0          2229    2213.0      -16.0        0.0              None       0.0             213.0                193.0     173.0    1590.0            NaN            NaN        NaN             NaN                  NaN        None\n",
              "4 2016-01-01         DL               1256    BZN  MSP           900    1012.0       72.0      63.0      1115.0     1416.0      4.0          1216    1420.0      124.0        0.0              None       0.0             136.0                188.0     121.0     874.0           72.0            0.0       52.0             0.0                  0.0        None"
            ],
            "text/html": [
              "<div>\n",
              "<style scoped>\n",
              "    .dataframe tbody tr th:only-of-type {\n",
              "        vertical-align: middle;\n",
              "    }\n",
              "\n",
              "    .dataframe tbody tr th {\n",
              "        vertical-align: top;\n",
              "    }\n",
              "\n",
              "    .dataframe thead th {\n",
              "        text-align: right;\n",
              "    }\n",
              "</style>\n",
              "<table border=\"1\" class=\"dataframe\">\n",
              "  <thead>\n",
              "    <tr style=\"text-align: right;\">\n",
              "      <th></th>\n",
              "      <th>FL_DATE</th>\n",
              "      <th>OP_CARRIER</th>\n",
              "      <th>OP_CARRIER_FL_NUM</th>\n",
              "      <th>ORIGIN</th>\n",
              "      <th>DEST</th>\n",
              "      <th>CRS_DEP_TIME</th>\n",
              "      <th>DEP_TIME</th>\n",
              "      <th>DEP_DELAY</th>\n",
              "      <th>TAXI_OUT</th>\n",
              "      <th>WHEELS_OFF</th>\n",
              "      <th>WHEELS_ON</th>\n",
              "      <th>TAXI_IN</th>\n",
              "      <th>CRS_ARR_TIME</th>\n",
              "      <th>ARR_TIME</th>\n",
              "      <th>ARR_DELAY</th>\n",
              "      <th>CANCELLED</th>\n",
              "      <th>CANCELLATION_CODE</th>\n",
              "      <th>DIVERTED</th>\n",
              "      <th>CRS_ELAPSED_TIME</th>\n",
              "      <th>ACTUAL_ELAPSED_TIME</th>\n",
              "      <th>AIR_TIME</th>\n",
              "      <th>DISTANCE</th>\n",
              "      <th>CARRIER_DELAY</th>\n",
              "      <th>WEATHER_DELAY</th>\n",
              "      <th>NAS_DELAY</th>\n",
              "      <th>SECURITY_DELAY</th>\n",
              "      <th>LATE_AIRCRAFT_DELAY</th>\n",
              "      <th>Unnamed: 27</th>\n",
              "    </tr>\n",
              "  </thead>\n",
              "  <tbody>\n",
              "    <tr>\n",
              "      <th>0</th>\n",
              "      <td>2016-01-01</td>\n",
              "      <td>DL</td>\n",
              "      <td>1248</td>\n",
              "      <td>DTW</td>\n",
              "      <td>LAX</td>\n",
              "      <td>1935</td>\n",
              "      <td>1935.0</td>\n",
              "      <td>0.0</td>\n",
              "      <td>23.0</td>\n",
              "      <td>1958.0</td>\n",
              "      <td>2107.0</td>\n",
              "      <td>13.0</td>\n",
              "      <td>2144</td>\n",
              "      <td>2120.0</td>\n",
              "      <td>-24.0</td>\n",
              "      <td>0.0</td>\n",
              "      <td>None</td>\n",
              "      <td>0.0</td>\n",
              "      <td>309.0</td>\n",
              "      <td>285.0</td>\n",
              "      <td>249.0</td>\n",
              "      <td>1979.0</td>\n",
              "      <td>NaN</td>\n",
              "      <td>NaN</td>\n",
              "      <td>NaN</td>\n",
              "      <td>NaN</td>\n",
              "      <td>NaN</td>\n",
              "      <td>None</td>\n",
              "    </tr>\n",
              "    <tr>\n",
              "      <th>1</th>\n",
              "      <td>2016-01-01</td>\n",
              "      <td>DL</td>\n",
              "      <td>1251</td>\n",
              "      <td>ATL</td>\n",
              "      <td>GRR</td>\n",
              "      <td>2125</td>\n",
              "      <td>2130.0</td>\n",
              "      <td>5.0</td>\n",
              "      <td>13.0</td>\n",
              "      <td>2143.0</td>\n",
              "      <td>2315.0</td>\n",
              "      <td>4.0</td>\n",
              "      <td>2321</td>\n",
              "      <td>2319.0</td>\n",
              "      <td>-2.0</td>\n",
              "      <td>0.0</td>\n",
              "      <td>None</td>\n",
              "      <td>0.0</td>\n",
              "      <td>116.0</td>\n",
              "      <td>109.0</td>\n",
              "      <td>92.0</td>\n",
              "      <td>640.0</td>\n",
              "      <td>NaN</td>\n",
              "      <td>NaN</td>\n",
              "      <td>NaN</td>\n",
              "      <td>NaN</td>\n",
              "      <td>NaN</td>\n",
              "      <td>None</td>\n",
              "    </tr>\n",
              "    <tr>\n",
              "      <th>2</th>\n",
              "      <td>2016-01-01</td>\n",
              "      <td>DL</td>\n",
              "      <td>1254</td>\n",
              "      <td>LAX</td>\n",
              "      <td>ATL</td>\n",
              "      <td>2255</td>\n",
              "      <td>2256.0</td>\n",
              "      <td>1.0</td>\n",
              "      <td>19.0</td>\n",
              "      <td>2315.0</td>\n",
              "      <td>542.0</td>\n",
              "      <td>5.0</td>\n",
              "      <td>600</td>\n",
              "      <td>547.0</td>\n",
              "      <td>-13.0</td>\n",
              "      <td>0.0</td>\n",
              "      <td>None</td>\n",
              "      <td>0.0</td>\n",
              "      <td>245.0</td>\n",
              "      <td>231.0</td>\n",
              "      <td>207.0</td>\n",
              "      <td>1947.0</td>\n",
              "      <td>NaN</td>\n",
              "      <td>NaN</td>\n",
              "      <td>NaN</td>\n",
              "      <td>NaN</td>\n",
              "      <td>NaN</td>\n",
              "      <td>None</td>\n",
              "    </tr>\n",
              "    <tr>\n",
              "      <th>3</th>\n",
              "      <td>2016-01-01</td>\n",
              "      <td>DL</td>\n",
              "      <td>1255</td>\n",
              "      <td>SLC</td>\n",
              "      <td>ATL</td>\n",
              "      <td>1656</td>\n",
              "      <td>1700.0</td>\n",
              "      <td>4.0</td>\n",
              "      <td>12.0</td>\n",
              "      <td>1712.0</td>\n",
              "      <td>2205.0</td>\n",
              "      <td>8.0</td>\n",
              "      <td>2229</td>\n",
              "      <td>2213.0</td>\n",
              "      <td>-16.0</td>\n",
              "      <td>0.0</td>\n",
              "      <td>None</td>\n",
              "      <td>0.0</td>\n",
              "      <td>213.0</td>\n",
              "      <td>193.0</td>\n",
              "      <td>173.0</td>\n",
              "      <td>1590.0</td>\n",
              "      <td>NaN</td>\n",
              "      <td>NaN</td>\n",
              "      <td>NaN</td>\n",
              "      <td>NaN</td>\n",
              "      <td>NaN</td>\n",
              "      <td>None</td>\n",
              "    </tr>\n",
              "    <tr>\n",
              "      <th>4</th>\n",
              "      <td>2016-01-01</td>\n",
              "      <td>DL</td>\n",
              "      <td>1256</td>\n",
              "      <td>BZN</td>\n",
              "      <td>MSP</td>\n",
              "      <td>900</td>\n",
              "      <td>1012.0</td>\n",
              "      <td>72.0</td>\n",
              "      <td>63.0</td>\n",
              "      <td>1115.0</td>\n",
              "      <td>1416.0</td>\n",
              "      <td>4.0</td>\n",
              "      <td>1216</td>\n",
              "      <td>1420.0</td>\n",
              "      <td>124.0</td>\n",
              "      <td>0.0</td>\n",
              "      <td>None</td>\n",
              "      <td>0.0</td>\n",
              "      <td>136.0</td>\n",
              "      <td>188.0</td>\n",
              "      <td>121.0</td>\n",
              "      <td>874.0</td>\n",
              "      <td>72.0</td>\n",
              "      <td>0.0</td>\n",
              "      <td>52.0</td>\n",
              "      <td>0.0</td>\n",
              "      <td>0.0</td>\n",
              "      <td>None</td>\n",
              "    </tr>\n",
              "  </tbody>\n",
              "</table>\n",
              "</div>"
            ]
          },
          "metadata": {},
          "execution_count": 11
        }
      ]
    },
    {
      "cell_type": "code",
      "source": [
        "df2 = ks.read_csv(\"2017.csv\")\n",
        "df2.head()"
      ],
      "metadata": {
        "colab": {
          "base_uri": "https://localhost:8080/",
          "height": 330
        },
        "id": "wh5kzgXGe9ia",
        "outputId": "fcf905e7-3e73-42c6-cae2-c64c6428be4b"
      },
      "execution_count": null,
      "outputs": [
        {
          "output_type": "execute_result",
          "data": {
            "text/plain": [
              "     FL_DATE OP_CARRIER  OP_CARRIER_FL_NUM ORIGIN DEST  CRS_DEP_TIME  DEP_TIME  DEP_DELAY  TAXI_OUT  WHEELS_OFF  WHEELS_ON  TAXI_IN  CRS_ARR_TIME  ARR_TIME  ARR_DELAY  CANCELLED CANCELLATION_CODE  DIVERTED  CRS_ELAPSED_TIME  ACTUAL_ELAPSED_TIME  AIR_TIME  DISTANCE  CARRIER_DELAY  WEATHER_DELAY  NAS_DELAY  SECURITY_DELAY  LATE_AIRCRAFT_DELAY Unnamed: 27\n",
              "0 2017-01-01         AA                  1    JFK  LAX           800     831.0       31.0      25.0       856.0     1143.0     26.0          1142    1209.0       27.0        0.0              None       0.0             402.0                398.0     347.0    2475.0           27.0            0.0        0.0             0.0                  0.0        None\n",
              "1 2017-01-01         AA                  2    LAX  JFK           900     934.0       34.0      34.0      1008.0     1757.0     12.0          1727    1809.0       42.0        0.0              None       0.0             327.0                335.0     289.0    2475.0           34.0            0.0        8.0             0.0                  0.0        None\n",
              "2 2017-01-01         AA                  4    LAX  JFK          1130    1221.0       51.0      20.0      1241.0     2025.0     15.0          1958    2040.0       42.0        0.0              None       0.0             328.0                319.0     284.0    2475.0            7.0            0.0        0.0             0.0                 35.0        None\n",
              "3 2017-01-01         AA                  5    DFW  HNL          1135    1252.0       77.0      19.0      1311.0     1744.0      5.0          1612    1749.0       97.0        0.0              None       0.0             517.0                537.0     513.0    3784.0           77.0            0.0       20.0             0.0                  0.0        None\n",
              "4 2017-01-01         AA                  6    OGG  DFW          1855    1855.0        0.0      16.0      1911.0      631.0     11.0           600     642.0       42.0        0.0              None       0.0             425.0                467.0     440.0    3711.0            0.0            0.0       42.0             0.0                  0.0        None"
            ],
            "text/html": [
              "<div>\n",
              "<style scoped>\n",
              "    .dataframe tbody tr th:only-of-type {\n",
              "        vertical-align: middle;\n",
              "    }\n",
              "\n",
              "    .dataframe tbody tr th {\n",
              "        vertical-align: top;\n",
              "    }\n",
              "\n",
              "    .dataframe thead th {\n",
              "        text-align: right;\n",
              "    }\n",
              "</style>\n",
              "<table border=\"1\" class=\"dataframe\">\n",
              "  <thead>\n",
              "    <tr style=\"text-align: right;\">\n",
              "      <th></th>\n",
              "      <th>FL_DATE</th>\n",
              "      <th>OP_CARRIER</th>\n",
              "      <th>OP_CARRIER_FL_NUM</th>\n",
              "      <th>ORIGIN</th>\n",
              "      <th>DEST</th>\n",
              "      <th>CRS_DEP_TIME</th>\n",
              "      <th>DEP_TIME</th>\n",
              "      <th>DEP_DELAY</th>\n",
              "      <th>TAXI_OUT</th>\n",
              "      <th>WHEELS_OFF</th>\n",
              "      <th>WHEELS_ON</th>\n",
              "      <th>TAXI_IN</th>\n",
              "      <th>CRS_ARR_TIME</th>\n",
              "      <th>ARR_TIME</th>\n",
              "      <th>ARR_DELAY</th>\n",
              "      <th>CANCELLED</th>\n",
              "      <th>CANCELLATION_CODE</th>\n",
              "      <th>DIVERTED</th>\n",
              "      <th>CRS_ELAPSED_TIME</th>\n",
              "      <th>ACTUAL_ELAPSED_TIME</th>\n",
              "      <th>AIR_TIME</th>\n",
              "      <th>DISTANCE</th>\n",
              "      <th>CARRIER_DELAY</th>\n",
              "      <th>WEATHER_DELAY</th>\n",
              "      <th>NAS_DELAY</th>\n",
              "      <th>SECURITY_DELAY</th>\n",
              "      <th>LATE_AIRCRAFT_DELAY</th>\n",
              "      <th>Unnamed: 27</th>\n",
              "    </tr>\n",
              "  </thead>\n",
              "  <tbody>\n",
              "    <tr>\n",
              "      <th>0</th>\n",
              "      <td>2017-01-01</td>\n",
              "      <td>AA</td>\n",
              "      <td>1</td>\n",
              "      <td>JFK</td>\n",
              "      <td>LAX</td>\n",
              "      <td>800</td>\n",
              "      <td>831.0</td>\n",
              "      <td>31.0</td>\n",
              "      <td>25.0</td>\n",
              "      <td>856.0</td>\n",
              "      <td>1143.0</td>\n",
              "      <td>26.0</td>\n",
              "      <td>1142</td>\n",
              "      <td>1209.0</td>\n",
              "      <td>27.0</td>\n",
              "      <td>0.0</td>\n",
              "      <td>None</td>\n",
              "      <td>0.0</td>\n",
              "      <td>402.0</td>\n",
              "      <td>398.0</td>\n",
              "      <td>347.0</td>\n",
              "      <td>2475.0</td>\n",
              "      <td>27.0</td>\n",
              "      <td>0.0</td>\n",
              "      <td>0.0</td>\n",
              "      <td>0.0</td>\n",
              "      <td>0.0</td>\n",
              "      <td>None</td>\n",
              "    </tr>\n",
              "    <tr>\n",
              "      <th>1</th>\n",
              "      <td>2017-01-01</td>\n",
              "      <td>AA</td>\n",
              "      <td>2</td>\n",
              "      <td>LAX</td>\n",
              "      <td>JFK</td>\n",
              "      <td>900</td>\n",
              "      <td>934.0</td>\n",
              "      <td>34.0</td>\n",
              "      <td>34.0</td>\n",
              "      <td>1008.0</td>\n",
              "      <td>1757.0</td>\n",
              "      <td>12.0</td>\n",
              "      <td>1727</td>\n",
              "      <td>1809.0</td>\n",
              "      <td>42.0</td>\n",
              "      <td>0.0</td>\n",
              "      <td>None</td>\n",
              "      <td>0.0</td>\n",
              "      <td>327.0</td>\n",
              "      <td>335.0</td>\n",
              "      <td>289.0</td>\n",
              "      <td>2475.0</td>\n",
              "      <td>34.0</td>\n",
              "      <td>0.0</td>\n",
              "      <td>8.0</td>\n",
              "      <td>0.0</td>\n",
              "      <td>0.0</td>\n",
              "      <td>None</td>\n",
              "    </tr>\n",
              "    <tr>\n",
              "      <th>2</th>\n",
              "      <td>2017-01-01</td>\n",
              "      <td>AA</td>\n",
              "      <td>4</td>\n",
              "      <td>LAX</td>\n",
              "      <td>JFK</td>\n",
              "      <td>1130</td>\n",
              "      <td>1221.0</td>\n",
              "      <td>51.0</td>\n",
              "      <td>20.0</td>\n",
              "      <td>1241.0</td>\n",
              "      <td>2025.0</td>\n",
              "      <td>15.0</td>\n",
              "      <td>1958</td>\n",
              "      <td>2040.0</td>\n",
              "      <td>42.0</td>\n",
              "      <td>0.0</td>\n",
              "      <td>None</td>\n",
              "      <td>0.0</td>\n",
              "      <td>328.0</td>\n",
              "      <td>319.0</td>\n",
              "      <td>284.0</td>\n",
              "      <td>2475.0</td>\n",
              "      <td>7.0</td>\n",
              "      <td>0.0</td>\n",
              "      <td>0.0</td>\n",
              "      <td>0.0</td>\n",
              "      <td>35.0</td>\n",
              "      <td>None</td>\n",
              "    </tr>\n",
              "    <tr>\n",
              "      <th>3</th>\n",
              "      <td>2017-01-01</td>\n",
              "      <td>AA</td>\n",
              "      <td>5</td>\n",
              "      <td>DFW</td>\n",
              "      <td>HNL</td>\n",
              "      <td>1135</td>\n",
              "      <td>1252.0</td>\n",
              "      <td>77.0</td>\n",
              "      <td>19.0</td>\n",
              "      <td>1311.0</td>\n",
              "      <td>1744.0</td>\n",
              "      <td>5.0</td>\n",
              "      <td>1612</td>\n",
              "      <td>1749.0</td>\n",
              "      <td>97.0</td>\n",
              "      <td>0.0</td>\n",
              "      <td>None</td>\n",
              "      <td>0.0</td>\n",
              "      <td>517.0</td>\n",
              "      <td>537.0</td>\n",
              "      <td>513.0</td>\n",
              "      <td>3784.0</td>\n",
              "      <td>77.0</td>\n",
              "      <td>0.0</td>\n",
              "      <td>20.0</td>\n",
              "      <td>0.0</td>\n",
              "      <td>0.0</td>\n",
              "      <td>None</td>\n",
              "    </tr>\n",
              "    <tr>\n",
              "      <th>4</th>\n",
              "      <td>2017-01-01</td>\n",
              "      <td>AA</td>\n",
              "      <td>6</td>\n",
              "      <td>OGG</td>\n",
              "      <td>DFW</td>\n",
              "      <td>1855</td>\n",
              "      <td>1855.0</td>\n",
              "      <td>0.0</td>\n",
              "      <td>16.0</td>\n",
              "      <td>1911.0</td>\n",
              "      <td>631.0</td>\n",
              "      <td>11.0</td>\n",
              "      <td>600</td>\n",
              "      <td>642.0</td>\n",
              "      <td>42.0</td>\n",
              "      <td>0.0</td>\n",
              "      <td>None</td>\n",
              "      <td>0.0</td>\n",
              "      <td>425.0</td>\n",
              "      <td>467.0</td>\n",
              "      <td>440.0</td>\n",
              "      <td>3711.0</td>\n",
              "      <td>0.0</td>\n",
              "      <td>0.0</td>\n",
              "      <td>42.0</td>\n",
              "      <td>0.0</td>\n",
              "      <td>0.0</td>\n",
              "      <td>None</td>\n",
              "    </tr>\n",
              "  </tbody>\n",
              "</table>\n",
              "</div>"
            ]
          },
          "metadata": {},
          "execution_count": 12
        }
      ]
    },
    {
      "cell_type": "code",
      "source": [
        "df3 = ks.read_csv(\"2018.csv\")\n",
        "df3.head()"
      ],
      "metadata": {
        "colab": {
          "base_uri": "https://localhost:8080/",
          "height": 330
        },
        "id": "wPrKGj_3WaSa",
        "outputId": "3cfe4f7f-e259-465b-d71e-f78a6c53296d"
      },
      "execution_count": null,
      "outputs": [
        {
          "output_type": "execute_result",
          "data": {
            "text/plain": [
              "     FL_DATE OP_CARRIER  OP_CARRIER_FL_NUM ORIGIN DEST  CRS_DEP_TIME  DEP_TIME  DEP_DELAY  TAXI_OUT  WHEELS_OFF  WHEELS_ON  TAXI_IN  CRS_ARR_TIME  ARR_TIME  ARR_DELAY  CANCELLED CANCELLATION_CODE  DIVERTED  CRS_ELAPSED_TIME  ACTUAL_ELAPSED_TIME  AIR_TIME  DISTANCE  CARRIER_DELAY  WEATHER_DELAY  NAS_DELAY  SECURITY_DELAY  LATE_AIRCRAFT_DELAY Unnamed: 27\n",
              "0 2018-01-01         UA               2429    EWR  DEN          1517    1512.0       -5.0      15.0      1527.0     1712.0     10.0          1745    1722.0      -23.0        0.0              None       0.0             268.0                250.0     225.0    1605.0            NaN            NaN        NaN             NaN                  NaN        None\n",
              "1 2018-01-01         UA               2427    LAS  SFO          1115    1107.0       -8.0      11.0      1118.0     1223.0      7.0          1254    1230.0      -24.0        0.0              None       0.0              99.0                 83.0      65.0     414.0            NaN            NaN        NaN             NaN                  NaN        None\n",
              "2 2018-01-01         UA               2426    SNA  DEN          1335    1330.0       -5.0      15.0      1345.0     1631.0      5.0          1649    1636.0      -13.0        0.0              None       0.0             134.0                126.0     106.0     846.0            NaN            NaN        NaN             NaN                  NaN        None\n",
              "3 2018-01-01         UA               2425    RSW  ORD          1546    1552.0        6.0      19.0      1611.0     1748.0      6.0          1756    1754.0       -2.0        0.0              None       0.0             190.0                182.0     157.0    1120.0            NaN            NaN        NaN             NaN                  NaN        None\n",
              "4 2018-01-01         UA               2424    ORD  ALB           630     650.0       20.0      13.0       703.0      926.0     10.0           922     936.0       14.0        0.0              None       0.0             112.0                106.0      83.0     723.0            NaN            NaN        NaN             NaN                  NaN        None"
            ],
            "text/html": [
              "<div>\n",
              "<style scoped>\n",
              "    .dataframe tbody tr th:only-of-type {\n",
              "        vertical-align: middle;\n",
              "    }\n",
              "\n",
              "    .dataframe tbody tr th {\n",
              "        vertical-align: top;\n",
              "    }\n",
              "\n",
              "    .dataframe thead th {\n",
              "        text-align: right;\n",
              "    }\n",
              "</style>\n",
              "<table border=\"1\" class=\"dataframe\">\n",
              "  <thead>\n",
              "    <tr style=\"text-align: right;\">\n",
              "      <th></th>\n",
              "      <th>FL_DATE</th>\n",
              "      <th>OP_CARRIER</th>\n",
              "      <th>OP_CARRIER_FL_NUM</th>\n",
              "      <th>ORIGIN</th>\n",
              "      <th>DEST</th>\n",
              "      <th>CRS_DEP_TIME</th>\n",
              "      <th>DEP_TIME</th>\n",
              "      <th>DEP_DELAY</th>\n",
              "      <th>TAXI_OUT</th>\n",
              "      <th>WHEELS_OFF</th>\n",
              "      <th>WHEELS_ON</th>\n",
              "      <th>TAXI_IN</th>\n",
              "      <th>CRS_ARR_TIME</th>\n",
              "      <th>ARR_TIME</th>\n",
              "      <th>ARR_DELAY</th>\n",
              "      <th>CANCELLED</th>\n",
              "      <th>CANCELLATION_CODE</th>\n",
              "      <th>DIVERTED</th>\n",
              "      <th>CRS_ELAPSED_TIME</th>\n",
              "      <th>ACTUAL_ELAPSED_TIME</th>\n",
              "      <th>AIR_TIME</th>\n",
              "      <th>DISTANCE</th>\n",
              "      <th>CARRIER_DELAY</th>\n",
              "      <th>WEATHER_DELAY</th>\n",
              "      <th>NAS_DELAY</th>\n",
              "      <th>SECURITY_DELAY</th>\n",
              "      <th>LATE_AIRCRAFT_DELAY</th>\n",
              "      <th>Unnamed: 27</th>\n",
              "    </tr>\n",
              "  </thead>\n",
              "  <tbody>\n",
              "    <tr>\n",
              "      <th>0</th>\n",
              "      <td>2018-01-01</td>\n",
              "      <td>UA</td>\n",
              "      <td>2429</td>\n",
              "      <td>EWR</td>\n",
              "      <td>DEN</td>\n",
              "      <td>1517</td>\n",
              "      <td>1512.0</td>\n",
              "      <td>-5.0</td>\n",
              "      <td>15.0</td>\n",
              "      <td>1527.0</td>\n",
              "      <td>1712.0</td>\n",
              "      <td>10.0</td>\n",
              "      <td>1745</td>\n",
              "      <td>1722.0</td>\n",
              "      <td>-23.0</td>\n",
              "      <td>0.0</td>\n",
              "      <td>None</td>\n",
              "      <td>0.0</td>\n",
              "      <td>268.0</td>\n",
              "      <td>250.0</td>\n",
              "      <td>225.0</td>\n",
              "      <td>1605.0</td>\n",
              "      <td>NaN</td>\n",
              "      <td>NaN</td>\n",
              "      <td>NaN</td>\n",
              "      <td>NaN</td>\n",
              "      <td>NaN</td>\n",
              "      <td>None</td>\n",
              "    </tr>\n",
              "    <tr>\n",
              "      <th>1</th>\n",
              "      <td>2018-01-01</td>\n",
              "      <td>UA</td>\n",
              "      <td>2427</td>\n",
              "      <td>LAS</td>\n",
              "      <td>SFO</td>\n",
              "      <td>1115</td>\n",
              "      <td>1107.0</td>\n",
              "      <td>-8.0</td>\n",
              "      <td>11.0</td>\n",
              "      <td>1118.0</td>\n",
              "      <td>1223.0</td>\n",
              "      <td>7.0</td>\n",
              "      <td>1254</td>\n",
              "      <td>1230.0</td>\n",
              "      <td>-24.0</td>\n",
              "      <td>0.0</td>\n",
              "      <td>None</td>\n",
              "      <td>0.0</td>\n",
              "      <td>99.0</td>\n",
              "      <td>83.0</td>\n",
              "      <td>65.0</td>\n",
              "      <td>414.0</td>\n",
              "      <td>NaN</td>\n",
              "      <td>NaN</td>\n",
              "      <td>NaN</td>\n",
              "      <td>NaN</td>\n",
              "      <td>NaN</td>\n",
              "      <td>None</td>\n",
              "    </tr>\n",
              "    <tr>\n",
              "      <th>2</th>\n",
              "      <td>2018-01-01</td>\n",
              "      <td>UA</td>\n",
              "      <td>2426</td>\n",
              "      <td>SNA</td>\n",
              "      <td>DEN</td>\n",
              "      <td>1335</td>\n",
              "      <td>1330.0</td>\n",
              "      <td>-5.0</td>\n",
              "      <td>15.0</td>\n",
              "      <td>1345.0</td>\n",
              "      <td>1631.0</td>\n",
              "      <td>5.0</td>\n",
              "      <td>1649</td>\n",
              "      <td>1636.0</td>\n",
              "      <td>-13.0</td>\n",
              "      <td>0.0</td>\n",
              "      <td>None</td>\n",
              "      <td>0.0</td>\n",
              "      <td>134.0</td>\n",
              "      <td>126.0</td>\n",
              "      <td>106.0</td>\n",
              "      <td>846.0</td>\n",
              "      <td>NaN</td>\n",
              "      <td>NaN</td>\n",
              "      <td>NaN</td>\n",
              "      <td>NaN</td>\n",
              "      <td>NaN</td>\n",
              "      <td>None</td>\n",
              "    </tr>\n",
              "    <tr>\n",
              "      <th>3</th>\n",
              "      <td>2018-01-01</td>\n",
              "      <td>UA</td>\n",
              "      <td>2425</td>\n",
              "      <td>RSW</td>\n",
              "      <td>ORD</td>\n",
              "      <td>1546</td>\n",
              "      <td>1552.0</td>\n",
              "      <td>6.0</td>\n",
              "      <td>19.0</td>\n",
              "      <td>1611.0</td>\n",
              "      <td>1748.0</td>\n",
              "      <td>6.0</td>\n",
              "      <td>1756</td>\n",
              "      <td>1754.0</td>\n",
              "      <td>-2.0</td>\n",
              "      <td>0.0</td>\n",
              "      <td>None</td>\n",
              "      <td>0.0</td>\n",
              "      <td>190.0</td>\n",
              "      <td>182.0</td>\n",
              "      <td>157.0</td>\n",
              "      <td>1120.0</td>\n",
              "      <td>NaN</td>\n",
              "      <td>NaN</td>\n",
              "      <td>NaN</td>\n",
              "      <td>NaN</td>\n",
              "      <td>NaN</td>\n",
              "      <td>None</td>\n",
              "    </tr>\n",
              "    <tr>\n",
              "      <th>4</th>\n",
              "      <td>2018-01-01</td>\n",
              "      <td>UA</td>\n",
              "      <td>2424</td>\n",
              "      <td>ORD</td>\n",
              "      <td>ALB</td>\n",
              "      <td>630</td>\n",
              "      <td>650.0</td>\n",
              "      <td>20.0</td>\n",
              "      <td>13.0</td>\n",
              "      <td>703.0</td>\n",
              "      <td>926.0</td>\n",
              "      <td>10.0</td>\n",
              "      <td>922</td>\n",
              "      <td>936.0</td>\n",
              "      <td>14.0</td>\n",
              "      <td>0.0</td>\n",
              "      <td>None</td>\n",
              "      <td>0.0</td>\n",
              "      <td>112.0</td>\n",
              "      <td>106.0</td>\n",
              "      <td>83.0</td>\n",
              "      <td>723.0</td>\n",
              "      <td>NaN</td>\n",
              "      <td>NaN</td>\n",
              "      <td>NaN</td>\n",
              "      <td>NaN</td>\n",
              "      <td>NaN</td>\n",
              "      <td>None</td>\n",
              "    </tr>\n",
              "  </tbody>\n",
              "</table>\n",
              "</div>"
            ]
          },
          "metadata": {},
          "execution_count": 13
        }
      ]
    },
    {
      "cell_type": "code",
      "source": [
        "kdf = ks.concat([df1, df2, df3], axis=0)\n",
        "kdf.head()"
      ],
      "metadata": {
        "colab": {
          "base_uri": "https://localhost:8080/",
          "height": 330
        },
        "id": "EN5erIb7WkWB",
        "outputId": "a2dc0cd7-985e-462e-b8cb-1de8e57c3728"
      },
      "execution_count": null,
      "outputs": [
        {
          "output_type": "execute_result",
          "data": {
            "text/plain": [
              "     FL_DATE OP_CARRIER  OP_CARRIER_FL_NUM ORIGIN DEST  CRS_DEP_TIME  DEP_TIME  DEP_DELAY  TAXI_OUT  WHEELS_OFF  WHEELS_ON  TAXI_IN  CRS_ARR_TIME  ARR_TIME  ARR_DELAY  CANCELLED CANCELLATION_CODE  DIVERTED  CRS_ELAPSED_TIME  ACTUAL_ELAPSED_TIME  AIR_TIME  DISTANCE  CARRIER_DELAY  WEATHER_DELAY  NAS_DELAY  SECURITY_DELAY  LATE_AIRCRAFT_DELAY Unnamed: 27\n",
              "0 2016-01-01         DL               1248    DTW  LAX          1935    1935.0        0.0      23.0      1958.0     2107.0     13.0          2144    2120.0      -24.0        0.0              None       0.0             309.0                285.0     249.0    1979.0            NaN            NaN        NaN             NaN                  NaN        None\n",
              "1 2016-01-01         DL               1251    ATL  GRR          2125    2130.0        5.0      13.0      2143.0     2315.0      4.0          2321    2319.0       -2.0        0.0              None       0.0             116.0                109.0      92.0     640.0            NaN            NaN        NaN             NaN                  NaN        None\n",
              "2 2016-01-01         DL               1254    LAX  ATL          2255    2256.0        1.0      19.0      2315.0      542.0      5.0           600     547.0      -13.0        0.0              None       0.0             245.0                231.0     207.0    1947.0            NaN            NaN        NaN             NaN                  NaN        None\n",
              "3 2016-01-01         DL               1255    SLC  ATL          1656    1700.0        4.0      12.0      1712.0     2205.0      8.0          2229    2213.0      -16.0        0.0              None       0.0             213.0                193.0     173.0    1590.0            NaN            NaN        NaN             NaN                  NaN        None\n",
              "4 2016-01-01         DL               1256    BZN  MSP           900    1012.0       72.0      63.0      1115.0     1416.0      4.0          1216    1420.0      124.0        0.0              None       0.0             136.0                188.0     121.0     874.0           72.0            0.0       52.0             0.0                  0.0        None"
            ],
            "text/html": [
              "<div>\n",
              "<style scoped>\n",
              "    .dataframe tbody tr th:only-of-type {\n",
              "        vertical-align: middle;\n",
              "    }\n",
              "\n",
              "    .dataframe tbody tr th {\n",
              "        vertical-align: top;\n",
              "    }\n",
              "\n",
              "    .dataframe thead th {\n",
              "        text-align: right;\n",
              "    }\n",
              "</style>\n",
              "<table border=\"1\" class=\"dataframe\">\n",
              "  <thead>\n",
              "    <tr style=\"text-align: right;\">\n",
              "      <th></th>\n",
              "      <th>FL_DATE</th>\n",
              "      <th>OP_CARRIER</th>\n",
              "      <th>OP_CARRIER_FL_NUM</th>\n",
              "      <th>ORIGIN</th>\n",
              "      <th>DEST</th>\n",
              "      <th>CRS_DEP_TIME</th>\n",
              "      <th>DEP_TIME</th>\n",
              "      <th>DEP_DELAY</th>\n",
              "      <th>TAXI_OUT</th>\n",
              "      <th>WHEELS_OFF</th>\n",
              "      <th>WHEELS_ON</th>\n",
              "      <th>TAXI_IN</th>\n",
              "      <th>CRS_ARR_TIME</th>\n",
              "      <th>ARR_TIME</th>\n",
              "      <th>ARR_DELAY</th>\n",
              "      <th>CANCELLED</th>\n",
              "      <th>CANCELLATION_CODE</th>\n",
              "      <th>DIVERTED</th>\n",
              "      <th>CRS_ELAPSED_TIME</th>\n",
              "      <th>ACTUAL_ELAPSED_TIME</th>\n",
              "      <th>AIR_TIME</th>\n",
              "      <th>DISTANCE</th>\n",
              "      <th>CARRIER_DELAY</th>\n",
              "      <th>WEATHER_DELAY</th>\n",
              "      <th>NAS_DELAY</th>\n",
              "      <th>SECURITY_DELAY</th>\n",
              "      <th>LATE_AIRCRAFT_DELAY</th>\n",
              "      <th>Unnamed: 27</th>\n",
              "    </tr>\n",
              "  </thead>\n",
              "  <tbody>\n",
              "    <tr>\n",
              "      <th>0</th>\n",
              "      <td>2016-01-01</td>\n",
              "      <td>DL</td>\n",
              "      <td>1248</td>\n",
              "      <td>DTW</td>\n",
              "      <td>LAX</td>\n",
              "      <td>1935</td>\n",
              "      <td>1935.0</td>\n",
              "      <td>0.0</td>\n",
              "      <td>23.0</td>\n",
              "      <td>1958.0</td>\n",
              "      <td>2107.0</td>\n",
              "      <td>13.0</td>\n",
              "      <td>2144</td>\n",
              "      <td>2120.0</td>\n",
              "      <td>-24.0</td>\n",
              "      <td>0.0</td>\n",
              "      <td>None</td>\n",
              "      <td>0.0</td>\n",
              "      <td>309.0</td>\n",
              "      <td>285.0</td>\n",
              "      <td>249.0</td>\n",
              "      <td>1979.0</td>\n",
              "      <td>NaN</td>\n",
              "      <td>NaN</td>\n",
              "      <td>NaN</td>\n",
              "      <td>NaN</td>\n",
              "      <td>NaN</td>\n",
              "      <td>None</td>\n",
              "    </tr>\n",
              "    <tr>\n",
              "      <th>1</th>\n",
              "      <td>2016-01-01</td>\n",
              "      <td>DL</td>\n",
              "      <td>1251</td>\n",
              "      <td>ATL</td>\n",
              "      <td>GRR</td>\n",
              "      <td>2125</td>\n",
              "      <td>2130.0</td>\n",
              "      <td>5.0</td>\n",
              "      <td>13.0</td>\n",
              "      <td>2143.0</td>\n",
              "      <td>2315.0</td>\n",
              "      <td>4.0</td>\n",
              "      <td>2321</td>\n",
              "      <td>2319.0</td>\n",
              "      <td>-2.0</td>\n",
              "      <td>0.0</td>\n",
              "      <td>None</td>\n",
              "      <td>0.0</td>\n",
              "      <td>116.0</td>\n",
              "      <td>109.0</td>\n",
              "      <td>92.0</td>\n",
              "      <td>640.0</td>\n",
              "      <td>NaN</td>\n",
              "      <td>NaN</td>\n",
              "      <td>NaN</td>\n",
              "      <td>NaN</td>\n",
              "      <td>NaN</td>\n",
              "      <td>None</td>\n",
              "    </tr>\n",
              "    <tr>\n",
              "      <th>2</th>\n",
              "      <td>2016-01-01</td>\n",
              "      <td>DL</td>\n",
              "      <td>1254</td>\n",
              "      <td>LAX</td>\n",
              "      <td>ATL</td>\n",
              "      <td>2255</td>\n",
              "      <td>2256.0</td>\n",
              "      <td>1.0</td>\n",
              "      <td>19.0</td>\n",
              "      <td>2315.0</td>\n",
              "      <td>542.0</td>\n",
              "      <td>5.0</td>\n",
              "      <td>600</td>\n",
              "      <td>547.0</td>\n",
              "      <td>-13.0</td>\n",
              "      <td>0.0</td>\n",
              "      <td>None</td>\n",
              "      <td>0.0</td>\n",
              "      <td>245.0</td>\n",
              "      <td>231.0</td>\n",
              "      <td>207.0</td>\n",
              "      <td>1947.0</td>\n",
              "      <td>NaN</td>\n",
              "      <td>NaN</td>\n",
              "      <td>NaN</td>\n",
              "      <td>NaN</td>\n",
              "      <td>NaN</td>\n",
              "      <td>None</td>\n",
              "    </tr>\n",
              "    <tr>\n",
              "      <th>3</th>\n",
              "      <td>2016-01-01</td>\n",
              "      <td>DL</td>\n",
              "      <td>1255</td>\n",
              "      <td>SLC</td>\n",
              "      <td>ATL</td>\n",
              "      <td>1656</td>\n",
              "      <td>1700.0</td>\n",
              "      <td>4.0</td>\n",
              "      <td>12.0</td>\n",
              "      <td>1712.0</td>\n",
              "      <td>2205.0</td>\n",
              "      <td>8.0</td>\n",
              "      <td>2229</td>\n",
              "      <td>2213.0</td>\n",
              "      <td>-16.0</td>\n",
              "      <td>0.0</td>\n",
              "      <td>None</td>\n",
              "      <td>0.0</td>\n",
              "      <td>213.0</td>\n",
              "      <td>193.0</td>\n",
              "      <td>173.0</td>\n",
              "      <td>1590.0</td>\n",
              "      <td>NaN</td>\n",
              "      <td>NaN</td>\n",
              "      <td>NaN</td>\n",
              "      <td>NaN</td>\n",
              "      <td>NaN</td>\n",
              "      <td>None</td>\n",
              "    </tr>\n",
              "    <tr>\n",
              "      <th>4</th>\n",
              "      <td>2016-01-01</td>\n",
              "      <td>DL</td>\n",
              "      <td>1256</td>\n",
              "      <td>BZN</td>\n",
              "      <td>MSP</td>\n",
              "      <td>900</td>\n",
              "      <td>1012.0</td>\n",
              "      <td>72.0</td>\n",
              "      <td>63.0</td>\n",
              "      <td>1115.0</td>\n",
              "      <td>1416.0</td>\n",
              "      <td>4.0</td>\n",
              "      <td>1216</td>\n",
              "      <td>1420.0</td>\n",
              "      <td>124.0</td>\n",
              "      <td>0.0</td>\n",
              "      <td>None</td>\n",
              "      <td>0.0</td>\n",
              "      <td>136.0</td>\n",
              "      <td>188.0</td>\n",
              "      <td>121.0</td>\n",
              "      <td>874.0</td>\n",
              "      <td>72.0</td>\n",
              "      <td>0.0</td>\n",
              "      <td>52.0</td>\n",
              "      <td>0.0</td>\n",
              "      <td>0.0</td>\n",
              "      <td>None</td>\n",
              "    </tr>\n",
              "  </tbody>\n",
              "</table>\n",
              "</div>"
            ]
          },
          "metadata": {},
          "execution_count": 14
        }
      ]
    },
    {
      "cell_type": "markdown",
      "source": [
        "**Reading The Dataset into a Dataframe:** Using *Vaex Library*\n",
        "\n",
        "\n",
        "*   Read all 3 files\n",
        "*   Combine/Merge the dataframe into a single dataframe\n",
        "\n"
      ],
      "metadata": {
        "id": "uLypM2QlsRkf"
      }
    },
    {
      "cell_type": "code",
      "source": [
        "dfa = vx.open(\"2016.csv\")\n",
        "dfa.head()"
      ],
      "metadata": {
        "colab": {
          "base_uri": "https://localhost:8080/",
          "height": 460
        },
        "outputId": "78546667-f329-4326-82cc-6a6cb9c4f835",
        "id": "-kd-D6-gtbg0"
      },
      "execution_count": null,
      "outputs": [
        {
          "output_type": "execute_result",
          "data": {
            "text/html": [
              "<table>\n",
              "<thead>\n",
              "<tr><th>#                            </th><th>FL_DATE   </th><th>OP_CARRIER  </th><th style=\"text-align: right;\">  OP_CARRIER_FL_NUM</th><th>ORIGIN  </th><th>DEST  </th><th style=\"text-align: right;\">  CRS_DEP_TIME</th><th style=\"text-align: right;\">  DEP_TIME</th><th style=\"text-align: right;\">  DEP_DELAY</th><th style=\"text-align: right;\">  TAXI_OUT</th><th style=\"text-align: right;\">  WHEELS_OFF</th><th style=\"text-align: right;\">  WHEELS_ON</th><th style=\"text-align: right;\">  TAXI_IN</th><th style=\"text-align: right;\">  CRS_ARR_TIME</th><th style=\"text-align: right;\">  ARR_TIME</th><th style=\"text-align: right;\">  ARR_DELAY</th><th style=\"text-align: right;\">  CANCELLED</th><th>CANCELLATION_CODE  </th><th style=\"text-align: right;\">  DIVERTED</th><th style=\"text-align: right;\">  CRS_ELAPSED_TIME</th><th style=\"text-align: right;\">  ACTUAL_ELAPSED_TIME</th><th style=\"text-align: right;\">  AIR_TIME</th><th style=\"text-align: right;\">  DISTANCE</th><th>CARRIER_DELAY  </th><th>WEATHER_DELAY  </th><th>NAS_DELAY  </th><th>SECURITY_DELAY  </th><th>LATE_AIRCRAFT_DELAY  </th><th>Unnamed: 27  </th></tr>\n",
              "</thead>\n",
              "<tbody>\n",
              "<tr><td><i style='opacity: 0.6'>0</i></td><td>2016-01-01</td><td>DL          </td><td style=\"text-align: right;\">               1248</td><td>DTW     </td><td>LAX   </td><td style=\"text-align: right;\">          1935</td><td style=\"text-align: right;\">      1935</td><td style=\"text-align: right;\">          0</td><td style=\"text-align: right;\">        23</td><td style=\"text-align: right;\">        1958</td><td style=\"text-align: right;\">       2107</td><td style=\"text-align: right;\">       13</td><td style=\"text-align: right;\">          2144</td><td style=\"text-align: right;\">      2120</td><td style=\"text-align: right;\">        -24</td><td style=\"text-align: right;\">          0</td><td>                   </td><td style=\"text-align: right;\">         0</td><td style=\"text-align: right;\">               309</td><td style=\"text-align: right;\">                  285</td><td style=\"text-align: right;\">       249</td><td style=\"text-align: right;\">      1979</td><td>--             </td><td>--             </td><td>--         </td><td>--              </td><td>--                   </td><td>--           </td></tr>\n",
              "<tr><td><i style='opacity: 0.6'>1</i></td><td>2016-01-01</td><td>DL          </td><td style=\"text-align: right;\">               1251</td><td>ATL     </td><td>GRR   </td><td style=\"text-align: right;\">          2125</td><td style=\"text-align: right;\">      2130</td><td style=\"text-align: right;\">          5</td><td style=\"text-align: right;\">        13</td><td style=\"text-align: right;\">        2143</td><td style=\"text-align: right;\">       2315</td><td style=\"text-align: right;\">        4</td><td style=\"text-align: right;\">          2321</td><td style=\"text-align: right;\">      2319</td><td style=\"text-align: right;\">         -2</td><td style=\"text-align: right;\">          0</td><td>                   </td><td style=\"text-align: right;\">         0</td><td style=\"text-align: right;\">               116</td><td style=\"text-align: right;\">                  109</td><td style=\"text-align: right;\">        92</td><td style=\"text-align: right;\">       640</td><td>--             </td><td>--             </td><td>--         </td><td>--              </td><td>--                   </td><td>--           </td></tr>\n",
              "<tr><td><i style='opacity: 0.6'>2</i></td><td>2016-01-01</td><td>DL          </td><td style=\"text-align: right;\">               1254</td><td>LAX     </td><td>ATL   </td><td style=\"text-align: right;\">          2255</td><td style=\"text-align: right;\">      2256</td><td style=\"text-align: right;\">          1</td><td style=\"text-align: right;\">        19</td><td style=\"text-align: right;\">        2315</td><td style=\"text-align: right;\">        542</td><td style=\"text-align: right;\">        5</td><td style=\"text-align: right;\">           600</td><td style=\"text-align: right;\">       547</td><td style=\"text-align: right;\">        -13</td><td style=\"text-align: right;\">          0</td><td>                   </td><td style=\"text-align: right;\">         0</td><td style=\"text-align: right;\">               245</td><td style=\"text-align: right;\">                  231</td><td style=\"text-align: right;\">       207</td><td style=\"text-align: right;\">      1947</td><td>--             </td><td>--             </td><td>--         </td><td>--              </td><td>--                   </td><td>--           </td></tr>\n",
              "<tr><td><i style='opacity: 0.6'>3</i></td><td>2016-01-01</td><td>DL          </td><td style=\"text-align: right;\">               1255</td><td>SLC     </td><td>ATL   </td><td style=\"text-align: right;\">          1656</td><td style=\"text-align: right;\">      1700</td><td style=\"text-align: right;\">          4</td><td style=\"text-align: right;\">        12</td><td style=\"text-align: right;\">        1712</td><td style=\"text-align: right;\">       2205</td><td style=\"text-align: right;\">        8</td><td style=\"text-align: right;\">          2229</td><td style=\"text-align: right;\">      2213</td><td style=\"text-align: right;\">        -16</td><td style=\"text-align: right;\">          0</td><td>                   </td><td style=\"text-align: right;\">         0</td><td style=\"text-align: right;\">               213</td><td style=\"text-align: right;\">                  193</td><td style=\"text-align: right;\">       173</td><td style=\"text-align: right;\">      1590</td><td>--             </td><td>--             </td><td>--         </td><td>--              </td><td>--                   </td><td>--           </td></tr>\n",
              "<tr><td><i style='opacity: 0.6'>4</i></td><td>2016-01-01</td><td>DL          </td><td style=\"text-align: right;\">               1256</td><td>BZN     </td><td>MSP   </td><td style=\"text-align: right;\">           900</td><td style=\"text-align: right;\">      1012</td><td style=\"text-align: right;\">         72</td><td style=\"text-align: right;\">        63</td><td style=\"text-align: right;\">        1115</td><td style=\"text-align: right;\">       1416</td><td style=\"text-align: right;\">        4</td><td style=\"text-align: right;\">          1216</td><td style=\"text-align: right;\">      1420</td><td style=\"text-align: right;\">        124</td><td style=\"text-align: right;\">          0</td><td>                   </td><td style=\"text-align: right;\">         0</td><td style=\"text-align: right;\">               136</td><td style=\"text-align: right;\">                  188</td><td style=\"text-align: right;\">       121</td><td style=\"text-align: right;\">       874</td><td>72.0           </td><td>0.0            </td><td>52.0       </td><td>0.0             </td><td>0.0                  </td><td>--           </td></tr>\n",
              "<tr><td><i style='opacity: 0.6'>5</i></td><td>2016-01-01</td><td>DL          </td><td style=\"text-align: right;\">               1257</td><td>ATL     </td><td>BNA   </td><td style=\"text-align: right;\">          1233</td><td style=\"text-align: right;\">      1356</td><td style=\"text-align: right;\">         83</td><td style=\"text-align: right;\">        22</td><td style=\"text-align: right;\">        1418</td><td style=\"text-align: right;\">       1356</td><td style=\"text-align: right;\">        6</td><td style=\"text-align: right;\">          1239</td><td style=\"text-align: right;\">      1402</td><td style=\"text-align: right;\">         83</td><td style=\"text-align: right;\">          0</td><td>                   </td><td style=\"text-align: right;\">         0</td><td style=\"text-align: right;\">                66</td><td style=\"text-align: right;\">                   66</td><td style=\"text-align: right;\">        38</td><td style=\"text-align: right;\">       214</td><td>43.0           </td><td>0.0            </td><td>0.0        </td><td>0.0             </td><td>40.0                 </td><td>--           </td></tr>\n",
              "<tr><td><i style='opacity: 0.6'>6</i></td><td>2016-01-01</td><td>DL          </td><td style=\"text-align: right;\">               1257</td><td>BNA     </td><td>ATL   </td><td style=\"text-align: right;\">          1320</td><td style=\"text-align: right;\">      1446</td><td style=\"text-align: right;\">         86</td><td style=\"text-align: right;\">        15</td><td style=\"text-align: right;\">        1501</td><td style=\"text-align: right;\">       1638</td><td style=\"text-align: right;\">        6</td><td style=\"text-align: right;\">          1530</td><td style=\"text-align: right;\">      1644</td><td style=\"text-align: right;\">         74</td><td style=\"text-align: right;\">          0</td><td>                   </td><td style=\"text-align: right;\">         0</td><td style=\"text-align: right;\">                70</td><td style=\"text-align: right;\">                   58</td><td style=\"text-align: right;\">        37</td><td style=\"text-align: right;\">       214</td><td>3.0            </td><td>0.0            </td><td>0.0        </td><td>0.0             </td><td>71.0                 </td><td>--           </td></tr>\n",
              "<tr><td><i style='opacity: 0.6'>7</i></td><td>2016-01-01</td><td>DL          </td><td style=\"text-align: right;\">               1258</td><td>ATL     </td><td>JAX   </td><td style=\"text-align: right;\">           945</td><td style=\"text-align: right;\">       946</td><td style=\"text-align: right;\">          1</td><td style=\"text-align: right;\">        19</td><td style=\"text-align: right;\">        1005</td><td style=\"text-align: right;\">       1050</td><td style=\"text-align: right;\">        3</td><td style=\"text-align: right;\">          1050</td><td style=\"text-align: right;\">      1053</td><td style=\"text-align: right;\">          3</td><td style=\"text-align: right;\">          0</td><td>                   </td><td style=\"text-align: right;\">         0</td><td style=\"text-align: right;\">                65</td><td style=\"text-align: right;\">                   67</td><td style=\"text-align: right;\">        45</td><td style=\"text-align: right;\">       270</td><td>--             </td><td>--             </td><td>--         </td><td>--              </td><td>--                   </td><td>--           </td></tr>\n",
              "<tr><td><i style='opacity: 0.6'>8</i></td><td>2016-01-01</td><td>DL          </td><td style=\"text-align: right;\">               1258</td><td>JAX     </td><td>ATL   </td><td style=\"text-align: right;\">          1145</td><td style=\"text-align: right;\">      1144</td><td style=\"text-align: right;\">         -1</td><td style=\"text-align: right;\">        12</td><td style=\"text-align: right;\">        1156</td><td style=\"text-align: right;\">       1239</td><td style=\"text-align: right;\">        8</td><td style=\"text-align: right;\">          1302</td><td style=\"text-align: right;\">      1247</td><td style=\"text-align: right;\">        -15</td><td style=\"text-align: right;\">          0</td><td>                   </td><td style=\"text-align: right;\">         0</td><td style=\"text-align: right;\">                77</td><td style=\"text-align: right;\">                   63</td><td style=\"text-align: right;\">        43</td><td style=\"text-align: right;\">       270</td><td>--             </td><td>--             </td><td>--         </td><td>--              </td><td>--                   </td><td>--           </td></tr>\n",
              "<tr><td><i style='opacity: 0.6'>9</i></td><td>2016-01-01</td><td>DL          </td><td style=\"text-align: right;\">               1259</td><td>ATL     </td><td>OKC   </td><td style=\"text-align: right;\">          2110</td><td style=\"text-align: right;\">      2107</td><td style=\"text-align: right;\">         -3</td><td style=\"text-align: right;\">        16</td><td style=\"text-align: right;\">        2123</td><td style=\"text-align: right;\">       2219</td><td style=\"text-align: right;\">        5</td><td style=\"text-align: right;\">          2236</td><td style=\"text-align: right;\">      2224</td><td style=\"text-align: right;\">        -12</td><td style=\"text-align: right;\">          0</td><td>                   </td><td style=\"text-align: right;\">         0</td><td style=\"text-align: right;\">               146</td><td style=\"text-align: right;\">                  137</td><td style=\"text-align: right;\">       116</td><td style=\"text-align: right;\">       761</td><td>--             </td><td>--             </td><td>--         </td><td>--              </td><td>--                   </td><td>--           </td></tr>\n",
              "</tbody>\n",
              "</table>"
            ],
            "text/plain": [
              "  #  FL_DATE     OP_CARRIER      OP_CARRIER_FL_NUM  ORIGIN    DEST      CRS_DEP_TIME    DEP_TIME    DEP_DELAY    TAXI_OUT    WHEELS_OFF    WHEELS_ON    TAXI_IN    CRS_ARR_TIME    ARR_TIME    ARR_DELAY    CANCELLED  CANCELLATION_CODE      DIVERTED    CRS_ELAPSED_TIME    ACTUAL_ELAPSED_TIME    AIR_TIME    DISTANCE  CARRIER_DELAY    WEATHER_DELAY    NAS_DELAY    SECURITY_DELAY    LATE_AIRCRAFT_DELAY    Unnamed: 27\n",
              "  0  2016-01-01  DL                           1248  DTW       LAX               1935        1935            0          23          1958         2107         13            2144        2120          -24            0                                0                 309                    285         249        1979  --               --               --           --                --                     --\n",
              "  1  2016-01-01  DL                           1251  ATL       GRR               2125        2130            5          13          2143         2315          4            2321        2319           -2            0                                0                 116                    109          92         640  --               --               --           --                --                     --\n",
              "  2  2016-01-01  DL                           1254  LAX       ATL               2255        2256            1          19          2315          542          5             600         547          -13            0                                0                 245                    231         207        1947  --               --               --           --                --                     --\n",
              "  3  2016-01-01  DL                           1255  SLC       ATL               1656        1700            4          12          1712         2205          8            2229        2213          -16            0                                0                 213                    193         173        1590  --               --               --           --                --                     --\n",
              "  4  2016-01-01  DL                           1256  BZN       MSP                900        1012           72          63          1115         1416          4            1216        1420          124            0                                0                 136                    188         121         874  72.0             0.0              52.0         0.0               0.0                    --\n",
              "  5  2016-01-01  DL                           1257  ATL       BNA               1233        1356           83          22          1418         1356          6            1239        1402           83            0                                0                  66                     66          38         214  43.0             0.0              0.0          0.0               40.0                   --\n",
              "  6  2016-01-01  DL                           1257  BNA       ATL               1320        1446           86          15          1501         1638          6            1530        1644           74            0                                0                  70                     58          37         214  3.0              0.0              0.0          0.0               71.0                   --\n",
              "  7  2016-01-01  DL                           1258  ATL       JAX                945         946            1          19          1005         1050          3            1050        1053            3            0                                0                  65                     67          45         270  --               --               --           --                --                     --\n",
              "  8  2016-01-01  DL                           1258  JAX       ATL               1145        1144           -1          12          1156         1239          8            1302        1247          -15            0                                0                  77                     63          43         270  --               --               --           --                --                     --\n",
              "  9  2016-01-01  DL                           1259  ATL       OKC               2110        2107           -3          16          2123         2219          5            2236        2224          -12            0                                0                 146                    137         116         761  --               --               --           --                --                     --"
            ]
          },
          "metadata": {},
          "execution_count": 15
        }
      ]
    },
    {
      "cell_type": "code",
      "source": [
        "dfb = vx.open(\"2017.csv\")\n",
        "dfb.head()"
      ],
      "metadata": {
        "colab": {
          "base_uri": "https://localhost:8080/",
          "height": 460
        },
        "id": "Pvx3aVf_tt9f",
        "outputId": "9cf62dc9-fb4f-4899-f35d-4646b952296b"
      },
      "execution_count": null,
      "outputs": [
        {
          "output_type": "execute_result",
          "data": {
            "text/html": [
              "<table>\n",
              "<thead>\n",
              "<tr><th>#                            </th><th>FL_DATE   </th><th>OP_CARRIER  </th><th style=\"text-align: right;\">  OP_CARRIER_FL_NUM</th><th>ORIGIN  </th><th>DEST  </th><th style=\"text-align: right;\">  CRS_DEP_TIME</th><th style=\"text-align: right;\">  DEP_TIME</th><th style=\"text-align: right;\">  DEP_DELAY</th><th style=\"text-align: right;\">  TAXI_OUT</th><th style=\"text-align: right;\">  WHEELS_OFF</th><th style=\"text-align: right;\">  WHEELS_ON</th><th style=\"text-align: right;\">  TAXI_IN</th><th style=\"text-align: right;\">  CRS_ARR_TIME</th><th style=\"text-align: right;\">  ARR_TIME</th><th style=\"text-align: right;\">  ARR_DELAY</th><th style=\"text-align: right;\">  CANCELLED</th><th>CANCELLATION_CODE  </th><th style=\"text-align: right;\">  DIVERTED</th><th style=\"text-align: right;\">  CRS_ELAPSED_TIME</th><th style=\"text-align: right;\">  ACTUAL_ELAPSED_TIME</th><th style=\"text-align: right;\">  AIR_TIME</th><th style=\"text-align: right;\">  DISTANCE</th><th>CARRIER_DELAY  </th><th>WEATHER_DELAY  </th><th>NAS_DELAY  </th><th>SECURITY_DELAY  </th><th>LATE_AIRCRAFT_DELAY  </th><th>Unnamed: 27  </th></tr>\n",
              "</thead>\n",
              "<tbody>\n",
              "<tr><td><i style='opacity: 0.6'>0</i></td><td>2017-01-01</td><td>AA          </td><td style=\"text-align: right;\">                  1</td><td>JFK     </td><td>LAX   </td><td style=\"text-align: right;\">           800</td><td style=\"text-align: right;\">       831</td><td style=\"text-align: right;\">         31</td><td style=\"text-align: right;\">        25</td><td style=\"text-align: right;\">         856</td><td style=\"text-align: right;\">       1143</td><td style=\"text-align: right;\">       26</td><td style=\"text-align: right;\">          1142</td><td style=\"text-align: right;\">      1209</td><td style=\"text-align: right;\">         27</td><td style=\"text-align: right;\">          0</td><td>                   </td><td style=\"text-align: right;\">         0</td><td style=\"text-align: right;\">               402</td><td style=\"text-align: right;\">                  398</td><td style=\"text-align: right;\">       347</td><td style=\"text-align: right;\">      2475</td><td>27.0           </td><td>0.0            </td><td>0.0        </td><td>0.0             </td><td>0.0                  </td><td>--           </td></tr>\n",
              "<tr><td><i style='opacity: 0.6'>1</i></td><td>2017-01-01</td><td>AA          </td><td style=\"text-align: right;\">                  2</td><td>LAX     </td><td>JFK   </td><td style=\"text-align: right;\">           900</td><td style=\"text-align: right;\">       934</td><td style=\"text-align: right;\">         34</td><td style=\"text-align: right;\">        34</td><td style=\"text-align: right;\">        1008</td><td style=\"text-align: right;\">       1757</td><td style=\"text-align: right;\">       12</td><td style=\"text-align: right;\">          1727</td><td style=\"text-align: right;\">      1809</td><td style=\"text-align: right;\">         42</td><td style=\"text-align: right;\">          0</td><td>                   </td><td style=\"text-align: right;\">         0</td><td style=\"text-align: right;\">               327</td><td style=\"text-align: right;\">                  335</td><td style=\"text-align: right;\">       289</td><td style=\"text-align: right;\">      2475</td><td>34.0           </td><td>0.0            </td><td>8.0        </td><td>0.0             </td><td>0.0                  </td><td>--           </td></tr>\n",
              "<tr><td><i style='opacity: 0.6'>2</i></td><td>2017-01-01</td><td>AA          </td><td style=\"text-align: right;\">                  4</td><td>LAX     </td><td>JFK   </td><td style=\"text-align: right;\">          1130</td><td style=\"text-align: right;\">      1221</td><td style=\"text-align: right;\">         51</td><td style=\"text-align: right;\">        20</td><td style=\"text-align: right;\">        1241</td><td style=\"text-align: right;\">       2025</td><td style=\"text-align: right;\">       15</td><td style=\"text-align: right;\">          1958</td><td style=\"text-align: right;\">      2040</td><td style=\"text-align: right;\">         42</td><td style=\"text-align: right;\">          0</td><td>                   </td><td style=\"text-align: right;\">         0</td><td style=\"text-align: right;\">               328</td><td style=\"text-align: right;\">                  319</td><td style=\"text-align: right;\">       284</td><td style=\"text-align: right;\">      2475</td><td>7.0            </td><td>0.0            </td><td>0.0        </td><td>0.0             </td><td>35.0                 </td><td>--           </td></tr>\n",
              "<tr><td><i style='opacity: 0.6'>3</i></td><td>2017-01-01</td><td>AA          </td><td style=\"text-align: right;\">                  5</td><td>DFW     </td><td>HNL   </td><td style=\"text-align: right;\">          1135</td><td style=\"text-align: right;\">      1252</td><td style=\"text-align: right;\">         77</td><td style=\"text-align: right;\">        19</td><td style=\"text-align: right;\">        1311</td><td style=\"text-align: right;\">       1744</td><td style=\"text-align: right;\">        5</td><td style=\"text-align: right;\">          1612</td><td style=\"text-align: right;\">      1749</td><td style=\"text-align: right;\">         97</td><td style=\"text-align: right;\">          0</td><td>                   </td><td style=\"text-align: right;\">         0</td><td style=\"text-align: right;\">               517</td><td style=\"text-align: right;\">                  537</td><td style=\"text-align: right;\">       513</td><td style=\"text-align: right;\">      3784</td><td>77.0           </td><td>0.0            </td><td>20.0       </td><td>0.0             </td><td>0.0                  </td><td>--           </td></tr>\n",
              "<tr><td><i style='opacity: 0.6'>4</i></td><td>2017-01-01</td><td>AA          </td><td style=\"text-align: right;\">                  6</td><td>OGG     </td><td>DFW   </td><td style=\"text-align: right;\">          1855</td><td style=\"text-align: right;\">      1855</td><td style=\"text-align: right;\">          0</td><td style=\"text-align: right;\">        16</td><td style=\"text-align: right;\">        1911</td><td style=\"text-align: right;\">        631</td><td style=\"text-align: right;\">       11</td><td style=\"text-align: right;\">           600</td><td style=\"text-align: right;\">       642</td><td style=\"text-align: right;\">         42</td><td style=\"text-align: right;\">          0</td><td>                   </td><td style=\"text-align: right;\">         0</td><td style=\"text-align: right;\">               425</td><td style=\"text-align: right;\">                  467</td><td style=\"text-align: right;\">       440</td><td style=\"text-align: right;\">      3711</td><td>0.0            </td><td>0.0            </td><td>42.0       </td><td>0.0             </td><td>0.0                  </td><td>--           </td></tr>\n",
              "<tr><td><i style='opacity: 0.6'>5</i></td><td>2017-01-01</td><td>AA          </td><td style=\"text-align: right;\">                  7</td><td>DFW     </td><td>OGG   </td><td style=\"text-align: right;\">           940</td><td style=\"text-align: right;\">      1619</td><td style=\"text-align: right;\">        399</td><td style=\"text-align: right;\">        12</td><td style=\"text-align: right;\">        1631</td><td style=\"text-align: right;\">       2031</td><td style=\"text-align: right;\">        6</td><td style=\"text-align: right;\">          1403</td><td style=\"text-align: right;\">      2037</td><td style=\"text-align: right;\">        394</td><td style=\"text-align: right;\">          0</td><td>                   </td><td style=\"text-align: right;\">         0</td><td style=\"text-align: right;\">               503</td><td style=\"text-align: right;\">                  498</td><td style=\"text-align: right;\">       480</td><td style=\"text-align: right;\">      3711</td><td>394.0          </td><td>0.0            </td><td>0.0        </td><td>0.0             </td><td>0.0                  </td><td>--           </td></tr>\n",
              "<tr><td><i style='opacity: 0.6'>6</i></td><td>2017-01-01</td><td>AA          </td><td style=\"text-align: right;\">                  8</td><td>HNL     </td><td>DFW   </td><td style=\"text-align: right;\">          1838</td><td style=\"text-align: right;\">      1903</td><td style=\"text-align: right;\">         25</td><td style=\"text-align: right;\">        19</td><td style=\"text-align: right;\">        1922</td><td style=\"text-align: right;\">        636</td><td style=\"text-align: right;\">       12</td><td style=\"text-align: right;\">           550</td><td style=\"text-align: right;\">       648</td><td style=\"text-align: right;\">         58</td><td style=\"text-align: right;\">          0</td><td>                   </td><td style=\"text-align: right;\">         0</td><td style=\"text-align: right;\">               432</td><td style=\"text-align: right;\">                  465</td><td style=\"text-align: right;\">       434</td><td style=\"text-align: right;\">      3784</td><td>25.0           </td><td>0.0            </td><td>33.0       </td><td>0.0             </td><td>0.0                  </td><td>--           </td></tr>\n",
              "<tr><td><i style='opacity: 0.6'>7</i></td><td>2017-01-01</td><td>AA          </td><td style=\"text-align: right;\">                  9</td><td>JFK     </td><td>SFO   </td><td style=\"text-align: right;\">           700</td><td style=\"text-align: right;\">       656</td><td style=\"text-align: right;\">         -4</td><td style=\"text-align: right;\">        22</td><td style=\"text-align: right;\">         718</td><td style=\"text-align: right;\">       1020</td><td style=\"text-align: right;\">        3</td><td style=\"text-align: right;\">          1045</td><td style=\"text-align: right;\">      1023</td><td style=\"text-align: right;\">        -22</td><td style=\"text-align: right;\">          0</td><td>                   </td><td style=\"text-align: right;\">         0</td><td style=\"text-align: right;\">               405</td><td style=\"text-align: right;\">                  387</td><td style=\"text-align: right;\">       362</td><td style=\"text-align: right;\">      2586</td><td>--             </td><td>--             </td><td>--         </td><td>--              </td><td>--                   </td><td>--           </td></tr>\n",
              "<tr><td><i style='opacity: 0.6'>8</i></td><td>2017-01-01</td><td>AA          </td><td style=\"text-align: right;\">                 10</td><td>LAX     </td><td>JFK   </td><td style=\"text-align: right;\">          2100</td><td style=\"text-align: right;\">      2100</td><td style=\"text-align: right;\">          0</td><td style=\"text-align: right;\">        15</td><td style=\"text-align: right;\">        2115</td><td style=\"text-align: right;\">        447</td><td style=\"text-align: right;\">       10</td><td style=\"text-align: right;\">           527</td><td style=\"text-align: right;\">       457</td><td style=\"text-align: right;\">        -30</td><td style=\"text-align: right;\">          0</td><td>                   </td><td style=\"text-align: right;\">         0</td><td style=\"text-align: right;\">               327</td><td style=\"text-align: right;\">                  297</td><td style=\"text-align: right;\">       272</td><td style=\"text-align: right;\">      2475</td><td>--             </td><td>--             </td><td>--         </td><td>--              </td><td>--                   </td><td>--           </td></tr>\n",
              "<tr><td><i style='opacity: 0.6'>9</i></td><td>2017-01-01</td><td>AA          </td><td style=\"text-align: right;\">                 12</td><td>SFO     </td><td>JFK   </td><td style=\"text-align: right;\">          1135</td><td style=\"text-align: right;\">      1130</td><td style=\"text-align: right;\">         -5</td><td style=\"text-align: right;\">        27</td><td style=\"text-align: right;\">        1157</td><td style=\"text-align: right;\">       1937</td><td style=\"text-align: right;\">       17</td><td style=\"text-align: right;\">          2018</td><td style=\"text-align: right;\">      1954</td><td style=\"text-align: right;\">        -24</td><td style=\"text-align: right;\">          0</td><td>                   </td><td style=\"text-align: right;\">         0</td><td style=\"text-align: right;\">               343</td><td style=\"text-align: right;\">                  324</td><td style=\"text-align: right;\">       280</td><td style=\"text-align: right;\">      2586</td><td>--             </td><td>--             </td><td>--         </td><td>--              </td><td>--                   </td><td>--           </td></tr>\n",
              "</tbody>\n",
              "</table>"
            ],
            "text/plain": [
              "  #  FL_DATE     OP_CARRIER      OP_CARRIER_FL_NUM  ORIGIN    DEST      CRS_DEP_TIME    DEP_TIME    DEP_DELAY    TAXI_OUT    WHEELS_OFF    WHEELS_ON    TAXI_IN    CRS_ARR_TIME    ARR_TIME    ARR_DELAY    CANCELLED  CANCELLATION_CODE      DIVERTED    CRS_ELAPSED_TIME    ACTUAL_ELAPSED_TIME    AIR_TIME    DISTANCE  CARRIER_DELAY    WEATHER_DELAY    NAS_DELAY    SECURITY_DELAY    LATE_AIRCRAFT_DELAY    Unnamed: 27\n",
              "  0  2017-01-01  AA                              1  JFK       LAX                800         831           31          25           856         1143         26            1142        1209           27            0                                0                 402                    398         347        2475  27.0             0.0              0.0          0.0               0.0                    --\n",
              "  1  2017-01-01  AA                              2  LAX       JFK                900         934           34          34          1008         1757         12            1727        1809           42            0                                0                 327                    335         289        2475  34.0             0.0              8.0          0.0               0.0                    --\n",
              "  2  2017-01-01  AA                              4  LAX       JFK               1130        1221           51          20          1241         2025         15            1958        2040           42            0                                0                 328                    319         284        2475  7.0              0.0              0.0          0.0               35.0                   --\n",
              "  3  2017-01-01  AA                              5  DFW       HNL               1135        1252           77          19          1311         1744          5            1612        1749           97            0                                0                 517                    537         513        3784  77.0             0.0              20.0         0.0               0.0                    --\n",
              "  4  2017-01-01  AA                              6  OGG       DFW               1855        1855            0          16          1911          631         11             600         642           42            0                                0                 425                    467         440        3711  0.0              0.0              42.0         0.0               0.0                    --\n",
              "  5  2017-01-01  AA                              7  DFW       OGG                940        1619          399          12          1631         2031          6            1403        2037          394            0                                0                 503                    498         480        3711  394.0            0.0              0.0          0.0               0.0                    --\n",
              "  6  2017-01-01  AA                              8  HNL       DFW               1838        1903           25          19          1922          636         12             550         648           58            0                                0                 432                    465         434        3784  25.0             0.0              33.0         0.0               0.0                    --\n",
              "  7  2017-01-01  AA                              9  JFK       SFO                700         656           -4          22           718         1020          3            1045        1023          -22            0                                0                 405                    387         362        2586  --               --               --           --                --                     --\n",
              "  8  2017-01-01  AA                             10  LAX       JFK               2100        2100            0          15          2115          447         10             527         457          -30            0                                0                 327                    297         272        2475  --               --               --           --                --                     --\n",
              "  9  2017-01-01  AA                             12  SFO       JFK               1135        1130           -5          27          1157         1937         17            2018        1954          -24            0                                0                 343                    324         280        2586  --               --               --           --                --                     --"
            ]
          },
          "metadata": {},
          "execution_count": 16
        }
      ]
    },
    {
      "cell_type": "code",
      "source": [
        "dfc = vx.open(\"2018.csv\")\n",
        "dfc.head()"
      ],
      "metadata": {
        "id": "txMqxmrxtuQ6",
        "colab": {
          "base_uri": "https://localhost:8080/",
          "height": 460
        },
        "outputId": "5a9fc03b-2904-4a85-b79b-bfc75dbdd300"
      },
      "execution_count": null,
      "outputs": [
        {
          "output_type": "execute_result",
          "data": {
            "text/html": [
              "<table>\n",
              "<thead>\n",
              "<tr><th>#                            </th><th>FL_DATE   </th><th>OP_CARRIER  </th><th style=\"text-align: right;\">  OP_CARRIER_FL_NUM</th><th>ORIGIN  </th><th>DEST  </th><th style=\"text-align: right;\">  CRS_DEP_TIME</th><th style=\"text-align: right;\">  DEP_TIME</th><th style=\"text-align: right;\">  DEP_DELAY</th><th style=\"text-align: right;\">  TAXI_OUT</th><th style=\"text-align: right;\">  WHEELS_OFF</th><th style=\"text-align: right;\">  WHEELS_ON</th><th style=\"text-align: right;\">  TAXI_IN</th><th style=\"text-align: right;\">  CRS_ARR_TIME</th><th style=\"text-align: right;\">  ARR_TIME</th><th style=\"text-align: right;\">  ARR_DELAY</th><th style=\"text-align: right;\">  CANCELLED</th><th>CANCELLATION_CODE  </th><th style=\"text-align: right;\">  DIVERTED</th><th style=\"text-align: right;\">  CRS_ELAPSED_TIME</th><th style=\"text-align: right;\">  ACTUAL_ELAPSED_TIME</th><th style=\"text-align: right;\">  AIR_TIME</th><th style=\"text-align: right;\">  DISTANCE</th><th>CARRIER_DELAY  </th><th>WEATHER_DELAY  </th><th>NAS_DELAY  </th><th>SECURITY_DELAY  </th><th>LATE_AIRCRAFT_DELAY  </th><th>Unnamed: 27  </th></tr>\n",
              "</thead>\n",
              "<tbody>\n",
              "<tr><td><i style='opacity: 0.6'>0</i></td><td>2018-01-01</td><td>UA          </td><td style=\"text-align: right;\">               2429</td><td>EWR     </td><td>DEN   </td><td style=\"text-align: right;\">          1517</td><td style=\"text-align: right;\">      1512</td><td style=\"text-align: right;\">         -5</td><td style=\"text-align: right;\">        15</td><td style=\"text-align: right;\">        1527</td><td style=\"text-align: right;\">       1712</td><td style=\"text-align: right;\">       10</td><td style=\"text-align: right;\">          1745</td><td style=\"text-align: right;\">      1722</td><td style=\"text-align: right;\">        -23</td><td style=\"text-align: right;\">          0</td><td>                   </td><td style=\"text-align: right;\">         0</td><td style=\"text-align: right;\">               268</td><td style=\"text-align: right;\">                  250</td><td style=\"text-align: right;\">       225</td><td style=\"text-align: right;\">      1605</td><td>--             </td><td>--             </td><td>--         </td><td>--              </td><td>--                   </td><td>--           </td></tr>\n",
              "<tr><td><i style='opacity: 0.6'>1</i></td><td>2018-01-01</td><td>UA          </td><td style=\"text-align: right;\">               2427</td><td>LAS     </td><td>SFO   </td><td style=\"text-align: right;\">          1115</td><td style=\"text-align: right;\">      1107</td><td style=\"text-align: right;\">         -8</td><td style=\"text-align: right;\">        11</td><td style=\"text-align: right;\">        1118</td><td style=\"text-align: right;\">       1223</td><td style=\"text-align: right;\">        7</td><td style=\"text-align: right;\">          1254</td><td style=\"text-align: right;\">      1230</td><td style=\"text-align: right;\">        -24</td><td style=\"text-align: right;\">          0</td><td>                   </td><td style=\"text-align: right;\">         0</td><td style=\"text-align: right;\">                99</td><td style=\"text-align: right;\">                   83</td><td style=\"text-align: right;\">        65</td><td style=\"text-align: right;\">       414</td><td>--             </td><td>--             </td><td>--         </td><td>--              </td><td>--                   </td><td>--           </td></tr>\n",
              "<tr><td><i style='opacity: 0.6'>2</i></td><td>2018-01-01</td><td>UA          </td><td style=\"text-align: right;\">               2426</td><td>SNA     </td><td>DEN   </td><td style=\"text-align: right;\">          1335</td><td style=\"text-align: right;\">      1330</td><td style=\"text-align: right;\">         -5</td><td style=\"text-align: right;\">        15</td><td style=\"text-align: right;\">        1345</td><td style=\"text-align: right;\">       1631</td><td style=\"text-align: right;\">        5</td><td style=\"text-align: right;\">          1649</td><td style=\"text-align: right;\">      1636</td><td style=\"text-align: right;\">        -13</td><td style=\"text-align: right;\">          0</td><td>                   </td><td style=\"text-align: right;\">         0</td><td style=\"text-align: right;\">               134</td><td style=\"text-align: right;\">                  126</td><td style=\"text-align: right;\">       106</td><td style=\"text-align: right;\">       846</td><td>--             </td><td>--             </td><td>--         </td><td>--              </td><td>--                   </td><td>--           </td></tr>\n",
              "<tr><td><i style='opacity: 0.6'>3</i></td><td>2018-01-01</td><td>UA          </td><td style=\"text-align: right;\">               2425</td><td>RSW     </td><td>ORD   </td><td style=\"text-align: right;\">          1546</td><td style=\"text-align: right;\">      1552</td><td style=\"text-align: right;\">          6</td><td style=\"text-align: right;\">        19</td><td style=\"text-align: right;\">        1611</td><td style=\"text-align: right;\">       1748</td><td style=\"text-align: right;\">        6</td><td style=\"text-align: right;\">          1756</td><td style=\"text-align: right;\">      1754</td><td style=\"text-align: right;\">         -2</td><td style=\"text-align: right;\">          0</td><td>                   </td><td style=\"text-align: right;\">         0</td><td style=\"text-align: right;\">               190</td><td style=\"text-align: right;\">                  182</td><td style=\"text-align: right;\">       157</td><td style=\"text-align: right;\">      1120</td><td>--             </td><td>--             </td><td>--         </td><td>--              </td><td>--                   </td><td>--           </td></tr>\n",
              "<tr><td><i style='opacity: 0.6'>4</i></td><td>2018-01-01</td><td>UA          </td><td style=\"text-align: right;\">               2424</td><td>ORD     </td><td>ALB   </td><td style=\"text-align: right;\">           630</td><td style=\"text-align: right;\">       650</td><td style=\"text-align: right;\">         20</td><td style=\"text-align: right;\">        13</td><td style=\"text-align: right;\">         703</td><td style=\"text-align: right;\">        926</td><td style=\"text-align: right;\">       10</td><td style=\"text-align: right;\">           922</td><td style=\"text-align: right;\">       936</td><td style=\"text-align: right;\">         14</td><td style=\"text-align: right;\">          0</td><td>                   </td><td style=\"text-align: right;\">         0</td><td style=\"text-align: right;\">               112</td><td style=\"text-align: right;\">                  106</td><td style=\"text-align: right;\">        83</td><td style=\"text-align: right;\">       723</td><td>--             </td><td>--             </td><td>--         </td><td>--              </td><td>--                   </td><td>--           </td></tr>\n",
              "<tr><td><i style='opacity: 0.6'>5</i></td><td>2018-01-01</td><td>UA          </td><td style=\"text-align: right;\">               2422</td><td>ORD     </td><td>OMA   </td><td style=\"text-align: right;\">          2241</td><td style=\"text-align: right;\">      2244</td><td style=\"text-align: right;\">          3</td><td style=\"text-align: right;\">        15</td><td style=\"text-align: right;\">        2259</td><td style=\"text-align: right;\">          1</td><td style=\"text-align: right;\">        2</td><td style=\"text-align: right;\">            14</td><td style=\"text-align: right;\">         3</td><td style=\"text-align: right;\">        -11</td><td style=\"text-align: right;\">          0</td><td>                   </td><td style=\"text-align: right;\">         0</td><td style=\"text-align: right;\">                93</td><td style=\"text-align: right;\">                   79</td><td style=\"text-align: right;\">        62</td><td style=\"text-align: right;\">       416</td><td>--             </td><td>--             </td><td>--         </td><td>--              </td><td>--                   </td><td>--           </td></tr>\n",
              "<tr><td><i style='opacity: 0.6'>6</i></td><td>2018-01-01</td><td>UA          </td><td style=\"text-align: right;\">               2421</td><td>IAH     </td><td>LAS   </td><td style=\"text-align: right;\">           750</td><td style=\"text-align: right;\">       747</td><td style=\"text-align: right;\">         -3</td><td style=\"text-align: right;\">        14</td><td style=\"text-align: right;\">         801</td><td style=\"text-align: right;\">        854</td><td style=\"text-align: right;\">        6</td><td style=\"text-align: right;\">           916</td><td style=\"text-align: right;\">       900</td><td style=\"text-align: right;\">        -16</td><td style=\"text-align: right;\">          0</td><td>                   </td><td style=\"text-align: right;\">         0</td><td style=\"text-align: right;\">               206</td><td style=\"text-align: right;\">                  193</td><td style=\"text-align: right;\">       173</td><td style=\"text-align: right;\">      1222</td><td>--             </td><td>--             </td><td>--         </td><td>--              </td><td>--                   </td><td>--           </td></tr>\n",
              "<tr><td><i style='opacity: 0.6'>7</i></td><td>2018-01-01</td><td>UA          </td><td style=\"text-align: right;\">               2420</td><td>DEN     </td><td>CID   </td><td style=\"text-align: right;\">          1324</td><td style=\"text-align: right;\">      1318</td><td style=\"text-align: right;\">         -6</td><td style=\"text-align: right;\">        11</td><td style=\"text-align: right;\">        1329</td><td style=\"text-align: right;\">       1554</td><td style=\"text-align: right;\">        6</td><td style=\"text-align: right;\">          1619</td><td style=\"text-align: right;\">      1600</td><td style=\"text-align: right;\">        -19</td><td style=\"text-align: right;\">          0</td><td>                   </td><td style=\"text-align: right;\">         0</td><td style=\"text-align: right;\">               115</td><td style=\"text-align: right;\">                  102</td><td style=\"text-align: right;\">        85</td><td style=\"text-align: right;\">       692</td><td>--             </td><td>--             </td><td>--         </td><td>--              </td><td>--                   </td><td>--           </td></tr>\n",
              "<tr><td><i style='opacity: 0.6'>8</i></td><td>2018-01-01</td><td>UA          </td><td style=\"text-align: right;\">               2419</td><td>SMF     </td><td>EWR   </td><td style=\"text-align: right;\">          2224</td><td style=\"text-align: right;\">      2237</td><td style=\"text-align: right;\">         13</td><td style=\"text-align: right;\">        10</td><td style=\"text-align: right;\">        2247</td><td style=\"text-align: right;\">        627</td><td style=\"text-align: right;\">        9</td><td style=\"text-align: right;\">           638</td><td style=\"text-align: right;\">       636</td><td style=\"text-align: right;\">         -2</td><td style=\"text-align: right;\">          0</td><td>                   </td><td style=\"text-align: right;\">         0</td><td style=\"text-align: right;\">               314</td><td style=\"text-align: right;\">                  299</td><td style=\"text-align: right;\">       280</td><td style=\"text-align: right;\">      2500</td><td>--             </td><td>--             </td><td>--         </td><td>--              </td><td>--                   </td><td>--           </td></tr>\n",
              "<tr><td><i style='opacity: 0.6'>9</i></td><td>2018-01-01</td><td>UA          </td><td style=\"text-align: right;\">               2418</td><td>RIC     </td><td>DEN   </td><td style=\"text-align: right;\">          1601</td><td style=\"text-align: right;\">      1559</td><td style=\"text-align: right;\">         -2</td><td style=\"text-align: right;\">        12</td><td style=\"text-align: right;\">        1611</td><td style=\"text-align: right;\">       1748</td><td style=\"text-align: right;\">        8</td><td style=\"text-align: right;\">          1813</td><td style=\"text-align: right;\">      1756</td><td style=\"text-align: right;\">        -17</td><td style=\"text-align: right;\">          0</td><td>                   </td><td style=\"text-align: right;\">         0</td><td style=\"text-align: right;\">               252</td><td style=\"text-align: right;\">                  237</td><td style=\"text-align: right;\">       217</td><td style=\"text-align: right;\">      1482</td><td>--             </td><td>--             </td><td>--         </td><td>--              </td><td>--                   </td><td>--           </td></tr>\n",
              "</tbody>\n",
              "</table>"
            ],
            "text/plain": [
              "  #  FL_DATE     OP_CARRIER      OP_CARRIER_FL_NUM  ORIGIN    DEST      CRS_DEP_TIME    DEP_TIME    DEP_DELAY    TAXI_OUT    WHEELS_OFF    WHEELS_ON    TAXI_IN    CRS_ARR_TIME    ARR_TIME    ARR_DELAY    CANCELLED  CANCELLATION_CODE      DIVERTED    CRS_ELAPSED_TIME    ACTUAL_ELAPSED_TIME    AIR_TIME    DISTANCE  CARRIER_DELAY    WEATHER_DELAY    NAS_DELAY    SECURITY_DELAY    LATE_AIRCRAFT_DELAY    Unnamed: 27\n",
              "  0  2018-01-01  UA                           2429  EWR       DEN               1517        1512           -5          15          1527         1712         10            1745        1722          -23            0                                0                 268                    250         225        1605  --               --               --           --                --                     --\n",
              "  1  2018-01-01  UA                           2427  LAS       SFO               1115        1107           -8          11          1118         1223          7            1254        1230          -24            0                                0                  99                     83          65         414  --               --               --           --                --                     --\n",
              "  2  2018-01-01  UA                           2426  SNA       DEN               1335        1330           -5          15          1345         1631          5            1649        1636          -13            0                                0                 134                    126         106         846  --               --               --           --                --                     --\n",
              "  3  2018-01-01  UA                           2425  RSW       ORD               1546        1552            6          19          1611         1748          6            1756        1754           -2            0                                0                 190                    182         157        1120  --               --               --           --                --                     --\n",
              "  4  2018-01-01  UA                           2424  ORD       ALB                630         650           20          13           703          926         10             922         936           14            0                                0                 112                    106          83         723  --               --               --           --                --                     --\n",
              "  5  2018-01-01  UA                           2422  ORD       OMA               2241        2244            3          15          2259            1          2              14           3          -11            0                                0                  93                     79          62         416  --               --               --           --                --                     --\n",
              "  6  2018-01-01  UA                           2421  IAH       LAS                750         747           -3          14           801          854          6             916         900          -16            0                                0                 206                    193         173        1222  --               --               --           --                --                     --\n",
              "  7  2018-01-01  UA                           2420  DEN       CID               1324        1318           -6          11          1329         1554          6            1619        1600          -19            0                                0                 115                    102          85         692  --               --               --           --                --                     --\n",
              "  8  2018-01-01  UA                           2419  SMF       EWR               2224        2237           13          10          2247          627          9             638         636           -2            0                                0                 314                    299         280        2500  --               --               --           --                --                     --\n",
              "  9  2018-01-01  UA                           2418  RIC       DEN               1601        1559           -2          12          1611         1748          8            1813        1756          -17            0                                0                 252                    237         217        1482  --               --               --           --                --                     --"
            ]
          },
          "metadata": {},
          "execution_count": 17
        }
      ]
    },
    {
      "cell_type": "code",
      "source": [
        "vdf = vx.concat([dfa, dfb, dfc])\n",
        "vdf.head()"
      ],
      "metadata": {
        "id": "4dpYofDjuh91",
        "colab": {
          "base_uri": "https://localhost:8080/",
          "height": 460
        },
        "outputId": "0902099b-0bb1-4e12-af3e-4a9c4fcd2bc6"
      },
      "execution_count": null,
      "outputs": [
        {
          "output_type": "execute_result",
          "data": {
            "text/html": [
              "<table>\n",
              "<thead>\n",
              "<tr><th>#                            </th><th>FL_DATE   </th><th>OP_CARRIER  </th><th style=\"text-align: right;\">  OP_CARRIER_FL_NUM</th><th>ORIGIN  </th><th>DEST  </th><th style=\"text-align: right;\">  CRS_DEP_TIME</th><th style=\"text-align: right;\">  DEP_TIME</th><th style=\"text-align: right;\">  DEP_DELAY</th><th style=\"text-align: right;\">  TAXI_OUT</th><th style=\"text-align: right;\">  WHEELS_OFF</th><th style=\"text-align: right;\">  WHEELS_ON</th><th style=\"text-align: right;\">  TAXI_IN</th><th style=\"text-align: right;\">  CRS_ARR_TIME</th><th style=\"text-align: right;\">  ARR_TIME</th><th style=\"text-align: right;\">  ARR_DELAY</th><th style=\"text-align: right;\">  CANCELLED</th><th>CANCELLATION_CODE  </th><th style=\"text-align: right;\">  DIVERTED</th><th style=\"text-align: right;\">  CRS_ELAPSED_TIME</th><th style=\"text-align: right;\">  ACTUAL_ELAPSED_TIME</th><th style=\"text-align: right;\">  AIR_TIME</th><th style=\"text-align: right;\">  DISTANCE</th><th>CARRIER_DELAY  </th><th>WEATHER_DELAY  </th><th>NAS_DELAY  </th><th>SECURITY_DELAY  </th><th>LATE_AIRCRAFT_DELAY  </th><th>Unnamed: 27  </th></tr>\n",
              "</thead>\n",
              "<tbody>\n",
              "<tr><td><i style='opacity: 0.6'>0</i></td><td>2016-01-01</td><td>DL          </td><td style=\"text-align: right;\">               1248</td><td>DTW     </td><td>LAX   </td><td style=\"text-align: right;\">          1935</td><td style=\"text-align: right;\">      1935</td><td style=\"text-align: right;\">          0</td><td style=\"text-align: right;\">        23</td><td style=\"text-align: right;\">        1958</td><td style=\"text-align: right;\">       2107</td><td style=\"text-align: right;\">       13</td><td style=\"text-align: right;\">          2144</td><td style=\"text-align: right;\">      2120</td><td style=\"text-align: right;\">        -24</td><td style=\"text-align: right;\">          0</td><td>                   </td><td style=\"text-align: right;\">         0</td><td style=\"text-align: right;\">               309</td><td style=\"text-align: right;\">                  285</td><td style=\"text-align: right;\">       249</td><td style=\"text-align: right;\">      1979</td><td>--             </td><td>--             </td><td>--         </td><td>--              </td><td>--                   </td><td>--           </td></tr>\n",
              "<tr><td><i style='opacity: 0.6'>1</i></td><td>2016-01-01</td><td>DL          </td><td style=\"text-align: right;\">               1251</td><td>ATL     </td><td>GRR   </td><td style=\"text-align: right;\">          2125</td><td style=\"text-align: right;\">      2130</td><td style=\"text-align: right;\">          5</td><td style=\"text-align: right;\">        13</td><td style=\"text-align: right;\">        2143</td><td style=\"text-align: right;\">       2315</td><td style=\"text-align: right;\">        4</td><td style=\"text-align: right;\">          2321</td><td style=\"text-align: right;\">      2319</td><td style=\"text-align: right;\">         -2</td><td style=\"text-align: right;\">          0</td><td>                   </td><td style=\"text-align: right;\">         0</td><td style=\"text-align: right;\">               116</td><td style=\"text-align: right;\">                  109</td><td style=\"text-align: right;\">        92</td><td style=\"text-align: right;\">       640</td><td>--             </td><td>--             </td><td>--         </td><td>--              </td><td>--                   </td><td>--           </td></tr>\n",
              "<tr><td><i style='opacity: 0.6'>2</i></td><td>2016-01-01</td><td>DL          </td><td style=\"text-align: right;\">               1254</td><td>LAX     </td><td>ATL   </td><td style=\"text-align: right;\">          2255</td><td style=\"text-align: right;\">      2256</td><td style=\"text-align: right;\">          1</td><td style=\"text-align: right;\">        19</td><td style=\"text-align: right;\">        2315</td><td style=\"text-align: right;\">        542</td><td style=\"text-align: right;\">        5</td><td style=\"text-align: right;\">           600</td><td style=\"text-align: right;\">       547</td><td style=\"text-align: right;\">        -13</td><td style=\"text-align: right;\">          0</td><td>                   </td><td style=\"text-align: right;\">         0</td><td style=\"text-align: right;\">               245</td><td style=\"text-align: right;\">                  231</td><td style=\"text-align: right;\">       207</td><td style=\"text-align: right;\">      1947</td><td>--             </td><td>--             </td><td>--         </td><td>--              </td><td>--                   </td><td>--           </td></tr>\n",
              "<tr><td><i style='opacity: 0.6'>3</i></td><td>2016-01-01</td><td>DL          </td><td style=\"text-align: right;\">               1255</td><td>SLC     </td><td>ATL   </td><td style=\"text-align: right;\">          1656</td><td style=\"text-align: right;\">      1700</td><td style=\"text-align: right;\">          4</td><td style=\"text-align: right;\">        12</td><td style=\"text-align: right;\">        1712</td><td style=\"text-align: right;\">       2205</td><td style=\"text-align: right;\">        8</td><td style=\"text-align: right;\">          2229</td><td style=\"text-align: right;\">      2213</td><td style=\"text-align: right;\">        -16</td><td style=\"text-align: right;\">          0</td><td>                   </td><td style=\"text-align: right;\">         0</td><td style=\"text-align: right;\">               213</td><td style=\"text-align: right;\">                  193</td><td style=\"text-align: right;\">       173</td><td style=\"text-align: right;\">      1590</td><td>--             </td><td>--             </td><td>--         </td><td>--              </td><td>--                   </td><td>--           </td></tr>\n",
              "<tr><td><i style='opacity: 0.6'>4</i></td><td>2016-01-01</td><td>DL          </td><td style=\"text-align: right;\">               1256</td><td>BZN     </td><td>MSP   </td><td style=\"text-align: right;\">           900</td><td style=\"text-align: right;\">      1012</td><td style=\"text-align: right;\">         72</td><td style=\"text-align: right;\">        63</td><td style=\"text-align: right;\">        1115</td><td style=\"text-align: right;\">       1416</td><td style=\"text-align: right;\">        4</td><td style=\"text-align: right;\">          1216</td><td style=\"text-align: right;\">      1420</td><td style=\"text-align: right;\">        124</td><td style=\"text-align: right;\">          0</td><td>                   </td><td style=\"text-align: right;\">         0</td><td style=\"text-align: right;\">               136</td><td style=\"text-align: right;\">                  188</td><td style=\"text-align: right;\">       121</td><td style=\"text-align: right;\">       874</td><td>72.0           </td><td>0.0            </td><td>52.0       </td><td>0.0             </td><td>0.0                  </td><td>--           </td></tr>\n",
              "<tr><td><i style='opacity: 0.6'>5</i></td><td>2016-01-01</td><td>DL          </td><td style=\"text-align: right;\">               1257</td><td>ATL     </td><td>BNA   </td><td style=\"text-align: right;\">          1233</td><td style=\"text-align: right;\">      1356</td><td style=\"text-align: right;\">         83</td><td style=\"text-align: right;\">        22</td><td style=\"text-align: right;\">        1418</td><td style=\"text-align: right;\">       1356</td><td style=\"text-align: right;\">        6</td><td style=\"text-align: right;\">          1239</td><td style=\"text-align: right;\">      1402</td><td style=\"text-align: right;\">         83</td><td style=\"text-align: right;\">          0</td><td>                   </td><td style=\"text-align: right;\">         0</td><td style=\"text-align: right;\">                66</td><td style=\"text-align: right;\">                   66</td><td style=\"text-align: right;\">        38</td><td style=\"text-align: right;\">       214</td><td>43.0           </td><td>0.0            </td><td>0.0        </td><td>0.0             </td><td>40.0                 </td><td>--           </td></tr>\n",
              "<tr><td><i style='opacity: 0.6'>6</i></td><td>2016-01-01</td><td>DL          </td><td style=\"text-align: right;\">               1257</td><td>BNA     </td><td>ATL   </td><td style=\"text-align: right;\">          1320</td><td style=\"text-align: right;\">      1446</td><td style=\"text-align: right;\">         86</td><td style=\"text-align: right;\">        15</td><td style=\"text-align: right;\">        1501</td><td style=\"text-align: right;\">       1638</td><td style=\"text-align: right;\">        6</td><td style=\"text-align: right;\">          1530</td><td style=\"text-align: right;\">      1644</td><td style=\"text-align: right;\">         74</td><td style=\"text-align: right;\">          0</td><td>                   </td><td style=\"text-align: right;\">         0</td><td style=\"text-align: right;\">                70</td><td style=\"text-align: right;\">                   58</td><td style=\"text-align: right;\">        37</td><td style=\"text-align: right;\">       214</td><td>3.0            </td><td>0.0            </td><td>0.0        </td><td>0.0             </td><td>71.0                 </td><td>--           </td></tr>\n",
              "<tr><td><i style='opacity: 0.6'>7</i></td><td>2016-01-01</td><td>DL          </td><td style=\"text-align: right;\">               1258</td><td>ATL     </td><td>JAX   </td><td style=\"text-align: right;\">           945</td><td style=\"text-align: right;\">       946</td><td style=\"text-align: right;\">          1</td><td style=\"text-align: right;\">        19</td><td style=\"text-align: right;\">        1005</td><td style=\"text-align: right;\">       1050</td><td style=\"text-align: right;\">        3</td><td style=\"text-align: right;\">          1050</td><td style=\"text-align: right;\">      1053</td><td style=\"text-align: right;\">          3</td><td style=\"text-align: right;\">          0</td><td>                   </td><td style=\"text-align: right;\">         0</td><td style=\"text-align: right;\">                65</td><td style=\"text-align: right;\">                   67</td><td style=\"text-align: right;\">        45</td><td style=\"text-align: right;\">       270</td><td>--             </td><td>--             </td><td>--         </td><td>--              </td><td>--                   </td><td>--           </td></tr>\n",
              "<tr><td><i style='opacity: 0.6'>8</i></td><td>2016-01-01</td><td>DL          </td><td style=\"text-align: right;\">               1258</td><td>JAX     </td><td>ATL   </td><td style=\"text-align: right;\">          1145</td><td style=\"text-align: right;\">      1144</td><td style=\"text-align: right;\">         -1</td><td style=\"text-align: right;\">        12</td><td style=\"text-align: right;\">        1156</td><td style=\"text-align: right;\">       1239</td><td style=\"text-align: right;\">        8</td><td style=\"text-align: right;\">          1302</td><td style=\"text-align: right;\">      1247</td><td style=\"text-align: right;\">        -15</td><td style=\"text-align: right;\">          0</td><td>                   </td><td style=\"text-align: right;\">         0</td><td style=\"text-align: right;\">                77</td><td style=\"text-align: right;\">                   63</td><td style=\"text-align: right;\">        43</td><td style=\"text-align: right;\">       270</td><td>--             </td><td>--             </td><td>--         </td><td>--              </td><td>--                   </td><td>--           </td></tr>\n",
              "<tr><td><i style='opacity: 0.6'>9</i></td><td>2016-01-01</td><td>DL          </td><td style=\"text-align: right;\">               1259</td><td>ATL     </td><td>OKC   </td><td style=\"text-align: right;\">          2110</td><td style=\"text-align: right;\">      2107</td><td style=\"text-align: right;\">         -3</td><td style=\"text-align: right;\">        16</td><td style=\"text-align: right;\">        2123</td><td style=\"text-align: right;\">       2219</td><td style=\"text-align: right;\">        5</td><td style=\"text-align: right;\">          2236</td><td style=\"text-align: right;\">      2224</td><td style=\"text-align: right;\">        -12</td><td style=\"text-align: right;\">          0</td><td>                   </td><td style=\"text-align: right;\">         0</td><td style=\"text-align: right;\">               146</td><td style=\"text-align: right;\">                  137</td><td style=\"text-align: right;\">       116</td><td style=\"text-align: right;\">       761</td><td>--             </td><td>--             </td><td>--         </td><td>--              </td><td>--                   </td><td>--           </td></tr>\n",
              "</tbody>\n",
              "</table>"
            ],
            "text/plain": [
              "  #  FL_DATE     OP_CARRIER      OP_CARRIER_FL_NUM  ORIGIN    DEST      CRS_DEP_TIME    DEP_TIME    DEP_DELAY    TAXI_OUT    WHEELS_OFF    WHEELS_ON    TAXI_IN    CRS_ARR_TIME    ARR_TIME    ARR_DELAY    CANCELLED  CANCELLATION_CODE      DIVERTED    CRS_ELAPSED_TIME    ACTUAL_ELAPSED_TIME    AIR_TIME    DISTANCE  CARRIER_DELAY    WEATHER_DELAY    NAS_DELAY    SECURITY_DELAY    LATE_AIRCRAFT_DELAY    Unnamed: 27\n",
              "  0  2016-01-01  DL                           1248  DTW       LAX               1935        1935            0          23          1958         2107         13            2144        2120          -24            0                                0                 309                    285         249        1979  --               --               --           --                --                     --\n",
              "  1  2016-01-01  DL                           1251  ATL       GRR               2125        2130            5          13          2143         2315          4            2321        2319           -2            0                                0                 116                    109          92         640  --               --               --           --                --                     --\n",
              "  2  2016-01-01  DL                           1254  LAX       ATL               2255        2256            1          19          2315          542          5             600         547          -13            0                                0                 245                    231         207        1947  --               --               --           --                --                     --\n",
              "  3  2016-01-01  DL                           1255  SLC       ATL               1656        1700            4          12          1712         2205          8            2229        2213          -16            0                                0                 213                    193         173        1590  --               --               --           --                --                     --\n",
              "  4  2016-01-01  DL                           1256  BZN       MSP                900        1012           72          63          1115         1416          4            1216        1420          124            0                                0                 136                    188         121         874  72.0             0.0              52.0         0.0               0.0                    --\n",
              "  5  2016-01-01  DL                           1257  ATL       BNA               1233        1356           83          22          1418         1356          6            1239        1402           83            0                                0                  66                     66          38         214  43.0             0.0              0.0          0.0               40.0                   --\n",
              "  6  2016-01-01  DL                           1257  BNA       ATL               1320        1446           86          15          1501         1638          6            1530        1644           74            0                                0                  70                     58          37         214  3.0              0.0              0.0          0.0               71.0                   --\n",
              "  7  2016-01-01  DL                           1258  ATL       JAX                945         946            1          19          1005         1050          3            1050        1053            3            0                                0                  65                     67          45         270  --               --               --           --                --                     --\n",
              "  8  2016-01-01  DL                           1258  JAX       ATL               1145        1144           -1          12          1156         1239          8            1302        1247          -15            0                                0                  77                     63          43         270  --               --               --           --                --                     --\n",
              "  9  2016-01-01  DL                           1259  ATL       OKC               2110        2107           -3          16          2123         2219          5            2236        2224          -12            0                                0                 146                    137         116         761  --               --               --           --                --                     --"
            ]
          },
          "metadata": {},
          "execution_count": 18
        }
      ]
    },
    {
      "cell_type": "markdown",
      "source": [
        "**Reading The Dataset into a Dataframe:** Using *PySpark Library*\n",
        "\n",
        "\n",
        "*   Read all 3 files\n",
        "*   Combine/Merge the dataframe into a single dataframe\n",
        "\n"
      ],
      "metadata": {
        "id": "ofO1MBm6uWZI"
      }
    },
    {
      "cell_type": "code",
      "source": [
        "df_1 = spark.read.csv(\"2016.csv\", inferSchema=True, header=True)\n",
        "df_1.show(10)"
      ],
      "metadata": {
        "colab": {
          "base_uri": "https://localhost:8080/"
        },
        "id": "MvjxPZc20FEo",
        "outputId": "ea137bc0-0d41-4d96-fb07-25434a005bb9"
      },
      "execution_count": null,
      "outputs": [
        {
          "output_type": "stream",
          "name": "stdout",
          "text": [
            "+-------------------+----------+-----------------+------+----+------------+--------+---------+--------+----------+---------+-------+------------+--------+---------+---------+-----------------+--------+----------------+-------------------+--------+--------+-------------+-------------+---------+--------------+-------------------+-----------+\n",
            "|            FL_DATE|OP_CARRIER|OP_CARRIER_FL_NUM|ORIGIN|DEST|CRS_DEP_TIME|DEP_TIME|DEP_DELAY|TAXI_OUT|WHEELS_OFF|WHEELS_ON|TAXI_IN|CRS_ARR_TIME|ARR_TIME|ARR_DELAY|CANCELLED|CANCELLATION_CODE|DIVERTED|CRS_ELAPSED_TIME|ACTUAL_ELAPSED_TIME|AIR_TIME|DISTANCE|CARRIER_DELAY|WEATHER_DELAY|NAS_DELAY|SECURITY_DELAY|LATE_AIRCRAFT_DELAY|Unnamed: 27|\n",
            "+-------------------+----------+-----------------+------+----+------------+--------+---------+--------+----------+---------+-------+------------+--------+---------+---------+-----------------+--------+----------------+-------------------+--------+--------+-------------+-------------+---------+--------------+-------------------+-----------+\n",
            "|2016-01-01 00:00:00|        DL|             1248|   DTW| LAX|        1935|  1935.0|      0.0|    23.0|    1958.0|   2107.0|   13.0|        2144|  2120.0|    -24.0|      0.0|             null|     0.0|           309.0|              285.0|   249.0|  1979.0|         null|         null|     null|          null|               null|       null|\n",
            "|2016-01-01 00:00:00|        DL|             1251|   ATL| GRR|        2125|  2130.0|      5.0|    13.0|    2143.0|   2315.0|    4.0|        2321|  2319.0|     -2.0|      0.0|             null|     0.0|           116.0|              109.0|    92.0|   640.0|         null|         null|     null|          null|               null|       null|\n",
            "|2016-01-01 00:00:00|        DL|             1254|   LAX| ATL|        2255|  2256.0|      1.0|    19.0|    2315.0|    542.0|    5.0|         600|   547.0|    -13.0|      0.0|             null|     0.0|           245.0|              231.0|   207.0|  1947.0|         null|         null|     null|          null|               null|       null|\n",
            "|2016-01-01 00:00:00|        DL|             1255|   SLC| ATL|        1656|  1700.0|      4.0|    12.0|    1712.0|   2205.0|    8.0|        2229|  2213.0|    -16.0|      0.0|             null|     0.0|           213.0|              193.0|   173.0|  1590.0|         null|         null|     null|          null|               null|       null|\n",
            "|2016-01-01 00:00:00|        DL|             1256|   BZN| MSP|         900|  1012.0|     72.0|    63.0|    1115.0|   1416.0|    4.0|        1216|  1420.0|    124.0|      0.0|             null|     0.0|           136.0|              188.0|   121.0|   874.0|         72.0|          0.0|     52.0|           0.0|                0.0|       null|\n",
            "|2016-01-01 00:00:00|        DL|             1257|   ATL| BNA|        1233|  1356.0|     83.0|    22.0|    1418.0|   1356.0|    6.0|        1239|  1402.0|     83.0|      0.0|             null|     0.0|            66.0|               66.0|    38.0|   214.0|         43.0|          0.0|      0.0|           0.0|               40.0|       null|\n",
            "|2016-01-01 00:00:00|        DL|             1257|   BNA| ATL|        1320|  1446.0|     86.0|    15.0|    1501.0|   1638.0|    6.0|        1530|  1644.0|     74.0|      0.0|             null|     0.0|            70.0|               58.0|    37.0|   214.0|          3.0|          0.0|      0.0|           0.0|               71.0|       null|\n",
            "|2016-01-01 00:00:00|        DL|             1258|   ATL| JAX|         945|   946.0|      1.0|    19.0|    1005.0|   1050.0|    3.0|        1050|  1053.0|      3.0|      0.0|             null|     0.0|            65.0|               67.0|    45.0|   270.0|         null|         null|     null|          null|               null|       null|\n",
            "|2016-01-01 00:00:00|        DL|             1258|   JAX| ATL|        1145|  1144.0|     -1.0|    12.0|    1156.0|   1239.0|    8.0|        1302|  1247.0|    -15.0|      0.0|             null|     0.0|            77.0|               63.0|    43.0|   270.0|         null|         null|     null|          null|               null|       null|\n",
            "|2016-01-01 00:00:00|        DL|             1259|   ATL| OKC|        2110|  2107.0|     -3.0|    16.0|    2123.0|   2219.0|    5.0|        2236|  2224.0|    -12.0|      0.0|             null|     0.0|           146.0|              137.0|   116.0|   761.0|         null|         null|     null|          null|               null|       null|\n",
            "+-------------------+----------+-----------------+------+----+------------+--------+---------+--------+----------+---------+-------+------------+--------+---------+---------+-----------------+--------+----------------+-------------------+--------+--------+-------------+-------------+---------+--------------+-------------------+-----------+\n",
            "only showing top 10 rows\n",
            "\n"
          ]
        }
      ]
    },
    {
      "cell_type": "code",
      "source": [
        "df_2 = spark.read.csv(\"2017.csv\", inferSchema=True, header=True)\n",
        "df_2.show(10)"
      ],
      "metadata": {
        "colab": {
          "base_uri": "https://localhost:8080/"
        },
        "id": "gAhgTCSL0bhr",
        "outputId": "bd6fa24c-cf90-47cb-f7db-550230b2bab8"
      },
      "execution_count": null,
      "outputs": [
        {
          "output_type": "stream",
          "name": "stdout",
          "text": [
            "+-------------------+----------+-----------------+------+----+------------+--------+---------+--------+----------+---------+-------+------------+--------+---------+---------+-----------------+--------+----------------+-------------------+--------+--------+-------------+-------------+---------+--------------+-------------------+-----------+\n",
            "|            FL_DATE|OP_CARRIER|OP_CARRIER_FL_NUM|ORIGIN|DEST|CRS_DEP_TIME|DEP_TIME|DEP_DELAY|TAXI_OUT|WHEELS_OFF|WHEELS_ON|TAXI_IN|CRS_ARR_TIME|ARR_TIME|ARR_DELAY|CANCELLED|CANCELLATION_CODE|DIVERTED|CRS_ELAPSED_TIME|ACTUAL_ELAPSED_TIME|AIR_TIME|DISTANCE|CARRIER_DELAY|WEATHER_DELAY|NAS_DELAY|SECURITY_DELAY|LATE_AIRCRAFT_DELAY|Unnamed: 27|\n",
            "+-------------------+----------+-----------------+------+----+------------+--------+---------+--------+----------+---------+-------+------------+--------+---------+---------+-----------------+--------+----------------+-------------------+--------+--------+-------------+-------------+---------+--------------+-------------------+-----------+\n",
            "|2017-01-01 00:00:00|        AA|                1|   JFK| LAX|         800|   831.0|     31.0|    25.0|     856.0|   1143.0|   26.0|        1142|  1209.0|     27.0|      0.0|             null|     0.0|           402.0|              398.0|   347.0|  2475.0|         27.0|          0.0|      0.0|           0.0|                0.0|       null|\n",
            "|2017-01-01 00:00:00|        AA|                2|   LAX| JFK|         900|   934.0|     34.0|    34.0|    1008.0|   1757.0|   12.0|        1727|  1809.0|     42.0|      0.0|             null|     0.0|           327.0|              335.0|   289.0|  2475.0|         34.0|          0.0|      8.0|           0.0|                0.0|       null|\n",
            "|2017-01-01 00:00:00|        AA|                4|   LAX| JFK|        1130|  1221.0|     51.0|    20.0|    1241.0|   2025.0|   15.0|        1958|  2040.0|     42.0|      0.0|             null|     0.0|           328.0|              319.0|   284.0|  2475.0|          7.0|          0.0|      0.0|           0.0|               35.0|       null|\n",
            "|2017-01-01 00:00:00|        AA|                5|   DFW| HNL|        1135|  1252.0|     77.0|    19.0|    1311.0|   1744.0|    5.0|        1612|  1749.0|     97.0|      0.0|             null|     0.0|           517.0|              537.0|   513.0|  3784.0|         77.0|          0.0|     20.0|           0.0|                0.0|       null|\n",
            "|2017-01-01 00:00:00|        AA|                6|   OGG| DFW|        1855|  1855.0|      0.0|    16.0|    1911.0|    631.0|   11.0|         600|   642.0|     42.0|      0.0|             null|     0.0|           425.0|              467.0|   440.0|  3711.0|          0.0|          0.0|     42.0|           0.0|                0.0|       null|\n",
            "|2017-01-01 00:00:00|        AA|                7|   DFW| OGG|         940|  1619.0|    399.0|    12.0|    1631.0|   2031.0|    6.0|        1403|  2037.0|    394.0|      0.0|             null|     0.0|           503.0|              498.0|   480.0|  3711.0|        394.0|          0.0|      0.0|           0.0|                0.0|       null|\n",
            "|2017-01-01 00:00:00|        AA|                8|   HNL| DFW|        1838|  1903.0|     25.0|    19.0|    1922.0|    636.0|   12.0|         550|   648.0|     58.0|      0.0|             null|     0.0|           432.0|              465.0|   434.0|  3784.0|         25.0|          0.0|     33.0|           0.0|                0.0|       null|\n",
            "|2017-01-01 00:00:00|        AA|                9|   JFK| SFO|         700|   656.0|     -4.0|    22.0|     718.0|   1020.0|    3.0|        1045|  1023.0|    -22.0|      0.0|             null|     0.0|           405.0|              387.0|   362.0|  2586.0|         null|         null|     null|          null|               null|       null|\n",
            "|2017-01-01 00:00:00|        AA|               10|   LAX| JFK|        2100|  2100.0|      0.0|    15.0|    2115.0|    447.0|   10.0|         527|   457.0|    -30.0|      0.0|             null|     0.0|           327.0|              297.0|   272.0|  2475.0|         null|         null|     null|          null|               null|       null|\n",
            "|2017-01-01 00:00:00|        AA|               12|   SFO| JFK|        1135|  1130.0|     -5.0|    27.0|    1157.0|   1937.0|   17.0|        2018|  1954.0|    -24.0|      0.0|             null|     0.0|           343.0|              324.0|   280.0|  2586.0|         null|         null|     null|          null|               null|       null|\n",
            "+-------------------+----------+-----------------+------+----+------------+--------+---------+--------+----------+---------+-------+------------+--------+---------+---------+-----------------+--------+----------------+-------------------+--------+--------+-------------+-------------+---------+--------------+-------------------+-----------+\n",
            "only showing top 10 rows\n",
            "\n"
          ]
        }
      ]
    },
    {
      "cell_type": "code",
      "source": [
        "df_3 = spark.read.csv(\"2018.csv\", inferSchema=True, header=True)\n",
        "df_3.show(10)"
      ],
      "metadata": {
        "colab": {
          "base_uri": "https://localhost:8080/"
        },
        "id": "d6-8rVP94Ie9",
        "outputId": "7be00e76-ebda-472b-dbcc-6b8cc834f974"
      },
      "execution_count": null,
      "outputs": [
        {
          "output_type": "stream",
          "name": "stdout",
          "text": [
            "+-------------------+----------+-----------------+------+----+------------+--------+---------+--------+----------+---------+-------+------------+--------+---------+---------+-----------------+--------+----------------+-------------------+--------+--------+-------------+-------------+---------+--------------+-------------------+-----------+\n",
            "|            FL_DATE|OP_CARRIER|OP_CARRIER_FL_NUM|ORIGIN|DEST|CRS_DEP_TIME|DEP_TIME|DEP_DELAY|TAXI_OUT|WHEELS_OFF|WHEELS_ON|TAXI_IN|CRS_ARR_TIME|ARR_TIME|ARR_DELAY|CANCELLED|CANCELLATION_CODE|DIVERTED|CRS_ELAPSED_TIME|ACTUAL_ELAPSED_TIME|AIR_TIME|DISTANCE|CARRIER_DELAY|WEATHER_DELAY|NAS_DELAY|SECURITY_DELAY|LATE_AIRCRAFT_DELAY|Unnamed: 27|\n",
            "+-------------------+----------+-----------------+------+----+------------+--------+---------+--------+----------+---------+-------+------------+--------+---------+---------+-----------------+--------+----------------+-------------------+--------+--------+-------------+-------------+---------+--------------+-------------------+-----------+\n",
            "|2018-01-01 00:00:00|        UA|             2429|   EWR| DEN|        1517|  1512.0|     -5.0|    15.0|    1527.0|   1712.0|   10.0|        1745|  1722.0|    -23.0|      0.0|             null|     0.0|           268.0|              250.0|   225.0|  1605.0|         null|         null|     null|          null|               null|       null|\n",
            "|2018-01-01 00:00:00|        UA|             2427|   LAS| SFO|        1115|  1107.0|     -8.0|    11.0|    1118.0|   1223.0|    7.0|        1254|  1230.0|    -24.0|      0.0|             null|     0.0|            99.0|               83.0|    65.0|   414.0|         null|         null|     null|          null|               null|       null|\n",
            "|2018-01-01 00:00:00|        UA|             2426|   SNA| DEN|        1335|  1330.0|     -5.0|    15.0|    1345.0|   1631.0|    5.0|        1649|  1636.0|    -13.0|      0.0|             null|     0.0|           134.0|              126.0|   106.0|   846.0|         null|         null|     null|          null|               null|       null|\n",
            "|2018-01-01 00:00:00|        UA|             2425|   RSW| ORD|        1546|  1552.0|      6.0|    19.0|    1611.0|   1748.0|    6.0|        1756|  1754.0|     -2.0|      0.0|             null|     0.0|           190.0|              182.0|   157.0|  1120.0|         null|         null|     null|          null|               null|       null|\n",
            "|2018-01-01 00:00:00|        UA|             2424|   ORD| ALB|         630|   650.0|     20.0|    13.0|     703.0|    926.0|   10.0|         922|   936.0|     14.0|      0.0|             null|     0.0|           112.0|              106.0|    83.0|   723.0|         null|         null|     null|          null|               null|       null|\n",
            "|2018-01-01 00:00:00|        UA|             2422|   ORD| OMA|        2241|  2244.0|      3.0|    15.0|    2259.0|      1.0|    2.0|          14|     3.0|    -11.0|      0.0|             null|     0.0|            93.0|               79.0|    62.0|   416.0|         null|         null|     null|          null|               null|       null|\n",
            "|2018-01-01 00:00:00|        UA|             2421|   IAH| LAS|         750|   747.0|     -3.0|    14.0|     801.0|    854.0|    6.0|         916|   900.0|    -16.0|      0.0|             null|     0.0|           206.0|              193.0|   173.0|  1222.0|         null|         null|     null|          null|               null|       null|\n",
            "|2018-01-01 00:00:00|        UA|             2420|   DEN| CID|        1324|  1318.0|     -6.0|    11.0|    1329.0|   1554.0|    6.0|        1619|  1600.0|    -19.0|      0.0|             null|     0.0|           115.0|              102.0|    85.0|   692.0|         null|         null|     null|          null|               null|       null|\n",
            "|2018-01-01 00:00:00|        UA|             2419|   SMF| EWR|        2224|  2237.0|     13.0|    10.0|    2247.0|    627.0|    9.0|         638|   636.0|     -2.0|      0.0|             null|     0.0|           314.0|              299.0|   280.0|  2500.0|         null|         null|     null|          null|               null|       null|\n",
            "|2018-01-01 00:00:00|        UA|             2418|   RIC| DEN|        1601|  1559.0|     -2.0|    12.0|    1611.0|   1748.0|    8.0|        1813|  1756.0|    -17.0|      0.0|             null|     0.0|           252.0|              237.0|   217.0|  1482.0|         null|         null|     null|          null|               null|       null|\n",
            "+-------------------+----------+-----------------+------+----+------------+--------+---------+--------+----------+---------+-------+------------+--------+---------+---------+-----------------+--------+----------------+-------------------+--------+--------+-------------+-------------+---------+--------------+-------------------+-----------+\n",
            "only showing top 10 rows\n",
            "\n"
          ]
        }
      ]
    },
    {
      "cell_type": "code",
      "source": [
        "# Perform union\n",
        "pdf = df_1.union(df_2)\n",
        "pdf = pdf.union(df_3)\n",
        "pdf.show()"
      ],
      "metadata": {
        "colab": {
          "base_uri": "https://localhost:8080/"
        },
        "id": "600ktk-a4Lbn",
        "outputId": "832bb363-16dd-492e-dbef-a5fe199127dc"
      },
      "execution_count": null,
      "outputs": [
        {
          "output_type": "stream",
          "name": "stdout",
          "text": [
            "+-------------------+----------+-----------------+------+----+------------+--------+---------+--------+----------+---------+-------+------------+--------+---------+---------+-----------------+--------+----------------+-------------------+--------+--------+-------------+-------------+---------+--------------+-------------------+-----------+\n",
            "|            FL_DATE|OP_CARRIER|OP_CARRIER_FL_NUM|ORIGIN|DEST|CRS_DEP_TIME|DEP_TIME|DEP_DELAY|TAXI_OUT|WHEELS_OFF|WHEELS_ON|TAXI_IN|CRS_ARR_TIME|ARR_TIME|ARR_DELAY|CANCELLED|CANCELLATION_CODE|DIVERTED|CRS_ELAPSED_TIME|ACTUAL_ELAPSED_TIME|AIR_TIME|DISTANCE|CARRIER_DELAY|WEATHER_DELAY|NAS_DELAY|SECURITY_DELAY|LATE_AIRCRAFT_DELAY|Unnamed: 27|\n",
            "+-------------------+----------+-----------------+------+----+------------+--------+---------+--------+----------+---------+-------+------------+--------+---------+---------+-----------------+--------+----------------+-------------------+--------+--------+-------------+-------------+---------+--------------+-------------------+-----------+\n",
            "|2016-01-01 00:00:00|        DL|             1248|   DTW| LAX|        1935|  1935.0|      0.0|    23.0|    1958.0|   2107.0|   13.0|        2144|  2120.0|    -24.0|      0.0|             null|     0.0|           309.0|              285.0|   249.0|  1979.0|         null|         null|     null|          null|               null|       null|\n",
            "|2016-01-01 00:00:00|        DL|             1251|   ATL| GRR|        2125|  2130.0|      5.0|    13.0|    2143.0|   2315.0|    4.0|        2321|  2319.0|     -2.0|      0.0|             null|     0.0|           116.0|              109.0|    92.0|   640.0|         null|         null|     null|          null|               null|       null|\n",
            "|2016-01-01 00:00:00|        DL|             1254|   LAX| ATL|        2255|  2256.0|      1.0|    19.0|    2315.0|    542.0|    5.0|         600|   547.0|    -13.0|      0.0|             null|     0.0|           245.0|              231.0|   207.0|  1947.0|         null|         null|     null|          null|               null|       null|\n",
            "|2016-01-01 00:00:00|        DL|             1255|   SLC| ATL|        1656|  1700.0|      4.0|    12.0|    1712.0|   2205.0|    8.0|        2229|  2213.0|    -16.0|      0.0|             null|     0.0|           213.0|              193.0|   173.0|  1590.0|         null|         null|     null|          null|               null|       null|\n",
            "|2016-01-01 00:00:00|        DL|             1256|   BZN| MSP|         900|  1012.0|     72.0|    63.0|    1115.0|   1416.0|    4.0|        1216|  1420.0|    124.0|      0.0|             null|     0.0|           136.0|              188.0|   121.0|   874.0|         72.0|          0.0|     52.0|           0.0|                0.0|       null|\n",
            "|2016-01-01 00:00:00|        DL|             1257|   ATL| BNA|        1233|  1356.0|     83.0|    22.0|    1418.0|   1356.0|    6.0|        1239|  1402.0|     83.0|      0.0|             null|     0.0|            66.0|               66.0|    38.0|   214.0|         43.0|          0.0|      0.0|           0.0|               40.0|       null|\n",
            "|2016-01-01 00:00:00|        DL|             1257|   BNA| ATL|        1320|  1446.0|     86.0|    15.0|    1501.0|   1638.0|    6.0|        1530|  1644.0|     74.0|      0.0|             null|     0.0|            70.0|               58.0|    37.0|   214.0|          3.0|          0.0|      0.0|           0.0|               71.0|       null|\n",
            "|2016-01-01 00:00:00|        DL|             1258|   ATL| JAX|         945|   946.0|      1.0|    19.0|    1005.0|   1050.0|    3.0|        1050|  1053.0|      3.0|      0.0|             null|     0.0|            65.0|               67.0|    45.0|   270.0|         null|         null|     null|          null|               null|       null|\n",
            "|2016-01-01 00:00:00|        DL|             1258|   JAX| ATL|        1145|  1144.0|     -1.0|    12.0|    1156.0|   1239.0|    8.0|        1302|  1247.0|    -15.0|      0.0|             null|     0.0|            77.0|               63.0|    43.0|   270.0|         null|         null|     null|          null|               null|       null|\n",
            "|2016-01-01 00:00:00|        DL|             1259|   ATL| OKC|        2110|  2107.0|     -3.0|    16.0|    2123.0|   2219.0|    5.0|        2236|  2224.0|    -12.0|      0.0|             null|     0.0|           146.0|              137.0|   116.0|   761.0|         null|         null|     null|          null|               null|       null|\n",
            "|2016-01-01 00:00:00|        DL|             1260|   MSP| SMF|        1115|  1113.0|     -2.0|    12.0|    1125.0|   1232.0|    4.0|        1309|  1236.0|    -33.0|      0.0|             null|     0.0|           234.0|              203.0|   187.0|  1517.0|         null|         null|     null|          null|               null|       null|\n",
            "|2016-01-01 00:00:00|        DL|             1262|   LAX| JFK|        2255|  2248.0|     -7.0|    23.0|    2311.0|    650.0|   11.0|         715|   701.0|    -14.0|      0.0|             null|     0.0|           320.0|              313.0|   279.0|  2475.0|         null|         null|     null|          null|               null|       null|\n",
            "|2016-01-01 00:00:00|        DL|             1263|   ATL| MDT|        1510|  1509.0|     -1.0|    17.0|    1526.0|   1646.0|    5.0|        1702|  1651.0|    -11.0|      0.0|             null|     0.0|           112.0|              102.0|    80.0|   620.0|         null|         null|     null|          null|               null|       null|\n",
            "|2016-01-01 00:00:00|        DL|             1263|   MDT| ATL|        1737|  1727.0|    -10.0|    11.0|    1738.0|   1923.0|   11.0|        1949|  1934.0|    -15.0|      0.0|             null|     0.0|           132.0|              127.0|   105.0|   620.0|         null|         null|     null|          null|               null|       null|\n",
            "|2016-01-01 00:00:00|        DL|             1264|   SLC| JFK|        2345|  2341.0|     -4.0|    25.0|       6.0|    602.0|   11.0|         607|   613.0|      6.0|      0.0|             null|     0.0|           262.0|              272.0|   236.0|  1990.0|         null|         null|     null|          null|               null|       null|\n",
            "|2016-01-01 00:00:00|        DL|             1265|   SAV| ATL|        1408|  1403.0|     -5.0|    15.0|    1418.0|   1459.0|    6.0|        1523|  1505.0|    -18.0|      0.0|             null|     0.0|            75.0|               62.0|    41.0|   214.0|         null|         null|     null|          null|               null|       null|\n",
            "|2016-01-01 00:00:00|        DL|             1266|   BUF| ATL|         615|   612.0|     -3.0|    38.0|     650.0|    844.0|    5.0|         843|   849.0|      6.0|      0.0|             null|     0.0|           148.0|              157.0|   114.0|   712.0|         null|         null|     null|          null|               null|       null|\n",
            "|2016-01-01 00:00:00|        DL|             1269|   LGA| MIA|        1100|  1100.0|      0.0|    15.0|    1115.0|   1402.0|    4.0|        1432|  1406.0|    -26.0|      0.0|             null|     0.0|           212.0|              186.0|   167.0|  1096.0|         null|         null|     null|          null|               null|       null|\n",
            "|2016-01-01 00:00:00|        DL|             1270|   ATL| PNS|        1340|  1337.0|     -3.0|    11.0|    1348.0|   1339.0|    3.0|        1352|  1342.0|    -10.0|      0.0|             null|     0.0|            72.0|               65.0|    51.0|   271.0|         null|         null|     null|          null|               null|       null|\n",
            "|2016-01-01 00:00:00|        DL|             1270|   PNS| ATL|        1435|  1431.0|     -4.0|    10.0|    1441.0|   1622.0|    6.0|        1648|  1628.0|    -20.0|      0.0|             null|     0.0|            73.0|               57.0|    41.0|   271.0|         null|         null|     null|          null|               null|       null|\n",
            "+-------------------+----------+-----------------+------+----+------------+--------+---------+--------+----------+---------+-------+------------+--------+---------+---------+-----------------+--------+----------------+-------------------+--------+--------+-------------+-------------+---------+--------------+-------------------+-----------+\n",
            "only showing top 20 rows\n",
            "\n"
          ]
        }
      ]
    },
    {
      "cell_type": "markdown",
      "source": [
        "# Performing Data Preparation & Data Cleaning"
      ],
      "metadata": {
        "id": "gku3PXZH6VOh"
      }
    },
    {
      "cell_type": "markdown",
      "source": [
        "**Getting Dataframe Information**"
      ],
      "metadata": {
        "id": "JdR0zBQ4rvxY"
      }
    },
    {
      "cell_type": "code",
      "source": [
        "#Koalas df\n",
        "%time\n",
        "kdf.dtypes"
      ],
      "metadata": {
        "colab": {
          "base_uri": "https://localhost:8080/"
        },
        "id": "x_10igWn6VE9",
        "outputId": "489823d5-e503-4f4d-b6c8-019a85d2e095"
      },
      "execution_count": null,
      "outputs": [
        {
          "output_type": "stream",
          "name": "stdout",
          "text": [
            "CPU times: user 4 µs, sys: 1e+03 ns, total: 5 µs\n",
            "Wall time: 8.34 µs\n"
          ]
        },
        {
          "output_type": "execute_result",
          "data": {
            "text/plain": [
              "FL_DATE                datetime64[ns]\n",
              "OP_CARRIER                     object\n",
              "OP_CARRIER_FL_NUM               int32\n",
              "ORIGIN                         object\n",
              "DEST                           object\n",
              "CRS_DEP_TIME                    int32\n",
              "DEP_TIME                      float64\n",
              "DEP_DELAY                     float64\n",
              "TAXI_OUT                      float64\n",
              "WHEELS_OFF                    float64\n",
              "WHEELS_ON                     float64\n",
              "TAXI_IN                       float64\n",
              "CRS_ARR_TIME                    int32\n",
              "ARR_TIME                      float64\n",
              "ARR_DELAY                     float64\n",
              "CANCELLED                     float64\n",
              "CANCELLATION_CODE              object\n",
              "DIVERTED                      float64\n",
              "CRS_ELAPSED_TIME              float64\n",
              "ACTUAL_ELAPSED_TIME           float64\n",
              "AIR_TIME                      float64\n",
              "DISTANCE                      float64\n",
              "CARRIER_DELAY                 float64\n",
              "WEATHER_DELAY                 float64\n",
              "NAS_DELAY                     float64\n",
              "SECURITY_DELAY                float64\n",
              "LATE_AIRCRAFT_DELAY           float64\n",
              "Unnamed: 27                    object\n",
              "dtype: object"
            ]
          },
          "metadata": {},
          "execution_count": 24
        }
      ]
    },
    {
      "cell_type": "code",
      "source": [
        "#Vaex df\n",
        "%time\n",
        "vdf.dtypes"
      ],
      "metadata": {
        "colab": {
          "base_uri": "https://localhost:8080/"
        },
        "id": "1r6NufEH6m-H",
        "outputId": "148dceee-499b-48f7-b6a1-5fea256b932d"
      },
      "execution_count": null,
      "outputs": [
        {
          "output_type": "stream",
          "name": "stdout",
          "text": [
            "CPU times: user 3 µs, sys: 0 ns, total: 3 µs\n",
            "Wall time: 7.63 µs\n"
          ]
        },
        {
          "output_type": "execute_result",
          "data": {
            "text/plain": [
              "FL_DATE                date32[day]\n",
              "OP_CARRIER                  string\n",
              "OP_CARRIER_FL_NUM            int64\n",
              "ORIGIN                      string\n",
              "DEST                        string\n",
              "CRS_DEP_TIME                 int64\n",
              "DEP_TIME                   float64\n",
              "DEP_DELAY                  float64\n",
              "TAXI_OUT                   float64\n",
              "WHEELS_OFF                 float64\n",
              "WHEELS_ON                  float64\n",
              "TAXI_IN                    float64\n",
              "CRS_ARR_TIME                 int64\n",
              "ARR_TIME                   float64\n",
              "ARR_DELAY                  float64\n",
              "CANCELLED                  float64\n",
              "CANCELLATION_CODE           string\n",
              "DIVERTED                   float64\n",
              "CRS_ELAPSED_TIME           float64\n",
              "ACTUAL_ELAPSED_TIME        float64\n",
              "AIR_TIME                   float64\n",
              "DISTANCE                   float64\n",
              "CARRIER_DELAY              float64\n",
              "WEATHER_DELAY              float64\n",
              "NAS_DELAY                  float64\n",
              "SECURITY_DELAY             float64\n",
              "LATE_AIRCRAFT_DELAY        float64\n",
              "Unnamed: 27                   int8\n",
              "dtype: object"
            ]
          },
          "metadata": {},
          "execution_count": 25
        }
      ]
    },
    {
      "cell_type": "code",
      "source": [
        "#Pyspark df\n",
        "%time\n",
        "pdf.dtypes"
      ],
      "metadata": {
        "colab": {
          "base_uri": "https://localhost:8080/"
        },
        "id": "JeJC_aftswDb",
        "outputId": "f3be5704-f46b-4fc7-c919-d19f9fdfffd4"
      },
      "execution_count": null,
      "outputs": [
        {
          "output_type": "stream",
          "name": "stdout",
          "text": [
            "CPU times: user 3 µs, sys: 0 ns, total: 3 µs\n",
            "Wall time: 7.39 µs\n"
          ]
        },
        {
          "output_type": "execute_result",
          "data": {
            "text/plain": [
              "[('FL_DATE', 'timestamp'),\n",
              " ('OP_CARRIER', 'string'),\n",
              " ('OP_CARRIER_FL_NUM', 'int'),\n",
              " ('ORIGIN', 'string'),\n",
              " ('DEST', 'string'),\n",
              " ('CRS_DEP_TIME', 'int'),\n",
              " ('DEP_TIME', 'double'),\n",
              " ('DEP_DELAY', 'double'),\n",
              " ('TAXI_OUT', 'double'),\n",
              " ('WHEELS_OFF', 'double'),\n",
              " ('WHEELS_ON', 'double'),\n",
              " ('TAXI_IN', 'double'),\n",
              " ('CRS_ARR_TIME', 'int'),\n",
              " ('ARR_TIME', 'double'),\n",
              " ('ARR_DELAY', 'double'),\n",
              " ('CANCELLED', 'double'),\n",
              " ('CANCELLATION_CODE', 'string'),\n",
              " ('DIVERTED', 'double'),\n",
              " ('CRS_ELAPSED_TIME', 'double'),\n",
              " ('ACTUAL_ELAPSED_TIME', 'double'),\n",
              " ('AIR_TIME', 'double'),\n",
              " ('DISTANCE', 'double'),\n",
              " ('CARRIER_DELAY', 'double'),\n",
              " ('WEATHER_DELAY', 'double'),\n",
              " ('NAS_DELAY', 'double'),\n",
              " ('SECURITY_DELAY', 'double'),\n",
              " ('LATE_AIRCRAFT_DELAY', 'double'),\n",
              " ('Unnamed: 27', 'string')]"
            ]
          },
          "metadata": {},
          "execution_count": 26
        }
      ]
    },
    {
      "cell_type": "markdown",
      "source": [
        "**Dataframe Shape**"
      ],
      "metadata": {
        "id": "6OonQ8XW3S0C"
      }
    },
    {
      "cell_type": "code",
      "source": [
        "#Koalas\n",
        "%time\n",
        "kdf.shape"
      ],
      "metadata": {
        "colab": {
          "base_uri": "https://localhost:8080/"
        },
        "id": "nkyh4OS904qK",
        "outputId": "55fd2750-14d1-47c8-c905-29c3eeab09b4"
      },
      "execution_count": null,
      "outputs": [
        {
          "output_type": "stream",
          "name": "stdout",
          "text": [
            "CPU times: user 4 µs, sys: 1e+03 ns, total: 5 µs\n",
            "Wall time: 7.63 µs\n"
          ]
        },
        {
          "output_type": "execute_result",
          "data": {
            "text/plain": [
              "(18505725, 28)"
            ]
          },
          "metadata": {},
          "execution_count": 27
        }
      ]
    },
    {
      "cell_type": "code",
      "source": [
        "#Vaex\n",
        "%time\n",
        "vdf.shape"
      ],
      "metadata": {
        "colab": {
          "base_uri": "https://localhost:8080/"
        },
        "id": "vUkFYpzi1mdr",
        "outputId": "e56ea4d1-a5b2-4b9e-db39-9c136bac81f0"
      },
      "execution_count": null,
      "outputs": [
        {
          "output_type": "stream",
          "name": "stdout",
          "text": [
            "CPU times: user 4 µs, sys: 0 ns, total: 4 µs\n",
            "Wall time: 7.87 µs\n"
          ]
        },
        {
          "output_type": "execute_result",
          "data": {
            "text/plain": [
              "(18505725, 28)"
            ]
          },
          "metadata": {},
          "execution_count": 28
        }
      ]
    },
    {
      "cell_type": "code",
      "source": [
        "#PySpark\n",
        "%time\n",
        "print(\"Number of rows:\", pdf.count())\n",
        "pdf.printSchema()"
      ],
      "metadata": {
        "colab": {
          "base_uri": "https://localhost:8080/"
        },
        "id": "oWsywuht2NEC",
        "outputId": "5e42a5e6-c247-42c8-9e7a-0cacbd76ac7b"
      },
      "execution_count": null,
      "outputs": [
        {
          "output_type": "stream",
          "name": "stdout",
          "text": [
            "CPU times: user 4 µs, sys: 0 ns, total: 4 µs\n",
            "Wall time: 7.87 µs\n",
            "Number of rows: 18505725\n",
            "root\n",
            " |-- FL_DATE: timestamp (nullable = true)\n",
            " |-- OP_CARRIER: string (nullable = true)\n",
            " |-- OP_CARRIER_FL_NUM: integer (nullable = true)\n",
            " |-- ORIGIN: string (nullable = true)\n",
            " |-- DEST: string (nullable = true)\n",
            " |-- CRS_DEP_TIME: integer (nullable = true)\n",
            " |-- DEP_TIME: double (nullable = true)\n",
            " |-- DEP_DELAY: double (nullable = true)\n",
            " |-- TAXI_OUT: double (nullable = true)\n",
            " |-- WHEELS_OFF: double (nullable = true)\n",
            " |-- WHEELS_ON: double (nullable = true)\n",
            " |-- TAXI_IN: double (nullable = true)\n",
            " |-- CRS_ARR_TIME: integer (nullable = true)\n",
            " |-- ARR_TIME: double (nullable = true)\n",
            " |-- ARR_DELAY: double (nullable = true)\n",
            " |-- CANCELLED: double (nullable = true)\n",
            " |-- CANCELLATION_CODE: string (nullable = true)\n",
            " |-- DIVERTED: double (nullable = true)\n",
            " |-- CRS_ELAPSED_TIME: double (nullable = true)\n",
            " |-- ACTUAL_ELAPSED_TIME: double (nullable = true)\n",
            " |-- AIR_TIME: double (nullable = true)\n",
            " |-- DISTANCE: double (nullable = true)\n",
            " |-- CARRIER_DELAY: double (nullable = true)\n",
            " |-- WEATHER_DELAY: double (nullable = true)\n",
            " |-- NAS_DELAY: double (nullable = true)\n",
            " |-- SECURITY_DELAY: double (nullable = true)\n",
            " |-- LATE_AIRCRAFT_DELAY: double (nullable = true)\n",
            " |-- Unnamed: 27: string (nullable = true)\n",
            "\n"
          ]
        }
      ]
    },
    {
      "cell_type": "markdown",
      "source": [
        "**Data Cleaning (Dropping Columns, Null Values, Coverting Datatype)**"
      ],
      "metadata": {
        "id": "pupVaTP6BFvh"
      }
    },
    {
      "cell_type": "markdown",
      "source": [
        "###Koalas"
      ],
      "metadata": {
        "id": "s8w8Eg7Ttf4a"
      }
    },
    {
      "cell_type": "code",
      "source": [
        "#Koalas (Dropping Unused Column)\n",
        "kdf = kdf.drop(columns=['CANCELLED', 'CANCELLATION_CODE', 'DIVERTED', 'CARRIER_DELAY', 'WEATHER_DELAY', 'NAS_DELAY', 'SECURITY_DELAY', 'LATE_AIRCRAFT_DELAY','Unnamed: 27']).reset_index(drop=True)\n",
        "kdf.head()"
      ],
      "metadata": {
        "colab": {
          "base_uri": "https://localhost:8080/",
          "height": 313
        },
        "id": "mFNTpcqcFzjL",
        "outputId": "a87c225b-62b6-4c90-d150-e290a67e1b63"
      },
      "execution_count": null,
      "outputs": [
        {
          "output_type": "execute_result",
          "data": {
            "text/plain": [
              "     FL_DATE OP_CARRIER  OP_CARRIER_FL_NUM ORIGIN DEST  CRS_DEP_TIME  DEP_TIME  DEP_DELAY  TAXI_OUT  WHEELS_OFF  WHEELS_ON  TAXI_IN  CRS_ARR_TIME  ARR_TIME  ARR_DELAY  CRS_ELAPSED_TIME  ACTUAL_ELAPSED_TIME  AIR_TIME  DISTANCE\n",
              "0 2016-01-01         DL               1248    DTW  LAX          1935    1935.0        0.0      23.0      1958.0     2107.0     13.0          2144    2120.0      -24.0             309.0                285.0     249.0    1979.0\n",
              "1 2016-01-01         DL               1251    ATL  GRR          2125    2130.0        5.0      13.0      2143.0     2315.0      4.0          2321    2319.0       -2.0             116.0                109.0      92.0     640.0\n",
              "2 2016-01-01         DL               1254    LAX  ATL          2255    2256.0        1.0      19.0      2315.0      542.0      5.0           600     547.0      -13.0             245.0                231.0     207.0    1947.0\n",
              "3 2016-01-01         DL               1255    SLC  ATL          1656    1700.0        4.0      12.0      1712.0     2205.0      8.0          2229    2213.0      -16.0             213.0                193.0     173.0    1590.0\n",
              "4 2016-01-01         DL               1256    BZN  MSP           900    1012.0       72.0      63.0      1115.0     1416.0      4.0          1216    1420.0      124.0             136.0                188.0     121.0     874.0"
            ],
            "text/html": [
              "<div>\n",
              "<style scoped>\n",
              "    .dataframe tbody tr th:only-of-type {\n",
              "        vertical-align: middle;\n",
              "    }\n",
              "\n",
              "    .dataframe tbody tr th {\n",
              "        vertical-align: top;\n",
              "    }\n",
              "\n",
              "    .dataframe thead th {\n",
              "        text-align: right;\n",
              "    }\n",
              "</style>\n",
              "<table border=\"1\" class=\"dataframe\">\n",
              "  <thead>\n",
              "    <tr style=\"text-align: right;\">\n",
              "      <th></th>\n",
              "      <th>FL_DATE</th>\n",
              "      <th>OP_CARRIER</th>\n",
              "      <th>OP_CARRIER_FL_NUM</th>\n",
              "      <th>ORIGIN</th>\n",
              "      <th>DEST</th>\n",
              "      <th>CRS_DEP_TIME</th>\n",
              "      <th>DEP_TIME</th>\n",
              "      <th>DEP_DELAY</th>\n",
              "      <th>TAXI_OUT</th>\n",
              "      <th>WHEELS_OFF</th>\n",
              "      <th>WHEELS_ON</th>\n",
              "      <th>TAXI_IN</th>\n",
              "      <th>CRS_ARR_TIME</th>\n",
              "      <th>ARR_TIME</th>\n",
              "      <th>ARR_DELAY</th>\n",
              "      <th>CRS_ELAPSED_TIME</th>\n",
              "      <th>ACTUAL_ELAPSED_TIME</th>\n",
              "      <th>AIR_TIME</th>\n",
              "      <th>DISTANCE</th>\n",
              "    </tr>\n",
              "  </thead>\n",
              "  <tbody>\n",
              "    <tr>\n",
              "      <th>0</th>\n",
              "      <td>2016-01-01</td>\n",
              "      <td>DL</td>\n",
              "      <td>1248</td>\n",
              "      <td>DTW</td>\n",
              "      <td>LAX</td>\n",
              "      <td>1935</td>\n",
              "      <td>1935.0</td>\n",
              "      <td>0.0</td>\n",
              "      <td>23.0</td>\n",
              "      <td>1958.0</td>\n",
              "      <td>2107.0</td>\n",
              "      <td>13.0</td>\n",
              "      <td>2144</td>\n",
              "      <td>2120.0</td>\n",
              "      <td>-24.0</td>\n",
              "      <td>309.0</td>\n",
              "      <td>285.0</td>\n",
              "      <td>249.0</td>\n",
              "      <td>1979.0</td>\n",
              "    </tr>\n",
              "    <tr>\n",
              "      <th>1</th>\n",
              "      <td>2016-01-01</td>\n",
              "      <td>DL</td>\n",
              "      <td>1251</td>\n",
              "      <td>ATL</td>\n",
              "      <td>GRR</td>\n",
              "      <td>2125</td>\n",
              "      <td>2130.0</td>\n",
              "      <td>5.0</td>\n",
              "      <td>13.0</td>\n",
              "      <td>2143.0</td>\n",
              "      <td>2315.0</td>\n",
              "      <td>4.0</td>\n",
              "      <td>2321</td>\n",
              "      <td>2319.0</td>\n",
              "      <td>-2.0</td>\n",
              "      <td>116.0</td>\n",
              "      <td>109.0</td>\n",
              "      <td>92.0</td>\n",
              "      <td>640.0</td>\n",
              "    </tr>\n",
              "    <tr>\n",
              "      <th>2</th>\n",
              "      <td>2016-01-01</td>\n",
              "      <td>DL</td>\n",
              "      <td>1254</td>\n",
              "      <td>LAX</td>\n",
              "      <td>ATL</td>\n",
              "      <td>2255</td>\n",
              "      <td>2256.0</td>\n",
              "      <td>1.0</td>\n",
              "      <td>19.0</td>\n",
              "      <td>2315.0</td>\n",
              "      <td>542.0</td>\n",
              "      <td>5.0</td>\n",
              "      <td>600</td>\n",
              "      <td>547.0</td>\n",
              "      <td>-13.0</td>\n",
              "      <td>245.0</td>\n",
              "      <td>231.0</td>\n",
              "      <td>207.0</td>\n",
              "      <td>1947.0</td>\n",
              "    </tr>\n",
              "    <tr>\n",
              "      <th>3</th>\n",
              "      <td>2016-01-01</td>\n",
              "      <td>DL</td>\n",
              "      <td>1255</td>\n",
              "      <td>SLC</td>\n",
              "      <td>ATL</td>\n",
              "      <td>1656</td>\n",
              "      <td>1700.0</td>\n",
              "      <td>4.0</td>\n",
              "      <td>12.0</td>\n",
              "      <td>1712.0</td>\n",
              "      <td>2205.0</td>\n",
              "      <td>8.0</td>\n",
              "      <td>2229</td>\n",
              "      <td>2213.0</td>\n",
              "      <td>-16.0</td>\n",
              "      <td>213.0</td>\n",
              "      <td>193.0</td>\n",
              "      <td>173.0</td>\n",
              "      <td>1590.0</td>\n",
              "    </tr>\n",
              "    <tr>\n",
              "      <th>4</th>\n",
              "      <td>2016-01-01</td>\n",
              "      <td>DL</td>\n",
              "      <td>1256</td>\n",
              "      <td>BZN</td>\n",
              "      <td>MSP</td>\n",
              "      <td>900</td>\n",
              "      <td>1012.0</td>\n",
              "      <td>72.0</td>\n",
              "      <td>63.0</td>\n",
              "      <td>1115.0</td>\n",
              "      <td>1416.0</td>\n",
              "      <td>4.0</td>\n",
              "      <td>1216</td>\n",
              "      <td>1420.0</td>\n",
              "      <td>124.0</td>\n",
              "      <td>136.0</td>\n",
              "      <td>188.0</td>\n",
              "      <td>121.0</td>\n",
              "      <td>874.0</td>\n",
              "    </tr>\n",
              "  </tbody>\n",
              "</table>\n",
              "</div>"
            ]
          },
          "metadata": {},
          "execution_count": 30
        }
      ]
    },
    {
      "cell_type": "code",
      "source": [
        "#Koalas (Dropping Rows with Null Values)\n",
        "kdf = kdf.dropna()"
      ],
      "metadata": {
        "id": "-Mwi2JczMfOz"
      },
      "execution_count": null,
      "outputs": []
    },
    {
      "cell_type": "code",
      "source": [
        "#Koalas (Display Dataframe)\n",
        "kdf.head()"
      ],
      "metadata": {
        "colab": {
          "base_uri": "https://localhost:8080/",
          "height": 313
        },
        "id": "wpV6Z3imR8Z9",
        "outputId": "37c0f0d1-698c-4261-fbb3-8c1af7601ebd"
      },
      "execution_count": null,
      "outputs": [
        {
          "output_type": "execute_result",
          "data": {
            "text/plain": [
              "     FL_DATE OP_CARRIER  OP_CARRIER_FL_NUM ORIGIN DEST  CRS_DEP_TIME  DEP_TIME  DEP_DELAY  TAXI_OUT  WHEELS_OFF  WHEELS_ON  TAXI_IN  CRS_ARR_TIME  ARR_TIME  ARR_DELAY  CRS_ELAPSED_TIME  ACTUAL_ELAPSED_TIME  AIR_TIME  DISTANCE\n",
              "0 2016-01-01         DL               1248    DTW  LAX          1935    1935.0        0.0      23.0      1958.0     2107.0     13.0          2144    2120.0      -24.0             309.0                285.0     249.0    1979.0\n",
              "1 2016-01-01         DL               1251    ATL  GRR          2125    2130.0        5.0      13.0      2143.0     2315.0      4.0          2321    2319.0       -2.0             116.0                109.0      92.0     640.0\n",
              "2 2016-01-01         DL               1254    LAX  ATL          2255    2256.0        1.0      19.0      2315.0      542.0      5.0           600     547.0      -13.0             245.0                231.0     207.0    1947.0\n",
              "3 2016-01-01         DL               1255    SLC  ATL          1656    1700.0        4.0      12.0      1712.0     2205.0      8.0          2229    2213.0      -16.0             213.0                193.0     173.0    1590.0\n",
              "4 2016-01-01         DL               1256    BZN  MSP           900    1012.0       72.0      63.0      1115.0     1416.0      4.0          1216    1420.0      124.0             136.0                188.0     121.0     874.0"
            ],
            "text/html": [
              "<div>\n",
              "<style scoped>\n",
              "    .dataframe tbody tr th:only-of-type {\n",
              "        vertical-align: middle;\n",
              "    }\n",
              "\n",
              "    .dataframe tbody tr th {\n",
              "        vertical-align: top;\n",
              "    }\n",
              "\n",
              "    .dataframe thead th {\n",
              "        text-align: right;\n",
              "    }\n",
              "</style>\n",
              "<table border=\"1\" class=\"dataframe\">\n",
              "  <thead>\n",
              "    <tr style=\"text-align: right;\">\n",
              "      <th></th>\n",
              "      <th>FL_DATE</th>\n",
              "      <th>OP_CARRIER</th>\n",
              "      <th>OP_CARRIER_FL_NUM</th>\n",
              "      <th>ORIGIN</th>\n",
              "      <th>DEST</th>\n",
              "      <th>CRS_DEP_TIME</th>\n",
              "      <th>DEP_TIME</th>\n",
              "      <th>DEP_DELAY</th>\n",
              "      <th>TAXI_OUT</th>\n",
              "      <th>WHEELS_OFF</th>\n",
              "      <th>WHEELS_ON</th>\n",
              "      <th>TAXI_IN</th>\n",
              "      <th>CRS_ARR_TIME</th>\n",
              "      <th>ARR_TIME</th>\n",
              "      <th>ARR_DELAY</th>\n",
              "      <th>CRS_ELAPSED_TIME</th>\n",
              "      <th>ACTUAL_ELAPSED_TIME</th>\n",
              "      <th>AIR_TIME</th>\n",
              "      <th>DISTANCE</th>\n",
              "    </tr>\n",
              "  </thead>\n",
              "  <tbody>\n",
              "    <tr>\n",
              "      <th>0</th>\n",
              "      <td>2016-01-01</td>\n",
              "      <td>DL</td>\n",
              "      <td>1248</td>\n",
              "      <td>DTW</td>\n",
              "      <td>LAX</td>\n",
              "      <td>1935</td>\n",
              "      <td>1935.0</td>\n",
              "      <td>0.0</td>\n",
              "      <td>23.0</td>\n",
              "      <td>1958.0</td>\n",
              "      <td>2107.0</td>\n",
              "      <td>13.0</td>\n",
              "      <td>2144</td>\n",
              "      <td>2120.0</td>\n",
              "      <td>-24.0</td>\n",
              "      <td>309.0</td>\n",
              "      <td>285.0</td>\n",
              "      <td>249.0</td>\n",
              "      <td>1979.0</td>\n",
              "    </tr>\n",
              "    <tr>\n",
              "      <th>1</th>\n",
              "      <td>2016-01-01</td>\n",
              "      <td>DL</td>\n",
              "      <td>1251</td>\n",
              "      <td>ATL</td>\n",
              "      <td>GRR</td>\n",
              "      <td>2125</td>\n",
              "      <td>2130.0</td>\n",
              "      <td>5.0</td>\n",
              "      <td>13.0</td>\n",
              "      <td>2143.0</td>\n",
              "      <td>2315.0</td>\n",
              "      <td>4.0</td>\n",
              "      <td>2321</td>\n",
              "      <td>2319.0</td>\n",
              "      <td>-2.0</td>\n",
              "      <td>116.0</td>\n",
              "      <td>109.0</td>\n",
              "      <td>92.0</td>\n",
              "      <td>640.0</td>\n",
              "    </tr>\n",
              "    <tr>\n",
              "      <th>2</th>\n",
              "      <td>2016-01-01</td>\n",
              "      <td>DL</td>\n",
              "      <td>1254</td>\n",
              "      <td>LAX</td>\n",
              "      <td>ATL</td>\n",
              "      <td>2255</td>\n",
              "      <td>2256.0</td>\n",
              "      <td>1.0</td>\n",
              "      <td>19.0</td>\n",
              "      <td>2315.0</td>\n",
              "      <td>542.0</td>\n",
              "      <td>5.0</td>\n",
              "      <td>600</td>\n",
              "      <td>547.0</td>\n",
              "      <td>-13.0</td>\n",
              "      <td>245.0</td>\n",
              "      <td>231.0</td>\n",
              "      <td>207.0</td>\n",
              "      <td>1947.0</td>\n",
              "    </tr>\n",
              "    <tr>\n",
              "      <th>3</th>\n",
              "      <td>2016-01-01</td>\n",
              "      <td>DL</td>\n",
              "      <td>1255</td>\n",
              "      <td>SLC</td>\n",
              "      <td>ATL</td>\n",
              "      <td>1656</td>\n",
              "      <td>1700.0</td>\n",
              "      <td>4.0</td>\n",
              "      <td>12.0</td>\n",
              "      <td>1712.0</td>\n",
              "      <td>2205.0</td>\n",
              "      <td>8.0</td>\n",
              "      <td>2229</td>\n",
              "      <td>2213.0</td>\n",
              "      <td>-16.0</td>\n",
              "      <td>213.0</td>\n",
              "      <td>193.0</td>\n",
              "      <td>173.0</td>\n",
              "      <td>1590.0</td>\n",
              "    </tr>\n",
              "    <tr>\n",
              "      <th>4</th>\n",
              "      <td>2016-01-01</td>\n",
              "      <td>DL</td>\n",
              "      <td>1256</td>\n",
              "      <td>BZN</td>\n",
              "      <td>MSP</td>\n",
              "      <td>900</td>\n",
              "      <td>1012.0</td>\n",
              "      <td>72.0</td>\n",
              "      <td>63.0</td>\n",
              "      <td>1115.0</td>\n",
              "      <td>1416.0</td>\n",
              "      <td>4.0</td>\n",
              "      <td>1216</td>\n",
              "      <td>1420.0</td>\n",
              "      <td>124.0</td>\n",
              "      <td>136.0</td>\n",
              "      <td>188.0</td>\n",
              "      <td>121.0</td>\n",
              "      <td>874.0</td>\n",
              "    </tr>\n",
              "  </tbody>\n",
              "</table>\n",
              "</div>"
            ]
          },
          "metadata": {},
          "execution_count": 32
        }
      ]
    },
    {
      "cell_type": "markdown",
      "source": [
        "###Vaex"
      ],
      "metadata": {
        "id": "BlJHgssYtmwY"
      }
    },
    {
      "cell_type": "code",
      "source": [
        "#Vaex (Dropping Unused Column)\n",
        "vdf = vdf.drop(columns=['CANCELLED', 'CANCELLATION_CODE', 'DIVERTED', 'CARRIER_DELAY', 'WEATHER_DELAY', 'NAS_DELAY', 'SECURITY_DELAY', 'LATE_AIRCRAFT_DELAY','Unnamed: 27'])\n",
        "vdf.head()"
      ],
      "metadata": {
        "id": "1WrS1PRRQ0j7",
        "colab": {
          "base_uri": "https://localhost:8080/",
          "height": 443
        },
        "outputId": "3023da2c-1915-4119-d600-fb29ba968065"
      },
      "execution_count": null,
      "outputs": [
        {
          "output_type": "execute_result",
          "data": {
            "text/html": [
              "<table>\n",
              "<thead>\n",
              "<tr><th>#                            </th><th>FL_DATE   </th><th>OP_CARRIER  </th><th style=\"text-align: right;\">  OP_CARRIER_FL_NUM</th><th>ORIGIN  </th><th>DEST  </th><th style=\"text-align: right;\">  CRS_DEP_TIME</th><th style=\"text-align: right;\">  DEP_TIME</th><th style=\"text-align: right;\">  DEP_DELAY</th><th style=\"text-align: right;\">  TAXI_OUT</th><th style=\"text-align: right;\">  WHEELS_OFF</th><th style=\"text-align: right;\">  WHEELS_ON</th><th style=\"text-align: right;\">  TAXI_IN</th><th style=\"text-align: right;\">  CRS_ARR_TIME</th><th style=\"text-align: right;\">  ARR_TIME</th><th style=\"text-align: right;\">  ARR_DELAY</th><th style=\"text-align: right;\">  CRS_ELAPSED_TIME</th><th style=\"text-align: right;\">  ACTUAL_ELAPSED_TIME</th><th style=\"text-align: right;\">  AIR_TIME</th><th style=\"text-align: right;\">  DISTANCE</th></tr>\n",
              "</thead>\n",
              "<tbody>\n",
              "<tr><td><i style='opacity: 0.6'>0</i></td><td>2016-01-01</td><td>DL          </td><td style=\"text-align: right;\">               1248</td><td>DTW     </td><td>LAX   </td><td style=\"text-align: right;\">          1935</td><td style=\"text-align: right;\">      1935</td><td style=\"text-align: right;\">          0</td><td style=\"text-align: right;\">        23</td><td style=\"text-align: right;\">        1958</td><td style=\"text-align: right;\">       2107</td><td style=\"text-align: right;\">       13</td><td style=\"text-align: right;\">          2144</td><td style=\"text-align: right;\">      2120</td><td style=\"text-align: right;\">        -24</td><td style=\"text-align: right;\">               309</td><td style=\"text-align: right;\">                  285</td><td style=\"text-align: right;\">       249</td><td style=\"text-align: right;\">      1979</td></tr>\n",
              "<tr><td><i style='opacity: 0.6'>1</i></td><td>2016-01-01</td><td>DL          </td><td style=\"text-align: right;\">               1251</td><td>ATL     </td><td>GRR   </td><td style=\"text-align: right;\">          2125</td><td style=\"text-align: right;\">      2130</td><td style=\"text-align: right;\">          5</td><td style=\"text-align: right;\">        13</td><td style=\"text-align: right;\">        2143</td><td style=\"text-align: right;\">       2315</td><td style=\"text-align: right;\">        4</td><td style=\"text-align: right;\">          2321</td><td style=\"text-align: right;\">      2319</td><td style=\"text-align: right;\">         -2</td><td style=\"text-align: right;\">               116</td><td style=\"text-align: right;\">                  109</td><td style=\"text-align: right;\">        92</td><td style=\"text-align: right;\">       640</td></tr>\n",
              "<tr><td><i style='opacity: 0.6'>2</i></td><td>2016-01-01</td><td>DL          </td><td style=\"text-align: right;\">               1254</td><td>LAX     </td><td>ATL   </td><td style=\"text-align: right;\">          2255</td><td style=\"text-align: right;\">      2256</td><td style=\"text-align: right;\">          1</td><td style=\"text-align: right;\">        19</td><td style=\"text-align: right;\">        2315</td><td style=\"text-align: right;\">        542</td><td style=\"text-align: right;\">        5</td><td style=\"text-align: right;\">           600</td><td style=\"text-align: right;\">       547</td><td style=\"text-align: right;\">        -13</td><td style=\"text-align: right;\">               245</td><td style=\"text-align: right;\">                  231</td><td style=\"text-align: right;\">       207</td><td style=\"text-align: right;\">      1947</td></tr>\n",
              "<tr><td><i style='opacity: 0.6'>3</i></td><td>2016-01-01</td><td>DL          </td><td style=\"text-align: right;\">               1255</td><td>SLC     </td><td>ATL   </td><td style=\"text-align: right;\">          1656</td><td style=\"text-align: right;\">      1700</td><td style=\"text-align: right;\">          4</td><td style=\"text-align: right;\">        12</td><td style=\"text-align: right;\">        1712</td><td style=\"text-align: right;\">       2205</td><td style=\"text-align: right;\">        8</td><td style=\"text-align: right;\">          2229</td><td style=\"text-align: right;\">      2213</td><td style=\"text-align: right;\">        -16</td><td style=\"text-align: right;\">               213</td><td style=\"text-align: right;\">                  193</td><td style=\"text-align: right;\">       173</td><td style=\"text-align: right;\">      1590</td></tr>\n",
              "<tr><td><i style='opacity: 0.6'>4</i></td><td>2016-01-01</td><td>DL          </td><td style=\"text-align: right;\">               1256</td><td>BZN     </td><td>MSP   </td><td style=\"text-align: right;\">           900</td><td style=\"text-align: right;\">      1012</td><td style=\"text-align: right;\">         72</td><td style=\"text-align: right;\">        63</td><td style=\"text-align: right;\">        1115</td><td style=\"text-align: right;\">       1416</td><td style=\"text-align: right;\">        4</td><td style=\"text-align: right;\">          1216</td><td style=\"text-align: right;\">      1420</td><td style=\"text-align: right;\">        124</td><td style=\"text-align: right;\">               136</td><td style=\"text-align: right;\">                  188</td><td style=\"text-align: right;\">       121</td><td style=\"text-align: right;\">       874</td></tr>\n",
              "<tr><td><i style='opacity: 0.6'>5</i></td><td>2016-01-01</td><td>DL          </td><td style=\"text-align: right;\">               1257</td><td>ATL     </td><td>BNA   </td><td style=\"text-align: right;\">          1233</td><td style=\"text-align: right;\">      1356</td><td style=\"text-align: right;\">         83</td><td style=\"text-align: right;\">        22</td><td style=\"text-align: right;\">        1418</td><td style=\"text-align: right;\">       1356</td><td style=\"text-align: right;\">        6</td><td style=\"text-align: right;\">          1239</td><td style=\"text-align: right;\">      1402</td><td style=\"text-align: right;\">         83</td><td style=\"text-align: right;\">                66</td><td style=\"text-align: right;\">                   66</td><td style=\"text-align: right;\">        38</td><td style=\"text-align: right;\">       214</td></tr>\n",
              "<tr><td><i style='opacity: 0.6'>6</i></td><td>2016-01-01</td><td>DL          </td><td style=\"text-align: right;\">               1257</td><td>BNA     </td><td>ATL   </td><td style=\"text-align: right;\">          1320</td><td style=\"text-align: right;\">      1446</td><td style=\"text-align: right;\">         86</td><td style=\"text-align: right;\">        15</td><td style=\"text-align: right;\">        1501</td><td style=\"text-align: right;\">       1638</td><td style=\"text-align: right;\">        6</td><td style=\"text-align: right;\">          1530</td><td style=\"text-align: right;\">      1644</td><td style=\"text-align: right;\">         74</td><td style=\"text-align: right;\">                70</td><td style=\"text-align: right;\">                   58</td><td style=\"text-align: right;\">        37</td><td style=\"text-align: right;\">       214</td></tr>\n",
              "<tr><td><i style='opacity: 0.6'>7</i></td><td>2016-01-01</td><td>DL          </td><td style=\"text-align: right;\">               1258</td><td>ATL     </td><td>JAX   </td><td style=\"text-align: right;\">           945</td><td style=\"text-align: right;\">       946</td><td style=\"text-align: right;\">          1</td><td style=\"text-align: right;\">        19</td><td style=\"text-align: right;\">        1005</td><td style=\"text-align: right;\">       1050</td><td style=\"text-align: right;\">        3</td><td style=\"text-align: right;\">          1050</td><td style=\"text-align: right;\">      1053</td><td style=\"text-align: right;\">          3</td><td style=\"text-align: right;\">                65</td><td style=\"text-align: right;\">                   67</td><td style=\"text-align: right;\">        45</td><td style=\"text-align: right;\">       270</td></tr>\n",
              "<tr><td><i style='opacity: 0.6'>8</i></td><td>2016-01-01</td><td>DL          </td><td style=\"text-align: right;\">               1258</td><td>JAX     </td><td>ATL   </td><td style=\"text-align: right;\">          1145</td><td style=\"text-align: right;\">      1144</td><td style=\"text-align: right;\">         -1</td><td style=\"text-align: right;\">        12</td><td style=\"text-align: right;\">        1156</td><td style=\"text-align: right;\">       1239</td><td style=\"text-align: right;\">        8</td><td style=\"text-align: right;\">          1302</td><td style=\"text-align: right;\">      1247</td><td style=\"text-align: right;\">        -15</td><td style=\"text-align: right;\">                77</td><td style=\"text-align: right;\">                   63</td><td style=\"text-align: right;\">        43</td><td style=\"text-align: right;\">       270</td></tr>\n",
              "<tr><td><i style='opacity: 0.6'>9</i></td><td>2016-01-01</td><td>DL          </td><td style=\"text-align: right;\">               1259</td><td>ATL     </td><td>OKC   </td><td style=\"text-align: right;\">          2110</td><td style=\"text-align: right;\">      2107</td><td style=\"text-align: right;\">         -3</td><td style=\"text-align: right;\">        16</td><td style=\"text-align: right;\">        2123</td><td style=\"text-align: right;\">       2219</td><td style=\"text-align: right;\">        5</td><td style=\"text-align: right;\">          2236</td><td style=\"text-align: right;\">      2224</td><td style=\"text-align: right;\">        -12</td><td style=\"text-align: right;\">               146</td><td style=\"text-align: right;\">                  137</td><td style=\"text-align: right;\">       116</td><td style=\"text-align: right;\">       761</td></tr>\n",
              "</tbody>\n",
              "</table>"
            ],
            "text/plain": [
              "  #  FL_DATE     OP_CARRIER      OP_CARRIER_FL_NUM  ORIGIN    DEST      CRS_DEP_TIME    DEP_TIME    DEP_DELAY    TAXI_OUT    WHEELS_OFF    WHEELS_ON    TAXI_IN    CRS_ARR_TIME    ARR_TIME    ARR_DELAY    CRS_ELAPSED_TIME    ACTUAL_ELAPSED_TIME    AIR_TIME    DISTANCE\n",
              "  0  2016-01-01  DL                           1248  DTW       LAX               1935        1935            0          23          1958         2107         13            2144        2120          -24                 309                    285         249        1979\n",
              "  1  2016-01-01  DL                           1251  ATL       GRR               2125        2130            5          13          2143         2315          4            2321        2319           -2                 116                    109          92         640\n",
              "  2  2016-01-01  DL                           1254  LAX       ATL               2255        2256            1          19          2315          542          5             600         547          -13                 245                    231         207        1947\n",
              "  3  2016-01-01  DL                           1255  SLC       ATL               1656        1700            4          12          1712         2205          8            2229        2213          -16                 213                    193         173        1590\n",
              "  4  2016-01-01  DL                           1256  BZN       MSP                900        1012           72          63          1115         1416          4            1216        1420          124                 136                    188         121         874\n",
              "  5  2016-01-01  DL                           1257  ATL       BNA               1233        1356           83          22          1418         1356          6            1239        1402           83                  66                     66          38         214\n",
              "  6  2016-01-01  DL                           1257  BNA       ATL               1320        1446           86          15          1501         1638          6            1530        1644           74                  70                     58          37         214\n",
              "  7  2016-01-01  DL                           1258  ATL       JAX                945         946            1          19          1005         1050          3            1050        1053            3                  65                     67          45         270\n",
              "  8  2016-01-01  DL                           1258  JAX       ATL               1145        1144           -1          12          1156         1239          8            1302        1247          -15                  77                     63          43         270\n",
              "  9  2016-01-01  DL                           1259  ATL       OKC               2110        2107           -3          16          2123         2219          5            2236        2224          -12                 146                    137         116         761"
            ]
          },
          "metadata": {},
          "execution_count": 33
        }
      ]
    },
    {
      "cell_type": "code",
      "source": [
        "#Vaex (Converting String to Datetime)\n",
        "\n",
        "vdf['FL_DATE'] = vdf['FL_DATE'].astype('datetime64[ns]')"
      ],
      "metadata": {
        "id": "4Lvk50ySSHQ9"
      },
      "execution_count": null,
      "outputs": []
    },
    {
      "cell_type": "code",
      "source": [
        "#Vaex (Dropping Rows with Null Values)\n",
        "vdf = vdf.dropna()\n"
      ],
      "metadata": {
        "id": "UtIcDyDRTepX"
      },
      "execution_count": null,
      "outputs": []
    },
    {
      "cell_type": "code",
      "source": [
        "#Vaex (Display Dataframe)\n",
        "vdf.head()"
      ],
      "metadata": {
        "colab": {
          "base_uri": "https://localhost:8080/",
          "height": 616
        },
        "id": "OS8oCz0YqGwV",
        "outputId": "a43309d5-c9e1-41b9-df24-bf090e2a84e4"
      },
      "execution_count": null,
      "outputs": [
        {
          "output_type": "execute_result",
          "data": {
            "text/html": [
              "<table>\n",
              "<thead>\n",
              "<tr><th>#                            </th><th>FL_DATE            </th><th>OP_CARRIER  </th><th style=\"text-align: right;\">  OP_CARRIER_FL_NUM</th><th>ORIGIN  </th><th>DEST  </th><th style=\"text-align: right;\">  CRS_DEP_TIME</th><th style=\"text-align: right;\">  DEP_TIME</th><th style=\"text-align: right;\">  DEP_DELAY</th><th style=\"text-align: right;\">  TAXI_OUT</th><th style=\"text-align: right;\">  WHEELS_OFF</th><th style=\"text-align: right;\">  WHEELS_ON</th><th style=\"text-align: right;\">  TAXI_IN</th><th style=\"text-align: right;\">  CRS_ARR_TIME</th><th style=\"text-align: right;\">  ARR_TIME</th><th style=\"text-align: right;\">  ARR_DELAY</th><th style=\"text-align: right;\">  CRS_ELAPSED_TIME</th><th style=\"text-align: right;\">  ACTUAL_ELAPSED_TIME</th><th style=\"text-align: right;\">  AIR_TIME</th><th style=\"text-align: right;\">  DISTANCE</th></tr>\n",
              "</thead>\n",
              "<tbody>\n",
              "<tr><td><i style='opacity: 0.6'>0</i></td><td>2016-01-01 00:00:00</td><td>DL          </td><td style=\"text-align: right;\">               1248</td><td>DTW     </td><td>LAX   </td><td style=\"text-align: right;\">          1935</td><td style=\"text-align: right;\">      1935</td><td style=\"text-align: right;\">          0</td><td style=\"text-align: right;\">        23</td><td style=\"text-align: right;\">        1958</td><td style=\"text-align: right;\">       2107</td><td style=\"text-align: right;\">       13</td><td style=\"text-align: right;\">          2144</td><td style=\"text-align: right;\">      2120</td><td style=\"text-align: right;\">        -24</td><td style=\"text-align: right;\">               309</td><td style=\"text-align: right;\">                  285</td><td style=\"text-align: right;\">       249</td><td style=\"text-align: right;\">      1979</td></tr>\n",
              "<tr><td><i style='opacity: 0.6'>1</i></td><td>2016-01-01 00:00:00</td><td>DL          </td><td style=\"text-align: right;\">               1251</td><td>ATL     </td><td>GRR   </td><td style=\"text-align: right;\">          2125</td><td style=\"text-align: right;\">      2130</td><td style=\"text-align: right;\">          5</td><td style=\"text-align: right;\">        13</td><td style=\"text-align: right;\">        2143</td><td style=\"text-align: right;\">       2315</td><td style=\"text-align: right;\">        4</td><td style=\"text-align: right;\">          2321</td><td style=\"text-align: right;\">      2319</td><td style=\"text-align: right;\">         -2</td><td style=\"text-align: right;\">               116</td><td style=\"text-align: right;\">                  109</td><td style=\"text-align: right;\">        92</td><td style=\"text-align: right;\">       640</td></tr>\n",
              "<tr><td><i style='opacity: 0.6'>2</i></td><td>2016-01-01 00:00:00</td><td>DL          </td><td style=\"text-align: right;\">               1254</td><td>LAX     </td><td>ATL   </td><td style=\"text-align: right;\">          2255</td><td style=\"text-align: right;\">      2256</td><td style=\"text-align: right;\">          1</td><td style=\"text-align: right;\">        19</td><td style=\"text-align: right;\">        2315</td><td style=\"text-align: right;\">        542</td><td style=\"text-align: right;\">        5</td><td style=\"text-align: right;\">           600</td><td style=\"text-align: right;\">       547</td><td style=\"text-align: right;\">        -13</td><td style=\"text-align: right;\">               245</td><td style=\"text-align: right;\">                  231</td><td style=\"text-align: right;\">       207</td><td style=\"text-align: right;\">      1947</td></tr>\n",
              "<tr><td><i style='opacity: 0.6'>3</i></td><td>2016-01-01 00:00:00</td><td>DL          </td><td style=\"text-align: right;\">               1255</td><td>SLC     </td><td>ATL   </td><td style=\"text-align: right;\">          1656</td><td style=\"text-align: right;\">      1700</td><td style=\"text-align: right;\">          4</td><td style=\"text-align: right;\">        12</td><td style=\"text-align: right;\">        1712</td><td style=\"text-align: right;\">       2205</td><td style=\"text-align: right;\">        8</td><td style=\"text-align: right;\">          2229</td><td style=\"text-align: right;\">      2213</td><td style=\"text-align: right;\">        -16</td><td style=\"text-align: right;\">               213</td><td style=\"text-align: right;\">                  193</td><td style=\"text-align: right;\">       173</td><td style=\"text-align: right;\">      1590</td></tr>\n",
              "<tr><td><i style='opacity: 0.6'>4</i></td><td>2016-01-01 00:00:00</td><td>DL          </td><td style=\"text-align: right;\">               1256</td><td>BZN     </td><td>MSP   </td><td style=\"text-align: right;\">           900</td><td style=\"text-align: right;\">      1012</td><td style=\"text-align: right;\">         72</td><td style=\"text-align: right;\">        63</td><td style=\"text-align: right;\">        1115</td><td style=\"text-align: right;\">       1416</td><td style=\"text-align: right;\">        4</td><td style=\"text-align: right;\">          1216</td><td style=\"text-align: right;\">      1420</td><td style=\"text-align: right;\">        124</td><td style=\"text-align: right;\">               136</td><td style=\"text-align: right;\">                  188</td><td style=\"text-align: right;\">       121</td><td style=\"text-align: right;\">       874</td></tr>\n",
              "<tr><td><i style='opacity: 0.6'>5</i></td><td>2016-01-01 00:00:00</td><td>DL          </td><td style=\"text-align: right;\">               1257</td><td>ATL     </td><td>BNA   </td><td style=\"text-align: right;\">          1233</td><td style=\"text-align: right;\">      1356</td><td style=\"text-align: right;\">         83</td><td style=\"text-align: right;\">        22</td><td style=\"text-align: right;\">        1418</td><td style=\"text-align: right;\">       1356</td><td style=\"text-align: right;\">        6</td><td style=\"text-align: right;\">          1239</td><td style=\"text-align: right;\">      1402</td><td style=\"text-align: right;\">         83</td><td style=\"text-align: right;\">                66</td><td style=\"text-align: right;\">                   66</td><td style=\"text-align: right;\">        38</td><td style=\"text-align: right;\">       214</td></tr>\n",
              "<tr><td><i style='opacity: 0.6'>6</i></td><td>2016-01-01 00:00:00</td><td>DL          </td><td style=\"text-align: right;\">               1257</td><td>BNA     </td><td>ATL   </td><td style=\"text-align: right;\">          1320</td><td style=\"text-align: right;\">      1446</td><td style=\"text-align: right;\">         86</td><td style=\"text-align: right;\">        15</td><td style=\"text-align: right;\">        1501</td><td style=\"text-align: right;\">       1638</td><td style=\"text-align: right;\">        6</td><td style=\"text-align: right;\">          1530</td><td style=\"text-align: right;\">      1644</td><td style=\"text-align: right;\">         74</td><td style=\"text-align: right;\">                70</td><td style=\"text-align: right;\">                   58</td><td style=\"text-align: right;\">        37</td><td style=\"text-align: right;\">       214</td></tr>\n",
              "<tr><td><i style='opacity: 0.6'>7</i></td><td>2016-01-01 00:00:00</td><td>DL          </td><td style=\"text-align: right;\">               1258</td><td>ATL     </td><td>JAX   </td><td style=\"text-align: right;\">           945</td><td style=\"text-align: right;\">       946</td><td style=\"text-align: right;\">          1</td><td style=\"text-align: right;\">        19</td><td style=\"text-align: right;\">        1005</td><td style=\"text-align: right;\">       1050</td><td style=\"text-align: right;\">        3</td><td style=\"text-align: right;\">          1050</td><td style=\"text-align: right;\">      1053</td><td style=\"text-align: right;\">          3</td><td style=\"text-align: right;\">                65</td><td style=\"text-align: right;\">                   67</td><td style=\"text-align: right;\">        45</td><td style=\"text-align: right;\">       270</td></tr>\n",
              "<tr><td><i style='opacity: 0.6'>8</i></td><td>2016-01-01 00:00:00</td><td>DL          </td><td style=\"text-align: right;\">               1258</td><td>JAX     </td><td>ATL   </td><td style=\"text-align: right;\">          1145</td><td style=\"text-align: right;\">      1144</td><td style=\"text-align: right;\">         -1</td><td style=\"text-align: right;\">        12</td><td style=\"text-align: right;\">        1156</td><td style=\"text-align: right;\">       1239</td><td style=\"text-align: right;\">        8</td><td style=\"text-align: right;\">          1302</td><td style=\"text-align: right;\">      1247</td><td style=\"text-align: right;\">        -15</td><td style=\"text-align: right;\">                77</td><td style=\"text-align: right;\">                   63</td><td style=\"text-align: right;\">        43</td><td style=\"text-align: right;\">       270</td></tr>\n",
              "<tr><td><i style='opacity: 0.6'>9</i></td><td>2016-01-01 00:00:00</td><td>DL          </td><td style=\"text-align: right;\">               1259</td><td>ATL     </td><td>OKC   </td><td style=\"text-align: right;\">          2110</td><td style=\"text-align: right;\">      2107</td><td style=\"text-align: right;\">         -3</td><td style=\"text-align: right;\">        16</td><td style=\"text-align: right;\">        2123</td><td style=\"text-align: right;\">       2219</td><td style=\"text-align: right;\">        5</td><td style=\"text-align: right;\">          2236</td><td style=\"text-align: right;\">      2224</td><td style=\"text-align: right;\">        -12</td><td style=\"text-align: right;\">               146</td><td style=\"text-align: right;\">                  137</td><td style=\"text-align: right;\">       116</td><td style=\"text-align: right;\">       761</td></tr>\n",
              "</tbody>\n",
              "</table>"
            ],
            "text/plain": [
              "  #  FL_DATE              OP_CARRIER      OP_CARRIER_FL_NUM  ORIGIN    DEST      CRS_DEP_TIME    DEP_TIME    DEP_DELAY    TAXI_OUT    WHEELS_OFF    WHEELS_ON    TAXI_IN    CRS_ARR_TIME    ARR_TIME    ARR_DELAY    CRS_ELAPSED_TIME    ACTUAL_ELAPSED_TIME    AIR_TIME    DISTANCE\n",
              "  0  2016-01-01 00:00:00  DL                           1248  DTW       LAX               1935        1935            0          23          1958         2107         13            2144        2120          -24                 309                    285         249        1979\n",
              "  1  2016-01-01 00:00:00  DL                           1251  ATL       GRR               2125        2130            5          13          2143         2315          4            2321        2319           -2                 116                    109          92         640\n",
              "  2  2016-01-01 00:00:00  DL                           1254  LAX       ATL               2255        2256            1          19          2315          542          5             600         547          -13                 245                    231         207        1947\n",
              "  3  2016-01-01 00:00:00  DL                           1255  SLC       ATL               1656        1700            4          12          1712         2205          8            2229        2213          -16                 213                    193         173        1590\n",
              "  4  2016-01-01 00:00:00  DL                           1256  BZN       MSP                900        1012           72          63          1115         1416          4            1216        1420          124                 136                    188         121         874\n",
              "  5  2016-01-01 00:00:00  DL                           1257  ATL       BNA               1233        1356           83          22          1418         1356          6            1239        1402           83                  66                     66          38         214\n",
              "  6  2016-01-01 00:00:00  DL                           1257  BNA       ATL               1320        1446           86          15          1501         1638          6            1530        1644           74                  70                     58          37         214\n",
              "  7  2016-01-01 00:00:00  DL                           1258  ATL       JAX                945         946            1          19          1005         1050          3            1050        1053            3                  65                     67          45         270\n",
              "  8  2016-01-01 00:00:00  DL                           1258  JAX       ATL               1145        1144           -1          12          1156         1239          8            1302        1247          -15                  77                     63          43         270\n",
              "  9  2016-01-01 00:00:00  DL                           1259  ATL       OKC               2110        2107           -3          16          2123         2219          5            2236        2224          -12                 146                    137         116         761"
            ]
          },
          "metadata": {},
          "execution_count": 36
        }
      ]
    },
    {
      "cell_type": "code",
      "source": [
        "#Vaex (List columns datatypes)\n",
        "vdf.dtypes"
      ],
      "metadata": {
        "colab": {
          "base_uri": "https://localhost:8080/"
        },
        "id": "saVbDK8msRlt",
        "outputId": "6c718f69-79fc-4a57-e574-bccaa5f1b71d"
      },
      "execution_count": null,
      "outputs": [
        {
          "output_type": "execute_result",
          "data": {
            "text/plain": [
              "FL_DATE                datetime64[ns]\n",
              "OP_CARRIER                     string\n",
              "OP_CARRIER_FL_NUM               int64\n",
              "ORIGIN                         string\n",
              "DEST                           string\n",
              "CRS_DEP_TIME                    int64\n",
              "DEP_TIME                      float64\n",
              "DEP_DELAY                     float64\n",
              "TAXI_OUT                      float64\n",
              "WHEELS_OFF                    float64\n",
              "WHEELS_ON                     float64\n",
              "TAXI_IN                       float64\n",
              "CRS_ARR_TIME                    int64\n",
              "ARR_TIME                      float64\n",
              "ARR_DELAY                     float64\n",
              "CRS_ELAPSED_TIME              float64\n",
              "ACTUAL_ELAPSED_TIME           float64\n",
              "AIR_TIME                      float64\n",
              "DISTANCE                      float64\n",
              "dtype: object"
            ]
          },
          "metadata": {},
          "execution_count": 37
        }
      ]
    },
    {
      "cell_type": "markdown",
      "source": [
        "###Pyspark"
      ],
      "metadata": {
        "id": "H9RQXh_Kt1lh"
      }
    },
    {
      "cell_type": "code",
      "source": [
        "#Pyspark (Dropping Unused Column)\n",
        "pdf = pdf.drop('CANCELLED', 'CANCELLATION_CODE', 'DIVERTED', 'CARRIER_DELAY', 'WEATHER_DELAY', 'NAS_DELAY', 'SECURITY_DELAY', 'LATE_AIRCRAFT_DELAY','Unnamed: 27')"
      ],
      "metadata": {
        "id": "3nwFU7pIX6FP"
      },
      "execution_count": null,
      "outputs": []
    },
    {
      "cell_type": "code",
      "source": [
        "#Pyspark (Dropping Rows with Null Values)\n",
        "pdf = pdf.na.drop()\n"
      ],
      "metadata": {
        "id": "mMTW0cL4ZEQM"
      },
      "execution_count": null,
      "outputs": []
    },
    {
      "cell_type": "code",
      "source": [
        "#Pyspark (Converting String to Datetime)\n",
        "from pyspark.sql.functions import *\n",
        "pdf = pdf.withColumn(\"FL_DATE\",to_date(\"FL_DATE\"))"
      ],
      "metadata": {
        "id": "bmpYa0OTjggZ"
      },
      "execution_count": null,
      "outputs": []
    },
    {
      "cell_type": "code",
      "source": [
        "#Pyspark (List columns datatypes)\n",
        "pdf.dtypes"
      ],
      "metadata": {
        "colab": {
          "base_uri": "https://localhost:8080/"
        },
        "id": "UlyRYo4if8xt",
        "outputId": "dd25de37-ead1-4d21-aacb-a031a650ec16"
      },
      "execution_count": null,
      "outputs": [
        {
          "output_type": "execute_result",
          "data": {
            "text/plain": [
              "[('FL_DATE', 'date'),\n",
              " ('OP_CARRIER', 'string'),\n",
              " ('OP_CARRIER_FL_NUM', 'int'),\n",
              " ('ORIGIN', 'string'),\n",
              " ('DEST', 'string'),\n",
              " ('CRS_DEP_TIME', 'int'),\n",
              " ('DEP_TIME', 'double'),\n",
              " ('DEP_DELAY', 'double'),\n",
              " ('TAXI_OUT', 'double'),\n",
              " ('WHEELS_OFF', 'double'),\n",
              " ('WHEELS_ON', 'double'),\n",
              " ('TAXI_IN', 'double'),\n",
              " ('CRS_ARR_TIME', 'int'),\n",
              " ('ARR_TIME', 'double'),\n",
              " ('ARR_DELAY', 'double'),\n",
              " ('CRS_ELAPSED_TIME', 'double'),\n",
              " ('ACTUAL_ELAPSED_TIME', 'double'),\n",
              " ('AIR_TIME', 'double'),\n",
              " ('DISTANCE', 'double')]"
            ]
          },
          "metadata": {},
          "execution_count": 41
        }
      ]
    },
    {
      "cell_type": "code",
      "source": [
        "#Pyspark (Display Dataframe)\n",
        "pdf.show()"
      ],
      "metadata": {
        "colab": {
          "base_uri": "https://localhost:8080/"
        },
        "id": "ICKPtRMBnZ0_",
        "outputId": "a1f8d0f1-2f5d-459d-9132-2686642e1411"
      },
      "execution_count": null,
      "outputs": [
        {
          "output_type": "stream",
          "name": "stdout",
          "text": [
            "+----------+----------+-----------------+------+----+------------+--------+---------+--------+----------+---------+-------+------------+--------+---------+----------------+-------------------+--------+--------+\n",
            "|   FL_DATE|OP_CARRIER|OP_CARRIER_FL_NUM|ORIGIN|DEST|CRS_DEP_TIME|DEP_TIME|DEP_DELAY|TAXI_OUT|WHEELS_OFF|WHEELS_ON|TAXI_IN|CRS_ARR_TIME|ARR_TIME|ARR_DELAY|CRS_ELAPSED_TIME|ACTUAL_ELAPSED_TIME|AIR_TIME|DISTANCE|\n",
            "+----------+----------+-----------------+------+----+------------+--------+---------+--------+----------+---------+-------+------------+--------+---------+----------------+-------------------+--------+--------+\n",
            "|2016-01-01|        DL|             1248|   DTW| LAX|        1935|  1935.0|      0.0|    23.0|    1958.0|   2107.0|   13.0|        2144|  2120.0|    -24.0|           309.0|              285.0|   249.0|  1979.0|\n",
            "|2016-01-01|        DL|             1251|   ATL| GRR|        2125|  2130.0|      5.0|    13.0|    2143.0|   2315.0|    4.0|        2321|  2319.0|     -2.0|           116.0|              109.0|    92.0|   640.0|\n",
            "|2016-01-01|        DL|             1254|   LAX| ATL|        2255|  2256.0|      1.0|    19.0|    2315.0|    542.0|    5.0|         600|   547.0|    -13.0|           245.0|              231.0|   207.0|  1947.0|\n",
            "|2016-01-01|        DL|             1255|   SLC| ATL|        1656|  1700.0|      4.0|    12.0|    1712.0|   2205.0|    8.0|        2229|  2213.0|    -16.0|           213.0|              193.0|   173.0|  1590.0|\n",
            "|2016-01-01|        DL|             1256|   BZN| MSP|         900|  1012.0|     72.0|    63.0|    1115.0|   1416.0|    4.0|        1216|  1420.0|    124.0|           136.0|              188.0|   121.0|   874.0|\n",
            "|2016-01-01|        DL|             1257|   ATL| BNA|        1233|  1356.0|     83.0|    22.0|    1418.0|   1356.0|    6.0|        1239|  1402.0|     83.0|            66.0|               66.0|    38.0|   214.0|\n",
            "|2016-01-01|        DL|             1257|   BNA| ATL|        1320|  1446.0|     86.0|    15.0|    1501.0|   1638.0|    6.0|        1530|  1644.0|     74.0|            70.0|               58.0|    37.0|   214.0|\n",
            "|2016-01-01|        DL|             1258|   ATL| JAX|         945|   946.0|      1.0|    19.0|    1005.0|   1050.0|    3.0|        1050|  1053.0|      3.0|            65.0|               67.0|    45.0|   270.0|\n",
            "|2016-01-01|        DL|             1258|   JAX| ATL|        1145|  1144.0|     -1.0|    12.0|    1156.0|   1239.0|    8.0|        1302|  1247.0|    -15.0|            77.0|               63.0|    43.0|   270.0|\n",
            "|2016-01-01|        DL|             1259|   ATL| OKC|        2110|  2107.0|     -3.0|    16.0|    2123.0|   2219.0|    5.0|        2236|  2224.0|    -12.0|           146.0|              137.0|   116.0|   761.0|\n",
            "|2016-01-01|        DL|             1260|   MSP| SMF|        1115|  1113.0|     -2.0|    12.0|    1125.0|   1232.0|    4.0|        1309|  1236.0|    -33.0|           234.0|              203.0|   187.0|  1517.0|\n",
            "|2016-01-01|        DL|             1262|   LAX| JFK|        2255|  2248.0|     -7.0|    23.0|    2311.0|    650.0|   11.0|         715|   701.0|    -14.0|           320.0|              313.0|   279.0|  2475.0|\n",
            "|2016-01-01|        DL|             1263|   ATL| MDT|        1510|  1509.0|     -1.0|    17.0|    1526.0|   1646.0|    5.0|        1702|  1651.0|    -11.0|           112.0|              102.0|    80.0|   620.0|\n",
            "|2016-01-01|        DL|             1263|   MDT| ATL|        1737|  1727.0|    -10.0|    11.0|    1738.0|   1923.0|   11.0|        1949|  1934.0|    -15.0|           132.0|              127.0|   105.0|   620.0|\n",
            "|2016-01-01|        DL|             1264|   SLC| JFK|        2345|  2341.0|     -4.0|    25.0|       6.0|    602.0|   11.0|         607|   613.0|      6.0|           262.0|              272.0|   236.0|  1990.0|\n",
            "|2016-01-01|        DL|             1265|   SAV| ATL|        1408|  1403.0|     -5.0|    15.0|    1418.0|   1459.0|    6.0|        1523|  1505.0|    -18.0|            75.0|               62.0|    41.0|   214.0|\n",
            "|2016-01-01|        DL|             1266|   BUF| ATL|         615|   612.0|     -3.0|    38.0|     650.0|    844.0|    5.0|         843|   849.0|      6.0|           148.0|              157.0|   114.0|   712.0|\n",
            "|2016-01-01|        DL|             1269|   LGA| MIA|        1100|  1100.0|      0.0|    15.0|    1115.0|   1402.0|    4.0|        1432|  1406.0|    -26.0|           212.0|              186.0|   167.0|  1096.0|\n",
            "|2016-01-01|        DL|             1270|   ATL| PNS|        1340|  1337.0|     -3.0|    11.0|    1348.0|   1339.0|    3.0|        1352|  1342.0|    -10.0|            72.0|               65.0|    51.0|   271.0|\n",
            "|2016-01-01|        DL|             1270|   PNS| ATL|        1435|  1431.0|     -4.0|    10.0|    1441.0|   1622.0|    6.0|        1648|  1628.0|    -20.0|            73.0|               57.0|    41.0|   271.0|\n",
            "+----------+----------+-----------------+------+----+------------+--------+---------+--------+----------+---------+-------+------------+--------+---------+----------------+-------------------+--------+--------+\n",
            "only showing top 20 rows\n",
            "\n"
          ]
        }
      ]
    },
    {
      "cell_type": "markdown",
      "source": [
        "# Visualization"
      ],
      "metadata": {
        "id": "vzrLqe5pdhZd"
      }
    },
    {
      "cell_type": "markdown",
      "source": [
        "Visualisation with Koalas"
      ],
      "metadata": {
        "id": "9yeaSNu7drKB"
      }
    },
    {
      "cell_type": "code",
      "source": [
        "flights_count = kdf.groupby('OP_CARRIER').size()\n",
        "flights_count.plot(kind='bar')"
      ],
      "metadata": {
        "colab": {
          "base_uri": "https://localhost:8080/",
          "height": 542
        },
        "id": "MQvaNpRwQX_N",
        "outputId": "6f07d805-930d-4403-9816-938d12c7a454"
      },
      "execution_count": null,
      "outputs": [
        {
          "output_type": "display_data",
          "data": {
            "text/html": [
              "<html>\n",
              "<head><meta charset=\"utf-8\" /></head>\n",
              "<body>\n",
              "    <div>            <script src=\"https://cdnjs.cloudflare.com/ajax/libs/mathjax/2.7.5/MathJax.js?config=TeX-AMS-MML_SVG\"></script><script type=\"text/javascript\">if (window.MathJax) {MathJax.Hub.Config({SVG: {font: \"STIX-Web\"}});}</script>                <script type=\"text/javascript\">window.PlotlyConfig = {MathJaxConfig: 'local'};</script>\n",
              "        <script src=\"https://cdn.plot.ly/plotly-2.8.3.min.js\"></script>                <div id=\"0bcd3a78-e8a2-455b-b268-25df1fe4d409\" class=\"plotly-graph-div\" style=\"height:525px; width:100%;\"></div>            <script type=\"text/javascript\">                                    window.PLOTLYENV=window.PLOTLYENV || {};                                    if (document.getElementById(\"0bcd3a78-e8a2-455b-b268-25df1fe4d409\")) {                    Plotly.newPlot(                        \"0bcd3a78-e8a2-455b-b268-25df1fe4d409\",                        [{\"alignmentgroup\":\"True\",\"hovertemplate\":\"variable=0<br>OP_CARRIER=%{x}<br>value=%{y}<extra></extra>\",\"legendgroup\":\"0\",\"marker\":{\"color\":\"#636efa\",\"pattern\":{\"shape\":\"\"}},\"name\":\"0\",\"offsetgroup\":\"0\",\"orientation\":\"v\",\"showlegend\":true,\"textposition\":\"auto\",\"x\":[\"UA\",\"NK\",\"AA\",\"EV\",\"B6\",\"DL\",\"OO\",\"F9\",\"HA\",\"AS\",\"VX\",\"WN\",\"YV\",\"MQ\",\"OH\",\"G4\",\"YX\",\"9E\"],\"xaxis\":\"x\",\"y\":[1730317,460968,2683157,1002681,865396,2773525,2050388,313232,239823,602048,155092,3921112,209094,284497,265784,95192,305251,231815],\"yaxis\":\"y\",\"type\":\"bar\"}],                        {\"template\":{\"data\":{\"bar\":[{\"error_x\":{\"color\":\"#2a3f5f\"},\"error_y\":{\"color\":\"#2a3f5f\"},\"marker\":{\"line\":{\"color\":\"#E5ECF6\",\"width\":0.5},\"pattern\":{\"fillmode\":\"overlay\",\"size\":10,\"solidity\":0.2}},\"type\":\"bar\"}],\"barpolar\":[{\"marker\":{\"line\":{\"color\":\"#E5ECF6\",\"width\":0.5},\"pattern\":{\"fillmode\":\"overlay\",\"size\":10,\"solidity\":0.2}},\"type\":\"barpolar\"}],\"carpet\":[{\"aaxis\":{\"endlinecolor\":\"#2a3f5f\",\"gridcolor\":\"white\",\"linecolor\":\"white\",\"minorgridcolor\":\"white\",\"startlinecolor\":\"#2a3f5f\"},\"baxis\":{\"endlinecolor\":\"#2a3f5f\",\"gridcolor\":\"white\",\"linecolor\":\"white\",\"minorgridcolor\":\"white\",\"startlinecolor\":\"#2a3f5f\"},\"type\":\"carpet\"}],\"choropleth\":[{\"colorbar\":{\"outlinewidth\":0,\"ticks\":\"\"},\"type\":\"choropleth\"}],\"contour\":[{\"colorbar\":{\"outlinewidth\":0,\"ticks\":\"\"},\"colorscale\":[[0.0,\"#0d0887\"],[0.1111111111111111,\"#46039f\"],[0.2222222222222222,\"#7201a8\"],[0.3333333333333333,\"#9c179e\"],[0.4444444444444444,\"#bd3786\"],[0.5555555555555556,\"#d8576b\"],[0.6666666666666666,\"#ed7953\"],[0.7777777777777778,\"#fb9f3a\"],[0.8888888888888888,\"#fdca26\"],[1.0,\"#f0f921\"]],\"type\":\"contour\"}],\"contourcarpet\":[{\"colorbar\":{\"outlinewidth\":0,\"ticks\":\"\"},\"type\":\"contourcarpet\"}],\"heatmap\":[{\"colorbar\":{\"outlinewidth\":0,\"ticks\":\"\"},\"colorscale\":[[0.0,\"#0d0887\"],[0.1111111111111111,\"#46039f\"],[0.2222222222222222,\"#7201a8\"],[0.3333333333333333,\"#9c179e\"],[0.4444444444444444,\"#bd3786\"],[0.5555555555555556,\"#d8576b\"],[0.6666666666666666,\"#ed7953\"],[0.7777777777777778,\"#fb9f3a\"],[0.8888888888888888,\"#fdca26\"],[1.0,\"#f0f921\"]],\"type\":\"heatmap\"}],\"heatmapgl\":[{\"colorbar\":{\"outlinewidth\":0,\"ticks\":\"\"},\"colorscale\":[[0.0,\"#0d0887\"],[0.1111111111111111,\"#46039f\"],[0.2222222222222222,\"#7201a8\"],[0.3333333333333333,\"#9c179e\"],[0.4444444444444444,\"#bd3786\"],[0.5555555555555556,\"#d8576b\"],[0.6666666666666666,\"#ed7953\"],[0.7777777777777778,\"#fb9f3a\"],[0.8888888888888888,\"#fdca26\"],[1.0,\"#f0f921\"]],\"type\":\"heatmapgl\"}],\"histogram\":[{\"marker\":{\"pattern\":{\"fillmode\":\"overlay\",\"size\":10,\"solidity\":0.2}},\"type\":\"histogram\"}],\"histogram2d\":[{\"colorbar\":{\"outlinewidth\":0,\"ticks\":\"\"},\"colorscale\":[[0.0,\"#0d0887\"],[0.1111111111111111,\"#46039f\"],[0.2222222222222222,\"#7201a8\"],[0.3333333333333333,\"#9c179e\"],[0.4444444444444444,\"#bd3786\"],[0.5555555555555556,\"#d8576b\"],[0.6666666666666666,\"#ed7953\"],[0.7777777777777778,\"#fb9f3a\"],[0.8888888888888888,\"#fdca26\"],[1.0,\"#f0f921\"]],\"type\":\"histogram2d\"}],\"histogram2dcontour\":[{\"colorbar\":{\"outlinewidth\":0,\"ticks\":\"\"},\"colorscale\":[[0.0,\"#0d0887\"],[0.1111111111111111,\"#46039f\"],[0.2222222222222222,\"#7201a8\"],[0.3333333333333333,\"#9c179e\"],[0.4444444444444444,\"#bd3786\"],[0.5555555555555556,\"#d8576b\"],[0.6666666666666666,\"#ed7953\"],[0.7777777777777778,\"#fb9f3a\"],[0.8888888888888888,\"#fdca26\"],[1.0,\"#f0f921\"]],\"type\":\"histogram2dcontour\"}],\"mesh3d\":[{\"colorbar\":{\"outlinewidth\":0,\"ticks\":\"\"},\"type\":\"mesh3d\"}],\"parcoords\":[{\"line\":{\"colorbar\":{\"outlinewidth\":0,\"ticks\":\"\"}},\"type\":\"parcoords\"}],\"pie\":[{\"automargin\":true,\"type\":\"pie\"}],\"scatter\":[{\"marker\":{\"colorbar\":{\"outlinewidth\":0,\"ticks\":\"\"}},\"type\":\"scatter\"}],\"scatter3d\":[{\"line\":{\"colorbar\":{\"outlinewidth\":0,\"ticks\":\"\"}},\"marker\":{\"colorbar\":{\"outlinewidth\":0,\"ticks\":\"\"}},\"type\":\"scatter3d\"}],\"scattercarpet\":[{\"marker\":{\"colorbar\":{\"outlinewidth\":0,\"ticks\":\"\"}},\"type\":\"scattercarpet\"}],\"scattergeo\":[{\"marker\":{\"colorbar\":{\"outlinewidth\":0,\"ticks\":\"\"}},\"type\":\"scattergeo\"}],\"scattergl\":[{\"marker\":{\"colorbar\":{\"outlinewidth\":0,\"ticks\":\"\"}},\"type\":\"scattergl\"}],\"scattermapbox\":[{\"marker\":{\"colorbar\":{\"outlinewidth\":0,\"ticks\":\"\"}},\"type\":\"scattermapbox\"}],\"scatterpolar\":[{\"marker\":{\"colorbar\":{\"outlinewidth\":0,\"ticks\":\"\"}},\"type\":\"scatterpolar\"}],\"scatterpolargl\":[{\"marker\":{\"colorbar\":{\"outlinewidth\":0,\"ticks\":\"\"}},\"type\":\"scatterpolargl\"}],\"scatterternary\":[{\"marker\":{\"colorbar\":{\"outlinewidth\":0,\"ticks\":\"\"}},\"type\":\"scatterternary\"}],\"surface\":[{\"colorbar\":{\"outlinewidth\":0,\"ticks\":\"\"},\"colorscale\":[[0.0,\"#0d0887\"],[0.1111111111111111,\"#46039f\"],[0.2222222222222222,\"#7201a8\"],[0.3333333333333333,\"#9c179e\"],[0.4444444444444444,\"#bd3786\"],[0.5555555555555556,\"#d8576b\"],[0.6666666666666666,\"#ed7953\"],[0.7777777777777778,\"#fb9f3a\"],[0.8888888888888888,\"#fdca26\"],[1.0,\"#f0f921\"]],\"type\":\"surface\"}],\"table\":[{\"cells\":{\"fill\":{\"color\":\"#EBF0F8\"},\"line\":{\"color\":\"white\"}},\"header\":{\"fill\":{\"color\":\"#C8D4E3\"},\"line\":{\"color\":\"white\"}},\"type\":\"table\"}]},\"layout\":{\"annotationdefaults\":{\"arrowcolor\":\"#2a3f5f\",\"arrowhead\":0,\"arrowwidth\":1},\"autotypenumbers\":\"strict\",\"coloraxis\":{\"colorbar\":{\"outlinewidth\":0,\"ticks\":\"\"}},\"colorscale\":{\"diverging\":[[0,\"#8e0152\"],[0.1,\"#c51b7d\"],[0.2,\"#de77ae\"],[0.3,\"#f1b6da\"],[0.4,\"#fde0ef\"],[0.5,\"#f7f7f7\"],[0.6,\"#e6f5d0\"],[0.7,\"#b8e186\"],[0.8,\"#7fbc41\"],[0.9,\"#4d9221\"],[1,\"#276419\"]],\"sequential\":[[0.0,\"#0d0887\"],[0.1111111111111111,\"#46039f\"],[0.2222222222222222,\"#7201a8\"],[0.3333333333333333,\"#9c179e\"],[0.4444444444444444,\"#bd3786\"],[0.5555555555555556,\"#d8576b\"],[0.6666666666666666,\"#ed7953\"],[0.7777777777777778,\"#fb9f3a\"],[0.8888888888888888,\"#fdca26\"],[1.0,\"#f0f921\"]],\"sequentialminus\":[[0.0,\"#0d0887\"],[0.1111111111111111,\"#46039f\"],[0.2222222222222222,\"#7201a8\"],[0.3333333333333333,\"#9c179e\"],[0.4444444444444444,\"#bd3786\"],[0.5555555555555556,\"#d8576b\"],[0.6666666666666666,\"#ed7953\"],[0.7777777777777778,\"#fb9f3a\"],[0.8888888888888888,\"#fdca26\"],[1.0,\"#f0f921\"]]},\"colorway\":[\"#636efa\",\"#EF553B\",\"#00cc96\",\"#ab63fa\",\"#FFA15A\",\"#19d3f3\",\"#FF6692\",\"#B6E880\",\"#FF97FF\",\"#FECB52\"],\"font\":{\"color\":\"#2a3f5f\"},\"geo\":{\"bgcolor\":\"white\",\"lakecolor\":\"white\",\"landcolor\":\"#E5ECF6\",\"showlakes\":true,\"showland\":true,\"subunitcolor\":\"white\"},\"hoverlabel\":{\"align\":\"left\"},\"hovermode\":\"closest\",\"mapbox\":{\"style\":\"light\"},\"paper_bgcolor\":\"white\",\"plot_bgcolor\":\"#E5ECF6\",\"polar\":{\"angularaxis\":{\"gridcolor\":\"white\",\"linecolor\":\"white\",\"ticks\":\"\"},\"bgcolor\":\"#E5ECF6\",\"radialaxis\":{\"gridcolor\":\"white\",\"linecolor\":\"white\",\"ticks\":\"\"}},\"scene\":{\"xaxis\":{\"backgroundcolor\":\"#E5ECF6\",\"gridcolor\":\"white\",\"gridwidth\":2,\"linecolor\":\"white\",\"showbackground\":true,\"ticks\":\"\",\"zerolinecolor\":\"white\"},\"yaxis\":{\"backgroundcolor\":\"#E5ECF6\",\"gridcolor\":\"white\",\"gridwidth\":2,\"linecolor\":\"white\",\"showbackground\":true,\"ticks\":\"\",\"zerolinecolor\":\"white\"},\"zaxis\":{\"backgroundcolor\":\"#E5ECF6\",\"gridcolor\":\"white\",\"gridwidth\":2,\"linecolor\":\"white\",\"showbackground\":true,\"ticks\":\"\",\"zerolinecolor\":\"white\"}},\"shapedefaults\":{\"line\":{\"color\":\"#2a3f5f\"}},\"ternary\":{\"aaxis\":{\"gridcolor\":\"white\",\"linecolor\":\"white\",\"ticks\":\"\"},\"baxis\":{\"gridcolor\":\"white\",\"linecolor\":\"white\",\"ticks\":\"\"},\"bgcolor\":\"#E5ECF6\",\"caxis\":{\"gridcolor\":\"white\",\"linecolor\":\"white\",\"ticks\":\"\"}},\"title\":{\"x\":0.05},\"xaxis\":{\"automargin\":true,\"gridcolor\":\"white\",\"linecolor\":\"white\",\"ticks\":\"\",\"title\":{\"standoff\":15},\"zerolinecolor\":\"white\",\"zerolinewidth\":2},\"yaxis\":{\"automargin\":true,\"gridcolor\":\"white\",\"linecolor\":\"white\",\"ticks\":\"\",\"title\":{\"standoff\":15},\"zerolinecolor\":\"white\",\"zerolinewidth\":2}}},\"xaxis\":{\"anchor\":\"y\",\"domain\":[0.0,1.0],\"title\":{\"text\":\"OP_CARRIER\"}},\"yaxis\":{\"anchor\":\"x\",\"domain\":[0.0,1.0],\"title\":{\"text\":\"value\"}},\"legend\":{\"title\":{\"text\":\"variable\"},\"tracegroupgap\":0},\"margin\":{\"t\":60},\"barmode\":\"relative\"},                        {\"responsive\": true}                    ).then(function(){\n",
              "                            \n",
              "var gd = document.getElementById('0bcd3a78-e8a2-455b-b268-25df1fe4d409');\n",
              "var x = new MutationObserver(function (mutations, observer) {{\n",
              "        var display = window.getComputedStyle(gd).display;\n",
              "        if (!display || display === 'none') {{\n",
              "            console.log([gd, 'removed!']);\n",
              "            Plotly.purge(gd);\n",
              "            observer.disconnect();\n",
              "        }}\n",
              "}});\n",
              "\n",
              "// Listen for the removal of the full notebook cells\n",
              "var notebookContainer = gd.closest('#notebook-container');\n",
              "if (notebookContainer) {{\n",
              "    x.observe(notebookContainer, {childList: true});\n",
              "}}\n",
              "\n",
              "// Listen for the clearing of the current output cell\n",
              "var outputEl = gd.closest('.output');\n",
              "if (outputEl) {{\n",
              "    x.observe(outputEl, {childList: true});\n",
              "}}\n",
              "\n",
              "                        })                };                            </script>        </div>\n",
              "</body>\n",
              "</html>"
            ]
          },
          "metadata": {}
        }
      ]
    },
    {
      "cell_type": "code",
      "source": [
        "kdf.plot(x='DEP_DELAY', y='ARR_DELAY', kind='scatter')"
      ],
      "metadata": {
        "colab": {
          "base_uri": "https://localhost:8080/",
          "height": 542
        },
        "id": "0ZTJhgnJRwjL",
        "outputId": "523b4aa7-c294-4a35-9fed-d90ae226cc16"
      },
      "execution_count": null,
      "outputs": [
        {
          "output_type": "display_data",
          "data": {
            "text/html": [
              "<html>\n",
              "<head><meta charset=\"utf-8\" /></head>\n",
              "<body>\n",
              "    <div>            <script src=\"https://cdnjs.cloudflare.com/ajax/libs/mathjax/2.7.5/MathJax.js?config=TeX-AMS-MML_SVG\"></script><script type=\"text/javascript\">if (window.MathJax) {MathJax.Hub.Config({SVG: {font: \"STIX-Web\"}});}</script>                <script type=\"text/javascript\">window.PlotlyConfig = {MathJaxConfig: 'local'};</script>\n",
              "        <script src=\"https://cdn.plot.ly/plotly-2.8.3.min.js\"></script>                <div id=\"ea941ad9-8d9c-44f6-b5d7-03082c09800d\" class=\"plotly-graph-div\" style=\"height:525px; width:100%;\"></div>            <script type=\"text/javascript\">                                    window.PLOTLYENV=window.PLOTLYENV || {};                                    if (document.getElementById(\"ea941ad9-8d9c-44f6-b5d7-03082c09800d\")) {                    Plotly.newPlot(                        \"ea941ad9-8d9c-44f6-b5d7-03082c09800d\",                        [{\"hovertemplate\":\"DEP_DELAY=%{x}<br>ARR_DELAY=%{y}<extra></extra>\",\"legendgroup\":\"\",\"marker\":{\"color\":\"#636efa\",\"symbol\":\"circle\"},\"mode\":\"markers\",\"name\":\"\",\"orientation\":\"v\",\"showlegend\":false,\"x\":[0.0,5.0,1.0,4.0,72.0,83.0,86.0,1.0,-1.0,-3.0,-2.0,-7.0,-1.0,-10.0,-4.0,-5.0,-3.0,0.0,-3.0,-4.0,7.0,-4.0,-6.0,-6.0,0.0,11.0,0.0,-3.0,-5.0,0.0,0.0,-1.0,2.0,1.0,0.0,0.0,1.0,-3.0,-1.0,0.0,4.0,-4.0,17.0,0.0,-1.0,49.0,-1.0,46.0,1.0,-2.0,0.0,17.0,-2.0,-5.0,6.0,-7.0,0.0,-1.0,-6.0,-1.0,33.0,-5.0,1.0,-2.0,-5.0,-3.0,4.0,-5.0,-6.0,0.0,-4.0,-9.0,-2.0,-1.0,71.0,-3.0,-3.0,3.0,1.0,1.0,-3.0,-1.0,24.0,15.0,-8.0,-2.0,15.0,-3.0,-6.0,-4.0,-2.0,5.0,0.0,-1.0,-1.0,-5.0,-7.0,-3.0,-1.0,-5.0,-12.0,-7.0,-3.0,-7.0,16.0,-4.0,-4.0,-2.0,-3.0,-4.0,-3.0,0.0,10.0,-5.0,-1.0,36.0,32.0,0.0,-2.0,10.0,2.0,140.0,-11.0,0.0,-3.0,2.0,-1.0,-6.0,-3.0,-4.0,63.0,10.0,-7.0,-1.0,-3.0,1.0,-7.0,-1.0,-2.0,-1.0,0.0,-5.0,-3.0,5.0,1.0,-3.0,-14.0,-1.0,6.0,-2.0,-6.0,12.0,4.0,6.0,-5.0,-7.0,8.0,12.0,-6.0,12.0,18.0,-6.0,-4.0,8.0,0.0,-3.0,-5.0,-5.0,-3.0,1.0,-1.0,-2.0,0.0,-2.0,-1.0,0.0,-6.0,-2.0,0.0,-2.0,0.0,-2.0,-1.0,-4.0,-9.0,-6.0,22.0,7.0,-21.0,0.0,-6.0,-3.0,-1.0,-4.0,12.0,-3.0,-7.0,-4.0,0.0,-4.0,-4.0,-7.0,-4.0,-2.0,10.0,2.0,9.0,-3.0,-5.0,-3.0,0.0,3.0,-1.0,-6.0,-8.0,29.0,-4.0,3.0,36.0,0.0,-1.0,-6.0,-2.0,5.0,-3.0,-11.0,-3.0,12.0,6.0,-1.0,-3.0,41.0,21.0,7.0,-5.0,-7.0,5.0,-6.0,-5.0,-5.0,-1.0,-2.0,-5.0,4.0,-1.0,-3.0,2.0,-2.0,-5.0,-3.0,-4.0,-3.0,58.0,47.0,-5.0,-3.0,-4.0,-2.0,-4.0,-1.0,-1.0,-4.0,-1.0,-8.0,-6.0,11.0,1.0,10.0,-2.0,-1.0,-3.0,-6.0,19.0,0.0,460.0,-1.0,6.0,0.0,2.0,11.0,2.0,2.0,-2.0,-1.0,-5.0,-5.0,-10.0,1.0,0.0,-3.0,-3.0,-6.0,-5.0,1.0,0.0,8.0,-1.0,0.0,2.0,124.0,114.0,25.0,1.0,9.0,-1.0,-4.0,-3.0,3.0,9.0,-1.0,0.0,2.0,7.0,11.0,-7.0,-3.0,-14.0,-1.0,-3.0,-2.0,-3.0,-3.0,-4.0,-3.0,9.0,16.0,-3.0,-2.0,-5.0,-4.0,-7.0,24.0,13.0,-4.0,-4.0,-3.0,0.0,51.0,-2.0,0.0,-2.0,11.0,-5.0,-4.0,-3.0,22.0,1.0,-1.0,-1.0,0.0,-3.0,-7.0,-2.0,-6.0,-2.0,-1.0,-4.0,-1.0,-3.0,-2.0,-2.0,11.0,-2.0,0.0,-6.0,-1.0,-2.0,-1.0,-5.0,-3.0,15.0,-3.0,-1.0,25.0,8.0,-1.0,-2.0,-2.0,-3.0,-7.0,-8.0,0.0,8.0,17.0,-2.0,-3.0,-4.0,-2.0,-5.0,-5.0,3.0,-1.0,50.0,-4.0,-1.0,-1.0,-2.0,3.0,-5.0,3.0,0.0,-3.0,-1.0,-5.0,-1.0,5.0,-3.0,-6.0,-4.0,-2.0,1.0,-2.0,-6.0,1.0,-3.0,0.0,-2.0,-3.0,0.0,-4.0,1.0,0.0,-7.0,-1.0,-2.0,15.0,33.0,0.0,2.0,-5.0,-2.0,1.0,-2.0,17.0,-1.0,-1.0,-1.0,-1.0,17.0,11.0,-11.0,0.0,-5.0,-1.0,-3.0,-5.0,-6.0,-5.0,26.0,-4.0,-2.0,-2.0,-3.0,-1.0,2.0,-7.0,-4.0,35.0,-3.0,11.0,10.0,12.0,-4.0,-3.0,4.0,-1.0,0.0,28.0,21.0,-2.0,-1.0,-3.0,-2.0,111.0,93.0,-2.0,45.0,-2.0,-4.0,-2.0,-2.0,-4.0,-9.0,1.0,15.0,14.0,-1.0,-8.0,15.0,-4.0,-7.0,-4.0,-3.0,0.0,-4.0,-12.0,-3.0,-4.0,-1.0,0.0,-5.0,-1.0,-4.0,-1.0,8.0,-2.0,0.0,7.0,0.0,5.0,-2.0,-6.0,-7.0,4.0,0.0,-4.0,-2.0,-3.0,-4.0,-1.0,-2.0,0.0,16.0,-1.0,12.0,-1.0,0.0,1.0,2.0,-2.0,1.0,-5.0,-5.0,-2.0,-1.0,18.0,-7.0,-2.0,-6.0,67.0,56.0,-11.0,-3.0,1.0,145.0,-3.0,-15.0,-2.0,-1.0,-3.0,7.0,-6.0,2.0,-4.0,-3.0,12.0,16.0,-2.0,1.0,31.0,1.0,-4.0,0.0,-2.0,24.0,83.0,1.0,19.0,3.0,25.0,48.0,-3.0,-5.0,9.0,3.0,-6.0,8.0,-5.0,4.0,-4.0,-6.0,-5.0,-4.0,-2.0,-4.0,0.0,-1.0,10.0,1.0,-2.0,5.0,0.0,-3.0,-1.0,5.0,-1.0,-3.0,-2.0,-1.0,-5.0,-5.0,-3.0,-4.0,-2.0,6.0,-5.0,-2.0,3.0,-4.0,-4.0,-3.0,-7.0,-1.0,-3.0,-3.0,-4.0,-6.0,0.0,6.0,-4.0,-1.0,0.0,-6.0,-4.0,-9.0,-1.0,-9.0,101.0,0.0,3.0,-3.0,5.0,-2.0,0.0,-1.0,82.0,0.0,-4.0,-4.0,-1.0,-2.0,-3.0,-3.0,1.0,23.0,-4.0,4.0,-6.0,-3.0,1.0,-3.0,13.0,1.0,10.0,-4.0,-7.0,-2.0,-4.0,-7.0,13.0,-2.0,1.0,1.0,-5.0,11.0,-3.0,26.0,-3.0,5.0,-3.0,25.0,0.0,-6.0,-3.0,10.0,-2.0,-6.0,-2.0,0.0,20.0,-3.0,7.0,2.0,-5.0,25.0,2.0,9.0,-3.0,-4.0,-9.0,15.0,-4.0,1.0,-3.0,3.0,-13.0,-2.0,-4.0,-9.0,3.0,5.0,10.0,49.0,13.0,-5.0,4.0,20.0,18.0,-5.0,-10.0,-21.0,1.0,-19.0,-7.0,-22.0,-46.0,1.0,-26.0,-14.0,-15.0,-15.0,-19.0,-17.0,-10.0,-8.0,-8.0,-1.0,-12.0,-23.0,-31.0,-9.0,-15.0,1.0,-18.0,-16.0,-20.0,-2.0,-24.0,-9.0,4.0,-21.0,-5.0,-17.0,-11.0,1.0,-1.0,-3.0,10.0,50.0,11.0,-10.0,-6.0,4.0,10.0,0.0,-7.0,-4.0,-10.0,22.0,-1.0,-1.0,-1.0,-4.0,17.0,-12.0,-3.0,26.0,113.0,-5.0,-6.0,-9.0,-4.0,-17.0,-6.0,-5.0,-1.0,53.0,-4.0,23.0,-1.0,-6.0,-8.0,49.0,49.0,-10.0,-5.0,-6.0,-8.0,-8.0,-8.0,2.0,-3.0,-5.0,-8.0,-5.0,19.0,-8.0,3.0,-1.0,200.0,-6.0,9.0,-6.0,-1.0,14.0,-5.0,9.0,-21.0,-6.0,-2.0,17.0,0.0,2.0,2.0,15.0,-13.0,-3.0,-4.0,-9.0,-3.0,-8.0,-8.0,10.0,-3.0,-11.0,-4.0,17.0,-7.0,-11.0,-2.0,-9.0,-15.0,-4.0,-14.0,-9.0,-4.0,5.0,6.0,2.0,-5.0,7.0,10.0,0.0,0.0,4.0,2.0,-1.0,-6.0,-6.0,-16.0,-11.0,-5.0,22.0,-11.0,-8.0,6.0,-7.0,9.0,-7.0,3.0,-1.0,-3.0,-8.0,-4.0,-4.0,5.0,-6.0,-4.0,-7.0,-1.0,-4.0,12.0,-6.0,-7.0,-4.0,-8.0,-4.0,4.0,-7.0,-4.0,-7.0,-8.0,-3.0,0.0,-4.0,-4.0,-3.0,-5.0,16.0,-8.0,-11.0,-1.0,-4.0,-3.0,-11.0,15.0,-7.0,-5.0,14.0,-4.0,9.0,-2.0,-1.0,8.0,6.0,-1.0,-6.0,-4.0,5.0,0.0,-6.0,9.0,-1.0,100.0,-4.0,-8.0,-5.0,-1.0,-3.0,-7.0,-5.0,-6.0,-4.0,-6.0,-5.0,-6.0,-15.0,11.0,-8.0,-2.0,-2.0,-4.0,-11.0,109.0,51.0,2.0,-1.0,3.0,-3.0,1.0,-8.0,-2.0,-4.0,-17.0,-3.0,-2.0,-4.0,-3.0,0.0,-8.0,-4.0,-4.0,-2.0,-10.0,0.0,-1.0,0.0,-8.0,-2.0,-5.0,1.0,-9.0,-3.0,1.0,20.0,16.0,-5.0,-8.0,-6.0,40.0,-3.0,-6.0,-4.0,-6.0,-9.0,-12.0,-3.0,-5.0,-16.0,3.0,-12.0,40.0,-6.0,-13.0,2.0,7.0,-2.0,-8.0,-5.0,-6.0,4.0,-3.0,-1.0,-2.0,9.0,-4.0,0.0,-7.0,15.0,0.0],\"xaxis\":\"x\",\"y\":[-24.0,-2.0,-13.0,-16.0,124.0,83.0,74.0,3.0,-15.0,-12.0,-33.0,-14.0,-11.0,-15.0,6.0,-18.0,6.0,-26.0,-10.0,-20.0,-2.0,-19.0,-26.0,-11.0,-11.0,-4.0,5.0,-16.0,-28.0,9.0,-4.0,-6.0,-9.0,-3.0,-25.0,-16.0,2.0,-3.0,-26.0,-12.0,-3.0,-8.0,2.0,-9.0,-7.0,28.0,6.0,11.0,0.0,-15.0,-12.0,-2.0,-9.0,-1.0,-6.0,-16.0,-19.0,-9.0,-26.0,-7.0,31.0,-18.0,24.0,-22.0,-11.0,-19.0,2.0,-9.0,-7.0,-17.0,-13.0,-6.0,2.0,7.0,45.0,27.0,-12.0,-8.0,-16.0,-14.0,-24.0,-4.0,15.0,5.0,-14.0,0.0,6.0,-23.0,-21.0,-17.0,-18.0,-13.0,-7.0,-10.0,6.0,-26.0,-3.0,-13.0,-9.0,-18.0,-11.0,-20.0,-14.0,-12.0,-5.0,-5.0,-17.0,-11.0,-9.0,-9.0,-1.0,4.0,1.0,-6.0,-14.0,33.0,14.0,-5.0,-20.0,4.0,-8.0,108.0,-12.0,-16.0,-17.0,-41.0,-24.0,-16.0,-11.0,-30.0,67.0,-4.0,-23.0,-2.0,-10.0,-12.0,-51.0,4.0,-25.0,-11.0,-12.0,-17.0,-12.0,-14.0,7.0,-18.0,-19.0,5.0,3.0,-7.0,-16.0,0.0,-17.0,8.0,-12.0,0.0,-12.0,7.0,-26.0,22.0,21.0,-17.0,-36.0,-5.0,-3.0,-12.0,-14.0,-29.0,-16.0,-15.0,5.0,-20.0,-5.0,3.0,-20.0,-2.0,-9.0,-8.0,1.0,-7.0,-4.0,-7.0,4.0,-18.0,-5.0,-9.0,10.0,3.0,-39.0,-23.0,-14.0,-17.0,-14.0,-7.0,39.0,-7.0,-15.0,-11.0,-7.0,-15.0,2.0,-24.0,-14.0,-10.0,0.0,-17.0,8.0,-30.0,-23.0,-19.0,-1.0,2.0,-11.0,-8.0,-20.0,17.0,-44.0,-9.0,18.0,-11.0,-12.0,-26.0,-6.0,-5.0,-12.0,-33.0,-22.0,10.0,-9.0,-7.0,-10.0,27.0,24.0,5.0,8.0,-2.0,-24.0,11.0,-10.0,-25.0,-21.0,-8.0,-11.0,-21.0,-14.0,-15.0,14.0,-2.0,-22.0,-18.0,-13.0,-15.0,47.0,36.0,-1.0,-18.0,-13.0,-17.0,-16.0,-7.0,19.0,-8.0,-14.0,-27.0,-17.0,14.0,-9.0,-2.0,-10.0,-8.0,-17.0,22.0,26.0,-7.0,445.0,-20.0,8.0,-8.0,-23.0,7.0,-33.0,-1.0,-2.0,-14.0,-9.0,-11.0,-6.0,-10.0,-15.0,-26.0,-26.0,1.0,10.0,-2.0,-28.0,9.0,0.0,-4.0,-11.0,120.0,94.0,6.0,-8.0,-12.0,-6.0,1.0,-23.0,8.0,33.0,-14.0,-14.0,-38.0,-14.0,11.0,-27.0,-27.0,-33.0,-19.0,-16.0,-8.0,-17.0,-28.0,-10.0,-29.0,-12.0,4.0,-2.0,-19.0,-2.0,-9.0,5.0,12.0,-1.0,-1.0,-8.0,-8.0,-7.0,20.0,-32.0,-23.0,-9.0,13.0,-3.0,-21.0,-25.0,8.0,-9.0,-6.0,-5.0,9.0,-17.0,-43.0,-10.0,-8.0,-7.0,-14.0,-6.0,-40.0,-12.0,-12.0,0.0,-1.0,-26.0,-28.0,-5.0,-6.0,-3.0,-15.0,-13.0,-8.0,-7.0,-4.0,-20.0,-9.0,-14.0,-18.0,-19.0,33.0,-4.0,-27.0,-21.0,-2.0,-4.0,17.0,-3.0,-11.0,-7.0,-3.0,-18.0,-11.0,-17.0,-20.0,32.0,-4.0,-14.0,-11.0,-12.0,-10.0,-17.0,13.0,-27.0,0.0,-11.0,-4.0,-6.0,2.0,-34.0,-27.0,4.0,-9.0,-12.0,-14.0,8.0,-19.0,-6.0,3.0,-16.0,-12.0,-17.0,-11.0,-15.0,-12.0,-22.0,-14.0,-7.0,4.0,27.0,-8.0,-3.0,-17.0,-8.0,10.0,-11.0,10.0,4.0,-17.0,1.0,-22.0,-5.0,-19.0,-33.0,-9.0,-26.0,-14.0,-20.0,-10.0,-23.0,-20.0,9.0,-14.0,-18.0,-9.0,-17.0,-11.0,-17.0,-27.0,-22.0,22.0,-6.0,-14.0,-8.0,-3.0,-9.0,-9.0,61.0,-2.0,-37.0,12.0,6.0,-28.0,-5.0,-11.0,-16.0,97.0,73.0,-16.0,42.0,-6.0,-17.0,-19.0,-2.0,8.0,-11.0,-10.0,8.0,-4.0,-16.0,-22.0,15.0,-8.0,-7.0,7.0,-4.0,-16.0,-11.0,-10.0,-26.0,-8.0,-3.0,-12.0,-5.0,-5.0,6.0,-8.0,-11.0,-6.0,-14.0,-3.0,-34.0,7.0,11.0,-12.0,2.0,-2.0,-7.0,-9.0,-19.0,-11.0,-10.0,-34.0,-4.0,4.0,15.0,1.0,0.0,-12.0,-27.0,-11.0,2.0,0.0,-16.0,-25.0,-23.0,-14.0,-18.0,6.0,-14.0,-21.0,-14.0,65.0,56.0,-14.0,-4.0,-18.0,145.0,-26.0,-31.0,-7.0,-1.0,-8.0,-26.0,-21.0,-3.0,-20.0,-22.0,4.0,21.0,5.0,-16.0,12.0,22.0,-14.0,-24.0,-12.0,16.0,71.0,-7.0,-1.0,-11.0,16.0,36.0,-16.0,10.0,0.0,4.0,-26.0,-5.0,2.0,-14.0,-20.0,-30.0,-25.0,-2.0,-10.0,-25.0,-13.0,-7.0,7.0,-11.0,-35.0,-18.0,-14.0,-25.0,-6.0,-9.0,-9.0,-30.0,16.0,-4.0,-14.0,-15.0,-12.0,-15.0,-19.0,4.0,-19.0,-18.0,-12.0,-23.0,-14.0,-17.0,-15.0,-12.0,-2.0,-1.0,-28.0,-25.0,-10.0,3.0,-26.0,-22.0,-12.0,-17.0,-36.0,5.0,-9.0,-26.0,111.0,-15.0,-4.0,-24.0,-23.0,-7.0,-5.0,-11.0,65.0,5.0,-10.0,-14.0,-10.0,-10.0,-17.0,-4.0,14.0,13.0,-9.0,-13.0,-21.0,-21.0,4.0,-3.0,-3.0,-8.0,16.0,-26.0,-22.0,-16.0,-8.0,-5.0,11.0,-3.0,2.0,-21.0,-21.0,-14.0,-11.0,19.0,-14.0,-7.0,45.0,9.0,-8.0,-48.0,26.0,-25.0,19.0,-24.0,-9.0,-12.0,10.0,-12.0,-48.0,6.0,1.0,-2.0,24.0,-30.0,1.0,-15.0,5.0,-10.0,10.0,-37.0,-9.0,-31.0,-11.0,-44.0,35.0,-9.0,-49.0,6.0,-57.0,50.0,-11.0,11.0,2.0,17.0,7.0,-13.0,-6.0,-22.0,-13.0,-15.0,-19.0,-14.0,-33.0,-6.0,-24.0,-22.0,-15.0,-10.0,-17.0,-11.0,-22.0,-11.0,-1.0,-8.0,-6.0,-21.0,-32.0,-16.0,-5.0,-22.0,-22.0,-14.0,-32.0,-21.0,-31.0,-17.0,-17.0,-24.0,-19.0,-18.0,2.0,-19.0,-35.0,32.0,-24.0,67.0,-17.0,6.0,-36.0,-28.0,-13.0,15.0,-11.0,-33.0,-2.0,-40.0,9.0,17.0,-42.0,-31.0,-22.0,12.0,-52.0,4.0,115.0,17.0,-51.0,5.0,-36.0,-21.0,-28.0,7.0,27.0,37.0,4.0,-14.0,-32.0,-28.0,26.0,59.0,66.0,-10.0,-9.0,17.0,2.0,-13.0,7.0,-36.0,-5.0,-7.0,-20.0,-11.0,5.0,-30.0,1.0,-5.0,187.0,-18.0,13.0,6.0,-16.0,15.0,-5.0,-6.0,-24.0,-4.0,-12.0,7.0,-11.0,-1.0,-1.0,7.0,-23.0,-11.0,-1.0,-20.0,-16.0,15.0,-6.0,-10.0,-5.0,-23.0,-2.0,10.0,-26.0,-20.0,-3.0,-18.0,-12.0,-10.0,-22.0,5.0,-16.0,15.0,-5.0,3.0,-6.0,-18.0,15.0,-16.0,14.0,1.0,-1.0,-2.0,-20.0,-20.0,-25.0,-2.0,-8.0,9.0,-14.0,-8.0,1.0,-4.0,-11.0,8.0,-2.0,-19.0,-11.0,-1.0,-21.0,3.0,8.0,-28.0,0.0,-29.0,-3.0,-27.0,20.0,-21.0,1.0,-12.0,-33.0,-6.0,3.0,-28.0,3.0,-24.0,7.0,-28.0,-15.0,-29.0,4.0,-4.0,-26.0,28.0,-40.0,-29.0,-1.0,-5.0,-4.0,-36.0,29.0,0.0,-29.0,10.0,-1.0,-3.0,5.0,-29.0,9.0,7.0,-18.0,-17.0,8.0,-12.0,-32.0,-8.0,-12.0,-16.0,81.0,-7.0,-24.0,1.0,-22.0,-1.0,-32.0,-4.0,-16.0,7.0,-17.0,-5.0,-13.0,-22.0,8.0,-8.0,-2.0,7.0,3.0,-6.0,101.0,67.0,-9.0,-6.0,1.0,-17.0,4.0,-15.0,-8.0,-21.0,-24.0,12.0,-8.0,2.0,-12.0,5.0,-23.0,-15.0,-27.0,-1.0,-1.0,-11.0,-7.0,-4.0,-3.0,1.0,-11.0,-23.0,-4.0,-5.0,-10.0,29.0,1.0,-2.0,-34.0,0.0,37.0,-9.0,-6.0,-21.0,-16.0,-7.0,-18.0,-5.0,-19.0,-26.0,-12.0,-2.0,36.0,-6.0,2.0,-21.0,-16.0,-1.0,-35.0,-10.0,-9.0,-25.0,-13.0,-1.0,1.0,12.0,-19.0,9.0,-55.0,27.0,-31.0],\"yaxis\":\"y\",\"type\":\"scatter\"}],                        {\"template\":{\"data\":{\"bar\":[{\"error_x\":{\"color\":\"#2a3f5f\"},\"error_y\":{\"color\":\"#2a3f5f\"},\"marker\":{\"line\":{\"color\":\"#E5ECF6\",\"width\":0.5},\"pattern\":{\"fillmode\":\"overlay\",\"size\":10,\"solidity\":0.2}},\"type\":\"bar\"}],\"barpolar\":[{\"marker\":{\"line\":{\"color\":\"#E5ECF6\",\"width\":0.5},\"pattern\":{\"fillmode\":\"overlay\",\"size\":10,\"solidity\":0.2}},\"type\":\"barpolar\"}],\"carpet\":[{\"aaxis\":{\"endlinecolor\":\"#2a3f5f\",\"gridcolor\":\"white\",\"linecolor\":\"white\",\"minorgridcolor\":\"white\",\"startlinecolor\":\"#2a3f5f\"},\"baxis\":{\"endlinecolor\":\"#2a3f5f\",\"gridcolor\":\"white\",\"linecolor\":\"white\",\"minorgridcolor\":\"white\",\"startlinecolor\":\"#2a3f5f\"},\"type\":\"carpet\"}],\"choropleth\":[{\"colorbar\":{\"outlinewidth\":0,\"ticks\":\"\"},\"type\":\"choropleth\"}],\"contour\":[{\"colorbar\":{\"outlinewidth\":0,\"ticks\":\"\"},\"colorscale\":[[0.0,\"#0d0887\"],[0.1111111111111111,\"#46039f\"],[0.2222222222222222,\"#7201a8\"],[0.3333333333333333,\"#9c179e\"],[0.4444444444444444,\"#bd3786\"],[0.5555555555555556,\"#d8576b\"],[0.6666666666666666,\"#ed7953\"],[0.7777777777777778,\"#fb9f3a\"],[0.8888888888888888,\"#fdca26\"],[1.0,\"#f0f921\"]],\"type\":\"contour\"}],\"contourcarpet\":[{\"colorbar\":{\"outlinewidth\":0,\"ticks\":\"\"},\"type\":\"contourcarpet\"}],\"heatmap\":[{\"colorbar\":{\"outlinewidth\":0,\"ticks\":\"\"},\"colorscale\":[[0.0,\"#0d0887\"],[0.1111111111111111,\"#46039f\"],[0.2222222222222222,\"#7201a8\"],[0.3333333333333333,\"#9c179e\"],[0.4444444444444444,\"#bd3786\"],[0.5555555555555556,\"#d8576b\"],[0.6666666666666666,\"#ed7953\"],[0.7777777777777778,\"#fb9f3a\"],[0.8888888888888888,\"#fdca26\"],[1.0,\"#f0f921\"]],\"type\":\"heatmap\"}],\"heatmapgl\":[{\"colorbar\":{\"outlinewidth\":0,\"ticks\":\"\"},\"colorscale\":[[0.0,\"#0d0887\"],[0.1111111111111111,\"#46039f\"],[0.2222222222222222,\"#7201a8\"],[0.3333333333333333,\"#9c179e\"],[0.4444444444444444,\"#bd3786\"],[0.5555555555555556,\"#d8576b\"],[0.6666666666666666,\"#ed7953\"],[0.7777777777777778,\"#fb9f3a\"],[0.8888888888888888,\"#fdca26\"],[1.0,\"#f0f921\"]],\"type\":\"heatmapgl\"}],\"histogram\":[{\"marker\":{\"pattern\":{\"fillmode\":\"overlay\",\"size\":10,\"solidity\":0.2}},\"type\":\"histogram\"}],\"histogram2d\":[{\"colorbar\":{\"outlinewidth\":0,\"ticks\":\"\"},\"colorscale\":[[0.0,\"#0d0887\"],[0.1111111111111111,\"#46039f\"],[0.2222222222222222,\"#7201a8\"],[0.3333333333333333,\"#9c179e\"],[0.4444444444444444,\"#bd3786\"],[0.5555555555555556,\"#d8576b\"],[0.6666666666666666,\"#ed7953\"],[0.7777777777777778,\"#fb9f3a\"],[0.8888888888888888,\"#fdca26\"],[1.0,\"#f0f921\"]],\"type\":\"histogram2d\"}],\"histogram2dcontour\":[{\"colorbar\":{\"outlinewidth\":0,\"ticks\":\"\"},\"colorscale\":[[0.0,\"#0d0887\"],[0.1111111111111111,\"#46039f\"],[0.2222222222222222,\"#7201a8\"],[0.3333333333333333,\"#9c179e\"],[0.4444444444444444,\"#bd3786\"],[0.5555555555555556,\"#d8576b\"],[0.6666666666666666,\"#ed7953\"],[0.7777777777777778,\"#fb9f3a\"],[0.8888888888888888,\"#fdca26\"],[1.0,\"#f0f921\"]],\"type\":\"histogram2dcontour\"}],\"mesh3d\":[{\"colorbar\":{\"outlinewidth\":0,\"ticks\":\"\"},\"type\":\"mesh3d\"}],\"parcoords\":[{\"line\":{\"colorbar\":{\"outlinewidth\":0,\"ticks\":\"\"}},\"type\":\"parcoords\"}],\"pie\":[{\"automargin\":true,\"type\":\"pie\"}],\"scatter\":[{\"marker\":{\"colorbar\":{\"outlinewidth\":0,\"ticks\":\"\"}},\"type\":\"scatter\"}],\"scatter3d\":[{\"line\":{\"colorbar\":{\"outlinewidth\":0,\"ticks\":\"\"}},\"marker\":{\"colorbar\":{\"outlinewidth\":0,\"ticks\":\"\"}},\"type\":\"scatter3d\"}],\"scattercarpet\":[{\"marker\":{\"colorbar\":{\"outlinewidth\":0,\"ticks\":\"\"}},\"type\":\"scattercarpet\"}],\"scattergeo\":[{\"marker\":{\"colorbar\":{\"outlinewidth\":0,\"ticks\":\"\"}},\"type\":\"scattergeo\"}],\"scattergl\":[{\"marker\":{\"colorbar\":{\"outlinewidth\":0,\"ticks\":\"\"}},\"type\":\"scattergl\"}],\"scattermapbox\":[{\"marker\":{\"colorbar\":{\"outlinewidth\":0,\"ticks\":\"\"}},\"type\":\"scattermapbox\"}],\"scatterpolar\":[{\"marker\":{\"colorbar\":{\"outlinewidth\":0,\"ticks\":\"\"}},\"type\":\"scatterpolar\"}],\"scatterpolargl\":[{\"marker\":{\"colorbar\":{\"outlinewidth\":0,\"ticks\":\"\"}},\"type\":\"scatterpolargl\"}],\"scatterternary\":[{\"marker\":{\"colorbar\":{\"outlinewidth\":0,\"ticks\":\"\"}},\"type\":\"scatterternary\"}],\"surface\":[{\"colorbar\":{\"outlinewidth\":0,\"ticks\":\"\"},\"colorscale\":[[0.0,\"#0d0887\"],[0.1111111111111111,\"#46039f\"],[0.2222222222222222,\"#7201a8\"],[0.3333333333333333,\"#9c179e\"],[0.4444444444444444,\"#bd3786\"],[0.5555555555555556,\"#d8576b\"],[0.6666666666666666,\"#ed7953\"],[0.7777777777777778,\"#fb9f3a\"],[0.8888888888888888,\"#fdca26\"],[1.0,\"#f0f921\"]],\"type\":\"surface\"}],\"table\":[{\"cells\":{\"fill\":{\"color\":\"#EBF0F8\"},\"line\":{\"color\":\"white\"}},\"header\":{\"fill\":{\"color\":\"#C8D4E3\"},\"line\":{\"color\":\"white\"}},\"type\":\"table\"}]},\"layout\":{\"annotationdefaults\":{\"arrowcolor\":\"#2a3f5f\",\"arrowhead\":0,\"arrowwidth\":1},\"autotypenumbers\":\"strict\",\"coloraxis\":{\"colorbar\":{\"outlinewidth\":0,\"ticks\":\"\"}},\"colorscale\":{\"diverging\":[[0,\"#8e0152\"],[0.1,\"#c51b7d\"],[0.2,\"#de77ae\"],[0.3,\"#f1b6da\"],[0.4,\"#fde0ef\"],[0.5,\"#f7f7f7\"],[0.6,\"#e6f5d0\"],[0.7,\"#b8e186\"],[0.8,\"#7fbc41\"],[0.9,\"#4d9221\"],[1,\"#276419\"]],\"sequential\":[[0.0,\"#0d0887\"],[0.1111111111111111,\"#46039f\"],[0.2222222222222222,\"#7201a8\"],[0.3333333333333333,\"#9c179e\"],[0.4444444444444444,\"#bd3786\"],[0.5555555555555556,\"#d8576b\"],[0.6666666666666666,\"#ed7953\"],[0.7777777777777778,\"#fb9f3a\"],[0.8888888888888888,\"#fdca26\"],[1.0,\"#f0f921\"]],\"sequentialminus\":[[0.0,\"#0d0887\"],[0.1111111111111111,\"#46039f\"],[0.2222222222222222,\"#7201a8\"],[0.3333333333333333,\"#9c179e\"],[0.4444444444444444,\"#bd3786\"],[0.5555555555555556,\"#d8576b\"],[0.6666666666666666,\"#ed7953\"],[0.7777777777777778,\"#fb9f3a\"],[0.8888888888888888,\"#fdca26\"],[1.0,\"#f0f921\"]]},\"colorway\":[\"#636efa\",\"#EF553B\",\"#00cc96\",\"#ab63fa\",\"#FFA15A\",\"#19d3f3\",\"#FF6692\",\"#B6E880\",\"#FF97FF\",\"#FECB52\"],\"font\":{\"color\":\"#2a3f5f\"},\"geo\":{\"bgcolor\":\"white\",\"lakecolor\":\"white\",\"landcolor\":\"#E5ECF6\",\"showlakes\":true,\"showland\":true,\"subunitcolor\":\"white\"},\"hoverlabel\":{\"align\":\"left\"},\"hovermode\":\"closest\",\"mapbox\":{\"style\":\"light\"},\"paper_bgcolor\":\"white\",\"plot_bgcolor\":\"#E5ECF6\",\"polar\":{\"angularaxis\":{\"gridcolor\":\"white\",\"linecolor\":\"white\",\"ticks\":\"\"},\"bgcolor\":\"#E5ECF6\",\"radialaxis\":{\"gridcolor\":\"white\",\"linecolor\":\"white\",\"ticks\":\"\"}},\"scene\":{\"xaxis\":{\"backgroundcolor\":\"#E5ECF6\",\"gridcolor\":\"white\",\"gridwidth\":2,\"linecolor\":\"white\",\"showbackground\":true,\"ticks\":\"\",\"zerolinecolor\":\"white\"},\"yaxis\":{\"backgroundcolor\":\"#E5ECF6\",\"gridcolor\":\"white\",\"gridwidth\":2,\"linecolor\":\"white\",\"showbackground\":true,\"ticks\":\"\",\"zerolinecolor\":\"white\"},\"zaxis\":{\"backgroundcolor\":\"#E5ECF6\",\"gridcolor\":\"white\",\"gridwidth\":2,\"linecolor\":\"white\",\"showbackground\":true,\"ticks\":\"\",\"zerolinecolor\":\"white\"}},\"shapedefaults\":{\"line\":{\"color\":\"#2a3f5f\"}},\"ternary\":{\"aaxis\":{\"gridcolor\":\"white\",\"linecolor\":\"white\",\"ticks\":\"\"},\"baxis\":{\"gridcolor\":\"white\",\"linecolor\":\"white\",\"ticks\":\"\"},\"bgcolor\":\"#E5ECF6\",\"caxis\":{\"gridcolor\":\"white\",\"linecolor\":\"white\",\"ticks\":\"\"}},\"title\":{\"x\":0.05},\"xaxis\":{\"automargin\":true,\"gridcolor\":\"white\",\"linecolor\":\"white\",\"ticks\":\"\",\"title\":{\"standoff\":15},\"zerolinecolor\":\"white\",\"zerolinewidth\":2},\"yaxis\":{\"automargin\":true,\"gridcolor\":\"white\",\"linecolor\":\"white\",\"ticks\":\"\",\"title\":{\"standoff\":15},\"zerolinecolor\":\"white\",\"zerolinewidth\":2}}},\"xaxis\":{\"anchor\":\"y\",\"domain\":[0.0,1.0],\"title\":{\"text\":\"DEP_DELAY\"}},\"yaxis\":{\"anchor\":\"x\",\"domain\":[0.0,1.0],\"title\":{\"text\":\"ARR_DELAY\"}},\"legend\":{\"tracegroupgap\":0},\"margin\":{\"t\":60}},                        {\"responsive\": true}                    ).then(function(){\n",
              "                            \n",
              "var gd = document.getElementById('ea941ad9-8d9c-44f6-b5d7-03082c09800d');\n",
              "var x = new MutationObserver(function (mutations, observer) {{\n",
              "        var display = window.getComputedStyle(gd).display;\n",
              "        if (!display || display === 'none') {{\n",
              "            console.log([gd, 'removed!']);\n",
              "            Plotly.purge(gd);\n",
              "            observer.disconnect();\n",
              "        }}\n",
              "}});\n",
              "\n",
              "// Listen for the removal of the full notebook cells\n",
              "var notebookContainer = gd.closest('#notebook-container');\n",
              "if (notebookContainer) {{\n",
              "    x.observe(notebookContainer, {childList: true});\n",
              "}}\n",
              "\n",
              "// Listen for the clearing of the current output cell\n",
              "var outputEl = gd.closest('.output');\n",
              "if (outputEl) {{\n",
              "    x.observe(outputEl, {childList: true});\n",
              "}}\n",
              "\n",
              "                        })                };                            </script>        </div>\n",
              "</body>\n",
              "</html>"
            ]
          },
          "metadata": {}
        }
      ]
    },
    {
      "cell_type": "code",
      "source": [
        "kdf.groupby(['OP_CARRIER'])['DISTANCE'].mean().plot(kind='bar')"
      ],
      "metadata": {
        "colab": {
          "base_uri": "https://localhost:8080/",
          "height": 542
        },
        "id": "yLt2SoBSSxUm",
        "outputId": "ad7b9373-0df5-47a7-e7f1-eea04c144675"
      },
      "execution_count": null,
      "outputs": [
        {
          "output_type": "display_data",
          "data": {
            "text/html": [
              "<html>\n",
              "<head><meta charset=\"utf-8\" /></head>\n",
              "<body>\n",
              "    <div>            <script src=\"https://cdnjs.cloudflare.com/ajax/libs/mathjax/2.7.5/MathJax.js?config=TeX-AMS-MML_SVG\"></script><script type=\"text/javascript\">if (window.MathJax) {MathJax.Hub.Config({SVG: {font: \"STIX-Web\"}});}</script>                <script type=\"text/javascript\">window.PlotlyConfig = {MathJaxConfig: 'local'};</script>\n",
              "        <script src=\"https://cdn.plot.ly/plotly-2.8.3.min.js\"></script>                <div id=\"d69c7436-8c22-460f-b7a7-b584cd7e2392\" class=\"plotly-graph-div\" style=\"height:525px; width:100%;\"></div>            <script type=\"text/javascript\">                                    window.PLOTLYENV=window.PLOTLYENV || {};                                    if (document.getElementById(\"d69c7436-8c22-460f-b7a7-b584cd7e2392\")) {                    Plotly.newPlot(                        \"d69c7436-8c22-460f-b7a7-b584cd7e2392\",                        [{\"alignmentgroup\":\"True\",\"hovertemplate\":\"variable=DISTANCE<br>OP_CARRIER=%{x}<br>value=%{y}<extra></extra>\",\"legendgroup\":\"DISTANCE\",\"marker\":{\"color\":\"#636efa\",\"pattern\":{\"shape\":\"\"}},\"name\":\"DISTANCE\",\"offsetgroup\":\"DISTANCE\",\"orientation\":\"v\",\"showlegend\":true,\"textposition\":\"auto\",\"x\":[\"UA\",\"NK\",\"AA\",\"EV\",\"B6\",\"DL\",\"OO\",\"F9\",\"HA\",\"AS\",\"VX\",\"WN\",\"YV\",\"MQ\",\"OH\",\"G4\",\"YX\",\"9E\"],\"xaxis\":\"x\",\"y\":[1197.1412215218368,1007.4416076604016,1020.4763235994018,453.5273651340755,1061.1540450845625,870.0211517833803,482.4004364052072,1055.097604970118,644.2811990509667,1266.3550331535027,1463.2182382069998,748.6753127684187,553.0444489081466,433.29719469801086,384.17683156247176,884.0903857467014,595.6667005185897,475.1341069387227],\"yaxis\":\"y\",\"type\":\"bar\"}],                        {\"template\":{\"data\":{\"bar\":[{\"error_x\":{\"color\":\"#2a3f5f\"},\"error_y\":{\"color\":\"#2a3f5f\"},\"marker\":{\"line\":{\"color\":\"#E5ECF6\",\"width\":0.5},\"pattern\":{\"fillmode\":\"overlay\",\"size\":10,\"solidity\":0.2}},\"type\":\"bar\"}],\"barpolar\":[{\"marker\":{\"line\":{\"color\":\"#E5ECF6\",\"width\":0.5},\"pattern\":{\"fillmode\":\"overlay\",\"size\":10,\"solidity\":0.2}},\"type\":\"barpolar\"}],\"carpet\":[{\"aaxis\":{\"endlinecolor\":\"#2a3f5f\",\"gridcolor\":\"white\",\"linecolor\":\"white\",\"minorgridcolor\":\"white\",\"startlinecolor\":\"#2a3f5f\"},\"baxis\":{\"endlinecolor\":\"#2a3f5f\",\"gridcolor\":\"white\",\"linecolor\":\"white\",\"minorgridcolor\":\"white\",\"startlinecolor\":\"#2a3f5f\"},\"type\":\"carpet\"}],\"choropleth\":[{\"colorbar\":{\"outlinewidth\":0,\"ticks\":\"\"},\"type\":\"choropleth\"}],\"contour\":[{\"colorbar\":{\"outlinewidth\":0,\"ticks\":\"\"},\"colorscale\":[[0.0,\"#0d0887\"],[0.1111111111111111,\"#46039f\"],[0.2222222222222222,\"#7201a8\"],[0.3333333333333333,\"#9c179e\"],[0.4444444444444444,\"#bd3786\"],[0.5555555555555556,\"#d8576b\"],[0.6666666666666666,\"#ed7953\"],[0.7777777777777778,\"#fb9f3a\"],[0.8888888888888888,\"#fdca26\"],[1.0,\"#f0f921\"]],\"type\":\"contour\"}],\"contourcarpet\":[{\"colorbar\":{\"outlinewidth\":0,\"ticks\":\"\"},\"type\":\"contourcarpet\"}],\"heatmap\":[{\"colorbar\":{\"outlinewidth\":0,\"ticks\":\"\"},\"colorscale\":[[0.0,\"#0d0887\"],[0.1111111111111111,\"#46039f\"],[0.2222222222222222,\"#7201a8\"],[0.3333333333333333,\"#9c179e\"],[0.4444444444444444,\"#bd3786\"],[0.5555555555555556,\"#d8576b\"],[0.6666666666666666,\"#ed7953\"],[0.7777777777777778,\"#fb9f3a\"],[0.8888888888888888,\"#fdca26\"],[1.0,\"#f0f921\"]],\"type\":\"heatmap\"}],\"heatmapgl\":[{\"colorbar\":{\"outlinewidth\":0,\"ticks\":\"\"},\"colorscale\":[[0.0,\"#0d0887\"],[0.1111111111111111,\"#46039f\"],[0.2222222222222222,\"#7201a8\"],[0.3333333333333333,\"#9c179e\"],[0.4444444444444444,\"#bd3786\"],[0.5555555555555556,\"#d8576b\"],[0.6666666666666666,\"#ed7953\"],[0.7777777777777778,\"#fb9f3a\"],[0.8888888888888888,\"#fdca26\"],[1.0,\"#f0f921\"]],\"type\":\"heatmapgl\"}],\"histogram\":[{\"marker\":{\"pattern\":{\"fillmode\":\"overlay\",\"size\":10,\"solidity\":0.2}},\"type\":\"histogram\"}],\"histogram2d\":[{\"colorbar\":{\"outlinewidth\":0,\"ticks\":\"\"},\"colorscale\":[[0.0,\"#0d0887\"],[0.1111111111111111,\"#46039f\"],[0.2222222222222222,\"#7201a8\"],[0.3333333333333333,\"#9c179e\"],[0.4444444444444444,\"#bd3786\"],[0.5555555555555556,\"#d8576b\"],[0.6666666666666666,\"#ed7953\"],[0.7777777777777778,\"#fb9f3a\"],[0.8888888888888888,\"#fdca26\"],[1.0,\"#f0f921\"]],\"type\":\"histogram2d\"}],\"histogram2dcontour\":[{\"colorbar\":{\"outlinewidth\":0,\"ticks\":\"\"},\"colorscale\":[[0.0,\"#0d0887\"],[0.1111111111111111,\"#46039f\"],[0.2222222222222222,\"#7201a8\"],[0.3333333333333333,\"#9c179e\"],[0.4444444444444444,\"#bd3786\"],[0.5555555555555556,\"#d8576b\"],[0.6666666666666666,\"#ed7953\"],[0.7777777777777778,\"#fb9f3a\"],[0.8888888888888888,\"#fdca26\"],[1.0,\"#f0f921\"]],\"type\":\"histogram2dcontour\"}],\"mesh3d\":[{\"colorbar\":{\"outlinewidth\":0,\"ticks\":\"\"},\"type\":\"mesh3d\"}],\"parcoords\":[{\"line\":{\"colorbar\":{\"outlinewidth\":0,\"ticks\":\"\"}},\"type\":\"parcoords\"}],\"pie\":[{\"automargin\":true,\"type\":\"pie\"}],\"scatter\":[{\"marker\":{\"colorbar\":{\"outlinewidth\":0,\"ticks\":\"\"}},\"type\":\"scatter\"}],\"scatter3d\":[{\"line\":{\"colorbar\":{\"outlinewidth\":0,\"ticks\":\"\"}},\"marker\":{\"colorbar\":{\"outlinewidth\":0,\"ticks\":\"\"}},\"type\":\"scatter3d\"}],\"scattercarpet\":[{\"marker\":{\"colorbar\":{\"outlinewidth\":0,\"ticks\":\"\"}},\"type\":\"scattercarpet\"}],\"scattergeo\":[{\"marker\":{\"colorbar\":{\"outlinewidth\":0,\"ticks\":\"\"}},\"type\":\"scattergeo\"}],\"scattergl\":[{\"marker\":{\"colorbar\":{\"outlinewidth\":0,\"ticks\":\"\"}},\"type\":\"scattergl\"}],\"scattermapbox\":[{\"marker\":{\"colorbar\":{\"outlinewidth\":0,\"ticks\":\"\"}},\"type\":\"scattermapbox\"}],\"scatterpolar\":[{\"marker\":{\"colorbar\":{\"outlinewidth\":0,\"ticks\":\"\"}},\"type\":\"scatterpolar\"}],\"scatterpolargl\":[{\"marker\":{\"colorbar\":{\"outlinewidth\":0,\"ticks\":\"\"}},\"type\":\"scatterpolargl\"}],\"scatterternary\":[{\"marker\":{\"colorbar\":{\"outlinewidth\":0,\"ticks\":\"\"}},\"type\":\"scatterternary\"}],\"surface\":[{\"colorbar\":{\"outlinewidth\":0,\"ticks\":\"\"},\"colorscale\":[[0.0,\"#0d0887\"],[0.1111111111111111,\"#46039f\"],[0.2222222222222222,\"#7201a8\"],[0.3333333333333333,\"#9c179e\"],[0.4444444444444444,\"#bd3786\"],[0.5555555555555556,\"#d8576b\"],[0.6666666666666666,\"#ed7953\"],[0.7777777777777778,\"#fb9f3a\"],[0.8888888888888888,\"#fdca26\"],[1.0,\"#f0f921\"]],\"type\":\"surface\"}],\"table\":[{\"cells\":{\"fill\":{\"color\":\"#EBF0F8\"},\"line\":{\"color\":\"white\"}},\"header\":{\"fill\":{\"color\":\"#C8D4E3\"},\"line\":{\"color\":\"white\"}},\"type\":\"table\"}]},\"layout\":{\"annotationdefaults\":{\"arrowcolor\":\"#2a3f5f\",\"arrowhead\":0,\"arrowwidth\":1},\"autotypenumbers\":\"strict\",\"coloraxis\":{\"colorbar\":{\"outlinewidth\":0,\"ticks\":\"\"}},\"colorscale\":{\"diverging\":[[0,\"#8e0152\"],[0.1,\"#c51b7d\"],[0.2,\"#de77ae\"],[0.3,\"#f1b6da\"],[0.4,\"#fde0ef\"],[0.5,\"#f7f7f7\"],[0.6,\"#e6f5d0\"],[0.7,\"#b8e186\"],[0.8,\"#7fbc41\"],[0.9,\"#4d9221\"],[1,\"#276419\"]],\"sequential\":[[0.0,\"#0d0887\"],[0.1111111111111111,\"#46039f\"],[0.2222222222222222,\"#7201a8\"],[0.3333333333333333,\"#9c179e\"],[0.4444444444444444,\"#bd3786\"],[0.5555555555555556,\"#d8576b\"],[0.6666666666666666,\"#ed7953\"],[0.7777777777777778,\"#fb9f3a\"],[0.8888888888888888,\"#fdca26\"],[1.0,\"#f0f921\"]],\"sequentialminus\":[[0.0,\"#0d0887\"],[0.1111111111111111,\"#46039f\"],[0.2222222222222222,\"#7201a8\"],[0.3333333333333333,\"#9c179e\"],[0.4444444444444444,\"#bd3786\"],[0.5555555555555556,\"#d8576b\"],[0.6666666666666666,\"#ed7953\"],[0.7777777777777778,\"#fb9f3a\"],[0.8888888888888888,\"#fdca26\"],[1.0,\"#f0f921\"]]},\"colorway\":[\"#636efa\",\"#EF553B\",\"#00cc96\",\"#ab63fa\",\"#FFA15A\",\"#19d3f3\",\"#FF6692\",\"#B6E880\",\"#FF97FF\",\"#FECB52\"],\"font\":{\"color\":\"#2a3f5f\"},\"geo\":{\"bgcolor\":\"white\",\"lakecolor\":\"white\",\"landcolor\":\"#E5ECF6\",\"showlakes\":true,\"showland\":true,\"subunitcolor\":\"white\"},\"hoverlabel\":{\"align\":\"left\"},\"hovermode\":\"closest\",\"mapbox\":{\"style\":\"light\"},\"paper_bgcolor\":\"white\",\"plot_bgcolor\":\"#E5ECF6\",\"polar\":{\"angularaxis\":{\"gridcolor\":\"white\",\"linecolor\":\"white\",\"ticks\":\"\"},\"bgcolor\":\"#E5ECF6\",\"radialaxis\":{\"gridcolor\":\"white\",\"linecolor\":\"white\",\"ticks\":\"\"}},\"scene\":{\"xaxis\":{\"backgroundcolor\":\"#E5ECF6\",\"gridcolor\":\"white\",\"gridwidth\":2,\"linecolor\":\"white\",\"showbackground\":true,\"ticks\":\"\",\"zerolinecolor\":\"white\"},\"yaxis\":{\"backgroundcolor\":\"#E5ECF6\",\"gridcolor\":\"white\",\"gridwidth\":2,\"linecolor\":\"white\",\"showbackground\":true,\"ticks\":\"\",\"zerolinecolor\":\"white\"},\"zaxis\":{\"backgroundcolor\":\"#E5ECF6\",\"gridcolor\":\"white\",\"gridwidth\":2,\"linecolor\":\"white\",\"showbackground\":true,\"ticks\":\"\",\"zerolinecolor\":\"white\"}},\"shapedefaults\":{\"line\":{\"color\":\"#2a3f5f\"}},\"ternary\":{\"aaxis\":{\"gridcolor\":\"white\",\"linecolor\":\"white\",\"ticks\":\"\"},\"baxis\":{\"gridcolor\":\"white\",\"linecolor\":\"white\",\"ticks\":\"\"},\"bgcolor\":\"#E5ECF6\",\"caxis\":{\"gridcolor\":\"white\",\"linecolor\":\"white\",\"ticks\":\"\"}},\"title\":{\"x\":0.05},\"xaxis\":{\"automargin\":true,\"gridcolor\":\"white\",\"linecolor\":\"white\",\"ticks\":\"\",\"title\":{\"standoff\":15},\"zerolinecolor\":\"white\",\"zerolinewidth\":2},\"yaxis\":{\"automargin\":true,\"gridcolor\":\"white\",\"linecolor\":\"white\",\"ticks\":\"\",\"title\":{\"standoff\":15},\"zerolinecolor\":\"white\",\"zerolinewidth\":2}}},\"xaxis\":{\"anchor\":\"y\",\"domain\":[0.0,1.0],\"title\":{\"text\":\"OP_CARRIER\"}},\"yaxis\":{\"anchor\":\"x\",\"domain\":[0.0,1.0],\"title\":{\"text\":\"value\"}},\"legend\":{\"title\":{\"text\":\"variable\"},\"tracegroupgap\":0},\"margin\":{\"t\":60},\"barmode\":\"relative\"},                        {\"responsive\": true}                    ).then(function(){\n",
              "                            \n",
              "var gd = document.getElementById('d69c7436-8c22-460f-b7a7-b584cd7e2392');\n",
              "var x = new MutationObserver(function (mutations, observer) {{\n",
              "        var display = window.getComputedStyle(gd).display;\n",
              "        if (!display || display === 'none') {{\n",
              "            console.log([gd, 'removed!']);\n",
              "            Plotly.purge(gd);\n",
              "            observer.disconnect();\n",
              "        }}\n",
              "}});\n",
              "\n",
              "// Listen for the removal of the full notebook cells\n",
              "var notebookContainer = gd.closest('#notebook-container');\n",
              "if (notebookContainer) {{\n",
              "    x.observe(notebookContainer, {childList: true});\n",
              "}}\n",
              "\n",
              "// Listen for the clearing of the current output cell\n",
              "var outputEl = gd.closest('.output');\n",
              "if (outputEl) {{\n",
              "    x.observe(outputEl, {childList: true});\n",
              "}}\n",
              "\n",
              "                        })                };                            </script>        </div>\n",
              "</body>\n",
              "</html>"
            ]
          },
          "metadata": {}
        }
      ]
    }
  ]
}